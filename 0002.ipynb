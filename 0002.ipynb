{
 "cells": [
  {
   "cell_type": "code",
   "execution_count": 1,
   "metadata": {},
   "outputs": [
    {
     "name": "stdout",
     "output_type": "stream",
     "text": [
      "200\n"
     ]
    }
   ],
   "source": [
    "import requests\n",
    "\n",
    "\n",
    "headers = {'User-Agent': 'Mozilla/5.0 (Windows NT 10.0; Win64; x64) AppleWebKit/537.36 (KHTML, like Gecko) Chrome/74.0.3729.158 Safari/537.36 Viv/2.5.1525.43'}\n",
    "r = requests.get('https://www.taobao.com', headers=headers, timeout=1)\n",
    "print(r.status_code)"
   ]
  },
  {
   "cell_type": "markdown",
   "metadata": {},
   "source": [
    "### requests 身份认证 \n",
    "身份验证成功后，返回的 HTTP 状态码是 200；身份认证不成功时，返回的 HTTP 状态码是 401"
   ]
  },
  {
   "cell_type": "code",
   "execution_count": 2,
   "metadata": {},
   "outputs": [
    {
     "name": "stdout",
     "output_type": "stream",
     "text": [
      "401\n"
     ]
    }
   ],
   "source": [
    "import requests\n",
    "from requests.auth import HTTPBasicAuth\n",
    "\n",
    "\n",
    "r = requests.get('http://192.168.1.1', headers=headers, auth=HTTPBasicAuth('admin', 'admin'))\n",
    "print(r.status_code)"
   ]
  },
  {
   "cell_type": "code",
   "execution_count": 3,
   "metadata": {},
   "outputs": [
    {
     "name": "stdout",
     "output_type": "stream",
     "text": [
      "200\n"
     ]
    }
   ],
   "source": [
    "r = requests.get('http://192.168.1.1', headers=headers, auth=HTTPBasicAuth('admin', 'tpadmin'))\n",
    "print(r.status_code)"
   ]
  },
  {
   "cell_type": "code",
   "execution_count": 5,
   "metadata": {},
   "outputs": [
    {
     "name": "stdout",
     "output_type": "stream",
     "text": [
      "200\n",
      "<SCRIPT language=\"javascript\" type=\"text/javascript\">\n",
      "var framePara = new Array(\n",
      "0,\n",
      "0,0 );\n",
      "</SCRIPT>\n",
      "<META http-equiv=\"Content-Type\" content=\"text/html; charset=gb2312\">\n",
      "<META http-equiv=\"Pragma\" content=\"no-cache\">\n",
      "<META http-equiv=\"Expires\" content=\"wed, 26 Feb 1997 08:21:57 GMT\">\n",
      "<LINK href=\"/dynaform/css_main.css\" rel=stylesheet>\n",
      "<SCRIPT language=\"javascript\" src=\"/dynaform/common.js\" type=\"text/javascript\"></SCRIPT>\n",
      "<SCRIPT language=\"javascript\" type=\"text/javascript\"><!--\n",
      "//--></script>\n",
      "\r\n",
      "<HTML><HEAD><TITLE>TL-WR847N</TITLE>\r\n",
      "<META http-equiv=Content-Type content=\"text/html; charset=gb2312\">\r\n",
      "<META http-equiv=pragma content=no-cache>\r\n",
      "<META http-equiv=expires content=\"wed, 26 Feb 1997 08:21:57 GMT\">\r\n",
      "<META content=\"MSHTML 6.00.2900.2912\" name=GENERATOR>\r\n",
      "<script language=\"JavaScript\">\r\n",
      "if(window != window.parent)\r\n",
      "{\r\n",
      "    window.parent.location.href = \"/userRpm/Index.htm\";\r\n",
      "}\r\n",
      "</script>\r\n",
      "</HEAD>\r\n",
      "<script language=\"JavaScript\"><!--\r\n",
      "document.write('<FRAMESET border=\"0\" rows=\"94,*\" cols=\"*\" frameBorder=\"NO\" frameSpacing=\"0\" >');\r\n",
      "document.write('<FRAMESET border=\"0\" rows=\"94\" cols=\"185,*\" frameBorder=\"NO\" frameSpacing=\"0\" >'); \r\n",
      "document.write('<FRAME name=\"topLeftFrame\" src=\"../frames/logo.htm\" scrolling=\"no\" noResize></FRAME>');\r\n",
      "document.write('<FRAME name=\"topRightFrame\"  src=\"../frames/banner.htm\" scrolling=\"no\" noResize></FRAME>');\r\n",
      "document.write('</FRAMESET>');\r\n",
      "document.write('<FRAMESET border=\"0\" rows=\"*\" cols=\"145,40,*\" frameSpacing=\"0\">');\r\n",
      "document.write('<FRAME name=\"bottomLeftFrame\"  src=\"../userRpm/MenuRpm.htm\" noResize scrolling=\"auto\"></FRAME>');<!--ÉèÖÃ²Ëµ¥Ê÷¿ÉÒÔ¹ö¶¯£¬ÒòÎªÓÐÐ©»úÐÍ¹¦ÄÜ±È½Ï¶à£¬Èç¹û²»¿É¹ö¶¯µÄ»°µ¼ÖÂÄ³Ð©²Ëµ¥ÌõÄ¿ÏÔÊ¾²»È«-->\r\n",
      "document.write('<FRAME name=\"arcFrame\" src=\"../frames/arc.htm\"  noResize frameborder=\"NO\"></FRAME>');\r\n",
      "var url = \"../userRpm/StatusRpm.htm\";\r\n",
      "if (framePara[0] == 1)\r\n",
      "{\r\n",
      "\turl = \"../userRpm/WzdStartRpm.htm\";\r\n",
      "}\r\n",
      "else if (framePara[0] == 255)\r\n",
      "{\r\n",
      "\turl = \"../userRpm/WlanSecurityRpm.htm\";\r\n",
      "}\r\n",
      "document.write('<FRAME name=\"mainFrame\" src=\"' + url + '\" frameborder=\"NO\"></FRAME>');\r\n",
      "document.write('</FRAMESET>');\r\n",
      "document.write('</FRAMESET>');\r\n",
      "--></script>\r\n",
      "<noframes><body>¶Ô²»Æð£¬ÄúµÄä¯ÀÀÆ÷²»Ö§³Ö¿ò¼Ü£¡</body></noframes>\r\n",
      "</html>\r\n",
      "\r\n",
      "\n"
     ]
    }
   ],
   "source": [
    "r = requests.get('http://192.168.1.1', headers=headers, auth=HTTPBasicAuth('admin', 'tpadmin'))\n",
    "print(r.status_code)\n",
    "print(r.text)"
   ]
  },
  {
   "cell_type": "code",
   "execution_count": 6,
   "metadata": {},
   "outputs": [
    {
     "name": "stdout",
     "output_type": "stream",
     "text": [
      "200\n"
     ]
    }
   ],
   "source": [
    "r = requests.get('http://192.168.1.1', headers=headers, auth=('admin', 'tpadmin'))\n",
    "print(r.status_code)"
   ]
  },
  {
   "cell_type": "code",
   "execution_count": 7,
   "metadata": {},
   "outputs": [
    {
     "name": "stdout",
     "output_type": "stream",
     "text": [
      "{\n",
      "  \"args\": {}, \n",
      "  \"data\": \"\", \n",
      "  \"files\": {}, \n",
      "  \"form\": {\n",
      "    \"name\": \"germey\"\n",
      "  }, \n",
      "  \"headers\": {\n",
      "    \"Accept\": \"*/*\", \n",
      "    \"Accept-Encoding\": \"gzip, deflate\", \n",
      "    \"Content-Length\": \"11\", \n",
      "    \"Content-Type\": \"application/x-www-form-urlencoded\", \n",
      "    \"Host\": \"httpbin.org\", \n",
      "    \"User-Agent\": \"Mozilla/5.0 (Windows NT 10.0; Win64; x64) AppleWebKit/537.36 (KHTML, like Gecko) Chrome/74.0.3729.158 Safari/537.36 Viv/2.5.1525.43\"\n",
      "  }, \n",
      "  \"json\": null, \n",
      "  \"origin\": \"119.123.75.192, 119.123.75.192\", \n",
      "  \"url\": \"https://httpbin.org/post\"\n",
      "}\n",
      "\n"
     ]
    }
   ],
   "source": [
    "from requests import Request, Session\n",
    "\n",
    "\n",
    "url = 'http://httpbin.org/post'\n",
    "data = {\n",
    "    'name': 'germey'\n",
    "}\n",
    "s = Session()\n",
    "req = Request('POST', url, data=data, headers=headers)\n",
    "prepared = s.prepare_request(req)\n",
    "r = s.send(prepared)\n",
    "print(r.text)\n"
   ]
  },
  {
   "cell_type": "code",
   "execution_count": 1,
   "metadata": {},
   "outputs": [
    {
     "name": "stdout",
     "output_type": "stream",
     "text": [
      "\\a\n"
     ]
    }
   ],
   "source": [
    "print('\\\\a')"
   ]
  },
  {
   "cell_type": "code",
   "execution_count": 2,
   "metadata": {},
   "outputs": [
    {
     "name": "stdout",
     "output_type": "stream",
     "text": [
      "\\\n"
     ]
    }
   ],
   "source": [
    "print('\\\\')"
   ]
  },
  {
   "cell_type": "code",
   "execution_count": 3,
   "metadata": {},
   "outputs": [
    {
     "name": "stdout",
     "output_type": "stream",
     "text": [
      "\\\\\n"
     ]
    }
   ],
   "source": [
    "print('\\\\\\\\')"
   ]
  },
  {
   "cell_type": "code",
   "execution_count": 1,
   "metadata": {},
   "outputs": [
    {
     "name": "stdout",
     "output_type": "stream",
     "text": [
      "def\n"
     ]
    }
   ],
   "source": [
    "import re\n",
    "\n",
    "\n",
    "m = re.search('(?<=abc)def', 'abcdef')\n",
    "print(m.group(0))"
   ]
  },
  {
   "cell_type": "code",
   "execution_count": 2,
   "metadata": {},
   "outputs": [
    {
     "name": "stdout",
     "output_type": "stream",
     "text": [
      "egg\n"
     ]
    }
   ],
   "source": [
    "m = re.search(r'(?<=-)\\w+', 'spam-egg')\n",
    "print(m.group(0))"
   ]
  },
  {
   "cell_type": "code",
   "execution_count": 3,
   "metadata": {},
   "outputs": [],
   "source": [
    "import re\n",
    "\n",
    "\n",
    "re.match('c', 'abcdef')"
   ]
  },
  {
   "cell_type": "code",
   "execution_count": 4,
   "metadata": {},
   "outputs": [
    {
     "data": {
      "text/plain": [
       "<re.Match object; span=(2, 3), match='c'>"
      ]
     },
     "execution_count": 4,
     "metadata": {},
     "output_type": "execute_result"
    }
   ],
   "source": [
    "re.search('c', 'abcdef')"
   ]
  },
  {
   "cell_type": "code",
   "execution_count": 5,
   "metadata": {},
   "outputs": [
    {
     "data": {
      "text/plain": [
       "<re.Match object; span=(0, 1), match='a'>"
      ]
     },
     "execution_count": 5,
     "metadata": {},
     "output_type": "execute_result"
    }
   ],
   "source": [
    "re.match('a', 'abcdef')"
   ]
  },
  {
   "cell_type": "markdown",
   "metadata": {},
   "source": [
    "**匹配中文**    \n",
    "[\\u4e00-\\u9fd5]虽然不是所有中文的Unicode代码点范围，但它几乎已经包含了所有常用的汉字的Unicode代码点。在Unicode标准版本10.0.0中包含汉字代码点的块共有9个，具体可以查询Unicode官网。Python 3.6.4支持的Unicode标准版本为9.0.0，[\\u4e00-\\u9fd5]是Unicode标准版本8.0的CJK Unified Ideographs块的代码点范围。"
   ]
  },
  {
   "cell_type": "markdown",
   "metadata": {},
   "source": [
    "**匹配一个或多个中文**"
   ]
  },
  {
   "cell_type": "code",
   "execution_count": 6,
   "metadata": {},
   "outputs": [],
   "source": [
    "import re\n",
    "\n",
    "\n",
    "s = 'Python is a programming language.'\n",
    "re.search(u'[\\u4e00-\\u9fd5]+', s)"
   ]
  },
  {
   "cell_type": "code",
   "execution_count": 7,
   "metadata": {},
   "outputs": [
    {
     "data": {
      "text/plain": [
       "<re.Match object; span=(7, 14), match='是一门编程语言'>"
      ]
     },
     "execution_count": 7,
     "metadata": {},
     "output_type": "execute_result"
    }
   ],
   "source": [
    "s = 'Python 是一门编程语言。'\n",
    "re.search(u'[\\u4e00-\\u9fd5]+', s)"
   ]
  },
  {
   "cell_type": "code",
   "execution_count": 1,
   "metadata": {},
   "outputs": [
    {
     "data": {
      "text/plain": [
       "['', '...', '', '', 'w', '', 'o', '', 'r', '', 'd', '', 's', '...', '', '', '']"
      ]
     },
     "execution_count": 1,
     "metadata": {},
     "output_type": "execute_result"
    }
   ],
   "source": [
    "import re\n",
    "\n",
    "\n",
    "re.split(r'(\\W*)', '...words...')"
   ]
  },
  {
   "cell_type": "code",
   "execution_count": 2,
   "metadata": {},
   "outputs": [
    {
     "name": "stdout",
     "output_type": "stream",
     "text": [
      "sys.version_info(major=3, minor=7, micro=1, releaselevel='final', serial=0)\n"
     ]
    }
   ],
   "source": [
    "import sys\n",
    "print(sys.version_info)"
   ]
  },
  {
   "cell_type": "code",
   "execution_count": 4,
   "metadata": {},
   "outputs": [
    {
     "data": {
      "text/plain": [
       "['', 'two', 'words']"
      ]
     },
     "execution_count": 4,
     "metadata": {},
     "output_type": "execute_result"
    }
   ],
   "source": [
    "import re\n",
    "\n",
    "\n",
    "re.findall(r'^|\\w+', 'two words')"
   ]
  },
  {
   "cell_type": "code",
   "execution_count": 5,
   "metadata": {},
   "outputs": [
    {
     "data": {
      "text/plain": [
       "['two', 'words']"
      ]
     },
     "execution_count": 5,
     "metadata": {},
     "output_type": "execute_result"
    }
   ],
   "source": [
    "re.findall(r'\\w+', 'two words')"
   ]
  },
  {
   "cell_type": "code",
   "execution_count": 6,
   "metadata": {},
   "outputs": [
    {
     "data": {
      "text/plain": [
       "['a', 'b', 'b']"
      ]
     },
     "execution_count": 6,
     "metadata": {},
     "output_type": "execute_result"
    }
   ],
   "source": [
    "re.findall(r'^a|b', 'abcba')"
   ]
  },
  {
   "cell_type": "markdown",
   "metadata": {},
   "source": [
    "##### 匹配 sitemap 文件中的所有链接"
   ]
  },
  {
   "cell_type": "code",
   "execution_count": 7,
   "metadata": {},
   "outputs": [
    {
     "name": "stdout",
     "output_type": "stream",
     "text": [
      "['http://example.webscraping.com/places/default/view/Afghanistan-1', 'http://example.webscraping.com/places/default/view/Aland-Islands-2', 'http://example.webscraping.com/places/default/view/Albania-3', 'http://example.webscraping.com/places/default/view/Algeria-4', 'http://example.webscraping.com/places/default/view/American-Samoa-5', 'http://example.webscraping.com/places/default/view/Andorra-6', 'http://example.webscraping.com/places/default/view/Angola-7', 'http://example.webscraping.com/places/default/view/Anguilla-8', 'http://example.webscraping.com/places/default/view/Antarctica-9', 'http://example.webscraping.com/places/default/view/Antigua-and-Barbuda-10', 'http://example.webscraping.com/places/default/view/Argentina-11', 'http://example.webscraping.com/places/default/view/Armenia-12', 'http://example.webscraping.com/places/default/view/Aruba-13', 'http://example.webscraping.com/places/default/view/Australia-14', 'http://example.webscraping.com/places/default/view/Austria-15', 'http://example.webscraping.com/places/default/view/Azerbaijan-16', 'http://example.webscraping.com/places/default/view/Bahamas-17', 'http://example.webscraping.com/places/default/view/Bahrain-18', 'http://example.webscraping.com/places/default/view/Bangladesh-19', 'http://example.webscraping.com/places/default/view/Barbados-20', 'http://example.webscraping.com/places/default/view/Belarus-21', 'http://example.webscraping.com/places/default/view/Belgium-22', 'http://example.webscraping.com/places/default/view/Belize-23', 'http://example.webscraping.com/places/default/view/Benin-24', 'http://example.webscraping.com/places/default/view/Bermuda-25', 'http://example.webscraping.com/places/default/view/Bhutan-26', 'http://example.webscraping.com/places/default/view/Bolivia-27', 'http://example.webscraping.com/places/default/view/Bonaire-Saint-Eustatius-and-Saba-28', 'http://example.webscraping.com/places/default/view/Bosnia-and-Herzegovina-29', 'http://example.webscraping.com/places/default/view/Botswana-30', 'http://example.webscraping.com/places/default/view/Bouvet-Island-31', 'http://example.webscraping.com/places/default/view/Brazil-32', 'http://example.webscraping.com/places/default/view/British-Indian-Ocean-Territory-33', 'http://example.webscraping.com/places/default/view/British-Virgin-Islands-34', 'http://example.webscraping.com/places/default/view/Brunei-35', 'http://example.webscraping.com/places/default/view/Bulgaria-36', 'http://example.webscraping.com/places/default/view/Burkina-Faso-37', 'http://example.webscraping.com/places/default/view/Burundi-38', 'http://example.webscraping.com/places/default/view/Cambodia-39', 'http://example.webscraping.com/places/default/view/Cameroon-40', 'http://example.webscraping.com/places/default/view/Canada-41', 'http://example.webscraping.com/places/default/view/Cape-Verde-42', 'http://example.webscraping.com/places/default/view/Cayman-Islands-43', 'http://example.webscraping.com/places/default/view/Central-African-Republic-44', 'http://example.webscraping.com/places/default/view/Chad-45', 'http://example.webscraping.com/places/default/view/Chile-46', 'http://example.webscraping.com/places/default/view/China-47', 'http://example.webscraping.com/places/default/view/Christmas-Island-48', 'http://example.webscraping.com/places/default/view/Cocos-Islands-49', 'http://example.webscraping.com/places/default/view/Colombia-50', 'http://example.webscraping.com/places/default/view/Comoros-51', 'http://example.webscraping.com/places/default/view/Cook-Islands-52', 'http://example.webscraping.com/places/default/view/Costa-Rica-53', 'http://example.webscraping.com/places/default/view/Croatia-54', 'http://example.webscraping.com/places/default/view/Cuba-55', 'http://example.webscraping.com/places/default/view/Curacao-56', 'http://example.webscraping.com/places/default/view/Cyprus-57', 'http://example.webscraping.com/places/default/view/Czech-Republic-58', 'http://example.webscraping.com/places/default/view/Democratic-Republic-of-the-Congo-59', 'http://example.webscraping.com/places/default/view/Denmark-60', 'http://example.webscraping.com/places/default/view/Djibouti-61', 'http://example.webscraping.com/places/default/view/Dominica-62', 'http://example.webscraping.com/places/default/view/Dominican-Republic-63', 'http://example.webscraping.com/places/default/view/East-Timor-64', 'http://example.webscraping.com/places/default/view/Ecuador-65', 'http://example.webscraping.com/places/default/view/Egypt-66', 'http://example.webscraping.com/places/default/view/El-Salvador-67', 'http://example.webscraping.com/places/default/view/Equatorial-Guinea-68', 'http://example.webscraping.com/places/default/view/Eritrea-69', 'http://example.webscraping.com/places/default/view/Estonia-70', 'http://example.webscraping.com/places/default/view/Ethiopia-71', 'http://example.webscraping.com/places/default/view/Falkland-Islands-72', 'http://example.webscraping.com/places/default/view/Faroe-Islands-73', 'http://example.webscraping.com/places/default/view/Fiji-74', 'http://example.webscraping.com/places/default/view/Finland-75', 'http://example.webscraping.com/places/default/view/France-76', 'http://example.webscraping.com/places/default/view/French-Guiana-77', 'http://example.webscraping.com/places/default/view/French-Polynesia-78', 'http://example.webscraping.com/places/default/view/French-Southern-Territories-79', 'http://example.webscraping.com/places/default/view/Gabon-80', 'http://example.webscraping.com/places/default/view/Gambia-81', 'http://example.webscraping.com/places/default/view/Georgia-82', 'http://example.webscraping.com/places/default/view/Germany-83', 'http://example.webscraping.com/places/default/view/Ghana-84', 'http://example.webscraping.com/places/default/view/Gibraltar-85', 'http://example.webscraping.com/places/default/view/Greece-86', 'http://example.webscraping.com/places/default/view/Greenland-87', 'http://example.webscraping.com/places/default/view/Grenada-88', 'http://example.webscraping.com/places/default/view/Guadeloupe-89', 'http://example.webscraping.com/places/default/view/Guam-90', 'http://example.webscraping.com/places/default/view/Guatemala-91', 'http://example.webscraping.com/places/default/view/Guernsey-92', 'http://example.webscraping.com/places/default/view/Guinea-93', 'http://example.webscraping.com/places/default/view/Guinea-Bissau-94', 'http://example.webscraping.com/places/default/view/Guyana-95', 'http://example.webscraping.com/places/default/view/Haiti-96', 'http://example.webscraping.com/places/default/view/Heard-Island-and-McDonald-Islands-97', 'http://example.webscraping.com/places/default/view/Honduras-98', 'http://example.webscraping.com/places/default/view/Hong-Kong-99', 'http://example.webscraping.com/places/default/view/Hungary-100', 'http://example.webscraping.com/places/default/view/Iceland-101', 'http://example.webscraping.com/places/default/view/India-102', 'http://example.webscraping.com/places/default/view/Indonesia-103', 'http://example.webscraping.com/places/default/view/Iran-104', 'http://example.webscraping.com/places/default/view/Iraq-105', 'http://example.webscraping.com/places/default/view/Ireland-106', 'http://example.webscraping.com/places/default/view/Isle-of-Man-107', 'http://example.webscraping.com/places/default/view/Israel-108', 'http://example.webscraping.com/places/default/view/Italy-109', 'http://example.webscraping.com/places/default/view/Ivory-Coast-110', 'http://example.webscraping.com/places/default/view/Jamaica-111', 'http://example.webscraping.com/places/default/view/Japan-112', 'http://example.webscraping.com/places/default/view/Jersey-113', 'http://example.webscraping.com/places/default/view/Jordan-114', 'http://example.webscraping.com/places/default/view/Kazakhstan-115', 'http://example.webscraping.com/places/default/view/Kenya-116', 'http://example.webscraping.com/places/default/view/Kiribati-117', 'http://example.webscraping.com/places/default/view/Kosovo-118', 'http://example.webscraping.com/places/default/view/Kuwait-119', 'http://example.webscraping.com/places/default/view/Kyrgyzstan-120', 'http://example.webscraping.com/places/default/view/Laos-121', 'http://example.webscraping.com/places/default/view/Latvia-122', 'http://example.webscraping.com/places/default/view/Lebanon-123', 'http://example.webscraping.com/places/default/view/Lesotho-124', 'http://example.webscraping.com/places/default/view/Liberia-125', 'http://example.webscraping.com/places/default/view/Libya-126', 'http://example.webscraping.com/places/default/view/Liechtenstein-127', 'http://example.webscraping.com/places/default/view/Lithuania-128', 'http://example.webscraping.com/places/default/view/Luxembourg-129', 'http://example.webscraping.com/places/default/view/Macao-130', 'http://example.webscraping.com/places/default/view/Macedonia-131', 'http://example.webscraping.com/places/default/view/Madagascar-132', 'http://example.webscraping.com/places/default/view/Malawi-133', 'http://example.webscraping.com/places/default/view/Malaysia-134', 'http://example.webscraping.com/places/default/view/Maldives-135', 'http://example.webscraping.com/places/default/view/Mali-136', 'http://example.webscraping.com/places/default/view/Malta-137', 'http://example.webscraping.com/places/default/view/Marshall-Islands-138', 'http://example.webscraping.com/places/default/view/Martinique-139', 'http://example.webscraping.com/places/default/view/Mauritania-140', 'http://example.webscraping.com/places/default/view/Mauritius-141', 'http://example.webscraping.com/places/default/view/Mayotte-142', 'http://example.webscraping.com/places/default/view/Mexico-143', 'http://example.webscraping.com/places/default/view/Micronesia-144', 'http://example.webscraping.com/places/default/view/Moldova-145', 'http://example.webscraping.com/places/default/view/Monaco-146', 'http://example.webscraping.com/places/default/view/Mongolia-147', 'http://example.webscraping.com/places/default/view/Montenegro-148', 'http://example.webscraping.com/places/default/view/Montserrat-149', 'http://example.webscraping.com/places/default/view/Morocco-150', 'http://example.webscraping.com/places/default/view/Mozambique-151', 'http://example.webscraping.com/places/default/view/Myanmar-152', 'http://example.webscraping.com/places/default/view/Namibia-153', 'http://example.webscraping.com/places/default/view/Nauru-154', 'http://example.webscraping.com/places/default/view/Nepal-155', 'http://example.webscraping.com/places/default/view/Netherlands-156', 'http://example.webscraping.com/places/default/view/Netherlands-Antilles-157', 'http://example.webscraping.com/places/default/view/New-Caledonia-158', 'http://example.webscraping.com/places/default/view/New-Zealand-159', 'http://example.webscraping.com/places/default/view/Nicaragua-160', 'http://example.webscraping.com/places/default/view/Niger-161', 'http://example.webscraping.com/places/default/view/Nigeria-162', 'http://example.webscraping.com/places/default/view/Niue-163', 'http://example.webscraping.com/places/default/view/Norfolk-Island-164', 'http://example.webscraping.com/places/default/view/North-Korea-165', 'http://example.webscraping.com/places/default/view/Northern-Mariana-Islands-166', 'http://example.webscraping.com/places/default/view/Norway-167', 'http://example.webscraping.com/places/default/view/Oman-168', 'http://example.webscraping.com/places/default/view/Pakistan-169', 'http://example.webscraping.com/places/default/view/Palau-170', 'http://example.webscraping.com/places/default/view/Palestinian-Territory-171', 'http://example.webscraping.com/places/default/view/Panama-172', 'http://example.webscraping.com/places/default/view/Papua-New-Guinea-173', 'http://example.webscraping.com/places/default/view/Paraguay-174', 'http://example.webscraping.com/places/default/view/Peru-175', 'http://example.webscraping.com/places/default/view/Philippines-176', 'http://example.webscraping.com/places/default/view/Pitcairn-177', 'http://example.webscraping.com/places/default/view/Poland-178', 'http://example.webscraping.com/places/default/view/Portugal-179', 'http://example.webscraping.com/places/default/view/Puerto-Rico-180', 'http://example.webscraping.com/places/default/view/Qatar-181', 'http://example.webscraping.com/places/default/view/Republic-of-the-Congo-182', 'http://example.webscraping.com/places/default/view/Reunion-183', 'http://example.webscraping.com/places/default/view/Romania-184', 'http://example.webscraping.com/places/default/view/Russia-185', 'http://example.webscraping.com/places/default/view/Rwanda-186', 'http://example.webscraping.com/places/default/view/Saint-Barthelemy-187', 'http://example.webscraping.com/places/default/view/Saint-Helena-188', 'http://example.webscraping.com/places/default/view/Saint-Kitts-and-Nevis-189', 'http://example.webscraping.com/places/default/view/Saint-Lucia-190', 'http://example.webscraping.com/places/default/view/Saint-Martin-191', 'http://example.webscraping.com/places/default/view/Saint-Pierre-and-Miquelon-192', 'http://example.webscraping.com/places/default/view/Saint-Vincent-and-the-Grenadines-193', 'http://example.webscraping.com/places/default/view/Samoa-194', 'http://example.webscraping.com/places/default/view/San-Marino-195', 'http://example.webscraping.com/places/default/view/Sao-Tome-and-Principe-196', 'http://example.webscraping.com/places/default/view/Saudi-Arabia-197', 'http://example.webscraping.com/places/default/view/Senegal-198', 'http://example.webscraping.com/places/default/view/Serbia-199', 'http://example.webscraping.com/places/default/view/Serbia-and-Montenegro-200', 'http://example.webscraping.com/places/default/view/Seychelles-201', 'http://example.webscraping.com/places/default/view/Sierra-Leone-202', 'http://example.webscraping.com/places/default/view/Singapore-203', 'http://example.webscraping.com/places/default/view/Sint-Maarten-204', 'http://example.webscraping.com/places/default/view/Slovakia-205', 'http://example.webscraping.com/places/default/view/Slovenia-206', 'http://example.webscraping.com/places/default/view/Solomon-Islands-207', 'http://example.webscraping.com/places/default/view/Somalia-208', 'http://example.webscraping.com/places/default/view/South-Africa-209', 'http://example.webscraping.com/places/default/view/South-Georgia-and-the-South-Sandwich-Islands-210', 'http://example.webscraping.com/places/default/view/South-Korea-211', 'http://example.webscraping.com/places/default/view/South-Sudan-212', 'http://example.webscraping.com/places/default/view/Spain-213', 'http://example.webscraping.com/places/default/view/Sri-Lanka-214', 'http://example.webscraping.com/places/default/view/Sudan-215', 'http://example.webscraping.com/places/default/view/Suriname-216', 'http://example.webscraping.com/places/default/view/Svalbard-and-Jan-Mayen-217', 'http://example.webscraping.com/places/default/view/Swaziland-218', 'http://example.webscraping.com/places/default/view/Sweden-219', 'http://example.webscraping.com/places/default/view/Switzerland-220', 'http://example.webscraping.com/places/default/view/Syria-221', 'http://example.webscraping.com/places/default/view/Taiwan-222', 'http://example.webscraping.com/places/default/view/Tajikistan-223', 'http://example.webscraping.com/places/default/view/Tanzania-224', 'http://example.webscraping.com/places/default/view/Thailand-225', 'http://example.webscraping.com/places/default/view/Togo-226', 'http://example.webscraping.com/places/default/view/Tokelau-227', 'http://example.webscraping.com/places/default/view/Tonga-228', 'http://example.webscraping.com/places/default/view/Trinidad-and-Tobago-229', 'http://example.webscraping.com/places/default/view/Tunisia-230', 'http://example.webscraping.com/places/default/view/Turkey-231', 'http://example.webscraping.com/places/default/view/Turkmenistan-232', 'http://example.webscraping.com/places/default/view/Turks-and-Caicos-Islands-233', 'http://example.webscraping.com/places/default/view/Tuvalu-234', 'http://example.webscraping.com/places/default/view/US-Virgin-Islands-235', 'http://example.webscraping.com/places/default/view/Uganda-236', 'http://example.webscraping.com/places/default/view/Ukraine-237', 'http://example.webscraping.com/places/default/view/United-Arab-Emirates-238', 'http://example.webscraping.com/places/default/view/United-Kingdom-239', 'http://example.webscraping.com/places/default/view/United-States-240', 'http://example.webscraping.com/places/default/view/United-States-Minor-Outlying-Islands-241', 'http://example.webscraping.com/places/default/view/Uruguay-242', 'http://example.webscraping.com/places/default/view/Uzbekistan-243', 'http://example.webscraping.com/places/default/view/Vanuatu-244', 'http://example.webscraping.com/places/default/view/Vatican-245', 'http://example.webscraping.com/places/default/view/Venezuela-246', 'http://example.webscraping.com/places/default/view/Vietnam-247', 'http://example.webscraping.com/places/default/view/Wallis-and-Futuna-248', 'http://example.webscraping.com/places/default/view/Western-Sahara-249', 'http://example.webscraping.com/places/default/view/Yemen-250', 'http://example.webscraping.com/places/default/view/Zambia-251', 'http://example.webscraping.com/places/default/view/Zimbabwe-252']\n"
     ]
    }
   ],
   "source": [
    "import re\n",
    "import urllib.request\n",
    "\n",
    "\n",
    "sitemap_url = 'http://example.webscraping.com/sitemap.xml'\n",
    "sitemap_page = urllib.request.urlopen(sitemap_url).read().decode()\n",
    "links = re.findall('<loc>(.*?)</loc>', sitemap_page)\n",
    "print(links)"
   ]
  },
  {
   "cell_type": "code",
   "execution_count": 8,
   "metadata": {},
   "outputs": [
    {
     "name": "stdout",
     "output_type": "stream",
     "text": [
      "http://example.webscraping.com/places/default/view/Afghanistan-1\n",
      "http://example.webscraping.com/places/default/view/Aland-Islands-2\n",
      "http://example.webscraping.com/places/default/view/Albania-3\n",
      "http://example.webscraping.com/places/default/view/Algeria-4\n",
      "http://example.webscraping.com/places/default/view/American-Samoa-5\n",
      "http://example.webscraping.com/places/default/view/Andorra-6\n",
      "http://example.webscraping.com/places/default/view/Angola-7\n",
      "http://example.webscraping.com/places/default/view/Anguilla-8\n",
      "http://example.webscraping.com/places/default/view/Antarctica-9\n",
      "http://example.webscraping.com/places/default/view/Antigua-and-Barbuda-10\n",
      "http://example.webscraping.com/places/default/view/Argentina-11\n",
      "http://example.webscraping.com/places/default/view/Armenia-12\n",
      "http://example.webscraping.com/places/default/view/Aruba-13\n",
      "http://example.webscraping.com/places/default/view/Australia-14\n",
      "http://example.webscraping.com/places/default/view/Austria-15\n",
      "http://example.webscraping.com/places/default/view/Azerbaijan-16\n",
      "http://example.webscraping.com/places/default/view/Bahamas-17\n",
      "http://example.webscraping.com/places/default/view/Bahrain-18\n",
      "http://example.webscraping.com/places/default/view/Bangladesh-19\n",
      "http://example.webscraping.com/places/default/view/Barbados-20\n",
      "http://example.webscraping.com/places/default/view/Belarus-21\n",
      "http://example.webscraping.com/places/default/view/Belgium-22\n",
      "http://example.webscraping.com/places/default/view/Belize-23\n",
      "http://example.webscraping.com/places/default/view/Benin-24\n",
      "http://example.webscraping.com/places/default/view/Bermuda-25\n",
      "http://example.webscraping.com/places/default/view/Bhutan-26\n",
      "http://example.webscraping.com/places/default/view/Bolivia-27\n",
      "http://example.webscraping.com/places/default/view/Bonaire-Saint-Eustatius-and-Saba-28\n",
      "http://example.webscraping.com/places/default/view/Bosnia-and-Herzegovina-29\n",
      "http://example.webscraping.com/places/default/view/Botswana-30\n",
      "http://example.webscraping.com/places/default/view/Bouvet-Island-31\n",
      "http://example.webscraping.com/places/default/view/Brazil-32\n",
      "http://example.webscraping.com/places/default/view/British-Indian-Ocean-Territory-33\n",
      "http://example.webscraping.com/places/default/view/British-Virgin-Islands-34\n",
      "http://example.webscraping.com/places/default/view/Brunei-35\n",
      "http://example.webscraping.com/places/default/view/Bulgaria-36\n",
      "http://example.webscraping.com/places/default/view/Burkina-Faso-37\n",
      "http://example.webscraping.com/places/default/view/Burundi-38\n",
      "http://example.webscraping.com/places/default/view/Cambodia-39\n",
      "http://example.webscraping.com/places/default/view/Cameroon-40\n",
      "http://example.webscraping.com/places/default/view/Canada-41\n",
      "http://example.webscraping.com/places/default/view/Cape-Verde-42\n",
      "http://example.webscraping.com/places/default/view/Cayman-Islands-43\n",
      "http://example.webscraping.com/places/default/view/Central-African-Republic-44\n",
      "http://example.webscraping.com/places/default/view/Chad-45\n",
      "http://example.webscraping.com/places/default/view/Chile-46\n",
      "http://example.webscraping.com/places/default/view/China-47\n",
      "http://example.webscraping.com/places/default/view/Christmas-Island-48\n",
      "http://example.webscraping.com/places/default/view/Cocos-Islands-49\n",
      "http://example.webscraping.com/places/default/view/Colombia-50\n",
      "http://example.webscraping.com/places/default/view/Comoros-51\n",
      "http://example.webscraping.com/places/default/view/Cook-Islands-52\n",
      "http://example.webscraping.com/places/default/view/Costa-Rica-53\n",
      "http://example.webscraping.com/places/default/view/Croatia-54\n",
      "http://example.webscraping.com/places/default/view/Cuba-55\n",
      "http://example.webscraping.com/places/default/view/Curacao-56\n",
      "http://example.webscraping.com/places/default/view/Cyprus-57\n",
      "http://example.webscraping.com/places/default/view/Czech-Republic-58\n",
      "http://example.webscraping.com/places/default/view/Democratic-Republic-of-the-Congo-59\n",
      "http://example.webscraping.com/places/default/view/Denmark-60\n",
      "http://example.webscraping.com/places/default/view/Djibouti-61\n",
      "http://example.webscraping.com/places/default/view/Dominica-62\n",
      "http://example.webscraping.com/places/default/view/Dominican-Republic-63\n",
      "http://example.webscraping.com/places/default/view/East-Timor-64\n",
      "http://example.webscraping.com/places/default/view/Ecuador-65\n",
      "http://example.webscraping.com/places/default/view/Egypt-66\n",
      "http://example.webscraping.com/places/default/view/El-Salvador-67\n",
      "http://example.webscraping.com/places/default/view/Equatorial-Guinea-68\n",
      "http://example.webscraping.com/places/default/view/Eritrea-69\n",
      "http://example.webscraping.com/places/default/view/Estonia-70\n",
      "http://example.webscraping.com/places/default/view/Ethiopia-71\n",
      "http://example.webscraping.com/places/default/view/Falkland-Islands-72\n",
      "http://example.webscraping.com/places/default/view/Faroe-Islands-73\n",
      "http://example.webscraping.com/places/default/view/Fiji-74\n",
      "http://example.webscraping.com/places/default/view/Finland-75\n",
      "http://example.webscraping.com/places/default/view/France-76\n",
      "http://example.webscraping.com/places/default/view/French-Guiana-77\n",
      "http://example.webscraping.com/places/default/view/French-Polynesia-78\n",
      "http://example.webscraping.com/places/default/view/French-Southern-Territories-79\n",
      "http://example.webscraping.com/places/default/view/Gabon-80\n",
      "http://example.webscraping.com/places/default/view/Gambia-81\n",
      "http://example.webscraping.com/places/default/view/Georgia-82\n",
      "http://example.webscraping.com/places/default/view/Germany-83\n",
      "http://example.webscraping.com/places/default/view/Ghana-84\n",
      "http://example.webscraping.com/places/default/view/Gibraltar-85\n",
      "http://example.webscraping.com/places/default/view/Greece-86\n",
      "http://example.webscraping.com/places/default/view/Greenland-87\n",
      "http://example.webscraping.com/places/default/view/Grenada-88\n",
      "http://example.webscraping.com/places/default/view/Guadeloupe-89\n",
      "http://example.webscraping.com/places/default/view/Guam-90\n",
      "http://example.webscraping.com/places/default/view/Guatemala-91\n",
      "http://example.webscraping.com/places/default/view/Guernsey-92\n",
      "http://example.webscraping.com/places/default/view/Guinea-93\n",
      "http://example.webscraping.com/places/default/view/Guinea-Bissau-94\n",
      "http://example.webscraping.com/places/default/view/Guyana-95\n",
      "http://example.webscraping.com/places/default/view/Haiti-96\n",
      "http://example.webscraping.com/places/default/view/Heard-Island-and-McDonald-Islands-97\n",
      "http://example.webscraping.com/places/default/view/Honduras-98\n",
      "http://example.webscraping.com/places/default/view/Hong-Kong-99\n",
      "http://example.webscraping.com/places/default/view/Hungary-100\n",
      "http://example.webscraping.com/places/default/view/Iceland-101\n",
      "http://example.webscraping.com/places/default/view/India-102\n",
      "http://example.webscraping.com/places/default/view/Indonesia-103\n",
      "http://example.webscraping.com/places/default/view/Iran-104\n",
      "http://example.webscraping.com/places/default/view/Iraq-105\n",
      "http://example.webscraping.com/places/default/view/Ireland-106\n",
      "http://example.webscraping.com/places/default/view/Isle-of-Man-107\n",
      "http://example.webscraping.com/places/default/view/Israel-108\n",
      "http://example.webscraping.com/places/default/view/Italy-109\n",
      "http://example.webscraping.com/places/default/view/Ivory-Coast-110\n",
      "http://example.webscraping.com/places/default/view/Jamaica-111\n",
      "http://example.webscraping.com/places/default/view/Japan-112\n",
      "http://example.webscraping.com/places/default/view/Jersey-113\n",
      "http://example.webscraping.com/places/default/view/Jordan-114\n",
      "http://example.webscraping.com/places/default/view/Kazakhstan-115\n",
      "http://example.webscraping.com/places/default/view/Kenya-116\n",
      "http://example.webscraping.com/places/default/view/Kiribati-117\n",
      "http://example.webscraping.com/places/default/view/Kosovo-118\n",
      "http://example.webscraping.com/places/default/view/Kuwait-119\n",
      "http://example.webscraping.com/places/default/view/Kyrgyzstan-120\n",
      "http://example.webscraping.com/places/default/view/Laos-121\n",
      "http://example.webscraping.com/places/default/view/Latvia-122\n",
      "http://example.webscraping.com/places/default/view/Lebanon-123\n",
      "http://example.webscraping.com/places/default/view/Lesotho-124\n",
      "http://example.webscraping.com/places/default/view/Liberia-125\n",
      "http://example.webscraping.com/places/default/view/Libya-126\n",
      "http://example.webscraping.com/places/default/view/Liechtenstein-127\n",
      "http://example.webscraping.com/places/default/view/Lithuania-128\n",
      "http://example.webscraping.com/places/default/view/Luxembourg-129\n",
      "http://example.webscraping.com/places/default/view/Macao-130\n",
      "http://example.webscraping.com/places/default/view/Macedonia-131\n",
      "http://example.webscraping.com/places/default/view/Madagascar-132\n",
      "http://example.webscraping.com/places/default/view/Malawi-133\n",
      "http://example.webscraping.com/places/default/view/Malaysia-134\n",
      "http://example.webscraping.com/places/default/view/Maldives-135\n",
      "http://example.webscraping.com/places/default/view/Mali-136\n",
      "http://example.webscraping.com/places/default/view/Malta-137\n",
      "http://example.webscraping.com/places/default/view/Marshall-Islands-138\n",
      "http://example.webscraping.com/places/default/view/Martinique-139\n",
      "http://example.webscraping.com/places/default/view/Mauritania-140\n",
      "http://example.webscraping.com/places/default/view/Mauritius-141\n",
      "http://example.webscraping.com/places/default/view/Mayotte-142\n",
      "http://example.webscraping.com/places/default/view/Mexico-143\n",
      "http://example.webscraping.com/places/default/view/Micronesia-144\n",
      "http://example.webscraping.com/places/default/view/Moldova-145\n",
      "http://example.webscraping.com/places/default/view/Monaco-146\n",
      "http://example.webscraping.com/places/default/view/Mongolia-147\n",
      "http://example.webscraping.com/places/default/view/Montenegro-148\n",
      "http://example.webscraping.com/places/default/view/Montserrat-149\n",
      "http://example.webscraping.com/places/default/view/Morocco-150\n",
      "http://example.webscraping.com/places/default/view/Mozambique-151\n",
      "http://example.webscraping.com/places/default/view/Myanmar-152\n",
      "http://example.webscraping.com/places/default/view/Namibia-153\n",
      "http://example.webscraping.com/places/default/view/Nauru-154\n",
      "http://example.webscraping.com/places/default/view/Nepal-155\n",
      "http://example.webscraping.com/places/default/view/Netherlands-156\n",
      "http://example.webscraping.com/places/default/view/Netherlands-Antilles-157\n",
      "http://example.webscraping.com/places/default/view/New-Caledonia-158\n",
      "http://example.webscraping.com/places/default/view/New-Zealand-159\n",
      "http://example.webscraping.com/places/default/view/Nicaragua-160\n",
      "http://example.webscraping.com/places/default/view/Niger-161\n",
      "http://example.webscraping.com/places/default/view/Nigeria-162\n",
      "http://example.webscraping.com/places/default/view/Niue-163\n",
      "http://example.webscraping.com/places/default/view/Norfolk-Island-164\n",
      "http://example.webscraping.com/places/default/view/North-Korea-165\n",
      "http://example.webscraping.com/places/default/view/Northern-Mariana-Islands-166\n",
      "http://example.webscraping.com/places/default/view/Norway-167\n",
      "http://example.webscraping.com/places/default/view/Oman-168\n",
      "http://example.webscraping.com/places/default/view/Pakistan-169\n",
      "http://example.webscraping.com/places/default/view/Palau-170\n",
      "http://example.webscraping.com/places/default/view/Palestinian-Territory-171\n",
      "http://example.webscraping.com/places/default/view/Panama-172\n",
      "http://example.webscraping.com/places/default/view/Papua-New-Guinea-173\n",
      "http://example.webscraping.com/places/default/view/Paraguay-174\n",
      "http://example.webscraping.com/places/default/view/Peru-175\n",
      "http://example.webscraping.com/places/default/view/Philippines-176\n",
      "http://example.webscraping.com/places/default/view/Pitcairn-177\n",
      "http://example.webscraping.com/places/default/view/Poland-178\n",
      "http://example.webscraping.com/places/default/view/Portugal-179\n",
      "http://example.webscraping.com/places/default/view/Puerto-Rico-180\n",
      "http://example.webscraping.com/places/default/view/Qatar-181\n",
      "http://example.webscraping.com/places/default/view/Republic-of-the-Congo-182\n",
      "http://example.webscraping.com/places/default/view/Reunion-183\n",
      "http://example.webscraping.com/places/default/view/Romania-184\n",
      "http://example.webscraping.com/places/default/view/Russia-185\n",
      "http://example.webscraping.com/places/default/view/Rwanda-186\n",
      "http://example.webscraping.com/places/default/view/Saint-Barthelemy-187\n",
      "http://example.webscraping.com/places/default/view/Saint-Helena-188\n",
      "http://example.webscraping.com/places/default/view/Saint-Kitts-and-Nevis-189\n",
      "http://example.webscraping.com/places/default/view/Saint-Lucia-190\n",
      "http://example.webscraping.com/places/default/view/Saint-Martin-191\n",
      "http://example.webscraping.com/places/default/view/Saint-Pierre-and-Miquelon-192\n",
      "http://example.webscraping.com/places/default/view/Saint-Vincent-and-the-Grenadines-193\n",
      "http://example.webscraping.com/places/default/view/Samoa-194\n",
      "http://example.webscraping.com/places/default/view/San-Marino-195\n",
      "http://example.webscraping.com/places/default/view/Sao-Tome-and-Principe-196\n",
      "http://example.webscraping.com/places/default/view/Saudi-Arabia-197\n",
      "http://example.webscraping.com/places/default/view/Senegal-198\n",
      "http://example.webscraping.com/places/default/view/Serbia-199\n",
      "http://example.webscraping.com/places/default/view/Serbia-and-Montenegro-200\n",
      "http://example.webscraping.com/places/default/view/Seychelles-201\n",
      "http://example.webscraping.com/places/default/view/Sierra-Leone-202\n",
      "http://example.webscraping.com/places/default/view/Singapore-203\n",
      "http://example.webscraping.com/places/default/view/Sint-Maarten-204\n",
      "http://example.webscraping.com/places/default/view/Slovakia-205\n",
      "http://example.webscraping.com/places/default/view/Slovenia-206\n",
      "http://example.webscraping.com/places/default/view/Solomon-Islands-207\n",
      "http://example.webscraping.com/places/default/view/Somalia-208\n",
      "http://example.webscraping.com/places/default/view/South-Africa-209\n",
      "http://example.webscraping.com/places/default/view/South-Georgia-and-the-South-Sandwich-Islands-210\n",
      "http://example.webscraping.com/places/default/view/South-Korea-211\n",
      "http://example.webscraping.com/places/default/view/South-Sudan-212\n",
      "http://example.webscraping.com/places/default/view/Spain-213\n",
      "http://example.webscraping.com/places/default/view/Sri-Lanka-214\n",
      "http://example.webscraping.com/places/default/view/Sudan-215\n",
      "http://example.webscraping.com/places/default/view/Suriname-216\n",
      "http://example.webscraping.com/places/default/view/Svalbard-and-Jan-Mayen-217\n",
      "http://example.webscraping.com/places/default/view/Swaziland-218\n",
      "http://example.webscraping.com/places/default/view/Sweden-219\n",
      "http://example.webscraping.com/places/default/view/Switzerland-220\n",
      "http://example.webscraping.com/places/default/view/Syria-221\n",
      "http://example.webscraping.com/places/default/view/Taiwan-222\n",
      "http://example.webscraping.com/places/default/view/Tajikistan-223\n",
      "http://example.webscraping.com/places/default/view/Tanzania-224\n",
      "http://example.webscraping.com/places/default/view/Thailand-225\n",
      "http://example.webscraping.com/places/default/view/Togo-226\n",
      "http://example.webscraping.com/places/default/view/Tokelau-227\n",
      "http://example.webscraping.com/places/default/view/Tonga-228\n",
      "http://example.webscraping.com/places/default/view/Trinidad-and-Tobago-229\n",
      "http://example.webscraping.com/places/default/view/Tunisia-230\n",
      "http://example.webscraping.com/places/default/view/Turkey-231\n",
      "http://example.webscraping.com/places/default/view/Turkmenistan-232\n",
      "http://example.webscraping.com/places/default/view/Turks-and-Caicos-Islands-233\n",
      "http://example.webscraping.com/places/default/view/Tuvalu-234\n",
      "http://example.webscraping.com/places/default/view/US-Virgin-Islands-235\n",
      "http://example.webscraping.com/places/default/view/Uganda-236\n",
      "http://example.webscraping.com/places/default/view/Ukraine-237\n",
      "http://example.webscraping.com/places/default/view/United-Arab-Emirates-238\n",
      "http://example.webscraping.com/places/default/view/United-Kingdom-239\n",
      "http://example.webscraping.com/places/default/view/United-States-240\n",
      "http://example.webscraping.com/places/default/view/United-States-Minor-Outlying-Islands-241\n",
      "http://example.webscraping.com/places/default/view/Uruguay-242\n",
      "http://example.webscraping.com/places/default/view/Uzbekistan-243\n",
      "http://example.webscraping.com/places/default/view/Vanuatu-244\n",
      "http://example.webscraping.com/places/default/view/Vatican-245\n",
      "http://example.webscraping.com/places/default/view/Venezuela-246\n",
      "http://example.webscraping.com/places/default/view/Vietnam-247\n",
      "http://example.webscraping.com/places/default/view/Wallis-and-Futuna-248\n",
      "http://example.webscraping.com/places/default/view/Western-Sahara-249\n",
      "http://example.webscraping.com/places/default/view/Yemen-250\n",
      "http://example.webscraping.com/places/default/view/Zambia-251\n",
      "http://example.webscraping.com/places/default/view/Zimbabwe-252\n"
     ]
    }
   ],
   "source": [
    "for link in links:\n",
    "    print(link)"
   ]
  },
  {
   "cell_type": "code",
   "execution_count": 9,
   "metadata": {},
   "outputs": [
    {
     "data": {
      "text/plain": [
       "<re.Match object; span=(0, 3), match='717'>"
      ]
     },
     "execution_count": 9,
     "metadata": {},
     "output_type": "execute_result"
    }
   ],
   "source": [
    "import re\n",
    "\n",
    "\n",
    "pair = re.compile(r\".*(.).*\\1\")\n",
    "pair.match(\"717ak\")"
   ]
  },
  {
   "cell_type": "code",
   "execution_count": 10,
   "metadata": {},
   "outputs": [
    {
     "data": {
      "text/plain": [
       "'7'"
      ]
     },
     "execution_count": 10,
     "metadata": {},
     "output_type": "execute_result"
    }
   ],
   "source": [
    "pair.match(\"717ak\").group(1)"
   ]
  },
  {
   "cell_type": "code",
   "execution_count": 11,
   "metadata": {},
   "outputs": [
    {
     "data": {
      "text/plain": [
       "'a'"
      ]
     },
     "execution_count": 11,
     "metadata": {},
     "output_type": "execute_result"
    }
   ],
   "source": [
    "pair.match(\"354aa\").group(1)"
   ]
  },
  {
   "cell_type": "code",
   "execution_count": 1,
   "metadata": {},
   "outputs": [
    {
     "data": {
      "text/plain": [
       "<re.Match object; span=(0, 5), match='我是中国人'>"
      ]
     },
     "execution_count": 1,
     "metadata": {},
     "output_type": "execute_result"
    }
   ],
   "source": [
    "import re\n",
    "\n",
    "\n",
    "re.search(r'\\w+', '我是中国人')"
   ]
  },
  {
   "cell_type": "code",
   "execution_count": 1,
   "metadata": {},
   "outputs": [
    {
     "data": {
      "text/plain": [
       "['BOM',\n",
       " 'BOM32_BE',\n",
       " 'BOM32_LE',\n",
       " 'BOM64_BE',\n",
       " 'BOM64_LE',\n",
       " 'BOM_BE',\n",
       " 'BOM_LE',\n",
       " 'BOM_UTF16',\n",
       " 'BOM_UTF16_BE',\n",
       " 'BOM_UTF16_LE',\n",
       " 'BOM_UTF32',\n",
       " 'BOM_UTF32_BE',\n",
       " 'BOM_UTF32_LE',\n",
       " 'BOM_UTF8',\n",
       " 'BufferedIncrementalDecoder',\n",
       " 'BufferedIncrementalEncoder',\n",
       " 'Codec',\n",
       " 'CodecInfo',\n",
       " 'EncodedFile',\n",
       " 'IncrementalDecoder',\n",
       " 'IncrementalEncoder',\n",
       " 'StreamReader',\n",
       " 'StreamReaderWriter',\n",
       " 'StreamRecoder',\n",
       " 'StreamWriter',\n",
       " '__all__',\n",
       " '__builtins__',\n",
       " '__cached__',\n",
       " '__doc__',\n",
       " '__file__',\n",
       " '__loader__',\n",
       " '__name__',\n",
       " '__package__',\n",
       " '__spec__',\n",
       " '_false',\n",
       " 'ascii_decode',\n",
       " 'ascii_encode',\n",
       " 'backslashreplace_errors',\n",
       " 'builtins',\n",
       " 'charmap_build',\n",
       " 'charmap_decode',\n",
       " 'charmap_encode',\n",
       " 'code_page_decode',\n",
       " 'code_page_encode',\n",
       " 'decode',\n",
       " 'encode',\n",
       " 'escape_decode',\n",
       " 'escape_encode',\n",
       " 'getdecoder',\n",
       " 'getencoder',\n",
       " 'getincrementaldecoder',\n",
       " 'getincrementalencoder',\n",
       " 'getreader',\n",
       " 'getwriter',\n",
       " 'ignore_errors',\n",
       " 'iterdecode',\n",
       " 'iterencode',\n",
       " 'latin_1_decode',\n",
       " 'latin_1_encode',\n",
       " 'lookup',\n",
       " 'lookup_error',\n",
       " 'make_encoding_map',\n",
       " 'make_identity_dict',\n",
       " 'mbcs_decode',\n",
       " 'mbcs_encode',\n",
       " 'namereplace_errors',\n",
       " 'oem_decode',\n",
       " 'oem_encode',\n",
       " 'open',\n",
       " 'raw_unicode_escape_decode',\n",
       " 'raw_unicode_escape_encode',\n",
       " 'readbuffer_encode',\n",
       " 'register',\n",
       " 'register_error',\n",
       " 'replace_errors',\n",
       " 'strict_errors',\n",
       " 'sys',\n",
       " 'unicode_escape_decode',\n",
       " 'unicode_escape_encode',\n",
       " 'unicode_internal_decode',\n",
       " 'unicode_internal_encode',\n",
       " 'utf_16_be_decode',\n",
       " 'utf_16_be_encode',\n",
       " 'utf_16_decode',\n",
       " 'utf_16_encode',\n",
       " 'utf_16_ex_decode',\n",
       " 'utf_16_le_decode',\n",
       " 'utf_16_le_encode',\n",
       " 'utf_32_be_decode',\n",
       " 'utf_32_be_encode',\n",
       " 'utf_32_decode',\n",
       " 'utf_32_encode',\n",
       " 'utf_32_ex_decode',\n",
       " 'utf_32_le_decode',\n",
       " 'utf_32_le_encode',\n",
       " 'utf_7_decode',\n",
       " 'utf_7_encode',\n",
       " 'utf_8_decode',\n",
       " 'utf_8_encode',\n",
       " 'xmlcharrefreplace_errors']"
      ]
     },
     "execution_count": 1,
     "metadata": {},
     "output_type": "execute_result"
    }
   ],
   "source": [
    "import codecs\n",
    "\n",
    "\n",
    "dir(codecs)"
   ]
  },
  {
   "cell_type": "code",
   "execution_count": 2,
   "metadata": {},
   "outputs": [
    {
     "data": {
      "text/plain": [
       "['__class__',\n",
       " '__delattr__',\n",
       " '__dict__',\n",
       " '__dir__',\n",
       " '__doc__',\n",
       " '__eq__',\n",
       " '__format__',\n",
       " '__ge__',\n",
       " '__getattribute__',\n",
       " '__gt__',\n",
       " '__hash__',\n",
       " '__init__',\n",
       " '__init_subclass__',\n",
       " '__le__',\n",
       " '__lt__',\n",
       " '__module__',\n",
       " '__ne__',\n",
       " '__new__',\n",
       " '__reduce__',\n",
       " '__reduce_ex__',\n",
       " '__repr__',\n",
       " '__setattr__',\n",
       " '__sizeof__',\n",
       " '__str__',\n",
       " '__subclasshook__',\n",
       " '__weakref__',\n",
       " 'decode',\n",
       " 'encode']"
      ]
     },
     "execution_count": 2,
     "metadata": {},
     "output_type": "execute_result"
    }
   ],
   "source": [
    "dir(codecs.Codec)"
   ]
  },
  {
   "cell_type": "code",
   "execution_count": 3,
   "metadata": {},
   "outputs": [
    {
     "data": {
      "text/plain": [
       "True"
      ]
     },
     "execution_count": 3,
     "metadata": {},
     "output_type": "execute_result"
    }
   ],
   "source": [
    "import codecs\n",
    "\n",
    "\n",
    "issubclass(codecs.StreamWriter, codecs.Codec)"
   ]
  },
  {
   "cell_type": "code",
   "execution_count": 4,
   "metadata": {},
   "outputs": [
    {
     "data": {
      "text/plain": [
       "True"
      ]
     },
     "execution_count": 4,
     "metadata": {},
     "output_type": "execute_result"
    }
   ],
   "source": [
    "issubclass(codecs.StreamReader, codecs.Codec)"
   ]
  },
  {
   "cell_type": "code",
   "execution_count": 6,
   "metadata": {},
   "outputs": [
    {
     "data": {
      "text/plain": [
       "{<function nt.stat(path, *, dir_fd=None, follow_symlinks=True)>,\n",
       " <function nt.truncate(path, length)>}"
      ]
     },
     "execution_count": 6,
     "metadata": {},
     "output_type": "execute_result"
    }
   ],
   "source": [
    "import os\n",
    "os.supports_fd"
   ]
  },
  {
   "cell_type": "code",
   "execution_count": 7,
   "metadata": {},
   "outputs": [
    {
     "data": {
      "text/plain": [
       "set()"
      ]
     },
     "execution_count": 7,
     "metadata": {},
     "output_type": "execute_result"
    }
   ],
   "source": [
    "os.supports_dir_fd"
   ]
  },
  {
   "cell_type": "code",
   "execution_count": 8,
   "metadata": {},
   "outputs": [
    {
     "data": {
      "text/plain": [
       "{<function nt.stat(path, *, dir_fd=None, follow_symlinks=True)>}"
      ]
     },
     "execution_count": 8,
     "metadata": {},
     "output_type": "execute_result"
    }
   ],
   "source": [
    "os.supports_follow_symlinks"
   ]
  },
  {
   "cell_type": "code",
   "execution_count": 1,
   "metadata": {},
   "outputs": [
    {
     "data": {
      "text/plain": [
       "'€'"
      ]
     },
     "execution_count": 1,
     "metadata": {},
     "output_type": "execute_result"
    }
   ],
   "source": [
    "'\\u20ac'"
   ]
  },
  {
   "cell_type": "code",
   "execution_count": 2,
   "metadata": {},
   "outputs": [
    {
     "name": "stdout",
     "output_type": "stream",
     "text": [
      "€\n"
     ]
    }
   ],
   "source": [
    "print('\\u20ac')"
   ]
  },
  {
   "cell_type": "code",
   "execution_count": 1,
   "metadata": {},
   "outputs": [
    {
     "data": {
      "text/plain": [
       "['__class__',\n",
       " '__contains__',\n",
       " '__delattr__',\n",
       " '__delitem__',\n",
       " '__dir__',\n",
       " '__doc__',\n",
       " '__eq__',\n",
       " '__format__',\n",
       " '__ge__',\n",
       " '__getattribute__',\n",
       " '__getitem__',\n",
       " '__gt__',\n",
       " '__hash__',\n",
       " '__init__',\n",
       " '__init_subclass__',\n",
       " '__iter__',\n",
       " '__le__',\n",
       " '__len__',\n",
       " '__lt__',\n",
       " '__ne__',\n",
       " '__new__',\n",
       " '__reduce__',\n",
       " '__reduce_ex__',\n",
       " '__repr__',\n",
       " '__setattr__',\n",
       " '__setitem__',\n",
       " '__sizeof__',\n",
       " '__str__',\n",
       " '__subclasshook__',\n",
       " 'clear',\n",
       " 'copy',\n",
       " 'fromkeys',\n",
       " 'get',\n",
       " 'items',\n",
       " 'keys',\n",
       " 'pop',\n",
       " 'popitem',\n",
       " 'setdefault',\n",
       " 'update',\n",
       " 'values']"
      ]
     },
     "execution_count": 1,
     "metadata": {},
     "output_type": "execute_result"
    }
   ],
   "source": [
    "import sys\n",
    "\n",
    "\n",
    "dir(sys.modules)"
   ]
  },
  {
   "cell_type": "code",
   "execution_count": 2,
   "metadata": {},
   "outputs": [
    {
     "data": {
      "text/plain": [
       "['__breakpointhook__',\n",
       " '__displayhook__',\n",
       " '__doc__',\n",
       " '__excepthook__',\n",
       " '__interactivehook__',\n",
       " '__loader__',\n",
       " '__name__',\n",
       " '__package__',\n",
       " '__spec__',\n",
       " '__stderr__',\n",
       " '__stdin__',\n",
       " '__stdout__',\n",
       " '_clear_type_cache',\n",
       " '_current_frames',\n",
       " '_debugmallocstats',\n",
       " '_enablelegacywindowsfsencoding',\n",
       " '_framework',\n",
       " '_getframe',\n",
       " '_git',\n",
       " '_home',\n",
       " '_xoptions',\n",
       " 'api_version',\n",
       " 'argv',\n",
       " 'base_exec_prefix',\n",
       " 'base_prefix',\n",
       " 'breakpointhook',\n",
       " 'builtin_module_names',\n",
       " 'byteorder',\n",
       " 'call_tracing',\n",
       " 'callstats',\n",
       " 'copyright',\n",
       " 'displayhook',\n",
       " 'dllhandle',\n",
       " 'dont_write_bytecode',\n",
       " 'exc_info',\n",
       " 'excepthook',\n",
       " 'exec_prefix',\n",
       " 'executable',\n",
       " 'exit',\n",
       " 'flags',\n",
       " 'float_info',\n",
       " 'float_repr_style',\n",
       " 'get_asyncgen_hooks',\n",
       " 'get_coroutine_origin_tracking_depth',\n",
       " 'get_coroutine_wrapper',\n",
       " 'getallocatedblocks',\n",
       " 'getcheckinterval',\n",
       " 'getdefaultencoding',\n",
       " 'getfilesystemencodeerrors',\n",
       " 'getfilesystemencoding',\n",
       " 'getprofile',\n",
       " 'getrecursionlimit',\n",
       " 'getrefcount',\n",
       " 'getsizeof',\n",
       " 'getswitchinterval',\n",
       " 'gettrace',\n",
       " 'getwindowsversion',\n",
       " 'hash_info',\n",
       " 'hexversion',\n",
       " 'implementation',\n",
       " 'int_info',\n",
       " 'intern',\n",
       " 'is_finalizing',\n",
       " 'maxsize',\n",
       " 'maxunicode',\n",
       " 'meta_path',\n",
       " 'modules',\n",
       " 'path',\n",
       " 'path_hooks',\n",
       " 'path_importer_cache',\n",
       " 'platform',\n",
       " 'prefix',\n",
       " 'ps1',\n",
       " 'ps2',\n",
       " 'ps3',\n",
       " 'set_asyncgen_hooks',\n",
       " 'set_coroutine_origin_tracking_depth',\n",
       " 'set_coroutine_wrapper',\n",
       " 'setcheckinterval',\n",
       " 'setprofile',\n",
       " 'setrecursionlimit',\n",
       " 'setswitchinterval',\n",
       " 'settrace',\n",
       " 'stderr',\n",
       " 'stdin',\n",
       " 'stdout',\n",
       " 'thread_info',\n",
       " 'version',\n",
       " 'version_info',\n",
       " 'warnoptions',\n",
       " 'winver']"
      ]
     },
     "execution_count": 2,
     "metadata": {},
     "output_type": "execute_result"
    }
   ],
   "source": [
    "dir(sys)"
   ]
  },
  {
   "cell_type": "code",
   "execution_count": 3,
   "metadata": {},
   "outputs": [
    {
     "ename": "TypeError",
     "evalue": "'dict' object is not callable",
     "output_type": "error",
     "traceback": [
      "\u001b[1;31m---------------------------------------------------------------------------\u001b[0m",
      "\u001b[1;31mTypeError\u001b[0m                                 Traceback (most recent call last)",
      "\u001b[1;32m<ipython-input-3-e05d031156fb>\u001b[0m in \u001b[0;36m<module>\u001b[1;34m\u001b[0m\n\u001b[1;32m----> 1\u001b[1;33m \u001b[0mprint\u001b[0m\u001b[1;33m(\u001b[0m\u001b[0msys\u001b[0m\u001b[1;33m.\u001b[0m\u001b[0mmodules\u001b[0m\u001b[1;33m(\u001b[0m\u001b[1;33m)\u001b[0m\u001b[1;33m)\u001b[0m\u001b[1;33m\u001b[0m\u001b[1;33m\u001b[0m\u001b[0m\n\u001b[0m",
      "\u001b[1;31mTypeError\u001b[0m: 'dict' object is not callable"
     ]
    }
   ],
   "source": [
    "print(sys.modules())"
   ]
  },
  {
   "cell_type": "code",
   "execution_count": 4,
   "metadata": {},
   "outputs": [
    {
     "name": "stdout",
     "output_type": "stream",
     "text": [
      "Help on dict object:\n",
      "\n",
      "class dict(object)\n",
      " |  dict() -> new empty dictionary\n",
      " |  dict(mapping) -> new dictionary initialized from a mapping object's\n",
      " |      (key, value) pairs\n",
      " |  dict(iterable) -> new dictionary initialized as if via:\n",
      " |      d = {}\n",
      " |      for k, v in iterable:\n",
      " |          d[k] = v\n",
      " |  dict(**kwargs) -> new dictionary initialized with the name=value pairs\n",
      " |      in the keyword argument list.  For example:  dict(one=1, two=2)\n",
      " |  \n",
      " |  Methods defined here:\n",
      " |  \n",
      " |  __contains__(self, key, /)\n",
      " |      True if the dictionary has the specified key, else False.\n",
      " |  \n",
      " |  __delitem__(self, key, /)\n",
      " |      Delete self[key].\n",
      " |  \n",
      " |  __eq__(self, value, /)\n",
      " |      Return self==value.\n",
      " |  \n",
      " |  __ge__(self, value, /)\n",
      " |      Return self>=value.\n",
      " |  \n",
      " |  __getattribute__(self, name, /)\n",
      " |      Return getattr(self, name).\n",
      " |  \n",
      " |  __getitem__(...)\n",
      " |      x.__getitem__(y) <==> x[y]\n",
      " |  \n",
      " |  __gt__(self, value, /)\n",
      " |      Return self>value.\n",
      " |  \n",
      " |  __init__(self, /, *args, **kwargs)\n",
      " |      Initialize self.  See help(type(self)) for accurate signature.\n",
      " |  \n",
      " |  __iter__(self, /)\n",
      " |      Implement iter(self).\n",
      " |  \n",
      " |  __le__(self, value, /)\n",
      " |      Return self<=value.\n",
      " |  \n",
      " |  __len__(self, /)\n",
      " |      Return len(self).\n",
      " |  \n",
      " |  __lt__(self, value, /)\n",
      " |      Return self<value.\n",
      " |  \n",
      " |  __ne__(self, value, /)\n",
      " |      Return self!=value.\n",
      " |  \n",
      " |  __repr__(self, /)\n",
      " |      Return repr(self).\n",
      " |  \n",
      " |  __setitem__(self, key, value, /)\n",
      " |      Set self[key] to value.\n",
      " |  \n",
      " |  __sizeof__(...)\n",
      " |      D.__sizeof__() -> size of D in memory, in bytes\n",
      " |  \n",
      " |  clear(...)\n",
      " |      D.clear() -> None.  Remove all items from D.\n",
      " |  \n",
      " |  copy(...)\n",
      " |      D.copy() -> a shallow copy of D\n",
      " |  \n",
      " |  get(self, key, default=None, /)\n",
      " |      Return the value for key if key is in the dictionary, else default.\n",
      " |  \n",
      " |  items(...)\n",
      " |      D.items() -> a set-like object providing a view on D's items\n",
      " |  \n",
      " |  keys(...)\n",
      " |      D.keys() -> a set-like object providing a view on D's keys\n",
      " |  \n",
      " |  pop(...)\n",
      " |      D.pop(k[,d]) -> v, remove specified key and return the corresponding value.\n",
      " |      If key is not found, d is returned if given, otherwise KeyError is raised\n",
      " |  \n",
      " |  popitem(...)\n",
      " |      D.popitem() -> (k, v), remove and return some (key, value) pair as a\n",
      " |      2-tuple; but raise KeyError if D is empty.\n",
      " |  \n",
      " |  setdefault(self, key, default=None, /)\n",
      " |      Insert key with a value of default if key is not in the dictionary.\n",
      " |      \n",
      " |      Return the value for key if key is in the dictionary, else default.\n",
      " |  \n",
      " |  update(...)\n",
      " |      D.update([E, ]**F) -> None.  Update D from dict/iterable E and F.\n",
      " |      If E is present and has a .keys() method, then does:  for k in E: D[k] = E[k]\n",
      " |      If E is present and lacks a .keys() method, then does:  for k, v in E: D[k] = v\n",
      " |      In either case, this is followed by: for k in F:  D[k] = F[k]\n",
      " |  \n",
      " |  values(...)\n",
      " |      D.values() -> an object providing a view on D's values\n",
      " |  \n",
      " |  ----------------------------------------------------------------------\n",
      " |  Class methods defined here:\n",
      " |  \n",
      " |  fromkeys(iterable, value=None, /) from builtins.type\n",
      " |      Create a new dictionary with keys from iterable and values set to value.\n",
      " |  \n",
      " |  ----------------------------------------------------------------------\n",
      " |  Static methods defined here:\n",
      " |  \n",
      " |  __new__(*args, **kwargs) from builtins.type\n",
      " |      Create and return a new object.  See help(type) for accurate signature.\n",
      " |  \n",
      " |  ----------------------------------------------------------------------\n",
      " |  Data and other attributes defined here:\n",
      " |  \n",
      " |  __hash__ = None\n",
      "\n"
     ]
    }
   ],
   "source": [
    "help(sys.modules)"
   ]
  },
  {
   "cell_type": "code",
   "execution_count": 5,
   "metadata": {},
   "outputs": [
    {
     "data": {
      "text/plain": [
       "dict"
      ]
     },
     "execution_count": 5,
     "metadata": {},
     "output_type": "execute_result"
    }
   ],
   "source": [
    "type(sys.modules)"
   ]
  },
  {
   "cell_type": "code",
   "execution_count": 6,
   "metadata": {},
   "outputs": [
    {
     "ename": "TypeError",
     "evalue": "'dict' object is not callable",
     "output_type": "error",
     "traceback": [
      "\u001b[1;31m---------------------------------------------------------------------------\u001b[0m",
      "\u001b[1;31mTypeError\u001b[0m                                 Traceback (most recent call last)",
      "\u001b[1;32m<ipython-input-6-41cf3c606404>\u001b[0m in \u001b[0;36m<module>\u001b[1;34m\u001b[0m\n\u001b[1;32m----> 1\u001b[1;33m \u001b[0msys\u001b[0m\u001b[1;33m.\u001b[0m\u001b[0mmodules\u001b[0m\u001b[1;33m(\u001b[0m\u001b[1;33m)\u001b[0m\u001b[1;33m\u001b[0m\u001b[1;33m\u001b[0m\u001b[0m\n\u001b[0m",
      "\u001b[1;31mTypeError\u001b[0m: 'dict' object is not callable"
     ]
    }
   ],
   "source": [
    "sys.modules()"
   ]
  },
  {
   "cell_type": "code",
   "execution_count": 11,
   "metadata": {},
   "outputs": [
    {
     "ename": "TypeError",
     "evalue": "'dict' object is not callable",
     "output_type": "error",
     "traceback": [
      "\u001b[1;31m---------------------------------------------------------------------------\u001b[0m",
      "\u001b[1;31mTypeError\u001b[0m                                 Traceback (most recent call last)",
      "\u001b[1;32m<ipython-input-11-34ebae89e023>\u001b[0m in \u001b[0;36m<module>\u001b[1;34m\u001b[0m\n\u001b[1;32m----> 1\u001b[1;33m \u001b[0msys\u001b[0m\u001b[1;33m.\u001b[0m\u001b[0mmodules\u001b[0m\u001b[1;33m(\u001b[0m\u001b[1;34m'sys'\u001b[0m\u001b[1;33m)\u001b[0m\u001b[1;33m\u001b[0m\u001b[1;33m\u001b[0m\u001b[0m\n\u001b[0m",
      "\u001b[1;31mTypeError\u001b[0m: 'dict' object is not callable"
     ]
    }
   ],
   "source": [
    "sys.modules('sys')"
   ]
  },
  {
   "cell_type": "code",
   "execution_count": 13,
   "metadata": {},
   "outputs": [
    {
     "ename": "TypeError",
     "evalue": "'dict' object is not callable",
     "output_type": "error",
     "traceback": [
      "\u001b[1;31m---------------------------------------------------------------------------\u001b[0m",
      "\u001b[1;31mTypeError\u001b[0m                                 Traceback (most recent call last)",
      "\u001b[1;32m<ipython-input-13-c63da91c7614>\u001b[0m in \u001b[0;36m<module>\u001b[1;34m\u001b[0m\n\u001b[0;32m      1\u001b[0m \u001b[1;32mimport\u001b[0m \u001b[0mos\u001b[0m\u001b[1;33m\u001b[0m\u001b[1;33m\u001b[0m\u001b[0m\n\u001b[1;32m----> 2\u001b[1;33m \u001b[0msys\u001b[0m\u001b[1;33m.\u001b[0m\u001b[0mmodules\u001b[0m\u001b[1;33m(\u001b[0m\u001b[1;34m'os'\u001b[0m\u001b[1;33m)\u001b[0m\u001b[1;33m\u001b[0m\u001b[1;33m\u001b[0m\u001b[0m\n\u001b[0m",
      "\u001b[1;31mTypeError\u001b[0m: 'dict' object is not callable"
     ]
    }
   ],
   "source": [
    "import os\n",
    "sys.modules('os')"
   ]
  },
  {
   "cell_type": "code",
   "execution_count": 14,
   "metadata": {},
   "outputs": [
    {
     "ename": "TypeError",
     "evalue": "'dict' object is not callable",
     "output_type": "error",
     "traceback": [
      "\u001b[1;31m---------------------------------------------------------------------------\u001b[0m",
      "\u001b[1;31mTypeError\u001b[0m                                 Traceback (most recent call last)",
      "\u001b[1;32m<ipython-input-14-645a5f39b405>\u001b[0m in \u001b[0;36m<module>\u001b[1;34m\u001b[0m\n\u001b[1;32m----> 1\u001b[1;33m \u001b[1;32mfor\u001b[0m \u001b[0mmodule\u001b[0m \u001b[1;32min\u001b[0m \u001b[0msys\u001b[0m\u001b[1;33m.\u001b[0m\u001b[0mmodules\u001b[0m\u001b[1;33m(\u001b[0m\u001b[1;33m)\u001b[0m\u001b[1;33m:\u001b[0m\u001b[1;33m\u001b[0m\u001b[1;33m\u001b[0m\u001b[0m\n\u001b[0m\u001b[0;32m      2\u001b[0m     \u001b[0mprint\u001b[0m\u001b[1;33m(\u001b[0m\u001b[0mmodule\u001b[0m\u001b[1;33m)\u001b[0m\u001b[1;33m\u001b[0m\u001b[1;33m\u001b[0m\u001b[0m\n",
      "\u001b[1;31mTypeError\u001b[0m: 'dict' object is not callable"
     ]
    }
   ],
   "source": [
    "for module in sys.modules():\n",
    "    print(module)"
   ]
  },
  {
   "cell_type": "code",
   "execution_count": 15,
   "metadata": {},
   "outputs": [
    {
     "name": "stdout",
     "output_type": "stream",
     "text": [
      "['E:\\\\Dropbox\\\\Github\\\\python', 'd:\\\\program files\\\\python37\\\\python37.zip', 'd:\\\\program files\\\\python37\\\\DLLs', 'd:\\\\program files\\\\python37\\\\lib', 'd:\\\\program files\\\\python37', '', 'd:\\\\program files\\\\python37\\\\lib\\\\site-packages', 'd:\\\\program files\\\\python37\\\\lib\\\\site-packages\\\\win32', 'd:\\\\program files\\\\python37\\\\lib\\\\site-packages\\\\win32\\\\lib', 'd:\\\\program files\\\\python37\\\\lib\\\\site-packages\\\\Pythonwin', 'd:\\\\program files\\\\python37\\\\lib\\\\site-packages\\\\IPython\\\\extensions', 'C:\\\\Users\\\\YWH\\\\.ipython']\n"
     ]
    }
   ],
   "source": [
    "import sys\n",
    "\n",
    "\n",
    "print(sys.path)"
   ]
  },
  {
   "cell_type": "code",
   "execution_count": 18,
   "metadata": {},
   "outputs": [
    {
     "data": {
      "text/plain": [
       "['__breakpointhook__',\n",
       " '__displayhook__',\n",
       " '__doc__',\n",
       " '__excepthook__',\n",
       " '__interactivehook__',\n",
       " '__loader__',\n",
       " '__name__',\n",
       " '__package__',\n",
       " '__spec__',\n",
       " '__stderr__',\n",
       " '__stdin__',\n",
       " '__stdout__',\n",
       " '_clear_type_cache',\n",
       " '_current_frames',\n",
       " '_debugmallocstats',\n",
       " '_enablelegacywindowsfsencoding',\n",
       " '_framework',\n",
       " '_getframe',\n",
       " '_git',\n",
       " '_home',\n",
       " '_xoptions',\n",
       " 'api_version',\n",
       " 'argv',\n",
       " 'base_exec_prefix',\n",
       " 'base_prefix',\n",
       " 'breakpointhook',\n",
       " 'builtin_module_names',\n",
       " 'byteorder',\n",
       " 'call_tracing',\n",
       " 'callstats',\n",
       " 'copyright',\n",
       " 'displayhook',\n",
       " 'dllhandle',\n",
       " 'dont_write_bytecode',\n",
       " 'exc_info',\n",
       " 'excepthook',\n",
       " 'exec_prefix',\n",
       " 'executable',\n",
       " 'exit',\n",
       " 'flags',\n",
       " 'float_info',\n",
       " 'float_repr_style',\n",
       " 'get_asyncgen_hooks',\n",
       " 'get_coroutine_origin_tracking_depth',\n",
       " 'get_coroutine_wrapper',\n",
       " 'getallocatedblocks',\n",
       " 'getcheckinterval',\n",
       " 'getdefaultencoding',\n",
       " 'getfilesystemencodeerrors',\n",
       " 'getfilesystemencoding',\n",
       " 'getprofile',\n",
       " 'getrecursionlimit',\n",
       " 'getrefcount',\n",
       " 'getsizeof',\n",
       " 'getswitchinterval',\n",
       " 'gettrace',\n",
       " 'getwindowsversion',\n",
       " 'hash_info',\n",
       " 'hexversion',\n",
       " 'implementation',\n",
       " 'int_info',\n",
       " 'intern',\n",
       " 'is_finalizing',\n",
       " 'last_traceback',\n",
       " 'last_type',\n",
       " 'last_value',\n",
       " 'maxsize',\n",
       " 'maxunicode',\n",
       " 'meta_path',\n",
       " 'modules',\n",
       " 'path',\n",
       " 'path_hooks',\n",
       " 'path_importer_cache',\n",
       " 'platform',\n",
       " 'prefix',\n",
       " 'ps1',\n",
       " 'ps2',\n",
       " 'ps3',\n",
       " 'set_asyncgen_hooks',\n",
       " 'set_coroutine_origin_tracking_depth',\n",
       " 'set_coroutine_wrapper',\n",
       " 'setcheckinterval',\n",
       " 'setprofile',\n",
       " 'setrecursionlimit',\n",
       " 'setswitchinterval',\n",
       " 'settrace',\n",
       " 'stderr',\n",
       " 'stdin',\n",
       " 'stdout',\n",
       " 'thread_info',\n",
       " 'version',\n",
       " 'version_info',\n",
       " 'warnoptions',\n",
       " 'winver']"
      ]
     },
     "execution_count": 18,
     "metadata": {},
     "output_type": "execute_result"
    }
   ],
   "source": [
    "dir(sys)"
   ]
  },
  {
   "cell_type": "code",
   "execution_count": 19,
   "metadata": {},
   "outputs": [
    {
     "name": "stdout",
     "output_type": "stream",
     "text": [
      "{'d:\\\\program files\\\\python37\\\\python37.zip': None, 'd:\\\\program files\\\\python37\\\\DLLs': FileFinder('d:\\\\program files\\\\python37\\\\DLLs'), 'd:\\\\program files\\\\python37\\\\lib': FileFinder('d:\\\\program files\\\\python37\\\\lib'), 'd:\\\\program files\\\\python37\\\\lib\\\\encodings': FileFinder('d:\\\\program files\\\\python37\\\\lib\\\\encodings'), 'd:\\\\program files\\\\python37\\\\lib\\\\importlib': FileFinder('d:\\\\program files\\\\python37\\\\lib\\\\importlib'), 'd:\\\\program files\\\\python37\\\\lib\\\\site-packages': FileFinder('d:\\\\program files\\\\python37\\\\lib\\\\site-packages'), 'd:\\\\program files\\\\python37': FileFinder('d:\\\\program files\\\\python37'), 'd:\\\\program files\\\\python37\\\\lib\\\\site-packages\\\\win32': FileFinder('d:\\\\program files\\\\python37\\\\lib\\\\site-packages\\\\win32'), 'd:\\\\program files\\\\python37\\\\lib\\\\site-packages\\\\win32\\\\lib': FileFinder('d:\\\\program files\\\\python37\\\\lib\\\\site-packages\\\\win32\\\\lib'), 'd:\\\\program files\\\\python37\\\\lib\\\\site-packages\\\\Pythonwin': FileFinder('d:\\\\program files\\\\python37\\\\lib\\\\site-packages\\\\Pythonwin'), 'E:\\\\Dropbox\\\\Github\\\\python': FileFinder('E:\\\\Dropbox\\\\Github\\\\python'), 'd:\\\\program files\\\\python37\\\\lib\\\\site-packages\\\\ipykernel': FileFinder('d:\\\\program files\\\\python37\\\\lib\\\\site-packages\\\\ipykernel'), 'd:\\\\program files\\\\python37\\\\lib\\\\json': FileFinder('d:\\\\program files\\\\python37\\\\lib\\\\json'), 'd:\\\\program files\\\\python37\\\\lib\\\\site-packages\\\\IPython': FileFinder('d:\\\\program files\\\\python37\\\\lib\\\\site-packages\\\\IPython'), 'd:\\\\program files\\\\python37\\\\lib\\\\site-packages\\\\IPython\\\\core': FileFinder('d:\\\\program files\\\\python37\\\\lib\\\\site-packages\\\\IPython\\\\core'), 'd:\\\\program files\\\\python37\\\\lib\\\\site-packages\\\\IPython\\\\extensions': FileFinder('d:\\\\program files\\\\python37\\\\lib\\\\site-packages\\\\IPython\\\\extensions'), 'd:\\\\program files\\\\python37\\\\lib\\\\collections': FileFinder('d:\\\\program files\\\\python37\\\\lib\\\\collections'), 'd:\\\\program files\\\\python37\\\\lib\\\\site-packages\\\\traitlets': FileFinder('d:\\\\program files\\\\python37\\\\lib\\\\site-packages\\\\traitlets'), 'd:\\\\program files\\\\python37\\\\lib\\\\site-packages\\\\traitlets\\\\utils': FileFinder('d:\\\\program files\\\\python37\\\\lib\\\\site-packages\\\\traitlets\\\\utils'), 'd:\\\\program files\\\\python37\\\\lib\\\\site-packages\\\\ipython_genutils': FileFinder('d:\\\\program files\\\\python37\\\\lib\\\\site-packages\\\\ipython_genutils'), 'd:\\\\program files\\\\python37\\\\lib\\\\site-packages\\\\traitlets\\\\config': FileFinder('d:\\\\program files\\\\python37\\\\lib\\\\site-packages\\\\traitlets\\\\config'), 'd:\\\\program files\\\\python37\\\\lib\\\\urllib': FileFinder('d:\\\\program files\\\\python37\\\\lib\\\\urllib'), 'd:\\\\program files\\\\python37\\\\lib\\\\site-packages\\\\IPython\\\\utils': FileFinder('d:\\\\program files\\\\python37\\\\lib\\\\site-packages\\\\IPython\\\\utils'), 'd:\\\\program files\\\\python37\\\\lib\\\\site-packages\\\\pygments': FileFinder('d:\\\\program files\\\\python37\\\\lib\\\\site-packages\\\\pygments'), 'd:\\\\program files\\\\python37\\\\lib\\\\site-packages\\\\IPython\\\\testing': FileFinder('d:\\\\program files\\\\python37\\\\lib\\\\site-packages\\\\IPython\\\\testing'), 'd:\\\\program files\\\\python37\\\\lib\\\\ctypes': FileFinder('d:\\\\program files\\\\python37\\\\lib\\\\ctypes'), 'd:\\\\program files\\\\python37\\\\lib\\\\site-packages\\\\IPython\\\\terminal': FileFinder('d:\\\\program files\\\\python37\\\\lib\\\\site-packages\\\\IPython\\\\terminal'), 'd:\\\\program files\\\\python37\\\\lib\\\\site-packages\\\\IPython\\\\lib': FileFinder('d:\\\\program files\\\\python37\\\\lib\\\\site-packages\\\\IPython\\\\lib'), 'd:\\\\program files\\\\python37\\\\lib\\\\site-packages\\\\pygments\\\\lexers': FileFinder('d:\\\\program files\\\\python37\\\\lib\\\\site-packages\\\\pygments\\\\lexers'), 'd:\\\\program files\\\\python37\\\\lib\\\\site-packages\\\\pygments\\\\formatters': FileFinder('d:\\\\program files\\\\python37\\\\lib\\\\site-packages\\\\pygments\\\\formatters'), 'd:\\\\program files\\\\python37\\\\lib\\\\asyncio': FileFinder('d:\\\\program files\\\\python37\\\\lib\\\\asyncio'), 'd:\\\\program files\\\\python37\\\\lib\\\\concurrent': FileFinder('d:\\\\program files\\\\python37\\\\lib\\\\concurrent'), 'd:\\\\program files\\\\python37\\\\lib\\\\concurrent\\\\futures': FileFinder('d:\\\\program files\\\\python37\\\\lib\\\\concurrent\\\\futures'), 'd:\\\\program files\\\\python37\\\\lib\\\\site-packages\\\\backcall': FileFinder('d:\\\\program files\\\\python37\\\\lib\\\\site-packages\\\\backcall'), 'd:\\\\program files\\\\python37\\\\lib\\\\sqlite3': FileFinder('d:\\\\program files\\\\python37\\\\lib\\\\sqlite3'), 'd:\\\\program files\\\\python37\\\\lib\\\\html': FileFinder('d:\\\\program files\\\\python37\\\\lib\\\\html'), 'd:\\\\program files\\\\python37\\\\lib\\\\site-packages\\\\prompt_toolkit': FileFinder('d:\\\\program files\\\\python37\\\\lib\\\\site-packages\\\\prompt_toolkit'), 'd:\\\\program files\\\\python37\\\\lib\\\\site-packages\\\\prompt_toolkit\\\\application': FileFinder('d:\\\\program files\\\\python37\\\\lib\\\\site-packages\\\\prompt_toolkit\\\\application'), 'd:\\\\program files\\\\python37\\\\lib\\\\site-packages\\\\prompt_toolkit\\\\eventloop': FileFinder('d:\\\\program files\\\\python37\\\\lib\\\\site-packages\\\\prompt_toolkit\\\\eventloop'), 'd:\\\\program files\\\\python37\\\\lib\\\\site-packages\\\\wcwidth': FileFinder('d:\\\\program files\\\\python37\\\\lib\\\\site-packages\\\\wcwidth'), 'd:\\\\program files\\\\python37\\\\lib\\\\site-packages\\\\prompt_toolkit\\\\filters': FileFinder('d:\\\\program files\\\\python37\\\\lib\\\\site-packages\\\\prompt_toolkit\\\\filters'), 'd:\\\\program files\\\\python37\\\\lib\\\\site-packages\\\\prompt_toolkit\\\\clipboard': FileFinder('d:\\\\program files\\\\python37\\\\lib\\\\site-packages\\\\prompt_toolkit\\\\clipboard'), 'd:\\\\program files\\\\python37\\\\lib\\\\site-packages\\\\prompt_toolkit\\\\completion': FileFinder('d:\\\\program files\\\\python37\\\\lib\\\\site-packages\\\\prompt_toolkit\\\\completion'), 'd:\\\\program files\\\\python37\\\\lib\\\\site-packages\\\\prompt_toolkit\\\\key_binding': FileFinder('d:\\\\program files\\\\python37\\\\lib\\\\site-packages\\\\prompt_toolkit\\\\key_binding'), 'd:\\\\program files\\\\python37\\\\lib\\\\site-packages\\\\prompt_toolkit\\\\input': FileFinder('d:\\\\program files\\\\python37\\\\lib\\\\site-packages\\\\prompt_toolkit\\\\input'), 'd:\\\\program files\\\\python37\\\\lib\\\\site-packages\\\\prompt_toolkit\\\\key_binding\\\\bindings': FileFinder('d:\\\\program files\\\\python37\\\\lib\\\\site-packages\\\\prompt_toolkit\\\\key_binding\\\\bindings'), 'd:\\\\program files\\\\python37\\\\lib\\\\site-packages\\\\prompt_toolkit\\\\layout': FileFinder('d:\\\\program files\\\\python37\\\\lib\\\\site-packages\\\\prompt_toolkit\\\\layout'), 'd:\\\\program files\\\\python37\\\\lib\\\\site-packages\\\\prompt_toolkit\\\\formatted_text': FileFinder('d:\\\\program files\\\\python37\\\\lib\\\\site-packages\\\\prompt_toolkit\\\\formatted_text'), 'd:\\\\program files\\\\python37\\\\lib\\\\xml': FileFinder('d:\\\\program files\\\\python37\\\\lib\\\\xml'), 'd:\\\\program files\\\\python37\\\\lib\\\\xml\\\\dom': FileFinder('d:\\\\program files\\\\python37\\\\lib\\\\xml\\\\dom'), 'd:\\\\program files\\\\python37\\\\lib\\\\site-packages\\\\prompt_toolkit\\\\output': FileFinder('d:\\\\program files\\\\python37\\\\lib\\\\site-packages\\\\prompt_toolkit\\\\output'), 'd:\\\\program files\\\\python37\\\\lib\\\\site-packages\\\\prompt_toolkit\\\\styles': FileFinder('d:\\\\program files\\\\python37\\\\lib\\\\site-packages\\\\prompt_toolkit\\\\styles'), 'd:\\\\program files\\\\python37\\\\lib\\\\site-packages\\\\prompt_toolkit\\\\lexers': FileFinder('d:\\\\program files\\\\python37\\\\lib\\\\site-packages\\\\prompt_toolkit\\\\lexers'), 'd:\\\\program files\\\\python37\\\\lib\\\\site-packages\\\\prompt_toolkit\\\\shortcuts': FileFinder('d:\\\\program files\\\\python37\\\\lib\\\\site-packages\\\\prompt_toolkit\\\\shortcuts'), 'd:\\\\program files\\\\python37\\\\lib\\\\site-packages\\\\prompt_toolkit\\\\widgets': FileFinder('d:\\\\program files\\\\python37\\\\lib\\\\site-packages\\\\prompt_toolkit\\\\widgets'), 'd:\\\\program files\\\\python37\\\\lib\\\\site-packages\\\\prompt_toolkit\\\\shortcuts\\\\progress_bar': FileFinder('d:\\\\program files\\\\python37\\\\lib\\\\site-packages\\\\prompt_toolkit\\\\shortcuts\\\\progress_bar'), 'd:\\\\program files\\\\python37\\\\lib\\\\site-packages\\\\jedi': FileFinder('d:\\\\program files\\\\python37\\\\lib\\\\site-packages\\\\jedi'), 'd:\\\\program files\\\\python37\\\\lib\\\\site-packages\\\\parso': FileFinder('d:\\\\program files\\\\python37\\\\lib\\\\site-packages\\\\parso'), 'd:\\\\program files\\\\python37\\\\lib\\\\site-packages\\\\parso\\\\pgen2': FileFinder('d:\\\\program files\\\\python37\\\\lib\\\\site-packages\\\\parso\\\\pgen2'), 'd:\\\\program files\\\\python37\\\\lib\\\\site-packages\\\\parso\\\\python': FileFinder('d:\\\\program files\\\\python37\\\\lib\\\\site-packages\\\\parso\\\\python'), 'd:\\\\program files\\\\python37\\\\lib\\\\site-packages\\\\jedi\\\\api': FileFinder('d:\\\\program files\\\\python37\\\\lib\\\\site-packages\\\\jedi\\\\api'), 'd:\\\\program files\\\\python37\\\\lib\\\\site-packages\\\\jedi\\\\evaluate': FileFinder('d:\\\\program files\\\\python37\\\\lib\\\\site-packages\\\\jedi\\\\evaluate'), 'd:\\\\program files\\\\python37\\\\lib\\\\site-packages\\\\jedi\\\\common': FileFinder('d:\\\\program files\\\\python37\\\\lib\\\\site-packages\\\\jedi\\\\common'), 'd:\\\\program files\\\\python37\\\\lib\\\\site-packages\\\\jedi\\\\evaluate\\\\compiled': FileFinder('d:\\\\program files\\\\python37\\\\lib\\\\site-packages\\\\jedi\\\\evaluate\\\\compiled'), 'd:\\\\program files\\\\python37\\\\lib\\\\site-packages\\\\jedi\\\\evaluate\\\\context': FileFinder('d:\\\\program files\\\\python37\\\\lib\\\\site-packages\\\\jedi\\\\evaluate\\\\context'), 'd:\\\\program files\\\\python37\\\\lib\\\\pydoc_data': FileFinder('d:\\\\program files\\\\python37\\\\lib\\\\pydoc_data'), 'd:\\\\program files\\\\python37\\\\lib\\\\site-packages\\\\jedi\\\\evaluate\\\\compiled\\\\subprocess': FileFinder('d:\\\\program files\\\\python37\\\\lib\\\\site-packages\\\\jedi\\\\evaluate\\\\compiled\\\\subprocess'), 'd:\\\\program files\\\\python37\\\\lib\\\\site-packages\\\\IPython\\\\core\\\\magics': FileFinder('d:\\\\program files\\\\python37\\\\lib\\\\site-packages\\\\IPython\\\\core\\\\magics'), 'd:\\\\program files\\\\python37\\\\lib\\\\http': FileFinder('d:\\\\program files\\\\python37\\\\lib\\\\http'), 'd:\\\\program files\\\\python37\\\\lib\\\\email': FileFinder('d:\\\\program files\\\\python37\\\\lib\\\\email'), 'd:\\\\program files\\\\python37\\\\lib\\\\site-packages\\\\jupyter_client': FileFinder('d:\\\\program files\\\\python37\\\\lib\\\\site-packages\\\\jupyter_client'), 'd:\\\\program files\\\\python37\\\\lib\\\\site-packages\\\\zmq': FileFinder('d:\\\\program files\\\\python37\\\\lib\\\\site-packages\\\\zmq'), 'd:\\\\program files\\\\python37\\\\lib\\\\site-packages\\\\zmq\\\\backend': FileFinder('d:\\\\program files\\\\python37\\\\lib\\\\site-packages\\\\zmq\\\\backend'), 'd:\\\\program files\\\\python37\\\\lib\\\\site-packages\\\\zmq\\\\backend\\\\cython': FileFinder('d:\\\\program files\\\\python37\\\\lib\\\\site-packages\\\\zmq\\\\backend\\\\cython'), 'd:\\\\program files\\\\python37\\\\lib\\\\site-packages\\\\zmq\\\\sugar': FileFinder('d:\\\\program files\\\\python37\\\\lib\\\\site-packages\\\\zmq\\\\sugar'), 'd:\\\\program files\\\\python37\\\\lib\\\\site-packages\\\\zmq\\\\utils': FileFinder('d:\\\\program files\\\\python37\\\\lib\\\\site-packages\\\\zmq\\\\utils'), 'd:\\\\program files\\\\python37\\\\lib\\\\site-packages\\\\jupyter_core': FileFinder('d:\\\\program files\\\\python37\\\\lib\\\\site-packages\\\\jupyter_core'), 'd:\\\\program files\\\\python37\\\\lib\\\\site-packages\\\\jupyter_client\\\\blocking': FileFinder('d:\\\\program files\\\\python37\\\\lib\\\\site-packages\\\\jupyter_client\\\\blocking'), 'd:\\\\program files\\\\python37\\\\lib\\\\site-packages\\\\tornado': FileFinder('d:\\\\program files\\\\python37\\\\lib\\\\site-packages\\\\tornado'), 'd:\\\\program files\\\\python37\\\\lib\\\\logging': FileFinder('d:\\\\program files\\\\python37\\\\lib\\\\logging'), 'd:\\\\program files\\\\python37\\\\lib\\\\site-packages\\\\colorama': FileFinder('d:\\\\program files\\\\python37\\\\lib\\\\site-packages\\\\colorama'), 'd:\\\\program files\\\\python37\\\\lib\\\\site-packages\\\\tornado\\\\platform': FileFinder('d:\\\\program files\\\\python37\\\\lib\\\\site-packages\\\\tornado\\\\platform'), 'd:\\\\program files\\\\python37\\\\lib\\\\site-packages\\\\zmq\\\\eventloop': FileFinder('d:\\\\program files\\\\python37\\\\lib\\\\site-packages\\\\zmq\\\\eventloop'), 'd:\\\\program files\\\\python37\\\\lib\\\\site-packages\\\\dateutil': FileFinder('d:\\\\program files\\\\python37\\\\lib\\\\site-packages\\\\dateutil'), 'd:\\\\program files\\\\python37\\\\lib\\\\site-packages\\\\dateutil\\\\parser': FileFinder('d:\\\\program files\\\\python37\\\\lib\\\\site-packages\\\\dateutil\\\\parser'), 'd:\\\\program files\\\\python37\\\\lib\\\\site-packages\\\\dateutil\\\\tz': FileFinder('d:\\\\program files\\\\python37\\\\lib\\\\site-packages\\\\dateutil\\\\tz'), 'd:\\\\program files\\\\python37\\\\lib\\\\site-packages\\\\ipykernel\\\\comm': FileFinder('d:\\\\program files\\\\python37\\\\lib\\\\site-packages\\\\ipykernel\\\\comm'), 'C:\\\\Users\\\\YWH\\\\.ipython': FileFinder('C:\\\\Users\\\\YWH\\\\.ipython'), 'C:\\\\Users\\\\YWH\\\\.ipython\\\\extensions': FileFinder('C:\\\\Users\\\\YWH\\\\.ipython\\\\extensions'), 'd:\\\\program files\\\\python37\\\\lib\\\\site-packages\\\\ipywidgets': FileFinder('d:\\\\program files\\\\python37\\\\lib\\\\site-packages\\\\ipywidgets'), 'd:\\\\program files\\\\python37\\\\lib\\\\site-packages\\\\ipywidgets\\\\widgets': FileFinder('d:\\\\program files\\\\python37\\\\lib\\\\site-packages\\\\ipywidgets\\\\widgets')}\n"
     ]
    }
   ],
   "source": [
    "print(sys.path_importer_cache)"
   ]
  },
  {
   "cell_type": "code",
   "execution_count": 1,
   "metadata": {},
   "outputs": [
    {
     "name": "stdout",
     "output_type": "stream",
     "text": [
      "After local assignment: test spam\n",
      "After nonlocal assignment: test spam\n",
      "After global assignment: test spam\n",
      "In global scope: global spam\n"
     ]
    }
   ],
   "source": [
    "def scope_test():\n",
    "    def do_local():\n",
    "        spam = \"local spam\"\n",
    "\n",
    "    def do_nonlocal():\n",
    "        spam = \"nonlocal spam\"\n",
    "\n",
    "    def do_global():\n",
    "        global spam\n",
    "        spam = \"global spam\"\n",
    "\n",
    "    spam = \"test spam\"\n",
    "    do_local()\n",
    "    print(\"After local assignment:\", spam)\n",
    "    do_nonlocal()\n",
    "    print(\"After nonlocal assignment:\", spam)\n",
    "    do_global()\n",
    "    print(\"After global assignment:\", spam)\n",
    "\n",
    "\n",
    "scope_test()\n",
    "print(\"In global scope:\", spam)"
   ]
  },
  {
   "cell_type": "code",
   "execution_count": 2,
   "metadata": {},
   "outputs": [
    {
     "name": "stdout",
     "output_type": "stream",
     "text": [
      "After local assignment: test spam\n",
      "After nonlocal assignment: nonlocal spam\n",
      "After global assignment: nonlocal spam\n",
      "In global scope: global spam\n"
     ]
    }
   ],
   "source": [
    "def scope_test():\n",
    "    def do_local():\n",
    "        spam = \"local spam\"\n",
    "\n",
    "    def do_nonlocal():\n",
    "        nonlocal spam\n",
    "        spam = \"nonlocal spam\"\n",
    "\n",
    "    def do_global():\n",
    "        global spam\n",
    "        spam = \"global spam\"\n",
    "\n",
    "    spam = \"test spam\"\n",
    "    do_local()\n",
    "    print(\"After local assignment:\", spam)\n",
    "    do_nonlocal()\n",
    "    print(\"After nonlocal assignment:\", spam)\n",
    "    do_global()\n",
    "    print(\"After global assignment:\", spam)\n",
    "\n",
    "\n",
    "scope_test()\n",
    "print(\"In global scope:\", spam)"
   ]
  },
  {
   "cell_type": "code",
   "execution_count": 6,
   "metadata": {},
   "outputs": [],
   "source": [
    "class SimpleClass:\n",
    "    \"\"\"A simple example class.\"\"\"\n",
    "    i = 12345\n",
    "    \n",
    "    def f(self):\n",
    "        return \"Hello World\""
   ]
  },
  {
   "cell_type": "code",
   "execution_count": 7,
   "metadata": {},
   "outputs": [
    {
     "data": {
      "text/plain": [
       "12345"
      ]
     },
     "execution_count": 7,
     "metadata": {},
     "output_type": "execute_result"
    }
   ],
   "source": [
    "SimpleClass.i"
   ]
  },
  {
   "cell_type": "code",
   "execution_count": 8,
   "metadata": {},
   "outputs": [
    {
     "data": {
      "text/plain": [
       "<function __main__.SimpleClass.f(self)>"
      ]
     },
     "execution_count": 8,
     "metadata": {},
     "output_type": "execute_result"
    }
   ],
   "source": [
    "SimpleClass.f"
   ]
  },
  {
   "cell_type": "code",
   "execution_count": 9,
   "metadata": {},
   "outputs": [
    {
     "data": {
      "text/plain": [
       "'A simple example class.'"
      ]
     },
     "execution_count": 9,
     "metadata": {},
     "output_type": "execute_result"
    }
   ],
   "source": [
    "SimpleClass.__doc__"
   ]
  },
  {
   "cell_type": "code",
   "execution_count": 10,
   "metadata": {},
   "outputs": [
    {
     "data": {
      "text/plain": [
       "3.0"
      ]
     },
     "execution_count": 10,
     "metadata": {},
     "output_type": "execute_result"
    }
   ],
   "source": [
    "class Complex:\n",
    "    \"\"\"A complex example class.\"\"\"\n",
    "    def __init__(self, realpart, imagpart):\n",
    "        self.r = realpart\n",
    "        self.i = imagpart\n",
    "        \n",
    "        \n",
    "x = Complex(3.0, -4.5)\n",
    "x.r"
   ]
  },
  {
   "cell_type": "code",
   "execution_count": 11,
   "metadata": {},
   "outputs": [
    {
     "data": {
      "text/plain": [
       "-4.5"
      ]
     },
     "execution_count": 11,
     "metadata": {},
     "output_type": "execute_result"
    }
   ],
   "source": [
    "x.i"
   ]
  },
  {
   "cell_type": "code",
   "execution_count": 12,
   "metadata": {},
   "outputs": [
    {
     "data": {
      "text/plain": [
       "(3.0, -4.5)"
      ]
     },
     "execution_count": 12,
     "metadata": {},
     "output_type": "execute_result"
    }
   ],
   "source": [
    "x.r, x.i"
   ]
  },
  {
   "cell_type": "code",
   "execution_count": 13,
   "metadata": {},
   "outputs": [
    {
     "name": "stdout",
     "output_type": "stream",
     "text": [
      "16\n"
     ]
    }
   ],
   "source": [
    "x.counter = 1\n",
    "while x.counter < 10:\n",
    "    x.counter = x.counter * 2\n",
    "    \n",
    "print(x.counter)\n",
    "del x.counter"
   ]
  },
  {
   "cell_type": "code",
   "execution_count": 14,
   "metadata": {},
   "outputs": [
    {
     "ename": "AttributeError",
     "evalue": "'Complex' object has no attribute 'counter'",
     "output_type": "error",
     "traceback": [
      "\u001b[1;31m---------------------------------------------------------------------------\u001b[0m",
      "\u001b[1;31mAttributeError\u001b[0m                            Traceback (most recent call last)",
      "\u001b[1;32m<ipython-input-14-5b599638899f>\u001b[0m in \u001b[0;36m<module>\u001b[1;34m\u001b[0m\n\u001b[1;32m----> 1\u001b[1;33m \u001b[0mx\u001b[0m\u001b[1;33m.\u001b[0m\u001b[0mcounter\u001b[0m\u001b[1;33m\u001b[0m\u001b[1;33m\u001b[0m\u001b[0m\n\u001b[0m",
      "\u001b[1;31mAttributeError\u001b[0m: 'Complex' object has no attribute 'counter'"
     ]
    }
   ],
   "source": [
    "x.counter"
   ]
  },
  {
   "cell_type": "code",
   "execution_count": 15,
   "metadata": {},
   "outputs": [
    {
     "data": {
      "text/plain": [
       "<function __main__.SimpleClass.f(self)>"
      ]
     },
     "execution_count": 15,
     "metadata": {},
     "output_type": "execute_result"
    }
   ],
   "source": [
    "SimpleClass.f"
   ]
  },
  {
   "cell_type": "code",
   "execution_count": 16,
   "metadata": {},
   "outputs": [
    {
     "data": {
      "text/plain": [
       "function"
      ]
     },
     "execution_count": 16,
     "metadata": {},
     "output_type": "execute_result"
    }
   ],
   "source": [
    "type(SimpleClass.f)"
   ]
  },
  {
   "cell_type": "code",
   "execution_count": 17,
   "metadata": {},
   "outputs": [
    {
     "data": {
      "text/plain": [
       "<bound method SimpleClass.f of <__main__.SimpleClass object at 0x000001CAE03372B0>>"
      ]
     },
     "execution_count": 17,
     "metadata": {},
     "output_type": "execute_result"
    }
   ],
   "source": [
    "x = SimpleClass()\n",
    "x.f"
   ]
  },
  {
   "cell_type": "code",
   "execution_count": 18,
   "metadata": {},
   "outputs": [
    {
     "data": {
      "text/plain": [
       "method"
      ]
     },
     "execution_count": 18,
     "metadata": {},
     "output_type": "execute_result"
    }
   ],
   "source": [
    "type(x.f)"
   ]
  },
  {
   "cell_type": "code",
   "execution_count": 20,
   "metadata": {},
   "outputs": [
    {
     "name": "stdout",
     "output_type": "stream",
     "text": [
      "<class 'function'>\n",
      "<class 'method'>\n"
     ]
    }
   ],
   "source": [
    "class MyClass:\n",
    "    \"\"\"A simple example class\"\"\"\n",
    "    i = 12345\n",
    "\n",
    "    def f(self):\n",
    "        return 'hello world'\n",
    "    \n",
    "    \n",
    "x = MyClass()\n",
    "print(type(MyClass.f))\n",
    "print(type(x.f))"
   ]
  },
  {
   "cell_type": "code",
   "execution_count": 21,
   "metadata": {},
   "outputs": [
    {
     "data": {
      "text/plain": [
       "<bound method MyClass.f of <__main__.MyClass object at 0x000001CAE03DC1D0>>"
      ]
     },
     "execution_count": 21,
     "metadata": {},
     "output_type": "execute_result"
    }
   ],
   "source": [
    "x.f"
   ]
  },
  {
   "cell_type": "code",
   "execution_count": 22,
   "metadata": {},
   "outputs": [
    {
     "data": {
      "text/plain": [
       "'hello world'"
      ]
     },
     "execution_count": 22,
     "metadata": {},
     "output_type": "execute_result"
    }
   ],
   "source": [
    "x.f()"
   ]
  },
  {
   "cell_type": "code",
   "execution_count": 23,
   "metadata": {},
   "outputs": [],
   "source": [
    "# Function defined outside the class\n",
    "def f1(self, x, y):\n",
    "    return min(x, x+y)\n",
    "\n",
    "\n",
    "class C:\n",
    "    f = f1\n",
    "    \n",
    "    def g(self):\n",
    "        return 'hello world'\n",
    "    \n",
    "    h = g"
   ]
  },
  {
   "cell_type": "code",
   "execution_count": 24,
   "metadata": {},
   "outputs": [
    {
     "ename": "AttributeError",
     "evalue": "'C' object has no attribute 'f1'",
     "output_type": "error",
     "traceback": [
      "\u001b[1;31m---------------------------------------------------------------------------\u001b[0m",
      "\u001b[1;31mAttributeError\u001b[0m                            Traceback (most recent call last)",
      "\u001b[1;32m<ipython-input-24-8543930e556b>\u001b[0m in \u001b[0;36m<module>\u001b[1;34m\u001b[0m\n\u001b[0;32m      1\u001b[0m \u001b[0mc1\u001b[0m \u001b[1;33m=\u001b[0m \u001b[0mC\u001b[0m\u001b[1;33m(\u001b[0m\u001b[1;33m)\u001b[0m\u001b[1;33m\u001b[0m\u001b[1;33m\u001b[0m\u001b[0m\n\u001b[1;32m----> 2\u001b[1;33m \u001b[0mc1\u001b[0m\u001b[1;33m.\u001b[0m\u001b[0mf1\u001b[0m\u001b[1;33m(\u001b[0m\u001b[1;36m1\u001b[0m\u001b[1;33m,\u001b[0m\u001b[1;36m3\u001b[0m\u001b[1;33m)\u001b[0m\u001b[1;33m\u001b[0m\u001b[1;33m\u001b[0m\u001b[0m\n\u001b[0m",
      "\u001b[1;31mAttributeError\u001b[0m: 'C' object has no attribute 'f1'"
     ]
    }
   ],
   "source": [
    "c1 = C()\n",
    "c1.f1(1,3)"
   ]
  },
  {
   "cell_type": "code",
   "execution_count": 25,
   "metadata": {},
   "outputs": [
    {
     "data": {
      "text/plain": [
       "1"
      ]
     },
     "execution_count": 25,
     "metadata": {},
     "output_type": "execute_result"
    }
   ],
   "source": [
    "c1.f(1, 3)"
   ]
  },
  {
   "cell_type": "code",
   "execution_count": 26,
   "metadata": {},
   "outputs": [
    {
     "data": {
      "text/plain": [
       "-2"
      ]
     },
     "execution_count": 26,
     "metadata": {},
     "output_type": "execute_result"
    }
   ],
   "source": [
    "c1.f(1, -3)"
   ]
  },
  {
   "cell_type": "code",
   "execution_count": 27,
   "metadata": {},
   "outputs": [
    {
     "data": {
      "text/plain": [
       "True"
      ]
     },
     "execution_count": 27,
     "metadata": {},
     "output_type": "execute_result"
    }
   ],
   "source": [
    "hasattr(C, 'f')"
   ]
  },
  {
   "cell_type": "code",
   "execution_count": 28,
   "metadata": {},
   "outputs": [
    {
     "data": {
      "text/plain": [
       "False"
      ]
     },
     "execution_count": 28,
     "metadata": {},
     "output_type": "execute_result"
    }
   ],
   "source": [
    "hasattr(C, 'f1')"
   ]
  },
  {
   "cell_type": "code",
   "execution_count": 29,
   "metadata": {},
   "outputs": [],
   "source": [
    "class Bag:\n",
    "    def __init__(self):\n",
    "        self.data = []\n",
    "        \n",
    "    def add(self, x):\n",
    "        self.data.append(x)\n",
    "        \n",
    "    def addtwice(self, x):\n",
    "        self.add(x)\n",
    "        self.add(x)"
   ]
  },
  {
   "cell_type": "code",
   "execution_count": 30,
   "metadata": {},
   "outputs": [
    {
     "data": {
      "text/plain": [
       "[]"
      ]
     },
     "execution_count": 30,
     "metadata": {},
     "output_type": "execute_result"
    }
   ],
   "source": [
    "b1 = Bag()\n",
    "b1.data"
   ]
  },
  {
   "cell_type": "code",
   "execution_count": 31,
   "metadata": {},
   "outputs": [],
   "source": [
    "b1.add('3')"
   ]
  },
  {
   "cell_type": "code",
   "execution_count": 32,
   "metadata": {},
   "outputs": [
    {
     "data": {
      "text/plain": [
       "['3']"
      ]
     },
     "execution_count": 32,
     "metadata": {},
     "output_type": "execute_result"
    }
   ],
   "source": [
    "b1.data"
   ]
  },
  {
   "cell_type": "code",
   "execution_count": 33,
   "metadata": {},
   "outputs": [
    {
     "data": {
      "text/plain": [
       "['3', 'a', 'a']"
      ]
     },
     "execution_count": 33,
     "metadata": {},
     "output_type": "execute_result"
    }
   ],
   "source": [
    "b1.addtwice('a')\n",
    "b1.data"
   ]
  },
  {
   "cell_type": "code",
   "execution_count": 2,
   "metadata": {},
   "outputs": [
    {
     "name": "stderr",
     "output_type": "stream",
     "text": [
      "'lsmagic' 不是内部或外部命令，也不是可运行的程序\n",
      "或批处理文件。\n"
     ]
    }
   ],
   "source": [
    "!lsmagic"
   ]
  },
  {
   "cell_type": "code",
   "execution_count": 3,
   "metadata": {},
   "outputs": [
    {
     "data": {
      "application/json": {
       "cell": {
        "!": "OSMagics",
        "HTML": "Other",
        "SVG": "Other",
        "bash": "Other",
        "capture": "ExecutionMagics",
        "cmd": "Other",
        "debug": "ExecutionMagics",
        "file": "Other",
        "html": "DisplayMagics",
        "javascript": "DisplayMagics",
        "js": "DisplayMagics",
        "latex": "DisplayMagics",
        "markdown": "DisplayMagics",
        "perl": "Other",
        "prun": "ExecutionMagics",
        "pypy": "Other",
        "python": "Other",
        "python2": "Other",
        "python3": "Other",
        "ruby": "Other",
        "script": "ScriptMagics",
        "sh": "Other",
        "svg": "DisplayMagics",
        "sx": "OSMagics",
        "system": "OSMagics",
        "time": "ExecutionMagics",
        "timeit": "ExecutionMagics",
        "writefile": "OSMagics"
       },
       "line": {
        "alias": "OSMagics",
        "alias_magic": "BasicMagics",
        "autoawait": "AsyncMagics",
        "autocall": "AutoMagics",
        "automagic": "AutoMagics",
        "autosave": "KernelMagics",
        "bookmark": "OSMagics",
        "cd": "OSMagics",
        "clear": "KernelMagics",
        "cls": "KernelMagics",
        "colors": "BasicMagics",
        "config": "ConfigMagics",
        "connect_info": "KernelMagics",
        "copy": "Other",
        "ddir": "Other",
        "debug": "ExecutionMagics",
        "dhist": "OSMagics",
        "dirs": "OSMagics",
        "doctest_mode": "BasicMagics",
        "echo": "Other",
        "ed": "Other",
        "edit": "KernelMagics",
        "env": "OSMagics",
        "gui": "BasicMagics",
        "hist": "Other",
        "history": "HistoryMagics",
        "killbgscripts": "ScriptMagics",
        "ldir": "Other",
        "less": "KernelMagics",
        "load": "CodeMagics",
        "load_ext": "ExtensionMagics",
        "loadpy": "CodeMagics",
        "logoff": "LoggingMagics",
        "logon": "LoggingMagics",
        "logstart": "LoggingMagics",
        "logstate": "LoggingMagics",
        "logstop": "LoggingMagics",
        "ls": "Other",
        "lsmagic": "BasicMagics",
        "macro": "ExecutionMagics",
        "magic": "BasicMagics",
        "matplotlib": "PylabMagics",
        "mkdir": "Other",
        "more": "KernelMagics",
        "notebook": "BasicMagics",
        "page": "BasicMagics",
        "pastebin": "CodeMagics",
        "pdb": "ExecutionMagics",
        "pdef": "NamespaceMagics",
        "pdoc": "NamespaceMagics",
        "pfile": "NamespaceMagics",
        "pinfo": "NamespaceMagics",
        "pinfo2": "NamespaceMagics",
        "pip": "BasicMagics",
        "popd": "OSMagics",
        "pprint": "BasicMagics",
        "precision": "BasicMagics",
        "prun": "ExecutionMagics",
        "psearch": "NamespaceMagics",
        "psource": "NamespaceMagics",
        "pushd": "OSMagics",
        "pwd": "OSMagics",
        "pycat": "OSMagics",
        "pylab": "PylabMagics",
        "qtconsole": "KernelMagics",
        "quickref": "BasicMagics",
        "recall": "HistoryMagics",
        "rehashx": "OSMagics",
        "reload_ext": "ExtensionMagics",
        "ren": "Other",
        "rep": "Other",
        "rerun": "HistoryMagics",
        "reset": "NamespaceMagics",
        "reset_selective": "NamespaceMagics",
        "rmdir": "Other",
        "run": "ExecutionMagics",
        "save": "CodeMagics",
        "sc": "OSMagics",
        "set_env": "OSMagics",
        "store": "StoreMagics",
        "sx": "OSMagics",
        "system": "OSMagics",
        "tb": "ExecutionMagics",
        "time": "ExecutionMagics",
        "timeit": "ExecutionMagics",
        "unalias": "OSMagics",
        "unload_ext": "ExtensionMagics",
        "who": "NamespaceMagics",
        "who_ls": "NamespaceMagics",
        "whos": "NamespaceMagics",
        "xdel": "NamespaceMagics",
        "xmode": "BasicMagics"
       }
      },
      "text/plain": [
       "Available line magics:\n",
       "%alias  %alias_magic  %autoawait  %autocall  %automagic  %autosave  %bookmark  %cd  %clear  %cls  %colors  %config  %connect_info  %copy  %ddir  %debug  %dhist  %dirs  %doctest_mode  %echo  %ed  %edit  %env  %gui  %hist  %history  %killbgscripts  %ldir  %less  %load  %load_ext  %loadpy  %logoff  %logon  %logstart  %logstate  %logstop  %ls  %lsmagic  %macro  %magic  %matplotlib  %mkdir  %more  %notebook  %page  %pastebin  %pdb  %pdef  %pdoc  %pfile  %pinfo  %pinfo2  %popd  %pprint  %precision  %prun  %psearch  %psource  %pushd  %pwd  %pycat  %pylab  %qtconsole  %quickref  %recall  %rehashx  %reload_ext  %ren  %rep  %rerun  %reset  %reset_selective  %rmdir  %run  %save  %sc  %set_env  %store  %sx  %system  %tb  %time  %timeit  %unalias  %unload_ext  %who  %who_ls  %whos  %xdel  %xmode\n",
       "\n",
       "Available cell magics:\n",
       "%%!  %%HTML  %%SVG  %%bash  %%capture  %%cmd  %%debug  %%file  %%html  %%javascript  %%js  %%latex  %%markdown  %%perl  %%prun  %%pypy  %%python  %%python2  %%python3  %%ruby  %%script  %%sh  %%svg  %%sx  %%system  %%time  %%timeit  %%writefile\n",
       "\n",
       "Automagic is ON, % prefix IS NOT needed for line magics."
      ]
     },
     "execution_count": 3,
     "metadata": {},
     "output_type": "execute_result"
    }
   ],
   "source": [
    "%lsmagic"
   ]
  },
  {
   "cell_type": "code",
   "execution_count": null,
   "metadata": {},
   "outputs": [],
   "source": [
    "# %load myfile.txt\n",
    "1507774426\t第二中学\n",
    "1376879125\t第二中学\n",
    "1827660993\t第二中学\n",
    "1507800609\t第二中学\n",
    "1507800609\t第二中学\n",
    "1877853750\t第二中学\n",
    "1336755734\t第二中学\n",
    "1336755734\t第二中学\n",
    "1877853750\t第二中学\n",
    "1587852088\t第二中学\n",
    "1376879125\t第二中学"
   ]
  },
  {
   "cell_type": "code",
   "execution_count": 8,
   "metadata": {},
   "outputs": [
    {
     "name": "stdout",
     "output_type": "stream",
     "text": [
      "1507774426\t第二中学\n",
      "\n",
      "1376879125\t第二中学\n",
      "\n",
      "1827660993\t第二中学\n",
      "\n",
      "1507800609\t第二中学\n",
      "\n",
      "1507800609\t第二中学\n",
      "\n",
      "1877853750\t第二中学\n",
      "\n",
      "1336755734\t第二中学\n",
      "\n",
      "1336755734\t第二中学\n",
      "\n",
      "1877853750\t第二中学\n",
      "\n",
      "1587852088\t第二中学\n",
      "\n",
      "1376879125\t第二中学\n"
     ]
    }
   ],
   "source": [
    "for line in open(\"myfile.txt\", encoding='utf-8'):\n",
    "    print(line)"
   ]
  },
  {
   "cell_type": "code",
   "execution_count": 13,
   "metadata": {},
   "outputs": [
    {
     "name": "stdout",
     "output_type": "stream",
     "text": [
      "1507774426\t第二中学\n",
      "1376879125\t第二中学\n",
      "1827660993\t第二中学\n",
      "1507800609\t第二中学\n",
      "1507800609\t第二中学\n",
      "1877853750\t第二中学\n",
      "1336755734\t第二中学\n",
      "1336755734\t第二中学\n",
      "1877853750\t第二中学\n",
      "1587852088\t第二中学\n",
      "1376879125\t第二中学"
     ]
    },
    {
     "data": {
      "text/plain": [
       "str"
      ]
     },
     "execution_count": 13,
     "metadata": {},
     "output_type": "execute_result"
    }
   ],
   "source": [
    "for line in open(\"myfile.txt\", encoding='utf-8'):\n",
    "    print(line, end='')\n",
    "type(line)"
   ]
  },
  {
   "cell_type": "code",
   "execution_count": 10,
   "metadata": {},
   "outputs": [
    {
     "name": "stdout",
     "output_type": "stream",
     "text": [
      "1507774426\t第二中学\n",
      "1376879125\t第二中学\n",
      "1827660993\t第二中学\n",
      "1507800609\t第二中学\n",
      "1507800609\t第二中学\n",
      "1877853750\t第二中学\n",
      "1336755734\t第二中学\n",
      "1336755734\t第二中学\n",
      "1877853750\t第二中学\n",
      "1587852088\t第二中学\n",
      "1376879125\t第二中学\n"
     ]
    }
   ],
   "source": [
    "for line in open(\"myfile.txt\", encoding='utf-8').read().splitlines():\n",
    "    print(line)"
   ]
  },
  {
   "cell_type": "code",
   "execution_count": 12,
   "metadata": {},
   "outputs": [
    {
     "data": {
      "text/plain": [
       "str"
      ]
     },
     "execution_count": 12,
     "metadata": {},
     "output_type": "execute_result"
    }
   ],
   "source": [
    "type(line)"
   ]
  },
  {
   "cell_type": "code",
   "execution_count": 15,
   "metadata": {},
   "outputs": [],
   "source": [
    "class Reverse:\n",
    "    \"\"\"Iterator for looping over a sequence backwards.\"\"\"\n",
    "    def __init__(self, data):\n",
    "        self.data = data\n",
    "        self.index = len(data)\n",
    "        \n",
    "    def __iter__(self):\n",
    "        return self\n",
    "    \n",
    "    def __next__(self):\n",
    "        if self.index == 0:\n",
    "            raise StopIteration\n",
    "        self.index = self.index -1\n",
    "        return self.data[self.index]"
   ]
  },
  {
   "cell_type": "code",
   "execution_count": 16,
   "metadata": {},
   "outputs": [
    {
     "data": {
      "text/plain": [
       "<__main__.Reverse at 0x24467fdfe48>"
      ]
     },
     "execution_count": 16,
     "metadata": {},
     "output_type": "execute_result"
    }
   ],
   "source": [
    "rev = Reverse(\"spam\")\n",
    "iter(rev)"
   ]
  },
  {
   "cell_type": "code",
   "execution_count": 17,
   "metadata": {},
   "outputs": [
    {
     "name": "stdout",
     "output_type": "stream",
     "text": [
      "m\n",
      "a\n",
      "p\n",
      "s\n"
     ]
    }
   ],
   "source": [
    "for char in rev:\n",
    "    print(char)"
   ]
  },
  {
   "cell_type": "code",
   "execution_count": 18,
   "metadata": {},
   "outputs": [
    {
     "name": "stdout",
     "output_type": "stream",
     "text": [
      "f\n",
      "l\n",
      "o\n",
      "g\n"
     ]
    }
   ],
   "source": [
    "def reverse(data):\n",
    "    for index in range(len(data)-1, -1, -1):\n",
    "        yield data[index]\n",
    "        \n",
    "        \n",
    "for char in reverse('golf'):\n",
    "    print(char)"
   ]
  },
  {
   "cell_type": "code",
   "execution_count": 19,
   "metadata": {},
   "outputs": [
    {
     "data": {
      "text/plain": [
       "'d:\\\\program files\\\\python37'"
      ]
     },
     "execution_count": 19,
     "metadata": {},
     "output_type": "execute_result"
    }
   ],
   "source": [
    "import sys\n",
    "sys.prefix"
   ]
  },
  {
   "cell_type": "code",
   "execution_count": 20,
   "metadata": {},
   "outputs": [
    {
     "data": {
      "text/plain": [
       "'C:\\\\Users\\\\YWH\\\\AppData\\\\Roaming\\\\Python'"
      ]
     },
     "execution_count": 20,
     "metadata": {},
     "output_type": "execute_result"
    }
   ],
   "source": [
    "import site\n",
    "site.USER_BASE"
   ]
  },
  {
   "cell_type": "code",
   "execution_count": null,
   "metadata": {},
   "outputs": [],
   "source": [
    "# %load temp.py\n",
    "import urllib.request\n",
    "import chardet\n",
    "\n",
    "\n",
    "proxy_handler = urllib.request.ProxyHandler(proxies={'https': 'https://127.0.0.1:11824'})\n",
    "opener = urllib.request.build_opener(proxy_handler)\n",
    "page = opener.open('https://www.google.com')\n",
    "print(chardet.detect(page.read()))\n"
   ]
  },
  {
   "cell_type": "code",
   "execution_count": null,
   "metadata": {},
   "outputs": [],
   "source": [
    "# %load myfile.txt\n",
    "1507774426\t第二中学\n",
    "1376879125\t第二中学\n",
    "1827660993\t第二中学\n",
    "1507800609\t第二中学\n",
    "1507800609\t第二中学\n",
    "1877853750\t第二中学\n",
    "1336755734\t第二中学\n",
    "1336755734\t第二中学\n",
    "1877853750\t第二中学\n",
    "1587852088\t第二中学\n",
    "1376879125\t第二中学"
   ]
  },
  {
   "cell_type": "markdown",
   "metadata": {},
   "source": [
    "# 正则表达式\n",
    "匹配域名的正则表达式  \n",
    "[a-z]+://([a-z0-9-]+\\.)+[a-z]+"
   ]
  },
  {
   "cell_type": "code",
   "execution_count": 23,
   "metadata": {},
   "outputs": [
    {
     "name": "stdout",
     "output_type": "stream",
     "text": [
      "41\n"
     ]
    }
   ],
   "source": [
    "import re\n",
    "\n",
    "\n",
    "content = 'Hello 123 4567 World_This is a Regex Demo'\n",
    "print(len(content))"
   ]
  },
  {
   "cell_type": "code",
   "execution_count": 24,
   "metadata": {},
   "outputs": [
    {
     "name": "stdout",
     "output_type": "stream",
     "text": [
      "<re.Match object; span=(0, 25), match='Hello 123 4567 World_This'>\n"
     ]
    }
   ],
   "source": [
    "result = re.match('^Hello\\s\\d\\d\\d\\s\\d{4}\\s\\w{10}', content)\n",
    "print(result)"
   ]
  },
  {
   "cell_type": "markdown",
   "metadata": {},
   "source": [
    "Match.group()  \n",
    "匹配对象的group()方法会直接输出匹配的内容"
   ]
  },
  {
   "cell_type": "code",
   "execution_count": 25,
   "metadata": {},
   "outputs": [
    {
     "name": "stdout",
     "output_type": "stream",
     "text": [
      "Hello 123 4567 World_This\n"
     ]
    }
   ],
   "source": [
    "print(result.group())"
   ]
  },
  {
   "cell_type": "markdown",
   "metadata": {},
   "source": [
    "Match.span()  \n",
    "匹配对象的span()方法可以输出匹配的范围"
   ]
  },
  {
   "cell_type": "code",
   "execution_count": 26,
   "metadata": {},
   "outputs": [
    {
     "name": "stdout",
     "output_type": "stream",
     "text": [
      "(0, 25)\n"
     ]
    }
   ],
   "source": [
    "print(result.span())"
   ]
  },
  {
   "cell_type": "code",
   "execution_count": 27,
   "metadata": {},
   "outputs": [
    {
     "name": "stdout",
     "output_type": "stream",
     "text": [
      "<class 'builtin_function_or_method'>\n",
      "<class 'builtin_function_or_method'>\n"
     ]
    }
   ],
   "source": [
    "print(type(result.group))\n",
    "print(type(result.span))"
   ]
  },
  {
   "cell_type": "code",
   "execution_count": 28,
   "metadata": {},
   "outputs": [
    {
     "name": "stdout",
     "output_type": "stream",
     "text": [
      "<class 'str'>\n",
      "<class 'tuple'>\n"
     ]
    }
   ],
   "source": [
    "print(type(result.group()))\n",
    "print(type(result.span()))"
   ]
  },
  {
   "cell_type": "code",
   "execution_count": 30,
   "metadata": {},
   "outputs": [
    {
     "name": "stdout",
     "output_type": "stream",
     "text": [
      "<re.Match object; span=(0, 19), match='Hello 1234567 World'>\n",
      "Hello 1234567 World\n",
      "1234567\n",
      "(0, 19)\n"
     ]
    }
   ],
   "source": [
    "content = 'Hello 1234567 World_This is a Regex Demo'\n",
    "result = re.match('^Hello\\s(\\d+)\\sWorld', content)\n",
    "print(result)\n",
    "print(result.group())\n",
    "print(result.group(1))\n",
    "print(result.span())"
   ]
  },
  {
   "cell_type": "code",
   "execution_count": 31,
   "metadata": {},
   "outputs": [
    {
     "name": "stdout",
     "output_type": "stream",
     "text": [
      "<re.Match object; span=(0, 40), match='Hello 1234567 World_This is a Regex Demo'>\n",
      "Hello 1234567 World_This is a Regex Demo\n",
      "(0, 40)\n"
     ]
    }
   ],
   "source": [
    "result = re.match('^Hello.*Demo$', content)\n",
    "print(result)\n",
    "print(result.group())\n",
    "print(result.span())"
   ]
  },
  {
   "cell_type": "code",
   "execution_count": 32,
   "metadata": {},
   "outputs": [
    {
     "name": "stdout",
     "output_type": "stream",
     "text": [
      "<re.Match object; span=(0, 40), match='Hello 1234567 World_This is a Regex Demo'>\n",
      "Hello 1234567 World_This is a Regex Demo\n",
      "(0, 40)\n"
     ]
    }
   ],
   "source": [
    "result = re.match('^He.*(\\d+).*Demo$', content)\n",
    "print(result)\n",
    "print(result.group())\n",
    "print(result.span())"
   ]
  },
  {
   "cell_type": "code",
   "execution_count": 33,
   "metadata": {},
   "outputs": [
    {
     "name": "stdout",
     "output_type": "stream",
     "text": [
      "7\n"
     ]
    }
   ],
   "source": [
    "print(result.group(1))"
   ]
  },
  {
   "cell_type": "markdown",
   "metadata": {},
   "source": [
    "我们只得到了 7 这个数字，这是怎么回事呢？\n",
    "\n",
    "这里涉及了一个贪婪匹配与非贪婪匹配的问题。在贪婪匹配下，.* 会匹配尽可能多的字符。正则表达式中 .* 后面\n",
    "是 \\d+ ，也就是至少一个数字，并没有指定具体多少个数字，因此，.* 就尽可能匹配多的字符，这里就把 123456 匹配\n",
    "了，给 \\d+ 留下一个可满足条件的数字 7 ，最后得到的内容就只有数字 7 了。"
   ]
  },
  {
   "cell_type": "code",
   "execution_count": 34,
   "metadata": {},
   "outputs": [
    {
     "name": "stdout",
     "output_type": "stream",
     "text": [
      "<re.Match object; span=(0, 40), match='Hello 1234567 World_This is a Regex Demo'>\n",
      "1234567\n"
     ]
    }
   ],
   "source": [
    "result = re.match('^He.*?(\\d+).*Demo$', content)\n",
    "print(result)\n",
    "print(result.group(1))"
   ]
  },
  {
   "cell_type": "markdown",
   "metadata": {},
   "source": [
    "此时就可以成功获取 1234567 了。原因可想而知，贪婪匹配是尽可能匹配多的字符，非贪婪匹配就是尽可能匹配少的字符。\n",
    "当 .\\*? 匹配到 Hello 后面的空白字符时，再往后的字符就是数字了，而 \\d+ 恰好可以匹配，那么这里 .\\*? 就不再进行匹配，交给 \\d+ 去匹配后面的数字。所以这样 .\\*? 匹配了尽可能少的字符，\\d+ 的结果就是 1234567 了。"
   ]
  },
  {
   "cell_type": "markdown",
   "metadata": {},
   "source": [
    "注意，如果匹配的结果在字符串结尾，.\\*? 就有可能匹配不到任何内容了，因为它会匹配尽可能少的字符。例如:"
   ]
  },
  {
   "cell_type": "code",
   "execution_count": 36,
   "metadata": {},
   "outputs": [
    {
     "name": "stdout",
     "output_type": "stream",
     "text": [
      "result1 \n",
      "result2 kEraCN\n"
     ]
    }
   ],
   "source": [
    "import re\n",
    "\n",
    "\n",
    "content = 'http://weibo.com/comment/kEraCN'\n",
    "result1 = re.match('http.*?comment/(.*?)', content)\n",
    "result2 = re.match('http.*?comment/(.*)', content)\n",
    "print('result1', result1.group(1))\n",
    "print('result2', result2.group(1))"
   ]
  },
  {
   "cell_type": "code",
   "execution_count": 6,
   "metadata": {},
   "outputs": [
    {
     "name": "stdout",
     "output_type": "stream",
     "text": [
      "None\n"
     ]
    },
    {
     "ename": "AttributeError",
     "evalue": "'NoneType' object has no attribute 'group'",
     "output_type": "error",
     "traceback": [
      "\u001b[1;31m---------------------------------------------------------------------------\u001b[0m",
      "\u001b[1;31mAttributeError\u001b[0m                            Traceback (most recent call last)",
      "\u001b[1;32m<ipython-input-6-0622acaf8ccb>\u001b[0m in \u001b[0;36m<module>\u001b[1;34m\u001b[0m\n\u001b[0;32m      7\u001b[0m \u001b[0mresult\u001b[0m \u001b[1;33m=\u001b[0m \u001b[0mre\u001b[0m\u001b[1;33m.\u001b[0m\u001b[0mmatch\u001b[0m\u001b[1;33m(\u001b[0m\u001b[1;34m'^He.*?(\\d+).*?Demo$'\u001b[0m\u001b[1;33m,\u001b[0m \u001b[0mcontent\u001b[0m\u001b[1;33m)\u001b[0m\u001b[1;33m\u001b[0m\u001b[1;33m\u001b[0m\u001b[0m\n\u001b[0;32m      8\u001b[0m \u001b[0mprint\u001b[0m\u001b[1;33m(\u001b[0m\u001b[0mresult\u001b[0m\u001b[1;33m)\u001b[0m\u001b[1;33m\u001b[0m\u001b[1;33m\u001b[0m\u001b[0m\n\u001b[1;32m----> 9\u001b[1;33m \u001b[0mprint\u001b[0m\u001b[1;33m(\u001b[0m\u001b[0mresult\u001b[0m\u001b[1;33m.\u001b[0m\u001b[0mgroup\u001b[0m\u001b[1;33m(\u001b[0m\u001b[1;36m1\u001b[0m\u001b[1;33m)\u001b[0m\u001b[1;33m)\u001b[0m\u001b[1;33m\u001b[0m\u001b[1;33m\u001b[0m\u001b[0m\n\u001b[0m",
      "\u001b[1;31mAttributeError\u001b[0m: 'NoneType' object has no attribute 'group'"
     ]
    }
   ],
   "source": [
    "import re\n",
    "\n",
    "\n",
    "content = \"\"\"Hello 1234567 World_This \n",
    "is a Regex Demo\n",
    "\"\"\"\n",
    "result = re.match('^He.*?(\\d+).*?Demo$', content)\n",
    "print(result)\n",
    "print(result.group(1))"
   ]
  },
  {
   "cell_type": "code",
   "execution_count": 10,
   "metadata": {},
   "outputs": [
    {
     "name": "stdout",
     "output_type": "stream",
     "text": [
      "<re.Match object; span=(0, 13), match='Hello 1234567'>\n"
     ]
    }
   ],
   "source": [
    "result = re.match('^He.*?(\\d+)', content, re.S)\n",
    "print(result)"
   ]
  },
  {
   "cell_type": "code",
   "execution_count": 11,
   "metadata": {},
   "outputs": [
    {
     "name": "stdout",
     "output_type": "stream",
     "text": [
      "<re.Match object; span=(0, 41), match='Hello 1234567 World_This \\nis a Regex Demo'>\n"
     ]
    }
   ],
   "source": [
    "result = re.match('^He.*?(\\d+).*?Demo', content, re.S)\n",
    "print(result)"
   ]
  },
  {
   "cell_type": "code",
   "execution_count": 12,
   "metadata": {},
   "outputs": [
    {
     "name": "stdout",
     "output_type": "stream",
     "text": [
      "<re.Match object; span=(0, 41), match='Hello 1234567 World_This \\nis a Regex Demo'>\n",
      "1234567\n"
     ]
    }
   ],
   "source": [
    "result = re.match('^He.*?(\\d+).*?Demo$', content, re.S)\n",
    "print(result)\n",
    "print(result.group(1))"
   ]
  },
  {
   "cell_type": "code",
   "execution_count": 13,
   "metadata": {},
   "outputs": [
    {
     "name": "stdout",
     "output_type": "stream",
     "text": [
      "<re.Match object; span=(0, 17), match='(百度)www.baidu.com'>\n"
     ]
    }
   ],
   "source": [
    "import re\n",
    "\n",
    "\n",
    "content = '(百度)www.baidu.com'\n",
    "result = re.match('\\(百度\\)www\\.baidu\\.com', content)\n",
    "print(result)"
   ]
  },
  {
   "cell_type": "code",
   "execution_count": 14,
   "metadata": {},
   "outputs": [
    {
     "name": "stdout",
     "output_type": "stream",
     "text": [
      "None\n"
     ]
    }
   ],
   "source": [
    "import re\n",
    "\n",
    "\n",
    "content = 'Extra strings Hello 1234567 World_This is a Regex Demo Extra strings'\n",
    "result = re.match('Hello.*?(\\d+).*?Demo', content)\n",
    "print(result)"
   ]
  },
  {
   "cell_type": "code",
   "execution_count": 15,
   "metadata": {},
   "outputs": [
    {
     "name": "stdout",
     "output_type": "stream",
     "text": [
      "<re.Match object; span=(14, 54), match='Hello 1234567 World_This is a Regex Demo'>\n"
     ]
    }
   ],
   "source": [
    "result = re.search('Hello.*?(\\d+).*?Demo', content)\n",
    "print(result)"
   ]
  },
  {
   "cell_type": "code",
   "execution_count": 26,
   "metadata": {},
   "outputs": [
    {
     "name": "stdout",
     "output_type": "stream",
     "text": [
      "<re.Match object; span=(240, 286), match='active\">\\n<a href=\"/3.mp3\" singer=\"齐秦\">往事随风</a>'>\n",
      "齐秦\n",
      "往事随风\n"
     ]
    }
   ],
   "source": [
    "html = '''<div id=\"songs-list\">\n",
    "<h2 class=\"title\">经典老歌</h2>\n",
    "<p class=\"introduction\">\n",
    "经典老歌列表\n",
    "</p>\n",
    "<ul id=\"list\" class=\"list-group\">\n",
    "<li data-view=\"2\">一路上有你</li>\n",
    "<li data-view=\"7\">\n",
    "<a href=\"/2.mp3\" singer=\"任贤齐\">沧海一声笑</a>\n",
    "</li>\n",
    "<li data-view=\"4\" class=\"active\">\n",
    "<a href=\"/3.mp3\" singer=\"齐秦\">往事随风</a>\n",
    "</li>\n",
    "<li data-view=\"6\"><a href=\"/4.mp3\" singer=\"beyond\">光辉岁月</a></li>\n",
    "<li data-view=\"5\"><a href=\"/5.mp3\" singer=\"陈慧琳\">记事本</a></li>\n",
    "<li data-view=\"5\">\n",
    "<a href=\"/6.mp3\" singer=\"邓丽君\">但愿人长久</a>\n",
    "</li>\n",
    "</ul>\n",
    "</div>'''\n",
    "result = re.search('active.*?singer=\"(.*?)\">(.*?)</a>', html, re.S)\n",
    "print(result)\n",
    "print(result.group(1))\n",
    "print(result.group(2))"
   ]
  },
  {
   "cell_type": "code",
   "execution_count": 27,
   "metadata": {},
   "outputs": [
    {
     "name": "stdout",
     "output_type": "stream",
     "text": [
      "任贤齐 沧海一声笑\n"
     ]
    }
   ],
   "source": [
    "result = re.search('.*?singer=\"(.*?)\">(.*?)</a>', html, re.S)\n",
    "if result:\n",
    "    print(result.group(1), result.group(2))"
   ]
  },
  {
   "cell_type": "code",
   "execution_count": 29,
   "metadata": {},
   "outputs": [
    {
     "name": "stdout",
     "output_type": "stream",
     "text": [
      "任贤齐 沧海一声笑\n"
     ]
    }
   ],
   "source": [
    "result = re.search('.*?singer=\"(.*?)\">(.*?)</a>', html)\n",
    "if result:\n",
    "    print(result.group(1), result.group(2))"
   ]
  },
  {
   "cell_type": "code",
   "execution_count": 30,
   "metadata": {},
   "outputs": [
    {
     "name": "stdout",
     "output_type": "stream",
     "text": [
      "beyond 光辉岁月\n"
     ]
    }
   ],
   "source": [
    "result = re.search('li.*?singer=\"(.*?)\">(.*?)</a>', html)\n",
    "if result:\n",
    "    print(result.group(1), result.group(2))"
   ]
  },
  {
   "cell_type": "code",
   "execution_count": 33,
   "metadata": {},
   "outputs": [
    {
     "name": "stdout",
     "output_type": "stream",
     "text": [
      "[('任贤齐', '沧海一声笑'), ('齐秦', '往事随风'), ('beyond', '光辉岁月'), ('陈慧琳', '记事本'), ('邓丽君', '但愿人长久')]\n"
     ]
    }
   ],
   "source": [
    "results = re.findall('li.*?singer=\"(.*?)\">(.*?)</a>', html, re.S)\n",
    "print(results)"
   ]
  },
  {
   "cell_type": "code",
   "execution_count": 34,
   "metadata": {},
   "outputs": [
    {
     "name": "stdout",
     "output_type": "stream",
     "text": [
      "[('/2.mp3', '任贤齐', '沧海一声笑'), ('/3.mp3', '齐秦', '往事随风'), ('/4.mp3', 'beyond', '光辉岁月'), ('/5.mp3', '陈慧琳', '记事本'), ('/6.mp3', '邓丽君', '但愿人长久')]\n"
     ]
    }
   ],
   "source": [
    "results = re.findall('li.*?href=\"(.*?)\".*?singer=\"(.*?)\">(.*?)</a>', html, re.S)\n",
    "print(results)"
   ]
  },
  {
   "cell_type": "code",
   "execution_count": 35,
   "metadata": {},
   "outputs": [
    {
     "name": "stdout",
     "output_type": "stream",
     "text": [
      "<class 'list'>\n"
     ]
    }
   ],
   "source": [
    "print(type(results))"
   ]
  },
  {
   "cell_type": "code",
   "execution_count": 36,
   "metadata": {},
   "outputs": [
    {
     "name": "stdout",
     "output_type": "stream",
     "text": [
      "('/2.mp3', '任贤齐', '沧海一声笑')\n",
      "/2.mp3 任贤齐 沧海一声笑\n",
      "('/3.mp3', '齐秦', '往事随风')\n",
      "/3.mp3 齐秦 往事随风\n",
      "('/4.mp3', 'beyond', '光辉岁月')\n",
      "/4.mp3 beyond 光辉岁月\n",
      "('/5.mp3', '陈慧琳', '记事本')\n",
      "/5.mp3 陈慧琳 记事本\n",
      "('/6.mp3', '邓丽君', '但愿人长久')\n",
      "/6.mp3 邓丽君 但愿人长久\n"
     ]
    }
   ],
   "source": [
    "for result in results:\n",
    "    print(result)\n",
    "    print(result[0], result[1], result[2])"
   ]
  },
  {
   "cell_type": "code",
   "execution_count": 37,
   "metadata": {},
   "outputs": [
    {
     "name": "stdout",
     "output_type": "stream",
     "text": [
      "aKyroiRixLg\n"
     ]
    }
   ],
   "source": [
    "import re\n",
    "\n",
    "\n",
    "content = '54aK54yr5oiR54ix5L2g'\n",
    "content = re.sub('\\d+', '', content)\n",
    "print(content)"
   ]
  },
  {
   "cell_type": "code",
   "execution_count": 42,
   "metadata": {},
   "outputs": [
    {
     "name": "stdout",
     "output_type": "stream",
     "text": [
      "['一路上有你', '沧海一声笑', '往事随风', '光辉岁月', '记事本', '但愿人长久']\n"
     ]
    }
   ],
   "source": [
    "results = re.findall('<li.*?>(\\w+).*?</li>', html, re.S)\n",
    "print(results)"
   ]
  },
  {
   "cell_type": "code",
   "execution_count": 41,
   "metadata": {},
   "outputs": [
    {
     "name": "stdout",
     "output_type": "stream",
     "text": [
      "['一路上有你', '沧海一声笑', '往事随风', '光辉岁月', '记事本', '但愿人长久']\n"
     ]
    }
   ],
   "source": [
    "results = re.findall('<li.*?>(\\w+).*?</li>', html, re.S)\n",
    "print(results)"
   ]
  },
  {
   "cell_type": "code",
   "execution_count": 43,
   "metadata": {},
   "outputs": [
    {
     "name": "stdout",
     "output_type": "stream",
     "text": [
      "一路上有你\n",
      "沧海一声笑\n",
      "往事随风\n",
      "光辉岁月\n",
      "记事本\n",
      "但愿人长久\n"
     ]
    }
   ],
   "source": [
    "for result in results:\n",
    "    print(result)"
   ]
  },
  {
   "cell_type": "code",
   "execution_count": 44,
   "metadata": {},
   "outputs": [
    {
     "name": "stdout",
     "output_type": "stream",
     "text": [
      "['一路上有你', '沧海一声笑', '往事随风', '光辉岁月', '记事本', '但愿人长久']\n"
     ]
    }
   ],
   "source": [
    "results = re.findall('<li.*?>(\\w+).*?</li>', html, re.S)\n",
    "print(results)"
   ]
  },
  {
   "cell_type": "code",
   "execution_count": 47,
   "metadata": {},
   "outputs": [
    {
     "name": "stdout",
     "output_type": "stream",
     "text": [
      "[(' data-view=\"7\">\\n<a href=\"/2.mp3\" singer=\"任贤齐\">', '沧海一声笑')]\n",
      "-----------------------\n",
      "沧海一声笑\n"
     ]
    }
   ],
   "source": [
    "html2 = '''<li data-view=\"7\">\n",
    "<a href=\"/2.mp3\" singer=\"任贤齐\">沧海一声笑</a>\n",
    "</li>'''\n",
    "results = re.findall('<li(.*?)(\\w+)</a>', html2, re.S)\n",
    "print(results)\n",
    "print('-----------------------')\n",
    "for result in results:\n",
    "    print(result[1])"
   ]
  },
  {
   "cell_type": "code",
   "execution_count": 49,
   "metadata": {},
   "outputs": [
    {
     "name": "stdout",
     "output_type": "stream",
     "text": [
      "[('', '一路上有你', ''), ('<a href=\"/2.mp3\" singer=\"任贤齐\">', '沧海一声笑', '</a>'), ('<a href=\"/3.mp3\" singer=\"齐秦\">', '往事随风', '</a>'), ('<a href=\"/4.mp3\" singer=\"beyond\">', '光辉岁月', '</a>'), ('<a href=\"/5.mp3\" singer=\"陈慧琳\">', '记事本', '</a>'), ('<a href=\"/6.mp3\" singer=\"邓丽君\">', '但愿人长久', '</a>')]\n"
     ]
    }
   ],
   "source": [
    "results = re.findall('<li.*?>\\s*?(<a.*?>)?(\\w+)(</a>)?\\s*?</li>', html, re.S)\n",
    "print(results)"
   ]
  },
  {
   "cell_type": "code",
   "execution_count": 50,
   "metadata": {},
   "outputs": [
    {
     "name": "stdout",
     "output_type": "stream",
     "text": [
      "一路上有你\n",
      "沧海一声笑\n",
      "往事随风\n",
      "光辉岁月\n",
      "记事本\n",
      "但愿人长久\n"
     ]
    }
   ],
   "source": [
    "for result in results:\n",
    "    print(result[1])"
   ]
  },
  {
   "cell_type": "code",
   "execution_count": 51,
   "metadata": {},
   "outputs": [
    {
     "name": "stdout",
     "output_type": "stream",
     "text": [
      "['</a></li>']\n"
     ]
    }
   ],
   "source": [
    "html3 = '''</a></li>'''\n",
    "results = re.findall('</a>\\s*?</li>', html3, re.S)\n",
    "print(results)"
   ]
  },
  {
   "cell_type": "code",
   "execution_count": 52,
   "metadata": {},
   "outputs": [
    {
     "name": "stdout",
     "output_type": "stream",
     "text": [
      "['']\n"
     ]
    }
   ],
   "source": [
    "results = re.findall('</a>(\\s*?)</li>', html3, re.S)\n",
    "print(results)"
   ]
  },
  {
   "cell_type": "code",
   "execution_count": 53,
   "metadata": {},
   "outputs": [
    {
     "name": "stdout",
     "output_type": "stream",
     "text": [
      "[('', '一路上有你', ''), ('<a href=\"/2.mp3\" singer=\"任贤齐\">', '沧海一声笑', '</a>'), ('<a href=\"/3.mp3\" singer=\"齐秦\">', '往事随风', '</a>'), ('<a href=\"/4.mp3\" singer=\"beyond\">', '光辉岁月', '</a>'), ('<a href=\"/5.mp3\" singer=\"陈慧琳\">', '记事本', '</a>'), ('<a href=\"/6.mp3\" singer=\"邓丽君\">', '但愿人长久', '</a>')]\n"
     ]
    }
   ],
   "source": [
    "results = re.findall('<li.*?>\\s*(<a.*?>)?(\\w+)(</a>)?\\s*</li>', html, re.S)\n",
    "print(results)"
   ]
  },
  {
   "cell_type": "code",
   "execution_count": 54,
   "metadata": {},
   "outputs": [
    {
     "name": "stdout",
     "output_type": "stream",
     "text": [
      "一路上有你\n",
      "沧海一声笑\n",
      "往事随风\n",
      "光辉岁月\n",
      "记事本\n",
      "但愿人长久\n"
     ]
    }
   ],
   "source": [
    "for result in results:\n",
    "    print(result[1])"
   ]
  },
  {
   "cell_type": "code",
   "execution_count": 55,
   "metadata": {},
   "outputs": [
    {
     "name": "stdout",
     "output_type": "stream",
     "text": [
      "<div id=\"songs-list\">\n",
      "<h2 class=\"title\">经典老歌</h2>\n",
      "<p class=\"introduction\">\n",
      "经典老歌列表\n",
      "</p>\n",
      "<ul id=\"list\" class=\"list-group\">\n",
      "<li data-view=\"2\">一路上有你</li>\n",
      "<li data-view=\"7\">\n",
      "沧海一声笑\n",
      "</li>\n",
      "<li data-view=\"4\" class=\"active\">\n",
      "往事随风\n",
      "</li>\n",
      "<li data-view=\"6\">光辉岁月</li>\n",
      "<li data-view=\"5\">记事本</li>\n",
      "<li data-view=\"5\">\n",
      "但愿人长久\n",
      "</li>\n",
      "</ul>\n",
      "</div>\n"
     ]
    }
   ],
   "source": [
    "html2 = re.sub('<a.*?>|</a>', '', html)\n",
    "print(html2)"
   ]
  },
  {
   "cell_type": "code",
   "execution_count": 56,
   "metadata": {},
   "outputs": [
    {
     "name": "stdout",
     "output_type": "stream",
     "text": [
      "['一路上有你', '\\n沧海一声笑\\n', '\\n往事随风\\n', '光辉岁月', '记事本', '\\n但愿人长久\\n']\n"
     ]
    }
   ],
   "source": [
    "results = re.findall('<li.*?>(.*?)</li>', html2, re.S)\n",
    "print(results)"
   ]
  },
  {
   "cell_type": "code",
   "execution_count": 59,
   "metadata": {},
   "outputs": [
    {
     "name": "stdout",
     "output_type": "stream",
     "text": [
      "一路上有你\n",
      "沧海一声笑\n",
      "往事随风\n",
      "光辉岁月\n",
      "记事本\n",
      "但愿人长久\n"
     ]
    }
   ],
   "source": [
    "for result in results:\n",
    "    print(result.strip())"
   ]
  },
  {
   "cell_type": "code",
   "execution_count": 58,
   "metadata": {},
   "outputs": [
    {
     "name": "stdout",
     "output_type": "stream",
     "text": [
      "一路上有你\n",
      "沧海一声笑\n",
      "往事随风\n",
      "光辉岁月\n",
      "记事本\n",
      "但愿人长久\n"
     ]
    }
   ],
   "source": [
    "for result in results:\n",
    "    print(result.split()[0])"
   ]
  },
  {
   "cell_type": "code",
   "execution_count": 60,
   "metadata": {},
   "outputs": [
    {
     "name": "stdout",
     "output_type": "stream",
     "text": [
      "2016-12-15  2016-12-17  2016-12-22 \n"
     ]
    }
   ],
   "source": [
    "import re\n",
    "\n",
    "\n",
    "content1 = '2016-12-15 12:00'\n",
    "content2 = '2016-12-17 12:55'\n",
    "content3 = '2016-12-22 13:21'\n",
    "pattern = re.compile('\\d{2}:\\d{2}')\n",
    "result1 = re.sub(pattern, '', content1)\n",
    "result2 = re.sub(pattern, '', content2)\n",
    "result3 = re.sub(pattern, '', content3)\n",
    "print(result1, result2, result3)"
   ]
  },
  {
   "cell_type": "code",
   "execution_count": 2,
   "metadata": {},
   "outputs": [
    {
     "name": "stdout",
     "output_type": "stream",
     "text": [
      "Help on function get in module requests.api:\n",
      "\n",
      "get(url, params=None, **kwargs)\n",
      "    Sends a GET request.\n",
      "    \n",
      "    :param url: URL for the new :class:`Request` object.\n",
      "    :param params: (optional) Dictionary, list of tuples or bytes to send\n",
      "        in the body of the :class:`Request`.\n",
      "    :param \\*\\*kwargs: Optional arguments that ``request`` takes.\n",
      "    :return: :class:`Response <Response>` object\n",
      "    :rtype: requests.Response\n",
      "\n"
     ]
    }
   ],
   "source": [
    "import requests\n",
    "\n",
    "\n",
    "help(requests.get)"
   ]
  },
  {
   "cell_type": "code",
   "execution_count": 3,
   "metadata": {},
   "outputs": [
    {
     "name": "stdout",
     "output_type": "stream",
     "text": [
      "<!DOCTYPE html>\n",
      "<html><head>    <meta charset=\"utf-8\">\n",
      "    <meta content=\"width=device-width, initial-scale=1.0, maximum-scale=1.0, user-scalable=no\" name=\"viewport\" />\n",
      "    <meta name=\"renderer\" content=\"webkit\" />\n",
      "    <meta http-equiv=\"X-UA-Compatible\" content=\"IE=edge\" />\n",
      "    <style>\n",
      "        .container {\n",
      "            width: 998px;\n",
      "            margin: 0 auto;\n",
      "        }\n",
      "        .header {\n",
      "            height: 70px;\n",
      "            font-size: 28px;\n",
      "            color: #999999;\n",
      "            border-bottom: 3px solid #1db9aa;\n",
      "            overflow: hidden;\n",
      "            display: none;\n",
      "        }\n",
      "        .logo {\n",
      "            margin-top: 8px;\n",
      "            margin-left: 1px;\n",
      "            height: 54px;\n",
      "            line-height: 54px;\n",
      "            padding-left: 102px;\n",
      "            background: url('data:image/png;base64,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') no-repeat;\n",
      "            background-size: 82px 54px;\n",
      "        }\n",
      "        .dpHeader {\n",
      "            height: 70px;\n",
      "            font-size: 28px;\n",
      "            color: #999999;\n",
      "            border-bottom: 3px solid #ff6633;\n",
      "            overflow: hidden;\n",
      "            display: none;\n",
      "        }\n",
      "        .dpLogo {\n",
      "            margin-top: 16px;\n",
      "            margin-left: 1px;\n",
      "            line-height: 44px;\n",
      "            padding-left: 155px;\n",
      "            background: url('data:image/png;base64,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') no-repeat;\n",
      "            background-size: 144px 40px;\n",
      "        }\n",
      "        .content {\n",
      "            min-height: 335px;\n",
      "            position: relative;\n",
      "        }\n",
      "        .footer {\n",
      "            font-size: 12px;\n",
      "            color: #999999;\n",
      "            padding: 13px 8px;\n",
      "            border-top: 1px solid #e1e1e1;\n",
      "            text-align: center;\n",
      "            display: none;\n",
      "        }\n",
      "        .root {\n",
      "            height: 100%;\n",
      "        }\n",
      "    </style>\n",
      "    <title>验证中心</title>\n",
      "    <link rel=\"dns-prefetch\" href=\"//awp-assets.meituan.net\" />\n",
      "    <link rel=\"dns-prefetch\" href=\"//verify.meituan.com\" />\n",
      "    <link rel=\"dns-prefetch\" href=\"//static.meituan.net\" />\n",
      "    <script>\n",
      "        (function(f){function e(a,b){this.seed instanceof e?this.seed.init(a,b):this instanceof e?this.init(a,b):this.seed=new e(a,b);return this.seed}function x(a){this.appnm=a;this.sendQueue={}}function n(a,b){this.batchs=[];this.project=\"Yoda-FE\";this.catVersion=1;this.origin=window.location.origin;this.unionId=a||\"\";this.env=\"pro\"===b?\"pro\":\"dev\";this.host={pro:\"//catfront.dianping.com\",dev:\"//catfront.51ping.com\"}[this.env];var c=this;setTimeout(function(){c.sendBatch()},500)}function F(a,b,c){if(\"object\"===\n",
      "typeof b){var d=[],p;for(p in b)d.push(encodeURIComponent(p)+\"=\"+encodeURIComponent(b[p]));b=d.join(\"&\")}d={\"Content-Type\":\"application/x-www-form-urlencoded\"};try{var C=Date.now(),h=new f.XMLHttpRequest;if(\"withCredentials\"in h){h.open(\"post\",a,!0);if(d)for(var g in d)d.hasOwnProperty(g)&&h.setRequestHeader(g,d[g]);h.onload=function(){4===h.readyState&&(200<=h.status&&300>h.status||304===h.status)&&(c(h.responseText),h=null)}}else if(\"undefined\"!==typeof f.XDomainRequest){h=new f.XDomainRequest;\n",
      "var e=0<a.indexOf(\"?\")?\"&\"+b:\"?\"+b;h.open(\"get\",a+e);h.onload=function(){c(h.responseText);h=null}}else throw Error(\"\\u79cd\\u5b50\\u4ee3\\u7801\\u521b\\u5efaXMLHttpRequest\\u5bf9\\u8c61\\u5931\\u8d25\");h.onerror=function(a){h.abort();throw Error(\"XMLHttpRequest\\u8bf7\\u6c42\\u670d\\u52a1\\u5668\\u53d1\\u751f\\u5f02\\u5e38\"+a.message);};h.send(b)}catch(G){throw window.Yoda.CAT.postBatch(a,0,0,Date.now()-C,\"500|0\",\"ajax\"),window.Yoda.CAT.sendBatch(),window.Yoda.CAT.sendLog(a,\"ajaxError\",\"[\\u8bf7\\u6c42\\u5f02\\u5e38]\",\n",
      "G.message),Error(\"\\u8bf7\\u6c42\\u670d\\u52a1\\u5668\\u53d1\\u751f\\u5f02\\u5e38: \"+G.message);}}function H(a,b){for(var c in b)b.hasOwnProperty(c)&&b[c]&&(a[c]=b[c]);return a}var l=document,q=/mobile|iPhone|Android|htc|Lenovo|huawei/i.test(f.navigator.userAgent.toString());f.Yoda={};f.YODA_CONFIG={};var y=new x(\"yoda_seed\");f.Yoda.LX=y;var z={pro:\"https://verify.meituan.com\",staging:\"//verify-test.meituan.com\",dev:\"//verify.inf.dev.sankuai.com\",test:\"//verify.inf.test.sankuai.com\",ppe:\"//verify.inf.ppe.sankuai.com\",\n",
      "development:\"//verify-test.meituan.com\"},E=\"\",r=\"\",t=\"\",u=\"\",v=\"\",g=\"\",D=\"\",w=\"\",A=\"\",B=\"\",k=\"\",m=\"\";e.prototype.init=function(a,b){E=Date.now();t=r=!1;v=u=!0;m=k=B=A=w=D=g=\"\";this.env=b||\"pro\";var c=new n(a.requestCode,this.env);f.Yoda.CAT=c;this.options=a;q=void 0===a.isMobile?q:a.isMobile;this.feVersion=\"1.4.0\";this.source=q?3:1;this.getConf(this.options.requestCode)};e.prototype.getConf=function(a){var b=z[this.env]+\"/v2/ext_api/page_data\";a={requestCode:a,feVersion:this.feVersion,source:this.source};\n",
      "var c=this,d=Date.now();F(b,a,function(a){a=JSON.parse(a);var f=Date.now()-d,h={kvs:{pagedata:[f],TTFB:[f]},tags:{action:a.data?a.data.action:\"\",type:a.data?a.data.type:\"\",result:a.status?a.status:\"\"},ts:Date.now()};window.Yoda.CAT.metric(h);window.Yoda.CAT.postBatch(b,0,0,f,\"200|\"+a.status,\"ajax\");c.confBack(a)})};e.prototype.confBack=function(a){if(1===a.status&&a.data){var b=H(a.data,this.options);this.config=b;this._yoda_config||(this._yoda_config=JSON.stringify(b),this._yoda_options=JSON.stringify(this.options),\n",
      "this._yoda_listIndex=a.data.defaultIndex||0,this._yoda_riskLevel=this.config.riskLevel);this.config.category=this.config.isHideSwitch?\"MULTIPLE\":this.config.category;b=a.data.yodaVersion;a=a.data.verifyMethodVersion;this.filter();this.ensureVersion(b,a)}else f.Yoda.CAT.sendLog(z[this.env]+\"/v2/ext_api/page_data\",\"jsError\",\"[dataException]:\\u8bf7\\u6c42pageData\\u63a5\\u53e3\\u672a\\u6b63\\u5e38\\u8fd4\\u56de\\u6570\\u636e, \\u73af\\u5883\\u4fe1\\u606f\\u4e3a:\"+this.source,JSON.stringify(a)),this.handleError(a)};\n",
      "e.prototype.ensureVersion=function(a,b){a=JSON.parse(a);b=JSON.parse(b);a&&(m=q?a.i:a.d);try{var c=JSON.parse(this.config.riskLevelInfo)[Number(D)];g=JSON.parse(c).name;(b=JSON.parse(b[g]))&&(k=q?b.i:b.d);this.isNeedLoad();this.getSourcePath();this.loadSource()}catch(d){f.Yoda.CAT.sendLog(z[this.env]+\"/v2/ext_api/page_data\",\"jsError\",\"[dataException]:\\u89e3\\u6790pageData\\u63a5\\u53e3\\u6570\\u636e\\u5931\\u8d25, \\u73af\\u5883\\u4fe1\\u606f\\u4e3a:\"+this.source,d.message),this.handleError(\"\\u521d\\u59cb\\u5316\\u5931\\u8d25\")}};\n",
      "e.prototype.isNeedLoad=function(){var a=l.getElementsByTagName(\"script\"),b=a.length,c=0;if(m&&k&&b)for(;c<b;c++){var d=a[c].src;~d.indexOf(m)&&(u=!1,t=!0);~d.indexOf(k)&&(v=!1,r=!0);if(!u&&!v)break}};e.prototype.loadSource=function(){var a=this,b=function(){function b(b){return function(c,d,g){var h=Date.now(),e=l.createElement(b),p=l.head,C=\"src\",k=\"link\"===b?\"css\":\"js\";e.onload=function(){e=e.onload=e.onerror=e.onreadystatechange=null;var p=Date.now()-h;\"script\"===b&&y.report(d,\"duration\",{custom:{duration:p,\n",
      "result:\"download\",requestCode:a.options.requestCode}});f.Yoda.CAT.postBatch(c,0,0,p,\"200|\",k);\"function\"===typeof g&&g();\"pro\"!==a.env&&(f.YODA_CONFIG.__API_URL__=z[a.env],a.setDomain(z[a.env]))};e.onerror=function(){a.handleError(\"\\u52a0\\u8f7d\\u5931\\u8d25\");var b=Date.now()-h;f.Yoda.CAT.postBatch(c,0,0,b,\"500|\",k);y.report(d,\"downloadFailed\");f.Yoda.CAT.sendLog(c,\"resourceError\",\"downloadFailed\",\"[\\u4e0b\\u8f7djs\\u5931\\u8d25]:\"+c)};switch(b){case \"script\":e.type=\"text/javascript\";e.async=!1;e.defer=\n",
      "!0;break;case \"link\":e.type=\"text/css\",e.rel=\"stylesheet\",C=\"href\"}e[C]=c;p.appendChild(e)}}return{css:b(\"link\"),js:b(\"script\")}}();u&&(y.report(\"yoda\",\"req\"),b.js(A,\"yoda\",function(){t=!t;a.moduleInit()}));if(v)if(y.report(g,\"req\"),\"withCredentials\"in new f.XMLHttpRequest)b.js(w,g,function(){r=!0;a.moduleInit()});else if(\"undefined\"!==typeof XDomainRequest)var c=window.setInterval(function(){void 0!==window.Yoda.Ballade&&b.js(w,g,function(){r=!0;a.moduleInit();window.clearInterval(c)})},1E3);u||\n",
      "v||this.moduleInit();B&&b.css(B)};e.prototype.moduleInit=function(){if(r&&t){this[g]={};this.config.yodaInitTime=E;if(\"function\"===typeof f.Yoda[g])return this[g].initModule=new f.Yoda[g](this.config),!1;var a=l.createElement(\"script\");a.type=\"text/javascript\";a.appendChild(l.createTextNode(this.moduleText));l.body.appendChild(a);this[g].initModule=new f.Yoda[g](this.config)}};e.prototype.getSourcePath=function(){var a=q?\"i\":\"d\";m=m?m+\".\":\"\";k=k?k+\".\":\"\";\"development\"===this.env?(a=\"i\"===a?\"mobile\":\n",
      "\"desktop\",w=\"/modules/\"+g+\"/\"+a+\"/\"+g+\".js\",B=\"/modules/\"+g+\"/\"+a+\"/\"+g+\".css\",A=\"./yoda-\"+a+\".js\"):(A=\"https://static.meituan.net/bs/yoda-static/file:file/\"+a+\"/js/yoda.\"+m+\"js\",w=\"https://static.meituan.net/bs/yoda-static/file:file/\"+a+\"/js/\"+g+\".\"+k+\"js\")};e.prototype.handleError=function(a,b){\"string\"!==typeof a&&(a=(b=a)&&b.error&&b.error.message);var c=this.options.failCallbackFun;if(c&&\"function\"===typeof f[c]){var d={code:\"121333\",requestCode:this.options.requestCode};setTimeout(function(){f[c](d)},\n",
      "1E3)}var e=this.options.failCallbackUrl;e&&setTimeout(function(){var a=document.createElement(\"a\");a.href=e;f.location.href=(a.origin||a.protocol+\"//\"+a.host)+a.pathname+a.search+a.hash},1E3);this.notifyErr(a)};e.prototype.notifyErr=function(a){var b=l.getElementById(this.options.root);if(q){var c=l.createElement(\"div\");var d=l.createElement(\"div\");d.innerHTML=a;c.appendChild(d)}else c=l.createElement(\"div\"),c.innerHTML=a;b.appendChild(c)};e.prototype.setDomain=function(a){setTimeout(function(){window.YODA_CONFIG.__API_URL__=\n",
      "a},0)};e.prototype.resetVariable=function(a){E=Date.now();r=a.moduleLoaded||!1;t=a.yodaLoaded||!1;u=a.yodaNeedLoad||!0;v=a.moduleNeedLoad||!0;g=a.MODULE_NAME||\"\";w=a.MODULE_URL||\"\";A=a.YODA_URL||\"\";B=a.CSS_URL||\"\";k=a.MODULE_VERSION||\"\";m=a.YODA_VERSION||\"\"};e.prototype.filter=function(){var a=this.config.riskLevel.split(/[,|]/g);if(a[0]&&1===a.length)D=this.config.riskLevel;else{a=JSON.parse(this.config.riskLevelInfo);for(var b=JSON.parse(this.config.verifyMethodVersion),c=this.config.riskLevel.split(\"|\"),\n",
      "d=this.config.defaultIndex||0;d<c.length;d++){for(var e=c[d].split(\",\"),f=0,h=1;f<e.length;f++){var g=JSON.parse(a[Number(e[f])]);if(!g.name||!b[g.name]){h=0;break}}if(h){D=e[0];this._yoda_listIndex=d;break}}}};x.prototype.report=function(a,b,c){if(\"pro\"!==window.seed.env)return!1;var d={appnm:this.appnm,channel:\"techportal\",ct:q?\"i\":\"www\",ch:\"web\",sc:window.screen.width+\"*\"+window.screen.height,ua:window.navigator.userAgent};a={nm:\"MV\",tm:Date.now(),nt:0,isauto:6,val_cid:a,val_bid:b,val_lab:c};this.addToSendQueue(d,\n",
      "a)};x.prototype.addToSendQueue=function(a,b){var c;(c=this.sendQueue[a.channel])?c=c.data:(c=[],this.sendQueue[a.channel]={conf:a,data:c});c.push(b);var d=this;setTimeout(function(){d.send()},0)};x.prototype.send=function(){var a=[];for(d in this.sendQueue)if(this.sendQueue.hasOwnProperty(d)){var b=this.sendQueue[d];var c=b.conf;(b=H(c,{appnm:c.appnm,category:\"data_sdk_\"+d,evs:b.data}))&&a.push(b)}if(0<a.length){var d=\"https://report.meituan.com/?_lxskd_rnd=\"+Date.now()+Math.ceil(1E3*Math.random());\n",
      "this.sendStatic(d,{data:a})}this.sendQueue={}};x.prototype.sendStatic=function(a,b){if(0===b.data.length)return!1;try{var c=new f.XMLHttpRequest;if(\"withCredentials\"in c)c.open(\"POST\",a,!0);else if(\"undefined\"!==typeof f.XDomainRequest)c=new f.XDomainRequest,c.open(\"POST\",a);else throw Error(\"\\u7075\\u7280\\u521b\\u5efaXHR\\u5bf9\\u8c61\\u5931\\u8d25\");c.onerror=function(){c.abort();c=null};c.send(JSON.stringify(b.data))}catch(d){throw Error(\"\\u7075\\u7280XHR\\u8bf7\\u6c42\\u670d\\u52a1\\u5668\\u53d1\\u751f\\u5f02\\u5e38: \"+\n",
      "d.message);}return!0};n.prototype.postBatch=function(a,b,c,d,e,f){a=a+\"\\t\"+Date.now()+\"\\t\"+b+\"\\t\"+c+\"\\t\"+d+\"\\t\"+this.project+\"\\t\"+this.origin+\"\\t\"+e+\"\\t\\t\\t\\t\"+f;this.batchs.push(a)};n.prototype.sendBatch=function(){if(0<this.batchs.length){var a=this.host+\"/api/batch?v=\"+this.catVersion,b={c:\"S\\t\\t\\t\\t\\t\\t\"+this.unionId+\"\\n\"+this.batchs.join(\"\\n\")};this.sendStatic(a,b);this.batchs=[]}};n.prototype.speed=function(a,b){var c=\"&project=\"+this.project+\"&pageurl=\"+window.location.href+\"&unionId=\"+this.unionId+\n",
      "\"&timestamp=\"+Date.now()+\"&speed=\"+a+\"&customspeed=\"+b;c=this.host+\"/api/speed?v=\"+this.catVersion+c;var d=this,e=new f.XMLHttpRequest;e.open(\"GET\",c);e.onerror=function(){d.speed(a,b);e.abort();e=null};e.send()};n.prototype.sendLog=function(a,b,c,d){a=[{project:this.project,pageUrl:window.location.origin,resourceUrl:a||\"\",category:b,sec_category:c,level:\"error\",unionId:this.unionId,timestamp:Date.now(),content:d||\"\"}];this.sendStatic(this.host+\"/api/log?v=\"+this.catVersion,{c:JSON.stringify(a)})};\n",
      "n.prototype.metric=function(a){this.sendStatic(this.host+\"/api/metric?v=\"+this.catVersion+\"&p=\"+this.project,{data:JSON.stringify(a)})};n.prototype.sendStatic=function(a,b){F(a,b,function(){});return!0};n.prototype[\"byte\"]=function(a){var b=0,c=a.length;if(a){for(var d=0;d<c;d++)255<a.charCodeAt(d)?b+=2:b++;return b}return 0};f.YodaSeed=e})(window);\n",
      "    </script>\n",
      "</head> <body>    <div class='container'>\n",
      "        <div class='header' id='header'>\n",
      "            <div class='logo' id='logo'>验证中心</div>\n",
      "        </div>\n",
      "        <div class='content'>\n",
      "            <div class='root' id='root'></div>\n",
      "        </div>\n",
      "        <div class='footer' id='footer'>©2019 meituan.com 京ICP证070791号 京公网安备1101050202554.</div>\n",
      "    </div>\n",
      "                                                <script type=\"text/javascript\">        window.yodaTheme = setTheme;\n",
      "        function setTheme(theme) {\n",
      "            var theme = theme || 'meituan';\n",
      "            var header = document.getElementById('header');\n",
      "            header.style.display = \"block\";\n",
      "            var logo = document.getElementById('logo');\n",
      "            var footer = document.getElementById('footer');\n",
      "            footer.style.display = \"block\";\n",
      "\n",
      "            var link = document.createElement('link');\n",
      "            link.rel = 'shortcut icon';\n",
      "            link.type = 'image/x-icon';\n",
      "\n",
      "            if (theme === 'meituan' || theme === 'mt' || theme === '') {\n",
      "                link.href = '/static/favicon.ico';\n",
      "            }\n",
      "            if (theme === 'dianping' || theme === 'dp') {\n",
      "                header.className = 'dpHeader';\n",
      "                logo.className = 'dpLogo';\n",
      "                footer.innerHTML = '© 2003-2017 dianping.com, All Rights Reserved.';\n",
      "                link.href = '//www.dpfile.com/s/res/favicon.5ff777c11d7833e57e01c9d192b7e427.ico';\n",
      "            }\n",
      "\n",
      "            document.head.appendChild(link);\n",
      "        }\n",
      "\n",
      "            var options = {\n",
      "            requestCode: \"0c8457ee7800476992c1c1743fdf5719\",\n",
      "            succCallbackUrl: \"https\\x3A\\x2F\\x2Foptimus\\x2Dmtsi\\x2Emeituan\\x2Ecom\\x2Foptimus\\x2FverifyResult\\x3ForiginUrl\\x3Dhttp\\x253A\\x252F\\x252Fmaoyan\\x2Ecom\\x252Fboard\\x252F4\",\n",
      "            failCallbackUrl: \"\",\n",
      "            forceCallback: \"false\",\n",
      "            root: \"root\",\n",
      "            platform: \"1000\",\n",
      "            theme: \"meituan\",\n",
      "            isMobile: false\n",
      "        }\n",
      "        YodaSeed(options, \"pro\");\n",
      "    </script></body></html>\n"
     ]
    }
   ],
   "source": [
    "import requests\n",
    "\n",
    "\n",
    "def get_one_page(url):\n",
    "    headers = {'User-Agent': 'Mozilla/5.0 (Windows NT 10.0; Win64; x64) AppleWebKit/537.36 (KHTML, like Gecko) Chrome/76.0.3809.110 Safari/537.36 Vivaldi/2.7.1628.30'}\n",
    "    response = requests.get(url, headers=headers)\n",
    "    if response.status_code == 200:\n",
    "        return response.text\n",
    "    return None\n",
    "\n",
    "\n",
    "def main():\n",
    "    url = 'http://maoyan.com/board/4'\n",
    "    html = get_one_page(url)\n",
    "    print(html)\n",
    "\n",
    "\n",
    "main()\n"
   ]
  },
  {
   "cell_type": "code",
   "execution_count": 9,
   "metadata": {},
   "outputs": [
    {
     "name": "stdout",
     "output_type": "stream",
     "text": [
      "<!DOCTYPE html>\n",
      "<html><head>    <meta charset=\"utf-8\">\n",
      "    <meta content=\"width=device-width, initial-scale=1.0, maximum-scale=1.0, user-scalable=no\" name=\"viewport\" />\n",
      "    <meta name=\"renderer\" content=\"webkit\" />\n",
      "    <meta http-equiv=\"X-UA-Compatible\" content=\"IE=edge\" />\n",
      "    <style>\n",
      "        .container {\n",
      "            width: 998px;\n",
      "            margin: 0 auto;\n",
      "        }\n",
      "        .header {\n",
      "            height: 70px;\n",
      "            font-size: 28px;\n",
      "            color: #999999;\n",
      "            border-bottom: 3px solid #1db9aa;\n",
      "            overflow: hidden;\n",
      "            display: none;\n",
      "        }\n",
      "        .logo {\n",
      "            margin-top: 8px;\n",
      "            margin-left: 1px;\n",
      "            height: 54px;\n",
      "            line-height: 54px;\n",
      "            padding-left: 102px;\n",
      "            background: url('data:image/png;base64,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') no-repeat;\n",
      "            background-size: 82px 54px;\n",
      "        }\n",
      "        .dpHeader {\n",
      "            height: 70px;\n",
      "            font-size: 28px;\n",
      "            color: #999999;\n",
      "            border-bottom: 3px solid #ff6633;\n",
      "            overflow: hidden;\n",
      "            display: none;\n",
      "        }\n",
      "        .dpLogo {\n",
      "            margin-top: 16px;\n",
      "            margin-left: 1px;\n",
      "            line-height: 44px;\n",
      "            padding-left: 155px;\n",
      "            background: url('data:image/png;base64,iVBORw0KGgoAAAANSUhEUgAAASAAAABQCAMAAACOCFjHAAABnlBMVEUAAAD/ZjMAAAAAAAAAAAAAAAAAAAAAAAAAAAAAAAAAAAAAAAD/ZjMAAAAAAAD/ZjMAAAAAAAAAAAAAAAAAAAAAAAAAAAAAAAAAAAAAAAAAAAAAAAAAAAAAAAAAAAAAAAAAAAAAAAAAAAAAAAAAAAAAAAAAAAAAAAAAAAAAAAAAAAAAAAAAAAAAAAAAAAAAAAAAAAAAAAAAAAAAAAAAAAAAAAAAAAAAAAAAAAAAAAAAAAAAAAAAAAAAAAAAAAAAAAAAAAAAAAAAAAAAAAAAAAAAAAAAAAAAAAAAAAD/ZjP/ZjP/ZjP/ZjP/ZjP/ZjP/ZjP/ZjP/ZjP/ZjP/ZjP/ZjP/ZjP/ZjP/ZjP/ZjP/ZjP/ZjP/ZjMAAAD/////ZzT/ZDH/VBv/Yi7/Xij/Vh7/Uhj/YCv/TxT/WyX/WCD/WiP/9vP/flP/bz//ZjT/+vn/ek7/3dH/rZL/o4T/dEb/8u7/5dz/vaf/h2D/6eH/z7//tp3/spj/w6//ajj/7ef/4df/1sj/g1n/nn7/mXj/lXL/jGb/qIr/kWz/y7r/QgOY4Af2AAAAW3RSTlMA7jrB3IpoN0EVWDPmDQnCBP6gPu7g6PbKSsSPU9YTvrpd67Nkk5wX0K9e+uSodS8rEEZDpZdQtmzxJ4dNI8dwfB8bgFqshGEx10FwTDfjzrSnmYR9KAz7uWTDuzsKXAAAEABJREFUeNrkmvtf0lAUwG+IChkEYUJaaU8zKhDSFNHKXvR+P3e522C8whQfaWlW9v6z24O7M9jGxrCf+v7Erh/BfT33nHPPQMC9Z49u72mbfQ8f372P/gPu3macs/8eaoPZPol4AP0LYn0imV1/7zsPmc549BzZZhhL9I8jm4zOdN+8OTMURzbwhbHE6G6HD9Mx++4gu1zCEgd9yCYzWOYSsoH/OBYJtxLkDbkood6AGNBJlynJo0jiKbMb2N5mJ9oTlAlihb12BA1YCjqLgWkvQudxC/ZC/HTMy/v/RJDPjeuE47YFoRbcwkDYStB1hNB9Zpd48OJfCDqBVY747QqadIV0JGJI5hgGjotb6KJVBJmWr3dsocQJAlcpsIwtnvwDQaewhhE7gkyZQzInsQYv/XNMOIvQa8YEUuDYnW/Ly992GK5AGDvc33VB17BMNIxlLnYiaBDJJAa7KHMnxhG6EqGXI0ewxMBwFyXiMQ0gwuQLK7XFrMjil18sxxDnIeRc0AWscNKFFQ50IGgYGQNN0171M+BHdxhjWKH6Javyfkdg3zGW7Hmxu4KuYBo48NK5oDPIisNY4jQCTEs84TbeZjUs/swTh6XeuaBurBCRkvNprDDmtxYUjHQN6oicMmtEDyWTiYS3MYLi0qIngNAjYz/lVcUPGFrKE0je5Txv6OsZssENLOFGrQElbi/0lyLDPid9EOwkb9ITqpN0SYshLHG5UdAgLZvGKYgvfc02USsV5K3H54QiX/2+wDMGPEbNnDzV3cjMjFvp0YZmupuYSCFgfAQrHJyv32AXFZayFOSz2QdFJffzQbqxQJCvnzbv+4w32O+sjh8cYUipzK9+X69lsxtlxoBXqJkIboNJpNJ3RKdjnBoaSCNToFG01UnLR4kztIUAQZkoFukWX+0xztCf9II+cixb2NmqKXvvG2d4rEfNjOA2OATpMkzjJ6UJD2oIX0BajqbTCY8n6REPT55+WVAi06cjlDJsFEXG5O0EgtR0fctMUG77vV7Q5+0cW1TFLRcZA97skqCbdCXibUgjN+j6RT8CEtgWg9AogiD106bnQRAtmn1mgiqQorVpusIUf9GrreK/i6CU+ksjR1EjE2rNdsGipy1ByRGRE8NREHQdS/RqBR2gExljQeWlxayeapkRVtoVdAa3wWElSfTTa4PCfBnXCV42FmSzURw/DoJi9MNBUISeTYwFlVbX9H7erpY0EbRsU1B6qqeRk7fq6ff0sZ4mpq5Kf/lpTDmJDDh0Dte5dLUDQT6NIN+AktdA0GiYFjZjQYVCTS/oS4FnhXV6tSJYCAJMClsPMuK6W7OJDJkdxnUGppwL8vYrgmDGOaERFIJSoBdU4AlT3NQLWhdIIfdVLfp5p4Lm6wXqPDIApjOnfRYnWBF3QCNoONXXa0xqylwQtKRzqiC6kSd1gsQ6ni/yLEsqBkmoWtYm72rJqaBJWsADhp2eWwmO66gFLiWzBWM0gixOaX0Wgnqi4XD0SAAEDUkL06kGQe+YXD6f2/65/HWlTNj8li6AOJZAjv5AeIeCYMKTQUZ45OiaRSgggxqgS76hYH0LgKAbyJSkhSBfXyyWiWsEzcoLqDGC+O2dlY+fpYaHz5FcrikL1aTF0gd6+anEOhWkJpkryJAJ7JYnwUMH3e6DEX9Dgj7oFtcSchDN4QjaHUHAIVxPRgAIqlQ/QIViSYX9qPXzlS0TqYbBuYNxKMgFE1RkyNEev6aD8iINx7TD+574rgiKJzyUXqU/HQmpK4kQCCotvFULelUgpMIvw8IWXyFEqKoLayTnVNAEVklaPz4Lp/RN0DEEdC7oBm7FtCYHFZezlA8MR0hOWF2urS0urtW2lrgcIRwL549NgTgRBDUMbskM/0FaSYADUH3bEhRqIWgMtyKsEVRaWIOeZ0FgCVvhSgvV6mqJq4gXwvYX6BkXKoxDQRNYQwyZE8cyM7r0pStX1lXM00LQedyKfm2Z535lIYY2hDJDGDZXqeRY8o4pCzua8+uWwDoUlFICKBKxfFjao09UmSB0Pwb3n+k1pi/R1ULQMG6JRhAp5L5kgc2FYj5X4FmWL+TyxQVt5/iezxGHggaxjCcGAyBDYIB4WD+idhkKwlFsTBArdBkI8qJrXUD9qUYXcEIbQYRraA/X1je2C2WOKxe2N9bXGlrGPGGcCbqghkVEieBRZMLVKHTLlCMmg3sPtsBU0MC4nTIPCN+aRkAf1zc316XmSMtKkWGcCfJE1bGGx+JR4BDWHelDdCUacySo20CQDwFw1DATRHhhOWvJpsC/cyYoNY1lxpDIRQz/Lj2zosrmhhLS6Zy+ilszMNqBIHiYamXo7UoxR5xFUGwA4/rGFxk/pytTZnO2Id3c8FRzBAUtwNGxWdSBIDAExy1jakuklC/zDpJ06ByM5rU3PGSaq4LX6r8yJ2bq+HEMNPZC4y5LQrArHQqCXbbxubWiz19XlspCoV1BU7jOzebB85jP5MA/jHoxDbOM4id4Ed7FAY4FAVJHuJ614uMPVuBJG4Jm6Y1px0B0zZ1u8hPFdEqclO5jehKlp2nzfYO+D9zb6OQhkUkvQvNp8UXaIxW+jLSYTkov5+WfpzvLQYC4hXb+WCqq/ajkGWJTkP/ygDonDcByQM00pyFBwGOHifrzsUujtD3A/VfRVTqxjvQ29UcxWqejs/DFvbhUHCBxdSQIgijPVTffW0bRUpEndgR5p9wm3/AJDKqHwm5V0QwdqPmVBONBgRNwvNUm62vK7dWPU+f86vnEoz7ZwvLgrUspY4GOBUEm+ku+ufakDYVxvHE6E42NmxdYrDrc1FFRGRGjCygkZHwIyqG0tNQB2QUjEEhULuK+9aDAeR5PoSXybv2/gjaQ9MdznjuGmqq0fjkEtKasECdAK6FwQKLyrzJ3IVp5ziJ9IlHvKNmhBpKg5vcWihDkiPgANZDDddoQiXuGV2HaHJodEIgof39W0w66U26IPaDQJpOqMVp9L4E2gj0asPxmSRlP2NHPPu4wrfW/btCLvYa822s6KY9lr4WfERDJ6n/SzqoBofGArnHrQJy4AwSDQwGMZahd6xQoSTME6OHPowpuC0LA5SFc3uNR3+5oJkClDORDDoQUYgMIz3k/fZuQH33BHTSB5TNq2ATwAZnbQIC86PUBRMoLNK0VUeE7d9BTeFOazYJyXcbf1OrNbqfT+t1gnHdD1cg0gOY/T26Nbb1jAK2fcyyg3Zd4434KJYjTz+8wZF5E53LnEh4dXBis+08PCNf1oIdWUdZl1TDUnJ6q3Jn3UAPbGVAgtmJbhBy/AOSNcgygo5h18Whv6NPCdJGFPn2Ap7NT6RjVcesr7HYH/zpAinaPU56u2VMcDYdkudzAhB5l4gDo6uIr56C1Aw8FtMCzG3v+03HN233pDBywHzcsjuJQz82vwqNLPgZQjHsVIJKr4+o9y5bvhty9Re0zRSvZOOndhUVuGsVPPkqRHtFtdjvqzbbAjdeHBKTjwtAWaUCnA7hlM5saYLwCox7XSkgCa9tE0SgjPi09T6whroxc0VNusgUdnnLTK7jTswvecv54zk4J0efziYmRP1sy35oWFBV9PSXjg4o/2b++ZF4WE4IgRM6Xli0/ktj/wJwToIyKjlAbpcvYxopA6LaoAKD/TlZAJTyYf9IzZLwbL/9AfrrkJkB4taOm4yCORfQ2jECyipsAKakqPTzlyevjWRlK/o7qJkBqBeZfkONYRNQC2vwgbgJUhwEqBDCrMsYzjOo1FwEy6BbZ803KTnIbnTH3ANIIdUFN2QYP7IPcN5pFF1lQHoJ8QbUFlJEf0tVGq6Dl1KyLfJBRgQQwbwuIKI+VVF5We4WImxJFtUOLrIxmC8j8a4sZ5lwF6F87d/KjNBzFAfwbaauANIhUShfWtrTSIlXZka0saoyJicbtF9eoBw8mxoMxLkf9sy0Ql8TX6rhc1E9mfnMYLvPNm7L0vXfv/Ze2RCIgSnxA50pAfYllC7EyjWSoIYKWLSV3GhnEExenNF4VQRLPi8A0jUjFI1/N2ZmL+Ap6d/d3BJTJd+EXqigey4E07JiB2Tmvntg2bZ4IQNNcaceVRdCOr6362Z5SsTm5p2ZAKjZ9gBPibm8GODWaBaZacd3VPP4a9DZ8E3pAt/CN1Akfh9wG0D52NgtCuiIzu3xcXoett2mvB1qrdii9dXJQAu1scz0SluOZkEEkNQFA6cZ2cXtHbLk8YWY6+SPPYr9eQY4HtDiEkvYcNC4JSF20NASRAenYmUtJ0KwcthI8orn6bD1y68F6zRugDQNs6UOEqInDR2/efv4o6N5BA7pBzEi6lsUVcqvVynLqGigLqQ1wVUw64OvfCWjoJkEbFcrKRKkUapXJRD4LymnmOU4vb696vQqZo6iJ2ClxaexdiHslTXSLE2JnVjP9wDRZjjdNU+U7xegKCgOqj2ICYnXPcRxPZj5oqlxNaeN+rVXUtI0GirTLTUkhSomTSsi5us41pfCQG9TU88NXn5/nb98/YEBXQTmkI0apZQ6sqWiHAfHRAQ1nqqqaqsr3EcGygKy/LJzzM1mQAlZCaFJFJL9SONTt9/tBTQ1PIUPNzT98v0/n9fOntw9aQZdA8bjZKNQ6AsrCSxQmViYMyIkJ6Ps6Z5ErcDVdltzCIRAOs30yiTFi5PrY0hfYu0jMY754+eH50zv3Hj8Jb2IQDrp5QWRM7VgWz3Kg+dI5QDoJxYDaA2Us67aeOI7Atm290gbFU1HuzBeaMW9zGgjnlihqqVSK64SH1kaccyeOIOoidPfOszfhPbAHxGetP7e7o2Prwq7t8BRoSWkI5DdwuzAVUNTBdDqtjaD3wp9sCYosoDwFEiYga6AlXI7jCjWd4/It0E56GCn1RF52yr0MQje/7X558v1lL7RrIAzZ+TYzkCyY0ZfGBpLVcw29fDxdpAOqAKir+7+c24CQrZ1GZYbswIBodxFjchJAFhHss+HXoSOnjh/vH2sQJUT4xQLSFcDIT+0eoiwGjqQBvCLzoPEKgAqPiQCAq9ItoknIa/QZAHeJGErcb9vNBRIGtubSAvjzG6hMVtrf+k2Dli7brmOImLOxF8BX59+rIH1DZmiH3+k2EwSrsRl+p4KiORN8CmixDeiP7zBr7XpaJnrfbHp0ROc9IwPg8KAOuYUSOeESuIZgSDMojiEIA436D+N4ADOWQ0ou8BnEkDeI5LMUULHCbTCnz/TdJPCnt+ClmAGBa3oNYGwX5DEitHMsB3D5vk6OsvJsVXfYGtxgVe+R6/AM5rfN/EBAqOuSI9UlWeK22GB7SnYS36rnASSadvgA+wQr/cY9ipcvgpLWkK3k2tg545iIYJTHAI6olnoehOIGQLW4nzKcUg85XcVGaYnYUzv4lpgyTm4Vte1ppESq4IsAOoLfaDT8w73S79vEeeUa/nI3fyGi6zcu4h9wMdwGfPnoQV0OtwH/9dXzX7SPVzp8akl3dXEAAAAASUVORK5CYII=') no-repeat;\n",
      "            background-size: 144px 40px;\n",
      "        }\n",
      "        .content {\n",
      "            min-height: 335px;\n",
      "            position: relative;\n",
      "        }\n",
      "        .footer {\n",
      "            font-size: 12px;\n",
      "            color: #999999;\n",
      "            padding: 13px 8px;\n",
      "            border-top: 1px solid #e1e1e1;\n",
      "            text-align: center;\n",
      "            display: none;\n",
      "        }\n",
      "        .root {\n",
      "            height: 100%;\n",
      "        }\n",
      "    </style>\n",
      "    <title>验证中心</title>\n",
      "    <link rel=\"dns-prefetch\" href=\"//awp-assets.meituan.net\" />\n",
      "    <link rel=\"dns-prefetch\" href=\"//verify.meituan.com\" />\n",
      "    <link rel=\"dns-prefetch\" href=\"//static.meituan.net\" />\n",
      "    <script>\n",
      "        (function(f){function e(a,b){this.seed instanceof e?this.seed.init(a,b):this instanceof e?this.init(a,b):this.seed=new e(a,b);return this.seed}function x(a){this.appnm=a;this.sendQueue={}}function n(a,b){this.batchs=[];this.project=\"Yoda-FE\";this.catVersion=1;this.origin=window.location.origin;this.unionId=a||\"\";this.env=\"pro\"===b?\"pro\":\"dev\";this.host={pro:\"//catfront.dianping.com\",dev:\"//catfront.51ping.com\"}[this.env];var c=this;setTimeout(function(){c.sendBatch()},500)}function F(a,b,c){if(\"object\"===\n",
      "typeof b){var d=[],p;for(p in b)d.push(encodeURIComponent(p)+\"=\"+encodeURIComponent(b[p]));b=d.join(\"&\")}d={\"Content-Type\":\"application/x-www-form-urlencoded\"};try{var C=Date.now(),h=new f.XMLHttpRequest;if(\"withCredentials\"in h){h.open(\"post\",a,!0);if(d)for(var g in d)d.hasOwnProperty(g)&&h.setRequestHeader(g,d[g]);h.onload=function(){4===h.readyState&&(200<=h.status&&300>h.status||304===h.status)&&(c(h.responseText),h=null)}}else if(\"undefined\"!==typeof f.XDomainRequest){h=new f.XDomainRequest;\n",
      "var e=0<a.indexOf(\"?\")?\"&\"+b:\"?\"+b;h.open(\"get\",a+e);h.onload=function(){c(h.responseText);h=null}}else throw Error(\"\\u79cd\\u5b50\\u4ee3\\u7801\\u521b\\u5efaXMLHttpRequest\\u5bf9\\u8c61\\u5931\\u8d25\");h.onerror=function(a){h.abort();throw Error(\"XMLHttpRequest\\u8bf7\\u6c42\\u670d\\u52a1\\u5668\\u53d1\\u751f\\u5f02\\u5e38\"+a.message);};h.send(b)}catch(G){throw window.Yoda.CAT.postBatch(a,0,0,Date.now()-C,\"500|0\",\"ajax\"),window.Yoda.CAT.sendBatch(),window.Yoda.CAT.sendLog(a,\"ajaxError\",\"[\\u8bf7\\u6c42\\u5f02\\u5e38]\",\n",
      "G.message),Error(\"\\u8bf7\\u6c42\\u670d\\u52a1\\u5668\\u53d1\\u751f\\u5f02\\u5e38: \"+G.message);}}function H(a,b){for(var c in b)b.hasOwnProperty(c)&&b[c]&&(a[c]=b[c]);return a}var l=document,q=/mobile|iPhone|Android|htc|Lenovo|huawei/i.test(f.navigator.userAgent.toString());f.Yoda={};f.YODA_CONFIG={};var y=new x(\"yoda_seed\");f.Yoda.LX=y;var z={pro:\"https://verify.meituan.com\",staging:\"//verify-test.meituan.com\",dev:\"//verify.inf.dev.sankuai.com\",test:\"//verify.inf.test.sankuai.com\",ppe:\"//verify.inf.ppe.sankuai.com\",\n",
      "development:\"//verify-test.meituan.com\"},E=\"\",r=\"\",t=\"\",u=\"\",v=\"\",g=\"\",D=\"\",w=\"\",A=\"\",B=\"\",k=\"\",m=\"\";e.prototype.init=function(a,b){E=Date.now();t=r=!1;v=u=!0;m=k=B=A=w=D=g=\"\";this.env=b||\"pro\";var c=new n(a.requestCode,this.env);f.Yoda.CAT=c;this.options=a;q=void 0===a.isMobile?q:a.isMobile;this.feVersion=\"1.4.0\";this.source=q?3:1;this.getConf(this.options.requestCode)};e.prototype.getConf=function(a){var b=z[this.env]+\"/v2/ext_api/page_data\";a={requestCode:a,feVersion:this.feVersion,source:this.source};\n",
      "var c=this,d=Date.now();F(b,a,function(a){a=JSON.parse(a);var f=Date.now()-d,h={kvs:{pagedata:[f],TTFB:[f]},tags:{action:a.data?a.data.action:\"\",type:a.data?a.data.type:\"\",result:a.status?a.status:\"\"},ts:Date.now()};window.Yoda.CAT.metric(h);window.Yoda.CAT.postBatch(b,0,0,f,\"200|\"+a.status,\"ajax\");c.confBack(a)})};e.prototype.confBack=function(a){if(1===a.status&&a.data){var b=H(a.data,this.options);this.config=b;this._yoda_config||(this._yoda_config=JSON.stringify(b),this._yoda_options=JSON.stringify(this.options),\n",
      "this._yoda_listIndex=a.data.defaultIndex||0,this._yoda_riskLevel=this.config.riskLevel);this.config.category=this.config.isHideSwitch?\"MULTIPLE\":this.config.category;b=a.data.yodaVersion;a=a.data.verifyMethodVersion;this.filter();this.ensureVersion(b,a)}else f.Yoda.CAT.sendLog(z[this.env]+\"/v2/ext_api/page_data\",\"jsError\",\"[dataException]:\\u8bf7\\u6c42pageData\\u63a5\\u53e3\\u672a\\u6b63\\u5e38\\u8fd4\\u56de\\u6570\\u636e, \\u73af\\u5883\\u4fe1\\u606f\\u4e3a:\"+this.source,JSON.stringify(a)),this.handleError(a)};\n",
      "e.prototype.ensureVersion=function(a,b){a=JSON.parse(a);b=JSON.parse(b);a&&(m=q?a.i:a.d);try{var c=JSON.parse(this.config.riskLevelInfo)[Number(D)];g=JSON.parse(c).name;(b=JSON.parse(b[g]))&&(k=q?b.i:b.d);this.isNeedLoad();this.getSourcePath();this.loadSource()}catch(d){f.Yoda.CAT.sendLog(z[this.env]+\"/v2/ext_api/page_data\",\"jsError\",\"[dataException]:\\u89e3\\u6790pageData\\u63a5\\u53e3\\u6570\\u636e\\u5931\\u8d25, \\u73af\\u5883\\u4fe1\\u606f\\u4e3a:\"+this.source,d.message),this.handleError(\"\\u521d\\u59cb\\u5316\\u5931\\u8d25\")}};\n",
      "e.prototype.isNeedLoad=function(){var a=l.getElementsByTagName(\"script\"),b=a.length,c=0;if(m&&k&&b)for(;c<b;c++){var d=a[c].src;~d.indexOf(m)&&(u=!1,t=!0);~d.indexOf(k)&&(v=!1,r=!0);if(!u&&!v)break}};e.prototype.loadSource=function(){var a=this,b=function(){function b(b){return function(c,d,g){var h=Date.now(),e=l.createElement(b),p=l.head,C=\"src\",k=\"link\"===b?\"css\":\"js\";e.onload=function(){e=e.onload=e.onerror=e.onreadystatechange=null;var p=Date.now()-h;\"script\"===b&&y.report(d,\"duration\",{custom:{duration:p,\n",
      "result:\"download\",requestCode:a.options.requestCode}});f.Yoda.CAT.postBatch(c,0,0,p,\"200|\",k);\"function\"===typeof g&&g();\"pro\"!==a.env&&(f.YODA_CONFIG.__API_URL__=z[a.env],a.setDomain(z[a.env]))};e.onerror=function(){a.handleError(\"\\u52a0\\u8f7d\\u5931\\u8d25\");var b=Date.now()-h;f.Yoda.CAT.postBatch(c,0,0,b,\"500|\",k);y.report(d,\"downloadFailed\");f.Yoda.CAT.sendLog(c,\"resourceError\",\"downloadFailed\",\"[\\u4e0b\\u8f7djs\\u5931\\u8d25]:\"+c)};switch(b){case \"script\":e.type=\"text/javascript\";e.async=!1;e.defer=\n",
      "!0;break;case \"link\":e.type=\"text/css\",e.rel=\"stylesheet\",C=\"href\"}e[C]=c;p.appendChild(e)}}return{css:b(\"link\"),js:b(\"script\")}}();u&&(y.report(\"yoda\",\"req\"),b.js(A,\"yoda\",function(){t=!t;a.moduleInit()}));if(v)if(y.report(g,\"req\"),\"withCredentials\"in new f.XMLHttpRequest)b.js(w,g,function(){r=!0;a.moduleInit()});else if(\"undefined\"!==typeof XDomainRequest)var c=window.setInterval(function(){void 0!==window.Yoda.Ballade&&b.js(w,g,function(){r=!0;a.moduleInit();window.clearInterval(c)})},1E3);u||\n",
      "v||this.moduleInit();B&&b.css(B)};e.prototype.moduleInit=function(){if(r&&t){this[g]={};this.config.yodaInitTime=E;if(\"function\"===typeof f.Yoda[g])return this[g].initModule=new f.Yoda[g](this.config),!1;var a=l.createElement(\"script\");a.type=\"text/javascript\";a.appendChild(l.createTextNode(this.moduleText));l.body.appendChild(a);this[g].initModule=new f.Yoda[g](this.config)}};e.prototype.getSourcePath=function(){var a=q?\"i\":\"d\";m=m?m+\".\":\"\";k=k?k+\".\":\"\";\"development\"===this.env?(a=\"i\"===a?\"mobile\":\n",
      "\"desktop\",w=\"/modules/\"+g+\"/\"+a+\"/\"+g+\".js\",B=\"/modules/\"+g+\"/\"+a+\"/\"+g+\".css\",A=\"./yoda-\"+a+\".js\"):(A=\"https://static.meituan.net/bs/yoda-static/file:file/\"+a+\"/js/yoda.\"+m+\"js\",w=\"https://static.meituan.net/bs/yoda-static/file:file/\"+a+\"/js/\"+g+\".\"+k+\"js\")};e.prototype.handleError=function(a,b){\"string\"!==typeof a&&(a=(b=a)&&b.error&&b.error.message);var c=this.options.failCallbackFun;if(c&&\"function\"===typeof f[c]){var d={code:\"121333\",requestCode:this.options.requestCode};setTimeout(function(){f[c](d)},\n",
      "1E3)}var e=this.options.failCallbackUrl;e&&setTimeout(function(){var a=document.createElement(\"a\");a.href=e;f.location.href=(a.origin||a.protocol+\"//\"+a.host)+a.pathname+a.search+a.hash},1E3);this.notifyErr(a)};e.prototype.notifyErr=function(a){var b=l.getElementById(this.options.root);if(q){var c=l.createElement(\"div\");var d=l.createElement(\"div\");d.innerHTML=a;c.appendChild(d)}else c=l.createElement(\"div\"),c.innerHTML=a;b.appendChild(c)};e.prototype.setDomain=function(a){setTimeout(function(){window.YODA_CONFIG.__API_URL__=\n",
      "a},0)};e.prototype.resetVariable=function(a){E=Date.now();r=a.moduleLoaded||!1;t=a.yodaLoaded||!1;u=a.yodaNeedLoad||!0;v=a.moduleNeedLoad||!0;g=a.MODULE_NAME||\"\";w=a.MODULE_URL||\"\";A=a.YODA_URL||\"\";B=a.CSS_URL||\"\";k=a.MODULE_VERSION||\"\";m=a.YODA_VERSION||\"\"};e.prototype.filter=function(){var a=this.config.riskLevel.split(/[,|]/g);if(a[0]&&1===a.length)D=this.config.riskLevel;else{a=JSON.parse(this.config.riskLevelInfo);for(var b=JSON.parse(this.config.verifyMethodVersion),c=this.config.riskLevel.split(\"|\"),\n",
      "d=this.config.defaultIndex||0;d<c.length;d++){for(var e=c[d].split(\",\"),f=0,h=1;f<e.length;f++){var g=JSON.parse(a[Number(e[f])]);if(!g.name||!b[g.name]){h=0;break}}if(h){D=e[0];this._yoda_listIndex=d;break}}}};x.prototype.report=function(a,b,c){if(\"pro\"!==window.seed.env)return!1;var d={appnm:this.appnm,channel:\"techportal\",ct:q?\"i\":\"www\",ch:\"web\",sc:window.screen.width+\"*\"+window.screen.height,ua:window.navigator.userAgent};a={nm:\"MV\",tm:Date.now(),nt:0,isauto:6,val_cid:a,val_bid:b,val_lab:c};this.addToSendQueue(d,\n",
      "a)};x.prototype.addToSendQueue=function(a,b){var c;(c=this.sendQueue[a.channel])?c=c.data:(c=[],this.sendQueue[a.channel]={conf:a,data:c});c.push(b);var d=this;setTimeout(function(){d.send()},0)};x.prototype.send=function(){var a=[];for(d in this.sendQueue)if(this.sendQueue.hasOwnProperty(d)){var b=this.sendQueue[d];var c=b.conf;(b=H(c,{appnm:c.appnm,category:\"data_sdk_\"+d,evs:b.data}))&&a.push(b)}if(0<a.length){var d=\"https://report.meituan.com/?_lxskd_rnd=\"+Date.now()+Math.ceil(1E3*Math.random());\n",
      "this.sendStatic(d,{data:a})}this.sendQueue={}};x.prototype.sendStatic=function(a,b){if(0===b.data.length)return!1;try{var c=new f.XMLHttpRequest;if(\"withCredentials\"in c)c.open(\"POST\",a,!0);else if(\"undefined\"!==typeof f.XDomainRequest)c=new f.XDomainRequest,c.open(\"POST\",a);else throw Error(\"\\u7075\\u7280\\u521b\\u5efaXHR\\u5bf9\\u8c61\\u5931\\u8d25\");c.onerror=function(){c.abort();c=null};c.send(JSON.stringify(b.data))}catch(d){throw Error(\"\\u7075\\u7280XHR\\u8bf7\\u6c42\\u670d\\u52a1\\u5668\\u53d1\\u751f\\u5f02\\u5e38: \"+\n",
      "d.message);}return!0};n.prototype.postBatch=function(a,b,c,d,e,f){a=a+\"\\t\"+Date.now()+\"\\t\"+b+\"\\t\"+c+\"\\t\"+d+\"\\t\"+this.project+\"\\t\"+this.origin+\"\\t\"+e+\"\\t\\t\\t\\t\"+f;this.batchs.push(a)};n.prototype.sendBatch=function(){if(0<this.batchs.length){var a=this.host+\"/api/batch?v=\"+this.catVersion,b={c:\"S\\t\\t\\t\\t\\t\\t\"+this.unionId+\"\\n\"+this.batchs.join(\"\\n\")};this.sendStatic(a,b);this.batchs=[]}};n.prototype.speed=function(a,b){var c=\"&project=\"+this.project+\"&pageurl=\"+window.location.href+\"&unionId=\"+this.unionId+\n",
      "\"&timestamp=\"+Date.now()+\"&speed=\"+a+\"&customspeed=\"+b;c=this.host+\"/api/speed?v=\"+this.catVersion+c;var d=this,e=new f.XMLHttpRequest;e.open(\"GET\",c);e.onerror=function(){d.speed(a,b);e.abort();e=null};e.send()};n.prototype.sendLog=function(a,b,c,d){a=[{project:this.project,pageUrl:window.location.origin,resourceUrl:a||\"\",category:b,sec_category:c,level:\"error\",unionId:this.unionId,timestamp:Date.now(),content:d||\"\"}];this.sendStatic(this.host+\"/api/log?v=\"+this.catVersion,{c:JSON.stringify(a)})};\n",
      "n.prototype.metric=function(a){this.sendStatic(this.host+\"/api/metric?v=\"+this.catVersion+\"&p=\"+this.project,{data:JSON.stringify(a)})};n.prototype.sendStatic=function(a,b){F(a,b,function(){});return!0};n.prototype[\"byte\"]=function(a){var b=0,c=a.length;if(a){for(var d=0;d<c;d++)255<a.charCodeAt(d)?b+=2:b++;return b}return 0};f.YodaSeed=e})(window);\n",
      "    </script>\n",
      "</head> <body>    <div class='container'>\n",
      "        <div class='header' id='header'>\n",
      "            <div class='logo' id='logo'>验证中心</div>\n",
      "        </div>\n",
      "        <div class='content'>\n",
      "            <div class='root' id='root'></div>\n",
      "        </div>\n",
      "        <div class='footer' id='footer'>©2019 meituan.com 京ICP证070791号 京公网安备1101050202554.</div>\n",
      "    </div>\n",
      "                                                <script type=\"text/javascript\">        window.yodaTheme = setTheme;\n",
      "        function setTheme(theme) {\n",
      "            var theme = theme || 'meituan';\n",
      "            var header = document.getElementById('header');\n",
      "            header.style.display = \"block\";\n",
      "            var logo = document.getElementById('logo');\n",
      "            var footer = document.getElementById('footer');\n",
      "            footer.style.display = \"block\";\n",
      "\n",
      "            var link = document.createElement('link');\n",
      "            link.rel = 'shortcut icon';\n",
      "            link.type = 'image/x-icon';\n",
      "\n",
      "            if (theme === 'meituan' || theme === 'mt' || theme === '') {\n",
      "                link.href = '/static/favicon.ico';\n",
      "            }\n",
      "            if (theme === 'dianping' || theme === 'dp') {\n",
      "                header.className = 'dpHeader';\n",
      "                logo.className = 'dpLogo';\n",
      "                footer.innerHTML = '© 2003-2017 dianping.com, All Rights Reserved.';\n",
      "                link.href = '//www.dpfile.com/s/res/favicon.5ff777c11d7833e57e01c9d192b7e427.ico';\n",
      "            }\n",
      "\n",
      "            document.head.appendChild(link);\n",
      "        }\n",
      "\n",
      "            var options = {\n",
      "            requestCode: \"99b31a10033b4f0c8fe67fc4032005ff\",\n",
      "            succCallbackUrl: \"https\\x3A\\x2F\\x2Foptimus\\x2Dmtsi\\x2Emeituan\\x2Ecom\\x2Foptimus\\x2FverifyResult\\x3ForiginUrl\\x3Dhttp\\x253A\\x252F\\x252Fmaoyan\\x2Ecom\\x252Fboard\\x252F4\",\n",
      "            failCallbackUrl: \"\",\n",
      "            forceCallback: \"false\",\n",
      "            root: \"root\",\n",
      "            platform: \"1000\",\n",
      "            theme: \"meituan\",\n",
      "            isMobile: false\n",
      "        }\n",
      "        YodaSeed(options, \"pro\");\n",
      "    </script></body></html>\n"
     ]
    }
   ],
   "source": [
    "import requests\n",
    "\n",
    "\n",
    "def get_one_page(url):\n",
    "    headers = {'user-agent': 'Mozilla/5.0 (Windows NT 10.0; Win64; x64) AppleWebKit/537.36 (KHTML, like Gecko) Chrome/76.0.3809.110 Safari/537.36 Vivaldi/2.7.1628.30'}\n",
    "    response = requests.get(url, headers=headers)\n",
    "    if response.status_code == 200:\n",
    "        return response.text\n",
    "    return None\n",
    "\n",
    "\n",
    "def main():\n",
    "    url = 'https://maoyan.com/board/4'\n",
    "    html = get_one_page(url)\n",
    "    print(html)\n",
    "\n",
    "\n",
    "main()\n"
   ]
  },
  {
   "cell_type": "code",
   "execution_count": 6,
   "metadata": {},
   "outputs": [
    {
     "name": "stdout",
     "output_type": "stream",
     "text": [
      "<!DOCTYPE html>\n",
      "\n",
      "<!--[if IE 8]><html class=\"ie8\"><![endif]-->\n",
      "<!--[if IE 9]><html class=\"ie9\"><![endif]-->\n",
      "<!--[if gt IE 9]><!--><html><!--<![endif]-->\n",
      "<head>\n",
      "  <title>TOP100榜 - 猫眼电影 - 一网打尽好电影</title>\n",
      "  \n",
      "  <link rel=\"dns-prefetch\" href=\"//p0.meituan.net\"  />\n",
      "  <link rel=\"dns-prefetch\" href=\"//p1.meituan.net\"  />\n",
      "  <link rel=\"dns-prefetch\" href=\"//ms0.meituan.net\" />\n",
      "  <link rel=\"dns-prefetch\" href=\"//s0.meituan.net\" />\n",
      "  <link rel=\"dns-prefetch\" href=\"//ms1.meituan.net\" />\n",
      "  <link rel=\"dns-prefetch\" href=\"//analytics.meituan.com\" />\n",
      "  <link rel=\"dns-prefetch\" href=\"//report.meituan.com\" />\n",
      "  <link rel=\"dns-prefetch\" href=\"//frep.meituan.com\" />\n",
      "\n",
      "  \n",
      "  <meta charset=\"utf-8\">\n",
      "  <meta name=\"keywords\" content=\"猫眼电影,电影排行榜,热映口碑榜,最受期待榜,国内票房榜,北美票房榜,猫眼TOP100\">\n",
      "  <meta name=\"description\" content=\"猫眼电影热门榜单,包括热映口碑榜,最受期待榜,国内票房榜,北美票房榜,猫眼TOP100,多维度为用户进行选片决策\">\n",
      "  <meta http-equiv=\"cleartype\" content=\"yes\" />\n",
      "  <meta http-equiv=\"X-UA-Compatible\" content=\"IE=edge\" />\n",
      "  <meta name=\"renderer\" content=\"webkit\" />\n",
      "\n",
      "  <meta name=\"HandheldFriendly\" content=\"true\" />\n",
      "  <meta name=\"format-detection\" content=\"email=no\" />\n",
      "  <meta name=\"format-detection\" content=\"telephone=no\" />\n",
      "  <meta name=\"viewport\" content=\"width=device-width, initial-scale=1\">\n",
      "\n",
      "  \n",
      "  <script>\"use strict\";!function(){var i=0<arguments.length&&void 0!==arguments[0]?arguments[0]:\"_Owl_\",n=window;n[i]||(n[i]={isRunning:!1,isReady:!1,preTasks:[],dataSet:[],use:function(i,t){this.isReady&&n.Owl&&n.Owl[i](t),this.preTasks.push({api:i,data:[t]})},add:function(i){this.dataSet.push(i)},run:function(){var t=this;if(!this.isRunning){this.isRunning=!0;var i=n.onerror;n.onerror=function(){this.isReady||this.add({type:\"jsError\",data:arguments}),i&&i.apply(n,arguments)}.bind(this),(n.addEventListener||n.attachEvent)(\"error\",function(i){t.isReady||t.add({type:\"resError\",data:[i]})},!0)}}},n[i].run())}();</script>\n",
      "  <script>\n",
      "  cid = \"c_wx6zb55\";\n",
      "  ci = 30;\n",
      "val = {\"subnavId\":4};    window.system = {};\n",
      "\n",
      "  window.openPlatform = '';\n",
      "  window.openPlatformSub = '';\n",
      "  window.$mtsiFlag = '0';\n",
      "\n",
      "  </script>\n",
      "  <link rel=\"stylesheet\" href=\"//s3plus.meituan.net/v1/mss_e2821d7f0cfe4ac1bf9202ecf9590e67/cdn-prod/file:5788b470/common.0a548310.css\"/>\n",
      "<link rel=\"stylesheet\" href=\"//s3plus.meituan.net/v1/mss_e2821d7f0cfe4ac1bf9202ecf9590e67/cdn-prod/file:5788b470/board-index.92a06072.css\"/>\n",
      "  <script crossorigin=\"anonymous\" src=\"//s3plus.meituan.net/v1/mss_e2821d7f0cfe4ac1bf9202ecf9590e67/cdn-prod/file:5788b470/stat.88d57c80.js\"></script>\n",
      "  <script>if(window.devicePixelRatio >= 2) { document.write('<link rel=\"stylesheet\" href=\"//s3plus.meituan.net/v1/mss_e2821d7f0cfe4ac1bf9202ecf9590e67/cdn-prod/file:5788b470/image-2x.8ba7074d.css\"/>') }</script>\n",
      "  <style>\n",
      "    @font-face {\n",
      "      font-family: stonefont;\n",
      "      src: url('//vfile.meituan.net/colorstone/a9cdd4bd122381b049737e16d732173e3428.eot');\n",
      "      src: url('//vfile.meituan.net/colorstone/a9cdd4bd122381b049737e16d732173e3428.eot?#iefix') format('embedded-opentype'),\n",
      "           url('//vfile.meituan.net/colorstone/8373b51f889961e723c319687736db662284.woff') format('woff');\n",
      "    }\n",
      "\n",
      "    .stonefont {\n",
      "      font-family: stonefont;\n",
      "    }\n",
      "  </style>\n",
      "  <script>\n",
      "  var _hmt = _hmt || [];\n",
      "  (function() {\n",
      "  var hm = document.createElement(\"script\");\n",
      "  hm.src = \"https://hm.baidu.com/hm.js?703e94591e87be68cc8da0da7cbd0be2\";\n",
      "  var s = document.getElementsByTagName(\"script\")[0]; \n",
      "  s.parentNode.insertBefore(hm, s);\n",
      "  })();\n",
      "  </script>\n",
      "</head>\n",
      "<body>\n",
      "\n",
      "\n",
      "<div class=\"header\">\n",
      "  <div class=\"header-inner\">\n",
      "        <a href=\"/\" class=\"logo\" data-act=\"icon-click\"></a>\n",
      "        <div class=\"city-container\" data-val=\"{currentcityid:30 }\">\n",
      "            <div class=\"city-selected\">\n",
      "                <div class=\"city-name\">\n",
      "                  深圳\n",
      "                  <span class=\"caret\"></span>\n",
      "                </div>\n",
      "            </div>\n",
      "            <div class=\"city-list\" data-val=\"{ localcityid: 30 }\">\n",
      "                <div class=\"city-list-header\">定位城市：<a class=\"js-geo-city\">深圳</a></div>\n",
      "                \n",
      "            </div>\n",
      "        </div>\n",
      "\n",
      "\n",
      "        <div class=\"nav\">\n",
      "            <ul class=\"navbar\">\n",
      "                <li><a href=\"/\" data-act=\"home-click\"  >首页</a></li>\n",
      "                <li><a href=\"/films\" data-act=\"movies-click\" >电影</a></li>\n",
      "                <li><a href=\"/cinemas\" data-act=\"cinemas-click\" >影院</a></li> \n",
      "                <li><a href=\"http://www.gewara.com\">演出</a></li>\n",
      "                \n",
      "                <li><a href=\"/board\" data-act=\"board-click\"  class=\"active\" >榜单</a></li>\n",
      "                <li><a href=\"/news\" data-act=\"hotNews-click\" >热点</a></li>\n",
      "                <li><a href=\"/edimall\"  >商城</a></li>\n",
      "            </ul>\n",
      "        </div>\n",
      "\n",
      "        <div class=\"user-info\">\n",
      "            <div class=\"user-avatar J-login\">\n",
      "              <img src=\"https://p0.meituan.net/movie/7dd82a16316ab32c8359debdb04396ef2897.png\">\n",
      "              <span class=\"caret\"></span>\n",
      "              <ul class=\"user-menu\">\n",
      "                <li><a href=\"javascript:void 0\">登录</a></li>\n",
      "              </ul>\n",
      "            </div>\n",
      "        </div>\n",
      "\n",
      "        <form action=\"/query\" target=\"_blank\" class=\"search-form\" data-actform=\"search-click\">\n",
      "            <input name=\"kw\" class=\"search\" type=\"search\" maxlength=\"32\" placeholder=\"找影视剧、影人、影院\" autocomplete=\"off\">\n",
      "            <input class=\"submit\" type=\"submit\" value=\"\">\n",
      "        </form>\n",
      "\n",
      "        <div class=\"app-download\">\n",
      "          <a href=\"/app\" target=\"_blank\">\n",
      "            <span class=\"iphone-icon\"></span>\n",
      "            <span class=\"apptext\">APP下载</span>\n",
      "            <span class=\"caret\"></span>\n",
      "            <div class=\"download-icon\">\n",
      "                <p class=\"down-title\">扫码下载APP</p>\n",
      "                <p class='down-content'>选座更优惠</p>\n",
      "            </div>\n",
      "          </a>\n",
      "        </div>\n",
      "    \n",
      "  </div>\n",
      "</div>\n",
      "<div class=\"header-placeholder\"></div>\n",
      "\n",
      "<div class=\"subnav\">\n",
      "  <ul class=\"navbar\">\n",
      "    <li>\n",
      "      <a data-act=\"subnav-click\" data-val=\"{subnavClick:7}\"\n",
      "          href=\"/board/7\"\n",
      "      >热映口碑榜</a>\n",
      "    </li>\n",
      "    <li>\n",
      "      <a data-act=\"subnav-click\" data-val=\"{subnavClick:6}\"\n",
      "          href=\"/board/6\"\n",
      "      >最受期待榜</a>\n",
      "    </li>\n",
      "    <li>\n",
      "      <a data-act=\"subnav-click\" data-val=\"{subnavClick:1}\"\n",
      "          href=\"/board/1\"\n",
      "      >国内票房榜</a>\n",
      "    </li>\n",
      "    <li>\n",
      "      <a data-act=\"subnav-click\" data-val=\"{subnavClick:2}\"\n",
      "          href=\"/board/2\"\n",
      "      >北美票房榜</a>\n",
      "    </li>\n",
      "    <li>\n",
      "      <a data-act=\"subnav-click\" data-val=\"{subnavClick:4}\"\n",
      "          data-state-val=\"{subnavId:4}\"\n",
      "          class=\"active\" href=\"javascript:void(0);\"\n",
      "      >TOP100榜</a>\n",
      "    </li>\n",
      "  </ul>\n",
      "</div>\n",
      "\n",
      "\n",
      "    <div class=\"container\" id=\"app\" class=\"page-board/index\" >\n",
      "\n",
      "<div class=\"content\">\n",
      "    <div class=\"wrapper\">\n",
      "        <div class=\"main\">\n",
      "            <p class=\"update-time\">2019-11-30<span class=\"has-fresh-text\">已更新</span></p>\n",
      "            <p class=\"board-content\">榜单规则：将猫眼电影库中的经典影片，按照评分和评分人数从高到低综合排序取前100名，每天上午10点更新。相关数据来源于“猫眼电影库”。</p>\n",
      "            <dl class=\"board-wrapper\">\n",
      "                <dd>\n",
      "                        <i class=\"board-index board-index-1\">1</i>\n",
      "    <a href=\"/films/1203\" title=\"霸王别姬\" class=\"image-link\" data-act=\"boarditem-click\" data-val=\"{movieId:1203}\">\n",
      "      <img src=\"//s3plus.meituan.net/v1/mss_e2821d7f0cfe4ac1bf9202ecf9590e67/cdn-prod/file:5788b470/image/loading_2.e3d934bf.png\" alt=\"\" class=\"poster-default\" />\n",
      "      <img data-src=\"https://p1.meituan.net/movie/20803f59291c47e1e116c11963ce019e68711.jpg@160w_220h_1e_1c\" alt=\"霸王别姬\" class=\"board-img\" />\n",
      "    </a>\n",
      "    <div class=\"board-item-main\">\n",
      "      <div class=\"board-item-content\">\n",
      "              <div class=\"movie-item-info\">\n",
      "        <p class=\"name\"><a href=\"/films/1203\" title=\"霸王别姬\" data-act=\"boarditem-click\" data-val=\"{movieId:1203}\">霸王别姬</a></p>\n",
      "        <p class=\"star\">\n",
      "                主演：张国荣,张丰毅,巩俐\n",
      "        </p>\n",
      "<p class=\"releasetime\">上映时间：1993-07-26</p>    </div>\n",
      "    <div class=\"movie-item-number score-num\">\n",
      "<p class=\"score\"><i class=\"integer\">9.</i><i class=\"fraction\">5</i></p>        \n",
      "    </div>\n",
      "\n",
      "      </div>\n",
      "    </div>\n",
      "\n",
      "                </dd>\n",
      "                <dd>\n",
      "                        <i class=\"board-index board-index-2\">2</i>\n",
      "    <a href=\"/films/1297\" title=\"肖申克的救赎\" class=\"image-link\" data-act=\"boarditem-click\" data-val=\"{movieId:1297}\">\n",
      "      <img src=\"//s3plus.meituan.net/v1/mss_e2821d7f0cfe4ac1bf9202ecf9590e67/cdn-prod/file:5788b470/image/loading_2.e3d934bf.png\" alt=\"\" class=\"poster-default\" />\n",
      "      <img data-src=\"https://p0.meituan.net/movie/283292171619cdfd5b240c8fd093f1eb255670.jpg@160w_220h_1e_1c\" alt=\"肖申克的救赎\" class=\"board-img\" />\n",
      "    </a>\n",
      "    <div class=\"board-item-main\">\n",
      "      <div class=\"board-item-content\">\n",
      "              <div class=\"movie-item-info\">\n",
      "        <p class=\"name\"><a href=\"/films/1297\" title=\"肖申克的救赎\" data-act=\"boarditem-click\" data-val=\"{movieId:1297}\">肖申克的救赎</a></p>\n",
      "        <p class=\"star\">\n",
      "                主演：蒂姆·罗宾斯,摩根·弗里曼,鲍勃·冈顿\n",
      "        </p>\n",
      "<p class=\"releasetime\">上映时间：1994-09-10(加拿大)</p>    </div>\n",
      "    <div class=\"movie-item-number score-num\">\n",
      "<p class=\"score\"><i class=\"integer\">9.</i><i class=\"fraction\">5</i></p>        \n",
      "    </div>\n",
      "\n",
      "      </div>\n",
      "    </div>\n",
      "\n",
      "                </dd>\n",
      "                <dd>\n",
      "                        <i class=\"board-index board-index-3\">3</i>\n",
      "    <a href=\"/films/2641\" title=\"罗马假日\" class=\"image-link\" data-act=\"boarditem-click\" data-val=\"{movieId:2641}\">\n",
      "      <img src=\"//s3plus.meituan.net/v1/mss_e2821d7f0cfe4ac1bf9202ecf9590e67/cdn-prod/file:5788b470/image/loading_2.e3d934bf.png\" alt=\"\" class=\"poster-default\" />\n",
      "      <img data-src=\"https://p0.meituan.net/movie/289f98ceaa8a0ae737d3dc01cd05ab052213631.jpg@160w_220h_1e_1c\" alt=\"罗马假日\" class=\"board-img\" />\n",
      "    </a>\n",
      "    <div class=\"board-item-main\">\n",
      "      <div class=\"board-item-content\">\n",
      "              <div class=\"movie-item-info\">\n",
      "        <p class=\"name\"><a href=\"/films/2641\" title=\"罗马假日\" data-act=\"boarditem-click\" data-val=\"{movieId:2641}\">罗马假日</a></p>\n",
      "        <p class=\"star\">\n",
      "                主演：格利高里·派克,奥黛丽·赫本,埃迪·艾伯特\n",
      "        </p>\n",
      "<p class=\"releasetime\">上映时间：1953-09-02(美国)</p>    </div>\n",
      "    <div class=\"movie-item-number score-num\">\n",
      "<p class=\"score\"><i class=\"integer\">9.</i><i class=\"fraction\">1</i></p>        \n",
      "    </div>\n",
      "\n",
      "      </div>\n",
      "    </div>\n",
      "\n",
      "                </dd>\n",
      "                <dd>\n",
      "                        <i class=\"board-index board-index-4\">4</i>\n",
      "    <a href=\"/films/4055\" title=\"这个杀手不太冷\" class=\"image-link\" data-act=\"boarditem-click\" data-val=\"{movieId:4055}\">\n",
      "      <img src=\"//s3plus.meituan.net/v1/mss_e2821d7f0cfe4ac1bf9202ecf9590e67/cdn-prod/file:5788b470/image/loading_2.e3d934bf.png\" alt=\"\" class=\"poster-default\" />\n",
      "      <img data-src=\"https://p1.meituan.net/movie/6bea9af4524dfbd0b668eaa7e187c3df767253.jpg@160w_220h_1e_1c\" alt=\"这个杀手不太冷\" class=\"board-img\" />\n",
      "    </a>\n",
      "    <div class=\"board-item-main\">\n",
      "      <div class=\"board-item-content\">\n",
      "              <div class=\"movie-item-info\">\n",
      "        <p class=\"name\"><a href=\"/films/4055\" title=\"这个杀手不太冷\" data-act=\"boarditem-click\" data-val=\"{movieId:4055}\">这个杀手不太冷</a></p>\n",
      "        <p class=\"star\">\n",
      "                主演：让·雷诺,加里·奥德曼,娜塔莉·波特曼\n",
      "        </p>\n",
      "<p class=\"releasetime\">上映时间：1994-09-14(法国)</p>    </div>\n",
      "    <div class=\"movie-item-number score-num\">\n",
      "<p class=\"score\"><i class=\"integer\">9.</i><i class=\"fraction\">5</i></p>        \n",
      "    </div>\n",
      "\n",
      "      </div>\n",
      "    </div>\n",
      "\n",
      "                </dd>\n",
      "                <dd>\n",
      "                        <i class=\"board-index board-index-5\">5</i>\n",
      "    <a href=\"/films/267\" title=\"泰坦尼克号\" class=\"image-link\" data-act=\"boarditem-click\" data-val=\"{movieId:267}\">\n",
      "      <img src=\"//s3plus.meituan.net/v1/mss_e2821d7f0cfe4ac1bf9202ecf9590e67/cdn-prod/file:5788b470/image/loading_2.e3d934bf.png\" alt=\"\" class=\"poster-default\" />\n",
      "      <img data-src=\"https://p1.meituan.net/movie/b607fba7513e7f15eab170aac1e1400d878112.jpg@160w_220h_1e_1c\" alt=\"泰坦尼克号\" class=\"board-img\" />\n",
      "    </a>\n",
      "    <div class=\"board-item-main\">\n",
      "      <div class=\"board-item-content\">\n",
      "              <div class=\"movie-item-info\">\n",
      "        <p class=\"name\"><a href=\"/films/267\" title=\"泰坦尼克号\" data-act=\"boarditem-click\" data-val=\"{movieId:267}\">泰坦尼克号</a></p>\n",
      "        <p class=\"star\">\n",
      "                主演：莱昂纳多·迪卡普里奥,凯特·温丝莱特,比利·赞恩\n",
      "        </p>\n",
      "<p class=\"releasetime\">上映时间：1998-04-03</p>    </div>\n",
      "    <div class=\"movie-item-number score-num\">\n",
      "<p class=\"score\"><i class=\"integer\">9.</i><i class=\"fraction\">5</i></p>        \n",
      "    </div>\n",
      "\n",
      "      </div>\n",
      "    </div>\n",
      "\n",
      "                </dd>\n",
      "                <dd>\n",
      "                        <i class=\"board-index board-index-6\">6</i>\n",
      "    <a href=\"/films/837\" title=\"唐伯虎点秋香\" class=\"image-link\" data-act=\"boarditem-click\" data-val=\"{movieId:837}\">\n",
      "      <img src=\"//s3plus.meituan.net/v1/mss_e2821d7f0cfe4ac1bf9202ecf9590e67/cdn-prod/file:5788b470/image/loading_2.e3d934bf.png\" alt=\"\" class=\"poster-default\" />\n",
      "      <img data-src=\"https://p0.meituan.net/movie/da64660f82b98cdc1b8a3804e69609e041108.jpg@160w_220h_1e_1c\" alt=\"唐伯虎点秋香\" class=\"board-img\" />\n",
      "    </a>\n",
      "    <div class=\"board-item-main\">\n",
      "      <div class=\"board-item-content\">\n",
      "              <div class=\"movie-item-info\">\n",
      "        <p class=\"name\"><a href=\"/films/837\" title=\"唐伯虎点秋香\" data-act=\"boarditem-click\" data-val=\"{movieId:837}\">唐伯虎点秋香</a></p>\n",
      "        <p class=\"star\">\n",
      "                主演：周星驰,巩俐,郑佩佩\n",
      "        </p>\n",
      "<p class=\"releasetime\">上映时间：1993-07-01(中国香港)</p>    </div>\n",
      "    <div class=\"movie-item-number score-num\">\n",
      "<p class=\"score\"><i class=\"integer\">9.</i><i class=\"fraction\">1</i></p>        \n",
      "    </div>\n",
      "\n",
      "      </div>\n",
      "    </div>\n",
      "\n",
      "                </dd>\n",
      "                <dd>\n",
      "                        <i class=\"board-index board-index-7\">7</i>\n",
      "    <a href=\"/films/7431\" title=\"乱世佳人\" class=\"image-link\" data-act=\"boarditem-click\" data-val=\"{movieId:7431}\">\n",
      "      <img src=\"//s3plus.meituan.net/v1/mss_e2821d7f0cfe4ac1bf9202ecf9590e67/cdn-prod/file:5788b470/image/loading_2.e3d934bf.png\" alt=\"\" class=\"poster-default\" />\n",
      "      <img data-src=\"https://p0.meituan.net/movie/223c3e186db3ab4ea3bb14508c709400427933.jpg@160w_220h_1e_1c\" alt=\"乱世佳人\" class=\"board-img\" />\n",
      "    </a>\n",
      "    <div class=\"board-item-main\">\n",
      "      <div class=\"board-item-content\">\n",
      "              <div class=\"movie-item-info\">\n",
      "        <p class=\"name\"><a href=\"/films/7431\" title=\"乱世佳人\" data-act=\"boarditem-click\" data-val=\"{movieId:7431}\">乱世佳人</a></p>\n",
      "        <p class=\"star\">\n",
      "                主演：费雯·丽,克拉克·盖博,奥利维娅·德哈维兰\n",
      "        </p>\n",
      "<p class=\"releasetime\">上映时间：1939-12-15(美国)</p>    </div>\n",
      "    <div class=\"movie-item-number score-num\">\n",
      "<p class=\"score\"><i class=\"integer\">9.</i><i class=\"fraction\">1</i></p>        \n",
      "    </div>\n",
      "\n",
      "      </div>\n",
      "    </div>\n",
      "\n",
      "                </dd>\n",
      "                <dd>\n",
      "                        <i class=\"board-index board-index-8\">8</i>\n",
      "    <a href=\"/films/2760\" title=\"魂断蓝桥\" class=\"image-link\" data-act=\"boarditem-click\" data-val=\"{movieId:2760}\">\n",
      "      <img src=\"//s3plus.meituan.net/v1/mss_e2821d7f0cfe4ac1bf9202ecf9590e67/cdn-prod/file:5788b470/image/loading_2.e3d934bf.png\" alt=\"\" class=\"poster-default\" />\n",
      "      <img data-src=\"https://p0.meituan.net/movie/46c29a8b8d8424bdda7715e6fd779c66235684.jpg@160w_220h_1e_1c\" alt=\"魂断蓝桥\" class=\"board-img\" />\n",
      "    </a>\n",
      "    <div class=\"board-item-main\">\n",
      "      <div class=\"board-item-content\">\n",
      "              <div class=\"movie-item-info\">\n",
      "        <p class=\"name\"><a href=\"/films/2760\" title=\"魂断蓝桥\" data-act=\"boarditem-click\" data-val=\"{movieId:2760}\">魂断蓝桥</a></p>\n",
      "        <p class=\"star\">\n",
      "                主演：费雯·丽,罗伯特·泰勒,露塞尔·沃特森\n",
      "        </p>\n",
      "<p class=\"releasetime\">上映时间：1940-05-17(美国)</p>    </div>\n",
      "    <div class=\"movie-item-number score-num\">\n",
      "<p class=\"score\"><i class=\"integer\">9.</i><i class=\"fraction\">2</i></p>        \n",
      "    </div>\n",
      "\n",
      "      </div>\n",
      "    </div>\n",
      "\n",
      "                </dd>\n",
      "                <dd>\n",
      "                        <i class=\"board-index board-index-9\">9</i>\n",
      "    <a href=\"/films/1228\" title=\"天空之城\" class=\"image-link\" data-act=\"boarditem-click\" data-val=\"{movieId:1228}\">\n",
      "      <img src=\"//s3plus.meituan.net/v1/mss_e2821d7f0cfe4ac1bf9202ecf9590e67/cdn-prod/file:5788b470/image/loading_2.e3d934bf.png\" alt=\"\" class=\"poster-default\" />\n",
      "      <img data-src=\"https://p1.meituan.net/movie/ba1ed511668402605ed369350ab779d6319397.jpg@160w_220h_1e_1c\" alt=\"天空之城\" class=\"board-img\" />\n",
      "    </a>\n",
      "    <div class=\"board-item-main\">\n",
      "      <div class=\"board-item-content\">\n",
      "              <div class=\"movie-item-info\">\n",
      "        <p class=\"name\"><a href=\"/films/1228\" title=\"天空之城\" data-act=\"boarditem-click\" data-val=\"{movieId:1228}\">天空之城</a></p>\n",
      "        <p class=\"star\">\n",
      "                主演：寺田农,鹫尾真知子,龟山助清\n",
      "        </p>\n",
      "<p class=\"releasetime\">上映时间：1992-05-01</p>    </div>\n",
      "    <div class=\"movie-item-number score-num\">\n",
      "<p class=\"score\"><i class=\"integer\">9.</i><i class=\"fraction\">0</i></p>        \n",
      "    </div>\n",
      "\n",
      "      </div>\n",
      "    </div>\n",
      "\n",
      "                </dd>\n",
      "                <dd>\n",
      "                        <i class=\"board-index board-index-10\">10</i>\n",
      "    <a href=\"/films/3667\" title=\"辛德勒的名单\" class=\"image-link\" data-act=\"boarditem-click\" data-val=\"{movieId:3667}\">\n",
      "      <img src=\"//s3plus.meituan.net/v1/mss_e2821d7f0cfe4ac1bf9202ecf9590e67/cdn-prod/file:5788b470/image/loading_2.e3d934bf.png\" alt=\"\" class=\"poster-default\" />\n",
      "      <img data-src=\"https://p0.meituan.net/movie/b0d986a8bf89278afbb19f6abaef70f31206570.jpg@160w_220h_1e_1c\" alt=\"辛德勒的名单\" class=\"board-img\" />\n",
      "    </a>\n",
      "    <div class=\"board-item-main\">\n",
      "      <div class=\"board-item-content\">\n",
      "              <div class=\"movie-item-info\">\n",
      "        <p class=\"name\"><a href=\"/films/3667\" title=\"辛德勒的名单\" data-act=\"boarditem-click\" data-val=\"{movieId:3667}\">辛德勒的名单</a></p>\n",
      "        <p class=\"star\">\n",
      "                主演：连姆·尼森,拉尔夫·费因斯,本·金斯利\n",
      "        </p>\n",
      "<p class=\"releasetime\">上映时间：1993-12-15(美国)</p>    </div>\n",
      "    <div class=\"movie-item-number score-num\">\n",
      "<p class=\"score\"><i class=\"integer\">9.</i><i class=\"fraction\">2</i></p>        \n",
      "    </div>\n",
      "\n",
      "      </div>\n",
      "    </div>\n",
      "\n",
      "                </dd>\n",
      "            </dl>\n",
      "\n",
      "        </div>\n",
      "            <div class=\"pager-main\">\n",
      "                \n",
      "  \n",
      "  <ul class=\"list-pager\">\n",
      "\n",
      "\n",
      "\n",
      "  \n",
      "      <li class=\"active\">\n",
      "    <a class=\"page_1\"\n",
      "      href=\"javascript:void(0);\" style=\"cursor: default\"\n",
      "  >1</a>\n",
      "\n",
      "</li>\n",
      "  <li >\n",
      "    <a class=\"page_2\"\n",
      "      href=\"?offset=10\"\n",
      "  >2</a>\n",
      "\n",
      "</li>\n",
      "  <li >\n",
      "    <a class=\"page_3\"\n",
      "      href=\"?offset=20\"\n",
      "  >3</a>\n",
      "\n",
      "</li>\n",
      "  <li >\n",
      "    <a class=\"page_4\"\n",
      "      href=\"?offset=30\"\n",
      "  >4</a>\n",
      "\n",
      "</li>\n",
      "  <li >\n",
      "    <a class=\"page_5\"\n",
      "      href=\"?offset=40\"\n",
      "  >5</a>\n",
      "\n",
      "</li>\n",
      "\n",
      "    <li class=\"sep\">...</li>\n",
      "      <li >\n",
      "    <a class=\"page_10\"\n",
      "      href=\"?offset=90\"\n",
      "  >10</a>\n",
      "\n",
      "</li>\n",
      "\n",
      "  \n",
      "\n",
      "<li>  <a class=\"page_2\"\n",
      "      href=\"?offset=10\"\n",
      "  >下一页</a>\n",
      "</li>\n",
      "</ul>\n",
      "\n",
      "\n",
      "            </div>\n",
      "    </div>\n",
      "</div>\n",
      "\n",
      "    </div>\n",
      "\n",
      "<div class=\"footer\">\n",
      "  <p class=\"friendly-links\">\n",
      "    关于猫眼 :\n",
      "    <a href=\"http://ir.maoyan.com/s/index.php#pageScroll0\" target=\"_blank\">关于我们</a>\n",
      "    <span></span>\n",
      "    <a href=\"http://ir.maoyan.com/s/index.php#pageScroll1\" target=\"_blank\">管理团队</a>\n",
      "    <span></span>\n",
      "    <a href=\"http://ir.maoyan.com/s/index.php#pageScroll2\" target=\"_blank\">投资者关系</a>\n",
      "    &nbsp;&nbsp;&nbsp;&nbsp;\n",
      "    友情链接 :\n",
      "    <a href=\"http://www.meituan.com\" data-query=\"utm_source=wwwmaoyan\" target=\"_blank\">美团网</a>\n",
      "    <span></span>\n",
      "    <a href=\"http://www.gewara.com\" data-query=\"utm_source=wwwmaoyan\">格瓦拉</a>\n",
      "    <span></span>\n",
      "    <a href=\"http://i.meituan.com/client\" data-query=\"utm_source=wwwmaoyan\" target=\"_blank\">美团下载</a>\n",
      "    <span></span>\n",
      "    <a href=\"https://www.huanxi.com\" data-query=\"utm_source=maoyan_pc\" target=\"_blank\">欢喜首映</a>\n",
      "  </p>\n",
      "  <p class=\"friendly-links\">\n",
      "    商务合作邮箱：v@maoyan.com\n",
      "    客服电话：10105335\n",
      "    违法和不良信息举报电话：4006018900\n",
      "  </p>\n",
      "  <p class=\"friendly-links\">\n",
      "    用户投诉邮箱：tousujubao@meituan.com\n",
      "    舞弊线索举报邮箱：wubijubao@maoyan.com\n",
      "  </p>\n",
      "  <p class=\"friendly-links  credentials\">\n",
      "    <a href=\"/about/licence/1\" target=\"_blank\">中华人民共和国增值电信业务经营许可证 京B2-20190350</a>\n",
      "    <span></span>\n",
      "    <a href=\"/about/licence/4\" target=\"_blank\">营业性演出许可证 京演（机构）（2019）4094号</a>\n",
      "  </p>\n",
      "  <p class=\"friendly-links  credentials\">\n",
      "    <a href=\"/about/licence/3\" target=\"_blank\">广播电视节目制作经营许可证 （京）字第08478号</a>\n",
      "    <span></span>\n",
      "    <a href=\"/about/licence/2\" target=\"_blank\">网络文化经营许可证 京网文（2019）3837-369号 </a>\n",
      "  </p>\n",
      "  <p class=\"friendly-links  credentials\">\n",
      "    <a href=\"/rules/agreement\" target=\"_blank\">猫眼用户服务协议 </a>\n",
      "    <span></span>\n",
      "    <a href=\"/rules/rule\" target=\"_blank\">猫眼平台交易规则总则 </a>\n",
      "    <span></span>\n",
      "    <a href=\"/rules/privacy\" target=\"_blank\">隐私政策 </a>\n",
      "  </p>\n",
      "  <p class=\"friendly-links  credentials\">\n",
      "    <a href=\"http://www.beian.gov.cn/portal/registerSystemInfo?recordcode=11010102003232\" target=\"_blank\">京公网安备\n",
      "      11010102003232号</a>\n",
      "  </p>\n",
      "  <p>北京猫眼文化传媒有限公司</p>\n",
      "  <p>\n",
      "    &copy;2016\n",
      "    猫眼电影 maoyan.com</p>\n",
      "  <div class=\"certificate\">\n",
      "    <a href=\"http://sq.ccm.gov.cn:80/ccnt/sczr/service/business/emark/toDetail/350CF8BCA8416C4FE0530140A8C0957E\"\n",
      "      target=\"_blank\">\n",
      "      <img src=\"http://p0.meituan.net/moviemachine/e54374ccf134d1f7b2c5b075a74fca525326.png\" />\n",
      "    </a>\n",
      "    <a href=\"/about/licence/5\" target=\"_blank\">\n",
      "      <img src=\"http://p1.meituan.net/moviemachine/805f605d5cf1b1a02a4e3a5e29df003b8376.png\" />\n",
      "    </a>\n",
      "  </div>\n",
      "</div>\n",
      "\n",
      "    <script crossorigin=\"anonymous\" src=\"//www.dpfile.com/app/owl/static/owl_1.7.11.js\"></script>\n",
      "    <script>\n",
      "      Owl.start({\n",
      "        project: 'com.sankuai.movie.fe.mywww', \n",
      "        pageUrl: location.href.split('?')[0].replace(/\\/\\d+/g, '/:id'),\n",
      "        devMode: false\n",
      "      })\n",
      "    </script>\n",
      "    <!--[if IE 8]><script crossorigin=\"anonymous\" src=\"//s3plus.meituan.net/v1/mss_e2821d7f0cfe4ac1bf9202ecf9590e67/cdn-prod/file:5788b470/es5-shim.bbad933f.js\"></script><![endif]-->\n",
      "    <!--[if IE 8]><script crossorigin=\"anonymous\" src=\"//s3plus.meituan.net/v1/mss_e2821d7f0cfe4ac1bf9202ecf9590e67/cdn-prod/file:5788b470/es5-sham.d6ea26f4.js\"></script><![endif]-->\n",
      "    <script crossorigin=\"anonymous\" src=\"//s3plus.meituan.net/v1/mss_e2821d7f0cfe4ac1bf9202ecf9590e67/cdn-prod/file:5788b470/common.9fc677f9.js\"></script>\n",
      "<script crossorigin=\"anonymous\" src=\"//s3plus.meituan.net/v1/mss_e2821d7f0cfe4ac1bf9202ecf9590e67/cdn-prod/file:5788b470/board-index.0cdf8e36.js\"></script>\n",
      "</body>\n",
      "</html>\n",
      "\n"
     ]
    }
   ],
   "source": [
    "import urllib.request\n",
    "\n",
    "url = 'https://maoyan.com/board/4'\n",
    "headers = {'User-Agent': 'Mozilla/5.0 (Macintosh; Intel Mac OS X 10_13_2) AppleWebKit/537.36 (KHTML, like Gecko) Chrome/64.0.3282.119 Safari/537.36'}\n",
    "req = urllib.request.Request(url, headers=headers)\n",
    "response = urllib.request.urlopen(req)\n",
    "print(response.read().decode())"
   ]
  },
  {
   "cell_type": "code",
   "execution_count": 7,
   "metadata": {},
   "outputs": [
    {
     "name": "stdout",
     "output_type": "stream",
     "text": [
      "<!DOCTYPE html>\n",
      "\n",
      "<!--[if IE 8]><html class=\"ie8\"><![endif]-->\n",
      "<!--[if IE 9]><html class=\"ie9\"><![endif]-->\n",
      "<!--[if gt IE 9]><!--><html><!--<![endif]-->\n",
      "<head>\n",
      "  <title>TOP100榜 - 猫眼电影 - 一网打尽好电影</title>\n",
      "  \n",
      "  <link rel=\"dns-prefetch\" href=\"//p0.meituan.net\"  />\n",
      "  <link rel=\"dns-prefetch\" href=\"//p1.meituan.net\"  />\n",
      "  <link rel=\"dns-prefetch\" href=\"//ms0.meituan.net\" />\n",
      "  <link rel=\"dns-prefetch\" href=\"//s0.meituan.net\" />\n",
      "  <link rel=\"dns-prefetch\" href=\"//ms1.meituan.net\" />\n",
      "  <link rel=\"dns-prefetch\" href=\"//analytics.meituan.com\" />\n",
      "  <link rel=\"dns-prefetch\" href=\"//report.meituan.com\" />\n",
      "  <link rel=\"dns-prefetch\" href=\"//frep.meituan.com\" />\n",
      "\n",
      "  \n",
      "  <meta charset=\"utf-8\">\n",
      "  <meta name=\"keywords\" content=\"猫眼电影,电影排行榜,热映口碑榜,最受期待榜,国内票房榜,北美票房榜,猫眼TOP100\">\n",
      "  <meta name=\"description\" content=\"猫眼电影热门榜单,包括热映口碑榜,最受期待榜,国内票房榜,北美票房榜,猫眼TOP100,多维度为用户进行选片决策\">\n",
      "  <meta http-equiv=\"cleartype\" content=\"yes\" />\n",
      "  <meta http-equiv=\"X-UA-Compatible\" content=\"IE=edge\" />\n",
      "  <meta name=\"renderer\" content=\"webkit\" />\n",
      "\n",
      "  <meta name=\"HandheldFriendly\" content=\"true\" />\n",
      "  <meta name=\"format-detection\" content=\"email=no\" />\n",
      "  <meta name=\"format-detection\" content=\"telephone=no\" />\n",
      "  <meta name=\"viewport\" content=\"width=device-width, initial-scale=1\">\n",
      "\n",
      "  \n",
      "  <script>\"use strict\";!function(){var i=0<arguments.length&&void 0!==arguments[0]?arguments[0]:\"_Owl_\",n=window;n[i]||(n[i]={isRunning:!1,isReady:!1,preTasks:[],dataSet:[],use:function(i,t){this.isReady&&n.Owl&&n.Owl[i](t),this.preTasks.push({api:i,data:[t]})},add:function(i){this.dataSet.push(i)},run:function(){var t=this;if(!this.isRunning){this.isRunning=!0;var i=n.onerror;n.onerror=function(){this.isReady||this.add({type:\"jsError\",data:arguments}),i&&i.apply(n,arguments)}.bind(this),(n.addEventListener||n.attachEvent)(\"error\",function(i){t.isReady||t.add({type:\"resError\",data:[i]})},!0)}}},n[i].run())}();</script>\n",
      "  <script>\n",
      "  cid = \"c_wx6zb55\";\n",
      "  ci = 30;\n",
      "val = {\"subnavId\":4};    window.system = {};\n",
      "\n",
      "  window.openPlatform = '';\n",
      "  window.openPlatformSub = '';\n",
      "  window.$mtsiFlag = '0';\n",
      "\n",
      "  </script>\n",
      "  <link rel=\"stylesheet\" href=\"//s3plus.meituan.net/v1/mss_e2821d7f0cfe4ac1bf9202ecf9590e67/cdn-prod/file:5788b470/common.0a548310.css\"/>\n",
      "<link rel=\"stylesheet\" href=\"//s3plus.meituan.net/v1/mss_e2821d7f0cfe4ac1bf9202ecf9590e67/cdn-prod/file:5788b470/board-index.92a06072.css\"/>\n",
      "  <script crossorigin=\"anonymous\" src=\"//s3plus.meituan.net/v1/mss_e2821d7f0cfe4ac1bf9202ecf9590e67/cdn-prod/file:5788b470/stat.88d57c80.js\"></script>\n",
      "  <script>if(window.devicePixelRatio >= 2) { document.write('<link rel=\"stylesheet\" href=\"//s3plus.meituan.net/v1/mss_e2821d7f0cfe4ac1bf9202ecf9590e67/cdn-prod/file:5788b470/image-2x.8ba7074d.css\"/>') }</script>\n",
      "  <style>\n",
      "    @font-face {\n",
      "      font-family: stonefont;\n",
      "      src: url('//vfile.meituan.net/colorstone/54dd14e5493f8c2d7e6cb688ce4ee3023424.eot');\n",
      "      src: url('//vfile.meituan.net/colorstone/54dd14e5493f8c2d7e6cb688ce4ee3023424.eot?#iefix') format('embedded-opentype'),\n",
      "           url('//vfile.meituan.net/colorstone/ea65baaf1c0bccd307eb7bdb07be05982276.woff') format('woff');\n",
      "    }\n",
      "\n",
      "    .stonefont {\n",
      "      font-family: stonefont;\n",
      "    }\n",
      "  </style>\n",
      "  <script>\n",
      "  var _hmt = _hmt || [];\n",
      "  (function() {\n",
      "  var hm = document.createElement(\"script\");\n",
      "  hm.src = \"https://hm.baidu.com/hm.js?703e94591e87be68cc8da0da7cbd0be2\";\n",
      "  var s = document.getElementsByTagName(\"script\")[0]; \n",
      "  s.parentNode.insertBefore(hm, s);\n",
      "  })();\n",
      "  </script>\n",
      "</head>\n",
      "<body>\n",
      "\n",
      "\n",
      "<div class=\"header\">\n",
      "  <div class=\"header-inner\">\n",
      "        <a href=\"/\" class=\"logo\" data-act=\"icon-click\"></a>\n",
      "        <div class=\"city-container\" data-val=\"{currentcityid:30 }\">\n",
      "            <div class=\"city-selected\">\n",
      "                <div class=\"city-name\">\n",
      "                  深圳\n",
      "                  <span class=\"caret\"></span>\n",
      "                </div>\n",
      "            </div>\n",
      "            <div class=\"city-list\" data-val=\"{ localcityid: 30 }\">\n",
      "                <div class=\"city-list-header\">定位城市：<a class=\"js-geo-city\">深圳</a></div>\n",
      "                \n",
      "            </div>\n",
      "        </div>\n",
      "\n",
      "\n",
      "        <div class=\"nav\">\n",
      "            <ul class=\"navbar\">\n",
      "                <li><a href=\"/\" data-act=\"home-click\"  >首页</a></li>\n",
      "                <li><a href=\"/films\" data-act=\"movies-click\" >电影</a></li>\n",
      "                <li><a href=\"/cinemas\" data-act=\"cinemas-click\" >影院</a></li> \n",
      "                <li><a href=\"http://www.gewara.com\">演出</a></li>\n",
      "                \n",
      "                <li><a href=\"/board\" data-act=\"board-click\"  class=\"active\" >榜单</a></li>\n",
      "                <li><a href=\"/news\" data-act=\"hotNews-click\" >热点</a></li>\n",
      "                <li><a href=\"/edimall\"  >商城</a></li>\n",
      "            </ul>\n",
      "        </div>\n",
      "\n",
      "        <div class=\"user-info\">\n",
      "            <div class=\"user-avatar J-login\">\n",
      "              <img src=\"https://p0.meituan.net/movie/7dd82a16316ab32c8359debdb04396ef2897.png\">\n",
      "              <span class=\"caret\"></span>\n",
      "              <ul class=\"user-menu\">\n",
      "                <li><a href=\"javascript:void 0\">登录</a></li>\n",
      "              </ul>\n",
      "            </div>\n",
      "        </div>\n",
      "\n",
      "        <form action=\"/query\" target=\"_blank\" class=\"search-form\" data-actform=\"search-click\">\n",
      "            <input name=\"kw\" class=\"search\" type=\"search\" maxlength=\"32\" placeholder=\"找影视剧、影人、影院\" autocomplete=\"off\">\n",
      "            <input class=\"submit\" type=\"submit\" value=\"\">\n",
      "        </form>\n",
      "\n",
      "        <div class=\"app-download\">\n",
      "          <a href=\"/app\" target=\"_blank\">\n",
      "            <span class=\"iphone-icon\"></span>\n",
      "            <span class=\"apptext\">APP下载</span>\n",
      "            <span class=\"caret\"></span>\n",
      "            <div class=\"download-icon\">\n",
      "                <p class=\"down-title\">扫码下载APP</p>\n",
      "                <p class='down-content'>选座更优惠</p>\n",
      "            </div>\n",
      "          </a>\n",
      "        </div>\n",
      "    \n",
      "  </div>\n",
      "</div>\n",
      "<div class=\"header-placeholder\"></div>\n",
      "\n",
      "<div class=\"subnav\">\n",
      "  <ul class=\"navbar\">\n",
      "    <li>\n",
      "      <a data-act=\"subnav-click\" data-val=\"{subnavClick:7}\"\n",
      "          href=\"/board/7\"\n",
      "      >热映口碑榜</a>\n",
      "    </li>\n",
      "    <li>\n",
      "      <a data-act=\"subnav-click\" data-val=\"{subnavClick:6}\"\n",
      "          href=\"/board/6\"\n",
      "      >最受期待榜</a>\n",
      "    </li>\n",
      "    <li>\n",
      "      <a data-act=\"subnav-click\" data-val=\"{subnavClick:1}\"\n",
      "          href=\"/board/1\"\n",
      "      >国内票房榜</a>\n",
      "    </li>\n",
      "    <li>\n",
      "      <a data-act=\"subnav-click\" data-val=\"{subnavClick:2}\"\n",
      "          href=\"/board/2\"\n",
      "      >北美票房榜</a>\n",
      "    </li>\n",
      "    <li>\n",
      "      <a data-act=\"subnav-click\" data-val=\"{subnavClick:4}\"\n",
      "          data-state-val=\"{subnavId:4}\"\n",
      "          class=\"active\" href=\"javascript:void(0);\"\n",
      "      >TOP100榜</a>\n",
      "    </li>\n",
      "  </ul>\n",
      "</div>\n",
      "\n",
      "\n",
      "    <div class=\"container\" id=\"app\" class=\"page-board/index\" >\n",
      "\n",
      "<div class=\"content\">\n",
      "    <div class=\"wrapper\">\n",
      "        <div class=\"main\">\n",
      "            <p class=\"update-time\">2019-11-30<span class=\"has-fresh-text\">已更新</span></p>\n",
      "            <p class=\"board-content\">榜单规则：将猫眼电影库中的经典影片，按照评分和评分人数从高到低综合排序取前100名，每天上午10点更新。相关数据来源于“猫眼电影库”。</p>\n",
      "            <dl class=\"board-wrapper\">\n",
      "                <dd>\n",
      "                        <i class=\"board-index board-index-1\">1</i>\n",
      "    <a href=\"/films/1203\" title=\"霸王别姬\" class=\"image-link\" data-act=\"boarditem-click\" data-val=\"{movieId:1203}\">\n",
      "      <img src=\"//s3plus.meituan.net/v1/mss_e2821d7f0cfe4ac1bf9202ecf9590e67/cdn-prod/file:5788b470/image/loading_2.e3d934bf.png\" alt=\"\" class=\"poster-default\" />\n",
      "      <img data-src=\"https://p1.meituan.net/movie/20803f59291c47e1e116c11963ce019e68711.jpg@160w_220h_1e_1c\" alt=\"霸王别姬\" class=\"board-img\" />\n",
      "    </a>\n",
      "    <div class=\"board-item-main\">\n",
      "      <div class=\"board-item-content\">\n",
      "              <div class=\"movie-item-info\">\n",
      "        <p class=\"name\"><a href=\"/films/1203\" title=\"霸王别姬\" data-act=\"boarditem-click\" data-val=\"{movieId:1203}\">霸王别姬</a></p>\n",
      "        <p class=\"star\">\n",
      "                主演：张国荣,张丰毅,巩俐\n",
      "        </p>\n",
      "<p class=\"releasetime\">上映时间：1993-07-26</p>    </div>\n",
      "    <div class=\"movie-item-number score-num\">\n",
      "<p class=\"score\"><i class=\"integer\">9.</i><i class=\"fraction\">5</i></p>        \n",
      "    </div>\n",
      "\n",
      "      </div>\n",
      "    </div>\n",
      "\n",
      "                </dd>\n",
      "                <dd>\n",
      "                        <i class=\"board-index board-index-2\">2</i>\n",
      "    <a href=\"/films/1297\" title=\"肖申克的救赎\" class=\"image-link\" data-act=\"boarditem-click\" data-val=\"{movieId:1297}\">\n",
      "      <img src=\"//s3plus.meituan.net/v1/mss_e2821d7f0cfe4ac1bf9202ecf9590e67/cdn-prod/file:5788b470/image/loading_2.e3d934bf.png\" alt=\"\" class=\"poster-default\" />\n",
      "      <img data-src=\"https://p0.meituan.net/movie/283292171619cdfd5b240c8fd093f1eb255670.jpg@160w_220h_1e_1c\" alt=\"肖申克的救赎\" class=\"board-img\" />\n",
      "    </a>\n",
      "    <div class=\"board-item-main\">\n",
      "      <div class=\"board-item-content\">\n",
      "              <div class=\"movie-item-info\">\n",
      "        <p class=\"name\"><a href=\"/films/1297\" title=\"肖申克的救赎\" data-act=\"boarditem-click\" data-val=\"{movieId:1297}\">肖申克的救赎</a></p>\n",
      "        <p class=\"star\">\n",
      "                主演：蒂姆·罗宾斯,摩根·弗里曼,鲍勃·冈顿\n",
      "        </p>\n",
      "<p class=\"releasetime\">上映时间：1994-09-10(加拿大)</p>    </div>\n",
      "    <div class=\"movie-item-number score-num\">\n",
      "<p class=\"score\"><i class=\"integer\">9.</i><i class=\"fraction\">5</i></p>        \n",
      "    </div>\n",
      "\n",
      "      </div>\n",
      "    </div>\n",
      "\n",
      "                </dd>\n",
      "                <dd>\n",
      "                        <i class=\"board-index board-index-3\">3</i>\n",
      "    <a href=\"/films/2641\" title=\"罗马假日\" class=\"image-link\" data-act=\"boarditem-click\" data-val=\"{movieId:2641}\">\n",
      "      <img src=\"//s3plus.meituan.net/v1/mss_e2821d7f0cfe4ac1bf9202ecf9590e67/cdn-prod/file:5788b470/image/loading_2.e3d934bf.png\" alt=\"\" class=\"poster-default\" />\n",
      "      <img data-src=\"https://p0.meituan.net/movie/289f98ceaa8a0ae737d3dc01cd05ab052213631.jpg@160w_220h_1e_1c\" alt=\"罗马假日\" class=\"board-img\" />\n",
      "    </a>\n",
      "    <div class=\"board-item-main\">\n",
      "      <div class=\"board-item-content\">\n",
      "              <div class=\"movie-item-info\">\n",
      "        <p class=\"name\"><a href=\"/films/2641\" title=\"罗马假日\" data-act=\"boarditem-click\" data-val=\"{movieId:2641}\">罗马假日</a></p>\n",
      "        <p class=\"star\">\n",
      "                主演：格利高里·派克,奥黛丽·赫本,埃迪·艾伯特\n",
      "        </p>\n",
      "<p class=\"releasetime\">上映时间：1953-09-02(美国)</p>    </div>\n",
      "    <div class=\"movie-item-number score-num\">\n",
      "<p class=\"score\"><i class=\"integer\">9.</i><i class=\"fraction\">1</i></p>        \n",
      "    </div>\n",
      "\n",
      "      </div>\n",
      "    </div>\n",
      "\n",
      "                </dd>\n",
      "                <dd>\n",
      "                        <i class=\"board-index board-index-4\">4</i>\n",
      "    <a href=\"/films/4055\" title=\"这个杀手不太冷\" class=\"image-link\" data-act=\"boarditem-click\" data-val=\"{movieId:4055}\">\n",
      "      <img src=\"//s3plus.meituan.net/v1/mss_e2821d7f0cfe4ac1bf9202ecf9590e67/cdn-prod/file:5788b470/image/loading_2.e3d934bf.png\" alt=\"\" class=\"poster-default\" />\n",
      "      <img data-src=\"https://p1.meituan.net/movie/6bea9af4524dfbd0b668eaa7e187c3df767253.jpg@160w_220h_1e_1c\" alt=\"这个杀手不太冷\" class=\"board-img\" />\n",
      "    </a>\n",
      "    <div class=\"board-item-main\">\n",
      "      <div class=\"board-item-content\">\n",
      "              <div class=\"movie-item-info\">\n",
      "        <p class=\"name\"><a href=\"/films/4055\" title=\"这个杀手不太冷\" data-act=\"boarditem-click\" data-val=\"{movieId:4055}\">这个杀手不太冷</a></p>\n",
      "        <p class=\"star\">\n",
      "                主演：让·雷诺,加里·奥德曼,娜塔莉·波特曼\n",
      "        </p>\n",
      "<p class=\"releasetime\">上映时间：1994-09-14(法国)</p>    </div>\n",
      "    <div class=\"movie-item-number score-num\">\n",
      "<p class=\"score\"><i class=\"integer\">9.</i><i class=\"fraction\">5</i></p>        \n",
      "    </div>\n",
      "\n",
      "      </div>\n",
      "    </div>\n",
      "\n",
      "                </dd>\n",
      "                <dd>\n",
      "                        <i class=\"board-index board-index-5\">5</i>\n",
      "    <a href=\"/films/267\" title=\"泰坦尼克号\" class=\"image-link\" data-act=\"boarditem-click\" data-val=\"{movieId:267}\">\n",
      "      <img src=\"//s3plus.meituan.net/v1/mss_e2821d7f0cfe4ac1bf9202ecf9590e67/cdn-prod/file:5788b470/image/loading_2.e3d934bf.png\" alt=\"\" class=\"poster-default\" />\n",
      "      <img data-src=\"https://p1.meituan.net/movie/b607fba7513e7f15eab170aac1e1400d878112.jpg@160w_220h_1e_1c\" alt=\"泰坦尼克号\" class=\"board-img\" />\n",
      "    </a>\n",
      "    <div class=\"board-item-main\">\n",
      "      <div class=\"board-item-content\">\n",
      "              <div class=\"movie-item-info\">\n",
      "        <p class=\"name\"><a href=\"/films/267\" title=\"泰坦尼克号\" data-act=\"boarditem-click\" data-val=\"{movieId:267}\">泰坦尼克号</a></p>\n",
      "        <p class=\"star\">\n",
      "                主演：莱昂纳多·迪卡普里奥,凯特·温丝莱特,比利·赞恩\n",
      "        </p>\n",
      "<p class=\"releasetime\">上映时间：1998-04-03</p>    </div>\n",
      "    <div class=\"movie-item-number score-num\">\n",
      "<p class=\"score\"><i class=\"integer\">9.</i><i class=\"fraction\">5</i></p>        \n",
      "    </div>\n",
      "\n",
      "      </div>\n",
      "    </div>\n",
      "\n",
      "                </dd>\n",
      "                <dd>\n",
      "                        <i class=\"board-index board-index-6\">6</i>\n",
      "    <a href=\"/films/837\" title=\"唐伯虎点秋香\" class=\"image-link\" data-act=\"boarditem-click\" data-val=\"{movieId:837}\">\n",
      "      <img src=\"//s3plus.meituan.net/v1/mss_e2821d7f0cfe4ac1bf9202ecf9590e67/cdn-prod/file:5788b470/image/loading_2.e3d934bf.png\" alt=\"\" class=\"poster-default\" />\n",
      "      <img data-src=\"https://p0.meituan.net/movie/da64660f82b98cdc1b8a3804e69609e041108.jpg@160w_220h_1e_1c\" alt=\"唐伯虎点秋香\" class=\"board-img\" />\n",
      "    </a>\n",
      "    <div class=\"board-item-main\">\n",
      "      <div class=\"board-item-content\">\n",
      "              <div class=\"movie-item-info\">\n",
      "        <p class=\"name\"><a href=\"/films/837\" title=\"唐伯虎点秋香\" data-act=\"boarditem-click\" data-val=\"{movieId:837}\">唐伯虎点秋香</a></p>\n",
      "        <p class=\"star\">\n",
      "                主演：周星驰,巩俐,郑佩佩\n",
      "        </p>\n",
      "<p class=\"releasetime\">上映时间：1993-07-01(中国香港)</p>    </div>\n",
      "    <div class=\"movie-item-number score-num\">\n",
      "<p class=\"score\"><i class=\"integer\">9.</i><i class=\"fraction\">1</i></p>        \n",
      "    </div>\n",
      "\n",
      "      </div>\n",
      "    </div>\n",
      "\n",
      "                </dd>\n",
      "                <dd>\n",
      "                        <i class=\"board-index board-index-7\">7</i>\n",
      "    <a href=\"/films/7431\" title=\"乱世佳人\" class=\"image-link\" data-act=\"boarditem-click\" data-val=\"{movieId:7431}\">\n",
      "      <img src=\"//s3plus.meituan.net/v1/mss_e2821d7f0cfe4ac1bf9202ecf9590e67/cdn-prod/file:5788b470/image/loading_2.e3d934bf.png\" alt=\"\" class=\"poster-default\" />\n",
      "      <img data-src=\"https://p0.meituan.net/movie/223c3e186db3ab4ea3bb14508c709400427933.jpg@160w_220h_1e_1c\" alt=\"乱世佳人\" class=\"board-img\" />\n",
      "    </a>\n",
      "    <div class=\"board-item-main\">\n",
      "      <div class=\"board-item-content\">\n",
      "              <div class=\"movie-item-info\">\n",
      "        <p class=\"name\"><a href=\"/films/7431\" title=\"乱世佳人\" data-act=\"boarditem-click\" data-val=\"{movieId:7431}\">乱世佳人</a></p>\n",
      "        <p class=\"star\">\n",
      "                主演：费雯·丽,克拉克·盖博,奥利维娅·德哈维兰\n",
      "        </p>\n",
      "<p class=\"releasetime\">上映时间：1939-12-15(美国)</p>    </div>\n",
      "    <div class=\"movie-item-number score-num\">\n",
      "<p class=\"score\"><i class=\"integer\">9.</i><i class=\"fraction\">1</i></p>        \n",
      "    </div>\n",
      "\n",
      "      </div>\n",
      "    </div>\n",
      "\n",
      "                </dd>\n",
      "                <dd>\n",
      "                        <i class=\"board-index board-index-8\">8</i>\n",
      "    <a href=\"/films/2760\" title=\"魂断蓝桥\" class=\"image-link\" data-act=\"boarditem-click\" data-val=\"{movieId:2760}\">\n",
      "      <img src=\"//s3plus.meituan.net/v1/mss_e2821d7f0cfe4ac1bf9202ecf9590e67/cdn-prod/file:5788b470/image/loading_2.e3d934bf.png\" alt=\"\" class=\"poster-default\" />\n",
      "      <img data-src=\"https://p0.meituan.net/movie/46c29a8b8d8424bdda7715e6fd779c66235684.jpg@160w_220h_1e_1c\" alt=\"魂断蓝桥\" class=\"board-img\" />\n",
      "    </a>\n",
      "    <div class=\"board-item-main\">\n",
      "      <div class=\"board-item-content\">\n",
      "              <div class=\"movie-item-info\">\n",
      "        <p class=\"name\"><a href=\"/films/2760\" title=\"魂断蓝桥\" data-act=\"boarditem-click\" data-val=\"{movieId:2760}\">魂断蓝桥</a></p>\n",
      "        <p class=\"star\">\n",
      "                主演：费雯·丽,罗伯特·泰勒,露塞尔·沃特森\n",
      "        </p>\n",
      "<p class=\"releasetime\">上映时间：1940-05-17(美国)</p>    </div>\n",
      "    <div class=\"movie-item-number score-num\">\n",
      "<p class=\"score\"><i class=\"integer\">9.</i><i class=\"fraction\">2</i></p>        \n",
      "    </div>\n",
      "\n",
      "      </div>\n",
      "    </div>\n",
      "\n",
      "                </dd>\n",
      "                <dd>\n",
      "                        <i class=\"board-index board-index-9\">9</i>\n",
      "    <a href=\"/films/1228\" title=\"天空之城\" class=\"image-link\" data-act=\"boarditem-click\" data-val=\"{movieId:1228}\">\n",
      "      <img src=\"//s3plus.meituan.net/v1/mss_e2821d7f0cfe4ac1bf9202ecf9590e67/cdn-prod/file:5788b470/image/loading_2.e3d934bf.png\" alt=\"\" class=\"poster-default\" />\n",
      "      <img data-src=\"https://p1.meituan.net/movie/ba1ed511668402605ed369350ab779d6319397.jpg@160w_220h_1e_1c\" alt=\"天空之城\" class=\"board-img\" />\n",
      "    </a>\n",
      "    <div class=\"board-item-main\">\n",
      "      <div class=\"board-item-content\">\n",
      "              <div class=\"movie-item-info\">\n",
      "        <p class=\"name\"><a href=\"/films/1228\" title=\"天空之城\" data-act=\"boarditem-click\" data-val=\"{movieId:1228}\">天空之城</a></p>\n",
      "        <p class=\"star\">\n",
      "                主演：寺田农,鹫尾真知子,龟山助清\n",
      "        </p>\n",
      "<p class=\"releasetime\">上映时间：1992-05-01</p>    </div>\n",
      "    <div class=\"movie-item-number score-num\">\n",
      "<p class=\"score\"><i class=\"integer\">9.</i><i class=\"fraction\">0</i></p>        \n",
      "    </div>\n",
      "\n",
      "      </div>\n",
      "    </div>\n",
      "\n",
      "                </dd>\n",
      "                <dd>\n",
      "                        <i class=\"board-index board-index-10\">10</i>\n",
      "    <a href=\"/films/3667\" title=\"辛德勒的名单\" class=\"image-link\" data-act=\"boarditem-click\" data-val=\"{movieId:3667}\">\n",
      "      <img src=\"//s3plus.meituan.net/v1/mss_e2821d7f0cfe4ac1bf9202ecf9590e67/cdn-prod/file:5788b470/image/loading_2.e3d934bf.png\" alt=\"\" class=\"poster-default\" />\n",
      "      <img data-src=\"https://p0.meituan.net/movie/b0d986a8bf89278afbb19f6abaef70f31206570.jpg@160w_220h_1e_1c\" alt=\"辛德勒的名单\" class=\"board-img\" />\n",
      "    </a>\n",
      "    <div class=\"board-item-main\">\n",
      "      <div class=\"board-item-content\">\n",
      "              <div class=\"movie-item-info\">\n",
      "        <p class=\"name\"><a href=\"/films/3667\" title=\"辛德勒的名单\" data-act=\"boarditem-click\" data-val=\"{movieId:3667}\">辛德勒的名单</a></p>\n",
      "        <p class=\"star\">\n",
      "                主演：连姆·尼森,拉尔夫·费因斯,本·金斯利\n",
      "        </p>\n",
      "<p class=\"releasetime\">上映时间：1993-12-15(美国)</p>    </div>\n",
      "    <div class=\"movie-item-number score-num\">\n",
      "<p class=\"score\"><i class=\"integer\">9.</i><i class=\"fraction\">2</i></p>        \n",
      "    </div>\n",
      "\n",
      "      </div>\n",
      "    </div>\n",
      "\n",
      "                </dd>\n",
      "            </dl>\n",
      "\n",
      "        </div>\n",
      "            <div class=\"pager-main\">\n",
      "                \n",
      "  \n",
      "  <ul class=\"list-pager\">\n",
      "\n",
      "\n",
      "\n",
      "  \n",
      "      <li class=\"active\">\n",
      "    <a class=\"page_1\"\n",
      "      href=\"javascript:void(0);\" style=\"cursor: default\"\n",
      "  >1</a>\n",
      "\n",
      "</li>\n",
      "  <li >\n",
      "    <a class=\"page_2\"\n",
      "      href=\"?offset=10\"\n",
      "  >2</a>\n",
      "\n",
      "</li>\n",
      "  <li >\n",
      "    <a class=\"page_3\"\n",
      "      href=\"?offset=20\"\n",
      "  >3</a>\n",
      "\n",
      "</li>\n",
      "  <li >\n",
      "    <a class=\"page_4\"\n",
      "      href=\"?offset=30\"\n",
      "  >4</a>\n",
      "\n",
      "</li>\n",
      "  <li >\n",
      "    <a class=\"page_5\"\n",
      "      href=\"?offset=40\"\n",
      "  >5</a>\n",
      "\n",
      "</li>\n",
      "\n",
      "    <li class=\"sep\">...</li>\n",
      "      <li >\n",
      "    <a class=\"page_10\"\n",
      "      href=\"?offset=90\"\n",
      "  >10</a>\n",
      "\n",
      "</li>\n",
      "\n",
      "  \n",
      "\n",
      "<li>  <a class=\"page_2\"\n",
      "      href=\"?offset=10\"\n",
      "  >下一页</a>\n",
      "</li>\n",
      "</ul>\n",
      "\n",
      "\n",
      "            </div>\n",
      "    </div>\n",
      "</div>\n",
      "\n",
      "    </div>\n",
      "\n",
      "<div class=\"footer\">\n",
      "  <p class=\"friendly-links\">\n",
      "    关于猫眼 :\n",
      "    <a href=\"http://ir.maoyan.com/s/index.php#pageScroll0\" target=\"_blank\">关于我们</a>\n",
      "    <span></span>\n",
      "    <a href=\"http://ir.maoyan.com/s/index.php#pageScroll1\" target=\"_blank\">管理团队</a>\n",
      "    <span></span>\n",
      "    <a href=\"http://ir.maoyan.com/s/index.php#pageScroll2\" target=\"_blank\">投资者关系</a>\n",
      "    &nbsp;&nbsp;&nbsp;&nbsp;\n",
      "    友情链接 :\n",
      "    <a href=\"http://www.meituan.com\" data-query=\"utm_source=wwwmaoyan\" target=\"_blank\">美团网</a>\n",
      "    <span></span>\n",
      "    <a href=\"http://www.gewara.com\" data-query=\"utm_source=wwwmaoyan\">格瓦拉</a>\n",
      "    <span></span>\n",
      "    <a href=\"http://i.meituan.com/client\" data-query=\"utm_source=wwwmaoyan\" target=\"_blank\">美团下载</a>\n",
      "    <span></span>\n",
      "    <a href=\"https://www.huanxi.com\" data-query=\"utm_source=maoyan_pc\" target=\"_blank\">欢喜首映</a>\n",
      "  </p>\n",
      "  <p class=\"friendly-links\">\n",
      "    商务合作邮箱：v@maoyan.com\n",
      "    客服电话：10105335\n",
      "    违法和不良信息举报电话：4006018900\n",
      "  </p>\n",
      "  <p class=\"friendly-links\">\n",
      "    用户投诉邮箱：tousujubao@meituan.com\n",
      "    舞弊线索举报邮箱：wubijubao@maoyan.com\n",
      "  </p>\n",
      "  <p class=\"friendly-links  credentials\">\n",
      "    <a href=\"/about/licence/1\" target=\"_blank\">中华人民共和国增值电信业务经营许可证 京B2-20190350</a>\n",
      "    <span></span>\n",
      "    <a href=\"/about/licence/4\" target=\"_blank\">营业性演出许可证 京演（机构）（2019）4094号</a>\n",
      "  </p>\n",
      "  <p class=\"friendly-links  credentials\">\n",
      "    <a href=\"/about/licence/3\" target=\"_blank\">广播电视节目制作经营许可证 （京）字第08478号</a>\n",
      "    <span></span>\n",
      "    <a href=\"/about/licence/2\" target=\"_blank\">网络文化经营许可证 京网文（2019）3837-369号 </a>\n",
      "  </p>\n",
      "  <p class=\"friendly-links  credentials\">\n",
      "    <a href=\"/rules/agreement\" target=\"_blank\">猫眼用户服务协议 </a>\n",
      "    <span></span>\n",
      "    <a href=\"/rules/rule\" target=\"_blank\">猫眼平台交易规则总则 </a>\n",
      "    <span></span>\n",
      "    <a href=\"/rules/privacy\" target=\"_blank\">隐私政策 </a>\n",
      "  </p>\n",
      "  <p class=\"friendly-links  credentials\">\n",
      "    <a href=\"http://www.beian.gov.cn/portal/registerSystemInfo?recordcode=11010102003232\" target=\"_blank\">京公网安备\n",
      "      11010102003232号</a>\n",
      "  </p>\n",
      "  <p>北京猫眼文化传媒有限公司</p>\n",
      "  <p>\n",
      "    &copy;2016\n",
      "    猫眼电影 maoyan.com</p>\n",
      "  <div class=\"certificate\">\n",
      "    <a href=\"http://sq.ccm.gov.cn:80/ccnt/sczr/service/business/emark/toDetail/350CF8BCA8416C4FE0530140A8C0957E\"\n",
      "      target=\"_blank\">\n",
      "      <img src=\"http://p0.meituan.net/moviemachine/e54374ccf134d1f7b2c5b075a74fca525326.png\" />\n",
      "    </a>\n",
      "    <a href=\"/about/licence/5\" target=\"_blank\">\n",
      "      <img src=\"http://p1.meituan.net/moviemachine/805f605d5cf1b1a02a4e3a5e29df003b8376.png\" />\n",
      "    </a>\n",
      "  </div>\n",
      "</div>\n",
      "\n",
      "    <script crossorigin=\"anonymous\" src=\"//www.dpfile.com/app/owl/static/owl_1.7.11.js\"></script>\n",
      "    <script>\n",
      "      Owl.start({\n",
      "        project: 'com.sankuai.movie.fe.mywww', \n",
      "        pageUrl: location.href.split('?')[0].replace(/\\/\\d+/g, '/:id'),\n",
      "        devMode: false\n",
      "      })\n",
      "    </script>\n",
      "    <!--[if IE 8]><script crossorigin=\"anonymous\" src=\"//s3plus.meituan.net/v1/mss_e2821d7f0cfe4ac1bf9202ecf9590e67/cdn-prod/file:5788b470/es5-shim.bbad933f.js\"></script><![endif]-->\n",
      "    <!--[if IE 8]><script crossorigin=\"anonymous\" src=\"//s3plus.meituan.net/v1/mss_e2821d7f0cfe4ac1bf9202ecf9590e67/cdn-prod/file:5788b470/es5-sham.d6ea26f4.js\"></script><![endif]-->\n",
      "    <script crossorigin=\"anonymous\" src=\"//s3plus.meituan.net/v1/mss_e2821d7f0cfe4ac1bf9202ecf9590e67/cdn-prod/file:5788b470/common.9fc677f9.js\"></script>\n",
      "<script crossorigin=\"anonymous\" src=\"//s3plus.meituan.net/v1/mss_e2821d7f0cfe4ac1bf9202ecf9590e67/cdn-prod/file:5788b470/board-index.0cdf8e36.js\"></script>\n",
      "</body>\n",
      "</html>\n",
      "\n"
     ]
    }
   ],
   "source": [
    "import requests\n",
    "\n",
    "\n",
    "def get_one_page(url):\n",
    "    headers = {'user-agent': 'Mozilla/5.0 (Macintosh; Intel Mac OS X 10_13_2) AppleWebKit/537.36 (KHTML, like Gecko) Chrome/64.0.3282.119 Safari/537.36'}\n",
    "    response = requests.get(url, headers=headers)\n",
    "    if response.status_code == 200:\n",
    "        return response.text\n",
    "    return None\n",
    "\n",
    "\n",
    "def main():\n",
    "    url = 'https://maoyan.com/board/4'\n",
    "    html = get_one_page(url)\n",
    "    print(html)\n",
    "\n",
    "\n",
    "main()\n"
   ]
  },
  {
   "cell_type": "code",
   "execution_count": 27,
   "metadata": {},
   "outputs": [
    {
     "name": "stdout",
     "output_type": "stream",
     "text": [
      "<!DOCTYPE html>\n",
      "<html><head>    <meta charset=\"utf-8\">\n",
      "    <meta content=\"width=device-width, initial-scale=1.0, maximum-scale=1.0, user-scalable=no\" name=\"viewport\" />\n",
      "    <meta name=\"renderer\" content=\"webkit\" />\n",
      "    <meta http-equiv=\"X-UA-Compatible\" content=\"IE=edge\" />\n",
      "    <style>\n",
      "        .container {\n",
      "            width: 998px;\n",
      "            margin: 0 auto;\n",
      "        }\n",
      "        .header {\n",
      "            height: 70px;\n",
      "            font-size: 28px;\n",
      "            color: #999999;\n",
      "            border-bottom: 3px solid #1db9aa;\n",
      "            overflow: hidden;\n",
      "            display: none;\n",
      "        }\n",
      "        .logo {\n",
      "            margin-top: 8px;\n",
      "            margin-left: 1px;\n",
      "            height: 54px;\n",
      "            line-height: 54px;\n",
      "            padding-left: 102px;\n",
      "            background: url('data:image/png;base64,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') no-repeat;\n",
      "            background-size: 82px 54px;\n",
      "        }\n",
      "        .dpHeader {\n",
      "            height: 70px;\n",
      "            font-size: 28px;\n",
      "            color: #999999;\n",
      "            border-bottom: 3px solid #ff6633;\n",
      "            overflow: hidden;\n",
      "            display: none;\n",
      "        }\n",
      "        .dpLogo {\n",
      "            margin-top: 16px;\n",
      "            margin-left: 1px;\n",
      "            line-height: 44px;\n",
      "            padding-left: 155px;\n",
      "            background: url('data:image/png;base64,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') no-repeat;\n",
      "            background-size: 144px 40px;\n",
      "        }\n",
      "        .content {\n",
      "            min-height: 335px;\n",
      "            position: relative;\n",
      "        }\n",
      "        .footer {\n",
      "            font-size: 12px;\n",
      "            color: #999999;\n",
      "            padding: 13px 8px;\n",
      "            border-top: 1px solid #e1e1e1;\n",
      "            text-align: center;\n",
      "            display: none;\n",
      "        }\n",
      "        .root {\n",
      "            height: 100%;\n",
      "        }\n",
      "    </style>\n",
      "    <title>验证中心</title>\n",
      "    <link rel=\"dns-prefetch\" href=\"//awp-assets.meituan.net\" />\n",
      "    <link rel=\"dns-prefetch\" href=\"//verify.meituan.com\" />\n",
      "    <link rel=\"dns-prefetch\" href=\"//static.meituan.net\" />\n",
      "    <script>\n",
      "        (function(f){function e(a,b){this.seed instanceof e?this.seed.init(a,b):this instanceof e?this.init(a,b):this.seed=new e(a,b);return this.seed}function x(a){this.appnm=a;this.sendQueue={}}function n(a,b){this.batchs=[];this.project=\"Yoda-FE\";this.catVersion=1;this.origin=window.location.origin;this.unionId=a||\"\";this.env=\"pro\"===b?\"pro\":\"dev\";this.host={pro:\"//catfront.dianping.com\",dev:\"//catfront.51ping.com\"}[this.env];var c=this;setTimeout(function(){c.sendBatch()},500)}function F(a,b,c){if(\"object\"===\n",
      "typeof b){var d=[],p;for(p in b)d.push(encodeURIComponent(p)+\"=\"+encodeURIComponent(b[p]));b=d.join(\"&\")}d={\"Content-Type\":\"application/x-www-form-urlencoded\"};try{var C=Date.now(),h=new f.XMLHttpRequest;if(\"withCredentials\"in h){h.open(\"post\",a,!0);if(d)for(var g in d)d.hasOwnProperty(g)&&h.setRequestHeader(g,d[g]);h.onload=function(){4===h.readyState&&(200<=h.status&&300>h.status||304===h.status)&&(c(h.responseText),h=null)}}else if(\"undefined\"!==typeof f.XDomainRequest){h=new f.XDomainRequest;\n",
      "var e=0<a.indexOf(\"?\")?\"&\"+b:\"?\"+b;h.open(\"get\",a+e);h.onload=function(){c(h.responseText);h=null}}else throw Error(\"\\u79cd\\u5b50\\u4ee3\\u7801\\u521b\\u5efaXMLHttpRequest\\u5bf9\\u8c61\\u5931\\u8d25\");h.onerror=function(a){h.abort();throw Error(\"XMLHttpRequest\\u8bf7\\u6c42\\u670d\\u52a1\\u5668\\u53d1\\u751f\\u5f02\\u5e38\"+a.message);};h.send(b)}catch(G){throw window.Yoda.CAT.postBatch(a,0,0,Date.now()-C,\"500|0\",\"ajax\"),window.Yoda.CAT.sendBatch(),window.Yoda.CAT.sendLog(a,\"ajaxError\",\"[\\u8bf7\\u6c42\\u5f02\\u5e38]\",\n",
      "G.message),Error(\"\\u8bf7\\u6c42\\u670d\\u52a1\\u5668\\u53d1\\u751f\\u5f02\\u5e38: \"+G.message);}}function H(a,b){for(var c in b)b.hasOwnProperty(c)&&b[c]&&(a[c]=b[c]);return a}var l=document,q=/mobile|iPhone|Android|htc|Lenovo|huawei/i.test(f.navigator.userAgent.toString());f.Yoda={};f.YODA_CONFIG={};var y=new x(\"yoda_seed\");f.Yoda.LX=y;var z={pro:\"https://verify.meituan.com\",staging:\"//verify-test.meituan.com\",dev:\"//verify.inf.dev.sankuai.com\",test:\"//verify.inf.test.sankuai.com\",ppe:\"//verify.inf.ppe.sankuai.com\",\n",
      "development:\"//verify-test.meituan.com\"},E=\"\",r=\"\",t=\"\",u=\"\",v=\"\",g=\"\",D=\"\",w=\"\",A=\"\",B=\"\",k=\"\",m=\"\";e.prototype.init=function(a,b){E=Date.now();t=r=!1;v=u=!0;m=k=B=A=w=D=g=\"\";this.env=b||\"pro\";var c=new n(a.requestCode,this.env);f.Yoda.CAT=c;this.options=a;q=void 0===a.isMobile?q:a.isMobile;this.feVersion=\"1.4.0\";this.source=q?3:1;this.getConf(this.options.requestCode)};e.prototype.getConf=function(a){var b=z[this.env]+\"/v2/ext_api/page_data\";a={requestCode:a,feVersion:this.feVersion,source:this.source};\n",
      "var c=this,d=Date.now();F(b,a,function(a){a=JSON.parse(a);var f=Date.now()-d,h={kvs:{pagedata:[f],TTFB:[f]},tags:{action:a.data?a.data.action:\"\",type:a.data?a.data.type:\"\",result:a.status?a.status:\"\"},ts:Date.now()};window.Yoda.CAT.metric(h);window.Yoda.CAT.postBatch(b,0,0,f,\"200|\"+a.status,\"ajax\");c.confBack(a)})};e.prototype.confBack=function(a){if(1===a.status&&a.data){var b=H(a.data,this.options);this.config=b;this._yoda_config||(this._yoda_config=JSON.stringify(b),this._yoda_options=JSON.stringify(this.options),\n",
      "this._yoda_listIndex=a.data.defaultIndex||0,this._yoda_riskLevel=this.config.riskLevel);this.config.category=this.config.isHideSwitch?\"MULTIPLE\":this.config.category;b=a.data.yodaVersion;a=a.data.verifyMethodVersion;this.filter();this.ensureVersion(b,a)}else f.Yoda.CAT.sendLog(z[this.env]+\"/v2/ext_api/page_data\",\"jsError\",\"[dataException]:\\u8bf7\\u6c42pageData\\u63a5\\u53e3\\u672a\\u6b63\\u5e38\\u8fd4\\u56de\\u6570\\u636e, \\u73af\\u5883\\u4fe1\\u606f\\u4e3a:\"+this.source,JSON.stringify(a)),this.handleError(a)};\n",
      "e.prototype.ensureVersion=function(a,b){a=JSON.parse(a);b=JSON.parse(b);a&&(m=q?a.i:a.d);try{var c=JSON.parse(this.config.riskLevelInfo)[Number(D)];g=JSON.parse(c).name;(b=JSON.parse(b[g]))&&(k=q?b.i:b.d);this.isNeedLoad();this.getSourcePath();this.loadSource()}catch(d){f.Yoda.CAT.sendLog(z[this.env]+\"/v2/ext_api/page_data\",\"jsError\",\"[dataException]:\\u89e3\\u6790pageData\\u63a5\\u53e3\\u6570\\u636e\\u5931\\u8d25, \\u73af\\u5883\\u4fe1\\u606f\\u4e3a:\"+this.source,d.message),this.handleError(\"\\u521d\\u59cb\\u5316\\u5931\\u8d25\")}};\n",
      "e.prototype.isNeedLoad=function(){var a=l.getElementsByTagName(\"script\"),b=a.length,c=0;if(m&&k&&b)for(;c<b;c++){var d=a[c].src;~d.indexOf(m)&&(u=!1,t=!0);~d.indexOf(k)&&(v=!1,r=!0);if(!u&&!v)break}};e.prototype.loadSource=function(){var a=this,b=function(){function b(b){return function(c,d,g){var h=Date.now(),e=l.createElement(b),p=l.head,C=\"src\",k=\"link\"===b?\"css\":\"js\";e.onload=function(){e=e.onload=e.onerror=e.onreadystatechange=null;var p=Date.now()-h;\"script\"===b&&y.report(d,\"duration\",{custom:{duration:p,\n",
      "result:\"download\",requestCode:a.options.requestCode}});f.Yoda.CAT.postBatch(c,0,0,p,\"200|\",k);\"function\"===typeof g&&g();\"pro\"!==a.env&&(f.YODA_CONFIG.__API_URL__=z[a.env],a.setDomain(z[a.env]))};e.onerror=function(){a.handleError(\"\\u52a0\\u8f7d\\u5931\\u8d25\");var b=Date.now()-h;f.Yoda.CAT.postBatch(c,0,0,b,\"500|\",k);y.report(d,\"downloadFailed\");f.Yoda.CAT.sendLog(c,\"resourceError\",\"downloadFailed\",\"[\\u4e0b\\u8f7djs\\u5931\\u8d25]:\"+c)};switch(b){case \"script\":e.type=\"text/javascript\";e.async=!1;e.defer=\n",
      "!0;break;case \"link\":e.type=\"text/css\",e.rel=\"stylesheet\",C=\"href\"}e[C]=c;p.appendChild(e)}}return{css:b(\"link\"),js:b(\"script\")}}();u&&(y.report(\"yoda\",\"req\"),b.js(A,\"yoda\",function(){t=!t;a.moduleInit()}));if(v)if(y.report(g,\"req\"),\"withCredentials\"in new f.XMLHttpRequest)b.js(w,g,function(){r=!0;a.moduleInit()});else if(\"undefined\"!==typeof XDomainRequest)var c=window.setInterval(function(){void 0!==window.Yoda.Ballade&&b.js(w,g,function(){r=!0;a.moduleInit();window.clearInterval(c)})},1E3);u||\n",
      "v||this.moduleInit();B&&b.css(B)};e.prototype.moduleInit=function(){if(r&&t){this[g]={};this.config.yodaInitTime=E;if(\"function\"===typeof f.Yoda[g])return this[g].initModule=new f.Yoda[g](this.config),!1;var a=l.createElement(\"script\");a.type=\"text/javascript\";a.appendChild(l.createTextNode(this.moduleText));l.body.appendChild(a);this[g].initModule=new f.Yoda[g](this.config)}};e.prototype.getSourcePath=function(){var a=q?\"i\":\"d\";m=m?m+\".\":\"\";k=k?k+\".\":\"\";\"development\"===this.env?(a=\"i\"===a?\"mobile\":\n",
      "\"desktop\",w=\"/modules/\"+g+\"/\"+a+\"/\"+g+\".js\",B=\"/modules/\"+g+\"/\"+a+\"/\"+g+\".css\",A=\"./yoda-\"+a+\".js\"):(A=\"https://static.meituan.net/bs/yoda-static/file:file/\"+a+\"/js/yoda.\"+m+\"js\",w=\"https://static.meituan.net/bs/yoda-static/file:file/\"+a+\"/js/\"+g+\".\"+k+\"js\")};e.prototype.handleError=function(a,b){\"string\"!==typeof a&&(a=(b=a)&&b.error&&b.error.message);var c=this.options.failCallbackFun;if(c&&\"function\"===typeof f[c]){var d={code:\"121333\",requestCode:this.options.requestCode};setTimeout(function(){f[c](d)},\n",
      "1E3)}var e=this.options.failCallbackUrl;e&&setTimeout(function(){var a=document.createElement(\"a\");a.href=e;f.location.href=(a.origin||a.protocol+\"//\"+a.host)+a.pathname+a.search+a.hash},1E3);this.notifyErr(a)};e.prototype.notifyErr=function(a){var b=l.getElementById(this.options.root);if(q){var c=l.createElement(\"div\");var d=l.createElement(\"div\");d.innerHTML=a;c.appendChild(d)}else c=l.createElement(\"div\"),c.innerHTML=a;b.appendChild(c)};e.prototype.setDomain=function(a){setTimeout(function(){window.YODA_CONFIG.__API_URL__=\n",
      "a},0)};e.prototype.resetVariable=function(a){E=Date.now();r=a.moduleLoaded||!1;t=a.yodaLoaded||!1;u=a.yodaNeedLoad||!0;v=a.moduleNeedLoad||!0;g=a.MODULE_NAME||\"\";w=a.MODULE_URL||\"\";A=a.YODA_URL||\"\";B=a.CSS_URL||\"\";k=a.MODULE_VERSION||\"\";m=a.YODA_VERSION||\"\"};e.prototype.filter=function(){var a=this.config.riskLevel.split(/[,|]/g);if(a[0]&&1===a.length)D=this.config.riskLevel;else{a=JSON.parse(this.config.riskLevelInfo);for(var b=JSON.parse(this.config.verifyMethodVersion),c=this.config.riskLevel.split(\"|\"),\n",
      "d=this.config.defaultIndex||0;d<c.length;d++){for(var e=c[d].split(\",\"),f=0,h=1;f<e.length;f++){var g=JSON.parse(a[Number(e[f])]);if(!g.name||!b[g.name]){h=0;break}}if(h){D=e[0];this._yoda_listIndex=d;break}}}};x.prototype.report=function(a,b,c){if(\"pro\"!==window.seed.env)return!1;var d={appnm:this.appnm,channel:\"techportal\",ct:q?\"i\":\"www\",ch:\"web\",sc:window.screen.width+\"*\"+window.screen.height,ua:window.navigator.userAgent};a={nm:\"MV\",tm:Date.now(),nt:0,isauto:6,val_cid:a,val_bid:b,val_lab:c};this.addToSendQueue(d,\n",
      "a)};x.prototype.addToSendQueue=function(a,b){var c;(c=this.sendQueue[a.channel])?c=c.data:(c=[],this.sendQueue[a.channel]={conf:a,data:c});c.push(b);var d=this;setTimeout(function(){d.send()},0)};x.prototype.send=function(){var a=[];for(d in this.sendQueue)if(this.sendQueue.hasOwnProperty(d)){var b=this.sendQueue[d];var c=b.conf;(b=H(c,{appnm:c.appnm,category:\"data_sdk_\"+d,evs:b.data}))&&a.push(b)}if(0<a.length){var d=\"https://report.meituan.com/?_lxskd_rnd=\"+Date.now()+Math.ceil(1E3*Math.random());\n",
      "this.sendStatic(d,{data:a})}this.sendQueue={}};x.prototype.sendStatic=function(a,b){if(0===b.data.length)return!1;try{var c=new f.XMLHttpRequest;if(\"withCredentials\"in c)c.open(\"POST\",a,!0);else if(\"undefined\"!==typeof f.XDomainRequest)c=new f.XDomainRequest,c.open(\"POST\",a);else throw Error(\"\\u7075\\u7280\\u521b\\u5efaXHR\\u5bf9\\u8c61\\u5931\\u8d25\");c.onerror=function(){c.abort();c=null};c.send(JSON.stringify(b.data))}catch(d){throw Error(\"\\u7075\\u7280XHR\\u8bf7\\u6c42\\u670d\\u52a1\\u5668\\u53d1\\u751f\\u5f02\\u5e38: \"+\n",
      "d.message);}return!0};n.prototype.postBatch=function(a,b,c,d,e,f){a=a+\"\\t\"+Date.now()+\"\\t\"+b+\"\\t\"+c+\"\\t\"+d+\"\\t\"+this.project+\"\\t\"+this.origin+\"\\t\"+e+\"\\t\\t\\t\\t\"+f;this.batchs.push(a)};n.prototype.sendBatch=function(){if(0<this.batchs.length){var a=this.host+\"/api/batch?v=\"+this.catVersion,b={c:\"S\\t\\t\\t\\t\\t\\t\"+this.unionId+\"\\n\"+this.batchs.join(\"\\n\")};this.sendStatic(a,b);this.batchs=[]}};n.prototype.speed=function(a,b){var c=\"&project=\"+this.project+\"&pageurl=\"+window.location.href+\"&unionId=\"+this.unionId+\n",
      "\"&timestamp=\"+Date.now()+\"&speed=\"+a+\"&customspeed=\"+b;c=this.host+\"/api/speed?v=\"+this.catVersion+c;var d=this,e=new f.XMLHttpRequest;e.open(\"GET\",c);e.onerror=function(){d.speed(a,b);e.abort();e=null};e.send()};n.prototype.sendLog=function(a,b,c,d){a=[{project:this.project,pageUrl:window.location.origin,resourceUrl:a||\"\",category:b,sec_category:c,level:\"error\",unionId:this.unionId,timestamp:Date.now(),content:d||\"\"}];this.sendStatic(this.host+\"/api/log?v=\"+this.catVersion,{c:JSON.stringify(a)})};\n",
      "n.prototype.metric=function(a){this.sendStatic(this.host+\"/api/metric?v=\"+this.catVersion+\"&p=\"+this.project,{data:JSON.stringify(a)})};n.prototype.sendStatic=function(a,b){F(a,b,function(){});return!0};n.prototype[\"byte\"]=function(a){var b=0,c=a.length;if(a){for(var d=0;d<c;d++)255<a.charCodeAt(d)?b+=2:b++;return b}return 0};f.YodaSeed=e})(window);\n",
      "    </script>\n",
      "</head> <body>    <div class='container'>\n",
      "        <div class='header' id='header'>\n",
      "            <div class='logo' id='logo'>验证中心</div>\n",
      "        </div>\n",
      "        <div class='content'>\n",
      "            <div class='root' id='root'></div>\n",
      "        </div>\n",
      "        <div class='footer' id='footer'>©2019 meituan.com 京ICP证070791号 京公网安备1101050202554.</div>\n",
      "    </div>\n",
      "                                                <script type=\"text/javascript\">        window.yodaTheme = setTheme;\n",
      "        function setTheme(theme) {\n",
      "            var theme = theme || 'meituan';\n",
      "            var header = document.getElementById('header');\n",
      "            header.style.display = \"block\";\n",
      "            var logo = document.getElementById('logo');\n",
      "            var footer = document.getElementById('footer');\n",
      "            footer.style.display = \"block\";\n",
      "\n",
      "            var link = document.createElement('link');\n",
      "            link.rel = 'shortcut icon';\n",
      "            link.type = 'image/x-icon';\n",
      "\n",
      "            if (theme === 'meituan' || theme === 'mt' || theme === '') {\n",
      "                link.href = '/static/favicon.ico';\n",
      "            }\n",
      "            if (theme === 'dianping' || theme === 'dp') {\n",
      "                header.className = 'dpHeader';\n",
      "                logo.className = 'dpLogo';\n",
      "                footer.innerHTML = '© 2003-2017 dianping.com, All Rights Reserved.';\n",
      "                link.href = '//www.dpfile.com/s/res/favicon.5ff777c11d7833e57e01c9d192b7e427.ico';\n",
      "            }\n",
      "\n",
      "            document.head.appendChild(link);\n",
      "        }\n",
      "\n",
      "            var options = {\n",
      "            requestCode: \"9867313866b944ff8cb2609625e1f7cb\",\n",
      "            succCallbackUrl: \"https\\x3A\\x2F\\x2Foptimus\\x2Dmtsi\\x2Emeituan\\x2Ecom\\x2Foptimus\\x2FverifyResult\\x3ForiginUrl\\x3Dhttp\\x253A\\x252F\\x252Fmaoyan\\x2Ecom\\x252Fboard\\x252F4\",\n",
      "            failCallbackUrl: \"\",\n",
      "            forceCallback: \"false\",\n",
      "            root: \"root\",\n",
      "            platform: \"1000\",\n",
      "            theme: \"meituan\",\n",
      "            isMobile: false\n",
      "        }\n",
      "        YodaSeed(options, \"pro\");\n",
      "    </script></body></html>\n"
     ]
    }
   ],
   "source": [
    "import urllib.request\n",
    "\n",
    "url = 'https://maoyan.com/board/4'\n",
    "headers = {'User-Agent': 'Mozilla/5.0 (Windows NT 10.0; Win64; x64) AppleWebKit/537.36 (KHTML, like Gecko) Chrome/76.0.3809.110 Safari/537.36 Vivaldi/2.7.1628.30'}\n",
    "req = urllib.request.Request(url, headers=headers)\n",
    "response = urllib.request.urlopen(req)\n",
    "print(response.read().decode())"
   ]
  },
  {
   "cell_type": "code",
   "execution_count": 28,
   "metadata": {},
   "outputs": [
    {
     "name": "stdout",
     "output_type": "stream",
     "text": [
      "<!DOCTYPE html>\n",
      "<html><head>    <meta charset=\"utf-8\">\n",
      "    <meta content=\"width=device-width, initial-scale=1.0, maximum-scale=1.0, user-scalable=no\" name=\"viewport\" />\n",
      "    <meta name=\"renderer\" content=\"webkit\" />\n",
      "    <meta http-equiv=\"X-UA-Compatible\" content=\"IE=edge\" />\n",
      "    <style>\n",
      "        .container {\n",
      "            width: 998px;\n",
      "            margin: 0 auto;\n",
      "        }\n",
      "        .header {\n",
      "            height: 70px;\n",
      "            font-size: 28px;\n",
      "            color: #999999;\n",
      "            border-bottom: 3px solid #1db9aa;\n",
      "            overflow: hidden;\n",
      "            display: none;\n",
      "        }\n",
      "        .logo {\n",
      "            margin-top: 8px;\n",
      "            margin-left: 1px;\n",
      "            height: 54px;\n",
      "            line-height: 54px;\n",
      "            padding-left: 102px;\n",
      "            background: url('data:image/png;base64,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') no-repeat;\n",
      "            background-size: 82px 54px;\n",
      "        }\n",
      "        .dpHeader {\n",
      "            height: 70px;\n",
      "            font-size: 28px;\n",
      "            color: #999999;\n",
      "            border-bottom: 3px solid #ff6633;\n",
      "            overflow: hidden;\n",
      "            display: none;\n",
      "        }\n",
      "        .dpLogo {\n",
      "            margin-top: 16px;\n",
      "            margin-left: 1px;\n",
      "            line-height: 44px;\n",
      "            padding-left: 155px;\n",
      "            background: url('data:image/png;base64,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') no-repeat;\n",
      "            background-size: 144px 40px;\n",
      "        }\n",
      "        .content {\n",
      "            min-height: 335px;\n",
      "            position: relative;\n",
      "        }\n",
      "        .footer {\n",
      "            font-size: 12px;\n",
      "            color: #999999;\n",
      "            padding: 13px 8px;\n",
      "            border-top: 1px solid #e1e1e1;\n",
      "            text-align: center;\n",
      "            display: none;\n",
      "        }\n",
      "        .root {\n",
      "            height: 100%;\n",
      "        }\n",
      "    </style>\n",
      "    <title>验证中心</title>\n",
      "    <link rel=\"dns-prefetch\" href=\"//awp-assets.meituan.net\" />\n",
      "    <link rel=\"dns-prefetch\" href=\"//verify.meituan.com\" />\n",
      "    <link rel=\"dns-prefetch\" href=\"//static.meituan.net\" />\n",
      "    <script>\n",
      "        (function(f){function e(a,b){this.seed instanceof e?this.seed.init(a,b):this instanceof e?this.init(a,b):this.seed=new e(a,b);return this.seed}function x(a){this.appnm=a;this.sendQueue={}}function n(a,b){this.batchs=[];this.project=\"Yoda-FE\";this.catVersion=1;this.origin=window.location.origin;this.unionId=a||\"\";this.env=\"pro\"===b?\"pro\":\"dev\";this.host={pro:\"//catfront.dianping.com\",dev:\"//catfront.51ping.com\"}[this.env];var c=this;setTimeout(function(){c.sendBatch()},500)}function F(a,b,c){if(\"object\"===\n",
      "typeof b){var d=[],p;for(p in b)d.push(encodeURIComponent(p)+\"=\"+encodeURIComponent(b[p]));b=d.join(\"&\")}d={\"Content-Type\":\"application/x-www-form-urlencoded\"};try{var C=Date.now(),h=new f.XMLHttpRequest;if(\"withCredentials\"in h){h.open(\"post\",a,!0);if(d)for(var g in d)d.hasOwnProperty(g)&&h.setRequestHeader(g,d[g]);h.onload=function(){4===h.readyState&&(200<=h.status&&300>h.status||304===h.status)&&(c(h.responseText),h=null)}}else if(\"undefined\"!==typeof f.XDomainRequest){h=new f.XDomainRequest;\n",
      "var e=0<a.indexOf(\"?\")?\"&\"+b:\"?\"+b;h.open(\"get\",a+e);h.onload=function(){c(h.responseText);h=null}}else throw Error(\"\\u79cd\\u5b50\\u4ee3\\u7801\\u521b\\u5efaXMLHttpRequest\\u5bf9\\u8c61\\u5931\\u8d25\");h.onerror=function(a){h.abort();throw Error(\"XMLHttpRequest\\u8bf7\\u6c42\\u670d\\u52a1\\u5668\\u53d1\\u751f\\u5f02\\u5e38\"+a.message);};h.send(b)}catch(G){throw window.Yoda.CAT.postBatch(a,0,0,Date.now()-C,\"500|0\",\"ajax\"),window.Yoda.CAT.sendBatch(),window.Yoda.CAT.sendLog(a,\"ajaxError\",\"[\\u8bf7\\u6c42\\u5f02\\u5e38]\",\n",
      "G.message),Error(\"\\u8bf7\\u6c42\\u670d\\u52a1\\u5668\\u53d1\\u751f\\u5f02\\u5e38: \"+G.message);}}function H(a,b){for(var c in b)b.hasOwnProperty(c)&&b[c]&&(a[c]=b[c]);return a}var l=document,q=/mobile|iPhone|Android|htc|Lenovo|huawei/i.test(f.navigator.userAgent.toString());f.Yoda={};f.YODA_CONFIG={};var y=new x(\"yoda_seed\");f.Yoda.LX=y;var z={pro:\"https://verify.meituan.com\",staging:\"//verify-test.meituan.com\",dev:\"//verify.inf.dev.sankuai.com\",test:\"//verify.inf.test.sankuai.com\",ppe:\"//verify.inf.ppe.sankuai.com\",\n",
      "development:\"//verify-test.meituan.com\"},E=\"\",r=\"\",t=\"\",u=\"\",v=\"\",g=\"\",D=\"\",w=\"\",A=\"\",B=\"\",k=\"\",m=\"\";e.prototype.init=function(a,b){E=Date.now();t=r=!1;v=u=!0;m=k=B=A=w=D=g=\"\";this.env=b||\"pro\";var c=new n(a.requestCode,this.env);f.Yoda.CAT=c;this.options=a;q=void 0===a.isMobile?q:a.isMobile;this.feVersion=\"1.4.0\";this.source=q?3:1;this.getConf(this.options.requestCode)};e.prototype.getConf=function(a){var b=z[this.env]+\"/v2/ext_api/page_data\";a={requestCode:a,feVersion:this.feVersion,source:this.source};\n",
      "var c=this,d=Date.now();F(b,a,function(a){a=JSON.parse(a);var f=Date.now()-d,h={kvs:{pagedata:[f],TTFB:[f]},tags:{action:a.data?a.data.action:\"\",type:a.data?a.data.type:\"\",result:a.status?a.status:\"\"},ts:Date.now()};window.Yoda.CAT.metric(h);window.Yoda.CAT.postBatch(b,0,0,f,\"200|\"+a.status,\"ajax\");c.confBack(a)})};e.prototype.confBack=function(a){if(1===a.status&&a.data){var b=H(a.data,this.options);this.config=b;this._yoda_config||(this._yoda_config=JSON.stringify(b),this._yoda_options=JSON.stringify(this.options),\n",
      "this._yoda_listIndex=a.data.defaultIndex||0,this._yoda_riskLevel=this.config.riskLevel);this.config.category=this.config.isHideSwitch?\"MULTIPLE\":this.config.category;b=a.data.yodaVersion;a=a.data.verifyMethodVersion;this.filter();this.ensureVersion(b,a)}else f.Yoda.CAT.sendLog(z[this.env]+\"/v2/ext_api/page_data\",\"jsError\",\"[dataException]:\\u8bf7\\u6c42pageData\\u63a5\\u53e3\\u672a\\u6b63\\u5e38\\u8fd4\\u56de\\u6570\\u636e, \\u73af\\u5883\\u4fe1\\u606f\\u4e3a:\"+this.source,JSON.stringify(a)),this.handleError(a)};\n",
      "e.prototype.ensureVersion=function(a,b){a=JSON.parse(a);b=JSON.parse(b);a&&(m=q?a.i:a.d);try{var c=JSON.parse(this.config.riskLevelInfo)[Number(D)];g=JSON.parse(c).name;(b=JSON.parse(b[g]))&&(k=q?b.i:b.d);this.isNeedLoad();this.getSourcePath();this.loadSource()}catch(d){f.Yoda.CAT.sendLog(z[this.env]+\"/v2/ext_api/page_data\",\"jsError\",\"[dataException]:\\u89e3\\u6790pageData\\u63a5\\u53e3\\u6570\\u636e\\u5931\\u8d25, \\u73af\\u5883\\u4fe1\\u606f\\u4e3a:\"+this.source,d.message),this.handleError(\"\\u521d\\u59cb\\u5316\\u5931\\u8d25\")}};\n",
      "e.prototype.isNeedLoad=function(){var a=l.getElementsByTagName(\"script\"),b=a.length,c=0;if(m&&k&&b)for(;c<b;c++){var d=a[c].src;~d.indexOf(m)&&(u=!1,t=!0);~d.indexOf(k)&&(v=!1,r=!0);if(!u&&!v)break}};e.prototype.loadSource=function(){var a=this,b=function(){function b(b){return function(c,d,g){var h=Date.now(),e=l.createElement(b),p=l.head,C=\"src\",k=\"link\"===b?\"css\":\"js\";e.onload=function(){e=e.onload=e.onerror=e.onreadystatechange=null;var p=Date.now()-h;\"script\"===b&&y.report(d,\"duration\",{custom:{duration:p,\n",
      "result:\"download\",requestCode:a.options.requestCode}});f.Yoda.CAT.postBatch(c,0,0,p,\"200|\",k);\"function\"===typeof g&&g();\"pro\"!==a.env&&(f.YODA_CONFIG.__API_URL__=z[a.env],a.setDomain(z[a.env]))};e.onerror=function(){a.handleError(\"\\u52a0\\u8f7d\\u5931\\u8d25\");var b=Date.now()-h;f.Yoda.CAT.postBatch(c,0,0,b,\"500|\",k);y.report(d,\"downloadFailed\");f.Yoda.CAT.sendLog(c,\"resourceError\",\"downloadFailed\",\"[\\u4e0b\\u8f7djs\\u5931\\u8d25]:\"+c)};switch(b){case \"script\":e.type=\"text/javascript\";e.async=!1;e.defer=\n",
      "!0;break;case \"link\":e.type=\"text/css\",e.rel=\"stylesheet\",C=\"href\"}e[C]=c;p.appendChild(e)}}return{css:b(\"link\"),js:b(\"script\")}}();u&&(y.report(\"yoda\",\"req\"),b.js(A,\"yoda\",function(){t=!t;a.moduleInit()}));if(v)if(y.report(g,\"req\"),\"withCredentials\"in new f.XMLHttpRequest)b.js(w,g,function(){r=!0;a.moduleInit()});else if(\"undefined\"!==typeof XDomainRequest)var c=window.setInterval(function(){void 0!==window.Yoda.Ballade&&b.js(w,g,function(){r=!0;a.moduleInit();window.clearInterval(c)})},1E3);u||\n",
      "v||this.moduleInit();B&&b.css(B)};e.prototype.moduleInit=function(){if(r&&t){this[g]={};this.config.yodaInitTime=E;if(\"function\"===typeof f.Yoda[g])return this[g].initModule=new f.Yoda[g](this.config),!1;var a=l.createElement(\"script\");a.type=\"text/javascript\";a.appendChild(l.createTextNode(this.moduleText));l.body.appendChild(a);this[g].initModule=new f.Yoda[g](this.config)}};e.prototype.getSourcePath=function(){var a=q?\"i\":\"d\";m=m?m+\".\":\"\";k=k?k+\".\":\"\";\"development\"===this.env?(a=\"i\"===a?\"mobile\":\n",
      "\"desktop\",w=\"/modules/\"+g+\"/\"+a+\"/\"+g+\".js\",B=\"/modules/\"+g+\"/\"+a+\"/\"+g+\".css\",A=\"./yoda-\"+a+\".js\"):(A=\"https://static.meituan.net/bs/yoda-static/file:file/\"+a+\"/js/yoda.\"+m+\"js\",w=\"https://static.meituan.net/bs/yoda-static/file:file/\"+a+\"/js/\"+g+\".\"+k+\"js\")};e.prototype.handleError=function(a,b){\"string\"!==typeof a&&(a=(b=a)&&b.error&&b.error.message);var c=this.options.failCallbackFun;if(c&&\"function\"===typeof f[c]){var d={code:\"121333\",requestCode:this.options.requestCode};setTimeout(function(){f[c](d)},\n",
      "1E3)}var e=this.options.failCallbackUrl;e&&setTimeout(function(){var a=document.createElement(\"a\");a.href=e;f.location.href=(a.origin||a.protocol+\"//\"+a.host)+a.pathname+a.search+a.hash},1E3);this.notifyErr(a)};e.prototype.notifyErr=function(a){var b=l.getElementById(this.options.root);if(q){var c=l.createElement(\"div\");var d=l.createElement(\"div\");d.innerHTML=a;c.appendChild(d)}else c=l.createElement(\"div\"),c.innerHTML=a;b.appendChild(c)};e.prototype.setDomain=function(a){setTimeout(function(){window.YODA_CONFIG.__API_URL__=\n",
      "a},0)};e.prototype.resetVariable=function(a){E=Date.now();r=a.moduleLoaded||!1;t=a.yodaLoaded||!1;u=a.yodaNeedLoad||!0;v=a.moduleNeedLoad||!0;g=a.MODULE_NAME||\"\";w=a.MODULE_URL||\"\";A=a.YODA_URL||\"\";B=a.CSS_URL||\"\";k=a.MODULE_VERSION||\"\";m=a.YODA_VERSION||\"\"};e.prototype.filter=function(){var a=this.config.riskLevel.split(/[,|]/g);if(a[0]&&1===a.length)D=this.config.riskLevel;else{a=JSON.parse(this.config.riskLevelInfo);for(var b=JSON.parse(this.config.verifyMethodVersion),c=this.config.riskLevel.split(\"|\"),\n",
      "d=this.config.defaultIndex||0;d<c.length;d++){for(var e=c[d].split(\",\"),f=0,h=1;f<e.length;f++){var g=JSON.parse(a[Number(e[f])]);if(!g.name||!b[g.name]){h=0;break}}if(h){D=e[0];this._yoda_listIndex=d;break}}}};x.prototype.report=function(a,b,c){if(\"pro\"!==window.seed.env)return!1;var d={appnm:this.appnm,channel:\"techportal\",ct:q?\"i\":\"www\",ch:\"web\",sc:window.screen.width+\"*\"+window.screen.height,ua:window.navigator.userAgent};a={nm:\"MV\",tm:Date.now(),nt:0,isauto:6,val_cid:a,val_bid:b,val_lab:c};this.addToSendQueue(d,\n",
      "a)};x.prototype.addToSendQueue=function(a,b){var c;(c=this.sendQueue[a.channel])?c=c.data:(c=[],this.sendQueue[a.channel]={conf:a,data:c});c.push(b);var d=this;setTimeout(function(){d.send()},0)};x.prototype.send=function(){var a=[];for(d in this.sendQueue)if(this.sendQueue.hasOwnProperty(d)){var b=this.sendQueue[d];var c=b.conf;(b=H(c,{appnm:c.appnm,category:\"data_sdk_\"+d,evs:b.data}))&&a.push(b)}if(0<a.length){var d=\"https://report.meituan.com/?_lxskd_rnd=\"+Date.now()+Math.ceil(1E3*Math.random());\n",
      "this.sendStatic(d,{data:a})}this.sendQueue={}};x.prototype.sendStatic=function(a,b){if(0===b.data.length)return!1;try{var c=new f.XMLHttpRequest;if(\"withCredentials\"in c)c.open(\"POST\",a,!0);else if(\"undefined\"!==typeof f.XDomainRequest)c=new f.XDomainRequest,c.open(\"POST\",a);else throw Error(\"\\u7075\\u7280\\u521b\\u5efaXHR\\u5bf9\\u8c61\\u5931\\u8d25\");c.onerror=function(){c.abort();c=null};c.send(JSON.stringify(b.data))}catch(d){throw Error(\"\\u7075\\u7280XHR\\u8bf7\\u6c42\\u670d\\u52a1\\u5668\\u53d1\\u751f\\u5f02\\u5e38: \"+\n",
      "d.message);}return!0};n.prototype.postBatch=function(a,b,c,d,e,f){a=a+\"\\t\"+Date.now()+\"\\t\"+b+\"\\t\"+c+\"\\t\"+d+\"\\t\"+this.project+\"\\t\"+this.origin+\"\\t\"+e+\"\\t\\t\\t\\t\"+f;this.batchs.push(a)};n.prototype.sendBatch=function(){if(0<this.batchs.length){var a=this.host+\"/api/batch?v=\"+this.catVersion,b={c:\"S\\t\\t\\t\\t\\t\\t\"+this.unionId+\"\\n\"+this.batchs.join(\"\\n\")};this.sendStatic(a,b);this.batchs=[]}};n.prototype.speed=function(a,b){var c=\"&project=\"+this.project+\"&pageurl=\"+window.location.href+\"&unionId=\"+this.unionId+\n",
      "\"&timestamp=\"+Date.now()+\"&speed=\"+a+\"&customspeed=\"+b;c=this.host+\"/api/speed?v=\"+this.catVersion+c;var d=this,e=new f.XMLHttpRequest;e.open(\"GET\",c);e.onerror=function(){d.speed(a,b);e.abort();e=null};e.send()};n.prototype.sendLog=function(a,b,c,d){a=[{project:this.project,pageUrl:window.location.origin,resourceUrl:a||\"\",category:b,sec_category:c,level:\"error\",unionId:this.unionId,timestamp:Date.now(),content:d||\"\"}];this.sendStatic(this.host+\"/api/log?v=\"+this.catVersion,{c:JSON.stringify(a)})};\n",
      "n.prototype.metric=function(a){this.sendStatic(this.host+\"/api/metric?v=\"+this.catVersion+\"&p=\"+this.project,{data:JSON.stringify(a)})};n.prototype.sendStatic=function(a,b){F(a,b,function(){});return!0};n.prototype[\"byte\"]=function(a){var b=0,c=a.length;if(a){for(var d=0;d<c;d++)255<a.charCodeAt(d)?b+=2:b++;return b}return 0};f.YodaSeed=e})(window);\n",
      "    </script>\n",
      "</head> <body>    <div class='container'>\n",
      "        <div class='header' id='header'>\n",
      "            <div class='logo' id='logo'>验证中心</div>\n",
      "        </div>\n",
      "        <div class='content'>\n",
      "            <div class='root' id='root'></div>\n",
      "        </div>\n",
      "        <div class='footer' id='footer'>©2019 meituan.com 京ICP证070791号 京公网安备1101050202554.</div>\n",
      "    </div>\n",
      "                                                <script type=\"text/javascript\">        window.yodaTheme = setTheme;\n",
      "        function setTheme(theme) {\n",
      "            var theme = theme || 'meituan';\n",
      "            var header = document.getElementById('header');\n",
      "            header.style.display = \"block\";\n",
      "            var logo = document.getElementById('logo');\n",
      "            var footer = document.getElementById('footer');\n",
      "            footer.style.display = \"block\";\n",
      "\n",
      "            var link = document.createElement('link');\n",
      "            link.rel = 'shortcut icon';\n",
      "            link.type = 'image/x-icon';\n",
      "\n",
      "            if (theme === 'meituan' || theme === 'mt' || theme === '') {\n",
      "                link.href = '/static/favicon.ico';\n",
      "            }\n",
      "            if (theme === 'dianping' || theme === 'dp') {\n",
      "                header.className = 'dpHeader';\n",
      "                logo.className = 'dpLogo';\n",
      "                footer.innerHTML = '© 2003-2017 dianping.com, All Rights Reserved.';\n",
      "                link.href = '//www.dpfile.com/s/res/favicon.5ff777c11d7833e57e01c9d192b7e427.ico';\n",
      "            }\n",
      "\n",
      "            document.head.appendChild(link);\n",
      "        }\n",
      "\n",
      "            var options = {\n",
      "            requestCode: \"ad8c832ed5f148a18a129b891ee51a6d\",\n",
      "            succCallbackUrl: \"https\\x3A\\x2F\\x2Foptimus\\x2Dmtsi\\x2Emeituan\\x2Ecom\\x2Foptimus\\x2FverifyResult\\x3ForiginUrl\\x3Dhttp\\x253A\\x252F\\x252Fmaoyan\\x2Ecom\\x252Fboard\\x252F4\",\n",
      "            failCallbackUrl: \"\",\n",
      "            forceCallback: \"false\",\n",
      "            root: \"root\",\n",
      "            platform: \"1000\",\n",
      "            theme: \"meituan\",\n",
      "            isMobile: false\n",
      "        }\n",
      "        YodaSeed(options, \"pro\");\n",
      "    </script></body></html>\n"
     ]
    }
   ],
   "source": [
    "import urllib.request\n",
    "\n",
    "url = 'https://maoyan.com/board/4'\n",
    "headers = {'User-Agent': 'Mozilla/5.0 (Windows NT 10.0; WOW64; Trident/7.0; rv:11.0) like Gecko'}\n",
    "req = urllib.request.Request(url, headers=headers)\n",
    "response = urllib.request.urlopen(req)\n",
    "print(response.read().decode())"
   ]
  },
  {
   "cell_type": "code",
   "execution_count": 12,
   "metadata": {},
   "outputs": [
    {
     "name": "stdout",
     "output_type": "stream",
     "text": [
      "<!DOCTYPE html>\n",
      "\n",
      "<!--[if IE 8]><html class=\"ie8\"><![endif]-->\n",
      "<!--[if IE 9]><html class=\"ie9\"><![endif]-->\n",
      "<!--[if gt IE 9]><!--><html><!--<![endif]-->\n",
      "<head>\n",
      "  <title>TOP100榜 - 猫眼电影 - 一网打尽好电影</title>\n",
      "  \n",
      "  <link rel=\"dns-prefetch\" href=\"//p0.meituan.net\"  />\n",
      "  <link rel=\"dns-prefetch\" href=\"//p1.meituan.net\"  />\n",
      "  <link rel=\"dns-prefetch\" href=\"//ms0.meituan.net\" />\n",
      "  <link rel=\"dns-prefetch\" href=\"//s0.meituan.net\" />\n",
      "  <link rel=\"dns-prefetch\" href=\"//ms1.meituan.net\" />\n",
      "  <link rel=\"dns-prefetch\" href=\"//analytics.meituan.com\" />\n",
      "  <link rel=\"dns-prefetch\" href=\"//report.meituan.com\" />\n",
      "  <link rel=\"dns-prefetch\" href=\"//frep.meituan.com\" />\n",
      "\n",
      "  \n",
      "  <meta charset=\"utf-8\">\n",
      "  <meta name=\"keywords\" content=\"猫眼电影,电影排行榜,热映口碑榜,最受期待榜,国内票房榜,北美票房榜,猫眼TOP100\">\n",
      "  <meta name=\"description\" content=\"猫眼电影热门榜单,包括热映口碑榜,最受期待榜,国内票房榜,北美票房榜,猫眼TOP100,多维度为用户进行选片决策\">\n",
      "  <meta http-equiv=\"cleartype\" content=\"yes\" />\n",
      "  <meta http-equiv=\"X-UA-Compatible\" content=\"IE=edge\" />\n",
      "  <meta name=\"renderer\" content=\"webkit\" />\n",
      "\n",
      "  <meta name=\"HandheldFriendly\" content=\"true\" />\n",
      "  <meta name=\"format-detection\" content=\"email=no\" />\n",
      "  <meta name=\"format-detection\" content=\"telephone=no\" />\n",
      "  <meta name=\"viewport\" content=\"width=device-width, initial-scale=1\">\n",
      "\n",
      "  \n",
      "  <script>\"use strict\";!function(){var i=0<arguments.length&&void 0!==arguments[0]?arguments[0]:\"_Owl_\",n=window;n[i]||(n[i]={isRunning:!1,isReady:!1,preTasks:[],dataSet:[],use:function(i,t){this.isReady&&n.Owl&&n.Owl[i](t),this.preTasks.push({api:i,data:[t]})},add:function(i){this.dataSet.push(i)},run:function(){var t=this;if(!this.isRunning){this.isRunning=!0;var i=n.onerror;n.onerror=function(){this.isReady||this.add({type:\"jsError\",data:arguments}),i&&i.apply(n,arguments)}.bind(this),(n.addEventListener||n.attachEvent)(\"error\",function(i){t.isReady||t.add({type:\"resError\",data:[i]})},!0)}}},n[i].run())}();</script>\n",
      "  <script>\n",
      "  cid = \"c_wx6zb55\";\n",
      "  ci = 30;\n",
      "val = {\"subnavId\":4};    window.system = {};\n",
      "\n",
      "  window.openPlatform = '';\n",
      "  window.openPlatformSub = '';\n",
      "  window.$mtsiFlag = '0';\n",
      "\n",
      "  </script>\n",
      "  <link rel=\"stylesheet\" href=\"//s3plus.meituan.net/v1/mss_e2821d7f0cfe4ac1bf9202ecf9590e67/cdn-prod/file:5788b470/common.0a548310.css\"/>\n",
      "<link rel=\"stylesheet\" href=\"//s3plus.meituan.net/v1/mss_e2821d7f0cfe4ac1bf9202ecf9590e67/cdn-prod/file:5788b470/board-index.92a06072.css\"/>\n",
      "  <script crossorigin=\"anonymous\" src=\"//s3plus.meituan.net/v1/mss_e2821d7f0cfe4ac1bf9202ecf9590e67/cdn-prod/file:5788b470/stat.88d57c80.js\"></script>\n",
      "  <script>if(window.devicePixelRatio >= 2) { document.write('<link rel=\"stylesheet\" href=\"//s3plus.meituan.net/v1/mss_e2821d7f0cfe4ac1bf9202ecf9590e67/cdn-prod/file:5788b470/image-2x.8ba7074d.css\"/>') }</script>\n",
      "  <style>\n",
      "    @font-face {\n",
      "      font-family: stonefont;\n",
      "      src: url('//vfile.meituan.net/colorstone/10bf422423023a86a76eca830af2ff1e3440.eot');\n",
      "      src: url('//vfile.meituan.net/colorstone/10bf422423023a86a76eca830af2ff1e3440.eot?#iefix') format('embedded-opentype'),\n",
      "           url('//vfile.meituan.net/colorstone/7a3b728c974b36358bbd314f981761a92288.woff') format('woff');\n",
      "    }\n",
      "\n",
      "    .stonefont {\n",
      "      font-family: stonefont;\n",
      "    }\n",
      "  </style>\n",
      "  <script>\n",
      "  var _hmt = _hmt || [];\n",
      "  (function() {\n",
      "  var hm = document.createElement(\"script\");\n",
      "  hm.src = \"https://hm.baidu.com/hm.js?703e94591e87be68cc8da0da7cbd0be2\";\n",
      "  var s = document.getElementsByTagName(\"script\")[0]; \n",
      "  s.parentNode.insertBefore(hm, s);\n",
      "  })();\n",
      "  </script>\n",
      "</head>\n",
      "<body>\n",
      "\n",
      "\n",
      "<div class=\"header\">\n",
      "  <div class=\"header-inner\">\n",
      "        <a href=\"/\" class=\"logo\" data-act=\"icon-click\"></a>\n",
      "        <div class=\"city-container\" data-val=\"{currentcityid:30 }\">\n",
      "            <div class=\"city-selected\">\n",
      "                <div class=\"city-name\">\n",
      "                  深圳\n",
      "                  <span class=\"caret\"></span>\n",
      "                </div>\n",
      "            </div>\n",
      "            <div class=\"city-list\" data-val=\"{ localcityid: 30 }\">\n",
      "                <div class=\"city-list-header\">定位城市：<a class=\"js-geo-city\">深圳</a></div>\n",
      "                \n",
      "            </div>\n",
      "        </div>\n",
      "\n",
      "\n",
      "        <div class=\"nav\">\n",
      "            <ul class=\"navbar\">\n",
      "                <li><a href=\"/\" data-act=\"home-click\"  >首页</a></li>\n",
      "                <li><a href=\"/films\" data-act=\"movies-click\" >电影</a></li>\n",
      "                <li><a href=\"/cinemas\" data-act=\"cinemas-click\" >影院</a></li> \n",
      "                <li><a href=\"http://www.gewara.com\">演出</a></li>\n",
      "                \n",
      "                <li><a href=\"/board\" data-act=\"board-click\"  class=\"active\" >榜单</a></li>\n",
      "                <li><a href=\"/news\" data-act=\"hotNews-click\" >热点</a></li>\n",
      "                <li><a href=\"/edimall\"  >商城</a></li>\n",
      "            </ul>\n",
      "        </div>\n",
      "\n",
      "        <div class=\"user-info\">\n",
      "            <div class=\"user-avatar J-login\">\n",
      "              <img src=\"https://p0.meituan.net/movie/7dd82a16316ab32c8359debdb04396ef2897.png\">\n",
      "              <span class=\"caret\"></span>\n",
      "              <ul class=\"user-menu\">\n",
      "                <li><a href=\"javascript:void 0\">登录</a></li>\n",
      "              </ul>\n",
      "            </div>\n",
      "        </div>\n",
      "\n",
      "        <form action=\"/query\" target=\"_blank\" class=\"search-form\" data-actform=\"search-click\">\n",
      "            <input name=\"kw\" class=\"search\" type=\"search\" maxlength=\"32\" placeholder=\"找影视剧、影人、影院\" autocomplete=\"off\">\n",
      "            <input class=\"submit\" type=\"submit\" value=\"\">\n",
      "        </form>\n",
      "\n",
      "        <div class=\"app-download\">\n",
      "          <a href=\"/app\" target=\"_blank\">\n",
      "            <span class=\"iphone-icon\"></span>\n",
      "            <span class=\"apptext\">APP下载</span>\n",
      "            <span class=\"caret\"></span>\n",
      "            <div class=\"download-icon\">\n",
      "                <p class=\"down-title\">扫码下载APP</p>\n",
      "                <p class='down-content'>选座更优惠</p>\n",
      "            </div>\n",
      "          </a>\n",
      "        </div>\n",
      "    \n",
      "  </div>\n",
      "</div>\n",
      "<div class=\"header-placeholder\"></div>\n",
      "\n",
      "<div class=\"subnav\">\n",
      "  <ul class=\"navbar\">\n",
      "    <li>\n",
      "      <a data-act=\"subnav-click\" data-val=\"{subnavClick:7}\"\n",
      "          href=\"/board/7\"\n",
      "      >热映口碑榜</a>\n",
      "    </li>\n",
      "    <li>\n",
      "      <a data-act=\"subnav-click\" data-val=\"{subnavClick:6}\"\n",
      "          href=\"/board/6\"\n",
      "      >最受期待榜</a>\n",
      "    </li>\n",
      "    <li>\n",
      "      <a data-act=\"subnav-click\" data-val=\"{subnavClick:1}\"\n",
      "          href=\"/board/1\"\n",
      "      >国内票房榜</a>\n",
      "    </li>\n",
      "    <li>\n",
      "      <a data-act=\"subnav-click\" data-val=\"{subnavClick:2}\"\n",
      "          href=\"/board/2\"\n",
      "      >北美票房榜</a>\n",
      "    </li>\n",
      "    <li>\n",
      "      <a data-act=\"subnav-click\" data-val=\"{subnavClick:4}\"\n",
      "          data-state-val=\"{subnavId:4}\"\n",
      "          class=\"active\" href=\"javascript:void(0);\"\n",
      "      >TOP100榜</a>\n",
      "    </li>\n",
      "  </ul>\n",
      "</div>\n",
      "\n",
      "\n",
      "    <div class=\"container\" id=\"app\" class=\"page-board/index\" >\n",
      "\n",
      "<div class=\"content\">\n",
      "    <div class=\"wrapper\">\n",
      "        <div class=\"main\">\n",
      "            <p class=\"update-time\">2019-11-30<span class=\"has-fresh-text\">已更新</span></p>\n",
      "            <p class=\"board-content\">榜单规则：将猫眼电影库中的经典影片，按照评分和评分人数从高到低综合排序取前100名，每天上午10点更新。相关数据来源于“猫眼电影库”。</p>\n",
      "            <dl class=\"board-wrapper\">\n",
      "                <dd>\n",
      "                        <i class=\"board-index board-index-1\">1</i>\n",
      "    <a href=\"/films/1203\" title=\"霸王别姬\" class=\"image-link\" data-act=\"boarditem-click\" data-val=\"{movieId:1203}\">\n",
      "      <img src=\"//s3plus.meituan.net/v1/mss_e2821d7f0cfe4ac1bf9202ecf9590e67/cdn-prod/file:5788b470/image/loading_2.e3d934bf.png\" alt=\"\" class=\"poster-default\" />\n",
      "      <img data-src=\"https://p1.meituan.net/movie/20803f59291c47e1e116c11963ce019e68711.jpg@160w_220h_1e_1c\" alt=\"霸王别姬\" class=\"board-img\" />\n",
      "    </a>\n",
      "    <div class=\"board-item-main\">\n",
      "      <div class=\"board-item-content\">\n",
      "              <div class=\"movie-item-info\">\n",
      "        <p class=\"name\"><a href=\"/films/1203\" title=\"霸王别姬\" data-act=\"boarditem-click\" data-val=\"{movieId:1203}\">霸王别姬</a></p>\n",
      "        <p class=\"star\">\n",
      "                主演：张国荣,张丰毅,巩俐\n",
      "        </p>\n",
      "<p class=\"releasetime\">上映时间：1993-07-26</p>    </div>\n",
      "    <div class=\"movie-item-number score-num\">\n",
      "<p class=\"score\"><i class=\"integer\">9.</i><i class=\"fraction\">5</i></p>        \n",
      "    </div>\n",
      "\n",
      "      </div>\n",
      "    </div>\n",
      "\n",
      "                </dd>\n",
      "                <dd>\n",
      "                        <i class=\"board-index board-index-2\">2</i>\n",
      "    <a href=\"/films/1297\" title=\"肖申克的救赎\" class=\"image-link\" data-act=\"boarditem-click\" data-val=\"{movieId:1297}\">\n",
      "      <img src=\"//s3plus.meituan.net/v1/mss_e2821d7f0cfe4ac1bf9202ecf9590e67/cdn-prod/file:5788b470/image/loading_2.e3d934bf.png\" alt=\"\" class=\"poster-default\" />\n",
      "      <img data-src=\"https://p0.meituan.net/movie/283292171619cdfd5b240c8fd093f1eb255670.jpg@160w_220h_1e_1c\" alt=\"肖申克的救赎\" class=\"board-img\" />\n",
      "    </a>\n",
      "    <div class=\"board-item-main\">\n",
      "      <div class=\"board-item-content\">\n",
      "              <div class=\"movie-item-info\">\n",
      "        <p class=\"name\"><a href=\"/films/1297\" title=\"肖申克的救赎\" data-act=\"boarditem-click\" data-val=\"{movieId:1297}\">肖申克的救赎</a></p>\n",
      "        <p class=\"star\">\n",
      "                主演：蒂姆·罗宾斯,摩根·弗里曼,鲍勃·冈顿\n",
      "        </p>\n",
      "<p class=\"releasetime\">上映时间：1994-09-10(加拿大)</p>    </div>\n",
      "    <div class=\"movie-item-number score-num\">\n",
      "<p class=\"score\"><i class=\"integer\">9.</i><i class=\"fraction\">5</i></p>        \n",
      "    </div>\n",
      "\n",
      "      </div>\n",
      "    </div>\n",
      "\n",
      "                </dd>\n",
      "                <dd>\n",
      "                        <i class=\"board-index board-index-3\">3</i>\n",
      "    <a href=\"/films/2641\" title=\"罗马假日\" class=\"image-link\" data-act=\"boarditem-click\" data-val=\"{movieId:2641}\">\n",
      "      <img src=\"//s3plus.meituan.net/v1/mss_e2821d7f0cfe4ac1bf9202ecf9590e67/cdn-prod/file:5788b470/image/loading_2.e3d934bf.png\" alt=\"\" class=\"poster-default\" />\n",
      "      <img data-src=\"https://p0.meituan.net/movie/289f98ceaa8a0ae737d3dc01cd05ab052213631.jpg@160w_220h_1e_1c\" alt=\"罗马假日\" class=\"board-img\" />\n",
      "    </a>\n",
      "    <div class=\"board-item-main\">\n",
      "      <div class=\"board-item-content\">\n",
      "              <div class=\"movie-item-info\">\n",
      "        <p class=\"name\"><a href=\"/films/2641\" title=\"罗马假日\" data-act=\"boarditem-click\" data-val=\"{movieId:2641}\">罗马假日</a></p>\n",
      "        <p class=\"star\">\n",
      "                主演：格利高里·派克,奥黛丽·赫本,埃迪·艾伯特\n",
      "        </p>\n",
      "<p class=\"releasetime\">上映时间：1953-09-02(美国)</p>    </div>\n",
      "    <div class=\"movie-item-number score-num\">\n",
      "<p class=\"score\"><i class=\"integer\">9.</i><i class=\"fraction\">1</i></p>        \n",
      "    </div>\n",
      "\n",
      "      </div>\n",
      "    </div>\n",
      "\n",
      "                </dd>\n",
      "                <dd>\n",
      "                        <i class=\"board-index board-index-4\">4</i>\n",
      "    <a href=\"/films/4055\" title=\"这个杀手不太冷\" class=\"image-link\" data-act=\"boarditem-click\" data-val=\"{movieId:4055}\">\n",
      "      <img src=\"//s3plus.meituan.net/v1/mss_e2821d7f0cfe4ac1bf9202ecf9590e67/cdn-prod/file:5788b470/image/loading_2.e3d934bf.png\" alt=\"\" class=\"poster-default\" />\n",
      "      <img data-src=\"https://p1.meituan.net/movie/6bea9af4524dfbd0b668eaa7e187c3df767253.jpg@160w_220h_1e_1c\" alt=\"这个杀手不太冷\" class=\"board-img\" />\n",
      "    </a>\n",
      "    <div class=\"board-item-main\">\n",
      "      <div class=\"board-item-content\">\n",
      "              <div class=\"movie-item-info\">\n",
      "        <p class=\"name\"><a href=\"/films/4055\" title=\"这个杀手不太冷\" data-act=\"boarditem-click\" data-val=\"{movieId:4055}\">这个杀手不太冷</a></p>\n",
      "        <p class=\"star\">\n",
      "                主演：让·雷诺,加里·奥德曼,娜塔莉·波特曼\n",
      "        </p>\n",
      "<p class=\"releasetime\">上映时间：1994-09-14(法国)</p>    </div>\n",
      "    <div class=\"movie-item-number score-num\">\n",
      "<p class=\"score\"><i class=\"integer\">9.</i><i class=\"fraction\">5</i></p>        \n",
      "    </div>\n",
      "\n",
      "      </div>\n",
      "    </div>\n",
      "\n",
      "                </dd>\n",
      "                <dd>\n",
      "                        <i class=\"board-index board-index-5\">5</i>\n",
      "    <a href=\"/films/267\" title=\"泰坦尼克号\" class=\"image-link\" data-act=\"boarditem-click\" data-val=\"{movieId:267}\">\n",
      "      <img src=\"//s3plus.meituan.net/v1/mss_e2821d7f0cfe4ac1bf9202ecf9590e67/cdn-prod/file:5788b470/image/loading_2.e3d934bf.png\" alt=\"\" class=\"poster-default\" />\n",
      "      <img data-src=\"https://p1.meituan.net/movie/b607fba7513e7f15eab170aac1e1400d878112.jpg@160w_220h_1e_1c\" alt=\"泰坦尼克号\" class=\"board-img\" />\n",
      "    </a>\n",
      "    <div class=\"board-item-main\">\n",
      "      <div class=\"board-item-content\">\n",
      "              <div class=\"movie-item-info\">\n",
      "        <p class=\"name\"><a href=\"/films/267\" title=\"泰坦尼克号\" data-act=\"boarditem-click\" data-val=\"{movieId:267}\">泰坦尼克号</a></p>\n",
      "        <p class=\"star\">\n",
      "                主演：莱昂纳多·迪卡普里奥,凯特·温丝莱特,比利·赞恩\n",
      "        </p>\n",
      "<p class=\"releasetime\">上映时间：1998-04-03</p>    </div>\n",
      "    <div class=\"movie-item-number score-num\">\n",
      "<p class=\"score\"><i class=\"integer\">9.</i><i class=\"fraction\">5</i></p>        \n",
      "    </div>\n",
      "\n",
      "      </div>\n",
      "    </div>\n",
      "\n",
      "                </dd>\n",
      "                <dd>\n",
      "                        <i class=\"board-index board-index-6\">6</i>\n",
      "    <a href=\"/films/837\" title=\"唐伯虎点秋香\" class=\"image-link\" data-act=\"boarditem-click\" data-val=\"{movieId:837}\">\n",
      "      <img src=\"//s3plus.meituan.net/v1/mss_e2821d7f0cfe4ac1bf9202ecf9590e67/cdn-prod/file:5788b470/image/loading_2.e3d934bf.png\" alt=\"\" class=\"poster-default\" />\n",
      "      <img data-src=\"https://p0.meituan.net/movie/da64660f82b98cdc1b8a3804e69609e041108.jpg@160w_220h_1e_1c\" alt=\"唐伯虎点秋香\" class=\"board-img\" />\n",
      "    </a>\n",
      "    <div class=\"board-item-main\">\n",
      "      <div class=\"board-item-content\">\n",
      "              <div class=\"movie-item-info\">\n",
      "        <p class=\"name\"><a href=\"/films/837\" title=\"唐伯虎点秋香\" data-act=\"boarditem-click\" data-val=\"{movieId:837}\">唐伯虎点秋香</a></p>\n",
      "        <p class=\"star\">\n",
      "                主演：周星驰,巩俐,郑佩佩\n",
      "        </p>\n",
      "<p class=\"releasetime\">上映时间：1993-07-01(中国香港)</p>    </div>\n",
      "    <div class=\"movie-item-number score-num\">\n",
      "<p class=\"score\"><i class=\"integer\">9.</i><i class=\"fraction\">1</i></p>        \n",
      "    </div>\n",
      "\n",
      "      </div>\n",
      "    </div>\n",
      "\n",
      "                </dd>\n",
      "                <dd>\n",
      "                        <i class=\"board-index board-index-7\">7</i>\n",
      "    <a href=\"/films/7431\" title=\"乱世佳人\" class=\"image-link\" data-act=\"boarditem-click\" data-val=\"{movieId:7431}\">\n",
      "      <img src=\"//s3plus.meituan.net/v1/mss_e2821d7f0cfe4ac1bf9202ecf9590e67/cdn-prod/file:5788b470/image/loading_2.e3d934bf.png\" alt=\"\" class=\"poster-default\" />\n",
      "      <img data-src=\"https://p0.meituan.net/movie/223c3e186db3ab4ea3bb14508c709400427933.jpg@160w_220h_1e_1c\" alt=\"乱世佳人\" class=\"board-img\" />\n",
      "    </a>\n",
      "    <div class=\"board-item-main\">\n",
      "      <div class=\"board-item-content\">\n",
      "              <div class=\"movie-item-info\">\n",
      "        <p class=\"name\"><a href=\"/films/7431\" title=\"乱世佳人\" data-act=\"boarditem-click\" data-val=\"{movieId:7431}\">乱世佳人</a></p>\n",
      "        <p class=\"star\">\n",
      "                主演：费雯·丽,克拉克·盖博,奥利维娅·德哈维兰\n",
      "        </p>\n",
      "<p class=\"releasetime\">上映时间：1939-12-15(美国)</p>    </div>\n",
      "    <div class=\"movie-item-number score-num\">\n",
      "<p class=\"score\"><i class=\"integer\">9.</i><i class=\"fraction\">1</i></p>        \n",
      "    </div>\n",
      "\n",
      "      </div>\n",
      "    </div>\n",
      "\n",
      "                </dd>\n",
      "                <dd>\n",
      "                        <i class=\"board-index board-index-8\">8</i>\n",
      "    <a href=\"/films/2760\" title=\"魂断蓝桥\" class=\"image-link\" data-act=\"boarditem-click\" data-val=\"{movieId:2760}\">\n",
      "      <img src=\"//s3plus.meituan.net/v1/mss_e2821d7f0cfe4ac1bf9202ecf9590e67/cdn-prod/file:5788b470/image/loading_2.e3d934bf.png\" alt=\"\" class=\"poster-default\" />\n",
      "      <img data-src=\"https://p0.meituan.net/movie/46c29a8b8d8424bdda7715e6fd779c66235684.jpg@160w_220h_1e_1c\" alt=\"魂断蓝桥\" class=\"board-img\" />\n",
      "    </a>\n",
      "    <div class=\"board-item-main\">\n",
      "      <div class=\"board-item-content\">\n",
      "              <div class=\"movie-item-info\">\n",
      "        <p class=\"name\"><a href=\"/films/2760\" title=\"魂断蓝桥\" data-act=\"boarditem-click\" data-val=\"{movieId:2760}\">魂断蓝桥</a></p>\n",
      "        <p class=\"star\">\n",
      "                主演：费雯·丽,罗伯特·泰勒,露塞尔·沃特森\n",
      "        </p>\n",
      "<p class=\"releasetime\">上映时间：1940-05-17(美国)</p>    </div>\n",
      "    <div class=\"movie-item-number score-num\">\n",
      "<p class=\"score\"><i class=\"integer\">9.</i><i class=\"fraction\">2</i></p>        \n",
      "    </div>\n",
      "\n",
      "      </div>\n",
      "    </div>\n",
      "\n",
      "                </dd>\n",
      "                <dd>\n",
      "                        <i class=\"board-index board-index-9\">9</i>\n",
      "    <a href=\"/films/1228\" title=\"天空之城\" class=\"image-link\" data-act=\"boarditem-click\" data-val=\"{movieId:1228}\">\n",
      "      <img src=\"//s3plus.meituan.net/v1/mss_e2821d7f0cfe4ac1bf9202ecf9590e67/cdn-prod/file:5788b470/image/loading_2.e3d934bf.png\" alt=\"\" class=\"poster-default\" />\n",
      "      <img data-src=\"https://p1.meituan.net/movie/ba1ed511668402605ed369350ab779d6319397.jpg@160w_220h_1e_1c\" alt=\"天空之城\" class=\"board-img\" />\n",
      "    </a>\n",
      "    <div class=\"board-item-main\">\n",
      "      <div class=\"board-item-content\">\n",
      "              <div class=\"movie-item-info\">\n",
      "        <p class=\"name\"><a href=\"/films/1228\" title=\"天空之城\" data-act=\"boarditem-click\" data-val=\"{movieId:1228}\">天空之城</a></p>\n",
      "        <p class=\"star\">\n",
      "                主演：寺田农,鹫尾真知子,龟山助清\n",
      "        </p>\n",
      "<p class=\"releasetime\">上映时间：1992-05-01</p>    </div>\n",
      "    <div class=\"movie-item-number score-num\">\n",
      "<p class=\"score\"><i class=\"integer\">9.</i><i class=\"fraction\">0</i></p>        \n",
      "    </div>\n",
      "\n",
      "      </div>\n",
      "    </div>\n",
      "\n",
      "                </dd>\n",
      "                <dd>\n",
      "                        <i class=\"board-index board-index-10\">10</i>\n",
      "    <a href=\"/films/3667\" title=\"辛德勒的名单\" class=\"image-link\" data-act=\"boarditem-click\" data-val=\"{movieId:3667}\">\n",
      "      <img src=\"//s3plus.meituan.net/v1/mss_e2821d7f0cfe4ac1bf9202ecf9590e67/cdn-prod/file:5788b470/image/loading_2.e3d934bf.png\" alt=\"\" class=\"poster-default\" />\n",
      "      <img data-src=\"https://p0.meituan.net/movie/b0d986a8bf89278afbb19f6abaef70f31206570.jpg@160w_220h_1e_1c\" alt=\"辛德勒的名单\" class=\"board-img\" />\n",
      "    </a>\n",
      "    <div class=\"board-item-main\">\n",
      "      <div class=\"board-item-content\">\n",
      "              <div class=\"movie-item-info\">\n",
      "        <p class=\"name\"><a href=\"/films/3667\" title=\"辛德勒的名单\" data-act=\"boarditem-click\" data-val=\"{movieId:3667}\">辛德勒的名单</a></p>\n",
      "        <p class=\"star\">\n",
      "                主演：连姆·尼森,拉尔夫·费因斯,本·金斯利\n",
      "        </p>\n",
      "<p class=\"releasetime\">上映时间：1993-12-15(美国)</p>    </div>\n",
      "    <div class=\"movie-item-number score-num\">\n",
      "<p class=\"score\"><i class=\"integer\">9.</i><i class=\"fraction\">2</i></p>        \n",
      "    </div>\n",
      "\n",
      "      </div>\n",
      "    </div>\n",
      "\n",
      "                </dd>\n",
      "            </dl>\n",
      "\n",
      "        </div>\n",
      "            <div class=\"pager-main\">\n",
      "                \n",
      "  \n",
      "  <ul class=\"list-pager\">\n",
      "\n",
      "\n",
      "\n",
      "  \n",
      "      <li class=\"active\">\n",
      "    <a class=\"page_1\"\n",
      "      href=\"javascript:void(0);\" style=\"cursor: default\"\n",
      "  >1</a>\n",
      "\n",
      "</li>\n",
      "  <li >\n",
      "    <a class=\"page_2\"\n",
      "      href=\"?offset=10\"\n",
      "  >2</a>\n",
      "\n",
      "</li>\n",
      "  <li >\n",
      "    <a class=\"page_3\"\n",
      "      href=\"?offset=20\"\n",
      "  >3</a>\n",
      "\n",
      "</li>\n",
      "  <li >\n",
      "    <a class=\"page_4\"\n",
      "      href=\"?offset=30\"\n",
      "  >4</a>\n",
      "\n",
      "</li>\n",
      "  <li >\n",
      "    <a class=\"page_5\"\n",
      "      href=\"?offset=40\"\n",
      "  >5</a>\n",
      "\n",
      "</li>\n",
      "\n",
      "    <li class=\"sep\">...</li>\n",
      "      <li >\n",
      "    <a class=\"page_10\"\n",
      "      href=\"?offset=90\"\n",
      "  >10</a>\n",
      "\n",
      "</li>\n",
      "\n",
      "  \n",
      "\n",
      "<li>  <a class=\"page_2\"\n",
      "      href=\"?offset=10\"\n",
      "  >下一页</a>\n",
      "</li>\n",
      "</ul>\n",
      "\n",
      "\n",
      "            </div>\n",
      "    </div>\n",
      "</div>\n",
      "\n",
      "    </div>\n",
      "\n",
      "<div class=\"footer\">\n",
      "  <p class=\"friendly-links\">\n",
      "    关于猫眼 :\n",
      "    <a href=\"http://ir.maoyan.com/s/index.php#pageScroll0\" target=\"_blank\">关于我们</a>\n",
      "    <span></span>\n",
      "    <a href=\"http://ir.maoyan.com/s/index.php#pageScroll1\" target=\"_blank\">管理团队</a>\n",
      "    <span></span>\n",
      "    <a href=\"http://ir.maoyan.com/s/index.php#pageScroll2\" target=\"_blank\">投资者关系</a>\n",
      "    &nbsp;&nbsp;&nbsp;&nbsp;\n",
      "    友情链接 :\n",
      "    <a href=\"http://www.meituan.com\" data-query=\"utm_source=wwwmaoyan\" target=\"_blank\">美团网</a>\n",
      "    <span></span>\n",
      "    <a href=\"http://www.gewara.com\" data-query=\"utm_source=wwwmaoyan\">格瓦拉</a>\n",
      "    <span></span>\n",
      "    <a href=\"http://i.meituan.com/client\" data-query=\"utm_source=wwwmaoyan\" target=\"_blank\">美团下载</a>\n",
      "    <span></span>\n",
      "    <a href=\"https://www.huanxi.com\" data-query=\"utm_source=maoyan_pc\" target=\"_blank\">欢喜首映</a>\n",
      "  </p>\n",
      "  <p class=\"friendly-links\">\n",
      "    商务合作邮箱：v@maoyan.com\n",
      "    客服电话：10105335\n",
      "    违法和不良信息举报电话：4006018900\n",
      "  </p>\n",
      "  <p class=\"friendly-links\">\n",
      "    用户投诉邮箱：tousujubao@meituan.com\n",
      "    舞弊线索举报邮箱：wubijubao@maoyan.com\n",
      "  </p>\n",
      "  <p class=\"friendly-links  credentials\">\n",
      "    <a href=\"/about/licence/1\" target=\"_blank\">中华人民共和国增值电信业务经营许可证 京B2-20190350</a>\n",
      "    <span></span>\n",
      "    <a href=\"/about/licence/4\" target=\"_blank\">营业性演出许可证 京演（机构）（2019）4094号</a>\n",
      "  </p>\n",
      "  <p class=\"friendly-links  credentials\">\n",
      "    <a href=\"/about/licence/3\" target=\"_blank\">广播电视节目制作经营许可证 （京）字第08478号</a>\n",
      "    <span></span>\n",
      "    <a href=\"/about/licence/2\" target=\"_blank\">网络文化经营许可证 京网文（2019）3837-369号 </a>\n",
      "  </p>\n",
      "  <p class=\"friendly-links  credentials\">\n",
      "    <a href=\"/rules/agreement\" target=\"_blank\">猫眼用户服务协议 </a>\n",
      "    <span></span>\n",
      "    <a href=\"/rules/rule\" target=\"_blank\">猫眼平台交易规则总则 </a>\n",
      "    <span></span>\n",
      "    <a href=\"/rules/privacy\" target=\"_blank\">隐私政策 </a>\n",
      "  </p>\n",
      "  <p class=\"friendly-links  credentials\">\n",
      "    <a href=\"http://www.beian.gov.cn/portal/registerSystemInfo?recordcode=11010102003232\" target=\"_blank\">京公网安备\n",
      "      11010102003232号</a>\n",
      "  </p>\n",
      "  <p>北京猫眼文化传媒有限公司</p>\n",
      "  <p>\n",
      "    &copy;2016\n",
      "    猫眼电影 maoyan.com</p>\n",
      "  <div class=\"certificate\">\n",
      "    <a href=\"http://sq.ccm.gov.cn:80/ccnt/sczr/service/business/emark/toDetail/350CF8BCA8416C4FE0530140A8C0957E\"\n",
      "      target=\"_blank\">\n",
      "      <img src=\"http://p0.meituan.net/moviemachine/e54374ccf134d1f7b2c5b075a74fca525326.png\" />\n",
      "    </a>\n",
      "    <a href=\"/about/licence/5\" target=\"_blank\">\n",
      "      <img src=\"http://p1.meituan.net/moviemachine/805f605d5cf1b1a02a4e3a5e29df003b8376.png\" />\n",
      "    </a>\n",
      "  </div>\n",
      "</div>\n",
      "\n",
      "    <script crossorigin=\"anonymous\" src=\"//www.dpfile.com/app/owl/static/owl_1.7.11.js\"></script>\n",
      "    <script>\n",
      "      Owl.start({\n",
      "        project: 'com.sankuai.movie.fe.mywww', \n",
      "        pageUrl: location.href.split('?')[0].replace(/\\/\\d+/g, '/:id'),\n",
      "        devMode: false\n",
      "      })\n",
      "    </script>\n",
      "    <!--[if IE 8]><script crossorigin=\"anonymous\" src=\"//s3plus.meituan.net/v1/mss_e2821d7f0cfe4ac1bf9202ecf9590e67/cdn-prod/file:5788b470/es5-shim.bbad933f.js\"></script><![endif]-->\n",
      "    <!--[if IE 8]><script crossorigin=\"anonymous\" src=\"//s3plus.meituan.net/v1/mss_e2821d7f0cfe4ac1bf9202ecf9590e67/cdn-prod/file:5788b470/es5-sham.d6ea26f4.js\"></script><![endif]-->\n",
      "    <script crossorigin=\"anonymous\" src=\"//s3plus.meituan.net/v1/mss_e2821d7f0cfe4ac1bf9202ecf9590e67/cdn-prod/file:5788b470/common.9fc677f9.js\"></script>\n",
      "<script crossorigin=\"anonymous\" src=\"//s3plus.meituan.net/v1/mss_e2821d7f0cfe4ac1bf9202ecf9590e67/cdn-prod/file:5788b470/board-index.0cdf8e36.js\"></script>\n",
      "</body>\n",
      "</html>\n",
      "\n"
     ]
    }
   ],
   "source": [
    "import requests\n",
    "\n",
    "\n",
    "def get_one_page(url):\n",
    "    headers = {'user-agent': 'Mozilla/5.0 (Macintosh; Intel Mac OS X 10_13_2) AppleWebKit/537.36 (KHTML, like Gecko) Chrome/64.0.3282.119 Safari/537.36'}\n",
    "    response = requests.get(url, headers=headers)\n",
    "    if response.status_code == 200:\n",
    "        return response.text\n",
    "    return None\n",
    "\n",
    "\n",
    "def main():\n",
    "    url = 'https://maoyan.com/board/4'\n",
    "    html = get_one_page(url)\n",
    "    print(html)\n",
    "\n",
    "\n",
    "main()\n"
   ]
  },
  {
   "cell_type": "code",
   "execution_count": 13,
   "metadata": {},
   "outputs": [
    {
     "name": "stdout",
     "output_type": "stream",
     "text": [
      "<!DOCTYPE html>\n",
      "\n",
      "<!--[if IE 8]><html class=\"ie8\"><![endif]-->\n",
      "<!--[if IE 9]><html class=\"ie9\"><![endif]-->\n",
      "<!--[if gt IE 9]><!--><html><!--<![endif]-->\n",
      "<head>\n",
      "  <title>TOP100榜 - 猫眼电影 - 一网打尽好电影</title>\n",
      "  \n",
      "  <link rel=\"dns-prefetch\" href=\"//p0.meituan.net\"  />\n",
      "  <link rel=\"dns-prefetch\" href=\"//p1.meituan.net\"  />\n",
      "  <link rel=\"dns-prefetch\" href=\"//ms0.meituan.net\" />\n",
      "  <link rel=\"dns-prefetch\" href=\"//s0.meituan.net\" />\n",
      "  <link rel=\"dns-prefetch\" href=\"//ms1.meituan.net\" />\n",
      "  <link rel=\"dns-prefetch\" href=\"//analytics.meituan.com\" />\n",
      "  <link rel=\"dns-prefetch\" href=\"//report.meituan.com\" />\n",
      "  <link rel=\"dns-prefetch\" href=\"//frep.meituan.com\" />\n",
      "\n",
      "  \n",
      "  <meta charset=\"utf-8\">\n",
      "  <meta name=\"keywords\" content=\"猫眼电影,电影排行榜,热映口碑榜,最受期待榜,国内票房榜,北美票房榜,猫眼TOP100\">\n",
      "  <meta name=\"description\" content=\"猫眼电影热门榜单,包括热映口碑榜,最受期待榜,国内票房榜,北美票房榜,猫眼TOP100,多维度为用户进行选片决策\">\n",
      "  <meta http-equiv=\"cleartype\" content=\"yes\" />\n",
      "  <meta http-equiv=\"X-UA-Compatible\" content=\"IE=edge\" />\n",
      "  <meta name=\"renderer\" content=\"webkit\" />\n",
      "\n",
      "  <meta name=\"HandheldFriendly\" content=\"true\" />\n",
      "  <meta name=\"format-detection\" content=\"email=no\" />\n",
      "  <meta name=\"format-detection\" content=\"telephone=no\" />\n",
      "  <meta name=\"viewport\" content=\"width=device-width, initial-scale=1\">\n",
      "\n",
      "  \n",
      "  <script>\"use strict\";!function(){var i=0<arguments.length&&void 0!==arguments[0]?arguments[0]:\"_Owl_\",n=window;n[i]||(n[i]={isRunning:!1,isReady:!1,preTasks:[],dataSet:[],use:function(i,t){this.isReady&&n.Owl&&n.Owl[i](t),this.preTasks.push({api:i,data:[t]})},add:function(i){this.dataSet.push(i)},run:function(){var t=this;if(!this.isRunning){this.isRunning=!0;var i=n.onerror;n.onerror=function(){this.isReady||this.add({type:\"jsError\",data:arguments}),i&&i.apply(n,arguments)}.bind(this),(n.addEventListener||n.attachEvent)(\"error\",function(i){t.isReady||t.add({type:\"resError\",data:[i]})},!0)}}},n[i].run())}();</script>\n",
      "  <script>\n",
      "  cid = \"c_wx6zb55\";\n",
      "  ci = 30;\n",
      "val = {\"subnavId\":4};    window.system = {};\n",
      "\n",
      "  window.openPlatform = '';\n",
      "  window.openPlatformSub = '';\n",
      "  window.$mtsiFlag = '0';\n",
      "\n",
      "  </script>\n",
      "  <link rel=\"stylesheet\" href=\"//s3plus.meituan.net/v1/mss_e2821d7f0cfe4ac1bf9202ecf9590e67/cdn-prod/file:5788b470/common.0a548310.css\"/>\n",
      "<link rel=\"stylesheet\" href=\"//s3plus.meituan.net/v1/mss_e2821d7f0cfe4ac1bf9202ecf9590e67/cdn-prod/file:5788b470/board-index.92a06072.css\"/>\n",
      "  <script crossorigin=\"anonymous\" src=\"//s3plus.meituan.net/v1/mss_e2821d7f0cfe4ac1bf9202ecf9590e67/cdn-prod/file:5788b470/stat.88d57c80.js\"></script>\n",
      "  <script>if(window.devicePixelRatio >= 2) { document.write('<link rel=\"stylesheet\" href=\"//s3plus.meituan.net/v1/mss_e2821d7f0cfe4ac1bf9202ecf9590e67/cdn-prod/file:5788b470/image-2x.8ba7074d.css\"/>') }</script>\n",
      "  <style>\n",
      "    @font-face {\n",
      "      font-family: stonefont;\n",
      "      src: url('//vfile.meituan.net/colorstone/2b0adc2c3497636c408e427a721e9d543452.eot');\n",
      "      src: url('//vfile.meituan.net/colorstone/2b0adc2c3497636c408e427a721e9d543452.eot?#iefix') format('embedded-opentype'),\n",
      "           url('//vfile.meituan.net/colorstone/195c492318f9242503bcab5b997d75dc2300.woff') format('woff');\n",
      "    }\n",
      "\n",
      "    .stonefont {\n",
      "      font-family: stonefont;\n",
      "    }\n",
      "  </style>\n",
      "  <script>\n",
      "  var _hmt = _hmt || [];\n",
      "  (function() {\n",
      "  var hm = document.createElement(\"script\");\n",
      "  hm.src = \"https://hm.baidu.com/hm.js?703e94591e87be68cc8da0da7cbd0be2\";\n",
      "  var s = document.getElementsByTagName(\"script\")[0]; \n",
      "  s.parentNode.insertBefore(hm, s);\n",
      "  })();\n",
      "  </script>\n",
      "</head>\n",
      "<body>\n",
      "\n",
      "\n",
      "<div class=\"header\">\n",
      "  <div class=\"header-inner\">\n",
      "        <a href=\"/\" class=\"logo\" data-act=\"icon-click\"></a>\n",
      "        <div class=\"city-container\" data-val=\"{currentcityid:30 }\">\n",
      "            <div class=\"city-selected\">\n",
      "                <div class=\"city-name\">\n",
      "                  深圳\n",
      "                  <span class=\"caret\"></span>\n",
      "                </div>\n",
      "            </div>\n",
      "            <div class=\"city-list\" data-val=\"{ localcityid: 30 }\">\n",
      "                <div class=\"city-list-header\">定位城市：<a class=\"js-geo-city\">深圳</a></div>\n",
      "                \n",
      "            </div>\n",
      "        </div>\n",
      "\n",
      "\n",
      "        <div class=\"nav\">\n",
      "            <ul class=\"navbar\">\n",
      "                <li><a href=\"/\" data-act=\"home-click\"  >首页</a></li>\n",
      "                <li><a href=\"/films\" data-act=\"movies-click\" >电影</a></li>\n",
      "                <li><a href=\"/cinemas\" data-act=\"cinemas-click\" >影院</a></li> \n",
      "                <li><a href=\"http://www.gewara.com\">演出</a></li>\n",
      "                \n",
      "                <li><a href=\"/board\" data-act=\"board-click\"  class=\"active\" >榜单</a></li>\n",
      "                <li><a href=\"/news\" data-act=\"hotNews-click\" >热点</a></li>\n",
      "                <li><a href=\"/edimall\"  >商城</a></li>\n",
      "            </ul>\n",
      "        </div>\n",
      "\n",
      "        <div class=\"user-info\">\n",
      "            <div class=\"user-avatar J-login\">\n",
      "              <img src=\"https://p0.meituan.net/movie/7dd82a16316ab32c8359debdb04396ef2897.png\">\n",
      "              <span class=\"caret\"></span>\n",
      "              <ul class=\"user-menu\">\n",
      "                <li><a href=\"javascript:void 0\">登录</a></li>\n",
      "              </ul>\n",
      "            </div>\n",
      "        </div>\n",
      "\n",
      "        <form action=\"/query\" target=\"_blank\" class=\"search-form\" data-actform=\"search-click\">\n",
      "            <input name=\"kw\" class=\"search\" type=\"search\" maxlength=\"32\" placeholder=\"找影视剧、影人、影院\" autocomplete=\"off\">\n",
      "            <input class=\"submit\" type=\"submit\" value=\"\">\n",
      "        </form>\n",
      "\n",
      "        <div class=\"app-download\">\n",
      "          <a href=\"/app\" target=\"_blank\">\n",
      "            <span class=\"iphone-icon\"></span>\n",
      "            <span class=\"apptext\">APP下载</span>\n",
      "            <span class=\"caret\"></span>\n",
      "            <div class=\"download-icon\">\n",
      "                <p class=\"down-title\">扫码下载APP</p>\n",
      "                <p class='down-content'>选座更优惠</p>\n",
      "            </div>\n",
      "          </a>\n",
      "        </div>\n",
      "    \n",
      "  </div>\n",
      "</div>\n",
      "<div class=\"header-placeholder\"></div>\n",
      "\n",
      "<div class=\"subnav\">\n",
      "  <ul class=\"navbar\">\n",
      "    <li>\n",
      "      <a data-act=\"subnav-click\" data-val=\"{subnavClick:7}\"\n",
      "          href=\"/board/7\"\n",
      "      >热映口碑榜</a>\n",
      "    </li>\n",
      "    <li>\n",
      "      <a data-act=\"subnav-click\" data-val=\"{subnavClick:6}\"\n",
      "          href=\"/board/6\"\n",
      "      >最受期待榜</a>\n",
      "    </li>\n",
      "    <li>\n",
      "      <a data-act=\"subnav-click\" data-val=\"{subnavClick:1}\"\n",
      "          href=\"/board/1\"\n",
      "      >国内票房榜</a>\n",
      "    </li>\n",
      "    <li>\n",
      "      <a data-act=\"subnav-click\" data-val=\"{subnavClick:2}\"\n",
      "          href=\"/board/2\"\n",
      "      >北美票房榜</a>\n",
      "    </li>\n",
      "    <li>\n",
      "      <a data-act=\"subnav-click\" data-val=\"{subnavClick:4}\"\n",
      "          data-state-val=\"{subnavId:4}\"\n",
      "          class=\"active\" href=\"javascript:void(0);\"\n",
      "      >TOP100榜</a>\n",
      "    </li>\n",
      "  </ul>\n",
      "</div>\n",
      "\n",
      "\n",
      "    <div class=\"container\" id=\"app\" class=\"page-board/index\" >\n",
      "\n",
      "<div class=\"content\">\n",
      "    <div class=\"wrapper\">\n",
      "        <div class=\"main\">\n",
      "            <p class=\"update-time\">2019-11-30<span class=\"has-fresh-text\">已更新</span></p>\n",
      "            <p class=\"board-content\">榜单规则：将猫眼电影库中的经典影片，按照评分和评分人数从高到低综合排序取前100名，每天上午10点更新。相关数据来源于“猫眼电影库”。</p>\n",
      "            <dl class=\"board-wrapper\">\n",
      "                <dd>\n",
      "                        <i class=\"board-index board-index-1\">1</i>\n",
      "    <a href=\"/films/1203\" title=\"霸王别姬\" class=\"image-link\" data-act=\"boarditem-click\" data-val=\"{movieId:1203}\">\n",
      "      <img src=\"//s3plus.meituan.net/v1/mss_e2821d7f0cfe4ac1bf9202ecf9590e67/cdn-prod/file:5788b470/image/loading_2.e3d934bf.png\" alt=\"\" class=\"poster-default\" />\n",
      "      <img data-src=\"https://p1.meituan.net/movie/20803f59291c47e1e116c11963ce019e68711.jpg@160w_220h_1e_1c\" alt=\"霸王别姬\" class=\"board-img\" />\n",
      "    </a>\n",
      "    <div class=\"board-item-main\">\n",
      "      <div class=\"board-item-content\">\n",
      "              <div class=\"movie-item-info\">\n",
      "        <p class=\"name\"><a href=\"/films/1203\" title=\"霸王别姬\" data-act=\"boarditem-click\" data-val=\"{movieId:1203}\">霸王别姬</a></p>\n",
      "        <p class=\"star\">\n",
      "                主演：张国荣,张丰毅,巩俐\n",
      "        </p>\n",
      "<p class=\"releasetime\">上映时间：1993-07-26</p>    </div>\n",
      "    <div class=\"movie-item-number score-num\">\n",
      "<p class=\"score\"><i class=\"integer\">9.</i><i class=\"fraction\">5</i></p>        \n",
      "    </div>\n",
      "\n",
      "      </div>\n",
      "    </div>\n",
      "\n",
      "                </dd>\n",
      "                <dd>\n",
      "                        <i class=\"board-index board-index-2\">2</i>\n",
      "    <a href=\"/films/1297\" title=\"肖申克的救赎\" class=\"image-link\" data-act=\"boarditem-click\" data-val=\"{movieId:1297}\">\n",
      "      <img src=\"//s3plus.meituan.net/v1/mss_e2821d7f0cfe4ac1bf9202ecf9590e67/cdn-prod/file:5788b470/image/loading_2.e3d934bf.png\" alt=\"\" class=\"poster-default\" />\n",
      "      <img data-src=\"https://p0.meituan.net/movie/283292171619cdfd5b240c8fd093f1eb255670.jpg@160w_220h_1e_1c\" alt=\"肖申克的救赎\" class=\"board-img\" />\n",
      "    </a>\n",
      "    <div class=\"board-item-main\">\n",
      "      <div class=\"board-item-content\">\n",
      "              <div class=\"movie-item-info\">\n",
      "        <p class=\"name\"><a href=\"/films/1297\" title=\"肖申克的救赎\" data-act=\"boarditem-click\" data-val=\"{movieId:1297}\">肖申克的救赎</a></p>\n",
      "        <p class=\"star\">\n",
      "                主演：蒂姆·罗宾斯,摩根·弗里曼,鲍勃·冈顿\n",
      "        </p>\n",
      "<p class=\"releasetime\">上映时间：1994-09-10(加拿大)</p>    </div>\n",
      "    <div class=\"movie-item-number score-num\">\n",
      "<p class=\"score\"><i class=\"integer\">9.</i><i class=\"fraction\">5</i></p>        \n",
      "    </div>\n",
      "\n",
      "      </div>\n",
      "    </div>\n",
      "\n",
      "                </dd>\n",
      "                <dd>\n",
      "                        <i class=\"board-index board-index-3\">3</i>\n",
      "    <a href=\"/films/2641\" title=\"罗马假日\" class=\"image-link\" data-act=\"boarditem-click\" data-val=\"{movieId:2641}\">\n",
      "      <img src=\"//s3plus.meituan.net/v1/mss_e2821d7f0cfe4ac1bf9202ecf9590e67/cdn-prod/file:5788b470/image/loading_2.e3d934bf.png\" alt=\"\" class=\"poster-default\" />\n",
      "      <img data-src=\"https://p0.meituan.net/movie/289f98ceaa8a0ae737d3dc01cd05ab052213631.jpg@160w_220h_1e_1c\" alt=\"罗马假日\" class=\"board-img\" />\n",
      "    </a>\n",
      "    <div class=\"board-item-main\">\n",
      "      <div class=\"board-item-content\">\n",
      "              <div class=\"movie-item-info\">\n",
      "        <p class=\"name\"><a href=\"/films/2641\" title=\"罗马假日\" data-act=\"boarditem-click\" data-val=\"{movieId:2641}\">罗马假日</a></p>\n",
      "        <p class=\"star\">\n",
      "                主演：格利高里·派克,奥黛丽·赫本,埃迪·艾伯特\n",
      "        </p>\n",
      "<p class=\"releasetime\">上映时间：1953-09-02(美国)</p>    </div>\n",
      "    <div class=\"movie-item-number score-num\">\n",
      "<p class=\"score\"><i class=\"integer\">9.</i><i class=\"fraction\">1</i></p>        \n",
      "    </div>\n",
      "\n",
      "      </div>\n",
      "    </div>\n",
      "\n",
      "                </dd>\n",
      "                <dd>\n",
      "                        <i class=\"board-index board-index-4\">4</i>\n",
      "    <a href=\"/films/4055\" title=\"这个杀手不太冷\" class=\"image-link\" data-act=\"boarditem-click\" data-val=\"{movieId:4055}\">\n",
      "      <img src=\"//s3plus.meituan.net/v1/mss_e2821d7f0cfe4ac1bf9202ecf9590e67/cdn-prod/file:5788b470/image/loading_2.e3d934bf.png\" alt=\"\" class=\"poster-default\" />\n",
      "      <img data-src=\"https://p1.meituan.net/movie/6bea9af4524dfbd0b668eaa7e187c3df767253.jpg@160w_220h_1e_1c\" alt=\"这个杀手不太冷\" class=\"board-img\" />\n",
      "    </a>\n",
      "    <div class=\"board-item-main\">\n",
      "      <div class=\"board-item-content\">\n",
      "              <div class=\"movie-item-info\">\n",
      "        <p class=\"name\"><a href=\"/films/4055\" title=\"这个杀手不太冷\" data-act=\"boarditem-click\" data-val=\"{movieId:4055}\">这个杀手不太冷</a></p>\n",
      "        <p class=\"star\">\n",
      "                主演：让·雷诺,加里·奥德曼,娜塔莉·波特曼\n",
      "        </p>\n",
      "<p class=\"releasetime\">上映时间：1994-09-14(法国)</p>    </div>\n",
      "    <div class=\"movie-item-number score-num\">\n",
      "<p class=\"score\"><i class=\"integer\">9.</i><i class=\"fraction\">5</i></p>        \n",
      "    </div>\n",
      "\n",
      "      </div>\n",
      "    </div>\n",
      "\n",
      "                </dd>\n",
      "                <dd>\n",
      "                        <i class=\"board-index board-index-5\">5</i>\n",
      "    <a href=\"/films/267\" title=\"泰坦尼克号\" class=\"image-link\" data-act=\"boarditem-click\" data-val=\"{movieId:267}\">\n",
      "      <img src=\"//s3plus.meituan.net/v1/mss_e2821d7f0cfe4ac1bf9202ecf9590e67/cdn-prod/file:5788b470/image/loading_2.e3d934bf.png\" alt=\"\" class=\"poster-default\" />\n",
      "      <img data-src=\"https://p1.meituan.net/movie/b607fba7513e7f15eab170aac1e1400d878112.jpg@160w_220h_1e_1c\" alt=\"泰坦尼克号\" class=\"board-img\" />\n",
      "    </a>\n",
      "    <div class=\"board-item-main\">\n",
      "      <div class=\"board-item-content\">\n",
      "              <div class=\"movie-item-info\">\n",
      "        <p class=\"name\"><a href=\"/films/267\" title=\"泰坦尼克号\" data-act=\"boarditem-click\" data-val=\"{movieId:267}\">泰坦尼克号</a></p>\n",
      "        <p class=\"star\">\n",
      "                主演：莱昂纳多·迪卡普里奥,凯特·温丝莱特,比利·赞恩\n",
      "        </p>\n",
      "<p class=\"releasetime\">上映时间：1998-04-03</p>    </div>\n",
      "    <div class=\"movie-item-number score-num\">\n",
      "<p class=\"score\"><i class=\"integer\">9.</i><i class=\"fraction\">5</i></p>        \n",
      "    </div>\n",
      "\n",
      "      </div>\n",
      "    </div>\n",
      "\n",
      "                </dd>\n",
      "                <dd>\n",
      "                        <i class=\"board-index board-index-6\">6</i>\n",
      "    <a href=\"/films/837\" title=\"唐伯虎点秋香\" class=\"image-link\" data-act=\"boarditem-click\" data-val=\"{movieId:837}\">\n",
      "      <img src=\"//s3plus.meituan.net/v1/mss_e2821d7f0cfe4ac1bf9202ecf9590e67/cdn-prod/file:5788b470/image/loading_2.e3d934bf.png\" alt=\"\" class=\"poster-default\" />\n",
      "      <img data-src=\"https://p0.meituan.net/movie/da64660f82b98cdc1b8a3804e69609e041108.jpg@160w_220h_1e_1c\" alt=\"唐伯虎点秋香\" class=\"board-img\" />\n",
      "    </a>\n",
      "    <div class=\"board-item-main\">\n",
      "      <div class=\"board-item-content\">\n",
      "              <div class=\"movie-item-info\">\n",
      "        <p class=\"name\"><a href=\"/films/837\" title=\"唐伯虎点秋香\" data-act=\"boarditem-click\" data-val=\"{movieId:837}\">唐伯虎点秋香</a></p>\n",
      "        <p class=\"star\">\n",
      "                主演：周星驰,巩俐,郑佩佩\n",
      "        </p>\n",
      "<p class=\"releasetime\">上映时间：1993-07-01(中国香港)</p>    </div>\n",
      "    <div class=\"movie-item-number score-num\">\n",
      "<p class=\"score\"><i class=\"integer\">9.</i><i class=\"fraction\">1</i></p>        \n",
      "    </div>\n",
      "\n",
      "      </div>\n",
      "    </div>\n",
      "\n",
      "                </dd>\n",
      "                <dd>\n",
      "                        <i class=\"board-index board-index-7\">7</i>\n",
      "    <a href=\"/films/7431\" title=\"乱世佳人\" class=\"image-link\" data-act=\"boarditem-click\" data-val=\"{movieId:7431}\">\n",
      "      <img src=\"//s3plus.meituan.net/v1/mss_e2821d7f0cfe4ac1bf9202ecf9590e67/cdn-prod/file:5788b470/image/loading_2.e3d934bf.png\" alt=\"\" class=\"poster-default\" />\n",
      "      <img data-src=\"https://p0.meituan.net/movie/223c3e186db3ab4ea3bb14508c709400427933.jpg@160w_220h_1e_1c\" alt=\"乱世佳人\" class=\"board-img\" />\n",
      "    </a>\n",
      "    <div class=\"board-item-main\">\n",
      "      <div class=\"board-item-content\">\n",
      "              <div class=\"movie-item-info\">\n",
      "        <p class=\"name\"><a href=\"/films/7431\" title=\"乱世佳人\" data-act=\"boarditem-click\" data-val=\"{movieId:7431}\">乱世佳人</a></p>\n",
      "        <p class=\"star\">\n",
      "                主演：费雯·丽,克拉克·盖博,奥利维娅·德哈维兰\n",
      "        </p>\n",
      "<p class=\"releasetime\">上映时间：1939-12-15(美国)</p>    </div>\n",
      "    <div class=\"movie-item-number score-num\">\n",
      "<p class=\"score\"><i class=\"integer\">9.</i><i class=\"fraction\">1</i></p>        \n",
      "    </div>\n",
      "\n",
      "      </div>\n",
      "    </div>\n",
      "\n",
      "                </dd>\n",
      "                <dd>\n",
      "                        <i class=\"board-index board-index-8\">8</i>\n",
      "    <a href=\"/films/2760\" title=\"魂断蓝桥\" class=\"image-link\" data-act=\"boarditem-click\" data-val=\"{movieId:2760}\">\n",
      "      <img src=\"//s3plus.meituan.net/v1/mss_e2821d7f0cfe4ac1bf9202ecf9590e67/cdn-prod/file:5788b470/image/loading_2.e3d934bf.png\" alt=\"\" class=\"poster-default\" />\n",
      "      <img data-src=\"https://p0.meituan.net/movie/46c29a8b8d8424bdda7715e6fd779c66235684.jpg@160w_220h_1e_1c\" alt=\"魂断蓝桥\" class=\"board-img\" />\n",
      "    </a>\n",
      "    <div class=\"board-item-main\">\n",
      "      <div class=\"board-item-content\">\n",
      "              <div class=\"movie-item-info\">\n",
      "        <p class=\"name\"><a href=\"/films/2760\" title=\"魂断蓝桥\" data-act=\"boarditem-click\" data-val=\"{movieId:2760}\">魂断蓝桥</a></p>\n",
      "        <p class=\"star\">\n",
      "                主演：费雯·丽,罗伯特·泰勒,露塞尔·沃特森\n",
      "        </p>\n",
      "<p class=\"releasetime\">上映时间：1940-05-17(美国)</p>    </div>\n",
      "    <div class=\"movie-item-number score-num\">\n",
      "<p class=\"score\"><i class=\"integer\">9.</i><i class=\"fraction\">2</i></p>        \n",
      "    </div>\n",
      "\n",
      "      </div>\n",
      "    </div>\n",
      "\n",
      "                </dd>\n",
      "                <dd>\n",
      "                        <i class=\"board-index board-index-9\">9</i>\n",
      "    <a href=\"/films/1228\" title=\"天空之城\" class=\"image-link\" data-act=\"boarditem-click\" data-val=\"{movieId:1228}\">\n",
      "      <img src=\"//s3plus.meituan.net/v1/mss_e2821d7f0cfe4ac1bf9202ecf9590e67/cdn-prod/file:5788b470/image/loading_2.e3d934bf.png\" alt=\"\" class=\"poster-default\" />\n",
      "      <img data-src=\"https://p1.meituan.net/movie/ba1ed511668402605ed369350ab779d6319397.jpg@160w_220h_1e_1c\" alt=\"天空之城\" class=\"board-img\" />\n",
      "    </a>\n",
      "    <div class=\"board-item-main\">\n",
      "      <div class=\"board-item-content\">\n",
      "              <div class=\"movie-item-info\">\n",
      "        <p class=\"name\"><a href=\"/films/1228\" title=\"天空之城\" data-act=\"boarditem-click\" data-val=\"{movieId:1228}\">天空之城</a></p>\n",
      "        <p class=\"star\">\n",
      "                主演：寺田农,鹫尾真知子,龟山助清\n",
      "        </p>\n",
      "<p class=\"releasetime\">上映时间：1992-05-01</p>    </div>\n",
      "    <div class=\"movie-item-number score-num\">\n",
      "<p class=\"score\"><i class=\"integer\">9.</i><i class=\"fraction\">0</i></p>        \n",
      "    </div>\n",
      "\n",
      "      </div>\n",
      "    </div>\n",
      "\n",
      "                </dd>\n",
      "                <dd>\n",
      "                        <i class=\"board-index board-index-10\">10</i>\n",
      "    <a href=\"/films/3667\" title=\"辛德勒的名单\" class=\"image-link\" data-act=\"boarditem-click\" data-val=\"{movieId:3667}\">\n",
      "      <img src=\"//s3plus.meituan.net/v1/mss_e2821d7f0cfe4ac1bf9202ecf9590e67/cdn-prod/file:5788b470/image/loading_2.e3d934bf.png\" alt=\"\" class=\"poster-default\" />\n",
      "      <img data-src=\"https://p0.meituan.net/movie/b0d986a8bf89278afbb19f6abaef70f31206570.jpg@160w_220h_1e_1c\" alt=\"辛德勒的名单\" class=\"board-img\" />\n",
      "    </a>\n",
      "    <div class=\"board-item-main\">\n",
      "      <div class=\"board-item-content\">\n",
      "              <div class=\"movie-item-info\">\n",
      "        <p class=\"name\"><a href=\"/films/3667\" title=\"辛德勒的名单\" data-act=\"boarditem-click\" data-val=\"{movieId:3667}\">辛德勒的名单</a></p>\n",
      "        <p class=\"star\">\n",
      "                主演：连姆·尼森,拉尔夫·费因斯,本·金斯利\n",
      "        </p>\n",
      "<p class=\"releasetime\">上映时间：1993-12-15(美国)</p>    </div>\n",
      "    <div class=\"movie-item-number score-num\">\n",
      "<p class=\"score\"><i class=\"integer\">9.</i><i class=\"fraction\">2</i></p>        \n",
      "    </div>\n",
      "\n",
      "      </div>\n",
      "    </div>\n",
      "\n",
      "                </dd>\n",
      "            </dl>\n",
      "\n",
      "        </div>\n",
      "            <div class=\"pager-main\">\n",
      "                \n",
      "  \n",
      "  <ul class=\"list-pager\">\n",
      "\n",
      "\n",
      "\n",
      "  \n",
      "      <li class=\"active\">\n",
      "    <a class=\"page_1\"\n",
      "      href=\"javascript:void(0);\" style=\"cursor: default\"\n",
      "  >1</a>\n",
      "\n",
      "</li>\n",
      "  <li >\n",
      "    <a class=\"page_2\"\n",
      "      href=\"?offset=10\"\n",
      "  >2</a>\n",
      "\n",
      "</li>\n",
      "  <li >\n",
      "    <a class=\"page_3\"\n",
      "      href=\"?offset=20\"\n",
      "  >3</a>\n",
      "\n",
      "</li>\n",
      "  <li >\n",
      "    <a class=\"page_4\"\n",
      "      href=\"?offset=30\"\n",
      "  >4</a>\n",
      "\n",
      "</li>\n",
      "  <li >\n",
      "    <a class=\"page_5\"\n",
      "      href=\"?offset=40\"\n",
      "  >5</a>\n",
      "\n",
      "</li>\n",
      "\n",
      "    <li class=\"sep\">...</li>\n",
      "      <li >\n",
      "    <a class=\"page_10\"\n",
      "      href=\"?offset=90\"\n",
      "  >10</a>\n",
      "\n",
      "</li>\n",
      "\n",
      "  \n",
      "\n",
      "<li>  <a class=\"page_2\"\n",
      "      href=\"?offset=10\"\n",
      "  >下一页</a>\n",
      "</li>\n",
      "</ul>\n",
      "\n",
      "\n",
      "            </div>\n",
      "    </div>\n",
      "</div>\n",
      "\n",
      "    </div>\n",
      "\n",
      "<div class=\"footer\">\n",
      "  <p class=\"friendly-links\">\n",
      "    关于猫眼 :\n",
      "    <a href=\"http://ir.maoyan.com/s/index.php#pageScroll0\" target=\"_blank\">关于我们</a>\n",
      "    <span></span>\n",
      "    <a href=\"http://ir.maoyan.com/s/index.php#pageScroll1\" target=\"_blank\">管理团队</a>\n",
      "    <span></span>\n",
      "    <a href=\"http://ir.maoyan.com/s/index.php#pageScroll2\" target=\"_blank\">投资者关系</a>\n",
      "    &nbsp;&nbsp;&nbsp;&nbsp;\n",
      "    友情链接 :\n",
      "    <a href=\"http://www.meituan.com\" data-query=\"utm_source=wwwmaoyan\" target=\"_blank\">美团网</a>\n",
      "    <span></span>\n",
      "    <a href=\"http://www.gewara.com\" data-query=\"utm_source=wwwmaoyan\">格瓦拉</a>\n",
      "    <span></span>\n",
      "    <a href=\"http://i.meituan.com/client\" data-query=\"utm_source=wwwmaoyan\" target=\"_blank\">美团下载</a>\n",
      "    <span></span>\n",
      "    <a href=\"https://www.huanxi.com\" data-query=\"utm_source=maoyan_pc\" target=\"_blank\">欢喜首映</a>\n",
      "  </p>\n",
      "  <p class=\"friendly-links\">\n",
      "    商务合作邮箱：v@maoyan.com\n",
      "    客服电话：10105335\n",
      "    违法和不良信息举报电话：4006018900\n",
      "  </p>\n",
      "  <p class=\"friendly-links\">\n",
      "    用户投诉邮箱：tousujubao@meituan.com\n",
      "    舞弊线索举报邮箱：wubijubao@maoyan.com\n",
      "  </p>\n",
      "  <p class=\"friendly-links  credentials\">\n",
      "    <a href=\"/about/licence/1\" target=\"_blank\">中华人民共和国增值电信业务经营许可证 京B2-20190350</a>\n",
      "    <span></span>\n",
      "    <a href=\"/about/licence/4\" target=\"_blank\">营业性演出许可证 京演（机构）（2019）4094号</a>\n",
      "  </p>\n",
      "  <p class=\"friendly-links  credentials\">\n",
      "    <a href=\"/about/licence/3\" target=\"_blank\">广播电视节目制作经营许可证 （京）字第08478号</a>\n",
      "    <span></span>\n",
      "    <a href=\"/about/licence/2\" target=\"_blank\">网络文化经营许可证 京网文（2019）3837-369号 </a>\n",
      "  </p>\n",
      "  <p class=\"friendly-links  credentials\">\n",
      "    <a href=\"/rules/agreement\" target=\"_blank\">猫眼用户服务协议 </a>\n",
      "    <span></span>\n",
      "    <a href=\"/rules/rule\" target=\"_blank\">猫眼平台交易规则总则 </a>\n",
      "    <span></span>\n",
      "    <a href=\"/rules/privacy\" target=\"_blank\">隐私政策 </a>\n",
      "  </p>\n",
      "  <p class=\"friendly-links  credentials\">\n",
      "    <a href=\"http://www.beian.gov.cn/portal/registerSystemInfo?recordcode=11010102003232\" target=\"_blank\">京公网安备\n",
      "      11010102003232号</a>\n",
      "  </p>\n",
      "  <p>北京猫眼文化传媒有限公司</p>\n",
      "  <p>\n",
      "    &copy;2016\n",
      "    猫眼电影 maoyan.com</p>\n",
      "  <div class=\"certificate\">\n",
      "    <a href=\"http://sq.ccm.gov.cn:80/ccnt/sczr/service/business/emark/toDetail/350CF8BCA8416C4FE0530140A8C0957E\"\n",
      "      target=\"_blank\">\n",
      "      <img src=\"http://p0.meituan.net/moviemachine/e54374ccf134d1f7b2c5b075a74fca525326.png\" />\n",
      "    </a>\n",
      "    <a href=\"/about/licence/5\" target=\"_blank\">\n",
      "      <img src=\"http://p1.meituan.net/moviemachine/805f605d5cf1b1a02a4e3a5e29df003b8376.png\" />\n",
      "    </a>\n",
      "  </div>\n",
      "</div>\n",
      "\n",
      "    <script crossorigin=\"anonymous\" src=\"//www.dpfile.com/app/owl/static/owl_1.7.11.js\"></script>\n",
      "    <script>\n",
      "      Owl.start({\n",
      "        project: 'com.sankuai.movie.fe.mywww', \n",
      "        pageUrl: location.href.split('?')[0].replace(/\\/\\d+/g, '/:id'),\n",
      "        devMode: false\n",
      "      })\n",
      "    </script>\n",
      "    <!--[if IE 8]><script crossorigin=\"anonymous\" src=\"//s3plus.meituan.net/v1/mss_e2821d7f0cfe4ac1bf9202ecf9590e67/cdn-prod/file:5788b470/es5-shim.bbad933f.js\"></script><![endif]-->\n",
      "    <!--[if IE 8]><script crossorigin=\"anonymous\" src=\"//s3plus.meituan.net/v1/mss_e2821d7f0cfe4ac1bf9202ecf9590e67/cdn-prod/file:5788b470/es5-sham.d6ea26f4.js\"></script><![endif]-->\n",
      "    <script crossorigin=\"anonymous\" src=\"//s3plus.meituan.net/v1/mss_e2821d7f0cfe4ac1bf9202ecf9590e67/cdn-prod/file:5788b470/common.9fc677f9.js\"></script>\n",
      "<script crossorigin=\"anonymous\" src=\"//s3plus.meituan.net/v1/mss_e2821d7f0cfe4ac1bf9202ecf9590e67/cdn-prod/file:5788b470/board-index.0cdf8e36.js\"></script>\n",
      "</body>\n",
      "</html>\n",
      "\n"
     ]
    }
   ],
   "source": [
    "import requests\n",
    "\n",
    "\n",
    "def get_one_page(url):\n",
    "    headers = {'User-Agent': 'Mozilla/5.0 (Macintosh; Intel Mac OS X 10_13_2) AppleWebKit/537.36 (KHTML, like Gecko) Chrome/64.0.3282.119 Safari/537.36'}\n",
    "    response = requests.get(url, headers=headers)\n",
    "    if response.status_code == 200:\n",
    "        return response.text\n",
    "    return None\n",
    "\n",
    "\n",
    "def main():\n",
    "    url = 'https://maoyan.com/board/4'\n",
    "    html = get_one_page(url)\n",
    "    print(html)\n",
    "\n",
    "\n",
    "main()\n"
   ]
  },
  {
   "cell_type": "markdown",
   "metadata": {},
   "source": [
    "通过 urllib.request 或 requests 库爬取猫眼的榜单时，如果 user-agent 中包含 'Windows NT 10.0; WOW64' 就会被\n",
    "跳转到验证中心，没办法，只好用 macOS 下的user-agent了。"
   ]
  },
  {
   "cell_type": "code",
   "execution_count": 15,
   "metadata": {},
   "outputs": [
    {
     "name": "stdout",
     "output_type": "stream",
     "text": [
      "<!DOCTYPE html>\n",
      "<html><head>    <meta charset=\"utf-8\">\n",
      "    <meta content=\"width=device-width, initial-scale=1.0, maximum-scale=1.0, user-scalable=no\" name=\"viewport\" />\n",
      "    <meta name=\"renderer\" content=\"webkit\" />\n",
      "    <meta http-equiv=\"X-UA-Compatible\" content=\"IE=edge\" />\n",
      "    <style>\n",
      "        .container {\n",
      "            width: 998px;\n",
      "            margin: 0 auto;\n",
      "        }\n",
      "        .header {\n",
      "            height: 70px;\n",
      "            font-size: 28px;\n",
      "            color: #999999;\n",
      "            border-bottom: 3px solid #1db9aa;\n",
      "            overflow: hidden;\n",
      "            display: none;\n",
      "        }\n",
      "        .logo {\n",
      "            margin-top: 8px;\n",
      "            margin-left: 1px;\n",
      "            height: 54px;\n",
      "            line-height: 54px;\n",
      "            padding-left: 102px;\n",
      "            background: url('data:image/png;base64,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') no-repeat;\n",
      "            background-size: 82px 54px;\n",
      "        }\n",
      "        .dpHeader {\n",
      "            height: 70px;\n",
      "            font-size: 28px;\n",
      "            color: #999999;\n",
      "            border-bottom: 3px solid #ff6633;\n",
      "            overflow: hidden;\n",
      "            display: none;\n",
      "        }\n",
      "        .dpLogo {\n",
      "            margin-top: 16px;\n",
      "            margin-left: 1px;\n",
      "            line-height: 44px;\n",
      "            padding-left: 155px;\n",
      "            background: url('data:image/png;base64,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') no-repeat;\n",
      "            background-size: 144px 40px;\n",
      "        }\n",
      "        .content {\n",
      "            min-height: 335px;\n",
      "            position: relative;\n",
      "        }\n",
      "        .footer {\n",
      "            font-size: 12px;\n",
      "            color: #999999;\n",
      "            padding: 13px 8px;\n",
      "            border-top: 1px solid #e1e1e1;\n",
      "            text-align: center;\n",
      "            display: none;\n",
      "        }\n",
      "        .root {\n",
      "            height: 100%;\n",
      "        }\n",
      "    </style>\n",
      "    <title>验证中心</title>\n",
      "    <link rel=\"dns-prefetch\" href=\"//awp-assets.meituan.net\" />\n",
      "    <link rel=\"dns-prefetch\" href=\"//verify.meituan.com\" />\n",
      "    <link rel=\"dns-prefetch\" href=\"//static.meituan.net\" />\n",
      "    <script>\n",
      "        (function(f){function e(a,b){this.seed instanceof e?this.seed.init(a,b):this instanceof e?this.init(a,b):this.seed=new e(a,b);return this.seed}function x(a){this.appnm=a;this.sendQueue={}}function n(a,b){this.batchs=[];this.project=\"Yoda-FE\";this.catVersion=1;this.origin=window.location.origin;this.unionId=a||\"\";this.env=\"pro\"===b?\"pro\":\"dev\";this.host={pro:\"//catfront.dianping.com\",dev:\"//catfront.51ping.com\"}[this.env];var c=this;setTimeout(function(){c.sendBatch()},500)}function F(a,b,c){if(\"object\"===\n",
      "typeof b){var d=[],p;for(p in b)d.push(encodeURIComponent(p)+\"=\"+encodeURIComponent(b[p]));b=d.join(\"&\")}d={\"Content-Type\":\"application/x-www-form-urlencoded\"};try{var C=Date.now(),h=new f.XMLHttpRequest;if(\"withCredentials\"in h){h.open(\"post\",a,!0);if(d)for(var g in d)d.hasOwnProperty(g)&&h.setRequestHeader(g,d[g]);h.onload=function(){4===h.readyState&&(200<=h.status&&300>h.status||304===h.status)&&(c(h.responseText),h=null)}}else if(\"undefined\"!==typeof f.XDomainRequest){h=new f.XDomainRequest;\n",
      "var e=0<a.indexOf(\"?\")?\"&\"+b:\"?\"+b;h.open(\"get\",a+e);h.onload=function(){c(h.responseText);h=null}}else throw Error(\"\\u79cd\\u5b50\\u4ee3\\u7801\\u521b\\u5efaXMLHttpRequest\\u5bf9\\u8c61\\u5931\\u8d25\");h.onerror=function(a){h.abort();throw Error(\"XMLHttpRequest\\u8bf7\\u6c42\\u670d\\u52a1\\u5668\\u53d1\\u751f\\u5f02\\u5e38\"+a.message);};h.send(b)}catch(G){throw window.Yoda.CAT.postBatch(a,0,0,Date.now()-C,\"500|0\",\"ajax\"),window.Yoda.CAT.sendBatch(),window.Yoda.CAT.sendLog(a,\"ajaxError\",\"[\\u8bf7\\u6c42\\u5f02\\u5e38]\",\n",
      "G.message),Error(\"\\u8bf7\\u6c42\\u670d\\u52a1\\u5668\\u53d1\\u751f\\u5f02\\u5e38: \"+G.message);}}function H(a,b){for(var c in b)b.hasOwnProperty(c)&&b[c]&&(a[c]=b[c]);return a}var l=document,q=/mobile|iPhone|Android|htc|Lenovo|huawei/i.test(f.navigator.userAgent.toString());f.Yoda={};f.YODA_CONFIG={};var y=new x(\"yoda_seed\");f.Yoda.LX=y;var z={pro:\"https://verify.meituan.com\",staging:\"//verify-test.meituan.com\",dev:\"//verify.inf.dev.sankuai.com\",test:\"//verify.inf.test.sankuai.com\",ppe:\"//verify.inf.ppe.sankuai.com\",\n",
      "development:\"//verify-test.meituan.com\"},E=\"\",r=\"\",t=\"\",u=\"\",v=\"\",g=\"\",D=\"\",w=\"\",A=\"\",B=\"\",k=\"\",m=\"\";e.prototype.init=function(a,b){E=Date.now();t=r=!1;v=u=!0;m=k=B=A=w=D=g=\"\";this.env=b||\"pro\";var c=new n(a.requestCode,this.env);f.Yoda.CAT=c;this.options=a;q=void 0===a.isMobile?q:a.isMobile;this.feVersion=\"1.4.0\";this.source=q?3:1;this.getConf(this.options.requestCode)};e.prototype.getConf=function(a){var b=z[this.env]+\"/v2/ext_api/page_data\";a={requestCode:a,feVersion:this.feVersion,source:this.source};\n",
      "var c=this,d=Date.now();F(b,a,function(a){a=JSON.parse(a);var f=Date.now()-d,h={kvs:{pagedata:[f],TTFB:[f]},tags:{action:a.data?a.data.action:\"\",type:a.data?a.data.type:\"\",result:a.status?a.status:\"\"},ts:Date.now()};window.Yoda.CAT.metric(h);window.Yoda.CAT.postBatch(b,0,0,f,\"200|\"+a.status,\"ajax\");c.confBack(a)})};e.prototype.confBack=function(a){if(1===a.status&&a.data){var b=H(a.data,this.options);this.config=b;this._yoda_config||(this._yoda_config=JSON.stringify(b),this._yoda_options=JSON.stringify(this.options),\n",
      "this._yoda_listIndex=a.data.defaultIndex||0,this._yoda_riskLevel=this.config.riskLevel);this.config.category=this.config.isHideSwitch?\"MULTIPLE\":this.config.category;b=a.data.yodaVersion;a=a.data.verifyMethodVersion;this.filter();this.ensureVersion(b,a)}else f.Yoda.CAT.sendLog(z[this.env]+\"/v2/ext_api/page_data\",\"jsError\",\"[dataException]:\\u8bf7\\u6c42pageData\\u63a5\\u53e3\\u672a\\u6b63\\u5e38\\u8fd4\\u56de\\u6570\\u636e, \\u73af\\u5883\\u4fe1\\u606f\\u4e3a:\"+this.source,JSON.stringify(a)),this.handleError(a)};\n",
      "e.prototype.ensureVersion=function(a,b){a=JSON.parse(a);b=JSON.parse(b);a&&(m=q?a.i:a.d);try{var c=JSON.parse(this.config.riskLevelInfo)[Number(D)];g=JSON.parse(c).name;(b=JSON.parse(b[g]))&&(k=q?b.i:b.d);this.isNeedLoad();this.getSourcePath();this.loadSource()}catch(d){f.Yoda.CAT.sendLog(z[this.env]+\"/v2/ext_api/page_data\",\"jsError\",\"[dataException]:\\u89e3\\u6790pageData\\u63a5\\u53e3\\u6570\\u636e\\u5931\\u8d25, \\u73af\\u5883\\u4fe1\\u606f\\u4e3a:\"+this.source,d.message),this.handleError(\"\\u521d\\u59cb\\u5316\\u5931\\u8d25\")}};\n",
      "e.prototype.isNeedLoad=function(){var a=l.getElementsByTagName(\"script\"),b=a.length,c=0;if(m&&k&&b)for(;c<b;c++){var d=a[c].src;~d.indexOf(m)&&(u=!1,t=!0);~d.indexOf(k)&&(v=!1,r=!0);if(!u&&!v)break}};e.prototype.loadSource=function(){var a=this,b=function(){function b(b){return function(c,d,g){var h=Date.now(),e=l.createElement(b),p=l.head,C=\"src\",k=\"link\"===b?\"css\":\"js\";e.onload=function(){e=e.onload=e.onerror=e.onreadystatechange=null;var p=Date.now()-h;\"script\"===b&&y.report(d,\"duration\",{custom:{duration:p,\n",
      "result:\"download\",requestCode:a.options.requestCode}});f.Yoda.CAT.postBatch(c,0,0,p,\"200|\",k);\"function\"===typeof g&&g();\"pro\"!==a.env&&(f.YODA_CONFIG.__API_URL__=z[a.env],a.setDomain(z[a.env]))};e.onerror=function(){a.handleError(\"\\u52a0\\u8f7d\\u5931\\u8d25\");var b=Date.now()-h;f.Yoda.CAT.postBatch(c,0,0,b,\"500|\",k);y.report(d,\"downloadFailed\");f.Yoda.CAT.sendLog(c,\"resourceError\",\"downloadFailed\",\"[\\u4e0b\\u8f7djs\\u5931\\u8d25]:\"+c)};switch(b){case \"script\":e.type=\"text/javascript\";e.async=!1;e.defer=\n",
      "!0;break;case \"link\":e.type=\"text/css\",e.rel=\"stylesheet\",C=\"href\"}e[C]=c;p.appendChild(e)}}return{css:b(\"link\"),js:b(\"script\")}}();u&&(y.report(\"yoda\",\"req\"),b.js(A,\"yoda\",function(){t=!t;a.moduleInit()}));if(v)if(y.report(g,\"req\"),\"withCredentials\"in new f.XMLHttpRequest)b.js(w,g,function(){r=!0;a.moduleInit()});else if(\"undefined\"!==typeof XDomainRequest)var c=window.setInterval(function(){void 0!==window.Yoda.Ballade&&b.js(w,g,function(){r=!0;a.moduleInit();window.clearInterval(c)})},1E3);u||\n",
      "v||this.moduleInit();B&&b.css(B)};e.prototype.moduleInit=function(){if(r&&t){this[g]={};this.config.yodaInitTime=E;if(\"function\"===typeof f.Yoda[g])return this[g].initModule=new f.Yoda[g](this.config),!1;var a=l.createElement(\"script\");a.type=\"text/javascript\";a.appendChild(l.createTextNode(this.moduleText));l.body.appendChild(a);this[g].initModule=new f.Yoda[g](this.config)}};e.prototype.getSourcePath=function(){var a=q?\"i\":\"d\";m=m?m+\".\":\"\";k=k?k+\".\":\"\";\"development\"===this.env?(a=\"i\"===a?\"mobile\":\n",
      "\"desktop\",w=\"/modules/\"+g+\"/\"+a+\"/\"+g+\".js\",B=\"/modules/\"+g+\"/\"+a+\"/\"+g+\".css\",A=\"./yoda-\"+a+\".js\"):(A=\"https://static.meituan.net/bs/yoda-static/file:file/\"+a+\"/js/yoda.\"+m+\"js\",w=\"https://static.meituan.net/bs/yoda-static/file:file/\"+a+\"/js/\"+g+\".\"+k+\"js\")};e.prototype.handleError=function(a,b){\"string\"!==typeof a&&(a=(b=a)&&b.error&&b.error.message);var c=this.options.failCallbackFun;if(c&&\"function\"===typeof f[c]){var d={code:\"121333\",requestCode:this.options.requestCode};setTimeout(function(){f[c](d)},\n",
      "1E3)}var e=this.options.failCallbackUrl;e&&setTimeout(function(){var a=document.createElement(\"a\");a.href=e;f.location.href=(a.origin||a.protocol+\"//\"+a.host)+a.pathname+a.search+a.hash},1E3);this.notifyErr(a)};e.prototype.notifyErr=function(a){var b=l.getElementById(this.options.root);if(q){var c=l.createElement(\"div\");var d=l.createElement(\"div\");d.innerHTML=a;c.appendChild(d)}else c=l.createElement(\"div\"),c.innerHTML=a;b.appendChild(c)};e.prototype.setDomain=function(a){setTimeout(function(){window.YODA_CONFIG.__API_URL__=\n",
      "a},0)};e.prototype.resetVariable=function(a){E=Date.now();r=a.moduleLoaded||!1;t=a.yodaLoaded||!1;u=a.yodaNeedLoad||!0;v=a.moduleNeedLoad||!0;g=a.MODULE_NAME||\"\";w=a.MODULE_URL||\"\";A=a.YODA_URL||\"\";B=a.CSS_URL||\"\";k=a.MODULE_VERSION||\"\";m=a.YODA_VERSION||\"\"};e.prototype.filter=function(){var a=this.config.riskLevel.split(/[,|]/g);if(a[0]&&1===a.length)D=this.config.riskLevel;else{a=JSON.parse(this.config.riskLevelInfo);for(var b=JSON.parse(this.config.verifyMethodVersion),c=this.config.riskLevel.split(\"|\"),\n",
      "d=this.config.defaultIndex||0;d<c.length;d++){for(var e=c[d].split(\",\"),f=0,h=1;f<e.length;f++){var g=JSON.parse(a[Number(e[f])]);if(!g.name||!b[g.name]){h=0;break}}if(h){D=e[0];this._yoda_listIndex=d;break}}}};x.prototype.report=function(a,b,c){if(\"pro\"!==window.seed.env)return!1;var d={appnm:this.appnm,channel:\"techportal\",ct:q?\"i\":\"www\",ch:\"web\",sc:window.screen.width+\"*\"+window.screen.height,ua:window.navigator.userAgent};a={nm:\"MV\",tm:Date.now(),nt:0,isauto:6,val_cid:a,val_bid:b,val_lab:c};this.addToSendQueue(d,\n",
      "a)};x.prototype.addToSendQueue=function(a,b){var c;(c=this.sendQueue[a.channel])?c=c.data:(c=[],this.sendQueue[a.channel]={conf:a,data:c});c.push(b);var d=this;setTimeout(function(){d.send()},0)};x.prototype.send=function(){var a=[];for(d in this.sendQueue)if(this.sendQueue.hasOwnProperty(d)){var b=this.sendQueue[d];var c=b.conf;(b=H(c,{appnm:c.appnm,category:\"data_sdk_\"+d,evs:b.data}))&&a.push(b)}if(0<a.length){var d=\"https://report.meituan.com/?_lxskd_rnd=\"+Date.now()+Math.ceil(1E3*Math.random());\n",
      "this.sendStatic(d,{data:a})}this.sendQueue={}};x.prototype.sendStatic=function(a,b){if(0===b.data.length)return!1;try{var c=new f.XMLHttpRequest;if(\"withCredentials\"in c)c.open(\"POST\",a,!0);else if(\"undefined\"!==typeof f.XDomainRequest)c=new f.XDomainRequest,c.open(\"POST\",a);else throw Error(\"\\u7075\\u7280\\u521b\\u5efaXHR\\u5bf9\\u8c61\\u5931\\u8d25\");c.onerror=function(){c.abort();c=null};c.send(JSON.stringify(b.data))}catch(d){throw Error(\"\\u7075\\u7280XHR\\u8bf7\\u6c42\\u670d\\u52a1\\u5668\\u53d1\\u751f\\u5f02\\u5e38: \"+\n",
      "d.message);}return!0};n.prototype.postBatch=function(a,b,c,d,e,f){a=a+\"\\t\"+Date.now()+\"\\t\"+b+\"\\t\"+c+\"\\t\"+d+\"\\t\"+this.project+\"\\t\"+this.origin+\"\\t\"+e+\"\\t\\t\\t\\t\"+f;this.batchs.push(a)};n.prototype.sendBatch=function(){if(0<this.batchs.length){var a=this.host+\"/api/batch?v=\"+this.catVersion,b={c:\"S\\t\\t\\t\\t\\t\\t\"+this.unionId+\"\\n\"+this.batchs.join(\"\\n\")};this.sendStatic(a,b);this.batchs=[]}};n.prototype.speed=function(a,b){var c=\"&project=\"+this.project+\"&pageurl=\"+window.location.href+\"&unionId=\"+this.unionId+\n",
      "\"&timestamp=\"+Date.now()+\"&speed=\"+a+\"&customspeed=\"+b;c=this.host+\"/api/speed?v=\"+this.catVersion+c;var d=this,e=new f.XMLHttpRequest;e.open(\"GET\",c);e.onerror=function(){d.speed(a,b);e.abort();e=null};e.send()};n.prototype.sendLog=function(a,b,c,d){a=[{project:this.project,pageUrl:window.location.origin,resourceUrl:a||\"\",category:b,sec_category:c,level:\"error\",unionId:this.unionId,timestamp:Date.now(),content:d||\"\"}];this.sendStatic(this.host+\"/api/log?v=\"+this.catVersion,{c:JSON.stringify(a)})};\n",
      "n.prototype.metric=function(a){this.sendStatic(this.host+\"/api/metric?v=\"+this.catVersion+\"&p=\"+this.project,{data:JSON.stringify(a)})};n.prototype.sendStatic=function(a,b){F(a,b,function(){});return!0};n.prototype[\"byte\"]=function(a){var b=0,c=a.length;if(a){for(var d=0;d<c;d++)255<a.charCodeAt(d)?b+=2:b++;return b}return 0};f.YodaSeed=e})(window);\n",
      "    </script>\n",
      "</head> <body>    <div class='container'>\n",
      "        <div class='header' id='header'>\n",
      "            <div class='logo' id='logo'>验证中心</div>\n",
      "        </div>\n",
      "        <div class='content'>\n",
      "            <div class='root' id='root'></div>\n",
      "        </div>\n",
      "        <div class='footer' id='footer'>©2019 meituan.com 京ICP证070791号 京公网安备1101050202554.</div>\n",
      "    </div>\n",
      "                                                <script type=\"text/javascript\">        window.yodaTheme = setTheme;\n",
      "        function setTheme(theme) {\n",
      "            var theme = theme || 'meituan';\n",
      "            var header = document.getElementById('header');\n",
      "            header.style.display = \"block\";\n",
      "            var logo = document.getElementById('logo');\n",
      "            var footer = document.getElementById('footer');\n",
      "            footer.style.display = \"block\";\n",
      "\n",
      "            var link = document.createElement('link');\n",
      "            link.rel = 'shortcut icon';\n",
      "            link.type = 'image/x-icon';\n",
      "\n",
      "            if (theme === 'meituan' || theme === 'mt' || theme === '') {\n",
      "                link.href = '/static/favicon.ico';\n",
      "            }\n",
      "            if (theme === 'dianping' || theme === 'dp') {\n",
      "                header.className = 'dpHeader';\n",
      "                logo.className = 'dpLogo';\n",
      "                footer.innerHTML = '© 2003-2017 dianping.com, All Rights Reserved.';\n",
      "                link.href = '//www.dpfile.com/s/res/favicon.5ff777c11d7833e57e01c9d192b7e427.ico';\n",
      "            }\n",
      "\n",
      "            document.head.appendChild(link);\n",
      "        }\n",
      "\n",
      "            var options = {\n",
      "            requestCode: \"cc7367f2e63d4a4695ee6d5a3c4aa1b8\",\n",
      "            succCallbackUrl: \"https\\x3A\\x2F\\x2Foptimus\\x2Dmtsi\\x2Emeituan\\x2Ecom\\x2Foptimus\\x2FverifyResult\\x3ForiginUrl\\x3Dhttp\\x253A\\x252F\\x252Fmaoyan\\x2Ecom\\x252Fboard\\x252F4\",\n",
      "            failCallbackUrl: \"\",\n",
      "            forceCallback: \"false\",\n",
      "            root: \"root\",\n",
      "            platform: \"1000\",\n",
      "            theme: \"meituan\",\n",
      "            isMobile: false\n",
      "        }\n",
      "        YodaSeed(options, \"pro\");\n",
      "    </script></body></html>\n"
     ]
    }
   ],
   "source": [
    "import requests\n",
    "\n",
    "\n",
    "def get_one_page(url):\n",
    "    headers = {'User-Agent': 'Mozilla/5.0 (Windows NT 10.0; Win64; x64) AppleWebKit/537.36 (KHTML, like Gecko) Chrome/76.0.3809.110 Safari/537.36 Vivaldi/2.7.1628.30'}\n",
    "    response = requests.get(url, headers=headers)\n",
    "    if response.status_code == 200:\n",
    "        return response.text\n",
    "    return None\n",
    "\n",
    "\n",
    "def main():\n",
    "    url = 'https://maoyan.com/board/4'\n",
    "    html = get_one_page(url)\n",
    "    print(html)\n",
    "\n",
    "\n",
    "main()\n"
   ]
  },
  {
   "cell_type": "code",
   "execution_count": 16,
   "metadata": {},
   "outputs": [
    {
     "name": "stdout",
     "output_type": "stream",
     "text": [
      "<!DOCTYPE html>\n",
      "<html><head>    <meta charset=\"utf-8\">\n",
      "    <meta content=\"width=device-width, initial-scale=1.0, maximum-scale=1.0, user-scalable=no\" name=\"viewport\" />\n",
      "    <meta name=\"renderer\" content=\"webkit\" />\n",
      "    <meta http-equiv=\"X-UA-Compatible\" content=\"IE=edge\" />\n",
      "    <style>\n",
      "        .container {\n",
      "            width: 998px;\n",
      "            margin: 0 auto;\n",
      "        }\n",
      "        .header {\n",
      "            height: 70px;\n",
      "            font-size: 28px;\n",
      "            color: #999999;\n",
      "            border-bottom: 3px solid #1db9aa;\n",
      "            overflow: hidden;\n",
      "            display: none;\n",
      "        }\n",
      "        .logo {\n",
      "            margin-top: 8px;\n",
      "            margin-left: 1px;\n",
      "            height: 54px;\n",
      "            line-height: 54px;\n",
      "            padding-left: 102px;\n",
      "            background: url('data:image/png;base64,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') no-repeat;\n",
      "            background-size: 82px 54px;\n",
      "        }\n",
      "        .dpHeader {\n",
      "            height: 70px;\n",
      "            font-size: 28px;\n",
      "            color: #999999;\n",
      "            border-bottom: 3px solid #ff6633;\n",
      "            overflow: hidden;\n",
      "            display: none;\n",
      "        }\n",
      "        .dpLogo {\n",
      "            margin-top: 16px;\n",
      "            margin-left: 1px;\n",
      "            line-height: 44px;\n",
      "            padding-left: 155px;\n",
      "            background: url('data:image/png;base64,iVBORw0KGgoAAAANSUhEUgAAASAAAABQCAMAAACOCFjHAAABnlBMVEUAAAD/ZjMAAAAAAAAAAAAAAAAAAAAAAAAAAAAAAAAAAAAAAAD/ZjMAAAAAAAD/ZjMAAAAAAAAAAAAAAAAAAAAAAAAAAAAAAAAAAAAAAAAAAAAAAAAAAAAAAAAAAAAAAAAAAAAAAAAAAAAAAAAAAAAAAAAAAAAAAAAAAAAAAAAAAAAAAAAAAAAAAAAAAAAAAAAAAAAAAAAAAAAAAAAAAAAAAAAAAAAAAAAAAAAAAAAAAAAAAAAAAAAAAAAAAAAAAAAAAAAAAAAAAAAAAAAAAAAAAAAAAAAAAAAAAAD/ZjP/ZjP/ZjP/ZjP/ZjP/ZjP/ZjP/ZjP/ZjP/ZjP/ZjP/ZjP/ZjP/ZjP/ZjP/ZjP/ZjP/ZjP/ZjMAAAD/////ZzT/ZDH/VBv/Yi7/Xij/Vh7/Uhj/YCv/TxT/WyX/WCD/WiP/9vP/flP/bz//ZjT/+vn/ek7/3dH/rZL/o4T/dEb/8u7/5dz/vaf/h2D/6eH/z7//tp3/spj/w6//ajj/7ef/4df/1sj/g1n/nn7/mXj/lXL/jGb/qIr/kWz/y7r/QgOY4Af2AAAAW3RSTlMA7jrB3IpoN0EVWDPmDQnCBP6gPu7g6PbKSsSPU9YTvrpd67Nkk5wX0K9e+uSodS8rEEZDpZdQtmzxJ4dNI8dwfB8bgFqshGEx10FwTDfjzrSnmYR9KAz7uWTDuzsKXAAAEABJREFUeNrkmvtf0lAUwG+IChkEYUJaaU8zKhDSFNHKXvR+P3e522C8whQfaWlW9v6z24O7M9jGxrCf+v7Erh/BfT33nHPPQMC9Z49u72mbfQ8f372P/gPu3macs/8eaoPZPol4AP0LYn0imV1/7zsPmc549BzZZhhL9I8jm4zOdN+8OTMURzbwhbHE6G6HD9Mx++4gu1zCEgd9yCYzWOYSsoH/OBYJtxLkDbkood6AGNBJlynJo0jiKbMb2N5mJ9oTlAlihb12BA1YCjqLgWkvQudxC/ZC/HTMy/v/RJDPjeuE47YFoRbcwkDYStB1hNB9Zpd48OJfCDqBVY747QqadIV0JGJI5hgGjotb6KJVBJmWr3dsocQJAlcpsIwtnvwDQaewhhE7gkyZQzInsQYv/XNMOIvQa8YEUuDYnW/Ly992GK5AGDvc33VB17BMNIxlLnYiaBDJJAa7KHMnxhG6EqGXI0ewxMBwFyXiMQ0gwuQLK7XFrMjil18sxxDnIeRc0AWscNKFFQ50IGgYGQNN0171M+BHdxhjWKH6Javyfkdg3zGW7Hmxu4KuYBo48NK5oDPIisNY4jQCTEs84TbeZjUs/swTh6XeuaBurBCRkvNprDDmtxYUjHQN6oicMmtEDyWTiYS3MYLi0qIngNAjYz/lVcUPGFrKE0je5Txv6OsZssENLOFGrQElbi/0lyLDPid9EOwkb9ITqpN0SYshLHG5UdAgLZvGKYgvfc02USsV5K3H54QiX/2+wDMGPEbNnDzV3cjMjFvp0YZmupuYSCFgfAQrHJyv32AXFZayFOSz2QdFJffzQbqxQJCvnzbv+4w32O+sjh8cYUipzK9+X69lsxtlxoBXqJkIboNJpNJ3RKdjnBoaSCNToFG01UnLR4kztIUAQZkoFukWX+0xztCf9II+cixb2NmqKXvvG2d4rEfNjOA2OATpMkzjJ6UJD2oIX0BajqbTCY8n6REPT55+WVAi06cjlDJsFEXG5O0EgtR0fctMUG77vV7Q5+0cW1TFLRcZA97skqCbdCXibUgjN+j6RT8CEtgWg9AogiD106bnQRAtmn1mgiqQorVpusIUf9GrreK/i6CU+ksjR1EjE2rNdsGipy1ByRGRE8NREHQdS/RqBR2gExljQeWlxayeapkRVtoVdAa3wWElSfTTa4PCfBnXCV42FmSzURw/DoJi9MNBUISeTYwFlVbX9H7erpY0EbRsU1B6qqeRk7fq6ff0sZ4mpq5Kf/lpTDmJDDh0Dte5dLUDQT6NIN+AktdA0GiYFjZjQYVCTS/oS4FnhXV6tSJYCAJMClsPMuK6W7OJDJkdxnUGppwL8vYrgmDGOaERFIJSoBdU4AlT3NQLWhdIIfdVLfp5p4Lm6wXqPDIApjOnfRYnWBF3QCNoONXXa0xqylwQtKRzqiC6kSd1gsQ6ni/yLEsqBkmoWtYm72rJqaBJWsADhp2eWwmO66gFLiWzBWM0gixOaX0Wgnqi4XD0SAAEDUkL06kGQe+YXD6f2/65/HWlTNj8li6AOJZAjv5AeIeCYMKTQUZ45OiaRSgggxqgS76hYH0LgKAbyJSkhSBfXyyWiWsEzcoLqDGC+O2dlY+fpYaHz5FcrikL1aTF0gd6+anEOhWkJpkryJAJ7JYnwUMH3e6DEX9Dgj7oFtcSchDN4QjaHUHAIVxPRgAIqlQ/QIViSYX9qPXzlS0TqYbBuYNxKMgFE1RkyNEev6aD8iINx7TD+574rgiKJzyUXqU/HQmpK4kQCCotvFULelUgpMIvw8IWXyFEqKoLayTnVNAEVklaPz4Lp/RN0DEEdC7oBm7FtCYHFZezlA8MR0hOWF2urS0urtW2lrgcIRwL549NgTgRBDUMbskM/0FaSYADUH3bEhRqIWgMtyKsEVRaWIOeZ0FgCVvhSgvV6mqJq4gXwvYX6BkXKoxDQRNYQwyZE8cyM7r0pStX1lXM00LQedyKfm2Z535lIYY2hDJDGDZXqeRY8o4pCzua8+uWwDoUlFICKBKxfFjao09UmSB0Pwb3n+k1pi/R1ULQMG6JRhAp5L5kgc2FYj5X4FmWL+TyxQVt5/iezxGHggaxjCcGAyBDYIB4WD+idhkKwlFsTBArdBkI8qJrXUD9qUYXcEIbQYRraA/X1je2C2WOKxe2N9bXGlrGPGGcCbqghkVEieBRZMLVKHTLlCMmg3sPtsBU0MC4nTIPCN+aRkAf1zc316XmSMtKkWGcCfJE1bGGx+JR4BDWHelDdCUacySo20CQDwFw1DATRHhhOWvJpsC/cyYoNY1lxpDIRQz/Lj2zosrmhhLS6Zy+ilszMNqBIHiYamXo7UoxR5xFUGwA4/rGFxk/pytTZnO2Id3c8FRzBAUtwNGxWdSBIDAExy1jakuklC/zDpJ06ByM5rU3PGSaq4LX6r8yJ2bq+HEMNPZC4y5LQrArHQqCXbbxubWiz19XlspCoV1BU7jOzebB85jP5MA/jHoxDbOM4id4Ed7FAY4FAVJHuJ614uMPVuBJG4Jm6Y1px0B0zZ1u8hPFdEqclO5jehKlp2nzfYO+D9zb6OQhkUkvQvNp8UXaIxW+jLSYTkov5+WfpzvLQYC4hXb+WCqq/ajkGWJTkP/ygDonDcByQM00pyFBwGOHifrzsUujtD3A/VfRVTqxjvQ29UcxWqejs/DFvbhUHCBxdSQIgijPVTffW0bRUpEndgR5p9wm3/AJDKqHwm5V0QwdqPmVBONBgRNwvNUm62vK7dWPU+f86vnEoz7ZwvLgrUspY4GOBUEm+ku+ufakDYVxvHE6E42NmxdYrDrc1FFRGRGjCygkZHwIyqG0tNQB2QUjEEhULuK+9aDAeR5PoSXybv2/gjaQ9MdznjuGmqq0fjkEtKasECdAK6FwQKLyrzJ3IVp5ziJ9IlHvKNmhBpKg5vcWihDkiPgANZDDddoQiXuGV2HaHJodEIgof39W0w66U26IPaDQJpOqMVp9L4E2gj0asPxmSRlP2NHPPu4wrfW/btCLvYa822s6KY9lr4WfERDJ6n/SzqoBofGArnHrQJy4AwSDQwGMZahd6xQoSTME6OHPowpuC0LA5SFc3uNR3+5oJkClDORDDoQUYgMIz3k/fZuQH33BHTSB5TNq2ATwAZnbQIC86PUBRMoLNK0VUeE7d9BTeFOazYJyXcbf1OrNbqfT+t1gnHdD1cg0gOY/T26Nbb1jAK2fcyyg3Zd4434KJYjTz+8wZF5E53LnEh4dXBis+08PCNf1oIdWUdZl1TDUnJ6q3Jn3UAPbGVAgtmJbhBy/AOSNcgygo5h18Whv6NPCdJGFPn2Ap7NT6RjVcesr7HYH/zpAinaPU56u2VMcDYdkudzAhB5l4gDo6uIr56C1Aw8FtMCzG3v+03HN233pDBywHzcsjuJQz82vwqNLPgZQjHsVIJKr4+o9y5bvhty9Re0zRSvZOOndhUVuGsVPPkqRHtFtdjvqzbbAjdeHBKTjwtAWaUCnA7hlM5saYLwCox7XSkgCa9tE0SgjPi09T6whroxc0VNusgUdnnLTK7jTswvecv54zk4J0efziYmRP1sy35oWFBV9PSXjg4o/2b++ZF4WE4IgRM6Xli0/ktj/wJwToIyKjlAbpcvYxopA6LaoAKD/TlZAJTyYf9IzZLwbL/9AfrrkJkB4taOm4yCORfQ2jECyipsAKakqPTzlyevjWRlK/o7qJkBqBeZfkONYRNQC2vwgbgJUhwEqBDCrMsYzjOo1FwEy6BbZ803KTnIbnTH3ANIIdUFN2QYP7IPcN5pFF1lQHoJ8QbUFlJEf0tVGq6Dl1KyLfJBRgQQwbwuIKI+VVF5We4WImxJFtUOLrIxmC8j8a4sZ5lwF6F87d/KjNBzFAfwbaauANIhUShfWtrTSIlXZka0saoyJicbtF9eoBw8mxoMxLkf9sy0Ql8TX6rhc1E9mfnMYLvPNm7L0vXfv/Ze2RCIgSnxA50pAfYllC7EyjWSoIYKWLSV3GhnEExenNF4VQRLPi8A0jUjFI1/N2ZmL+Ap6d/d3BJTJd+EXqigey4E07JiB2Tmvntg2bZ4IQNNcaceVRdCOr6362Z5SsTm5p2ZAKjZ9gBPibm8GODWaBaZacd3VPP4a9DZ8E3pAt/CN1Akfh9wG0D52NgtCuiIzu3xcXoett2mvB1qrdii9dXJQAu1scz0SluOZkEEkNQFA6cZ2cXtHbLk8YWY6+SPPYr9eQY4HtDiEkvYcNC4JSF20NASRAenYmUtJ0KwcthI8orn6bD1y68F6zRugDQNs6UOEqInDR2/efv4o6N5BA7pBzEi6lsUVcqvVynLqGigLqQ1wVUw64OvfCWjoJkEbFcrKRKkUapXJRD4LymnmOU4vb696vQqZo6iJ2ClxaexdiHslTXSLE2JnVjP9wDRZjjdNU+U7xegKCgOqj2ICYnXPcRxPZj5oqlxNaeN+rVXUtI0GirTLTUkhSomTSsi5us41pfCQG9TU88NXn5/nb98/YEBXQTmkI0apZQ6sqWiHAfHRAQ1nqqqaqsr3EcGygKy/LJzzM1mQAlZCaFJFJL9SONTt9/tBTQ1PIUPNzT98v0/n9fOntw9aQZdA8bjZKNQ6AsrCSxQmViYMyIkJ6Ps6Z5ErcDVdltzCIRAOs30yiTFi5PrY0hfYu0jMY754+eH50zv3Hj8Jb2IQDrp5QWRM7VgWz3Kg+dI5QDoJxYDaA2Us67aeOI7Atm290gbFU1HuzBeaMW9zGgjnlihqqVSK64SH1kaccyeOIOoidPfOszfhPbAHxGetP7e7o2Prwq7t8BRoSWkI5DdwuzAVUNTBdDqtjaD3wp9sCYosoDwFEiYga6AlXI7jCjWd4/It0E56GCn1RF52yr0MQje/7X558v1lL7RrIAzZ+TYzkCyY0ZfGBpLVcw29fDxdpAOqAKir+7+c24CQrZ1GZYbswIBodxFjchJAFhHss+HXoSOnjh/vH2sQJUT4xQLSFcDIT+0eoiwGjqQBvCLzoPEKgAqPiQCAq9ItoknIa/QZAHeJGErcb9vNBRIGtubSAvjzG6hMVtrf+k2Dli7brmOImLOxF8BX59+rIH1DZmiH3+k2EwSrsRl+p4KiORN8CmixDeiP7zBr7XpaJnrfbHp0ROc9IwPg8KAOuYUSOeESuIZgSDMojiEIA436D+N4ADOWQ0ou8BnEkDeI5LMUULHCbTCnz/TdJPCnt+ClmAGBa3oNYGwX5DEitHMsB3D5vk6OsvJsVXfYGtxgVe+R6/AM5rfN/EBAqOuSI9UlWeK22GB7SnYS36rnASSadvgA+wQr/cY9ipcvgpLWkK3k2tg545iIYJTHAI6olnoehOIGQLW4nzKcUg85XcVGaYnYUzv4lpgyTm4Vte1ppESq4IsAOoLfaDT8w73S79vEeeUa/nI3fyGi6zcu4h9wMdwGfPnoQV0OtwH/9dXzX7SPVzp8akl3dXEAAAAASUVORK5CYII=') no-repeat;\n",
      "            background-size: 144px 40px;\n",
      "        }\n",
      "        .content {\n",
      "            min-height: 335px;\n",
      "            position: relative;\n",
      "        }\n",
      "        .footer {\n",
      "            font-size: 12px;\n",
      "            color: #999999;\n",
      "            padding: 13px 8px;\n",
      "            border-top: 1px solid #e1e1e1;\n",
      "            text-align: center;\n",
      "            display: none;\n",
      "        }\n",
      "        .root {\n",
      "            height: 100%;\n",
      "        }\n",
      "    </style>\n",
      "    <title>验证中心</title>\n",
      "    <link rel=\"dns-prefetch\" href=\"//awp-assets.meituan.net\" />\n",
      "    <link rel=\"dns-prefetch\" href=\"//verify.meituan.com\" />\n",
      "    <link rel=\"dns-prefetch\" href=\"//static.meituan.net\" />\n",
      "    <script>\n",
      "        (function(f){function e(a,b){this.seed instanceof e?this.seed.init(a,b):this instanceof e?this.init(a,b):this.seed=new e(a,b);return this.seed}function x(a){this.appnm=a;this.sendQueue={}}function n(a,b){this.batchs=[];this.project=\"Yoda-FE\";this.catVersion=1;this.origin=window.location.origin;this.unionId=a||\"\";this.env=\"pro\"===b?\"pro\":\"dev\";this.host={pro:\"//catfront.dianping.com\",dev:\"//catfront.51ping.com\"}[this.env];var c=this;setTimeout(function(){c.sendBatch()},500)}function F(a,b,c){if(\"object\"===\n",
      "typeof b){var d=[],p;for(p in b)d.push(encodeURIComponent(p)+\"=\"+encodeURIComponent(b[p]));b=d.join(\"&\")}d={\"Content-Type\":\"application/x-www-form-urlencoded\"};try{var C=Date.now(),h=new f.XMLHttpRequest;if(\"withCredentials\"in h){h.open(\"post\",a,!0);if(d)for(var g in d)d.hasOwnProperty(g)&&h.setRequestHeader(g,d[g]);h.onload=function(){4===h.readyState&&(200<=h.status&&300>h.status||304===h.status)&&(c(h.responseText),h=null)}}else if(\"undefined\"!==typeof f.XDomainRequest){h=new f.XDomainRequest;\n",
      "var e=0<a.indexOf(\"?\")?\"&\"+b:\"?\"+b;h.open(\"get\",a+e);h.onload=function(){c(h.responseText);h=null}}else throw Error(\"\\u79cd\\u5b50\\u4ee3\\u7801\\u521b\\u5efaXMLHttpRequest\\u5bf9\\u8c61\\u5931\\u8d25\");h.onerror=function(a){h.abort();throw Error(\"XMLHttpRequest\\u8bf7\\u6c42\\u670d\\u52a1\\u5668\\u53d1\\u751f\\u5f02\\u5e38\"+a.message);};h.send(b)}catch(G){throw window.Yoda.CAT.postBatch(a,0,0,Date.now()-C,\"500|0\",\"ajax\"),window.Yoda.CAT.sendBatch(),window.Yoda.CAT.sendLog(a,\"ajaxError\",\"[\\u8bf7\\u6c42\\u5f02\\u5e38]\",\n",
      "G.message),Error(\"\\u8bf7\\u6c42\\u670d\\u52a1\\u5668\\u53d1\\u751f\\u5f02\\u5e38: \"+G.message);}}function H(a,b){for(var c in b)b.hasOwnProperty(c)&&b[c]&&(a[c]=b[c]);return a}var l=document,q=/mobile|iPhone|Android|htc|Lenovo|huawei/i.test(f.navigator.userAgent.toString());f.Yoda={};f.YODA_CONFIG={};var y=new x(\"yoda_seed\");f.Yoda.LX=y;var z={pro:\"https://verify.meituan.com\",staging:\"//verify-test.meituan.com\",dev:\"//verify.inf.dev.sankuai.com\",test:\"//verify.inf.test.sankuai.com\",ppe:\"//verify.inf.ppe.sankuai.com\",\n",
      "development:\"//verify-test.meituan.com\"},E=\"\",r=\"\",t=\"\",u=\"\",v=\"\",g=\"\",D=\"\",w=\"\",A=\"\",B=\"\",k=\"\",m=\"\";e.prototype.init=function(a,b){E=Date.now();t=r=!1;v=u=!0;m=k=B=A=w=D=g=\"\";this.env=b||\"pro\";var c=new n(a.requestCode,this.env);f.Yoda.CAT=c;this.options=a;q=void 0===a.isMobile?q:a.isMobile;this.feVersion=\"1.4.0\";this.source=q?3:1;this.getConf(this.options.requestCode)};e.prototype.getConf=function(a){var b=z[this.env]+\"/v2/ext_api/page_data\";a={requestCode:a,feVersion:this.feVersion,source:this.source};\n",
      "var c=this,d=Date.now();F(b,a,function(a){a=JSON.parse(a);var f=Date.now()-d,h={kvs:{pagedata:[f],TTFB:[f]},tags:{action:a.data?a.data.action:\"\",type:a.data?a.data.type:\"\",result:a.status?a.status:\"\"},ts:Date.now()};window.Yoda.CAT.metric(h);window.Yoda.CAT.postBatch(b,0,0,f,\"200|\"+a.status,\"ajax\");c.confBack(a)})};e.prototype.confBack=function(a){if(1===a.status&&a.data){var b=H(a.data,this.options);this.config=b;this._yoda_config||(this._yoda_config=JSON.stringify(b),this._yoda_options=JSON.stringify(this.options),\n",
      "this._yoda_listIndex=a.data.defaultIndex||0,this._yoda_riskLevel=this.config.riskLevel);this.config.category=this.config.isHideSwitch?\"MULTIPLE\":this.config.category;b=a.data.yodaVersion;a=a.data.verifyMethodVersion;this.filter();this.ensureVersion(b,a)}else f.Yoda.CAT.sendLog(z[this.env]+\"/v2/ext_api/page_data\",\"jsError\",\"[dataException]:\\u8bf7\\u6c42pageData\\u63a5\\u53e3\\u672a\\u6b63\\u5e38\\u8fd4\\u56de\\u6570\\u636e, \\u73af\\u5883\\u4fe1\\u606f\\u4e3a:\"+this.source,JSON.stringify(a)),this.handleError(a)};\n",
      "e.prototype.ensureVersion=function(a,b){a=JSON.parse(a);b=JSON.parse(b);a&&(m=q?a.i:a.d);try{var c=JSON.parse(this.config.riskLevelInfo)[Number(D)];g=JSON.parse(c).name;(b=JSON.parse(b[g]))&&(k=q?b.i:b.d);this.isNeedLoad();this.getSourcePath();this.loadSource()}catch(d){f.Yoda.CAT.sendLog(z[this.env]+\"/v2/ext_api/page_data\",\"jsError\",\"[dataException]:\\u89e3\\u6790pageData\\u63a5\\u53e3\\u6570\\u636e\\u5931\\u8d25, \\u73af\\u5883\\u4fe1\\u606f\\u4e3a:\"+this.source,d.message),this.handleError(\"\\u521d\\u59cb\\u5316\\u5931\\u8d25\")}};\n",
      "e.prototype.isNeedLoad=function(){var a=l.getElementsByTagName(\"script\"),b=a.length,c=0;if(m&&k&&b)for(;c<b;c++){var d=a[c].src;~d.indexOf(m)&&(u=!1,t=!0);~d.indexOf(k)&&(v=!1,r=!0);if(!u&&!v)break}};e.prototype.loadSource=function(){var a=this,b=function(){function b(b){return function(c,d,g){var h=Date.now(),e=l.createElement(b),p=l.head,C=\"src\",k=\"link\"===b?\"css\":\"js\";e.onload=function(){e=e.onload=e.onerror=e.onreadystatechange=null;var p=Date.now()-h;\"script\"===b&&y.report(d,\"duration\",{custom:{duration:p,\n",
      "result:\"download\",requestCode:a.options.requestCode}});f.Yoda.CAT.postBatch(c,0,0,p,\"200|\",k);\"function\"===typeof g&&g();\"pro\"!==a.env&&(f.YODA_CONFIG.__API_URL__=z[a.env],a.setDomain(z[a.env]))};e.onerror=function(){a.handleError(\"\\u52a0\\u8f7d\\u5931\\u8d25\");var b=Date.now()-h;f.Yoda.CAT.postBatch(c,0,0,b,\"500|\",k);y.report(d,\"downloadFailed\");f.Yoda.CAT.sendLog(c,\"resourceError\",\"downloadFailed\",\"[\\u4e0b\\u8f7djs\\u5931\\u8d25]:\"+c)};switch(b){case \"script\":e.type=\"text/javascript\";e.async=!1;e.defer=\n",
      "!0;break;case \"link\":e.type=\"text/css\",e.rel=\"stylesheet\",C=\"href\"}e[C]=c;p.appendChild(e)}}return{css:b(\"link\"),js:b(\"script\")}}();u&&(y.report(\"yoda\",\"req\"),b.js(A,\"yoda\",function(){t=!t;a.moduleInit()}));if(v)if(y.report(g,\"req\"),\"withCredentials\"in new f.XMLHttpRequest)b.js(w,g,function(){r=!0;a.moduleInit()});else if(\"undefined\"!==typeof XDomainRequest)var c=window.setInterval(function(){void 0!==window.Yoda.Ballade&&b.js(w,g,function(){r=!0;a.moduleInit();window.clearInterval(c)})},1E3);u||\n",
      "v||this.moduleInit();B&&b.css(B)};e.prototype.moduleInit=function(){if(r&&t){this[g]={};this.config.yodaInitTime=E;if(\"function\"===typeof f.Yoda[g])return this[g].initModule=new f.Yoda[g](this.config),!1;var a=l.createElement(\"script\");a.type=\"text/javascript\";a.appendChild(l.createTextNode(this.moduleText));l.body.appendChild(a);this[g].initModule=new f.Yoda[g](this.config)}};e.prototype.getSourcePath=function(){var a=q?\"i\":\"d\";m=m?m+\".\":\"\";k=k?k+\".\":\"\";\"development\"===this.env?(a=\"i\"===a?\"mobile\":\n",
      "\"desktop\",w=\"/modules/\"+g+\"/\"+a+\"/\"+g+\".js\",B=\"/modules/\"+g+\"/\"+a+\"/\"+g+\".css\",A=\"./yoda-\"+a+\".js\"):(A=\"https://static.meituan.net/bs/yoda-static/file:file/\"+a+\"/js/yoda.\"+m+\"js\",w=\"https://static.meituan.net/bs/yoda-static/file:file/\"+a+\"/js/\"+g+\".\"+k+\"js\")};e.prototype.handleError=function(a,b){\"string\"!==typeof a&&(a=(b=a)&&b.error&&b.error.message);var c=this.options.failCallbackFun;if(c&&\"function\"===typeof f[c]){var d={code:\"121333\",requestCode:this.options.requestCode};setTimeout(function(){f[c](d)},\n",
      "1E3)}var e=this.options.failCallbackUrl;e&&setTimeout(function(){var a=document.createElement(\"a\");a.href=e;f.location.href=(a.origin||a.protocol+\"//\"+a.host)+a.pathname+a.search+a.hash},1E3);this.notifyErr(a)};e.prototype.notifyErr=function(a){var b=l.getElementById(this.options.root);if(q){var c=l.createElement(\"div\");var d=l.createElement(\"div\");d.innerHTML=a;c.appendChild(d)}else c=l.createElement(\"div\"),c.innerHTML=a;b.appendChild(c)};e.prototype.setDomain=function(a){setTimeout(function(){window.YODA_CONFIG.__API_URL__=\n",
      "a},0)};e.prototype.resetVariable=function(a){E=Date.now();r=a.moduleLoaded||!1;t=a.yodaLoaded||!1;u=a.yodaNeedLoad||!0;v=a.moduleNeedLoad||!0;g=a.MODULE_NAME||\"\";w=a.MODULE_URL||\"\";A=a.YODA_URL||\"\";B=a.CSS_URL||\"\";k=a.MODULE_VERSION||\"\";m=a.YODA_VERSION||\"\"};e.prototype.filter=function(){var a=this.config.riskLevel.split(/[,|]/g);if(a[0]&&1===a.length)D=this.config.riskLevel;else{a=JSON.parse(this.config.riskLevelInfo);for(var b=JSON.parse(this.config.verifyMethodVersion),c=this.config.riskLevel.split(\"|\"),\n",
      "d=this.config.defaultIndex||0;d<c.length;d++){for(var e=c[d].split(\",\"),f=0,h=1;f<e.length;f++){var g=JSON.parse(a[Number(e[f])]);if(!g.name||!b[g.name]){h=0;break}}if(h){D=e[0];this._yoda_listIndex=d;break}}}};x.prototype.report=function(a,b,c){if(\"pro\"!==window.seed.env)return!1;var d={appnm:this.appnm,channel:\"techportal\",ct:q?\"i\":\"www\",ch:\"web\",sc:window.screen.width+\"*\"+window.screen.height,ua:window.navigator.userAgent};a={nm:\"MV\",tm:Date.now(),nt:0,isauto:6,val_cid:a,val_bid:b,val_lab:c};this.addToSendQueue(d,\n",
      "a)};x.prototype.addToSendQueue=function(a,b){var c;(c=this.sendQueue[a.channel])?c=c.data:(c=[],this.sendQueue[a.channel]={conf:a,data:c});c.push(b);var d=this;setTimeout(function(){d.send()},0)};x.prototype.send=function(){var a=[];for(d in this.sendQueue)if(this.sendQueue.hasOwnProperty(d)){var b=this.sendQueue[d];var c=b.conf;(b=H(c,{appnm:c.appnm,category:\"data_sdk_\"+d,evs:b.data}))&&a.push(b)}if(0<a.length){var d=\"https://report.meituan.com/?_lxskd_rnd=\"+Date.now()+Math.ceil(1E3*Math.random());\n",
      "this.sendStatic(d,{data:a})}this.sendQueue={}};x.prototype.sendStatic=function(a,b){if(0===b.data.length)return!1;try{var c=new f.XMLHttpRequest;if(\"withCredentials\"in c)c.open(\"POST\",a,!0);else if(\"undefined\"!==typeof f.XDomainRequest)c=new f.XDomainRequest,c.open(\"POST\",a);else throw Error(\"\\u7075\\u7280\\u521b\\u5efaXHR\\u5bf9\\u8c61\\u5931\\u8d25\");c.onerror=function(){c.abort();c=null};c.send(JSON.stringify(b.data))}catch(d){throw Error(\"\\u7075\\u7280XHR\\u8bf7\\u6c42\\u670d\\u52a1\\u5668\\u53d1\\u751f\\u5f02\\u5e38: \"+\n",
      "d.message);}return!0};n.prototype.postBatch=function(a,b,c,d,e,f){a=a+\"\\t\"+Date.now()+\"\\t\"+b+\"\\t\"+c+\"\\t\"+d+\"\\t\"+this.project+\"\\t\"+this.origin+\"\\t\"+e+\"\\t\\t\\t\\t\"+f;this.batchs.push(a)};n.prototype.sendBatch=function(){if(0<this.batchs.length){var a=this.host+\"/api/batch?v=\"+this.catVersion,b={c:\"S\\t\\t\\t\\t\\t\\t\"+this.unionId+\"\\n\"+this.batchs.join(\"\\n\")};this.sendStatic(a,b);this.batchs=[]}};n.prototype.speed=function(a,b){var c=\"&project=\"+this.project+\"&pageurl=\"+window.location.href+\"&unionId=\"+this.unionId+\n",
      "\"&timestamp=\"+Date.now()+\"&speed=\"+a+\"&customspeed=\"+b;c=this.host+\"/api/speed?v=\"+this.catVersion+c;var d=this,e=new f.XMLHttpRequest;e.open(\"GET\",c);e.onerror=function(){d.speed(a,b);e.abort();e=null};e.send()};n.prototype.sendLog=function(a,b,c,d){a=[{project:this.project,pageUrl:window.location.origin,resourceUrl:a||\"\",category:b,sec_category:c,level:\"error\",unionId:this.unionId,timestamp:Date.now(),content:d||\"\"}];this.sendStatic(this.host+\"/api/log?v=\"+this.catVersion,{c:JSON.stringify(a)})};\n",
      "n.prototype.metric=function(a){this.sendStatic(this.host+\"/api/metric?v=\"+this.catVersion+\"&p=\"+this.project,{data:JSON.stringify(a)})};n.prototype.sendStatic=function(a,b){F(a,b,function(){});return!0};n.prototype[\"byte\"]=function(a){var b=0,c=a.length;if(a){for(var d=0;d<c;d++)255<a.charCodeAt(d)?b+=2:b++;return b}return 0};f.YodaSeed=e})(window);\n",
      "    </script>\n",
      "</head> <body>    <div class='container'>\n",
      "        <div class='header' id='header'>\n",
      "            <div class='logo' id='logo'>验证中心</div>\n",
      "        </div>\n",
      "        <div class='content'>\n",
      "            <div class='root' id='root'></div>\n",
      "        </div>\n",
      "        <div class='footer' id='footer'>©2019 meituan.com 京ICP证070791号 京公网安备1101050202554.</div>\n",
      "    </div>\n",
      "                                                <script type=\"text/javascript\">        window.yodaTheme = setTheme;\n",
      "        function setTheme(theme) {\n",
      "            var theme = theme || 'meituan';\n",
      "            var header = document.getElementById('header');\n",
      "            header.style.display = \"block\";\n",
      "            var logo = document.getElementById('logo');\n",
      "            var footer = document.getElementById('footer');\n",
      "            footer.style.display = \"block\";\n",
      "\n",
      "            var link = document.createElement('link');\n",
      "            link.rel = 'shortcut icon';\n",
      "            link.type = 'image/x-icon';\n",
      "\n",
      "            if (theme === 'meituan' || theme === 'mt' || theme === '') {\n",
      "                link.href = '/static/favicon.ico';\n",
      "            }\n",
      "            if (theme === 'dianping' || theme === 'dp') {\n",
      "                header.className = 'dpHeader';\n",
      "                logo.className = 'dpLogo';\n",
      "                footer.innerHTML = '© 2003-2017 dianping.com, All Rights Reserved.';\n",
      "                link.href = '//www.dpfile.com/s/res/favicon.5ff777c11d7833e57e01c9d192b7e427.ico';\n",
      "            }\n",
      "\n",
      "            document.head.appendChild(link);\n",
      "        }\n",
      "\n",
      "            var options = {\n",
      "            requestCode: \"ceb4d4ccdfc142d38410af041467e988\",\n",
      "            succCallbackUrl: \"https\\x3A\\x2F\\x2Foptimus\\x2Dmtsi\\x2Emeituan\\x2Ecom\\x2Foptimus\\x2FverifyResult\\x3ForiginUrl\\x3Dhttp\\x253A\\x252F\\x252Fmaoyan\\x2Ecom\\x252Fboard\\x252F4\",\n",
      "            failCallbackUrl: \"\",\n",
      "            forceCallback: \"false\",\n",
      "            root: \"root\",\n",
      "            platform: \"1000\",\n",
      "            theme: \"meituan\",\n",
      "            isMobile: false\n",
      "        }\n",
      "        YodaSeed(options, \"pro\");\n",
      "    </script></body></html>\n"
     ]
    }
   ],
   "source": [
    "import requests\n",
    "\n",
    "\n",
    "def get_one_page(url):\n",
    "    headers = {'User-Agent': 'Mozilla/5.0 (Windows NT 10.0; Win64; x64) AppleWebKit/537.36 (KHTML, like Gecko) Chrome/78.0.3904.108 Safari/537.36'}\n",
    "    response = requests.get(url, headers=headers)\n",
    "    if response.status_code == 200:\n",
    "        return response.text\n",
    "    return None\n",
    "\n",
    "\n",
    "def main():\n",
    "    url = 'https://maoyan.com/board/4'\n",
    "    html = get_one_page(url)\n",
    "    print(html)\n",
    "\n",
    "\n",
    "main()\n"
   ]
  },
  {
   "cell_type": "code",
   "execution_count": 18,
   "metadata": {},
   "outputs": [
    {
     "name": "stdout",
     "output_type": "stream",
     "text": [
      "<!DOCTYPE html>\n",
      "<html><head>    <meta charset=\"utf-8\">\n",
      "    <meta content=\"width=device-width, initial-scale=1.0, maximum-scale=1.0, user-scalable=no\" name=\"viewport\" />\n",
      "    <meta name=\"renderer\" content=\"webkit\" />\n",
      "    <meta http-equiv=\"X-UA-Compatible\" content=\"IE=edge\" />\n",
      "    <style>\n",
      "        .container {\n",
      "            width: 998px;\n",
      "            margin: 0 auto;\n",
      "        }\n",
      "        .header {\n",
      "            height: 70px;\n",
      "            font-size: 28px;\n",
      "            color: #999999;\n",
      "            border-bottom: 3px solid #1db9aa;\n",
      "            overflow: hidden;\n",
      "            display: none;\n",
      "        }\n",
      "        .logo {\n",
      "            margin-top: 8px;\n",
      "            margin-left: 1px;\n",
      "            height: 54px;\n",
      "            line-height: 54px;\n",
      "            padding-left: 102px;\n",
      "            background: url('data:image/png;base64,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') no-repeat;\n",
      "            background-size: 82px 54px;\n",
      "        }\n",
      "        .dpHeader {\n",
      "            height: 70px;\n",
      "            font-size: 28px;\n",
      "            color: #999999;\n",
      "            border-bottom: 3px solid #ff6633;\n",
      "            overflow: hidden;\n",
      "            display: none;\n",
      "        }\n",
      "        .dpLogo {\n",
      "            margin-top: 16px;\n",
      "            margin-left: 1px;\n",
      "            line-height: 44px;\n",
      "            padding-left: 155px;\n",
      "            background: url('data:image/png;base64,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') no-repeat;\n",
      "            background-size: 144px 40px;\n",
      "        }\n",
      "        .content {\n",
      "            min-height: 335px;\n",
      "            position: relative;\n",
      "        }\n",
      "        .footer {\n",
      "            font-size: 12px;\n",
      "            color: #999999;\n",
      "            padding: 13px 8px;\n",
      "            border-top: 1px solid #e1e1e1;\n",
      "            text-align: center;\n",
      "            display: none;\n",
      "        }\n",
      "        .root {\n",
      "            height: 100%;\n",
      "        }\n",
      "    </style>\n",
      "    <title>验证中心</title>\n",
      "    <link rel=\"dns-prefetch\" href=\"//awp-assets.meituan.net\" />\n",
      "    <link rel=\"dns-prefetch\" href=\"//verify.meituan.com\" />\n",
      "    <link rel=\"dns-prefetch\" href=\"//static.meituan.net\" />\n",
      "    <script>\n",
      "        (function(f){function e(a,b){this.seed instanceof e?this.seed.init(a,b):this instanceof e?this.init(a,b):this.seed=new e(a,b);return this.seed}function x(a){this.appnm=a;this.sendQueue={}}function n(a,b){this.batchs=[];this.project=\"Yoda-FE\";this.catVersion=1;this.origin=window.location.origin;this.unionId=a||\"\";this.env=\"pro\"===b?\"pro\":\"dev\";this.host={pro:\"//catfront.dianping.com\",dev:\"//catfront.51ping.com\"}[this.env];var c=this;setTimeout(function(){c.sendBatch()},500)}function F(a,b,c){if(\"object\"===\n",
      "typeof b){var d=[],p;for(p in b)d.push(encodeURIComponent(p)+\"=\"+encodeURIComponent(b[p]));b=d.join(\"&\")}d={\"Content-Type\":\"application/x-www-form-urlencoded\"};try{var C=Date.now(),h=new f.XMLHttpRequest;if(\"withCredentials\"in h){h.open(\"post\",a,!0);if(d)for(var g in d)d.hasOwnProperty(g)&&h.setRequestHeader(g,d[g]);h.onload=function(){4===h.readyState&&(200<=h.status&&300>h.status||304===h.status)&&(c(h.responseText),h=null)}}else if(\"undefined\"!==typeof f.XDomainRequest){h=new f.XDomainRequest;\n",
      "var e=0<a.indexOf(\"?\")?\"&\"+b:\"?\"+b;h.open(\"get\",a+e);h.onload=function(){c(h.responseText);h=null}}else throw Error(\"\\u79cd\\u5b50\\u4ee3\\u7801\\u521b\\u5efaXMLHttpRequest\\u5bf9\\u8c61\\u5931\\u8d25\");h.onerror=function(a){h.abort();throw Error(\"XMLHttpRequest\\u8bf7\\u6c42\\u670d\\u52a1\\u5668\\u53d1\\u751f\\u5f02\\u5e38\"+a.message);};h.send(b)}catch(G){throw window.Yoda.CAT.postBatch(a,0,0,Date.now()-C,\"500|0\",\"ajax\"),window.Yoda.CAT.sendBatch(),window.Yoda.CAT.sendLog(a,\"ajaxError\",\"[\\u8bf7\\u6c42\\u5f02\\u5e38]\",\n",
      "G.message),Error(\"\\u8bf7\\u6c42\\u670d\\u52a1\\u5668\\u53d1\\u751f\\u5f02\\u5e38: \"+G.message);}}function H(a,b){for(var c in b)b.hasOwnProperty(c)&&b[c]&&(a[c]=b[c]);return a}var l=document,q=/mobile|iPhone|Android|htc|Lenovo|huawei/i.test(f.navigator.userAgent.toString());f.Yoda={};f.YODA_CONFIG={};var y=new x(\"yoda_seed\");f.Yoda.LX=y;var z={pro:\"https://verify.meituan.com\",staging:\"//verify-test.meituan.com\",dev:\"//verify.inf.dev.sankuai.com\",test:\"//verify.inf.test.sankuai.com\",ppe:\"//verify.inf.ppe.sankuai.com\",\n",
      "development:\"//verify-test.meituan.com\"},E=\"\",r=\"\",t=\"\",u=\"\",v=\"\",g=\"\",D=\"\",w=\"\",A=\"\",B=\"\",k=\"\",m=\"\";e.prototype.init=function(a,b){E=Date.now();t=r=!1;v=u=!0;m=k=B=A=w=D=g=\"\";this.env=b||\"pro\";var c=new n(a.requestCode,this.env);f.Yoda.CAT=c;this.options=a;q=void 0===a.isMobile?q:a.isMobile;this.feVersion=\"1.4.0\";this.source=q?3:1;this.getConf(this.options.requestCode)};e.prototype.getConf=function(a){var b=z[this.env]+\"/v2/ext_api/page_data\";a={requestCode:a,feVersion:this.feVersion,source:this.source};\n",
      "var c=this,d=Date.now();F(b,a,function(a){a=JSON.parse(a);var f=Date.now()-d,h={kvs:{pagedata:[f],TTFB:[f]},tags:{action:a.data?a.data.action:\"\",type:a.data?a.data.type:\"\",result:a.status?a.status:\"\"},ts:Date.now()};window.Yoda.CAT.metric(h);window.Yoda.CAT.postBatch(b,0,0,f,\"200|\"+a.status,\"ajax\");c.confBack(a)})};e.prototype.confBack=function(a){if(1===a.status&&a.data){var b=H(a.data,this.options);this.config=b;this._yoda_config||(this._yoda_config=JSON.stringify(b),this._yoda_options=JSON.stringify(this.options),\n",
      "this._yoda_listIndex=a.data.defaultIndex||0,this._yoda_riskLevel=this.config.riskLevel);this.config.category=this.config.isHideSwitch?\"MULTIPLE\":this.config.category;b=a.data.yodaVersion;a=a.data.verifyMethodVersion;this.filter();this.ensureVersion(b,a)}else f.Yoda.CAT.sendLog(z[this.env]+\"/v2/ext_api/page_data\",\"jsError\",\"[dataException]:\\u8bf7\\u6c42pageData\\u63a5\\u53e3\\u672a\\u6b63\\u5e38\\u8fd4\\u56de\\u6570\\u636e, \\u73af\\u5883\\u4fe1\\u606f\\u4e3a:\"+this.source,JSON.stringify(a)),this.handleError(a)};\n",
      "e.prototype.ensureVersion=function(a,b){a=JSON.parse(a);b=JSON.parse(b);a&&(m=q?a.i:a.d);try{var c=JSON.parse(this.config.riskLevelInfo)[Number(D)];g=JSON.parse(c).name;(b=JSON.parse(b[g]))&&(k=q?b.i:b.d);this.isNeedLoad();this.getSourcePath();this.loadSource()}catch(d){f.Yoda.CAT.sendLog(z[this.env]+\"/v2/ext_api/page_data\",\"jsError\",\"[dataException]:\\u89e3\\u6790pageData\\u63a5\\u53e3\\u6570\\u636e\\u5931\\u8d25, \\u73af\\u5883\\u4fe1\\u606f\\u4e3a:\"+this.source,d.message),this.handleError(\"\\u521d\\u59cb\\u5316\\u5931\\u8d25\")}};\n",
      "e.prototype.isNeedLoad=function(){var a=l.getElementsByTagName(\"script\"),b=a.length,c=0;if(m&&k&&b)for(;c<b;c++){var d=a[c].src;~d.indexOf(m)&&(u=!1,t=!0);~d.indexOf(k)&&(v=!1,r=!0);if(!u&&!v)break}};e.prototype.loadSource=function(){var a=this,b=function(){function b(b){return function(c,d,g){var h=Date.now(),e=l.createElement(b),p=l.head,C=\"src\",k=\"link\"===b?\"css\":\"js\";e.onload=function(){e=e.onload=e.onerror=e.onreadystatechange=null;var p=Date.now()-h;\"script\"===b&&y.report(d,\"duration\",{custom:{duration:p,\n",
      "result:\"download\",requestCode:a.options.requestCode}});f.Yoda.CAT.postBatch(c,0,0,p,\"200|\",k);\"function\"===typeof g&&g();\"pro\"!==a.env&&(f.YODA_CONFIG.__API_URL__=z[a.env],a.setDomain(z[a.env]))};e.onerror=function(){a.handleError(\"\\u52a0\\u8f7d\\u5931\\u8d25\");var b=Date.now()-h;f.Yoda.CAT.postBatch(c,0,0,b,\"500|\",k);y.report(d,\"downloadFailed\");f.Yoda.CAT.sendLog(c,\"resourceError\",\"downloadFailed\",\"[\\u4e0b\\u8f7djs\\u5931\\u8d25]:\"+c)};switch(b){case \"script\":e.type=\"text/javascript\";e.async=!1;e.defer=\n",
      "!0;break;case \"link\":e.type=\"text/css\",e.rel=\"stylesheet\",C=\"href\"}e[C]=c;p.appendChild(e)}}return{css:b(\"link\"),js:b(\"script\")}}();u&&(y.report(\"yoda\",\"req\"),b.js(A,\"yoda\",function(){t=!t;a.moduleInit()}));if(v)if(y.report(g,\"req\"),\"withCredentials\"in new f.XMLHttpRequest)b.js(w,g,function(){r=!0;a.moduleInit()});else if(\"undefined\"!==typeof XDomainRequest)var c=window.setInterval(function(){void 0!==window.Yoda.Ballade&&b.js(w,g,function(){r=!0;a.moduleInit();window.clearInterval(c)})},1E3);u||\n",
      "v||this.moduleInit();B&&b.css(B)};e.prototype.moduleInit=function(){if(r&&t){this[g]={};this.config.yodaInitTime=E;if(\"function\"===typeof f.Yoda[g])return this[g].initModule=new f.Yoda[g](this.config),!1;var a=l.createElement(\"script\");a.type=\"text/javascript\";a.appendChild(l.createTextNode(this.moduleText));l.body.appendChild(a);this[g].initModule=new f.Yoda[g](this.config)}};e.prototype.getSourcePath=function(){var a=q?\"i\":\"d\";m=m?m+\".\":\"\";k=k?k+\".\":\"\";\"development\"===this.env?(a=\"i\"===a?\"mobile\":\n",
      "\"desktop\",w=\"/modules/\"+g+\"/\"+a+\"/\"+g+\".js\",B=\"/modules/\"+g+\"/\"+a+\"/\"+g+\".css\",A=\"./yoda-\"+a+\".js\"):(A=\"https://static.meituan.net/bs/yoda-static/file:file/\"+a+\"/js/yoda.\"+m+\"js\",w=\"https://static.meituan.net/bs/yoda-static/file:file/\"+a+\"/js/\"+g+\".\"+k+\"js\")};e.prototype.handleError=function(a,b){\"string\"!==typeof a&&(a=(b=a)&&b.error&&b.error.message);var c=this.options.failCallbackFun;if(c&&\"function\"===typeof f[c]){var d={code:\"121333\",requestCode:this.options.requestCode};setTimeout(function(){f[c](d)},\n",
      "1E3)}var e=this.options.failCallbackUrl;e&&setTimeout(function(){var a=document.createElement(\"a\");a.href=e;f.location.href=(a.origin||a.protocol+\"//\"+a.host)+a.pathname+a.search+a.hash},1E3);this.notifyErr(a)};e.prototype.notifyErr=function(a){var b=l.getElementById(this.options.root);if(q){var c=l.createElement(\"div\");var d=l.createElement(\"div\");d.innerHTML=a;c.appendChild(d)}else c=l.createElement(\"div\"),c.innerHTML=a;b.appendChild(c)};e.prototype.setDomain=function(a){setTimeout(function(){window.YODA_CONFIG.__API_URL__=\n",
      "a},0)};e.prototype.resetVariable=function(a){E=Date.now();r=a.moduleLoaded||!1;t=a.yodaLoaded||!1;u=a.yodaNeedLoad||!0;v=a.moduleNeedLoad||!0;g=a.MODULE_NAME||\"\";w=a.MODULE_URL||\"\";A=a.YODA_URL||\"\";B=a.CSS_URL||\"\";k=a.MODULE_VERSION||\"\";m=a.YODA_VERSION||\"\"};e.prototype.filter=function(){var a=this.config.riskLevel.split(/[,|]/g);if(a[0]&&1===a.length)D=this.config.riskLevel;else{a=JSON.parse(this.config.riskLevelInfo);for(var b=JSON.parse(this.config.verifyMethodVersion),c=this.config.riskLevel.split(\"|\"),\n",
      "d=this.config.defaultIndex||0;d<c.length;d++){for(var e=c[d].split(\",\"),f=0,h=1;f<e.length;f++){var g=JSON.parse(a[Number(e[f])]);if(!g.name||!b[g.name]){h=0;break}}if(h){D=e[0];this._yoda_listIndex=d;break}}}};x.prototype.report=function(a,b,c){if(\"pro\"!==window.seed.env)return!1;var d={appnm:this.appnm,channel:\"techportal\",ct:q?\"i\":\"www\",ch:\"web\",sc:window.screen.width+\"*\"+window.screen.height,ua:window.navigator.userAgent};a={nm:\"MV\",tm:Date.now(),nt:0,isauto:6,val_cid:a,val_bid:b,val_lab:c};this.addToSendQueue(d,\n",
      "a)};x.prototype.addToSendQueue=function(a,b){var c;(c=this.sendQueue[a.channel])?c=c.data:(c=[],this.sendQueue[a.channel]={conf:a,data:c});c.push(b);var d=this;setTimeout(function(){d.send()},0)};x.prototype.send=function(){var a=[];for(d in this.sendQueue)if(this.sendQueue.hasOwnProperty(d)){var b=this.sendQueue[d];var c=b.conf;(b=H(c,{appnm:c.appnm,category:\"data_sdk_\"+d,evs:b.data}))&&a.push(b)}if(0<a.length){var d=\"https://report.meituan.com/?_lxskd_rnd=\"+Date.now()+Math.ceil(1E3*Math.random());\n",
      "this.sendStatic(d,{data:a})}this.sendQueue={}};x.prototype.sendStatic=function(a,b){if(0===b.data.length)return!1;try{var c=new f.XMLHttpRequest;if(\"withCredentials\"in c)c.open(\"POST\",a,!0);else if(\"undefined\"!==typeof f.XDomainRequest)c=new f.XDomainRequest,c.open(\"POST\",a);else throw Error(\"\\u7075\\u7280\\u521b\\u5efaXHR\\u5bf9\\u8c61\\u5931\\u8d25\");c.onerror=function(){c.abort();c=null};c.send(JSON.stringify(b.data))}catch(d){throw Error(\"\\u7075\\u7280XHR\\u8bf7\\u6c42\\u670d\\u52a1\\u5668\\u53d1\\u751f\\u5f02\\u5e38: \"+\n",
      "d.message);}return!0};n.prototype.postBatch=function(a,b,c,d,e,f){a=a+\"\\t\"+Date.now()+\"\\t\"+b+\"\\t\"+c+\"\\t\"+d+\"\\t\"+this.project+\"\\t\"+this.origin+\"\\t\"+e+\"\\t\\t\\t\\t\"+f;this.batchs.push(a)};n.prototype.sendBatch=function(){if(0<this.batchs.length){var a=this.host+\"/api/batch?v=\"+this.catVersion,b={c:\"S\\t\\t\\t\\t\\t\\t\"+this.unionId+\"\\n\"+this.batchs.join(\"\\n\")};this.sendStatic(a,b);this.batchs=[]}};n.prototype.speed=function(a,b){var c=\"&project=\"+this.project+\"&pageurl=\"+window.location.href+\"&unionId=\"+this.unionId+\n",
      "\"&timestamp=\"+Date.now()+\"&speed=\"+a+\"&customspeed=\"+b;c=this.host+\"/api/speed?v=\"+this.catVersion+c;var d=this,e=new f.XMLHttpRequest;e.open(\"GET\",c);e.onerror=function(){d.speed(a,b);e.abort();e=null};e.send()};n.prototype.sendLog=function(a,b,c,d){a=[{project:this.project,pageUrl:window.location.origin,resourceUrl:a||\"\",category:b,sec_category:c,level:\"error\",unionId:this.unionId,timestamp:Date.now(),content:d||\"\"}];this.sendStatic(this.host+\"/api/log?v=\"+this.catVersion,{c:JSON.stringify(a)})};\n",
      "n.prototype.metric=function(a){this.sendStatic(this.host+\"/api/metric?v=\"+this.catVersion+\"&p=\"+this.project,{data:JSON.stringify(a)})};n.prototype.sendStatic=function(a,b){F(a,b,function(){});return!0};n.prototype[\"byte\"]=function(a){var b=0,c=a.length;if(a){for(var d=0;d<c;d++)255<a.charCodeAt(d)?b+=2:b++;return b}return 0};f.YodaSeed=e})(window);\n",
      "    </script>\n",
      "</head> <body>    <div class='container'>\n",
      "        <div class='header' id='header'>\n",
      "            <div class='logo' id='logo'>验证中心</div>\n",
      "        </div>\n",
      "        <div class='content'>\n",
      "            <div class='root' id='root'></div>\n",
      "        </div>\n",
      "        <div class='footer' id='footer'>©2019 meituan.com 京ICP证070791号 京公网安备1101050202554.</div>\n",
      "    </div>\n",
      "                                                <script type=\"text/javascript\">        window.yodaTheme = setTheme;\n",
      "        function setTheme(theme) {\n",
      "            var theme = theme || 'meituan';\n",
      "            var header = document.getElementById('header');\n",
      "            header.style.display = \"block\";\n",
      "            var logo = document.getElementById('logo');\n",
      "            var footer = document.getElementById('footer');\n",
      "            footer.style.display = \"block\";\n",
      "\n",
      "            var link = document.createElement('link');\n",
      "            link.rel = 'shortcut icon';\n",
      "            link.type = 'image/x-icon';\n",
      "\n",
      "            if (theme === 'meituan' || theme === 'mt' || theme === '') {\n",
      "                link.href = '/static/favicon.ico';\n",
      "            }\n",
      "            if (theme === 'dianping' || theme === 'dp') {\n",
      "                header.className = 'dpHeader';\n",
      "                logo.className = 'dpLogo';\n",
      "                footer.innerHTML = '© 2003-2017 dianping.com, All Rights Reserved.';\n",
      "                link.href = '//www.dpfile.com/s/res/favicon.5ff777c11d7833e57e01c9d192b7e427.ico';\n",
      "            }\n",
      "\n",
      "            document.head.appendChild(link);\n",
      "        }\n",
      "\n",
      "            var options = {\n",
      "            requestCode: \"391431c2c4da4b739e2f9e376b20957c\",\n",
      "            succCallbackUrl: \"https\\x3A\\x2F\\x2Foptimus\\x2Dmtsi\\x2Emeituan\\x2Ecom\\x2Foptimus\\x2FverifyResult\\x3ForiginUrl\\x3Dhttp\\x253A\\x252F\\x252Fmaoyan\\x2Ecom\\x252Fboard\\x252F4\",\n",
      "            failCallbackUrl: \"\",\n",
      "            forceCallback: \"false\",\n",
      "            root: \"root\",\n",
      "            platform: \"1000\",\n",
      "            theme: \"meituan\",\n",
      "            isMobile: false\n",
      "        }\n",
      "        YodaSeed(options, \"pro\");\n",
      "    </script></body></html>\n"
     ]
    }
   ],
   "source": [
    "import requests\n",
    "\n",
    "\n",
    "def get_one_page(url):\n",
    "    headers = {'user-agent': 'Mozilla/5.0 (Windows NT 10.0; Win64; x64) AppleWebKit/537.36 (KHTML, like Gecko) Chrome/70.0.3538.102 Safari/537.36 Edge/18.18362'}\n",
    "    response = requests.get(url, headers=headers)\n",
    "    if response.status_code == 200:\n",
    "        return response.text\n",
    "    return None\n",
    "\n",
    "\n",
    "def main():\n",
    "    url = 'https://maoyan.com/board/4'\n",
    "    html = get_one_page(url)\n",
    "    print(html)\n",
    "\n",
    "\n",
    "main()\n"
   ]
  },
  {
   "cell_type": "code",
   "execution_count": 19,
   "metadata": {},
   "outputs": [
    {
     "name": "stdout",
     "output_type": "stream",
     "text": [
      "<!DOCTYPE html>\n",
      "<html><head>    <meta charset=\"utf-8\">\n",
      "    <meta content=\"width=device-width, initial-scale=1.0, maximum-scale=1.0, user-scalable=no\" name=\"viewport\" />\n",
      "    <meta name=\"renderer\" content=\"webkit\" />\n",
      "    <meta http-equiv=\"X-UA-Compatible\" content=\"IE=edge\" />\n",
      "    <style>\n",
      "        .container {\n",
      "            width: 998px;\n",
      "            margin: 0 auto;\n",
      "        }\n",
      "        .header {\n",
      "            height: 70px;\n",
      "            font-size: 28px;\n",
      "            color: #999999;\n",
      "            border-bottom: 3px solid #1db9aa;\n",
      "            overflow: hidden;\n",
      "            display: none;\n",
      "        }\n",
      "        .logo {\n",
      "            margin-top: 8px;\n",
      "            margin-left: 1px;\n",
      "            height: 54px;\n",
      "            line-height: 54px;\n",
      "            padding-left: 102px;\n",
      "            background: url('data:image/png;base64,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') no-repeat;\n",
      "            background-size: 82px 54px;\n",
      "        }\n",
      "        .dpHeader {\n",
      "            height: 70px;\n",
      "            font-size: 28px;\n",
      "            color: #999999;\n",
      "            border-bottom: 3px solid #ff6633;\n",
      "            overflow: hidden;\n",
      "            display: none;\n",
      "        }\n",
      "        .dpLogo {\n",
      "            margin-top: 16px;\n",
      "            margin-left: 1px;\n",
      "            line-height: 44px;\n",
      "            padding-left: 155px;\n",
      "            background: url('data:image/png;base64,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') no-repeat;\n",
      "            background-size: 144px 40px;\n",
      "        }\n",
      "        .content {\n",
      "            min-height: 335px;\n",
      "            position: relative;\n",
      "        }\n",
      "        .footer {\n",
      "            font-size: 12px;\n",
      "            color: #999999;\n",
      "            padding: 13px 8px;\n",
      "            border-top: 1px solid #e1e1e1;\n",
      "            text-align: center;\n",
      "            display: none;\n",
      "        }\n",
      "        .root {\n",
      "            height: 100%;\n",
      "        }\n",
      "    </style>\n",
      "    <title>验证中心</title>\n",
      "    <link rel=\"dns-prefetch\" href=\"//awp-assets.meituan.net\" />\n",
      "    <link rel=\"dns-prefetch\" href=\"//verify.meituan.com\" />\n",
      "    <link rel=\"dns-prefetch\" href=\"//static.meituan.net\" />\n",
      "    <script>\n",
      "        (function(f){function e(a,b){this.seed instanceof e?this.seed.init(a,b):this instanceof e?this.init(a,b):this.seed=new e(a,b);return this.seed}function x(a){this.appnm=a;this.sendQueue={}}function n(a,b){this.batchs=[];this.project=\"Yoda-FE\";this.catVersion=1;this.origin=window.location.origin;this.unionId=a||\"\";this.env=\"pro\"===b?\"pro\":\"dev\";this.host={pro:\"//catfront.dianping.com\",dev:\"//catfront.51ping.com\"}[this.env];var c=this;setTimeout(function(){c.sendBatch()},500)}function F(a,b,c){if(\"object\"===\n",
      "typeof b){var d=[],p;for(p in b)d.push(encodeURIComponent(p)+\"=\"+encodeURIComponent(b[p]));b=d.join(\"&\")}d={\"Content-Type\":\"application/x-www-form-urlencoded\"};try{var C=Date.now(),h=new f.XMLHttpRequest;if(\"withCredentials\"in h){h.open(\"post\",a,!0);if(d)for(var g in d)d.hasOwnProperty(g)&&h.setRequestHeader(g,d[g]);h.onload=function(){4===h.readyState&&(200<=h.status&&300>h.status||304===h.status)&&(c(h.responseText),h=null)}}else if(\"undefined\"!==typeof f.XDomainRequest){h=new f.XDomainRequest;\n",
      "var e=0<a.indexOf(\"?\")?\"&\"+b:\"?\"+b;h.open(\"get\",a+e);h.onload=function(){c(h.responseText);h=null}}else throw Error(\"\\u79cd\\u5b50\\u4ee3\\u7801\\u521b\\u5efaXMLHttpRequest\\u5bf9\\u8c61\\u5931\\u8d25\");h.onerror=function(a){h.abort();throw Error(\"XMLHttpRequest\\u8bf7\\u6c42\\u670d\\u52a1\\u5668\\u53d1\\u751f\\u5f02\\u5e38\"+a.message);};h.send(b)}catch(G){throw window.Yoda.CAT.postBatch(a,0,0,Date.now()-C,\"500|0\",\"ajax\"),window.Yoda.CAT.sendBatch(),window.Yoda.CAT.sendLog(a,\"ajaxError\",\"[\\u8bf7\\u6c42\\u5f02\\u5e38]\",\n",
      "G.message),Error(\"\\u8bf7\\u6c42\\u670d\\u52a1\\u5668\\u53d1\\u751f\\u5f02\\u5e38: \"+G.message);}}function H(a,b){for(var c in b)b.hasOwnProperty(c)&&b[c]&&(a[c]=b[c]);return a}var l=document,q=/mobile|iPhone|Android|htc|Lenovo|huawei/i.test(f.navigator.userAgent.toString());f.Yoda={};f.YODA_CONFIG={};var y=new x(\"yoda_seed\");f.Yoda.LX=y;var z={pro:\"https://verify.meituan.com\",staging:\"//verify-test.meituan.com\",dev:\"//verify.inf.dev.sankuai.com\",test:\"//verify.inf.test.sankuai.com\",ppe:\"//verify.inf.ppe.sankuai.com\",\n",
      "development:\"//verify-test.meituan.com\"},E=\"\",r=\"\",t=\"\",u=\"\",v=\"\",g=\"\",D=\"\",w=\"\",A=\"\",B=\"\",k=\"\",m=\"\";e.prototype.init=function(a,b){E=Date.now();t=r=!1;v=u=!0;m=k=B=A=w=D=g=\"\";this.env=b||\"pro\";var c=new n(a.requestCode,this.env);f.Yoda.CAT=c;this.options=a;q=void 0===a.isMobile?q:a.isMobile;this.feVersion=\"1.4.0\";this.source=q?3:1;this.getConf(this.options.requestCode)};e.prototype.getConf=function(a){var b=z[this.env]+\"/v2/ext_api/page_data\";a={requestCode:a,feVersion:this.feVersion,source:this.source};\n",
      "var c=this,d=Date.now();F(b,a,function(a){a=JSON.parse(a);var f=Date.now()-d,h={kvs:{pagedata:[f],TTFB:[f]},tags:{action:a.data?a.data.action:\"\",type:a.data?a.data.type:\"\",result:a.status?a.status:\"\"},ts:Date.now()};window.Yoda.CAT.metric(h);window.Yoda.CAT.postBatch(b,0,0,f,\"200|\"+a.status,\"ajax\");c.confBack(a)})};e.prototype.confBack=function(a){if(1===a.status&&a.data){var b=H(a.data,this.options);this.config=b;this._yoda_config||(this._yoda_config=JSON.stringify(b),this._yoda_options=JSON.stringify(this.options),\n",
      "this._yoda_listIndex=a.data.defaultIndex||0,this._yoda_riskLevel=this.config.riskLevel);this.config.category=this.config.isHideSwitch?\"MULTIPLE\":this.config.category;b=a.data.yodaVersion;a=a.data.verifyMethodVersion;this.filter();this.ensureVersion(b,a)}else f.Yoda.CAT.sendLog(z[this.env]+\"/v2/ext_api/page_data\",\"jsError\",\"[dataException]:\\u8bf7\\u6c42pageData\\u63a5\\u53e3\\u672a\\u6b63\\u5e38\\u8fd4\\u56de\\u6570\\u636e, \\u73af\\u5883\\u4fe1\\u606f\\u4e3a:\"+this.source,JSON.stringify(a)),this.handleError(a)};\n",
      "e.prototype.ensureVersion=function(a,b){a=JSON.parse(a);b=JSON.parse(b);a&&(m=q?a.i:a.d);try{var c=JSON.parse(this.config.riskLevelInfo)[Number(D)];g=JSON.parse(c).name;(b=JSON.parse(b[g]))&&(k=q?b.i:b.d);this.isNeedLoad();this.getSourcePath();this.loadSource()}catch(d){f.Yoda.CAT.sendLog(z[this.env]+\"/v2/ext_api/page_data\",\"jsError\",\"[dataException]:\\u89e3\\u6790pageData\\u63a5\\u53e3\\u6570\\u636e\\u5931\\u8d25, \\u73af\\u5883\\u4fe1\\u606f\\u4e3a:\"+this.source,d.message),this.handleError(\"\\u521d\\u59cb\\u5316\\u5931\\u8d25\")}};\n",
      "e.prototype.isNeedLoad=function(){var a=l.getElementsByTagName(\"script\"),b=a.length,c=0;if(m&&k&&b)for(;c<b;c++){var d=a[c].src;~d.indexOf(m)&&(u=!1,t=!0);~d.indexOf(k)&&(v=!1,r=!0);if(!u&&!v)break}};e.prototype.loadSource=function(){var a=this,b=function(){function b(b){return function(c,d,g){var h=Date.now(),e=l.createElement(b),p=l.head,C=\"src\",k=\"link\"===b?\"css\":\"js\";e.onload=function(){e=e.onload=e.onerror=e.onreadystatechange=null;var p=Date.now()-h;\"script\"===b&&y.report(d,\"duration\",{custom:{duration:p,\n",
      "result:\"download\",requestCode:a.options.requestCode}});f.Yoda.CAT.postBatch(c,0,0,p,\"200|\",k);\"function\"===typeof g&&g();\"pro\"!==a.env&&(f.YODA_CONFIG.__API_URL__=z[a.env],a.setDomain(z[a.env]))};e.onerror=function(){a.handleError(\"\\u52a0\\u8f7d\\u5931\\u8d25\");var b=Date.now()-h;f.Yoda.CAT.postBatch(c,0,0,b,\"500|\",k);y.report(d,\"downloadFailed\");f.Yoda.CAT.sendLog(c,\"resourceError\",\"downloadFailed\",\"[\\u4e0b\\u8f7djs\\u5931\\u8d25]:\"+c)};switch(b){case \"script\":e.type=\"text/javascript\";e.async=!1;e.defer=\n",
      "!0;break;case \"link\":e.type=\"text/css\",e.rel=\"stylesheet\",C=\"href\"}e[C]=c;p.appendChild(e)}}return{css:b(\"link\"),js:b(\"script\")}}();u&&(y.report(\"yoda\",\"req\"),b.js(A,\"yoda\",function(){t=!t;a.moduleInit()}));if(v)if(y.report(g,\"req\"),\"withCredentials\"in new f.XMLHttpRequest)b.js(w,g,function(){r=!0;a.moduleInit()});else if(\"undefined\"!==typeof XDomainRequest)var c=window.setInterval(function(){void 0!==window.Yoda.Ballade&&b.js(w,g,function(){r=!0;a.moduleInit();window.clearInterval(c)})},1E3);u||\n",
      "v||this.moduleInit();B&&b.css(B)};e.prototype.moduleInit=function(){if(r&&t){this[g]={};this.config.yodaInitTime=E;if(\"function\"===typeof f.Yoda[g])return this[g].initModule=new f.Yoda[g](this.config),!1;var a=l.createElement(\"script\");a.type=\"text/javascript\";a.appendChild(l.createTextNode(this.moduleText));l.body.appendChild(a);this[g].initModule=new f.Yoda[g](this.config)}};e.prototype.getSourcePath=function(){var a=q?\"i\":\"d\";m=m?m+\".\":\"\";k=k?k+\".\":\"\";\"development\"===this.env?(a=\"i\"===a?\"mobile\":\n",
      "\"desktop\",w=\"/modules/\"+g+\"/\"+a+\"/\"+g+\".js\",B=\"/modules/\"+g+\"/\"+a+\"/\"+g+\".css\",A=\"./yoda-\"+a+\".js\"):(A=\"https://static.meituan.net/bs/yoda-static/file:file/\"+a+\"/js/yoda.\"+m+\"js\",w=\"https://static.meituan.net/bs/yoda-static/file:file/\"+a+\"/js/\"+g+\".\"+k+\"js\")};e.prototype.handleError=function(a,b){\"string\"!==typeof a&&(a=(b=a)&&b.error&&b.error.message);var c=this.options.failCallbackFun;if(c&&\"function\"===typeof f[c]){var d={code:\"121333\",requestCode:this.options.requestCode};setTimeout(function(){f[c](d)},\n",
      "1E3)}var e=this.options.failCallbackUrl;e&&setTimeout(function(){var a=document.createElement(\"a\");a.href=e;f.location.href=(a.origin||a.protocol+\"//\"+a.host)+a.pathname+a.search+a.hash},1E3);this.notifyErr(a)};e.prototype.notifyErr=function(a){var b=l.getElementById(this.options.root);if(q){var c=l.createElement(\"div\");var d=l.createElement(\"div\");d.innerHTML=a;c.appendChild(d)}else c=l.createElement(\"div\"),c.innerHTML=a;b.appendChild(c)};e.prototype.setDomain=function(a){setTimeout(function(){window.YODA_CONFIG.__API_URL__=\n",
      "a},0)};e.prototype.resetVariable=function(a){E=Date.now();r=a.moduleLoaded||!1;t=a.yodaLoaded||!1;u=a.yodaNeedLoad||!0;v=a.moduleNeedLoad||!0;g=a.MODULE_NAME||\"\";w=a.MODULE_URL||\"\";A=a.YODA_URL||\"\";B=a.CSS_URL||\"\";k=a.MODULE_VERSION||\"\";m=a.YODA_VERSION||\"\"};e.prototype.filter=function(){var a=this.config.riskLevel.split(/[,|]/g);if(a[0]&&1===a.length)D=this.config.riskLevel;else{a=JSON.parse(this.config.riskLevelInfo);for(var b=JSON.parse(this.config.verifyMethodVersion),c=this.config.riskLevel.split(\"|\"),\n",
      "d=this.config.defaultIndex||0;d<c.length;d++){for(var e=c[d].split(\",\"),f=0,h=1;f<e.length;f++){var g=JSON.parse(a[Number(e[f])]);if(!g.name||!b[g.name]){h=0;break}}if(h){D=e[0];this._yoda_listIndex=d;break}}}};x.prototype.report=function(a,b,c){if(\"pro\"!==window.seed.env)return!1;var d={appnm:this.appnm,channel:\"techportal\",ct:q?\"i\":\"www\",ch:\"web\",sc:window.screen.width+\"*\"+window.screen.height,ua:window.navigator.userAgent};a={nm:\"MV\",tm:Date.now(),nt:0,isauto:6,val_cid:a,val_bid:b,val_lab:c};this.addToSendQueue(d,\n",
      "a)};x.prototype.addToSendQueue=function(a,b){var c;(c=this.sendQueue[a.channel])?c=c.data:(c=[],this.sendQueue[a.channel]={conf:a,data:c});c.push(b);var d=this;setTimeout(function(){d.send()},0)};x.prototype.send=function(){var a=[];for(d in this.sendQueue)if(this.sendQueue.hasOwnProperty(d)){var b=this.sendQueue[d];var c=b.conf;(b=H(c,{appnm:c.appnm,category:\"data_sdk_\"+d,evs:b.data}))&&a.push(b)}if(0<a.length){var d=\"https://report.meituan.com/?_lxskd_rnd=\"+Date.now()+Math.ceil(1E3*Math.random());\n",
      "this.sendStatic(d,{data:a})}this.sendQueue={}};x.prototype.sendStatic=function(a,b){if(0===b.data.length)return!1;try{var c=new f.XMLHttpRequest;if(\"withCredentials\"in c)c.open(\"POST\",a,!0);else if(\"undefined\"!==typeof f.XDomainRequest)c=new f.XDomainRequest,c.open(\"POST\",a);else throw Error(\"\\u7075\\u7280\\u521b\\u5efaXHR\\u5bf9\\u8c61\\u5931\\u8d25\");c.onerror=function(){c.abort();c=null};c.send(JSON.stringify(b.data))}catch(d){throw Error(\"\\u7075\\u7280XHR\\u8bf7\\u6c42\\u670d\\u52a1\\u5668\\u53d1\\u751f\\u5f02\\u5e38: \"+\n",
      "d.message);}return!0};n.prototype.postBatch=function(a,b,c,d,e,f){a=a+\"\\t\"+Date.now()+\"\\t\"+b+\"\\t\"+c+\"\\t\"+d+\"\\t\"+this.project+\"\\t\"+this.origin+\"\\t\"+e+\"\\t\\t\\t\\t\"+f;this.batchs.push(a)};n.prototype.sendBatch=function(){if(0<this.batchs.length){var a=this.host+\"/api/batch?v=\"+this.catVersion,b={c:\"S\\t\\t\\t\\t\\t\\t\"+this.unionId+\"\\n\"+this.batchs.join(\"\\n\")};this.sendStatic(a,b);this.batchs=[]}};n.prototype.speed=function(a,b){var c=\"&project=\"+this.project+\"&pageurl=\"+window.location.href+\"&unionId=\"+this.unionId+\n",
      "\"&timestamp=\"+Date.now()+\"&speed=\"+a+\"&customspeed=\"+b;c=this.host+\"/api/speed?v=\"+this.catVersion+c;var d=this,e=new f.XMLHttpRequest;e.open(\"GET\",c);e.onerror=function(){d.speed(a,b);e.abort();e=null};e.send()};n.prototype.sendLog=function(a,b,c,d){a=[{project:this.project,pageUrl:window.location.origin,resourceUrl:a||\"\",category:b,sec_category:c,level:\"error\",unionId:this.unionId,timestamp:Date.now(),content:d||\"\"}];this.sendStatic(this.host+\"/api/log?v=\"+this.catVersion,{c:JSON.stringify(a)})};\n",
      "n.prototype.metric=function(a){this.sendStatic(this.host+\"/api/metric?v=\"+this.catVersion+\"&p=\"+this.project,{data:JSON.stringify(a)})};n.prototype.sendStatic=function(a,b){F(a,b,function(){});return!0};n.prototype[\"byte\"]=function(a){var b=0,c=a.length;if(a){for(var d=0;d<c;d++)255<a.charCodeAt(d)?b+=2:b++;return b}return 0};f.YodaSeed=e})(window);\n",
      "    </script>\n",
      "</head> <body>    <div class='container'>\n",
      "        <div class='header' id='header'>\n",
      "            <div class='logo' id='logo'>验证中心</div>\n",
      "        </div>\n",
      "        <div class='content'>\n",
      "            <div class='root' id='root'></div>\n",
      "        </div>\n",
      "        <div class='footer' id='footer'>©2019 meituan.com 京ICP证070791号 京公网安备1101050202554.</div>\n",
      "    </div>\n",
      "                                                <script type=\"text/javascript\">        window.yodaTheme = setTheme;\n",
      "        function setTheme(theme) {\n",
      "            var theme = theme || 'meituan';\n",
      "            var header = document.getElementById('header');\n",
      "            header.style.display = \"block\";\n",
      "            var logo = document.getElementById('logo');\n",
      "            var footer = document.getElementById('footer');\n",
      "            footer.style.display = \"block\";\n",
      "\n",
      "            var link = document.createElement('link');\n",
      "            link.rel = 'shortcut icon';\n",
      "            link.type = 'image/x-icon';\n",
      "\n",
      "            if (theme === 'meituan' || theme === 'mt' || theme === '') {\n",
      "                link.href = '/static/favicon.ico';\n",
      "            }\n",
      "            if (theme === 'dianping' || theme === 'dp') {\n",
      "                header.className = 'dpHeader';\n",
      "                logo.className = 'dpLogo';\n",
      "                footer.innerHTML = '© 2003-2017 dianping.com, All Rights Reserved.';\n",
      "                link.href = '//www.dpfile.com/s/res/favicon.5ff777c11d7833e57e01c9d192b7e427.ico';\n",
      "            }\n",
      "\n",
      "            document.head.appendChild(link);\n",
      "        }\n",
      "\n",
      "            var options = {\n",
      "            requestCode: \"b571cc9fecb0428a983d87e483dc389d\",\n",
      "            succCallbackUrl: \"https\\x3A\\x2F\\x2Foptimus\\x2Dmtsi\\x2Emeituan\\x2Ecom\\x2Foptimus\\x2FverifyResult\\x3ForiginUrl\\x3Dhttp\\x253A\\x252F\\x252Fmaoyan\\x2Ecom\\x252Fboard\\x252F4\",\n",
      "            failCallbackUrl: \"\",\n",
      "            forceCallback: \"false\",\n",
      "            root: \"root\",\n",
      "            platform: \"1000\",\n",
      "            theme: \"meituan\",\n",
      "            isMobile: false\n",
      "        }\n",
      "        YodaSeed(options, \"pro\");\n",
      "    </script></body></html>\n"
     ]
    }
   ],
   "source": [
    "import requests\n",
    "\n",
    "\n",
    "def get_one_page(url):\n",
    "    headers = {'user-agent': 'Mozilla/5.0 (Windows NT 10.0; WOW64; Trident/7.0; rv:11.0) like Gecko'}\n",
    "    response = requests.get(url, headers=headers)\n",
    "    if response.status_code == 200:\n",
    "        return response.text\n",
    "    return None\n",
    "\n",
    "\n",
    "def main():\n",
    "    url = 'https://maoyan.com/board/4'\n",
    "    html = get_one_page(url)\n",
    "    print(html)\n",
    "\n",
    "\n",
    "main()\n"
   ]
  },
  {
   "cell_type": "code",
   "execution_count": 20,
   "metadata": {},
   "outputs": [
    {
     "name": "stdout",
     "output_type": "stream",
     "text": [
      "<!DOCTYPE html>\n",
      "\n",
      "<!--[if IE 8]><html class=\"ie8\"><![endif]-->\n",
      "<!--[if IE 9]><html class=\"ie9\"><![endif]-->\n",
      "<!--[if gt IE 9]><!--><html><!--<![endif]-->\n",
      "<head>\n",
      "  <title>TOP100榜 - 猫眼电影 - 一网打尽好电影</title>\n",
      "  \n",
      "  <link rel=\"dns-prefetch\" href=\"//p0.meituan.net\"  />\n",
      "  <link rel=\"dns-prefetch\" href=\"//p1.meituan.net\"  />\n",
      "  <link rel=\"dns-prefetch\" href=\"//ms0.meituan.net\" />\n",
      "  <link rel=\"dns-prefetch\" href=\"//s0.meituan.net\" />\n",
      "  <link rel=\"dns-prefetch\" href=\"//ms1.meituan.net\" />\n",
      "  <link rel=\"dns-prefetch\" href=\"//analytics.meituan.com\" />\n",
      "  <link rel=\"dns-prefetch\" href=\"//report.meituan.com\" />\n",
      "  <link rel=\"dns-prefetch\" href=\"//frep.meituan.com\" />\n",
      "\n",
      "  \n",
      "  <meta charset=\"utf-8\">\n",
      "  <meta name=\"keywords\" content=\"猫眼电影,电影排行榜,热映口碑榜,最受期待榜,国内票房榜,北美票房榜,猫眼TOP100\">\n",
      "  <meta name=\"description\" content=\"猫眼电影热门榜单,包括热映口碑榜,最受期待榜,国内票房榜,北美票房榜,猫眼TOP100,多维度为用户进行选片决策\">\n",
      "  <meta http-equiv=\"cleartype\" content=\"yes\" />\n",
      "  <meta http-equiv=\"X-UA-Compatible\" content=\"IE=edge\" />\n",
      "  <meta name=\"renderer\" content=\"webkit\" />\n",
      "\n",
      "  <meta name=\"HandheldFriendly\" content=\"true\" />\n",
      "  <meta name=\"format-detection\" content=\"email=no\" />\n",
      "  <meta name=\"format-detection\" content=\"telephone=no\" />\n",
      "  <meta name=\"viewport\" content=\"width=device-width, initial-scale=1\">\n",
      "\n",
      "  \n",
      "  <script>\"use strict\";!function(){var i=0<arguments.length&&void 0!==arguments[0]?arguments[0]:\"_Owl_\",n=window;n[i]||(n[i]={isRunning:!1,isReady:!1,preTasks:[],dataSet:[],use:function(i,t){this.isReady&&n.Owl&&n.Owl[i](t),this.preTasks.push({api:i,data:[t]})},add:function(i){this.dataSet.push(i)},run:function(){var t=this;if(!this.isRunning){this.isRunning=!0;var i=n.onerror;n.onerror=function(){this.isReady||this.add({type:\"jsError\",data:arguments}),i&&i.apply(n,arguments)}.bind(this),(n.addEventListener||n.attachEvent)(\"error\",function(i){t.isReady||t.add({type:\"resError\",data:[i]})},!0)}}},n[i].run())}();</script>\n",
      "  <script>\n",
      "  cid = \"c_wx6zb55\";\n",
      "  ci = 30;\n",
      "val = {\"subnavId\":4};    window.system = {};\n",
      "\n",
      "  window.openPlatform = '';\n",
      "  window.openPlatformSub = '';\n",
      "  window.$mtsiFlag = '0';\n",
      "\n",
      "  </script>\n",
      "  <link rel=\"stylesheet\" href=\"//s3plus.meituan.net/v1/mss_e2821d7f0cfe4ac1bf9202ecf9590e67/cdn-prod/file:5788b470/common.0a548310.css\"/>\n",
      "<link rel=\"stylesheet\" href=\"//s3plus.meituan.net/v1/mss_e2821d7f0cfe4ac1bf9202ecf9590e67/cdn-prod/file:5788b470/board-index.92a06072.css\"/>\n",
      "  <script crossorigin=\"anonymous\" src=\"//s3plus.meituan.net/v1/mss_e2821d7f0cfe4ac1bf9202ecf9590e67/cdn-prod/file:5788b470/stat.88d57c80.js\"></script>\n",
      "  <script>if(window.devicePixelRatio >= 2) { document.write('<link rel=\"stylesheet\" href=\"//s3plus.meituan.net/v1/mss_e2821d7f0cfe4ac1bf9202ecf9590e67/cdn-prod/file:5788b470/image-2x.8ba7074d.css\"/>') }</script>\n",
      "  <style>\n",
      "    @font-face {\n",
      "      font-family: stonefont;\n",
      "      src: url('//vfile.meituan.net/colorstone/7549c471ac6e775d9ccc14f3fec086403452.eot');\n",
      "      src: url('//vfile.meituan.net/colorstone/7549c471ac6e775d9ccc14f3fec086403452.eot?#iefix') format('embedded-opentype'),\n",
      "           url('//vfile.meituan.net/colorstone/5763c209be2f7219e6ea582d73d3ef1b2280.woff') format('woff');\n",
      "    }\n",
      "\n",
      "    .stonefont {\n",
      "      font-family: stonefont;\n",
      "    }\n",
      "  </style>\n",
      "  <script>\n",
      "  var _hmt = _hmt || [];\n",
      "  (function() {\n",
      "  var hm = document.createElement(\"script\");\n",
      "  hm.src = \"https://hm.baidu.com/hm.js?703e94591e87be68cc8da0da7cbd0be2\";\n",
      "  var s = document.getElementsByTagName(\"script\")[0]; \n",
      "  s.parentNode.insertBefore(hm, s);\n",
      "  })();\n",
      "  </script>\n",
      "</head>\n",
      "<body>\n",
      "\n",
      "\n",
      "<div class=\"header\">\n",
      "  <div class=\"header-inner\">\n",
      "        <a href=\"/\" class=\"logo\" data-act=\"icon-click\"></a>\n",
      "        <div class=\"city-container\" data-val=\"{currentcityid:30 }\">\n",
      "            <div class=\"city-selected\">\n",
      "                <div class=\"city-name\">\n",
      "                  深圳\n",
      "                  <span class=\"caret\"></span>\n",
      "                </div>\n",
      "            </div>\n",
      "            <div class=\"city-list\" data-val=\"{ localcityid: 30 }\">\n",
      "                <div class=\"city-list-header\">定位城市：<a class=\"js-geo-city\">深圳</a></div>\n",
      "                \n",
      "            </div>\n",
      "        </div>\n",
      "\n",
      "\n",
      "        <div class=\"nav\">\n",
      "            <ul class=\"navbar\">\n",
      "                <li><a href=\"/\" data-act=\"home-click\"  >首页</a></li>\n",
      "                <li><a href=\"/films\" data-act=\"movies-click\" >电影</a></li>\n",
      "                <li><a href=\"/cinemas\" data-act=\"cinemas-click\" >影院</a></li> \n",
      "                <li><a href=\"http://www.gewara.com\">演出</a></li>\n",
      "                \n",
      "                <li><a href=\"/board\" data-act=\"board-click\"  class=\"active\" >榜单</a></li>\n",
      "                <li><a href=\"/news\" data-act=\"hotNews-click\" >热点</a></li>\n",
      "                <li><a href=\"/edimall\"  >商城</a></li>\n",
      "            </ul>\n",
      "        </div>\n",
      "\n",
      "        <div class=\"user-info\">\n",
      "            <div class=\"user-avatar J-login\">\n",
      "              <img src=\"https://p0.meituan.net/movie/7dd82a16316ab32c8359debdb04396ef2897.png\">\n",
      "              <span class=\"caret\"></span>\n",
      "              <ul class=\"user-menu\">\n",
      "                <li><a href=\"javascript:void 0\">登录</a></li>\n",
      "              </ul>\n",
      "            </div>\n",
      "        </div>\n",
      "\n",
      "        <form action=\"/query\" target=\"_blank\" class=\"search-form\" data-actform=\"search-click\">\n",
      "            <input name=\"kw\" class=\"search\" type=\"search\" maxlength=\"32\" placeholder=\"找影视剧、影人、影院\" autocomplete=\"off\">\n",
      "            <input class=\"submit\" type=\"submit\" value=\"\">\n",
      "        </form>\n",
      "\n",
      "        <div class=\"app-download\">\n",
      "          <a href=\"/app\" target=\"_blank\">\n",
      "            <span class=\"iphone-icon\"></span>\n",
      "            <span class=\"apptext\">APP下载</span>\n",
      "            <span class=\"caret\"></span>\n",
      "            <div class=\"download-icon\">\n",
      "                <p class=\"down-title\">扫码下载APP</p>\n",
      "                <p class='down-content'>选座更优惠</p>\n",
      "            </div>\n",
      "          </a>\n",
      "        </div>\n",
      "    \n",
      "  </div>\n",
      "</div>\n",
      "<div class=\"header-placeholder\"></div>\n",
      "\n",
      "<div class=\"subnav\">\n",
      "  <ul class=\"navbar\">\n",
      "    <li>\n",
      "      <a data-act=\"subnav-click\" data-val=\"{subnavClick:7}\"\n",
      "          href=\"/board/7\"\n",
      "      >热映口碑榜</a>\n",
      "    </li>\n",
      "    <li>\n",
      "      <a data-act=\"subnav-click\" data-val=\"{subnavClick:6}\"\n",
      "          href=\"/board/6\"\n",
      "      >最受期待榜</a>\n",
      "    </li>\n",
      "    <li>\n",
      "      <a data-act=\"subnav-click\" data-val=\"{subnavClick:1}\"\n",
      "          href=\"/board/1\"\n",
      "      >国内票房榜</a>\n",
      "    </li>\n",
      "    <li>\n",
      "      <a data-act=\"subnav-click\" data-val=\"{subnavClick:2}\"\n",
      "          href=\"/board/2\"\n",
      "      >北美票房榜</a>\n",
      "    </li>\n",
      "    <li>\n",
      "      <a data-act=\"subnav-click\" data-val=\"{subnavClick:4}\"\n",
      "          data-state-val=\"{subnavId:4}\"\n",
      "          class=\"active\" href=\"javascript:void(0);\"\n",
      "      >TOP100榜</a>\n",
      "    </li>\n",
      "  </ul>\n",
      "</div>\n",
      "\n",
      "\n",
      "    <div class=\"container\" id=\"app\" class=\"page-board/index\" >\n",
      "\n",
      "<div class=\"content\">\n",
      "    <div class=\"wrapper\">\n",
      "        <div class=\"main\">\n",
      "            <p class=\"update-time\">2019-11-30<span class=\"has-fresh-text\">已更新</span></p>\n",
      "            <p class=\"board-content\">榜单规则：将猫眼电影库中的经典影片，按照评分和评分人数从高到低综合排序取前100名，每天上午10点更新。相关数据来源于“猫眼电影库”。</p>\n",
      "            <dl class=\"board-wrapper\">\n",
      "                <dd>\n",
      "                        <i class=\"board-index board-index-1\">1</i>\n",
      "    <a href=\"/films/1203\" title=\"霸王别姬\" class=\"image-link\" data-act=\"boarditem-click\" data-val=\"{movieId:1203}\">\n",
      "      <img src=\"//s3plus.meituan.net/v1/mss_e2821d7f0cfe4ac1bf9202ecf9590e67/cdn-prod/file:5788b470/image/loading_2.e3d934bf.png\" alt=\"\" class=\"poster-default\" />\n",
      "      <img data-src=\"https://p1.meituan.net/movie/20803f59291c47e1e116c11963ce019e68711.jpg@160w_220h_1e_1c\" alt=\"霸王别姬\" class=\"board-img\" />\n",
      "    </a>\n",
      "    <div class=\"board-item-main\">\n",
      "      <div class=\"board-item-content\">\n",
      "              <div class=\"movie-item-info\">\n",
      "        <p class=\"name\"><a href=\"/films/1203\" title=\"霸王别姬\" data-act=\"boarditem-click\" data-val=\"{movieId:1203}\">霸王别姬</a></p>\n",
      "        <p class=\"star\">\n",
      "                主演：张国荣,张丰毅,巩俐\n",
      "        </p>\n",
      "<p class=\"releasetime\">上映时间：1993-07-26</p>    </div>\n",
      "    <div class=\"movie-item-number score-num\">\n",
      "<p class=\"score\"><i class=\"integer\">9.</i><i class=\"fraction\">5</i></p>        \n",
      "    </div>\n",
      "\n",
      "      </div>\n",
      "    </div>\n",
      "\n",
      "                </dd>\n",
      "                <dd>\n",
      "                        <i class=\"board-index board-index-2\">2</i>\n",
      "    <a href=\"/films/1297\" title=\"肖申克的救赎\" class=\"image-link\" data-act=\"boarditem-click\" data-val=\"{movieId:1297}\">\n",
      "      <img src=\"//s3plus.meituan.net/v1/mss_e2821d7f0cfe4ac1bf9202ecf9590e67/cdn-prod/file:5788b470/image/loading_2.e3d934bf.png\" alt=\"\" class=\"poster-default\" />\n",
      "      <img data-src=\"https://p0.meituan.net/movie/283292171619cdfd5b240c8fd093f1eb255670.jpg@160w_220h_1e_1c\" alt=\"肖申克的救赎\" class=\"board-img\" />\n",
      "    </a>\n",
      "    <div class=\"board-item-main\">\n",
      "      <div class=\"board-item-content\">\n",
      "              <div class=\"movie-item-info\">\n",
      "        <p class=\"name\"><a href=\"/films/1297\" title=\"肖申克的救赎\" data-act=\"boarditem-click\" data-val=\"{movieId:1297}\">肖申克的救赎</a></p>\n",
      "        <p class=\"star\">\n",
      "                主演：蒂姆·罗宾斯,摩根·弗里曼,鲍勃·冈顿\n",
      "        </p>\n",
      "<p class=\"releasetime\">上映时间：1994-09-10(加拿大)</p>    </div>\n",
      "    <div class=\"movie-item-number score-num\">\n",
      "<p class=\"score\"><i class=\"integer\">9.</i><i class=\"fraction\">5</i></p>        \n",
      "    </div>\n",
      "\n",
      "      </div>\n",
      "    </div>\n",
      "\n",
      "                </dd>\n",
      "                <dd>\n",
      "                        <i class=\"board-index board-index-3\">3</i>\n",
      "    <a href=\"/films/2641\" title=\"罗马假日\" class=\"image-link\" data-act=\"boarditem-click\" data-val=\"{movieId:2641}\">\n",
      "      <img src=\"//s3plus.meituan.net/v1/mss_e2821d7f0cfe4ac1bf9202ecf9590e67/cdn-prod/file:5788b470/image/loading_2.e3d934bf.png\" alt=\"\" class=\"poster-default\" />\n",
      "      <img data-src=\"https://p0.meituan.net/movie/289f98ceaa8a0ae737d3dc01cd05ab052213631.jpg@160w_220h_1e_1c\" alt=\"罗马假日\" class=\"board-img\" />\n",
      "    </a>\n",
      "    <div class=\"board-item-main\">\n",
      "      <div class=\"board-item-content\">\n",
      "              <div class=\"movie-item-info\">\n",
      "        <p class=\"name\"><a href=\"/films/2641\" title=\"罗马假日\" data-act=\"boarditem-click\" data-val=\"{movieId:2641}\">罗马假日</a></p>\n",
      "        <p class=\"star\">\n",
      "                主演：格利高里·派克,奥黛丽·赫本,埃迪·艾伯特\n",
      "        </p>\n",
      "<p class=\"releasetime\">上映时间：1953-09-02(美国)</p>    </div>\n",
      "    <div class=\"movie-item-number score-num\">\n",
      "<p class=\"score\"><i class=\"integer\">9.</i><i class=\"fraction\">1</i></p>        \n",
      "    </div>\n",
      "\n",
      "      </div>\n",
      "    </div>\n",
      "\n",
      "                </dd>\n",
      "                <dd>\n",
      "                        <i class=\"board-index board-index-4\">4</i>\n",
      "    <a href=\"/films/4055\" title=\"这个杀手不太冷\" class=\"image-link\" data-act=\"boarditem-click\" data-val=\"{movieId:4055}\">\n",
      "      <img src=\"//s3plus.meituan.net/v1/mss_e2821d7f0cfe4ac1bf9202ecf9590e67/cdn-prod/file:5788b470/image/loading_2.e3d934bf.png\" alt=\"\" class=\"poster-default\" />\n",
      "      <img data-src=\"https://p1.meituan.net/movie/6bea9af4524dfbd0b668eaa7e187c3df767253.jpg@160w_220h_1e_1c\" alt=\"这个杀手不太冷\" class=\"board-img\" />\n",
      "    </a>\n",
      "    <div class=\"board-item-main\">\n",
      "      <div class=\"board-item-content\">\n",
      "              <div class=\"movie-item-info\">\n",
      "        <p class=\"name\"><a href=\"/films/4055\" title=\"这个杀手不太冷\" data-act=\"boarditem-click\" data-val=\"{movieId:4055}\">这个杀手不太冷</a></p>\n",
      "        <p class=\"star\">\n",
      "                主演：让·雷诺,加里·奥德曼,娜塔莉·波特曼\n",
      "        </p>\n",
      "<p class=\"releasetime\">上映时间：1994-09-14(法国)</p>    </div>\n",
      "    <div class=\"movie-item-number score-num\">\n",
      "<p class=\"score\"><i class=\"integer\">9.</i><i class=\"fraction\">5</i></p>        \n",
      "    </div>\n",
      "\n",
      "      </div>\n",
      "    </div>\n",
      "\n",
      "                </dd>\n",
      "                <dd>\n",
      "                        <i class=\"board-index board-index-5\">5</i>\n",
      "    <a href=\"/films/267\" title=\"泰坦尼克号\" class=\"image-link\" data-act=\"boarditem-click\" data-val=\"{movieId:267}\">\n",
      "      <img src=\"//s3plus.meituan.net/v1/mss_e2821d7f0cfe4ac1bf9202ecf9590e67/cdn-prod/file:5788b470/image/loading_2.e3d934bf.png\" alt=\"\" class=\"poster-default\" />\n",
      "      <img data-src=\"https://p1.meituan.net/movie/b607fba7513e7f15eab170aac1e1400d878112.jpg@160w_220h_1e_1c\" alt=\"泰坦尼克号\" class=\"board-img\" />\n",
      "    </a>\n",
      "    <div class=\"board-item-main\">\n",
      "      <div class=\"board-item-content\">\n",
      "              <div class=\"movie-item-info\">\n",
      "        <p class=\"name\"><a href=\"/films/267\" title=\"泰坦尼克号\" data-act=\"boarditem-click\" data-val=\"{movieId:267}\">泰坦尼克号</a></p>\n",
      "        <p class=\"star\">\n",
      "                主演：莱昂纳多·迪卡普里奥,凯特·温丝莱特,比利·赞恩\n",
      "        </p>\n",
      "<p class=\"releasetime\">上映时间：1998-04-03</p>    </div>\n",
      "    <div class=\"movie-item-number score-num\">\n",
      "<p class=\"score\"><i class=\"integer\">9.</i><i class=\"fraction\">5</i></p>        \n",
      "    </div>\n",
      "\n",
      "      </div>\n",
      "    </div>\n",
      "\n",
      "                </dd>\n",
      "                <dd>\n",
      "                        <i class=\"board-index board-index-6\">6</i>\n",
      "    <a href=\"/films/837\" title=\"唐伯虎点秋香\" class=\"image-link\" data-act=\"boarditem-click\" data-val=\"{movieId:837}\">\n",
      "      <img src=\"//s3plus.meituan.net/v1/mss_e2821d7f0cfe4ac1bf9202ecf9590e67/cdn-prod/file:5788b470/image/loading_2.e3d934bf.png\" alt=\"\" class=\"poster-default\" />\n",
      "      <img data-src=\"https://p0.meituan.net/movie/da64660f82b98cdc1b8a3804e69609e041108.jpg@160w_220h_1e_1c\" alt=\"唐伯虎点秋香\" class=\"board-img\" />\n",
      "    </a>\n",
      "    <div class=\"board-item-main\">\n",
      "      <div class=\"board-item-content\">\n",
      "              <div class=\"movie-item-info\">\n",
      "        <p class=\"name\"><a href=\"/films/837\" title=\"唐伯虎点秋香\" data-act=\"boarditem-click\" data-val=\"{movieId:837}\">唐伯虎点秋香</a></p>\n",
      "        <p class=\"star\">\n",
      "                主演：周星驰,巩俐,郑佩佩\n",
      "        </p>\n",
      "<p class=\"releasetime\">上映时间：1993-07-01(中国香港)</p>    </div>\n",
      "    <div class=\"movie-item-number score-num\">\n",
      "<p class=\"score\"><i class=\"integer\">9.</i><i class=\"fraction\">1</i></p>        \n",
      "    </div>\n",
      "\n",
      "      </div>\n",
      "    </div>\n",
      "\n",
      "                </dd>\n",
      "                <dd>\n",
      "                        <i class=\"board-index board-index-7\">7</i>\n",
      "    <a href=\"/films/7431\" title=\"乱世佳人\" class=\"image-link\" data-act=\"boarditem-click\" data-val=\"{movieId:7431}\">\n",
      "      <img src=\"//s3plus.meituan.net/v1/mss_e2821d7f0cfe4ac1bf9202ecf9590e67/cdn-prod/file:5788b470/image/loading_2.e3d934bf.png\" alt=\"\" class=\"poster-default\" />\n",
      "      <img data-src=\"https://p0.meituan.net/movie/223c3e186db3ab4ea3bb14508c709400427933.jpg@160w_220h_1e_1c\" alt=\"乱世佳人\" class=\"board-img\" />\n",
      "    </a>\n",
      "    <div class=\"board-item-main\">\n",
      "      <div class=\"board-item-content\">\n",
      "              <div class=\"movie-item-info\">\n",
      "        <p class=\"name\"><a href=\"/films/7431\" title=\"乱世佳人\" data-act=\"boarditem-click\" data-val=\"{movieId:7431}\">乱世佳人</a></p>\n",
      "        <p class=\"star\">\n",
      "                主演：费雯·丽,克拉克·盖博,奥利维娅·德哈维兰\n",
      "        </p>\n",
      "<p class=\"releasetime\">上映时间：1939-12-15(美国)</p>    </div>\n",
      "    <div class=\"movie-item-number score-num\">\n",
      "<p class=\"score\"><i class=\"integer\">9.</i><i class=\"fraction\">1</i></p>        \n",
      "    </div>\n",
      "\n",
      "      </div>\n",
      "    </div>\n",
      "\n",
      "                </dd>\n",
      "                <dd>\n",
      "                        <i class=\"board-index board-index-8\">8</i>\n",
      "    <a href=\"/films/2760\" title=\"魂断蓝桥\" class=\"image-link\" data-act=\"boarditem-click\" data-val=\"{movieId:2760}\">\n",
      "      <img src=\"//s3plus.meituan.net/v1/mss_e2821d7f0cfe4ac1bf9202ecf9590e67/cdn-prod/file:5788b470/image/loading_2.e3d934bf.png\" alt=\"\" class=\"poster-default\" />\n",
      "      <img data-src=\"https://p0.meituan.net/movie/46c29a8b8d8424bdda7715e6fd779c66235684.jpg@160w_220h_1e_1c\" alt=\"魂断蓝桥\" class=\"board-img\" />\n",
      "    </a>\n",
      "    <div class=\"board-item-main\">\n",
      "      <div class=\"board-item-content\">\n",
      "              <div class=\"movie-item-info\">\n",
      "        <p class=\"name\"><a href=\"/films/2760\" title=\"魂断蓝桥\" data-act=\"boarditem-click\" data-val=\"{movieId:2760}\">魂断蓝桥</a></p>\n",
      "        <p class=\"star\">\n",
      "                主演：费雯·丽,罗伯特·泰勒,露塞尔·沃特森\n",
      "        </p>\n",
      "<p class=\"releasetime\">上映时间：1940-05-17(美国)</p>    </div>\n",
      "    <div class=\"movie-item-number score-num\">\n",
      "<p class=\"score\"><i class=\"integer\">9.</i><i class=\"fraction\">2</i></p>        \n",
      "    </div>\n",
      "\n",
      "      </div>\n",
      "    </div>\n",
      "\n",
      "                </dd>\n",
      "                <dd>\n",
      "                        <i class=\"board-index board-index-9\">9</i>\n",
      "    <a href=\"/films/1228\" title=\"天空之城\" class=\"image-link\" data-act=\"boarditem-click\" data-val=\"{movieId:1228}\">\n",
      "      <img src=\"//s3plus.meituan.net/v1/mss_e2821d7f0cfe4ac1bf9202ecf9590e67/cdn-prod/file:5788b470/image/loading_2.e3d934bf.png\" alt=\"\" class=\"poster-default\" />\n",
      "      <img data-src=\"https://p1.meituan.net/movie/ba1ed511668402605ed369350ab779d6319397.jpg@160w_220h_1e_1c\" alt=\"天空之城\" class=\"board-img\" />\n",
      "    </a>\n",
      "    <div class=\"board-item-main\">\n",
      "      <div class=\"board-item-content\">\n",
      "              <div class=\"movie-item-info\">\n",
      "        <p class=\"name\"><a href=\"/films/1228\" title=\"天空之城\" data-act=\"boarditem-click\" data-val=\"{movieId:1228}\">天空之城</a></p>\n",
      "        <p class=\"star\">\n",
      "                主演：寺田农,鹫尾真知子,龟山助清\n",
      "        </p>\n",
      "<p class=\"releasetime\">上映时间：1992-05-01</p>    </div>\n",
      "    <div class=\"movie-item-number score-num\">\n",
      "<p class=\"score\"><i class=\"integer\">9.</i><i class=\"fraction\">0</i></p>        \n",
      "    </div>\n",
      "\n",
      "      </div>\n",
      "    </div>\n",
      "\n",
      "                </dd>\n",
      "                <dd>\n",
      "                        <i class=\"board-index board-index-10\">10</i>\n",
      "    <a href=\"/films/3667\" title=\"辛德勒的名单\" class=\"image-link\" data-act=\"boarditem-click\" data-val=\"{movieId:3667}\">\n",
      "      <img src=\"//s3plus.meituan.net/v1/mss_e2821d7f0cfe4ac1bf9202ecf9590e67/cdn-prod/file:5788b470/image/loading_2.e3d934bf.png\" alt=\"\" class=\"poster-default\" />\n",
      "      <img data-src=\"https://p0.meituan.net/movie/b0d986a8bf89278afbb19f6abaef70f31206570.jpg@160w_220h_1e_1c\" alt=\"辛德勒的名单\" class=\"board-img\" />\n",
      "    </a>\n",
      "    <div class=\"board-item-main\">\n",
      "      <div class=\"board-item-content\">\n",
      "              <div class=\"movie-item-info\">\n",
      "        <p class=\"name\"><a href=\"/films/3667\" title=\"辛德勒的名单\" data-act=\"boarditem-click\" data-val=\"{movieId:3667}\">辛德勒的名单</a></p>\n",
      "        <p class=\"star\">\n",
      "                主演：连姆·尼森,拉尔夫·费因斯,本·金斯利\n",
      "        </p>\n",
      "<p class=\"releasetime\">上映时间：1993-12-15(美国)</p>    </div>\n",
      "    <div class=\"movie-item-number score-num\">\n",
      "<p class=\"score\"><i class=\"integer\">9.</i><i class=\"fraction\">2</i></p>        \n",
      "    </div>\n",
      "\n",
      "      </div>\n",
      "    </div>\n",
      "\n",
      "                </dd>\n",
      "            </dl>\n",
      "\n",
      "        </div>\n",
      "            <div class=\"pager-main\">\n",
      "                \n",
      "  \n",
      "  <ul class=\"list-pager\">\n",
      "\n",
      "\n",
      "\n",
      "  \n",
      "      <li class=\"active\">\n",
      "    <a class=\"page_1\"\n",
      "      href=\"javascript:void(0);\" style=\"cursor: default\"\n",
      "  >1</a>\n",
      "\n",
      "</li>\n",
      "  <li >\n",
      "    <a class=\"page_2\"\n",
      "      href=\"?offset=10\"\n",
      "  >2</a>\n",
      "\n",
      "</li>\n",
      "  <li >\n",
      "    <a class=\"page_3\"\n",
      "      href=\"?offset=20\"\n",
      "  >3</a>\n",
      "\n",
      "</li>\n",
      "  <li >\n",
      "    <a class=\"page_4\"\n",
      "      href=\"?offset=30\"\n",
      "  >4</a>\n",
      "\n",
      "</li>\n",
      "  <li >\n",
      "    <a class=\"page_5\"\n",
      "      href=\"?offset=40\"\n",
      "  >5</a>\n",
      "\n",
      "</li>\n",
      "\n",
      "    <li class=\"sep\">...</li>\n",
      "      <li >\n",
      "    <a class=\"page_10\"\n",
      "      href=\"?offset=90\"\n",
      "  >10</a>\n",
      "\n",
      "</li>\n",
      "\n",
      "  \n",
      "\n",
      "<li>  <a class=\"page_2\"\n",
      "      href=\"?offset=10\"\n",
      "  >下一页</a>\n",
      "</li>\n",
      "</ul>\n",
      "\n",
      "\n",
      "            </div>\n",
      "    </div>\n",
      "</div>\n",
      "\n",
      "    </div>\n",
      "\n",
      "<div class=\"footer\">\n",
      "  <p class=\"friendly-links\">\n",
      "    关于猫眼 :\n",
      "    <a href=\"http://ir.maoyan.com/s/index.php#pageScroll0\" target=\"_blank\">关于我们</a>\n",
      "    <span></span>\n",
      "    <a href=\"http://ir.maoyan.com/s/index.php#pageScroll1\" target=\"_blank\">管理团队</a>\n",
      "    <span></span>\n",
      "    <a href=\"http://ir.maoyan.com/s/index.php#pageScroll2\" target=\"_blank\">投资者关系</a>\n",
      "    &nbsp;&nbsp;&nbsp;&nbsp;\n",
      "    友情链接 :\n",
      "    <a href=\"http://www.meituan.com\" data-query=\"utm_source=wwwmaoyan\" target=\"_blank\">美团网</a>\n",
      "    <span></span>\n",
      "    <a href=\"http://www.gewara.com\" data-query=\"utm_source=wwwmaoyan\">格瓦拉</a>\n",
      "    <span></span>\n",
      "    <a href=\"http://i.meituan.com/client\" data-query=\"utm_source=wwwmaoyan\" target=\"_blank\">美团下载</a>\n",
      "    <span></span>\n",
      "    <a href=\"https://www.huanxi.com\" data-query=\"utm_source=maoyan_pc\" target=\"_blank\">欢喜首映</a>\n",
      "  </p>\n",
      "  <p class=\"friendly-links\">\n",
      "    商务合作邮箱：v@maoyan.com\n",
      "    客服电话：10105335\n",
      "    违法和不良信息举报电话：4006018900\n",
      "  </p>\n",
      "  <p class=\"friendly-links\">\n",
      "    用户投诉邮箱：tousujubao@meituan.com\n",
      "    舞弊线索举报邮箱：wubijubao@maoyan.com\n",
      "  </p>\n",
      "  <p class=\"friendly-links  credentials\">\n",
      "    <a href=\"/about/licence/1\" target=\"_blank\">中华人民共和国增值电信业务经营许可证 京B2-20190350</a>\n",
      "    <span></span>\n",
      "    <a href=\"/about/licence/4\" target=\"_blank\">营业性演出许可证 京演（机构）（2019）4094号</a>\n",
      "  </p>\n",
      "  <p class=\"friendly-links  credentials\">\n",
      "    <a href=\"/about/licence/3\" target=\"_blank\">广播电视节目制作经营许可证 （京）字第08478号</a>\n",
      "    <span></span>\n",
      "    <a href=\"/about/licence/2\" target=\"_blank\">网络文化经营许可证 京网文（2019）3837-369号 </a>\n",
      "  </p>\n",
      "  <p class=\"friendly-links  credentials\">\n",
      "    <a href=\"/rules/agreement\" target=\"_blank\">猫眼用户服务协议 </a>\n",
      "    <span></span>\n",
      "    <a href=\"/rules/rule\" target=\"_blank\">猫眼平台交易规则总则 </a>\n",
      "    <span></span>\n",
      "    <a href=\"/rules/privacy\" target=\"_blank\">隐私政策 </a>\n",
      "  </p>\n",
      "  <p class=\"friendly-links  credentials\">\n",
      "    <a href=\"http://www.beian.gov.cn/portal/registerSystemInfo?recordcode=11010102003232\" target=\"_blank\">京公网安备\n",
      "      11010102003232号</a>\n",
      "  </p>\n",
      "  <p>北京猫眼文化传媒有限公司</p>\n",
      "  <p>\n",
      "    &copy;2016\n",
      "    猫眼电影 maoyan.com</p>\n",
      "  <div class=\"certificate\">\n",
      "    <a href=\"http://sq.ccm.gov.cn:80/ccnt/sczr/service/business/emark/toDetail/350CF8BCA8416C4FE0530140A8C0957E\"\n",
      "      target=\"_blank\">\n",
      "      <img src=\"http://p0.meituan.net/moviemachine/e54374ccf134d1f7b2c5b075a74fca525326.png\" />\n",
      "    </a>\n",
      "    <a href=\"/about/licence/5\" target=\"_blank\">\n",
      "      <img src=\"http://p1.meituan.net/moviemachine/805f605d5cf1b1a02a4e3a5e29df003b8376.png\" />\n",
      "    </a>\n",
      "  </div>\n",
      "</div>\n",
      "\n",
      "    <script crossorigin=\"anonymous\" src=\"//www.dpfile.com/app/owl/static/owl_1.7.11.js\"></script>\n",
      "    <script>\n",
      "      Owl.start({\n",
      "        project: 'com.sankuai.movie.fe.mywww', \n",
      "        pageUrl: location.href.split('?')[0].replace(/\\/\\d+/g, '/:id'),\n",
      "        devMode: false\n",
      "      })\n",
      "    </script>\n",
      "    <!--[if IE 8]><script crossorigin=\"anonymous\" src=\"//s3plus.meituan.net/v1/mss_e2821d7f0cfe4ac1bf9202ecf9590e67/cdn-prod/file:5788b470/es5-shim.bbad933f.js\"></script><![endif]-->\n",
      "    <!--[if IE 8]><script crossorigin=\"anonymous\" src=\"//s3plus.meituan.net/v1/mss_e2821d7f0cfe4ac1bf9202ecf9590e67/cdn-prod/file:5788b470/es5-sham.d6ea26f4.js\"></script><![endif]-->\n",
      "    <script crossorigin=\"anonymous\" src=\"//s3plus.meituan.net/v1/mss_e2821d7f0cfe4ac1bf9202ecf9590e67/cdn-prod/file:5788b470/common.9fc677f9.js\"></script>\n",
      "<script crossorigin=\"anonymous\" src=\"//s3plus.meituan.net/v1/mss_e2821d7f0cfe4ac1bf9202ecf9590e67/cdn-prod/file:5788b470/board-index.0cdf8e36.js\"></script>\n",
      "</body>\n",
      "</html>\n",
      "\n"
     ]
    }
   ],
   "source": [
    "import requests\n",
    "\n",
    "\n",
    "def get_one_page(url):\n",
    "    headers = {'user-agent': 'Mozilla/5.0 (Macintosh; Intel Mac OS X 10_13_2) AppleWebKit/537.36 (KHTML, like Gecko) Chrome/64.0.3282.119 Safari/537.36'}\n",
    "    response = requests.get(url, headers=headers)\n",
    "    if response.status_code == 200:\n",
    "        return response.text\n",
    "    return None\n",
    "\n",
    "\n",
    "def main():\n",
    "    url = 'https://maoyan.com/board/4'\n",
    "    html = get_one_page(url)\n",
    "    print(html)\n",
    "\n",
    "\n",
    "main()\n"
   ]
  },
  {
   "cell_type": "code",
   "execution_count": 23,
   "metadata": {},
   "outputs": [
    {
     "name": "stdout",
     "output_type": "stream",
     "text": [
      "<!DOCTYPE html>\n",
      "\n",
      "<!--[if IE 8]><html class=\"ie8\"><![endif]-->\n",
      "<!--[if IE 9]><html class=\"ie9\"><![endif]-->\n",
      "<!--[if gt IE 9]><!--><html><!--<![endif]-->\n",
      "<head>\n",
      "  <title>TOP100榜 - 猫眼电影 - 一网打尽好电影</title>\n",
      "  \n",
      "  <link rel=\"dns-prefetch\" href=\"//p0.meituan.net\"  />\n",
      "  <link rel=\"dns-prefetch\" href=\"//p1.meituan.net\"  />\n",
      "  <link rel=\"dns-prefetch\" href=\"//ms0.meituan.net\" />\n",
      "  <link rel=\"dns-prefetch\" href=\"//s0.meituan.net\" />\n",
      "  <link rel=\"dns-prefetch\" href=\"//ms1.meituan.net\" />\n",
      "  <link rel=\"dns-prefetch\" href=\"//analytics.meituan.com\" />\n",
      "  <link rel=\"dns-prefetch\" href=\"//report.meituan.com\" />\n",
      "  <link rel=\"dns-prefetch\" href=\"//frep.meituan.com\" />\n",
      "\n",
      "  \n",
      "  <meta charset=\"utf-8\">\n",
      "  <meta name=\"keywords\" content=\"猫眼电影,电影排行榜,热映口碑榜,最受期待榜,国内票房榜,北美票房榜,猫眼TOP100\">\n",
      "  <meta name=\"description\" content=\"猫眼电影热门榜单,包括热映口碑榜,最受期待榜,国内票房榜,北美票房榜,猫眼TOP100,多维度为用户进行选片决策\">\n",
      "  <meta http-equiv=\"cleartype\" content=\"yes\" />\n",
      "  <meta http-equiv=\"X-UA-Compatible\" content=\"IE=edge\" />\n",
      "  <meta name=\"renderer\" content=\"webkit\" />\n",
      "\n",
      "  <meta name=\"HandheldFriendly\" content=\"true\" />\n",
      "  <meta name=\"format-detection\" content=\"email=no\" />\n",
      "  <meta name=\"format-detection\" content=\"telephone=no\" />\n",
      "  <meta name=\"viewport\" content=\"width=device-width, initial-scale=1\">\n",
      "\n",
      "  \n",
      "  <script>\"use strict\";!function(){var i=0<arguments.length&&void 0!==arguments[0]?arguments[0]:\"_Owl_\",n=window;n[i]||(n[i]={isRunning:!1,isReady:!1,preTasks:[],dataSet:[],use:function(i,t){this.isReady&&n.Owl&&n.Owl[i](t),this.preTasks.push({api:i,data:[t]})},add:function(i){this.dataSet.push(i)},run:function(){var t=this;if(!this.isRunning){this.isRunning=!0;var i=n.onerror;n.onerror=function(){this.isReady||this.add({type:\"jsError\",data:arguments}),i&&i.apply(n,arguments)}.bind(this),(n.addEventListener||n.attachEvent)(\"error\",function(i){t.isReady||t.add({type:\"resError\",data:[i]})},!0)}}},n[i].run())}();</script>\n",
      "  <script>\n",
      "  cid = \"c_wx6zb55\";\n",
      "  ci = 30;\n",
      "val = {\"subnavId\":4};    window.system = {};\n",
      "\n",
      "  window.openPlatform = '';\n",
      "  window.openPlatformSub = '';\n",
      "  window.$mtsiFlag = '0';\n",
      "\n",
      "  </script>\n",
      "  <link rel=\"stylesheet\" href=\"//s3plus.meituan.net/v1/mss_e2821d7f0cfe4ac1bf9202ecf9590e67/cdn-prod/file:5788b470/common.0a548310.css\"/>\n",
      "<link rel=\"stylesheet\" href=\"//s3plus.meituan.net/v1/mss_e2821d7f0cfe4ac1bf9202ecf9590e67/cdn-prod/file:5788b470/board-index.92a06072.css\"/>\n",
      "  <script crossorigin=\"anonymous\" src=\"//s3plus.meituan.net/v1/mss_e2821d7f0cfe4ac1bf9202ecf9590e67/cdn-prod/file:5788b470/stat.88d57c80.js\"></script>\n",
      "  <script>if(window.devicePixelRatio >= 2) { document.write('<link rel=\"stylesheet\" href=\"//s3plus.meituan.net/v1/mss_e2821d7f0cfe4ac1bf9202ecf9590e67/cdn-prod/file:5788b470/image-2x.8ba7074d.css\"/>') }</script>\n",
      "  <style>\n",
      "    @font-face {\n",
      "      font-family: stonefont;\n",
      "      src: url('//vfile.meituan.net/colorstone/3bf4ecaa2a93babfb67e6a4e323a36173440.eot');\n",
      "      src: url('//vfile.meituan.net/colorstone/3bf4ecaa2a93babfb67e6a4e323a36173440.eot?#iefix') format('embedded-opentype'),\n",
      "           url('//vfile.meituan.net/colorstone/b06718d6fe44533f21e53601c0b4c1c82312.woff') format('woff');\n",
      "    }\n",
      "\n",
      "    .stonefont {\n",
      "      font-family: stonefont;\n",
      "    }\n",
      "  </style>\n",
      "  <script>\n",
      "  var _hmt = _hmt || [];\n",
      "  (function() {\n",
      "  var hm = document.createElement(\"script\");\n",
      "  hm.src = \"https://hm.baidu.com/hm.js?703e94591e87be68cc8da0da7cbd0be2\";\n",
      "  var s = document.getElementsByTagName(\"script\")[0]; \n",
      "  s.parentNode.insertBefore(hm, s);\n",
      "  })();\n",
      "  </script>\n",
      "</head>\n",
      "<body>\n",
      "\n",
      "\n",
      "<div class=\"header\">\n",
      "  <div class=\"header-inner\">\n",
      "        <a href=\"/\" class=\"logo\" data-act=\"icon-click\"></a>\n",
      "        <div class=\"city-container\" data-val=\"{currentcityid:30 }\">\n",
      "            <div class=\"city-selected\">\n",
      "                <div class=\"city-name\">\n",
      "                  深圳\n",
      "                  <span class=\"caret\"></span>\n",
      "                </div>\n",
      "            </div>\n",
      "            <div class=\"city-list\" data-val=\"{ localcityid: 30 }\">\n",
      "                <div class=\"city-list-header\">定位城市：<a class=\"js-geo-city\">深圳</a></div>\n",
      "                \n",
      "            </div>\n",
      "        </div>\n",
      "\n",
      "\n",
      "        <div class=\"nav\">\n",
      "            <ul class=\"navbar\">\n",
      "                <li><a href=\"/\" data-act=\"home-click\"  >首页</a></li>\n",
      "                <li><a href=\"/films\" data-act=\"movies-click\" >电影</a></li>\n",
      "                <li><a href=\"/cinemas\" data-act=\"cinemas-click\" >影院</a></li> \n",
      "                <li><a href=\"http://www.gewara.com\">演出</a></li>\n",
      "                \n",
      "                <li><a href=\"/board\" data-act=\"board-click\"  class=\"active\" >榜单</a></li>\n",
      "                <li><a href=\"/news\" data-act=\"hotNews-click\" >热点</a></li>\n",
      "                <li><a href=\"/edimall\"  >商城</a></li>\n",
      "            </ul>\n",
      "        </div>\n",
      "\n",
      "        <div class=\"user-info\">\n",
      "            <div class=\"user-avatar J-login\">\n",
      "              <img src=\"https://p0.meituan.net/movie/7dd82a16316ab32c8359debdb04396ef2897.png\">\n",
      "              <span class=\"caret\"></span>\n",
      "              <ul class=\"user-menu\">\n",
      "                <li><a href=\"javascript:void 0\">登录</a></li>\n",
      "              </ul>\n",
      "            </div>\n",
      "        </div>\n",
      "\n",
      "        <form action=\"/query\" target=\"_blank\" class=\"search-form\" data-actform=\"search-click\">\n",
      "            <input name=\"kw\" class=\"search\" type=\"search\" maxlength=\"32\" placeholder=\"找影视剧、影人、影院\" autocomplete=\"off\">\n",
      "            <input class=\"submit\" type=\"submit\" value=\"\">\n",
      "        </form>\n",
      "\n",
      "        <div class=\"app-download\">\n",
      "          <a href=\"/app\" target=\"_blank\">\n",
      "            <span class=\"iphone-icon\"></span>\n",
      "            <span class=\"apptext\">APP下载</span>\n",
      "            <span class=\"caret\"></span>\n",
      "            <div class=\"download-icon\">\n",
      "                <p class=\"down-title\">扫码下载APP</p>\n",
      "                <p class='down-content'>选座更优惠</p>\n",
      "            </div>\n",
      "          </a>\n",
      "        </div>\n",
      "    \n",
      "  </div>\n",
      "</div>\n",
      "<div class=\"header-placeholder\"></div>\n",
      "\n",
      "<div class=\"subnav\">\n",
      "  <ul class=\"navbar\">\n",
      "    <li>\n",
      "      <a data-act=\"subnav-click\" data-val=\"{subnavClick:7}\"\n",
      "          href=\"/board/7\"\n",
      "      >热映口碑榜</a>\n",
      "    </li>\n",
      "    <li>\n",
      "      <a data-act=\"subnav-click\" data-val=\"{subnavClick:6}\"\n",
      "          href=\"/board/6\"\n",
      "      >最受期待榜</a>\n",
      "    </li>\n",
      "    <li>\n",
      "      <a data-act=\"subnav-click\" data-val=\"{subnavClick:1}\"\n",
      "          href=\"/board/1\"\n",
      "      >国内票房榜</a>\n",
      "    </li>\n",
      "    <li>\n",
      "      <a data-act=\"subnav-click\" data-val=\"{subnavClick:2}\"\n",
      "          href=\"/board/2\"\n",
      "      >北美票房榜</a>\n",
      "    </li>\n",
      "    <li>\n",
      "      <a data-act=\"subnav-click\" data-val=\"{subnavClick:4}\"\n",
      "          data-state-val=\"{subnavId:4}\"\n",
      "          class=\"active\" href=\"javascript:void(0);\"\n",
      "      >TOP100榜</a>\n",
      "    </li>\n",
      "  </ul>\n",
      "</div>\n",
      "\n",
      "\n",
      "    <div class=\"container\" id=\"app\" class=\"page-board/index\" >\n",
      "\n",
      "<div class=\"content\">\n",
      "    <div class=\"wrapper\">\n",
      "        <div class=\"main\">\n",
      "            <p class=\"update-time\">2019-11-30<span class=\"has-fresh-text\">已更新</span></p>\n",
      "            <p class=\"board-content\">榜单规则：将猫眼电影库中的经典影片，按照评分和评分人数从高到低综合排序取前100名，每天上午10点更新。相关数据来源于“猫眼电影库”。</p>\n",
      "            <dl class=\"board-wrapper\">\n",
      "                <dd>\n",
      "                        <i class=\"board-index board-index-1\">1</i>\n",
      "    <a href=\"/films/1203\" title=\"霸王别姬\" class=\"image-link\" data-act=\"boarditem-click\" data-val=\"{movieId:1203}\">\n",
      "      <img src=\"//s3plus.meituan.net/v1/mss_e2821d7f0cfe4ac1bf9202ecf9590e67/cdn-prod/file:5788b470/image/loading_2.e3d934bf.png\" alt=\"\" class=\"poster-default\" />\n",
      "      <img data-src=\"https://p1.meituan.net/movie/20803f59291c47e1e116c11963ce019e68711.jpg@160w_220h_1e_1c\" alt=\"霸王别姬\" class=\"board-img\" />\n",
      "    </a>\n",
      "    <div class=\"board-item-main\">\n",
      "      <div class=\"board-item-content\">\n",
      "              <div class=\"movie-item-info\">\n",
      "        <p class=\"name\"><a href=\"/films/1203\" title=\"霸王别姬\" data-act=\"boarditem-click\" data-val=\"{movieId:1203}\">霸王别姬</a></p>\n",
      "        <p class=\"star\">\n",
      "                主演：张国荣,张丰毅,巩俐\n",
      "        </p>\n",
      "<p class=\"releasetime\">上映时间：1993-07-26</p>    </div>\n",
      "    <div class=\"movie-item-number score-num\">\n",
      "<p class=\"score\"><i class=\"integer\">9.</i><i class=\"fraction\">5</i></p>        \n",
      "    </div>\n",
      "\n",
      "      </div>\n",
      "    </div>\n",
      "\n",
      "                </dd>\n",
      "                <dd>\n",
      "                        <i class=\"board-index board-index-2\">2</i>\n",
      "    <a href=\"/films/1297\" title=\"肖申克的救赎\" class=\"image-link\" data-act=\"boarditem-click\" data-val=\"{movieId:1297}\">\n",
      "      <img src=\"//s3plus.meituan.net/v1/mss_e2821d7f0cfe4ac1bf9202ecf9590e67/cdn-prod/file:5788b470/image/loading_2.e3d934bf.png\" alt=\"\" class=\"poster-default\" />\n",
      "      <img data-src=\"https://p0.meituan.net/movie/283292171619cdfd5b240c8fd093f1eb255670.jpg@160w_220h_1e_1c\" alt=\"肖申克的救赎\" class=\"board-img\" />\n",
      "    </a>\n",
      "    <div class=\"board-item-main\">\n",
      "      <div class=\"board-item-content\">\n",
      "              <div class=\"movie-item-info\">\n",
      "        <p class=\"name\"><a href=\"/films/1297\" title=\"肖申克的救赎\" data-act=\"boarditem-click\" data-val=\"{movieId:1297}\">肖申克的救赎</a></p>\n",
      "        <p class=\"star\">\n",
      "                主演：蒂姆·罗宾斯,摩根·弗里曼,鲍勃·冈顿\n",
      "        </p>\n",
      "<p class=\"releasetime\">上映时间：1994-09-10(加拿大)</p>    </div>\n",
      "    <div class=\"movie-item-number score-num\">\n",
      "<p class=\"score\"><i class=\"integer\">9.</i><i class=\"fraction\">5</i></p>        \n",
      "    </div>\n",
      "\n",
      "      </div>\n",
      "    </div>\n",
      "\n",
      "                </dd>\n",
      "                <dd>\n",
      "                        <i class=\"board-index board-index-3\">3</i>\n",
      "    <a href=\"/films/2641\" title=\"罗马假日\" class=\"image-link\" data-act=\"boarditem-click\" data-val=\"{movieId:2641}\">\n",
      "      <img src=\"//s3plus.meituan.net/v1/mss_e2821d7f0cfe4ac1bf9202ecf9590e67/cdn-prod/file:5788b470/image/loading_2.e3d934bf.png\" alt=\"\" class=\"poster-default\" />\n",
      "      <img data-src=\"https://p0.meituan.net/movie/289f98ceaa8a0ae737d3dc01cd05ab052213631.jpg@160w_220h_1e_1c\" alt=\"罗马假日\" class=\"board-img\" />\n",
      "    </a>\n",
      "    <div class=\"board-item-main\">\n",
      "      <div class=\"board-item-content\">\n",
      "              <div class=\"movie-item-info\">\n",
      "        <p class=\"name\"><a href=\"/films/2641\" title=\"罗马假日\" data-act=\"boarditem-click\" data-val=\"{movieId:2641}\">罗马假日</a></p>\n",
      "        <p class=\"star\">\n",
      "                主演：格利高里·派克,奥黛丽·赫本,埃迪·艾伯特\n",
      "        </p>\n",
      "<p class=\"releasetime\">上映时间：1953-09-02(美国)</p>    </div>\n",
      "    <div class=\"movie-item-number score-num\">\n",
      "<p class=\"score\"><i class=\"integer\">9.</i><i class=\"fraction\">1</i></p>        \n",
      "    </div>\n",
      "\n",
      "      </div>\n",
      "    </div>\n",
      "\n",
      "                </dd>\n",
      "                <dd>\n",
      "                        <i class=\"board-index board-index-4\">4</i>\n",
      "    <a href=\"/films/4055\" title=\"这个杀手不太冷\" class=\"image-link\" data-act=\"boarditem-click\" data-val=\"{movieId:4055}\">\n",
      "      <img src=\"//s3plus.meituan.net/v1/mss_e2821d7f0cfe4ac1bf9202ecf9590e67/cdn-prod/file:5788b470/image/loading_2.e3d934bf.png\" alt=\"\" class=\"poster-default\" />\n",
      "      <img data-src=\"https://p1.meituan.net/movie/6bea9af4524dfbd0b668eaa7e187c3df767253.jpg@160w_220h_1e_1c\" alt=\"这个杀手不太冷\" class=\"board-img\" />\n",
      "    </a>\n",
      "    <div class=\"board-item-main\">\n",
      "      <div class=\"board-item-content\">\n",
      "              <div class=\"movie-item-info\">\n",
      "        <p class=\"name\"><a href=\"/films/4055\" title=\"这个杀手不太冷\" data-act=\"boarditem-click\" data-val=\"{movieId:4055}\">这个杀手不太冷</a></p>\n",
      "        <p class=\"star\">\n",
      "                主演：让·雷诺,加里·奥德曼,娜塔莉·波特曼\n",
      "        </p>\n",
      "<p class=\"releasetime\">上映时间：1994-09-14(法国)</p>    </div>\n",
      "    <div class=\"movie-item-number score-num\">\n",
      "<p class=\"score\"><i class=\"integer\">9.</i><i class=\"fraction\">5</i></p>        \n",
      "    </div>\n",
      "\n",
      "      </div>\n",
      "    </div>\n",
      "\n",
      "                </dd>\n",
      "                <dd>\n",
      "                        <i class=\"board-index board-index-5\">5</i>\n",
      "    <a href=\"/films/267\" title=\"泰坦尼克号\" class=\"image-link\" data-act=\"boarditem-click\" data-val=\"{movieId:267}\">\n",
      "      <img src=\"//s3plus.meituan.net/v1/mss_e2821d7f0cfe4ac1bf9202ecf9590e67/cdn-prod/file:5788b470/image/loading_2.e3d934bf.png\" alt=\"\" class=\"poster-default\" />\n",
      "      <img data-src=\"https://p1.meituan.net/movie/b607fba7513e7f15eab170aac1e1400d878112.jpg@160w_220h_1e_1c\" alt=\"泰坦尼克号\" class=\"board-img\" />\n",
      "    </a>\n",
      "    <div class=\"board-item-main\">\n",
      "      <div class=\"board-item-content\">\n",
      "              <div class=\"movie-item-info\">\n",
      "        <p class=\"name\"><a href=\"/films/267\" title=\"泰坦尼克号\" data-act=\"boarditem-click\" data-val=\"{movieId:267}\">泰坦尼克号</a></p>\n",
      "        <p class=\"star\">\n",
      "                主演：莱昂纳多·迪卡普里奥,凯特·温丝莱特,比利·赞恩\n",
      "        </p>\n",
      "<p class=\"releasetime\">上映时间：1998-04-03</p>    </div>\n",
      "    <div class=\"movie-item-number score-num\">\n",
      "<p class=\"score\"><i class=\"integer\">9.</i><i class=\"fraction\">5</i></p>        \n",
      "    </div>\n",
      "\n",
      "      </div>\n",
      "    </div>\n",
      "\n",
      "                </dd>\n",
      "                <dd>\n",
      "                        <i class=\"board-index board-index-6\">6</i>\n",
      "    <a href=\"/films/837\" title=\"唐伯虎点秋香\" class=\"image-link\" data-act=\"boarditem-click\" data-val=\"{movieId:837}\">\n",
      "      <img src=\"//s3plus.meituan.net/v1/mss_e2821d7f0cfe4ac1bf9202ecf9590e67/cdn-prod/file:5788b470/image/loading_2.e3d934bf.png\" alt=\"\" class=\"poster-default\" />\n",
      "      <img data-src=\"https://p0.meituan.net/movie/da64660f82b98cdc1b8a3804e69609e041108.jpg@160w_220h_1e_1c\" alt=\"唐伯虎点秋香\" class=\"board-img\" />\n",
      "    </a>\n",
      "    <div class=\"board-item-main\">\n",
      "      <div class=\"board-item-content\">\n",
      "              <div class=\"movie-item-info\">\n",
      "        <p class=\"name\"><a href=\"/films/837\" title=\"唐伯虎点秋香\" data-act=\"boarditem-click\" data-val=\"{movieId:837}\">唐伯虎点秋香</a></p>\n",
      "        <p class=\"star\">\n",
      "                主演：周星驰,巩俐,郑佩佩\n",
      "        </p>\n",
      "<p class=\"releasetime\">上映时间：1993-07-01(中国香港)</p>    </div>\n",
      "    <div class=\"movie-item-number score-num\">\n",
      "<p class=\"score\"><i class=\"integer\">9.</i><i class=\"fraction\">1</i></p>        \n",
      "    </div>\n",
      "\n",
      "      </div>\n",
      "    </div>\n",
      "\n",
      "                </dd>\n",
      "                <dd>\n",
      "                        <i class=\"board-index board-index-7\">7</i>\n",
      "    <a href=\"/films/7431\" title=\"乱世佳人\" class=\"image-link\" data-act=\"boarditem-click\" data-val=\"{movieId:7431}\">\n",
      "      <img src=\"//s3plus.meituan.net/v1/mss_e2821d7f0cfe4ac1bf9202ecf9590e67/cdn-prod/file:5788b470/image/loading_2.e3d934bf.png\" alt=\"\" class=\"poster-default\" />\n",
      "      <img data-src=\"https://p0.meituan.net/movie/223c3e186db3ab4ea3bb14508c709400427933.jpg@160w_220h_1e_1c\" alt=\"乱世佳人\" class=\"board-img\" />\n",
      "    </a>\n",
      "    <div class=\"board-item-main\">\n",
      "      <div class=\"board-item-content\">\n",
      "              <div class=\"movie-item-info\">\n",
      "        <p class=\"name\"><a href=\"/films/7431\" title=\"乱世佳人\" data-act=\"boarditem-click\" data-val=\"{movieId:7431}\">乱世佳人</a></p>\n",
      "        <p class=\"star\">\n",
      "                主演：费雯·丽,克拉克·盖博,奥利维娅·德哈维兰\n",
      "        </p>\n",
      "<p class=\"releasetime\">上映时间：1939-12-15(美国)</p>    </div>\n",
      "    <div class=\"movie-item-number score-num\">\n",
      "<p class=\"score\"><i class=\"integer\">9.</i><i class=\"fraction\">1</i></p>        \n",
      "    </div>\n",
      "\n",
      "      </div>\n",
      "    </div>\n",
      "\n",
      "                </dd>\n",
      "                <dd>\n",
      "                        <i class=\"board-index board-index-8\">8</i>\n",
      "    <a href=\"/films/2760\" title=\"魂断蓝桥\" class=\"image-link\" data-act=\"boarditem-click\" data-val=\"{movieId:2760}\">\n",
      "      <img src=\"//s3plus.meituan.net/v1/mss_e2821d7f0cfe4ac1bf9202ecf9590e67/cdn-prod/file:5788b470/image/loading_2.e3d934bf.png\" alt=\"\" class=\"poster-default\" />\n",
      "      <img data-src=\"https://p0.meituan.net/movie/46c29a8b8d8424bdda7715e6fd779c66235684.jpg@160w_220h_1e_1c\" alt=\"魂断蓝桥\" class=\"board-img\" />\n",
      "    </a>\n",
      "    <div class=\"board-item-main\">\n",
      "      <div class=\"board-item-content\">\n",
      "              <div class=\"movie-item-info\">\n",
      "        <p class=\"name\"><a href=\"/films/2760\" title=\"魂断蓝桥\" data-act=\"boarditem-click\" data-val=\"{movieId:2760}\">魂断蓝桥</a></p>\n",
      "        <p class=\"star\">\n",
      "                主演：费雯·丽,罗伯特·泰勒,露塞尔·沃特森\n",
      "        </p>\n",
      "<p class=\"releasetime\">上映时间：1940-05-17(美国)</p>    </div>\n",
      "    <div class=\"movie-item-number score-num\">\n",
      "<p class=\"score\"><i class=\"integer\">9.</i><i class=\"fraction\">2</i></p>        \n",
      "    </div>\n",
      "\n",
      "      </div>\n",
      "    </div>\n",
      "\n",
      "                </dd>\n",
      "                <dd>\n",
      "                        <i class=\"board-index board-index-9\">9</i>\n",
      "    <a href=\"/films/1228\" title=\"天空之城\" class=\"image-link\" data-act=\"boarditem-click\" data-val=\"{movieId:1228}\">\n",
      "      <img src=\"//s3plus.meituan.net/v1/mss_e2821d7f0cfe4ac1bf9202ecf9590e67/cdn-prod/file:5788b470/image/loading_2.e3d934bf.png\" alt=\"\" class=\"poster-default\" />\n",
      "      <img data-src=\"https://p1.meituan.net/movie/ba1ed511668402605ed369350ab779d6319397.jpg@160w_220h_1e_1c\" alt=\"天空之城\" class=\"board-img\" />\n",
      "    </a>\n",
      "    <div class=\"board-item-main\">\n",
      "      <div class=\"board-item-content\">\n",
      "              <div class=\"movie-item-info\">\n",
      "        <p class=\"name\"><a href=\"/films/1228\" title=\"天空之城\" data-act=\"boarditem-click\" data-val=\"{movieId:1228}\">天空之城</a></p>\n",
      "        <p class=\"star\">\n",
      "                主演：寺田农,鹫尾真知子,龟山助清\n",
      "        </p>\n",
      "<p class=\"releasetime\">上映时间：1992-05-01</p>    </div>\n",
      "    <div class=\"movie-item-number score-num\">\n",
      "<p class=\"score\"><i class=\"integer\">9.</i><i class=\"fraction\">0</i></p>        \n",
      "    </div>\n",
      "\n",
      "      </div>\n",
      "    </div>\n",
      "\n",
      "                </dd>\n",
      "                <dd>\n",
      "                        <i class=\"board-index board-index-10\">10</i>\n",
      "    <a href=\"/films/3667\" title=\"辛德勒的名单\" class=\"image-link\" data-act=\"boarditem-click\" data-val=\"{movieId:3667}\">\n",
      "      <img src=\"//s3plus.meituan.net/v1/mss_e2821d7f0cfe4ac1bf9202ecf9590e67/cdn-prod/file:5788b470/image/loading_2.e3d934bf.png\" alt=\"\" class=\"poster-default\" />\n",
      "      <img data-src=\"https://p0.meituan.net/movie/b0d986a8bf89278afbb19f6abaef70f31206570.jpg@160w_220h_1e_1c\" alt=\"辛德勒的名单\" class=\"board-img\" />\n",
      "    </a>\n",
      "    <div class=\"board-item-main\">\n",
      "      <div class=\"board-item-content\">\n",
      "              <div class=\"movie-item-info\">\n",
      "        <p class=\"name\"><a href=\"/films/3667\" title=\"辛德勒的名单\" data-act=\"boarditem-click\" data-val=\"{movieId:3667}\">辛德勒的名单</a></p>\n",
      "        <p class=\"star\">\n",
      "                主演：连姆·尼森,拉尔夫·费因斯,本·金斯利\n",
      "        </p>\n",
      "<p class=\"releasetime\">上映时间：1993-12-15(美国)</p>    </div>\n",
      "    <div class=\"movie-item-number score-num\">\n",
      "<p class=\"score\"><i class=\"integer\">9.</i><i class=\"fraction\">2</i></p>        \n",
      "    </div>\n",
      "\n",
      "      </div>\n",
      "    </div>\n",
      "\n",
      "                </dd>\n",
      "            </dl>\n",
      "\n",
      "        </div>\n",
      "            <div class=\"pager-main\">\n",
      "                \n",
      "  \n",
      "  <ul class=\"list-pager\">\n",
      "\n",
      "\n",
      "\n",
      "  \n",
      "      <li class=\"active\">\n",
      "    <a class=\"page_1\"\n",
      "      href=\"javascript:void(0);\" style=\"cursor: default\"\n",
      "  >1</a>\n",
      "\n",
      "</li>\n",
      "  <li >\n",
      "    <a class=\"page_2\"\n",
      "      href=\"?offset=10\"\n",
      "  >2</a>\n",
      "\n",
      "</li>\n",
      "  <li >\n",
      "    <a class=\"page_3\"\n",
      "      href=\"?offset=20\"\n",
      "  >3</a>\n",
      "\n",
      "</li>\n",
      "  <li >\n",
      "    <a class=\"page_4\"\n",
      "      href=\"?offset=30\"\n",
      "  >4</a>\n",
      "\n",
      "</li>\n",
      "  <li >\n",
      "    <a class=\"page_5\"\n",
      "      href=\"?offset=40\"\n",
      "  >5</a>\n",
      "\n",
      "</li>\n",
      "\n",
      "    <li class=\"sep\">...</li>\n",
      "      <li >\n",
      "    <a class=\"page_10\"\n",
      "      href=\"?offset=90\"\n",
      "  >10</a>\n",
      "\n",
      "</li>\n",
      "\n",
      "  \n",
      "\n",
      "<li>  <a class=\"page_2\"\n",
      "      href=\"?offset=10\"\n",
      "  >下一页</a>\n",
      "</li>\n",
      "</ul>\n",
      "\n",
      "\n",
      "            </div>\n",
      "    </div>\n",
      "</div>\n",
      "\n",
      "    </div>\n",
      "\n",
      "<div class=\"footer\">\n",
      "  <p class=\"friendly-links\">\n",
      "    关于猫眼 :\n",
      "    <a href=\"http://ir.maoyan.com/s/index.php#pageScroll0\" target=\"_blank\">关于我们</a>\n",
      "    <span></span>\n",
      "    <a href=\"http://ir.maoyan.com/s/index.php#pageScroll1\" target=\"_blank\">管理团队</a>\n",
      "    <span></span>\n",
      "    <a href=\"http://ir.maoyan.com/s/index.php#pageScroll2\" target=\"_blank\">投资者关系</a>\n",
      "    &nbsp;&nbsp;&nbsp;&nbsp;\n",
      "    友情链接 :\n",
      "    <a href=\"http://www.meituan.com\" data-query=\"utm_source=wwwmaoyan\" target=\"_blank\">美团网</a>\n",
      "    <span></span>\n",
      "    <a href=\"http://www.gewara.com\" data-query=\"utm_source=wwwmaoyan\">格瓦拉</a>\n",
      "    <span></span>\n",
      "    <a href=\"http://i.meituan.com/client\" data-query=\"utm_source=wwwmaoyan\" target=\"_blank\">美团下载</a>\n",
      "    <span></span>\n",
      "    <a href=\"https://www.huanxi.com\" data-query=\"utm_source=maoyan_pc\" target=\"_blank\">欢喜首映</a>\n",
      "  </p>\n",
      "  <p class=\"friendly-links\">\n",
      "    商务合作邮箱：v@maoyan.com\n",
      "    客服电话：10105335\n",
      "    违法和不良信息举报电话：4006018900\n",
      "  </p>\n",
      "  <p class=\"friendly-links\">\n",
      "    用户投诉邮箱：tousujubao@meituan.com\n",
      "    舞弊线索举报邮箱：wubijubao@maoyan.com\n",
      "  </p>\n",
      "  <p class=\"friendly-links  credentials\">\n",
      "    <a href=\"/about/licence/1\" target=\"_blank\">中华人民共和国增值电信业务经营许可证 京B2-20190350</a>\n",
      "    <span></span>\n",
      "    <a href=\"/about/licence/4\" target=\"_blank\">营业性演出许可证 京演（机构）（2019）4094号</a>\n",
      "  </p>\n",
      "  <p class=\"friendly-links  credentials\">\n",
      "    <a href=\"/about/licence/3\" target=\"_blank\">广播电视节目制作经营许可证 （京）字第08478号</a>\n",
      "    <span></span>\n",
      "    <a href=\"/about/licence/2\" target=\"_blank\">网络文化经营许可证 京网文（2019）3837-369号 </a>\n",
      "  </p>\n",
      "  <p class=\"friendly-links  credentials\">\n",
      "    <a href=\"/rules/agreement\" target=\"_blank\">猫眼用户服务协议 </a>\n",
      "    <span></span>\n",
      "    <a href=\"/rules/rule\" target=\"_blank\">猫眼平台交易规则总则 </a>\n",
      "    <span></span>\n",
      "    <a href=\"/rules/privacy\" target=\"_blank\">隐私政策 </a>\n",
      "  </p>\n",
      "  <p class=\"friendly-links  credentials\">\n",
      "    <a href=\"http://www.beian.gov.cn/portal/registerSystemInfo?recordcode=11010102003232\" target=\"_blank\">京公网安备\n",
      "      11010102003232号</a>\n",
      "  </p>\n",
      "  <p>北京猫眼文化传媒有限公司</p>\n",
      "  <p>\n",
      "    &copy;2016\n",
      "    猫眼电影 maoyan.com</p>\n",
      "  <div class=\"certificate\">\n",
      "    <a href=\"http://sq.ccm.gov.cn:80/ccnt/sczr/service/business/emark/toDetail/350CF8BCA8416C4FE0530140A8C0957E\"\n",
      "      target=\"_blank\">\n",
      "      <img src=\"http://p0.meituan.net/moviemachine/e54374ccf134d1f7b2c5b075a74fca525326.png\" />\n",
      "    </a>\n",
      "    <a href=\"/about/licence/5\" target=\"_blank\">\n",
      "      <img src=\"http://p1.meituan.net/moviemachine/805f605d5cf1b1a02a4e3a5e29df003b8376.png\" />\n",
      "    </a>\n",
      "  </div>\n",
      "</div>\n",
      "\n",
      "    <script crossorigin=\"anonymous\" src=\"//www.dpfile.com/app/owl/static/owl_1.7.11.js\"></script>\n",
      "    <script>\n",
      "      Owl.start({\n",
      "        project: 'com.sankuai.movie.fe.mywww', \n",
      "        pageUrl: location.href.split('?')[0].replace(/\\/\\d+/g, '/:id'),\n",
      "        devMode: false\n",
      "      })\n",
      "    </script>\n",
      "    <!--[if IE 8]><script crossorigin=\"anonymous\" src=\"//s3plus.meituan.net/v1/mss_e2821d7f0cfe4ac1bf9202ecf9590e67/cdn-prod/file:5788b470/es5-shim.bbad933f.js\"></script><![endif]-->\n",
      "    <!--[if IE 8]><script crossorigin=\"anonymous\" src=\"//s3plus.meituan.net/v1/mss_e2821d7f0cfe4ac1bf9202ecf9590e67/cdn-prod/file:5788b470/es5-sham.d6ea26f4.js\"></script><![endif]-->\n",
      "    <script crossorigin=\"anonymous\" src=\"//s3plus.meituan.net/v1/mss_e2821d7f0cfe4ac1bf9202ecf9590e67/cdn-prod/file:5788b470/common.9fc677f9.js\"></script>\n",
      "<script crossorigin=\"anonymous\" src=\"//s3plus.meituan.net/v1/mss_e2821d7f0cfe4ac1bf9202ecf9590e67/cdn-prod/file:5788b470/board-index.0cdf8e36.js\"></script>\n",
      "</body>\n",
      "</html>\n",
      "\n"
     ]
    }
   ],
   "source": [
    "import requests\n",
    "\n",
    "\n",
    "def get_one_page(url):\n",
    "    headers = {'User-Agent': 'Mozilla/5.0 (Macintosh; Intel Mac OS X 10_13_2) AppleWebKit/537.36 (KHTML, like Gecko) Chrome/76.0.3809.110 Safari/537.36 Vivaldi/2.7.1628.30'}\n",
    "    response = requests.get(url, headers=headers)\n",
    "    if response.status_code == 200:\n",
    "        return response.text\n",
    "    return None\n",
    "\n",
    "\n",
    "def main():\n",
    "    url = 'https://maoyan.com/board/4'\n",
    "    html = get_one_page(url)\n",
    "    print(html)\n",
    "\n",
    "\n",
    "main()\n"
   ]
  },
  {
   "cell_type": "code",
   "execution_count": 24,
   "metadata": {},
   "outputs": [
    {
     "name": "stdout",
     "output_type": "stream",
     "text": [
      "<!DOCTYPE html>\n",
      "<html><head>    <meta charset=\"utf-8\">\n",
      "    <meta content=\"width=device-width, initial-scale=1.0, maximum-scale=1.0, user-scalable=no\" name=\"viewport\" />\n",
      "    <meta name=\"renderer\" content=\"webkit\" />\n",
      "    <meta http-equiv=\"X-UA-Compatible\" content=\"IE=edge\" />\n",
      "    <style>\n",
      "        .container {\n",
      "            width: 998px;\n",
      "            margin: 0 auto;\n",
      "        }\n",
      "        .header {\n",
      "            height: 70px;\n",
      "            font-size: 28px;\n",
      "            color: #999999;\n",
      "            border-bottom: 3px solid #1db9aa;\n",
      "            overflow: hidden;\n",
      "            display: none;\n",
      "        }\n",
      "        .logo {\n",
      "            margin-top: 8px;\n",
      "            margin-left: 1px;\n",
      "            height: 54px;\n",
      "            line-height: 54px;\n",
      "            padding-left: 102px;\n",
      "            background: url('data:image/png;base64,iVBORw0KGgoAAAANSUhEUgAAAKQAAABsCAYAAADkDhmYAAAAGXRFWHRTb2Z0d2FyZQBBZG9iZSBJbWFnZVJlYWR5ccllPAAAAyNpVFh0WE1MOmNvbS5hZG9iZS54bXAAAAAAADw/eHBhY2tldCBiZWdpbj0i77u/IiBpZD0iVzVNME1wQ2VoaUh6cmVTek5UY3prYzlkIj8+IDx4OnhtcG1ldGEgeG1sbnM6eD0iYWRvYmU6bnM6bWV0YS8iIHg6eG1wdGs9IkFkb2JlIFhNUCBDb3JlIDUuNS1jMDE0IDc5LjE1MTQ4MSwgMjAxMy8wMy8xMy0xMjowOToxNSAgICAgICAgIj4gPHJkZjpSREYgeG1sbnM6cmRmPSJodHRwOi8vd3d3LnczLm9yZy8xOTk5LzAyLzIyLXJkZi1zeW50YXgtbnMjIj4gPHJkZjpEZXNjcmlwdGlvbiByZGY6YWJvdXQ9IiIgeG1sbnM6eG1wPSJodHRwOi8vbnMuYWRvYmUuY29tL3hhcC8xLjAvIiB4bWxuczp4bXBNTT0iaHR0cDovL25zLmFkb2JlLmNvbS94YXAvMS4wL21tLyIgeG1sbnM6c3RSZWY9Imh0dHA6Ly9ucy5hZG9iZS5jb20veGFwLzEuMC9zVHlwZS9SZXNvdXJjZVJlZiMiIHhtcDpDcmVhdG9yVG9vbD0iQWRvYmUgUGhvdG9zaG9wIENDIChNYWNpbnRvc2gpIiB4bXBNTTpJbnN0YW5jZUlEPSJ4bXAuaWlkOjBGOUZERDdGOTRGNjExRTRCQjVBQzQ5MTE0QTk4OEMxIiB4bXBNTTpEb2N1bWVudElEPSJ4bXAuZGlkOjBGOUZERDgwOTRGNjExRTRCQjVBQzQ5MTE0QTk4OEMxIj4gPHhtcE1NOkRlcml2ZWRGcm9tIHN0UmVmOmluc3RhbmNlSUQ9InhtcC5paWQ6MEY5RkREN0Q5NEY2MTFFNEJCNUFDNDkxMTRBOTg4QzEiIHN0UmVmOmRvY3VtZW50SUQ9InhtcC5kaWQ6MEY5RkREN0U5NEY2MTFFNEJCNUFDNDkxMTRBOTg4QzEiLz4gPC9yZGY6RGVzY3JpcHRpb24+IDwvcmRmOlJERj4gPC94OnhtcG1ldGE+IDw/eHBhY2tldCBlbmQ9InIiPz5O28L1AAAPm0lEQVR42uxdB7gVxRU+F7AAIrz3sGDEAnbQWIMVEcVegy0CJjGGiGKLJKIiiprYW2KJxqDGWGMQJSqiSEBjQlSiQEDFAiICBkXAKIgPnD/7r4zL7r2z7+3du3vf+b/vfCzvzu5O+ffMmTMzZwpdRj8ijcDaRqYa6Rzx+2wjDxu52sgCSRetjZxnpK+RLSPSfGJkGyP/FUUm0KyR9y81cnaR3zsaGWRkspHtUyzXxkYmGRlWhIzAECVjdRESeNLI4yXSdGC6dVMoUwsjTxjZqkS6V4zcmWJdr1QpLc0SquxzjXxRIg205SUpNPzpRnYqkWaFkYFG6lUnVZ+GBN4zcqVDurOMdC1jeTY0crlDuuFGJmrzVy8hgWuNzHDoTm81UihTea51MAs+NjJYm776CYkBzjkO6bob+UEZyrKPkT4O6YaQlIoqJyTwlJGRDumuT3iAA817m4PmTXsgo6gwIf0BzucOtt6wBN95poNtuoIDnhXa7E2LkDMdBzgY5Sbhm4RL6VKHdHcZeVmbPNsoWDM1K7U6YqGdkUUx0mv9OtpeimxguaP9nWccZqSVEjIfgN19fJWXcZaRTdK2IRUK7bIViQJekCNLpMF6gXlKSEUa2MLIHSXSTCsHIbXLVmQKSkhFZm3I2grnBVOJMx3SLTayWQbqbrHSp7yEXFjhvLhO6a3MQF4V2mUrlJAKhRJSoYRUKDI4qAkbPGQRbSuUt0KK79pavMXOlcLaDmmw336pQ7oTxFsY3WhCKiqHNY10yngeN0qQ3NplK9SGVCiUkAolpEKhhFQoIRWKxFHM7VNIOS/wL37qkA47/dpVebsgbmWaAQ2w0uvYmPe4rhiflxQhFZXDHCM/S+ldCDbbECc84ii9qF22Ikl0M/KSlI6lqTakouw42sg4I+tnzYbMW0SFthnLcyGHZESczhuMNNdRtqLS7X2jkZuzSEYd1DQttDRyn5HeWc6kErJpoL14bpo9sp5RJWT1A5v+n+a/ubApFNULaMR/xCRjRWOwq4asXvSmzdgyxj3vGDnEyAaqIRVJAocPPBKTjBOpUWdUMuPQkAVtv6oBXDnwL54V877HxDvB4otKF0A1ZPUA2vDRBpARPsnjskDGrNmQHfmllsKrkt7Cg7wA039w63SLcQ9C1/ychMwMskRIBMncxSHdPOXft4CFEVit0znGPdCGOLZ5RNYKkyVCto9RmQoPe4l3Em9djHtwHDOi4/4ziwXKkg25bYwKVXh233MxyYgR9J5ZJWPWCOl6iNIs5aIMEi9yRJxN+C+RjG9nuWBZIuSOSsiSgFvnFvFWa8dx1/3FyP5GFmS9gHlcD/kgJStIy4/b2sgDUvp0hCDgl/yF5OSMR506zA/ujUnGevEOQv1tngqphMwP4swv41QwzLzk7qg6JWT14SMjRxj5Vx4zr4SsLrwl3mqdd/NaAJ3Lrh5gj/QeeSajErJ6gKVmvcSLeCFKSEUlcZ2RE8UtvHIuCFmokDydUBmwsHStCpajUoBb5wzxfIxJ+5K7NLVBzRk0vpMAllwNN9JP8ufkbyj+R634V8f0Vxg52DEtZoO2b0qE7Cne7EGSgM9ttpELmgAZsfwODvKXY9yzubgt7WtyNuTu4i2XWtMx/TJxP+RyMDVBNWO6eAskXq7WAqZJyAONPGNknRj3XGPkJzG64ovEmyprXoVtNUG89Y/vZSQ/y/NKSBj+2AX3pHhHEMcZrEDjYZ/IlTHuG8h31VUZIfGxZeUUXIzop+aRkJtQK94Y016FPw0nQH3J/w8xcn+M+w8yMiWGIa+Ihwc4sMoNIbEdAf4xTGX1inkvtihgNbS97hFd9ilGxsZ4TgfxXEvYN7KFcigxYIHv+XmwIQs0uO/miPc88fyDcVBPd8bzIb99ydHl+JjPPIaDgYdpgykaDnzg+0oZF/oWuox+pLEk3J0aDUHTOzbiWSBcH9qMxdBKvGVVvRr4HuwrwQLfh0jUtFBqYFbOYP5Y/bNdI+7HYQR/T8Bu/MDId5ImJCL270f77JBSL3DEEmoy1y4ZbqPhJHBjMNnIKPH2NOPE0hVVSsgsYF1q1jWKJXIZaGBg0o3dMWSXhN0qU6lh34ipTfvxnmGNMD12oGAEC4fzOJoL46XCMW6qDGifm0qR0deQW5K9NeKtSt5UPM8+NqB3pUYsF+6mm+bzRjzjMD5nvYTz9jG15mvs2t808r6RudKwKcqVDh/ZPVVIRiivPVxNBhCyEvO/aNjTxfMXJoGNSMoDU8r/QnbvzWJ8sE1lnj0zo2wXfCaeT3GbBMkIfEib9hRJx3mM3qSO/yqSw1dpERKjtF/TFPiVlCccykpqSZgat6Fw2r65w+xyExI2WH/x3EEXSTob1fEOLG/Dmj5EkK3Xds4Nni2HDYldb4iUcJeRSRkoZCfxYib+WOLNpbvCdZGu2pCl62fPpAiJmZmRJOKLGdVKCOiJ49T6cvDTQgmZKWCy4qSGEhKObPjqnhUvAte0nBUeAT4RFP5wIz3Em/1RQlYOrxvZG4NeF0JiAPIGb8IREwjl9p8qss0w3w7H/z7iTYPuKl7wVCVkOkDP+o13pIVFurmUN0lAaD04hGdKTgIVNRBYlT6B4mMDDoowaYDItJitwhQpVjG1oUZtIxpooSH4ijzDNPEfxZsd+wao0Gb69a6G+ZTnE3xmrVbr/7GomIJroWRMDQu1CkpDAwUolJAKRZ4JOZlmxf3aXErIrAMzMPCF3qlNWR3Iu9sCq4YOEG+HoUIJmQoOFW/LwmfaXErILOADbSYl5GbiRcDCwTzYh/vvkDRYkr4tn4E91Ig34zKdCG33PfFmPxABYbqku/uvMcD+bszg4IgObJTHqWKvS7xN81gT+l3xZnuwjwdTsZ8nlD+0CVY3YVXTQrab69mQ2O+CaVN/094ctmncdaX+mZUImTOTzwg6wjuRX634HkQpWeYT0neMY6EBpg1vF++QnUJgpHuSeHPYO4u3ALZbiCbDtoRRERnFnDE2mCOsSnCl9STeOzFilI3MI1pCHxI5eHjS9lY5YE/uwGsEoPLDsBSbc0Z5Boi3tWLTkN+xxfcyCT/+DmRCPKGLZfV4N1iY3Jb5xmKU38vqYQg/47Ovk4ZPUmBL8E2y+r4VPA9TdOexHsOAVVAXsv6Ds0kfc8B4RcRHM4vtgXsRkOFW8VZU2ZsAQcqTjbwg3jTs7bT7C4H3gBt/aBZg7UtMvIJfmK/x0MDYKopdhxNIRlQ+Qp744U42Fu944bCwb/hix4i3Q7CGz7fv3ZkNdmgGtSI+oD9bZAzmvRUr8/oiz8C89ziLjJ9aDQxNgqBa5zYif2MsMvr5W85GP4Af+n4h967H34ZYZFxiaXxs07iAZCq2iQ7psOywNz03C62PE70tIt7tJt7inF5WHpda92P97JE2Ia9ixZ3NSkIGsXnqaYuwY3iN86rb8UG1/LqFX0bYAeL4yrqT4EPFW6RQR+2B7awLqEHv5zuL4SMWqpeljd+z/tY/QTKiMq/mNbrmg5nPOnbb2PH4IX8fINH7qi9hd38ly1fDukYkjkVMc6E4bBMNAPm5weqhelPj+XV7GokP0+tP8u3IcyDro7IqOOloIztReaxDxTLWUhgPFOllBtMUuZzvrWUe7uHvNfwga0jwOko7foh+zzDIJmQrkuM3FnPR+KdamhKN8EMSzP/C8TX9Urw4PsJC2cBi2BN43Z+Z9ud1l7KievI57UjYYsA9z1E+sLo9/29JnnR6Im3eepo0z1g2Ff59io3hmz9bRzynA9OBdHMtTTZKVsXJqaNtGQfXkCRLqAFHWJobK7jusBTERlY7+GZId16PYPleC5hRB7GMQk17VEQ+WpMDQ5kXX9MOkFWB+FuzDq6yPsJlNDWe4/93tAk5QcLDmEADzOb1O+KtCpcQW+UVXrcN/HaWVcDhEQWaQtvCJ8Eakg1Ak78bIH8QbwcGBlGegqiowWMCAx5X7Gpptxsk+pTXey1SdLf+3t8i7oCIAWk90/kk/2nEO94lscKUx1RLcUUdc+dzp02ziIoJYr41wIjCoogR9f68LnXM2RiL0N0yQshBNMSjwvqh/vo6POeZIqPVTxwIHYYe1nWxeDhfUfsW2Lv5A8x9eT2KPWEU5lht0yPCMzNWopeU+dx50yJ2EIvD3D7FzjhZbn1NcdBJVp3pfIQUD6be0rruSiM5a+jIj2Urdq97cjBXCnPKkJeuVrf3Rsx7N7fI73IE3UR26a3ohXgnZDReijtOrq1yO8bbW9e7UVywXoZI2IF23lEc5AQxTUqHCSnHPvQay85f0cB7hb7UUphvXdeGEDIxlJuQn1rXz4v7afZTM0LGnWk/1li2LsLSIRDVdI68O9EtkjYKDv7VYt14HDNhrRCNl0tCfmhdw5f3O8kmonYdDicZMWI8nq6RMLOkEvA9FRuQVMWIsg7T1NNes7XiJg7vstPMK2ehyr387BNLK+5YIi0GM8dRkuqyXbuyriF/62y5YW6KIKNYNnLamG5puFKm0N/YFv6a0lnWmGF/h3f15L9z805IwHesHxviErJxPEeLD0ly+3wWOtil27FrDsI+ML2YzXR4hQg5JsSFEzWA8X3D/s5K1K/v4ttLioe6Bhn92bfHy12oNAh5m+V6eDAwmrYHDhfzGgtu48YA2jCiLPbo88wIrXxPhB1m27/7RrwX2nxgGbXlEayPsEXIk2jPApjQ+H6E7Xc762YZ69/HLbLK93ifhPtAMbt0r2U73lxusqSx/AykQMQzTJ8dwlHprexy1mB3OZAa6UuJF+F/rqX9XuC70B1dxr9jbn423TVD+I4nqCG68L3+0SUHheR7Ft0ciAvUnBpiCf92DMuzwNK+R7LhxidUd3ApHWANqII4jW6bltR4mPUaSTsRs0aY4vVdbZjVsZ37U9guQ0nGyWwX393Wg/f7041DG+BeyiQhgWEcOAyi6+TakDTwU/XhyNUVI0k0OOD9kNNTLELWs1JHMk3/kO4NjTInhJCwPxFF7TF+OCdTbGCG4mhqqjbUwuge90mpXqfy/bAN21NT9osYnA0L+ful1J6DSbzzQxTCctbnVWkUqPn6fY/rQq01toittDn9XVitMTEiTQd2CyBUWDDSZ2n3oBtpxwqAf+4tVmi/iGd3JmHC3v0RbdTF1ITT2ZXZ9tXbzE8tR8zQJotIonM48q9ldxvM+ww+v5bdO/KMKbBXxZvzP5VaB1pyb34Aoy27eRs+Y1wR7QLNuxXbAPl+P+DzW5u/Bctl27fD+UG34T3oAeYzPRYv3FjELkfeRrBd2vIZ+Bhn8u8/kvDpYmG+Z9I2nVJEy2OtwSsSiFJhoT3rYdrXAgwAkNmRMzHyuPcAAAAASUVORK5CYII=') no-repeat;\n",
      "            background-size: 82px 54px;\n",
      "        }\n",
      "        .dpHeader {\n",
      "            height: 70px;\n",
      "            font-size: 28px;\n",
      "            color: #999999;\n",
      "            border-bottom: 3px solid #ff6633;\n",
      "            overflow: hidden;\n",
      "            display: none;\n",
      "        }\n",
      "        .dpLogo {\n",
      "            margin-top: 16px;\n",
      "            margin-left: 1px;\n",
      "            line-height: 44px;\n",
      "            padding-left: 155px;\n",
      "            background: url('data:image/png;base64,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') no-repeat;\n",
      "            background-size: 144px 40px;\n",
      "        }\n",
      "        .content {\n",
      "            min-height: 335px;\n",
      "            position: relative;\n",
      "        }\n",
      "        .footer {\n",
      "            font-size: 12px;\n",
      "            color: #999999;\n",
      "            padding: 13px 8px;\n",
      "            border-top: 1px solid #e1e1e1;\n",
      "            text-align: center;\n",
      "            display: none;\n",
      "        }\n",
      "        .root {\n",
      "            height: 100%;\n",
      "        }\n",
      "    </style>\n",
      "    <title>验证中心</title>\n",
      "    <link rel=\"dns-prefetch\" href=\"//awp-assets.meituan.net\" />\n",
      "    <link rel=\"dns-prefetch\" href=\"//verify.meituan.com\" />\n",
      "    <link rel=\"dns-prefetch\" href=\"//static.meituan.net\" />\n",
      "    <script>\n",
      "        (function(f){function e(a,b){this.seed instanceof e?this.seed.init(a,b):this instanceof e?this.init(a,b):this.seed=new e(a,b);return this.seed}function x(a){this.appnm=a;this.sendQueue={}}function n(a,b){this.batchs=[];this.project=\"Yoda-FE\";this.catVersion=1;this.origin=window.location.origin;this.unionId=a||\"\";this.env=\"pro\"===b?\"pro\":\"dev\";this.host={pro:\"//catfront.dianping.com\",dev:\"//catfront.51ping.com\"}[this.env];var c=this;setTimeout(function(){c.sendBatch()},500)}function F(a,b,c){if(\"object\"===\n",
      "typeof b){var d=[],p;for(p in b)d.push(encodeURIComponent(p)+\"=\"+encodeURIComponent(b[p]));b=d.join(\"&\")}d={\"Content-Type\":\"application/x-www-form-urlencoded\"};try{var C=Date.now(),h=new f.XMLHttpRequest;if(\"withCredentials\"in h){h.open(\"post\",a,!0);if(d)for(var g in d)d.hasOwnProperty(g)&&h.setRequestHeader(g,d[g]);h.onload=function(){4===h.readyState&&(200<=h.status&&300>h.status||304===h.status)&&(c(h.responseText),h=null)}}else if(\"undefined\"!==typeof f.XDomainRequest){h=new f.XDomainRequest;\n",
      "var e=0<a.indexOf(\"?\")?\"&\"+b:\"?\"+b;h.open(\"get\",a+e);h.onload=function(){c(h.responseText);h=null}}else throw Error(\"\\u79cd\\u5b50\\u4ee3\\u7801\\u521b\\u5efaXMLHttpRequest\\u5bf9\\u8c61\\u5931\\u8d25\");h.onerror=function(a){h.abort();throw Error(\"XMLHttpRequest\\u8bf7\\u6c42\\u670d\\u52a1\\u5668\\u53d1\\u751f\\u5f02\\u5e38\"+a.message);};h.send(b)}catch(G){throw window.Yoda.CAT.postBatch(a,0,0,Date.now()-C,\"500|0\",\"ajax\"),window.Yoda.CAT.sendBatch(),window.Yoda.CAT.sendLog(a,\"ajaxError\",\"[\\u8bf7\\u6c42\\u5f02\\u5e38]\",\n",
      "G.message),Error(\"\\u8bf7\\u6c42\\u670d\\u52a1\\u5668\\u53d1\\u751f\\u5f02\\u5e38: \"+G.message);}}function H(a,b){for(var c in b)b.hasOwnProperty(c)&&b[c]&&(a[c]=b[c]);return a}var l=document,q=/mobile|iPhone|Android|htc|Lenovo|huawei/i.test(f.navigator.userAgent.toString());f.Yoda={};f.YODA_CONFIG={};var y=new x(\"yoda_seed\");f.Yoda.LX=y;var z={pro:\"https://verify.meituan.com\",staging:\"//verify-test.meituan.com\",dev:\"//verify.inf.dev.sankuai.com\",test:\"//verify.inf.test.sankuai.com\",ppe:\"//verify.inf.ppe.sankuai.com\",\n",
      "development:\"//verify-test.meituan.com\"},E=\"\",r=\"\",t=\"\",u=\"\",v=\"\",g=\"\",D=\"\",w=\"\",A=\"\",B=\"\",k=\"\",m=\"\";e.prototype.init=function(a,b){E=Date.now();t=r=!1;v=u=!0;m=k=B=A=w=D=g=\"\";this.env=b||\"pro\";var c=new n(a.requestCode,this.env);f.Yoda.CAT=c;this.options=a;q=void 0===a.isMobile?q:a.isMobile;this.feVersion=\"1.4.0\";this.source=q?3:1;this.getConf(this.options.requestCode)};e.prototype.getConf=function(a){var b=z[this.env]+\"/v2/ext_api/page_data\";a={requestCode:a,feVersion:this.feVersion,source:this.source};\n",
      "var c=this,d=Date.now();F(b,a,function(a){a=JSON.parse(a);var f=Date.now()-d,h={kvs:{pagedata:[f],TTFB:[f]},tags:{action:a.data?a.data.action:\"\",type:a.data?a.data.type:\"\",result:a.status?a.status:\"\"},ts:Date.now()};window.Yoda.CAT.metric(h);window.Yoda.CAT.postBatch(b,0,0,f,\"200|\"+a.status,\"ajax\");c.confBack(a)})};e.prototype.confBack=function(a){if(1===a.status&&a.data){var b=H(a.data,this.options);this.config=b;this._yoda_config||(this._yoda_config=JSON.stringify(b),this._yoda_options=JSON.stringify(this.options),\n",
      "this._yoda_listIndex=a.data.defaultIndex||0,this._yoda_riskLevel=this.config.riskLevel);this.config.category=this.config.isHideSwitch?\"MULTIPLE\":this.config.category;b=a.data.yodaVersion;a=a.data.verifyMethodVersion;this.filter();this.ensureVersion(b,a)}else f.Yoda.CAT.sendLog(z[this.env]+\"/v2/ext_api/page_data\",\"jsError\",\"[dataException]:\\u8bf7\\u6c42pageData\\u63a5\\u53e3\\u672a\\u6b63\\u5e38\\u8fd4\\u56de\\u6570\\u636e, \\u73af\\u5883\\u4fe1\\u606f\\u4e3a:\"+this.source,JSON.stringify(a)),this.handleError(a)};\n",
      "e.prototype.ensureVersion=function(a,b){a=JSON.parse(a);b=JSON.parse(b);a&&(m=q?a.i:a.d);try{var c=JSON.parse(this.config.riskLevelInfo)[Number(D)];g=JSON.parse(c).name;(b=JSON.parse(b[g]))&&(k=q?b.i:b.d);this.isNeedLoad();this.getSourcePath();this.loadSource()}catch(d){f.Yoda.CAT.sendLog(z[this.env]+\"/v2/ext_api/page_data\",\"jsError\",\"[dataException]:\\u89e3\\u6790pageData\\u63a5\\u53e3\\u6570\\u636e\\u5931\\u8d25, \\u73af\\u5883\\u4fe1\\u606f\\u4e3a:\"+this.source,d.message),this.handleError(\"\\u521d\\u59cb\\u5316\\u5931\\u8d25\")}};\n",
      "e.prototype.isNeedLoad=function(){var a=l.getElementsByTagName(\"script\"),b=a.length,c=0;if(m&&k&&b)for(;c<b;c++){var d=a[c].src;~d.indexOf(m)&&(u=!1,t=!0);~d.indexOf(k)&&(v=!1,r=!0);if(!u&&!v)break}};e.prototype.loadSource=function(){var a=this,b=function(){function b(b){return function(c,d,g){var h=Date.now(),e=l.createElement(b),p=l.head,C=\"src\",k=\"link\"===b?\"css\":\"js\";e.onload=function(){e=e.onload=e.onerror=e.onreadystatechange=null;var p=Date.now()-h;\"script\"===b&&y.report(d,\"duration\",{custom:{duration:p,\n",
      "result:\"download\",requestCode:a.options.requestCode}});f.Yoda.CAT.postBatch(c,0,0,p,\"200|\",k);\"function\"===typeof g&&g();\"pro\"!==a.env&&(f.YODA_CONFIG.__API_URL__=z[a.env],a.setDomain(z[a.env]))};e.onerror=function(){a.handleError(\"\\u52a0\\u8f7d\\u5931\\u8d25\");var b=Date.now()-h;f.Yoda.CAT.postBatch(c,0,0,b,\"500|\",k);y.report(d,\"downloadFailed\");f.Yoda.CAT.sendLog(c,\"resourceError\",\"downloadFailed\",\"[\\u4e0b\\u8f7djs\\u5931\\u8d25]:\"+c)};switch(b){case \"script\":e.type=\"text/javascript\";e.async=!1;e.defer=\n",
      "!0;break;case \"link\":e.type=\"text/css\",e.rel=\"stylesheet\",C=\"href\"}e[C]=c;p.appendChild(e)}}return{css:b(\"link\"),js:b(\"script\")}}();u&&(y.report(\"yoda\",\"req\"),b.js(A,\"yoda\",function(){t=!t;a.moduleInit()}));if(v)if(y.report(g,\"req\"),\"withCredentials\"in new f.XMLHttpRequest)b.js(w,g,function(){r=!0;a.moduleInit()});else if(\"undefined\"!==typeof XDomainRequest)var c=window.setInterval(function(){void 0!==window.Yoda.Ballade&&b.js(w,g,function(){r=!0;a.moduleInit();window.clearInterval(c)})},1E3);u||\n",
      "v||this.moduleInit();B&&b.css(B)};e.prototype.moduleInit=function(){if(r&&t){this[g]={};this.config.yodaInitTime=E;if(\"function\"===typeof f.Yoda[g])return this[g].initModule=new f.Yoda[g](this.config),!1;var a=l.createElement(\"script\");a.type=\"text/javascript\";a.appendChild(l.createTextNode(this.moduleText));l.body.appendChild(a);this[g].initModule=new f.Yoda[g](this.config)}};e.prototype.getSourcePath=function(){var a=q?\"i\":\"d\";m=m?m+\".\":\"\";k=k?k+\".\":\"\";\"development\"===this.env?(a=\"i\"===a?\"mobile\":\n",
      "\"desktop\",w=\"/modules/\"+g+\"/\"+a+\"/\"+g+\".js\",B=\"/modules/\"+g+\"/\"+a+\"/\"+g+\".css\",A=\"./yoda-\"+a+\".js\"):(A=\"https://static.meituan.net/bs/yoda-static/file:file/\"+a+\"/js/yoda.\"+m+\"js\",w=\"https://static.meituan.net/bs/yoda-static/file:file/\"+a+\"/js/\"+g+\".\"+k+\"js\")};e.prototype.handleError=function(a,b){\"string\"!==typeof a&&(a=(b=a)&&b.error&&b.error.message);var c=this.options.failCallbackFun;if(c&&\"function\"===typeof f[c]){var d={code:\"121333\",requestCode:this.options.requestCode};setTimeout(function(){f[c](d)},\n",
      "1E3)}var e=this.options.failCallbackUrl;e&&setTimeout(function(){var a=document.createElement(\"a\");a.href=e;f.location.href=(a.origin||a.protocol+\"//\"+a.host)+a.pathname+a.search+a.hash},1E3);this.notifyErr(a)};e.prototype.notifyErr=function(a){var b=l.getElementById(this.options.root);if(q){var c=l.createElement(\"div\");var d=l.createElement(\"div\");d.innerHTML=a;c.appendChild(d)}else c=l.createElement(\"div\"),c.innerHTML=a;b.appendChild(c)};e.prototype.setDomain=function(a){setTimeout(function(){window.YODA_CONFIG.__API_URL__=\n",
      "a},0)};e.prototype.resetVariable=function(a){E=Date.now();r=a.moduleLoaded||!1;t=a.yodaLoaded||!1;u=a.yodaNeedLoad||!0;v=a.moduleNeedLoad||!0;g=a.MODULE_NAME||\"\";w=a.MODULE_URL||\"\";A=a.YODA_URL||\"\";B=a.CSS_URL||\"\";k=a.MODULE_VERSION||\"\";m=a.YODA_VERSION||\"\"};e.prototype.filter=function(){var a=this.config.riskLevel.split(/[,|]/g);if(a[0]&&1===a.length)D=this.config.riskLevel;else{a=JSON.parse(this.config.riskLevelInfo);for(var b=JSON.parse(this.config.verifyMethodVersion),c=this.config.riskLevel.split(\"|\"),\n",
      "d=this.config.defaultIndex||0;d<c.length;d++){for(var e=c[d].split(\",\"),f=0,h=1;f<e.length;f++){var g=JSON.parse(a[Number(e[f])]);if(!g.name||!b[g.name]){h=0;break}}if(h){D=e[0];this._yoda_listIndex=d;break}}}};x.prototype.report=function(a,b,c){if(\"pro\"!==window.seed.env)return!1;var d={appnm:this.appnm,channel:\"techportal\",ct:q?\"i\":\"www\",ch:\"web\",sc:window.screen.width+\"*\"+window.screen.height,ua:window.navigator.userAgent};a={nm:\"MV\",tm:Date.now(),nt:0,isauto:6,val_cid:a,val_bid:b,val_lab:c};this.addToSendQueue(d,\n",
      "a)};x.prototype.addToSendQueue=function(a,b){var c;(c=this.sendQueue[a.channel])?c=c.data:(c=[],this.sendQueue[a.channel]={conf:a,data:c});c.push(b);var d=this;setTimeout(function(){d.send()},0)};x.prototype.send=function(){var a=[];for(d in this.sendQueue)if(this.sendQueue.hasOwnProperty(d)){var b=this.sendQueue[d];var c=b.conf;(b=H(c,{appnm:c.appnm,category:\"data_sdk_\"+d,evs:b.data}))&&a.push(b)}if(0<a.length){var d=\"https://report.meituan.com/?_lxskd_rnd=\"+Date.now()+Math.ceil(1E3*Math.random());\n",
      "this.sendStatic(d,{data:a})}this.sendQueue={}};x.prototype.sendStatic=function(a,b){if(0===b.data.length)return!1;try{var c=new f.XMLHttpRequest;if(\"withCredentials\"in c)c.open(\"POST\",a,!0);else if(\"undefined\"!==typeof f.XDomainRequest)c=new f.XDomainRequest,c.open(\"POST\",a);else throw Error(\"\\u7075\\u7280\\u521b\\u5efaXHR\\u5bf9\\u8c61\\u5931\\u8d25\");c.onerror=function(){c.abort();c=null};c.send(JSON.stringify(b.data))}catch(d){throw Error(\"\\u7075\\u7280XHR\\u8bf7\\u6c42\\u670d\\u52a1\\u5668\\u53d1\\u751f\\u5f02\\u5e38: \"+\n",
      "d.message);}return!0};n.prototype.postBatch=function(a,b,c,d,e,f){a=a+\"\\t\"+Date.now()+\"\\t\"+b+\"\\t\"+c+\"\\t\"+d+\"\\t\"+this.project+\"\\t\"+this.origin+\"\\t\"+e+\"\\t\\t\\t\\t\"+f;this.batchs.push(a)};n.prototype.sendBatch=function(){if(0<this.batchs.length){var a=this.host+\"/api/batch?v=\"+this.catVersion,b={c:\"S\\t\\t\\t\\t\\t\\t\"+this.unionId+\"\\n\"+this.batchs.join(\"\\n\")};this.sendStatic(a,b);this.batchs=[]}};n.prototype.speed=function(a,b){var c=\"&project=\"+this.project+\"&pageurl=\"+window.location.href+\"&unionId=\"+this.unionId+\n",
      "\"&timestamp=\"+Date.now()+\"&speed=\"+a+\"&customspeed=\"+b;c=this.host+\"/api/speed?v=\"+this.catVersion+c;var d=this,e=new f.XMLHttpRequest;e.open(\"GET\",c);e.onerror=function(){d.speed(a,b);e.abort();e=null};e.send()};n.prototype.sendLog=function(a,b,c,d){a=[{project:this.project,pageUrl:window.location.origin,resourceUrl:a||\"\",category:b,sec_category:c,level:\"error\",unionId:this.unionId,timestamp:Date.now(),content:d||\"\"}];this.sendStatic(this.host+\"/api/log?v=\"+this.catVersion,{c:JSON.stringify(a)})};\n",
      "n.prototype.metric=function(a){this.sendStatic(this.host+\"/api/metric?v=\"+this.catVersion+\"&p=\"+this.project,{data:JSON.stringify(a)})};n.prototype.sendStatic=function(a,b){F(a,b,function(){});return!0};n.prototype[\"byte\"]=function(a){var b=0,c=a.length;if(a){for(var d=0;d<c;d++)255<a.charCodeAt(d)?b+=2:b++;return b}return 0};f.YodaSeed=e})(window);\n",
      "    </script>\n",
      "</head> <body>    <div class='container'>\n",
      "        <div class='header' id='header'>\n",
      "            <div class='logo' id='logo'>验证中心</div>\n",
      "        </div>\n",
      "        <div class='content'>\n",
      "            <div class='root' id='root'></div>\n",
      "        </div>\n",
      "        <div class='footer' id='footer'>©2019 meituan.com 京ICP证070791号 京公网安备1101050202554.</div>\n",
      "    </div>\n",
      "                                                <script type=\"text/javascript\">        window.yodaTheme = setTheme;\n",
      "        function setTheme(theme) {\n",
      "            var theme = theme || 'meituan';\n",
      "            var header = document.getElementById('header');\n",
      "            header.style.display = \"block\";\n",
      "            var logo = document.getElementById('logo');\n",
      "            var footer = document.getElementById('footer');\n",
      "            footer.style.display = \"block\";\n",
      "\n",
      "            var link = document.createElement('link');\n",
      "            link.rel = 'shortcut icon';\n",
      "            link.type = 'image/x-icon';\n",
      "\n",
      "            if (theme === 'meituan' || theme === 'mt' || theme === '') {\n",
      "                link.href = '/static/favicon.ico';\n",
      "            }\n",
      "            if (theme === 'dianping' || theme === 'dp') {\n",
      "                header.className = 'dpHeader';\n",
      "                logo.className = 'dpLogo';\n",
      "                footer.innerHTML = '© 2003-2017 dianping.com, All Rights Reserved.';\n",
      "                link.href = '//www.dpfile.com/s/res/favicon.5ff777c11d7833e57e01c9d192b7e427.ico';\n",
      "            }\n",
      "\n",
      "            document.head.appendChild(link);\n",
      "        }\n",
      "\n",
      "            var options = {\n",
      "            requestCode: \"9f24f2bef8d4494baf6b31121b2e824a\",\n",
      "            succCallbackUrl: \"https\\x3A\\x2F\\x2Foptimus\\x2Dmtsi\\x2Emeituan\\x2Ecom\\x2Foptimus\\x2FverifyResult\\x3ForiginUrl\\x3Dhttp\\x253A\\x252F\\x252Fmaoyan\\x2Ecom\\x252Fboard\\x252F4\",\n",
      "            failCallbackUrl: \"\",\n",
      "            forceCallback: \"false\",\n",
      "            root: \"root\",\n",
      "            platform: \"1000\",\n",
      "            theme: \"meituan\",\n",
      "            isMobile: false\n",
      "        }\n",
      "        YodaSeed(options, \"pro\");\n",
      "    </script></body></html>\n"
     ]
    }
   ],
   "source": [
    "import requests\n",
    "\n",
    "\n",
    "def get_one_page(url):\n",
    "    headers = {'User-Agent': 'Mozilla/5.0 (Windows NT 10.0; Win64; x64) AppleWebKit/537.36 (KHTML, like Gecko) Chrome/76.0.3809.110 Safari/537.36 Vivaldi/2.7.1628.30'}\n",
    "    response = requests.get(url, headers=headers)\n",
    "    if response.status_code == 200:\n",
    "        return response.text\n",
    "    return None\n",
    "\n",
    "\n",
    "def main():\n",
    "    url = 'https://maoyan.com/board/4'\n",
    "    html = get_one_page(url)\n",
    "    print(html)\n",
    "\n",
    "\n",
    "main()\n"
   ]
  },
  {
   "cell_type": "code",
   "execution_count": 25,
   "metadata": {},
   "outputs": [
    {
     "name": "stdout",
     "output_type": "stream",
     "text": [
      "<!DOCTYPE html>\n",
      "\n",
      "<!--[if IE 8]><html class=\"ie8\"><![endif]-->\n",
      "<!--[if IE 9]><html class=\"ie9\"><![endif]-->\n",
      "<!--[if gt IE 9]><!--><html><!--<![endif]-->\n",
      "<head>\n",
      "  <title>TOP100榜 - 猫眼电影 - 一网打尽好电影</title>\n",
      "  \n",
      "  <link rel=\"dns-prefetch\" href=\"//p0.meituan.net\"  />\n",
      "  <link rel=\"dns-prefetch\" href=\"//p1.meituan.net\"  />\n",
      "  <link rel=\"dns-prefetch\" href=\"//ms0.meituan.net\" />\n",
      "  <link rel=\"dns-prefetch\" href=\"//s0.meituan.net\" />\n",
      "  <link rel=\"dns-prefetch\" href=\"//ms1.meituan.net\" />\n",
      "  <link rel=\"dns-prefetch\" href=\"//analytics.meituan.com\" />\n",
      "  <link rel=\"dns-prefetch\" href=\"//report.meituan.com\" />\n",
      "  <link rel=\"dns-prefetch\" href=\"//frep.meituan.com\" />\n",
      "\n",
      "  \n",
      "  <meta charset=\"utf-8\">\n",
      "  <meta name=\"keywords\" content=\"猫眼电影,电影排行榜,热映口碑榜,最受期待榜,国内票房榜,北美票房榜,猫眼TOP100\">\n",
      "  <meta name=\"description\" content=\"猫眼电影热门榜单,包括热映口碑榜,最受期待榜,国内票房榜,北美票房榜,猫眼TOP100,多维度为用户进行选片决策\">\n",
      "  <meta http-equiv=\"cleartype\" content=\"yes\" />\n",
      "  <meta http-equiv=\"X-UA-Compatible\" content=\"IE=edge\" />\n",
      "  <meta name=\"renderer\" content=\"webkit\" />\n",
      "\n",
      "  <meta name=\"HandheldFriendly\" content=\"true\" />\n",
      "  <meta name=\"format-detection\" content=\"email=no\" />\n",
      "  <meta name=\"format-detection\" content=\"telephone=no\" />\n",
      "  <meta name=\"viewport\" content=\"width=device-width, initial-scale=1\">\n",
      "\n",
      "  \n",
      "  <script>\"use strict\";!function(){var i=0<arguments.length&&void 0!==arguments[0]?arguments[0]:\"_Owl_\",n=window;n[i]||(n[i]={isRunning:!1,isReady:!1,preTasks:[],dataSet:[],use:function(i,t){this.isReady&&n.Owl&&n.Owl[i](t),this.preTasks.push({api:i,data:[t]})},add:function(i){this.dataSet.push(i)},run:function(){var t=this;if(!this.isRunning){this.isRunning=!0;var i=n.onerror;n.onerror=function(){this.isReady||this.add({type:\"jsError\",data:arguments}),i&&i.apply(n,arguments)}.bind(this),(n.addEventListener||n.attachEvent)(\"error\",function(i){t.isReady||t.add({type:\"resError\",data:[i]})},!0)}}},n[i].run())}();</script>\n",
      "  <script>\n",
      "  cid = \"c_wx6zb55\";\n",
      "  ci = 30;\n",
      "val = {\"subnavId\":4};    window.system = {};\n",
      "\n",
      "  window.openPlatform = '';\n",
      "  window.openPlatformSub = '';\n",
      "  window.$mtsiFlag = '0';\n",
      "\n",
      "  </script>\n",
      "  <link rel=\"stylesheet\" href=\"//s3plus.meituan.net/v1/mss_e2821d7f0cfe4ac1bf9202ecf9590e67/cdn-prod/file:5788b470/common.0a548310.css\"/>\n",
      "<link rel=\"stylesheet\" href=\"//s3plus.meituan.net/v1/mss_e2821d7f0cfe4ac1bf9202ecf9590e67/cdn-prod/file:5788b470/board-index.92a06072.css\"/>\n",
      "  <script crossorigin=\"anonymous\" src=\"//s3plus.meituan.net/v1/mss_e2821d7f0cfe4ac1bf9202ecf9590e67/cdn-prod/file:5788b470/stat.88d57c80.js\"></script>\n",
      "  <script>if(window.devicePixelRatio >= 2) { document.write('<link rel=\"stylesheet\" href=\"//s3plus.meituan.net/v1/mss_e2821d7f0cfe4ac1bf9202ecf9590e67/cdn-prod/file:5788b470/image-2x.8ba7074d.css\"/>') }</script>\n",
      "  <style>\n",
      "    @font-face {\n",
      "      font-family: stonefont;\n",
      "      src: url('//vfile.meituan.net/colorstone/0878aeee7990e46e1c9c6bddab3df03f3424.eot');\n",
      "      src: url('//vfile.meituan.net/colorstone/0878aeee7990e46e1c9c6bddab3df03f3424.eot?#iefix') format('embedded-opentype'),\n",
      "           url('//vfile.meituan.net/colorstone/ad8f37d17eb75083aee6b51a9e1b83022280.woff') format('woff');\n",
      "    }\n",
      "\n",
      "    .stonefont {\n",
      "      font-family: stonefont;\n",
      "    }\n",
      "  </style>\n",
      "  <script>\n",
      "  var _hmt = _hmt || [];\n",
      "  (function() {\n",
      "  var hm = document.createElement(\"script\");\n",
      "  hm.src = \"https://hm.baidu.com/hm.js?703e94591e87be68cc8da0da7cbd0be2\";\n",
      "  var s = document.getElementsByTagName(\"script\")[0]; \n",
      "  s.parentNode.insertBefore(hm, s);\n",
      "  })();\n",
      "  </script>\n",
      "</head>\n",
      "<body>\n",
      "\n",
      "\n",
      "<div class=\"header\">\n",
      "  <div class=\"header-inner\">\n",
      "        <a href=\"/\" class=\"logo\" data-act=\"icon-click\"></a>\n",
      "        <div class=\"city-container\" data-val=\"{currentcityid:30 }\">\n",
      "            <div class=\"city-selected\">\n",
      "                <div class=\"city-name\">\n",
      "                  深圳\n",
      "                  <span class=\"caret\"></span>\n",
      "                </div>\n",
      "            </div>\n",
      "            <div class=\"city-list\" data-val=\"{ localcityid: 30 }\">\n",
      "                <div class=\"city-list-header\">定位城市：<a class=\"js-geo-city\">深圳</a></div>\n",
      "                \n",
      "            </div>\n",
      "        </div>\n",
      "\n",
      "\n",
      "        <div class=\"nav\">\n",
      "            <ul class=\"navbar\">\n",
      "                <li><a href=\"/\" data-act=\"home-click\"  >首页</a></li>\n",
      "                <li><a href=\"/films\" data-act=\"movies-click\" >电影</a></li>\n",
      "                <li><a href=\"/cinemas\" data-act=\"cinemas-click\" >影院</a></li> \n",
      "                <li><a href=\"http://www.gewara.com\">演出</a></li>\n",
      "                \n",
      "                <li><a href=\"/board\" data-act=\"board-click\"  class=\"active\" >榜单</a></li>\n",
      "                <li><a href=\"/news\" data-act=\"hotNews-click\" >热点</a></li>\n",
      "                <li><a href=\"/edimall\"  >商城</a></li>\n",
      "            </ul>\n",
      "        </div>\n",
      "\n",
      "        <div class=\"user-info\">\n",
      "            <div class=\"user-avatar J-login\">\n",
      "              <img src=\"https://p0.meituan.net/movie/7dd82a16316ab32c8359debdb04396ef2897.png\">\n",
      "              <span class=\"caret\"></span>\n",
      "              <ul class=\"user-menu\">\n",
      "                <li><a href=\"javascript:void 0\">登录</a></li>\n",
      "              </ul>\n",
      "            </div>\n",
      "        </div>\n",
      "\n",
      "        <form action=\"/query\" target=\"_blank\" class=\"search-form\" data-actform=\"search-click\">\n",
      "            <input name=\"kw\" class=\"search\" type=\"search\" maxlength=\"32\" placeholder=\"找影视剧、影人、影院\" autocomplete=\"off\">\n",
      "            <input class=\"submit\" type=\"submit\" value=\"\">\n",
      "        </form>\n",
      "\n",
      "        <div class=\"app-download\">\n",
      "          <a href=\"/app\" target=\"_blank\">\n",
      "            <span class=\"iphone-icon\"></span>\n",
      "            <span class=\"apptext\">APP下载</span>\n",
      "            <span class=\"caret\"></span>\n",
      "            <div class=\"download-icon\">\n",
      "                <p class=\"down-title\">扫码下载APP</p>\n",
      "                <p class='down-content'>选座更优惠</p>\n",
      "            </div>\n",
      "          </a>\n",
      "        </div>\n",
      "    \n",
      "  </div>\n",
      "</div>\n",
      "<div class=\"header-placeholder\"></div>\n",
      "\n",
      "<div class=\"subnav\">\n",
      "  <ul class=\"navbar\">\n",
      "    <li>\n",
      "      <a data-act=\"subnav-click\" data-val=\"{subnavClick:7}\"\n",
      "          href=\"/board/7\"\n",
      "      >热映口碑榜</a>\n",
      "    </li>\n",
      "    <li>\n",
      "      <a data-act=\"subnav-click\" data-val=\"{subnavClick:6}\"\n",
      "          href=\"/board/6\"\n",
      "      >最受期待榜</a>\n",
      "    </li>\n",
      "    <li>\n",
      "      <a data-act=\"subnav-click\" data-val=\"{subnavClick:1}\"\n",
      "          href=\"/board/1\"\n",
      "      >国内票房榜</a>\n",
      "    </li>\n",
      "    <li>\n",
      "      <a data-act=\"subnav-click\" data-val=\"{subnavClick:2}\"\n",
      "          href=\"/board/2\"\n",
      "      >北美票房榜</a>\n",
      "    </li>\n",
      "    <li>\n",
      "      <a data-act=\"subnav-click\" data-val=\"{subnavClick:4}\"\n",
      "          data-state-val=\"{subnavId:4}\"\n",
      "          class=\"active\" href=\"javascript:void(0);\"\n",
      "      >TOP100榜</a>\n",
      "    </li>\n",
      "  </ul>\n",
      "</div>\n",
      "\n",
      "\n",
      "    <div class=\"container\" id=\"app\" class=\"page-board/index\" >\n",
      "\n",
      "<div class=\"content\">\n",
      "    <div class=\"wrapper\">\n",
      "        <div class=\"main\">\n",
      "            <p class=\"update-time\">2019-11-30<span class=\"has-fresh-text\">已更新</span></p>\n",
      "            <p class=\"board-content\">榜单规则：将猫眼电影库中的经典影片，按照评分和评分人数从高到低综合排序取前100名，每天上午10点更新。相关数据来源于“猫眼电影库”。</p>\n",
      "            <dl class=\"board-wrapper\">\n",
      "                <dd>\n",
      "                        <i class=\"board-index board-index-1\">1</i>\n",
      "    <a href=\"/films/1203\" title=\"霸王别姬\" class=\"image-link\" data-act=\"boarditem-click\" data-val=\"{movieId:1203}\">\n",
      "      <img src=\"//s3plus.meituan.net/v1/mss_e2821d7f0cfe4ac1bf9202ecf9590e67/cdn-prod/file:5788b470/image/loading_2.e3d934bf.png\" alt=\"\" class=\"poster-default\" />\n",
      "      <img data-src=\"https://p1.meituan.net/movie/20803f59291c47e1e116c11963ce019e68711.jpg@160w_220h_1e_1c\" alt=\"霸王别姬\" class=\"board-img\" />\n",
      "    </a>\n",
      "    <div class=\"board-item-main\">\n",
      "      <div class=\"board-item-content\">\n",
      "              <div class=\"movie-item-info\">\n",
      "        <p class=\"name\"><a href=\"/films/1203\" title=\"霸王别姬\" data-act=\"boarditem-click\" data-val=\"{movieId:1203}\">霸王别姬</a></p>\n",
      "        <p class=\"star\">\n",
      "                主演：张国荣,张丰毅,巩俐\n",
      "        </p>\n",
      "<p class=\"releasetime\">上映时间：1993-07-26</p>    </div>\n",
      "    <div class=\"movie-item-number score-num\">\n",
      "<p class=\"score\"><i class=\"integer\">9.</i><i class=\"fraction\">5</i></p>        \n",
      "    </div>\n",
      "\n",
      "      </div>\n",
      "    </div>\n",
      "\n",
      "                </dd>\n",
      "                <dd>\n",
      "                        <i class=\"board-index board-index-2\">2</i>\n",
      "    <a href=\"/films/1297\" title=\"肖申克的救赎\" class=\"image-link\" data-act=\"boarditem-click\" data-val=\"{movieId:1297}\">\n",
      "      <img src=\"//s3plus.meituan.net/v1/mss_e2821d7f0cfe4ac1bf9202ecf9590e67/cdn-prod/file:5788b470/image/loading_2.e3d934bf.png\" alt=\"\" class=\"poster-default\" />\n",
      "      <img data-src=\"https://p0.meituan.net/movie/283292171619cdfd5b240c8fd093f1eb255670.jpg@160w_220h_1e_1c\" alt=\"肖申克的救赎\" class=\"board-img\" />\n",
      "    </a>\n",
      "    <div class=\"board-item-main\">\n",
      "      <div class=\"board-item-content\">\n",
      "              <div class=\"movie-item-info\">\n",
      "        <p class=\"name\"><a href=\"/films/1297\" title=\"肖申克的救赎\" data-act=\"boarditem-click\" data-val=\"{movieId:1297}\">肖申克的救赎</a></p>\n",
      "        <p class=\"star\">\n",
      "                主演：蒂姆·罗宾斯,摩根·弗里曼,鲍勃·冈顿\n",
      "        </p>\n",
      "<p class=\"releasetime\">上映时间：1994-09-10(加拿大)</p>    </div>\n",
      "    <div class=\"movie-item-number score-num\">\n",
      "<p class=\"score\"><i class=\"integer\">9.</i><i class=\"fraction\">5</i></p>        \n",
      "    </div>\n",
      "\n",
      "      </div>\n",
      "    </div>\n",
      "\n",
      "                </dd>\n",
      "                <dd>\n",
      "                        <i class=\"board-index board-index-3\">3</i>\n",
      "    <a href=\"/films/2641\" title=\"罗马假日\" class=\"image-link\" data-act=\"boarditem-click\" data-val=\"{movieId:2641}\">\n",
      "      <img src=\"//s3plus.meituan.net/v1/mss_e2821d7f0cfe4ac1bf9202ecf9590e67/cdn-prod/file:5788b470/image/loading_2.e3d934bf.png\" alt=\"\" class=\"poster-default\" />\n",
      "      <img data-src=\"https://p0.meituan.net/movie/289f98ceaa8a0ae737d3dc01cd05ab052213631.jpg@160w_220h_1e_1c\" alt=\"罗马假日\" class=\"board-img\" />\n",
      "    </a>\n",
      "    <div class=\"board-item-main\">\n",
      "      <div class=\"board-item-content\">\n",
      "              <div class=\"movie-item-info\">\n",
      "        <p class=\"name\"><a href=\"/films/2641\" title=\"罗马假日\" data-act=\"boarditem-click\" data-val=\"{movieId:2641}\">罗马假日</a></p>\n",
      "        <p class=\"star\">\n",
      "                主演：格利高里·派克,奥黛丽·赫本,埃迪·艾伯特\n",
      "        </p>\n",
      "<p class=\"releasetime\">上映时间：1953-09-02(美国)</p>    </div>\n",
      "    <div class=\"movie-item-number score-num\">\n",
      "<p class=\"score\"><i class=\"integer\">9.</i><i class=\"fraction\">1</i></p>        \n",
      "    </div>\n",
      "\n",
      "      </div>\n",
      "    </div>\n",
      "\n",
      "                </dd>\n",
      "                <dd>\n",
      "                        <i class=\"board-index board-index-4\">4</i>\n",
      "    <a href=\"/films/4055\" title=\"这个杀手不太冷\" class=\"image-link\" data-act=\"boarditem-click\" data-val=\"{movieId:4055}\">\n",
      "      <img src=\"//s3plus.meituan.net/v1/mss_e2821d7f0cfe4ac1bf9202ecf9590e67/cdn-prod/file:5788b470/image/loading_2.e3d934bf.png\" alt=\"\" class=\"poster-default\" />\n",
      "      <img data-src=\"https://p1.meituan.net/movie/6bea9af4524dfbd0b668eaa7e187c3df767253.jpg@160w_220h_1e_1c\" alt=\"这个杀手不太冷\" class=\"board-img\" />\n",
      "    </a>\n",
      "    <div class=\"board-item-main\">\n",
      "      <div class=\"board-item-content\">\n",
      "              <div class=\"movie-item-info\">\n",
      "        <p class=\"name\"><a href=\"/films/4055\" title=\"这个杀手不太冷\" data-act=\"boarditem-click\" data-val=\"{movieId:4055}\">这个杀手不太冷</a></p>\n",
      "        <p class=\"star\">\n",
      "                主演：让·雷诺,加里·奥德曼,娜塔莉·波特曼\n",
      "        </p>\n",
      "<p class=\"releasetime\">上映时间：1994-09-14(法国)</p>    </div>\n",
      "    <div class=\"movie-item-number score-num\">\n",
      "<p class=\"score\"><i class=\"integer\">9.</i><i class=\"fraction\">5</i></p>        \n",
      "    </div>\n",
      "\n",
      "      </div>\n",
      "    </div>\n",
      "\n",
      "                </dd>\n",
      "                <dd>\n",
      "                        <i class=\"board-index board-index-5\">5</i>\n",
      "    <a href=\"/films/267\" title=\"泰坦尼克号\" class=\"image-link\" data-act=\"boarditem-click\" data-val=\"{movieId:267}\">\n",
      "      <img src=\"//s3plus.meituan.net/v1/mss_e2821d7f0cfe4ac1bf9202ecf9590e67/cdn-prod/file:5788b470/image/loading_2.e3d934bf.png\" alt=\"\" class=\"poster-default\" />\n",
      "      <img data-src=\"https://p1.meituan.net/movie/b607fba7513e7f15eab170aac1e1400d878112.jpg@160w_220h_1e_1c\" alt=\"泰坦尼克号\" class=\"board-img\" />\n",
      "    </a>\n",
      "    <div class=\"board-item-main\">\n",
      "      <div class=\"board-item-content\">\n",
      "              <div class=\"movie-item-info\">\n",
      "        <p class=\"name\"><a href=\"/films/267\" title=\"泰坦尼克号\" data-act=\"boarditem-click\" data-val=\"{movieId:267}\">泰坦尼克号</a></p>\n",
      "        <p class=\"star\">\n",
      "                主演：莱昂纳多·迪卡普里奥,凯特·温丝莱特,比利·赞恩\n",
      "        </p>\n",
      "<p class=\"releasetime\">上映时间：1998-04-03</p>    </div>\n",
      "    <div class=\"movie-item-number score-num\">\n",
      "<p class=\"score\"><i class=\"integer\">9.</i><i class=\"fraction\">5</i></p>        \n",
      "    </div>\n",
      "\n",
      "      </div>\n",
      "    </div>\n",
      "\n",
      "                </dd>\n",
      "                <dd>\n",
      "                        <i class=\"board-index board-index-6\">6</i>\n",
      "    <a href=\"/films/837\" title=\"唐伯虎点秋香\" class=\"image-link\" data-act=\"boarditem-click\" data-val=\"{movieId:837}\">\n",
      "      <img src=\"//s3plus.meituan.net/v1/mss_e2821d7f0cfe4ac1bf9202ecf9590e67/cdn-prod/file:5788b470/image/loading_2.e3d934bf.png\" alt=\"\" class=\"poster-default\" />\n",
      "      <img data-src=\"https://p0.meituan.net/movie/da64660f82b98cdc1b8a3804e69609e041108.jpg@160w_220h_1e_1c\" alt=\"唐伯虎点秋香\" class=\"board-img\" />\n",
      "    </a>\n",
      "    <div class=\"board-item-main\">\n",
      "      <div class=\"board-item-content\">\n",
      "              <div class=\"movie-item-info\">\n",
      "        <p class=\"name\"><a href=\"/films/837\" title=\"唐伯虎点秋香\" data-act=\"boarditem-click\" data-val=\"{movieId:837}\">唐伯虎点秋香</a></p>\n",
      "        <p class=\"star\">\n",
      "                主演：周星驰,巩俐,郑佩佩\n",
      "        </p>\n",
      "<p class=\"releasetime\">上映时间：1993-07-01(中国香港)</p>    </div>\n",
      "    <div class=\"movie-item-number score-num\">\n",
      "<p class=\"score\"><i class=\"integer\">9.</i><i class=\"fraction\">1</i></p>        \n",
      "    </div>\n",
      "\n",
      "      </div>\n",
      "    </div>\n",
      "\n",
      "                </dd>\n",
      "                <dd>\n",
      "                        <i class=\"board-index board-index-7\">7</i>\n",
      "    <a href=\"/films/7431\" title=\"乱世佳人\" class=\"image-link\" data-act=\"boarditem-click\" data-val=\"{movieId:7431}\">\n",
      "      <img src=\"//s3plus.meituan.net/v1/mss_e2821d7f0cfe4ac1bf9202ecf9590e67/cdn-prod/file:5788b470/image/loading_2.e3d934bf.png\" alt=\"\" class=\"poster-default\" />\n",
      "      <img data-src=\"https://p0.meituan.net/movie/223c3e186db3ab4ea3bb14508c709400427933.jpg@160w_220h_1e_1c\" alt=\"乱世佳人\" class=\"board-img\" />\n",
      "    </a>\n",
      "    <div class=\"board-item-main\">\n",
      "      <div class=\"board-item-content\">\n",
      "              <div class=\"movie-item-info\">\n",
      "        <p class=\"name\"><a href=\"/films/7431\" title=\"乱世佳人\" data-act=\"boarditem-click\" data-val=\"{movieId:7431}\">乱世佳人</a></p>\n",
      "        <p class=\"star\">\n",
      "                主演：费雯·丽,克拉克·盖博,奥利维娅·德哈维兰\n",
      "        </p>\n",
      "<p class=\"releasetime\">上映时间：1939-12-15(美国)</p>    </div>\n",
      "    <div class=\"movie-item-number score-num\">\n",
      "<p class=\"score\"><i class=\"integer\">9.</i><i class=\"fraction\">1</i></p>        \n",
      "    </div>\n",
      "\n",
      "      </div>\n",
      "    </div>\n",
      "\n",
      "                </dd>\n",
      "                <dd>\n",
      "                        <i class=\"board-index board-index-8\">8</i>\n",
      "    <a href=\"/films/2760\" title=\"魂断蓝桥\" class=\"image-link\" data-act=\"boarditem-click\" data-val=\"{movieId:2760}\">\n",
      "      <img src=\"//s3plus.meituan.net/v1/mss_e2821d7f0cfe4ac1bf9202ecf9590e67/cdn-prod/file:5788b470/image/loading_2.e3d934bf.png\" alt=\"\" class=\"poster-default\" />\n",
      "      <img data-src=\"https://p0.meituan.net/movie/46c29a8b8d8424bdda7715e6fd779c66235684.jpg@160w_220h_1e_1c\" alt=\"魂断蓝桥\" class=\"board-img\" />\n",
      "    </a>\n",
      "    <div class=\"board-item-main\">\n",
      "      <div class=\"board-item-content\">\n",
      "              <div class=\"movie-item-info\">\n",
      "        <p class=\"name\"><a href=\"/films/2760\" title=\"魂断蓝桥\" data-act=\"boarditem-click\" data-val=\"{movieId:2760}\">魂断蓝桥</a></p>\n",
      "        <p class=\"star\">\n",
      "                主演：费雯·丽,罗伯特·泰勒,露塞尔·沃特森\n",
      "        </p>\n",
      "<p class=\"releasetime\">上映时间：1940-05-17(美国)</p>    </div>\n",
      "    <div class=\"movie-item-number score-num\">\n",
      "<p class=\"score\"><i class=\"integer\">9.</i><i class=\"fraction\">2</i></p>        \n",
      "    </div>\n",
      "\n",
      "      </div>\n",
      "    </div>\n",
      "\n",
      "                </dd>\n",
      "                <dd>\n",
      "                        <i class=\"board-index board-index-9\">9</i>\n",
      "    <a href=\"/films/1228\" title=\"天空之城\" class=\"image-link\" data-act=\"boarditem-click\" data-val=\"{movieId:1228}\">\n",
      "      <img src=\"//s3plus.meituan.net/v1/mss_e2821d7f0cfe4ac1bf9202ecf9590e67/cdn-prod/file:5788b470/image/loading_2.e3d934bf.png\" alt=\"\" class=\"poster-default\" />\n",
      "      <img data-src=\"https://p1.meituan.net/movie/ba1ed511668402605ed369350ab779d6319397.jpg@160w_220h_1e_1c\" alt=\"天空之城\" class=\"board-img\" />\n",
      "    </a>\n",
      "    <div class=\"board-item-main\">\n",
      "      <div class=\"board-item-content\">\n",
      "              <div class=\"movie-item-info\">\n",
      "        <p class=\"name\"><a href=\"/films/1228\" title=\"天空之城\" data-act=\"boarditem-click\" data-val=\"{movieId:1228}\">天空之城</a></p>\n",
      "        <p class=\"star\">\n",
      "                主演：寺田农,鹫尾真知子,龟山助清\n",
      "        </p>\n",
      "<p class=\"releasetime\">上映时间：1992-05-01</p>    </div>\n",
      "    <div class=\"movie-item-number score-num\">\n",
      "<p class=\"score\"><i class=\"integer\">9.</i><i class=\"fraction\">0</i></p>        \n",
      "    </div>\n",
      "\n",
      "      </div>\n",
      "    </div>\n",
      "\n",
      "                </dd>\n",
      "                <dd>\n",
      "                        <i class=\"board-index board-index-10\">10</i>\n",
      "    <a href=\"/films/3667\" title=\"辛德勒的名单\" class=\"image-link\" data-act=\"boarditem-click\" data-val=\"{movieId:3667}\">\n",
      "      <img src=\"//s3plus.meituan.net/v1/mss_e2821d7f0cfe4ac1bf9202ecf9590e67/cdn-prod/file:5788b470/image/loading_2.e3d934bf.png\" alt=\"\" class=\"poster-default\" />\n",
      "      <img data-src=\"https://p0.meituan.net/movie/b0d986a8bf89278afbb19f6abaef70f31206570.jpg@160w_220h_1e_1c\" alt=\"辛德勒的名单\" class=\"board-img\" />\n",
      "    </a>\n",
      "    <div class=\"board-item-main\">\n",
      "      <div class=\"board-item-content\">\n",
      "              <div class=\"movie-item-info\">\n",
      "        <p class=\"name\"><a href=\"/films/3667\" title=\"辛德勒的名单\" data-act=\"boarditem-click\" data-val=\"{movieId:3667}\">辛德勒的名单</a></p>\n",
      "        <p class=\"star\">\n",
      "                主演：连姆·尼森,拉尔夫·费因斯,本·金斯利\n",
      "        </p>\n",
      "<p class=\"releasetime\">上映时间：1993-12-15(美国)</p>    </div>\n",
      "    <div class=\"movie-item-number score-num\">\n",
      "<p class=\"score\"><i class=\"integer\">9.</i><i class=\"fraction\">2</i></p>        \n",
      "    </div>\n",
      "\n",
      "      </div>\n",
      "    </div>\n",
      "\n",
      "                </dd>\n",
      "            </dl>\n",
      "\n",
      "        </div>\n",
      "            <div class=\"pager-main\">\n",
      "                \n",
      "  \n",
      "  <ul class=\"list-pager\">\n",
      "\n",
      "\n",
      "\n",
      "  \n",
      "      <li class=\"active\">\n",
      "    <a class=\"page_1\"\n",
      "      href=\"javascript:void(0);\" style=\"cursor: default\"\n",
      "  >1</a>\n",
      "\n",
      "</li>\n",
      "  <li >\n",
      "    <a class=\"page_2\"\n",
      "      href=\"?offset=10\"\n",
      "  >2</a>\n",
      "\n",
      "</li>\n",
      "  <li >\n",
      "    <a class=\"page_3\"\n",
      "      href=\"?offset=20\"\n",
      "  >3</a>\n",
      "\n",
      "</li>\n",
      "  <li >\n",
      "    <a class=\"page_4\"\n",
      "      href=\"?offset=30\"\n",
      "  >4</a>\n",
      "\n",
      "</li>\n",
      "  <li >\n",
      "    <a class=\"page_5\"\n",
      "      href=\"?offset=40\"\n",
      "  >5</a>\n",
      "\n",
      "</li>\n",
      "\n",
      "    <li class=\"sep\">...</li>\n",
      "      <li >\n",
      "    <a class=\"page_10\"\n",
      "      href=\"?offset=90\"\n",
      "  >10</a>\n",
      "\n",
      "</li>\n",
      "\n",
      "  \n",
      "\n",
      "<li>  <a class=\"page_2\"\n",
      "      href=\"?offset=10\"\n",
      "  >下一页</a>\n",
      "</li>\n",
      "</ul>\n",
      "\n",
      "\n",
      "            </div>\n",
      "    </div>\n",
      "</div>\n",
      "\n",
      "    </div>\n",
      "\n",
      "<div class=\"footer\">\n",
      "  <p class=\"friendly-links\">\n",
      "    关于猫眼 :\n",
      "    <a href=\"http://ir.maoyan.com/s/index.php#pageScroll0\" target=\"_blank\">关于我们</a>\n",
      "    <span></span>\n",
      "    <a href=\"http://ir.maoyan.com/s/index.php#pageScroll1\" target=\"_blank\">管理团队</a>\n",
      "    <span></span>\n",
      "    <a href=\"http://ir.maoyan.com/s/index.php#pageScroll2\" target=\"_blank\">投资者关系</a>\n",
      "    &nbsp;&nbsp;&nbsp;&nbsp;\n",
      "    友情链接 :\n",
      "    <a href=\"http://www.meituan.com\" data-query=\"utm_source=wwwmaoyan\" target=\"_blank\">美团网</a>\n",
      "    <span></span>\n",
      "    <a href=\"http://www.gewara.com\" data-query=\"utm_source=wwwmaoyan\">格瓦拉</a>\n",
      "    <span></span>\n",
      "    <a href=\"http://i.meituan.com/client\" data-query=\"utm_source=wwwmaoyan\" target=\"_blank\">美团下载</a>\n",
      "    <span></span>\n",
      "    <a href=\"https://www.huanxi.com\" data-query=\"utm_source=maoyan_pc\" target=\"_blank\">欢喜首映</a>\n",
      "  </p>\n",
      "  <p class=\"friendly-links\">\n",
      "    商务合作邮箱：v@maoyan.com\n",
      "    客服电话：10105335\n",
      "    违法和不良信息举报电话：4006018900\n",
      "  </p>\n",
      "  <p class=\"friendly-links\">\n",
      "    用户投诉邮箱：tousujubao@meituan.com\n",
      "    舞弊线索举报邮箱：wubijubao@maoyan.com\n",
      "  </p>\n",
      "  <p class=\"friendly-links  credentials\">\n",
      "    <a href=\"/about/licence/1\" target=\"_blank\">中华人民共和国增值电信业务经营许可证 京B2-20190350</a>\n",
      "    <span></span>\n",
      "    <a href=\"/about/licence/4\" target=\"_blank\">营业性演出许可证 京演（机构）（2019）4094号</a>\n",
      "  </p>\n",
      "  <p class=\"friendly-links  credentials\">\n",
      "    <a href=\"/about/licence/3\" target=\"_blank\">广播电视节目制作经营许可证 （京）字第08478号</a>\n",
      "    <span></span>\n",
      "    <a href=\"/about/licence/2\" target=\"_blank\">网络文化经营许可证 京网文（2019）3837-369号 </a>\n",
      "  </p>\n",
      "  <p class=\"friendly-links  credentials\">\n",
      "    <a href=\"/rules/agreement\" target=\"_blank\">猫眼用户服务协议 </a>\n",
      "    <span></span>\n",
      "    <a href=\"/rules/rule\" target=\"_blank\">猫眼平台交易规则总则 </a>\n",
      "    <span></span>\n",
      "    <a href=\"/rules/privacy\" target=\"_blank\">隐私政策 </a>\n",
      "  </p>\n",
      "  <p class=\"friendly-links  credentials\">\n",
      "    <a href=\"http://www.beian.gov.cn/portal/registerSystemInfo?recordcode=11010102003232\" target=\"_blank\">京公网安备\n",
      "      11010102003232号</a>\n",
      "  </p>\n",
      "  <p>北京猫眼文化传媒有限公司</p>\n",
      "  <p>\n",
      "    &copy;2016\n",
      "    猫眼电影 maoyan.com</p>\n",
      "  <div class=\"certificate\">\n",
      "    <a href=\"http://sq.ccm.gov.cn:80/ccnt/sczr/service/business/emark/toDetail/350CF8BCA8416C4FE0530140A8C0957E\"\n",
      "      target=\"_blank\">\n",
      "      <img src=\"http://p0.meituan.net/moviemachine/e54374ccf134d1f7b2c5b075a74fca525326.png\" />\n",
      "    </a>\n",
      "    <a href=\"/about/licence/5\" target=\"_blank\">\n",
      "      <img src=\"http://p1.meituan.net/moviemachine/805f605d5cf1b1a02a4e3a5e29df003b8376.png\" />\n",
      "    </a>\n",
      "  </div>\n",
      "</div>\n",
      "\n",
      "    <script crossorigin=\"anonymous\" src=\"//www.dpfile.com/app/owl/static/owl_1.7.11.js\"></script>\n",
      "    <script>\n",
      "      Owl.start({\n",
      "        project: 'com.sankuai.movie.fe.mywww', \n",
      "        pageUrl: location.href.split('?')[0].replace(/\\/\\d+/g, '/:id'),\n",
      "        devMode: false\n",
      "      })\n",
      "    </script>\n",
      "    <!--[if IE 8]><script crossorigin=\"anonymous\" src=\"//s3plus.meituan.net/v1/mss_e2821d7f0cfe4ac1bf9202ecf9590e67/cdn-prod/file:5788b470/es5-shim.bbad933f.js\"></script><![endif]-->\n",
      "    <!--[if IE 8]><script crossorigin=\"anonymous\" src=\"//s3plus.meituan.net/v1/mss_e2821d7f0cfe4ac1bf9202ecf9590e67/cdn-prod/file:5788b470/es5-sham.d6ea26f4.js\"></script><![endif]-->\n",
      "    <script crossorigin=\"anonymous\" src=\"//s3plus.meituan.net/v1/mss_e2821d7f0cfe4ac1bf9202ecf9590e67/cdn-prod/file:5788b470/common.9fc677f9.js\"></script>\n",
      "<script crossorigin=\"anonymous\" src=\"//s3plus.meituan.net/v1/mss_e2821d7f0cfe4ac1bf9202ecf9590e67/cdn-prod/file:5788b470/board-index.0cdf8e36.js\"></script>\n",
      "</body>\n",
      "</html>\n",
      "\n"
     ]
    }
   ],
   "source": [
    "import requests\n",
    "\n",
    "\n",
    "def get_one_page(url):\n",
    "    headers = {'User-Agent': 'Mozilla/5.0 (Macintosh; Intel Mac OS X 10_13_2) AppleWebKit/537.36 (KHTML, like Gecko) Chrome/76.0.3809.110 Safari/537.36 Vivaldi/2.7.1628.30'}\n",
    "    response = requests.get(url, headers=headers)\n",
    "    if response.status_code == 200:\n",
    "        return response.text\n",
    "    return None\n",
    "\n",
    "\n",
    "def main():\n",
    "    url = 'https://maoyan.com/board/4'\n",
    "    html = get_one_page(url)\n",
    "    print(html)\n",
    "\n",
    "\n",
    "main()\n"
   ]
  },
  {
   "cell_type": "code",
   "execution_count": 36,
   "metadata": {},
   "outputs": [
    {
     "name": "stdout",
     "output_type": "stream",
     "text": [
      "['1', '2', '3', '4', '5', '6', '7', '8', '9', '10']\n"
     ]
    }
   ],
   "source": [
    "html = get_one_page('https://maoyan.com/board/4')\n",
    "import re\n",
    "\n",
    "\n",
    "results = re.findall('<dd>.*?<i.*?>(.*?)</i>', html, re.S)\n",
    "print(results)"
   ]
  },
  {
   "cell_type": "code",
   "execution_count": 37,
   "metadata": {},
   "outputs": [
    {
     "name": "stdout",
     "output_type": "stream",
     "text": [
      "[('1', 'https://p1.meituan.net/movie/20803f59291c47e1e116c11963ce019e68711.jpg@160w_220h_1e_1c'), ('2', 'https://p0.meituan.net/movie/283292171619cdfd5b240c8fd093f1eb255670.jpg@160w_220h_1e_1c'), ('3', 'https://p0.meituan.net/movie/289f98ceaa8a0ae737d3dc01cd05ab052213631.jpg@160w_220h_1e_1c'), ('4', 'https://p1.meituan.net/movie/6bea9af4524dfbd0b668eaa7e187c3df767253.jpg@160w_220h_1e_1c'), ('5', 'https://p1.meituan.net/movie/b607fba7513e7f15eab170aac1e1400d878112.jpg@160w_220h_1e_1c'), ('6', 'https://p0.meituan.net/movie/da64660f82b98cdc1b8a3804e69609e041108.jpg@160w_220h_1e_1c'), ('7', 'https://p0.meituan.net/movie/223c3e186db3ab4ea3bb14508c709400427933.jpg@160w_220h_1e_1c'), ('8', 'https://p0.meituan.net/movie/46c29a8b8d8424bdda7715e6fd779c66235684.jpg@160w_220h_1e_1c'), ('9', 'https://p1.meituan.net/movie/ba1ed511668402605ed369350ab779d6319397.jpg@160w_220h_1e_1c'), ('10', 'https://p0.meituan.net/movie/b0d986a8bf89278afbb19f6abaef70f31206570.jpg@160w_220h_1e_1c')]\n"
     ]
    }
   ],
   "source": [
    "results = re.findall('<dd>.*?<i.*?>(.*?)</i>.*?data-src=\"(.*?)\".*?</a>', html, re.S)\n",
    "print(results)"
   ]
  },
  {
   "cell_type": "code",
   "execution_count": 1,
   "metadata": {},
   "outputs": [
    {
     "name": "stdout",
     "output_type": "stream",
     "text": [
      "<!DOCTYPE html>\n",
      "\n",
      "<!--[if IE 8]><html class=\"ie8\"><![endif]-->\n",
      "<!--[if IE 9]><html class=\"ie9\"><![endif]-->\n",
      "<!--[if gt IE 9]><!--><html><!--<![endif]-->\n",
      "<head>\n",
      "  <title>TOP100榜 - 猫眼电影 - 一网打尽好电影</title>\n",
      "  \n",
      "  <link rel=\"dns-prefetch\" href=\"//p0.meituan.net\"  />\n",
      "  <link rel=\"dns-prefetch\" href=\"//p1.meituan.net\"  />\n",
      "  <link rel=\"dns-prefetch\" href=\"//ms0.meituan.net\" />\n",
      "  <link rel=\"dns-prefetch\" href=\"//s0.meituan.net\" />\n",
      "  <link rel=\"dns-prefetch\" href=\"//ms1.meituan.net\" />\n",
      "  <link rel=\"dns-prefetch\" href=\"//analytics.meituan.com\" />\n",
      "  <link rel=\"dns-prefetch\" href=\"//report.meituan.com\" />\n",
      "  <link rel=\"dns-prefetch\" href=\"//frep.meituan.com\" />\n",
      "\n",
      "  \n",
      "  <meta charset=\"utf-8\">\n",
      "  <meta name=\"keywords\" content=\"猫眼电影,电影排行榜,热映口碑榜,最受期待榜,国内票房榜,北美票房榜,猫眼TOP100\">\n",
      "  <meta name=\"description\" content=\"猫眼电影热门榜单,包括热映口碑榜,最受期待榜,国内票房榜,北美票房榜,猫眼TOP100,多维度为用户进行选片决策\">\n",
      "  <meta http-equiv=\"cleartype\" content=\"yes\" />\n",
      "  <meta http-equiv=\"X-UA-Compatible\" content=\"IE=edge\" />\n",
      "  <meta name=\"renderer\" content=\"webkit\" />\n",
      "\n",
      "  <meta name=\"HandheldFriendly\" content=\"true\" />\n",
      "  <meta name=\"format-detection\" content=\"email=no\" />\n",
      "  <meta name=\"format-detection\" content=\"telephone=no\" />\n",
      "  <meta name=\"viewport\" content=\"width=device-width, initial-scale=1\">\n",
      "\n",
      "  \n",
      "  <script>\"use strict\";!function(){var i=0<arguments.length&&void 0!==arguments[0]?arguments[0]:\"_Owl_\",n=window;n[i]||(n[i]={isRunning:!1,isReady:!1,preTasks:[],dataSet:[],use:function(i,t){this.isReady&&n.Owl&&n.Owl[i](t),this.preTasks.push({api:i,data:[t]})},add:function(i){this.dataSet.push(i)},run:function(){var t=this;if(!this.isRunning){this.isRunning=!0;var i=n.onerror;n.onerror=function(){this.isReady||this.add({type:\"jsError\",data:arguments}),i&&i.apply(n,arguments)}.bind(this),(n.addEventListener||n.attachEvent)(\"error\",function(i){t.isReady||t.add({type:\"resError\",data:[i]})},!0)}}},n[i].run())}();</script>\n",
      "  <script>\n",
      "  cid = \"c_wx6zb55\";\n",
      "  ci = 30;\n",
      "val = {\"subnavId\":4};    window.system = {};\n",
      "\n",
      "  window.openPlatform = '';\n",
      "  window.openPlatformSub = '';\n",
      "  window.$mtsiFlag = '0';\n",
      "\n",
      "  </script>\n",
      "  <link rel=\"stylesheet\" href=\"//s3plus.meituan.net/v1/mss_e2821d7f0cfe4ac1bf9202ecf9590e67/cdn-prod/file:5788b470/common.0a548310.css\"/>\n",
      "<link rel=\"stylesheet\" href=\"//s3plus.meituan.net/v1/mss_e2821d7f0cfe4ac1bf9202ecf9590e67/cdn-prod/file:5788b470/board-index.92a06072.css\"/>\n",
      "  <script crossorigin=\"anonymous\" src=\"//s3plus.meituan.net/v1/mss_e2821d7f0cfe4ac1bf9202ecf9590e67/cdn-prod/file:5788b470/stat.88d57c80.js\"></script>\n",
      "  <script>if(window.devicePixelRatio >= 2) { document.write('<link rel=\"stylesheet\" href=\"//s3plus.meituan.net/v1/mss_e2821d7f0cfe4ac1bf9202ecf9590e67/cdn-prod/file:5788b470/image-2x.8ba7074d.css\"/>') }</script>\n",
      "  <style>\n",
      "    @font-face {\n",
      "      font-family: stonefont;\n",
      "      src: url('//vfile.meituan.net/colorstone/260e7895ccbee0cffe47696ab24fdb393420.eot');\n",
      "      src: url('//vfile.meituan.net/colorstone/260e7895ccbee0cffe47696ab24fdb393420.eot?#iefix') format('embedded-opentype'),\n",
      "           url('//vfile.meituan.net/colorstone/817c0ce87803fdc435cad6295b1427d82280.woff') format('woff');\n",
      "    }\n",
      "\n",
      "    .stonefont {\n",
      "      font-family: stonefont;\n",
      "    }\n",
      "  </style>\n",
      "  <script>\n",
      "  var _hmt = _hmt || [];\n",
      "  (function() {\n",
      "  var hm = document.createElement(\"script\");\n",
      "  hm.src = \"https://hm.baidu.com/hm.js?703e94591e87be68cc8da0da7cbd0be2\";\n",
      "  var s = document.getElementsByTagName(\"script\")[0]; \n",
      "  s.parentNode.insertBefore(hm, s);\n",
      "  })();\n",
      "  </script>\n",
      "</head>\n",
      "<body>\n",
      "\n",
      "\n",
      "<div class=\"header\">\n",
      "  <div class=\"header-inner\">\n",
      "        <a href=\"/\" class=\"logo\" data-act=\"icon-click\"></a>\n",
      "        <div class=\"city-container\" data-val=\"{currentcityid:30 }\">\n",
      "            <div class=\"city-selected\">\n",
      "                <div class=\"city-name\">\n",
      "                  深圳\n",
      "                  <span class=\"caret\"></span>\n",
      "                </div>\n",
      "            </div>\n",
      "            <div class=\"city-list\" data-val=\"{ localcityid: 30 }\">\n",
      "                <div class=\"city-list-header\">定位城市：<a class=\"js-geo-city\">深圳</a></div>\n",
      "                \n",
      "            </div>\n",
      "        </div>\n",
      "\n",
      "\n",
      "        <div class=\"nav\">\n",
      "            <ul class=\"navbar\">\n",
      "                <li><a href=\"/\" data-act=\"home-click\"  >首页</a></li>\n",
      "                <li><a href=\"/films\" data-act=\"movies-click\" >电影</a></li>\n",
      "                <li><a href=\"/cinemas\" data-act=\"cinemas-click\" >影院</a></li> \n",
      "                <li><a href=\"http://www.gewara.com\">演出</a></li>\n",
      "                \n",
      "                <li><a href=\"/board\" data-act=\"board-click\"  class=\"active\" >榜单</a></li>\n",
      "                <li><a href=\"/news\" data-act=\"hotNews-click\" >热点</a></li>\n",
      "                <li><a href=\"/edimall\"  >商城</a></li>\n",
      "            </ul>\n",
      "        </div>\n",
      "\n",
      "        <div class=\"user-info\">\n",
      "            <div class=\"user-avatar J-login\">\n",
      "              <img src=\"https://p0.meituan.net/movie/7dd82a16316ab32c8359debdb04396ef2897.png\">\n",
      "              <span class=\"caret\"></span>\n",
      "              <ul class=\"user-menu\">\n",
      "                <li><a href=\"javascript:void 0\">登录</a></li>\n",
      "              </ul>\n",
      "            </div>\n",
      "        </div>\n",
      "\n",
      "        <form action=\"/query\" target=\"_blank\" class=\"search-form\" data-actform=\"search-click\">\n",
      "            <input name=\"kw\" class=\"search\" type=\"search\" maxlength=\"32\" placeholder=\"找影视剧、影人、影院\" autocomplete=\"off\">\n",
      "            <input class=\"submit\" type=\"submit\" value=\"\">\n",
      "        </form>\n",
      "\n",
      "        <div class=\"app-download\">\n",
      "          <a href=\"/app\" target=\"_blank\">\n",
      "            <span class=\"iphone-icon\"></span>\n",
      "            <span class=\"apptext\">APP下载</span>\n",
      "            <span class=\"caret\"></span>\n",
      "            <div class=\"download-icon\">\n",
      "                <p class=\"down-title\">扫码下载APP</p>\n",
      "                <p class='down-content'>选座更优惠</p>\n",
      "            </div>\n",
      "          </a>\n",
      "        </div>\n",
      "    \n",
      "  </div>\n",
      "</div>\n",
      "<div class=\"header-placeholder\"></div>\n",
      "\n",
      "<div class=\"subnav\">\n",
      "  <ul class=\"navbar\">\n",
      "    <li>\n",
      "      <a data-act=\"subnav-click\" data-val=\"{subnavClick:7}\"\n",
      "          href=\"/board/7\"\n",
      "      >热映口碑榜</a>\n",
      "    </li>\n",
      "    <li>\n",
      "      <a data-act=\"subnav-click\" data-val=\"{subnavClick:6}\"\n",
      "          href=\"/board/6\"\n",
      "      >最受期待榜</a>\n",
      "    </li>\n",
      "    <li>\n",
      "      <a data-act=\"subnav-click\" data-val=\"{subnavClick:1}\"\n",
      "          href=\"/board/1\"\n",
      "      >国内票房榜</a>\n",
      "    </li>\n",
      "    <li>\n",
      "      <a data-act=\"subnav-click\" data-val=\"{subnavClick:2}\"\n",
      "          href=\"/board/2\"\n",
      "      >北美票房榜</a>\n",
      "    </li>\n",
      "    <li>\n",
      "      <a data-act=\"subnav-click\" data-val=\"{subnavClick:4}\"\n",
      "          data-state-val=\"{subnavId:4}\"\n",
      "          class=\"active\" href=\"javascript:void(0);\"\n",
      "      >TOP100榜</a>\n",
      "    </li>\n",
      "  </ul>\n",
      "</div>\n",
      "\n",
      "\n",
      "    <div class=\"container\" id=\"app\" class=\"page-board/index\" >\n",
      "\n",
      "<div class=\"content\">\n",
      "    <div class=\"wrapper\">\n",
      "        <div class=\"main\">\n",
      "            <p class=\"update-time\">2019-12-01<span class=\"has-fresh-text\">已更新</span></p>\n",
      "            <p class=\"board-content\">榜单规则：将猫眼电影库中的经典影片，按照评分和评分人数从高到低综合排序取前100名，每天上午10点更新。相关数据来源于“猫眼电影库”。</p>\n",
      "            <dl class=\"board-wrapper\">\n",
      "                <dd>\n",
      "                        <i class=\"board-index board-index-1\">1</i>\n",
      "    <a href=\"/films/1203\" title=\"霸王别姬\" class=\"image-link\" data-act=\"boarditem-click\" data-val=\"{movieId:1203}\">\n",
      "      <img src=\"//s3plus.meituan.net/v1/mss_e2821d7f0cfe4ac1bf9202ecf9590e67/cdn-prod/file:5788b470/image/loading_2.e3d934bf.png\" alt=\"\" class=\"poster-default\" />\n",
      "      <img data-src=\"https://p1.meituan.net/movie/20803f59291c47e1e116c11963ce019e68711.jpg@160w_220h_1e_1c\" alt=\"霸王别姬\" class=\"board-img\" />\n",
      "    </a>\n",
      "    <div class=\"board-item-main\">\n",
      "      <div class=\"board-item-content\">\n",
      "              <div class=\"movie-item-info\">\n",
      "        <p class=\"name\"><a href=\"/films/1203\" title=\"霸王别姬\" data-act=\"boarditem-click\" data-val=\"{movieId:1203}\">霸王别姬</a></p>\n",
      "        <p class=\"star\">\n",
      "                主演：张国荣,张丰毅,巩俐\n",
      "        </p>\n",
      "<p class=\"releasetime\">上映时间：1993-07-26</p>    </div>\n",
      "    <div class=\"movie-item-number score-num\">\n",
      "<p class=\"score\"><i class=\"integer\">9.</i><i class=\"fraction\">5</i></p>        \n",
      "    </div>\n",
      "\n",
      "      </div>\n",
      "    </div>\n",
      "\n",
      "                </dd>\n",
      "                <dd>\n",
      "                        <i class=\"board-index board-index-2\">2</i>\n",
      "    <a href=\"/films/1297\" title=\"肖申克的救赎\" class=\"image-link\" data-act=\"boarditem-click\" data-val=\"{movieId:1297}\">\n",
      "      <img src=\"//s3plus.meituan.net/v1/mss_e2821d7f0cfe4ac1bf9202ecf9590e67/cdn-prod/file:5788b470/image/loading_2.e3d934bf.png\" alt=\"\" class=\"poster-default\" />\n",
      "      <img data-src=\"https://p0.meituan.net/movie/283292171619cdfd5b240c8fd093f1eb255670.jpg@160w_220h_1e_1c\" alt=\"肖申克的救赎\" class=\"board-img\" />\n",
      "    </a>\n",
      "    <div class=\"board-item-main\">\n",
      "      <div class=\"board-item-content\">\n",
      "              <div class=\"movie-item-info\">\n",
      "        <p class=\"name\"><a href=\"/films/1297\" title=\"肖申克的救赎\" data-act=\"boarditem-click\" data-val=\"{movieId:1297}\">肖申克的救赎</a></p>\n",
      "        <p class=\"star\">\n",
      "                主演：蒂姆·罗宾斯,摩根·弗里曼,鲍勃·冈顿\n",
      "        </p>\n",
      "<p class=\"releasetime\">上映时间：1994-09-10(加拿大)</p>    </div>\n",
      "    <div class=\"movie-item-number score-num\">\n",
      "<p class=\"score\"><i class=\"integer\">9.</i><i class=\"fraction\">5</i></p>        \n",
      "    </div>\n",
      "\n",
      "      </div>\n",
      "    </div>\n",
      "\n",
      "                </dd>\n",
      "                <dd>\n",
      "                        <i class=\"board-index board-index-3\">3</i>\n",
      "    <a href=\"/films/2641\" title=\"罗马假日\" class=\"image-link\" data-act=\"boarditem-click\" data-val=\"{movieId:2641}\">\n",
      "      <img src=\"//s3plus.meituan.net/v1/mss_e2821d7f0cfe4ac1bf9202ecf9590e67/cdn-prod/file:5788b470/image/loading_2.e3d934bf.png\" alt=\"\" class=\"poster-default\" />\n",
      "      <img data-src=\"https://p0.meituan.net/movie/289f98ceaa8a0ae737d3dc01cd05ab052213631.jpg@160w_220h_1e_1c\" alt=\"罗马假日\" class=\"board-img\" />\n",
      "    </a>\n",
      "    <div class=\"board-item-main\">\n",
      "      <div class=\"board-item-content\">\n",
      "              <div class=\"movie-item-info\">\n",
      "        <p class=\"name\"><a href=\"/films/2641\" title=\"罗马假日\" data-act=\"boarditem-click\" data-val=\"{movieId:2641}\">罗马假日</a></p>\n",
      "        <p class=\"star\">\n",
      "                主演：格利高里·派克,奥黛丽·赫本,埃迪·艾伯特\n",
      "        </p>\n",
      "<p class=\"releasetime\">上映时间：1953-09-02(美国)</p>    </div>\n",
      "    <div class=\"movie-item-number score-num\">\n",
      "<p class=\"score\"><i class=\"integer\">9.</i><i class=\"fraction\">1</i></p>        \n",
      "    </div>\n",
      "\n",
      "      </div>\n",
      "    </div>\n",
      "\n",
      "                </dd>\n",
      "                <dd>\n",
      "                        <i class=\"board-index board-index-4\">4</i>\n",
      "    <a href=\"/films/4055\" title=\"这个杀手不太冷\" class=\"image-link\" data-act=\"boarditem-click\" data-val=\"{movieId:4055}\">\n",
      "      <img src=\"//s3plus.meituan.net/v1/mss_e2821d7f0cfe4ac1bf9202ecf9590e67/cdn-prod/file:5788b470/image/loading_2.e3d934bf.png\" alt=\"\" class=\"poster-default\" />\n",
      "      <img data-src=\"https://p1.meituan.net/movie/6bea9af4524dfbd0b668eaa7e187c3df767253.jpg@160w_220h_1e_1c\" alt=\"这个杀手不太冷\" class=\"board-img\" />\n",
      "    </a>\n",
      "    <div class=\"board-item-main\">\n",
      "      <div class=\"board-item-content\">\n",
      "              <div class=\"movie-item-info\">\n",
      "        <p class=\"name\"><a href=\"/films/4055\" title=\"这个杀手不太冷\" data-act=\"boarditem-click\" data-val=\"{movieId:4055}\">这个杀手不太冷</a></p>\n",
      "        <p class=\"star\">\n",
      "                主演：让·雷诺,加里·奥德曼,娜塔莉·波特曼\n",
      "        </p>\n",
      "<p class=\"releasetime\">上映时间：1994-09-14(法国)</p>    </div>\n",
      "    <div class=\"movie-item-number score-num\">\n",
      "<p class=\"score\"><i class=\"integer\">9.</i><i class=\"fraction\">5</i></p>        \n",
      "    </div>\n",
      "\n",
      "      </div>\n",
      "    </div>\n",
      "\n",
      "                </dd>\n",
      "                <dd>\n",
      "                        <i class=\"board-index board-index-5\">5</i>\n",
      "    <a href=\"/films/267\" title=\"泰坦尼克号\" class=\"image-link\" data-act=\"boarditem-click\" data-val=\"{movieId:267}\">\n",
      "      <img src=\"//s3plus.meituan.net/v1/mss_e2821d7f0cfe4ac1bf9202ecf9590e67/cdn-prod/file:5788b470/image/loading_2.e3d934bf.png\" alt=\"\" class=\"poster-default\" />\n",
      "      <img data-src=\"https://p1.meituan.net/movie/b607fba7513e7f15eab170aac1e1400d878112.jpg@160w_220h_1e_1c\" alt=\"泰坦尼克号\" class=\"board-img\" />\n",
      "    </a>\n",
      "    <div class=\"board-item-main\">\n",
      "      <div class=\"board-item-content\">\n",
      "              <div class=\"movie-item-info\">\n",
      "        <p class=\"name\"><a href=\"/films/267\" title=\"泰坦尼克号\" data-act=\"boarditem-click\" data-val=\"{movieId:267}\">泰坦尼克号</a></p>\n",
      "        <p class=\"star\">\n",
      "                主演：莱昂纳多·迪卡普里奥,凯特·温丝莱特,比利·赞恩\n",
      "        </p>\n",
      "<p class=\"releasetime\">上映时间：1998-04-03</p>    </div>\n",
      "    <div class=\"movie-item-number score-num\">\n",
      "<p class=\"score\"><i class=\"integer\">9.</i><i class=\"fraction\">5</i></p>        \n",
      "    </div>\n",
      "\n",
      "      </div>\n",
      "    </div>\n",
      "\n",
      "                </dd>\n",
      "                <dd>\n",
      "                        <i class=\"board-index board-index-6\">6</i>\n",
      "    <a href=\"/films/837\" title=\"唐伯虎点秋香\" class=\"image-link\" data-act=\"boarditem-click\" data-val=\"{movieId:837}\">\n",
      "      <img src=\"//s3plus.meituan.net/v1/mss_e2821d7f0cfe4ac1bf9202ecf9590e67/cdn-prod/file:5788b470/image/loading_2.e3d934bf.png\" alt=\"\" class=\"poster-default\" />\n",
      "      <img data-src=\"https://p0.meituan.net/movie/da64660f82b98cdc1b8a3804e69609e041108.jpg@160w_220h_1e_1c\" alt=\"唐伯虎点秋香\" class=\"board-img\" />\n",
      "    </a>\n",
      "    <div class=\"board-item-main\">\n",
      "      <div class=\"board-item-content\">\n",
      "              <div class=\"movie-item-info\">\n",
      "        <p class=\"name\"><a href=\"/films/837\" title=\"唐伯虎点秋香\" data-act=\"boarditem-click\" data-val=\"{movieId:837}\">唐伯虎点秋香</a></p>\n",
      "        <p class=\"star\">\n",
      "                主演：周星驰,巩俐,郑佩佩\n",
      "        </p>\n",
      "<p class=\"releasetime\">上映时间：1993-07-01(中国香港)</p>    </div>\n",
      "    <div class=\"movie-item-number score-num\">\n",
      "<p class=\"score\"><i class=\"integer\">9.</i><i class=\"fraction\">1</i></p>        \n",
      "    </div>\n",
      "\n",
      "      </div>\n",
      "    </div>\n",
      "\n",
      "                </dd>\n",
      "                <dd>\n",
      "                        <i class=\"board-index board-index-7\">7</i>\n",
      "    <a href=\"/films/7431\" title=\"乱世佳人\" class=\"image-link\" data-act=\"boarditem-click\" data-val=\"{movieId:7431}\">\n",
      "      <img src=\"//s3plus.meituan.net/v1/mss_e2821d7f0cfe4ac1bf9202ecf9590e67/cdn-prod/file:5788b470/image/loading_2.e3d934bf.png\" alt=\"\" class=\"poster-default\" />\n",
      "      <img data-src=\"https://p0.meituan.net/movie/223c3e186db3ab4ea3bb14508c709400427933.jpg@160w_220h_1e_1c\" alt=\"乱世佳人\" class=\"board-img\" />\n",
      "    </a>\n",
      "    <div class=\"board-item-main\">\n",
      "      <div class=\"board-item-content\">\n",
      "              <div class=\"movie-item-info\">\n",
      "        <p class=\"name\"><a href=\"/films/7431\" title=\"乱世佳人\" data-act=\"boarditem-click\" data-val=\"{movieId:7431}\">乱世佳人</a></p>\n",
      "        <p class=\"star\">\n",
      "                主演：费雯·丽,克拉克·盖博,奥利维娅·德哈维兰\n",
      "        </p>\n",
      "<p class=\"releasetime\">上映时间：1939-12-15(美国)</p>    </div>\n",
      "    <div class=\"movie-item-number score-num\">\n",
      "<p class=\"score\"><i class=\"integer\">9.</i><i class=\"fraction\">1</i></p>        \n",
      "    </div>\n",
      "\n",
      "      </div>\n",
      "    </div>\n",
      "\n",
      "                </dd>\n",
      "                <dd>\n",
      "                        <i class=\"board-index board-index-8\">8</i>\n",
      "    <a href=\"/films/2760\" title=\"魂断蓝桥\" class=\"image-link\" data-act=\"boarditem-click\" data-val=\"{movieId:2760}\">\n",
      "      <img src=\"//s3plus.meituan.net/v1/mss_e2821d7f0cfe4ac1bf9202ecf9590e67/cdn-prod/file:5788b470/image/loading_2.e3d934bf.png\" alt=\"\" class=\"poster-default\" />\n",
      "      <img data-src=\"https://p0.meituan.net/movie/46c29a8b8d8424bdda7715e6fd779c66235684.jpg@160w_220h_1e_1c\" alt=\"魂断蓝桥\" class=\"board-img\" />\n",
      "    </a>\n",
      "    <div class=\"board-item-main\">\n",
      "      <div class=\"board-item-content\">\n",
      "              <div class=\"movie-item-info\">\n",
      "        <p class=\"name\"><a href=\"/films/2760\" title=\"魂断蓝桥\" data-act=\"boarditem-click\" data-val=\"{movieId:2760}\">魂断蓝桥</a></p>\n",
      "        <p class=\"star\">\n",
      "                主演：费雯·丽,罗伯特·泰勒,露塞尔·沃特森\n",
      "        </p>\n",
      "<p class=\"releasetime\">上映时间：1940-05-17(美国)</p>    </div>\n",
      "    <div class=\"movie-item-number score-num\">\n",
      "<p class=\"score\"><i class=\"integer\">9.</i><i class=\"fraction\">2</i></p>        \n",
      "    </div>\n",
      "\n",
      "      </div>\n",
      "    </div>\n",
      "\n",
      "                </dd>\n",
      "                <dd>\n",
      "                        <i class=\"board-index board-index-9\">9</i>\n",
      "    <a href=\"/films/1228\" title=\"天空之城\" class=\"image-link\" data-act=\"boarditem-click\" data-val=\"{movieId:1228}\">\n",
      "      <img src=\"//s3plus.meituan.net/v1/mss_e2821d7f0cfe4ac1bf9202ecf9590e67/cdn-prod/file:5788b470/image/loading_2.e3d934bf.png\" alt=\"\" class=\"poster-default\" />\n",
      "      <img data-src=\"https://p1.meituan.net/movie/ba1ed511668402605ed369350ab779d6319397.jpg@160w_220h_1e_1c\" alt=\"天空之城\" class=\"board-img\" />\n",
      "    </a>\n",
      "    <div class=\"board-item-main\">\n",
      "      <div class=\"board-item-content\">\n",
      "              <div class=\"movie-item-info\">\n",
      "        <p class=\"name\"><a href=\"/films/1228\" title=\"天空之城\" data-act=\"boarditem-click\" data-val=\"{movieId:1228}\">天空之城</a></p>\n",
      "        <p class=\"star\">\n",
      "                主演：寺田农,鹫尾真知子,龟山助清\n",
      "        </p>\n",
      "<p class=\"releasetime\">上映时间：1992-05-01</p>    </div>\n",
      "    <div class=\"movie-item-number score-num\">\n",
      "<p class=\"score\"><i class=\"integer\">9.</i><i class=\"fraction\">0</i></p>        \n",
      "    </div>\n",
      "\n",
      "      </div>\n",
      "    </div>\n",
      "\n",
      "                </dd>\n",
      "                <dd>\n",
      "                        <i class=\"board-index board-index-10\">10</i>\n",
      "    <a href=\"/films/3667\" title=\"辛德勒的名单\" class=\"image-link\" data-act=\"boarditem-click\" data-val=\"{movieId:3667}\">\n",
      "      <img src=\"//s3plus.meituan.net/v1/mss_e2821d7f0cfe4ac1bf9202ecf9590e67/cdn-prod/file:5788b470/image/loading_2.e3d934bf.png\" alt=\"\" class=\"poster-default\" />\n",
      "      <img data-src=\"https://p0.meituan.net/movie/b0d986a8bf89278afbb19f6abaef70f31206570.jpg@160w_220h_1e_1c\" alt=\"辛德勒的名单\" class=\"board-img\" />\n",
      "    </a>\n",
      "    <div class=\"board-item-main\">\n",
      "      <div class=\"board-item-content\">\n",
      "              <div class=\"movie-item-info\">\n",
      "        <p class=\"name\"><a href=\"/films/3667\" title=\"辛德勒的名单\" data-act=\"boarditem-click\" data-val=\"{movieId:3667}\">辛德勒的名单</a></p>\n",
      "        <p class=\"star\">\n",
      "                主演：连姆·尼森,拉尔夫·费因斯,本·金斯利\n",
      "        </p>\n",
      "<p class=\"releasetime\">上映时间：1993-12-15(美国)</p>    </div>\n",
      "    <div class=\"movie-item-number score-num\">\n",
      "<p class=\"score\"><i class=\"integer\">9.</i><i class=\"fraction\">2</i></p>        \n",
      "    </div>\n",
      "\n",
      "      </div>\n",
      "    </div>\n",
      "\n",
      "                </dd>\n",
      "            </dl>\n",
      "\n",
      "        </div>\n",
      "            <div class=\"pager-main\">\n",
      "                \n",
      "  \n",
      "  <ul class=\"list-pager\">\n",
      "\n",
      "\n",
      "\n",
      "  \n",
      "      <li class=\"active\">\n",
      "    <a class=\"page_1\"\n",
      "      href=\"javascript:void(0);\" style=\"cursor: default\"\n",
      "  >1</a>\n",
      "\n",
      "</li>\n",
      "  <li >\n",
      "    <a class=\"page_2\"\n",
      "      href=\"?offset=10\"\n",
      "  >2</a>\n",
      "\n",
      "</li>\n",
      "  <li >\n",
      "    <a class=\"page_3\"\n",
      "      href=\"?offset=20\"\n",
      "  >3</a>\n",
      "\n",
      "</li>\n",
      "  <li >\n",
      "    <a class=\"page_4\"\n",
      "      href=\"?offset=30\"\n",
      "  >4</a>\n",
      "\n",
      "</li>\n",
      "  <li >\n",
      "    <a class=\"page_5\"\n",
      "      href=\"?offset=40\"\n",
      "  >5</a>\n",
      "\n",
      "</li>\n",
      "\n",
      "    <li class=\"sep\">...</li>\n",
      "      <li >\n",
      "    <a class=\"page_10\"\n",
      "      href=\"?offset=90\"\n",
      "  >10</a>\n",
      "\n",
      "</li>\n",
      "\n",
      "  \n",
      "\n",
      "<li>  <a class=\"page_2\"\n",
      "      href=\"?offset=10\"\n",
      "  >下一页</a>\n",
      "</li>\n",
      "</ul>\n",
      "\n",
      "\n",
      "            </div>\n",
      "    </div>\n",
      "</div>\n",
      "\n",
      "    </div>\n",
      "\n",
      "<div class=\"footer\">\n",
      "  <p class=\"friendly-links\">\n",
      "    关于猫眼 :\n",
      "    <a href=\"http://ir.maoyan.com/s/index.php#pageScroll0\" target=\"_blank\">关于我们</a>\n",
      "    <span></span>\n",
      "    <a href=\"http://ir.maoyan.com/s/index.php#pageScroll1\" target=\"_blank\">管理团队</a>\n",
      "    <span></span>\n",
      "    <a href=\"http://ir.maoyan.com/s/index.php#pageScroll2\" target=\"_blank\">投资者关系</a>\n",
      "    &nbsp;&nbsp;&nbsp;&nbsp;\n",
      "    友情链接 :\n",
      "    <a href=\"http://www.meituan.com\" data-query=\"utm_source=wwwmaoyan\" target=\"_blank\">美团网</a>\n",
      "    <span></span>\n",
      "    <a href=\"http://www.gewara.com\" data-query=\"utm_source=wwwmaoyan\">格瓦拉</a>\n",
      "    <span></span>\n",
      "    <a href=\"http://i.meituan.com/client\" data-query=\"utm_source=wwwmaoyan\" target=\"_blank\">美团下载</a>\n",
      "    <span></span>\n",
      "    <a href=\"https://www.huanxi.com\" data-query=\"utm_source=maoyan_pc\" target=\"_blank\">欢喜首映</a>\n",
      "  </p>\n",
      "  <p class=\"friendly-links\">\n",
      "    商务合作邮箱：v@maoyan.com\n",
      "    客服电话：10105335\n",
      "    违法和不良信息举报电话：4006018900\n",
      "  </p>\n",
      "  <p class=\"friendly-links\">\n",
      "    用户投诉邮箱：tousujubao@meituan.com\n",
      "    舞弊线索举报邮箱：wubijubao@maoyan.com\n",
      "  </p>\n",
      "  <p class=\"friendly-links  credentials\">\n",
      "    <a href=\"/about/licence/1\" target=\"_blank\">中华人民共和国增值电信业务经营许可证 京B2-20190350</a>\n",
      "    <span></span>\n",
      "    <a href=\"/about/licence/4\" target=\"_blank\">营业性演出许可证 京演（机构）（2019）4094号</a>\n",
      "  </p>\n",
      "  <p class=\"friendly-links  credentials\">\n",
      "    <a href=\"/about/licence/3\" target=\"_blank\">广播电视节目制作经营许可证 （京）字第08478号</a>\n",
      "    <span></span>\n",
      "    <a href=\"/about/licence/2\" target=\"_blank\">网络文化经营许可证 京网文（2019）3837-369号 </a>\n",
      "  </p>\n",
      "  <p class=\"friendly-links  credentials\">\n",
      "    <a href=\"/rules/agreement\" target=\"_blank\">猫眼用户服务协议 </a>\n",
      "    <span></span>\n",
      "    <a href=\"/rules/rule\" target=\"_blank\">猫眼平台交易规则总则 </a>\n",
      "    <span></span>\n",
      "    <a href=\"/rules/privacy\" target=\"_blank\">隐私政策 </a>\n",
      "  </p>\n",
      "  <p class=\"friendly-links  credentials\">\n",
      "    <a href=\"http://www.beian.gov.cn/portal/registerSystemInfo?recordcode=11010102003232\" target=\"_blank\">京公网安备\n",
      "      11010102003232号</a>\n",
      "  </p>\n",
      "  <p>北京猫眼文化传媒有限公司</p>\n",
      "  <p>\n",
      "    &copy;2016\n",
      "    猫眼电影 maoyan.com</p>\n",
      "  <div class=\"certificate\">\n",
      "    <a href=\"http://sq.ccm.gov.cn:80/ccnt/sczr/service/business/emark/toDetail/350CF8BCA8416C4FE0530140A8C0957E\"\n",
      "      target=\"_blank\">\n",
      "      <img src=\"http://p0.meituan.net/moviemachine/e54374ccf134d1f7b2c5b075a74fca525326.png\" />\n",
      "    </a>\n",
      "    <a href=\"/about/licence/5\" target=\"_blank\">\n",
      "      <img src=\"http://p1.meituan.net/moviemachine/805f605d5cf1b1a02a4e3a5e29df003b8376.png\" />\n",
      "    </a>\n",
      "  </div>\n",
      "</div>\n",
      "\n",
      "    <script crossorigin=\"anonymous\" src=\"//www.dpfile.com/app/owl/static/owl_1.7.11.js\"></script>\n",
      "    <script>\n",
      "      Owl.start({\n",
      "        project: 'com.sankuai.movie.fe.mywww', \n",
      "        pageUrl: location.href.split('?')[0].replace(/\\/\\d+/g, '/:id'),\n",
      "        devMode: false\n",
      "      })\n",
      "    </script>\n",
      "    <!--[if IE 8]><script crossorigin=\"anonymous\" src=\"//s3plus.meituan.net/v1/mss_e2821d7f0cfe4ac1bf9202ecf9590e67/cdn-prod/file:5788b470/es5-shim.bbad933f.js\"></script><![endif]-->\n",
      "    <!--[if IE 8]><script crossorigin=\"anonymous\" src=\"//s3plus.meituan.net/v1/mss_e2821d7f0cfe4ac1bf9202ecf9590e67/cdn-prod/file:5788b470/es5-sham.d6ea26f4.js\"></script><![endif]-->\n",
      "    <script crossorigin=\"anonymous\" src=\"//s3plus.meituan.net/v1/mss_e2821d7f0cfe4ac1bf9202ecf9590e67/cdn-prod/file:5788b470/common.9fc677f9.js\"></script>\n",
      "<script crossorigin=\"anonymous\" src=\"//s3plus.meituan.net/v1/mss_e2821d7f0cfe4ac1bf9202ecf9590e67/cdn-prod/file:5788b470/board-index.0cdf8e36.js\"></script>\n",
      "</body>\n",
      "</html>\n",
      "\n"
     ]
    }
   ],
   "source": [
    "import requests\n",
    "\n",
    "\n",
    "def get_one_page(url):\n",
    "    headers = {'User-Agent': 'Mozilla/5.0 (Macintosh; Intel Mac OS X 10_13_2) AppleWebKit/537.36 (KHTML, like Gecko) Chrome/76.0.3809.110 Safari/537.36 Vivaldi/2.7.1628.30'}\n",
    "    response = requests.get(url, headers=headers)\n",
    "    if response.status_code == 200:\n",
    "        return response.text\n",
    "    return None\n",
    "\n",
    "\n",
    "html = get_one_page('https://maoyan.com/board/4')\n",
    "print(html)"
   ]
  },
  {
   "cell_type": "code",
   "execution_count": 3,
   "metadata": {},
   "outputs": [
    {
     "name": "stdout",
     "output_type": "stream",
     "text": [
      "[('1', 'https://p1.meituan.net/movie/20803f59291c47e1e116c11963ce019e68711.jpg@160w_220h_1e_1c', '霸王别姬'), ('2', 'https://p0.meituan.net/movie/283292171619cdfd5b240c8fd093f1eb255670.jpg@160w_220h_1e_1c', '肖申克的救赎'), ('3', 'https://p0.meituan.net/movie/289f98ceaa8a0ae737d3dc01cd05ab052213631.jpg@160w_220h_1e_1c', '罗马假日'), ('4', 'https://p1.meituan.net/movie/6bea9af4524dfbd0b668eaa7e187c3df767253.jpg@160w_220h_1e_1c', '这个杀手不太冷'), ('5', 'https://p1.meituan.net/movie/b607fba7513e7f15eab170aac1e1400d878112.jpg@160w_220h_1e_1c', '泰坦尼克号'), ('6', 'https://p0.meituan.net/movie/da64660f82b98cdc1b8a3804e69609e041108.jpg@160w_220h_1e_1c', '唐伯虎点秋香'), ('7', 'https://p0.meituan.net/movie/223c3e186db3ab4ea3bb14508c709400427933.jpg@160w_220h_1e_1c', '乱世佳人'), ('8', 'https://p0.meituan.net/movie/46c29a8b8d8424bdda7715e6fd779c66235684.jpg@160w_220h_1e_1c', '魂断蓝桥'), ('9', 'https://p1.meituan.net/movie/ba1ed511668402605ed369350ab779d6319397.jpg@160w_220h_1e_1c', '天空之城'), ('10', 'https://p0.meituan.net/movie/b0d986a8bf89278afbb19f6abaef70f31206570.jpg@160w_220h_1e_1c', '辛德勒的名单')]\n"
     ]
    }
   ],
   "source": [
    "import re\n",
    "\n",
    "\n",
    "results = re.findall('<dd>.*?<i.*?>(.*?)</i>.*?data-src=\"(.*?)\".*?class=\"name\"><a.*?>(.*?)</a>', html, re.S)\n",
    "print(results)"
   ]
  },
  {
   "cell_type": "code",
   "execution_count": 2,
   "metadata": {},
   "outputs": [],
   "source": [
    "import requests\n",
    "\n",
    "\n",
    "def get_one_page(url):\n",
    "    headers = {'User-Agent': 'Mozilla/5.0 (Macintosh; Intel Mac OS X 10_13_2) AppleWebKit/537.36 (KHTML, like Gecko) Chrome/76.0.3809.110 Safari/537.36 Vivaldi/2.7.1628.30'}\n",
    "    response = requests.get(url, headers=headers)\n",
    "    if response.status_code == 200:\n",
    "        return response.text\n",
    "    return None\n",
    "\n",
    "\n",
    "html = get_one_page('https://maoyan.com/board/4')"
   ]
  },
  {
   "cell_type": "code",
   "execution_count": 3,
   "metadata": {},
   "outputs": [
    {
     "name": "stdout",
     "output_type": "stream",
     "text": [
      "[('1', 'https://p1.meituan.net/movie/20803f59291c47e1e116c11963ce019e68711.jpg@160w_220h_1e_1c', '霸王别姬', '主演：张国荣,张丰毅,巩俐'), ('2', 'https://p0.meituan.net/movie/283292171619cdfd5b240c8fd093f1eb255670.jpg@160w_220h_1e_1c', '肖申克的救赎', '主演：蒂姆·罗宾斯,摩根·弗里曼,鲍勃·冈顿'), ('3', 'https://p0.meituan.net/movie/289f98ceaa8a0ae737d3dc01cd05ab052213631.jpg@160w_220h_1e_1c', '罗马假日', '主演：格利高里·派克,奥黛丽·赫本,埃迪·艾伯特'), ('4', 'https://p1.meituan.net/movie/6bea9af4524dfbd0b668eaa7e187c3df767253.jpg@160w_220h_1e_1c', '这个杀手不太冷', '主演：让·雷诺,加里·奥德曼,娜塔莉·波特曼'), ('5', 'https://p1.meituan.net/movie/b607fba7513e7f15eab170aac1e1400d878112.jpg@160w_220h_1e_1c', '泰坦尼克号', '主演：莱昂纳多·迪卡普里奥,凯特·温丝莱特,比利·赞恩'), ('6', 'https://p0.meituan.net/movie/da64660f82b98cdc1b8a3804e69609e041108.jpg@160w_220h_1e_1c', '唐伯虎点秋香', '主演：周星驰,巩俐,郑佩佩'), ('7', 'https://p0.meituan.net/movie/223c3e186db3ab4ea3bb14508c709400427933.jpg@160w_220h_1e_1c', '乱世佳人', '主演：费雯·丽,克拉克·盖博,奥利维娅·德哈维兰'), ('8', 'https://p0.meituan.net/movie/46c29a8b8d8424bdda7715e6fd779c66235684.jpg@160w_220h_1e_1c', '魂断蓝桥', '主演：费雯·丽,罗伯特·泰勒,露塞尔·沃特森'), ('9', 'https://p1.meituan.net/movie/ba1ed511668402605ed369350ab779d6319397.jpg@160w_220h_1e_1c', '天空之城', '主演：寺田农,鹫尾真知子,龟山助清'), ('10', 'https://p0.meituan.net/movie/b0d986a8bf89278afbb19f6abaef70f31206570.jpg@160w_220h_1e_1c', '辛德勒的名单', '主演：连姆·尼森,拉尔夫·费因斯,本·金斯利')]\n"
     ]
    }
   ],
   "source": [
    "import re\n",
    "\n",
    "\n",
    "results = re.findall('<dd>.*?<i.*?>(.*?)</i>.*?data-src=\"(.*?)\".*?class=\"name\"><a.*?>(.*?)</a>.*?\"star\">\\s*(.*?)\\s*</p>', html, re.S)\n",
    "print(results)"
   ]
  },
  {
   "cell_type": "code",
   "execution_count": 4,
   "metadata": {},
   "outputs": [
    {
     "name": "stdout",
     "output_type": "stream",
     "text": [
      "[('1', 'https://p1.meituan.net/movie/20803f59291c47e1e116c11963ce019e68711.jpg@160w_220h_1e_1c', '霸王别姬', '主演：张国荣,张丰毅,巩俐', '上映时间：1993-07-26'), ('2', 'https://p0.meituan.net/movie/283292171619cdfd5b240c8fd093f1eb255670.jpg@160w_220h_1e_1c', '肖申克的救赎', '主演：蒂姆·罗宾斯,摩根·弗里曼,鲍勃·冈顿', '上映时间：1994-09-10(加拿大)'), ('3', 'https://p0.meituan.net/movie/289f98ceaa8a0ae737d3dc01cd05ab052213631.jpg@160w_220h_1e_1c', '罗马假日', '主演：格利高里·派克,奥黛丽·赫本,埃迪·艾伯特', '上映时间：1953-09-02(美国)'), ('4', 'https://p1.meituan.net/movie/6bea9af4524dfbd0b668eaa7e187c3df767253.jpg@160w_220h_1e_1c', '这个杀手不太冷', '主演：让·雷诺,加里·奥德曼,娜塔莉·波特曼', '上映时间：1994-09-14(法国)'), ('5', 'https://p1.meituan.net/movie/b607fba7513e7f15eab170aac1e1400d878112.jpg@160w_220h_1e_1c', '泰坦尼克号', '主演：莱昂纳多·迪卡普里奥,凯特·温丝莱特,比利·赞恩', '上映时间：1998-04-03'), ('6', 'https://p0.meituan.net/movie/da64660f82b98cdc1b8a3804e69609e041108.jpg@160w_220h_1e_1c', '唐伯虎点秋香', '主演：周星驰,巩俐,郑佩佩', '上映时间：1993-07-01(中国香港)'), ('7', 'https://p0.meituan.net/movie/223c3e186db3ab4ea3bb14508c709400427933.jpg@160w_220h_1e_1c', '乱世佳人', '主演：费雯·丽,克拉克·盖博,奥利维娅·德哈维兰', '上映时间：1939-12-15(美国)'), ('8', 'https://p0.meituan.net/movie/46c29a8b8d8424bdda7715e6fd779c66235684.jpg@160w_220h_1e_1c', '魂断蓝桥', '主演：费雯·丽,罗伯特·泰勒,露塞尔·沃特森', '上映时间：1940-05-17(美国)'), ('9', 'https://p1.meituan.net/movie/ba1ed511668402605ed369350ab779d6319397.jpg@160w_220h_1e_1c', '天空之城', '主演：寺田农,鹫尾真知子,龟山助清', '上映时间：1992-05-01'), ('10', 'https://p0.meituan.net/movie/b0d986a8bf89278afbb19f6abaef70f31206570.jpg@160w_220h_1e_1c', '辛德勒的名单', '主演：连姆·尼森,拉尔夫·费因斯,本·金斯利', '上映时间：1993-12-15(美国)')]\n"
     ]
    }
   ],
   "source": [
    "results = re.findall('<dd>.*?<i.*?>(.*?)</i>.*?data-src=\"(.*?)\".*?class=\"name\"><a.*?>(.*?)</a>.*?\"star\">\\s*(.*?)\\s*</p>.*?\"releasetime\">(.*?)</p>', html, re.S)\n",
    "print(results)"
   ]
  },
  {
   "cell_type": "code",
   "execution_count": 5,
   "metadata": {},
   "outputs": [
    {
     "name": "stdout",
     "output_type": "stream",
     "text": [
      "[('1', 'https://p1.meituan.net/movie/20803f59291c47e1e116c11963ce019e68711.jpg@160w_220h_1e_1c', '霸王别姬', '主演：张国荣,张丰毅,巩俐', '上映时间：1993-07-26', '9.'), ('2', 'https://p0.meituan.net/movie/283292171619cdfd5b240c8fd093f1eb255670.jpg@160w_220h_1e_1c', '肖申克的救赎', '主演：蒂姆·罗宾斯,摩根·弗里曼,鲍勃·冈顿', '上映时间：1994-09-10(加拿大)', '9.'), ('3', 'https://p0.meituan.net/movie/289f98ceaa8a0ae737d3dc01cd05ab052213631.jpg@160w_220h_1e_1c', '罗马假日', '主演：格利高里·派克,奥黛丽·赫本,埃迪·艾伯特', '上映时间：1953-09-02(美国)', '9.'), ('4', 'https://p1.meituan.net/movie/6bea9af4524dfbd0b668eaa7e187c3df767253.jpg@160w_220h_1e_1c', '这个杀手不太冷', '主演：让·雷诺,加里·奥德曼,娜塔莉·波特曼', '上映时间：1994-09-14(法国)', '9.'), ('5', 'https://p1.meituan.net/movie/b607fba7513e7f15eab170aac1e1400d878112.jpg@160w_220h_1e_1c', '泰坦尼克号', '主演：莱昂纳多·迪卡普里奥,凯特·温丝莱特,比利·赞恩', '上映时间：1998-04-03', '9.'), ('6', 'https://p0.meituan.net/movie/da64660f82b98cdc1b8a3804e69609e041108.jpg@160w_220h_1e_1c', '唐伯虎点秋香', '主演：周星驰,巩俐,郑佩佩', '上映时间：1993-07-01(中国香港)', '9.'), ('7', 'https://p0.meituan.net/movie/223c3e186db3ab4ea3bb14508c709400427933.jpg@160w_220h_1e_1c', '乱世佳人', '主演：费雯·丽,克拉克·盖博,奥利维娅·德哈维兰', '上映时间：1939-12-15(美国)', '9.'), ('8', 'https://p0.meituan.net/movie/46c29a8b8d8424bdda7715e6fd779c66235684.jpg@160w_220h_1e_1c', '魂断蓝桥', '主演：费雯·丽,罗伯特·泰勒,露塞尔·沃特森', '上映时间：1940-05-17(美国)', '9.'), ('9', 'https://p1.meituan.net/movie/ba1ed511668402605ed369350ab779d6319397.jpg@160w_220h_1e_1c', '天空之城', '主演：寺田农,鹫尾真知子,龟山助清', '上映时间：1992-05-01', '9.'), ('10', 'https://p0.meituan.net/movie/b0d986a8bf89278afbb19f6abaef70f31206570.jpg@160w_220h_1e_1c', '辛德勒的名单', '主演：连姆·尼森,拉尔夫·费因斯,本·金斯利', '上映时间：1993-12-15(美国)', '9.')]\n"
     ]
    }
   ],
   "source": [
    "results = re.findall('<dd>.*?<i.*?>(.*?)</i>.*?data-src=\"(.*?)\".*?class=\"name\"><a.*?>(.*?)</a>.*?\"star\">\\s*(.*?)\\s*</p>.*?\"releasetime\">(.*?)</p>.*?\"integer\">(.*?)</i>', html, re.S)\n",
    "print(results)"
   ]
  },
  {
   "cell_type": "code",
   "execution_count": 6,
   "metadata": {},
   "outputs": [
    {
     "name": "stdout",
     "output_type": "stream",
     "text": [
      "[('1', 'https://p1.meituan.net/movie/20803f59291c47e1e116c11963ce019e68711.jpg@160w_220h_1e_1c', '霸王别姬', '主演：张国荣,张丰毅,巩俐', '上映时间：1993-07-26', '9.', '5'), ('2', 'https://p0.meituan.net/movie/283292171619cdfd5b240c8fd093f1eb255670.jpg@160w_220h_1e_1c', '肖申克的救赎', '主演：蒂姆·罗宾斯,摩根·弗里曼,鲍勃·冈顿', '上映时间：1994-09-10(加拿大)', '9.', '5'), ('3', 'https://p0.meituan.net/movie/289f98ceaa8a0ae737d3dc01cd05ab052213631.jpg@160w_220h_1e_1c', '罗马假日', '主演：格利高里·派克,奥黛丽·赫本,埃迪·艾伯特', '上映时间：1953-09-02(美国)', '9.', '1'), ('4', 'https://p1.meituan.net/movie/6bea9af4524dfbd0b668eaa7e187c3df767253.jpg@160w_220h_1e_1c', '这个杀手不太冷', '主演：让·雷诺,加里·奥德曼,娜塔莉·波特曼', '上映时间：1994-09-14(法国)', '9.', '5'), ('5', 'https://p1.meituan.net/movie/b607fba7513e7f15eab170aac1e1400d878112.jpg@160w_220h_1e_1c', '泰坦尼克号', '主演：莱昂纳多·迪卡普里奥,凯特·温丝莱特,比利·赞恩', '上映时间：1998-04-03', '9.', '5'), ('6', 'https://p0.meituan.net/movie/da64660f82b98cdc1b8a3804e69609e041108.jpg@160w_220h_1e_1c', '唐伯虎点秋香', '主演：周星驰,巩俐,郑佩佩', '上映时间：1993-07-01(中国香港)', '9.', '1'), ('7', 'https://p0.meituan.net/movie/223c3e186db3ab4ea3bb14508c709400427933.jpg@160w_220h_1e_1c', '乱世佳人', '主演：费雯·丽,克拉克·盖博,奥利维娅·德哈维兰', '上映时间：1939-12-15(美国)', '9.', '1'), ('8', 'https://p0.meituan.net/movie/46c29a8b8d8424bdda7715e6fd779c66235684.jpg@160w_220h_1e_1c', '魂断蓝桥', '主演：费雯·丽,罗伯特·泰勒,露塞尔·沃特森', '上映时间：1940-05-17(美国)', '9.', '2'), ('9', 'https://p1.meituan.net/movie/ba1ed511668402605ed369350ab779d6319397.jpg@160w_220h_1e_1c', '天空之城', '主演：寺田农,鹫尾真知子,龟山助清', '上映时间：1992-05-01', '9.', '0'), ('10', 'https://p0.meituan.net/movie/b0d986a8bf89278afbb19f6abaef70f31206570.jpg@160w_220h_1e_1c', '辛德勒的名单', '主演：连姆·尼森,拉尔夫·费因斯,本·金斯利', '上映时间：1993-12-15(美国)', '9.', '2')]\n"
     ]
    }
   ],
   "source": [
    "results = re.findall('<dd>.*?<i.*?>(.*?)</i>.*?data-src=\"(.*?)\".*?class=\"name\"><a.*?>(.*?)</a>.*?\"star\">\\s*(.*?)\\s*</p>.*?\"releasetime\">(.*?)</p>.*?\"integer\">(.*?)</i>.*?\"fraction\">(.*?)</i>', html, re.S)\n",
    "print(results)"
   ]
  },
  {
   "cell_type": "code",
   "execution_count": 12,
   "metadata": {},
   "outputs": [
    {
     "name": "stdout",
     "output_type": "stream",
     "text": [
      "{'index': '1', 'image': 'https://p1.meituan.net/movie/20803f59291c47e1e116c11963ce019e68711.jpg@160w_220h_1e_1c', 'title': '霸王别姬', 'actor': '张国荣,张丰毅,巩俐', 'time': '1993-07-26', 'score': '9.5'}\n",
      "{'index': '2', 'image': 'https://p0.meituan.net/movie/283292171619cdfd5b240c8fd093f1eb255670.jpg@160w_220h_1e_1c', 'title': '肖申克的救赎', 'actor': '蒂姆·罗宾斯,摩根·弗里曼,鲍勃·冈顿', 'time': '1994-09-10(加拿大)', 'score': '9.5'}\n",
      "{'index': '3', 'image': 'https://p0.meituan.net/movie/289f98ceaa8a0ae737d3dc01cd05ab052213631.jpg@160w_220h_1e_1c', 'title': '罗马假日', 'actor': '格利高里·派克,奥黛丽·赫本,埃迪·艾伯特', 'time': '1953-09-02(美国)', 'score': '9.1'}\n",
      "{'index': '4', 'image': 'https://p1.meituan.net/movie/6bea9af4524dfbd0b668eaa7e187c3df767253.jpg@160w_220h_1e_1c', 'title': '这个杀手不太冷', 'actor': '让·雷诺,加里·奥德曼,娜塔莉·波特曼', 'time': '1994-09-14(法国)', 'score': '9.5'}\n",
      "{'index': '5', 'image': 'https://p1.meituan.net/movie/b607fba7513e7f15eab170aac1e1400d878112.jpg@160w_220h_1e_1c', 'title': '泰坦尼克号', 'actor': '莱昂纳多·迪卡普里奥,凯特·温丝莱特,比利·赞恩', 'time': '1998-04-03', 'score': '9.5'}\n",
      "{'index': '6', 'image': 'https://p0.meituan.net/movie/da64660f82b98cdc1b8a3804e69609e041108.jpg@160w_220h_1e_1c', 'title': '唐伯虎点秋香', 'actor': '周星驰,巩俐,郑佩佩', 'time': '1993-07-01(中国香港)', 'score': '9.1'}\n",
      "{'index': '7', 'image': 'https://p0.meituan.net/movie/223c3e186db3ab4ea3bb14508c709400427933.jpg@160w_220h_1e_1c', 'title': '乱世佳人', 'actor': '费雯·丽,克拉克·盖博,奥利维娅·德哈维兰', 'time': '1939-12-15(美国)', 'score': '9.1'}\n",
      "{'index': '8', 'image': 'https://p0.meituan.net/movie/46c29a8b8d8424bdda7715e6fd779c66235684.jpg@160w_220h_1e_1c', 'title': '魂断蓝桥', 'actor': '费雯·丽,罗伯特·泰勒,露塞尔·沃特森', 'time': '1940-05-17(美国)', 'score': '9.2'}\n",
      "{'index': '9', 'image': 'https://p1.meituan.net/movie/ba1ed511668402605ed369350ab779d6319397.jpg@160w_220h_1e_1c', 'title': '天空之城', 'actor': '寺田农,鹫尾真知子,龟山助清', 'time': '1992-05-01', 'score': '9.0'}\n",
      "{'index': '10', 'image': 'https://p0.meituan.net/movie/b0d986a8bf89278afbb19f6abaef70f31206570.jpg@160w_220h_1e_1c', 'title': '辛德勒的名单', 'actor': '连姆·尼森,拉尔夫·费因斯,本·金斯利', 'time': '1993-12-15(美国)', 'score': '9.2'}\n"
     ]
    }
   ],
   "source": [
    "import requests\n",
    "import re\n",
    "\n",
    "\n",
    "def get_one_page(url):\n",
    "    headers = {'User-Agent': 'Mozilla/5.0 (Macintosh; Intel Mac OS X 10_13_2) AppleWebKit/537.36 (KHTML, like Gecko) Chrome/76.0.3809.110 Safari/537.36 Vivaldi/2.7.1628.30'}\n",
    "    response = requests.get(url, headers=headers)\n",
    "    if response.status_code == 200:\n",
    "        return response.text\n",
    "    return None\n",
    "\n",
    "\n",
    "def parse_one_page(html):\n",
    "    items = re.findall('<dd>.*?<i.*?>(.*?)</i>.*?data-src=\"(.*?)\".*?class=\"name\"><a.*?>(.*?)</a>.*?\"star\">\\s*(.*?)\\s*</p>.*?\"releasetime\">(.*?)</p>.*?\"integer\">(.*?)</i>.*?\"fraction\">(.*?)</i>', html, re.S)\n",
    "    for item in items:\n",
    "        print({'index': item[0], 'image': item[1], 'title': item[2], 'actor': item[3][3:], 'time': item[4][5:], 'score': item[5] + item[6]})\n",
    "        \n",
    "\n",
    "def main():\n",
    "    url = 'https://maoyan.com/board/4'\n",
    "    html = get_one_page(url)\n",
    "    parse_one_page(html)\n",
    "\n",
    "\n",
    "main()\n"
   ]
  },
  {
   "cell_type": "code",
   "execution_count": 11,
   "metadata": {},
   "outputs": [
    {
     "name": "stdout",
     "output_type": "stream",
     "text": [
      "[('1', 'https://p1.meituan.net/movie/20803f59291c47e1e116c11963ce019e68711.jpg@160w_220h_1e_1c', '霸王别姬', '主演：张国荣,张丰毅,巩俐', '上映时间：1993-07-26', '9.', '5'), ('2', 'https://p0.meituan.net/movie/283292171619cdfd5b240c8fd093f1eb255670.jpg@160w_220h_1e_1c', '肖申克的救赎', '主演：蒂姆·罗宾斯,摩根·弗里曼,鲍勃·冈顿', '上映时间：1994-09-10(加拿大)', '9.', '5'), ('3', 'https://p0.meituan.net/movie/289f98ceaa8a0ae737d3dc01cd05ab052213631.jpg@160w_220h_1e_1c', '罗马假日', '主演：格利高里·派克,奥黛丽·赫本,埃迪·艾伯特', '上映时间：1953-09-02(美国)', '9.', '1'), ('4', 'https://p1.meituan.net/movie/6bea9af4524dfbd0b668eaa7e187c3df767253.jpg@160w_220h_1e_1c', '这个杀手不太冷', '主演：让·雷诺,加里·奥德曼,娜塔莉·波特曼', '上映时间：1994-09-14(法国)', '9.', '5'), ('5', 'https://p1.meituan.net/movie/b607fba7513e7f15eab170aac1e1400d878112.jpg@160w_220h_1e_1c', '泰坦尼克号', '主演：莱昂纳多·迪卡普里奥,凯特·温丝莱特,比利·赞恩', '上映时间：1998-04-03', '9.', '5'), ('6', 'https://p0.meituan.net/movie/da64660f82b98cdc1b8a3804e69609e041108.jpg@160w_220h_1e_1c', '唐伯虎点秋香', '主演：周星驰,巩俐,郑佩佩', '上映时间：1993-07-01(中国香港)', '9.', '1'), ('7', 'https://p0.meituan.net/movie/223c3e186db3ab4ea3bb14508c709400427933.jpg@160w_220h_1e_1c', '乱世佳人', '主演：费雯·丽,克拉克·盖博,奥利维娅·德哈维兰', '上映时间：1939-12-15(美国)', '9.', '1'), ('8', 'https://p0.meituan.net/movie/46c29a8b8d8424bdda7715e6fd779c66235684.jpg@160w_220h_1e_1c', '魂断蓝桥', '主演：费雯·丽,罗伯特·泰勒,露塞尔·沃特森', '上映时间：1940-05-17(美国)', '9.', '2'), ('9', 'https://p1.meituan.net/movie/ba1ed511668402605ed369350ab779d6319397.jpg@160w_220h_1e_1c', '天空之城', '主演：寺田农,鹫尾真知子,龟山助清', '上映时间：1992-05-01', '9.', '0'), ('10', 'https://p0.meituan.net/movie/b0d986a8bf89278afbb19f6abaef70f31206570.jpg@160w_220h_1e_1c', '辛德勒的名单', '主演：连姆·尼森,拉尔夫·费因斯,本·金斯利', '上映时间：1993-12-15(美国)', '9.', '2')]\n"
     ]
    }
   ],
   "source": [
    "import requests\n",
    "import re\n",
    "\n",
    "\n",
    "def get_one_page(url):\n",
    "    headers = {'User-Agent': 'Mozilla/5.0 (Macintosh; Intel Mac OS X 10_13_2) AppleWebKit/537.36 (KHTML, like Gecko) Chrome/76.0.3809.110 Safari/537.36 Vivaldi/2.7.1628.30'}\n",
    "    response = requests.get(url, headers=headers)\n",
    "    if response.status_code == 200:\n",
    "        return response.text\n",
    "    return None\n",
    "\n",
    "\n",
    "def parse_one_page(html):\n",
    "    items = re.findall('<dd>.*?<i.*?>(.*?)</i>.*?data-src=\"(.*?)\".*?class=\"name\"><a.*?>(.*?)</a>.*?\"star\">\\s*(.*?)\\s*</p>.*?\"releasetime\">(.*?)</p>.*?\"integer\">(.*?)</i>.*?\"fraction\">(.*?)</i>', html, re.S)\n",
    "    print(items)\n",
    "        \n",
    "\n",
    "def main():\n",
    "    url = 'https://maoyan.com/board/4'\n",
    "    html = get_one_page(url)\n",
    "    parse_one_page(html)\n",
    "\n",
    "\n",
    "main()\n"
   ]
  },
  {
   "cell_type": "markdown",
   "metadata": {},
   "source": [
    "# 生成器  \n",
    "Generator（生成器）是一个用于创建迭代器的简单而强大的工具。 它们的写法类似标准的函数，但当它们要返回数据时会使用 yield 语句。"
   ]
  },
  {
   "cell_type": "code",
   "execution_count": 14,
   "metadata": {},
   "outputs": [
    {
     "name": "stdout",
     "output_type": "stream",
     "text": [
      "s\n",
      "t\n",
      "r\n",
      "i\n",
      "n\n",
      "g\n",
      "s\n"
     ]
    }
   ],
   "source": [
    "def generator(data):\n",
    "    for index in range(len(data)):\n",
    "        yield data[index]\n",
    "        \n",
    "        \n",
    "for i in generator('strings'):\n",
    "    print(i)"
   ]
  },
  {
   "cell_type": "code",
   "execution_count": 15,
   "metadata": {},
   "outputs": [
    {
     "data": {
      "text/plain": [
       "sys.version_info(major=3, minor=7, micro=1, releaselevel='final', serial=0)"
      ]
     },
     "execution_count": 15,
     "metadata": {},
     "output_type": "execute_result"
    }
   ],
   "source": [
    "import sys\n",
    "sys.version_info"
   ]
  },
  {
   "cell_type": "code",
   "execution_count": 16,
   "metadata": {},
   "outputs": [
    {
     "data": {
      "text/plain": [
       "'Windows-10-10.0.18362-SP0'"
      ]
     },
     "execution_count": 16,
     "metadata": {},
     "output_type": "execute_result"
    }
   ],
   "source": [
    "import platform\n",
    "\n",
    "\n",
    "platform.platform()"
   ]
  },
  {
   "cell_type": "code",
   "execution_count": 17,
   "metadata": {},
   "outputs": [
    {
     "data": {
      "text/plain": [
       "('64bit', 'WindowsPE')"
      ]
     },
     "execution_count": 17,
     "metadata": {},
     "output_type": "execute_result"
    }
   ],
   "source": [
    "platform.architecture()"
   ]
  },
  {
   "cell_type": "code",
   "execution_count": 19,
   "metadata": {},
   "outputs": [
    {
     "data": {
      "text/plain": [
       "'nt'"
      ]
     },
     "execution_count": 19,
     "metadata": {},
     "output_type": "execute_result"
    }
   ],
   "source": [
    "import os\n",
    "\n",
    "\n",
    "os.name"
   ]
  },
  {
   "cell_type": "code",
   "execution_count": 20,
   "metadata": {},
   "outputs": [
    {
     "name": "stdout",
     "output_type": "stream",
     "text": [
      "True\n",
      "False\n",
      "True\n",
      "True\n"
     ]
    }
   ],
   "source": [
    "from collections.abc import Iterable, Iterator\n",
    "\n",
    "\n",
    "a = [1, 2, 3]  # list 是一个 iterable\n",
    "b = iter(a)    # 通过 iter() 方法，得到 iterator，iter() 实际上调用了 __iter__()\n",
    "print(isinstance(a, Iterable))\n",
    "print(isinstance(a, Iterator))\n",
    "print(isinstance(b, Iterable))\n",
    "print(isinstance(b, Iterator))"
   ]
  },
  {
   "cell_type": "markdown",
   "metadata": {},
   "source": [
    "由此可见，iterator 一定是 iterable，但 iterable 不一定是 iterator"
   ]
  },
  {
   "cell_type": "code",
   "execution_count": 21,
   "metadata": {},
   "outputs": [
    {
     "name": "stdout",
     "output_type": "stream",
     "text": [
      "[1, 2, 3]\n",
      "[]\n"
     ]
    }
   ],
   "source": [
    "# iterator 是消耗型的\n",
    "c = list(b)\n",
    "print(c)\n",
    "d = list(b)\n",
    "print(d)"
   ]
  },
  {
   "cell_type": "code",
   "execution_count": 22,
   "metadata": {},
   "outputs": [
    {
     "name": "stdout",
     "output_type": "stream",
     "text": [
      "Not None\n"
     ]
    }
   ],
   "source": [
    "# 空的 iterator 并不等于 None。\n",
    "if b:\n",
    "    print('Not None')"
   ]
  },
  {
   "cell_type": "code",
   "execution_count": 23,
   "metadata": {},
   "outputs": [],
   "source": [
    "if b == None:\n",
    "    print('b is None')"
   ]
  },
  {
   "cell_type": "code",
   "execution_count": 24,
   "metadata": {},
   "outputs": [
    {
     "data": {
      "text/plain": [
       "1"
      ]
     },
     "execution_count": 24,
     "metadata": {},
     "output_type": "execute_result"
    }
   ],
   "source": [
    "# 再来看下 next()\n",
    "e = iter(a)\n",
    "next(e)  # next() 实际调用了 __next__() 方法"
   ]
  },
  {
   "cell_type": "code",
   "execution_count": 25,
   "metadata": {},
   "outputs": [
    {
     "name": "stdout",
     "output_type": "stream",
     "text": [
      "2\n"
     ]
    }
   ],
   "source": [
    "print(next(e))"
   ]
  },
  {
   "cell_type": "code",
   "execution_count": 26,
   "metadata": {},
   "outputs": [
    {
     "name": "stdout",
     "output_type": "stream",
     "text": [
      "3\n"
     ]
    }
   ],
   "source": [
    "print(next(e))"
   ]
  },
  {
   "cell_type": "code",
   "execution_count": 29,
   "metadata": {},
   "outputs": [
    {
     "data": {
      "text/plain": [
       "<generator object <genexpr> at 0x0000018A81C762A0>"
      ]
     },
     "execution_count": 29,
     "metadata": {},
     "output_type": "execute_result"
    }
   ],
   "source": [
    "a = (element for element in [1, 2, 3])\n",
    "a"
   ]
  },
  {
   "cell_type": "code",
   "execution_count": 30,
   "metadata": {},
   "outputs": [
    {
     "data": {
      "text/plain": [
       "<function __main__.fib()>"
      ]
     },
     "execution_count": 30,
     "metadata": {},
     "output_type": "execute_result"
    }
   ],
   "source": [
    "def fib():\n",
    "    a, b = 0, 1\n",
    "    while Ture:\n",
    "        yield b\n",
    "        a, b = b, a + b\n",
    "        \n",
    "        \n",
    "fib"
   ]
  },
  {
   "cell_type": "code",
   "execution_count": 31,
   "metadata": {},
   "outputs": [
    {
     "data": {
      "text/plain": [
       "<generator object fib at 0x0000018A836AB0C0>"
      ]
     },
     "execution_count": 31,
     "metadata": {},
     "output_type": "execute_result"
    }
   ],
   "source": [
    "b = fib()\n",
    "b"
   ]
  },
  {
   "cell_type": "code",
   "execution_count": 32,
   "metadata": {},
   "outputs": [
    {
     "data": {
      "text/plain": [
       "<generator object fib at 0x0000018A836AB138>"
      ]
     },
     "execution_count": 32,
     "metadata": {},
     "output_type": "execute_result"
    }
   ],
   "source": [
    "fib()"
   ]
  },
  {
   "cell_type": "code",
   "execution_count": 33,
   "metadata": {},
   "outputs": [
    {
     "data": {
      "text/plain": [
       "<generator object g at 0x0000018A836AB1B0>"
      ]
     },
     "execution_count": 33,
     "metadata": {},
     "output_type": "execute_result"
    }
   ],
   "source": [
    "def g():\n",
    "    print(\"1 is\")\n",
    "    yield 1\n",
    "    print(\"2 is\")\n",
    "    yield 2\n",
    "    print(\"3 is\")\n",
    "    yield 3\n",
    "    \n",
    "    \n",
    "z = g()\n",
    "z"
   ]
  },
  {
   "cell_type": "code",
   "execution_count": 34,
   "metadata": {},
   "outputs": [
    {
     "name": "stdout",
     "output_type": "stream",
     "text": [
      "1 is\n"
     ]
    },
    {
     "data": {
      "text/plain": [
       "1"
      ]
     },
     "execution_count": 34,
     "metadata": {},
     "output_type": "execute_result"
    }
   ],
   "source": [
    "next(z)"
   ]
  },
  {
   "cell_type": "code",
   "execution_count": 35,
   "metadata": {},
   "outputs": [
    {
     "name": "stdout",
     "output_type": "stream",
     "text": [
      "2 is\n"
     ]
    },
    {
     "data": {
      "text/plain": [
       "2"
      ]
     },
     "execution_count": 35,
     "metadata": {},
     "output_type": "execute_result"
    }
   ],
   "source": [
    "next(z)"
   ]
  },
  {
   "cell_type": "code",
   "execution_count": 36,
   "metadata": {},
   "outputs": [
    {
     "name": "stdout",
     "output_type": "stream",
     "text": [
      "3 is\n"
     ]
    },
    {
     "data": {
      "text/plain": [
       "3"
      ]
     },
     "execution_count": 36,
     "metadata": {},
     "output_type": "execute_result"
    }
   ],
   "source": [
    "next(z)"
   ]
  },
  {
   "cell_type": "code",
   "execution_count": 37,
   "metadata": {},
   "outputs": [
    {
     "ename": "StopIteration",
     "evalue": "",
     "output_type": "error",
     "traceback": [
      "\u001b[1;31m---------------------------------------------------------------------------\u001b[0m",
      "\u001b[1;31mStopIteration\u001b[0m                             Traceback (most recent call last)",
      "\u001b[1;32m<ipython-input-37-cf9ac561a401>\u001b[0m in \u001b[0;36m<module>\u001b[1;34m\u001b[0m\n\u001b[1;32m----> 1\u001b[1;33m \u001b[0mnext\u001b[0m\u001b[1;33m(\u001b[0m\u001b[0mz\u001b[0m\u001b[1;33m)\u001b[0m\u001b[1;33m\u001b[0m\u001b[1;33m\u001b[0m\u001b[0m\n\u001b[0m",
      "\u001b[1;31mStopIteration\u001b[0m: "
     ]
    }
   ],
   "source": [
    "next(z)"
   ]
  },
  {
   "cell_type": "code",
   "execution_count": 38,
   "metadata": {},
   "outputs": [
    {
     "data": {
      "text/plain": [
       "1"
      ]
     },
     "execution_count": 38,
     "metadata": {},
     "output_type": "execute_result"
    }
   ],
   "source": [
    "def echo(value=None):\n",
    "    while 1:\n",
    "        value = (yield value)\n",
    "        print(\"The value is\", value)\n",
    "        if value:\n",
    "            value += 1\n",
    "            \n",
    "            \n",
    "g = echo(1)\n",
    "next(g)"
   ]
  },
  {
   "cell_type": "code",
   "execution_count": 39,
   "metadata": {},
   "outputs": [
    {
     "name": "stdout",
     "output_type": "stream",
     "text": [
      "The value is 2\n"
     ]
    },
    {
     "data": {
      "text/plain": [
       "3"
      ]
     },
     "execution_count": 39,
     "metadata": {},
     "output_type": "execute_result"
    }
   ],
   "source": [
    "g.send(2)"
   ]
  },
  {
   "cell_type": "code",
   "execution_count": 40,
   "metadata": {},
   "outputs": [
    {
     "name": "stdout",
     "output_type": "stream",
     "text": [
      "The value is 5\n"
     ]
    },
    {
     "data": {
      "text/plain": [
       "6"
      ]
     },
     "execution_count": 40,
     "metadata": {},
     "output_type": "execute_result"
    }
   ],
   "source": [
    "g.send(5)"
   ]
  },
  {
   "cell_type": "code",
   "execution_count": 41,
   "metadata": {},
   "outputs": [
    {
     "name": "stdout",
     "output_type": "stream",
     "text": [
      "The value is None\n"
     ]
    }
   ],
   "source": [
    "next(g)"
   ]
  },
  {
   "cell_type": "code",
   "execution_count": 42,
   "metadata": {},
   "outputs": [
    {
     "data": {
      "text/plain": [
       "'Intel64 Family 6 Model 58 Stepping 9, GenuineIntel'"
      ]
     },
     "execution_count": 42,
     "metadata": {},
     "output_type": "execute_result"
    }
   ],
   "source": [
    "import platform\n",
    "\n",
    "platform.processor()"
   ]
  },
  {
   "cell_type": "code",
   "execution_count": 43,
   "metadata": {},
   "outputs": [
    {
     "data": {
      "text/plain": [
       "'MSC v.1915 64 bit (AMD64)'"
      ]
     },
     "execution_count": 43,
     "metadata": {},
     "output_type": "execute_result"
    }
   ],
   "source": [
    "platform.python_compiler()"
   ]
  },
  {
   "cell_type": "code",
   "execution_count": 44,
   "metadata": {},
   "outputs": [
    {
     "data": {
      "text/plain": [
       "'CPython'"
      ]
     },
     "execution_count": 44,
     "metadata": {},
     "output_type": "execute_result"
    }
   ],
   "source": [
    "platform.python_implementation()"
   ]
  },
  {
   "cell_type": "code",
   "execution_count": 46,
   "metadata": {},
   "outputs": [
    {
     "data": {
      "text/plain": [
       "'10'"
      ]
     },
     "execution_count": 46,
     "metadata": {},
     "output_type": "execute_result"
    }
   ],
   "source": [
    "platform.release()"
   ]
  },
  {
   "cell_type": "code",
   "execution_count": 47,
   "metadata": {},
   "outputs": [
    {
     "data": {
      "text/plain": [
       "'Windows'"
      ]
     },
     "execution_count": 47,
     "metadata": {},
     "output_type": "execute_result"
    }
   ],
   "source": [
    "platform.system()"
   ]
  },
  {
   "cell_type": "code",
   "execution_count": 48,
   "metadata": {},
   "outputs": [
    {
     "data": {
      "text/plain": [
       "'10.0.18362'"
      ]
     },
     "execution_count": 48,
     "metadata": {},
     "output_type": "execute_result"
    }
   ],
   "source": [
    "platform.version()"
   ]
  },
  {
   "cell_type": "code",
   "execution_count": 49,
   "metadata": {},
   "outputs": [
    {
     "data": {
      "text/plain": [
       "uname_result(system='Windows', node='YWH', release='10', version='10.0.18362', machine='AMD64', processor='Intel64 Family 6 Model 58 Stepping 9, GenuineIntel')"
      ]
     },
     "execution_count": 49,
     "metadata": {},
     "output_type": "execute_result"
    }
   ],
   "source": [
    "platform.uname()"
   ]
  },
  {
   "cell_type": "code",
   "execution_count": 50,
   "metadata": {},
   "outputs": [
    {
     "data": {
      "text/plain": [
       "('10', '10.0.18362', 'SP0', 'Multiprocessor Free')"
      ]
     },
     "execution_count": 50,
     "metadata": {},
     "output_type": "execute_result"
    }
   ],
   "source": [
    "platform.win32_ver()"
   ]
  },
  {
   "cell_type": "code",
   "execution_count": 52,
   "metadata": {},
   "outputs": [
    {
     "data": {
      "text/plain": [
       "'Windows-10-10.0.18362-SP0'"
      ]
     },
     "execution_count": 52,
     "metadata": {},
     "output_type": "execute_result"
    }
   ],
   "source": [
    "platform.platform()"
   ]
  },
  {
   "cell_type": "code",
   "execution_count": 53,
   "metadata": {},
   "outputs": [
    {
     "data": {
      "text/plain": [
       "'Windows'"
      ]
     },
     "execution_count": 53,
     "metadata": {},
     "output_type": "execute_result"
    }
   ],
   "source": [
    "platform.system()"
   ]
  },
  {
   "cell_type": "code",
   "execution_count": 54,
   "metadata": {},
   "outputs": [
    {
     "data": {
      "text/plain": [
       "'[\"foo\", {\"bar\": [\"baz\", null, 1.0, 2]}]'"
      ]
     },
     "execution_count": 54,
     "metadata": {},
     "output_type": "execute_result"
    }
   ],
   "source": [
    "import json\n",
    "json.dumps(['foo', {'bar': ('baz', None, 1.0, 2)}])"
   ]
  },
  {
   "cell_type": "markdown",
   "metadata": {},
   "source": [
    "json.dumps() 字符串中的单引号会被替换为双引号，None 会被替换为 null，圆括号会被替换为方括号，列表在输出时\n",
    "会加上单引号"
   ]
  },
  {
   "cell_type": "code",
   "execution_count": 56,
   "metadata": {},
   "outputs": [
    {
     "name": "stdout",
     "output_type": "stream",
     "text": [
      "\"\\\"foo\\bar\"\n"
     ]
    }
   ],
   "source": [
    "print(json.dumps(\"\\\"foo\\bar\"))"
   ]
  },
  {
   "cell_type": "markdown",
   "metadata": {},
   "source": [
    "json.dumps() 参数中的 \\ 不会被当做转移字符"
   ]
  },
  {
   "cell_type": "code",
   "execution_count": 58,
   "metadata": {},
   "outputs": [
    {
     "name": "stdout",
     "output_type": "stream",
     "text": [
      "\"\\u1234\"\n",
      "ሴ\n"
     ]
    }
   ],
   "source": [
    "print(json.dumps('\\u1234'))\n",
    "print('\\u1234')"
   ]
  },
  {
   "cell_type": "markdown",
   "metadata": {},
   "source": [
    "json.dumps() 参数中的单引号输出时会替换为双引号，且参数保持原样，即 Unicode 代码点不会被转为对应的字符"
   ]
  },
  {
   "cell_type": "code",
   "execution_count": 59,
   "metadata": {},
   "outputs": [
    {
     "name": "stdout",
     "output_type": "stream",
     "text": [
      "\"\\\\\"\n"
     ]
    }
   ],
   "source": [
    "print(json.dumps('\\\\'))"
   ]
  },
  {
   "cell_type": "code",
   "execution_count": 60,
   "metadata": {},
   "outputs": [
    {
     "name": "stdout",
     "output_type": "stream",
     "text": [
      "{\"a\": 0, \"b\": 0, \"c\": 0}\n"
     ]
    }
   ],
   "source": [
    "print(json.dumps({\"c\": 0, \"b\": 0, \"a\": 0}, sort_keys=True))"
   ]
  },
  {
   "cell_type": "code",
   "execution_count": 61,
   "metadata": {},
   "outputs": [
    {
     "data": {
      "text/plain": [
       "'[\"streaming API\"]'"
      ]
     },
     "execution_count": 61,
     "metadata": {},
     "output_type": "execute_result"
    }
   ],
   "source": [
    "from io import StringIO\n",
    "io = StringIO()\n",
    "json.dump(['streaming API'], io)\n",
    "io.getvalue()"
   ]
  },
  {
   "cell_type": "code",
   "execution_count": 62,
   "metadata": {},
   "outputs": [
    {
     "data": {
      "text/plain": [
       "'[1,2,3,{\"4\":5,\"6\":7}]'"
      ]
     },
     "execution_count": 62,
     "metadata": {},
     "output_type": "execute_result"
    }
   ],
   "source": [
    "json.dumps([1, 2, 3, {'4': 5, '6': 7}], separators=(',', ':'))"
   ]
  },
  {
   "cell_type": "code",
   "execution_count": 63,
   "metadata": {},
   "outputs": [
    {
     "name": "stdout",
     "output_type": "stream",
     "text": [
      "{\n",
      "    \"4\": 5,\n",
      "    \"6\": 7\n",
      "}\n"
     ]
    }
   ],
   "source": [
    "print(json.dumps({'4': 5, '6': 7}, sort_keys=True, indent=4))"
   ]
  },
  {
   "cell_type": "code",
   "execution_count": 64,
   "metadata": {},
   "outputs": [
    {
     "data": {
      "text/plain": [
       "['foo', {'bar': ['baz', None, 1.0, 2]}]"
      ]
     },
     "execution_count": 64,
     "metadata": {},
     "output_type": "execute_result"
    }
   ],
   "source": [
    "json.loads('[\"foo\", {\"bar\": [\"baz\", null, 1.0, 2]}]')"
   ]
  },
  {
   "cell_type": "code",
   "execution_count": 65,
   "metadata": {},
   "outputs": [
    {
     "data": {
      "text/plain": [
       "'\"foo\\x08ar'"
      ]
     },
     "execution_count": 65,
     "metadata": {},
     "output_type": "execute_result"
    }
   ],
   "source": [
    "json.loads('\"\\\\\"foo\\\\bar\"')"
   ]
  },
  {
   "cell_type": "code",
   "execution_count": 68,
   "metadata": {},
   "outputs": [
    {
     "data": {
      "text/plain": [
       "'\\x08'"
      ]
     },
     "execution_count": 68,
     "metadata": {},
     "output_type": "execute_result"
    }
   ],
   "source": [
    "json.loads('\"\\\\b\"')"
   ]
  },
  {
   "cell_type": "code",
   "execution_count": 69,
   "metadata": {},
   "outputs": [
    {
     "data": {
      "text/plain": [
       "['streaming API']"
      ]
     },
     "execution_count": 69,
     "metadata": {},
     "output_type": "execute_result"
    }
   ],
   "source": [
    "from io import StringIO\n",
    "io = StringIO('[\"streaming API\"]')\n",
    "json.load(io)"
   ]
  },
  {
   "cell_type": "code",
   "execution_count": 71,
   "metadata": {},
   "outputs": [
    {
     "data": {
      "text/plain": [
       "(1+2j)"
      ]
     },
     "execution_count": 71,
     "metadata": {},
     "output_type": "execute_result"
    }
   ],
   "source": [
    "def as_complex(dct):\n",
    "    if '__complex__' in dct:\n",
    "        return complex(dct['real'], dct['imag'])\n",
    "    return dct\n",
    "\n",
    "\n",
    "json.loads('{\"__complex__\": true, \"real\": 1, \"imag\": 2}', object_hook=as_complex)"
   ]
  },
  {
   "cell_type": "code",
   "execution_count": 72,
   "metadata": {},
   "outputs": [
    {
     "data": {
      "text/plain": [
       "Decimal('1.1')"
      ]
     },
     "execution_count": 72,
     "metadata": {},
     "output_type": "execute_result"
    }
   ],
   "source": [
    "import decimal\n",
    "json.loads('1.1', parse_float=decimal.Decimal)"
   ]
  },
  {
   "cell_type": "code",
   "execution_count": 73,
   "metadata": {},
   "outputs": [
    {
     "data": {
      "text/plain": [
       "'[2.0, 1.0]'"
      ]
     },
     "execution_count": 73,
     "metadata": {},
     "output_type": "execute_result"
    }
   ],
   "source": [
    "class ComplexEncoder(json.JSONEncoder):\n",
    "    def default(self, obj):\n",
    "        if isinstance(obj, complex):\n",
    "            return [obj.real, obj.imag]\n",
    "        # Let the base class default method raise the TypeError\n",
    "        return json.JSONEncoder.default(self, obj)\n",
    "    \n",
    "    \n",
    "json.dumps(2 + 1j, cls=ComplexEncoder)"
   ]
  },
  {
   "cell_type": "code",
   "execution_count": 74,
   "metadata": {},
   "outputs": [
    {
     "data": {
      "text/plain": [
       "['[2.0', ', 1.0', ']']"
      ]
     },
     "execution_count": 74,
     "metadata": {},
     "output_type": "execute_result"
    }
   ],
   "source": [
    "list(ComplexEncoder().iterencode(2 + 1j))"
   ]
  },
  {
   "cell_type": "code",
   "execution_count": 75,
   "metadata": {},
   "outputs": [],
   "source": [
    "import requests\n",
    "import re\n",
    "\n",
    "\n",
    "def get_one_page(url):\n",
    "    headers = {'User-Agent': 'Mozilla/5.0 (Macintosh; Intel Mac OS X 10_13_2) AppleWebKit/537.36 (KHTML, like Gecko) Chrome/76.0.3809.110 Safari/537.36 Vivaldi/2.7.1628.30'}\n",
    "    response = requests.get(url, headers=headers)\n",
    "    if response.status_code == 200:\n",
    "        return response.text\n",
    "    return None\n",
    "\n",
    "\n",
    "def parse_one_page(html):\n",
    "    items = re.findall('<dd>.*?<i.*?>(.*?)</i>.*?data-src=\"(.*?)\".*?class=\"name\"><a.*?>(.*?)</a>.*?\"star\">\\s*(.*?)\\s*</p>.*?\"releasetime\">(.*?)</p>.*?\"integer\">(.*?)</i>.*?\"fraction\">(.*?)</i>', html, re.S)\n",
    "    for item in items:\n",
    "        yield {\n",
    "            'index': item[0], \n",
    "            'image': item[1], \n",
    "            'title': item[2], \n",
    "            'actor': item[3][3:], \n",
    "            'time': item[4][5:], \n",
    "            'score': item[5] + item[6]\n",
    "        }\n",
    "        \n",
    "\n",
    "def main():\n",
    "    url = 'https://maoyan.com/board/4'\n",
    "    html = get_one_page(url)\n",
    "    parse_one_page(html)\n",
    "\n",
    "\n",
    "main()\n"
   ]
  },
  {
   "cell_type": "code",
   "execution_count": 76,
   "metadata": {},
   "outputs": [],
   "source": [
    "def write_to_file(content):\n",
    "    with open('result.txt', 'a', encoding='utf-8') as f:\n",
    "        print(type(json.dumps(content)))\n",
    "        f.write(json.dumps(content, ensure_ascii=False) + '\\n')\n",
    "        \n",
    "        \n",
    "def main():\n",
    "    url = 'https://maoyan.com/board/4'\n",
    "    html = get_one_page(url)\n",
    "    for item in parse_one(page):\n",
    "        write_to_file(item)"
   ]
  },
  {
   "cell_type": "code",
   "execution_count": 77,
   "metadata": {},
   "outputs": [],
   "source": [
    "def main(offset):\n",
    "    url = 'https://maoyan.com/board/4?offset=' + str(offset)\n",
    "    html = get_one_page(url)\n",
    "    for item in parse_one_page(html):\n",
    "        print(item)\n",
    "        write_to_file(item)"
   ]
  },
  {
   "cell_type": "code",
   "execution_count": 79,
   "metadata": {},
   "outputs": [],
   "source": [
    "from requests.exceptions import RequestException\n",
    "import requests\n",
    "import json\n",
    "import re\n",
    "import time\n",
    "\n",
    "\n",
    "def get_one_page(url):\n",
    "    headers = {'User-Agent': 'Mozilla/5.0 (Macintosh; Intel Mac OS X 10_13_2) AppleWebKit/537.36 (KHTML, like Gecko) Chrome/76.0.3809.110 Safari/537.36 Vivaldi/2.7.1628.30'}\n",
    "    try:\n",
    "        response = requests.get(url, headers=headers)\n",
    "        if response.status_code == 200:\n",
    "            return response.text\n",
    "        return None\n",
    "    except RequestException:\n",
    "        return None\n",
    "    \n",
    "    \n",
    "def parse_one_page(html):\n",
    "    items = re.findall('<dd>.*?<i.*?>(.*?)</i>.*?data-src=\"(.*?)\".*?class=\"name\"><a.*?>(.*?)</a>.*?\"star\">\\s*(.*?)\\s*</p>.*?\"releasetime\">(.*?)</p>.*?\"integer\">(.*?)</i>.*?\"fraction\">(.*?)</i>', html, re.S)\n",
    "    for item in items:\n",
    "        yield {\n",
    "            'index': item[0], \n",
    "            'image': item[1], \n",
    "            'title': item[2], \n",
    "            'actor': item[3][3:], \n",
    "            'time': item[4][5:], \n",
    "            'score': item[5] + item[6]\n",
    "        }\n",
    "        \n",
    "        \n",
    "def write_to_file(content):\n",
    "    with open('result.txt', 'a', encoding='utf-8') as f:\n",
    "        f.write(json.dumps(content, ensure_ascii=False) + '\\n')\n",
    "        \n",
    "        \n",
    "def main(offset):\n",
    "    url = 'https://maoyan.com/board/4?offset=' + str(offset)\n",
    "    html = get_one_page(url)\n",
    "    for item in parse_one_page(html):\n",
    "        print(item)\n",
    "        write_to_file(item)\n",
    "        \n",
    "        \n",
    "if __name__ == '__main__':\n",
    "    for i in range(10):\n",
    "        offset = i * 10\n",
    "        main(offset)\n",
    "        time.sleep(1)"
   ]
  },
  {
   "cell_type": "code",
   "execution_count": null,
   "metadata": {},
   "outputs": [],
   "source": [
    "# %load temp.py\n",
    "print('hello world')\n"
   ]
  },
  {
   "cell_type": "code",
   "execution_count": null,
   "metadata": {},
   "outputs": [],
   "source": [
    "# %load maoyan.py\n",
    "from requests.exceptions import RequestException\n",
    "import requests\n",
    "import json\n",
    "import re\n",
    "import time\n",
    "\n",
    "\n",
    "def get_one_page(url):\n",
    "    headers = {'User-Agent': 'Mozilla/5.0 (Macintosh; Intel Mac OS X 10_13_2) AppleWebKit/537.36 (KHTML, like Gecko) Chrome/76.0.3809.110 Safari/537.36 Vivaldi/2.7.1628.30'}\n",
    "    try:\n",
    "        response = requests.get(url, headers=headers)\n",
    "        if response.status_code == 200:\n",
    "            return response.text\n",
    "        return None\n",
    "    except RequestException:\n",
    "        return None\n",
    "    \n",
    "    \n",
    "def parse_one_page(html):\n",
    "    items = re.findall('<dd>.*?<i.*?>(.*?)</i>.*?data-src=\"(.*?)\".*?class=\"name\"><a.*?>(.*?)</a>.*?\"star\">\\s*(.*?)\\s*</p>.*?\"releasetime\">(.*?)</p>.*?\"integer\">(.*?)</i>.*?\"fraction\">(.*?)</i>', html, re.S)\n",
    "    for item in items:\n",
    "        yield {\n",
    "            'index': item[0], \n",
    "            'image': item[1], \n",
    "            'title': item[2], \n",
    "            'actor': item[3][3:], \n",
    "            'time': item[4][5:], \n",
    "            'score': item[5] + item[6]\n",
    "        }\n",
    "        \n",
    "        \n",
    "def write_to_file(content):\n",
    "    with open('result.txt', 'a', encoding='utf-8') as f:\n",
    "        f.write(json.dumps(content, ensure_ascii=False) + '\\n')\n",
    "        \n",
    "        \n",
    "def main(offset):\n",
    "    url = 'https://maoyan.com/board/4?offset=' + str(offset)\n",
    "    html = get_one_page(url)\n",
    "    for item in parse_one_page(html):\n",
    "        print(item)\n",
    "        write_to_file(item)\n",
    "        \n",
    "        \n",
    "if __name__ == '__main__':\n",
    "    for i in range(10):\n",
    "        offset = i * 10\n",
    "        main(offset)\n",
    "        time.sleep(1)\n"
   ]
  },
  {
   "cell_type": "code",
   "execution_count": null,
   "metadata": {},
   "outputs": [],
   "source": []
  }
 ],
 "metadata": {
  "kernelspec": {
   "display_name": "Python 3",
   "language": "python",
   "name": "python3"
  },
  "language_info": {
   "codemirror_mode": {
    "name": "ipython",
    "version": 3
   },
   "file_extension": ".py",
   "mimetype": "text/x-python",
   "name": "python",
   "nbconvert_exporter": "python",
   "pygments_lexer": "ipython3",
   "version": "3.7.1"
  }
 },
 "nbformat": 4,
 "nbformat_minor": 2
}
