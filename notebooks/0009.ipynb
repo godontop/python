{
 "cells": [
  {
   "cell_type": "markdown",
   "id": "557ea6c8-182c-4651-867e-33fc8ad494b3",
   "metadata": {},
   "source": [
    "# 主要内容待定"
   ]
  },
  {
   "cell_type": "code",
   "execution_count": 4,
   "id": "63af0999-7c4e-4457-8245-e2bee9f536e2",
   "metadata": {},
   "outputs": [
    {
     "name": "stdout",
     "output_type": "stream",
     "text": [
      "2025-06-28 20:14:30\n",
      "Linux-5.10.0-35-amd64-x86_64-with-glibc2.31\n",
      "sys.version_info(major=3, minor=9, micro=2, releaselevel='final', serial=0)\n"
     ]
    }
   ],
   "source": [
    "import time\n",
    "import sys\n",
    "import platform\n",
    "\n",
    "\n",
    "print(time.strftime(\"%Y-%m-%d %H:%M:%S\"))\n",
    "print(platform.platform())\n",
    "print(sys.version_info)"
   ]
  },
  {
   "cell_type": "markdown",
   "id": "2336df06-7a36-4609-8153-08752ebb4302",
   "metadata": {},
   "source": [
    "## 通过PyPI查询指定Python库的所有可用版本\n",
    "以pip为例"
   ]
  },
  {
   "cell_type": "code",
   "execution_count": 5,
   "id": "63ad0a72-9cad-4d22-82de-4fa86834a992",
   "metadata": {},
   "outputs": [
    {
     "data": {
      "text/plain": [
       "dict_keys(['info', 'last_serial', 'releases', 'urls', 'vulnerabilities'])"
      ]
     },
     "execution_count": 5,
     "metadata": {},
     "output_type": "execute_result"
    }
   ],
   "source": [
    "import requests\n",
    "\n",
    "\n",
    "response = requests.get('https://pypi.python.org/pypi/pip/json')\n",
    "data = response.json()\n",
    "data.keys()"
   ]
  },
  {
   "cell_type": "code",
   "execution_count": 6,
   "id": "2f0fd5b1-8d2b-4e78-ac0b-0c72f87ac00e",
   "metadata": {},
   "outputs": [
    {
     "data": {
      "text/plain": [
       "dict"
      ]
     },
     "execution_count": 6,
     "metadata": {},
     "output_type": "execute_result"
    }
   ],
   "source": [
    "type(data['releases'])"
   ]
  },
  {
   "cell_type": "code",
   "execution_count": 7,
   "id": "9e87c38d-ae64-4dca-b2e0-75078be96706",
   "metadata": {},
   "outputs": [
    {
     "data": {
      "text/plain": [
       "dict_keys(['0.2', '0.2.1', '0.3', '0.3.1', '0.4', '0.5', '0.5.1', '0.6', '0.6.1', '0.6.2', '0.6.3', '0.7', '0.7.1', '0.7.2', '0.8', '0.8.1', '0.8.2', '0.8.3', '1.0', '1.0.1', '1.0.2', '1.1', '1.2', '1.2.1', '1.3', '1.3.1', '1.4', '1.4.1', '1.5', '1.5.1', '1.5.2', '1.5.3', '1.5.4', '1.5.5', '1.5.6', '10.0.0', '10.0.0b1', '10.0.0b2', '10.0.1', '18.0', '18.1', '19.0', '19.0.1', '19.0.2', '19.0.3', '19.1', '19.1.1', '19.2', '19.2.1', '19.2.2', '19.2.3', '19.3', '19.3.1', '20.0', '20.0.1', '20.0.2', '20.1', '20.1.1', '20.1b1', '20.2', '20.2.1', '20.2.2', '20.2.3', '20.2.4', '20.2b1', '20.3', '20.3.1', '20.3.2', '20.3.3', '20.3.4', '20.3b1', '21.0', '21.0.1', '21.1', '21.1.1', '21.1.2', '21.1.3', '21.2', '21.2.1', '21.2.2', '21.2.3', '21.2.4', '21.3', '21.3.1', '22.0', '22.0.1', '22.0.2', '22.0.3', '22.0.4', '22.1', '22.1.1', '22.1.2', '22.1b1', '22.2', '22.2.1', '22.2.2', '22.3', '22.3.1', '23.0', '23.0.1', '23.1', '23.1.1', '23.1.2', '23.2', '23.2.1', '23.3', '23.3.1', '23.3.2', '24.0', '24.1', '24.1.1', '24.1.2', '24.1b1', '24.1b2', '24.2', '24.3', '24.3.1', '25.0', '25.0.1', '25.1', '25.1.1', '6.0', '6.0.1', '6.0.2', '6.0.3', '6.0.4', '6.0.5', '6.0.6', '6.0.7', '6.0.8', '6.1.0', '6.1.1', '7.0.0', '7.0.1', '7.0.2', '7.0.3', '7.1.0', '7.1.1', '7.1.2', '8.0.0', '8.0.1', '8.0.2', '8.0.3', '8.1.0', '8.1.1', '8.1.2', '9.0.0', '9.0.1', '9.0.2', '9.0.3'])"
      ]
     },
     "execution_count": 7,
     "metadata": {},
     "output_type": "execute_result"
    }
   ],
   "source": [
    "data['releases'].keys()"
   ]
  },
  {
   "cell_type": "code",
   "execution_count": 8,
   "id": "a88b3851-0b6e-4253-9fe5-46e533a4ade5",
   "metadata": {},
   "outputs": [
    {
     "data": {
      "text/plain": [
       "[{'comment_text': None,\n",
       "  'digests': {'blake2b_256': '29a2d40fb2460e883eca5199c62cfc2463fd261f760556ae6290f88488c362c0',\n",
       "   'md5': '6a01d861bf88ee075c6942419a04839d',\n",
       "   'sha256': '2913a38a2abf4ea6b64ab507bd9e967f3b53dc1ede74b01b0931e1ce548751af'},\n",
       "  'downloads': -1,\n",
       "  'filename': 'pip-25.1.1-py3-none-any.whl',\n",
       "  'has_sig': False,\n",
       "  'md5_digest': '6a01d861bf88ee075c6942419a04839d',\n",
       "  'packagetype': 'bdist_wheel',\n",
       "  'python_version': 'py3',\n",
       "  'requires_python': '>=3.9',\n",
       "  'size': 1825227,\n",
       "  'upload_time': '2025-05-02T15:13:59',\n",
       "  'upload_time_iso_8601': '2025-05-02T15:13:59.102661Z',\n",
       "  'url': 'https://files.pythonhosted.org/packages/29/a2/d40fb2460e883eca5199c62cfc2463fd261f760556ae6290f88488c362c0/pip-25.1.1-py3-none-any.whl',\n",
       "  'yanked': False,\n",
       "  'yanked_reason': None},\n",
       " {'comment_text': None,\n",
       "  'digests': {'blake2b_256': '59de241caa0ca606f2ec5fe0c1f4261b0465df78d786a38da693864a116c37f4',\n",
       "   'md5': '1fb80f511aec07d971dd7e6707a1235d',\n",
       "   'sha256': '3de45d411d308d5054c2168185d8da7f9a2cd753dbac8acbfa88a8909ecd9077'},\n",
       "  'downloads': -1,\n",
       "  'filename': 'pip-25.1.1.tar.gz',\n",
       "  'has_sig': False,\n",
       "  'md5_digest': '1fb80f511aec07d971dd7e6707a1235d',\n",
       "  'packagetype': 'sdist',\n",
       "  'python_version': 'source',\n",
       "  'requires_python': '>=3.9',\n",
       "  'size': 1940155,\n",
       "  'upload_time': '2025-05-02T15:14:02',\n",
       "  'upload_time_iso_8601': '2025-05-02T15:14:02.057834Z',\n",
       "  'url': 'https://files.pythonhosted.org/packages/59/de/241caa0ca606f2ec5fe0c1f4261b0465df78d786a38da693864a116c37f4/pip-25.1.1.tar.gz',\n",
       "  'yanked': False,\n",
       "  'yanked_reason': None}]"
      ]
     },
     "execution_count": 8,
     "metadata": {},
     "output_type": "execute_result"
    }
   ],
   "source": [
    "data['releases']['25.1.1']"
   ]
  },
  {
   "cell_type": "code",
   "execution_count": 9,
   "id": "200512d3-c293-4039-ba61-048b623b0ddb",
   "metadata": {},
   "outputs": [
    {
     "data": {
      "text/plain": [
       "{'author': None,\n",
       " 'author_email': 'The pip developers <distutils-sig@python.org>',\n",
       " 'bugtrack_url': None,\n",
       " 'classifiers': ['Development Status :: 5 - Production/Stable',\n",
       "  'Intended Audience :: Developers',\n",
       "  'License :: OSI Approved :: MIT License',\n",
       "  'Programming Language :: Python',\n",
       "  'Programming Language :: Python :: 3',\n",
       "  'Programming Language :: Python :: 3 :: Only',\n",
       "  'Programming Language :: Python :: 3.10',\n",
       "  'Programming Language :: Python :: 3.11',\n",
       "  'Programming Language :: Python :: 3.12',\n",
       "  'Programming Language :: Python :: 3.13',\n",
       "  'Programming Language :: Python :: 3.9',\n",
       "  'Programming Language :: Python :: Implementation :: CPython',\n",
       "  'Programming Language :: Python :: Implementation :: PyPy',\n",
       "  'Topic :: Software Development :: Build Tools'],\n",
       " 'description': \"pip - The Python Package Installer\\n==================================\\n\\n.. |pypi-version| image:: https://img.shields.io/pypi/v/pip.svg\\n   :target: https://pypi.org/project/pip/\\n   :alt: PyPI\\n\\n.. |python-versions| image:: https://img.shields.io/pypi/pyversions/pip\\n   :target: https://pypi.org/project/pip\\n   :alt: PyPI - Python Version\\n\\n.. |docs-badge| image:: https://readthedocs.org/projects/pip/badge/?version=latest\\n   :target: https://pip.pypa.io/en/latest\\n   :alt: Documentation\\n\\n|pypi-version| |python-versions| |docs-badge|\\n\\npip is the `package installer`_ for Python. You can use pip to install packages from the `Python Package Index`_ and other indexes.\\n\\nPlease take a look at our documentation for how to install and use pip:\\n\\n* `Installation`_\\n* `Usage`_\\n\\nWe release updates regularly, with a new version every 3 months. Find more details in our documentation:\\n\\n* `Release notes`_\\n* `Release process`_\\n\\nIf you find bugs, need help, or want to talk to the developers, please use our mailing lists or chat rooms:\\n\\n* `Issue tracking`_\\n* `Discourse channel`_\\n* `User IRC`_\\n\\nIf you want to get involved head over to GitHub to get the source code, look at our development documentation and feel free to jump on the developer mailing lists and chat rooms:\\n\\n* `GitHub page`_\\n* `Development documentation`_\\n* `Development IRC`_\\n\\nCode of Conduct\\n---------------\\n\\nEveryone interacting in the pip project's codebases, issue trackers, chat\\nrooms, and mailing lists is expected to follow the `PSF Code of Conduct`_.\\n\\n.. _package installer: https://packaging.python.org/guides/tool-recommendations/\\n.. _Python Package Index: https://pypi.org\\n.. _Installation: https://pip.pypa.io/en/stable/installation/\\n.. _Usage: https://pip.pypa.io/en/stable/\\n.. _Release notes: https://pip.pypa.io/en/stable/news.html\\n.. _Release process: https://pip.pypa.io/en/latest/development/release-process/\\n.. _GitHub page: https://github.com/pypa/pip\\n.. _Development documentation: https://pip.pypa.io/en/latest/development\\n.. _Issue tracking: https://github.com/pypa/pip/issues\\n.. _Discourse channel: https://discuss.python.org/c/packaging\\n.. _User IRC: https://kiwiirc.com/nextclient/#ircs://irc.libera.chat:+6697/pypa\\n.. _Development IRC: https://kiwiirc.com/nextclient/#ircs://irc.libera.chat:+6697/pypa-dev\\n.. _PSF Code of Conduct: https://github.com/pypa/.github/blob/main/CODE_OF_CONDUCT.md\\n\",\n",
       " 'description_content_type': 'text/x-rst',\n",
       " 'docs_url': None,\n",
       " 'download_url': None,\n",
       " 'downloads': {'last_day': -1, 'last_month': -1, 'last_week': -1},\n",
       " 'dynamic': ['License-File'],\n",
       " 'home_page': None,\n",
       " 'keywords': None,\n",
       " 'license': 'MIT',\n",
       " 'license_expression': None,\n",
       " 'license_files': ['LICENSE.txt', 'AUTHORS.txt'],\n",
       " 'maintainer': None,\n",
       " 'maintainer_email': None,\n",
       " 'name': 'pip',\n",
       " 'package_url': 'https://pypi.org/project/pip/',\n",
       " 'platform': None,\n",
       " 'project_url': 'https://pypi.org/project/pip/',\n",
       " 'project_urls': {'Changelog': 'https://pip.pypa.io/en/stable/news/',\n",
       "  'Documentation': 'https://pip.pypa.io',\n",
       "  'Homepage': 'https://pip.pypa.io/',\n",
       "  'Source': 'https://github.com/pypa/pip'},\n",
       " 'provides_extra': None,\n",
       " 'release_url': 'https://pypi.org/project/pip/25.1.1/',\n",
       " 'requires_dist': None,\n",
       " 'requires_python': '>=3.9',\n",
       " 'summary': 'The PyPA recommended tool for installing Python packages.',\n",
       " 'version': '25.1.1',\n",
       " 'yanked': False,\n",
       " 'yanked_reason': None}"
      ]
     },
     "execution_count": 9,
     "metadata": {},
     "output_type": "execute_result"
    }
   ],
   "source": [
    "data['info']"
   ]
  },
  {
   "cell_type": "code",
   "execution_count": 10,
   "id": "dee665cd-a813-4bb8-9080-c32f819e1964",
   "metadata": {},
   "outputs": [
    {
     "data": {
      "text/plain": [
       "'25.1.1'"
      ]
     },
     "execution_count": 10,
     "metadata": {},
     "output_type": "execute_result"
    }
   ],
   "source": [
    "data['info']['version']"
   ]
  },
  {
   "cell_type": "code",
   "execution_count": 17,
   "id": "4ce52cfe-9bf5-4ba8-9fea-11c76af36337",
   "metadata": {},
   "outputs": [
    {
     "name": "stdout",
     "output_type": "stream",
     "text": [
      "[{\"comment_text\": null, \"digests\": {\"blake2b_256\": \"29a2d40fb2460e883eca5199c62cfc2463fd261f760556ae6290f88488c362c0\", \"md5\": \"6a01d861bf88ee075c6942419a04839d\", \"sha256\": \"2913a38a2abf4ea6b64ab507bd9e967f3b53dc1ede74b01b0931e1ce548751af\"}, \"downloads\": -1, \"filename\": \"pip-25.1.1-py3-none-any.whl\", \"has_sig\": false, \"md5_digest\": \"6a01d861bf88ee075c6942419a04839d\", \"packagetype\": \"bdist_wheel\", \"python_version\": \"py3\", \"requires_python\": \">=3.9\", \"size\": 1825227, \"upload_time\": \"2025-05-02T15:13:59\", \"upload_time_iso_8601\": \"2025-05-02T15:13:59.102661Z\", \"url\": \"https://files.pythonhosted.org/packages/29/a2/d40fb2460e883eca5199c62cfc2463fd261f760556ae6290f88488c362c0/pip-25.1.1-py3-none-any.whl\", \"yanked\": false, \"yanked_reason\": null}, {\"comment_text\": null, \"digests\": {\"blake2b_256\": \"59de241caa0ca606f2ec5fe0c1f4261b0465df78d786a38da693864a116c37f4\", \"md5\": \"1fb80f511aec07d971dd7e6707a1235d\", \"sha256\": \"3de45d411d308d5054c2168185d8da7f9a2cd753dbac8acbfa88a8909ecd9077\"}, \"downloads\": -1, \"filename\": \"pip-25.1.1.tar.gz\", \"has_sig\": false, \"md5_digest\": \"1fb80f511aec07d971dd7e6707a1235d\", \"packagetype\": \"sdist\", \"python_version\": \"source\", \"requires_python\": \">=3.9\", \"size\": 1940155, \"upload_time\": \"2025-05-02T15:14:02\", \"upload_time_iso_8601\": \"2025-05-02T15:14:02.057834Z\", \"url\": \"https://files.pythonhosted.org/packages/59/de/241caa0ca606f2ec5fe0c1f4261b0465df78d786a38da693864a116c37f4/pip-25.1.1.tar.gz\", \"yanked\": false, \"yanked_reason\": null}]\n"
     ]
    }
   ],
   "source": [
    "import json\n",
    "\n",
    "\n",
    "print(json.dumps(data['releases']['25.1.1']))"
   ]
  },
  {
   "cell_type": "code",
   "execution_count": 18,
   "id": "5c286e94-29da-4522-933f-8a40ed6199f3",
   "metadata": {},
   "outputs": [
    {
     "name": "stdout",
     "output_type": "stream",
     "text": [
      "[\n",
      "    {\n",
      "        \"comment_text\": null,\n",
      "        \"digests\": {\n",
      "            \"blake2b_256\": \"29a2d40fb2460e883eca5199c62cfc2463fd261f760556ae6290f88488c362c0\",\n",
      "            \"md5\": \"6a01d861bf88ee075c6942419a04839d\",\n",
      "            \"sha256\": \"2913a38a2abf4ea6b64ab507bd9e967f3b53dc1ede74b01b0931e1ce548751af\"\n",
      "        },\n",
      "        \"downloads\": -1,\n",
      "        \"filename\": \"pip-25.1.1-py3-none-any.whl\",\n",
      "        \"has_sig\": false,\n",
      "        \"md5_digest\": \"6a01d861bf88ee075c6942419a04839d\",\n",
      "        \"packagetype\": \"bdist_wheel\",\n",
      "        \"python_version\": \"py3\",\n",
      "        \"requires_python\": \">=3.9\",\n",
      "        \"size\": 1825227,\n",
      "        \"upload_time\": \"2025-05-02T15:13:59\",\n",
      "        \"upload_time_iso_8601\": \"2025-05-02T15:13:59.102661Z\",\n",
      "        \"url\": \"https://files.pythonhosted.org/packages/29/a2/d40fb2460e883eca5199c62cfc2463fd261f760556ae6290f88488c362c0/pip-25.1.1-py3-none-any.whl\",\n",
      "        \"yanked\": false,\n",
      "        \"yanked_reason\": null\n",
      "    },\n",
      "    {\n",
      "        \"comment_text\": null,\n",
      "        \"digests\": {\n",
      "            \"blake2b_256\": \"59de241caa0ca606f2ec5fe0c1f4261b0465df78d786a38da693864a116c37f4\",\n",
      "            \"md5\": \"1fb80f511aec07d971dd7e6707a1235d\",\n",
      "            \"sha256\": \"3de45d411d308d5054c2168185d8da7f9a2cd753dbac8acbfa88a8909ecd9077\"\n",
      "        },\n",
      "        \"downloads\": -1,\n",
      "        \"filename\": \"pip-25.1.1.tar.gz\",\n",
      "        \"has_sig\": false,\n",
      "        \"md5_digest\": \"1fb80f511aec07d971dd7e6707a1235d\",\n",
      "        \"packagetype\": \"sdist\",\n",
      "        \"python_version\": \"source\",\n",
      "        \"requires_python\": \">=3.9\",\n",
      "        \"size\": 1940155,\n",
      "        \"upload_time\": \"2025-05-02T15:14:02\",\n",
      "        \"upload_time_iso_8601\": \"2025-05-02T15:14:02.057834Z\",\n",
      "        \"url\": \"https://files.pythonhosted.org/packages/59/de/241caa0ca606f2ec5fe0c1f4261b0465df78d786a38da693864a116c37f4/pip-25.1.1.tar.gz\",\n",
      "        \"yanked\": false,\n",
      "        \"yanked_reason\": null\n",
      "    }\n",
      "]\n"
     ]
    }
   ],
   "source": [
    "print(json.dumps(data['releases']['25.1.1'], indent=4))"
   ]
  },
  {
   "cell_type": "code",
   "execution_count": 20,
   "id": "e9262d34-d724-4eae-a506-8f1c4366a170",
   "metadata": {},
   "outputs": [
    {
     "data": {
      "text/plain": [
       "1"
      ]
     },
     "execution_count": 20,
     "metadata": {},
     "output_type": "execute_result"
    }
   ],
   "source": [
    "# 查询当前CPU核心的个数\n",
    "import multiprocessing\n",
    "\n",
    "\n",
    "multiprocessing.cpu_count()"
   ]
  },
  {
   "cell_type": "code",
   "execution_count": null,
   "id": "6cc733b5-ada7-4514-aa50-fbb5ab93139a",
   "metadata": {},
   "outputs": [],
   "source": []
  }
 ],
 "metadata": {
  "kernelspec": {
   "display_name": "Python 3 (ipykernel)",
   "language": "python",
   "name": "python3"
  },
  "language_info": {
   "codemirror_mode": {
    "name": "ipython",
    "version": 3
   },
   "file_extension": ".py",
   "mimetype": "text/x-python",
   "name": "python",
   "nbconvert_exporter": "python",
   "pygments_lexer": "ipython3",
   "version": "3.9.2"
  }
 },
 "nbformat": 4,
 "nbformat_minor": 5
}
