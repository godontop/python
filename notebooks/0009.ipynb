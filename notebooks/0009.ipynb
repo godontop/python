{
 "cells": [
  {
   "cell_type": "markdown",
   "id": "557ea6c8-182c-4651-867e-33fc8ad494b3",
   "metadata": {},
   "source": [
    "# 主要内容待定\n",
    "* [按语义化版本对软件包的版本进行排序](#按语义化版本对软件包的版本进行排序)\n",
    "* [通过Pypi网站查询Python库的相关信息，以pyright库为例](#通过pypi网站查询python库的相关信息以pyright库为例)"
   ]
  },
  {
   "cell_type": "code",
   "execution_count": 4,
   "id": "63af0999-7c4e-4457-8245-e2bee9f536e2",
   "metadata": {},
   "outputs": [
    {
     "name": "stdout",
     "output_type": "stream",
     "text": [
      "2025-06-28 20:14:30\n",
      "Linux-5.10.0-35-amd64-x86_64-with-glibc2.31\n",
      "sys.version_info(major=3, minor=9, micro=2, releaselevel='final', serial=0)\n"
     ]
    }
   ],
   "source": [
    "import time\n",
    "import sys\n",
    "import platform\n",
    "\n",
    "\n",
    "print(time.strftime(\"%Y-%m-%d %H:%M:%S\"))\n",
    "print(platform.platform())\n",
    "print(sys.version_info)"
   ]
  },
  {
   "cell_type": "markdown",
   "id": "2336df06-7a36-4609-8153-08752ebb4302",
   "metadata": {},
   "source": [
    "## 通过PyPI查询指定Python库的所有可用版本\n",
    "以pip为例"
   ]
  },
  {
   "cell_type": "code",
   "execution_count": 5,
   "id": "63ad0a72-9cad-4d22-82de-4fa86834a992",
   "metadata": {},
   "outputs": [
    {
     "data": {
      "text/plain": [
       "dict_keys(['info', 'last_serial', 'releases', 'urls', 'vulnerabilities'])"
      ]
     },
     "execution_count": 5,
     "metadata": {},
     "output_type": "execute_result"
    }
   ],
   "source": [
    "import requests\n",
    "\n",
    "\n",
    "response = requests.get('https://pypi.python.org/pypi/pip/json')\n",
    "data = response.json()\n",
    "data.keys()"
   ]
  },
  {
   "cell_type": "code",
   "execution_count": 6,
   "id": "2f0fd5b1-8d2b-4e78-ac0b-0c72f87ac00e",
   "metadata": {},
   "outputs": [
    {
     "data": {
      "text/plain": [
       "dict"
      ]
     },
     "execution_count": 6,
     "metadata": {},
     "output_type": "execute_result"
    }
   ],
   "source": [
    "type(data['releases'])"
   ]
  },
  {
   "cell_type": "code",
   "execution_count": 7,
   "id": "9e87c38d-ae64-4dca-b2e0-75078be96706",
   "metadata": {},
   "outputs": [
    {
     "data": {
      "text/plain": [
       "dict_keys(['0.2', '0.2.1', '0.3', '0.3.1', '0.4', '0.5', '0.5.1', '0.6', '0.6.1', '0.6.2', '0.6.3', '0.7', '0.7.1', '0.7.2', '0.8', '0.8.1', '0.8.2', '0.8.3', '1.0', '1.0.1', '1.0.2', '1.1', '1.2', '1.2.1', '1.3', '1.3.1', '1.4', '1.4.1', '1.5', '1.5.1', '1.5.2', '1.5.3', '1.5.4', '1.5.5', '1.5.6', '10.0.0', '10.0.0b1', '10.0.0b2', '10.0.1', '18.0', '18.1', '19.0', '19.0.1', '19.0.2', '19.0.3', '19.1', '19.1.1', '19.2', '19.2.1', '19.2.2', '19.2.3', '19.3', '19.3.1', '20.0', '20.0.1', '20.0.2', '20.1', '20.1.1', '20.1b1', '20.2', '20.2.1', '20.2.2', '20.2.3', '20.2.4', '20.2b1', '20.3', '20.3.1', '20.3.2', '20.3.3', '20.3.4', '20.3b1', '21.0', '21.0.1', '21.1', '21.1.1', '21.1.2', '21.1.3', '21.2', '21.2.1', '21.2.2', '21.2.3', '21.2.4', '21.3', '21.3.1', '22.0', '22.0.1', '22.0.2', '22.0.3', '22.0.4', '22.1', '22.1.1', '22.1.2', '22.1b1', '22.2', '22.2.1', '22.2.2', '22.3', '22.3.1', '23.0', '23.0.1', '23.1', '23.1.1', '23.1.2', '23.2', '23.2.1', '23.3', '23.3.1', '23.3.2', '24.0', '24.1', '24.1.1', '24.1.2', '24.1b1', '24.1b2', '24.2', '24.3', '24.3.1', '25.0', '25.0.1', '25.1', '25.1.1', '6.0', '6.0.1', '6.0.2', '6.0.3', '6.0.4', '6.0.5', '6.0.6', '6.0.7', '6.0.8', '6.1.0', '6.1.1', '7.0.0', '7.0.1', '7.0.2', '7.0.3', '7.1.0', '7.1.1', '7.1.2', '8.0.0', '8.0.1', '8.0.2', '8.0.3', '8.1.0', '8.1.1', '8.1.2', '9.0.0', '9.0.1', '9.0.2', '9.0.3'])"
      ]
     },
     "execution_count": 7,
     "metadata": {},
     "output_type": "execute_result"
    }
   ],
   "source": [
    "data['releases'].keys()"
   ]
  },
  {
   "cell_type": "code",
   "execution_count": 8,
   "id": "a88b3851-0b6e-4253-9fe5-46e533a4ade5",
   "metadata": {},
   "outputs": [
    {
     "data": {
      "text/plain": [
       "[{'comment_text': None,\n",
       "  'digests': {'blake2b_256': '29a2d40fb2460e883eca5199c62cfc2463fd261f760556ae6290f88488c362c0',\n",
       "   'md5': '6a01d861bf88ee075c6942419a04839d',\n",
       "   'sha256': '2913a38a2abf4ea6b64ab507bd9e967f3b53dc1ede74b01b0931e1ce548751af'},\n",
       "  'downloads': -1,\n",
       "  'filename': 'pip-25.1.1-py3-none-any.whl',\n",
       "  'has_sig': False,\n",
       "  'md5_digest': '6a01d861bf88ee075c6942419a04839d',\n",
       "  'packagetype': 'bdist_wheel',\n",
       "  'python_version': 'py3',\n",
       "  'requires_python': '>=3.9',\n",
       "  'size': 1825227,\n",
       "  'upload_time': '2025-05-02T15:13:59',\n",
       "  'upload_time_iso_8601': '2025-05-02T15:13:59.102661Z',\n",
       "  'url': 'https://files.pythonhosted.org/packages/29/a2/d40fb2460e883eca5199c62cfc2463fd261f760556ae6290f88488c362c0/pip-25.1.1-py3-none-any.whl',\n",
       "  'yanked': False,\n",
       "  'yanked_reason': None},\n",
       " {'comment_text': None,\n",
       "  'digests': {'blake2b_256': '59de241caa0ca606f2ec5fe0c1f4261b0465df78d786a38da693864a116c37f4',\n",
       "   'md5': '1fb80f511aec07d971dd7e6707a1235d',\n",
       "   'sha256': '3de45d411d308d5054c2168185d8da7f9a2cd753dbac8acbfa88a8909ecd9077'},\n",
       "  'downloads': -1,\n",
       "  'filename': 'pip-25.1.1.tar.gz',\n",
       "  'has_sig': False,\n",
       "  'md5_digest': '1fb80f511aec07d971dd7e6707a1235d',\n",
       "  'packagetype': 'sdist',\n",
       "  'python_version': 'source',\n",
       "  'requires_python': '>=3.9',\n",
       "  'size': 1940155,\n",
       "  'upload_time': '2025-05-02T15:14:02',\n",
       "  'upload_time_iso_8601': '2025-05-02T15:14:02.057834Z',\n",
       "  'url': 'https://files.pythonhosted.org/packages/59/de/241caa0ca606f2ec5fe0c1f4261b0465df78d786a38da693864a116c37f4/pip-25.1.1.tar.gz',\n",
       "  'yanked': False,\n",
       "  'yanked_reason': None}]"
      ]
     },
     "execution_count": 8,
     "metadata": {},
     "output_type": "execute_result"
    }
   ],
   "source": [
    "data['releases']['25.1.1']"
   ]
  },
  {
   "cell_type": "code",
   "execution_count": 9,
   "id": "200512d3-c293-4039-ba61-048b623b0ddb",
   "metadata": {},
   "outputs": [
    {
     "data": {
      "text/plain": [
       "{'author': None,\n",
       " 'author_email': 'The pip developers <distutils-sig@python.org>',\n",
       " 'bugtrack_url': None,\n",
       " 'classifiers': ['Development Status :: 5 - Production/Stable',\n",
       "  'Intended Audience :: Developers',\n",
       "  'License :: OSI Approved :: MIT License',\n",
       "  'Programming Language :: Python',\n",
       "  'Programming Language :: Python :: 3',\n",
       "  'Programming Language :: Python :: 3 :: Only',\n",
       "  'Programming Language :: Python :: 3.10',\n",
       "  'Programming Language :: Python :: 3.11',\n",
       "  'Programming Language :: Python :: 3.12',\n",
       "  'Programming Language :: Python :: 3.13',\n",
       "  'Programming Language :: Python :: 3.9',\n",
       "  'Programming Language :: Python :: Implementation :: CPython',\n",
       "  'Programming Language :: Python :: Implementation :: PyPy',\n",
       "  'Topic :: Software Development :: Build Tools'],\n",
       " 'description': \"pip - The Python Package Installer\\n==================================\\n\\n.. |pypi-version| image:: https://img.shields.io/pypi/v/pip.svg\\n   :target: https://pypi.org/project/pip/\\n   :alt: PyPI\\n\\n.. |python-versions| image:: https://img.shields.io/pypi/pyversions/pip\\n   :target: https://pypi.org/project/pip\\n   :alt: PyPI - Python Version\\n\\n.. |docs-badge| image:: https://readthedocs.org/projects/pip/badge/?version=latest\\n   :target: https://pip.pypa.io/en/latest\\n   :alt: Documentation\\n\\n|pypi-version| |python-versions| |docs-badge|\\n\\npip is the `package installer`_ for Python. You can use pip to install packages from the `Python Package Index`_ and other indexes.\\n\\nPlease take a look at our documentation for how to install and use pip:\\n\\n* `Installation`_\\n* `Usage`_\\n\\nWe release updates regularly, with a new version every 3 months. Find more details in our documentation:\\n\\n* `Release notes`_\\n* `Release process`_\\n\\nIf you find bugs, need help, or want to talk to the developers, please use our mailing lists or chat rooms:\\n\\n* `Issue tracking`_\\n* `Discourse channel`_\\n* `User IRC`_\\n\\nIf you want to get involved head over to GitHub to get the source code, look at our development documentation and feel free to jump on the developer mailing lists and chat rooms:\\n\\n* `GitHub page`_\\n* `Development documentation`_\\n* `Development IRC`_\\n\\nCode of Conduct\\n---------------\\n\\nEveryone interacting in the pip project's codebases, issue trackers, chat\\nrooms, and mailing lists is expected to follow the `PSF Code of Conduct`_.\\n\\n.. _package installer: https://packaging.python.org/guides/tool-recommendations/\\n.. _Python Package Index: https://pypi.org\\n.. _Installation: https://pip.pypa.io/en/stable/installation/\\n.. _Usage: https://pip.pypa.io/en/stable/\\n.. _Release notes: https://pip.pypa.io/en/stable/news.html\\n.. _Release process: https://pip.pypa.io/en/latest/development/release-process/\\n.. _GitHub page: https://github.com/pypa/pip\\n.. _Development documentation: https://pip.pypa.io/en/latest/development\\n.. _Issue tracking: https://github.com/pypa/pip/issues\\n.. _Discourse channel: https://discuss.python.org/c/packaging\\n.. _User IRC: https://kiwiirc.com/nextclient/#ircs://irc.libera.chat:+6697/pypa\\n.. _Development IRC: https://kiwiirc.com/nextclient/#ircs://irc.libera.chat:+6697/pypa-dev\\n.. _PSF Code of Conduct: https://github.com/pypa/.github/blob/main/CODE_OF_CONDUCT.md\\n\",\n",
       " 'description_content_type': 'text/x-rst',\n",
       " 'docs_url': None,\n",
       " 'download_url': None,\n",
       " 'downloads': {'last_day': -1, 'last_month': -1, 'last_week': -1},\n",
       " 'dynamic': ['License-File'],\n",
       " 'home_page': None,\n",
       " 'keywords': None,\n",
       " 'license': 'MIT',\n",
       " 'license_expression': None,\n",
       " 'license_files': ['LICENSE.txt', 'AUTHORS.txt'],\n",
       " 'maintainer': None,\n",
       " 'maintainer_email': None,\n",
       " 'name': 'pip',\n",
       " 'package_url': 'https://pypi.org/project/pip/',\n",
       " 'platform': None,\n",
       " 'project_url': 'https://pypi.org/project/pip/',\n",
       " 'project_urls': {'Changelog': 'https://pip.pypa.io/en/stable/news/',\n",
       "  'Documentation': 'https://pip.pypa.io',\n",
       "  'Homepage': 'https://pip.pypa.io/',\n",
       "  'Source': 'https://github.com/pypa/pip'},\n",
       " 'provides_extra': None,\n",
       " 'release_url': 'https://pypi.org/project/pip/25.1.1/',\n",
       " 'requires_dist': None,\n",
       " 'requires_python': '>=3.9',\n",
       " 'summary': 'The PyPA recommended tool for installing Python packages.',\n",
       " 'version': '25.1.1',\n",
       " 'yanked': False,\n",
       " 'yanked_reason': None}"
      ]
     },
     "execution_count": 9,
     "metadata": {},
     "output_type": "execute_result"
    }
   ],
   "source": [
    "data['info']"
   ]
  },
  {
   "cell_type": "code",
   "execution_count": 10,
   "id": "dee665cd-a813-4bb8-9080-c32f819e1964",
   "metadata": {},
   "outputs": [
    {
     "data": {
      "text/plain": [
       "'25.1.1'"
      ]
     },
     "execution_count": 10,
     "metadata": {},
     "output_type": "execute_result"
    }
   ],
   "source": [
    "data['info']['version']"
   ]
  },
  {
   "cell_type": "code",
   "execution_count": 17,
   "id": "4ce52cfe-9bf5-4ba8-9fea-11c76af36337",
   "metadata": {},
   "outputs": [
    {
     "name": "stdout",
     "output_type": "stream",
     "text": [
      "[{\"comment_text\": null, \"digests\": {\"blake2b_256\": \"29a2d40fb2460e883eca5199c62cfc2463fd261f760556ae6290f88488c362c0\", \"md5\": \"6a01d861bf88ee075c6942419a04839d\", \"sha256\": \"2913a38a2abf4ea6b64ab507bd9e967f3b53dc1ede74b01b0931e1ce548751af\"}, \"downloads\": -1, \"filename\": \"pip-25.1.1-py3-none-any.whl\", \"has_sig\": false, \"md5_digest\": \"6a01d861bf88ee075c6942419a04839d\", \"packagetype\": \"bdist_wheel\", \"python_version\": \"py3\", \"requires_python\": \">=3.9\", \"size\": 1825227, \"upload_time\": \"2025-05-02T15:13:59\", \"upload_time_iso_8601\": \"2025-05-02T15:13:59.102661Z\", \"url\": \"https://files.pythonhosted.org/packages/29/a2/d40fb2460e883eca5199c62cfc2463fd261f760556ae6290f88488c362c0/pip-25.1.1-py3-none-any.whl\", \"yanked\": false, \"yanked_reason\": null}, {\"comment_text\": null, \"digests\": {\"blake2b_256\": \"59de241caa0ca606f2ec5fe0c1f4261b0465df78d786a38da693864a116c37f4\", \"md5\": \"1fb80f511aec07d971dd7e6707a1235d\", \"sha256\": \"3de45d411d308d5054c2168185d8da7f9a2cd753dbac8acbfa88a8909ecd9077\"}, \"downloads\": -1, \"filename\": \"pip-25.1.1.tar.gz\", \"has_sig\": false, \"md5_digest\": \"1fb80f511aec07d971dd7e6707a1235d\", \"packagetype\": \"sdist\", \"python_version\": \"source\", \"requires_python\": \">=3.9\", \"size\": 1940155, \"upload_time\": \"2025-05-02T15:14:02\", \"upload_time_iso_8601\": \"2025-05-02T15:14:02.057834Z\", \"url\": \"https://files.pythonhosted.org/packages/59/de/241caa0ca606f2ec5fe0c1f4261b0465df78d786a38da693864a116c37f4/pip-25.1.1.tar.gz\", \"yanked\": false, \"yanked_reason\": null}]\n"
     ]
    }
   ],
   "source": [
    "import json\n",
    "\n",
    "\n",
    "print(json.dumps(data['releases']['25.1.1']))"
   ]
  },
  {
   "cell_type": "code",
   "execution_count": 18,
   "id": "5c286e94-29da-4522-933f-8a40ed6199f3",
   "metadata": {},
   "outputs": [
    {
     "name": "stdout",
     "output_type": "stream",
     "text": [
      "[\n",
      "    {\n",
      "        \"comment_text\": null,\n",
      "        \"digests\": {\n",
      "            \"blake2b_256\": \"29a2d40fb2460e883eca5199c62cfc2463fd261f760556ae6290f88488c362c0\",\n",
      "            \"md5\": \"6a01d861bf88ee075c6942419a04839d\",\n",
      "            \"sha256\": \"2913a38a2abf4ea6b64ab507bd9e967f3b53dc1ede74b01b0931e1ce548751af\"\n",
      "        },\n",
      "        \"downloads\": -1,\n",
      "        \"filename\": \"pip-25.1.1-py3-none-any.whl\",\n",
      "        \"has_sig\": false,\n",
      "        \"md5_digest\": \"6a01d861bf88ee075c6942419a04839d\",\n",
      "        \"packagetype\": \"bdist_wheel\",\n",
      "        \"python_version\": \"py3\",\n",
      "        \"requires_python\": \">=3.9\",\n",
      "        \"size\": 1825227,\n",
      "        \"upload_time\": \"2025-05-02T15:13:59\",\n",
      "        \"upload_time_iso_8601\": \"2025-05-02T15:13:59.102661Z\",\n",
      "        \"url\": \"https://files.pythonhosted.org/packages/29/a2/d40fb2460e883eca5199c62cfc2463fd261f760556ae6290f88488c362c0/pip-25.1.1-py3-none-any.whl\",\n",
      "        \"yanked\": false,\n",
      "        \"yanked_reason\": null\n",
      "    },\n",
      "    {\n",
      "        \"comment_text\": null,\n",
      "        \"digests\": {\n",
      "            \"blake2b_256\": \"59de241caa0ca606f2ec5fe0c1f4261b0465df78d786a38da693864a116c37f4\",\n",
      "            \"md5\": \"1fb80f511aec07d971dd7e6707a1235d\",\n",
      "            \"sha256\": \"3de45d411d308d5054c2168185d8da7f9a2cd753dbac8acbfa88a8909ecd9077\"\n",
      "        },\n",
      "        \"downloads\": -1,\n",
      "        \"filename\": \"pip-25.1.1.tar.gz\",\n",
      "        \"has_sig\": false,\n",
      "        \"md5_digest\": \"1fb80f511aec07d971dd7e6707a1235d\",\n",
      "        \"packagetype\": \"sdist\",\n",
      "        \"python_version\": \"source\",\n",
      "        \"requires_python\": \">=3.9\",\n",
      "        \"size\": 1940155,\n",
      "        \"upload_time\": \"2025-05-02T15:14:02\",\n",
      "        \"upload_time_iso_8601\": \"2025-05-02T15:14:02.057834Z\",\n",
      "        \"url\": \"https://files.pythonhosted.org/packages/59/de/241caa0ca606f2ec5fe0c1f4261b0465df78d786a38da693864a116c37f4/pip-25.1.1.tar.gz\",\n",
      "        \"yanked\": false,\n",
      "        \"yanked_reason\": null\n",
      "    }\n",
      "]\n"
     ]
    }
   ],
   "source": [
    "print(json.dumps(data['releases']['25.1.1'], indent=4))"
   ]
  },
  {
   "cell_type": "code",
   "execution_count": 20,
   "id": "e9262d34-d724-4eae-a506-8f1c4366a170",
   "metadata": {},
   "outputs": [
    {
     "data": {
      "text/plain": [
       "1"
      ]
     },
     "execution_count": 20,
     "metadata": {},
     "output_type": "execute_result"
    }
   ],
   "source": [
    "# 查询当前CPU核心的个数\n",
    "import multiprocessing\n",
    "\n",
    "\n",
    "multiprocessing.cpu_count()"
   ]
  },
  {
   "cell_type": "markdown",
   "id": "0cdfc247-720f-4ada-ac97-2037f49c90f6",
   "metadata": {},
   "source": [
    "### 按语义化版本对软件包的版本进行排序"
   ]
  },
  {
   "cell_type": "code",
   "execution_count": 1,
   "id": "6cc733b5-ada7-4514-aa50-fbb5ab93139a",
   "metadata": {},
   "outputs": [
    {
     "data": {
      "text/plain": [
       "dict_keys(['0.2', '0.2.1', '0.3', '0.3.1', '0.4', '0.5', '0.5.1', '0.6', '0.6.1', '0.6.2', '0.6.3', '0.7', '0.7.1', '0.7.2', '0.8', '0.8.1', '0.8.2', '0.8.3', '1.0', '1.0.1', '1.0.2', '1.1', '1.2', '1.2.1', '1.3', '1.3.1', '1.4', '1.4.1', '1.5', '1.5.1', '1.5.2', '1.5.3', '1.5.4', '1.5.5', '1.5.6', '10.0.0', '10.0.0b1', '10.0.0b2', '10.0.1', '18.0', '18.1', '19.0', '19.0.1', '19.0.2', '19.0.3', '19.1', '19.1.1', '19.2', '19.2.1', '19.2.2', '19.2.3', '19.3', '19.3.1', '20.0', '20.0.1', '20.0.2', '20.1', '20.1.1', '20.1b1', '20.2', '20.2.1', '20.2.2', '20.2.3', '20.2.4', '20.2b1', '20.3', '20.3.1', '20.3.2', '20.3.3', '20.3.4', '20.3b1', '21.0', '21.0.1', '21.1', '21.1.1', '21.1.2', '21.1.3', '21.2', '21.2.1', '21.2.2', '21.2.3', '21.2.4', '21.3', '21.3.1', '22.0', '22.0.1', '22.0.2', '22.0.3', '22.0.4', '22.1', '22.1.1', '22.1.2', '22.1b1', '22.2', '22.2.1', '22.2.2', '22.3', '22.3.1', '23.0', '23.0.1', '23.1', '23.1.1', '23.1.2', '23.2', '23.2.1', '23.3', '23.3.1', '23.3.2', '24.0', '24.1', '24.1.1', '24.1.2', '24.1b1', '24.1b2', '24.2', '24.3', '24.3.1', '25.0', '25.0.1', '25.1', '25.1.1', '6.0', '6.0.1', '6.0.2', '6.0.3', '6.0.4', '6.0.5', '6.0.6', '6.0.7', '6.0.8', '6.1.0', '6.1.1', '7.0.0', '7.0.1', '7.0.2', '7.0.3', '7.1.0', '7.1.1', '7.1.2', '8.0.0', '8.0.1', '8.0.2', '8.0.3', '8.1.0', '8.1.1', '8.1.2', '9.0.0', '9.0.1', '9.0.2', '9.0.3'])"
      ]
     },
     "execution_count": 1,
     "metadata": {},
     "output_type": "execute_result"
    }
   ],
   "source": [
    "import requests\n",
    "\n",
    "\n",
    "response = requests.get('https://pypi.python.org/pypi/pip/json')\n",
    "data = response.json()\n",
    "data['releases'].keys()"
   ]
  },
  {
   "cell_type": "code",
   "execution_count": 2,
   "id": "182f7737-3547-4d8a-ab40-71b094a2eb9c",
   "metadata": {},
   "outputs": [
    {
     "data": {
      "text/plain": [
       "150"
      ]
     },
     "execution_count": 2,
     "metadata": {},
     "output_type": "execute_result"
    }
   ],
   "source": [
    "len(data['releases'].keys())"
   ]
  },
  {
   "cell_type": "code",
   "execution_count": 3,
   "id": "31cb1d3f-8334-43d0-a3d2-a43c9fe1d9ea",
   "metadata": {},
   "outputs": [
    {
     "data": {
      "text/plain": [
       "['0.2',\n",
       " '0.2.1',\n",
       " '0.3',\n",
       " '0.3.1',\n",
       " '0.4',\n",
       " '0.5',\n",
       " '0.5.1',\n",
       " '0.6',\n",
       " '0.6.1',\n",
       " '0.6.2',\n",
       " '0.6.3',\n",
       " '0.7',\n",
       " '0.7.1',\n",
       " '0.7.2',\n",
       " '0.8',\n",
       " '0.8.1',\n",
       " '0.8.2',\n",
       " '0.8.3',\n",
       " '1.0',\n",
       " '1.0.1',\n",
       " '1.0.2',\n",
       " '1.1',\n",
       " '1.2',\n",
       " '1.2.1',\n",
       " '1.3',\n",
       " '1.3.1',\n",
       " '1.4',\n",
       " '1.4.1',\n",
       " '1.5',\n",
       " '1.5.1',\n",
       " '1.5.2',\n",
       " '1.5.3',\n",
       " '1.5.4',\n",
       " '1.5.5',\n",
       " '1.5.6',\n",
       " '6.0',\n",
       " '6.0.1',\n",
       " '6.0.2',\n",
       " '6.0.3',\n",
       " '6.0.4',\n",
       " '6.0.5',\n",
       " '6.0.6',\n",
       " '6.0.7',\n",
       " '6.0.8',\n",
       " '6.1.0',\n",
       " '6.1.1',\n",
       " '7.0.0',\n",
       " '7.0.1',\n",
       " '7.0.2',\n",
       " '7.0.3',\n",
       " '7.1.0',\n",
       " '7.1.1',\n",
       " '7.1.2',\n",
       " '8.0.0',\n",
       " '8.0.1',\n",
       " '8.0.2',\n",
       " '8.0.3',\n",
       " '8.1.0',\n",
       " '8.1.1',\n",
       " '8.1.2',\n",
       " '9.0.0',\n",
       " '9.0.1',\n",
       " '9.0.2',\n",
       " '9.0.3',\n",
       " '10.0.0b1',\n",
       " '10.0.0b2',\n",
       " '10.0.0',\n",
       " '10.0.1',\n",
       " '18.0',\n",
       " '18.1',\n",
       " '19.0',\n",
       " '19.0.1',\n",
       " '19.0.2',\n",
       " '19.0.3',\n",
       " '19.1',\n",
       " '19.1.1',\n",
       " '19.2',\n",
       " '19.2.1',\n",
       " '19.2.2',\n",
       " '19.2.3',\n",
       " '19.3',\n",
       " '19.3.1',\n",
       " '20.0',\n",
       " '20.0.1',\n",
       " '20.0.2',\n",
       " '20.1b1',\n",
       " '20.1',\n",
       " '20.1.1',\n",
       " '20.2b1',\n",
       " '20.2',\n",
       " '20.2.1',\n",
       " '20.2.2',\n",
       " '20.2.3',\n",
       " '20.2.4',\n",
       " '20.3b1',\n",
       " '20.3',\n",
       " '20.3.1',\n",
       " '20.3.2',\n",
       " '20.3.3',\n",
       " '20.3.4',\n",
       " '21.0',\n",
       " '21.0.1',\n",
       " '21.1',\n",
       " '21.1.1',\n",
       " '21.1.2',\n",
       " '21.1.3',\n",
       " '21.2',\n",
       " '21.2.1',\n",
       " '21.2.2',\n",
       " '21.2.3',\n",
       " '21.2.4',\n",
       " '21.3',\n",
       " '21.3.1',\n",
       " '22.0',\n",
       " '22.0.1',\n",
       " '22.0.2',\n",
       " '22.0.3',\n",
       " '22.0.4',\n",
       " '22.1b1',\n",
       " '22.1',\n",
       " '22.1.1',\n",
       " '22.1.2',\n",
       " '22.2',\n",
       " '22.2.1',\n",
       " '22.2.2',\n",
       " '22.3',\n",
       " '22.3.1',\n",
       " '23.0',\n",
       " '23.0.1',\n",
       " '23.1',\n",
       " '23.1.1',\n",
       " '23.1.2',\n",
       " '23.2',\n",
       " '23.2.1',\n",
       " '23.3',\n",
       " '23.3.1',\n",
       " '23.3.2',\n",
       " '24.0',\n",
       " '24.1b1',\n",
       " '24.1b2',\n",
       " '24.1',\n",
       " '24.1.1',\n",
       " '24.1.2',\n",
       " '24.2',\n",
       " '24.3',\n",
       " '24.3.1',\n",
       " '25.0',\n",
       " '25.0.1',\n",
       " '25.1',\n",
       " '25.1.1']"
      ]
     },
     "execution_count": 3,
     "metadata": {},
     "output_type": "execute_result"
    }
   ],
   "source": [
    "from packaging import version\n",
    "\n",
    "\n",
    "sorted(data['releases'].keys(), key=lambda v: version.parse(v))"
   ]
  },
  {
   "cell_type": "code",
   "execution_count": 4,
   "id": "d6252a90-2d16-4ae6-8f9a-770b9500dfa3",
   "metadata": {},
   "outputs": [
    {
     "data": {
      "text/plain": [
       "{'author': None,\n",
       " 'author_email': 'The pip developers <distutils-sig@python.org>',\n",
       " 'bugtrack_url': None,\n",
       " 'classifiers': ['Development Status :: 5 - Production/Stable',\n",
       "  'Intended Audience :: Developers',\n",
       "  'License :: OSI Approved :: MIT License',\n",
       "  'Programming Language :: Python',\n",
       "  'Programming Language :: Python :: 3',\n",
       "  'Programming Language :: Python :: 3 :: Only',\n",
       "  'Programming Language :: Python :: 3.10',\n",
       "  'Programming Language :: Python :: 3.11',\n",
       "  'Programming Language :: Python :: 3.12',\n",
       "  'Programming Language :: Python :: 3.13',\n",
       "  'Programming Language :: Python :: 3.9',\n",
       "  'Programming Language :: Python :: Implementation :: CPython',\n",
       "  'Programming Language :: Python :: Implementation :: PyPy',\n",
       "  'Topic :: Software Development :: Build Tools'],\n",
       " 'description': \"pip - The Python Package Installer\\n==================================\\n\\n.. |pypi-version| image:: https://img.shields.io/pypi/v/pip.svg\\n   :target: https://pypi.org/project/pip/\\n   :alt: PyPI\\n\\n.. |python-versions| image:: https://img.shields.io/pypi/pyversions/pip\\n   :target: https://pypi.org/project/pip\\n   :alt: PyPI - Python Version\\n\\n.. |docs-badge| image:: https://readthedocs.org/projects/pip/badge/?version=latest\\n   :target: https://pip.pypa.io/en/latest\\n   :alt: Documentation\\n\\n|pypi-version| |python-versions| |docs-badge|\\n\\npip is the `package installer`_ for Python. You can use pip to install packages from the `Python Package Index`_ and other indexes.\\n\\nPlease take a look at our documentation for how to install and use pip:\\n\\n* `Installation`_\\n* `Usage`_\\n\\nWe release updates regularly, with a new version every 3 months. Find more details in our documentation:\\n\\n* `Release notes`_\\n* `Release process`_\\n\\nIf you find bugs, need help, or want to talk to the developers, please use our mailing lists or chat rooms:\\n\\n* `Issue tracking`_\\n* `Discourse channel`_\\n* `User IRC`_\\n\\nIf you want to get involved head over to GitHub to get the source code, look at our development documentation and feel free to jump on the developer mailing lists and chat rooms:\\n\\n* `GitHub page`_\\n* `Development documentation`_\\n* `Development IRC`_\\n\\nCode of Conduct\\n---------------\\n\\nEveryone interacting in the pip project's codebases, issue trackers, chat\\nrooms, and mailing lists is expected to follow the `PSF Code of Conduct`_.\\n\\n.. _package installer: https://packaging.python.org/guides/tool-recommendations/\\n.. _Python Package Index: https://pypi.org\\n.. _Installation: https://pip.pypa.io/en/stable/installation/\\n.. _Usage: https://pip.pypa.io/en/stable/\\n.. _Release notes: https://pip.pypa.io/en/stable/news.html\\n.. _Release process: https://pip.pypa.io/en/latest/development/release-process/\\n.. _GitHub page: https://github.com/pypa/pip\\n.. _Development documentation: https://pip.pypa.io/en/latest/development\\n.. _Issue tracking: https://github.com/pypa/pip/issues\\n.. _Discourse channel: https://discuss.python.org/c/packaging\\n.. _User IRC: https://kiwiirc.com/nextclient/#ircs://irc.libera.chat:+6697/pypa\\n.. _Development IRC: https://kiwiirc.com/nextclient/#ircs://irc.libera.chat:+6697/pypa-dev\\n.. _PSF Code of Conduct: https://github.com/pypa/.github/blob/main/CODE_OF_CONDUCT.md\\n\",\n",
       " 'description_content_type': 'text/x-rst',\n",
       " 'docs_url': None,\n",
       " 'download_url': None,\n",
       " 'downloads': {'last_day': -1, 'last_month': -1, 'last_week': -1},\n",
       " 'dynamic': ['License-File'],\n",
       " 'home_page': None,\n",
       " 'keywords': None,\n",
       " 'license': 'MIT',\n",
       " 'license_expression': None,\n",
       " 'license_files': ['LICENSE.txt', 'AUTHORS.txt'],\n",
       " 'maintainer': None,\n",
       " 'maintainer_email': None,\n",
       " 'name': 'pip',\n",
       " 'package_url': 'https://pypi.org/project/pip/',\n",
       " 'platform': None,\n",
       " 'project_url': 'https://pypi.org/project/pip/',\n",
       " 'project_urls': {'Changelog': 'https://pip.pypa.io/en/stable/news/',\n",
       "  'Documentation': 'https://pip.pypa.io',\n",
       "  'Homepage': 'https://pip.pypa.io/',\n",
       "  'Source': 'https://github.com/pypa/pip'},\n",
       " 'provides_extra': None,\n",
       " 'release_url': 'https://pypi.org/project/pip/25.1.1/',\n",
       " 'requires_dist': None,\n",
       " 'requires_python': '>=3.9',\n",
       " 'summary': 'The PyPA recommended tool for installing Python packages.',\n",
       " 'version': '25.1.1',\n",
       " 'yanked': False,\n",
       " 'yanked_reason': None}"
      ]
     },
     "execution_count": 4,
     "metadata": {},
     "output_type": "execute_result"
    }
   ],
   "source": [
    "data['info']"
   ]
  },
  {
   "cell_type": "code",
   "execution_count": 5,
   "id": "bb6f1ca6-cbcf-432f-a8b0-de70d837a90f",
   "metadata": {},
   "outputs": [
    {
     "data": {
      "text/plain": [
       "\"pip - The Python Package Installer\\n==================================\\n\\n.. |pypi-version| image:: https://img.shields.io/pypi/v/pip.svg\\n   :target: https://pypi.org/project/pip/\\n   :alt: PyPI\\n\\n.. |python-versions| image:: https://img.shields.io/pypi/pyversions/pip\\n   :target: https://pypi.org/project/pip\\n   :alt: PyPI - Python Version\\n\\n.. |docs-badge| image:: https://readthedocs.org/projects/pip/badge/?version=latest\\n   :target: https://pip.pypa.io/en/latest\\n   :alt: Documentation\\n\\n|pypi-version| |python-versions| |docs-badge|\\n\\npip is the `package installer`_ for Python. You can use pip to install packages from the `Python Package Index`_ and other indexes.\\n\\nPlease take a look at our documentation for how to install and use pip:\\n\\n* `Installation`_\\n* `Usage`_\\n\\nWe release updates regularly, with a new version every 3 months. Find more details in our documentation:\\n\\n* `Release notes`_\\n* `Release process`_\\n\\nIf you find bugs, need help, or want to talk to the developers, please use our mailing lists or chat rooms:\\n\\n* `Issue tracking`_\\n* `Discourse channel`_\\n* `User IRC`_\\n\\nIf you want to get involved head over to GitHub to get the source code, look at our development documentation and feel free to jump on the developer mailing lists and chat rooms:\\n\\n* `GitHub page`_\\n* `Development documentation`_\\n* `Development IRC`_\\n\\nCode of Conduct\\n---------------\\n\\nEveryone interacting in the pip project's codebases, issue trackers, chat\\nrooms, and mailing lists is expected to follow the `PSF Code of Conduct`_.\\n\\n.. _package installer: https://packaging.python.org/guides/tool-recommendations/\\n.. _Python Package Index: https://pypi.org\\n.. _Installation: https://pip.pypa.io/en/stable/installation/\\n.. _Usage: https://pip.pypa.io/en/stable/\\n.. _Release notes: https://pip.pypa.io/en/stable/news.html\\n.. _Release process: https://pip.pypa.io/en/latest/development/release-process/\\n.. _GitHub page: https://github.com/pypa/pip\\n.. _Development documentation: https://pip.pypa.io/en/latest/development\\n.. _Issue tracking: https://github.com/pypa/pip/issues\\n.. _Discourse channel: https://discuss.python.org/c/packaging\\n.. _User IRC: https://kiwiirc.com/nextclient/#ircs://irc.libera.chat:+6697/pypa\\n.. _Development IRC: https://kiwiirc.com/nextclient/#ircs://irc.libera.chat:+6697/pypa-dev\\n.. _PSF Code of Conduct: https://github.com/pypa/.github/blob/main/CODE_OF_CONDUCT.md\\n\""
      ]
     },
     "execution_count": 5,
     "metadata": {},
     "output_type": "execute_result"
    }
   ],
   "source": [
    "data['info']['description']"
   ]
  },
  {
   "cell_type": "code",
   "execution_count": 6,
   "id": "a5dd12c5-c772-4679-8dec-a95f136a18a3",
   "metadata": {},
   "outputs": [
    {
     "name": "stdout",
     "output_type": "stream",
     "text": [
      "pip - The Python Package Installer\n",
      "==================================\n",
      "\n",
      ".. |pypi-version| image:: https://img.shields.io/pypi/v/pip.svg\n",
      "   :target: https://pypi.org/project/pip/\n",
      "   :alt: PyPI\n",
      "\n",
      ".. |python-versions| image:: https://img.shields.io/pypi/pyversions/pip\n",
      "   :target: https://pypi.org/project/pip\n",
      "   :alt: PyPI - Python Version\n",
      "\n",
      ".. |docs-badge| image:: https://readthedocs.org/projects/pip/badge/?version=latest\n",
      "   :target: https://pip.pypa.io/en/latest\n",
      "   :alt: Documentation\n",
      "\n",
      "|pypi-version| |python-versions| |docs-badge|\n",
      "\n",
      "pip is the `package installer`_ for Python. You can use pip to install packages from the `Python Package Index`_ and other indexes.\n",
      "\n",
      "Please take a look at our documentation for how to install and use pip:\n",
      "\n",
      "* `Installation`_\n",
      "* `Usage`_\n",
      "\n",
      "We release updates regularly, with a new version every 3 months. Find more details in our documentation:\n",
      "\n",
      "* `Release notes`_\n",
      "* `Release process`_\n",
      "\n",
      "If you find bugs, need help, or want to talk to the developers, please use our mailing lists or chat rooms:\n",
      "\n",
      "* `Issue tracking`_\n",
      "* `Discourse channel`_\n",
      "* `User IRC`_\n",
      "\n",
      "If you want to get involved head over to GitHub to get the source code, look at our development documentation and feel free to jump on the developer mailing lists and chat rooms:\n",
      "\n",
      "* `GitHub page`_\n",
      "* `Development documentation`_\n",
      "* `Development IRC`_\n",
      "\n",
      "Code of Conduct\n",
      "---------------\n",
      "\n",
      "Everyone interacting in the pip project's codebases, issue trackers, chat\n",
      "rooms, and mailing lists is expected to follow the `PSF Code of Conduct`_.\n",
      "\n",
      ".. _package installer: https://packaging.python.org/guides/tool-recommendations/\n",
      ".. _Python Package Index: https://pypi.org\n",
      ".. _Installation: https://pip.pypa.io/en/stable/installation/\n",
      ".. _Usage: https://pip.pypa.io/en/stable/\n",
      ".. _Release notes: https://pip.pypa.io/en/stable/news.html\n",
      ".. _Release process: https://pip.pypa.io/en/latest/development/release-process/\n",
      ".. _GitHub page: https://github.com/pypa/pip\n",
      ".. _Development documentation: https://pip.pypa.io/en/latest/development\n",
      ".. _Issue tracking: https://github.com/pypa/pip/issues\n",
      ".. _Discourse channel: https://discuss.python.org/c/packaging\n",
      ".. _User IRC: https://kiwiirc.com/nextclient/#ircs://irc.libera.chat:+6697/pypa\n",
      ".. _Development IRC: https://kiwiirc.com/nextclient/#ircs://irc.libera.chat:+6697/pypa-dev\n",
      ".. _PSF Code of Conduct: https://github.com/pypa/.github/blob/main/CODE_OF_CONDUCT.md\n",
      "\n"
     ]
    }
   ],
   "source": [
    "print(data['info']['description'])"
   ]
  },
  {
   "cell_type": "markdown",
   "id": "7e56ec96-6908-453b-b72d-7e4dec921550",
   "metadata": {},
   "source": [
    "### 通过Pypi网站查询Python库的相关信息，以pyright库为例"
   ]
  },
  {
   "cell_type": "code",
   "execution_count": 9,
   "id": "04ddefe3-6c74-4db1-998b-8671f069aa00",
   "metadata": {},
   "outputs": [
    {
     "name": "stdout",
     "output_type": "stream",
     "text": [
      "# Pyright for Python\n",
      "\n",
      "[![Downloads](https://pepy.tech/badge/pyright)](https://pepy.tech/project/pyright)\n",
      "![PyPI](https://img.shields.io/pypi/v/pyright)\n",
      "![Supported python versions](https://img.shields.io/pypi/pyversions/pyright)\n",
      "\n",
      "> This project is not affiliated with Microsoft in any way, shape, or form\n",
      "\n",
      "Pyright for Python is a Python command-line wrapper over [pyright](https://github.com/microsoft/pyright), a static type checker for Python.\n",
      "\n",
      "## Installation\n",
      "\n",
      "Use the package manager [pip](https://pip.pypa.io/en/stable/) to install pyright.\n",
      "\n",
      "```bash\n",
      "pip install pyright\n",
      "```\n",
      "\n",
      "> [!TIP]\n",
      "> It's highly recommended to install `pyright` with the `nodejs` extra which uses [`nodejs-wheel`](https://pypi.org/project/nodejs-wheel-binaries/) to\n",
      "> download Node.js binaries as it is more reliable than the default [`nodeenv`](https://pypi.org/project/nodeenv/) solution.\n",
      ">\n",
      "> ```bash\n",
      "> pip install pyright[nodejs]\n",
      "> ```\n",
      "\n",
      "\n",
      "## Usage\n",
      "\n",
      "Pyright can be invoked using two different methods\n",
      "\n",
      "```bash\n",
      "pyright --help\n",
      "```\n",
      "\n",
      "or\n",
      "\n",
      "```bash\n",
      "python3 -m pyright --help\n",
      "```\n",
      "\n",
      "Pyright for Python should work exactly the same as pyright does, see the [pyright documentation](https://github.com/microsoft/pyright/blob/main/docs/getting-started.md) for details on how to make use of pyright.\n",
      "\n",
      "### Pre-commit\n",
      "\n",
      "You can also setup pyright to run automatically before each commit by setting up [pre-commit](https://pre-commit.com) and registering pyright in your `.pre-commit-config.yaml` file\n",
      "\n",
      "```yaml\n",
      "repos:\n",
      "  - repo: https://github.com/RobertCraigie/pyright-python\n",
      "    rev: v1.1.402\n",
      "    hooks:\n",
      "    - id: pyright\n",
      "```\n",
      "\n",
      "Pre-commit will install pyright-python in its own virtual environment which can cause pyright to not be able to detect your installed dependencies.\n",
      "\n",
      "To fix this you can either [tell pre-commit](https://pre-commit.com/#config-additional_dependencies) to also install those dependencies or explicitly tell pyright which virtual environment to use by updating your [pyright configuration file](https://github.com/microsoft/pyright/blob/main/docs/configuration.md):\n",
      "\n",
      "```toml\n",
      "[tool.pyright]\n",
      "# ...\n",
      "venvPath = \".\"\n",
      "venv = \".venv\"\n",
      "```\n",
      "\n",
      "## Motivation\n",
      "\n",
      "[Pyright](https://github.com/microsoft/pyright) is written in TypeScript, requiring node to be installed, and is normally installed with npm. This could be an entry barrier for some Python developers as they may not have node or npm installed on their machine; I wanted to make pyright as easy to install as any normal Python package.\n",
      "\n",
      "## How Pyright for Python Works\n",
      "\n",
      "This project works by first checking if node is in the `PATH`. If it is not, then we download node at runtime using [nodeenv](https://github.com/ekalinin/nodeenv), then install the pyright npm package using `npm` and finally, run the downloaded JS with `node`.\n",
      "\n",
      "## Automatically keeping pyright up to date\n",
      "\n",
      "By default Pyright for Python is set to target a specific pyright version and new releases will be automatically created whenever a new pyright version is released. It is highly recommended to use an automatic dependency update tool such as [dependabot](https://docs.github.com/en/code-security/supply-chain-security/managing-vulnerabilities-in-your-projects-dependencies/configuring-dependabot-security-updates).\n",
      "\n",
      "If you would rather not have to update your installation every time a new pyright release is created then you can automatically use the latest available pyright version by setting the environment variable `PYRIGHT_PYTHON_FORCE_VERSION` to `latest`.\n",
      "\n",
      "## Configuration\n",
      "\n",
      "You can configure Pyright for Python using environment variables.\n",
      "\n",
      "### Debugging\n",
      "\n",
      "Set `PYRIGHT_PYTHON_DEBUG` to any value.\n",
      "\n",
      "### Modify Pyright Version\n",
      "\n",
      "Set `PYRIGHT_PYTHON_FORCE_VERSION` to the desired version, e.g. `1.1.156`, `latest`\n",
      "\n",
      "### Keeping Pyright and Pylance in sync\n",
      "\n",
      "Set `PYRIGHT_PYTHON_PYLANCE_VERSION` to your Pylance version, e.g. `2023.11.11`, `latest-release`, `latest-prerelease`. The corresponding Pyright version will be used. See [Pylance's changelog](https://github.com/microsoft/pylance-release/blob/main/CHANGELOG.md) for details on recent releases. Note that `PYRIGHT_PYTHON_FORCE_VERSION` takes precedence over `PYRIGHT_PYTHON_PYLANCE_VERSION`, so you'll want to set one or the other, not both.\n",
      "\n",
      "### Show NPM logs\n",
      "\n",
      "By default, Pyright for Python disables npm error messages, if you want to display the npm error messages then set `PYRIGHT_PYTHON_VERBOSE` to any truthy value.\n",
      "\n",
      "### Modify NPM Package Location\n",
      "\n",
      "Pyright for Python will resolve the root cache directory by checking the following environment variables, in order:\n",
      "\n",
      "- `PYRIGHT_PYTHON_CACHE_DIR`\n",
      "- `XDG_CACHE_HOME`\n",
      "\n",
      "If neither of them are set it defaults to `~/.cache`\n",
      "\n",
      "### Force Node Env\n",
      "\n",
      "Set `PYRIGHT_PYTHON_GLOBAL_NODE` to any non-truthy value, i.e. anything apart from 1, t, on, or true.\n",
      "e.g. `off`\n",
      "You can optionally choose the version of node used by setting `PYRIGHT_PYTHON_NODE_VERSION` to the desired version\n",
      "\n",
      "### Modify Node Env Location\n",
      "\n",
      "Set `PYRIGHT_PYTHON_ENV_DIR` to a valid [nodeenv](https://github.com/ekalinin/nodeenv) directory. e.g. `~/.cache/nodeenv`\n",
      "\n",
      "### Ignore Warnings\n",
      "\n",
      "Set `PYRIGHT_PYTHON_IGNORE_WARNINGS` to a truthy value, e.g. 1, t, on, or true.\n",
      "\n",
      "Pyright for Python will print warnings for the following case(s)\n",
      "\n",
      "- There is a new Pyright version available.\n",
      "\n",
      "## Contributing\n",
      "\n",
      "All pull requests are welcome.\n",
      "\n",
      "## License\n",
      "[MIT](https://choosealicense.com/licenses/mit/)\n",
      "\n"
     ]
    }
   ],
   "source": [
    "import requests\n",
    "\n",
    "\n",
    "def getpypi(package):\n",
    "    response = requests.get('https://pypi.python.org/pypi/' + package + '/json')\n",
    "    data = response.json()\n",
    "    return print(data['info']['description'])    \n",
    "\n",
    "\n",
    "getpypi('pyright')"
   ]
  },
  {
   "cell_type": "code",
   "execution_count": null,
   "id": "515fc7bd-aa00-4c00-87d9-09b458c9af98",
   "metadata": {},
   "outputs": [],
   "source": []
  }
 ],
 "metadata": {
  "kernelspec": {
   "display_name": "Python 3 (ipykernel)",
   "language": "python",
   "name": "python3"
  },
  "language_info": {
   "codemirror_mode": {
    "name": "ipython",
    "version": 3
   },
   "file_extension": ".py",
   "mimetype": "text/x-python",
   "name": "python",
   "nbconvert_exporter": "python",
   "pygments_lexer": "ipython3",
   "version": "3.11.2"
  }
 },
 "nbformat": 4,
 "nbformat_minor": 5
}
