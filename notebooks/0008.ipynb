{
 "cells": [
  {
   "cell_type": "markdown",
   "id": "800f01b3",
   "metadata": {},
   "source": [
    "## 主要内容\n",
    "### NumPy：适用于初学者的绝对基础\n",
    "### Beautiful Soup 4 练习"
   ]
  },
  {
   "cell_type": "code",
   "execution_count": 1,
   "id": "3336ed81",
   "metadata": {},
   "outputs": [
    {
     "name": "stdout",
     "output_type": "stream",
     "text": [
      "2021-09-25 17:52:04\n",
      "Linux-4.19.0-17-amd64-x86_64-with-glibc2.28\n",
      "sys.version_info(major=3, minor=9, micro=7, releaselevel='final', serial=0)\n"
     ]
    }
   ],
   "source": [
    "import time\n",
    "import platform\n",
    "import sys\n",
    "\n",
    "\n",
    "print(time.strftime(\"%Y-%m-%d %H:%M:%S\"))\n",
    "print(platform.platform())\n",
    "print(sys.version_info)"
   ]
  },
  {
   "cell_type": "code",
   "execution_count": 3,
   "id": "b6bf9a7b",
   "metadata": {},
   "outputs": [],
   "source": [
    "import numpy as np"
   ]
  },
  {
   "cell_type": "code",
   "execution_count": 4,
   "id": "b79a7241",
   "metadata": {},
   "outputs": [
    {
     "name": "stdout",
     "output_type": "stream",
     "text": [
      "[11 12 13 14 15 16 17 18 19 20]\n"
     ]
    }
   ],
   "source": [
    "a = np.array([11, 11, 12, 13, 14, 15, 16, 17, 12, 13, 11, 14, 18, 19, 20])\n",
    "unique_values = np.unique(a)\n",
    "print(unique_values)"
   ]
  },
  {
   "cell_type": "code",
   "execution_count": 5,
   "id": "92fb8781",
   "metadata": {},
   "outputs": [
    {
     "name": "stdout",
     "output_type": "stream",
     "text": [
      "[ 0  2  3  4  5  6  7 12 13 14]\n"
     ]
    }
   ],
   "source": [
    "unique_values, indices_list = np.unique(a, return_index=True)\n",
    "print(indices_list)"
   ]
  },
  {
   "cell_type": "code",
   "execution_count": 8,
   "id": "3d0ebf22",
   "metadata": {},
   "outputs": [
    {
     "name": "stdout",
     "output_type": "stream",
     "text": [
      "[3 2 2 2 1 1 1 1 1 1]\n"
     ]
    }
   ],
   "source": [
    "unique_values, occurrence_count = np.unique(a, return_counts=True)\n",
    "print(occurrence_count)"
   ]
  },
  {
   "cell_type": "code",
   "execution_count": 9,
   "id": "ef121118",
   "metadata": {},
   "outputs": [
    {
     "name": "stdout",
     "output_type": "stream",
     "text": [
      "[ 1  2  3  4  5  6  7  8  9 10 11 12]\n"
     ]
    }
   ],
   "source": [
    "a_2d = np.array([[1, 2, 3, 4], [5, 6, 7, 8], [9, 10, 11, 12], [1, 2, 3, 4]])\n",
    "unique_values = np.unique(a_2d)\n",
    "print(unique_values)"
   ]
  },
  {
   "cell_type": "code",
   "execution_count": 10,
   "id": "84f981a0",
   "metadata": {},
   "outputs": [
    {
     "name": "stdout",
     "output_type": "stream",
     "text": [
      "[[ 1  2  3  4]\n",
      " [ 5  6  7  8]\n",
      " [ 9 10 11 12]]\n"
     ]
    }
   ],
   "source": [
    "unique_rows = np.unique(a_2d, axis=0)\n",
    "print(unique_rows)"
   ]
  },
  {
   "cell_type": "code",
   "execution_count": 11,
   "id": "80853c0f",
   "metadata": {},
   "outputs": [
    {
     "name": "stdout",
     "output_type": "stream",
     "text": [
      "[[ 1  2  3  4]\n",
      " [ 5  6  7  8]\n",
      " [ 9 10 11 12]]\n"
     ]
    }
   ],
   "source": [
    "unique_rows, indices, occurrence_count = np.unique(a_2d, axis=0, return_counts=True, return_index=True)\n",
    "print(unique_rows)"
   ]
  },
  {
   "cell_type": "code",
   "execution_count": 12,
   "id": "58db3a36",
   "metadata": {},
   "outputs": [
    {
     "name": "stdout",
     "output_type": "stream",
     "text": [
      "[0 1 2]\n"
     ]
    }
   ],
   "source": [
    "print(indices)"
   ]
  },
  {
   "cell_type": "code",
   "execution_count": 13,
   "id": "8ce4f794",
   "metadata": {},
   "outputs": [
    {
     "name": "stdout",
     "output_type": "stream",
     "text": [
      "[2 1 1]\n"
     ]
    }
   ],
   "source": [
    "print(occurrence_count)"
   ]
  },
  {
   "cell_type": "code",
   "execution_count": 14,
   "id": "9bfc1572",
   "metadata": {},
   "outputs": [
    {
     "data": {
      "text/plain": [
       "array([[1, 2, 3],\n",
       "       [4, 5, 6]])"
      ]
     },
     "execution_count": 14,
     "metadata": {},
     "output_type": "execute_result"
    }
   ],
   "source": [
    "data = np.array([[1, 2], [3, 4], [5, 6]])\n",
    "data.reshape(2, 3)"
   ]
  },
  {
   "cell_type": "code",
   "execution_count": 15,
   "id": "5baeab35",
   "metadata": {},
   "outputs": [
    {
     "data": {
      "text/plain": [
       "array([[1, 2],\n",
       "       [3, 4],\n",
       "       [5, 6]])"
      ]
     },
     "execution_count": 15,
     "metadata": {},
     "output_type": "execute_result"
    }
   ],
   "source": [
    "data.reshape(3, 2)"
   ]
  },
  {
   "cell_type": "code",
   "execution_count": 16,
   "id": "63691788",
   "metadata": {},
   "outputs": [
    {
     "data": {
      "text/plain": [
       "array([[0, 1, 2],\n",
       "       [3, 4, 5]])"
      ]
     },
     "execution_count": 16,
     "metadata": {},
     "output_type": "execute_result"
    }
   ],
   "source": [
    "arr = np.arange(6).reshape((2, 3))\n",
    "arr"
   ]
  },
  {
   "cell_type": "code",
   "execution_count": 17,
   "id": "7eec3bae",
   "metadata": {},
   "outputs": [
    {
     "data": {
      "text/plain": [
       "array([[0, 3],\n",
       "       [1, 4],\n",
       "       [2, 5]])"
      ]
     },
     "execution_count": 17,
     "metadata": {},
     "output_type": "execute_result"
    }
   ],
   "source": [
    "arr.transpose()"
   ]
  },
  {
   "cell_type": "code",
   "execution_count": 18,
   "id": "6b02cee2",
   "metadata": {},
   "outputs": [
    {
     "data": {
      "text/plain": [
       "array([[0, 3],\n",
       "       [1, 4],\n",
       "       [2, 5]])"
      ]
     },
     "execution_count": 18,
     "metadata": {},
     "output_type": "execute_result"
    }
   ],
   "source": [
    "arr.T"
   ]
  },
  {
   "cell_type": "code",
   "execution_count": 19,
   "id": "5905a926",
   "metadata": {},
   "outputs": [
    {
     "name": "stdout",
     "output_type": "stream",
     "text": [
      "Reversed Array:  [8 7 6 5 4 3 2 1]\n"
     ]
    }
   ],
   "source": [
    "arr = np.array([1, 2, 3, 4, 5, 6, 7, 8])\n",
    "reversed_arr = np.flip(arr)\n",
    "print('Reversed Array: ', reversed_arr)"
   ]
  },
  {
   "cell_type": "code",
   "execution_count": 20,
   "id": "36597de4",
   "metadata": {},
   "outputs": [
    {
     "name": "stdout",
     "output_type": "stream",
     "text": [
      "[[12 11 10  9]\n",
      " [ 8  7  6  5]\n",
      " [ 4  3  2  1]]\n"
     ]
    }
   ],
   "source": [
    "arr_2d = np.array([[1, 2, 3, 4], [5, 6, 7, 8], [9, 10, 11, 12]])\n",
    "reversed_arr = np.flip(arr_2d)\n",
    "print(reversed_arr)"
   ]
  },
  {
   "cell_type": "code",
   "execution_count": 21,
   "id": "3b7aa8e8",
   "metadata": {},
   "outputs": [
    {
     "name": "stdout",
     "output_type": "stream",
     "text": [
      "[[ 9 10 11 12]\n",
      " [ 5  6  7  8]\n",
      " [ 1  2  3  4]]\n"
     ]
    }
   ],
   "source": [
    "reversed_arr_rows = np.flip(arr_2d, axis=0)\n",
    "print(reversed_arr_rows)"
   ]
  },
  {
   "cell_type": "code",
   "execution_count": 22,
   "id": "7371978b",
   "metadata": {},
   "outputs": [
    {
     "name": "stdout",
     "output_type": "stream",
     "text": [
      "[[ 4  3  2  1]\n",
      " [ 8  7  6  5]\n",
      " [12 11 10  9]]\n"
     ]
    }
   ],
   "source": [
    "reversed_arr_columns = np.flip(arr_2d, axis=1)\n",
    "print(reversed_arr_columns)"
   ]
  },
  {
   "cell_type": "code",
   "execution_count": 23,
   "id": "84ddb18c",
   "metadata": {},
   "outputs": [
    {
     "data": {
      "text/plain": [
       "array([5, 6, 7, 8])"
      ]
     },
     "execution_count": 23,
     "metadata": {},
     "output_type": "execute_result"
    }
   ],
   "source": [
    "arr_2d[1]"
   ]
  },
  {
   "cell_type": "code",
   "execution_count": 24,
   "id": "f37bda5f",
   "metadata": {},
   "outputs": [
    {
     "name": "stdout",
     "output_type": "stream",
     "text": [
      "[[ 1  2  3  4]\n",
      " [ 8  7  6  5]\n",
      " [ 9 10 11 12]]\n"
     ]
    }
   ],
   "source": [
    "arr_2d[1] = np.flip(arr_2d[1])\n",
    "print(arr_2d)"
   ]
  },
  {
   "cell_type": "code",
   "execution_count": 25,
   "id": "c65f4a78",
   "metadata": {},
   "outputs": [
    {
     "name": "stdout",
     "output_type": "stream",
     "text": [
      "[[ 1 10  3  4]\n",
      " [ 8  7  6  5]\n",
      " [ 9  2 11 12]]\n"
     ]
    }
   ],
   "source": [
    "# 仅翻转第二列\n",
    "arr_2d[:, 1] = np.flip(arr_2d[:, 1])\n",
    "print(arr_2d)"
   ]
  },
  {
   "cell_type": "code",
   "execution_count": 26,
   "id": "2f2ac03c",
   "metadata": {},
   "outputs": [
    {
     "data": {
      "text/plain": [
       "array([ 1,  2,  3,  4,  5,  6,  7,  8,  9, 10, 11, 12])"
      ]
     },
     "execution_count": 26,
     "metadata": {},
     "output_type": "execute_result"
    }
   ],
   "source": [
    "x = np.array([[1, 2, 3, 4], [5, 6, 7, 8], [9, 10, 11, 12]])\n",
    "x.flatten()"
   ]
  },
  {
   "cell_type": "code",
   "execution_count": 27,
   "id": "c6e79945",
   "metadata": {},
   "outputs": [
    {
     "name": "stdout",
     "output_type": "stream",
     "text": [
      "[[ 1  2  3  4]\n",
      " [ 5  6  7  8]\n",
      " [ 9 10 11 12]]\n"
     ]
    }
   ],
   "source": [
    "a1 = x.flatten()\n",
    "a1[0] = 99\n",
    "print(x)  # Original array"
   ]
  },
  {
   "cell_type": "code",
   "execution_count": 28,
   "id": "e1c0133b",
   "metadata": {},
   "outputs": [
    {
     "name": "stdout",
     "output_type": "stream",
     "text": [
      "[99  2  3  4  5  6  7  8  9 10 11 12]\n"
     ]
    }
   ],
   "source": [
    "print(a1)  # New array"
   ]
  },
  {
   "cell_type": "code",
   "execution_count": 29,
   "id": "dc5e891c",
   "metadata": {},
   "outputs": [
    {
     "data": {
      "text/plain": [
       "array([[ 1,  2,  3,  4],\n",
       "       [ 5,  6,  7,  8],\n",
       "       [ 9, 10, 11, 12]])"
      ]
     },
     "execution_count": 29,
     "metadata": {},
     "output_type": "execute_result"
    }
   ],
   "source": [
    "# ravel() 创建的是视图，修改视图会同步修改源 array\n",
    "a2 = x.ravel()\n",
    "x"
   ]
  },
  {
   "cell_type": "code",
   "execution_count": 30,
   "id": "f8a78195",
   "metadata": {},
   "outputs": [
    {
     "name": "stdout",
     "output_type": "stream",
     "text": [
      "[ 1  2  3  4  5  6  7  8  9 10 11 12]\n"
     ]
    }
   ],
   "source": [
    "print(a2)"
   ]
  },
  {
   "cell_type": "code",
   "execution_count": 31,
   "id": "d1da3f09",
   "metadata": {},
   "outputs": [
    {
     "name": "stdout",
     "output_type": "stream",
     "text": [
      "[[98  2  3  4]\n",
      " [ 5  6  7  8]\n",
      " [ 9 10 11 12]]\n"
     ]
    }
   ],
   "source": [
    "a2[0] = 98\n",
    "print(x)  # Original array"
   ]
  },
  {
   "cell_type": "code",
   "execution_count": 32,
   "id": "ed10e3ac",
   "metadata": {},
   "outputs": [
    {
     "name": "stdout",
     "output_type": "stream",
     "text": [
      "[98  2  3  4  5  6  7  8  9 10 11 12]\n"
     ]
    }
   ],
   "source": [
    "print(a2)  # New array"
   ]
  },
  {
   "cell_type": "code",
   "execution_count": 33,
   "id": "d57e45ef",
   "metadata": {
    "scrolled": true
   },
   "outputs": [
    {
     "name": "stdout",
     "output_type": "stream",
     "text": [
      "Help on built-in function max in module builtins:\n",
      "\n",
      "max(...)\n",
      "    max(iterable, *[, default=obj, key=func]) -> value\n",
      "    max(arg1, arg2, *args, *[, key=func]) -> value\n",
      "    \n",
      "    With a single iterable argument, return its biggest item. The\n",
      "    default keyword-only argument specifies an object to return if\n",
      "    the provided iterable is empty.\n",
      "    With two or more arguments, return the largest argument.\n",
      "\n"
     ]
    }
   ],
   "source": [
    "help(max)"
   ]
  },
  {
   "cell_type": "code",
   "execution_count": 34,
   "id": "2eb06a22",
   "metadata": {},
   "outputs": [],
   "source": [
    "max?"
   ]
  },
  {
   "cell_type": "code",
   "execution_count": 35,
   "id": "ea4377c8",
   "metadata": {},
   "outputs": [],
   "source": [
    "a = np.array([1, 2, 3, 4, 5, 6])\n",
    "a?"
   ]
  },
  {
   "cell_type": "code",
   "execution_count": 36,
   "id": "4143d2fc",
   "metadata": {},
   "outputs": [],
   "source": [
    "def double(a):\n",
    "    '''Return a * 2'''\n",
    "    return a * 2"
   ]
  },
  {
   "cell_type": "code",
   "execution_count": 37,
   "id": "b581258f",
   "metadata": {},
   "outputs": [],
   "source": [
    "double?"
   ]
  },
  {
   "cell_type": "code",
   "execution_count": 38,
   "id": "56b9024d",
   "metadata": {},
   "outputs": [],
   "source": [
    "# 两个连续的问号('??')可以查看对象的源码\n",
    "double??"
   ]
  },
  {
   "cell_type": "code",
   "execution_count": 39,
   "id": "4e858450",
   "metadata": {},
   "outputs": [],
   "source": [
    "# 如果对象不是用Python语言编译的，则 '??' 的效果同 '?' 的效果\n",
    "len?"
   ]
  },
  {
   "cell_type": "code",
   "execution_count": 40,
   "id": "291696d1",
   "metadata": {},
   "outputs": [],
   "source": [
    "len??"
   ]
  },
  {
   "cell_type": "code",
   "execution_count": 41,
   "id": "f4a47415",
   "metadata": {},
   "outputs": [
    {
     "data": {
      "text/plain": [
       "array([ 0, -1, -2])"
      ]
     },
     "execution_count": 41,
     "metadata": {},
     "output_type": "execute_result"
    }
   ],
   "source": [
    "predictions = np.array([1, 1, 1])\n",
    "labels = np.array([1, 2, 3])\n",
    "predictions - labels"
   ]
  },
  {
   "cell_type": "code",
   "execution_count": 42,
   "id": "3eaaeb6a",
   "metadata": {},
   "outputs": [
    {
     "data": {
      "text/plain": [
       "array([0, 1, 4])"
      ]
     },
     "execution_count": 42,
     "metadata": {},
     "output_type": "execute_result"
    }
   ],
   "source": [
    "np.square(predictions - labels)"
   ]
  },
  {
   "cell_type": "code",
   "execution_count": 43,
   "id": "942b5eca",
   "metadata": {},
   "outputs": [
    {
     "data": {
      "text/plain": [
       "5"
      ]
     },
     "execution_count": 43,
     "metadata": {},
     "output_type": "execute_result"
    }
   ],
   "source": [
    "np.sum(np.square(predictions - labels))"
   ]
  },
  {
   "cell_type": "code",
   "execution_count": 44,
   "id": "6979fdcd",
   "metadata": {},
   "outputs": [
    {
     "data": {
      "text/plain": [
       "1.6666666666666665"
      ]
     },
     "execution_count": 44,
     "metadata": {},
     "output_type": "execute_result"
    }
   ],
   "source": [
    "(1/3) * np.sum(np.square(predictions - labels))"
   ]
  },
  {
   "cell_type": "code",
   "execution_count": 45,
   "id": "41f99dd3",
   "metadata": {},
   "outputs": [],
   "source": [
    "a = np.array([1, 2, 3, 4, 5, 6])\n",
    "np.save('filename', a)"
   ]
  },
  {
   "cell_type": "code",
   "execution_count": 46,
   "id": "1a7d3896",
   "metadata": {},
   "outputs": [
    {
     "name": "stdout",
     "output_type": "stream",
     "text": [
      "0001.ipynb  0004.ipynb\t0007.ipynb    foo.csv\tREADME.md\r\n",
      "0002.ipynb  0005.ipynb\t0008.ipynb    foo.h5\r\n",
      "0003.ipynb  0006.ipynb\tfilename.npy  foo.xlsx\r\n"
     ]
    }
   ],
   "source": [
    "!ls"
   ]
  },
  {
   "cell_type": "code",
   "execution_count": 47,
   "id": "e7c3e49c",
   "metadata": {},
   "outputs": [
    {
     "name": "stdout",
     "output_type": "stream",
     "text": [
      "[1 2 3 4 5 6]\n"
     ]
    }
   ],
   "source": [
    "b = np.load('filename.npy')\n",
    "print(b)"
   ]
  },
  {
   "cell_type": "code",
   "execution_count": 48,
   "id": "54b5d1c4",
   "metadata": {},
   "outputs": [],
   "source": [
    "csv_arr = np.array([1, 2, 3, 4, 5, 6, 7, 8])\n",
    "np.savetxt('new_file.csv', csv_arr)"
   ]
  },
  {
   "cell_type": "code",
   "execution_count": 49,
   "id": "cfe009de",
   "metadata": {},
   "outputs": [
    {
     "name": "stdout",
     "output_type": "stream",
     "text": [
      "0001.ipynb  0004.ipynb\t0007.ipynb    foo.csv\tnew_file.csv\r\n",
      "0002.ipynb  0005.ipynb\t0008.ipynb    foo.h5\tREADME.md\r\n",
      "0003.ipynb  0006.ipynb\tfilename.npy  foo.xlsx\r\n"
     ]
    }
   ],
   "source": [
    "!ls"
   ]
  },
  {
   "cell_type": "code",
   "execution_count": 50,
   "id": "4f980d3e",
   "metadata": {},
   "outputs": [
    {
     "data": {
      "text/plain": [
       "array([1., 2., 3., 4., 5., 6., 7., 8.])"
      ]
     },
     "execution_count": 50,
     "metadata": {},
     "output_type": "execute_result"
    }
   ],
   "source": [
    "np.loadtxt('new_file.csv')"
   ]
  },
  {
   "cell_type": "code",
   "execution_count": 53,
   "id": "b8b52b80",
   "metadata": {},
   "outputs": [
    {
     "name": "stdout",
     "output_type": "stream",
     "text": [
      "[['Billie Holiday' 'Jazz' 1300000 27000000]\n",
      " ['Jimi Hendrix' 'Rock' 2700000 70000000]\n",
      " ['Miles Davis' 'Jazz' 1500000 48000000]\n",
      " ['SIA' 'Pop' 2000000 74000000]]\n"
     ]
    }
   ],
   "source": [
    "import pandas as pd\n",
    "\n",
    "\n",
    "# If all of your columns are the same type:\n",
    "x = pd.read_csv('music.csv', header=0).values\n",
    "print(x)"
   ]
  },
  {
   "cell_type": "code",
   "execution_count": 54,
   "id": "ec500856",
   "metadata": {},
   "outputs": [
    {
     "name": "stdout",
     "output_type": "stream",
     "text": [
      "[['Billie Holiday' 27000000]\n",
      " ['Jimi Hendrix' 70000000]\n",
      " ['Miles Davis' 48000000]\n",
      " ['SIA' 74000000]]\n"
     ]
    }
   ],
   "source": [
    "# You can also simply select the columns you need:\n",
    "x = pd.read_csv('music.csv', usecols=['Artist', 'Plays']).values\n",
    "print(x)"
   ]
  },
  {
   "cell_type": "code",
   "execution_count": 55,
   "id": "c16356ae",
   "metadata": {},
   "outputs": [
    {
     "name": "stdout",
     "output_type": "stream",
     "text": [
      "          0         1         2         3\n",
      "0 -2.582892  0.430148 -1.240820  1.595726\n",
      "1  0.990278  1.171510  0.941257 -0.146925\n",
      "2  0.769893  0.812997 -0.950684  0.117696\n",
      "3  0.204840  0.347845  1.969792  0.519928\n"
     ]
    }
   ],
   "source": [
    "a = np.array([[-2.58289208, 0.43014843, -1.24082018, 1.59572603],\n",
    "              [0.99027828, 1.17150989, 0.94125714, -0.14692469],\n",
    "              [0.76989341, 0.81299683, -0.95068423, 0.11769564],\n",
    "              [0.20484034, 0.34784527, 1.96979195, 0.51992837]])\n",
    "df = pd.DataFrame(a)\n",
    "print(df)"
   ]
  },
  {
   "cell_type": "code",
   "execution_count": 56,
   "id": "1d898a0a",
   "metadata": {},
   "outputs": [],
   "source": [
    "df.to_csv('pd.csv')"
   ]
  },
  {
   "cell_type": "code",
   "execution_count": 57,
   "id": "c23c9f32",
   "metadata": {},
   "outputs": [],
   "source": [
    "data = pd.read_csv('pd.csv')"
   ]
  },
  {
   "cell_type": "code",
   "execution_count": 58,
   "id": "082bdd42",
   "metadata": {},
   "outputs": [
    {
     "data": {
      "text/html": [
       "<div>\n",
       "<style scoped>\n",
       "    .dataframe tbody tr th:only-of-type {\n",
       "        vertical-align: middle;\n",
       "    }\n",
       "\n",
       "    .dataframe tbody tr th {\n",
       "        vertical-align: top;\n",
       "    }\n",
       "\n",
       "    .dataframe thead th {\n",
       "        text-align: right;\n",
       "    }\n",
       "</style>\n",
       "<table border=\"1\" class=\"dataframe\">\n",
       "  <thead>\n",
       "    <tr style=\"text-align: right;\">\n",
       "      <th></th>\n",
       "      <th>Unnamed: 0</th>\n",
       "      <th>0</th>\n",
       "      <th>1</th>\n",
       "      <th>2</th>\n",
       "      <th>3</th>\n",
       "    </tr>\n",
       "  </thead>\n",
       "  <tbody>\n",
       "    <tr>\n",
       "      <th>0</th>\n",
       "      <td>0</td>\n",
       "      <td>-2.582892</td>\n",
       "      <td>0.430148</td>\n",
       "      <td>-1.240820</td>\n",
       "      <td>1.595726</td>\n",
       "    </tr>\n",
       "    <tr>\n",
       "      <th>1</th>\n",
       "      <td>1</td>\n",
       "      <td>0.990278</td>\n",
       "      <td>1.171510</td>\n",
       "      <td>0.941257</td>\n",
       "      <td>-0.146925</td>\n",
       "    </tr>\n",
       "    <tr>\n",
       "      <th>2</th>\n",
       "      <td>2</td>\n",
       "      <td>0.769893</td>\n",
       "      <td>0.812997</td>\n",
       "      <td>-0.950684</td>\n",
       "      <td>0.117696</td>\n",
       "    </tr>\n",
       "    <tr>\n",
       "      <th>3</th>\n",
       "      <td>3</td>\n",
       "      <td>0.204840</td>\n",
       "      <td>0.347845</td>\n",
       "      <td>1.969792</td>\n",
       "      <td>0.519928</td>\n",
       "    </tr>\n",
       "  </tbody>\n",
       "</table>\n",
       "</div>"
      ],
      "text/plain": [
       "   Unnamed: 0         0         1         2         3\n",
       "0           0 -2.582892  0.430148 -1.240820  1.595726\n",
       "1           1  0.990278  1.171510  0.941257 -0.146925\n",
       "2           2  0.769893  0.812997 -0.950684  0.117696\n",
       "3           3  0.204840  0.347845  1.969792  0.519928"
      ]
     },
     "execution_count": 58,
     "metadata": {},
     "output_type": "execute_result"
    }
   ],
   "source": [
    "data"
   ]
  },
  {
   "cell_type": "code",
   "execution_count": 59,
   "id": "8be79a50",
   "metadata": {},
   "outputs": [],
   "source": [
    "np.savetxt('np.csv', a, fmt='%.2f', delimiter=',', header='1, 2, 3, 4')"
   ]
  },
  {
   "cell_type": "code",
   "execution_count": 60,
   "id": "74de0ae7",
   "metadata": {},
   "outputs": [
    {
     "name": "stdout",
     "output_type": "stream",
     "text": [
      "# 1, 2, 3, 4\r\n",
      "-2.58,0.43,-1.24,1.60\r\n",
      "0.99,1.17,0.94,-0.15\r\n",
      "0.77,0.81,-0.95,0.12\r\n",
      "0.20,0.35,1.97,0.52\r\n"
     ]
    }
   ],
   "source": [
    "!cat np.csv"
   ]
  },
  {
   "cell_type": "code",
   "execution_count": 61,
   "id": "0575c0c0",
   "metadata": {},
   "outputs": [],
   "source": [
    "a = np.array([2, 1, 5, 7, 4, 6, 8, 14, 10, 9, 18, 20, 22])"
   ]
  },
  {
   "cell_type": "code",
   "execution_count": 62,
   "id": "9d823335",
   "metadata": {},
   "outputs": [],
   "source": [
    "import matplotlib.pyplot as plt\n",
    "\n",
    "# If you're using Jupyter Notebook, you may also want to run the following\n",
    "# line of code to display your code in the notebook:\n",
    "\n",
    "%matplotlib inline"
   ]
  },
  {
   "cell_type": "code",
   "execution_count": 63,
   "id": "30e6f8b5",
   "metadata": {},
   "outputs": [
    {
     "data": {
      "text/plain": [
       "[<matplotlib.lines.Line2D at 0x7f2f24800f70>]"
      ]
     },
     "execution_count": 63,
     "metadata": {},
     "output_type": "execute_result"
    },
    {
     "data": {
      "image/png": "[encoded data removed]",
      "text/plain": [
       "<Figure size 432x288 with 1 Axes>"
      ]
     },
     "metadata": {
      "needs_background": "light"
     },
     "output_type": "display_data"
    }
   ],
   "source": [
    "plt.plot(a)\n",
    "\n",
    "# If you are running from a command line, you may need to do this:\n",
    "# >>> plt.show()"
   ]
  },
  {
   "cell_type": "code",
   "execution_count": 65,
   "id": "0bafe05f",
   "metadata": {},
   "outputs": [
    {
     "data": {
      "text/plain": [
       "[<matplotlib.lines.Line2D at 0x7f2f2269e4c0>]"
      ]
     },
     "execution_count": 65,
     "metadata": {},
     "output_type": "execute_result"
    },
    {
     "data": {
      "image/png": "[encoded data removed]",
      "text/plain": [
       "<Figure size 432x288 with 1 Axes>"
      ]
     },
     "metadata": {
      "needs_background": "light"
     },
     "output_type": "display_data"
    }
   ],
   "source": [
    "x = np.linspace(0, 5, 20)\n",
    "y = np.linspace(0, 10, 20)\n",
    "plt.plot(x, y, 'purple')  # line"
   ]
  },
  {
   "cell_type": "code",
   "execution_count": 66,
   "id": "15d7c104",
   "metadata": {},
   "outputs": [
    {
     "data": {
      "text/plain": [
       "[<matplotlib.lines.Line2D at 0x7f2f22606c70>]"
      ]
     },
     "execution_count": 66,
     "metadata": {},
     "output_type": "execute_result"
    },
    {
     "data": {
      "image/png": "[encoded data removed]",
      "text/plain": [
       "<Figure size 432x288 with 1 Axes>"
      ]
     },
     "metadata": {
      "needs_background": "light"
     },
     "output_type": "display_data"
    }
   ],
   "source": [
    "plt.plot(x, y, 'o')  # dots"
   ]
  },
  {
   "cell_type": "code",
   "execution_count": 67,
   "id": "9dbf2480",
   "metadata": {},
   "outputs": [
    {
     "data": {
      "text/plain": [
       "[<matplotlib.lines.Line2D at 0x7f2f225f4760>]"
      ]
     },
     "execution_count": 67,
     "metadata": {},
     "output_type": "execute_result"
    },
    {
     "data": {
      "image/png": "[encoded data removed]",
      "text/plain": [
       "<Figure size 432x288 with 1 Axes>"
      ]
     },
     "metadata": {
      "needs_background": "light"
     },
     "output_type": "display_data"
    }
   ],
   "source": [
    "plt.plot(x, y, 'purple')  # line\n",
    "plt.plot(x, y, 'o')       # dots"
   ]
  },
  {
   "cell_type": "code",
   "execution_count": 68,
   "id": "9215c375",
   "metadata": {},
   "outputs": [
    {
     "data": {
      "text/plain": [
       "<mpl_toolkits.mplot3d.art3d.Poly3DCollection at 0x7f2f22564730>"
      ]
     },
     "execution_count": 68,
     "metadata": {},
     "output_type": "execute_result"
    },
    {
     "data": {
      "image/png": "[encoded data removed]",
      "text/plain": [
       "<Figure size 432x288 with 1 Axes>"
      ]
     },
     "metadata": {
      "needs_background": "light"
     },
     "output_type": "display_data"
    }
   ],
   "source": [
    "fig = plt.figure()\n",
    "ax = fig.add_subplot(projection='3d')\n",
    "X = np.arange(-5, 5, 0.15)\n",
    "Y = np.arange(-5, 5, 0.15)\n",
    "X, Y = np.meshgrid(X, Y)\n",
    "R = np.sqrt(X**2 + Y**2)\n",
    "Z = np.sin(R)\n",
    "ax.plot_surface(X, Y, Z, rstride=1, cstride=1, cmap='viridis')"
   ]
  },
  {
   "cell_type": "code",
   "execution_count": 69,
   "id": "953d599b",
   "metadata": {},
   "outputs": [
    {
     "data": {
      "application/json": {
       "cell": {
        "!": "OSMagics",
        "HTML": "Other",
        "SVG": "Other",
        "bash": "Other",
        "capture": "ExecutionMagics",
        "debug": "ExecutionMagics",
        "file": "Other",
        "html": "DisplayMagics",
        "javascript": "DisplayMagics",
        "js": "DisplayMagics",
        "latex": "DisplayMagics",
        "markdown": "DisplayMagics",
        "perl": "Other",
        "prun": "ExecutionMagics",
        "pypy": "Other",
        "python": "Other",
        "python2": "Other",
        "python3": "Other",
        "ruby": "Other",
        "script": "ScriptMagics",
        "sh": "Other",
        "svg": "DisplayMagics",
        "sx": "OSMagics",
        "system": "OSMagics",
        "time": "ExecutionMagics",
        "timeit": "ExecutionMagics",
        "writefile": "OSMagics"
       },
       "line": {
        "alias": "OSMagics",
        "alias_magic": "BasicMagics",
        "autoawait": "AsyncMagics",
        "autocall": "AutoMagics",
        "automagic": "AutoMagics",
        "autosave": "KernelMagics",
        "bookmark": "OSMagics",
        "cat": "Other",
        "cd": "OSMagics",
        "clear": "KernelMagics",
        "colors": "BasicMagics",
        "conda": "PackagingMagics",
        "config": "ConfigMagics",
        "connect_info": "KernelMagics",
        "cp": "Other",
        "debug": "ExecutionMagics",
        "dhist": "OSMagics",
        "dirs": "OSMagics",
        "doctest_mode": "BasicMagics",
        "ed": "Other",
        "edit": "KernelMagics",
        "env": "OSMagics",
        "gui": "BasicMagics",
        "hist": "Other",
        "history": "HistoryMagics",
        "killbgscripts": "ScriptMagics",
        "ldir": "Other",
        "less": "KernelMagics",
        "lf": "Other",
        "lk": "Other",
        "ll": "Other",
        "load": "CodeMagics",
        "load_ext": "ExtensionMagics",
        "loadpy": "CodeMagics",
        "logoff": "LoggingMagics",
        "logon": "LoggingMagics",
        "logstart": "LoggingMagics",
        "logstate": "LoggingMagics",
        "logstop": "LoggingMagics",
        "ls": "Other",
        "lsmagic": "BasicMagics",
        "lx": "Other",
        "macro": "ExecutionMagics",
        "magic": "BasicMagics",
        "man": "KernelMagics",
        "matplotlib": "PylabMagics",
        "mkdir": "Other",
        "more": "KernelMagics",
        "mv": "Other",
        "notebook": "BasicMagics",
        "page": "BasicMagics",
        "pastebin": "CodeMagics",
        "pdb": "ExecutionMagics",
        "pdef": "NamespaceMagics",
        "pdoc": "NamespaceMagics",
        "pfile": "NamespaceMagics",
        "pinfo": "NamespaceMagics",
        "pinfo2": "NamespaceMagics",
        "pip": "PackagingMagics",
        "popd": "OSMagics",
        "pprint": "BasicMagics",
        "precision": "BasicMagics",
        "prun": "ExecutionMagics",
        "psearch": "NamespaceMagics",
        "psource": "NamespaceMagics",
        "pushd": "OSMagics",
        "pwd": "OSMagics",
        "pycat": "OSMagics",
        "pylab": "PylabMagics",
        "qtconsole": "KernelMagics",
        "quickref": "BasicMagics",
        "recall": "HistoryMagics",
        "rehashx": "OSMagics",
        "reload_ext": "ExtensionMagics",
        "rep": "Other",
        "rerun": "HistoryMagics",
        "reset": "NamespaceMagics",
        "reset_selective": "NamespaceMagics",
        "rm": "Other",
        "rmdir": "Other",
        "run": "ExecutionMagics",
        "save": "CodeMagics",
        "sc": "OSMagics",
        "set_env": "OSMagics",
        "store": "StoreMagics",
        "sx": "OSMagics",
        "system": "OSMagics",
        "tb": "ExecutionMagics",
        "time": "ExecutionMagics",
        "timeit": "ExecutionMagics",
        "unalias": "OSMagics",
        "unload_ext": "ExtensionMagics",
        "who": "NamespaceMagics",
        "who_ls": "NamespaceMagics",
        "whos": "NamespaceMagics",
        "xdel": "NamespaceMagics",
        "xmode": "BasicMagics"
       }
      },
      "text/plain": [
       "Available line magics:\n",
       "%alias  %alias_magic  %autoawait  %autocall  %automagic  %autosave  %bookmark  %cat  %cd  %clear  %colors  %conda  %config  %connect_info  %cp  %debug  %dhist  %dirs  %doctest_mode  %ed  %edit  %env  %gui  %hist  %history  %killbgscripts  %ldir  %less  %lf  %lk  %ll  %load  %load_ext  %loadpy  %logoff  %logon  %logstart  %logstate  %logstop  %ls  %lsmagic  %lx  %macro  %magic  %man  %matplotlib  %mkdir  %more  %mv  %notebook  %page  %pastebin  %pdb  %pdef  %pdoc  %pfile  %pinfo  %pinfo2  %pip  %popd  %pprint  %precision  %prun  %psearch  %psource  %pushd  %pwd  %pycat  %pylab  %qtconsole  %quickref  %recall  %rehashx  %reload_ext  %rep  %rerun  %reset  %reset_selective  %rm  %rmdir  %run  %save  %sc  %set_env  %store  %sx  %system  %tb  %time  %timeit  %unalias  %unload_ext  %who  %who_ls  %whos  %xdel  %xmode\n",
       "\n",
       "Available cell magics:\n",
       "%%!  %%HTML  %%SVG  %%bash  %%capture  %%debug  %%file  %%html  %%javascript  %%js  %%latex  %%markdown  %%perl  %%prun  %%pypy  %%python  %%python2  %%python3  %%ruby  %%script  %%sh  %%svg  %%sx  %%system  %%time  %%timeit  %%writefile\n",
       "\n",
       "Automagic is ON, % prefix IS NOT needed for line magics."
      ]
     },
     "execution_count": 69,
     "metadata": {},
     "output_type": "execute_result"
    }
   ],
   "source": [
    "%lsmagic"
   ]
  },
  {
   "cell_type": "code",
   "execution_count": 70,
   "id": "5ba88451",
   "metadata": {},
   "outputs": [
    {
     "data": {
      "application/json": {
       "cell": {
        "!": "OSMagics",
        "HTML": "Other",
        "SVG": "Other",
        "bash": "Other",
        "capture": "ExecutionMagics",
        "debug": "ExecutionMagics",
        "file": "Other",
        "html": "DisplayMagics",
        "javascript": "DisplayMagics",
        "js": "DisplayMagics",
        "latex": "DisplayMagics",
        "markdown": "DisplayMagics",
        "perl": "Other",
        "prun": "ExecutionMagics",
        "pypy": "Other",
        "python": "Other",
        "python2": "Other",
        "python3": "Other",
        "ruby": "Other",
        "script": "ScriptMagics",
        "sh": "Other",
        "svg": "DisplayMagics",
        "sx": "OSMagics",
        "system": "OSMagics",
        "time": "ExecutionMagics",
        "timeit": "ExecutionMagics",
        "writefile": "OSMagics"
       },
       "line": {
        "alias": "OSMagics",
        "alias_magic": "BasicMagics",
        "autoawait": "AsyncMagics",
        "autocall": "AutoMagics",
        "automagic": "AutoMagics",
        "autosave": "KernelMagics",
        "bookmark": "OSMagics",
        "cat": "Other",
        "cd": "OSMagics",
        "clear": "KernelMagics",
        "colors": "BasicMagics",
        "conda": "PackagingMagics",
        "config": "ConfigMagics",
        "connect_info": "KernelMagics",
        "cp": "Other",
        "debug": "ExecutionMagics",
        "dhist": "OSMagics",
        "dirs": "OSMagics",
        "doctest_mode": "BasicMagics",
        "ed": "Other",
        "edit": "KernelMagics",
        "env": "OSMagics",
        "gui": "BasicMagics",
        "hist": "Other",
        "history": "HistoryMagics",
        "killbgscripts": "ScriptMagics",
        "ldir": "Other",
        "less": "KernelMagics",
        "lf": "Other",
        "lk": "Other",
        "ll": "Other",
        "load": "CodeMagics",
        "load_ext": "ExtensionMagics",
        "loadpy": "CodeMagics",
        "logoff": "LoggingMagics",
        "logon": "LoggingMagics",
        "logstart": "LoggingMagics",
        "logstate": "LoggingMagics",
        "logstop": "LoggingMagics",
        "ls": "Other",
        "lsmagic": "BasicMagics",
        "lx": "Other",
        "macro": "ExecutionMagics",
        "magic": "BasicMagics",
        "man": "KernelMagics",
        "matplotlib": "PylabMagics",
        "mkdir": "Other",
        "more": "KernelMagics",
        "mv": "Other",
        "notebook": "BasicMagics",
        "page": "BasicMagics",
        "pastebin": "CodeMagics",
        "pdb": "ExecutionMagics",
        "pdef": "NamespaceMagics",
        "pdoc": "NamespaceMagics",
        "pfile": "NamespaceMagics",
        "pinfo": "NamespaceMagics",
        "pinfo2": "NamespaceMagics",
        "pip": "PackagingMagics",
        "popd": "OSMagics",
        "pprint": "BasicMagics",
        "precision": "BasicMagics",
        "prun": "ExecutionMagics",
        "psearch": "NamespaceMagics",
        "psource": "NamespaceMagics",
        "pushd": "OSMagics",
        "pwd": "OSMagics",
        "pycat": "OSMagics",
        "pylab": "PylabMagics",
        "qtconsole": "KernelMagics",
        "quickref": "BasicMagics",
        "recall": "HistoryMagics",
        "rehashx": "OSMagics",
        "reload_ext": "ExtensionMagics",
        "rep": "Other",
        "rerun": "HistoryMagics",
        "reset": "NamespaceMagics",
        "reset_selective": "NamespaceMagics",
        "rm": "Other",
        "rmdir": "Other",
        "run": "ExecutionMagics",
        "save": "CodeMagics",
        "sc": "OSMagics",
        "set_env": "OSMagics",
        "store": "StoreMagics",
        "sx": "OSMagics",
        "system": "OSMagics",
        "tb": "ExecutionMagics",
        "time": "ExecutionMagics",
        "timeit": "ExecutionMagics",
        "unalias": "OSMagics",
        "unload_ext": "ExtensionMagics",
        "who": "NamespaceMagics",
        "who_ls": "NamespaceMagics",
        "whos": "NamespaceMagics",
        "xdel": "NamespaceMagics",
        "xmode": "BasicMagics"
       }
      },
      "text/plain": [
       "Available line magics:\n",
       "%alias  %alias_magic  %autoawait  %autocall  %automagic  %autosave  %bookmark  %cat  %cd  %clear  %colors  %conda  %config  %connect_info  %cp  %debug  %dhist  %dirs  %doctest_mode  %ed  %edit  %env  %gui  %hist  %history  %killbgscripts  %ldir  %less  %lf  %lk  %ll  %load  %load_ext  %loadpy  %logoff  %logon  %logstart  %logstate  %logstop  %ls  %lsmagic  %lx  %macro  %magic  %man  %matplotlib  %mkdir  %more  %mv  %notebook  %page  %pastebin  %pdb  %pdef  %pdoc  %pfile  %pinfo  %pinfo2  %pip  %popd  %pprint  %precision  %prun  %psearch  %psource  %pushd  %pwd  %pycat  %pylab  %qtconsole  %quickref  %recall  %rehashx  %reload_ext  %rep  %rerun  %reset  %reset_selective  %rm  %rmdir  %run  %save  %sc  %set_env  %store  %sx  %system  %tb  %time  %timeit  %unalias  %unload_ext  %who  %who_ls  %whos  %xdel  %xmode\n",
       "\n",
       "Available cell magics:\n",
       "%%!  %%HTML  %%SVG  %%bash  %%capture  %%debug  %%file  %%html  %%javascript  %%js  %%latex  %%markdown  %%perl  %%prun  %%pypy  %%python  %%python2  %%python3  %%ruby  %%script  %%sh  %%svg  %%sx  %%system  %%time  %%timeit  %%writefile\n",
       "\n",
       "Automagic is ON, % prefix IS NOT needed for line magics."
      ]
     },
     "execution_count": 70,
     "metadata": {},
     "output_type": "execute_result"
    }
   ],
   "source": [
    "lsmagic"
   ]
  },
  {
   "cell_type": "code",
   "execution_count": 71,
   "id": "9eb90881",
   "metadata": {},
   "outputs": [],
   "source": [
    "matplotlib?"
   ]
  },
  {
   "cell_type": "code",
   "execution_count": 74,
   "id": "746c83e8",
   "metadata": {},
   "outputs": [
    {
     "data": {
      "text/plain": [
       "array([[ 0,  1,  2,  3],\n",
       "       [ 4,  5,  6,  7],\n",
       "       [ 8,  9, 10, 11]])"
      ]
     },
     "execution_count": 74,
     "metadata": {},
     "output_type": "execute_result"
    }
   ],
   "source": [
    "a = np.arange(12).reshape(3, 4)\n",
    "a"
   ]
  },
  {
   "cell_type": "code",
   "execution_count": 75,
   "id": "58a38c93",
   "metadata": {},
   "outputs": [
    {
     "data": {
      "text/plain": [
       "array([[ 0,  1,  2,  3],\n",
       "       [ 4,  5,  6,  7],\n",
       "       [ 8,  9, 10, 11]])"
      ]
     },
     "execution_count": 75,
     "metadata": {},
     "output_type": "execute_result"
    }
   ],
   "source": [
    "np.array((a[0,:], a[1,:], a[2,:]))"
   ]
  },
  {
   "cell_type": "code",
   "execution_count": 76,
   "id": "e4b590ea",
   "metadata": {},
   "outputs": [],
   "source": [
    "a = np.arange(27).reshape((3, 3, 3))"
   ]
  },
  {
   "cell_type": "code",
   "execution_count": 77,
   "id": "5a29b077",
   "metadata": {},
   "outputs": [
    {
     "data": {
      "text/plain": [
       "array([[[ 0,  1,  2],\n",
       "        [ 3,  4,  5],\n",
       "        [ 6,  7,  8]],\n",
       "\n",
       "       [[ 9, 10, 11],\n",
       "        [12, 13, 14],\n",
       "        [15, 16, 17]],\n",
       "\n",
       "       [[18, 19, 20],\n",
       "        [21, 22, 23],\n",
       "        [24, 25, 26]]])"
      ]
     },
     "execution_count": 77,
     "metadata": {},
     "output_type": "execute_result"
    }
   ],
   "source": [
    "a"
   ]
  },
  {
   "cell_type": "code",
   "execution_count": 78,
   "id": "25df3fd1",
   "metadata": {},
   "outputs": [
    {
     "data": {
      "text/plain": [
       "array([[27, 30, 33],\n",
       "       [36, 39, 42],\n",
       "       [45, 48, 51]])"
      ]
     },
     "execution_count": 78,
     "metadata": {},
     "output_type": "execute_result"
    }
   ],
   "source": [
    "a.sum(axis=0)"
   ]
  },
  {
   "cell_type": "code",
   "execution_count": 79,
   "id": "eca616fc",
   "metadata": {},
   "outputs": [
    {
     "data": {
      "text/plain": [
       "array([[ 9, 12, 15],\n",
       "       [36, 39, 42],\n",
       "       [63, 66, 69]])"
      ]
     },
     "execution_count": 79,
     "metadata": {},
     "output_type": "execute_result"
    }
   ],
   "source": [
    "a.sum(axis=1)"
   ]
  },
  {
   "cell_type": "code",
   "execution_count": 80,
   "id": "21715a4b",
   "metadata": {},
   "outputs": [
    {
     "data": {
      "text/plain": [
       "array([[ 3, 12, 21],\n",
       "       [30, 39, 48],\n",
       "       [57, 66, 75]])"
      ]
     },
     "execution_count": 80,
     "metadata": {},
     "output_type": "execute_result"
    }
   ],
   "source": [
    "a.sum(axis=2)"
   ]
  },
  {
   "cell_type": "code",
   "execution_count": 82,
   "id": "0856b6b7",
   "metadata": {},
   "outputs": [
    {
     "data": {
      "text/plain": [
       "array([[0, 1, 2],\n",
       "       [3, 4, 5],\n",
       "       [6, 7, 8]])"
      ]
     },
     "execution_count": 82,
     "metadata": {},
     "output_type": "execute_result"
    }
   ],
   "source": [
    "a[0,:]"
   ]
  },
  {
   "cell_type": "code",
   "execution_count": 83,
   "id": "d7ddd9a8",
   "metadata": {},
   "outputs": [
    {
     "data": {
      "text/plain": [
       "array([[ 9, 10, 11],\n",
       "       [12, 13, 14],\n",
       "       [15, 16, 17]])"
      ]
     },
     "execution_count": 83,
     "metadata": {},
     "output_type": "execute_result"
    }
   ],
   "source": [
    "a[1,:]"
   ]
  },
  {
   "cell_type": "code",
   "execution_count": 84,
   "id": "ec0b8571",
   "metadata": {},
   "outputs": [
    {
     "data": {
      "text/plain": [
       "array([[18, 19, 20],\n",
       "       [21, 22, 23],\n",
       "       [24, 25, 26]])"
      ]
     },
     "execution_count": 84,
     "metadata": {},
     "output_type": "execute_result"
    }
   ],
   "source": [
    "a[2,:]"
   ]
  },
  {
   "cell_type": "code",
   "execution_count": 85,
   "id": "b7d4f39a",
   "metadata": {},
   "outputs": [
    {
     "data": {
      "text/plain": [
       "array([[0, 1, 2],\n",
       "       [3, 4, 5],\n",
       "       [6, 7, 8]])"
      ]
     },
     "execution_count": 85,
     "metadata": {},
     "output_type": "execute_result"
    }
   ],
   "source": [
    "a[0,:,:]"
   ]
  },
  {
   "cell_type": "code",
   "execution_count": 86,
   "id": "0a0e35bb",
   "metadata": {},
   "outputs": [
    {
     "data": {
      "text/plain": [
       "array([[0, 1, 2],\n",
       "       [3, 4, 5],\n",
       "       [6, 7, 8]])"
      ]
     },
     "execution_count": 86,
     "metadata": {},
     "output_type": "execute_result"
    }
   ],
   "source": [
    "a[0,:,:]"
   ]
  },
  {
   "cell_type": "code",
   "execution_count": 87,
   "id": "7e1c9dbc",
   "metadata": {},
   "outputs": [
    {
     "data": {
      "text/plain": [
       "array([[ 9, 10, 11],\n",
       "       [12, 13, 14],\n",
       "       [15, 16, 17]])"
      ]
     },
     "execution_count": 87,
     "metadata": {},
     "output_type": "execute_result"
    }
   ],
   "source": [
    "a[1,:,:]"
   ]
  },
  {
   "cell_type": "code",
   "execution_count": 88,
   "id": "fdaaece2",
   "metadata": {},
   "outputs": [
    {
     "data": {
      "text/plain": [
       "array([[18, 19, 20],\n",
       "       [21, 22, 23],\n",
       "       [24, 25, 26]])"
      ]
     },
     "execution_count": 88,
     "metadata": {},
     "output_type": "execute_result"
    }
   ],
   "source": [
    "a[2,:,:]"
   ]
  },
  {
   "cell_type": "code",
   "execution_count": 89,
   "id": "613e4db0",
   "metadata": {},
   "outputs": [
    {
     "data": {
      "text/plain": [
       "array([[27, 30, 33],\n",
       "       [36, 39, 42],\n",
       "       [45, 48, 51]])"
      ]
     },
     "execution_count": 89,
     "metadata": {},
     "output_type": "execute_result"
    }
   ],
   "source": [
    "a.sum(axis=0)"
   ]
  },
  {
   "cell_type": "code",
   "execution_count": 90,
   "id": "94353a3d",
   "metadata": {},
   "outputs": [
    {
     "data": {
      "text/plain": [
       "array([[27, 30, 33],\n",
       "       [36, 39, 42],\n",
       "       [45, 48, 51]])"
      ]
     },
     "execution_count": 90,
     "metadata": {},
     "output_type": "execute_result"
    }
   ],
   "source": [
    "a[0,:,:] + a[1,:,:] + a[2,:,:]"
   ]
  },
  {
   "cell_type": "code",
   "execution_count": 91,
   "id": "c8e90b6a",
   "metadata": {},
   "outputs": [
    {
     "name": "stdout",
     "output_type": "stream",
     "text": [
      "[[ 0  1  2]\n",
      " [ 9 10 11]\n",
      " [18 19 20]]\n",
      "[[ 3  4  5]\n",
      " [12 13 14]\n",
      " [21 22 23]]\n",
      "[[ 6  7  8]\n",
      " [15 16 17]\n",
      " [24 25 26]]\n"
     ]
    }
   ],
   "source": [
    "print(a[:,0,:])\n",
    "print(a[:,1,:])\n",
    "print(a[:,2,:])"
   ]
  },
  {
   "cell_type": "code",
   "execution_count": 92,
   "id": "8544bb01",
   "metadata": {},
   "outputs": [
    {
     "data": {
      "text/plain": [
       "array([[ 9, 12, 15],\n",
       "       [36, 39, 42],\n",
       "       [63, 66, 69]])"
      ]
     },
     "execution_count": 92,
     "metadata": {},
     "output_type": "execute_result"
    }
   ],
   "source": [
    "a[:,0,:] + a[:,1,:] + a[:,2,:]"
   ]
  },
  {
   "cell_type": "code",
   "execution_count": 93,
   "id": "fdc293aa",
   "metadata": {},
   "outputs": [
    {
     "data": {
      "text/plain": [
       "array([[ 9, 12, 15],\n",
       "       [36, 39, 42],\n",
       "       [63, 66, 69]])"
      ]
     },
     "execution_count": 93,
     "metadata": {},
     "output_type": "execute_result"
    }
   ],
   "source": [
    "a.sum(axis=1)"
   ]
  },
  {
   "cell_type": "code",
   "execution_count": 94,
   "id": "bce8122c",
   "metadata": {},
   "outputs": [
    {
     "data": {
      "text/plain": [
       "array([[ 3, 12, 21],\n",
       "       [30, 39, 48],\n",
       "       [57, 66, 75]])"
      ]
     },
     "execution_count": 94,
     "metadata": {},
     "output_type": "execute_result"
    }
   ],
   "source": [
    "a[:,:,0] + a[:,:,1] + a[:,:,2]"
   ]
  },
  {
   "cell_type": "code",
   "execution_count": 95,
   "id": "1bfe82da",
   "metadata": {},
   "outputs": [
    {
     "data": {
      "text/plain": [
       "array([[ 3, 12, 21],\n",
       "       [30, 39, 48],\n",
       "       [57, 66, 75]])"
      ]
     },
     "execution_count": 95,
     "metadata": {},
     "output_type": "execute_result"
    }
   ],
   "source": [
    "a.sum(axis=2)"
   ]
  },
  {
   "cell_type": "code",
   "execution_count": 96,
   "id": "de928065",
   "metadata": {},
   "outputs": [
    {
     "data": {
      "text/plain": [
       "array([[ 0,  1,  2,  3,  4],\n",
       "       [ 5,  6,  7,  8,  9],\n",
       "       [10, 11, 12, 13, 14]])"
      ]
     },
     "execution_count": 96,
     "metadata": {},
     "output_type": "execute_result"
    }
   ],
   "source": [
    "b = np.arange(15).reshape(3,5)\n",
    "b"
   ]
  },
  {
   "cell_type": "code",
   "execution_count": 97,
   "id": "6855a7db",
   "metadata": {},
   "outputs": [
    {
     "data": {
      "text/plain": [
       "array([15, 18, 21, 24, 27])"
      ]
     },
     "execution_count": 97,
     "metadata": {},
     "output_type": "execute_result"
    }
   ],
   "source": [
    "b.sum(axis=0)"
   ]
  },
  {
   "cell_type": "code",
   "execution_count": 98,
   "id": "4b1f1d09",
   "metadata": {},
   "outputs": [
    {
     "data": {
      "text/plain": [
       "array([10, 35, 60])"
      ]
     },
     "execution_count": 98,
     "metadata": {},
     "output_type": "execute_result"
    }
   ],
   "source": [
    "b.sum(axis=1)"
   ]
  },
  {
   "cell_type": "code",
   "execution_count": 99,
   "id": "142b21ca",
   "metadata": {},
   "outputs": [
    {
     "data": {
      "text/plain": [
       "array([15, 18, 21, 24, 27])"
      ]
     },
     "execution_count": 99,
     "metadata": {},
     "output_type": "execute_result"
    }
   ],
   "source": [
    "b[0,:] + b[1,:] + b[2,:]"
   ]
  },
  {
   "cell_type": "code",
   "execution_count": 100,
   "id": "c9745720",
   "metadata": {},
   "outputs": [
    {
     "data": {
      "text/plain": [
       "array([10, 35, 60])"
      ]
     },
     "execution_count": 100,
     "metadata": {},
     "output_type": "execute_result"
    }
   ],
   "source": [
    "b[:,0] + b[:,1] + b[:,2] + b[:,3] + b[:,4]"
   ]
  },
  {
   "cell_type": "code",
   "execution_count": 101,
   "id": "04b53339",
   "metadata": {},
   "outputs": [
    {
     "data": {
      "text/plain": [
       "351"
      ]
     },
     "execution_count": 101,
     "metadata": {},
     "output_type": "execute_result"
    }
   ],
   "source": [
    "a.sum(axis=0).sum()"
   ]
  },
  {
   "cell_type": "code",
   "execution_count": 102,
   "id": "1c307543",
   "metadata": {},
   "outputs": [
    {
     "data": {
      "text/plain": [
       "351"
      ]
     },
     "execution_count": 102,
     "metadata": {},
     "output_type": "execute_result"
    }
   ],
   "source": [
    "a.sum(axis=1).sum()"
   ]
  },
  {
   "cell_type": "code",
   "execution_count": 103,
   "id": "57526e61",
   "metadata": {},
   "outputs": [
    {
     "data": {
      "text/plain": [
       "351"
      ]
     },
     "execution_count": 103,
     "metadata": {},
     "output_type": "execute_result"
    }
   ],
   "source": [
    "a.sum(axis=2).sum()"
   ]
  },
  {
   "cell_type": "code",
   "execution_count": 104,
   "id": "2da0fbdd",
   "metadata": {},
   "outputs": [
    {
     "data": {
      "text/plain": [
       "351"
      ]
     },
     "execution_count": 104,
     "metadata": {},
     "output_type": "execute_result"
    }
   ],
   "source": [
    "a.sum()"
   ]
  },
  {
   "cell_type": "code",
   "execution_count": 3,
   "id": "ad66e7cf",
   "metadata": {},
   "outputs": [],
   "source": [
    "import tushare as ts\n",
    "\n",
    "\n",
    "pro = ts.pro_api()"
   ]
  },
  {
   "cell_type": "code",
   "execution_count": 4,
   "id": "c6a914cf",
   "metadata": {},
   "outputs": [
    {
     "data": {
      "text/html": [
       "<div>\n",
       "<style scoped>\n",
       "    .dataframe tbody tr th:only-of-type {\n",
       "        vertical-align: middle;\n",
       "    }\n",
       "\n",
       "    .dataframe tbody tr th {\n",
       "        vertical-align: top;\n",
       "    }\n",
       "\n",
       "    .dataframe thead th {\n",
       "        text-align: right;\n",
       "    }\n",
       "</style>\n",
       "<table border=\"1\" class=\"dataframe\">\n",
       "  <thead>\n",
       "    <tr style=\"text-align: right;\">\n",
       "      <th></th>\n",
       "      <th>国籍</th>\n",
       "      <th>名字</th>\n",
       "    </tr>\n",
       "  </thead>\n",
       "  <tbody>\n",
       "    <tr>\n",
       "      <th>0</th>\n",
       "      <td>UK</td>\n",
       "      <td>Alice</td>\n",
       "    </tr>\n",
       "    <tr>\n",
       "      <th>1</th>\n",
       "      <td>中国</td>\n",
       "      <td>李小龙</td>\n",
       "    </tr>\n",
       "  </tbody>\n",
       "</table>\n",
       "</div>"
      ],
      "text/plain": [
       "   国籍     名字\n",
       "0  UK  Alice\n",
       "1  中国    李小龙"
      ]
     },
     "execution_count": 4,
     "metadata": {},
     "output_type": "execute_result"
    }
   ],
   "source": [
    "import pandas as pd\n",
    "\n",
    "\n",
    "df = pd.DataFrame({\"国籍\": [\"UK\", \"中国\"], \"名字\": [\"Alice\", \"李小龙\"]})\n",
    "df"
   ]
  },
  {
   "cell_type": "code",
   "execution_count": 5,
   "id": "8ac5ee06",
   "metadata": {},
   "outputs": [
    {
     "data": {
      "text/html": [
       "<div>\n",
       "<style scoped>\n",
       "    .dataframe tbody tr th:only-of-type {\n",
       "        vertical-align: middle;\n",
       "    }\n",
       "\n",
       "    .dataframe tbody tr th {\n",
       "        vertical-align: top;\n",
       "    }\n",
       "\n",
       "    .dataframe thead th {\n",
       "        text-align: right;\n",
       "    }\n",
       "</style>\n",
       "<table border=\"1\" class=\"dataframe\">\n",
       "  <thead>\n",
       "    <tr style=\"text-align: right;\">\n",
       "      <th></th>\n",
       "      <th>国籍</th>\n",
       "      <th>名前</th>\n",
       "    </tr>\n",
       "  </thead>\n",
       "  <tbody>\n",
       "    <tr>\n",
       "      <th>0</th>\n",
       "      <td>UK</td>\n",
       "      <td>Alice</td>\n",
       "    </tr>\n",
       "    <tr>\n",
       "      <th>1</th>\n",
       "      <td>日本</td>\n",
       "      <td>しのぶ</td>\n",
       "    </tr>\n",
       "  </tbody>\n",
       "</table>\n",
       "</div>"
      ],
      "text/plain": [
       "   国籍     名前\n",
       "0  UK  Alice\n",
       "1  日本    しのぶ"
      ]
     },
     "execution_count": 5,
     "metadata": {},
     "output_type": "execute_result"
    }
   ],
   "source": [
    "df = pd.DataFrame({\"国籍\": [\"UK\", \"日本\"], \"名前\": [\"Alice\", \"しのぶ\"]})\n",
    "df"
   ]
  },
  {
   "cell_type": "code",
   "execution_count": 6,
   "id": "5f518d12",
   "metadata": {},
   "outputs": [
    {
     "data": {
      "text/html": [
       "<div>\n",
       "<style scoped>\n",
       "    .dataframe tbody tr th:only-of-type {\n",
       "        vertical-align: middle;\n",
       "    }\n",
       "\n",
       "    .dataframe tbody tr th {\n",
       "        vertical-align: top;\n",
       "    }\n",
       "\n",
       "    .dataframe thead th {\n",
       "        text-align: right;\n",
       "    }\n",
       "</style>\n",
       "<table border=\"1\" class=\"dataframe\">\n",
       "  <thead>\n",
       "    <tr style=\"text-align: right;\">\n",
       "      <th></th>\n",
       "      <th>国籍</th>\n",
       "      <th>名前</th>\n",
       "    </tr>\n",
       "  </thead>\n",
       "  <tbody>\n",
       "    <tr>\n",
       "      <th>0</th>\n",
       "      <td>UK</td>\n",
       "      <td>Alice</td>\n",
       "    </tr>\n",
       "    <tr>\n",
       "      <th>1</th>\n",
       "      <td>日本</td>\n",
       "      <td>しのぶ</td>\n",
       "    </tr>\n",
       "  </tbody>\n",
       "</table>\n",
       "</div>"
      ],
      "text/plain": [
       "   国籍     名前\n",
       "0  UK  Alice\n",
       "1  日本    しのぶ"
      ]
     },
     "execution_count": 6,
     "metadata": {},
     "output_type": "execute_result"
    }
   ],
   "source": [
    "df = pd.DataFrame({u\"国籍\": [\"UK\", u\"日本\"], u\"名前\": [\"Alice\", u\"しのぶ\"]})\n",
    "df"
   ]
  },
  {
   "cell_type": "code",
   "execution_count": 8,
   "id": "dc96d323",
   "metadata": {},
   "outputs": [],
   "source": [
    "dff = pro.fina_indicator(ts_code='601868.SH', start_date='20170101', end_date='20211015',\n",
    "                         fields='ts_code, ann_date, end_date, extra_item, profit_dedt, netprofit_yoy, update_flag')"
   ]
  },
  {
   "cell_type": "code",
   "execution_count": 9,
   "id": "72b793c5",
   "metadata": {},
   "outputs": [
    {
     "data": {
      "text/html": [
       "<div>\n",
       "<style scoped>\n",
       "    .dataframe tbody tr th:only-of-type {\n",
       "        vertical-align: middle;\n",
       "    }\n",
       "\n",
       "    .dataframe tbody tr th {\n",
       "        vertical-align: top;\n",
       "    }\n",
       "\n",
       "    .dataframe thead th {\n",
       "        text-align: right;\n",
       "    }\n",
       "</style>\n",
       "<table border=\"1\" class=\"dataframe\">\n",
       "  <thead>\n",
       "    <tr style=\"text-align: right;\">\n",
       "      <th></th>\n",
       "      <th>ts_code</th>\n",
       "      <th>ann_date</th>\n",
       "      <th>end_date</th>\n",
       "      <th>extra_item</th>\n",
       "      <th>profit_dedt</th>\n",
       "      <th>netprofit_yoy</th>\n",
       "      <th>update_flag</th>\n",
       "    </tr>\n",
       "  </thead>\n",
       "  <tbody>\n",
       "    <tr>\n",
       "      <th>0</th>\n",
       "      <td>601868.SH</td>\n",
       "      <td>20210831</td>\n",
       "      <td>20210630</td>\n",
       "      <td>None</td>\n",
       "      <td>None</td>\n",
       "      <td>165.7351</td>\n",
       "      <td>0</td>\n",
       "    </tr>\n",
       "    <tr>\n",
       "      <th>1</th>\n",
       "      <td>601868.SH</td>\n",
       "      <td>20210429</td>\n",
       "      <td>20210331</td>\n",
       "      <td>None</td>\n",
       "      <td>None</td>\n",
       "      <td>374.7483</td>\n",
       "      <td>0</td>\n",
       "    </tr>\n",
       "    <tr>\n",
       "      <th>2</th>\n",
       "      <td>601868.SH</td>\n",
       "      <td>20210429</td>\n",
       "      <td>20201231</td>\n",
       "      <td>None</td>\n",
       "      <td>None</td>\n",
       "      <td>-8.6397</td>\n",
       "      <td>0</td>\n",
       "    </tr>\n",
       "    <tr>\n",
       "      <th>3</th>\n",
       "      <td>601868.SH</td>\n",
       "      <td>20201028</td>\n",
       "      <td>20200930</td>\n",
       "      <td>None</td>\n",
       "      <td>None</td>\n",
       "      <td>-37.6304</td>\n",
       "      <td>0</td>\n",
       "    </tr>\n",
       "    <tr>\n",
       "      <th>4</th>\n",
       "      <td>601868.SH</td>\n",
       "      <td>20200831</td>\n",
       "      <td>20200630</td>\n",
       "      <td>None</td>\n",
       "      <td>None</td>\n",
       "      <td>-59.8587</td>\n",
       "      <td>0</td>\n",
       "    </tr>\n",
       "    <tr>\n",
       "      <th>5</th>\n",
       "      <td>601868.SH</td>\n",
       "      <td>20200430</td>\n",
       "      <td>20200331</td>\n",
       "      <td>None</td>\n",
       "      <td>None</td>\n",
       "      <td>-142.1021</td>\n",
       "      <td>0</td>\n",
       "    </tr>\n",
       "    <tr>\n",
       "      <th>6</th>\n",
       "      <td>601868.SH</td>\n",
       "      <td>20200430</td>\n",
       "      <td>20191231</td>\n",
       "      <td>None</td>\n",
       "      <td>None</td>\n",
       "      <td>8.7134</td>\n",
       "      <td>0</td>\n",
       "    </tr>\n",
       "    <tr>\n",
       "      <th>7</th>\n",
       "      <td>601868.SH</td>\n",
       "      <td>20191030</td>\n",
       "      <td>20190930</td>\n",
       "      <td>None</td>\n",
       "      <td>None</td>\n",
       "      <td>-3.3230</td>\n",
       "      <td>0</td>\n",
       "    </tr>\n",
       "    <tr>\n",
       "      <th>8</th>\n",
       "      <td>601868.SH</td>\n",
       "      <td>20190830</td>\n",
       "      <td>20190630</td>\n",
       "      <td>None</td>\n",
       "      <td>None</td>\n",
       "      <td>-2.0470</td>\n",
       "      <td>0</td>\n",
       "    </tr>\n",
       "    <tr>\n",
       "      <th>9</th>\n",
       "      <td>601868.SH</td>\n",
       "      <td>20190429</td>\n",
       "      <td>20190331</td>\n",
       "      <td>None</td>\n",
       "      <td>None</td>\n",
       "      <td>4.3759</td>\n",
       "      <td>0</td>\n",
       "    </tr>\n",
       "    <tr>\n",
       "      <th>10</th>\n",
       "      <td>601868.SH</td>\n",
       "      <td>20190426</td>\n",
       "      <td>20181231</td>\n",
       "      <td>None</td>\n",
       "      <td>None</td>\n",
       "      <td>-9.5722</td>\n",
       "      <td>0</td>\n",
       "    </tr>\n",
       "    <tr>\n",
       "      <th>11</th>\n",
       "      <td>601868.SH</td>\n",
       "      <td>20181030</td>\n",
       "      <td>20180930</td>\n",
       "      <td>None</td>\n",
       "      <td>None</td>\n",
       "      <td>-3.0747</td>\n",
       "      <td>0</td>\n",
       "    </tr>\n",
       "    <tr>\n",
       "      <th>12</th>\n",
       "      <td>601868.SH</td>\n",
       "      <td>20180831</td>\n",
       "      <td>20180630</td>\n",
       "      <td>None</td>\n",
       "      <td>None</td>\n",
       "      <td>2.6740</td>\n",
       "      <td>0</td>\n",
       "    </tr>\n",
       "    <tr>\n",
       "      <th>13</th>\n",
       "      <td>601868.SH</td>\n",
       "      <td>20180430</td>\n",
       "      <td>20180331</td>\n",
       "      <td>None</td>\n",
       "      <td>None</td>\n",
       "      <td>-1.0601</td>\n",
       "      <td>0</td>\n",
       "    </tr>\n",
       "    <tr>\n",
       "      <th>14</th>\n",
       "      <td>601868.SH</td>\n",
       "      <td>20180508</td>\n",
       "      <td>20171231</td>\n",
       "      <td>None</td>\n",
       "      <td>None</td>\n",
       "      <td>21.9881</td>\n",
       "      <td>0</td>\n",
       "    </tr>\n",
       "    <tr>\n",
       "      <th>15</th>\n",
       "      <td>601868.SH</td>\n",
       "      <td>20171101</td>\n",
       "      <td>20170930</td>\n",
       "      <td>None</td>\n",
       "      <td>None</td>\n",
       "      <td>9.6200</td>\n",
       "      <td>0</td>\n",
       "    </tr>\n",
       "    <tr>\n",
       "      <th>16</th>\n",
       "      <td>601868.SH</td>\n",
       "      <td>20180831</td>\n",
       "      <td>20170630</td>\n",
       "      <td>None</td>\n",
       "      <td>None</td>\n",
       "      <td>-0.7323</td>\n",
       "      <td>0</td>\n",
       "    </tr>\n",
       "    <tr>\n",
       "      <th>17</th>\n",
       "      <td>601868.SH</td>\n",
       "      <td>20170429</td>\n",
       "      <td>20170331</td>\n",
       "      <td>None</td>\n",
       "      <td>None</td>\n",
       "      <td>14.1866</td>\n",
       "      <td>0</td>\n",
       "    </tr>\n",
       "  </tbody>\n",
       "</table>\n",
       "</div>"
      ],
      "text/plain": [
       "      ts_code  ann_date  end_date extra_item profit_dedt  netprofit_yoy  \\\n",
       "0   601868.SH  20210831  20210630       None        None       165.7351   \n",
       "1   601868.SH  20210429  20210331       None        None       374.7483   \n",
       "2   601868.SH  20210429  20201231       None        None        -8.6397   \n",
       "3   601868.SH  20201028  20200930       None        None       -37.6304   \n",
       "4   601868.SH  20200831  20200630       None        None       -59.8587   \n",
       "5   601868.SH  20200430  20200331       None        None      -142.1021   \n",
       "6   601868.SH  20200430  20191231       None        None         8.7134   \n",
       "7   601868.SH  20191030  20190930       None        None        -3.3230   \n",
       "8   601868.SH  20190830  20190630       None        None        -2.0470   \n",
       "9   601868.SH  20190429  20190331       None        None         4.3759   \n",
       "10  601868.SH  20190426  20181231       None        None        -9.5722   \n",
       "11  601868.SH  20181030  20180930       None        None        -3.0747   \n",
       "12  601868.SH  20180831  20180630       None        None         2.6740   \n",
       "13  601868.SH  20180430  20180331       None        None        -1.0601   \n",
       "14  601868.SH  20180508  20171231       None        None        21.9881   \n",
       "15  601868.SH  20171101  20170930       None        None         9.6200   \n",
       "16  601868.SH  20180831  20170630       None        None        -0.7323   \n",
       "17  601868.SH  20170429  20170331       None        None        14.1866   \n",
       "\n",
       "   update_flag  \n",
       "0            0  \n",
       "1            0  \n",
       "2            0  \n",
       "3            0  \n",
       "4            0  \n",
       "5            0  \n",
       "6            0  \n",
       "7            0  \n",
       "8            0  \n",
       "9            0  \n",
       "10           0  \n",
       "11           0  \n",
       "12           0  \n",
       "13           0  \n",
       "14           0  \n",
       "15           0  \n",
       "16           0  \n",
       "17           0  "
      ]
     },
     "execution_count": 9,
     "metadata": {},
     "output_type": "execute_result"
    }
   ],
   "source": [
    "dff"
   ]
  },
  {
   "cell_type": "code",
   "execution_count": 10,
   "id": "dfcba927",
   "metadata": {},
   "outputs": [
    {
     "data": {
      "text/html": [
       "<div>\n",
       "<style scoped>\n",
       "    .dataframe tbody tr th:only-of-type {\n",
       "        vertical-align: middle;\n",
       "    }\n",
       "\n",
       "    .dataframe tbody tr th {\n",
       "        vertical-align: top;\n",
       "    }\n",
       "\n",
       "    .dataframe thead th {\n",
       "        text-align: right;\n",
       "    }\n",
       "</style>\n",
       "<table border=\"1\" class=\"dataframe\">\n",
       "  <thead>\n",
       "    <tr style=\"text-align: right;\">\n",
       "      <th></th>\n",
       "      <th>ts_code</th>\n",
       "      <th>ann_date</th>\n",
       "      <th>end_date</th>\n",
       "      <th>extra_item</th>\n",
       "      <th>profit_dedt</th>\n",
       "      <th>netprofit_yoy</th>\n",
       "      <th>update_flag</th>\n",
       "    </tr>\n",
       "  </thead>\n",
       "  <tbody>\n",
       "    <tr>\n",
       "      <th>0</th>\n",
       "      <td>601868.SH</td>\n",
       "      <td>20210831</td>\n",
       "      <td>20210630</td>\n",
       "      <td>None</td>\n",
       "      <td>None</td>\n",
       "      <td>165.7351</td>\n",
       "      <td>0</td>\n",
       "    </tr>\n",
       "    <tr>\n",
       "      <th>2</th>\n",
       "      <td>601868.SH</td>\n",
       "      <td>20210429</td>\n",
       "      <td>20201231</td>\n",
       "      <td>None</td>\n",
       "      <td>None</td>\n",
       "      <td>-8.6397</td>\n",
       "      <td>0</td>\n",
       "    </tr>\n",
       "    <tr>\n",
       "      <th>6</th>\n",
       "      <td>601868.SH</td>\n",
       "      <td>20200430</td>\n",
       "      <td>20191231</td>\n",
       "      <td>None</td>\n",
       "      <td>None</td>\n",
       "      <td>8.7134</td>\n",
       "      <td>0</td>\n",
       "    </tr>\n",
       "    <tr>\n",
       "      <th>10</th>\n",
       "      <td>601868.SH</td>\n",
       "      <td>20190426</td>\n",
       "      <td>20181231</td>\n",
       "      <td>None</td>\n",
       "      <td>None</td>\n",
       "      <td>-9.5722</td>\n",
       "      <td>0</td>\n",
       "    </tr>\n",
       "    <tr>\n",
       "      <th>14</th>\n",
       "      <td>601868.SH</td>\n",
       "      <td>20180508</td>\n",
       "      <td>20171231</td>\n",
       "      <td>None</td>\n",
       "      <td>None</td>\n",
       "      <td>21.9881</td>\n",
       "      <td>0</td>\n",
       "    </tr>\n",
       "  </tbody>\n",
       "</table>\n",
       "</div>"
      ],
      "text/plain": [
       "      ts_code  ann_date  end_date extra_item profit_dedt  netprofit_yoy  \\\n",
       "0   601868.SH  20210831  20210630       None        None       165.7351   \n",
       "2   601868.SH  20210429  20201231       None        None        -8.6397   \n",
       "6   601868.SH  20200430  20191231       None        None         8.7134   \n",
       "10  601868.SH  20190426  20181231       None        None        -9.5722   \n",
       "14  601868.SH  20180508  20171231       None        None        21.9881   \n",
       "\n",
       "   update_flag  \n",
       "0            0  \n",
       "2            0  \n",
       "6            0  \n",
       "10           0  \n",
       "14           0  "
      ]
     },
     "execution_count": 10,
     "metadata": {},
     "output_type": "execute_result"
    }
   ],
   "source": [
    "dff_year = dff[dff['end_date'].isin(['20171231', '20181231', '20191231', '20201231', '20210630'])]\n",
    "dff_year"
   ]
  },
  {
   "cell_type": "code",
   "execution_count": 11,
   "id": "35b23709",
   "metadata": {},
   "outputs": [
    {
     "data": {
      "text/html": [
       "<div>\n",
       "<style scoped>\n",
       "    .dataframe tbody tr th:only-of-type {\n",
       "        vertical-align: middle;\n",
       "    }\n",
       "\n",
       "    .dataframe tbody tr th {\n",
       "        vertical-align: top;\n",
       "    }\n",
       "\n",
       "    .dataframe thead th {\n",
       "        text-align: right;\n",
       "    }\n",
       "</style>\n",
       "<table border=\"1\" class=\"dataframe\">\n",
       "  <thead>\n",
       "    <tr style=\"text-align: right;\">\n",
       "      <th></th>\n",
       "      <th>ts_code</th>\n",
       "      <th>ann_date</th>\n",
       "      <th>end_date</th>\n",
       "      <th>extra_item</th>\n",
       "      <th>profit_dedt</th>\n",
       "      <th>netprofit_yoy</th>\n",
       "      <th>update_flag</th>\n",
       "    </tr>\n",
       "  </thead>\n",
       "  <tbody>\n",
       "    <tr>\n",
       "      <th>0</th>\n",
       "      <td>601868.SH</td>\n",
       "      <td>20210831</td>\n",
       "      <td>20210630</td>\n",
       "      <td>None</td>\n",
       "      <td>None</td>\n",
       "      <td>165.7351</td>\n",
       "      <td>0</td>\n",
       "    </tr>\n",
       "    <tr>\n",
       "      <th>2</th>\n",
       "      <td>601868.SH</td>\n",
       "      <td>20210429</td>\n",
       "      <td>20201231</td>\n",
       "      <td>None</td>\n",
       "      <td>None</td>\n",
       "      <td>-8.6397</td>\n",
       "      <td>0</td>\n",
       "    </tr>\n",
       "    <tr>\n",
       "      <th>6</th>\n",
       "      <td>601868.SH</td>\n",
       "      <td>20200430</td>\n",
       "      <td>20191231</td>\n",
       "      <td>None</td>\n",
       "      <td>None</td>\n",
       "      <td>8.7134</td>\n",
       "      <td>0</td>\n",
       "    </tr>\n",
       "    <tr>\n",
       "      <th>10</th>\n",
       "      <td>601868.SH</td>\n",
       "      <td>20190426</td>\n",
       "      <td>20181231</td>\n",
       "      <td>None</td>\n",
       "      <td>None</td>\n",
       "      <td>-9.5722</td>\n",
       "      <td>0</td>\n",
       "    </tr>\n",
       "    <tr>\n",
       "      <th>14</th>\n",
       "      <td>601868.SH</td>\n",
       "      <td>20180508</td>\n",
       "      <td>20171231</td>\n",
       "      <td>None</td>\n",
       "      <td>None</td>\n",
       "      <td>21.9881</td>\n",
       "      <td>0</td>\n",
       "    </tr>\n",
       "  </tbody>\n",
       "</table>\n",
       "</div>"
      ],
      "text/plain": [
       "      ts_code  ann_date  end_date extra_item profit_dedt  netprofit_yoy  \\\n",
       "0   601868.SH  20210831  20210630       None        None       165.7351   \n",
       "2   601868.SH  20210429  20201231       None        None        -8.6397   \n",
       "6   601868.SH  20200430  20191231       None        None         8.7134   \n",
       "10  601868.SH  20190426  20181231       None        None        -9.5722   \n",
       "14  601868.SH  20180508  20171231       None        None        21.9881   \n",
       "\n",
       "   update_flag  \n",
       "0            0  \n",
       "2            0  \n",
       "6            0  \n",
       "10           0  \n",
       "14           0  "
      ]
     },
     "execution_count": 11,
     "metadata": {},
     "output_type": "execute_result"
    }
   ],
   "source": [
    "dff_year_sort = dff_year.sort_values(by=['end_date', 'update_flag', 'ann_date'],\n",
    "                                     ascending=[False, False, False]).drop_duplicates(subset=['end_date'])\n",
    "dff_year_sort"
   ]
  },
  {
   "cell_type": "code",
   "execution_count": 13,
   "id": "1236cca2",
   "metadata": {},
   "outputs": [
    {
     "name": "stdout",
     "output_type": "stream",
     "text": [
      "extra_item is None\n"
     ]
    }
   ],
   "source": [
    "if dff_year_sort.extra_item[0] == None:\n",
    "    print('extra_item is None')"
   ]
  },
  {
   "cell_type": "code",
   "execution_count": 15,
   "id": "acfb20d0",
   "metadata": {},
   "outputs": [
    {
     "name": "stdout",
     "output_type": "stream",
     "text": [
      "None\n"
     ]
    }
   ],
   "source": [
    "print(dff_year_sort.extra_item[0])"
   ]
  },
  {
   "cell_type": "code",
   "execution_count": 16,
   "id": "cc5dc5f8",
   "metadata": {},
   "outputs": [
    {
     "name": "stdout",
     "output_type": "stream",
     "text": [
      "0\n",
      "1\n",
      "2\n",
      "4\n"
     ]
    }
   ],
   "source": [
    "for i in range(5):\n",
    "    if i == 3:\n",
    "        continue\n",
    "    print(i)"
   ]
  },
  {
   "cell_type": "code",
   "execution_count": 18,
   "id": "217e1225",
   "metadata": {},
   "outputs": [
    {
     "data": {
      "text/html": [
       "<div>\n",
       "<style scoped>\n",
       "    .dataframe tbody tr th:only-of-type {\n",
       "        vertical-align: middle;\n",
       "    }\n",
       "\n",
       "    .dataframe tbody tr th {\n",
       "        vertical-align: top;\n",
       "    }\n",
       "\n",
       "    .dataframe thead th {\n",
       "        text-align: right;\n",
       "    }\n",
       "</style>\n",
       "<table border=\"1\" class=\"dataframe\">\n",
       "  <thead>\n",
       "    <tr style=\"text-align: right;\">\n",
       "      <th></th>\n",
       "      <th>ts_code</th>\n",
       "      <th>ann_date</th>\n",
       "      <th>end_date</th>\n",
       "      <th>extra_item</th>\n",
       "      <th>profit_dedt</th>\n",
       "      <th>netprofit_yoy</th>\n",
       "      <th>update_flag</th>\n",
       "    </tr>\n",
       "  </thead>\n",
       "  <tbody>\n",
       "    <tr>\n",
       "      <th>2</th>\n",
       "      <td>000708.SZ</td>\n",
       "      <td>20210817</td>\n",
       "      <td>20210630</td>\n",
       "      <td>4.583529e+07</td>\n",
       "      <td>4.141736e+09</td>\n",
       "      <td>52.2885</td>\n",
       "      <td>1</td>\n",
       "    </tr>\n",
       "    <tr>\n",
       "      <th>6</th>\n",
       "      <td>000708.SZ</td>\n",
       "      <td>20210302</td>\n",
       "      <td>20201231</td>\n",
       "      <td>1.812660e+08</td>\n",
       "      <td>5.843224e+09</td>\n",
       "      <td>11.8448</td>\n",
       "      <td>1</td>\n",
       "    </tr>\n",
       "    <tr>\n",
       "      <th>11</th>\n",
       "      <td>000708.SZ</td>\n",
       "      <td>20200306</td>\n",
       "      <td>20191231</td>\n",
       "      <td>1.749607e+08</td>\n",
       "      <td>5.211511e+09</td>\n",
       "      <td>50.4484</td>\n",
       "      <td>1</td>\n",
       "    </tr>\n",
       "    <tr>\n",
       "      <th>15</th>\n",
       "      <td>000708.SZ</td>\n",
       "      <td>20190227</td>\n",
       "      <td>20181231</td>\n",
       "      <td>-9.405551e+06</td>\n",
       "      <td>5.195840e+08</td>\n",
       "      <td>29.1916</td>\n",
       "      <td>1</td>\n",
       "    </tr>\n",
       "    <tr>\n",
       "      <th>19</th>\n",
       "      <td>000708.SZ</td>\n",
       "      <td>20180308</td>\n",
       "      <td>20171231</td>\n",
       "      <td>-3.886807e+07</td>\n",
       "      <td>4.337688e+08</td>\n",
       "      <td>34.9255</td>\n",
       "      <td>1</td>\n",
       "    </tr>\n",
       "  </tbody>\n",
       "</table>\n",
       "</div>"
      ],
      "text/plain": [
       "      ts_code  ann_date  end_date    extra_item   profit_dedt  netprofit_yoy  \\\n",
       "2   000708.SZ  20210817  20210630  4.583529e+07  4.141736e+09        52.2885   \n",
       "6   000708.SZ  20210302  20201231  1.812660e+08  5.843224e+09        11.8448   \n",
       "11  000708.SZ  20200306  20191231  1.749607e+08  5.211511e+09        50.4484   \n",
       "15  000708.SZ  20190227  20181231 -9.405551e+06  5.195840e+08        29.1916   \n",
       "19  000708.SZ  20180308  20171231 -3.886807e+07  4.337688e+08        34.9255   \n",
       "\n",
       "   update_flag  \n",
       "2            1  \n",
       "6            1  \n",
       "11           1  \n",
       "15           1  \n",
       "19           1  "
      ]
     },
     "execution_count": 18,
     "metadata": {},
     "output_type": "execute_result"
    }
   ],
   "source": [
    "dff = pro.fina_indicator(ts_code='000708.SZ', start_date='20170101', end_date='20211015',\n",
    "                         fields='ts_code, ann_date, end_date, extra_item, profit_dedt, netprofit_yoy, update_flag')\n",
    "dff_year = dff[dff['end_date'].isin(['20171231', '20181231', '20191231', '20201231', '20210630'])]\n",
    "dff_year_sort = dff_year.sort_values(by=['end_date', 'update_flag', 'ann_date'],\n",
    "                                     ascending=[False, False, False]).drop_duplicates(subset=['end_date'])\n",
    "dff_year_sort"
   ]
  },
  {
   "cell_type": "code",
   "execution_count": 20,
   "id": "690d6018",
   "metadata": {},
   "outputs": [
    {
     "data": {
      "text/plain": [
       "2     4.583529e+07\n",
       "6     1.812660e+08\n",
       "11    1.749607e+08\n",
       "15   -9.405551e+06\n",
       "19   -3.886807e+07\n",
       "Name: extra_item, dtype: float64"
      ]
     },
     "execution_count": 20,
     "metadata": {},
     "output_type": "execute_result"
    }
   ],
   "source": [
    "dff_year_sort.extra_item"
   ]
  },
  {
   "cell_type": "code",
   "execution_count": 21,
   "id": "daa10119",
   "metadata": {},
   "outputs": [
    {
     "data": {
      "text/plain": [
       "45835293.53"
      ]
     },
     "execution_count": 21,
     "metadata": {},
     "output_type": "execute_result"
    }
   ],
   "source": [
    "dff_year_sort.extra_item.iloc[0]"
   ]
  },
  {
   "cell_type": "code",
   "execution_count": 22,
   "id": "8414f2dc",
   "metadata": {},
   "outputs": [
    {
     "data": {
      "text/plain": [
       "module"
      ]
     },
     "execution_count": 22,
     "metadata": {},
     "output_type": "execute_result"
    }
   ],
   "source": [
    "type(pd)"
   ]
  },
  {
   "cell_type": "code",
   "execution_count": 47,
   "id": "bdbc158a",
   "metadata": {},
   "outputs": [
    {
     "name": "stdout",
     "output_type": "stream",
     "text": [
      "<html>\n",
      " <body>\n",
      "  <div bdsfid=\"72\" class=\"answer_2AM9f\">\n",
      "   动词加ed的读音主要有三种：\n",
      "   <br bdsfid=\"73\"/>\n",
      "   以清辅音结尾的读t,如worked\n",
      "   <br bdsfid=\"74\"/>\n",
      "   以浊辅音结尾的读d,如rained.\n",
      "   <br bdsfid=\"75\"/>\n",
      "   以t和d结尾的读id.如needed.\n",
      "  </div>\n",
      " </body>\n",
      "</html>\n"
     ]
    }
   ],
   "source": [
    "from bs4 import BeautifulSoup\n",
    "\n",
    "\n",
    "soup = BeautifulSoup('<div bdsfid=\"72\" class=\"answer_2AM9f\">动词加ed的读音主要有三种：<br bdsfid=\"73\">以清辅音结尾的读t,如worked<br bdsfid=\"74\">以浊辅音结尾的读d,如rained.<br bdsfid=\"75\">以t和d结尾的读id.如needed.</div>')\n",
    "print(soup.prettify())"
   ]
  },
  {
   "cell_type": "code",
   "execution_count": 48,
   "id": "dfa65e1a",
   "metadata": {},
   "outputs": [
    {
     "name": "stdout",
     "output_type": "stream",
     "text": [
      "动词加ed的读音主要有三种：以清辅音结尾的读t,如worked以浊辅音结尾的读d,如rained.以t和d结尾的读id.如needed.\n"
     ]
    }
   ],
   "source": [
    "print(soup.get_text())"
   ]
  },
  {
   "cell_type": "markdown",
   "id": "32c845c2",
   "metadata": {},
   "source": [
    "# Beautiful Soup 4 练习"
   ]
  },
  {
   "cell_type": "code",
   "execution_count": 26,
   "id": "1096d6d9",
   "metadata": {},
   "outputs": [],
   "source": [
    "html_doc = \"\"\"\n",
    "<html><head><title>The Dormouse's story</title></head>\n",
    "<body>\n",
    "<p class=\"title\"><b>The Dormouse's story</b></p>\n",
    "\n",
    "<p class=\"story\">Once upon a time there were three little sisters; and their names were\n",
    "<a href=\"http://example.com/elsie\" class=\"sister\" id=\"link1\">Elsie</a>,\n",
    "<a href=\"http://example.com/lacie\" class=\"sister\" id=\"link2\">Lacie</a> and\n",
    "<a href=\"http://example.com/tillie\" class=\"sister\" id=\"link3\">Tillie</a>;\n",
    "and they lived at the bottom of a well.</p>\n",
    "\n",
    "<p class=\"story\">...</p>\n",
    "\"\"\""
   ]
  },
  {
   "cell_type": "code",
   "execution_count": 51,
   "id": "5d6d5c2c",
   "metadata": {},
   "outputs": [
    {
     "name": "stdout",
     "output_type": "stream",
     "text": [
      "<html>\n",
      " <head>\n",
      "  <title>\n",
      "   The Dormouse's story\n",
      "  </title>\n",
      " </head>\n",
      " <body>\n",
      "  <p class=\"title\">\n",
      "   <b>\n",
      "    The Dormouse's story\n",
      "   </b>\n",
      "  </p>\n",
      "  <p class=\"story\">\n",
      "   Once upon a time there were three little sisters; and their names were\n",
      "   <a class=\"sister\" href=\"http://example.com/elsie\" id=\"link1\">\n",
      "    Elsie\n",
      "   </a>\n",
      "   ,\n",
      "   <a class=\"sister\" href=\"http://example.com/lacie\" id=\"link2\">\n",
      "    Lacie\n",
      "   </a>\n",
      "   and\n",
      "   <a class=\"sister\" href=\"http://example.com/tillie\" id=\"link3\">\n",
      "    Tillie\n",
      "   </a>\n",
      "   ;\n",
      "and they lived at the bottom of a well.\n",
      "  </p>\n",
      "  <p class=\"story\">\n",
      "   ...\n",
      "  </p>\n",
      " </body>\n",
      "</html>\n"
     ]
    }
   ],
   "source": [
    "from bs4 import BeautifulSoup\n",
    "soup = BeautifulSoup(html_doc, 'html.parser')\n",
    "\n",
    "print(soup.prettify())"
   ]
  },
  {
   "cell_type": "code",
   "execution_count": 52,
   "id": "ba5ba9b7",
   "metadata": {},
   "outputs": [
    {
     "data": {
      "text/plain": [
       "<title>The Dormouse's story</title>"
      ]
     },
     "execution_count": 52,
     "metadata": {},
     "output_type": "execute_result"
    }
   ],
   "source": [
    "soup.title"
   ]
  },
  {
   "cell_type": "code",
   "execution_count": 53,
   "id": "218a3c1b",
   "metadata": {},
   "outputs": [
    {
     "data": {
      "text/plain": [
       "'title'"
      ]
     },
     "execution_count": 53,
     "metadata": {},
     "output_type": "execute_result"
    }
   ],
   "source": [
    "soup.title.name"
   ]
  },
  {
   "cell_type": "code",
   "execution_count": 54,
   "id": "e8d37fbe",
   "metadata": {},
   "outputs": [
    {
     "data": {
      "text/plain": [
       "\"The Dormouse's story\""
      ]
     },
     "execution_count": 54,
     "metadata": {},
     "output_type": "execute_result"
    }
   ],
   "source": [
    "soup.title.string"
   ]
  },
  {
   "cell_type": "code",
   "execution_count": 55,
   "id": "c28bf3a0",
   "metadata": {},
   "outputs": [
    {
     "data": {
      "text/plain": [
       "'head'"
      ]
     },
     "execution_count": 55,
     "metadata": {},
     "output_type": "execute_result"
    }
   ],
   "source": [
    "soup.title.parent.name"
   ]
  },
  {
   "cell_type": "code",
   "execution_count": 56,
   "id": "d5403500",
   "metadata": {},
   "outputs": [
    {
     "data": {
      "text/plain": [
       "<p class=\"title\"><b>The Dormouse's story</b></p>"
      ]
     },
     "execution_count": 56,
     "metadata": {},
     "output_type": "execute_result"
    }
   ],
   "source": [
    "soup.p"
   ]
  },
  {
   "cell_type": "code",
   "execution_count": 57,
   "id": "94d5e16e",
   "metadata": {},
   "outputs": [
    {
     "data": {
      "text/plain": [
       "['title']"
      ]
     },
     "execution_count": 57,
     "metadata": {},
     "output_type": "execute_result"
    }
   ],
   "source": [
    "soup.p['class']"
   ]
  },
  {
   "cell_type": "code",
   "execution_count": 58,
   "id": "e9a7046e",
   "metadata": {},
   "outputs": [
    {
     "data": {
      "text/plain": [
       "<a class=\"sister\" href=\"http://example.com/elsie\" id=\"link1\">Elsie</a>"
      ]
     },
     "execution_count": 58,
     "metadata": {},
     "output_type": "execute_result"
    }
   ],
   "source": [
    "soup.a"
   ]
  },
  {
   "cell_type": "code",
   "execution_count": 59,
   "id": "081631ef",
   "metadata": {},
   "outputs": [
    {
     "data": {
      "text/plain": [
       "[<a class=\"sister\" href=\"http://example.com/elsie\" id=\"link1\">Elsie</a>,\n",
       " <a class=\"sister\" href=\"http://example.com/lacie\" id=\"link2\">Lacie</a>,\n",
       " <a class=\"sister\" href=\"http://example.com/tillie\" id=\"link3\">Tillie</a>]"
      ]
     },
     "execution_count": 59,
     "metadata": {},
     "output_type": "execute_result"
    }
   ],
   "source": [
    "soup.find_all('a')"
   ]
  },
  {
   "cell_type": "markdown",
   "id": "45ffdf8d",
   "metadata": {},
   "source": [
    "soup.tag 返回的是bs找到的第一个标签\n",
    "soup.find_all('tag') 返回所有bs找到的 tag 标签"
   ]
  },
  {
   "cell_type": "code",
   "execution_count": 60,
   "id": "ff1693c6",
   "metadata": {},
   "outputs": [
    {
     "data": {
      "text/plain": [
       "<a class=\"sister\" href=\"http://example.com/tillie\" id=\"link3\">Tillie</a>"
      ]
     },
     "execution_count": 60,
     "metadata": {},
     "output_type": "execute_result"
    }
   ],
   "source": [
    "soup.find(id=\"link3\")"
   ]
  },
  {
   "cell_type": "code",
   "execution_count": 61,
   "id": "45c9474e",
   "metadata": {},
   "outputs": [
    {
     "name": "stdout",
     "output_type": "stream",
     "text": [
      "<a class=\"sister\" href=\"http://example.com/elsie\" id=\"link1\">Elsie</a>\n",
      "<a class=\"sister\" href=\"http://example.com/lacie\" id=\"link2\">Lacie</a>\n",
      "<a class=\"sister\" href=\"http://example.com/tillie\" id=\"link3\">Tillie</a>\n"
     ]
    }
   ],
   "source": [
    "for link in soup.find_all('a'):\n",
    "    print(link)"
   ]
  },
  {
   "cell_type": "code",
   "execution_count": 62,
   "id": "0da79e26",
   "metadata": {},
   "outputs": [
    {
     "name": "stdout",
     "output_type": "stream",
     "text": [
      "http://example.com/elsie\n",
      "http://example.com/lacie\n",
      "http://example.com/tillie\n"
     ]
    }
   ],
   "source": [
    "for link in soup.find_all('a'):\n",
    "    print(link.get('href'))"
   ]
  },
  {
   "cell_type": "code",
   "execution_count": 63,
   "id": "d5870f4b",
   "metadata": {},
   "outputs": [
    {
     "name": "stdout",
     "output_type": "stream",
     "text": [
      "\n",
      "The Dormouse's story\n",
      "\n",
      "The Dormouse's story\n",
      "Once upon a time there were three little sisters; and their names were\n",
      "Elsie,\n",
      "Lacie and\n",
      "Tillie;\n",
      "and they lived at the bottom of a well.\n",
      "...\n",
      "\n"
     ]
    }
   ],
   "source": [
    "# 从文档中获取所有文字内容\n",
    "\n",
    "print(soup.get_text())"
   ]
  },
  {
   "cell_type": "code",
   "execution_count": 7,
   "id": "23cc1b18",
   "metadata": {},
   "outputs": [
    {
     "name": "stdout",
     "output_type": "stream",
     "text": [
      "<class 'Exception'>\n",
      "Error tokenizing data. C error: Expected 1 fields in line 8, saw 27\n",
      "\n"
     ]
    }
   ],
   "source": [
    "import pandas as pd\n",
    "try:\n",
    "    df = pd.read_csv(\"~/Documents/origindata/US1 2020JanMonthlyTransaction.csv\")\n",
    "except Exception as e:\n",
    "    print(Exception)\n",
    "    print(e)"
   ]
  },
  {
   "cell_type": "code",
   "execution_count": 10,
   "id": "467b15cb",
   "metadata": {},
   "outputs": [
    {
     "name": "stdout",
     "output_type": "stream",
     "text": [
      "(<class 'pandas.errors.ParserError'>, ParserError('Error tokenizing data. C error: Expected 1 fields in line 8, saw 27\\n'), <traceback object at 0x7fded4a2e780>)\n",
      "Error tokenizing data. C error: Expected 1 fields in line 8, saw 27\n",
      "\n",
      "['__cause__', '__class__', '__context__', '__delattr__', '__dict__', '__dir__', '__doc__', '__eq__', '__format__', '__ge__', '__getattribute__', '__gt__', '__hash__', '__init__', '__init_subclass__', '__le__', '__lt__', '__module__', '__ne__', '__new__', '__reduce__', '__reduce_ex__', '__repr__', '__setattr__', '__setstate__', '__sizeof__', '__str__', '__subclasshook__', '__suppress_context__', '__traceback__', '__weakref__', 'args', 'with_traceback']\n",
      "<class 'pandas.errors.ParserError'>\n"
     ]
    }
   ],
   "source": [
    "import sys\n",
    "\n",
    "\n",
    "try:\n",
    "    df = pd.read_csv(\"~/Documents/origindata/US1 2020JanMonthlyTransaction.csv\")\n",
    "except Exception as e:\n",
    "    print(sys.exc_info())\n",
    "    print(e)\n",
    "    print(dir(e))\n",
    "    print(type(e))"
   ]
  },
  {
   "cell_type": "code",
   "execution_count": 11,
   "id": "a80b67d4",
   "metadata": {},
   "outputs": [
    {
     "name": "stdout",
     "output_type": "stream",
     "text": [
      "Error tokenizing data. C error: Expected 1 fields in line 8, saw 27\n",
      "\n",
      "<class 'pandas.errors.ParserError'>\n",
      "['8']\n"
     ]
    }
   ],
   "source": [
    "import re\n",
    "\n",
    "\n",
    "try:\n",
    "    df = pd.read_csv(\"~/Documents/origindata/US1 2020JanMonthlyTransaction.csv\")\n",
    "except Exception as e:\n",
    "    print(e)\n",
    "    print(type(e))\n",
    "    print(re.findall(r'Expected 1 fields in line (\\d)+', str(e)))"
   ]
  },
  {
   "cell_type": "code",
   "execution_count": 13,
   "id": "18eb5ea1",
   "metadata": {},
   "outputs": [
    {
     "name": "stdout",
     "output_type": "stream",
     "text": [
      "Error tokenizing data. C error: Expected 1 fields in line 8, saw 27\n",
      "\n",
      "<class 'pandas.errors.ParserError'>\n",
      "Error tokenizing data. C error: Expected 1 fields in line 8, saw 27\n",
      "\n",
      "7\n"
     ]
    }
   ],
   "source": [
    "try:\n",
    "    df = pd.read_csv(\"~/Documents/origindata/US1 2020JanMonthlyTransaction.csv\")\n",
    "except Exception as e:\n",
    "    print(e)\n",
    "    print(type(e))\n",
    "    print(sys.exc_info()[1])\n",
    "    skiprows = int(re.findall(r'Expected 1 fields in line (\\d)+', str(e))[0]) - 1\n",
    "    print(skiprows)"
   ]
  },
  {
   "cell_type": "code",
   "execution_count": 14,
   "id": "b056655c",
   "metadata": {},
   "outputs": [
    {
     "name": "stdout",
     "output_type": "stream",
     "text": [
      "Error tokenizing data. C error: Expected 1 fields in line 8, saw 27\n",
      "\n",
      "<class 'pandas.errors.ParserError'>\n",
      "7\n",
      "                        date/time  settlement id         type  \\\n",
      "0     Jan 2, 2020 12:27:47 AM PST    12427936251        Order   \n",
      "1      Jan 2, 2020 4:12:17 AM PST    12427936251  Service Fee   \n",
      "2      Jan 2, 2020 8:54:01 AM PST    12427936251        Order   \n",
      "3      Jan 2, 2020 1:10:04 PM PST    12427936251        Order   \n",
      "4     Jan 2, 2020 11:19:24 PM PST    12427936251        Order   \n",
      "..                            ...            ...          ...   \n",
      "151   Jan 31, 2020 5:30:58 AM PST    12598205141        Order   \n",
      "152   Jan 31, 2020 9:52:26 AM PST    12598205141        Order   \n",
      "153  Jan 31, 2020 11:40:49 AM PST    12598205141       Refund   \n",
      "154   Jan 31, 2020 1:49:43 PM PST    12598205141        Order   \n",
      "155  Jan 31, 2020 11:22:21 PM PST    12598205141       Refund   \n",
      "\n",
      "                order id            sku  \\\n",
      "0    113-6730554-5182639  HT-KSUMBK4PPM   \n",
      "1                    NaN            NaN   \n",
      "2    111-3272205-3281055   HT-KMBMG2PLB   \n",
      "3    114-9932439-0961007  HT-KMBMG2BL-0   \n",
      "4    113-7501521-7924247   HT-KMBMG2PLB   \n",
      "..                   ...            ...   \n",
      "151  112-5800429-7407442     HT-HSTKTZ5   \n",
      "152  112-4682329-3208251     HT-HSTKTZ5   \n",
      "153  112-6618220-2623466   HT-KFDSPA2PK   \n",
      "154  114-7291785-5668235  HT-KMBMG2BL-0   \n",
      "155  114-3012843-4071450     HT-HSTKTZ5   \n",
      "\n",
      "                                           description  quantity marketplace  \\\n",
      "0    Zerlar Swimwear Float Suit with Adjustable Buo...       1.0  amazon.com   \n",
      "1                                  Cost of Advertising       NaN         NaN   \n",
      "2    Insulated Cooler Bag, Well Made Breastmilk Coo...       1.0  amazon.com   \n",
      "3    Insulated Cooler Bag, Well Made Breastmilk Coo...       1.0  amazon.com   \n",
      "4    Insulated Cooler Bag, Well Made Breastmilk Coo...       1.0  amazon.com   \n",
      "..                                                 ...       ...         ...   \n",
      "151  VOPOCO Cute Cartoon Animal 2 in 1 U Shaped Nec...       1.0  amazon.com   \n",
      "152  VOPOCO Cute Cartoon Animal 2 in 1 U Shaped Nec...       1.0  amazon.com   \n",
      "153  VOPOCO Toddler Booster Seat Cushion Kids Infan...       1.0  amazon.com   \n",
      "154  Insulated Cooler Bag, Well Made Breastmilk Coo...       1.0  amazon.com   \n",
      "155  VOPOCO Cute Cartoon Animal 2 in 1 U Shaped Nec...       1.0  amazon.com   \n",
      "\n",
      "    fulfillment      order city  ... gift wrap credits giftwrap credits tax  \\\n",
      "0        Amazon        BAY CITY  ...                 0                    0   \n",
      "1           NaN             NaN  ...                 0                    0   \n",
      "2        Amazon      MONTICELLO  ...                 0                    0   \n",
      "3        Amazon         SEATTLE  ...                 0                    0   \n",
      "4        Amazon           COLMA  ...                 0                    0   \n",
      "..          ...             ...  ...               ...                  ...   \n",
      "151      Amazon          CANTON  ...                 0                    0   \n",
      "152      Amazon           DORAL  ...                 0                    0   \n",
      "153      Amazon  NORTH LAWRENCE  ...                 0                    0   \n",
      "154      Amazon     Los Angeles  ...                 0                    0   \n",
      "155      Amazon       Saskatoon  ...                 0                    0   \n",
      "\n",
      "    promotional rebates  promotional rebates tax  marketplace withheld tax  \\\n",
      "0                  0.00                        0                      0.00   \n",
      "1                  0.00                        0                      0.00   \n",
      "2                  0.00                        0                     -2.10   \n",
      "3                  0.00                        0                     -1.51   \n",
      "4                  0.00                        0                     -2.22   \n",
      "..                  ...                      ...                       ...   \n",
      "151                0.00                        0                     -1.12   \n",
      "152               -0.62                        0                      0.00   \n",
      "153                0.00                        0                      1.69   \n",
      "154                0.00                        0                     -1.42   \n",
      "155                0.00                        0                      0.00   \n",
      "\n",
      "     selling fees  fba fees  other transaction fees  other  total  \n",
      "0           -6.00     -3.28                    0.00    0.0  30.71  \n",
      "1            0.00      0.00                  -31.83    0.0 -31.83  \n",
      "2           -3.60     -4.76                    0.00    0.0  15.63  \n",
      "3           -2.25     -2.96                    0.00    0.0   9.78  \n",
      "4           -3.60     -4.76                    0.00    0.0  15.63  \n",
      "..            ...       ...                     ...    ...    ...  \n",
      "151         -2.58     -3.28                    0.00    0.0  11.35  \n",
      "152         -2.58     -3.28                    0.00    0.0  11.35  \n",
      "153          3.12      0.00                    0.00    0.0 -22.87  \n",
      "154         -2.25     -2.96                    0.00    0.0   9.78  \n",
      "155          0.00      0.00                    0.00    0.0   0.00  \n",
      "\n",
      "[156 rows x 27 columns]\n"
     ]
    }
   ],
   "source": [
    "try:\n",
    "    df = pd.read_csv(\"~/Documents/origindata/US1 2020JanMonthlyTransaction.csv\")\n",
    "except Exception as e:\n",
    "    print(e)\n",
    "    print(type(e))\n",
    "    skiprows = int(re.findall(r'Expected 1 fields in line (\\d)+', str(e))[0]) - 1\n",
    "    print(skiprows)\n",
    "    df = pd.read_csv(\"~/Documents/origindata/US1 2020JanMonthlyTransaction.csv\", skiprows=skiprows)\n",
    "    print(df)"
   ]
  },
  {
   "cell_type": "code",
   "execution_count": 16,
   "id": "4003bc67",
   "metadata": {},
   "outputs": [
    {
     "name": "stdout",
     "output_type": "stream",
     "text": [
      "Error tokenizing data. C error: Expected 1 fields in line 8, saw 27\n",
      "\n",
      "<class 'pandas.errors.ParserError'>\n",
      "<class 'Exception'>\n",
      "<class 'type'>\n"
     ]
    }
   ],
   "source": [
    "try:\n",
    "    df = pd.read_csv(\"~/Documents/origindata/US1 2020JanMonthlyTransaction.csv\")\n",
    "except Exception as e:\n",
    "    print(e)\n",
    "    print(type(e))\n",
    "    print(Exception)\n",
    "    print(type(Exception))"
   ]
  },
  {
   "cell_type": "code",
   "execution_count": 17,
   "id": "5cd42c16",
   "metadata": {},
   "outputs": [
    {
     "name": "stdout",
     "output_type": "stream",
     "text": [
      "'utf-8' codec can't decode byte 0x8f in position 8: invalid start byte\n",
      "<class 'UnicodeDecodeError'>\n"
     ]
    }
   ],
   "source": [
    "try:\n",
    "    df = pd.read_csv(\"~/Documents/origindata/JP2 2020JanMonthlyTransaction.csv\")\n",
    "except Exception as e:\n",
    "    print(e)\n",
    "    print(type(e))"
   ]
  },
  {
   "cell_type": "code",
   "execution_count": 30,
   "id": "daf6d29e",
   "metadata": {},
   "outputs": [
    {
     "data": {
      "text/plain": [
       "[1, 3, 5]"
      ]
     },
     "execution_count": 30,
     "metadata": {},
     "output_type": "execute_result"
    }
   ],
   "source": [
    "listone = [1, 2, 3, 4, 5, 6]\n",
    "listtwo = [2, 4, 6]\n",
    "listthree = list(set(listone) - set(listtwo))\n",
    "listthree"
   ]
  },
  {
   "cell_type": "code",
   "execution_count": 31,
   "id": "e15a3360",
   "metadata": {},
   "outputs": [
    {
     "data": {
      "text/plain": [
       "datetime.date(2022, 5, 10)"
      ]
     },
     "execution_count": 31,
     "metadata": {},
     "output_type": "execute_result"
    }
   ],
   "source": [
    "import datetime\n",
    "datetime.date.today()"
   ]
  },
  {
   "cell_type": "code",
   "execution_count": 34,
   "id": "62cf3ab9",
   "metadata": {},
   "outputs": [
    {
     "data": {
      "text/plain": [
       "time.struct_time(tm_year=2022, tm_mon=5, tm_mday=10, tm_hour=15, tm_min=34, tm_sec=1, tm_wday=1, tm_yday=130, tm_isdst=0)"
      ]
     },
     "execution_count": 34,
     "metadata": {},
     "output_type": "execute_result"
    }
   ],
   "source": [
    "import time\n",
    "time.localtime()"
   ]
  },
  {
   "cell_type": "code",
   "execution_count": 35,
   "id": "ca8e0fed",
   "metadata": {},
   "outputs": [
    {
     "data": {
      "text/plain": [
       "'153541'"
      ]
     },
     "execution_count": 35,
     "metadata": {},
     "output_type": "execute_result"
    }
   ],
   "source": [
    "time.strftime(\"%H%M%S\", time.localtime())"
   ]
  },
  {
   "cell_type": "code",
   "execution_count": 36,
   "id": "bd0776d5",
   "metadata": {},
   "outputs": [
    {
     "data": {
      "text/plain": [
       "'11210004'"
      ]
     },
     "execution_count": 36,
     "metadata": {},
     "output_type": "execute_result"
    }
   ],
   "source": [
    "time.strftime(\"%d%H%M%S\", time.localtime())"
   ]
  },
  {
   "cell_type": "code",
   "execution_count": 37,
   "id": "6740a791",
   "metadata": {},
   "outputs": [
    {
     "data": {
      "text/plain": [
       "'0511210156'"
      ]
     },
     "execution_count": 37,
     "metadata": {},
     "output_type": "execute_result"
    }
   ],
   "source": [
    "time.strftime(\"%m%d%H%M%S\", time.localtime())"
   ]
  },
  {
   "cell_type": "code",
   "execution_count": 45,
   "id": "8db4e491",
   "metadata": {},
   "outputs": [
    {
     "data": {
      "text/html": [
       "<div>\n",
       "<style scoped>\n",
       "    .dataframe tbody tr th:only-of-type {\n",
       "        vertical-align: middle;\n",
       "    }\n",
       "\n",
       "    .dataframe tbody tr th {\n",
       "        vertical-align: top;\n",
       "    }\n",
       "\n",
       "    .dataframe thead th {\n",
       "        text-align: right;\n",
       "    }\n",
       "</style>\n",
       "<table border=\"1\" class=\"dataframe\">\n",
       "  <thead>\n",
       "    <tr style=\"text-align: right;\">\n",
       "      <th></th>\n",
       "      <th>a</th>\n",
       "      <th>b</th>\n",
       "    </tr>\n",
       "  </thead>\n",
       "  <tbody>\n",
       "    <tr>\n",
       "      <th>0</th>\n",
       "      <td>1</td>\n",
       "      <td>2</td>\n",
       "    </tr>\n",
       "    <tr>\n",
       "      <th>1</th>\n",
       "      <td>2</td>\n",
       "      <td>3</td>\n",
       "    </tr>\n",
       "    <tr>\n",
       "      <th>2</th>\n",
       "      <td>3</td>\n",
       "      <td>4</td>\n",
       "    </tr>\n",
       "    <tr>\n",
       "      <th>3</th>\n",
       "      <td>4</td>\n",
       "      <td>5</td>\n",
       "    </tr>\n",
       "  </tbody>\n",
       "</table>\n",
       "</div>"
      ],
      "text/plain": [
       "   a  b\n",
       "0  1  2\n",
       "1  2  3\n",
       "2  3  4\n",
       "3  4  5"
      ]
     },
     "execution_count": 45,
     "metadata": {},
     "output_type": "execute_result"
    }
   ],
   "source": [
    "df = pd.DataFrame({'a': [1, 2, 3, 4], 'b': [2, 3, 4, 5]})\n",
    "df"
   ]
  },
  {
   "cell_type": "code",
   "execution_count": 46,
   "id": "cb393155",
   "metadata": {},
   "outputs": [
    {
     "data": {
      "text/html": [
       "<div>\n",
       "<style scoped>\n",
       "    .dataframe tbody tr th:only-of-type {\n",
       "        vertical-align: middle;\n",
       "    }\n",
       "\n",
       "    .dataframe tbody tr th {\n",
       "        vertical-align: top;\n",
       "    }\n",
       "\n",
       "    .dataframe thead th {\n",
       "        text-align: right;\n",
       "    }\n",
       "</style>\n",
       "<table border=\"1\" class=\"dataframe\">\n",
       "  <thead>\n",
       "    <tr style=\"text-align: right;\">\n",
       "      <th></th>\n",
       "      <th>a</th>\n",
       "      <th>b</th>\n",
       "      <th>c</th>\n",
       "      <th>d</th>\n",
       "      <th>e</th>\n",
       "    </tr>\n",
       "  </thead>\n",
       "  <tbody>\n",
       "    <tr>\n",
       "      <th>0</th>\n",
       "      <td>1</td>\n",
       "      <td>2</td>\n",
       "      <td>NaN</td>\n",
       "      <td>NaN</td>\n",
       "      <td>NaN</td>\n",
       "    </tr>\n",
       "    <tr>\n",
       "      <th>1</th>\n",
       "      <td>2</td>\n",
       "      <td>3</td>\n",
       "      <td>NaN</td>\n",
       "      <td>NaN</td>\n",
       "      <td>NaN</td>\n",
       "    </tr>\n",
       "    <tr>\n",
       "      <th>2</th>\n",
       "      <td>3</td>\n",
       "      <td>4</td>\n",
       "      <td>NaN</td>\n",
       "      <td>NaN</td>\n",
       "      <td>NaN</td>\n",
       "    </tr>\n",
       "    <tr>\n",
       "      <th>3</th>\n",
       "      <td>4</td>\n",
       "      <td>5</td>\n",
       "      <td>NaN</td>\n",
       "      <td>NaN</td>\n",
       "      <td>NaN</td>\n",
       "    </tr>\n",
       "  </tbody>\n",
       "</table>\n",
       "</div>"
      ],
      "text/plain": [
       "   a  b   c   d   e\n",
       "0  1  2 NaN NaN NaN\n",
       "1  2  3 NaN NaN NaN\n",
       "2  3  4 NaN NaN NaN\n",
       "3  4  5 NaN NaN NaN"
      ]
     },
     "execution_count": 46,
     "metadata": {},
     "output_type": "execute_result"
    }
   ],
   "source": [
    "df.reindex(columns=df.columns.to_list() + ['c', 'd', 'e'])"
   ]
  },
  {
   "cell_type": "code",
   "execution_count": 47,
   "id": "45330af5",
   "metadata": {},
   "outputs": [
    {
     "data": {
      "text/html": [
       "<div>\n",
       "<style scoped>\n",
       "    .dataframe tbody tr th:only-of-type {\n",
       "        vertical-align: middle;\n",
       "    }\n",
       "\n",
       "    .dataframe tbody tr th {\n",
       "        vertical-align: top;\n",
       "    }\n",
       "\n",
       "    .dataframe thead th {\n",
       "        text-align: right;\n",
       "    }\n",
       "</style>\n",
       "<table border=\"1\" class=\"dataframe\">\n",
       "  <thead>\n",
       "    <tr style=\"text-align: right;\">\n",
       "      <th></th>\n",
       "      <th>a</th>\n",
       "      <th>b</th>\n",
       "      <th>g</th>\n",
       "    </tr>\n",
       "  </thead>\n",
       "  <tbody>\n",
       "    <tr>\n",
       "      <th>0</th>\n",
       "      <td>1</td>\n",
       "      <td>2</td>\n",
       "      <td></td>\n",
       "    </tr>\n",
       "    <tr>\n",
       "      <th>1</th>\n",
       "      <td>2</td>\n",
       "      <td>3</td>\n",
       "      <td></td>\n",
       "    </tr>\n",
       "    <tr>\n",
       "      <th>2</th>\n",
       "      <td>3</td>\n",
       "      <td>4</td>\n",
       "      <td></td>\n",
       "    </tr>\n",
       "    <tr>\n",
       "      <th>3</th>\n",
       "      <td>4</td>\n",
       "      <td>5</td>\n",
       "      <td></td>\n",
       "    </tr>\n",
       "  </tbody>\n",
       "</table>\n",
       "</div>"
      ],
      "text/plain": [
       "   a  b g\n",
       "0  1  2  \n",
       "1  2  3  \n",
       "2  3  4  \n",
       "3  4  5  "
      ]
     },
     "execution_count": 47,
     "metadata": {},
     "output_type": "execute_result"
    }
   ],
   "source": [
    "df['g'] = \"\"\n",
    "df"
   ]
  },
  {
   "cell_type": "code",
   "execution_count": 48,
   "id": "ac8ab235",
   "metadata": {},
   "outputs": [
    {
     "data": {
      "text/plain": [
       "abc.ABCMeta"
      ]
     },
     "execution_count": 48,
     "metadata": {},
     "output_type": "execute_result"
    }
   ],
   "source": [
    "type(pd.ExcelWriter)"
   ]
  },
  {
   "cell_type": "code",
   "execution_count": 49,
   "id": "2e1117a1",
   "metadata": {},
   "outputs": [
    {
     "data": {
      "text/plain": [
       "function"
      ]
     },
     "execution_count": 49,
     "metadata": {},
     "output_type": "execute_result"
    }
   ],
   "source": [
    "type(pd.DataFrame.to_excel)"
   ]
  },
  {
   "cell_type": "code",
   "execution_count": 50,
   "id": "934b588d",
   "metadata": {},
   "outputs": [
    {
     "data": {
      "text/plain": [
       "function"
      ]
     },
     "execution_count": 50,
     "metadata": {},
     "output_type": "execute_result"
    }
   ],
   "source": [
    "type(pd.Series.replace)"
   ]
  },
  {
   "cell_type": "code",
   "execution_count": 51,
   "id": "95d797a7",
   "metadata": {},
   "outputs": [
    {
     "data": {
      "text/plain": [
       "False"
      ]
     },
     "execution_count": 51,
     "metadata": {},
     "output_type": "execute_result"
    }
   ],
   "source": [
    "pd.options.mode.use_inf_as_na"
   ]
  },
  {
   "cell_type": "code",
   "execution_count": 53,
   "id": "4efe3c95",
   "metadata": {},
   "outputs": [
    {
     "data": {
      "text/plain": [
       "dict_keys(['BR01', 'BR03', 'BR10', 'BR13', 'CA01', 'CA03', 'CA04', 'CA05', 'CA06', 'CA07', 'CA08', 'CA09', 'CA10', 'CA11', 'CA12', 'CA13', 'CA15', 'DE02', 'DE03', 'DE04', 'ES2', 'ES3', 'ES4', 'FR2', 'FR3', 'FR4', 'IT2', 'IT3', 'IT4', 'JP1', 'JP3', 'JP4', 'JP6', 'MX01', 'MX03', 'MX04', 'MX06', 'MX10', 'MX11', 'MX12', 'NL2', 'NL4', 'PL4', 'SE4', 'TR4', 'UK2', 'UK3', 'UK4', 'US01', 'US03', 'US04', 'US05', 'US06', 'US07', 'US08', 'US09', 'US10', 'US11', 'US12', 'US13', 'US15'])"
      ]
     },
     "execution_count": 53,
     "metadata": {},
     "output_type": "execute_result"
    }
   ],
   "source": [
    "df = pd.read_excel(\"~/Documents/result0511214947.xlsx\", sheet_name=None)\n",
    "df.keys()"
   ]
  },
  {
   "cell_type": "code",
   "execution_count": 54,
   "id": "8c7aa891",
   "metadata": {},
   "outputs": [
    {
     "data": {
      "text/plain": [
       "['BR01',\n",
       " 'BR03',\n",
       " 'BR10',\n",
       " 'BR13',\n",
       " 'CA01',\n",
       " 'CA03',\n",
       " 'CA04',\n",
       " 'CA05',\n",
       " 'CA06',\n",
       " 'CA07',\n",
       " 'CA08',\n",
       " 'CA09',\n",
       " 'CA10',\n",
       " 'CA11',\n",
       " 'CA12',\n",
       " 'CA13',\n",
       " 'CA15',\n",
       " 'DE02',\n",
       " 'DE03',\n",
       " 'DE04',\n",
       " 'ES2',\n",
       " 'ES3',\n",
       " 'ES4',\n",
       " 'FR2',\n",
       " 'FR3',\n",
       " 'FR4',\n",
       " 'IT2',\n",
       " 'IT3',\n",
       " 'IT4',\n",
       " 'JP1',\n",
       " 'JP3',\n",
       " 'JP4',\n",
       " 'JP6',\n",
       " 'MX01',\n",
       " 'MX03',\n",
       " 'MX04',\n",
       " 'MX06',\n",
       " 'MX10',\n",
       " 'MX11',\n",
       " 'MX12',\n",
       " 'NL2',\n",
       " 'NL4',\n",
       " 'PL4',\n",
       " 'SE4',\n",
       " 'TR4',\n",
       " 'UK2',\n",
       " 'UK3',\n",
       " 'UK4',\n",
       " 'US01',\n",
       " 'US03',\n",
       " 'US04',\n",
       " 'US05',\n",
       " 'US06',\n",
       " 'US07',\n",
       " 'US08',\n",
       " 'US09',\n",
       " 'US10',\n",
       " 'US11',\n",
       " 'US12',\n",
       " 'US13',\n",
       " 'US15']"
      ]
     },
     "execution_count": 54,
     "metadata": {},
     "output_type": "execute_result"
    }
   ],
   "source": [
    "list(df)"
   ]
  },
  {
   "cell_type": "code",
   "execution_count": 55,
   "id": "e6fda3ee",
   "metadata": {},
   "outputs": [
    {
     "data": {
      "text/plain": [
       "dict"
      ]
     },
     "execution_count": 55,
     "metadata": {},
     "output_type": "execute_result"
    }
   ],
   "source": [
    "type(df)"
   ]
  },
  {
   "cell_type": "code",
   "execution_count": 56,
   "id": "779b9fd6",
   "metadata": {},
   "outputs": [
    {
     "data": {
      "text/plain": [
       "pandas.core.frame.DataFrame"
      ]
     },
     "execution_count": 56,
     "metadata": {},
     "output_type": "execute_result"
    }
   ],
   "source": [
    "df = pd.read_excel(\"~/Documents/result0511214947.xlsx\")\n",
    "type(df)"
   ]
  },
  {
   "cell_type": "code",
   "execution_count": 57,
   "id": "7da211b0",
   "metadata": {},
   "outputs": [
    {
     "data": {
      "text/html": [
       "<div>\n",
       "<style scoped>\n",
       "    .dataframe tbody tr th:only-of-type {\n",
       "        vertical-align: middle;\n",
       "    }\n",
       "\n",
       "    .dataframe tbody tr th {\n",
       "        vertical-align: top;\n",
       "    }\n",
       "\n",
       "    .dataframe thead th {\n",
       "        text-align: right;\n",
       "    }\n",
       "</style>\n",
       "<table border=\"1\" class=\"dataframe\">\n",
       "  <thead>\n",
       "    <tr style=\"text-align: right;\">\n",
       "      <th></th>\n",
       "      <th>date/time</th>\n",
       "      <th>type</th>\n",
       "      <th>order id</th>\n",
       "      <th>sku</th>\n",
       "      <th>description</th>\n",
       "      <th>quantity</th>\n",
       "      <th>fulfillment</th>\n",
       "      <th>product sales</th>\n",
       "      <th>selling fees</th>\n",
       "      <th>fba fees</th>\n",
       "      <th>total</th>\n",
       "    </tr>\n",
       "  </thead>\n",
       "  <tbody>\n",
       "    <tr>\n",
       "      <th>0</th>\n",
       "      <td>3 de mar. de 2022 11:48:43 GMT-8</td>\n",
       "      <td>Transferir</td>\n",
       "      <td>NaN</td>\n",
       "      <td>NaN</td>\n",
       "      <td>Para conta terminando com: 718</td>\n",
       "      <td>NaN</td>\n",
       "      <td>NaN</td>\n",
       "      <td>0</td>\n",
       "      <td>0</td>\n",
       "      <td>0</td>\n",
       "      <td>-324,80</td>\n",
       "    </tr>\n",
       "    <tr>\n",
       "      <th>1</th>\n",
       "      <td>9 de mar. de 2022 08:44:09 GMT-8</td>\n",
       "      <td>Pedido</td>\n",
       "      <td>701-4539426-8565847</td>\n",
       "      <td>HT-SCEQSBAC</td>\n",
       "      <td>Relógio esportivo masculino 6 em 1 com mostrad...</td>\n",
       "      <td>1.0</td>\n",
       "      <td>Vendedor</td>\n",
       "      <td>145,81</td>\n",
       "      <td>-27,08</td>\n",
       "      <td>0</td>\n",
       "      <td>166,36</td>\n",
       "    </tr>\n",
       "    <tr>\n",
       "      <th>2</th>\n",
       "      <td>10 de mar. de 2022 07:46:56 GMT-8</td>\n",
       "      <td>Transferir</td>\n",
       "      <td>NaN</td>\n",
       "      <td>NaN</td>\n",
       "      <td>Para conta terminando com: 718</td>\n",
       "      <td>NaN</td>\n",
       "      <td>NaN</td>\n",
       "      <td>0</td>\n",
       "      <td>0</td>\n",
       "      <td>0</td>\n",
       "      <td>-163,18</td>\n",
       "    </tr>\n",
       "    <tr>\n",
       "      <th>3</th>\n",
       "      <td>19 de mar. de 2022 23:52:58 GMT-7</td>\n",
       "      <td>Reembolso</td>\n",
       "      <td>701-6349219-4811419</td>\n",
       "      <td>HT-JDWLSP1AG</td>\n",
       "      <td>Relógio de Pulso Masculino Esportivo 6 em 1 co...</td>\n",
       "      <td>1.0</td>\n",
       "      <td>Vendedor</td>\n",
       "      <td>-131,23</td>\n",
       "      <td>21,25</td>\n",
       "      <td>0</td>\n",
       "      <td>-168,49</td>\n",
       "    </tr>\n",
       "    <tr>\n",
       "      <th>4</th>\n",
       "      <td>22 de mar. de 2022 20:39:20 GMT-7</td>\n",
       "      <td>Débito</td>\n",
       "      <td>NaN</td>\n",
       "      <td>NaN</td>\n",
       "      <td>amzn1.cam.v1.sgid.15600424441</td>\n",
       "      <td>NaN</td>\n",
       "      <td>NaN</td>\n",
       "      <td>0</td>\n",
       "      <td>0</td>\n",
       "      <td>0</td>\n",
       "      <td>168,49</td>\n",
       "    </tr>\n",
       "    <tr>\n",
       "      <th>5</th>\n",
       "      <td>23 de mar. de 2022 22:41:57 GMT-7</td>\n",
       "      <td>Reembolso</td>\n",
       "      <td>702-4470648-5761852</td>\n",
       "      <td>HT-HIPWL01WH</td>\n",
       "      <td>Kits de pintura de diamante 5D, pacote com 4 p...</td>\n",
       "      <td>1.0</td>\n",
       "      <td>Vendedor</td>\n",
       "      <td>-96,49</td>\n",
       "      <td>16,66</td>\n",
       "      <td>0</td>\n",
       "      <td>-156,85</td>\n",
       "    </tr>\n",
       "    <tr>\n",
       "      <th>6</th>\n",
       "      <td>25 de mar. de 2022 08:45:42 GMT-7</td>\n",
       "      <td>Transferir</td>\n",
       "      <td>NaN</td>\n",
       "      <td>NaN</td>\n",
       "      <td>Para conta terminando com: 718</td>\n",
       "      <td>NaN</td>\n",
       "      <td>NaN</td>\n",
       "      <td>0</td>\n",
       "      <td>0</td>\n",
       "      <td>0</td>\n",
       "      <td>-166,36</td>\n",
       "    </tr>\n",
       "    <tr>\n",
       "      <th>7</th>\n",
       "      <td>29 de mar. de 2022 12:31:04 GMT-7</td>\n",
       "      <td>Pedido</td>\n",
       "      <td>702-5081772-8001061</td>\n",
       "      <td>HT-JDWLSP1BK</td>\n",
       "      <td>Relógio de Pulso Masculino Esportivo 6 em 1 co...</td>\n",
       "      <td>1.0</td>\n",
       "      <td>Vendedor</td>\n",
       "      <td>131,23</td>\n",
       "      <td>-26,31</td>\n",
       "      <td>0</td>\n",
       "      <td>161,62</td>\n",
       "    </tr>\n",
       "  </tbody>\n",
       "</table>\n",
       "</div>"
      ],
      "text/plain": [
       "                           date/time        type             order id  \\\n",
       "0   3 de mar. de 2022 11:48:43 GMT-8  Transferir                  NaN   \n",
       "1   9 de mar. de 2022 08:44:09 GMT-8      Pedido  701-4539426-8565847   \n",
       "2  10 de mar. de 2022 07:46:56 GMT-8  Transferir                  NaN   \n",
       "3  19 de mar. de 2022 23:52:58 GMT-7   Reembolso  701-6349219-4811419   \n",
       "4  22 de mar. de 2022 20:39:20 GMT-7      Débito                  NaN   \n",
       "5  23 de mar. de 2022 22:41:57 GMT-7   Reembolso  702-4470648-5761852   \n",
       "6  25 de mar. de 2022 08:45:42 GMT-7  Transferir                  NaN   \n",
       "7  29 de mar. de 2022 12:31:04 GMT-7      Pedido  702-5081772-8001061   \n",
       "\n",
       "            sku                                        description  quantity  \\\n",
       "0           NaN                     Para conta terminando com: 718       NaN   \n",
       "1   HT-SCEQSBAC  Relógio esportivo masculino 6 em 1 com mostrad...       1.0   \n",
       "2           NaN                     Para conta terminando com: 718       NaN   \n",
       "3  HT-JDWLSP1AG  Relógio de Pulso Masculino Esportivo 6 em 1 co...       1.0   \n",
       "4           NaN                      amzn1.cam.v1.sgid.15600424441       NaN   \n",
       "5  HT-HIPWL01WH  Kits de pintura de diamante 5D, pacote com 4 p...       1.0   \n",
       "6           NaN                     Para conta terminando com: 718       NaN   \n",
       "7  HT-JDWLSP1BK  Relógio de Pulso Masculino Esportivo 6 em 1 co...       1.0   \n",
       "\n",
       "  fulfillment product sales selling fees  fba fees    total  \n",
       "0         NaN             0            0         0  -324,80  \n",
       "1    Vendedor        145,81       -27,08         0   166,36  \n",
       "2         NaN             0            0         0  -163,18  \n",
       "3    Vendedor       -131,23        21,25         0  -168,49  \n",
       "4         NaN             0            0         0   168,49  \n",
       "5    Vendedor        -96,49        16,66         0  -156,85  \n",
       "6         NaN             0            0         0  -166,36  \n",
       "7    Vendedor        131,23       -26,31         0   161,62  "
      ]
     },
     "execution_count": 57,
     "metadata": {},
     "output_type": "execute_result"
    }
   ],
   "source": [
    "df"
   ]
  },
  {
   "cell_type": "code",
   "execution_count": 1,
   "id": "69566d8f",
   "metadata": {},
   "outputs": [
    {
     "data": {
      "text/html": [
       "<div>\n",
       "<style scoped>\n",
       "    .dataframe tbody tr th:only-of-type {\n",
       "        vertical-align: middle;\n",
       "    }\n",
       "\n",
       "    .dataframe tbody tr th {\n",
       "        vertical-align: top;\n",
       "    }\n",
       "\n",
       "    .dataframe thead th {\n",
       "        text-align: right;\n",
       "    }\n",
       "</style>\n",
       "<table border=\"1\" class=\"dataframe\">\n",
       "  <thead>\n",
       "    <tr style=\"text-align: right;\">\n",
       "      <th></th>\n",
       "      <th>id</th>\n",
       "      <th>sku</th>\n",
       "      <th>name</th>\n",
       "    </tr>\n",
       "  </thead>\n",
       "  <tbody>\n",
       "    <tr>\n",
       "      <th>0</th>\n",
       "      <td>1</td>\n",
       "      <td>NaN</td>\n",
       "      <td>aa</td>\n",
       "    </tr>\n",
       "  </tbody>\n",
       "</table>\n",
       "</div>"
      ],
      "text/plain": [
       "   id  sku name\n",
       "0   1  NaN   aa"
      ]
     },
     "execution_count": 1,
     "metadata": {},
     "output_type": "execute_result"
    }
   ],
   "source": [
    "import pandas as pd\n",
    "\n",
    "df1 = pd.read_excel(\"~/Documents/str.xlsx\", sheet_name=\"s1\")\n",
    "df1"
   ]
  },
  {
   "cell_type": "code",
   "execution_count": 2,
   "id": "0fd595e2",
   "metadata": {},
   "outputs": [
    {
     "data": {
      "text/html": [
       "<div>\n",
       "<style scoped>\n",
       "    .dataframe tbody tr th:only-of-type {\n",
       "        vertical-align: middle;\n",
       "    }\n",
       "\n",
       "    .dataframe tbody tr th {\n",
       "        vertical-align: top;\n",
       "    }\n",
       "\n",
       "    .dataframe thead th {\n",
       "        text-align: right;\n",
       "    }\n",
       "</style>\n",
       "<table border=\"1\" class=\"dataframe\">\n",
       "  <thead>\n",
       "    <tr style=\"text-align: right;\">\n",
       "      <th></th>\n",
       "      <th>id</th>\n",
       "      <th>sku</th>\n",
       "      <th>name</th>\n",
       "    </tr>\n",
       "  </thead>\n",
       "  <tbody>\n",
       "    <tr>\n",
       "      <th>0</th>\n",
       "      <td>1</td>\n",
       "      <td>NaN</td>\n",
       "      <td>aa</td>\n",
       "    </tr>\n",
       "    <tr>\n",
       "      <th>1</th>\n",
       "      <td>2</td>\n",
       "      <td>NaN</td>\n",
       "      <td>bb</td>\n",
       "    </tr>\n",
       "    <tr>\n",
       "      <th>2</th>\n",
       "      <td>3</td>\n",
       "      <td>HH-Y6</td>\n",
       "      <td>cc</td>\n",
       "    </tr>\n",
       "    <tr>\n",
       "      <th>3</th>\n",
       "      <td>4</td>\n",
       "      <td>HH-Y7</td>\n",
       "      <td>dd</td>\n",
       "    </tr>\n",
       "  </tbody>\n",
       "</table>\n",
       "</div>"
      ],
      "text/plain": [
       "   id    sku name\n",
       "0   1    NaN   aa\n",
       "1   2    NaN   bb\n",
       "2   3  HH-Y6   cc\n",
       "3   4  HH-Y7   dd"
      ]
     },
     "execution_count": 2,
     "metadata": {},
     "output_type": "execute_result"
    }
   ],
   "source": [
    "df2 = pd.read_excel(\"~/Documents/str.xlsx\", sheet_name=\"s2\")\n",
    "df2"
   ]
  },
  {
   "cell_type": "code",
   "execution_count": 3,
   "id": "4519d3f9",
   "metadata": {},
   "outputs": [
    {
     "name": "stdout",
     "output_type": "stream",
     "text": [
      "Can only use .str accessor with string values!\n"
     ]
    }
   ],
   "source": [
    "try:\n",
    "    df1['sku'] = df1.sku.str.extract(r'(\\w+)')\n",
    "except Exception as e:\n",
    "    print(e)"
   ]
  },
  {
   "cell_type": "code",
   "execution_count": 4,
   "id": "2400751e",
   "metadata": {},
   "outputs": [
    {
     "data": {
      "text/plain": [
       "pandas.core.series.Series"
      ]
     },
     "execution_count": 4,
     "metadata": {},
     "output_type": "execute_result"
    }
   ],
   "source": [
    "type(df1.sku)"
   ]
  },
  {
   "cell_type": "code",
   "execution_count": 5,
   "id": "43a6ae9c",
   "metadata": {},
   "outputs": [],
   "source": [
    "try:\n",
    "    df2['sku'] = df2.sku.str.extract(r'(\\w+)')\n",
    "except Exception as e:\n",
    "    print(e)"
   ]
  },
  {
   "cell_type": "code",
   "execution_count": 6,
   "id": "49af1e6f",
   "metadata": {},
   "outputs": [
    {
     "data": {
      "text/plain": [
       "pandas.core.series.Series"
      ]
     },
     "execution_count": 6,
     "metadata": {},
     "output_type": "execute_result"
    }
   ],
   "source": [
    "type(df2.sku)"
   ]
  },
  {
   "cell_type": "code",
   "execution_count": 7,
   "id": "d0f26340",
   "metadata": {},
   "outputs": [
    {
     "data": {
      "text/html": [
       "<div>\n",
       "<style scoped>\n",
       "    .dataframe tbody tr th:only-of-type {\n",
       "        vertical-align: middle;\n",
       "    }\n",
       "\n",
       "    .dataframe tbody tr th {\n",
       "        vertical-align: top;\n",
       "    }\n",
       "\n",
       "    .dataframe thead th {\n",
       "        text-align: right;\n",
       "    }\n",
       "</style>\n",
       "<table border=\"1\" class=\"dataframe\">\n",
       "  <thead>\n",
       "    <tr style=\"text-align: right;\">\n",
       "      <th></th>\n",
       "      <th>id</th>\n",
       "      <th>sku</th>\n",
       "      <th>name</th>\n",
       "    </tr>\n",
       "  </thead>\n",
       "  <tbody>\n",
       "    <tr>\n",
       "      <th>0</th>\n",
       "      <td>1</td>\n",
       "      <td>NaN</td>\n",
       "      <td>aa</td>\n",
       "    </tr>\n",
       "    <tr>\n",
       "      <th>1</th>\n",
       "      <td>2</td>\n",
       "      <td>NaN</td>\n",
       "      <td>bb</td>\n",
       "    </tr>\n",
       "    <tr>\n",
       "      <th>2</th>\n",
       "      <td>3</td>\n",
       "      <td>HH</td>\n",
       "      <td>cc</td>\n",
       "    </tr>\n",
       "    <tr>\n",
       "      <th>3</th>\n",
       "      <td>4</td>\n",
       "      <td>HH</td>\n",
       "      <td>dd</td>\n",
       "    </tr>\n",
       "  </tbody>\n",
       "</table>\n",
       "</div>"
      ],
      "text/plain": [
       "   id  sku name\n",
       "0   1  NaN   aa\n",
       "1   2  NaN   bb\n",
       "2   3   HH   cc\n",
       "3   4   HH   dd"
      ]
     },
     "execution_count": 7,
     "metadata": {},
     "output_type": "execute_result"
    }
   ],
   "source": [
    "df2"
   ]
  },
  {
   "cell_type": "code",
   "execution_count": 8,
   "id": "643dc8eb",
   "metadata": {},
   "outputs": [],
   "source": [
    "try:\n",
    "    df1['sku'] = df1.sku.astype(str).str.extract(r'(\\w+)')\n",
    "except Exception as e:\n",
    "    print(e)"
   ]
  },
  {
   "cell_type": "code",
   "execution_count": 9,
   "id": "d0ef8c75",
   "metadata": {},
   "outputs": [
    {
     "data": {
      "text/html": [
       "<div>\n",
       "<style scoped>\n",
       "    .dataframe tbody tr th:only-of-type {\n",
       "        vertical-align: middle;\n",
       "    }\n",
       "\n",
       "    .dataframe tbody tr th {\n",
       "        vertical-align: top;\n",
       "    }\n",
       "\n",
       "    .dataframe thead th {\n",
       "        text-align: right;\n",
       "    }\n",
       "</style>\n",
       "<table border=\"1\" class=\"dataframe\">\n",
       "  <thead>\n",
       "    <tr style=\"text-align: right;\">\n",
       "      <th></th>\n",
       "      <th>id</th>\n",
       "      <th>sku</th>\n",
       "      <th>name</th>\n",
       "    </tr>\n",
       "  </thead>\n",
       "  <tbody>\n",
       "    <tr>\n",
       "      <th>0</th>\n",
       "      <td>1</td>\n",
       "      <td>nan</td>\n",
       "      <td>aa</td>\n",
       "    </tr>\n",
       "  </tbody>\n",
       "</table>\n",
       "</div>"
      ],
      "text/plain": [
       "   id  sku name\n",
       "0   1  nan   aa"
      ]
     },
     "execution_count": 9,
     "metadata": {},
     "output_type": "execute_result"
    }
   ],
   "source": [
    "df1"
   ]
  },
  {
   "cell_type": "code",
   "execution_count": 10,
   "id": "273614e5",
   "metadata": {},
   "outputs": [
    {
     "data": {
      "text/plain": [
       "pandas.core.series.Series"
      ]
     },
     "execution_count": 10,
     "metadata": {},
     "output_type": "execute_result"
    }
   ],
   "source": [
    "type(df2.sku)"
   ]
  },
  {
   "cell_type": "code",
   "execution_count": 11,
   "id": "6f1cfd78",
   "metadata": {},
   "outputs": [
    {
     "data": {
      "text/plain": [
       "pandas.core.series.Series"
      ]
     },
     "execution_count": 11,
     "metadata": {},
     "output_type": "execute_result"
    }
   ],
   "source": [
    "type(df1.sku)"
   ]
  },
  {
   "cell_type": "code",
   "execution_count": 12,
   "id": "1024ad2b",
   "metadata": {},
   "outputs": [
    {
     "data": {
      "text/plain": [
       "pandas.core.series.Series"
      ]
     },
     "execution_count": 12,
     "metadata": {},
     "output_type": "execute_result"
    }
   ],
   "source": [
    "type(df1.sku.astype(str))"
   ]
  },
  {
   "cell_type": "code",
   "execution_count": 13,
   "id": "b2b61333",
   "metadata": {},
   "outputs": [
    {
     "data": {
      "text/plain": [
       "str"
      ]
     },
     "execution_count": 13,
     "metadata": {},
     "output_type": "execute_result"
    }
   ],
   "source": [
    "type(df1.sku[0])"
   ]
  },
  {
   "cell_type": "code",
   "execution_count": 14,
   "id": "a16e4c47",
   "metadata": {},
   "outputs": [
    {
     "data": {
      "text/plain": [
       "'nan'"
      ]
     },
     "execution_count": 14,
     "metadata": {},
     "output_type": "execute_result"
    }
   ],
   "source": [
    "df1.sku[0]"
   ]
  },
  {
   "cell_type": "code",
   "execution_count": 15,
   "id": "b899b0ef",
   "metadata": {},
   "outputs": [
    {
     "data": {
      "text/plain": [
       "dict"
      ]
     },
     "execution_count": 15,
     "metadata": {},
     "output_type": "execute_result"
    }
   ],
   "source": [
    "df3 = pd.read_excel(\"~/Documents/str.xlsx\", sheet_name=None)\n",
    "type(df3)"
   ]
  },
  {
   "cell_type": "code",
   "execution_count": 16,
   "id": "4c0100c5",
   "metadata": {},
   "outputs": [
    {
     "data": {
      "text/plain": [
       "dict_keys(['s1', 's2'])"
      ]
     },
     "execution_count": 16,
     "metadata": {},
     "output_type": "execute_result"
    }
   ],
   "source": [
    "df3.keys()"
   ]
  },
  {
   "cell_type": "code",
   "execution_count": 17,
   "id": "7575d9d4",
   "metadata": {},
   "outputs": [
    {
     "data": {
      "text/html": [
       "<div>\n",
       "<style scoped>\n",
       "    .dataframe tbody tr th:only-of-type {\n",
       "        vertical-align: middle;\n",
       "    }\n",
       "\n",
       "    .dataframe tbody tr th {\n",
       "        vertical-align: top;\n",
       "    }\n",
       "\n",
       "    .dataframe thead th {\n",
       "        text-align: right;\n",
       "    }\n",
       "</style>\n",
       "<table border=\"1\" class=\"dataframe\">\n",
       "  <thead>\n",
       "    <tr style=\"text-align: right;\">\n",
       "      <th></th>\n",
       "      <th>id</th>\n",
       "      <th>sku</th>\n",
       "      <th>name</th>\n",
       "    </tr>\n",
       "  </thead>\n",
       "  <tbody>\n",
       "    <tr>\n",
       "      <th>0</th>\n",
       "      <td>1</td>\n",
       "      <td>NaN</td>\n",
       "      <td>aa</td>\n",
       "    </tr>\n",
       "    <tr>\n",
       "      <th>1</th>\n",
       "      <td>2</td>\n",
       "      <td>NaN</td>\n",
       "      <td>bb</td>\n",
       "    </tr>\n",
       "    <tr>\n",
       "      <th>2</th>\n",
       "      <td>3</td>\n",
       "      <td>HH-Y6</td>\n",
       "      <td>cc</td>\n",
       "    </tr>\n",
       "    <tr>\n",
       "      <th>3</th>\n",
       "      <td>4</td>\n",
       "      <td>HH-Y7</td>\n",
       "      <td>dd</td>\n",
       "    </tr>\n",
       "  </tbody>\n",
       "</table>\n",
       "</div>"
      ],
      "text/plain": [
       "   id    sku name\n",
       "0   1    NaN   aa\n",
       "1   2    NaN   bb\n",
       "2   3  HH-Y6   cc\n",
       "3   4  HH-Y7   dd"
      ]
     },
     "execution_count": 17,
     "metadata": {},
     "output_type": "execute_result"
    }
   ],
   "source": [
    "df3['s2']"
   ]
  },
  {
   "cell_type": "code",
   "execution_count": 18,
   "id": "234e2d97",
   "metadata": {},
   "outputs": [
    {
     "name": "stdout",
     "output_type": "stream",
     "text": [
      "Variable x is not defined\n"
     ]
    }
   ],
   "source": [
    "try:\n",
    "    print(x)\n",
    "except NameError:\n",
    "    print(\"Variable x is not defined\")\n",
    "except:\n",
    "    print(\"其它类型异常\")"
   ]
  },
  {
   "cell_type": "code",
   "execution_count": 19,
   "id": "043e8d2d",
   "metadata": {},
   "outputs": [
    {
     "name": "stdout",
     "output_type": "stream",
     "text": [
      "<class 'UnicodeDecodeError'>\n",
      "'utf-8' codec can't decode byte 0x8f in position 8: invalid start byte\n"
     ]
    }
   ],
   "source": [
    "import sys\n",
    "\n",
    "\n",
    "try:\n",
    "    df = pd.read_csv(\"~/Documents/origindata/JP2 2020JanMonthlyTransaction.csv\")\n",
    "except Exception:\n",
    "    exc_type, exc_value, exc_traceback = sys.exc_info()\n",
    "    print(exc_type)\n",
    "    print(exc_value)"
   ]
  },
  {
   "cell_type": "code",
   "execution_count": 20,
   "id": "6c3814f3",
   "metadata": {},
   "outputs": [
    {
     "name": "stdout",
     "output_type": "stream",
     "text": [
      "<class 'UnicodeDecodeError'>\n",
      "'utf-8' codec can't decode byte 0x8f in position 8: invalid start byte\n"
     ]
    }
   ],
   "source": [
    "try:\n",
    "    df = pd.read_csv(\"~/Documents/origindata/JP2 2020JanMonthlyTransaction.csv\")\n",
    "except UnicodeDecodeError:\n",
    "    exc_type, exc_value, exc_traceback = sys.exc_info()\n",
    "    print(exc_type)\n",
    "    print(exc_value)"
   ]
  },
  {
   "cell_type": "code",
   "execution_count": 21,
   "id": "e8e273f7",
   "metadata": {},
   "outputs": [
    {
     "data": {
      "text/plain": [
       "True"
      ]
     },
     "execution_count": 21,
     "metadata": {},
     "output_type": "execute_result"
    }
   ],
   "source": [
    "issubclass(UnicodeDecodeError,UnicodeError)"
   ]
  },
  {
   "cell_type": "code",
   "execution_count": 22,
   "id": "b0c2882e",
   "metadata": {},
   "outputs": [
    {
     "name": "stdout",
     "output_type": "stream",
     "text": [
      "<class 'UnicodeDecodeError'>\n",
      "'utf-8' codec can't decode byte 0x8f in position 8: invalid start byte\n"
     ]
    }
   ],
   "source": [
    "try:\n",
    "    df = pd.read_csv(\"~/Documents/origindata/JP2 2020JanMonthlyTransaction.csv\")\n",
    "except UnicodeError:\n",
    "    exc_type, exc_value, exc_traceback = sys.exc_info()\n",
    "    print(exc_type)\n",
    "    print(exc_value)"
   ]
  },
  {
   "cell_type": "code",
   "execution_count": 23,
   "id": "e48491f8",
   "metadata": {},
   "outputs": [
    {
     "data": {
      "text/plain": [
       "True"
      ]
     },
     "execution_count": 23,
     "metadata": {},
     "output_type": "execute_result"
    }
   ],
   "source": [
    "issubclass(UnicodeError, ValueError)"
   ]
  },
  {
   "cell_type": "code",
   "execution_count": 24,
   "id": "4022dfd3",
   "metadata": {},
   "outputs": [
    {
     "name": "stdout",
     "output_type": "stream",
     "text": [
      "<class 'UnicodeDecodeError'>\n",
      "'utf-8' codec can't decode byte 0x8f in position 8: invalid start byte\n"
     ]
    }
   ],
   "source": [
    "try:\n",
    "    df = pd.read_csv(\"~/Documents/origindata/JP2 2020JanMonthlyTransaction.csv\")\n",
    "except ValueError:\n",
    "    exc_type, exc_value, exc_traceback = sys.exc_info()\n",
    "    print(exc_type)\n",
    "    print(exc_value)"
   ]
  },
  {
   "cell_type": "code",
   "execution_count": 25,
   "id": "c2989afb",
   "metadata": {},
   "outputs": [
    {
     "data": {
      "text/plain": [
       "True"
      ]
     },
     "execution_count": 25,
     "metadata": {},
     "output_type": "execute_result"
    }
   ],
   "source": [
    "issubclass(ValueError, Exception)"
   ]
  },
  {
   "cell_type": "code",
   "execution_count": 26,
   "id": "9d6f0cb5",
   "metadata": {},
   "outputs": [
    {
     "name": "stdout",
     "output_type": "stream",
     "text": [
      "<class 'UnicodeDecodeError'>\n",
      "'utf-8' codec can't decode byte 0x8f in position 8: invalid start byte\n"
     ]
    }
   ],
   "source": [
    "try:\n",
    "    df = pd.read_csv(\"~/Documents/origindata/JP2 2020JanMonthlyTransaction.csv\")\n",
    "except Exception:\n",
    "    exc_type, exc_value, exc_traceback = sys.exc_info()\n",
    "    print(exc_type)\n",
    "    print(exc_value)"
   ]
  },
  {
   "cell_type": "code",
   "execution_count": 27,
   "id": "5abd16d7",
   "metadata": {},
   "outputs": [
    {
     "data": {
      "text/plain": [
       "True"
      ]
     },
     "execution_count": 27,
     "metadata": {},
     "output_type": "execute_result"
    }
   ],
   "source": [
    "issubclass(Exception, BaseException)"
   ]
  },
  {
   "cell_type": "code",
   "execution_count": 28,
   "id": "2f5ba748",
   "metadata": {},
   "outputs": [
    {
     "name": "stdout",
     "output_type": "stream",
     "text": [
      "<class 'UnicodeDecodeError'>\n",
      "'utf-8' codec can't decode byte 0x8f in position 8: invalid start byte\n"
     ]
    }
   ],
   "source": [
    "try:\n",
    "    df = pd.read_csv(\"~/Documents/origindata/JP2 2020JanMonthlyTransaction.csv\")\n",
    "except BaseException:\n",
    "    exc_type, exc_value, exc_traceback = sys.exc_info()\n",
    "    print(exc_type)\n",
    "    print(exc_value)"
   ]
  },
  {
   "cell_type": "code",
   "execution_count": 29,
   "id": "2fb3e388",
   "metadata": {},
   "outputs": [
    {
     "name": "stdout",
     "output_type": "stream",
     "text": [
      "You divided by 0\n",
      "This prints because the exception was handled\n"
     ]
    }
   ],
   "source": [
    "try:\n",
    "    for i in range(3):\n",
    "        print(3/i)\n",
    "except:\n",
    "    print(\"You divided by 0\")\n",
    "    print(\"This prints because the exception was handled\")"
   ]
  },
  {
   "cell_type": "code",
   "execution_count": 30,
   "id": "848992e2",
   "metadata": {},
   "outputs": [
    {
     "name": "stdout",
     "output_type": "stream",
     "text": [
      "<class 'UnicodeDecodeError'>\n",
      "'utf-8' codec can't decode byte 0x8f in position 8: invalid start byte\n"
     ]
    }
   ],
   "source": [
    "try:\n",
    "    df = pd.read_csv(\"~/Documents/origindata/JP2 2020JanMonthlyTransaction.csv\")\n",
    "except UnicodeDecodeError:\n",
    "    exc_type, exc_value, exc_traceback = sys.exc_info()\n",
    "    print(exc_type)\n",
    "    print(exc_value)"
   ]
  },
  {
   "cell_type": "code",
   "execution_count": 38,
   "id": "a7227ca3",
   "metadata": {},
   "outputs": [
    {
     "name": "stdout",
     "output_type": "stream",
     "text": [
      "<class 'UnicodeDecodeError'>\n",
      "'utf-8' codec can't decode byte 0x8f in position 8: invalid start byte\n",
      "<class 'pandas.errors.ParserError'> 1\n",
      "Error tokenizing data. C error: Expected 1 fields in line 7, saw 22\n",
      " 1\n"
     ]
    }
   ],
   "source": [
    "try:\n",
    "    df = pd.read_csv(\"~/Documents/origindata/JP2 2020JanMonthlyTransaction.csv\")\n",
    "except UnicodeDecodeError:\n",
    "    exc_type, exc_value, exc_traceback = sys.exc_info()\n",
    "    print(exc_type)\n",
    "    print(exc_value)\n",
    "    try:\n",
    "        df = pd.read_csv(\"~/Documents/origindata/JP2 2020JanMonthlyTransaction.csv\", encoding='shift_jis')\n",
    "    except pd.errors.ParserError:\n",
    "        exc_type, exc_value, exc_traceback = sys.exc_info()\n",
    "        print(exc_type, 1)\n",
    "        print(exc_value, 1)\n",
    "        df = pd.read_csv(\"~/Documents/origindata/JP2 2020JanMonthlyTransaction.csv\", \n",
    "                         encoding='shift_jis', skiprows=6)\n",
    "except pd.errors.ParserError:\n",
    "    exc_type, exc_value, exc_traceback = sys.exc_info()\n",
    "    print(exc_type, 2)\n",
    "    print(exc_value, 2)\n",
    "    df = pd.read_csv(\"~/Documents/origindata/JP2 2020JanMonthlyTransaction.csv\", \n",
    "                     skiprows=7)"
   ]
  },
  {
   "cell_type": "code",
   "execution_count": 42,
   "id": "a2d5a2b7",
   "metadata": {},
   "outputs": [
    {
     "name": "stdout",
     "output_type": "stream",
     "text": [
      "<class 'pandas.errors.ParserError'> 2\n",
      "Error tokenizing data. C error: Expected 1 fields in line 7, saw 21\n",
      " 2\n"
     ]
    }
   ],
   "source": [
    "try:\n",
    "    df = pd.read_csv(\"~/Documents/origindata/IT2 2020JanMonthlyTransaction.csv\")\n",
    "except UnicodeDecodeError:\n",
    "    exc_type, exc_value, exc_traceback = sys.exc_info()\n",
    "    print(exc_type)\n",
    "    print(exc_value)\n",
    "    try:\n",
    "        df = pd.read_csv(\"~/Documents/origindata/IT2 2020JanMonthlyTransaction.csv\", encoding='utf_8')\n",
    "    except pd.errors.ParserError:\n",
    "        exc_type, exc_value, exc_traceback = sys.exc_info()\n",
    "        print(exc_type, 1)\n",
    "        print(exc_value, 1)\n",
    "        df = pd.read_csv(\"~/Documents/origindata/IT2 2020JanMonthlyTransaction.csv\", \n",
    "                         encoding='shift_jis', skiprows=6)\n",
    "except pd.errors.ParserError:\n",
    "    exc_type, exc_value, exc_traceback = sys.exc_info()\n",
    "    print(exc_type, 2)\n",
    "    print(exc_value, 2)\n",
    "    df = pd.read_csv(\"~/Documents/origindata/IT2 2020JanMonthlyTransaction.csv\", \n",
    "                     skiprows=6)"
   ]
  },
  {
   "cell_type": "code",
   "execution_count": 43,
   "id": "65e4bb8f",
   "metadata": {},
   "outputs": [
    {
     "data": {
      "text/plain": [
       "True"
      ]
     },
     "execution_count": 43,
     "metadata": {},
     "output_type": "execute_result"
    }
   ],
   "source": [
    "issubclass(pd.errors.ParserError, Exception)"
   ]
  },
  {
   "cell_type": "code",
   "execution_count": 44,
   "id": "73cf79bf",
   "metadata": {},
   "outputs": [
    {
     "data": {
      "text/plain": [
       "True"
      ]
     },
     "execution_count": 44,
     "metadata": {},
     "output_type": "execute_result"
    }
   ],
   "source": [
    "issubclass(pd.errors.ParserError, BaseException)"
   ]
  },
  {
   "cell_type": "code",
   "execution_count": 45,
   "id": "127b3cec",
   "metadata": {},
   "outputs": [
    {
     "name": "stdout",
     "output_type": "stream",
     "text": [
      "You divided by 0\n"
     ]
    }
   ],
   "source": [
    "a, b = 1, 0\n",
    "try:\n",
    "    print(a/b)\n",
    "    print(\"This won't be printed\")\n",
    "    print('10' + 10)\n",
    "except TypeError:\n",
    "    print(\"You added values of incompatible types\")\n",
    "except ZeroDivisionError:\n",
    "    print(\"You divided by 0\")"
   ]
  },
  {
   "cell_type": "code",
   "execution_count": 46,
   "id": "33c9939b",
   "metadata": {},
   "outputs": [
    {
     "name": "stdout",
     "output_type": "stream",
     "text": [
      "You can't divide by 0\n",
      "Will this be printed?\n"
     ]
    }
   ],
   "source": [
    "a, b = 1, 0\n",
    "try:\n",
    "    print(a/b)\n",
    "except:\n",
    "    print(\"You can't divide by 0\")\n",
    "print(\"Will this be printed?\")"
   ]
  },
  {
   "cell_type": "code",
   "execution_count": 47,
   "id": "4314c4e7",
   "metadata": {},
   "outputs": [
    {
     "name": "stdout",
     "output_type": "stream",
     "text": [
      "Invalid input\n"
     ]
    }
   ],
   "source": [
    "try:\n",
    "    print('10' + 10)\n",
    "    print(1/0)\n",
    "except (TypeError, ZeroDivisionError):\n",
    "    print(\"Invalid input\")"
   ]
  },
  {
   "cell_type": "code",
   "execution_count": 48,
   "id": "713c8fcc",
   "metadata": {},
   "outputs": [
    {
     "name": "stdout",
     "output_type": "stream",
     "text": [
      "Something went wrong\n"
     ]
    }
   ],
   "source": [
    "try:\n",
    "    print('1' + 1)\n",
    "    print(sum)\n",
    "    print(1/0)\n",
    "except NameError:\n",
    "    print(\"sum does not exist\")\n",
    "except ZeroDivisionError:\n",
    "    print(\"Cannot divide by 0\")\n",
    "except:\n",
    "    print(\"Something went wrong\")"
   ]
  },
  {
   "cell_type": "code",
   "execution_count": 49,
   "id": "8766906f",
   "metadata": {},
   "outputs": [
    {
     "ename": "SyntaxError",
     "evalue": "default 'except:' must be last (3645172749.py, line 2)",
     "output_type": "error",
     "traceback": [
      "\u001b[0;36m  File \u001b[0;32m\"/tmp/ipykernel_30998/3645172749.py\"\u001b[0;36m, line \u001b[0;32m2\u001b[0m\n\u001b[0;31m    print(1/0)\u001b[0m\n\u001b[0m    ^\u001b[0m\n\u001b[0;31mSyntaxError\u001b[0m\u001b[0;31m:\u001b[0m default 'except:' must be last\n"
     ]
    }
   ],
   "source": [
    "try:\n",
    "    print(1/0)\n",
    "except:\n",
    "    raise\n",
    "except:\n",
    "    print(\"Raised exception caught\")\n",
    "finally:\n",
    "    print(\"Okay\")\n",
    "print(\"Bye\")"
   ]
  },
  {
   "cell_type": "code",
   "execution_count": 50,
   "id": "c2c46807",
   "metadata": {},
   "outputs": [
    {
     "name": "stdout",
     "output_type": "stream",
     "text": [
      "This will print no matter what.\n"
     ]
    },
    {
     "ename": "ZeroDivisionError",
     "evalue": "division by zero",
     "output_type": "error",
     "traceback": [
      "\u001b[0;31m---------------------------------------------------------------------------\u001b[0m",
      "\u001b[0;31mZeroDivisionError\u001b[0m                         Traceback (most recent call last)",
      "\u001b[0;32m/tmp/ipykernel_30998/1160371580.py\u001b[0m in \u001b[0;36m<module>\u001b[0;34m\u001b[0m\n\u001b[1;32m      1\u001b[0m \u001b[0;32mtry\u001b[0m\u001b[0;34m:\u001b[0m\u001b[0;34m\u001b[0m\u001b[0;34m\u001b[0m\u001b[0m\n\u001b[0;32m----> 2\u001b[0;31m     \u001b[0mprint\u001b[0m\u001b[0;34m(\u001b[0m\u001b[0;36m1\u001b[0m\u001b[0;34m/\u001b[0m\u001b[0;36m0\u001b[0m\u001b[0;34m)\u001b[0m\u001b[0;34m\u001b[0m\u001b[0;34m\u001b[0m\u001b[0m\n\u001b[0m\u001b[1;32m      3\u001b[0m \u001b[0;32mexcept\u001b[0m \u001b[0mValueError\u001b[0m\u001b[0;34m:\u001b[0m\u001b[0;34m\u001b[0m\u001b[0;34m\u001b[0m\u001b[0m\n\u001b[1;32m      4\u001b[0m     \u001b[0mprint\u001b[0m\u001b[0;34m(\u001b[0m\u001b[0;34m\"This is a value error\"\u001b[0m\u001b[0;34m)\u001b[0m\u001b[0;34m\u001b[0m\u001b[0;34m\u001b[0m\u001b[0m\n\u001b[1;32m      5\u001b[0m \u001b[0;32mfinally\u001b[0m\u001b[0;34m:\u001b[0m\u001b[0;34m\u001b[0m\u001b[0;34m\u001b[0m\u001b[0m\n",
      "\u001b[0;31mZeroDivisionError\u001b[0m: division by zero"
     ]
    }
   ],
   "source": [
    "try:\n",
    "    print(1/0)\n",
    "except ValueError:\n",
    "    print(\"This is a value error\")\n",
    "finally:\n",
    "    print(\"This will print no matter what.\")"
   ]
  },
  {
   "cell_type": "code",
   "execution_count": 51,
   "id": "9af5cf12",
   "metadata": {},
   "outputs": [
    {
     "name": "stdout",
     "output_type": "stream",
     "text": [
      "Sorry, not happening\n"
     ]
    },
    {
     "ename": "ZeroDivisionError",
     "evalue": "division by zero",
     "output_type": "error",
     "traceback": [
      "\u001b[0;31m---------------------------------------------------------------------------\u001b[0m",
      "\u001b[0;31mZeroDivisionError\u001b[0m                         Traceback (most recent call last)",
      "\u001b[0;32m/tmp/ipykernel_30998/2734612243.py\u001b[0m in \u001b[0;36m<module>\u001b[0;34m\u001b[0m\n\u001b[1;32m      1\u001b[0m \u001b[0;32mtry\u001b[0m\u001b[0;34m:\u001b[0m\u001b[0;34m\u001b[0m\u001b[0;34m\u001b[0m\u001b[0m\n\u001b[0;32m----> 2\u001b[0;31m     \u001b[0mprint\u001b[0m\u001b[0;34m(\u001b[0m\u001b[0;36m1\u001b[0m\u001b[0;34m/\u001b[0m\u001b[0;36m0\u001b[0m\u001b[0;34m)\u001b[0m\u001b[0;34m\u001b[0m\u001b[0;34m\u001b[0m\u001b[0m\n\u001b[0m\u001b[1;32m      3\u001b[0m \u001b[0;32mexcept\u001b[0m \u001b[0mZeroDivisionError\u001b[0m\u001b[0;34m:\u001b[0m\u001b[0;34m\u001b[0m\u001b[0;34m\u001b[0m\u001b[0m\n",
      "\u001b[0;31mZeroDivisionError\u001b[0m: division by zero",
      "\nDuring handling of the above exception, another exception occurred:\n",
      "\u001b[0;31mZeroDivisionError\u001b[0m                         Traceback (most recent call last)",
      "\u001b[0;32m/tmp/ipykernel_30998/2734612243.py\u001b[0m in \u001b[0;36m<module>\u001b[0;34m\u001b[0m\n\u001b[1;32m      2\u001b[0m     \u001b[0mprint\u001b[0m\u001b[0;34m(\u001b[0m\u001b[0;36m1\u001b[0m\u001b[0;34m/\u001b[0m\u001b[0;36m0\u001b[0m\u001b[0;34m)\u001b[0m\u001b[0;34m\u001b[0m\u001b[0;34m\u001b[0m\u001b[0m\n\u001b[1;32m      3\u001b[0m \u001b[0;32mexcept\u001b[0m \u001b[0mZeroDivisionError\u001b[0m\u001b[0;34m:\u001b[0m\u001b[0;34m\u001b[0m\u001b[0;34m\u001b[0m\u001b[0m\n\u001b[0;32m----> 4\u001b[0;31m     \u001b[0mprint\u001b[0m\u001b[0;34m(\u001b[0m\u001b[0;36m2\u001b[0m\u001b[0;34m/\u001b[0m\u001b[0;36m0\u001b[0m\u001b[0;34m)\u001b[0m\u001b[0;34m\u001b[0m\u001b[0;34m\u001b[0m\u001b[0m\n\u001b[0m\u001b[1;32m      5\u001b[0m \u001b[0;32mfinally\u001b[0m\u001b[0;34m:\u001b[0m\u001b[0;34m\u001b[0m\u001b[0;34m\u001b[0m\u001b[0m\n\u001b[1;32m      6\u001b[0m     \u001b[0mprint\u001b[0m\u001b[0;34m(\u001b[0m\u001b[0;34m\"Sorry, not happening\"\u001b[0m\u001b[0;34m)\u001b[0m\u001b[0;34m\u001b[0m\u001b[0;34m\u001b[0m\u001b[0m\n",
      "\u001b[0;31mZeroDivisionError\u001b[0m: division by zero"
     ]
    }
   ],
   "source": [
    "try:\n",
    "    print(1/0)\n",
    "except ZeroDivisionError:\n",
    "    print(2/0)\n",
    "finally:\n",
    "    print(\"Sorry, not happening\")"
   ]
  },
  {
   "cell_type": "code",
   "execution_count": 52,
   "id": "5c4c6b4b",
   "metadata": {},
   "outputs": [
    {
     "ename": "ZeroDivisionError",
     "evalue": "",
     "output_type": "error",
     "traceback": [
      "\u001b[0;31m---------------------------------------------------------------------------\u001b[0m",
      "\u001b[0;31mZeroDivisionError\u001b[0m                         Traceback (most recent call last)",
      "\u001b[0;32m/tmp/ipykernel_30998/358704005.py\u001b[0m in \u001b[0;36m<module>\u001b[0;34m\u001b[0m\n\u001b[0;32m----> 1\u001b[0;31m \u001b[0;32mraise\u001b[0m \u001b[0mZeroDivisionError\u001b[0m\u001b[0;34m\u001b[0m\u001b[0;34m\u001b[0m\u001b[0m\n\u001b[0m",
      "\u001b[0;31mZeroDivisionError\u001b[0m: "
     ]
    }
   ],
   "source": [
    "raise ZeroDivisionError"
   ]
  },
  {
   "cell_type": "code",
   "execution_count": 53,
   "id": "2fa51016",
   "metadata": {},
   "outputs": [
    {
     "name": "stdout",
     "output_type": "stream",
     "text": [
      "10\n",
      "0\n"
     ]
    }
   ],
   "source": [
    "a, b = int(input()), int(input())"
   ]
  },
  {
   "cell_type": "code",
   "execution_count": 54,
   "id": "ec17b4cf",
   "metadata": {},
   "outputs": [
    {
     "ename": "ZeroDivisionError",
     "evalue": "",
     "output_type": "error",
     "traceback": [
      "\u001b[0;31m---------------------------------------------------------------------------\u001b[0m",
      "\u001b[0;31mZeroDivisionError\u001b[0m                         Traceback (most recent call last)",
      "\u001b[0;32m/tmp/ipykernel_30998/983603191.py\u001b[0m in \u001b[0;36m<module>\u001b[0;34m\u001b[0m\n\u001b[1;32m      1\u001b[0m \u001b[0;32mif\u001b[0m \u001b[0mb\u001b[0m \u001b[0;34m==\u001b[0m \u001b[0;36m0\u001b[0m\u001b[0;34m:\u001b[0m\u001b[0;34m\u001b[0m\u001b[0;34m\u001b[0m\u001b[0m\n\u001b[0;32m----> 2\u001b[0;31m     \u001b[0;32mraise\u001b[0m \u001b[0mZeroDivisionError\u001b[0m\u001b[0;34m\u001b[0m\u001b[0;34m\u001b[0m\u001b[0m\n\u001b[0m",
      "\u001b[0;31mZeroDivisionError\u001b[0m: "
     ]
    }
   ],
   "source": [
    "if b == 0:\n",
    "    raise ZeroDivisionError"
   ]
  },
  {
   "cell_type": "code",
   "execution_count": 55,
   "id": "7a8236ab",
   "metadata": {},
   "outputs": [
    {
     "name": "stdout",
     "output_type": "stream",
     "text": [
      "7\n",
      "0\n",
      "You divided by 0\n",
      "Will this print?\n"
     ]
    }
   ],
   "source": [
    "a, b = int(input()), int(input())\n",
    "try:\n",
    "    if b == 0:\n",
    "        raise ZeroDivisionError\n",
    "except:\n",
    "    print(\"You divided by 0\")\n",
    "print(\"Will this print?\")"
   ]
  },
  {
   "cell_type": "code",
   "execution_count": 56,
   "id": "509a1b58",
   "metadata": {},
   "outputs": [
    {
     "ename": "KeyError",
     "evalue": "",
     "output_type": "error",
     "traceback": [
      "\u001b[0;31m---------------------------------------------------------------------------\u001b[0m",
      "\u001b[0;31mKeyError\u001b[0m                                  Traceback (most recent call last)",
      "\u001b[0;32m/tmp/ipykernel_30998/1775519097.py\u001b[0m in \u001b[0;36m<module>\u001b[0;34m\u001b[0m\n\u001b[0;32m----> 1\u001b[0;31m \u001b[0;32mraise\u001b[0m \u001b[0mKeyError\u001b[0m\u001b[0;34m\u001b[0m\u001b[0;34m\u001b[0m\u001b[0m\n\u001b[0m",
      "\u001b[0;31mKeyError\u001b[0m: "
     ]
    }
   ],
   "source": [
    "raise KeyError"
   ]
  },
  {
   "cell_type": "code",
   "execution_count": 57,
   "id": "1a15986b",
   "metadata": {},
   "outputs": [
    {
     "ename": "TypeError",
     "evalue": "can only concatenate str (not \"int\") to str",
     "output_type": "error",
     "traceback": [
      "\u001b[0;31m---------------------------------------------------------------------------\u001b[0m",
      "\u001b[0;31mTypeError\u001b[0m                                 Traceback (most recent call last)",
      "\u001b[0;32m/tmp/ipykernel_30998/776306285.py\u001b[0m in \u001b[0;36m<module>\u001b[0;34m\u001b[0m\n\u001b[1;32m      1\u001b[0m \u001b[0;32mtry\u001b[0m\u001b[0;34m:\u001b[0m\u001b[0;34m\u001b[0m\u001b[0;34m\u001b[0m\u001b[0m\n\u001b[0;32m----> 2\u001b[0;31m     \u001b[0mprint\u001b[0m\u001b[0;34m(\u001b[0m\u001b[0;34m'1'\u001b[0m \u001b[0;34m+\u001b[0m \u001b[0;36m1\u001b[0m\u001b[0;34m)\u001b[0m\u001b[0;34m\u001b[0m\u001b[0;34m\u001b[0m\u001b[0m\n\u001b[0m\u001b[1;32m      3\u001b[0m \u001b[0;32mexcept\u001b[0m\u001b[0;34m:\u001b[0m\u001b[0;34m\u001b[0m\u001b[0;34m\u001b[0m\u001b[0m\n\u001b[1;32m      4\u001b[0m     \u001b[0;32mraise\u001b[0m\u001b[0;34m\u001b[0m\u001b[0;34m\u001b[0m\u001b[0m\n",
      "\u001b[0;31mTypeError\u001b[0m: can only concatenate str (not \"int\") to str"
     ]
    }
   ],
   "source": [
    "try:\n",
    "    print('1' + 1)\n",
    "except:\n",
    "    raise"
   ]
  },
  {
   "cell_type": "code",
   "execution_count": 58,
   "id": "25a16351",
   "metadata": {},
   "outputs": [
    {
     "ename": "ValueError",
     "evalue": "Inapproprate value",
     "output_type": "error",
     "traceback": [
      "\u001b[0;31m---------------------------------------------------------------------------\u001b[0m",
      "\u001b[0;31mValueError\u001b[0m                                Traceback (most recent call last)",
      "\u001b[0;32m/tmp/ipykernel_30998/1593886380.py\u001b[0m in \u001b[0;36m<module>\u001b[0;34m\u001b[0m\n\u001b[0;32m----> 1\u001b[0;31m \u001b[0;32mraise\u001b[0m \u001b[0mValueError\u001b[0m\u001b[0;34m(\u001b[0m\u001b[0;34m\"Inapproprate value\"\u001b[0m\u001b[0;34m)\u001b[0m\u001b[0;34m\u001b[0m\u001b[0;34m\u001b[0m\u001b[0m\n\u001b[0m",
      "\u001b[0;31mValueError\u001b[0m: Inapproprate value"
     ]
    }
   ],
   "source": [
    "raise ValueError(\"Inapproprate value\")"
   ]
  },
  {
   "cell_type": "code",
   "execution_count": 59,
   "id": "fec2a793",
   "metadata": {},
   "outputs": [],
   "source": [
    "assert(True)"
   ]
  },
  {
   "cell_type": "code",
   "execution_count": 60,
   "id": "0686d944",
   "metadata": {},
   "outputs": [
    {
     "ename": "AssertionError",
     "evalue": "",
     "output_type": "error",
     "traceback": [
      "\u001b[0;31m---------------------------------------------------------------------------\u001b[0m",
      "\u001b[0;31mAssertionError\u001b[0m                            Traceback (most recent call last)",
      "\u001b[0;32m/tmp/ipykernel_30998/3481756770.py\u001b[0m in \u001b[0;36m<module>\u001b[0;34m\u001b[0m\n\u001b[0;32m----> 1\u001b[0;31m \u001b[0;32massert\u001b[0m\u001b[0;34m(\u001b[0m\u001b[0;36m1\u001b[0m\u001b[0;34m==\u001b[0m\u001b[0;36m0\u001b[0m\u001b[0;34m)\u001b[0m\u001b[0;34m\u001b[0m\u001b[0;34m\u001b[0m\u001b[0m\n\u001b[0m",
      "\u001b[0;31mAssertionError\u001b[0m: "
     ]
    }
   ],
   "source": [
    "assert(1==0)"
   ]
  },
  {
   "cell_type": "code",
   "execution_count": 61,
   "id": "f8afe929",
   "metadata": {},
   "outputs": [
    {
     "name": "stdout",
     "output_type": "stream",
     "text": [
      "1\n",
      "2\n",
      "An assert failed.\n",
      "Okay\n"
     ]
    },
    {
     "ename": "AssertionError",
     "evalue": "",
     "output_type": "error",
     "traceback": [
      "\u001b[0;31m---------------------------------------------------------------------------\u001b[0m",
      "\u001b[0;31mAssertionError\u001b[0m                            Traceback (most recent call last)",
      "\u001b[0;32m/tmp/ipykernel_30998/4264085.py\u001b[0m in \u001b[0;36m<module>\u001b[0;34m\u001b[0m\n\u001b[1;32m      3\u001b[0m     \u001b[0;32massert\u001b[0m \u001b[0;36m2\u001b[0m \u001b[0;34m+\u001b[0m \u001b[0;36m2\u001b[0m \u001b[0;34m==\u001b[0m \u001b[0;36m4\u001b[0m\u001b[0;34m\u001b[0m\u001b[0;34m\u001b[0m\u001b[0m\n\u001b[1;32m      4\u001b[0m     \u001b[0mprint\u001b[0m\u001b[0;34m(\u001b[0m\u001b[0;36m2\u001b[0m\u001b[0;34m)\u001b[0m\u001b[0;34m\u001b[0m\u001b[0;34m\u001b[0m\u001b[0m\n\u001b[0;32m----> 5\u001b[0;31m     \u001b[0;32massert\u001b[0m \u001b[0;36m1\u001b[0m \u001b[0;34m+\u001b[0m \u001b[0;36m2\u001b[0m \u001b[0;34m==\u001b[0m \u001b[0;36m4\u001b[0m\u001b[0;34m\u001b[0m\u001b[0;34m\u001b[0m\u001b[0m\n\u001b[0m\u001b[1;32m      6\u001b[0m     \u001b[0mprint\u001b[0m\u001b[0;34m(\u001b[0m\u001b[0;36m3\u001b[0m\u001b[0;34m)\u001b[0m\u001b[0;34m\u001b[0m\u001b[0;34m\u001b[0m\u001b[0m\n\u001b[1;32m      7\u001b[0m \u001b[0;32mexcept\u001b[0m\u001b[0;34m:\u001b[0m\u001b[0;34m\u001b[0m\u001b[0;34m\u001b[0m\u001b[0m\n",
      "\u001b[0;31mAssertionError\u001b[0m: "
     ]
    }
   ],
   "source": [
    "try:\n",
    "    print(1)\n",
    "    assert 2 + 2 == 4\n",
    "    print(2)\n",
    "    assert 1 + 2 == 4\n",
    "    print(3)\n",
    "except:\n",
    "    print(\"An assert failed.\")\n",
    "    raise\n",
    "finally:\n",
    "    print(\"Okay\")\n",
    "print(\"Bye\")"
   ]
  },
  {
   "cell_type": "code",
   "execution_count": 62,
   "id": "aa0caaa1",
   "metadata": {},
   "outputs": [
    {
     "name": "stdout",
     "output_type": "stream",
     "text": [
      "1\n",
      "2\n",
      "An assert failed.\n",
      "Okay\n",
      "Bye\n"
     ]
    }
   ],
   "source": [
    "try:\n",
    "    print(1)\n",
    "    assert 2 + 2 == 4\n",
    "    print(2)\n",
    "    assert 1 + 2 == 4\n",
    "    print(3)\n",
    "except:\n",
    "    print(\"An assert failed.\")\n",
    "finally:\n",
    "    print(\"Okay\")\n",
    "print(\"Bye\")"
   ]
  },
  {
   "cell_type": "markdown",
   "id": "815c32b4",
   "metadata": {},
   "source": [
    "### raise   \n",
    "如果 try/except[/finally] 语句的 except 代码块中有 raise 语句，则 try/except[/finally] 之后的语句不会执行"
   ]
  },
  {
   "cell_type": "code",
   "execution_count": 63,
   "id": "775689e2",
   "metadata": {},
   "outputs": [
    {
     "ename": "AssertionError",
     "evalue": "That's a problem",
     "output_type": "error",
     "traceback": [
      "\u001b[0;31m---------------------------------------------------------------------------\u001b[0m",
      "\u001b[0;31mAssertionError\u001b[0m                            Traceback (most recent call last)",
      "\u001b[0;32m/tmp/ipykernel_30998/2466242977.py\u001b[0m in \u001b[0;36m<module>\u001b[0;34m\u001b[0m\n\u001b[0;32m----> 1\u001b[0;31m \u001b[0;32massert\u001b[0m \u001b[0;32mFalse\u001b[0m\u001b[0;34m,\u001b[0m \u001b[0;34m\"That's a problem\"\u001b[0m\u001b[0;34m\u001b[0m\u001b[0;34m\u001b[0m\u001b[0m\n\u001b[0m",
      "\u001b[0;31mAssertionError\u001b[0m: That's a problem"
     ]
    }
   ],
   "source": [
    "assert False, \"That's a problem\""
   ]
  },
  {
   "cell_type": "code",
   "execution_count": 64,
   "id": "67da04f4",
   "metadata": {},
   "outputs": [
    {
     "name": "stdout",
     "output_type": "stream",
     "text": [
      "This is a problem\n"
     ]
    },
    {
     "ename": "MyError",
     "evalue": "MyError happened",
     "output_type": "error",
     "traceback": [
      "\u001b[0;31m---------------------------------------------------------------------------\u001b[0m",
      "\u001b[0;31mMyError\u001b[0m                                   Traceback (most recent call last)",
      "\u001b[0;32m/tmp/ipykernel_30998/108295774.py\u001b[0m in \u001b[0;36m<module>\u001b[0;34m\u001b[0m\n\u001b[1;32m      1\u001b[0m \u001b[0;32mclass\u001b[0m \u001b[0mMyError\u001b[0m\u001b[0;34m(\u001b[0m\u001b[0mException\u001b[0m\u001b[0;34m)\u001b[0m\u001b[0;34m:\u001b[0m\u001b[0;34m\u001b[0m\u001b[0;34m\u001b[0m\u001b[0m\n\u001b[1;32m      2\u001b[0m     \u001b[0mprint\u001b[0m\u001b[0;34m(\u001b[0m\u001b[0;34m\"This is a problem\"\u001b[0m\u001b[0;34m)\u001b[0m\u001b[0;34m\u001b[0m\u001b[0;34m\u001b[0m\u001b[0m\n\u001b[0;32m----> 3\u001b[0;31m \u001b[0;32mraise\u001b[0m \u001b[0mMyError\u001b[0m\u001b[0;34m(\u001b[0m\u001b[0;34m\"MyError happened\"\u001b[0m\u001b[0;34m)\u001b[0m\u001b[0;34m\u001b[0m\u001b[0;34m\u001b[0m\u001b[0m\n\u001b[0m",
      "\u001b[0;31mMyError\u001b[0m: MyError happened"
     ]
    }
   ],
   "source": [
    "class MyError(Exception):\n",
    "    print(\"This is a problem\")\n",
    "raise MyError(\"MyError happened\")"
   ]
  },
  {
   "cell_type": "code",
   "execution_count": 65,
   "id": "bdb8c034",
   "metadata": {},
   "outputs": [
    {
     "name": "stdout",
     "output_type": "stream",
     "text": [
      "内部的try\n",
      "外部捕获的异常 'name'\n"
     ]
    }
   ],
   "source": [
    "try:\n",
    "    dict = {}\n",
    "    try:\n",
    "        name = dict['name']\n",
    "        if name == 'python':\n",
    "            print(\"我在python.org学习python\")\n",
    "    except IndexError as e:\n",
    "        print(e)\n",
    "    finally:\n",
    "        print('内部的try')\n",
    "except KeyError as e:\n",
    "    print('外部捕获的异常', e)"
   ]
  },
  {
   "cell_type": "code",
   "execution_count": 70,
   "id": "205ef06d",
   "metadata": {},
   "outputs": [
    {
     "name": "stdout",
     "output_type": "stream",
     "text": [
      "最内层的try\n",
      "第二层的try\n",
      "最外层捕获的异常 'name'\n",
      "(<class 'KeyError'>, KeyError('name'), <traceback object at 0x7f361f789640>)\n"
     ]
    }
   ],
   "source": [
    "try:\n",
    "    try:\n",
    "        dic = {}\n",
    "        try:\n",
    "            name = dic['name']\n",
    "            if name == 'python':\n",
    "                print(\"我在python.org学习python\")\n",
    "        except IndexError as e:\n",
    "            print(e)\n",
    "        finally:\n",
    "            print(\"最内层的try\")\n",
    "    except NameError as e:\n",
    "        print(\"第二层捕获的异常\", e)\n",
    "    finally:\n",
    "        print(\"第二层的try\")\n",
    "except Exception as e:\n",
    "    print(\"最外层捕获的异常\", e)\n",
    "    print(sys.exc_info())"
   ]
  },
  {
   "cell_type": "code",
   "execution_count": 67,
   "id": "03dab78c",
   "metadata": {},
   "outputs": [
    {
     "data": {
      "text/plain": [
       "(None, None, None)"
      ]
     },
     "execution_count": 67,
     "metadata": {},
     "output_type": "execute_result"
    }
   ],
   "source": [
    "sys.exc_info()"
   ]
  },
  {
   "cell_type": "code",
   "execution_count": 71,
   "id": "da948ae2",
   "metadata": {},
   "outputs": [
    {
     "name": "stdout",
     "output_type": "stream",
     "text": [
      "An exception occurred\n"
     ]
    }
   ],
   "source": [
    "try:\n",
    "    print(x)\n",
    "except:\n",
    "    print(\"An exception occurred\")"
   ]
  },
  {
   "cell_type": "code",
   "execution_count": 72,
   "id": "000d6aa9",
   "metadata": {},
   "outputs": [
    {
     "ename": "NameError",
     "evalue": "name 'x' is not defined",
     "output_type": "error",
     "traceback": [
      "\u001b[0;31m---------------------------------------------------------------------------\u001b[0m",
      "\u001b[0;31mNameError\u001b[0m                                 Traceback (most recent call last)",
      "\u001b[0;32m/tmp/ipykernel_30998/1353120783.py\u001b[0m in \u001b[0;36m<module>\u001b[0;34m\u001b[0m\n\u001b[0;32m----> 1\u001b[0;31m \u001b[0mprint\u001b[0m\u001b[0;34m(\u001b[0m\u001b[0mx\u001b[0m\u001b[0;34m)\u001b[0m\u001b[0;34m\u001b[0m\u001b[0;34m\u001b[0m\u001b[0m\n\u001b[0m",
      "\u001b[0;31mNameError\u001b[0m: name 'x' is not defined"
     ]
    }
   ],
   "source": [
    "print(x)"
   ]
  },
  {
   "cell_type": "code",
   "execution_count": 73,
   "id": "a2983acd",
   "metadata": {},
   "outputs": [
    {
     "name": "stdout",
     "output_type": "stream",
     "text": [
      "Variable x is not defined\n"
     ]
    }
   ],
   "source": [
    "try:\n",
    "    print(x)\n",
    "except NameError:\n",
    "    print(\"Variable x is not defined\")\n",
    "except:\n",
    "    print(\"Something else went wrong\")"
   ]
  },
  {
   "cell_type": "code",
   "execution_count": 74,
   "id": "e0e2a85d",
   "metadata": {},
   "outputs": [
    {
     "name": "stdout",
     "output_type": "stream",
     "text": [
      "Hello\n",
      "Nothing went wrong\n"
     ]
    }
   ],
   "source": [
    "try:\n",
    "    print(\"Hello\")\n",
    "except:\n",
    "    print(\"Something went wrong\")\n",
    "else:\n",
    "    print(\"Nothing went wrong\")"
   ]
  },
  {
   "cell_type": "code",
   "execution_count": 75,
   "id": "72cef73f",
   "metadata": {},
   "outputs": [
    {
     "name": "stdout",
     "output_type": "stream",
     "text": [
      "Something went wrong\n",
      "The 'try except' is finished\n"
     ]
    }
   ],
   "source": [
    "try:\n",
    "    print(x)\n",
    "except:\n",
    "    print(\"Something went wrong\")\n",
    "finally:\n",
    "    print(\"The 'try except' is finished\")"
   ]
  },
  {
   "cell_type": "code",
   "execution_count": 87,
   "id": "5d6f08b2",
   "metadata": {},
   "outputs": [
    {
     "name": "stdout",
     "output_type": "stream",
     "text": [
      "File Not Found\n",
      "The open function may be can not handle the HOME symbol\n"
     ]
    }
   ],
   "source": [
    "try:\n",
    "    f = open(\"~/Documents/demofile.txt\")\n",
    "    try:\n",
    "        f.write(\"Lorum Ipsum\")\n",
    "    except:\n",
    "        print(\"Something went wrong when writing to the file\")\n",
    "    finally:\n",
    "        f.close()\n",
    "except FileNotFoundError:\n",
    "    print(\"File Not Found\")\n",
    "    print(\"The open function may be can not handle the HOME symbol\")\n",
    "except:\n",
    "    print(\"Something went wrong when opening the file\")"
   ]
  },
  {
   "cell_type": "code",
   "execution_count": 88,
   "id": "2b6633c0",
   "metadata": {},
   "outputs": [
    {
     "name": "stdout",
     "output_type": "stream",
     "text": [
      "File Not Found\n",
      "The open function may be can not handle the HOME symbol\n"
     ]
    }
   ],
   "source": [
    "try:\n",
    "    f1 = open(\"~/Documents/demofile.txt\")\n",
    "except FileNotFoundError:\n",
    "    print(\"File Not Found\")\n",
    "    print(\"The open function may be can not handle the HOME symbol\")\n",
    "except:\n",
    "    print(\"Something went wrong when opening the file\")"
   ]
  },
  {
   "cell_type": "code",
   "execution_count": 81,
   "id": "4dfed540",
   "metadata": {},
   "outputs": [],
   "source": [
    "df = pd.read_excel(\"~/Documents/str.xlsx\", sheet_name=\"s1\")"
   ]
  },
  {
   "cell_type": "code",
   "execution_count": 82,
   "id": "344ec2f3",
   "metadata": {},
   "outputs": [
    {
     "data": {
      "text/html": [
       "<div>\n",
       "<style scoped>\n",
       "    .dataframe tbody tr th:only-of-type {\n",
       "        vertical-align: middle;\n",
       "    }\n",
       "\n",
       "    .dataframe tbody tr th {\n",
       "        vertical-align: top;\n",
       "    }\n",
       "\n",
       "    .dataframe thead th {\n",
       "        text-align: right;\n",
       "    }\n",
       "</style>\n",
       "<table border=\"1\" class=\"dataframe\">\n",
       "  <thead>\n",
       "    <tr style=\"text-align: right;\">\n",
       "      <th></th>\n",
       "      <th>id</th>\n",
       "      <th>sku</th>\n",
       "      <th>name</th>\n",
       "    </tr>\n",
       "  </thead>\n",
       "  <tbody>\n",
       "    <tr>\n",
       "      <th>0</th>\n",
       "      <td>1</td>\n",
       "      <td>NaN</td>\n",
       "      <td>aa</td>\n",
       "    </tr>\n",
       "  </tbody>\n",
       "</table>\n",
       "</div>"
      ],
      "text/plain": [
       "   id  sku name\n",
       "0   1  NaN   aa"
      ]
     },
     "execution_count": 82,
     "metadata": {},
     "output_type": "execute_result"
    }
   ],
   "source": [
    "df"
   ]
  },
  {
   "cell_type": "code",
   "execution_count": 84,
   "id": "bc8065dd",
   "metadata": {},
   "outputs": [],
   "source": [
    "f = open(\"./../../../Documents/demofile.txt\")"
   ]
  },
  {
   "cell_type": "code",
   "execution_count": 85,
   "id": "b5d97049",
   "metadata": {},
   "outputs": [
    {
     "name": "stdout",
     "output_type": "stream",
     "text": [
      "Something went wrong when writing to the file\n"
     ]
    }
   ],
   "source": [
    "try:\n",
    "    f = open(\"./../../../Documents/demofile.txt\")\n",
    "    try:\n",
    "        f.write(\"Lorum Ipsum\")\n",
    "    except:\n",
    "        print(\"Something went wrong when writing to the file\")\n",
    "    finally:\n",
    "        f.close()\n",
    "except:\n",
    "    print(\"Something went wrong when opening the file\")"
   ]
  },
  {
   "cell_type": "code",
   "execution_count": 86,
   "id": "3f7ee0ff",
   "metadata": {},
   "outputs": [],
   "source": [
    "try:\n",
    "    f1 = open(\"./../../../Documents/demofile.txt\")\n",
    "except:\n",
    "    print(\"Something went wrong when opening the file\")"
   ]
  },
  {
   "cell_type": "code",
   "execution_count": 89,
   "id": "d6ba165d",
   "metadata": {},
   "outputs": [
    {
     "ename": "Exception",
     "evalue": "Sorry, no numbers below zero",
     "output_type": "error",
     "traceback": [
      "\u001b[0;31m---------------------------------------------------------------------------\u001b[0m",
      "\u001b[0;31mException\u001b[0m                                 Traceback (most recent call last)",
      "\u001b[0;32m/tmp/ipykernel_30998/1619019459.py\u001b[0m in \u001b[0;36m<module>\u001b[0;34m\u001b[0m\n\u001b[1;32m      2\u001b[0m \u001b[0;34m\u001b[0m\u001b[0m\n\u001b[1;32m      3\u001b[0m \u001b[0;32mif\u001b[0m \u001b[0mx\u001b[0m \u001b[0;34m<\u001b[0m \u001b[0;36m0\u001b[0m\u001b[0;34m:\u001b[0m\u001b[0;34m\u001b[0m\u001b[0;34m\u001b[0m\u001b[0m\n\u001b[0;32m----> 4\u001b[0;31m     \u001b[0;32mraise\u001b[0m \u001b[0mException\u001b[0m\u001b[0;34m(\u001b[0m\u001b[0;34m\"Sorry, no numbers below zero\"\u001b[0m\u001b[0;34m)\u001b[0m\u001b[0;34m\u001b[0m\u001b[0;34m\u001b[0m\u001b[0m\n\u001b[0m",
      "\u001b[0;31mException\u001b[0m: Sorry, no numbers below zero"
     ]
    }
   ],
   "source": [
    "x = -1\n",
    "\n",
    "if x < 0:\n",
    "    raise Exception(\"Sorry, no numbers below zero\")"
   ]
  },
  {
   "cell_type": "code",
   "execution_count": 90,
   "id": "f6821568",
   "metadata": {},
   "outputs": [
    {
     "ename": "TypeError",
     "evalue": "Only integers are allowed",
     "output_type": "error",
     "traceback": [
      "\u001b[0;31m---------------------------------------------------------------------------\u001b[0m",
      "\u001b[0;31mTypeError\u001b[0m                                 Traceback (most recent call last)",
      "\u001b[0;32m/tmp/ipykernel_30998/1129330155.py\u001b[0m in \u001b[0;36m<module>\u001b[0;34m\u001b[0m\n\u001b[1;32m      2\u001b[0m \u001b[0;34m\u001b[0m\u001b[0m\n\u001b[1;32m      3\u001b[0m \u001b[0;32mif\u001b[0m \u001b[0;32mnot\u001b[0m \u001b[0mtype\u001b[0m\u001b[0;34m(\u001b[0m\u001b[0mx\u001b[0m\u001b[0;34m)\u001b[0m \u001b[0;32mis\u001b[0m \u001b[0mint\u001b[0m\u001b[0;34m:\u001b[0m\u001b[0;34m\u001b[0m\u001b[0;34m\u001b[0m\u001b[0m\n\u001b[0;32m----> 4\u001b[0;31m     \u001b[0;32mraise\u001b[0m \u001b[0mTypeError\u001b[0m\u001b[0;34m(\u001b[0m\u001b[0;34m\"Only integers are allowed\"\u001b[0m\u001b[0;34m)\u001b[0m\u001b[0;34m\u001b[0m\u001b[0;34m\u001b[0m\u001b[0m\n\u001b[0m",
      "\u001b[0;31mTypeError\u001b[0m: Only integers are allowed"
     ]
    }
   ],
   "source": [
    "x = \"hello\"\n",
    "\n",
    "if not type(x) is int:\n",
    "    raise TypeError(\"Only integers are allowed\")"
   ]
  },
  {
   "cell_type": "code",
   "execution_count": 91,
   "id": "e333021b",
   "metadata": {},
   "outputs": [
    {
     "data": {
      "text/html": [
       "<div>\n",
       "<style scoped>\n",
       "    .dataframe tbody tr th:only-of-type {\n",
       "        vertical-align: middle;\n",
       "    }\n",
       "\n",
       "    .dataframe tbody tr th {\n",
       "        vertical-align: top;\n",
       "    }\n",
       "\n",
       "    .dataframe thead th {\n",
       "        text-align: right;\n",
       "    }\n",
       "</style>\n",
       "<table border=\"1\" class=\"dataframe\">\n",
       "  <thead>\n",
       "    <tr style=\"text-align: right;\">\n",
       "      <th></th>\n",
       "      <th>id</th>\n",
       "      <th>sku</th>\n",
       "      <th>name</th>\n",
       "    </tr>\n",
       "  </thead>\n",
       "  <tbody>\n",
       "    <tr>\n",
       "      <th>0</th>\n",
       "      <td>1</td>\n",
       "      <td>NaN</td>\n",
       "      <td>aa</td>\n",
       "    </tr>\n",
       "  </tbody>\n",
       "</table>\n",
       "</div>"
      ],
      "text/plain": [
       "   id  sku name\n",
       "0   1  NaN   aa"
      ]
     },
     "execution_count": 91,
     "metadata": {},
     "output_type": "execute_result"
    }
   ],
   "source": [
    "df"
   ]
  },
  {
   "cell_type": "code",
   "execution_count": 92,
   "id": "86d52c4d",
   "metadata": {},
   "outputs": [],
   "source": [
    "df.drop(columns=\"name\", inplace=True)"
   ]
  },
  {
   "cell_type": "code",
   "execution_count": 93,
   "id": "127091d9",
   "metadata": {},
   "outputs": [
    {
     "data": {
      "text/html": [
       "<div>\n",
       "<style scoped>\n",
       "    .dataframe tbody tr th:only-of-type {\n",
       "        vertical-align: middle;\n",
       "    }\n",
       "\n",
       "    .dataframe tbody tr th {\n",
       "        vertical-align: top;\n",
       "    }\n",
       "\n",
       "    .dataframe thead th {\n",
       "        text-align: right;\n",
       "    }\n",
       "</style>\n",
       "<table border=\"1\" class=\"dataframe\">\n",
       "  <thead>\n",
       "    <tr style=\"text-align: right;\">\n",
       "      <th></th>\n",
       "      <th>id</th>\n",
       "      <th>sku</th>\n",
       "    </tr>\n",
       "  </thead>\n",
       "  <tbody>\n",
       "    <tr>\n",
       "      <th>0</th>\n",
       "      <td>1</td>\n",
       "      <td>NaN</td>\n",
       "    </tr>\n",
       "  </tbody>\n",
       "</table>\n",
       "</div>"
      ],
      "text/plain": [
       "   id  sku\n",
       "0   1  NaN"
      ]
     },
     "execution_count": 93,
     "metadata": {},
     "output_type": "execute_result"
    }
   ],
   "source": [
    "df"
   ]
  },
  {
   "cell_type": "code",
   "execution_count": 94,
   "id": "1dfc84de",
   "metadata": {},
   "outputs": [
    {
     "data": {
      "text/html": [
       "<div>\n",
       "<style scoped>\n",
       "    .dataframe tbody tr th:only-of-type {\n",
       "        vertical-align: middle;\n",
       "    }\n",
       "\n",
       "    .dataframe tbody tr th {\n",
       "        vertical-align: top;\n",
       "    }\n",
       "\n",
       "    .dataframe thead th {\n",
       "        text-align: right;\n",
       "    }\n",
       "</style>\n",
       "<table border=\"1\" class=\"dataframe\">\n",
       "  <thead>\n",
       "    <tr style=\"text-align: right;\">\n",
       "      <th></th>\n",
       "      <th>id</th>\n",
       "      <th>sku</th>\n",
       "      <th>name</th>\n",
       "    </tr>\n",
       "  </thead>\n",
       "  <tbody>\n",
       "    <tr>\n",
       "      <th>0</th>\n",
       "      <td>1</td>\n",
       "      <td>NaN</td>\n",
       "      <td>aa</td>\n",
       "    </tr>\n",
       "  </tbody>\n",
       "</table>\n",
       "</div>"
      ],
      "text/plain": [
       "   id  sku name\n",
       "0   1  NaN   aa"
      ]
     },
     "execution_count": 94,
     "metadata": {},
     "output_type": "execute_result"
    }
   ],
   "source": [
    "df = pd.read_excel(\"~/Documents/str.xlsx\", sheet_name=\"s1\")\n",
    "df"
   ]
  },
  {
   "cell_type": "code",
   "execution_count": 95,
   "id": "f0c0351d",
   "metadata": {},
   "outputs": [
    {
     "data": {
      "text/html": [
       "<div>\n",
       "<style scoped>\n",
       "    .dataframe tbody tr th:only-of-type {\n",
       "        vertical-align: middle;\n",
       "    }\n",
       "\n",
       "    .dataframe tbody tr th {\n",
       "        vertical-align: top;\n",
       "    }\n",
       "\n",
       "    .dataframe thead th {\n",
       "        text-align: right;\n",
       "    }\n",
       "</style>\n",
       "<table border=\"1\" class=\"dataframe\">\n",
       "  <thead>\n",
       "    <tr style=\"text-align: right;\">\n",
       "      <th></th>\n",
       "      <th>id</th>\n",
       "    </tr>\n",
       "  </thead>\n",
       "  <tbody>\n",
       "    <tr>\n",
       "      <th>0</th>\n",
       "      <td>1</td>\n",
       "    </tr>\n",
       "  </tbody>\n",
       "</table>\n",
       "</div>"
      ],
      "text/plain": [
       "   id\n",
       "0   1"
      ]
     },
     "execution_count": 95,
     "metadata": {},
     "output_type": "execute_result"
    }
   ],
   "source": [
    "df.drop(columns=[\"sku\", \"name\"], inplace=True)\n",
    "df"
   ]
  },
  {
   "cell_type": "code",
   "execution_count": 96,
   "id": "6bee735f",
   "metadata": {},
   "outputs": [
    {
     "data": {
      "text/plain": [
       "dict"
      ]
     },
     "execution_count": 96,
     "metadata": {},
     "output_type": "execute_result"
    }
   ],
   "source": [
    "df1 = pd.read_excel(\"~/Documents/str.xlsx\", sheet_name=None)\n",
    "type(df1)"
   ]
  },
  {
   "cell_type": "code",
   "execution_count": 97,
   "id": "6b2b1ae3",
   "metadata": {},
   "outputs": [
    {
     "data": {
      "text/plain": [
       "{'s1':    id  sku name\n",
       " 0   1  NaN   aa,\n",
       " 's2':    id    sku name\n",
       " 0   1    NaN   aa\n",
       " 1   2    NaN   bb\n",
       " 2   3  HH-Y6   cc\n",
       " 3   4  HH-Y7   dd}"
      ]
     },
     "execution_count": 97,
     "metadata": {},
     "output_type": "execute_result"
    }
   ],
   "source": [
    "df1"
   ]
  },
  {
   "cell_type": "code",
   "execution_count": 99,
   "id": "3cc2818e",
   "metadata": {},
   "outputs": [
    {
     "data": {
      "text/plain": [
       "dict_keys(['s1', 's2'])"
      ]
     },
     "execution_count": 99,
     "metadata": {},
     "output_type": "execute_result"
    }
   ],
   "source": [
    "df1.keys()"
   ]
  },
  {
   "cell_type": "code",
   "execution_count": 100,
   "id": "609c3598",
   "metadata": {},
   "outputs": [
    {
     "data": {
      "text/html": [
       "<div>\n",
       "<style scoped>\n",
       "    .dataframe tbody tr th:only-of-type {\n",
       "        vertical-align: middle;\n",
       "    }\n",
       "\n",
       "    .dataframe tbody tr th {\n",
       "        vertical-align: top;\n",
       "    }\n",
       "\n",
       "    .dataframe thead th {\n",
       "        text-align: right;\n",
       "    }\n",
       "</style>\n",
       "<table border=\"1\" class=\"dataframe\">\n",
       "  <thead>\n",
       "    <tr style=\"text-align: right;\">\n",
       "      <th></th>\n",
       "      <th>id</th>\n",
       "      <th>sku</th>\n",
       "      <th>name</th>\n",
       "    </tr>\n",
       "  </thead>\n",
       "  <tbody>\n",
       "    <tr>\n",
       "      <th>0</th>\n",
       "      <td>1</td>\n",
       "      <td>NaN</td>\n",
       "      <td>aa</td>\n",
       "    </tr>\n",
       "  </tbody>\n",
       "</table>\n",
       "</div>"
      ],
      "text/plain": [
       "   id  sku name\n",
       "0   1  NaN   aa"
      ]
     },
     "execution_count": 100,
     "metadata": {},
     "output_type": "execute_result"
    }
   ],
   "source": [
    "df1['s1']"
   ]
  },
  {
   "cell_type": "code",
   "execution_count": 101,
   "id": "c43f27b2",
   "metadata": {},
   "outputs": [
    {
     "data": {
      "text/html": [
       "<div>\n",
       "<style scoped>\n",
       "    .dataframe tbody tr th:only-of-type {\n",
       "        vertical-align: middle;\n",
       "    }\n",
       "\n",
       "    .dataframe tbody tr th {\n",
       "        vertical-align: top;\n",
       "    }\n",
       "\n",
       "    .dataframe thead th {\n",
       "        text-align: right;\n",
       "    }\n",
       "</style>\n",
       "<table border=\"1\" class=\"dataframe\">\n",
       "  <thead>\n",
       "    <tr style=\"text-align: right;\">\n",
       "      <th></th>\n",
       "      <th>id</th>\n",
       "      <th>sku</th>\n",
       "      <th>name</th>\n",
       "    </tr>\n",
       "  </thead>\n",
       "  <tbody>\n",
       "    <tr>\n",
       "      <th>0</th>\n",
       "      <td>1</td>\n",
       "      <td>NaN</td>\n",
       "      <td>aa</td>\n",
       "    </tr>\n",
       "    <tr>\n",
       "      <th>1</th>\n",
       "      <td>2</td>\n",
       "      <td>NaN</td>\n",
       "      <td>bb</td>\n",
       "    </tr>\n",
       "    <tr>\n",
       "      <th>2</th>\n",
       "      <td>3</td>\n",
       "      <td>HH-Y6</td>\n",
       "      <td>cc</td>\n",
       "    </tr>\n",
       "    <tr>\n",
       "      <th>3</th>\n",
       "      <td>4</td>\n",
       "      <td>HH-Y7</td>\n",
       "      <td>dd</td>\n",
       "    </tr>\n",
       "  </tbody>\n",
       "</table>\n",
       "</div>"
      ],
      "text/plain": [
       "   id    sku name\n",
       "0   1    NaN   aa\n",
       "1   2    NaN   bb\n",
       "2   3  HH-Y6   cc\n",
       "3   4  HH-Y7   dd"
      ]
     },
     "execution_count": 101,
     "metadata": {},
     "output_type": "execute_result"
    }
   ],
   "source": [
    "df1['s2']"
   ]
  },
  {
   "cell_type": "code",
   "execution_count": 102,
   "id": "e776cd29",
   "metadata": {},
   "outputs": [
    {
     "data": {
      "text/html": [
       "<div>\n",
       "<style scoped>\n",
       "    .dataframe tbody tr th:only-of-type {\n",
       "        vertical-align: middle;\n",
       "    }\n",
       "\n",
       "    .dataframe tbody tr th {\n",
       "        vertical-align: top;\n",
       "    }\n",
       "\n",
       "    .dataframe thead th {\n",
       "        text-align: right;\n",
       "    }\n",
       "</style>\n",
       "<table border=\"1\" class=\"dataframe\">\n",
       "  <thead>\n",
       "    <tr style=\"text-align: right;\">\n",
       "      <th></th>\n",
       "      <th>id</th>\n",
       "      <th>sku</th>\n",
       "    </tr>\n",
       "  </thead>\n",
       "  <tbody>\n",
       "    <tr>\n",
       "      <th>0</th>\n",
       "      <td>1</td>\n",
       "      <td>NaN</td>\n",
       "    </tr>\n",
       "    <tr>\n",
       "      <th>1</th>\n",
       "      <td>2</td>\n",
       "      <td>NaN</td>\n",
       "    </tr>\n",
       "    <tr>\n",
       "      <th>2</th>\n",
       "      <td>3</td>\n",
       "      <td>HH-Y6</td>\n",
       "    </tr>\n",
       "    <tr>\n",
       "      <th>3</th>\n",
       "      <td>4</td>\n",
       "      <td>HH-Y7</td>\n",
       "    </tr>\n",
       "  </tbody>\n",
       "</table>\n",
       "</div>"
      ],
      "text/plain": [
       "   id    sku\n",
       "0   1    NaN\n",
       "1   2    NaN\n",
       "2   3  HH-Y6\n",
       "3   4  HH-Y7"
      ]
     },
     "execution_count": 102,
     "metadata": {},
     "output_type": "execute_result"
    }
   ],
   "source": [
    "df1['s2'].drop(columns=\"name\")"
   ]
  },
  {
   "cell_type": "code",
   "execution_count": 103,
   "id": "ab6a01e3",
   "metadata": {},
   "outputs": [
    {
     "data": {
      "text/plain": [
       "False"
      ]
     },
     "execution_count": 103,
     "metadata": {},
     "output_type": "execute_result"
    }
   ],
   "source": [
    "issubclass(RuntimeError, OSError)"
   ]
  },
  {
   "cell_type": "code",
   "execution_count": 104,
   "id": "23b517b8",
   "metadata": {},
   "outputs": [
    {
     "data": {
      "text/plain": [
       "'AU'"
      ]
     },
     "execution_count": 104,
     "metadata": {},
     "output_type": "execute_result"
    }
   ],
   "source": [
    "aurows = 7\n",
    "filename = \"AU01\"\n",
    "filename[0:2]"
   ]
  },
  {
   "cell_type": "code",
   "execution_count": 105,
   "id": "3c41598e",
   "metadata": {},
   "outputs": [
    {
     "data": {
      "text/plain": [
       "'au'"
      ]
     },
     "execution_count": 105,
     "metadata": {},
     "output_type": "execute_result"
    }
   ],
   "source": [
    "filename[0:2].lower()"
   ]
  },
  {
   "cell_type": "code",
   "execution_count": 107,
   "id": "1046acd9",
   "metadata": {},
   "outputs": [
    {
     "data": {
      "text/plain": [
       "'aurows'"
      ]
     },
     "execution_count": 107,
     "metadata": {},
     "output_type": "execute_result"
    }
   ],
   "source": [
    "filename[0:2].lower() + 'rows'"
   ]
  },
  {
   "cell_type": "code",
   "execution_count": 114,
   "id": "748f7c13",
   "metadata": {},
   "outputs": [
    {
     "data": {
      "text/plain": [
       "'aurows'"
      ]
     },
     "execution_count": 114,
     "metadata": {},
     "output_type": "execute_result"
    }
   ],
   "source": [
    "skiprows = filename[0:2].lower() + 'rows'\n",
    "skiprows"
   ]
  },
  {
   "cell_type": "code",
   "execution_count": 117,
   "id": "ed4cf605",
   "metadata": {},
   "outputs": [
    {
     "data": {
      "text/plain": [
       "'aurows'"
      ]
     },
     "execution_count": 117,
     "metadata": {},
     "output_type": "execute_result"
    }
   ],
   "source": [
    "skiprows"
   ]
  },
  {
   "cell_type": "code",
   "execution_count": 124,
   "id": "02c9efe1",
   "metadata": {},
   "outputs": [
    {
     "data": {
      "text/plain": [
       "'aurows'"
      ]
     },
     "execution_count": 124,
     "metadata": {},
     "output_type": "execute_result"
    }
   ],
   "source": [
    "globals()['skiprows']"
   ]
  },
  {
   "cell_type": "code",
   "execution_count": 125,
   "id": "0f6c49f2",
   "metadata": {},
   "outputs": [
    {
     "data": {
      "text/plain": [
       "7"
      ]
     },
     "execution_count": 125,
     "metadata": {},
     "output_type": "execute_result"
    }
   ],
   "source": [
    "globals()[filename[0:2].lower() + 'rows']"
   ]
  },
  {
   "cell_type": "code",
   "execution_count": 126,
   "id": "b802064b",
   "metadata": {},
   "outputs": [
    {
     "data": {
      "text/plain": [
       "7"
      ]
     },
     "execution_count": 126,
     "metadata": {},
     "output_type": "execute_result"
    }
   ],
   "source": [
    "rowdict = {'aurows': 7, 'carows': 6}\n",
    "rowdict[filename[0:2].lower() + 'rows']"
   ]
  },
  {
   "cell_type": "code",
   "execution_count": 132,
   "id": "a2fce3b3",
   "metadata": {},
   "outputs": [],
   "source": [
    "class obj():\n",
    "    pass"
   ]
  },
  {
   "cell_type": "code",
   "execution_count": 133,
   "id": "6d05880a",
   "metadata": {},
   "outputs": [],
   "source": [
    "obj.carows = 7"
   ]
  },
  {
   "cell_type": "code",
   "execution_count": 134,
   "id": "7ddbf415",
   "metadata": {},
   "outputs": [
    {
     "data": {
      "text/plain": [
       "7"
      ]
     },
     "execution_count": 134,
     "metadata": {},
     "output_type": "execute_result"
    }
   ],
   "source": [
    "getattr(obj, 'carows')"
   ]
  },
  {
   "cell_type": "code",
   "execution_count": 135,
   "id": "d8d9c1b8",
   "metadata": {},
   "outputs": [
    {
     "data": {
      "text/plain": [
       "True"
      ]
     },
     "execution_count": 135,
     "metadata": {},
     "output_type": "execute_result"
    }
   ],
   "source": [
    "issubclass(obj, object)"
   ]
  },
  {
   "cell_type": "code",
   "execution_count": 136,
   "id": "25de8cfa",
   "metadata": {},
   "outputs": [
    {
     "data": {
      "text/plain": [
       "['__class__',\n",
       " '__delattr__',\n",
       " '__dir__',\n",
       " '__doc__',\n",
       " '__eq__',\n",
       " '__format__',\n",
       " '__ge__',\n",
       " '__getattribute__',\n",
       " '__gt__',\n",
       " '__hash__',\n",
       " '__init__',\n",
       " '__init_subclass__',\n",
       " '__le__',\n",
       " '__lt__',\n",
       " '__ne__',\n",
       " '__new__',\n",
       " '__reduce__',\n",
       " '__reduce_ex__',\n",
       " '__repr__',\n",
       " '__setattr__',\n",
       " '__sizeof__',\n",
       " '__str__',\n",
       " '__subclasshook__']"
      ]
     },
     "execution_count": 136,
     "metadata": {},
     "output_type": "execute_result"
    }
   ],
   "source": [
    "dir(object)"
   ]
  },
  {
   "cell_type": "code",
   "execution_count": 142,
   "id": "82ada656",
   "metadata": {},
   "outputs": [],
   "source": [
    "class ObjOne():\n",
    "    pass"
   ]
  },
  {
   "cell_type": "code",
   "execution_count": 143,
   "id": "5c0196f8",
   "metadata": {},
   "outputs": [
    {
     "data": {
      "text/plain": [
       "True"
      ]
     },
     "execution_count": 143,
     "metadata": {},
     "output_type": "execute_result"
    }
   ],
   "source": [
    "issubclass(ObjOne, object)"
   ]
  },
  {
   "cell_type": "code",
   "execution_count": 144,
   "id": "cb274ae5",
   "metadata": {},
   "outputs": [
    {
     "data": {
      "text/plain": [
       "True"
      ]
     },
     "execution_count": 144,
     "metadata": {},
     "output_type": "execute_result"
    }
   ],
   "source": [
    "obj = ObjOne()\n",
    "isinstance(obj, ObjOne)"
   ]
  },
  {
   "cell_type": "code",
   "execution_count": 145,
   "id": "875ff8cf",
   "metadata": {},
   "outputs": [
    {
     "data": {
      "text/plain": [
       "__main__.ObjOne"
      ]
     },
     "execution_count": 145,
     "metadata": {},
     "output_type": "execute_result"
    }
   ],
   "source": [
    "type(obj)"
   ]
  },
  {
   "cell_type": "code",
   "execution_count": 146,
   "id": "507895ee",
   "metadata": {},
   "outputs": [],
   "source": [
    "obj.usrows = 7"
   ]
  },
  {
   "cell_type": "code",
   "execution_count": 148,
   "id": "4a38630b",
   "metadata": {},
   "outputs": [
    {
     "data": {
      "text/plain": [
       "7"
      ]
     },
     "execution_count": 148,
     "metadata": {},
     "output_type": "execute_result"
    }
   ],
   "source": [
    "getattr(obj, 'usrows')"
   ]
  },
  {
   "cell_type": "code",
   "execution_count": 149,
   "id": "d4980f33",
   "metadata": {},
   "outputs": [],
   "source": [
    "class ObjTwo(object):\n",
    "    pass"
   ]
  },
  {
   "cell_type": "code",
   "execution_count": 150,
   "id": "5a7cb2ac",
   "metadata": {},
   "outputs": [
    {
     "data": {
      "text/plain": [
       "True"
      ]
     },
     "execution_count": 150,
     "metadata": {},
     "output_type": "execute_result"
    }
   ],
   "source": [
    "obj2 = ObjTwo()\n",
    "isinstance(obj2, ObjTwo)"
   ]
  },
  {
   "cell_type": "code",
   "execution_count": 151,
   "id": "c8d6e564",
   "metadata": {},
   "outputs": [
    {
     "data": {
      "text/plain": [
       "True"
      ]
     },
     "execution_count": 151,
     "metadata": {},
     "output_type": "execute_result"
    }
   ],
   "source": [
    "issubclass(ObjTwo, object)"
   ]
  },
  {
   "cell_type": "code",
   "execution_count": 152,
   "id": "3d346444",
   "metadata": {},
   "outputs": [
    {
     "data": {
      "text/plain": [
       "__main__.ObjTwo"
      ]
     },
     "execution_count": 152,
     "metadata": {},
     "output_type": "execute_result"
    }
   ],
   "source": [
    "type(obj2)"
   ]
  },
  {
   "cell_type": "code",
   "execution_count": 153,
   "id": "9d880b98",
   "metadata": {},
   "outputs": [],
   "source": [
    "obj2.mxrows = 6"
   ]
  },
  {
   "cell_type": "code",
   "execution_count": 155,
   "id": "5ce408d4",
   "metadata": {},
   "outputs": [
    {
     "data": {
      "text/plain": [
       "6"
      ]
     },
     "execution_count": 155,
     "metadata": {},
     "output_type": "execute_result"
    }
   ],
   "source": [
    "getattr(obj2, 'mxrows')"
   ]
  },
  {
   "cell_type": "code",
   "execution_count": 156,
   "id": "d83edf32",
   "metadata": {},
   "outputs": [
    {
     "data": {
      "text/plain": [
       "['__class__',\n",
       " '__delattr__',\n",
       " '__dict__',\n",
       " '__dir__',\n",
       " '__doc__',\n",
       " '__eq__',\n",
       " '__format__',\n",
       " '__ge__',\n",
       " '__getattribute__',\n",
       " '__gt__',\n",
       " '__hash__',\n",
       " '__init__',\n",
       " '__init_subclass__',\n",
       " '__le__',\n",
       " '__lt__',\n",
       " '__module__',\n",
       " '__ne__',\n",
       " '__new__',\n",
       " '__reduce__',\n",
       " '__reduce_ex__',\n",
       " '__repr__',\n",
       " '__setattr__',\n",
       " '__sizeof__',\n",
       " '__str__',\n",
       " '__subclasshook__',\n",
       " '__weakref__']"
      ]
     },
     "execution_count": 156,
     "metadata": {},
     "output_type": "execute_result"
    }
   ],
   "source": [
    "dir(ObjOne)"
   ]
  },
  {
   "cell_type": "code",
   "execution_count": 157,
   "id": "0ca6da91",
   "metadata": {},
   "outputs": [
    {
     "data": {
      "text/plain": [
       "['__class__',\n",
       " '__delattr__',\n",
       " '__dict__',\n",
       " '__dir__',\n",
       " '__doc__',\n",
       " '__eq__',\n",
       " '__format__',\n",
       " '__ge__',\n",
       " '__getattribute__',\n",
       " '__gt__',\n",
       " '__hash__',\n",
       " '__init__',\n",
       " '__init_subclass__',\n",
       " '__le__',\n",
       " '__lt__',\n",
       " '__module__',\n",
       " '__ne__',\n",
       " '__new__',\n",
       " '__reduce__',\n",
       " '__reduce_ex__',\n",
       " '__repr__',\n",
       " '__setattr__',\n",
       " '__sizeof__',\n",
       " '__str__',\n",
       " '__subclasshook__',\n",
       " '__weakref__',\n",
       " 'usrows']"
      ]
     },
     "execution_count": 157,
     "metadata": {},
     "output_type": "execute_result"
    }
   ],
   "source": [
    "dir(obj)"
   ]
  },
  {
   "cell_type": "code",
   "execution_count": 158,
   "id": "289dabbc",
   "metadata": {},
   "outputs": [
    {
     "data": {
      "text/plain": [
       "['__class__',\n",
       " '__delattr__',\n",
       " '__dict__',\n",
       " '__dir__',\n",
       " '__doc__',\n",
       " '__eq__',\n",
       " '__format__',\n",
       " '__ge__',\n",
       " '__getattribute__',\n",
       " '__gt__',\n",
       " '__hash__',\n",
       " '__init__',\n",
       " '__init_subclass__',\n",
       " '__le__',\n",
       " '__lt__',\n",
       " '__module__',\n",
       " '__ne__',\n",
       " '__new__',\n",
       " '__reduce__',\n",
       " '__reduce_ex__',\n",
       " '__repr__',\n",
       " '__setattr__',\n",
       " '__sizeof__',\n",
       " '__str__',\n",
       " '__subclasshook__',\n",
       " '__weakref__']"
      ]
     },
     "execution_count": 158,
     "metadata": {},
     "output_type": "execute_result"
    }
   ],
   "source": [
    "dir(ObjTwo)"
   ]
  },
  {
   "cell_type": "code",
   "execution_count": 159,
   "id": "17c2b5c4",
   "metadata": {},
   "outputs": [
    {
     "data": {
      "text/plain": [
       "['__class__',\n",
       " '__delattr__',\n",
       " '__dict__',\n",
       " '__dir__',\n",
       " '__doc__',\n",
       " '__eq__',\n",
       " '__format__',\n",
       " '__ge__',\n",
       " '__getattribute__',\n",
       " '__gt__',\n",
       " '__hash__',\n",
       " '__init__',\n",
       " '__init_subclass__',\n",
       " '__le__',\n",
       " '__lt__',\n",
       " '__module__',\n",
       " '__ne__',\n",
       " '__new__',\n",
       " '__reduce__',\n",
       " '__reduce_ex__',\n",
       " '__repr__',\n",
       " '__setattr__',\n",
       " '__sizeof__',\n",
       " '__str__',\n",
       " '__subclasshook__',\n",
       " '__weakref__',\n",
       " 'mxrows']"
      ]
     },
     "execution_count": 159,
     "metadata": {},
     "output_type": "execute_result"
    }
   ],
   "source": [
    "dir(obj2)"
   ]
  },
  {
   "cell_type": "code",
   "execution_count": 161,
   "id": "b5746152",
   "metadata": {},
   "outputs": [
    {
     "data": {
      "text/html": [
       "<div>\n",
       "<style scoped>\n",
       "    .dataframe tbody tr th:only-of-type {\n",
       "        vertical-align: middle;\n",
       "    }\n",
       "\n",
       "    .dataframe tbody tr th {\n",
       "        vertical-align: top;\n",
       "    }\n",
       "\n",
       "    .dataframe thead th {\n",
       "        text-align: right;\n",
       "    }\n",
       "</style>\n",
       "<table border=\"1\" class=\"dataframe\">\n",
       "  <thead>\n",
       "    <tr style=\"text-align: right;\">\n",
       "      <th></th>\n",
       "      <th>trade_date</th>\n",
       "      <th>ts_code</th>\n",
       "      <th>ratio</th>\n",
       "    </tr>\n",
       "  </thead>\n",
       "  <tbody>\n",
       "    <tr>\n",
       "      <th>0</th>\n",
       "      <td>20220617</td>\n",
       "      <td>601919.SH</td>\n",
       "      <td>2.30</td>\n",
       "    </tr>\n",
       "    <tr>\n",
       "      <th>1</th>\n",
       "      <td>20220616</td>\n",
       "      <td>601919.SH</td>\n",
       "      <td>2.37</td>\n",
       "    </tr>\n",
       "    <tr>\n",
       "      <th>2</th>\n",
       "      <td>20220615</td>\n",
       "      <td>601919.SH</td>\n",
       "      <td>2.52</td>\n",
       "    </tr>\n",
       "    <tr>\n",
       "      <th>3</th>\n",
       "      <td>20220614</td>\n",
       "      <td>601919.SH</td>\n",
       "      <td>2.38</td>\n",
       "    </tr>\n",
       "    <tr>\n",
       "      <th>4</th>\n",
       "      <td>20220613</td>\n",
       "      <td>601919.SH</td>\n",
       "      <td>2.46</td>\n",
       "    </tr>\n",
       "    <tr>\n",
       "      <th>...</th>\n",
       "      <td>...</td>\n",
       "      <td>...</td>\n",
       "      <td>...</td>\n",
       "    </tr>\n",
       "    <tr>\n",
       "      <th>719</th>\n",
       "      <td>20200107</td>\n",
       "      <td>601919.SH</td>\n",
       "      <td>1.00</td>\n",
       "    </tr>\n",
       "    <tr>\n",
       "      <th>720</th>\n",
       "      <td>20200106</td>\n",
       "      <td>601919.SH</td>\n",
       "      <td>0.95</td>\n",
       "    </tr>\n",
       "    <tr>\n",
       "      <th>721</th>\n",
       "      <td>20200104</td>\n",
       "      <td>601919.SH</td>\n",
       "      <td>0.91</td>\n",
       "    </tr>\n",
       "    <tr>\n",
       "      <th>722</th>\n",
       "      <td>20200103</td>\n",
       "      <td>601919.SH</td>\n",
       "      <td>0.91</td>\n",
       "    </tr>\n",
       "    <tr>\n",
       "      <th>723</th>\n",
       "      <td>20200102</td>\n",
       "      <td>601919.SH</td>\n",
       "      <td>0.90</td>\n",
       "    </tr>\n",
       "  </tbody>\n",
       "</table>\n",
       "<p>724 rows × 3 columns</p>\n",
       "</div>"
      ],
      "text/plain": [
       "    trade_date    ts_code  ratio\n",
       "0     20220617  601919.SH   2.30\n",
       "1     20220616  601919.SH   2.37\n",
       "2     20220615  601919.SH   2.52\n",
       "3     20220614  601919.SH   2.38\n",
       "4     20220613  601919.SH   2.46\n",
       "..         ...        ...    ...\n",
       "719   20200107  601919.SH   1.00\n",
       "720   20200106  601919.SH   0.95\n",
       "721   20200104  601919.SH   0.91\n",
       "722   20200103  601919.SH   0.91\n",
       "723   20200102  601919.SH   0.90\n",
       "\n",
       "[724 rows x 3 columns]"
      ]
     },
     "execution_count": 161,
     "metadata": {},
     "output_type": "execute_result"
    }
   ],
   "source": [
    "import tushare as ts\n",
    "\n",
    "pro = ts.pro_api()\n",
    "df = pro.hk_hold(ts_code='601919.SH', start_date='20200101', end_date='20220618', exchage='SH',\n",
    "                 fields=\"ts_code, trade_date, ratio\")\n",
    "df"
   ]
  },
  {
   "cell_type": "code",
   "execution_count": 162,
   "id": "2a3c7958",
   "metadata": {},
   "outputs": [
    {
     "data": {
      "text/plain": [
       "0.7"
      ]
     },
     "execution_count": 162,
     "metadata": {},
     "output_type": "execute_result"
    }
   ],
   "source": [
    "df.ratio.min()"
   ]
  },
  {
   "cell_type": "code",
   "execution_count": 163,
   "id": "0eb8edf4",
   "metadata": {},
   "outputs": [
    {
     "data": {
      "text/plain": [
       "4.38"
      ]
     },
     "execution_count": 163,
     "metadata": {},
     "output_type": "execute_result"
    }
   ],
   "source": [
    "df.ratio.max()"
   ]
  },
  {
   "cell_type": "code",
   "execution_count": 164,
   "id": "0a7d2ff3",
   "metadata": {},
   "outputs": [
    {
     "data": {
      "text/html": [
       "<div>\n",
       "<style scoped>\n",
       "    .dataframe tbody tr th:only-of-type {\n",
       "        vertical-align: middle;\n",
       "    }\n",
       "\n",
       "    .dataframe tbody tr th {\n",
       "        vertical-align: top;\n",
       "    }\n",
       "\n",
       "    .dataframe thead th {\n",
       "        text-align: right;\n",
       "    }\n",
       "</style>\n",
       "<table border=\"1\" class=\"dataframe\">\n",
       "  <thead>\n",
       "    <tr style=\"text-align: right;\">\n",
       "      <th></th>\n",
       "      <th>trade_date</th>\n",
       "      <th>ts_code</th>\n",
       "      <th>ratio</th>\n",
       "    </tr>\n",
       "  </thead>\n",
       "  <tbody>\n",
       "    <tr>\n",
       "      <th>661</th>\n",
       "      <td>20200318</td>\n",
       "      <td>601919.SH</td>\n",
       "      <td>0.7</td>\n",
       "    </tr>\n",
       "    <tr>\n",
       "      <th>662</th>\n",
       "      <td>20200317</td>\n",
       "      <td>601919.SH</td>\n",
       "      <td>0.7</td>\n",
       "    </tr>\n",
       "    <tr>\n",
       "      <th>664</th>\n",
       "      <td>20200314</td>\n",
       "      <td>601919.SH</td>\n",
       "      <td>0.7</td>\n",
       "    </tr>\n",
       "    <tr>\n",
       "      <th>665</th>\n",
       "      <td>20200313</td>\n",
       "      <td>601919.SH</td>\n",
       "      <td>0.7</td>\n",
       "    </tr>\n",
       "  </tbody>\n",
       "</table>\n",
       "</div>"
      ],
      "text/plain": [
       "    trade_date    ts_code  ratio\n",
       "661   20200318  601919.SH    0.7\n",
       "662   20200317  601919.SH    0.7\n",
       "664   20200314  601919.SH    0.7\n",
       "665   20200313  601919.SH    0.7"
      ]
     },
     "execution_count": 164,
     "metadata": {},
     "output_type": "execute_result"
    }
   ],
   "source": [
    "df[df.ratio == 0.7]"
   ]
  },
  {
   "cell_type": "code",
   "execution_count": 165,
   "id": "facbf772",
   "metadata": {},
   "outputs": [
    {
     "data": {
      "text/html": [
       "<div>\n",
       "<style scoped>\n",
       "    .dataframe tbody tr th:only-of-type {\n",
       "        vertical-align: middle;\n",
       "    }\n",
       "\n",
       "    .dataframe tbody tr th {\n",
       "        vertical-align: top;\n",
       "    }\n",
       "\n",
       "    .dataframe thead th {\n",
       "        text-align: right;\n",
       "    }\n",
       "</style>\n",
       "<table border=\"1\" class=\"dataframe\">\n",
       "  <thead>\n",
       "    <tr style=\"text-align: right;\">\n",
       "      <th></th>\n",
       "      <th>trade_date</th>\n",
       "      <th>ts_code</th>\n",
       "      <th>ratio</th>\n",
       "    </tr>\n",
       "  </thead>\n",
       "  <tbody>\n",
       "    <tr>\n",
       "      <th>274</th>\n",
       "      <td>20210714</td>\n",
       "      <td>601919.SH</td>\n",
       "      <td>4.38</td>\n",
       "    </tr>\n",
       "  </tbody>\n",
       "</table>\n",
       "</div>"
      ],
      "text/plain": [
       "    trade_date    ts_code  ratio\n",
       "274   20210714  601919.SH   4.38"
      ]
     },
     "execution_count": 165,
     "metadata": {},
     "output_type": "execute_result"
    }
   ],
   "source": [
    "df[df.ratio ==4.38]"
   ]
  },
  {
   "cell_type": "code",
   "execution_count": 166,
   "id": "43bdf705",
   "metadata": {},
   "outputs": [
    {
     "data": {
      "text/html": [
       "<div>\n",
       "<style scoped>\n",
       "    .dataframe tbody tr th:only-of-type {\n",
       "        vertical-align: middle;\n",
       "    }\n",
       "\n",
       "    .dataframe tbody tr th {\n",
       "        vertical-align: top;\n",
       "    }\n",
       "\n",
       "    .dataframe thead th {\n",
       "        text-align: right;\n",
       "    }\n",
       "</style>\n",
       "<table border=\"1\" class=\"dataframe\">\n",
       "  <thead>\n",
       "    <tr style=\"text-align: right;\">\n",
       "      <th></th>\n",
       "      <th>trade_date</th>\n",
       "      <th>ts_code</th>\n",
       "      <th>ratio</th>\n",
       "    </tr>\n",
       "  </thead>\n",
       "  <tbody>\n",
       "    <tr>\n",
       "      <th>0</th>\n",
       "      <td>20220617</td>\n",
       "      <td>601919.SH</td>\n",
       "      <td>2.30</td>\n",
       "    </tr>\n",
       "    <tr>\n",
       "      <th>1</th>\n",
       "      <td>20220616</td>\n",
       "      <td>601919.SH</td>\n",
       "      <td>2.37</td>\n",
       "    </tr>\n",
       "    <tr>\n",
       "      <th>2</th>\n",
       "      <td>20220615</td>\n",
       "      <td>601919.SH</td>\n",
       "      <td>2.52</td>\n",
       "    </tr>\n",
       "    <tr>\n",
       "      <th>3</th>\n",
       "      <td>20220614</td>\n",
       "      <td>601919.SH</td>\n",
       "      <td>2.38</td>\n",
       "    </tr>\n",
       "    <tr>\n",
       "      <th>4</th>\n",
       "      <td>20220613</td>\n",
       "      <td>601919.SH</td>\n",
       "      <td>2.46</td>\n",
       "    </tr>\n",
       "    <tr>\n",
       "      <th>...</th>\n",
       "      <td>...</td>\n",
       "      <td>...</td>\n",
       "      <td>...</td>\n",
       "    </tr>\n",
       "    <tr>\n",
       "      <th>645</th>\n",
       "      <td>20200407</td>\n",
       "      <td>601919.SH</td>\n",
       "      <td>0.76</td>\n",
       "    </tr>\n",
       "    <tr>\n",
       "      <th>646</th>\n",
       "      <td>20200406</td>\n",
       "      <td>601919.SH</td>\n",
       "      <td>0.75</td>\n",
       "    </tr>\n",
       "    <tr>\n",
       "      <th>647</th>\n",
       "      <td>20200403</td>\n",
       "      <td>601919.SH</td>\n",
       "      <td>0.75</td>\n",
       "    </tr>\n",
       "    <tr>\n",
       "      <th>648</th>\n",
       "      <td>20200402</td>\n",
       "      <td>601919.SH</td>\n",
       "      <td>0.77</td>\n",
       "    </tr>\n",
       "    <tr>\n",
       "      <th>649</th>\n",
       "      <td>20200401</td>\n",
       "      <td>601919.SH</td>\n",
       "      <td>0.77</td>\n",
       "    </tr>\n",
       "  </tbody>\n",
       "</table>\n",
       "<p>650 rows × 3 columns</p>\n",
       "</div>"
      ],
      "text/plain": [
       "    trade_date    ts_code  ratio\n",
       "0     20220617  601919.SH   2.30\n",
       "1     20220616  601919.SH   2.37\n",
       "2     20220615  601919.SH   2.52\n",
       "3     20220614  601919.SH   2.38\n",
       "4     20220613  601919.SH   2.46\n",
       "..         ...        ...    ...\n",
       "645   20200407  601919.SH   0.76\n",
       "646   20200406  601919.SH   0.75\n",
       "647   20200403  601919.SH   0.75\n",
       "648   20200402  601919.SH   0.77\n",
       "649   20200401  601919.SH   0.77\n",
       "\n",
       "[650 rows x 3 columns]"
      ]
     },
     "execution_count": 166,
     "metadata": {},
     "output_type": "execute_result"
    }
   ],
   "source": [
    "df = pro.hk_hold(ts_code='601919.SH', start_date='20200401', end_date='20220618', exchage='SH',\n",
    "                 fields=\"ts_code, trade_date, ratio\")\n",
    "df"
   ]
  },
  {
   "cell_type": "code",
   "execution_count": 167,
   "id": "923a6171",
   "metadata": {},
   "outputs": [
    {
     "data": {
      "text/plain": [
       "0.75"
      ]
     },
     "execution_count": 167,
     "metadata": {},
     "output_type": "execute_result"
    }
   ],
   "source": [
    "df.ratio.min()"
   ]
  },
  {
   "cell_type": "code",
   "execution_count": 168,
   "id": "d36e78f2",
   "metadata": {},
   "outputs": [
    {
     "data": {
      "text/html": [
       "<div>\n",
       "<style scoped>\n",
       "    .dataframe tbody tr th:only-of-type {\n",
       "        vertical-align: middle;\n",
       "    }\n",
       "\n",
       "    .dataframe tbody tr th {\n",
       "        vertical-align: top;\n",
       "    }\n",
       "\n",
       "    .dataframe thead th {\n",
       "        text-align: right;\n",
       "    }\n",
       "</style>\n",
       "<table border=\"1\" class=\"dataframe\">\n",
       "  <thead>\n",
       "    <tr style=\"text-align: right;\">\n",
       "      <th></th>\n",
       "      <th>trade_date</th>\n",
       "      <th>ts_code</th>\n",
       "      <th>ratio</th>\n",
       "    </tr>\n",
       "  </thead>\n",
       "  <tbody>\n",
       "    <tr>\n",
       "      <th>646</th>\n",
       "      <td>20200406</td>\n",
       "      <td>601919.SH</td>\n",
       "      <td>0.75</td>\n",
       "    </tr>\n",
       "    <tr>\n",
       "      <th>647</th>\n",
       "      <td>20200403</td>\n",
       "      <td>601919.SH</td>\n",
       "      <td>0.75</td>\n",
       "    </tr>\n",
       "  </tbody>\n",
       "</table>\n",
       "</div>"
      ],
      "text/plain": [
       "    trade_date    ts_code  ratio\n",
       "646   20200406  601919.SH   0.75\n",
       "647   20200403  601919.SH   0.75"
      ]
     },
     "execution_count": 168,
     "metadata": {},
     "output_type": "execute_result"
    }
   ],
   "source": [
    "df[df.ratio == 0.75]"
   ]
  },
  {
   "cell_type": "code",
   "execution_count": 169,
   "id": "a7861215",
   "metadata": {},
   "outputs": [
    {
     "data": {
      "text/html": [
       "<div>\n",
       "<style scoped>\n",
       "    .dataframe tbody tr th:only-of-type {\n",
       "        vertical-align: middle;\n",
       "    }\n",
       "\n",
       "    .dataframe tbody tr th {\n",
       "        vertical-align: top;\n",
       "    }\n",
       "\n",
       "    .dataframe thead th {\n",
       "        text-align: right;\n",
       "    }\n",
       "</style>\n",
       "<table border=\"1\" class=\"dataframe\">\n",
       "  <thead>\n",
       "    <tr style=\"text-align: right;\">\n",
       "      <th></th>\n",
       "      <th>trade_date</th>\n",
       "      <th>ts_code</th>\n",
       "      <th>ratio</th>\n",
       "    </tr>\n",
       "  </thead>\n",
       "  <tbody>\n",
       "    <tr>\n",
       "      <th>0</th>\n",
       "      <td>20220617</td>\n",
       "      <td>601919.SH</td>\n",
       "      <td>2.30</td>\n",
       "    </tr>\n",
       "    <tr>\n",
       "      <th>1</th>\n",
       "      <td>20220616</td>\n",
       "      <td>601919.SH</td>\n",
       "      <td>2.37</td>\n",
       "    </tr>\n",
       "    <tr>\n",
       "      <th>2</th>\n",
       "      <td>20220615</td>\n",
       "      <td>601919.SH</td>\n",
       "      <td>2.52</td>\n",
       "    </tr>\n",
       "    <tr>\n",
       "      <th>3</th>\n",
       "      <td>20220614</td>\n",
       "      <td>601919.SH</td>\n",
       "      <td>2.38</td>\n",
       "    </tr>\n",
       "    <tr>\n",
       "      <th>4</th>\n",
       "      <td>20220613</td>\n",
       "      <td>601919.SH</td>\n",
       "      <td>2.46</td>\n",
       "    </tr>\n",
       "    <tr>\n",
       "      <th>...</th>\n",
       "      <td>...</td>\n",
       "      <td>...</td>\n",
       "      <td>...</td>\n",
       "    </tr>\n",
       "    <tr>\n",
       "      <th>624</th>\n",
       "      <td>20200507</td>\n",
       "      <td>601919.SH</td>\n",
       "      <td>0.78</td>\n",
       "    </tr>\n",
       "    <tr>\n",
       "      <th>625</th>\n",
       "      <td>20200506</td>\n",
       "      <td>601919.SH</td>\n",
       "      <td>0.82</td>\n",
       "    </tr>\n",
       "    <tr>\n",
       "      <th>626</th>\n",
       "      <td>20200505</td>\n",
       "      <td>601919.SH</td>\n",
       "      <td>0.81</td>\n",
       "    </tr>\n",
       "    <tr>\n",
       "      <th>627</th>\n",
       "      <td>20200504</td>\n",
       "      <td>601919.SH</td>\n",
       "      <td>0.81</td>\n",
       "    </tr>\n",
       "    <tr>\n",
       "      <th>628</th>\n",
       "      <td>20200502</td>\n",
       "      <td>601919.SH</td>\n",
       "      <td>0.81</td>\n",
       "    </tr>\n",
       "  </tbody>\n",
       "</table>\n",
       "<p>629 rows × 3 columns</p>\n",
       "</div>"
      ],
      "text/plain": [
       "    trade_date    ts_code  ratio\n",
       "0     20220617  601919.SH   2.30\n",
       "1     20220616  601919.SH   2.37\n",
       "2     20220615  601919.SH   2.52\n",
       "3     20220614  601919.SH   2.38\n",
       "4     20220613  601919.SH   2.46\n",
       "..         ...        ...    ...\n",
       "624   20200507  601919.SH   0.78\n",
       "625   20200506  601919.SH   0.82\n",
       "626   20200505  601919.SH   0.81\n",
       "627   20200504  601919.SH   0.81\n",
       "628   20200502  601919.SH   0.81\n",
       "\n",
       "[629 rows x 3 columns]"
      ]
     },
     "execution_count": 169,
     "metadata": {},
     "output_type": "execute_result"
    }
   ],
   "source": [
    "df = pro.hk_hold(ts_code='601919.SH', start_date='20200501', end_date='20220618', exchage='SH',\n",
    "                 fields=\"ts_code, trade_date, ratio\")\n",
    "df"
   ]
  },
  {
   "cell_type": "code",
   "execution_count": 170,
   "id": "f8f18e1d",
   "metadata": {},
   "outputs": [
    {
     "data": {
      "text/plain": [
       "0.77"
      ]
     },
     "execution_count": 170,
     "metadata": {},
     "output_type": "execute_result"
    }
   ],
   "source": [
    "df.ratio.min()"
   ]
  },
  {
   "cell_type": "code",
   "execution_count": 171,
   "id": "991efa6e",
   "metadata": {},
   "outputs": [
    {
     "data": {
      "text/html": [
       "<div>\n",
       "<style scoped>\n",
       "    .dataframe tbody tr th:only-of-type {\n",
       "        vertical-align: middle;\n",
       "    }\n",
       "\n",
       "    .dataframe tbody tr th {\n",
       "        vertical-align: top;\n",
       "    }\n",
       "\n",
       "    .dataframe thead th {\n",
       "        text-align: right;\n",
       "    }\n",
       "</style>\n",
       "<table border=\"1\" class=\"dataframe\">\n",
       "  <thead>\n",
       "    <tr style=\"text-align: right;\">\n",
       "      <th></th>\n",
       "      <th>trade_date</th>\n",
       "      <th>ts_code</th>\n",
       "      <th>ratio</th>\n",
       "    </tr>\n",
       "  </thead>\n",
       "  <tbody>\n",
       "    <tr>\n",
       "      <th>620</th>\n",
       "      <td>20200512</td>\n",
       "      <td>601919.SH</td>\n",
       "      <td>0.77</td>\n",
       "    </tr>\n",
       "  </tbody>\n",
       "</table>\n",
       "</div>"
      ],
      "text/plain": [
       "    trade_date    ts_code  ratio\n",
       "620   20200512  601919.SH   0.77"
      ]
     },
     "execution_count": 171,
     "metadata": {},
     "output_type": "execute_result"
    }
   ],
   "source": [
    "df[df.ratio == 0.77]"
   ]
  },
  {
   "cell_type": "code",
   "execution_count": 174,
   "id": "963a274d",
   "metadata": {},
   "outputs": [
    {
     "data": {
      "text/plain": [
       "[<matplotlib.lines.Line2D at 0x7f361f7b0310>]"
      ]
     },
     "execution_count": 174,
     "metadata": {},
     "output_type": "execute_result"
    },
    {
     "data": {
      "image/png": "[encoded data removed]",
      "text/plain": [
       "<Figure size 432x288 with 1 Axes>"
      ]
     },
     "metadata": {
      "needs_background": "light"
     },
     "output_type": "display_data"
    }
   ],
   "source": [
    "import matplotlib.pyplot as plt\n",
    "%matplotlib inline\n",
    "\n",
    "x_data = df.trade_date.to_list()\n",
    "y_data = df.ratio.to_list()\n",
    "plt.xlabel('Date')\n",
    "plt.ylabel('ratio')\n",
    "plt.title('601919.SH')\n",
    "plt.plot(x_data, y_data)"
   ]
  },
  {
   "cell_type": "code",
   "execution_count": 175,
   "id": "8fd09da7",
   "metadata": {},
   "outputs": [
    {
     "data": {
      "text/plain": [
       "4.38"
      ]
     },
     "execution_count": 175,
     "metadata": {},
     "output_type": "execute_result"
    }
   ],
   "source": [
    "df.ratio.max()"
   ]
  },
  {
   "cell_type": "code",
   "execution_count": 176,
   "id": "1f762148",
   "metadata": {},
   "outputs": [
    {
     "data": {
      "text/html": [
       "<div>\n",
       "<style scoped>\n",
       "    .dataframe tbody tr th:only-of-type {\n",
       "        vertical-align: middle;\n",
       "    }\n",
       "\n",
       "    .dataframe tbody tr th {\n",
       "        vertical-align: top;\n",
       "    }\n",
       "\n",
       "    .dataframe thead th {\n",
       "        text-align: right;\n",
       "    }\n",
       "</style>\n",
       "<table border=\"1\" class=\"dataframe\">\n",
       "  <thead>\n",
       "    <tr style=\"text-align: right;\">\n",
       "      <th></th>\n",
       "      <th>trade_date</th>\n",
       "      <th>ts_code</th>\n",
       "      <th>ratio</th>\n",
       "    </tr>\n",
       "  </thead>\n",
       "  <tbody>\n",
       "    <tr>\n",
       "      <th>274</th>\n",
       "      <td>20210714</td>\n",
       "      <td>601919.SH</td>\n",
       "      <td>4.38</td>\n",
       "    </tr>\n",
       "  </tbody>\n",
       "</table>\n",
       "</div>"
      ],
      "text/plain": [
       "    trade_date    ts_code  ratio\n",
       "274   20210714  601919.SH   4.38"
      ]
     },
     "execution_count": 176,
     "metadata": {},
     "output_type": "execute_result"
    }
   ],
   "source": [
    "df[df.ratio == 4.38]"
   ]
  },
  {
   "cell_type": "code",
   "execution_count": 177,
   "id": "a716256a",
   "metadata": {},
   "outputs": [
    {
     "data": {
      "text/html": [
       "<div>\n",
       "<style scoped>\n",
       "    .dataframe tbody tr th:only-of-type {\n",
       "        vertical-align: middle;\n",
       "    }\n",
       "\n",
       "    .dataframe tbody tr th {\n",
       "        vertical-align: top;\n",
       "    }\n",
       "\n",
       "    .dataframe thead th {\n",
       "        text-align: right;\n",
       "    }\n",
       "</style>\n",
       "<table border=\"1\" class=\"dataframe\">\n",
       "  <thead>\n",
       "    <tr style=\"text-align: right;\">\n",
       "      <th></th>\n",
       "      <th>trade_date</th>\n",
       "      <th>ts_code</th>\n",
       "      <th>ratio</th>\n",
       "    </tr>\n",
       "  </thead>\n",
       "  <tbody>\n",
       "    <tr>\n",
       "      <th>0</th>\n",
       "      <td>20220617</td>\n",
       "      <td>601919.SH</td>\n",
       "      <td>2.30</td>\n",
       "    </tr>\n",
       "    <tr>\n",
       "      <th>1</th>\n",
       "      <td>20220616</td>\n",
       "      <td>601919.SH</td>\n",
       "      <td>2.37</td>\n",
       "    </tr>\n",
       "    <tr>\n",
       "      <th>2</th>\n",
       "      <td>20220615</td>\n",
       "      <td>601919.SH</td>\n",
       "      <td>2.52</td>\n",
       "    </tr>\n",
       "    <tr>\n",
       "      <th>3</th>\n",
       "      <td>20220614</td>\n",
       "      <td>601919.SH</td>\n",
       "      <td>2.38</td>\n",
       "    </tr>\n",
       "    <tr>\n",
       "      <th>4</th>\n",
       "      <td>20220613</td>\n",
       "      <td>601919.SH</td>\n",
       "      <td>2.46</td>\n",
       "    </tr>\n",
       "    <tr>\n",
       "      <th>...</th>\n",
       "      <td>...</td>\n",
       "      <td>...</td>\n",
       "      <td>...</td>\n",
       "    </tr>\n",
       "    <tr>\n",
       "      <th>280</th>\n",
       "      <td>20210707</td>\n",
       "      <td>601919.SH</td>\n",
       "      <td>3.49</td>\n",
       "    </tr>\n",
       "    <tr>\n",
       "      <th>281</th>\n",
       "      <td>20210706</td>\n",
       "      <td>601919.SH</td>\n",
       "      <td>3.39</td>\n",
       "    </tr>\n",
       "    <tr>\n",
       "      <th>282</th>\n",
       "      <td>20210705</td>\n",
       "      <td>601919.SH</td>\n",
       "      <td>3.25</td>\n",
       "    </tr>\n",
       "    <tr>\n",
       "      <th>283</th>\n",
       "      <td>20210703</td>\n",
       "      <td>601919.SH</td>\n",
       "      <td>3.30</td>\n",
       "    </tr>\n",
       "    <tr>\n",
       "      <th>284</th>\n",
       "      <td>20210702</td>\n",
       "      <td>601919.SH</td>\n",
       "      <td>3.30</td>\n",
       "    </tr>\n",
       "  </tbody>\n",
       "</table>\n",
       "<p>285 rows × 3 columns</p>\n",
       "</div>"
      ],
      "text/plain": [
       "    trade_date    ts_code  ratio\n",
       "0     20220617  601919.SH   2.30\n",
       "1     20220616  601919.SH   2.37\n",
       "2     20220615  601919.SH   2.52\n",
       "3     20220614  601919.SH   2.38\n",
       "4     20220613  601919.SH   2.46\n",
       "..         ...        ...    ...\n",
       "280   20210707  601919.SH   3.49\n",
       "281   20210706  601919.SH   3.39\n",
       "282   20210705  601919.SH   3.25\n",
       "283   20210703  601919.SH   3.30\n",
       "284   20210702  601919.SH   3.30\n",
       "\n",
       "[285 rows x 3 columns]"
      ]
     },
     "execution_count": 177,
     "metadata": {},
     "output_type": "execute_result"
    }
   ],
   "source": [
    "df = pro.hk_hold(ts_code='601919.SH', start_date='20210701', end_date='20220618', exchage='SH',\n",
    "                 fields=\"ts_code, trade_date, ratio\")\n",
    "df"
   ]
  },
  {
   "cell_type": "code",
   "execution_count": 178,
   "id": "e6bd7054",
   "metadata": {},
   "outputs": [
    {
     "data": {
      "text/plain": [
       "1.75"
      ]
     },
     "execution_count": 178,
     "metadata": {},
     "output_type": "execute_result"
    }
   ],
   "source": [
    "df.ratio.min()"
   ]
  },
  {
   "cell_type": "code",
   "execution_count": 179,
   "id": "1d5cebb1",
   "metadata": {},
   "outputs": [
    {
     "data": {
      "text/plain": [
       "[<matplotlib.lines.Line2D at 0x7f361af58160>]"
      ]
     },
     "execution_count": 179,
     "metadata": {},
     "output_type": "execute_result"
    },
    {
     "data": {
      "image/png": "[encoded data removed]",
      "text/plain": [
       "<Figure size 432x288 with 1 Axes>"
      ]
     },
     "metadata": {
      "needs_background": "light"
     },
     "output_type": "display_data"
    }
   ],
   "source": [
    "x_data = df.trade_date.to_list()\n",
    "y_data = df.ratio.to_list()\n",
    "plt.xlabel('Date')\n",
    "plt.ylabel('ratio')\n",
    "plt.title('601919.SH')\n",
    "plt.plot(x_data, y_data)"
   ]
  },
  {
   "cell_type": "code",
   "execution_count": 182,
   "id": "8f23b0f2",
   "metadata": {},
   "outputs": [
    {
     "data": {
      "text/plain": [
       "['PyQuery',\n",
       " '__builtins__',\n",
       " '__cached__',\n",
       " '__doc__',\n",
       " '__file__',\n",
       " '__loader__',\n",
       " '__name__',\n",
       " '__package__',\n",
       " '__path__',\n",
       " '__spec__',\n",
       " 'cssselectpatch',\n",
       " 'openers',\n",
       " 'pyquery',\n",
       " 'text']"
      ]
     },
     "execution_count": 182,
     "metadata": {},
     "output_type": "execute_result"
    }
   ],
   "source": [
    "import pyquery\n",
    "dir(pyquery)"
   ]
  },
  {
   "cell_type": "code",
   "execution_count": 183,
   "id": "3fc59e02",
   "metadata": {},
   "outputs": [
    {
     "data": {
      "text/plain": [
       "['Fn',\n",
       " '__add__',\n",
       " '__call__',\n",
       " '__class__',\n",
       " '__class_getitem__',\n",
       " '__contains__',\n",
       " '__delattr__',\n",
       " '__delitem__',\n",
       " '__dict__',\n",
       " '__dir__',\n",
       " '__doc__',\n",
       " '__eq__',\n",
       " '__format__',\n",
       " '__ge__',\n",
       " '__getattribute__',\n",
       " '__getitem__',\n",
       " '__gt__',\n",
       " '__hash__',\n",
       " '__html__',\n",
       " '__iadd__',\n",
       " '__imul__',\n",
       " '__init__',\n",
       " '__init_subclass__',\n",
       " '__iter__',\n",
       " '__le__',\n",
       " '__len__',\n",
       " '__lt__',\n",
       " '__module__',\n",
       " '__mul__',\n",
       " '__ne__',\n",
       " '__new__',\n",
       " '__reduce__',\n",
       " '__reduce_ex__',\n",
       " '__repr__',\n",
       " '__reversed__',\n",
       " '__rmul__',\n",
       " '__setattr__',\n",
       " '__setitem__',\n",
       " '__sizeof__',\n",
       " '__str__',\n",
       " '__subclasshook__',\n",
       " '__unicode__',\n",
       " '__weakref__',\n",
       " '_append',\n",
       " '_copy',\n",
       " '_css_to_xpath',\n",
       " '_extend',\n",
       " '_filter_only',\n",
       " '_get_root',\n",
       " '_next_all',\n",
       " '_prev_all',\n",
       " '_translator_class',\n",
       " '_traverse',\n",
       " '_traverse_parent_topdown',\n",
       " 'addClass',\n",
       " 'add_class',\n",
       " 'after',\n",
       " 'append',\n",
       " 'appendTo',\n",
       " 'append_to',\n",
       " 'attr',\n",
       " 'base_url',\n",
       " 'before',\n",
       " 'children',\n",
       " 'clear',\n",
       " 'clone',\n",
       " 'closest',\n",
       " 'contents',\n",
       " 'copy',\n",
       " 'count',\n",
       " 'css',\n",
       " 'each',\n",
       " 'empty',\n",
       " 'encoding',\n",
       " 'end',\n",
       " 'eq',\n",
       " 'extend',\n",
       " 'filter',\n",
       " 'find',\n",
       " 'fn',\n",
       " 'hasClass',\n",
       " 'has_class',\n",
       " 'height',\n",
       " 'hide',\n",
       " 'html',\n",
       " 'index',\n",
       " 'insert',\n",
       " 'insertAfter',\n",
       " 'insertBefore',\n",
       " 'insert_after',\n",
       " 'insert_before',\n",
       " 'is_',\n",
       " 'items',\n",
       " 'length',\n",
       " 'make_links_absolute',\n",
       " 'map',\n",
       " 'next',\n",
       " 'nextAll',\n",
       " 'next_all',\n",
       " 'not_',\n",
       " 'outerHtml',\n",
       " 'outer_html',\n",
       " 'parent',\n",
       " 'parents',\n",
       " 'pop',\n",
       " 'prepend',\n",
       " 'prependTo',\n",
       " 'prepend_to',\n",
       " 'prev',\n",
       " 'prevAll',\n",
       " 'prev_all',\n",
       " 'remove',\n",
       " 'removeAttr',\n",
       " 'removeClass',\n",
       " 'remove_attr',\n",
       " 'remove_class',\n",
       " 'remove_namespaces',\n",
       " 'replaceAll',\n",
       " 'replaceWith',\n",
       " 'replace_all',\n",
       " 'replace_with',\n",
       " 'reverse',\n",
       " 'root',\n",
       " 'serialize',\n",
       " 'serializeArray',\n",
       " 'serializeDict',\n",
       " 'serializePairs',\n",
       " 'serialize_array',\n",
       " 'serialize_dict',\n",
       " 'serialize_pairs',\n",
       " 'show',\n",
       " 'siblings',\n",
       " 'size',\n",
       " 'sort',\n",
       " 'text',\n",
       " 'toggleClass',\n",
       " 'toggle_class',\n",
       " 'val',\n",
       " 'width',\n",
       " 'wrap',\n",
       " 'wrapAll',\n",
       " 'wrap_all',\n",
       " 'xhtml_to_html']"
      ]
     },
     "execution_count": 183,
     "metadata": {},
     "output_type": "execute_result"
    }
   ],
   "source": [
    "dir(pyquery.PyQuery)"
   ]
  },
  {
   "cell_type": "code",
   "execution_count": 184,
   "id": "4b4b64db",
   "metadata": {},
   "outputs": [
    {
     "name": "stdout",
     "output_type": "stream",
     "text": [
      "Help on _element in module pyquery.pyquery:\n",
      "\n",
      "None\n"
     ]
    }
   ],
   "source": [
    "help(pyquery.PyQuery.attr)"
   ]
  },
  {
   "cell_type": "code",
   "execution_count": 185,
   "id": "e8252213",
   "metadata": {},
   "outputs": [
    {
     "data": {
      "text/plain": [
       "['PyQuery',\n",
       " '__builtins__',\n",
       " '__cached__',\n",
       " '__doc__',\n",
       " '__file__',\n",
       " '__loader__',\n",
       " '__name__',\n",
       " '__package__',\n",
       " '__path__',\n",
       " '__spec__',\n",
       " 'cssselectpatch',\n",
       " 'openers',\n",
       " 'pyquery',\n",
       " 'text']"
      ]
     },
     "execution_count": 185,
     "metadata": {},
     "output_type": "execute_result"
    }
   ],
   "source": [
    "dir(pyquery)"
   ]
  },
  {
   "cell_type": "code",
   "execution_count": 186,
   "id": "64c287cc",
   "metadata": {},
   "outputs": [
    {
     "data": {
      "text/plain": [
       "['FlexibleElement',\n",
       " 'JQueryTranslator',\n",
       " 'OrderedDict',\n",
       " 'PyQuery',\n",
       " '__builtins__',\n",
       " '__cached__',\n",
       " '__doc__',\n",
       " '__file__',\n",
       " '__loader__',\n",
       " '__name__',\n",
       " '__package__',\n",
       " '__spec__',\n",
       " '_camel_case_aliases',\n",
       " 'basestring',\n",
       " 'build_camel_case_aliases',\n",
       " 'callback',\n",
       " 'deepcopy',\n",
       " 'etree',\n",
       " 'extract_text',\n",
       " 'fromstring',\n",
       " 'getargspec',\n",
       " 'inspect',\n",
       " 'lxml',\n",
       " 'no_default',\n",
       " 'types',\n",
       " 'url_opener',\n",
       " 'urlencode',\n",
       " 'urljoin',\n",
       " 'with_camel_case_alias']"
      ]
     },
     "execution_count": 186,
     "metadata": {},
     "output_type": "execute_result"
    }
   ],
   "source": [
    "dir(pyquery.pyquery)"
   ]
  },
  {
   "cell_type": "code",
   "execution_count": 187,
   "id": "08943293",
   "metadata": {},
   "outputs": [
    {
     "data": {
      "text/plain": [
       "['Fn',\n",
       " '__add__',\n",
       " '__call__',\n",
       " '__class__',\n",
       " '__class_getitem__',\n",
       " '__contains__',\n",
       " '__delattr__',\n",
       " '__delitem__',\n",
       " '__dict__',\n",
       " '__dir__',\n",
       " '__doc__',\n",
       " '__eq__',\n",
       " '__format__',\n",
       " '__ge__',\n",
       " '__getattribute__',\n",
       " '__getitem__',\n",
       " '__gt__',\n",
       " '__hash__',\n",
       " '__html__',\n",
       " '__iadd__',\n",
       " '__imul__',\n",
       " '__init__',\n",
       " '__init_subclass__',\n",
       " '__iter__',\n",
       " '__le__',\n",
       " '__len__',\n",
       " '__lt__',\n",
       " '__module__',\n",
       " '__mul__',\n",
       " '__ne__',\n",
       " '__new__',\n",
       " '__reduce__',\n",
       " '__reduce_ex__',\n",
       " '__repr__',\n",
       " '__reversed__',\n",
       " '__rmul__',\n",
       " '__setattr__',\n",
       " '__setitem__',\n",
       " '__sizeof__',\n",
       " '__str__',\n",
       " '__subclasshook__',\n",
       " '__unicode__',\n",
       " '__weakref__',\n",
       " '_append',\n",
       " '_copy',\n",
       " '_css_to_xpath',\n",
       " '_extend',\n",
       " '_filter_only',\n",
       " '_get_root',\n",
       " '_next_all',\n",
       " '_prev_all',\n",
       " '_translator_class',\n",
       " '_traverse',\n",
       " '_traverse_parent_topdown',\n",
       " 'addClass',\n",
       " 'add_class',\n",
       " 'after',\n",
       " 'append',\n",
       " 'appendTo',\n",
       " 'append_to',\n",
       " 'attr',\n",
       " 'base_url',\n",
       " 'before',\n",
       " 'children',\n",
       " 'clear',\n",
       " 'clone',\n",
       " 'closest',\n",
       " 'contents',\n",
       " 'copy',\n",
       " 'count',\n",
       " 'css',\n",
       " 'each',\n",
       " 'empty',\n",
       " 'encoding',\n",
       " 'end',\n",
       " 'eq',\n",
       " 'extend',\n",
       " 'filter',\n",
       " 'find',\n",
       " 'fn',\n",
       " 'hasClass',\n",
       " 'has_class',\n",
       " 'height',\n",
       " 'hide',\n",
       " 'html',\n",
       " 'index',\n",
       " 'insert',\n",
       " 'insertAfter',\n",
       " 'insertBefore',\n",
       " 'insert_after',\n",
       " 'insert_before',\n",
       " 'is_',\n",
       " 'items',\n",
       " 'length',\n",
       " 'make_links_absolute',\n",
       " 'map',\n",
       " 'next',\n",
       " 'nextAll',\n",
       " 'next_all',\n",
       " 'not_',\n",
       " 'outerHtml',\n",
       " 'outer_html',\n",
       " 'parent',\n",
       " 'parents',\n",
       " 'pop',\n",
       " 'prepend',\n",
       " 'prependTo',\n",
       " 'prepend_to',\n",
       " 'prev',\n",
       " 'prevAll',\n",
       " 'prev_all',\n",
       " 'remove',\n",
       " 'removeAttr',\n",
       " 'removeClass',\n",
       " 'remove_attr',\n",
       " 'remove_class',\n",
       " 'remove_namespaces',\n",
       " 'replaceAll',\n",
       " 'replaceWith',\n",
       " 'replace_all',\n",
       " 'replace_with',\n",
       " 'reverse',\n",
       " 'root',\n",
       " 'serialize',\n",
       " 'serializeArray',\n",
       " 'serializeDict',\n",
       " 'serializePairs',\n",
       " 'serialize_array',\n",
       " 'serialize_dict',\n",
       " 'serialize_pairs',\n",
       " 'show',\n",
       " 'siblings',\n",
       " 'size',\n",
       " 'sort',\n",
       " 'text',\n",
       " 'toggleClass',\n",
       " 'toggle_class',\n",
       " 'val',\n",
       " 'width',\n",
       " 'wrap',\n",
       " 'wrapAll',\n",
       " 'wrap_all',\n",
       " 'xhtml_to_html']"
      ]
     },
     "execution_count": 187,
     "metadata": {},
     "output_type": "execute_result"
    }
   ],
   "source": [
    "dir(pyquery.pyquery.PyQuery)"
   ]
  },
  {
   "cell_type": "code",
   "execution_count": 188,
   "id": "127526c2",
   "metadata": {},
   "outputs": [
    {
     "data": {
      "text/plain": [
       "True"
      ]
     },
     "execution_count": 188,
     "metadata": {},
     "output_type": "execute_result"
    }
   ],
   "source": [
    "pyquery.PyQuery == pyquery.pyquery.PyQuery"
   ]
  },
  {
   "cell_type": "code",
   "execution_count": 189,
   "id": "e02d2d7c",
   "metadata": {},
   "outputs": [
    {
     "ename": "Exception",
     "evalue": "抱歉，您没有访问该接口的权限，权限的具体详情访问：https://tushare.pro/document/1?doc_id=108。",
     "output_type": "error",
     "traceback": [
      "\u001b[0;31m---------------------------------------------------------------------------\u001b[0m",
      "\u001b[0;31mException\u001b[0m                                 Traceback (most recent call last)",
      "\u001b[0;32m/tmp/ipykernel_30998/1667765756.py\u001b[0m in \u001b[0;36m<module>\u001b[0;34m\u001b[0m\n\u001b[0;32m----> 1\u001b[0;31m pro.margin_detail(ts_code='601919.SH', start_date='20220401', end_date='20220622', \n\u001b[0m\u001b[1;32m      2\u001b[0m                   fields='trade_date, ts_code, name, rzye, rzmre, rzrqye')\n",
      "\u001b[0;32m~/.pyenv/versions/3.9.7/lib/python3.9/site-packages/tushare/pro/client.py\u001b[0m in \u001b[0;36mquery\u001b[0;34m(self, api_name, fields, **kwargs)\u001b[0m\n\u001b[1;32m     42\u001b[0m             \u001b[0mresult\u001b[0m \u001b[0;34m=\u001b[0m \u001b[0mjson\u001b[0m\u001b[0;34m.\u001b[0m\u001b[0mloads\u001b[0m\u001b[0;34m(\u001b[0m\u001b[0mres\u001b[0m\u001b[0;34m.\u001b[0m\u001b[0mtext\u001b[0m\u001b[0;34m)\u001b[0m\u001b[0;34m\u001b[0m\u001b[0;34m\u001b[0m\u001b[0m\n\u001b[1;32m     43\u001b[0m             \u001b[0;32mif\u001b[0m \u001b[0mresult\u001b[0m\u001b[0;34m[\u001b[0m\u001b[0;34m'code'\u001b[0m\u001b[0;34m]\u001b[0m \u001b[0;34m!=\u001b[0m \u001b[0;36m0\u001b[0m\u001b[0;34m:\u001b[0m\u001b[0;34m\u001b[0m\u001b[0;34m\u001b[0m\u001b[0m\n\u001b[0;32m---> 44\u001b[0;31m                 \u001b[0;32mraise\u001b[0m \u001b[0mException\u001b[0m\u001b[0;34m(\u001b[0m\u001b[0mresult\u001b[0m\u001b[0;34m[\u001b[0m\u001b[0;34m'msg'\u001b[0m\u001b[0;34m]\u001b[0m\u001b[0;34m)\u001b[0m\u001b[0;34m\u001b[0m\u001b[0;34m\u001b[0m\u001b[0m\n\u001b[0m\u001b[1;32m     45\u001b[0m             \u001b[0mdata\u001b[0m \u001b[0;34m=\u001b[0m \u001b[0mresult\u001b[0m\u001b[0;34m[\u001b[0m\u001b[0;34m'data'\u001b[0m\u001b[0;34m]\u001b[0m\u001b[0;34m\u001b[0m\u001b[0;34m\u001b[0m\u001b[0m\n\u001b[1;32m     46\u001b[0m             \u001b[0mcolumns\u001b[0m \u001b[0;34m=\u001b[0m \u001b[0mdata\u001b[0m\u001b[0;34m[\u001b[0m\u001b[0;34m'fields'\u001b[0m\u001b[0;34m]\u001b[0m\u001b[0;34m\u001b[0m\u001b[0;34m\u001b[0m\u001b[0m\n",
      "\u001b[0;31mException\u001b[0m: 抱歉，您没有访问该接口的权限，权限的具体详情访问：https://tushare.pro/document/1?doc_id=108。"
     ]
    }
   ],
   "source": [
    "pro.margin_detail(ts_code='601919.SH', start_date='20220401', end_date='20220622', \n",
    "                  fields='trade_date, ts_code, name, rzye, rzmre, rzrqye')"
   ]
  },
  {
   "cell_type": "code",
   "execution_count": 190,
   "id": "0559d66b",
   "metadata": {},
   "outputs": [
    {
     "data": {
      "text/plain": [
       "3"
      ]
     },
     "execution_count": 190,
     "metadata": {},
     "output_type": "execute_result"
    }
   ],
   "source": [
    "data = {\n",
    "    'id': '1001',\n",
    "    'name': 'Jacky',\n",
    "    'age': 60\n",
    "}\n",
    "len(data)"
   ]
  },
  {
   "cell_type": "code",
   "execution_count": 191,
   "id": "598e45c9",
   "metadata": {},
   "outputs": [
    {
     "data": {
      "text/plain": [
       "dict_keys(['id', 'name', 'age'])"
      ]
     },
     "execution_count": 191,
     "metadata": {},
     "output_type": "execute_result"
    }
   ],
   "source": [
    "data.keys()"
   ]
  },
  {
   "cell_type": "code",
   "execution_count": 192,
   "id": "b8e286fd",
   "metadata": {},
   "outputs": [
    {
     "data": {
      "text/plain": [
       "'id, name, age'"
      ]
     },
     "execution_count": 192,
     "metadata": {},
     "output_type": "execute_result"
    }
   ],
   "source": [
    "', '.join(data.keys())"
   ]
  },
  {
   "cell_type": "code",
   "execution_count": 193,
   "id": "d7cd0864",
   "metadata": {},
   "outputs": [
    {
     "data": {
      "text/plain": [
       "'%s, %s, %s'"
      ]
     },
     "execution_count": 193,
     "metadata": {},
     "output_type": "execute_result"
    }
   ],
   "source": [
    "', '.join(['%s'] * 3)"
   ]
  },
  {
   "cell_type": "code",
   "execution_count": 194,
   "id": "d11b41e3",
   "metadata": {},
   "outputs": [
    {
     "data": {
      "text/plain": [
       "['%s', '%s', '%s']"
      ]
     },
     "execution_count": 194,
     "metadata": {},
     "output_type": "execute_result"
    }
   ],
   "source": [
    "['%s'] * 3"
   ]
  },
  {
   "cell_type": "code",
   "execution_count": 195,
   "id": "fb8227a5",
   "metadata": {},
   "outputs": [
    {
     "data": {
      "text/plain": [
       "'%, s, %, s, %, s'"
      ]
     },
     "execution_count": 195,
     "metadata": {},
     "output_type": "execute_result"
    }
   ],
   "source": [
    "', '.join('%s' * 3)"
   ]
  },
  {
   "cell_type": "code",
   "execution_count": 196,
   "id": "0d874e3e",
   "metadata": {},
   "outputs": [
    {
     "data": {
      "text/plain": [
       "'since_id=4774091682746723'"
      ]
     },
     "execution_count": 196,
     "metadata": {},
     "output_type": "execute_result"
    }
   ],
   "source": [
    "from urllib.parse import urlencode\n",
    "\n",
    "base_url = \"https://m.weibo.cn/api/container/getIndex?type=uid&value=2830678474&containerid=1076032830678474\"\n",
    "params = {'since_id': '4774091682746723'}\n",
    "urlencode(params)"
   ]
  },
  {
   "cell_type": "code",
   "execution_count": 198,
   "id": "3a01f64a",
   "metadata": {},
   "outputs": [
    {
     "data": {
      "text/plain": [
       "'https://m.weibo.cn/api/container/getIndex?type=uid&value=2830678474&containerid=1076032830678474since_id=4774091682746723'"
      ]
     },
     "execution_count": 198,
     "metadata": {},
     "output_type": "execute_result"
    }
   ],
   "source": [
    "base_url + urlencode(params)"
   ]
  },
  {
   "cell_type": "code",
   "execution_count": 199,
   "id": "87a9bf8f",
   "metadata": {},
   "outputs": [
    {
     "data": {
      "text/plain": [
       "'containerid=1076032830678474&since_id=4774091682746723'"
      ]
     },
     "execution_count": 199,
     "metadata": {},
     "output_type": "execute_result"
    }
   ],
   "source": [
    "params = {'containerid': '1076032830678474', 'since_id': '4774091682746723'}\n",
    "urlencode(params)"
   ]
  },
  {
   "cell_type": "code",
   "execution_count": 200,
   "id": "fdd04ff5",
   "metadata": {},
   "outputs": [
    {
     "name": "stdout",
     "output_type": "stream",
     "text": [
      "{'ok': 1, 'data': {'cardlistInfo': {'containerid': '1076032830678474', 'v_p': 42, 'show_style': 1, 'total': 198, 'since_id': 4774091682746723}, 'cards': [{'card_type': 9, 'profile_type_id': 'proweibo_4787545654952441', 'itemid': '1076032830678474_-_4787545654952441', 'scheme': 'https://m.weibo.cn/status/LAJsFkMm5?mblogid=LAJsFkMm5&luicode=10000011&lfid=1076032830678474', 'mblog': {'visible': {'type': 0, 'list_id': 0}, 'created_at': 'Mon Jul 04 16:28:14 +0800 2022', 'id': '4787545654952441', 'mid': '4787545654952441', 'can_edit': False, 'show_additional_indication': 0, 'text': '转发微博', 'source': 'iPhone 12 Pro Max', 'favorited': False, 'pic_ids': [], 'is_paid': False, 'mblog_vip_type': 0, 'user': {'id': 2830678474, 'screen_name': '崔庆才丨静觅', 'profile_image_url': 'https://tva3.sinaimg.cn/crop.0.0.458.458.180/a8b8b9cajw8exsgha3l4uj20cq0crmy5.jpg?KID=imgbed,tva&Expires=1657798917&ssig=f9r6AEyfyW', 'profile_url': 'https://m.weibo.cn/u/2830678474?uid=2830678474&luicode=10000011&lfid=1076032830678474', 'statuses_count': 2507, 'verified': True, 'verified_type': 0, 'verified_type_ext': 0, 'verified_reason': '互联网科技博主', 'close_blue_v': False, 'description': 'cuiqingcai.com', 'gender': 'm', 'mbtype': 12, 'urank': 36, 'mbrank': 7, 'follow_me': False, 'following': False, 'follow_count': 1172, 'followers_count': '1.1万', 'followers_count_str': '1.1万', 'cover_image_phone': 'https://tva1.sinaimg.cn/crop.0.0.640.640.640/549d0121tw1egm1kjly3jj20hs0hsq4f.jpg', 'avatar_hd': 'https://ww3.sinaimg.cn/orj480/a8b8b9cajw8exsgha3l4uj20cq0crmy5.jpg', 'like': False, 'like_me': False, 'badge': {'bind_taobao': 1, 'unread_pool': 1, 'unread_pool_ext': 1, 'dzwbqlx_2016': 1, 'panda': 1, 'user_name_certificate': 1, 'qixi_2018': 1, 'status_visible': 1, 'hongrenjie_2019': 1, 'china_2019': 1, 'hongkong_2019': 1, 'hongbao_2020': 2, 'pc_new': 7, 'party_cardid_state': 1, 'aoyun_2021': 1}}, 'retweeted_status': {'visible': {'type': 0, 'list_id': 0}, 'created_at': 'Mon Jul 04 11:50:23 +0800 2022', 'id': '4787475727520684', 'mid': '4787475727520684', 'can_edit': False, 'show_additional_indication': 0, 'text': '怎么看待阿里巴巴关于要裁员2万人回应?<br /><br />我本来是想实名的，考虑到老东家可能还是有人知道我在这里，还是算了。<br /><br />说实话，是好事，是给这2w人一个机会，现在裁员有赔偿，你拿到这笔赔偿金可以给自己一个缓冲期。而且，就业市场没有之后那么拥挤。<br /><br />先说结论，后面阿里巴巴大概率是分拆或者破产的。<br /><br />我 ...<a href=\"/status/4787475727520684\">全文</a>', 'textLength': 1836, 'source': '荣耀30 5G', 'favorited': False, 'pic_ids': ['5f389265ly1h3ur3r6k3oj20iz0q678o'], 'thumbnail_pic': 'https://wx1.sinaimg.cn/thumbnail/5f389265ly1h3ur3r6k3oj20iz0q678o.jpg', 'bmiddle_pic': 'http://wx1.sinaimg.cn/bmiddle/5f389265ly1h3ur3r6k3oj20iz0q678o.jpg', 'original_pic': 'https://wx1.sinaimg.cn/large/5f389265ly1h3ur3r6k3oj20iz0q678o.jpg', 'is_paid': False, 'mblog_vip_type': 0, 'user': {'id': 1597543013, 'screen_name': '延向东', 'profile_image_url': 'https://tvax4.sinaimg.cn/crop.0.0.1080.1080.180/5f389265ly8gy0or3ixb2j20u00u075v.jpg?KID=imgbed,tva&Expires=1657798917&ssig=rA%2BBV8v%2BKg', 'profile_url': 'https://m.weibo.cn/u/1597543013?uid=1597543013&luicode=10000011&lfid=1076032830678474', 'statuses_count': 1976, 'verified': True, 'verified_type': 0, 'verified_type_ext': 0, 'verified_reason': '头条文章作者', 'close_blue_v': False, 'description': '我思故我在', 'gender': 'm', 'mbtype': 2, 'urank': 30, 'mbrank': 6, 'follow_me': False, 'following': False, 'follow_count': 2165, 'followers_count': '40万', 'followers_count_str': '40万', 'cover_image_phone': 'https://tva1.sinaimg.cn/crop.0.0.640.640.640/9d44112bjw1f1xl1c10tuj20hs0hs0tw.jpg', 'avatar_hd': 'https://wx4.sinaimg.cn/orj480/5f389265ly8gy0or3ixb2j20u00u075v.jpg', 'like': False, 'like_me': False, 'badge': {'bind_taobao': 1, 'follow_whitelist_video': 1, 'user_name_certificate': 1, 'relation_display': 1, 'fishfarm_2021': 1, 'iplocationchange_2022': 1}}, 'reposts_count': 10, 'comments_count': 5, 'reprint_cmt_count': 0, 'attitudes_count': 20, 'pending_approval_count': 0, 'isLongText': True, 'mlevel': 0, 'darwin_tags': [], 'hot_page': {'fid': '232532_mblog', 'feed_detail_type': 0}, 'mblogtype': 0, 'rid': '0_0_50_6670129651442252876_0_0_0', 'number_display_strategy': {'apply_scenario_flag': 3, 'display_text_min_number': 1000000, 'display_text': '100万+'}, 'content_auth': 0, 'comment_manage_info': {'comment_permission_type': -1, 'approval_comment_type': 0, 'comment_sort_type': 0}, 'pic_num': 1, 'new_comment_style': 0, 'region_name': '发布于 北京', 'region_opt': 1, 'edit_config': {'edited': False}, 'pics': [{'pid': '5f389265ly1h3ur3r6k3oj20iz0q678o', 'url': 'https://wx1.sinaimg.cn/orj360/5f389265ly1h3ur3r6k3oj20iz0q678o.jpg', 'size': 'orj360', 'geo': {'width': 360, 'height': 496, 'croped': False}, 'large': {'size': 'large', 'url': 'https://wx1.sinaimg.cn/large/5f389265ly1h3ur3r6k3oj20iz0q678o.jpg', 'geo': {'width': '683', 'height': '942', 'croped': False}}}], 'bid': 'LAHDSvytm'}, 'reposts_count': 0, 'comments_count': 0, 'reprint_cmt_count': 0, 'attitudes_count': 1, 'pending_approval_count': 0, 'isLongText': False, 'mlevel': 0, 'darwin_tags': [], 'hot_page': {'fid': '232532_mblog', 'feed_detail_type': 0}, 'mblogtype': 0, 'rid': '0_0_50_6670129651442252876_0_0_0', 'cardid': 'vip_010', 'extern_safe': 0, 'number_display_strategy': {'apply_scenario_flag': 3, 'display_text_min_number': 1000000, 'display_text': '100万+'}, 'content_auth': 0, 'comment_manage_info': {'comment_permission_type': -1, 'approval_comment_type': 0, 'comment_sort_type': 0}, 'repost_type': 1, 'pic_num': 0, 'new_comment_style': 0, 'ab_switcher': 4, 'region_name': '发布于 北京', 'region_opt': 1, 'mblog_menu_new_style': 0, 'edit_config': {'edited': False}, 'raw_text': '转发微博', 'bid': 'LAJsFkMm5'}}, {'card_type': 9, 'profile_type_id': 'proweibo_4787127352559634', 'itemid': '1076032830678474_-_4787127352559634', 'scheme': 'https://m.weibo.cn/status/LAyzZaJSq?mblogid=LAyzZaJSq&luicode=10000011&lfid=1076032830678474', 'mblog': {'visible': {'type': 0, 'list_id': 0}, 'created_at': 'Sun Jul 03 12:46:04 +0800 2022', 'id': '4787127352559634', 'mid': '4787127352559634', 'can_edit': False, 'show_additional_indication': 0, 'text': '转发微博', 'source': 'iPhone 12 Pro Max', 'favorited': False, 'pic_ids': [], 'is_paid': False, 'mblog_vip_type': 0, 'user': {'id': 2830678474, 'screen_name': '崔庆才丨静觅', 'profile_image_url': 'https://tva3.sinaimg.cn/crop.0.0.458.458.180/a8b8b9cajw8exsgha3l4uj20cq0crmy5.jpg?KID=imgbed,tva&Expires=1657798917&ssig=f9r6AEyfyW', 'profile_url': 'https://m.weibo.cn/u/2830678474?uid=2830678474&luicode=10000011&lfid=1076032830678474', 'statuses_count': 2507, 'verified': True, 'verified_type': 0, 'verified_type_ext': 0, 'verified_reason': '互联网科技博主', 'close_blue_v': False, 'description': 'cuiqingcai.com', 'gender': 'm', 'mbtype': 12, 'urank': 36, 'mbrank': 7, 'follow_me': False, 'following': False, 'follow_count': 1172, 'followers_count': '1.1万', 'followers_count_str': '1.1万', 'cover_image_phone': 'https://tva1.sinaimg.cn/crop.0.0.640.640.640/549d0121tw1egm1kjly3jj20hs0hsq4f.jpg', 'avatar_hd': 'https://ww3.sinaimg.cn/orj480/a8b8b9cajw8exsgha3l4uj20cq0crmy5.jpg', 'like': False, 'like_me': False, 'badge': {'bind_taobao': 1, 'unread_pool': 1, 'unread_pool_ext': 1, 'dzwbqlx_2016': 1, 'panda': 1, 'user_name_certificate': 1, 'qixi_2018': 1, 'status_visible': 1, 'hongrenjie_2019': 1, 'china_2019': 1, 'hongkong_2019': 1, 'hongbao_2020': 2, 'pc_new': 7, 'party_cardid_state': 1, 'aoyun_2021': 1}}, 'retweeted_status': {'visible': {'type': 0, 'list_id': 0}, 'created_at': 'Sun Jul 03 11:08:40 +0800 2022', 'id': '4787102842098366', 'mid': '4787102842098366', 'can_edit': False, 'show_additional_indication': 0, 'text': '我判断以后各大城市都会争抢两类人才，1）高学历毕业生 2）高水平创业者 。原因很简单，这些人能买房，土地财政能run下去；解决和带动就业，城市活力能起来。我大胆预测未来包括北上都会让985毕业生无条件落户；创业老板解决xx人就业直接落户；纳税xx元直接落户。李铁为证，其他二线城市会越来越难，只 ...<a href=\"/status/4787102842098366\">全文</a>', 'textLength': 306, 'source': 'iPhone 13 Pro Max', 'favorited': False, 'pic_ids': [], 'is_paid': False, 'mblog_vip_type': 0, 'user': {'id': 2131170823, 'screen_name': '梁博penny', 'profile_image_url': 'https://tva2.sinaimg.cn/crop.0.0.180.180.180/7f071607jw1e8qgp5bmzyj2050050aa8.jpg?KID=imgbed,tva&Expires=1657798917&ssig=jPI4DdyfD9', 'profile_url': 'https://m.weibo.cn/u/2131170823?uid=2131170823&luicode=10000011&lfid=1076032830678474', 'statuses_count': 2737, 'verified': False, 'verified_type': -1, 'close_blue_v': False, 'description': '北京八友科技联合创始人，清华大学计算机人工智能博士，创业者，详情见：http://www.pennyliang.com/', 'gender': 'm', 'mbtype': 12, 'urank': 22, 'mbrank': 4, 'follow_me': False, 'following': False, 'follow_count': 1095, 'followers_count': '12万', 'followers_count_str': '12万', 'cover_image_phone': 'https://tva1.sinaimg.cn/crop.0.0.640.640.640/549d0121tw1egm1kjly3jj20hs0hsq4f.jpg', 'avatar_hd': 'https://ww2.sinaimg.cn/orj480/7f071607jw1e8qgp5bmzyj2050050aa8.jpg', 'like': False, 'like_me': False, 'badge': {'user_name_certificate': 1, 'weibo_display_fans': 1, 'relation_display': 1, 'status_visible': 1, 'pc_new': 7, 'pc_experiment': 1, 'city_university': 10, 'gaokao_2022': 1, 'hangmu_2022': 1}}, 'reposts_count': 68, 'comments_count': 89, 'reprint_cmt_count': 0, 'attitudes_count': 278, 'pending_approval_count': 0, 'isLongText': True, 'mlevel': 0, 'darwin_tags': [], 'hot_page': {'fid': '232532_mblog', 'feed_detail_type': 0}, 'mblogtype': 0, 'rid': '1_0_50_6670129651442252876_0_0_0', 'number_display_strategy': {'apply_scenario_flag': 3, 'display_text_min_number': 1000000, 'display_text': '100万+'}, 'content_auth': 0, 'safe_tags': 34359738368, 'comment_manage_info': {'comment_permission_type': -1, 'approval_comment_type': 0, 'comment_sort_type': 0}, 'pic_num': 0, 'new_comment_style': 0, 'region_name': '发布于 江苏', 'region_opt': 1, 'edit_config': {'edited': False}, 'bid': 'LAxWs8NSC'}, 'reposts_count': 0, 'comments_count': 0, 'reprint_cmt_count': 0, 'attitudes_count': 0, 'pending_approval_count': 0, 'isLongText': False, 'mlevel': 0, 'darwin_tags': [], 'hot_page': {'fid': '232532_mblog', 'feed_detail_type': 0}, 'mblogtype': 0, 'rid': '1_0_50_6670129651442252876_0_0_0', 'cardid': 'vip_010', 'extern_safe': 0, 'number_display_strategy': {'apply_scenario_flag': 3, 'display_text_min_number': 1000000, 'display_text': '100万+'}, 'content_auth': 0, 'comment_manage_info': {'comment_permission_type': -1, 'approval_comment_type': 0, 'comment_sort_type': 0}, 'repost_type': 1, 'pic_num': 0, 'new_comment_style': 0, 'ab_switcher': 4, 'region_name': '发布于 北京', 'region_opt': 1, 'mblog_menu_new_style': 0, 'edit_config': {'edited': False}, 'raw_text': '转发微博', 'bid': 'LAyzZaJSq'}}, {'card_type': 9, 'profile_type_id': 'proweibo_4779505241821018', 'itemid': '1076032830678474_-_4779505241821018', 'scheme': 'https://m.weibo.cn/status/Lxmig7DJg?mblogid=Lxmig7DJg&luicode=10000011&lfid=1076032830678474', 'mblog': {'visible': {'type': 0, 'list_id': 0}, 'created_at': 'Sun Jun 12 11:58:31 +0800 2022', 'id': '4779505241821018', 'mid': '4779505241821018', 'can_edit': False, 'show_additional_indication': 0, 'text': '反人类的电梯设计，但想想也可以理解。<span class=\"url-icon\"><img alt=[二哈] src=\"https://h5.sinaimg.cn/m/emoticon/icon/others/d_erha-139d0e07bd.png\" style=\"width:1em; height:1em;\" /></span> <a  href=\"https://video.weibo.com/show?fid=1034:4779505139777624\" data-hide=\"\"><span class=\\'url-icon\\'><img style=\\'width: 1rem;height: 1rem\\' src=\\'https://h5.sinaimg.cn/upload/2015/09/25/3/timeline_card_small_video_default.png\\'></span><span class=\"surl-text\">崔庆才丨静觅的微博视频</span></a> ', 'textLength': 63, 'source': '微博视频号', 'favorited': False, 'pic_ids': [], 'is_paid': False, 'mblog_vip_type': 0, 'user': {'id': 2830678474, 'screen_name': '崔庆才丨静觅', 'profile_image_url': 'https://tva3.sinaimg.cn/crop.0.0.458.458.180/a8b8b9cajw8exsgha3l4uj20cq0crmy5.jpg?KID=imgbed,tva&Expires=1657798917&ssig=f9r6AEyfyW', 'profile_url': 'https://m.weibo.cn/u/2830678474?uid=2830678474&luicode=10000011&lfid=1076032830678474', 'statuses_count': 2507, 'verified': True, 'verified_type': 0, 'verified_type_ext': 0, 'verified_reason': '互联网科技博主', 'close_blue_v': False, 'description': 'cuiqingcai.com', 'gender': 'm', 'mbtype': 12, 'urank': 36, 'mbrank': 7, 'follow_me': False, 'following': False, 'follow_count': 1172, 'followers_count': '1.1万', 'followers_count_str': '1.1万', 'cover_image_phone': 'https://tva1.sinaimg.cn/crop.0.0.640.640.640/549d0121tw1egm1kjly3jj20hs0hsq4f.jpg', 'avatar_hd': 'https://ww3.sinaimg.cn/orj480/a8b8b9cajw8exsgha3l4uj20cq0crmy5.jpg', 'like': False, 'like_me': False, 'badge': {'bind_taobao': 1, 'unread_pool': 1, 'unread_pool_ext': 1, 'dzwbqlx_2016': 1, 'panda': 1, 'user_name_certificate': 1, 'qixi_2018': 1, 'status_visible': 1, 'hongrenjie_2019': 1, 'china_2019': 1, 'hongkong_2019': 1, 'hongbao_2020': 2, 'pc_new': 7, 'party_cardid_state': 1, 'aoyun_2021': 1}}, 'reposts_count': 0, 'comments_count': 3, 'reprint_cmt_count': 0, 'attitudes_count': 0, 'pending_approval_count': 0, 'isLongText': False, 'mlevel': 0, 'darwin_tags': [], 'hot_page': {'fid': '232532_mblog', 'feed_detail_type': 0}, 'mblogtype': 0, 'rid': '2_0_50_6670129651442252876_0_0_0', 'cardid': 'vip_010', 'extern_safe': 0, 'number_display_strategy': {'apply_scenario_flag': 3, 'display_text_min_number': 1000000, 'display_text': '100万+'}, 'content_auth': 0, 'safe_tags': 524288, 'comment_manage_info': {'comment_permission_type': -1, 'approval_comment_type': 0, 'comment_sort_type': 0}, 'pic_num': 0, 'fid': 4779505154785300, 'new_comment_style': 0, 'ab_switcher': 4, 'region_name': '发布于 北京', 'region_opt': 1, 'mblog_menu_new_style': 0, 'edit_config': {'edited': False}, 'page_info': {'type': 'video', 'object_type': 11, 'url_ori': 'http://t.cn/A6XktAcg', 'page_pic': {'width': 480, 'pid': 'a8b8b9caly1h35bpeboe2j20u01hc0xh', 'source': 21, 'is_self_cover': 0, 'type': 0, 'url': 'https://wx2.sinaimg.cn/orj480/a8b8b9caly1h35bpeboe2j20u01hc0xh.jpg', 'height': 853}, 'page_url': 'https://video.weibo.com/show?fid=1034%3A4779505139777624&luicode=10000011&lfid=1076032830678474', 'object_id': '1034:4779505139777624', 'page_title': '崔庆才丨静觅的微博视频', 'title': '', 'content1': '崔庆才丨静觅的微博视频', 'content2': '反人类的电梯设计，但想想也可以理解。[二哈]', 'video_orientation': 'vertical', 'play_count': '1231次播放', 'media_info': {'stream_url': 'https://f.video.weibocdn.com/o0/q6zqr7gblx07WMGFUd6w010412000HZi0E010.mp4?label=mp4_ld&template=360x640.24.0&ori=0&ps=1CwnkDw1GXwCQx&Expires=1657791717&ssig=bkbSd4I68%2F&KID=unistore,video', 'stream_url_hd': 'https://f.video.weibocdn.com/o0/rWMSnW8Plx07WMGG1eCY010412001BlY0E010.mp4?label=mp4_hd&template=540x960.24.0&ori=0&ps=1CwnkDw1GXwCQx&Expires=1657791717&ssig=j3TZpI2IsJ&KID=unistore,video', 'duration': 4.363}, 'urls': {'mp4_720p_mp4': 'https://f.video.weibocdn.com/o0/WXy34Jyzlx07WMGFKD9u010412002Fxo0E010.mp4?label=mp4_720p&template=720x1280.24.0&ori=0&ps=1CwnkDw1GXwCQx&Expires=1657791717&ssig=AnO9tnTJ7o&KID=unistore,video', 'mp4_hd_mp4': 'https://f.video.weibocdn.com/o0/rWMSnW8Plx07WMGG1eCY010412001BlY0E010.mp4?label=mp4_hd&template=540x960.24.0&ori=0&ps=1CwnkDw1GXwCQx&Expires=1657791717&ssig=j3TZpI2IsJ&KID=unistore,video', 'mp4_ld_mp4': 'https://f.video.weibocdn.com/o0/q6zqr7gblx07WMGFUd6w010412000HZi0E010.mp4?label=mp4_ld&template=360x640.24.0&ori=0&ps=1CwnkDw1GXwCQx&Expires=1657791717&ssig=bkbSd4I68%2F&KID=unistore,video'}}, 'bid': 'Lxmig7DJg'}}, {'card_type': 9, 'profile_type_id': 'proweibo_4779479290872945', 'itemid': '1076032830678474_-_4779479290872945', 'scheme': 'https://m.weibo.cn/status/LxlCp3F5L?mblogid=LxlCp3F5L&luicode=10000011&lfid=1076032830678474', 'mblog': {'visible': {'type': 0, 'list_id': 0}, 'created_at': 'Sun Jun 12 10:15:23 +0800 2022', 'id': '4779479290872945', 'mid': '4779479290872945', 'can_edit': False, 'show_additional_indication': 0, 'text': '<span class=\"url-icon\"><img alt=\"[苦涩]\" src=\"https://face.t.sinajs.cn/t4/appstyle/expression/ext/normal/7e/2021_bitter_org.png\" style=\"width:1em; height:1em;\" /></span>//<a href=\\'/n/梁博penny\\'>@梁博penny</a>:<span class=\"url-icon\"><img alt=[泪] src=\"https://h5.sinaimg.cn/m/emoticon/icon/default/d_lei-4cdf6ee412.png\" style=\"width:1em; height:1em;\" /></span>//<a href=\\'/n/简木生--撰稿者\\'>@简木生--撰稿者</a>://<a href=\\'/n/姚广孝_wayne\\'>@姚广孝_wayne</a> :搜了一下，确实有相应的报道：<a  href=\"https://weibo.cn/sinaurl?u=http%3A%2F%2Fwww.jcrb.com%2Ffzttb%2Fdfmt%2F200908%2Ft20090828_256723.html\" data-hide=\"\"><span class=\\'url-icon\\'><img style=\\'width: 1rem;height: 1rem\\' src=\\'https://h5.sinaimg.cn/upload/2015/09/25/3/timeline_card_small_web_default.png\\'></span><span class=\"surl-text\">网页链接</span></a>', 'source': 'iPhone 12 Pro Max', 'favorited': False, 'pic_ids': [], 'is_paid': False, 'mblog_vip_type': 0, 'user': {'id': 2830678474, 'screen_name': '崔庆才丨静觅', 'profile_image_url': 'https://tva3.sinaimg.cn/crop.0.0.458.458.180/a8b8b9cajw8exsgha3l4uj20cq0crmy5.jpg?KID=imgbed,tva&Expires=1657798917&ssig=f9r6AEyfyW', 'profile_url': 'https://m.weibo.cn/u/2830678474?uid=2830678474&luicode=10000011&lfid=1076032830678474', 'statuses_count': 2507, 'verified': True, 'verified_type': 0, 'verified_type_ext': 0, 'verified_reason': '互联网科技博主', 'close_blue_v': False, 'description': 'cuiqingcai.com', 'gender': 'm', 'mbtype': 12, 'urank': 36, 'mbrank': 7, 'follow_me': False, 'following': False, 'follow_count': 1172, 'followers_count': '1.1万', 'followers_count_str': '1.1万', 'cover_image_phone': 'https://tva1.sinaimg.cn/crop.0.0.640.640.640/549d0121tw1egm1kjly3jj20hs0hsq4f.jpg', 'avatar_hd': 'https://ww3.sinaimg.cn/orj480/a8b8b9cajw8exsgha3l4uj20cq0crmy5.jpg', 'like': False, 'like_me': False, 'badge': {'bind_taobao': 1, 'unread_pool': 1, 'unread_pool_ext': 1, 'dzwbqlx_2016': 1, 'panda': 1, 'user_name_certificate': 1, 'qixi_2018': 1, 'status_visible': 1, 'hongrenjie_2019': 1, 'china_2019': 1, 'hongkong_2019': 1, 'hongbao_2020': 2, 'pc_new': 7, 'party_cardid_state': 1, 'aoyun_2021': 1}}, 'pid': 4779438288406183, 'pidstr': '4779438288406183', 'retweeted_status': {'visible': {'type': 0, 'list_id': 0}, 'created_at': 'Sat Jun 11 15:32:29 +0800 2022', 'id': '4779196699641377', 'mid': '4779196699641377', 'can_edit': False, 'show_additional_indication': 0, 'text': '唐山的事情这两天闹得很大，有人说为什么没人见义勇为。这是我在天津高铁站拍到的，这个人见义勇为，救了两个女孩，自己被打残了，没赔偿，罪犯也没被绳之以法。 ', 'textLength': 150, 'source': '微博轻享版', 'favorited': False, 'pic_ids': ['4910bb43gy1h34c9rnc8yj20u01uok8o'], 'thumbnail_pic': 'https://wx4.sinaimg.cn/thumbnail/4910bb43gy1h34c9rnc8yj20u01uok8o.jpg', 'bmiddle_pic': 'http://wx4.sinaimg.cn/bmiddle/4910bb43gy1h34c9rnc8yj20u01uok8o.jpg', 'original_pic': 'https://wx4.sinaimg.cn/large/4910bb43gy1h34c9rnc8yj20u01uok8o.jpg', 'is_paid': False, 'mblog_vip_type': 0, 'user': {'id': 1225833283, 'screen_name': '孤独川陵', 'profile_image_url': 'https://tvax1.sinaimg.cn/crop.0.0.1080.1080.180/4910bb43ly8h39lpgdg4tj20u00u0gr9.jpg?KID=imgbed,tva&Expires=1657798917&ssig=HhOOJpmJve', 'profile_url': 'https://m.weibo.cn/u/1225833283?uid=1225833283&luicode=10000011&lfid=1076032830678474', 'statuses_count': 8461, 'verified': True, 'verified_type': 0, 'verified_type_ext': 1, 'verified_reason': '新浪博客旅游博主 新加坡作家协会会员', 'close_blue_v': False, 'description': '走过地方最多的人类之一，游历七大洲203个国家和地区。清华大学，新加坡国立大学，南洋理工大学校友，新加坡作家协会作家。mkx2046@gmail.com', 'gender': 'm', 'mbtype': 11, 'urank': 28, 'mbrank': 6, 'follow_me': False, 'following': False, 'follow_count': 47, 'followers_count': '7.8万', 'followers_count_str': '7.8万', 'cover_image_phone': 'https://wx3.sinaimg.cn/crop.0.0.640.640.640/4910bb43gy1h35pld36lmj20u00u07al.jpg', 'avatar_hd': 'https://wx1.sinaimg.cn/orj480/4910bb43ly8h39lpgdg4tj20u00u0gr9.jpg', 'like': False, 'like_me': False, 'badge': {'bind_taobao': 1, 'unread_pool': 1, 'unread_pool_ext': 1, 'dzwbqlx_2016': 1, 'follow_whitelist_video': 1, 'user_name_certificate': 1, 'wenchuan_10th': 1, 'relation_display': 1, 'pc_new': 7, 'yuanlongping_2021': 1, 'guoqi_2022': 1, 'gangqi_2022': 1}}, 'reposts_count': 228248, 'comments_count': 4724, 'reprint_cmt_count': 0, 'attitudes_count': 244977, 'pending_approval_count': 0, 'isLongText': False, 'mlevel': 0, 'expire_time': 1654984070, 'ad_state': 1, 'darwin_tags': [], 'hot_page': {'fid': '232532_mblog', 'feed_detail_type': 0}, 'mblogtype': 0, 'mark': '999_reallog_mark_ad:999|WeiboADNatural', 'rid': '3_0_50_6670129651442252876_0_0_0', 'number_display_strategy': {'apply_scenario_flag': 3, 'display_text_min_number': 1000000, 'display_text': '100万+'}, 'content_auth': 0, 'safe_tags': 4294967360, 'comment_manage_info': {'comment_permission_type': -1, 'approval_comment_type': 0, 'comment_sort_type': 0}, 'pic_num': 1, 'new_comment_style': 0, 'region_name': '发布于 新加坡', 'region_opt': 1, 'edit_config': {'edited': False}, 'pics': [{'pid': '4910bb43gy1h34c9rnc8yj20u01uok8o', 'url': 'https://wx4.sinaimg.cn/orj360/4910bb43gy1h34c9rnc8yj20u01uok8o.jpg', 'size': 'orj360', 'geo': {'width': 360, 'height': 800, 'croped': False}, 'large': {'size': 'large', 'url': 'https://wx4.sinaimg.cn/large/4910bb43gy1h34c9rnc8yj20u01uok8o.jpg', 'geo': {'width': '1080', 'height': '2400', 'croped': False}}}], 'bid': 'LxegBEsa5'}, 'reposts_count': 3, 'comments_count': 0, 'reprint_cmt_count': 0, 'attitudes_count': 4, 'pending_approval_count': 0, 'isLongText': False, 'mlevel': 0, 'darwin_tags': [], 'hot_page': {'fid': '232532_mblog', 'feed_detail_type': 0}, 'mblogtype': 0, 'mark': '999_reallog_mark_ad:999|WeiboADNatural', 'rid': '3_0_50_6670129651442252876_0_0_0', 'cardid': 'vip_010', 'extern_safe': 0, 'number_display_strategy': {'apply_scenario_flag': 3, 'display_text_min_number': 1000000, 'display_text': '100万+'}, 'content_auth': 0, 'safe_tags': 32, 'comment_manage_info': {'comment_permission_type': -1, 'approval_comment_type': 0, 'comment_sort_type': 0}, 'repost_type': 1, 'pic_num': 0, 'new_comment_style': 0, 'ab_switcher': 4, 'region_name': '发布于 北京', 'region_opt': 1, 'mblog_menu_new_style': 0, 'edit_config': {'edited': False}, 'raw_text': '[苦涩]//@梁博penny:[泪]//@简木生--撰稿者://@姚广孝_wayne :搜了一下，确实有相应的报道：http://t.cn/zOg2xfn', 'bid': 'LxlCp3F5L'}}, {'card_type': 9, 'profile_type_id': 'proweibo_4777608590131929', 'itemid': '1076032830678474_-_4777608590131929', 'scheme': 'https://m.weibo.cn/status/LwyX90yjT?mblogid=LwyX90yjT&luicode=10000011&lfid=1076032830678474', 'mblog': {'visible': {'type': 0, 'list_id': 0}, 'created_at': 'Tue Jun 07 06:21:54 +0800 2022', 'id': '4777608590131929', 'mid': '4777608590131929', 'can_edit': False, 'show_additional_indication': 0, 'text': '昨天居然忘了看了。<span class=\"url-icon\"><img alt=[允悲] src=\"https://h5.sinaimg.cn/m/emoticon/icon/default/d_yunbei-a14a649db8.png\" style=\"width:1em; height:1em;\" /></span><span class=\"url-icon\"><img alt=[允悲] src=\"https://h5.sinaimg.cn/m/emoticon/icon/default/d_yunbei-a14a649db8.png\" style=\"width:1em; height:1em;\" /></span><span class=\"url-icon\"><img alt=[允悲] src=\"https://h5.sinaimg.cn/m/emoticon/icon/default/d_yunbei-a14a649db8.png\" style=\"width:1em; height:1em;\" /></span>', 'source': 'iPhone 12 Pro Max', 'favorited': False, 'pic_ids': [], 'is_paid': False, 'mblog_vip_type': 0, 'user': {'id': 2830678474, 'screen_name': '崔庆才丨静觅', 'profile_image_url': 'https://tva3.sinaimg.cn/crop.0.0.458.458.180/a8b8b9cajw8exsgha3l4uj20cq0crmy5.jpg?KID=imgbed,tva&Expires=1657798917&ssig=f9r6AEyfyW', 'profile_url': 'https://m.weibo.cn/u/2830678474?uid=2830678474&luicode=10000011&lfid=1076032830678474', 'statuses_count': 2507, 'verified': True, 'verified_type': 0, 'verified_type_ext': 0, 'verified_reason': '互联网科技博主', 'close_blue_v': False, 'description': 'cuiqingcai.com', 'gender': 'm', 'mbtype': 12, 'urank': 36, 'mbrank': 7, 'follow_me': False, 'following': False, 'follow_count': 1172, 'followers_count': '1.1万', 'followers_count_str': '1.1万', 'cover_image_phone': 'https://tva1.sinaimg.cn/crop.0.0.640.640.640/549d0121tw1egm1kjly3jj20hs0hsq4f.jpg', 'avatar_hd': 'https://ww3.sinaimg.cn/orj480/a8b8b9cajw8exsgha3l4uj20cq0crmy5.jpg', 'like': False, 'like_me': False, 'badge': {'bind_taobao': 1, 'unread_pool': 1, 'unread_pool_ext': 1, 'dzwbqlx_2016': 1, 'panda': 1, 'user_name_certificate': 1, 'qixi_2018': 1, 'status_visible': 1, 'hongrenjie_2019': 1, 'china_2019': 1, 'hongkong_2019': 1, 'hongbao_2020': 2, 'pc_new': 7, 'party_cardid_state': 1, 'aoyun_2021': 1}}, 'retweeted_status': {'visible': {'type': 0, 'list_id': 0}, 'created_at': 'Tue Jun 07 05:02:58 +0800 2022', 'id': '4777588725383490', 'mid': '4777588725383490', 'can_edit': False, 'show_additional_indication': 0, 'text': '苹果iOS16发布会速看！两款笔记本发布 wwdc2022【那岩】科技美学 苹果M2芯片再升级macbook  <a  href=\"https://video.weibo.com/show?fid=1034:4777586124062743\" data-hide=\"\"><span class=\\'url-icon\\'><img style=\\'width: 1rem;height: 1rem\\' src=\\'https://h5.sinaimg.cn/upload/2015/09/25/3/timeline_card_small_video_default.png\\'></span><span class=\"surl-text\">那岩的微博视频</span></a> ', 'textLength': 106, 'source': '微博视频号', 'favorited': False, 'pic_ids': [], 'is_paid': False, 'mblog_vip_type': 0, 'user': {'id': 5640157596, 'screen_name': '那岩', 'profile_image_url': 'https://tvax1.sinaimg.cn/crop.141.268.696.696.180/0069HwDOly1fcz2ncvf7gj30xc15oamg.jpg?KID=imgbed,tva&Expires=1657798917&ssig=pdmf4l3IS8', 'profile_url': 'https://m.weibo.cn/u/5640157596?uid=5640157596&luicode=10000011&lfid=1076032830678474', 'statuses_count': 2965, 'verified': True, 'verified_type': 0, 'verified_type_ext': 1, 'verified_reason': '科技美学创始人', 'close_blue_v': False, 'description': '科技美学，希望希望一直为大家服务', 'gender': 'm', 'mbtype': 12, 'urank': 33, 'mbrank': 7, 'follow_me': False, 'following': False, 'follow_count': 859, 'followers_count': '213.9万', 'followers_count_str': '213.9万', 'cover_image_phone': 'https://tva1.sinaimg.cn/crop.0.0.640.640.640/549d0121tw1egm1kjly3jj20hs0hsq4f.jpg', 'avatar_hd': 'https://wx1.sinaimg.cn/orj480/0069HwDOly1fcz2ncvf7gj30xc15oamg.jpg', 'like': False, 'like_me': False, 'badge': {'vip_activity2': 4, 'video_attention': 4, 'user_name_certificate': 1, 'weibo_display_fans': 1, 'relation_display': 1, 'status_visible': 1, 'china_2019': 1, 'hongkong_2019': 1, 'gongjiri_2019': 1, 'pc_new': 6, 'school_2020': 1, 'hongrenjie_2020': 1, 'gaokao_2021': 1}}, 'reposts_count': 77, 'comments_count': 88, 'reprint_cmt_count': 0, 'attitudes_count': 818, 'pending_approval_count': 0, 'isLongText': False, 'mlevel': 0, 'expire_time': 1654600068, 'ad_state': 1, 'darwin_tags': [], 'hot_page': {'fid': '232532_mblog', 'feed_detail_type': 0}, 'mblogtype': 0, 'mark': '999_reallog_mark_ad:999|WeiboADNatural', 'rid': '4_0_50_6670129651442252876_0_0_0', 'number_display_strategy': {'apply_scenario_flag': 3, 'display_text_min_number': 1000000, 'display_text': '100万+'}, 'content_auth': 0, 'safe_tags': 524288, 'comment_manage_info': {'comment_permission_type': -1, 'approval_comment_type': 0, 'comment_sort_type': 0}, 'pic_num': 0, 'fid': 4777587632242699, 'new_comment_style': 0, 'region_name': '发布于 黑龙江', 'region_opt': 1, 'edit_config': {'edited': False}, 'page_info': {'type': 'video', 'object_type': 11, 'url_ori': 'http://t.cn/A6XECsNu', 'page_pic': {'width': 3840, 'pid': '0069HwDOly1h2z7bhlsdwj31hc0u0dj3', 'source': 1, 'is_self_cover': 1, 'type': 1, 'url': 'https://wx1.sinaimg.cn/crop.0.6.1920.1067/0069HwDOly1h2z7bhlsdwj31hc0u0dj3.jpg', 'height': 2134}, 'page_url': 'https://video.weibo.com/show?fid=1034%3A4777586124062743&luicode=10000011&lfid=1076032830678474', 'object_id': '1034:4777586124062743', 'page_title': '那岩的微博视频', 'title': '苹果iOS16发布会速看！两款笔记本发布 wwdc2022【那岩】科技美学', 'content1': '那岩的微博视频', 'content2': '苹果iOS16发布会速看！两款笔记本发布 wwdc2022【那岩】科技美学 苹果M2芯片再升级macbook', 'video_orientation': 'horizontal', 'play_count': '35万次播放', 'media_info': {'stream_url': 'https://f.video.weibocdn.com/o0/Sxwb2qM1lx07WEfEGeti01041201FlSz0E010.mp4?label=mp4_ld&template=640x360.25.0&ori=0&ps=1CwnkDw1GXwCQx&Expires=1657791717&ssig=5Nr1j3%2FMlB&KID=unistore,video', 'stream_url_hd': 'https://f.video.weibocdn.com/o0/gRz9Qxiolx07WEfEXyaI01041202Dof30E010.mp4?label=mp4_hd&template=852x480.25.0&ori=0&ps=1CwnkDw1GXwCQx&Expires=1657791717&ssig=xa%2BRV61J8a&KID=unistore,video', 'duration': 1071.947}, 'urls': {'mp4_720p_mp4': 'https://f.video.weibocdn.com/o0/0RSjrtcJlx07WEfG7pdS010412059uvL0E020.mp4?label=mp4_720p&template=1280x720.25.0&ori=0&ps=1CwnkDw1GXwCQx&Expires=1657791717&ssig=phBLv0mnpR&KID=unistore,video', 'mp4_hd_mp4': 'https://f.video.weibocdn.com/o0/gRz9Qxiolx07WEfEXyaI01041202Dof30E010.mp4?label=mp4_hd&template=852x480.25.0&ori=0&ps=1CwnkDw1GXwCQx&Expires=1657791717&ssig=xa%2BRV61J8a&KID=unistore,video', 'mp4_ld_mp4': 'https://f.video.weibocdn.com/o0/Sxwb2qM1lx07WEfEGeti01041201FlSz0E010.mp4?label=mp4_ld&template=640x360.25.0&ori=0&ps=1CwnkDw1GXwCQx&Expires=1657791717&ssig=5Nr1j3%2FMlB&KID=unistore,video'}}, 'bid': 'Lwyr6mAuu'}, 'reposts_count': 0, 'comments_count': 0, 'reprint_cmt_count': 0, 'attitudes_count': 0, 'pending_approval_count': 0, 'isLongText': False, 'mlevel': 0, 'darwin_tags': [], 'hot_page': {'fid': '232532_mblog', 'feed_detail_type': 0}, 'mblogtype': 0, 'mark': '999_reallog_mark_ad:999|WeiboADNatural', 'rid': '4_0_50_6670129651442252876_0_0_0', 'cardid': 'vip_010', 'extern_safe': 0, 'number_display_strategy': {'apply_scenario_flag': 3, 'display_text_min_number': 1000000, 'display_text': '100万+'}, 'content_auth': 0, 'comment_manage_info': {'comment_permission_type': -1, 'approval_comment_type': 0, 'comment_sort_type': 0}, 'repost_type': 1, 'pic_num': 0, 'new_comment_style': 0, 'ab_switcher': 4, 'region_name': '发布于 北京', 'region_opt': 1, 'mblog_menu_new_style': 0, 'edit_config': {'edited': False}, 'raw_text': '昨天居然忘了看了。[允悲][允悲][允悲]', 'bid': 'LwyX90yjT'}}, {'card_type': 9, 'profile_type_id': 'proweibo_4777496082648163', 'itemid': '1076032830678474_-_4777496082648163', 'scheme': 'https://m.weibo.cn/status/Lww1Gb6Uj?mblogid=Lww1Gb6Uj&luicode=10000011&lfid=1076032830678474', 'mblog': {'visible': {'type': 0, 'list_id': 0}, 'created_at': 'Mon Jun 06 22:54:50 +0800 2022', 'id': '4777496082648163', 'mid': '4777496082648163', 'can_edit': False, 'show_additional_indication': 0, 'text': '终于可以堂食了，舒服。<span class=\"url-icon\"><img alt=\"[666]\" src=\"https://face.t.sinajs.cn/t4/appstyle/expression/ext/normal/6c/2022_666_org.png\" style=\"width:1em; height:1em;\" /></span> ', 'textLength': 27, 'source': 'iPhone 12 Pro Max', 'favorited': False, 'pic_ids': ['a8b8b9caly1h2ywygdnjrj213u0hv13a'], 'thumbnail_pic': 'https://wx3.sinaimg.cn/thumbnail/a8b8b9caly1h2ywygdnjrj213u0hv13a.jpg', 'bmiddle_pic': 'http://wx3.sinaimg.cn/bmiddle/a8b8b9caly1h2ywygdnjrj213u0hv13a.jpg', 'original_pic': 'https://wx3.sinaimg.cn/large/a8b8b9caly1h2ywygdnjrj213u0hv13a.jpg', 'is_paid': False, 'mblog_vip_type': 0, 'user': {'id': 2830678474, 'screen_name': '崔庆才丨静觅', 'profile_image_url': 'https://tva3.sinaimg.cn/crop.0.0.458.458.180/a8b8b9cajw8exsgha3l4uj20cq0crmy5.jpg?KID=imgbed,tva&Expires=1657798917&ssig=f9r6AEyfyW', 'profile_url': 'https://m.weibo.cn/u/2830678474?uid=2830678474&luicode=10000011&lfid=1076032830678474', 'statuses_count': 2507, 'verified': True, 'verified_type': 0, 'verified_type_ext': 0, 'verified_reason': '互联网科技博主', 'close_blue_v': False, 'description': 'cuiqingcai.com', 'gender': 'm', 'mbtype': 12, 'urank': 36, 'mbrank': 7, 'follow_me': False, 'following': False, 'follow_count': 1172, 'followers_count': '1.1万', 'followers_count_str': '1.1万', 'cover_image_phone': 'https://tva1.sinaimg.cn/crop.0.0.640.640.640/549d0121tw1egm1kjly3jj20hs0hsq4f.jpg', 'avatar_hd': 'https://ww3.sinaimg.cn/orj480/a8b8b9cajw8exsgha3l4uj20cq0crmy5.jpg', 'like': False, 'like_me': False, 'badge': {'bind_taobao': 1, 'unread_pool': 1, 'unread_pool_ext': 1, 'dzwbqlx_2016': 1, 'panda': 1, 'user_name_certificate': 1, 'qixi_2018': 1, 'status_visible': 1, 'hongrenjie_2019': 1, 'china_2019': 1, 'hongkong_2019': 1, 'hongbao_2020': 2, 'pc_new': 7, 'party_cardid_state': 1, 'aoyun_2021': 1}}, 'picStatus': '0:1', 'reposts_count': 0, 'comments_count': 0, 'reprint_cmt_count': 0, 'attitudes_count': 0, 'pending_approval_count': 0, 'isLongText': False, 'mlevel': 0, 'darwin_tags': [], 'hot_page': {'fid': '232532_mblog', 'feed_detail_type': 0}, 'mblogtype': 0, 'rid': '5_0_50_6670129651442252876_0_0_0', 'cardid': 'vip_010', 'extern_safe': 0, 'number_display_strategy': {'apply_scenario_flag': 3, 'display_text_min_number': 1000000, 'display_text': '100万+'}, 'content_auth': 0, 'comment_manage_info': {'comment_permission_type': -1, 'approval_comment_type': 0, 'comment_sort_type': 0}, 'pic_num': 1, 'new_comment_style': 0, 'ab_switcher': 4, 'region_name': '发布于 北京', 'region_opt': 1, 'mblog_menu_new_style': 0, 'edit_config': {'edited': False}, 'pics': [{'pid': 'a8b8b9caly1h2ywygdnjrj213u0hv13a', 'url': 'https://wx3.sinaimg.cn/orj360/a8b8b9caly1h2ywygdnjrj213u0hv13a.jpg', 'size': 'orj360', 'geo': {'width': 602, 'height': 270, 'croped': False}, 'large': {'size': 'large', 'url': 'https://wx3.sinaimg.cn/large/a8b8b9caly1h2ywygdnjrj213u0hv13a.jpg', 'geo': {'width': '1434', 'height': '643', 'croped': False}}}], 'bid': 'Lww1Gb6Uj'}}, {'card_type': 9, 'profile_type_id': 'proweibo_4776020123063600', 'itemid': '1076032830678474_-_4776020123063600', 'scheme': 'https://m.weibo.cn/status/LvTD6cQYU?mblogid=LvTD6cQYU&luicode=10000011&lfid=1076032830678474', 'mblog': {'visible': {'type': 0, 'list_id': 0}, 'created_at': 'Thu Jun 02 21:09:54 +0800 2022', 'id': '4776020123063600', 'mid': '4776020123063600', 'can_edit': False, 'show_additional_indication': 0, 'text': '<span class=\"url-icon\"><img alt=[馋嘴] src=\"https://h5.sinaimg.cn/m/emoticon/icon/default/d_chanzui-fc1acc341b.png\" style=\"width:1em; height:1em;\" /></span>', 'source': 'iPhone 12 Pro Max', 'favorited': False, 'pic_ids': [], 'is_paid': False, 'mblog_vip_type': 0, 'user': {'id': 2830678474, 'screen_name': '崔庆才丨静觅', 'profile_image_url': 'https://tva3.sinaimg.cn/crop.0.0.458.458.180/a8b8b9cajw8exsgha3l4uj20cq0crmy5.jpg?KID=imgbed,tva&Expires=1657798917&ssig=f9r6AEyfyW', 'profile_url': 'https://m.weibo.cn/u/2830678474?uid=2830678474&luicode=10000011&lfid=1076032830678474', 'statuses_count': 2507, 'verified': True, 'verified_type': 0, 'verified_type_ext': 0, 'verified_reason': '互联网科技博主', 'close_blue_v': False, 'description': 'cuiqingcai.com', 'gender': 'm', 'mbtype': 12, 'urank': 36, 'mbrank': 7, 'follow_me': False, 'following': False, 'follow_count': 1172, 'followers_count': '1.1万', 'followers_count_str': '1.1万', 'cover_image_phone': 'https://tva1.sinaimg.cn/crop.0.0.640.640.640/549d0121tw1egm1kjly3jj20hs0hsq4f.jpg', 'avatar_hd': 'https://ww3.sinaimg.cn/orj480/a8b8b9cajw8exsgha3l4uj20cq0crmy5.jpg', 'like': False, 'like_me': False, 'badge': {'bind_taobao': 1, 'unread_pool': 1, 'unread_pool_ext': 1, 'dzwbqlx_2016': 1, 'panda': 1, 'user_name_certificate': 1, 'qixi_2018': 1, 'status_visible': 1, 'hongrenjie_2019': 1, 'china_2019': 1, 'hongkong_2019': 1, 'hongbao_2020': 2, 'pc_new': 7, 'party_cardid_state': 1, 'aoyun_2021': 1}}, 'retweeted_status': {'visible': {'type': 0, 'list_id': 0}, 'created_at': 'Fri May 27 08:43:03 +0800 2022', 'id': '4773657845435505', 'mid': '4773657845435505', 'can_edit': False, 'show_additional_indication': 0, 'text': '江苏苏州，小猫踩坏吊顶灯，努力用爪子尝试复原 <a  href=\"http://weibo.com/p/1001018008622010000000000\" data-hide=\"\"><span class=\\'url-icon\\'><img style=\\'width: 1rem;height: 1rem\\' src=\\'https://h5.sinaimg.cn/upload/2015/09/25/3/timeline_card_small_location_default.png\\'></span><span class=\"surl-text\">长春</span></a> <a  href=\"https://video.weibo.com/show?fid=1034:4773657755713564\" data-hide=\"\"><span class=\\'url-icon\\'><img style=\\'width: 1rem;height: 1rem\\' src=\\'https://h5.sinaimg.cn/upload/2015/09/25/3/timeline_card_small_video_default.png\\'></span><span class=\"surl-text\">长春新动态的微博视频</span></a> ', 'textLength': 85, 'source': 'iPhone客户端', 'favorited': False, 'pic_ids': [], 'is_paid': False, 'mblog_vip_type': 0, 'user': {'id': 5876419780, 'screen_name': '长春新动态', 'profile_image_url': 'https://tvax3.sinaimg.cn/crop.0.0.512.512.180/006pGRecly8g5tij8lfmrj30e80e8wf2.jpg?KID=imgbed,tva&Expires=1657798917&ssig=whqtbbt71d', 'profile_url': 'https://m.weibo.cn/u/5876419780?uid=5876419780&luicode=10000011&lfid=1076032830678474', 'statuses_count': 50901, 'verified': True, 'verified_type': 0, 'verified_type_ext': 1, 'verified_reason': '本地博主 （长春） 美食博主 视频博主', 'close_blue_v': False, 'description': '关注长春新动态，了解长春大事小情。', 'gender': 'm', 'mbtype': 12, 'urank': 9, 'mbrank': 6, 'follow_me': False, 'following': False, 'follow_count': 471, 'followers_count': '90.1万', 'followers_count_str': '90.1万', 'cover_image_phone': 'https://tva1.sinaimg.cn/crop.0.0.640.640.640/549d0121tw1egm1kjly3jj20hs0hsq4f.jpg', 'avatar_hd': 'https://wx3.sinaimg.cn/orj480/006pGRecly8g5tij8lfmrj30e80e8wf2.jpg', 'like': False, 'like_me': False, 'badge': {'bind_taobao': 1, 'unread_pool': 1, 'unread_pool_ext': 1, 'super_star_2017': 1, 'user_name_certificate': 1, 'wenda_v2': 1, 'dailv_2018': 1, 'relation_display': 1, 'hongbaofei_2019': 1, 'dailv_2019': 1, 'china_2019': 1, 'rrgyj_2019': 1, 'hongbao_2020': 2, 'feiyan_2020': 1, 'graduation_2020': 1, 'pc_new': 6, 'dailv_2020': 1, 'vpick_2020': 1, 'school_2020': 1, 'hongrenjie_2020': 1, 'china_2020': 1, 'hongbaofeijika_2021': 1, 'yuanlongping_2021': 1, 'ylpshuidao_2021': 1, 'gaokao_2021': 1, 'party_cardid_state': 2, 'companion_card': 1, 'yinyuejie21_2021': 1, 'hongbaofei2022_2021': 1, 'gaokao_2022': 1}}, 'reposts_count': 42, 'comments_count': 40, 'reprint_cmt_count': 0, 'attitudes_count': 840, 'pending_approval_count': 0, 'isLongText': False, 'mlevel': 0, 'darwin_tags': [], 'hot_page': {'fid': '232532_mblog', 'feed_detail_type': 0}, 'mblogtype': 0, 'rid': '6_0_50_6670129651442252876_0_0_0', 'number_display_strategy': {'apply_scenario_flag': 3, 'display_text_min_number': 1000000, 'display_text': '100万+'}, 'content_auth': 0, 'safe_tags': 524288, 'comment_manage_info': {'comment_permission_type': -1, 'approval_comment_type': 0, 'comment_sort_type': 0}, 'pic_num': 0, 'fid': 4773657762070569, 'new_comment_style': 0, 'region_name': '发布于 吉林', 'region_opt': 1, 'edit_config': {'edited': False}, 'page_info': {'type': 'video', 'object_type': 11, 'url_ori': 'http://t.cn/A6XpYmsy', 'page_pic': {'width': 480, 'pid': '006pGRecly1h2mo4yug7wj30k00zkdh5', 'source': 21, 'is_self_cover': 0, 'type': 0, 'url': 'https://wx3.sinaimg.cn/orj480/006pGRecly1h2mo4yug7wj30k00zkdh5.jpg', 'height': 853}, 'page_url': 'https://video.weibo.com/show?fid=1034%3A4773657755713564&luicode=10000011&lfid=1076032830678474', 'object_id': '1034:4773657755713564', 'page_title': '长春新动态的微博视频', 'title': '', 'content1': '长春新动态的微博视频', 'content2': '江苏苏州，小猫踩坏吊顶灯，努力用爪子尝试复原 http://t.cn/RJhTtpf', 'video_orientation': 'vertical', 'play_count': '32万次播放', 'media_info': {'stream_url': 'https://f.video.weibocdn.com/o0/HNYl0e4alx07WmWZXVFe010412000RQa0E010.mp4?label=mp4_ld&template=360x640.24.0&ori=0&ps=1CwnkDw1GXwCQx&Expires=1657791717&ssig=qHiOcpMDEL&KID=unistore,video', 'stream_url_hd': 'https://f.video.weibocdn.com/o0/zc4jHoT8lx07WmX0ggQ8010412001xCk0E010.mp4?label=mp4_hd&template=540x960.24.0&ori=0&ps=1CwnkDw1GXwCQx&Expires=1657791717&ssig=AhDGQZCO8c&KID=unistore,video', 'duration': 11.307}, 'urls': {'mp4_720p_mp4': 'https://f.video.weibocdn.com/o0/YqErZByrlx07WmX02rte010412002OYk0E010.mp4?label=mp4_720p&template=720x1280.24.0&ori=0&ps=1CwnkDw1GXwCQx&Expires=1657791717&ssig=01M2k73sDy&KID=unistore,video', 'mp4_hd_mp4': 'https://f.video.weibocdn.com/o0/zc4jHoT8lx07WmX0ggQ8010412001xCk0E010.mp4?label=mp4_hd&template=540x960.24.0&ori=0&ps=1CwnkDw1GXwCQx&Expires=1657791717&ssig=AhDGQZCO8c&KID=unistore,video', 'mp4_ld_mp4': 'https://f.video.weibocdn.com/o0/HNYl0e4alx07WmWZXVFe010412000RQa0E010.mp4?label=mp4_ld&template=360x640.24.0&ori=0&ps=1CwnkDw1GXwCQx&Expires=1657791717&ssig=qHiOcpMDEL&KID=unistore,video'}}, 'bid': 'LuUaYmO1r'}, 'reposts_count': 1, 'comments_count': 0, 'reprint_cmt_count': 0, 'attitudes_count': 1, 'pending_approval_count': 0, 'isLongText': False, 'mlevel': 0, 'darwin_tags': [], 'hot_page': {'fid': '232532_mblog', 'feed_detail_type': 0}, 'mblogtype': 0, 'rid': '6_0_50_6670129651442252876_0_0_0', 'cardid': 'vip_010', 'extern_safe': 0, 'number_display_strategy': {'apply_scenario_flag': 3, 'display_text_min_number': 1000000, 'display_text': '100万+'}, 'content_auth': 0, 'comment_manage_info': {'comment_permission_type': -1, 'approval_comment_type': 0, 'comment_sort_type': 0}, 'repost_type': 1, 'pic_num': 0, 'new_comment_style': 0, 'ab_switcher': 4, 'region_name': '发布于 北京', 'region_opt': 1, 'mblog_menu_new_style': 0, 'edit_config': {'edited': False}, 'raw_text': '[馋嘴]', 'bid': 'LvTD6cQYU'}}, {'card_type': 9, 'profile_type_id': 'proweibo_4776019325878568', 'itemid': '1076032830678474_-_4776019325878568', 'scheme': 'https://m.weibo.cn/status/LvTBOoFhC?mblogid=LvTBOoFhC&luicode=10000011&lfid=1076032830678474', 'mblog': {'visible': {'type': 0, 'list_id': 0}, 'created_at': 'Thu Jun 02 21:06:43 +0800 2022', 'id': '4776019325878568', 'mid': '4776019325878568', 'can_edit': False, 'show_additional_indication': 0, 'text': '<span class=\"url-icon\"><img alt=[哈哈] src=\"https://h5.sinaimg.cn/m/emoticon/icon/default/d_haha-0ec05e6dad.png\" style=\"width:1em; height:1em;\" /></span>', 'source': 'iPhone 12 Pro Max', 'favorited': False, 'pic_ids': [], 'is_paid': False, 'mblog_vip_type': 0, 'user': {'id': 2830678474, 'screen_name': '崔庆才丨静觅', 'profile_image_url': 'https://tva3.sinaimg.cn/crop.0.0.458.458.180/a8b8b9cajw8exsgha3l4uj20cq0crmy5.jpg?KID=imgbed,tva&Expires=1657798917&ssig=f9r6AEyfyW', 'profile_url': 'https://m.weibo.cn/u/2830678474?uid=2830678474&luicode=10000011&lfid=1076032830678474', 'statuses_count': 2507, 'verified': True, 'verified_type': 0, 'verified_type_ext': 0, 'verified_reason': '互联网科技博主', 'close_blue_v': False, 'description': 'cuiqingcai.com', 'gender': 'm', 'mbtype': 12, 'urank': 36, 'mbrank': 7, 'follow_me': False, 'following': False, 'follow_count': 1172, 'followers_count': '1.1万', 'followers_count_str': '1.1万', 'cover_image_phone': 'https://tva1.sinaimg.cn/crop.0.0.640.640.640/549d0121tw1egm1kjly3jj20hs0hsq4f.jpg', 'avatar_hd': 'https://ww3.sinaimg.cn/orj480/a8b8b9cajw8exsgha3l4uj20cq0crmy5.jpg', 'like': False, 'like_me': False, 'badge': {'bind_taobao': 1, 'unread_pool': 1, 'unread_pool_ext': 1, 'dzwbqlx_2016': 1, 'panda': 1, 'user_name_certificate': 1, 'qixi_2018': 1, 'status_visible': 1, 'hongrenjie_2019': 1, 'china_2019': 1, 'hongkong_2019': 1, 'hongbao_2020': 2, 'pc_new': 7, 'party_cardid_state': 1, 'aoyun_2021': 1}}, 'retweeted_status': {'visible': {'type': 0, 'list_id': 0}, 'created_at': 'Thu Jun 02 19:22:26 +0800 2022', 'id': '4775993082380952', 'mid': '4775993082380952', 'can_edit': False, 'show_additional_indication': 0, 'text': '逮到一只睡午觉的小可爱<span class=\"url-icon\"><img alt=[doge] src=\"https://h5.sinaimg.cn/m/emoticon/icon/others/d_doge-be7f768d78.png\" style=\"width:1em; height:1em;\" /></span> <a  href=\"https://video.weibo.com/show?fid=1034:4775992783470658\" data-hide=\"\"><span class=\\'url-icon\\'><img style=\\'width: 1rem;height: 1rem\\' src=\\'https://h5.sinaimg.cn/upload/2015/09/25/3/timeline_card_small_video_default.png\\'></span><span class=\"surl-text\">阿粪青的微博视频</span></a> ', 'textLength': 49, 'source': '微博视频号', 'favorited': False, 'pic_ids': [], 'is_paid': False, 'mblog_vip_type': 0, 'user': {'id': 2726698224, 'screen_name': '阿粪青', 'profile_image_url': 'https://tvax2.sinaimg.cn/crop.0.0.512.512.180/a2861cf0ly8gdiqoo350ej20e80e874o.jpg?KID=imgbed,tva&Expires=1657798917&ssig=l3Q4C8IuIu', 'profile_url': 'https://m.weibo.cn/u/2726698224?uid=2726698224&luicode=10000011&lfid=1076032830678474', 'statuses_count': 14287, 'verified': True, 'verified_type': 0, 'verified_type_ext': 1, 'verified_reason': '知名搞笑幽默博主 微博原创视频博主', 'close_blue_v': False, 'description': '欢迎投稿', 'gender': 'm', 'mbtype': 12, 'urank': 48, 'mbrank': 7, 'follow_me': False, 'following': False, 'follow_count': 712, 'followers_count': '926.8万', 'followers_count_str': '926.8万', 'cover_image_phone': 'https://wx1.sinaimg.cn/crop.0.0.640.640.640/006Y5MRUgy1g2cidne035j30ku0kut8z.jpg', 'avatar_hd': 'https://wx2.sinaimg.cn/orj480/a2861cf0ly8gdiqoo350ej20e80e874o.jpg', 'like': False, 'like_me': False, 'badge': {'dzwbqlx_2016': 1, 'follow_whitelist_video': 1, 'super_star_2017': 1, 'user_name_certificate': 1, 'super_star_2018': 1, 'worldcup_2018': 34, 'dailv_2018': 7, 'qixi_2018': 1, 'national_day_2018': 1, 'weibo_display_fans': 1, 'relation_display': 1, 'memorial_2018': 1, 'hongbaofei_2019': 1, 'suishoupai_2019': 2, 'wusi_2019': 1, 'hongrenjie_2019': 1, 'dzwbqlx_2019': 2, 'hongbao_2020': 2, 'feiyan_2020': 1, 'hope_2020': 1, 'pc_new': 7, 'dailv_2020': 1, 'vpick_2020': 1, 'hongrenjie_2020': 1, 'weibozhiyexianxia_2021': 1, 'nihaoshenghuojie_2021': 1, 'gaokao_2021': 1, 'biyeji_2021': 1, 'party_cardid_state': 2, 'aoyun_2021': 1, 'companion_card': 1, 'kaixue21_2021': 1, 'yinyuejie21_2021': 1, 'yingxionglianmengs11_2021': 1, 'hongbaofei2022_2021': 1, 'newdongaohui_2022': 1, 'iplocationchange_2022': 1, 'biyeji_2022': 1, 'gaokao_2022': 1, 'dailv_2022': 1}}, 'reposts_count': 2109, 'comments_count': 1056, 'reprint_cmt_count': 0, 'attitudes_count': 8617, 'pending_approval_count': 0, 'isLongText': False, 'mlevel': 0, 'darwin_tags': [{'object_type': 'fangle', 'object_id': '1022:23126100007562407699849217', 'display_name': '内容过于优秀', 'enterprise_uid': None, 'bd_object_type': 'fangle'}], 'hot_page': {'fid': '232532_mblog', 'feed_detail_type': 0}, 'mblogtype': 0, 'rid': '7_0_50_6670129651442252876_0_0_0', 'number_display_strategy': {'apply_scenario_flag': 3, 'display_text_min_number': 1000000, 'display_text': '100万+'}, 'content_auth': 0, 'safe_tags': 524288, 'comment_manage_info': {'comment_permission_type': -1, 'approval_comment_type': 0, 'comment_sort_type': 0}, 'pic_num': 0, 'fid': 4775992861393083, 'new_comment_style': 0, 'region_name': '发布于 广西', 'region_opt': 1, 'edit_config': {'edited': False}, 'page_info': {'type': 'video', 'object_type': 11, 'url_ori': 'http://t.cn/A6XTCHDs', 'page_pic': {'width': 480, 'pid': 'a2861cf0gy1h2u4bh1gwxj20k00zc76x', 'source': 21, 'is_self_cover': 0, 'type': 0, 'url': 'https://wx3.sinaimg.cn/orj480/a2861cf0gy1h2u4bh1gwxj20k00zc76x.jpg', 'height': 848}, 'page_url': 'https://video.weibo.com/show?fid=1034%3A4775992783470658&luicode=10000011&lfid=1076032830678474', 'object_id': '1034:4775992783470658', 'page_title': '阿粪青的微博视频', 'title': '', 'content1': '阿粪青的微博视频', 'content2': '逮到一只睡午觉的小可爱[doge]', 'video_orientation': 'vertical', 'play_count': '118万次播放', 'media_info': {'stream_url': 'https://f.video.weibocdn.com/u0/dLl9i8xtgx07Wxefkxn201041200jDiy0E010.mp4?label=mp4_ld&template=360x636.24.0&ori=0&ps=1CwnkDw1GXwCQx&Expires=1657791717&ssig=FSubKA3KX6&KID=unistore,video', 'stream_url_hd': 'https://f.video.weibocdn.com/u0/ynPYaR4Sgx07WxefR2t201041200CUH70E010.mp4?label=mp4_hd&template=540x952.24.0&ori=0&ps=1CwnkDw1GXwCQx&Expires=1657791717&ssig=IuVXi5SJ0V&KID=unistore,video', 'duration': 63.645}, 'urls': {'mp4_720p_mp4': 'https://f.video.weibocdn.com/u0/YVjzfBPOgx07Wxegzy1W010412012aBi0E010.mp4?label=mp4_720p&template=720x1272.24.0&ori=0&ps=1CwnkDw1GXwCQx&Expires=1657791717&ssig=pT2mCfg1%2BK&KID=unistore,video', 'mp4_hd_mp4': 'https://f.video.weibocdn.com/u0/ynPYaR4Sgx07WxefR2t201041200CUH70E010.mp4?label=mp4_hd&template=540x952.24.0&ori=0&ps=1CwnkDw1GXwCQx&Expires=1657791717&ssig=IuVXi5SJ0V&KID=unistore,video', 'mp4_ld_mp4': 'https://f.video.weibocdn.com/u0/dLl9i8xtgx07Wxefkxn201041200jDiy0E010.mp4?label=mp4_ld&template=360x636.24.0&ori=0&ps=1CwnkDw1GXwCQx&Expires=1657791717&ssig=FSubKA3KX6&KID=unistore,video'}}, 'bid': 'LvSVu9Zos'}, 'reposts_count': 1, 'comments_count': 0, 'reprint_cmt_count': 0, 'attitudes_count': 0, 'pending_approval_count': 0, 'isLongText': False, 'mlevel': 0, 'darwin_tags': [], 'hot_page': {'fid': '232532_mblog', 'feed_detail_type': 0}, 'mblogtype': 0, 'rid': '7_0_50_6670129651442252876_0_0_0', 'cardid': 'vip_010', 'extern_safe': 0, 'number_display_strategy': {'apply_scenario_flag': 3, 'display_text_min_number': 1000000, 'display_text': '100万+'}, 'content_auth': 0, 'comment_manage_info': {'comment_permission_type': -1, 'approval_comment_type': 0, 'comment_sort_type': 0}, 'repost_type': 1, 'pic_num': 0, 'new_comment_style': 0, 'ab_switcher': 4, 'region_name': '发布于 北京', 'region_opt': 1, 'mblog_menu_new_style': 0, 'edit_config': {'edited': False}, 'raw_text': '[哈哈]', 'bid': 'LvTBOoFhC'}}, {'card_type': 9, 'profile_type_id': 'proweibo_4774990266238255', 'itemid': '1076032830678474_-_4774990266238255', 'scheme': 'https://m.weibo.cn/status/LvsQ2qaR1?mblogid=LvsQ2qaR1&luicode=10000011&lfid=1076032830678474', 'mblog': {'visible': {'type': 0, 'list_id': 0}, 'created_at': 'Tue May 31 00:57:37 +0800 2022', 'id': '4774990266238255', 'mid': '4774990266238255', 'can_edit': False, 'show_additional_indication': 0, 'text': '分享一个非常全的有关系统设计的资源：github.com/donnemartin/system-design-primer，其中介绍了各种各样系统的设计原则，比如可用性和一致性、负载均衡、域名系统、反向代理、数据库、缓存等、消息队列等，对提高整体计算机水平非常有帮助。 ', 'textLength': 225, 'source': 'iPhone 12 Pro Max', 'favorited': False, 'pic_ids': [], 'is_paid': False, 'mblog_vip_type': 0, 'user': {'id': 2830678474, 'screen_name': '崔庆才丨静觅', 'profile_image_url': 'https://tva3.sinaimg.cn/crop.0.0.458.458.180/a8b8b9cajw8exsgha3l4uj20cq0crmy5.jpg?KID=imgbed,tva&Expires=1657798917&ssig=f9r6AEyfyW', 'profile_url': 'https://m.weibo.cn/u/2830678474?uid=2830678474&luicode=10000011&lfid=1076032830678474', 'statuses_count': 2507, 'verified': True, 'verified_type': 0, 'verified_type_ext': 0, 'verified_reason': '互联网科技博主', 'close_blue_v': False, 'description': 'cuiqingcai.com', 'gender': 'm', 'mbtype': 12, 'urank': 36, 'mbrank': 7, 'follow_me': False, 'following': False, 'follow_count': 1172, 'followers_count': '1.1万', 'followers_count_str': '1.1万', 'cover_image_phone': 'https://tva1.sinaimg.cn/crop.0.0.640.640.640/549d0121tw1egm1kjly3jj20hs0hsq4f.jpg', 'avatar_hd': 'https://ww3.sinaimg.cn/orj480/a8b8b9cajw8exsgha3l4uj20cq0crmy5.jpg', 'like': False, 'like_me': False, 'badge': {'bind_taobao': 1, 'unread_pool': 1, 'unread_pool_ext': 1, 'dzwbqlx_2016': 1, 'panda': 1, 'user_name_certificate': 1, 'qixi_2018': 1, 'status_visible': 1, 'hongrenjie_2019': 1, 'china_2019': 1, 'hongkong_2019': 1, 'hongbao_2020': 2, 'pc_new': 7, 'party_cardid_state': 1, 'aoyun_2021': 1}}, 'reposts_count': 1, 'comments_count': 0, 'reprint_cmt_count': 0, 'attitudes_count': 1, 'pending_approval_count': 0, 'isLongText': False, 'mlevel': 0, 'darwin_tags': [], 'hot_page': {'fid': '232532_mblog', 'feed_detail_type': 0}, 'mblogtype': 0, 'rid': '8_0_50_6670129651442252876_0_0_0', 'cardid': 'vip_010', 'extern_safe': 0, 'number_display_strategy': {'apply_scenario_flag': 3, 'display_text_min_number': 1000000, 'display_text': '100万+'}, 'content_auth': 0, 'comment_manage_info': {'comment_permission_type': -1, 'approval_comment_type': 0, 'comment_sort_type': 0}, 'pic_num': 0, 'new_comment_style': 0, 'ab_switcher': 4, 'region_name': '发布于 北京', 'region_opt': 1, 'mblog_menu_new_style': 0, 'edit_config': {'edited': False}, 'bid': 'LvsQ2qaR1'}}, {'card_type': 9, 'profile_type_id': 'proweibo_4774419379257723', 'itemid': '1076032830678474_-_4774419379257723', 'scheme': 'https://m.weibo.cn/status/LvdZfCQm7?mblogid=LvdZfCQm7&luicode=10000011&lfid=1076032830678474', 'mblog': {'visible': {'type': 0, 'list_id': 0}, 'created_at': 'Sun May 29 11:09:06 +0800 2022', 'id': '4774419379257723', 'mid': '4774419379257723', 'can_edit': False, 'show_additional_indication': 0, 'text': '<span class=\"url-icon\"><img alt=[二哈] src=\"https://h5.sinaimg.cn/m/emoticon/icon/others/d_erha-139d0e07bd.png\" style=\"width:1em; height:1em;\" /></span><span class=\"url-icon\"><img alt=[二哈] src=\"https://h5.sinaimg.cn/m/emoticon/icon/others/d_erha-139d0e07bd.png\" style=\"width:1em; height:1em;\" /></span><span class=\"url-icon\"><img alt=[二哈] src=\"https://h5.sinaimg.cn/m/emoticon/icon/others/d_erha-139d0e07bd.png\" style=\"width:1em; height:1em;\" /></span>', 'source': 'iPhone 12 Pro Max', 'favorited': False, 'pic_ids': [], 'is_paid': False, 'mblog_vip_type': 0, 'user': {'id': 2830678474, 'screen_name': '崔庆才丨静觅', 'profile_image_url': 'https://tva3.sinaimg.cn/crop.0.0.458.458.180/a8b8b9cajw8exsgha3l4uj20cq0crmy5.jpg?KID=imgbed,tva&Expires=1657798917&ssig=f9r6AEyfyW', 'profile_url': 'https://m.weibo.cn/u/2830678474?uid=2830678474&luicode=10000011&lfid=1076032830678474', 'statuses_count': 2507, 'verified': True, 'verified_type': 0, 'verified_type_ext': 0, 'verified_reason': '互联网科技博主', 'close_blue_v': False, 'description': 'cuiqingcai.com', 'gender': 'm', 'mbtype': 12, 'urank': 36, 'mbrank': 7, 'follow_me': False, 'following': False, 'follow_count': 1172, 'followers_count': '1.1万', 'followers_count_str': '1.1万', 'cover_image_phone': 'https://tva1.sinaimg.cn/crop.0.0.640.640.640/549d0121tw1egm1kjly3jj20hs0hsq4f.jpg', 'avatar_hd': 'https://ww3.sinaimg.cn/orj480/a8b8b9cajw8exsgha3l4uj20cq0crmy5.jpg', 'like': False, 'like_me': False, 'badge': {'bind_taobao': 1, 'unread_pool': 1, 'unread_pool_ext': 1, 'dzwbqlx_2016': 1, 'panda': 1, 'user_name_certificate': 1, 'qixi_2018': 1, 'status_visible': 1, 'hongrenjie_2019': 1, 'china_2019': 1, 'hongkong_2019': 1, 'hongbao_2020': 2, 'pc_new': 7, 'party_cardid_state': 1, 'aoyun_2021': 1}}, 'retweeted_status': {'visible': {'type': 0, 'list_id': 0}, 'created_at': 'Sun May 29 10:00:02 +0800 2022', 'id': '4774401993868754', 'mid': '4774401993868754', 'can_edit': False, 'show_additional_indication': 0, 'text': '螺蛳粉冰棍…… ', 'textLength': 14, 'source': '微博 weibo.com', 'favorited': False, 'pic_ids': ['001TVDbigy1h2oiq8hxozj60j60jh76002', '001TVDbigy1h2oiq8kw33j60j60jmgmr02', '001TVDbigy1h2oiq8h1hwj60j60j8q4202', '001TVDbigy1h2oiq8hxqnj60j60g7js902'], 'thumbnail_pic': 'https://wx1.sinaimg.cn/thumbnail/001TVDbigy1h2oiq8hxozj60j60jh76002.jpg', 'bmiddle_pic': 'http://wx1.sinaimg.cn/bmiddle/001TVDbigy1h2oiq8hxozj60j60jh76002.jpg', 'original_pic': 'https://wx1.sinaimg.cn/large/001TVDbigy1h2oiq8hxozj60j60jh76002.jpg', 'is_paid': False, 'mblog_vip_type': 0, 'user': {'id': 1742566624, 'screen_name': '思想聚焦', 'profile_image_url': 'https://tvax2.sinaimg.cn/crop.0.0.180.180.180/67dd74e0ly8fvv8h7c3ylj2050050aac.jpg?KID=imgbed,tva&Expires=1657798917&ssig=V7%2BNcRguVq', 'profile_url': 'https://m.weibo.cn/u/1742566624?uid=1742566624&luicode=10000011&lfid=1076032830678474', 'statuses_count': 124433, 'verified': True, 'verified_type': 0, 'verified_type_ext': 1, 'verified_reason': '微博知名博主 视频博主', 'close_blue_v': False, 'description': 'QQ:3163512220 投稿邮箱：1457107986@qq.com', 'gender': 'm', 'mbtype': 12, 'urank': 48, 'mbrank': 7, 'follow_me': False, 'following': False, 'follow_count': 1642, 'followers_count': '3450.7万', 'followers_count_str': '3450.7万', 'cover_image_phone': 'https://tva3.sinaimg.cn/crop.0.0.640.640.640/6ce2240djw1e9oaqhwllzj20hs0hsdir.jpg', 'avatar_hd': 'https://wx2.sinaimg.cn/orj480/67dd74e0ly8fvv8h7c3ylj2050050aac.jpg', 'like': False, 'like_me': False, 'badge': {'gongyi_level': 1, 'bind_taobao': 1, 'dailv': 1, 'zongyiji': 1, 'self_media': 1, 'dzwbqlx_2016': 1, 'follow_whitelist_video': 1, 'super_star_2017': 1, 'travel_2017': 1, 'user_name_certificate': 1, 'suishoupai_2018': 5, 'wenchuan_10th': 1, 'super_star_2018': 1, 'worldcup_2018': 34, 'dailv_2018': 1, 'qixi_2018': 1, 'meilizhongguo_2018': 1, 'national_day_2018': 1, 'memorial_2018': 1, 'hongbaofei_2019': 1, 'status_visible': 1, 'suishoupai_2019': 1, 'wusi_2019': 1, 'earth_2019': 1, 'hongrenjie_2019': 1, 'china_2019': 1, 'hongkong_2019': 1, 'rrgyj_2019': 1, 'cishan_2019': 1, 'weishi_2019': 1, 'shuang11_2019': 1, 'gongjiri_2019': 1, 'macao_2019': 1, 'china_2019_2': 1, 'hongbao_2020': 1, 'feiyan_2020': 1, 'hope_2020': 1, 'pc_new': 6, 'dailv_2020': 1, 'school_2020': 1, 'gongyi_2020': 3, 'hongrenjie_2020': 1, 'china_2020': 1, 'hongbaofeifuniu_2021': 1, 'lvzhilingyang_2021': 1, 'yuanlongping_2021': 1, 'ylpshuidao_2021': 1, 'gaokao_2021': 1, 'ouzhoubei_2021': 24, 'biyeji_2021': 1, 'party_cardid_state': 2, 'aoyun_2021': 1, 'kaixue21_2021': 1, 'renrengongyijie_2021': 1, 'yinyuejie21_2021': 1, 'hongbaofei2022_2021': 2, 'newdongaohui_2022': 1, 'nihaochuntian_2022': 1, 'biyeji_2022': 1, 'gaokao_2022': 1, 'hangmu_2022': 1, 'guoqi_2022': 1, 'gangqi_2022': 1}}, 'reposts_count': 1153, 'comments_count': 1110, 'reprint_cmt_count': 0, 'attitudes_count': 3270, 'pending_approval_count': 0, 'isLongText': False, 'mlevel': 0, 'darwin_tags': [], 'hot_page': {'fid': '232532_mblog', 'feed_detail_type': 0}, 'mblogtype': 0, 'rid': '9_0_50_6670129651442252876_0_0_0', 'cardid': 'star_1573', 'number_display_strategy': {'apply_scenario_flag': 3, 'display_text_min_number': 1000000, 'display_text': '100万+'}, 'content_auth': 0, 'safe_tags': 67108864, 'comment_manage_info': {'comment_permission_type': -1, 'approval_comment_type': 0, 'comment_sort_type': 0}, 'pic_num': 4, 'new_comment_style': 0, 'region_name': '发布于 广东', 'region_opt': 1, 'edit_config': {'edited': False}, 'pics': [{'pid': '001TVDbigy1h2oiq8hxozj60j60jh76002', 'url': 'https://wx1.sinaimg.cn/orj360/001TVDbigy1h2oiq8hxozj60j60jh76002.jpg', 'size': 'orj360', 'geo': {'width': 360, 'height': 365, 'croped': False}, 'large': {'size': 'large', 'url': 'https://wx1.sinaimg.cn/large/001TVDbigy1h2oiq8hxozj60j60jh76002.jpg', 'geo': {'width': '690', 'height': '701', 'croped': False}}}, {'pid': '001TVDbigy1h2oiq8kw33j60j60jmgmr02', 'url': 'https://wx1.sinaimg.cn/orj360/001TVDbigy1h2oiq8kw33j60j60jmgmr02.jpg', 'size': 'orj360', 'geo': {'width': 360, 'height': 368, 'croped': False}, 'large': {'size': 'large', 'url': 'https://wx1.sinaimg.cn/large/001TVDbigy1h2oiq8kw33j60j60jmgmr02.jpg', 'geo': {'width': '690', 'height': '706', 'croped': False}}}, {'pid': '001TVDbigy1h2oiq8h1hwj60j60j8q4202', 'url': 'https://wx3.sinaimg.cn/orj360/001TVDbigy1h2oiq8h1hwj60j60j8q4202.jpg', 'size': 'orj360', 'geo': {'width': 360, 'height': 361, 'croped': False}, 'large': {'size': 'large', 'url': 'https://wx3.sinaimg.cn/large/001TVDbigy1h2oiq8h1hwj60j60j8q4202.jpg', 'geo': {'width': '690', 'height': '692', 'croped': False}}}, {'pid': '001TVDbigy1h2oiq8hxqnj60j60g7js902', 'url': 'https://wx2.sinaimg.cn/orj360/001TVDbigy1h2oiq8hxqnj60j60g7js902.jpg', 'size': 'orj360', 'geo': {'width': 319, 'height': 270, 'croped': False}, 'large': {'size': 'large', 'url': 'https://wx2.sinaimg.cn/large/001TVDbigy1h2oiq8hxqnj60j60g7js902.jpg', 'geo': {'width': '690', 'height': '583', 'croped': False}}}], 'bid': 'Lvdxdgerg'}, 'reposts_count': 0, 'comments_count': 0, 'reprint_cmt_count': 0, 'attitudes_count': 0, 'pending_approval_count': 0, 'isLongText': False, 'mlevel': 0, 'darwin_tags': [], 'hot_page': {'fid': '232532_mblog', 'feed_detail_type': 0}, 'mblogtype': 0, 'rid': '9_0_50_6670129651442252876_0_0_0', 'cardid': 'vip_010', 'extern_safe': 0, 'number_display_strategy': {'apply_scenario_flag': 3, 'display_text_min_number': 1000000, 'display_text': '100万+'}, 'content_auth': 0, 'comment_manage_info': {'comment_permission_type': -1, 'approval_comment_type': 0, 'comment_sort_type': 0}, 'repost_type': 1, 'pic_num': 0, 'new_comment_style': 0, 'ab_switcher': 4, 'region_name': '发布于 北京', 'region_opt': 1, 'mblog_menu_new_style': 0, 'edit_config': {'edited': False}, 'raw_text': '[二哈][二哈][二哈]', 'bid': 'LvdZfCQm7'}}], 'scheme': 'sinaweibo://cardlist?containerid=1076032830678474&type=uid&value=2830678474&_T_WM=64155236321&v_p=42&luicode=10000011&lfid=1076032830678474', 'showAppTips': 0}}\n"
     ]
    }
   ],
   "source": [
    "import requests\n",
    "\n",
    "base_url = \"https://m.weibo.cn/api/container/getIndex?type=uid&value=2830678474&containerid=1076032830678474\"\n",
    "\n",
    "headers = {\n",
    "    'Referer': 'https://m.weibo.cn/u/2830678474',\n",
    "    'User-Agent': 'Mozilla/5.0 (Windows NT 10.0; Win64; x64) AppleWebKit/537.36 (KHTML, like Gecko) Chrome/102.0.5005.136 Safari/537.36',\n",
    "    'X-Requested-With': 'XMLHttpRequest',\n",
    "}\n",
    "\n",
    "response = requests.get(base_url, headers=headers)\n",
    "if response.status_code == 200:\n",
    "    s = response.json()\n",
    "    print(s)"
   ]
  },
  {
   "cell_type": "code",
   "execution_count": 201,
   "id": "f918821b",
   "metadata": {},
   "outputs": [
    {
     "data": {
      "text/plain": [
       "'{\\n    \"ok\": 1,\\n    \"data\": {\\n        \"cardlistInfo\": {\\n            \"containerid\": \"1076032830678474\",\\n            \"v_p\": 42,\\n            \"show_style\": 1,\\n            \"total\": 198,\\n            \"since_id\": 4774091682746723\\n        },\\n        \"cards\": [\\n            {\\n                \"card_type\": 9,\\n                \"profile_type_id\": \"proweibo_4787545654952441\",\\n                \"itemid\": \"1076032830678474_-_4787545654952441\",\\n                \"scheme\": \"https://m.weibo.cn/status/LAJsFkMm5?mblogid=LAJsFkMm5&luicode=10000011&lfid=1076032830678474\",\\n                \"mblog\": {\\n                    \"visible\": {\\n                        \"type\": 0,\\n                        \"list_id\": 0\\n                    },\\n                    \"created_at\": \"Mon Jul 04 16:28:14 +0800 2022\",\\n                    \"id\": \"4787545654952441\",\\n                    \"mid\": \"4787545654952441\",\\n                    \"can_edit\": false,\\n                    \"show_additional_indication\": 0,\\n                    \"text\": \"\\\\u8f6c\\\\u53d1\\\\u5fae\\\\u535a\",\\n                    \"source\": \"iPhone 12 Pro Max\",\\n                    \"favorited\": false,\\n                    \"pic_ids\": [],\\n                    \"is_paid\": false,\\n                    \"mblog_vip_type\": 0,\\n                    \"user\": {\\n                        \"id\": 2830678474,\\n                        \"screen_name\": \"\\\\u5d14\\\\u5e86\\\\u624d\\\\u4e28\\\\u9759\\\\u89c5\",\\n                        \"profile_image_url\": \"https://tva3.sinaimg.cn/crop.0.0.458.458.180/a8b8b9cajw8exsgha3l4uj20cq0crmy5.jpg?KID=imgbed,tva&Expires=1657798917&ssig=f9r6AEyfyW\",\\n                        \"profile_url\": \"https://m.weibo.cn/u/2830678474?uid=2830678474&luicode=10000011&lfid=1076032830678474\",\\n                        \"statuses_count\": 2507,\\n                        \"verified\": true,\\n                        \"verified_type\": 0,\\n                        \"verified_type_ext\": 0,\\n                        \"verified_reason\": \"\\\\u4e92\\\\u8054\\\\u7f51\\\\u79d1\\\\u6280\\\\u535a\\\\u4e3b\",\\n                        \"close_blue_v\": false,\\n                        \"description\": \"cuiqingcai.com\",\\n                        \"gender\": \"m\",\\n                        \"mbtype\": 12,\\n                        \"urank\": 36,\\n                        \"mbrank\": 7,\\n                        \"follow_me\": false,\\n                        \"following\": false,\\n                        \"follow_count\": 1172,\\n                        \"followers_count\": \"1.1\\\\u4e07\",\\n                        \"followers_count_str\": \"1.1\\\\u4e07\",\\n                        \"cover_image_phone\": \"https://tva1.sinaimg.cn/crop.0.0.640.640.640/549d0121tw1egm1kjly3jj20hs0hsq4f.jpg\",\\n                        \"avatar_hd\": \"https://ww3.sinaimg.cn/orj480/a8b8b9cajw8exsgha3l4uj20cq0crmy5.jpg\",\\n                        \"like\": false,\\n                        \"like_me\": false,\\n                        \"badge\": {\\n                            \"bind_taobao\": 1,\\n                            \"unread_pool\": 1,\\n                            \"unread_pool_ext\": 1,\\n                            \"dzwbqlx_2016\": 1,\\n                            \"panda\": 1,\\n                            \"user_name_certificate\": 1,\\n                            \"qixi_2018\": 1,\\n                            \"status_visible\": 1,\\n                            \"hongrenjie_2019\": 1,\\n                            \"china_2019\": 1,\\n                            \"hongkong_2019\": 1,\\n                            \"hongbao_2020\": 2,\\n                            \"pc_new\": 7,\\n                            \"party_cardid_state\": 1,\\n                            \"aoyun_2021\": 1\\n                        }\\n                    },\\n                    \"retweeted_status\": {\\n                        \"visible\": {\\n                            \"type\": 0,\\n                            \"list_id\": 0\\n                        },\\n                        \"created_at\": \"Mon Jul 04 11:50:23 +0800 2022\",\\n                        \"id\": \"4787475727520684\",\\n                        \"mid\": \"4787475727520684\",\\n                        \"can_edit\": false,\\n                        \"show_additional_indication\": 0,\\n                        \"text\": \"\\\\u600e\\\\u4e48\\\\u770b\\\\u5f85\\\\u963f\\\\u91cc\\\\u5df4\\\\u5df4\\\\u5173\\\\u4e8e\\\\u8981\\\\u88c1\\\\u54582\\\\u4e07\\\\u4eba\\\\u56de\\\\u5e94?<br /><br />\\\\u6211\\\\u672c\\\\u6765\\\\u662f\\\\u60f3\\\\u5b9e\\\\u540d\\\\u7684\\\\uff0c\\\\u8003\\\\u8651\\\\u5230\\\\u8001\\\\u4e1c\\\\u5bb6\\\\u53ef\\\\u80fd\\\\u8fd8\\\\u662f\\\\u6709\\\\u4eba\\\\u77e5\\\\u9053\\\\u6211\\\\u5728\\\\u8fd9\\\\u91cc\\\\uff0c\\\\u8fd8\\\\u662f\\\\u7b97\\\\u4e86\\\\u3002<br /><br />\\\\u8bf4\\\\u5b9e\\\\u8bdd\\\\uff0c\\\\u662f\\\\u597d\\\\u4e8b\\\\uff0c\\\\u662f\\\\u7ed9\\\\u8fd92w\\\\u4eba\\\\u4e00\\\\u4e2a\\\\u673a\\\\u4f1a\\\\uff0c\\\\u73b0\\\\u5728\\\\u88c1\\\\u5458\\\\u6709\\\\u8d54\\\\u507f\\\\uff0c\\\\u4f60\\\\u62ff\\\\u5230\\\\u8fd9\\\\u7b14\\\\u8d54\\\\u507f\\\\u91d1\\\\u53ef\\\\u4ee5\\\\u7ed9\\\\u81ea\\\\u5df1\\\\u4e00\\\\u4e2a\\\\u7f13\\\\u51b2\\\\u671f\\\\u3002\\\\u800c\\\\u4e14\\\\uff0c\\\\u5c31\\\\u4e1a\\\\u5e02\\\\u573a\\\\u6ca1\\\\u6709\\\\u4e4b\\\\u540e\\\\u90a3\\\\u4e48\\\\u62e5\\\\u6324\\\\u3002<br /><br />\\\\u5148\\\\u8bf4\\\\u7ed3\\\\u8bba\\\\uff0c\\\\u540e\\\\u9762\\\\u963f\\\\u91cc\\\\u5df4\\\\u5df4\\\\u5927\\\\u6982\\\\u7387\\\\u662f\\\\u5206\\\\u62c6\\\\u6216\\\\u8005\\\\u7834\\\\u4ea7\\\\u7684\\\\u3002<br /><br />\\\\u6211 ...<a href=\\\\\"/status/4787475727520684\\\\\">\\\\u5168\\\\u6587</a>\",\\n                        \"textLength\": 1836,\\n                        \"source\": \"\\\\u8363\\\\u800030 5G\",\\n                        \"favorited\": false,\\n                        \"pic_ids\": [\\n                            \"5f389265ly1h3ur3r6k3oj20iz0q678o\"\\n                        ],\\n                        \"thumbnail_pic\": \"https://wx1.sinaimg.cn/thumbnail/5f389265ly1h3ur3r6k3oj20iz0q678o.jpg\",\\n                        \"bmiddle_pic\": \"http://wx1.sinaimg.cn/bmiddle/5f389265ly1h3ur3r6k3oj20iz0q678o.jpg\",\\n                        \"original_pic\": \"https://wx1.sinaimg.cn/large/5f389265ly1h3ur3r6k3oj20iz0q678o.jpg\",\\n                        \"is_paid\": false,\\n                        \"mblog_vip_type\": 0,\\n                        \"user\": {\\n                            \"id\": 1597543013,\\n                            \"screen_name\": \"\\\\u5ef6\\\\u5411\\\\u4e1c\",\\n                            \"profile_image_url\": \"https://tvax4.sinaimg.cn/crop.0.0.1080.1080.180/5f389265ly8gy0or3ixb2j20u00u075v.jpg?KID=imgbed,tva&Expires=1657798917&ssig=rA%2BBV8v%2BKg\",\\n                            \"profile_url\": \"https://m.weibo.cn/u/1597543013?uid=1597543013&luicode=10000011&lfid=1076032830678474\",\\n                            \"statuses_count\": 1976,\\n                            \"verified\": true,\\n                            \"verified_type\": 0,\\n                            \"verified_type_ext\": 0,\\n                            \"verified_reason\": \"\\\\u5934\\\\u6761\\\\u6587\\\\u7ae0\\\\u4f5c\\\\u8005\",\\n                            \"close_blue_v\": false,\\n                            \"description\": \"\\\\u6211\\\\u601d\\\\u6545\\\\u6211\\\\u5728\",\\n                            \"gender\": \"m\",\\n                            \"mbtype\": 2,\\n                            \"urank\": 30,\\n                            \"mbrank\": 6,\\n                            \"follow_me\": false,\\n                            \"following\": false,\\n                            \"follow_count\": 2165,\\n                            \"followers_count\": \"40\\\\u4e07\",\\n                            \"followers_count_str\": \"40\\\\u4e07\",\\n                            \"cover_image_phone\": \"https://tva1.sinaimg.cn/crop.0.0.640.640.640/9d44112bjw1f1xl1c10tuj20hs0hs0tw.jpg\",\\n                            \"avatar_hd\": \"https://wx4.sinaimg.cn/orj480/5f389265ly8gy0or3ixb2j20u00u075v.jpg\",\\n                            \"like\": false,\\n                            \"like_me\": false,\\n                            \"badge\": {\\n                                \"bind_taobao\": 1,\\n                                \"follow_whitelist_video\": 1,\\n                                \"user_name_certificate\": 1,\\n                                \"relation_display\": 1,\\n                                \"fishfarm_2021\": 1,\\n                                \"iplocationchange_2022\": 1\\n                            }\\n                        },\\n                        \"reposts_count\": 10,\\n                        \"comments_count\": 5,\\n                        \"reprint_cmt_count\": 0,\\n                        \"attitudes_count\": 20,\\n                        \"pending_approval_count\": 0,\\n                        \"isLongText\": true,\\n                        \"mlevel\": 0,\\n                        \"darwin_tags\": [],\\n                        \"hot_page\": {\\n                            \"fid\": \"232532_mblog\",\\n                            \"feed_detail_type\": 0\\n                        },\\n                        \"mblogtype\": 0,\\n                        \"rid\": \"0_0_50_6670129651442252876_0_0_0\",\\n                        \"number_display_strategy\": {\\n                            \"apply_scenario_flag\": 3,\\n                            \"display_text_min_number\": 1000000,\\n                            \"display_text\": \"100\\\\u4e07+\"\\n                        },\\n                        \"content_auth\": 0,\\n                        \"comment_manage_info\": {\\n                            \"comment_permission_type\": -1,\\n                            \"approval_comment_type\": 0,\\n                            \"comment_sort_type\": 0\\n                        },\\n                        \"pic_num\": 1,\\n                        \"new_comment_style\": 0,\\n                        \"region_name\": \"\\\\u53d1\\\\u5e03\\\\u4e8e \\\\u5317\\\\u4eac\",\\n                        \"region_opt\": 1,\\n                        \"edit_config\": {\\n                            \"edited\": false\\n                        },\\n                        \"pics\": [\\n                            {\\n                                \"pid\": \"5f389265ly1h3ur3r6k3oj20iz0q678o\",\\n                                \"url\": \"https://wx1.sinaimg.cn/orj360/5f389265ly1h3ur3r6k3oj20iz0q678o.jpg\",\\n                                \"size\": \"orj360\",\\n                                \"geo\": {\\n                                    \"width\": 360,\\n                                    \"height\": 496,\\n                                    \"croped\": false\\n                                },\\n                                \"large\": {\\n                                    \"size\": \"large\",\\n                                    \"url\": \"https://wx1.sinaimg.cn/large/5f389265ly1h3ur3r6k3oj20iz0q678o.jpg\",\\n                                    \"geo\": {\\n                                        \"width\": \"683\",\\n                                        \"height\": \"942\",\\n                                        \"croped\": false\\n                                    }\\n                                }\\n                            }\\n                        ],\\n                        \"bid\": \"LAHDSvytm\"\\n                    },\\n                    \"reposts_count\": 0,\\n                    \"comments_count\": 0,\\n                    \"reprint_cmt_count\": 0,\\n                    \"attitudes_count\": 1,\\n                    \"pending_approval_count\": 0,\\n                    \"isLongText\": false,\\n                    \"mlevel\": 0,\\n                    \"darwin_tags\": [],\\n                    \"hot_page\": {\\n                        \"fid\": \"232532_mblog\",\\n                        \"feed_detail_type\": 0\\n                    },\\n                    \"mblogtype\": 0,\\n                    \"rid\": \"0_0_50_6670129651442252876_0_0_0\",\\n                    \"cardid\": \"vip_010\",\\n                    \"extern_safe\": 0,\\n                    \"number_display_strategy\": {\\n                        \"apply_scenario_flag\": 3,\\n                        \"display_text_min_number\": 1000000,\\n                        \"display_text\": \"100\\\\u4e07+\"\\n                    },\\n                    \"content_auth\": 0,\\n                    \"comment_manage_info\": {\\n                        \"comment_permission_type\": -1,\\n                        \"approval_comment_type\": 0,\\n                        \"comment_sort_type\": 0\\n                    },\\n                    \"repost_type\": 1,\\n                    \"pic_num\": 0,\\n                    \"new_comment_style\": 0,\\n                    \"ab_switcher\": 4,\\n                    \"region_name\": \"\\\\u53d1\\\\u5e03\\\\u4e8e \\\\u5317\\\\u4eac\",\\n                    \"region_opt\": 1,\\n                    \"mblog_menu_new_style\": 0,\\n                    \"edit_config\": {\\n                        \"edited\": false\\n                    },\\n                    \"raw_text\": \"\\\\u8f6c\\\\u53d1\\\\u5fae\\\\u535a\",\\n                    \"bid\": \"LAJsFkMm5\"\\n                }\\n            },\\n            {\\n                \"card_type\": 9,\\n                \"profile_type_id\": \"proweibo_4787127352559634\",\\n                \"itemid\": \"1076032830678474_-_4787127352559634\",\\n                \"scheme\": \"https://m.weibo.cn/status/LAyzZaJSq?mblogid=LAyzZaJSq&luicode=10000011&lfid=1076032830678474\",\\n                \"mblog\": {\\n                    \"visible\": {\\n                        \"type\": 0,\\n                        \"list_id\": 0\\n                    },\\n                    \"created_at\": \"Sun Jul 03 12:46:04 +0800 2022\",\\n                    \"id\": \"4787127352559634\",\\n                    \"mid\": \"4787127352559634\",\\n                    \"can_edit\": false,\\n                    \"show_additional_indication\": 0,\\n                    \"text\": \"\\\\u8f6c\\\\u53d1\\\\u5fae\\\\u535a\",\\n                    \"source\": \"iPhone 12 Pro Max\",\\n                    \"favorited\": false,\\n                    \"pic_ids\": [],\\n                    \"is_paid\": false,\\n                    \"mblog_vip_type\": 0,\\n                    \"user\": {\\n                        \"id\": 2830678474,\\n                        \"screen_name\": \"\\\\u5d14\\\\u5e86\\\\u624d\\\\u4e28\\\\u9759\\\\u89c5\",\\n                        \"profile_image_url\": \"https://tva3.sinaimg.cn/crop.0.0.458.458.180/a8b8b9cajw8exsgha3l4uj20cq0crmy5.jpg?KID=imgbed,tva&Expires=1657798917&ssig=f9r6AEyfyW\",\\n                        \"profile_url\": \"https://m.weibo.cn/u/2830678474?uid=2830678474&luicode=10000011&lfid=1076032830678474\",\\n                        \"statuses_count\": 2507,\\n                        \"verified\": true,\\n                        \"verified_type\": 0,\\n                        \"verified_type_ext\": 0,\\n                        \"verified_reason\": \"\\\\u4e92\\\\u8054\\\\u7f51\\\\u79d1\\\\u6280\\\\u535a\\\\u4e3b\",\\n                        \"close_blue_v\": false,\\n                        \"description\": \"cuiqingcai.com\",\\n                        \"gender\": \"m\",\\n                        \"mbtype\": 12,\\n                        \"urank\": 36,\\n                        \"mbrank\": 7,\\n                        \"follow_me\": false,\\n                        \"following\": false,\\n                        \"follow_count\": 1172,\\n                        \"followers_count\": \"1.1\\\\u4e07\",\\n                        \"followers_count_str\": \"1.1\\\\u4e07\",\\n                        \"cover_image_phone\": \"https://tva1.sinaimg.cn/crop.0.0.640.640.640/549d0121tw1egm1kjly3jj20hs0hsq4f.jpg\",\\n                        \"avatar_hd\": \"https://ww3.sinaimg.cn/orj480/a8b8b9cajw8exsgha3l4uj20cq0crmy5.jpg\",\\n                        \"like\": false,\\n                        \"like_me\": false,\\n                        \"badge\": {\\n                            \"bind_taobao\": 1,\\n                            \"unread_pool\": 1,\\n                            \"unread_pool_ext\": 1,\\n                            \"dzwbqlx_2016\": 1,\\n                            \"panda\": 1,\\n                            \"user_name_certificate\": 1,\\n                            \"qixi_2018\": 1,\\n                            \"status_visible\": 1,\\n                            \"hongrenjie_2019\": 1,\\n                            \"china_2019\": 1,\\n                            \"hongkong_2019\": 1,\\n                            \"hongbao_2020\": 2,\\n                            \"pc_new\": 7,\\n                            \"party_cardid_state\": 1,\\n                            \"aoyun_2021\": 1\\n                        }\\n                    },\\n                    \"retweeted_status\": {\\n                        \"visible\": {\\n                            \"type\": 0,\\n                            \"list_id\": 0\\n                        },\\n                        \"created_at\": \"Sun Jul 03 11:08:40 +0800 2022\",\\n                        \"id\": \"4787102842098366\",\\n                        \"mid\": \"4787102842098366\",\\n                        \"can_edit\": false,\\n                        \"show_additional_indication\": 0,\\n                        \"text\": \"\\\\u6211\\\\u5224\\\\u65ad\\\\u4ee5\\\\u540e\\\\u5404\\\\u5927\\\\u57ce\\\\u5e02\\\\u90fd\\\\u4f1a\\\\u4e89\\\\u62a2\\\\u4e24\\\\u7c7b\\\\u4eba\\\\u624d\\\\uff0c1\\\\uff09\\\\u9ad8\\\\u5b66\\\\u5386\\\\u6bd5\\\\u4e1a\\\\u751f 2\\\\uff09\\\\u9ad8\\\\u6c34\\\\u5e73\\\\u521b\\\\u4e1a\\\\u8005 \\\\u3002\\\\u539f\\\\u56e0\\\\u5f88\\\\u7b80\\\\u5355\\\\uff0c\\\\u8fd9\\\\u4e9b\\\\u4eba\\\\u80fd\\\\u4e70\\\\u623f\\\\uff0c\\\\u571f\\\\u5730\\\\u8d22\\\\u653f\\\\u80fdrun\\\\u4e0b\\\\u53bb\\\\uff1b\\\\u89e3\\\\u51b3\\\\u548c\\\\u5e26\\\\u52a8\\\\u5c31\\\\u4e1a\\\\uff0c\\\\u57ce\\\\u5e02\\\\u6d3b\\\\u529b\\\\u80fd\\\\u8d77\\\\u6765\\\\u3002\\\\u6211\\\\u5927\\\\u80c6\\\\u9884\\\\u6d4b\\\\u672a\\\\u6765\\\\u5305\\\\u62ec\\\\u5317\\\\u4e0a\\\\u90fd\\\\u4f1a\\\\u8ba9985\\\\u6bd5\\\\u4e1a\\\\u751f\\\\u65e0\\\\u6761\\\\u4ef6\\\\u843d\\\\u6237\\\\uff1b\\\\u521b\\\\u4e1a\\\\u8001\\\\u677f\\\\u89e3\\\\u51b3xx\\\\u4eba\\\\u5c31\\\\u4e1a\\\\u76f4\\\\u63a5\\\\u843d\\\\u6237\\\\uff1b\\\\u7eb3\\\\u7a0exx\\\\u5143\\\\u76f4\\\\u63a5\\\\u843d\\\\u6237\\\\u3002\\\\u674e\\\\u94c1\\\\u4e3a\\\\u8bc1\\\\uff0c\\\\u5176\\\\u4ed6\\\\u4e8c\\\\u7ebf\\\\u57ce\\\\u5e02\\\\u4f1a\\\\u8d8a\\\\u6765\\\\u8d8a\\\\u96be\\\\uff0c\\\\u53ea ...<a href=\\\\\"/status/4787102842098366\\\\\">\\\\u5168\\\\u6587</a>\",\\n                        \"textLength\": 306,\\n                        \"source\": \"iPhone 13 Pro Max\",\\n                        \"favorited\": false,\\n                        \"pic_ids\": [],\\n                        \"is_paid\": false,\\n                        \"mblog_vip_type\": 0,\\n                        \"user\": {\\n                            \"id\": 2131170823,\\n                            \"screen_name\": \"\\\\u6881\\\\u535apenny\",\\n                            \"profile_image_url\": \"https://tva2.sinaimg.cn/crop.0.0.180.180.180/7f071607jw1e8qgp5bmzyj2050050aa8.jpg?KID=imgbed,tva&Expires=1657798917&ssig=jPI4DdyfD9\",\\n                            \"profile_url\": \"https://m.weibo.cn/u/2131170823?uid=2131170823&luicode=10000011&lfid=1076032830678474\",\\n                            \"statuses_count\": 2737,\\n                            \"verified\": false,\\n                            \"verified_type\": -1,\\n                            \"close_blue_v\": false,\\n                            \"description\": \"\\\\u5317\\\\u4eac\\\\u516b\\\\u53cb\\\\u79d1\\\\u6280\\\\u8054\\\\u5408\\\\u521b\\\\u59cb\\\\u4eba\\\\uff0c\\\\u6e05\\\\u534e\\\\u5927\\\\u5b66\\\\u8ba1\\\\u7b97\\\\u673a\\\\u4eba\\\\u5de5\\\\u667a\\\\u80fd\\\\u535a\\\\u58eb\\\\uff0c\\\\u521b\\\\u4e1a\\\\u8005\\\\uff0c\\\\u8be6\\\\u60c5\\\\u89c1\\\\uff1ahttp://www.pennyliang.com/\",\\n                            \"gender\": \"m\",\\n                            \"mbtype\": 12,\\n                            \"urank\": 22,\\n                            \"mbrank\": 4,\\n                            \"follow_me\": false,\\n                            \"following\": false,\\n                            \"follow_count\": 1095,\\n                            \"followers_count\": \"12\\\\u4e07\",\\n                            \"followers_count_str\": \"12\\\\u4e07\",\\n                            \"cover_image_phone\": \"https://tva1.sinaimg.cn/crop.0.0.640.640.640/549d0121tw1egm1kjly3jj20hs0hsq4f.jpg\",\\n                            \"avatar_hd\": \"https://ww2.sinaimg.cn/orj480/7f071607jw1e8qgp5bmzyj2050050aa8.jpg\",\\n                            \"like\": false,\\n                            \"like_me\": false,\\n                            \"badge\": {\\n                                \"user_name_certificate\": 1,\\n                                \"weibo_display_fans\": 1,\\n                                \"relation_display\": 1,\\n                                \"status_visible\": 1,\\n                                \"pc_new\": 7,\\n                                \"pc_experiment\": 1,\\n                                \"city_university\": 10,\\n                                \"gaokao_2022\": 1,\\n                                \"hangmu_2022\": 1\\n                            }\\n                        },\\n                        \"reposts_count\": 68,\\n                        \"comments_count\": 89,\\n                        \"reprint_cmt_count\": 0,\\n                        \"attitudes_count\": 278,\\n                        \"pending_approval_count\": 0,\\n                        \"isLongText\": true,\\n                        \"mlevel\": 0,\\n                        \"darwin_tags\": [],\\n                        \"hot_page\": {\\n                            \"fid\": \"232532_mblog\",\\n                            \"feed_detail_type\": 0\\n                        },\\n                        \"mblogtype\": 0,\\n                        \"rid\": \"1_0_50_6670129651442252876_0_0_0\",\\n                        \"number_display_strategy\": {\\n                            \"apply_scenario_flag\": 3,\\n                            \"display_text_min_number\": 1000000,\\n                            \"display_text\": \"100\\\\u4e07+\"\\n                        },\\n                        \"content_auth\": 0,\\n                        \"safe_tags\": 34359738368,\\n                        \"comment_manage_info\": {\\n                            \"comment_permission_type\": -1,\\n                            \"approval_comment_type\": 0,\\n                            \"comment_sort_type\": 0\\n                        },\\n                        \"pic_num\": 0,\\n                        \"new_comment_style\": 0,\\n                        \"region_name\": \"\\\\u53d1\\\\u5e03\\\\u4e8e \\\\u6c5f\\\\u82cf\",\\n                        \"region_opt\": 1,\\n                        \"edit_config\": {\\n                            \"edited\": false\\n                        },\\n                        \"bid\": \"LAxWs8NSC\"\\n                    },\\n                    \"reposts_count\": 0,\\n                    \"comments_count\": 0,\\n                    \"reprint_cmt_count\": 0,\\n                    \"attitudes_count\": 0,\\n                    \"pending_approval_count\": 0,\\n                    \"isLongText\": false,\\n                    \"mlevel\": 0,\\n                    \"darwin_tags\": [],\\n                    \"hot_page\": {\\n                        \"fid\": \"232532_mblog\",\\n                        \"feed_detail_type\": 0\\n                    },\\n                    \"mblogtype\": 0,\\n                    \"rid\": \"1_0_50_6670129651442252876_0_0_0\",\\n                    \"cardid\": \"vip_010\",\\n                    \"extern_safe\": 0,\\n                    \"number_display_strategy\": {\\n                        \"apply_scenario_flag\": 3,\\n                        \"display_text_min_number\": 1000000,\\n                        \"display_text\": \"100\\\\u4e07+\"\\n                    },\\n                    \"content_auth\": 0,\\n                    \"comment_manage_info\": {\\n                        \"comment_permission_type\": -1,\\n                        \"approval_comment_type\": 0,\\n                        \"comment_sort_type\": 0\\n                    },\\n                    \"repost_type\": 1,\\n                    \"pic_num\": 0,\\n                    \"new_comment_style\": 0,\\n                    \"ab_switcher\": 4,\\n                    \"region_name\": \"\\\\u53d1\\\\u5e03\\\\u4e8e \\\\u5317\\\\u4eac\",\\n                    \"region_opt\": 1,\\n                    \"mblog_menu_new_style\": 0,\\n                    \"edit_config\": {\\n                        \"edited\": false\\n                    },\\n                    \"raw_text\": \"\\\\u8f6c\\\\u53d1\\\\u5fae\\\\u535a\",\\n                    \"bid\": \"LAyzZaJSq\"\\n                }\\n            },\\n            {\\n                \"card_type\": 9,\\n                \"profile_type_id\": \"proweibo_4779505241821018\",\\n                \"itemid\": \"1076032830678474_-_4779505241821018\",\\n                \"scheme\": \"https://m.weibo.cn/status/Lxmig7DJg?mblogid=Lxmig7DJg&luicode=10000011&lfid=1076032830678474\",\\n                \"mblog\": {\\n                    \"visible\": {\\n                        \"type\": 0,\\n                        \"list_id\": 0\\n                    },\\n                    \"created_at\": \"Sun Jun 12 11:58:31 +0800 2022\",\\n                    \"id\": \"4779505241821018\",\\n                    \"mid\": \"4779505241821018\",\\n                    \"can_edit\": false,\\n                    \"show_additional_indication\": 0,\\n                    \"text\": \"\\\\u53cd\\\\u4eba\\\\u7c7b\\\\u7684\\\\u7535\\\\u68af\\\\u8bbe\\\\u8ba1\\\\uff0c\\\\u4f46\\\\u60f3\\\\u60f3\\\\u4e5f\\\\u53ef\\\\u4ee5\\\\u7406\\\\u89e3\\\\u3002<span class=\\\\\"url-icon\\\\\"><img alt=[\\\\u4e8c\\\\u54c8] src=\\\\\"https://h5.sinaimg.cn/m/emoticon/icon/others/d_erha-139d0e07bd.png\\\\\" style=\\\\\"width:1em; height:1em;\\\\\" /></span> <a  href=\\\\\"https://video.weibo.com/show?fid=1034:4779505139777624\\\\\" data-hide=\\\\\"\\\\\"><span class=\\'url-icon\\'><img style=\\'width: 1rem;height: 1rem\\' src=\\'https://h5.sinaimg.cn/upload/2015/09/25/3/timeline_card_small_video_default.png\\'></span><span class=\\\\\"surl-text\\\\\">\\\\u5d14\\\\u5e86\\\\u624d\\\\u4e28\\\\u9759\\\\u89c5\\\\u7684\\\\u5fae\\\\u535a\\\\u89c6\\\\u9891</span></a> \",\\n                    \"textLength\": 63,\\n                    \"source\": \"\\\\u5fae\\\\u535a\\\\u89c6\\\\u9891\\\\u53f7\",\\n                    \"favorited\": false,\\n                    \"pic_ids\": [],\\n                    \"is_paid\": false,\\n                    \"mblog_vip_type\": 0,\\n                    \"user\": {\\n                        \"id\": 2830678474,\\n                        \"screen_name\": \"\\\\u5d14\\\\u5e86\\\\u624d\\\\u4e28\\\\u9759\\\\u89c5\",\\n                        \"profile_image_url\": \"https://tva3.sinaimg.cn/crop.0.0.458.458.180/a8b8b9cajw8exsgha3l4uj20cq0crmy5.jpg?KID=imgbed,tva&Expires=1657798917&ssig=f9r6AEyfyW\",\\n                        \"profile_url\": \"https://m.weibo.cn/u/2830678474?uid=2830678474&luicode=10000011&lfid=1076032830678474\",\\n                        \"statuses_count\": 2507,\\n                        \"verified\": true,\\n                        \"verified_type\": 0,\\n                        \"verified_type_ext\": 0,\\n                        \"verified_reason\": \"\\\\u4e92\\\\u8054\\\\u7f51\\\\u79d1\\\\u6280\\\\u535a\\\\u4e3b\",\\n                        \"close_blue_v\": false,\\n                        \"description\": \"cuiqingcai.com\",\\n                        \"gender\": \"m\",\\n                        \"mbtype\": 12,\\n                        \"urank\": 36,\\n                        \"mbrank\": 7,\\n                        \"follow_me\": false,\\n                        \"following\": false,\\n                        \"follow_count\": 1172,\\n                        \"followers_count\": \"1.1\\\\u4e07\",\\n                        \"followers_count_str\": \"1.1\\\\u4e07\",\\n                        \"cover_image_phone\": \"https://tva1.sinaimg.cn/crop.0.0.640.640.640/549d0121tw1egm1kjly3jj20hs0hsq4f.jpg\",\\n                        \"avatar_hd\": \"https://ww3.sinaimg.cn/orj480/a8b8b9cajw8exsgha3l4uj20cq0crmy5.jpg\",\\n                        \"like\": false,\\n                        \"like_me\": false,\\n                        \"badge\": {\\n                            \"bind_taobao\": 1,\\n                            \"unread_pool\": 1,\\n                            \"unread_pool_ext\": 1,\\n                            \"dzwbqlx_2016\": 1,\\n                            \"panda\": 1,\\n                            \"user_name_certificate\": 1,\\n                            \"qixi_2018\": 1,\\n                            \"status_visible\": 1,\\n                            \"hongrenjie_2019\": 1,\\n                            \"china_2019\": 1,\\n                            \"hongkong_2019\": 1,\\n                            \"hongbao_2020\": 2,\\n                            \"pc_new\": 7,\\n                            \"party_cardid_state\": 1,\\n                            \"aoyun_2021\": 1\\n                        }\\n                    },\\n                    \"reposts_count\": 0,\\n                    \"comments_count\": 3,\\n                    \"reprint_cmt_count\": 0,\\n                    \"attitudes_count\": 0,\\n                    \"pending_approval_count\": 0,\\n                    \"isLongText\": false,\\n                    \"mlevel\": 0,\\n                    \"darwin_tags\": [],\\n                    \"hot_page\": {\\n                        \"fid\": \"232532_mblog\",\\n                        \"feed_detail_type\": 0\\n                    },\\n                    \"mblogtype\": 0,\\n                    \"rid\": \"2_0_50_6670129651442252876_0_0_0\",\\n                    \"cardid\": \"vip_010\",\\n                    \"extern_safe\": 0,\\n                    \"number_display_strategy\": {\\n                        \"apply_scenario_flag\": 3,\\n                        \"display_text_min_number\": 1000000,\\n                        \"display_text\": \"100\\\\u4e07+\"\\n                    },\\n                    \"content_auth\": 0,\\n                    \"safe_tags\": 524288,\\n                    \"comment_manage_info\": {\\n                        \"comment_permission_type\": -1,\\n                        \"approval_comment_type\": 0,\\n                        \"comment_sort_type\": 0\\n                    },\\n                    \"pic_num\": 0,\\n                    \"fid\": 4779505154785300,\\n                    \"new_comment_style\": 0,\\n                    \"ab_switcher\": 4,\\n                    \"region_name\": \"\\\\u53d1\\\\u5e03\\\\u4e8e \\\\u5317\\\\u4eac\",\\n                    \"region_opt\": 1,\\n                    \"mblog_menu_new_style\": 0,\\n                    \"edit_config\": {\\n                        \"edited\": false\\n                    },\\n                    \"page_info\": {\\n                        \"type\": \"video\",\\n                        \"object_type\": 11,\\n                        \"url_ori\": \"http://t.cn/A6XktAcg\",\\n                        \"page_pic\": {\\n                            \"width\": 480,\\n                            \"pid\": \"a8b8b9caly1h35bpeboe2j20u01hc0xh\",\\n                            \"source\": 21,\\n                            \"is_self_cover\": 0,\\n                            \"type\": 0,\\n                            \"url\": \"https://wx2.sinaimg.cn/orj480/a8b8b9caly1h35bpeboe2j20u01hc0xh.jpg\",\\n                            \"height\": 853\\n                        },\\n                        \"page_url\": \"https://video.weibo.com/show?fid=1034%3A4779505139777624&luicode=10000011&lfid=1076032830678474\",\\n                        \"object_id\": \"1034:4779505139777624\",\\n                        \"page_title\": \"\\\\u5d14\\\\u5e86\\\\u624d\\\\u4e28\\\\u9759\\\\u89c5\\\\u7684\\\\u5fae\\\\u535a\\\\u89c6\\\\u9891\",\\n                        \"title\": \"\",\\n                        \"content1\": \"\\\\u5d14\\\\u5e86\\\\u624d\\\\u4e28\\\\u9759\\\\u89c5\\\\u7684\\\\u5fae\\\\u535a\\\\u89c6\\\\u9891\",\\n                        \"content2\": \"\\\\u53cd\\\\u4eba\\\\u7c7b\\\\u7684\\\\u7535\\\\u68af\\\\u8bbe\\\\u8ba1\\\\uff0c\\\\u4f46\\\\u60f3\\\\u60f3\\\\u4e5f\\\\u53ef\\\\u4ee5\\\\u7406\\\\u89e3\\\\u3002[\\\\u4e8c\\\\u54c8]\",\\n                        \"video_orientation\": \"vertical\",\\n                        \"play_count\": \"1231\\\\u6b21\\\\u64ad\\\\u653e\",\\n                        \"media_info\": {\\n                            \"stream_url\": \"https://f.video.weibocdn.com/o0/q6zqr7gblx07WMGFUd6w010412000HZi0E010.mp4?label=mp4_ld&template=360x640.24.0&ori=0&ps=1CwnkDw1GXwCQx&Expires=1657791717&ssig=bkbSd4I68%2F&KID=unistore,video\",\\n                            \"stream_url_hd\": \"https://f.video.weibocdn.com/o0/rWMSnW8Plx07WMGG1eCY010412001BlY0E010.mp4?label=mp4_hd&template=540x960.24.0&ori=0&ps=1CwnkDw1GXwCQx&Expires=1657791717&ssig=j3TZpI2IsJ&KID=unistore,video\",\\n                            \"duration\": 4.363\\n                        },\\n                        \"urls\": {\\n                            \"mp4_720p_mp4\": \"https://f.video.weibocdn.com/o0/WXy34Jyzlx07WMGFKD9u010412002Fxo0E010.mp4?label=mp4_720p&template=720x1280.24.0&ori=0&ps=1CwnkDw1GXwCQx&Expires=1657791717&ssig=AnO9tnTJ7o&KID=unistore,video\",\\n                            \"mp4_hd_mp4\": \"https://f.video.weibocdn.com/o0/rWMSnW8Plx07WMGG1eCY010412001BlY0E010.mp4?label=mp4_hd&template=540x960.24.0&ori=0&ps=1CwnkDw1GXwCQx&Expires=1657791717&ssig=j3TZpI2IsJ&KID=unistore,video\",\\n                            \"mp4_ld_mp4\": \"https://f.video.weibocdn.com/o0/q6zqr7gblx07WMGFUd6w010412000HZi0E010.mp4?label=mp4_ld&template=360x640.24.0&ori=0&ps=1CwnkDw1GXwCQx&Expires=1657791717&ssig=bkbSd4I68%2F&KID=unistore,video\"\\n                        }\\n                    },\\n                    \"bid\": \"Lxmig7DJg\"\\n                }\\n            },\\n            {\\n                \"card_type\": 9,\\n                \"profile_type_id\": \"proweibo_4779479290872945\",\\n                \"itemid\": \"1076032830678474_-_4779479290872945\",\\n                \"scheme\": \"https://m.weibo.cn/status/LxlCp3F5L?mblogid=LxlCp3F5L&luicode=10000011&lfid=1076032830678474\",\\n                \"mblog\": {\\n                    \"visible\": {\\n                        \"type\": 0,\\n                        \"list_id\": 0\\n                    },\\n                    \"created_at\": \"Sun Jun 12 10:15:23 +0800 2022\",\\n                    \"id\": \"4779479290872945\",\\n                    \"mid\": \"4779479290872945\",\\n                    \"can_edit\": false,\\n                    \"show_additional_indication\": 0,\\n                    \"text\": \"<span class=\\\\\"url-icon\\\\\"><img alt=\\\\\"[\\\\u82e6\\\\u6da9]\\\\\" src=\\\\\"https://face.t.sinajs.cn/t4/appstyle/expression/ext/normal/7e/2021_bitter_org.png\\\\\" style=\\\\\"width:1em; height:1em;\\\\\" /></span>//<a href=\\'/n/\\\\u6881\\\\u535apenny\\'>@\\\\u6881\\\\u535apenny</a>:<span class=\\\\\"url-icon\\\\\"><img alt=[\\\\u6cea] src=\\\\\"https://h5.sinaimg.cn/m/emoticon/icon/default/d_lei-4cdf6ee412.png\\\\\" style=\\\\\"width:1em; height:1em;\\\\\" /></span>//<a href=\\'/n/\\\\u7b80\\\\u6728\\\\u751f--\\\\u64b0\\\\u7a3f\\\\u8005\\'>@\\\\u7b80\\\\u6728\\\\u751f--\\\\u64b0\\\\u7a3f\\\\u8005</a>://<a href=\\'/n/\\\\u59da\\\\u5e7f\\\\u5b5d_wayne\\'>@\\\\u59da\\\\u5e7f\\\\u5b5d_wayne</a> :\\\\u641c\\\\u4e86\\\\u4e00\\\\u4e0b\\\\uff0c\\\\u786e\\\\u5b9e\\\\u6709\\\\u76f8\\\\u5e94\\\\u7684\\\\u62a5\\\\u9053\\\\uff1a<a  href=\\\\\"https://weibo.cn/sinaurl?u=http%3A%2F%2Fwww.jcrb.com%2Ffzttb%2Fdfmt%2F200908%2Ft20090828_256723.html\\\\\" data-hide=\\\\\"\\\\\"><span class=\\'url-icon\\'><img style=\\'width: 1rem;height: 1rem\\' src=\\'https://h5.sinaimg.cn/upload/2015/09/25/3/timeline_card_small_web_default.png\\'></span><span class=\\\\\"surl-text\\\\\">\\\\u7f51\\\\u9875\\\\u94fe\\\\u63a5</span></a>\",\\n                    \"source\": \"iPhone 12 Pro Max\",\\n                    \"favorited\": false,\\n                    \"pic_ids\": [],\\n                    \"is_paid\": false,\\n                    \"mblog_vip_type\": 0,\\n                    \"user\": {\\n                        \"id\": 2830678474,\\n                        \"screen_name\": \"\\\\u5d14\\\\u5e86\\\\u624d\\\\u4e28\\\\u9759\\\\u89c5\",\\n                        \"profile_image_url\": \"https://tva3.sinaimg.cn/crop.0.0.458.458.180/a8b8b9cajw8exsgha3l4uj20cq0crmy5.jpg?KID=imgbed,tva&Expires=1657798917&ssig=f9r6AEyfyW\",\\n                        \"profile_url\": \"https://m.weibo.cn/u/2830678474?uid=2830678474&luicode=10000011&lfid=1076032830678474\",\\n                        \"statuses_count\": 2507,\\n                        \"verified\": true,\\n                        \"verified_type\": 0,\\n                        \"verified_type_ext\": 0,\\n                        \"verified_reason\": \"\\\\u4e92\\\\u8054\\\\u7f51\\\\u79d1\\\\u6280\\\\u535a\\\\u4e3b\",\\n                        \"close_blue_v\": false,\\n                        \"description\": \"cuiqingcai.com\",\\n                        \"gender\": \"m\",\\n                        \"mbtype\": 12,\\n                        \"urank\": 36,\\n                        \"mbrank\": 7,\\n                        \"follow_me\": false,\\n                        \"following\": false,\\n                        \"follow_count\": 1172,\\n                        \"followers_count\": \"1.1\\\\u4e07\",\\n                        \"followers_count_str\": \"1.1\\\\u4e07\",\\n                        \"cover_image_phone\": \"https://tva1.sinaimg.cn/crop.0.0.640.640.640/549d0121tw1egm1kjly3jj20hs0hsq4f.jpg\",\\n                        \"avatar_hd\": \"https://ww3.sinaimg.cn/orj480/a8b8b9cajw8exsgha3l4uj20cq0crmy5.jpg\",\\n                        \"like\": false,\\n                        \"like_me\": false,\\n                        \"badge\": {\\n                            \"bind_taobao\": 1,\\n                            \"unread_pool\": 1,\\n                            \"unread_pool_ext\": 1,\\n                            \"dzwbqlx_2016\": 1,\\n                            \"panda\": 1,\\n                            \"user_name_certificate\": 1,\\n                            \"qixi_2018\": 1,\\n                            \"status_visible\": 1,\\n                            \"hongrenjie_2019\": 1,\\n                            \"china_2019\": 1,\\n                            \"hongkong_2019\": 1,\\n                            \"hongbao_2020\": 2,\\n                            \"pc_new\": 7,\\n                            \"party_cardid_state\": 1,\\n                            \"aoyun_2021\": 1\\n                        }\\n                    },\\n                    \"pid\": 4779438288406183,\\n                    \"pidstr\": \"4779438288406183\",\\n                    \"retweeted_status\": {\\n                        \"visible\": {\\n                            \"type\": 0,\\n                            \"list_id\": 0\\n                        },\\n                        \"created_at\": \"Sat Jun 11 15:32:29 +0800 2022\",\\n                        \"id\": \"4779196699641377\",\\n                        \"mid\": \"4779196699641377\",\\n                        \"can_edit\": false,\\n                        \"show_additional_indication\": 0,\\n                        \"text\": \"\\\\u5510\\\\u5c71\\\\u7684\\\\u4e8b\\\\u60c5\\\\u8fd9\\\\u4e24\\\\u5929\\\\u95f9\\\\u5f97\\\\u5f88\\\\u5927\\\\uff0c\\\\u6709\\\\u4eba\\\\u8bf4\\\\u4e3a\\\\u4ec0\\\\u4e48\\\\u6ca1\\\\u4eba\\\\u89c1\\\\u4e49\\\\u52c7\\\\u4e3a\\\\u3002\\\\u8fd9\\\\u662f\\\\u6211\\\\u5728\\\\u5929\\\\u6d25\\\\u9ad8\\\\u94c1\\\\u7ad9\\\\u62cd\\\\u5230\\\\u7684\\\\uff0c\\\\u8fd9\\\\u4e2a\\\\u4eba\\\\u89c1\\\\u4e49\\\\u52c7\\\\u4e3a\\\\uff0c\\\\u6551\\\\u4e86\\\\u4e24\\\\u4e2a\\\\u5973\\\\u5b69\\\\uff0c\\\\u81ea\\\\u5df1\\\\u88ab\\\\u6253\\\\u6b8b\\\\u4e86\\\\uff0c\\\\u6ca1\\\\u8d54\\\\u507f\\\\uff0c\\\\u7f6a\\\\u72af\\\\u4e5f\\\\u6ca1\\\\u88ab\\\\u7ef3\\\\u4e4b\\\\u4ee5\\\\u6cd5\\\\u3002 \",\\n                        \"textLength\": 150,\\n                        \"source\": \"\\\\u5fae\\\\u535a\\\\u8f7b\\\\u4eab\\\\u7248\",\\n                        \"favorited\": false,\\n                        \"pic_ids\": [\\n                            \"4910bb43gy1h34c9rnc8yj20u01uok8o\"\\n                        ],\\n                        \"thumbnail_pic\": \"https://wx4.sinaimg.cn/thumbnail/4910bb43gy1h34c9rnc8yj20u01uok8o.jpg\",\\n                        \"bmiddle_pic\": \"http://wx4.sinaimg.cn/bmiddle/4910bb43gy1h34c9rnc8yj20u01uok8o.jpg\",\\n                        \"original_pic\": \"https://wx4.sinaimg.cn/large/4910bb43gy1h34c9rnc8yj20u01uok8o.jpg\",\\n                        \"is_paid\": false,\\n                        \"mblog_vip_type\": 0,\\n                        \"user\": {\\n                            \"id\": 1225833283,\\n                            \"screen_name\": \"\\\\u5b64\\\\u72ec\\\\u5ddd\\\\u9675\",\\n                            \"profile_image_url\": \"https://tvax1.sinaimg.cn/crop.0.0.1080.1080.180/4910bb43ly8h39lpgdg4tj20u00u0gr9.jpg?KID=imgbed,tva&Expires=1657798917&ssig=HhOOJpmJve\",\\n                            \"profile_url\": \"https://m.weibo.cn/u/1225833283?uid=1225833283&luicode=10000011&lfid=1076032830678474\",\\n                            \"statuses_count\": 8461,\\n                            \"verified\": true,\\n                            \"verified_type\": 0,\\n                            \"verified_type_ext\": 1,\\n                            \"verified_reason\": \"\\\\u65b0\\\\u6d6a\\\\u535a\\\\u5ba2\\\\u65c5\\\\u6e38\\\\u535a\\\\u4e3b \\\\u65b0\\\\u52a0\\\\u5761\\\\u4f5c\\\\u5bb6\\\\u534f\\\\u4f1a\\\\u4f1a\\\\u5458\",\\n                            \"close_blue_v\": false,\\n                            \"description\": \"\\\\u8d70\\\\u8fc7\\\\u5730\\\\u65b9\\\\u6700\\\\u591a\\\\u7684\\\\u4eba\\\\u7c7b\\\\u4e4b\\\\u4e00\\\\uff0c\\\\u6e38\\\\u5386\\\\u4e03\\\\u5927\\\\u6d32203\\\\u4e2a\\\\u56fd\\\\u5bb6\\\\u548c\\\\u5730\\\\u533a\\\\u3002\\\\u6e05\\\\u534e\\\\u5927\\\\u5b66\\\\uff0c\\\\u65b0\\\\u52a0\\\\u5761\\\\u56fd\\\\u7acb\\\\u5927\\\\u5b66\\\\uff0c\\\\u5357\\\\u6d0b\\\\u7406\\\\u5de5\\\\u5927\\\\u5b66\\\\u6821\\\\u53cb\\\\uff0c\\\\u65b0\\\\u52a0\\\\u5761\\\\u4f5c\\\\u5bb6\\\\u534f\\\\u4f1a\\\\u4f5c\\\\u5bb6\\\\u3002mkx2046@gmail.com\",\\n                            \"gender\": \"m\",\\n                            \"mbtype\": 11,\\n                            \"urank\": 28,\\n                            \"mbrank\": 6,\\n                            \"follow_me\": false,\\n                            \"following\": false,\\n                            \"follow_count\": 47,\\n                            \"followers_count\": \"7.8\\\\u4e07\",\\n                            \"followers_count_str\": \"7.8\\\\u4e07\",\\n                            \"cover_image_phone\": \"https://wx3.sinaimg.cn/crop.0.0.640.640.640/4910bb43gy1h35pld36lmj20u00u07al.jpg\",\\n                            \"avatar_hd\": \"https://wx1.sinaimg.cn/orj480/4910bb43ly8h39lpgdg4tj20u00u0gr9.jpg\",\\n                            \"like\": false,\\n                            \"like_me\": false,\\n                            \"badge\": {\\n                                \"bind_taobao\": 1,\\n                                \"unread_pool\": 1,\\n                                \"unread_pool_ext\": 1,\\n                                \"dzwbqlx_2016\": 1,\\n                                \"follow_whitelist_video\": 1,\\n                                \"user_name_certificate\": 1,\\n                                \"wenchuan_10th\": 1,\\n                                \"relation_display\": 1,\\n                                \"pc_new\": 7,\\n                                \"yuanlongping_2021\": 1,\\n                                \"guoqi_2022\": 1,\\n                                \"gangqi_2022\": 1\\n                            }\\n                        },\\n                        \"reposts_count\": 228248,\\n                        \"comments_count\": 4724,\\n                        \"reprint_cmt_count\": 0,\\n                        \"attitudes_count\": 244977,\\n                        \"pending_approval_count\": 0,\\n                        \"isLongText\": false,\\n                        \"mlevel\": 0,\\n                        \"expire_time\": 1654984070,\\n                        \"ad_state\": 1,\\n                        \"darwin_tags\": [],\\n                        \"hot_page\": {\\n                            \"fid\": \"232532_mblog\",\\n                            \"feed_detail_type\": 0\\n                        },\\n                        \"mblogtype\": 0,\\n                        \"mark\": \"999_reallog_mark_ad:999|WeiboADNatural\",\\n                        \"rid\": \"3_0_50_6670129651442252876_0_0_0\",\\n                        \"number_display_strategy\": {\\n                            \"apply_scenario_flag\": 3,\\n                            \"display_text_min_number\": 1000000,\\n                            \"display_text\": \"100\\\\u4e07+\"\\n                        },\\n                        \"content_auth\": 0,\\n                        \"safe_tags\": 4294967360,\\n                        \"comment_manage_info\": {\\n                            \"comment_permission_type\": -1,\\n                            \"approval_comment_type\": 0,\\n                            \"comment_sort_type\": 0\\n                        },\\n                        \"pic_num\": 1,\\n                        \"new_comment_style\": 0,\\n                        \"region_name\": \"\\\\u53d1\\\\u5e03\\\\u4e8e \\\\u65b0\\\\u52a0\\\\u5761\",\\n                        \"region_opt\": 1,\\n                        \"edit_config\": {\\n                            \"edited\": false\\n                        },\\n                        \"pics\": [\\n                            {\\n                                \"pid\": \"4910bb43gy1h34c9rnc8yj20u01uok8o\",\\n                                \"url\": \"https://wx4.sinaimg.cn/orj360/4910bb43gy1h34c9rnc8yj20u01uok8o.jpg\",\\n                                \"size\": \"orj360\",\\n                                \"geo\": {\\n                                    \"width\": 360,\\n                                    \"height\": 800,\\n                                    \"croped\": false\\n                                },\\n                                \"large\": {\\n                                    \"size\": \"large\",\\n                                    \"url\": \"https://wx4.sinaimg.cn/large/4910bb43gy1h34c9rnc8yj20u01uok8o.jpg\",\\n                                    \"geo\": {\\n                                        \"width\": \"1080\",\\n                                        \"height\": \"2400\",\\n                                        \"croped\": false\\n                                    }\\n                                }\\n                            }\\n                        ],\\n                        \"bid\": \"LxegBEsa5\"\\n                    },\\n                    \"reposts_count\": 3,\\n                    \"comments_count\": 0,\\n                    \"reprint_cmt_count\": 0,\\n                    \"attitudes_count\": 4,\\n                    \"pending_approval_count\": 0,\\n                    \"isLongText\": false,\\n                    \"mlevel\": 0,\\n                    \"darwin_tags\": [],\\n                    \"hot_page\": {\\n                        \"fid\": \"232532_mblog\",\\n                        \"feed_detail_type\": 0\\n                    },\\n                    \"mblogtype\": 0,\\n                    \"mark\": \"999_reallog_mark_ad:999|WeiboADNatural\",\\n                    \"rid\": \"3_0_50_6670129651442252876_0_0_0\",\\n                    \"cardid\": \"vip_010\",\\n                    \"extern_safe\": 0,\\n                    \"number_display_strategy\": {\\n                        \"apply_scenario_flag\": 3,\\n                        \"display_text_min_number\": 1000000,\\n                        \"display_text\": \"100\\\\u4e07+\"\\n                    },\\n                    \"content_auth\": 0,\\n                    \"safe_tags\": 32,\\n                    \"comment_manage_info\": {\\n                        \"comment_permission_type\": -1,\\n                        \"approval_comment_type\": 0,\\n                        \"comment_sort_type\": 0\\n                    },\\n                    \"repost_type\": 1,\\n                    \"pic_num\": 0,\\n                    \"new_comment_style\": 0,\\n                    \"ab_switcher\": 4,\\n                    \"region_name\": \"\\\\u53d1\\\\u5e03\\\\u4e8e \\\\u5317\\\\u4eac\",\\n                    \"region_opt\": 1,\\n                    \"mblog_menu_new_style\": 0,\\n                    \"edit_config\": {\\n                        \"edited\": false\\n                    },\\n                    \"raw_text\": \"[\\\\u82e6\\\\u6da9]//@\\\\u6881\\\\u535apenny:[\\\\u6cea]//@\\\\u7b80\\\\u6728\\\\u751f--\\\\u64b0\\\\u7a3f\\\\u8005://@\\\\u59da\\\\u5e7f\\\\u5b5d_wayne :\\\\u641c\\\\u4e86\\\\u4e00\\\\u4e0b\\\\uff0c\\\\u786e\\\\u5b9e\\\\u6709\\\\u76f8\\\\u5e94\\\\u7684\\\\u62a5\\\\u9053\\\\uff1ahttp://t.cn/zOg2xfn\",\\n                    \"bid\": \"LxlCp3F5L\"\\n                }\\n            },\\n            {\\n                \"card_type\": 9,\\n                \"profile_type_id\": \"proweibo_4777608590131929\",\\n                \"itemid\": \"1076032830678474_-_4777608590131929\",\\n                \"scheme\": \"https://m.weibo.cn/status/LwyX90yjT?mblogid=LwyX90yjT&luicode=10000011&lfid=1076032830678474\",\\n                \"mblog\": {\\n                    \"visible\": {\\n                        \"type\": 0,\\n                        \"list_id\": 0\\n                    },\\n                    \"created_at\": \"Tue Jun 07 06:21:54 +0800 2022\",\\n                    \"id\": \"4777608590131929\",\\n                    \"mid\": \"4777608590131929\",\\n                    \"can_edit\": false,\\n                    \"show_additional_indication\": 0,\\n                    \"text\": \"\\\\u6628\\\\u5929\\\\u5c45\\\\u7136\\\\u5fd8\\\\u4e86\\\\u770b\\\\u4e86\\\\u3002<span class=\\\\\"url-icon\\\\\"><img alt=[\\\\u5141\\\\u60b2] src=\\\\\"https://h5.sinaimg.cn/m/emoticon/icon/default/d_yunbei-a14a649db8.png\\\\\" style=\\\\\"width:1em; height:1em;\\\\\" /></span><span class=\\\\\"url-icon\\\\\"><img alt=[\\\\u5141\\\\u60b2] src=\\\\\"https://h5.sinaimg.cn/m/emoticon/icon/default/d_yunbei-a14a649db8.png\\\\\" style=\\\\\"width:1em; height:1em;\\\\\" /></span><span class=\\\\\"url-icon\\\\\"><img alt=[\\\\u5141\\\\u60b2] src=\\\\\"https://h5.sinaimg.cn/m/emoticon/icon/default/d_yunbei-a14a649db8.png\\\\\" style=\\\\\"width:1em; height:1em;\\\\\" /></span>\",\\n                    \"source\": \"iPhone 12 Pro Max\",\\n                    \"favorited\": false,\\n                    \"pic_ids\": [],\\n                    \"is_paid\": false,\\n                    \"mblog_vip_type\": 0,\\n                    \"user\": {\\n                        \"id\": 2830678474,\\n                        \"screen_name\": \"\\\\u5d14\\\\u5e86\\\\u624d\\\\u4e28\\\\u9759\\\\u89c5\",\\n                        \"profile_image_url\": \"https://tva3.sinaimg.cn/crop.0.0.458.458.180/a8b8b9cajw8exsgha3l4uj20cq0crmy5.jpg?KID=imgbed,tva&Expires=1657798917&ssig=f9r6AEyfyW\",\\n                        \"profile_url\": \"https://m.weibo.cn/u/2830678474?uid=2830678474&luicode=10000011&lfid=1076032830678474\",\\n                        \"statuses_count\": 2507,\\n                        \"verified\": true,\\n                        \"verified_type\": 0,\\n                        \"verified_type_ext\": 0,\\n                        \"verified_reason\": \"\\\\u4e92\\\\u8054\\\\u7f51\\\\u79d1\\\\u6280\\\\u535a\\\\u4e3b\",\\n                        \"close_blue_v\": false,\\n                        \"description\": \"cuiqingcai.com\",\\n                        \"gender\": \"m\",\\n                        \"mbtype\": 12,\\n                        \"urank\": 36,\\n                        \"mbrank\": 7,\\n                        \"follow_me\": false,\\n                        \"following\": false,\\n                        \"follow_count\": 1172,\\n                        \"followers_count\": \"1.1\\\\u4e07\",\\n                        \"followers_count_str\": \"1.1\\\\u4e07\",\\n                        \"cover_image_phone\": \"https://tva1.sinaimg.cn/crop.0.0.640.640.640/549d0121tw1egm1kjly3jj20hs0hsq4f.jpg\",\\n                        \"avatar_hd\": \"https://ww3.sinaimg.cn/orj480/a8b8b9cajw8exsgha3l4uj20cq0crmy5.jpg\",\\n                        \"like\": false,\\n                        \"like_me\": false,\\n                        \"badge\": {\\n                            \"bind_taobao\": 1,\\n                            \"unread_pool\": 1,\\n                            \"unread_pool_ext\": 1,\\n                            \"dzwbqlx_2016\": 1,\\n                            \"panda\": 1,\\n                            \"user_name_certificate\": 1,\\n                            \"qixi_2018\": 1,\\n                            \"status_visible\": 1,\\n                            \"hongrenjie_2019\": 1,\\n                            \"china_2019\": 1,\\n                            \"hongkong_2019\": 1,\\n                            \"hongbao_2020\": 2,\\n                            \"pc_new\": 7,\\n                            \"party_cardid_state\": 1,\\n                            \"aoyun_2021\": 1\\n                        }\\n                    },\\n                    \"retweeted_status\": {\\n                        \"visible\": {\\n                            \"type\": 0,\\n                            \"list_id\": 0\\n                        },\\n                        \"created_at\": \"Tue Jun 07 05:02:58 +0800 2022\",\\n                        \"id\": \"4777588725383490\",\\n                        \"mid\": \"4777588725383490\",\\n                        \"can_edit\": false,\\n                        \"show_additional_indication\": 0,\\n                        \"text\": \"\\\\u82f9\\\\u679ciOS16\\\\u53d1\\\\u5e03\\\\u4f1a\\\\u901f\\\\u770b\\\\uff01\\\\u4e24\\\\u6b3e\\\\u7b14\\\\u8bb0\\\\u672c\\\\u53d1\\\\u5e03 wwdc2022\\\\u3010\\\\u90a3\\\\u5ca9\\\\u3011\\\\u79d1\\\\u6280\\\\u7f8e\\\\u5b66 \\\\u82f9\\\\u679cM2\\\\u82af\\\\u7247\\\\u518d\\\\u5347\\\\u7ea7macbook  <a  href=\\\\\"https://video.weibo.com/show?fid=1034:4777586124062743\\\\\" data-hide=\\\\\"\\\\\"><span class=\\'url-icon\\'><img style=\\'width: 1rem;height: 1rem\\' src=\\'https://h5.sinaimg.cn/upload/2015/09/25/3/timeline_card_small_video_default.png\\'></span><span class=\\\\\"surl-text\\\\\">\\\\u90a3\\\\u5ca9\\\\u7684\\\\u5fae\\\\u535a\\\\u89c6\\\\u9891</span></a> \",\\n                        \"textLength\": 106,\\n                        \"source\": \"\\\\u5fae\\\\u535a\\\\u89c6\\\\u9891\\\\u53f7\",\\n                        \"favorited\": false,\\n                        \"pic_ids\": [],\\n                        \"is_paid\": false,\\n                        \"mblog_vip_type\": 0,\\n                        \"user\": {\\n                            \"id\": 5640157596,\\n                            \"screen_name\": \"\\\\u90a3\\\\u5ca9\",\\n                            \"profile_image_url\": \"https://tvax1.sinaimg.cn/crop.141.268.696.696.180/0069HwDOly1fcz2ncvf7gj30xc15oamg.jpg?KID=imgbed,tva&Expires=1657798917&ssig=pdmf4l3IS8\",\\n                            \"profile_url\": \"https://m.weibo.cn/u/5640157596?uid=5640157596&luicode=10000011&lfid=1076032830678474\",\\n                            \"statuses_count\": 2965,\\n                            \"verified\": true,\\n                            \"verified_type\": 0,\\n                            \"verified_type_ext\": 1,\\n                            \"verified_reason\": \"\\\\u79d1\\\\u6280\\\\u7f8e\\\\u5b66\\\\u521b\\\\u59cb\\\\u4eba\",\\n                            \"close_blue_v\": false,\\n                            \"description\": \"\\\\u79d1\\\\u6280\\\\u7f8e\\\\u5b66\\\\uff0c\\\\u5e0c\\\\u671b\\\\u5e0c\\\\u671b\\\\u4e00\\\\u76f4\\\\u4e3a\\\\u5927\\\\u5bb6\\\\u670d\\\\u52a1\",\\n                            \"gender\": \"m\",\\n                            \"mbtype\": 12,\\n                            \"urank\": 33,\\n                            \"mbrank\": 7,\\n                            \"follow_me\": false,\\n                            \"following\": false,\\n                            \"follow_count\": 859,\\n                            \"followers_count\": \"213.9\\\\u4e07\",\\n                            \"followers_count_str\": \"213.9\\\\u4e07\",\\n                            \"cover_image_phone\": \"https://tva1.sinaimg.cn/crop.0.0.640.640.640/549d0121tw1egm1kjly3jj20hs0hsq4f.jpg\",\\n                            \"avatar_hd\": \"https://wx1.sinaimg.cn/orj480/0069HwDOly1fcz2ncvf7gj30xc15oamg.jpg\",\\n                            \"like\": false,\\n                            \"like_me\": false,\\n                            \"badge\": {\\n                                \"vip_activity2\": 4,\\n                                \"video_attention\": 4,\\n                                \"user_name_certificate\": 1,\\n                                \"weibo_display_fans\": 1,\\n                                \"relation_display\": 1,\\n                                \"status_visible\": 1,\\n                                \"china_2019\": 1,\\n                                \"hongkong_2019\": 1,\\n                                \"gongjiri_2019\": 1,\\n                                \"pc_new\": 6,\\n                                \"school_2020\": 1,\\n                                \"hongrenjie_2020\": 1,\\n                                \"gaokao_2021\": 1\\n                            }\\n                        },\\n                        \"reposts_count\": 77,\\n                        \"comments_count\": 88,\\n                        \"reprint_cmt_count\": 0,\\n                        \"attitudes_count\": 818,\\n                        \"pending_approval_count\": 0,\\n                        \"isLongText\": false,\\n                        \"mlevel\": 0,\\n                        \"expire_time\": 1654600068,\\n                        \"ad_state\": 1,\\n                        \"darwin_tags\": [],\\n                        \"hot_page\": {\\n                            \"fid\": \"232532_mblog\",\\n                            \"feed_detail_type\": 0\\n                        },\\n                        \"mblogtype\": 0,\\n                        \"mark\": \"999_reallog_mark_ad:999|WeiboADNatural\",\\n                        \"rid\": \"4_0_50_6670129651442252876_0_0_0\",\\n                        \"number_display_strategy\": {\\n                            \"apply_scenario_flag\": 3,\\n                            \"display_text_min_number\": 1000000,\\n                            \"display_text\": \"100\\\\u4e07+\"\\n                        },\\n                        \"content_auth\": 0,\\n                        \"safe_tags\": 524288,\\n                        \"comment_manage_info\": {\\n                            \"comment_permission_type\": -1,\\n                            \"approval_comment_type\": 0,\\n                            \"comment_sort_type\": 0\\n                        },\\n                        \"pic_num\": 0,\\n                        \"fid\": 4777587632242699,\\n                        \"new_comment_style\": 0,\\n                        \"region_name\": \"\\\\u53d1\\\\u5e03\\\\u4e8e \\\\u9ed1\\\\u9f99\\\\u6c5f\",\\n                        \"region_opt\": 1,\\n                        \"edit_config\": {\\n                            \"edited\": false\\n                        },\\n                        \"page_info\": {\\n                            \"type\": \"video\",\\n                            \"object_type\": 11,\\n                            \"url_ori\": \"http://t.cn/A6XECsNu\",\\n                            \"page_pic\": {\\n                                \"width\": 3840,\\n                                \"pid\": \"0069HwDOly1h2z7bhlsdwj31hc0u0dj3\",\\n                                \"source\": 1,\\n                                \"is_self_cover\": 1,\\n                                \"type\": 1,\\n                                \"url\": \"https://wx1.sinaimg.cn/crop.0.6.1920.1067/0069HwDOly1h2z7bhlsdwj31hc0u0dj3.jpg\",\\n                                \"height\": 2134\\n                            },\\n                            \"page_url\": \"https://video.weibo.com/show?fid=1034%3A4777586124062743&luicode=10000011&lfid=1076032830678474\",\\n                            \"object_id\": \"1034:4777586124062743\",\\n                            \"page_title\": \"\\\\u90a3\\\\u5ca9\\\\u7684\\\\u5fae\\\\u535a\\\\u89c6\\\\u9891\",\\n                            \"title\": \"\\\\u82f9\\\\u679ciOS16\\\\u53d1\\\\u5e03\\\\u4f1a\\\\u901f\\\\u770b\\\\uff01\\\\u4e24\\\\u6b3e\\\\u7b14\\\\u8bb0\\\\u672c\\\\u53d1\\\\u5e03 wwdc2022\\\\u3010\\\\u90a3\\\\u5ca9\\\\u3011\\\\u79d1\\\\u6280\\\\u7f8e\\\\u5b66\",\\n                            \"content1\": \"\\\\u90a3\\\\u5ca9\\\\u7684\\\\u5fae\\\\u535a\\\\u89c6\\\\u9891\",\\n                            \"content2\": \"\\\\u82f9\\\\u679ciOS16\\\\u53d1\\\\u5e03\\\\u4f1a\\\\u901f\\\\u770b\\\\uff01\\\\u4e24\\\\u6b3e\\\\u7b14\\\\u8bb0\\\\u672c\\\\u53d1\\\\u5e03 wwdc2022\\\\u3010\\\\u90a3\\\\u5ca9\\\\u3011\\\\u79d1\\\\u6280\\\\u7f8e\\\\u5b66 \\\\u82f9\\\\u679cM2\\\\u82af\\\\u7247\\\\u518d\\\\u5347\\\\u7ea7macbook\",\\n                            \"video_orientation\": \"horizontal\",\\n                            \"play_count\": \"35\\\\u4e07\\\\u6b21\\\\u64ad\\\\u653e\",\\n                            \"media_info\": {\\n                                \"stream_url\": \"https://f.video.weibocdn.com/o0/Sxwb2qM1lx07WEfEGeti01041201FlSz0E010.mp4?label=mp4_ld&template=640x360.25.0&ori=0&ps=1CwnkDw1GXwCQx&Expires=1657791717&ssig=5Nr1j3%2FMlB&KID=unistore,video\",\\n                                \"stream_url_hd\": \"https://f.video.weibocdn.com/o0/gRz9Qxiolx07WEfEXyaI01041202Dof30E010.mp4?label=mp4_hd&template=852x480.25.0&ori=0&ps=1CwnkDw1GXwCQx&Expires=1657791717&ssig=xa%2BRV61J8a&KID=unistore,video\",\\n                                \"duration\": 1071.947\\n                            },\\n                            \"urls\": {\\n                                \"mp4_720p_mp4\": \"https://f.video.weibocdn.com/o0/0RSjrtcJlx07WEfG7pdS010412059uvL0E020.mp4?label=mp4_720p&template=1280x720.25.0&ori=0&ps=1CwnkDw1GXwCQx&Expires=1657791717&ssig=phBLv0mnpR&KID=unistore,video\",\\n                                \"mp4_hd_mp4\": \"https://f.video.weibocdn.com/o0/gRz9Qxiolx07WEfEXyaI01041202Dof30E010.mp4?label=mp4_hd&template=852x480.25.0&ori=0&ps=1CwnkDw1GXwCQx&Expires=1657791717&ssig=xa%2BRV61J8a&KID=unistore,video\",\\n                                \"mp4_ld_mp4\": \"https://f.video.weibocdn.com/o0/Sxwb2qM1lx07WEfEGeti01041201FlSz0E010.mp4?label=mp4_ld&template=640x360.25.0&ori=0&ps=1CwnkDw1GXwCQx&Expires=1657791717&ssig=5Nr1j3%2FMlB&KID=unistore,video\"\\n                            }\\n                        },\\n                        \"bid\": \"Lwyr6mAuu\"\\n                    },\\n                    \"reposts_count\": 0,\\n                    \"comments_count\": 0,\\n                    \"reprint_cmt_count\": 0,\\n                    \"attitudes_count\": 0,\\n                    \"pending_approval_count\": 0,\\n                    \"isLongText\": false,\\n                    \"mlevel\": 0,\\n                    \"darwin_tags\": [],\\n                    \"hot_page\": {\\n                        \"fid\": \"232532_mblog\",\\n                        \"feed_detail_type\": 0\\n                    },\\n                    \"mblogtype\": 0,\\n                    \"mark\": \"999_reallog_mark_ad:999|WeiboADNatural\",\\n                    \"rid\": \"4_0_50_6670129651442252876_0_0_0\",\\n                    \"cardid\": \"vip_010\",\\n                    \"extern_safe\": 0,\\n                    \"number_display_strategy\": {\\n                        \"apply_scenario_flag\": 3,\\n                        \"display_text_min_number\": 1000000,\\n                        \"display_text\": \"100\\\\u4e07+\"\\n                    },\\n                    \"content_auth\": 0,\\n                    \"comment_manage_info\": {\\n                        \"comment_permission_type\": -1,\\n                        \"approval_comment_type\": 0,\\n                        \"comment_sort_type\": 0\\n                    },\\n                    \"repost_type\": 1,\\n                    \"pic_num\": 0,\\n                    \"new_comment_style\": 0,\\n                    \"ab_switcher\": 4,\\n                    \"region_name\": \"\\\\u53d1\\\\u5e03\\\\u4e8e \\\\u5317\\\\u4eac\",\\n                    \"region_opt\": 1,\\n                    \"mblog_menu_new_style\": 0,\\n                    \"edit_config\": {\\n                        \"edited\": false\\n                    },\\n                    \"raw_text\": \"\\\\u6628\\\\u5929\\\\u5c45\\\\u7136\\\\u5fd8\\\\u4e86\\\\u770b\\\\u4e86\\\\u3002[\\\\u5141\\\\u60b2][\\\\u5141\\\\u60b2][\\\\u5141\\\\u60b2]\",\\n                    \"bid\": \"LwyX90yjT\"\\n                }\\n            },\\n            {\\n                \"card_type\": 9,\\n                \"profile_type_id\": \"proweibo_4777496082648163\",\\n                \"itemid\": \"1076032830678474_-_4777496082648163\",\\n                \"scheme\": \"https://m.weibo.cn/status/Lww1Gb6Uj?mblogid=Lww1Gb6Uj&luicode=10000011&lfid=1076032830678474\",\\n                \"mblog\": {\\n                    \"visible\": {\\n                        \"type\": 0,\\n                        \"list_id\": 0\\n                    },\\n                    \"created_at\": \"Mon Jun 06 22:54:50 +0800 2022\",\\n                    \"id\": \"4777496082648163\",\\n                    \"mid\": \"4777496082648163\",\\n                    \"can_edit\": false,\\n                    \"show_additional_indication\": 0,\\n                    \"text\": \"\\\\u7ec8\\\\u4e8e\\\\u53ef\\\\u4ee5\\\\u5802\\\\u98df\\\\u4e86\\\\uff0c\\\\u8212\\\\u670d\\\\u3002<span class=\\\\\"url-icon\\\\\"><img alt=\\\\\"[666]\\\\\" src=\\\\\"https://face.t.sinajs.cn/t4/appstyle/expression/ext/normal/6c/2022_666_org.png\\\\\" style=\\\\\"width:1em; height:1em;\\\\\" /></span> \",\\n                    \"textLength\": 27,\\n                    \"source\": \"iPhone 12 Pro Max\",\\n                    \"favorited\": false,\\n                    \"pic_ids\": [\\n                        \"a8b8b9caly1h2ywygdnjrj213u0hv13a\"\\n                    ],\\n                    \"thumbnail_pic\": \"https://wx3.sinaimg.cn/thumbnail/a8b8b9caly1h2ywygdnjrj213u0hv13a.jpg\",\\n                    \"bmiddle_pic\": \"http://wx3.sinaimg.cn/bmiddle/a8b8b9caly1h2ywygdnjrj213u0hv13a.jpg\",\\n                    \"original_pic\": \"https://wx3.sinaimg.cn/large/a8b8b9caly1h2ywygdnjrj213u0hv13a.jpg\",\\n                    \"is_paid\": false,\\n                    \"mblog_vip_type\": 0,\\n                    \"user\": {\\n                        \"id\": 2830678474,\\n                        \"screen_name\": \"\\\\u5d14\\\\u5e86\\\\u624d\\\\u4e28\\\\u9759\\\\u89c5\",\\n                        \"profile_image_url\": \"https://tva3.sinaimg.cn/crop.0.0.458.458.180/a8b8b9cajw8exsgha3l4uj20cq0crmy5.jpg?KID=imgbed,tva&Expires=1657798917&ssig=f9r6AEyfyW\",\\n                        \"profile_url\": \"https://m.weibo.cn/u/2830678474?uid=2830678474&luicode=10000011&lfid=1076032830678474\",\\n                        \"statuses_count\": 2507,\\n                        \"verified\": true,\\n                        \"verified_type\": 0,\\n                        \"verified_type_ext\": 0,\\n                        \"verified_reason\": \"\\\\u4e92\\\\u8054\\\\u7f51\\\\u79d1\\\\u6280\\\\u535a\\\\u4e3b\",\\n                        \"close_blue_v\": false,\\n                        \"description\": \"cuiqingcai.com\",\\n                        \"gender\": \"m\",\\n                        \"mbtype\": 12,\\n                        \"urank\": 36,\\n                        \"mbrank\": 7,\\n                        \"follow_me\": false,\\n                        \"following\": false,\\n                        \"follow_count\": 1172,\\n                        \"followers_count\": \"1.1\\\\u4e07\",\\n                        \"followers_count_str\": \"1.1\\\\u4e07\",\\n                        \"cover_image_phone\": \"https://tva1.sinaimg.cn/crop.0.0.640.640.640/549d0121tw1egm1kjly3jj20hs0hsq4f.jpg\",\\n                        \"avatar_hd\": \"https://ww3.sinaimg.cn/orj480/a8b8b9cajw8exsgha3l4uj20cq0crmy5.jpg\",\\n                        \"like\": false,\\n                        \"like_me\": false,\\n                        \"badge\": {\\n                            \"bind_taobao\": 1,\\n                            \"unread_pool\": 1,\\n                            \"unread_pool_ext\": 1,\\n                            \"dzwbqlx_2016\": 1,\\n                            \"panda\": 1,\\n                            \"user_name_certificate\": 1,\\n                            \"qixi_2018\": 1,\\n                            \"status_visible\": 1,\\n                            \"hongrenjie_2019\": 1,\\n                            \"china_2019\": 1,\\n                            \"hongkong_2019\": 1,\\n                            \"hongbao_2020\": 2,\\n                            \"pc_new\": 7,\\n                            \"party_cardid_state\": 1,\\n                            \"aoyun_2021\": 1\\n                        }\\n                    },\\n                    \"picStatus\": \"0:1\",\\n                    \"reposts_count\": 0,\\n                    \"comments_count\": 0,\\n                    \"reprint_cmt_count\": 0,\\n                    \"attitudes_count\": 0,\\n                    \"pending_approval_count\": 0,\\n                    \"isLongText\": false,\\n                    \"mlevel\": 0,\\n                    \"darwin_tags\": [],\\n                    \"hot_page\": {\\n                        \"fid\": \"232532_mblog\",\\n                        \"feed_detail_type\": 0\\n                    },\\n                    \"mblogtype\": 0,\\n                    \"rid\": \"5_0_50_6670129651442252876_0_0_0\",\\n                    \"cardid\": \"vip_010\",\\n                    \"extern_safe\": 0,\\n                    \"number_display_strategy\": {\\n                        \"apply_scenario_flag\": 3,\\n                        \"display_text_min_number\": 1000000,\\n                        \"display_text\": \"100\\\\u4e07+\"\\n                    },\\n                    \"content_auth\": 0,\\n                    \"comment_manage_info\": {\\n                        \"comment_permission_type\": -1,\\n                        \"approval_comment_type\": 0,\\n                        \"comment_sort_type\": 0\\n                    },\\n                    \"pic_num\": 1,\\n                    \"new_comment_style\": 0,\\n                    \"ab_switcher\": 4,\\n                    \"region_name\": \"\\\\u53d1\\\\u5e03\\\\u4e8e \\\\u5317\\\\u4eac\",\\n                    \"region_opt\": 1,\\n                    \"mblog_menu_new_style\": 0,\\n                    \"edit_config\": {\\n                        \"edited\": false\\n                    },\\n                    \"pics\": [\\n                        {\\n                            \"pid\": \"a8b8b9caly1h2ywygdnjrj213u0hv13a\",\\n                            \"url\": \"https://wx3.sinaimg.cn/orj360/a8b8b9caly1h2ywygdnjrj213u0hv13a.jpg\",\\n                            \"size\": \"orj360\",\\n                            \"geo\": {\\n                                \"width\": 602,\\n                                \"height\": 270,\\n                                \"croped\": false\\n                            },\\n                            \"large\": {\\n                                \"size\": \"large\",\\n                                \"url\": \"https://wx3.sinaimg.cn/large/a8b8b9caly1h2ywygdnjrj213u0hv13a.jpg\",\\n                                \"geo\": {\\n                                    \"width\": \"1434\",\\n                                    \"height\": \"643\",\\n                                    \"croped\": false\\n                                }\\n                            }\\n                        }\\n                    ],\\n                    \"bid\": \"Lww1Gb6Uj\"\\n                }\\n            },\\n            {\\n                \"card_type\": 9,\\n                \"profile_type_id\": \"proweibo_4776020123063600\",\\n                \"itemid\": \"1076032830678474_-_4776020123063600\",\\n                \"scheme\": \"https://m.weibo.cn/status/LvTD6cQYU?mblogid=LvTD6cQYU&luicode=10000011&lfid=1076032830678474\",\\n                \"mblog\": {\\n                    \"visible\": {\\n                        \"type\": 0,\\n                        \"list_id\": 0\\n                    },\\n                    \"created_at\": \"Thu Jun 02 21:09:54 +0800 2022\",\\n                    \"id\": \"4776020123063600\",\\n                    \"mid\": \"4776020123063600\",\\n                    \"can_edit\": false,\\n                    \"show_additional_indication\": 0,\\n                    \"text\": \"<span class=\\\\\"url-icon\\\\\"><img alt=[\\\\u998b\\\\u5634] src=\\\\\"https://h5.sinaimg.cn/m/emoticon/icon/default/d_chanzui-fc1acc341b.png\\\\\" style=\\\\\"width:1em; height:1em;\\\\\" /></span>\",\\n                    \"source\": \"iPhone 12 Pro Max\",\\n                    \"favorited\": false,\\n                    \"pic_ids\": [],\\n                    \"is_paid\": false,\\n                    \"mblog_vip_type\": 0,\\n                    \"user\": {\\n                        \"id\": 2830678474,\\n                        \"screen_name\": \"\\\\u5d14\\\\u5e86\\\\u624d\\\\u4e28\\\\u9759\\\\u89c5\",\\n                        \"profile_image_url\": \"https://tva3.sinaimg.cn/crop.0.0.458.458.180/a8b8b9cajw8exsgha3l4uj20cq0crmy5.jpg?KID=imgbed,tva&Expires=1657798917&ssig=f9r6AEyfyW\",\\n                        \"profile_url\": \"https://m.weibo.cn/u/2830678474?uid=2830678474&luicode=10000011&lfid=1076032830678474\",\\n                        \"statuses_count\": 2507,\\n                        \"verified\": true,\\n                        \"verified_type\": 0,\\n                        \"verified_type_ext\": 0,\\n                        \"verified_reason\": \"\\\\u4e92\\\\u8054\\\\u7f51\\\\u79d1\\\\u6280\\\\u535a\\\\u4e3b\",\\n                        \"close_blue_v\": false,\\n                        \"description\": \"cuiqingcai.com\",\\n                        \"gender\": \"m\",\\n                        \"mbtype\": 12,\\n                        \"urank\": 36,\\n                        \"mbrank\": 7,\\n                        \"follow_me\": false,\\n                        \"following\": false,\\n                        \"follow_count\": 1172,\\n                        \"followers_count\": \"1.1\\\\u4e07\",\\n                        \"followers_count_str\": \"1.1\\\\u4e07\",\\n                        \"cover_image_phone\": \"https://tva1.sinaimg.cn/crop.0.0.640.640.640/549d0121tw1egm1kjly3jj20hs0hsq4f.jpg\",\\n                        \"avatar_hd\": \"https://ww3.sinaimg.cn/orj480/a8b8b9cajw8exsgha3l4uj20cq0crmy5.jpg\",\\n                        \"like\": false,\\n                        \"like_me\": false,\\n                        \"badge\": {\\n                            \"bind_taobao\": 1,\\n                            \"unread_pool\": 1,\\n                            \"unread_pool_ext\": 1,\\n                            \"dzwbqlx_2016\": 1,\\n                            \"panda\": 1,\\n                            \"user_name_certificate\": 1,\\n                            \"qixi_2018\": 1,\\n                            \"status_visible\": 1,\\n                            \"hongrenjie_2019\": 1,\\n                            \"china_2019\": 1,\\n                            \"hongkong_2019\": 1,\\n                            \"hongbao_2020\": 2,\\n                            \"pc_new\": 7,\\n                            \"party_cardid_state\": 1,\\n                            \"aoyun_2021\": 1\\n                        }\\n                    },\\n                    \"retweeted_status\": {\\n                        \"visible\": {\\n                            \"type\": 0,\\n                            \"list_id\": 0\\n                        },\\n                        \"created_at\": \"Fri May 27 08:43:03 +0800 2022\",\\n                        \"id\": \"4773657845435505\",\\n                        \"mid\": \"4773657845435505\",\\n                        \"can_edit\": false,\\n                        \"show_additional_indication\": 0,\\n                        \"text\": \"\\\\u6c5f\\\\u82cf\\\\u82cf\\\\u5dde\\\\uff0c\\\\u5c0f\\\\u732b\\\\u8e29\\\\u574f\\\\u540a\\\\u9876\\\\u706f\\\\uff0c\\\\u52aa\\\\u529b\\\\u7528\\\\u722a\\\\u5b50\\\\u5c1d\\\\u8bd5\\\\u590d\\\\u539f <a  href=\\\\\"http://weibo.com/p/1001018008622010000000000\\\\\" data-hide=\\\\\"\\\\\"><span class=\\'url-icon\\'><img style=\\'width: 1rem;height: 1rem\\' src=\\'https://h5.sinaimg.cn/upload/2015/09/25/3/timeline_card_small_location_default.png\\'></span><span class=\\\\\"surl-text\\\\\">\\\\u957f\\\\u6625</span></a> <a  href=\\\\\"https://video.weibo.com/show?fid=1034:4773657755713564\\\\\" data-hide=\\\\\"\\\\\"><span class=\\'url-icon\\'><img style=\\'width: 1rem;height: 1rem\\' src=\\'https://h5.sinaimg.cn/upload/2015/09/25/3/timeline_card_small_video_default.png\\'></span><span class=\\\\\"surl-text\\\\\">\\\\u957f\\\\u6625\\\\u65b0\\\\u52a8\\\\u6001\\\\u7684\\\\u5fae\\\\u535a\\\\u89c6\\\\u9891</span></a> \",\\n                        \"textLength\": 85,\\n                        \"source\": \"iPhone\\\\u5ba2\\\\u6237\\\\u7aef\",\\n                        \"favorited\": false,\\n                        \"pic_ids\": [],\\n                        \"is_paid\": false,\\n                        \"mblog_vip_type\": 0,\\n                        \"user\": {\\n                            \"id\": 5876419780,\\n                            \"screen_name\": \"\\\\u957f\\\\u6625\\\\u65b0\\\\u52a8\\\\u6001\",\\n                            \"profile_image_url\": \"https://tvax3.sinaimg.cn/crop.0.0.512.512.180/006pGRecly8g5tij8lfmrj30e80e8wf2.jpg?KID=imgbed,tva&Expires=1657798917&ssig=whqtbbt71d\",\\n                            \"profile_url\": \"https://m.weibo.cn/u/5876419780?uid=5876419780&luicode=10000011&lfid=1076032830678474\",\\n                            \"statuses_count\": 50901,\\n                            \"verified\": true,\\n                            \"verified_type\": 0,\\n                            \"verified_type_ext\": 1,\\n                            \"verified_reason\": \"\\\\u672c\\\\u5730\\\\u535a\\\\u4e3b \\\\uff08\\\\u957f\\\\u6625\\\\uff09 \\\\u7f8e\\\\u98df\\\\u535a\\\\u4e3b \\\\u89c6\\\\u9891\\\\u535a\\\\u4e3b\",\\n                            \"close_blue_v\": false,\\n                            \"description\": \"\\\\u5173\\\\u6ce8\\\\u957f\\\\u6625\\\\u65b0\\\\u52a8\\\\u6001\\\\uff0c\\\\u4e86\\\\u89e3\\\\u957f\\\\u6625\\\\u5927\\\\u4e8b\\\\u5c0f\\\\u60c5\\\\u3002\",\\n                            \"gender\": \"m\",\\n                            \"mbtype\": 12,\\n                            \"urank\": 9,\\n                            \"mbrank\": 6,\\n                            \"follow_me\": false,\\n                            \"following\": false,\\n                            \"follow_count\": 471,\\n                            \"followers_count\": \"90.1\\\\u4e07\",\\n                            \"followers_count_str\": \"90.1\\\\u4e07\",\\n                            \"cover_image_phone\": \"https://tva1.sinaimg.cn/crop.0.0.640.640.640/549d0121tw1egm1kjly3jj20hs0hsq4f.jpg\",\\n                            \"avatar_hd\": \"https://wx3.sinaimg.cn/orj480/006pGRecly8g5tij8lfmrj30e80e8wf2.jpg\",\\n                            \"like\": false,\\n                            \"like_me\": false,\\n                            \"badge\": {\\n                                \"bind_taobao\": 1,\\n                                \"unread_pool\": 1,\\n                                \"unread_pool_ext\": 1,\\n                                \"super_star_2017\": 1,\\n                                \"user_name_certificate\": 1,\\n                                \"wenda_v2\": 1,\\n                                \"dailv_2018\": 1,\\n                                \"relation_display\": 1,\\n                                \"hongbaofei_2019\": 1,\\n                                \"dailv_2019\": 1,\\n                                \"china_2019\": 1,\\n                                \"rrgyj_2019\": 1,\\n                                \"hongbao_2020\": 2,\\n                                \"feiyan_2020\": 1,\\n                                \"graduation_2020\": 1,\\n                                \"pc_new\": 6,\\n                                \"dailv_2020\": 1,\\n                                \"vpick_2020\": 1,\\n                                \"school_2020\": 1,\\n                                \"hongrenjie_2020\": 1,\\n                                \"china_2020\": 1,\\n                                \"hongbaofeijika_2021\": 1,\\n                                \"yuanlongping_2021\": 1,\\n                                \"ylpshuidao_2021\": 1,\\n                                \"gaokao_2021\": 1,\\n                                \"party_cardid_state\": 2,\\n                                \"companion_card\": 1,\\n                                \"yinyuejie21_2021\": 1,\\n                                \"hongbaofei2022_2021\": 1,\\n                                \"gaokao_2022\": 1\\n                            }\\n                        },\\n                        \"reposts_count\": 42,\\n                        \"comments_count\": 40,\\n                        \"reprint_cmt_count\": 0,\\n                        \"attitudes_count\": 840,\\n                        \"pending_approval_count\": 0,\\n                        \"isLongText\": false,\\n                        \"mlevel\": 0,\\n                        \"darwin_tags\": [],\\n                        \"hot_page\": {\\n                            \"fid\": \"232532_mblog\",\\n                            \"feed_detail_type\": 0\\n                        },\\n                        \"mblogtype\": 0,\\n                        \"rid\": \"6_0_50_6670129651442252876_0_0_0\",\\n                        \"number_display_strategy\": {\\n                            \"apply_scenario_flag\": 3,\\n                            \"display_text_min_number\": 1000000,\\n                            \"display_text\": \"100\\\\u4e07+\"\\n                        },\\n                        \"content_auth\": 0,\\n                        \"safe_tags\": 524288,\\n                        \"comment_manage_info\": {\\n                            \"comment_permission_type\": -1,\\n                            \"approval_comment_type\": 0,\\n                            \"comment_sort_type\": 0\\n                        },\\n                        \"pic_num\": 0,\\n                        \"fid\": 4773657762070569,\\n                        \"new_comment_style\": 0,\\n                        \"region_name\": \"\\\\u53d1\\\\u5e03\\\\u4e8e \\\\u5409\\\\u6797\",\\n                        \"region_opt\": 1,\\n                        \"edit_config\": {\\n                            \"edited\": false\\n                        },\\n                        \"page_info\": {\\n                            \"type\": \"video\",\\n                            \"object_type\": 11,\\n                            \"url_ori\": \"http://t.cn/A6XpYmsy\",\\n                            \"page_pic\": {\\n                                \"width\": 480,\\n                                \"pid\": \"006pGRecly1h2mo4yug7wj30k00zkdh5\",\\n                                \"source\": 21,\\n                                \"is_self_cover\": 0,\\n                                \"type\": 0,\\n                                \"url\": \"https://wx3.sinaimg.cn/orj480/006pGRecly1h2mo4yug7wj30k00zkdh5.jpg\",\\n                                \"height\": 853\\n                            },\\n                            \"page_url\": \"https://video.weibo.com/show?fid=1034%3A4773657755713564&luicode=10000011&lfid=1076032830678474\",\\n                            \"object_id\": \"1034:4773657755713564\",\\n                            \"page_title\": \"\\\\u957f\\\\u6625\\\\u65b0\\\\u52a8\\\\u6001\\\\u7684\\\\u5fae\\\\u535a\\\\u89c6\\\\u9891\",\\n                            \"title\": \"\",\\n                            \"content1\": \"\\\\u957f\\\\u6625\\\\u65b0\\\\u52a8\\\\u6001\\\\u7684\\\\u5fae\\\\u535a\\\\u89c6\\\\u9891\",\\n                            \"content2\": \"\\\\u6c5f\\\\u82cf\\\\u82cf\\\\u5dde\\\\uff0c\\\\u5c0f\\\\u732b\\\\u8e29\\\\u574f\\\\u540a\\\\u9876\\\\u706f\\\\uff0c\\\\u52aa\\\\u529b\\\\u7528\\\\u722a\\\\u5b50\\\\u5c1d\\\\u8bd5\\\\u590d\\\\u539f http://t.cn/RJhTtpf\",\\n                            \"video_orientation\": \"vertical\",\\n                            \"play_count\": \"32\\\\u4e07\\\\u6b21\\\\u64ad\\\\u653e\",\\n                            \"media_info\": {\\n                                \"stream_url\": \"https://f.video.weibocdn.com/o0/HNYl0e4alx07WmWZXVFe010412000RQa0E010.mp4?label=mp4_ld&template=360x640.24.0&ori=0&ps=1CwnkDw1GXwCQx&Expires=1657791717&ssig=qHiOcpMDEL&KID=unistore,video\",\\n                                \"stream_url_hd\": \"https://f.video.weibocdn.com/o0/zc4jHoT8lx07WmX0ggQ8010412001xCk0E010.mp4?label=mp4_hd&template=540x960.24.0&ori=0&ps=1CwnkDw1GXwCQx&Expires=1657791717&ssig=AhDGQZCO8c&KID=unistore,video\",\\n                                \"duration\": 11.307\\n                            },\\n                            \"urls\": {\\n                                \"mp4_720p_mp4\": \"https://f.video.weibocdn.com/o0/YqErZByrlx07WmX02rte010412002OYk0E010.mp4?label=mp4_720p&template=720x1280.24.0&ori=0&ps=1CwnkDw1GXwCQx&Expires=1657791717&ssig=01M2k73sDy&KID=unistore,video\",\\n                                \"mp4_hd_mp4\": \"https://f.video.weibocdn.com/o0/zc4jHoT8lx07WmX0ggQ8010412001xCk0E010.mp4?label=mp4_hd&template=540x960.24.0&ori=0&ps=1CwnkDw1GXwCQx&Expires=1657791717&ssig=AhDGQZCO8c&KID=unistore,video\",\\n                                \"mp4_ld_mp4\": \"https://f.video.weibocdn.com/o0/HNYl0e4alx07WmWZXVFe010412000RQa0E010.mp4?label=mp4_ld&template=360x640.24.0&ori=0&ps=1CwnkDw1GXwCQx&Expires=1657791717&ssig=qHiOcpMDEL&KID=unistore,video\"\\n                            }\\n                        },\\n                        \"bid\": \"LuUaYmO1r\"\\n                    },\\n                    \"reposts_count\": 1,\\n                    \"comments_count\": 0,\\n                    \"reprint_cmt_count\": 0,\\n                    \"attitudes_count\": 1,\\n                    \"pending_approval_count\": 0,\\n                    \"isLongText\": false,\\n                    \"mlevel\": 0,\\n                    \"darwin_tags\": [],\\n                    \"hot_page\": {\\n                        \"fid\": \"232532_mblog\",\\n                        \"feed_detail_type\": 0\\n                    },\\n                    \"mblogtype\": 0,\\n                    \"rid\": \"6_0_50_6670129651442252876_0_0_0\",\\n                    \"cardid\": \"vip_010\",\\n                    \"extern_safe\": 0,\\n                    \"number_display_strategy\": {\\n                        \"apply_scenario_flag\": 3,\\n                        \"display_text_min_number\": 1000000,\\n                        \"display_text\": \"100\\\\u4e07+\"\\n                    },\\n                    \"content_auth\": 0,\\n                    \"comment_manage_info\": {\\n                        \"comment_permission_type\": -1,\\n                        \"approval_comment_type\": 0,\\n                        \"comment_sort_type\": 0\\n                    },\\n                    \"repost_type\": 1,\\n                    \"pic_num\": 0,\\n                    \"new_comment_style\": 0,\\n                    \"ab_switcher\": 4,\\n                    \"region_name\": \"\\\\u53d1\\\\u5e03\\\\u4e8e \\\\u5317\\\\u4eac\",\\n                    \"region_opt\": 1,\\n                    \"mblog_menu_new_style\": 0,\\n                    \"edit_config\": {\\n                        \"edited\": false\\n                    },\\n                    \"raw_text\": \"[\\\\u998b\\\\u5634]\",\\n                    \"bid\": \"LvTD6cQYU\"\\n                }\\n            },\\n            {\\n                \"card_type\": 9,\\n                \"profile_type_id\": \"proweibo_4776019325878568\",\\n                \"itemid\": \"1076032830678474_-_4776019325878568\",\\n                \"scheme\": \"https://m.weibo.cn/status/LvTBOoFhC?mblogid=LvTBOoFhC&luicode=10000011&lfid=1076032830678474\",\\n                \"mblog\": {\\n                    \"visible\": {\\n                        \"type\": 0,\\n                        \"list_id\": 0\\n                    },\\n                    \"created_at\": \"Thu Jun 02 21:06:43 +0800 2022\",\\n                    \"id\": \"4776019325878568\",\\n                    \"mid\": \"4776019325878568\",\\n                    \"can_edit\": false,\\n                    \"show_additional_indication\": 0,\\n                    \"text\": \"<span class=\\\\\"url-icon\\\\\"><img alt=[\\\\u54c8\\\\u54c8] src=\\\\\"https://h5.sinaimg.cn/m/emoticon/icon/default/d_haha-0ec05e6dad.png\\\\\" style=\\\\\"width:1em; height:1em;\\\\\" /></span>\",\\n                    \"source\": \"iPhone 12 Pro Max\",\\n                    \"favorited\": false,\\n                    \"pic_ids\": [],\\n                    \"is_paid\": false,\\n                    \"mblog_vip_type\": 0,\\n                    \"user\": {\\n                        \"id\": 2830678474,\\n                        \"screen_name\": \"\\\\u5d14\\\\u5e86\\\\u624d\\\\u4e28\\\\u9759\\\\u89c5\",\\n                        \"profile_image_url\": \"https://tva3.sinaimg.cn/crop.0.0.458.458.180/a8b8b9cajw8exsgha3l4uj20cq0crmy5.jpg?KID=imgbed,tva&Expires=1657798917&ssig=f9r6AEyfyW\",\\n                        \"profile_url\": \"https://m.weibo.cn/u/2830678474?uid=2830678474&luicode=10000011&lfid=1076032830678474\",\\n                        \"statuses_count\": 2507,\\n                        \"verified\": true,\\n                        \"verified_type\": 0,\\n                        \"verified_type_ext\": 0,\\n                        \"verified_reason\": \"\\\\u4e92\\\\u8054\\\\u7f51\\\\u79d1\\\\u6280\\\\u535a\\\\u4e3b\",\\n                        \"close_blue_v\": false,\\n                        \"description\": \"cuiqingcai.com\",\\n                        \"gender\": \"m\",\\n                        \"mbtype\": 12,\\n                        \"urank\": 36,\\n                        \"mbrank\": 7,\\n                        \"follow_me\": false,\\n                        \"following\": false,\\n                        \"follow_count\": 1172,\\n                        \"followers_count\": \"1.1\\\\u4e07\",\\n                        \"followers_count_str\": \"1.1\\\\u4e07\",\\n                        \"cover_image_phone\": \"https://tva1.sinaimg.cn/crop.0.0.640.640.640/549d0121tw1egm1kjly3jj20hs0hsq4f.jpg\",\\n                        \"avatar_hd\": \"https://ww3.sinaimg.cn/orj480/a8b8b9cajw8exsgha3l4uj20cq0crmy5.jpg\",\\n                        \"like\": false,\\n                        \"like_me\": false,\\n                        \"badge\": {\\n                            \"bind_taobao\": 1,\\n                            \"unread_pool\": 1,\\n                            \"unread_pool_ext\": 1,\\n                            \"dzwbqlx_2016\": 1,\\n                            \"panda\": 1,\\n                            \"user_name_certificate\": 1,\\n                            \"qixi_2018\": 1,\\n                            \"status_visible\": 1,\\n                            \"hongrenjie_2019\": 1,\\n                            \"china_2019\": 1,\\n                            \"hongkong_2019\": 1,\\n                            \"hongbao_2020\": 2,\\n                            \"pc_new\": 7,\\n                            \"party_cardid_state\": 1,\\n                            \"aoyun_2021\": 1\\n                        }\\n                    },\\n                    \"retweeted_status\": {\\n                        \"visible\": {\\n                            \"type\": 0,\\n                            \"list_id\": 0\\n                        },\\n                        \"created_at\": \"Thu Jun 02 19:22:26 +0800 2022\",\\n                        \"id\": \"4775993082380952\",\\n                        \"mid\": \"4775993082380952\",\\n                        \"can_edit\": false,\\n                        \"show_additional_indication\": 0,\\n                        \"text\": \"\\\\u902e\\\\u5230\\\\u4e00\\\\u53ea\\\\u7761\\\\u5348\\\\u89c9\\\\u7684\\\\u5c0f\\\\u53ef\\\\u7231<span class=\\\\\"url-icon\\\\\"><img alt=[doge] src=\\\\\"https://h5.sinaimg.cn/m/emoticon/icon/others/d_doge-be7f768d78.png\\\\\" style=\\\\\"width:1em; height:1em;\\\\\" /></span> <a  href=\\\\\"https://video.weibo.com/show?fid=1034:4775992783470658\\\\\" data-hide=\\\\\"\\\\\"><span class=\\'url-icon\\'><img style=\\'width: 1rem;height: 1rem\\' src=\\'https://h5.sinaimg.cn/upload/2015/09/25/3/timeline_card_small_video_default.png\\'></span><span class=\\\\\"surl-text\\\\\">\\\\u963f\\\\u7caa\\\\u9752\\\\u7684\\\\u5fae\\\\u535a\\\\u89c6\\\\u9891</span></a> \",\\n                        \"textLength\": 49,\\n                        \"source\": \"\\\\u5fae\\\\u535a\\\\u89c6\\\\u9891\\\\u53f7\",\\n                        \"favorited\": false,\\n                        \"pic_ids\": [],\\n                        \"is_paid\": false,\\n                        \"mblog_vip_type\": 0,\\n                        \"user\": {\\n                            \"id\": 2726698224,\\n                            \"screen_name\": \"\\\\u963f\\\\u7caa\\\\u9752\",\\n                            \"profile_image_url\": \"https://tvax2.sinaimg.cn/crop.0.0.512.512.180/a2861cf0ly8gdiqoo350ej20e80e874o.jpg?KID=imgbed,tva&Expires=1657798917&ssig=l3Q4C8IuIu\",\\n                            \"profile_url\": \"https://m.weibo.cn/u/2726698224?uid=2726698224&luicode=10000011&lfid=1076032830678474\",\\n                            \"statuses_count\": 14287,\\n                            \"verified\": true,\\n                            \"verified_type\": 0,\\n                            \"verified_type_ext\": 1,\\n                            \"verified_reason\": \"\\\\u77e5\\\\u540d\\\\u641e\\\\u7b11\\\\u5e7d\\\\u9ed8\\\\u535a\\\\u4e3b \\\\u5fae\\\\u535a\\\\u539f\\\\u521b\\\\u89c6\\\\u9891\\\\u535a\\\\u4e3b\",\\n                            \"close_blue_v\": false,\\n                            \"description\": \"\\\\u6b22\\\\u8fce\\\\u6295\\\\u7a3f\",\\n                            \"gender\": \"m\",\\n                            \"mbtype\": 12,\\n                            \"urank\": 48,\\n                            \"mbrank\": 7,\\n                            \"follow_me\": false,\\n                            \"following\": false,\\n                            \"follow_count\": 712,\\n                            \"followers_count\": \"926.8\\\\u4e07\",\\n                            \"followers_count_str\": \"926.8\\\\u4e07\",\\n                            \"cover_image_phone\": \"https://wx1.sinaimg.cn/crop.0.0.640.640.640/006Y5MRUgy1g2cidne035j30ku0kut8z.jpg\",\\n                            \"avatar_hd\": \"https://wx2.sinaimg.cn/orj480/a2861cf0ly8gdiqoo350ej20e80e874o.jpg\",\\n                            \"like\": false,\\n                            \"like_me\": false,\\n                            \"badge\": {\\n                                \"dzwbqlx_2016\": 1,\\n                                \"follow_whitelist_video\": 1,\\n                                \"super_star_2017\": 1,\\n                                \"user_name_certificate\": 1,\\n                                \"super_star_2018\": 1,\\n                                \"worldcup_2018\": 34,\\n                                \"dailv_2018\": 7,\\n                                \"qixi_2018\": 1,\\n                                \"national_day_2018\": 1,\\n                                \"weibo_display_fans\": 1,\\n                                \"relation_display\": 1,\\n                                \"memorial_2018\": 1,\\n                                \"hongbaofei_2019\": 1,\\n                                \"suishoupai_2019\": 2,\\n                                \"wusi_2019\": 1,\\n                                \"hongrenjie_2019\": 1,\\n                                \"dzwbqlx_2019\": 2,\\n                                \"hongbao_2020\": 2,\\n                                \"feiyan_2020\": 1,\\n                                \"hope_2020\": 1,\\n                                \"pc_new\": 7,\\n                                \"dailv_2020\": 1,\\n                                \"vpick_2020\": 1,\\n                                \"hongrenjie_2020\": 1,\\n                                \"weibozhiyexianxia_2021\": 1,\\n                                \"nihaoshenghuojie_2021\": 1,\\n                                \"gaokao_2021\": 1,\\n                                \"biyeji_2021\": 1,\\n                                \"party_cardid_state\": 2,\\n                                \"aoyun_2021\": 1,\\n                                \"companion_card\": 1,\\n                                \"kaixue21_2021\": 1,\\n                                \"yinyuejie21_2021\": 1,\\n                                \"yingxionglianmengs11_2021\": 1,\\n                                \"hongbaofei2022_2021\": 1,\\n                                \"newdongaohui_2022\": 1,\\n                                \"iplocationchange_2022\": 1,\\n                                \"biyeji_2022\": 1,\\n                                \"gaokao_2022\": 1,\\n                                \"dailv_2022\": 1\\n                            }\\n                        },\\n                        \"reposts_count\": 2109,\\n                        \"comments_count\": 1056,\\n                        \"reprint_cmt_count\": 0,\\n                        \"attitudes_count\": 8617,\\n                        \"pending_approval_count\": 0,\\n                        \"isLongText\": false,\\n                        \"mlevel\": 0,\\n                        \"darwin_tags\": [\\n                            {\\n                                \"object_type\": \"fangle\",\\n                                \"object_id\": \"1022:23126100007562407699849217\",\\n                                \"display_name\": \"\\\\u5185\\\\u5bb9\\\\u8fc7\\\\u4e8e\\\\u4f18\\\\u79c0\",\\n                                \"enterprise_uid\": null,\\n                                \"bd_object_type\": \"fangle\"\\n                            }\\n                        ],\\n                        \"hot_page\": {\\n                            \"fid\": \"232532_mblog\",\\n                            \"feed_detail_type\": 0\\n                        },\\n                        \"mblogtype\": 0,\\n                        \"rid\": \"7_0_50_6670129651442252876_0_0_0\",\\n                        \"number_display_strategy\": {\\n                            \"apply_scenario_flag\": 3,\\n                            \"display_text_min_number\": 1000000,\\n                            \"display_text\": \"100\\\\u4e07+\"\\n                        },\\n                        \"content_auth\": 0,\\n                        \"safe_tags\": 524288,\\n                        \"comment_manage_info\": {\\n                            \"comment_permission_type\": -1,\\n                            \"approval_comment_type\": 0,\\n                            \"comment_sort_type\": 0\\n                        },\\n                        \"pic_num\": 0,\\n                        \"fid\": 4775992861393083,\\n                        \"new_comment_style\": 0,\\n                        \"region_name\": \"\\\\u53d1\\\\u5e03\\\\u4e8e \\\\u5e7f\\\\u897f\",\\n                        \"region_opt\": 1,\\n                        \"edit_config\": {\\n                            \"edited\": false\\n                        },\\n                        \"page_info\": {\\n                            \"type\": \"video\",\\n                            \"object_type\": 11,\\n                            \"url_ori\": \"http://t.cn/A6XTCHDs\",\\n                            \"page_pic\": {\\n                                \"width\": 480,\\n                                \"pid\": \"a2861cf0gy1h2u4bh1gwxj20k00zc76x\",\\n                                \"source\": 21,\\n                                \"is_self_cover\": 0,\\n                                \"type\": 0,\\n                                \"url\": \"https://wx3.sinaimg.cn/orj480/a2861cf0gy1h2u4bh1gwxj20k00zc76x.jpg\",\\n                                \"height\": 848\\n                            },\\n                            \"page_url\": \"https://video.weibo.com/show?fid=1034%3A4775992783470658&luicode=10000011&lfid=1076032830678474\",\\n                            \"object_id\": \"1034:4775992783470658\",\\n                            \"page_title\": \"\\\\u963f\\\\u7caa\\\\u9752\\\\u7684\\\\u5fae\\\\u535a\\\\u89c6\\\\u9891\",\\n                            \"title\": \"\",\\n                            \"content1\": \"\\\\u963f\\\\u7caa\\\\u9752\\\\u7684\\\\u5fae\\\\u535a\\\\u89c6\\\\u9891\",\\n                            \"content2\": \"\\\\u902e\\\\u5230\\\\u4e00\\\\u53ea\\\\u7761\\\\u5348\\\\u89c9\\\\u7684\\\\u5c0f\\\\u53ef\\\\u7231[doge]\",\\n                            \"video_orientation\": \"vertical\",\\n                            \"play_count\": \"118\\\\u4e07\\\\u6b21\\\\u64ad\\\\u653e\",\\n                            \"media_info\": {\\n                                \"stream_url\": \"https://f.video.weibocdn.com/u0/dLl9i8xtgx07Wxefkxn201041200jDiy0E010.mp4?label=mp4_ld&template=360x636.24.0&ori=0&ps=1CwnkDw1GXwCQx&Expires=1657791717&ssig=FSubKA3KX6&KID=unistore,video\",\\n                                \"stream_url_hd\": \"https://f.video.weibocdn.com/u0/ynPYaR4Sgx07WxefR2t201041200CUH70E010.mp4?label=mp4_hd&template=540x952.24.0&ori=0&ps=1CwnkDw1GXwCQx&Expires=1657791717&ssig=IuVXi5SJ0V&KID=unistore,video\",\\n                                \"duration\": 63.645\\n                            },\\n                            \"urls\": {\\n                                \"mp4_720p_mp4\": \"https://f.video.weibocdn.com/u0/YVjzfBPOgx07Wxegzy1W010412012aBi0E010.mp4?label=mp4_720p&template=720x1272.24.0&ori=0&ps=1CwnkDw1GXwCQx&Expires=1657791717&ssig=pT2mCfg1%2BK&KID=unistore,video\",\\n                                \"mp4_hd_mp4\": \"https://f.video.weibocdn.com/u0/ynPYaR4Sgx07WxefR2t201041200CUH70E010.mp4?label=mp4_hd&template=540x952.24.0&ori=0&ps=1CwnkDw1GXwCQx&Expires=1657791717&ssig=IuVXi5SJ0V&KID=unistore,video\",\\n                                \"mp4_ld_mp4\": \"https://f.video.weibocdn.com/u0/dLl9i8xtgx07Wxefkxn201041200jDiy0E010.mp4?label=mp4_ld&template=360x636.24.0&ori=0&ps=1CwnkDw1GXwCQx&Expires=1657791717&ssig=FSubKA3KX6&KID=unistore,video\"\\n                            }\\n                        },\\n                        \"bid\": \"LvSVu9Zos\"\\n                    },\\n                    \"reposts_count\": 1,\\n                    \"comments_count\": 0,\\n                    \"reprint_cmt_count\": 0,\\n                    \"attitudes_count\": 0,\\n                    \"pending_approval_count\": 0,\\n                    \"isLongText\": false,\\n                    \"mlevel\": 0,\\n                    \"darwin_tags\": [],\\n                    \"hot_page\": {\\n                        \"fid\": \"232532_mblog\",\\n                        \"feed_detail_type\": 0\\n                    },\\n                    \"mblogtype\": 0,\\n                    \"rid\": \"7_0_50_6670129651442252876_0_0_0\",\\n                    \"cardid\": \"vip_010\",\\n                    \"extern_safe\": 0,\\n                    \"number_display_strategy\": {\\n                        \"apply_scenario_flag\": 3,\\n                        \"display_text_min_number\": 1000000,\\n                        \"display_text\": \"100\\\\u4e07+\"\\n                    },\\n                    \"content_auth\": 0,\\n                    \"comment_manage_info\": {\\n                        \"comment_permission_type\": -1,\\n                        \"approval_comment_type\": 0,\\n                        \"comment_sort_type\": 0\\n                    },\\n                    \"repost_type\": 1,\\n                    \"pic_num\": 0,\\n                    \"new_comment_style\": 0,\\n                    \"ab_switcher\": 4,\\n                    \"region_name\": \"\\\\u53d1\\\\u5e03\\\\u4e8e \\\\u5317\\\\u4eac\",\\n                    \"region_opt\": 1,\\n                    \"mblog_menu_new_style\": 0,\\n                    \"edit_config\": {\\n                        \"edited\": false\\n                    },\\n                    \"raw_text\": \"[\\\\u54c8\\\\u54c8]\",\\n                    \"bid\": \"LvTBOoFhC\"\\n                }\\n            },\\n            {\\n                \"card_type\": 9,\\n                \"profile_type_id\": \"proweibo_4774990266238255\",\\n                \"itemid\": \"1076032830678474_-_4774990266238255\",\\n                \"scheme\": \"https://m.weibo.cn/status/LvsQ2qaR1?mblogid=LvsQ2qaR1&luicode=10000011&lfid=1076032830678474\",\\n                \"mblog\": {\\n                    \"visible\": {\\n                        \"type\": 0,\\n                        \"list_id\": 0\\n                    },\\n                    \"created_at\": \"Tue May 31 00:57:37 +0800 2022\",\\n                    \"id\": \"4774990266238255\",\\n                    \"mid\": \"4774990266238255\",\\n                    \"can_edit\": false,\\n                    \"show_additional_indication\": 0,\\n                    \"text\": \"\\\\u5206\\\\u4eab\\\\u4e00\\\\u4e2a\\\\u975e\\\\u5e38\\\\u5168\\\\u7684\\\\u6709\\\\u5173\\\\u7cfb\\\\u7edf\\\\u8bbe\\\\u8ba1\\\\u7684\\\\u8d44\\\\u6e90\\\\uff1agithub.com/donnemartin/system-design-primer\\\\uff0c\\\\u5176\\\\u4e2d\\\\u4ecb\\\\u7ecd\\\\u4e86\\\\u5404\\\\u79cd\\\\u5404\\\\u6837\\\\u7cfb\\\\u7edf\\\\u7684\\\\u8bbe\\\\u8ba1\\\\u539f\\\\u5219\\\\uff0c\\\\u6bd4\\\\u5982\\\\u53ef\\\\u7528\\\\u6027\\\\u548c\\\\u4e00\\\\u81f4\\\\u6027\\\\u3001\\\\u8d1f\\\\u8f7d\\\\u5747\\\\u8861\\\\u3001\\\\u57df\\\\u540d\\\\u7cfb\\\\u7edf\\\\u3001\\\\u53cd\\\\u5411\\\\u4ee3\\\\u7406\\\\u3001\\\\u6570\\\\u636e\\\\u5e93\\\\u3001\\\\u7f13\\\\u5b58\\\\u7b49\\\\u3001\\\\u6d88\\\\u606f\\\\u961f\\\\u5217\\\\u7b49\\\\uff0c\\\\u5bf9\\\\u63d0\\\\u9ad8\\\\u6574\\\\u4f53\\\\u8ba1\\\\u7b97\\\\u673a\\\\u6c34\\\\u5e73\\\\u975e\\\\u5e38\\\\u6709\\\\u5e2e\\\\u52a9\\\\u3002 \",\\n                    \"textLength\": 225,\\n                    \"source\": \"iPhone 12 Pro Max\",\\n                    \"favorited\": false,\\n                    \"pic_ids\": [],\\n                    \"is_paid\": false,\\n                    \"mblog_vip_type\": 0,\\n                    \"user\": {\\n                        \"id\": 2830678474,\\n                        \"screen_name\": \"\\\\u5d14\\\\u5e86\\\\u624d\\\\u4e28\\\\u9759\\\\u89c5\",\\n                        \"profile_image_url\": \"https://tva3.sinaimg.cn/crop.0.0.458.458.180/a8b8b9cajw8exsgha3l4uj20cq0crmy5.jpg?KID=imgbed,tva&Expires=1657798917&ssig=f9r6AEyfyW\",\\n                        \"profile_url\": \"https://m.weibo.cn/u/2830678474?uid=2830678474&luicode=10000011&lfid=1076032830678474\",\\n                        \"statuses_count\": 2507,\\n                        \"verified\": true,\\n                        \"verified_type\": 0,\\n                        \"verified_type_ext\": 0,\\n                        \"verified_reason\": \"\\\\u4e92\\\\u8054\\\\u7f51\\\\u79d1\\\\u6280\\\\u535a\\\\u4e3b\",\\n                        \"close_blue_v\": false,\\n                        \"description\": \"cuiqingcai.com\",\\n                        \"gender\": \"m\",\\n                        \"mbtype\": 12,\\n                        \"urank\": 36,\\n                        \"mbrank\": 7,\\n                        \"follow_me\": false,\\n                        \"following\": false,\\n                        \"follow_count\": 1172,\\n                        \"followers_count\": \"1.1\\\\u4e07\",\\n                        \"followers_count_str\": \"1.1\\\\u4e07\",\\n                        \"cover_image_phone\": \"https://tva1.sinaimg.cn/crop.0.0.640.640.640/549d0121tw1egm1kjly3jj20hs0hsq4f.jpg\",\\n                        \"avatar_hd\": \"https://ww3.sinaimg.cn/orj480/a8b8b9cajw8exsgha3l4uj20cq0crmy5.jpg\",\\n                        \"like\": false,\\n                        \"like_me\": false,\\n                        \"badge\": {\\n                            \"bind_taobao\": 1,\\n                            \"unread_pool\": 1,\\n                            \"unread_pool_ext\": 1,\\n                            \"dzwbqlx_2016\": 1,\\n                            \"panda\": 1,\\n                            \"user_name_certificate\": 1,\\n                            \"qixi_2018\": 1,\\n                            \"status_visible\": 1,\\n                            \"hongrenjie_2019\": 1,\\n                            \"china_2019\": 1,\\n                            \"hongkong_2019\": 1,\\n                            \"hongbao_2020\": 2,\\n                            \"pc_new\": 7,\\n                            \"party_cardid_state\": 1,\\n                            \"aoyun_2021\": 1\\n                        }\\n                    },\\n                    \"reposts_count\": 1,\\n                    \"comments_count\": 0,\\n                    \"reprint_cmt_count\": 0,\\n                    \"attitudes_count\": 1,\\n                    \"pending_approval_count\": 0,\\n                    \"isLongText\": false,\\n                    \"mlevel\": 0,\\n                    \"darwin_tags\": [],\\n                    \"hot_page\": {\\n                        \"fid\": \"232532_mblog\",\\n                        \"feed_detail_type\": 0\\n                    },\\n                    \"mblogtype\": 0,\\n                    \"rid\": \"8_0_50_6670129651442252876_0_0_0\",\\n                    \"cardid\": \"vip_010\",\\n                    \"extern_safe\": 0,\\n                    \"number_display_strategy\": {\\n                        \"apply_scenario_flag\": 3,\\n                        \"display_text_min_number\": 1000000,\\n                        \"display_text\": \"100\\\\u4e07+\"\\n                    },\\n                    \"content_auth\": 0,\\n                    \"comment_manage_info\": {\\n                        \"comment_permission_type\": -1,\\n                        \"approval_comment_type\": 0,\\n                        \"comment_sort_type\": 0\\n                    },\\n                    \"pic_num\": 0,\\n                    \"new_comment_style\": 0,\\n                    \"ab_switcher\": 4,\\n                    \"region_name\": \"\\\\u53d1\\\\u5e03\\\\u4e8e \\\\u5317\\\\u4eac\",\\n                    \"region_opt\": 1,\\n                    \"mblog_menu_new_style\": 0,\\n                    \"edit_config\": {\\n                        \"edited\": false\\n                    },\\n                    \"bid\": \"LvsQ2qaR1\"\\n                }\\n            },\\n            {\\n                \"card_type\": 9,\\n                \"profile_type_id\": \"proweibo_4774419379257723\",\\n                \"itemid\": \"1076032830678474_-_4774419379257723\",\\n                \"scheme\": \"https://m.weibo.cn/status/LvdZfCQm7?mblogid=LvdZfCQm7&luicode=10000011&lfid=1076032830678474\",\\n                \"mblog\": {\\n                    \"visible\": {\\n                        \"type\": 0,\\n                        \"list_id\": 0\\n                    },\\n                    \"created_at\": \"Sun May 29 11:09:06 +0800 2022\",\\n                    \"id\": \"4774419379257723\",\\n                    \"mid\": \"4774419379257723\",\\n                    \"can_edit\": false,\\n                    \"show_additional_indication\": 0,\\n                    \"text\": \"<span class=\\\\\"url-icon\\\\\"><img alt=[\\\\u4e8c\\\\u54c8] src=\\\\\"https://h5.sinaimg.cn/m/emoticon/icon/others/d_erha-139d0e07bd.png\\\\\" style=\\\\\"width:1em; height:1em;\\\\\" /></span><span class=\\\\\"url-icon\\\\\"><img alt=[\\\\u4e8c\\\\u54c8] src=\\\\\"https://h5.sinaimg.cn/m/emoticon/icon/others/d_erha-139d0e07bd.png\\\\\" style=\\\\\"width:1em; height:1em;\\\\\" /></span><span class=\\\\\"url-icon\\\\\"><img alt=[\\\\u4e8c\\\\u54c8] src=\\\\\"https://h5.sinaimg.cn/m/emoticon/icon/others/d_erha-139d0e07bd.png\\\\\" style=\\\\\"width:1em; height:1em;\\\\\" /></span>\",\\n                    \"source\": \"iPhone 12 Pro Max\",\\n                    \"favorited\": false,\\n                    \"pic_ids\": [],\\n                    \"is_paid\": false,\\n                    \"mblog_vip_type\": 0,\\n                    \"user\": {\\n                        \"id\": 2830678474,\\n                        \"screen_name\": \"\\\\u5d14\\\\u5e86\\\\u624d\\\\u4e28\\\\u9759\\\\u89c5\",\\n                        \"profile_image_url\": \"https://tva3.sinaimg.cn/crop.0.0.458.458.180/a8b8b9cajw8exsgha3l4uj20cq0crmy5.jpg?KID=imgbed,tva&Expires=1657798917&ssig=f9r6AEyfyW\",\\n                        \"profile_url\": \"https://m.weibo.cn/u/2830678474?uid=2830678474&luicode=10000011&lfid=1076032830678474\",\\n                        \"statuses_count\": 2507,\\n                        \"verified\": true,\\n                        \"verified_type\": 0,\\n                        \"verified_type_ext\": 0,\\n                        \"verified_reason\": \"\\\\u4e92\\\\u8054\\\\u7f51\\\\u79d1\\\\u6280\\\\u535a\\\\u4e3b\",\\n                        \"close_blue_v\": false,\\n                        \"description\": \"cuiqingcai.com\",\\n                        \"gender\": \"m\",\\n                        \"mbtype\": 12,\\n                        \"urank\": 36,\\n                        \"mbrank\": 7,\\n                        \"follow_me\": false,\\n                        \"following\": false,\\n                        \"follow_count\": 1172,\\n                        \"followers_count\": \"1.1\\\\u4e07\",\\n                        \"followers_count_str\": \"1.1\\\\u4e07\",\\n                        \"cover_image_phone\": \"https://tva1.sinaimg.cn/crop.0.0.640.640.640/549d0121tw1egm1kjly3jj20hs0hsq4f.jpg\",\\n                        \"avatar_hd\": \"https://ww3.sinaimg.cn/orj480/a8b8b9cajw8exsgha3l4uj20cq0crmy5.jpg\",\\n                        \"like\": false,\\n                        \"like_me\": false,\\n                        \"badge\": {\\n                            \"bind_taobao\": 1,\\n                            \"unread_pool\": 1,\\n                            \"unread_pool_ext\": 1,\\n                            \"dzwbqlx_2016\": 1,\\n                            \"panda\": 1,\\n                            \"user_name_certificate\": 1,\\n                            \"qixi_2018\": 1,\\n                            \"status_visible\": 1,\\n                            \"hongrenjie_2019\": 1,\\n                            \"china_2019\": 1,\\n                            \"hongkong_2019\": 1,\\n                            \"hongbao_2020\": 2,\\n                            \"pc_new\": 7,\\n                            \"party_cardid_state\": 1,\\n                            \"aoyun_2021\": 1\\n                        }\\n                    },\\n                    \"retweeted_status\": {\\n                        \"visible\": {\\n                            \"type\": 0,\\n                            \"list_id\": 0\\n                        },\\n                        \"created_at\": \"Sun May 29 10:00:02 +0800 2022\",\\n                        \"id\": \"4774401993868754\",\\n                        \"mid\": \"4774401993868754\",\\n                        \"can_edit\": false,\\n                        \"show_additional_indication\": 0,\\n                        \"text\": \"\\\\u87ba\\\\u86f3\\\\u7c89\\\\u51b0\\\\u68cd\\\\u2026\\\\u2026 \",\\n                        \"textLength\": 14,\\n                        \"source\": \"\\\\u5fae\\\\u535a weibo.com\",\\n                        \"favorited\": false,\\n                        \"pic_ids\": [\\n                            \"001TVDbigy1h2oiq8hxozj60j60jh76002\",\\n                            \"001TVDbigy1h2oiq8kw33j60j60jmgmr02\",\\n                            \"001TVDbigy1h2oiq8h1hwj60j60j8q4202\",\\n                            \"001TVDbigy1h2oiq8hxqnj60j60g7js902\"\\n                        ],\\n                        \"thumbnail_pic\": \"https://wx1.sinaimg.cn/thumbnail/001TVDbigy1h2oiq8hxozj60j60jh76002.jpg\",\\n                        \"bmiddle_pic\": \"http://wx1.sinaimg.cn/bmiddle/001TVDbigy1h2oiq8hxozj60j60jh76002.jpg\",\\n                        \"original_pic\": \"https://wx1.sinaimg.cn/large/001TVDbigy1h2oiq8hxozj60j60jh76002.jpg\",\\n                        \"is_paid\": false,\\n                        \"mblog_vip_type\": 0,\\n                        \"user\": {\\n                            \"id\": 1742566624,\\n                            \"screen_name\": \"\\\\u601d\\\\u60f3\\\\u805a\\\\u7126\",\\n                            \"profile_image_url\": \"https://tvax2.sinaimg.cn/crop.0.0.180.180.180/67dd74e0ly8fvv8h7c3ylj2050050aac.jpg?KID=imgbed,tva&Expires=1657798917&ssig=V7%2BNcRguVq\",\\n                            \"profile_url\": \"https://m.weibo.cn/u/1742566624?uid=1742566624&luicode=10000011&lfid=1076032830678474\",\\n                            \"statuses_count\": 124433,\\n                            \"verified\": true,\\n                            \"verified_type\": 0,\\n                            \"verified_type_ext\": 1,\\n                            \"verified_reason\": \"\\\\u5fae\\\\u535a\\\\u77e5\\\\u540d\\\\u535a\\\\u4e3b \\\\u89c6\\\\u9891\\\\u535a\\\\u4e3b\",\\n                            \"close_blue_v\": false,\\n                            \"description\": \"QQ:3163512220 \\\\u6295\\\\u7a3f\\\\u90ae\\\\u7bb1\\\\uff1a1457107986@qq.com\",\\n                            \"gender\": \"m\",\\n                            \"mbtype\": 12,\\n                            \"urank\": 48,\\n                            \"mbrank\": 7,\\n                            \"follow_me\": false,\\n                            \"following\": false,\\n                            \"follow_count\": 1642,\\n                            \"followers_count\": \"3450.7\\\\u4e07\",\\n                            \"followers_count_str\": \"3450.7\\\\u4e07\",\\n                            \"cover_image_phone\": \"https://tva3.sinaimg.cn/crop.0.0.640.640.640/6ce2240djw1e9oaqhwllzj20hs0hsdir.jpg\",\\n                            \"avatar_hd\": \"https://wx2.sinaimg.cn/orj480/67dd74e0ly8fvv8h7c3ylj2050050aac.jpg\",\\n                            \"like\": false,\\n                            \"like_me\": false,\\n                            \"badge\": {\\n                                \"gongyi_level\": 1,\\n                                \"bind_taobao\": 1,\\n                                \"dailv\": 1,\\n                                \"zongyiji\": 1,\\n                                \"self_media\": 1,\\n                                \"dzwbqlx_2016\": 1,\\n                                \"follow_whitelist_video\": 1,\\n                                \"super_star_2017\": 1,\\n                                \"travel_2017\": 1,\\n                                \"user_name_certificate\": 1,\\n                                \"suishoupai_2018\": 5,\\n                                \"wenchuan_10th\": 1,\\n                                \"super_star_2018\": 1,\\n                                \"worldcup_2018\": 34,\\n                                \"dailv_2018\": 1,\\n                                \"qixi_2018\": 1,\\n                                \"meilizhongguo_2018\": 1,\\n                                \"national_day_2018\": 1,\\n                                \"memorial_2018\": 1,\\n                                \"hongbaofei_2019\": 1,\\n                                \"status_visible\": 1,\\n                                \"suishoupai_2019\": 1,\\n                                \"wusi_2019\": 1,\\n                                \"earth_2019\": 1,\\n                                \"hongrenjie_2019\": 1,\\n                                \"china_2019\": 1,\\n                                \"hongkong_2019\": 1,\\n                                \"rrgyj_2019\": 1,\\n                                \"cishan_2019\": 1,\\n                                \"weishi_2019\": 1,\\n                                \"shuang11_2019\": 1,\\n                                \"gongjiri_2019\": 1,\\n                                \"macao_2019\": 1,\\n                                \"china_2019_2\": 1,\\n                                \"hongbao_2020\": 1,\\n                                \"feiyan_2020\": 1,\\n                                \"hope_2020\": 1,\\n                                \"pc_new\": 6,\\n                                \"dailv_2020\": 1,\\n                                \"school_2020\": 1,\\n                                \"gongyi_2020\": 3,\\n                                \"hongrenjie_2020\": 1,\\n                                \"china_2020\": 1,\\n                                \"hongbaofeifuniu_2021\": 1,\\n                                \"lvzhilingyang_2021\": 1,\\n                                \"yuanlongping_2021\": 1,\\n                                \"ylpshuidao_2021\": 1,\\n                                \"gaokao_2021\": 1,\\n                                \"ouzhoubei_2021\": 24,\\n                                \"biyeji_2021\": 1,\\n                                \"party_cardid_state\": 2,\\n                                \"aoyun_2021\": 1,\\n                                \"kaixue21_2021\": 1,\\n                                \"renrengongyijie_2021\": 1,\\n                                \"yinyuejie21_2021\": 1,\\n                                \"hongbaofei2022_2021\": 2,\\n                                \"newdongaohui_2022\": 1,\\n                                \"nihaochuntian_2022\": 1,\\n                                \"biyeji_2022\": 1,\\n                                \"gaokao_2022\": 1,\\n                                \"hangmu_2022\": 1,\\n                                \"guoqi_2022\": 1,\\n                                \"gangqi_2022\": 1\\n                            }\\n                        },\\n                        \"reposts_count\": 1153,\\n                        \"comments_count\": 1110,\\n                        \"reprint_cmt_count\": 0,\\n                        \"attitudes_count\": 3270,\\n                        \"pending_approval_count\": 0,\\n                        \"isLongText\": false,\\n                        \"mlevel\": 0,\\n                        \"darwin_tags\": [],\\n                        \"hot_page\": {\\n                            \"fid\": \"232532_mblog\",\\n                            \"feed_detail_type\": 0\\n                        },\\n                        \"mblogtype\": 0,\\n                        \"rid\": \"9_0_50_6670129651442252876_0_0_0\",\\n                        \"cardid\": \"star_1573\",\\n                        \"number_display_strategy\": {\\n                            \"apply_scenario_flag\": 3,\\n                            \"display_text_min_number\": 1000000,\\n                            \"display_text\": \"100\\\\u4e07+\"\\n                        },\\n                        \"content_auth\": 0,\\n                        \"safe_tags\": 67108864,\\n                        \"comment_manage_info\": {\\n                            \"comment_permission_type\": -1,\\n                            \"approval_comment_type\": 0,\\n                            \"comment_sort_type\": 0\\n                        },\\n                        \"pic_num\": 4,\\n                        \"new_comment_style\": 0,\\n                        \"region_name\": \"\\\\u53d1\\\\u5e03\\\\u4e8e \\\\u5e7f\\\\u4e1c\",\\n                        \"region_opt\": 1,\\n                        \"edit_config\": {\\n                            \"edited\": false\\n                        },\\n                        \"pics\": [\\n                            {\\n                                \"pid\": \"001TVDbigy1h2oiq8hxozj60j60jh76002\",\\n                                \"url\": \"https://wx1.sinaimg.cn/orj360/001TVDbigy1h2oiq8hxozj60j60jh76002.jpg\",\\n                                \"size\": \"orj360\",\\n                                \"geo\": {\\n                                    \"width\": 360,\\n                                    \"height\": 365,\\n                                    \"croped\": false\\n                                },\\n                                \"large\": {\\n                                    \"size\": \"large\",\\n                                    \"url\": \"https://wx1.sinaimg.cn/large/001TVDbigy1h2oiq8hxozj60j60jh76002.jpg\",\\n                                    \"geo\": {\\n                                        \"width\": \"690\",\\n                                        \"height\": \"701\",\\n                                        \"croped\": false\\n                                    }\\n                                }\\n                            },\\n                            {\\n                                \"pid\": \"001TVDbigy1h2oiq8kw33j60j60jmgmr02\",\\n                                \"url\": \"https://wx1.sinaimg.cn/orj360/001TVDbigy1h2oiq8kw33j60j60jmgmr02.jpg\",\\n                                \"size\": \"orj360\",\\n                                \"geo\": {\\n                                    \"width\": 360,\\n                                    \"height\": 368,\\n                                    \"croped\": false\\n                                },\\n                                \"large\": {\\n                                    \"size\": \"large\",\\n                                    \"url\": \"https://wx1.sinaimg.cn/large/001TVDbigy1h2oiq8kw33j60j60jmgmr02.jpg\",\\n                                    \"geo\": {\\n                                        \"width\": \"690\",\\n                                        \"height\": \"706\",\\n                                        \"croped\": false\\n                                    }\\n                                }\\n                            },\\n                            {\\n                                \"pid\": \"001TVDbigy1h2oiq8h1hwj60j60j8q4202\",\\n                                \"url\": \"https://wx3.sinaimg.cn/orj360/001TVDbigy1h2oiq8h1hwj60j60j8q4202.jpg\",\\n                                \"size\": \"orj360\",\\n                                \"geo\": {\\n                                    \"width\": 360,\\n                                    \"height\": 361,\\n                                    \"croped\": false\\n                                },\\n                                \"large\": {\\n                                    \"size\": \"large\",\\n                                    \"url\": \"https://wx3.sinaimg.cn/large/001TVDbigy1h2oiq8h1hwj60j60j8q4202.jpg\",\\n                                    \"geo\": {\\n                                        \"width\": \"690\",\\n                                        \"height\": \"692\",\\n                                        \"croped\": false\\n                                    }\\n                                }\\n                            },\\n                            {\\n                                \"pid\": \"001TVDbigy1h2oiq8hxqnj60j60g7js902\",\\n                                \"url\": \"https://wx2.sinaimg.cn/orj360/001TVDbigy1h2oiq8hxqnj60j60g7js902.jpg\",\\n                                \"size\": \"orj360\",\\n                                \"geo\": {\\n                                    \"width\": 319,\\n                                    \"height\": 270,\\n                                    \"croped\": false\\n                                },\\n                                \"large\": {\\n                                    \"size\": \"large\",\\n                                    \"url\": \"https://wx2.sinaimg.cn/large/001TVDbigy1h2oiq8hxqnj60j60g7js902.jpg\",\\n                                    \"geo\": {\\n                                        \"width\": \"690\",\\n                                        \"height\": \"583\",\\n                                        \"croped\": false\\n                                    }\\n                                }\\n                            }\\n                        ],\\n                        \"bid\": \"Lvdxdgerg\"\\n                    },\\n                    \"reposts_count\": 0,\\n                    \"comments_count\": 0,\\n                    \"reprint_cmt_count\": 0,\\n                    \"attitudes_count\": 0,\\n                    \"pending_approval_count\": 0,\\n                    \"isLongText\": false,\\n                    \"mlevel\": 0,\\n                    \"darwin_tags\": [],\\n                    \"hot_page\": {\\n                        \"fid\": \"232532_mblog\",\\n                        \"feed_detail_type\": 0\\n                    },\\n                    \"mblogtype\": 0,\\n                    \"rid\": \"9_0_50_6670129651442252876_0_0_0\",\\n                    \"cardid\": \"vip_010\",\\n                    \"extern_safe\": 0,\\n                    \"number_display_strategy\": {\\n                        \"apply_scenario_flag\": 3,\\n                        \"display_text_min_number\": 1000000,\\n                        \"display_text\": \"100\\\\u4e07+\"\\n                    },\\n                    \"content_auth\": 0,\\n                    \"comment_manage_info\": {\\n                        \"comment_permission_type\": -1,\\n                        \"approval_comment_type\": 0,\\n                        \"comment_sort_type\": 0\\n                    },\\n                    \"repost_type\": 1,\\n                    \"pic_num\": 0,\\n                    \"new_comment_style\": 0,\\n                    \"ab_switcher\": 4,\\n                    \"region_name\": \"\\\\u53d1\\\\u5e03\\\\u4e8e \\\\u5317\\\\u4eac\",\\n                    \"region_opt\": 1,\\n                    \"mblog_menu_new_style\": 0,\\n                    \"edit_config\": {\\n                        \"edited\": false\\n                    },\\n                    \"raw_text\": \"[\\\\u4e8c\\\\u54c8][\\\\u4e8c\\\\u54c8][\\\\u4e8c\\\\u54c8]\",\\n                    \"bid\": \"LvdZfCQm7\"\\n                }\\n            }\\n        ],\\n        \"scheme\": \"sinaweibo://cardlist?containerid=1076032830678474&type=uid&value=2830678474&_T_WM=64155236321&v_p=42&luicode=10000011&lfid=1076032830678474\",\\n        \"showAppTips\": 0\\n    }\\n}'"
      ]
     },
     "execution_count": 201,
     "metadata": {},
     "output_type": "execute_result"
    }
   ],
   "source": [
    "import json\n",
    "\n",
    "json.dumps(s, indent=4)"
   ]
  },
  {
   "cell_type": "code",
   "execution_count": 202,
   "id": "e1f7c442",
   "metadata": {},
   "outputs": [
    {
     "name": "stdout",
     "output_type": "stream",
     "text": [
      "{\n",
      "    \"ok\": 1,\n",
      "    \"data\": {\n",
      "        \"cardlistInfo\": {\n",
      "            \"containerid\": \"1076032830678474\",\n",
      "            \"v_p\": 42,\n",
      "            \"show_style\": 1,\n",
      "            \"total\": 198,\n",
      "            \"since_id\": 4774091682746723\n",
      "        },\n",
      "        \"cards\": [\n",
      "            {\n",
      "                \"card_type\": 9,\n",
      "                \"profile_type_id\": \"proweibo_4787545654952441\",\n",
      "                \"itemid\": \"1076032830678474_-_4787545654952441\",\n",
      "                \"scheme\": \"https://m.weibo.cn/status/LAJsFkMm5?mblogid=LAJsFkMm5&luicode=10000011&lfid=1076032830678474\",\n",
      "                \"mblog\": {\n",
      "                    \"visible\": {\n",
      "                        \"type\": 0,\n",
      "                        \"list_id\": 0\n",
      "                    },\n",
      "                    \"created_at\": \"Mon Jul 04 16:28:14 +0800 2022\",\n",
      "                    \"id\": \"4787545654952441\",\n",
      "                    \"mid\": \"4787545654952441\",\n",
      "                    \"can_edit\": false,\n",
      "                    \"show_additional_indication\": 0,\n",
      "                    \"text\": \"\\u8f6c\\u53d1\\u5fae\\u535a\",\n",
      "                    \"source\": \"iPhone 12 Pro Max\",\n",
      "                    \"favorited\": false,\n",
      "                    \"pic_ids\": [],\n",
      "                    \"is_paid\": false,\n",
      "                    \"mblog_vip_type\": 0,\n",
      "                    \"user\": {\n",
      "                        \"id\": 2830678474,\n",
      "                        \"screen_name\": \"\\u5d14\\u5e86\\u624d\\u4e28\\u9759\\u89c5\",\n",
      "                        \"profile_image_url\": \"https://tva3.sinaimg.cn/crop.0.0.458.458.180/a8b8b9cajw8exsgha3l4uj20cq0crmy5.jpg?KID=imgbed,tva&Expires=1657798917&ssig=f9r6AEyfyW\",\n",
      "                        \"profile_url\": \"https://m.weibo.cn/u/2830678474?uid=2830678474&luicode=10000011&lfid=1076032830678474\",\n",
      "                        \"statuses_count\": 2507,\n",
      "                        \"verified\": true,\n",
      "                        \"verified_type\": 0,\n",
      "                        \"verified_type_ext\": 0,\n",
      "                        \"verified_reason\": \"\\u4e92\\u8054\\u7f51\\u79d1\\u6280\\u535a\\u4e3b\",\n",
      "                        \"close_blue_v\": false,\n",
      "                        \"description\": \"cuiqingcai.com\",\n",
      "                        \"gender\": \"m\",\n",
      "                        \"mbtype\": 12,\n",
      "                        \"urank\": 36,\n",
      "                        \"mbrank\": 7,\n",
      "                        \"follow_me\": false,\n",
      "                        \"following\": false,\n",
      "                        \"follow_count\": 1172,\n",
      "                        \"followers_count\": \"1.1\\u4e07\",\n",
      "                        \"followers_count_str\": \"1.1\\u4e07\",\n",
      "                        \"cover_image_phone\": \"https://tva1.sinaimg.cn/crop.0.0.640.640.640/549d0121tw1egm1kjly3jj20hs0hsq4f.jpg\",\n",
      "                        \"avatar_hd\": \"https://ww3.sinaimg.cn/orj480/a8b8b9cajw8exsgha3l4uj20cq0crmy5.jpg\",\n",
      "                        \"like\": false,\n",
      "                        \"like_me\": false,\n",
      "                        \"badge\": {\n",
      "                            \"bind_taobao\": 1,\n",
      "                            \"unread_pool\": 1,\n",
      "                            \"unread_pool_ext\": 1,\n",
      "                            \"dzwbqlx_2016\": 1,\n",
      "                            \"panda\": 1,\n",
      "                            \"user_name_certificate\": 1,\n",
      "                            \"qixi_2018\": 1,\n",
      "                            \"status_visible\": 1,\n",
      "                            \"hongrenjie_2019\": 1,\n",
      "                            \"china_2019\": 1,\n",
      "                            \"hongkong_2019\": 1,\n",
      "                            \"hongbao_2020\": 2,\n",
      "                            \"pc_new\": 7,\n",
      "                            \"party_cardid_state\": 1,\n",
      "                            \"aoyun_2021\": 1\n",
      "                        }\n",
      "                    },\n",
      "                    \"retweeted_status\": {\n",
      "                        \"visible\": {\n",
      "                            \"type\": 0,\n",
      "                            \"list_id\": 0\n",
      "                        },\n",
      "                        \"created_at\": \"Mon Jul 04 11:50:23 +0800 2022\",\n",
      "                        \"id\": \"4787475727520684\",\n",
      "                        \"mid\": \"4787475727520684\",\n",
      "                        \"can_edit\": false,\n",
      "                        \"show_additional_indication\": 0,\n",
      "                        \"text\": \"\\u600e\\u4e48\\u770b\\u5f85\\u963f\\u91cc\\u5df4\\u5df4\\u5173\\u4e8e\\u8981\\u88c1\\u54582\\u4e07\\u4eba\\u56de\\u5e94?<br /><br />\\u6211\\u672c\\u6765\\u662f\\u60f3\\u5b9e\\u540d\\u7684\\uff0c\\u8003\\u8651\\u5230\\u8001\\u4e1c\\u5bb6\\u53ef\\u80fd\\u8fd8\\u662f\\u6709\\u4eba\\u77e5\\u9053\\u6211\\u5728\\u8fd9\\u91cc\\uff0c\\u8fd8\\u662f\\u7b97\\u4e86\\u3002<br /><br />\\u8bf4\\u5b9e\\u8bdd\\uff0c\\u662f\\u597d\\u4e8b\\uff0c\\u662f\\u7ed9\\u8fd92w\\u4eba\\u4e00\\u4e2a\\u673a\\u4f1a\\uff0c\\u73b0\\u5728\\u88c1\\u5458\\u6709\\u8d54\\u507f\\uff0c\\u4f60\\u62ff\\u5230\\u8fd9\\u7b14\\u8d54\\u507f\\u91d1\\u53ef\\u4ee5\\u7ed9\\u81ea\\u5df1\\u4e00\\u4e2a\\u7f13\\u51b2\\u671f\\u3002\\u800c\\u4e14\\uff0c\\u5c31\\u4e1a\\u5e02\\u573a\\u6ca1\\u6709\\u4e4b\\u540e\\u90a3\\u4e48\\u62e5\\u6324\\u3002<br /><br />\\u5148\\u8bf4\\u7ed3\\u8bba\\uff0c\\u540e\\u9762\\u963f\\u91cc\\u5df4\\u5df4\\u5927\\u6982\\u7387\\u662f\\u5206\\u62c6\\u6216\\u8005\\u7834\\u4ea7\\u7684\\u3002<br /><br />\\u6211 ...<a href=\\\"/status/4787475727520684\\\">\\u5168\\u6587</a>\",\n",
      "                        \"textLength\": 1836,\n",
      "                        \"source\": \"\\u8363\\u800030 5G\",\n",
      "                        \"favorited\": false,\n",
      "                        \"pic_ids\": [\n",
      "                            \"5f389265ly1h3ur3r6k3oj20iz0q678o\"\n",
      "                        ],\n",
      "                        \"thumbnail_pic\": \"https://wx1.sinaimg.cn/thumbnail/5f389265ly1h3ur3r6k3oj20iz0q678o.jpg\",\n",
      "                        \"bmiddle_pic\": \"http://wx1.sinaimg.cn/bmiddle/5f389265ly1h3ur3r6k3oj20iz0q678o.jpg\",\n",
      "                        \"original_pic\": \"https://wx1.sinaimg.cn/large/5f389265ly1h3ur3r6k3oj20iz0q678o.jpg\",\n",
      "                        \"is_paid\": false,\n",
      "                        \"mblog_vip_type\": 0,\n",
      "                        \"user\": {\n",
      "                            \"id\": 1597543013,\n",
      "                            \"screen_name\": \"\\u5ef6\\u5411\\u4e1c\",\n",
      "                            \"profile_image_url\": \"https://tvax4.sinaimg.cn/crop.0.0.1080.1080.180/5f389265ly8gy0or3ixb2j20u00u075v.jpg?KID=imgbed,tva&Expires=1657798917&ssig=rA%2BBV8v%2BKg\",\n",
      "                            \"profile_url\": \"https://m.weibo.cn/u/1597543013?uid=1597543013&luicode=10000011&lfid=1076032830678474\",\n",
      "                            \"statuses_count\": 1976,\n",
      "                            \"verified\": true,\n",
      "                            \"verified_type\": 0,\n",
      "                            \"verified_type_ext\": 0,\n",
      "                            \"verified_reason\": \"\\u5934\\u6761\\u6587\\u7ae0\\u4f5c\\u8005\",\n",
      "                            \"close_blue_v\": false,\n",
      "                            \"description\": \"\\u6211\\u601d\\u6545\\u6211\\u5728\",\n",
      "                            \"gender\": \"m\",\n",
      "                            \"mbtype\": 2,\n",
      "                            \"urank\": 30,\n",
      "                            \"mbrank\": 6,\n",
      "                            \"follow_me\": false,\n",
      "                            \"following\": false,\n",
      "                            \"follow_count\": 2165,\n",
      "                            \"followers_count\": \"40\\u4e07\",\n",
      "                            \"followers_count_str\": \"40\\u4e07\",\n",
      "                            \"cover_image_phone\": \"https://tva1.sinaimg.cn/crop.0.0.640.640.640/9d44112bjw1f1xl1c10tuj20hs0hs0tw.jpg\",\n",
      "                            \"avatar_hd\": \"https://wx4.sinaimg.cn/orj480/5f389265ly8gy0or3ixb2j20u00u075v.jpg\",\n",
      "                            \"like\": false,\n",
      "                            \"like_me\": false,\n",
      "                            \"badge\": {\n",
      "                                \"bind_taobao\": 1,\n",
      "                                \"follow_whitelist_video\": 1,\n",
      "                                \"user_name_certificate\": 1,\n",
      "                                \"relation_display\": 1,\n",
      "                                \"fishfarm_2021\": 1,\n",
      "                                \"iplocationchange_2022\": 1\n",
      "                            }\n",
      "                        },\n",
      "                        \"reposts_count\": 10,\n",
      "                        \"comments_count\": 5,\n",
      "                        \"reprint_cmt_count\": 0,\n",
      "                        \"attitudes_count\": 20,\n",
      "                        \"pending_approval_count\": 0,\n",
      "                        \"isLongText\": true,\n",
      "                        \"mlevel\": 0,\n",
      "                        \"darwin_tags\": [],\n",
      "                        \"hot_page\": {\n",
      "                            \"fid\": \"232532_mblog\",\n",
      "                            \"feed_detail_type\": 0\n",
      "                        },\n",
      "                        \"mblogtype\": 0,\n",
      "                        \"rid\": \"0_0_50_6670129651442252876_0_0_0\",\n",
      "                        \"number_display_strategy\": {\n",
      "                            \"apply_scenario_flag\": 3,\n",
      "                            \"display_text_min_number\": 1000000,\n",
      "                            \"display_text\": \"100\\u4e07+\"\n",
      "                        },\n",
      "                        \"content_auth\": 0,\n",
      "                        \"comment_manage_info\": {\n",
      "                            \"comment_permission_type\": -1,\n",
      "                            \"approval_comment_type\": 0,\n",
      "                            \"comment_sort_type\": 0\n",
      "                        },\n",
      "                        \"pic_num\": 1,\n",
      "                        \"new_comment_style\": 0,\n",
      "                        \"region_name\": \"\\u53d1\\u5e03\\u4e8e \\u5317\\u4eac\",\n",
      "                        \"region_opt\": 1,\n",
      "                        \"edit_config\": {\n",
      "                            \"edited\": false\n",
      "                        },\n",
      "                        \"pics\": [\n",
      "                            {\n",
      "                                \"pid\": \"5f389265ly1h3ur3r6k3oj20iz0q678o\",\n",
      "                                \"url\": \"https://wx1.sinaimg.cn/orj360/5f389265ly1h3ur3r6k3oj20iz0q678o.jpg\",\n",
      "                                \"size\": \"orj360\",\n",
      "                                \"geo\": {\n",
      "                                    \"width\": 360,\n",
      "                                    \"height\": 496,\n",
      "                                    \"croped\": false\n",
      "                                },\n",
      "                                \"large\": {\n",
      "                                    \"size\": \"large\",\n",
      "                                    \"url\": \"https://wx1.sinaimg.cn/large/5f389265ly1h3ur3r6k3oj20iz0q678o.jpg\",\n",
      "                                    \"geo\": {\n",
      "                                        \"width\": \"683\",\n",
      "                                        \"height\": \"942\",\n",
      "                                        \"croped\": false\n",
      "                                    }\n",
      "                                }\n",
      "                            }\n",
      "                        ],\n",
      "                        \"bid\": \"LAHDSvytm\"\n",
      "                    },\n",
      "                    \"reposts_count\": 0,\n",
      "                    \"comments_count\": 0,\n",
      "                    \"reprint_cmt_count\": 0,\n",
      "                    \"attitudes_count\": 1,\n",
      "                    \"pending_approval_count\": 0,\n",
      "                    \"isLongText\": false,\n",
      "                    \"mlevel\": 0,\n",
      "                    \"darwin_tags\": [],\n",
      "                    \"hot_page\": {\n",
      "                        \"fid\": \"232532_mblog\",\n",
      "                        \"feed_detail_type\": 0\n",
      "                    },\n",
      "                    \"mblogtype\": 0,\n",
      "                    \"rid\": \"0_0_50_6670129651442252876_0_0_0\",\n",
      "                    \"cardid\": \"vip_010\",\n",
      "                    \"extern_safe\": 0,\n",
      "                    \"number_display_strategy\": {\n",
      "                        \"apply_scenario_flag\": 3,\n",
      "                        \"display_text_min_number\": 1000000,\n",
      "                        \"display_text\": \"100\\u4e07+\"\n",
      "                    },\n",
      "                    \"content_auth\": 0,\n",
      "                    \"comment_manage_info\": {\n",
      "                        \"comment_permission_type\": -1,\n",
      "                        \"approval_comment_type\": 0,\n",
      "                        \"comment_sort_type\": 0\n",
      "                    },\n",
      "                    \"repost_type\": 1,\n",
      "                    \"pic_num\": 0,\n",
      "                    \"new_comment_style\": 0,\n",
      "                    \"ab_switcher\": 4,\n",
      "                    \"region_name\": \"\\u53d1\\u5e03\\u4e8e \\u5317\\u4eac\",\n",
      "                    \"region_opt\": 1,\n",
      "                    \"mblog_menu_new_style\": 0,\n",
      "                    \"edit_config\": {\n",
      "                        \"edited\": false\n",
      "                    },\n",
      "                    \"raw_text\": \"\\u8f6c\\u53d1\\u5fae\\u535a\",\n",
      "                    \"bid\": \"LAJsFkMm5\"\n",
      "                }\n",
      "            },\n",
      "            {\n",
      "                \"card_type\": 9,\n",
      "                \"profile_type_id\": \"proweibo_4787127352559634\",\n",
      "                \"itemid\": \"1076032830678474_-_4787127352559634\",\n",
      "                \"scheme\": \"https://m.weibo.cn/status/LAyzZaJSq?mblogid=LAyzZaJSq&luicode=10000011&lfid=1076032830678474\",\n",
      "                \"mblog\": {\n",
      "                    \"visible\": {\n",
      "                        \"type\": 0,\n",
      "                        \"list_id\": 0\n",
      "                    },\n",
      "                    \"created_at\": \"Sun Jul 03 12:46:04 +0800 2022\",\n",
      "                    \"id\": \"4787127352559634\",\n",
      "                    \"mid\": \"4787127352559634\",\n",
      "                    \"can_edit\": false,\n",
      "                    \"show_additional_indication\": 0,\n",
      "                    \"text\": \"\\u8f6c\\u53d1\\u5fae\\u535a\",\n",
      "                    \"source\": \"iPhone 12 Pro Max\",\n",
      "                    \"favorited\": false,\n",
      "                    \"pic_ids\": [],\n",
      "                    \"is_paid\": false,\n",
      "                    \"mblog_vip_type\": 0,\n",
      "                    \"user\": {\n",
      "                        \"id\": 2830678474,\n",
      "                        \"screen_name\": \"\\u5d14\\u5e86\\u624d\\u4e28\\u9759\\u89c5\",\n",
      "                        \"profile_image_url\": \"https://tva3.sinaimg.cn/crop.0.0.458.458.180/a8b8b9cajw8exsgha3l4uj20cq0crmy5.jpg?KID=imgbed,tva&Expires=1657798917&ssig=f9r6AEyfyW\",\n",
      "                        \"profile_url\": \"https://m.weibo.cn/u/2830678474?uid=2830678474&luicode=10000011&lfid=1076032830678474\",\n",
      "                        \"statuses_count\": 2507,\n",
      "                        \"verified\": true,\n",
      "                        \"verified_type\": 0,\n",
      "                        \"verified_type_ext\": 0,\n",
      "                        \"verified_reason\": \"\\u4e92\\u8054\\u7f51\\u79d1\\u6280\\u535a\\u4e3b\",\n",
      "                        \"close_blue_v\": false,\n",
      "                        \"description\": \"cuiqingcai.com\",\n",
      "                        \"gender\": \"m\",\n",
      "                        \"mbtype\": 12,\n",
      "                        \"urank\": 36,\n",
      "                        \"mbrank\": 7,\n",
      "                        \"follow_me\": false,\n",
      "                        \"following\": false,\n",
      "                        \"follow_count\": 1172,\n",
      "                        \"followers_count\": \"1.1\\u4e07\",\n",
      "                        \"followers_count_str\": \"1.1\\u4e07\",\n",
      "                        \"cover_image_phone\": \"https://tva1.sinaimg.cn/crop.0.0.640.640.640/549d0121tw1egm1kjly3jj20hs0hsq4f.jpg\",\n",
      "                        \"avatar_hd\": \"https://ww3.sinaimg.cn/orj480/a8b8b9cajw8exsgha3l4uj20cq0crmy5.jpg\",\n",
      "                        \"like\": false,\n",
      "                        \"like_me\": false,\n",
      "                        \"badge\": {\n",
      "                            \"bind_taobao\": 1,\n",
      "                            \"unread_pool\": 1,\n",
      "                            \"unread_pool_ext\": 1,\n",
      "                            \"dzwbqlx_2016\": 1,\n",
      "                            \"panda\": 1,\n",
      "                            \"user_name_certificate\": 1,\n",
      "                            \"qixi_2018\": 1,\n",
      "                            \"status_visible\": 1,\n",
      "                            \"hongrenjie_2019\": 1,\n",
      "                            \"china_2019\": 1,\n",
      "                            \"hongkong_2019\": 1,\n",
      "                            \"hongbao_2020\": 2,\n",
      "                            \"pc_new\": 7,\n",
      "                            \"party_cardid_state\": 1,\n",
      "                            \"aoyun_2021\": 1\n",
      "                        }\n",
      "                    },\n",
      "                    \"retweeted_status\": {\n",
      "                        \"visible\": {\n",
      "                            \"type\": 0,\n",
      "                            \"list_id\": 0\n",
      "                        },\n",
      "                        \"created_at\": \"Sun Jul 03 11:08:40 +0800 2022\",\n",
      "                        \"id\": \"4787102842098366\",\n",
      "                        \"mid\": \"4787102842098366\",\n",
      "                        \"can_edit\": false,\n",
      "                        \"show_additional_indication\": 0,\n",
      "                        \"text\": \"\\u6211\\u5224\\u65ad\\u4ee5\\u540e\\u5404\\u5927\\u57ce\\u5e02\\u90fd\\u4f1a\\u4e89\\u62a2\\u4e24\\u7c7b\\u4eba\\u624d\\uff0c1\\uff09\\u9ad8\\u5b66\\u5386\\u6bd5\\u4e1a\\u751f 2\\uff09\\u9ad8\\u6c34\\u5e73\\u521b\\u4e1a\\u8005 \\u3002\\u539f\\u56e0\\u5f88\\u7b80\\u5355\\uff0c\\u8fd9\\u4e9b\\u4eba\\u80fd\\u4e70\\u623f\\uff0c\\u571f\\u5730\\u8d22\\u653f\\u80fdrun\\u4e0b\\u53bb\\uff1b\\u89e3\\u51b3\\u548c\\u5e26\\u52a8\\u5c31\\u4e1a\\uff0c\\u57ce\\u5e02\\u6d3b\\u529b\\u80fd\\u8d77\\u6765\\u3002\\u6211\\u5927\\u80c6\\u9884\\u6d4b\\u672a\\u6765\\u5305\\u62ec\\u5317\\u4e0a\\u90fd\\u4f1a\\u8ba9985\\u6bd5\\u4e1a\\u751f\\u65e0\\u6761\\u4ef6\\u843d\\u6237\\uff1b\\u521b\\u4e1a\\u8001\\u677f\\u89e3\\u51b3xx\\u4eba\\u5c31\\u4e1a\\u76f4\\u63a5\\u843d\\u6237\\uff1b\\u7eb3\\u7a0exx\\u5143\\u76f4\\u63a5\\u843d\\u6237\\u3002\\u674e\\u94c1\\u4e3a\\u8bc1\\uff0c\\u5176\\u4ed6\\u4e8c\\u7ebf\\u57ce\\u5e02\\u4f1a\\u8d8a\\u6765\\u8d8a\\u96be\\uff0c\\u53ea ...<a href=\\\"/status/4787102842098366\\\">\\u5168\\u6587</a>\",\n",
      "                        \"textLength\": 306,\n",
      "                        \"source\": \"iPhone 13 Pro Max\",\n",
      "                        \"favorited\": false,\n",
      "                        \"pic_ids\": [],\n",
      "                        \"is_paid\": false,\n",
      "                        \"mblog_vip_type\": 0,\n",
      "                        \"user\": {\n",
      "                            \"id\": 2131170823,\n",
      "                            \"screen_name\": \"\\u6881\\u535apenny\",\n",
      "                            \"profile_image_url\": \"https://tva2.sinaimg.cn/crop.0.0.180.180.180/7f071607jw1e8qgp5bmzyj2050050aa8.jpg?KID=imgbed,tva&Expires=1657798917&ssig=jPI4DdyfD9\",\n",
      "                            \"profile_url\": \"https://m.weibo.cn/u/2131170823?uid=2131170823&luicode=10000011&lfid=1076032830678474\",\n",
      "                            \"statuses_count\": 2737,\n",
      "                            \"verified\": false,\n",
      "                            \"verified_type\": -1,\n",
      "                            \"close_blue_v\": false,\n",
      "                            \"description\": \"\\u5317\\u4eac\\u516b\\u53cb\\u79d1\\u6280\\u8054\\u5408\\u521b\\u59cb\\u4eba\\uff0c\\u6e05\\u534e\\u5927\\u5b66\\u8ba1\\u7b97\\u673a\\u4eba\\u5de5\\u667a\\u80fd\\u535a\\u58eb\\uff0c\\u521b\\u4e1a\\u8005\\uff0c\\u8be6\\u60c5\\u89c1\\uff1ahttp://www.pennyliang.com/\",\n",
      "                            \"gender\": \"m\",\n",
      "                            \"mbtype\": 12,\n",
      "                            \"urank\": 22,\n",
      "                            \"mbrank\": 4,\n",
      "                            \"follow_me\": false,\n",
      "                            \"following\": false,\n",
      "                            \"follow_count\": 1095,\n",
      "                            \"followers_count\": \"12\\u4e07\",\n",
      "                            \"followers_count_str\": \"12\\u4e07\",\n",
      "                            \"cover_image_phone\": \"https://tva1.sinaimg.cn/crop.0.0.640.640.640/549d0121tw1egm1kjly3jj20hs0hsq4f.jpg\",\n",
      "                            \"avatar_hd\": \"https://ww2.sinaimg.cn/orj480/7f071607jw1e8qgp5bmzyj2050050aa8.jpg\",\n",
      "                            \"like\": false,\n",
      "                            \"like_me\": false,\n",
      "                            \"badge\": {\n",
      "                                \"user_name_certificate\": 1,\n",
      "                                \"weibo_display_fans\": 1,\n",
      "                                \"relation_display\": 1,\n",
      "                                \"status_visible\": 1,\n",
      "                                \"pc_new\": 7,\n",
      "                                \"pc_experiment\": 1,\n",
      "                                \"city_university\": 10,\n",
      "                                \"gaokao_2022\": 1,\n",
      "                                \"hangmu_2022\": 1\n",
      "                            }\n",
      "                        },\n",
      "                        \"reposts_count\": 68,\n",
      "                        \"comments_count\": 89,\n",
      "                        \"reprint_cmt_count\": 0,\n",
      "                        \"attitudes_count\": 278,\n",
      "                        \"pending_approval_count\": 0,\n",
      "                        \"isLongText\": true,\n",
      "                        \"mlevel\": 0,\n",
      "                        \"darwin_tags\": [],\n",
      "                        \"hot_page\": {\n",
      "                            \"fid\": \"232532_mblog\",\n",
      "                            \"feed_detail_type\": 0\n",
      "                        },\n",
      "                        \"mblogtype\": 0,\n",
      "                        \"rid\": \"1_0_50_6670129651442252876_0_0_0\",\n",
      "                        \"number_display_strategy\": {\n",
      "                            \"apply_scenario_flag\": 3,\n",
      "                            \"display_text_min_number\": 1000000,\n",
      "                            \"display_text\": \"100\\u4e07+\"\n",
      "                        },\n",
      "                        \"content_auth\": 0,\n",
      "                        \"safe_tags\": 34359738368,\n",
      "                        \"comment_manage_info\": {\n",
      "                            \"comment_permission_type\": -1,\n",
      "                            \"approval_comment_type\": 0,\n",
      "                            \"comment_sort_type\": 0\n",
      "                        },\n",
      "                        \"pic_num\": 0,\n",
      "                        \"new_comment_style\": 0,\n",
      "                        \"region_name\": \"\\u53d1\\u5e03\\u4e8e \\u6c5f\\u82cf\",\n",
      "                        \"region_opt\": 1,\n",
      "                        \"edit_config\": {\n",
      "                            \"edited\": false\n",
      "                        },\n",
      "                        \"bid\": \"LAxWs8NSC\"\n",
      "                    },\n",
      "                    \"reposts_count\": 0,\n",
      "                    \"comments_count\": 0,\n",
      "                    \"reprint_cmt_count\": 0,\n",
      "                    \"attitudes_count\": 0,\n",
      "                    \"pending_approval_count\": 0,\n",
      "                    \"isLongText\": false,\n",
      "                    \"mlevel\": 0,\n",
      "                    \"darwin_tags\": [],\n",
      "                    \"hot_page\": {\n",
      "                        \"fid\": \"232532_mblog\",\n",
      "                        \"feed_detail_type\": 0\n",
      "                    },\n",
      "                    \"mblogtype\": 0,\n",
      "                    \"rid\": \"1_0_50_6670129651442252876_0_0_0\",\n",
      "                    \"cardid\": \"vip_010\",\n",
      "                    \"extern_safe\": 0,\n",
      "                    \"number_display_strategy\": {\n",
      "                        \"apply_scenario_flag\": 3,\n",
      "                        \"display_text_min_number\": 1000000,\n",
      "                        \"display_text\": \"100\\u4e07+\"\n",
      "                    },\n",
      "                    \"content_auth\": 0,\n",
      "                    \"comment_manage_info\": {\n",
      "                        \"comment_permission_type\": -1,\n",
      "                        \"approval_comment_type\": 0,\n",
      "                        \"comment_sort_type\": 0\n",
      "                    },\n",
      "                    \"repost_type\": 1,\n",
      "                    \"pic_num\": 0,\n",
      "                    \"new_comment_style\": 0,\n",
      "                    \"ab_switcher\": 4,\n",
      "                    \"region_name\": \"\\u53d1\\u5e03\\u4e8e \\u5317\\u4eac\",\n",
      "                    \"region_opt\": 1,\n",
      "                    \"mblog_menu_new_style\": 0,\n",
      "                    \"edit_config\": {\n",
      "                        \"edited\": false\n",
      "                    },\n",
      "                    \"raw_text\": \"\\u8f6c\\u53d1\\u5fae\\u535a\",\n",
      "                    \"bid\": \"LAyzZaJSq\"\n",
      "                }\n",
      "            },\n",
      "            {\n",
      "                \"card_type\": 9,\n",
      "                \"profile_type_id\": \"proweibo_4779505241821018\",\n",
      "                \"itemid\": \"1076032830678474_-_4779505241821018\",\n",
      "                \"scheme\": \"https://m.weibo.cn/status/Lxmig7DJg?mblogid=Lxmig7DJg&luicode=10000011&lfid=1076032830678474\",\n",
      "                \"mblog\": {\n",
      "                    \"visible\": {\n",
      "                        \"type\": 0,\n",
      "                        \"list_id\": 0\n",
      "                    },\n",
      "                    \"created_at\": \"Sun Jun 12 11:58:31 +0800 2022\",\n",
      "                    \"id\": \"4779505241821018\",\n",
      "                    \"mid\": \"4779505241821018\",\n",
      "                    \"can_edit\": false,\n",
      "                    \"show_additional_indication\": 0,\n",
      "                    \"text\": \"\\u53cd\\u4eba\\u7c7b\\u7684\\u7535\\u68af\\u8bbe\\u8ba1\\uff0c\\u4f46\\u60f3\\u60f3\\u4e5f\\u53ef\\u4ee5\\u7406\\u89e3\\u3002<span class=\\\"url-icon\\\"><img alt=[\\u4e8c\\u54c8] src=\\\"https://h5.sinaimg.cn/m/emoticon/icon/others/d_erha-139d0e07bd.png\\\" style=\\\"width:1em; height:1em;\\\" /></span> <a  href=\\\"https://video.weibo.com/show?fid=1034:4779505139777624\\\" data-hide=\\\"\\\"><span class='url-icon'><img style='width: 1rem;height: 1rem' src='https://h5.sinaimg.cn/upload/2015/09/25/3/timeline_card_small_video_default.png'></span><span class=\\\"surl-text\\\">\\u5d14\\u5e86\\u624d\\u4e28\\u9759\\u89c5\\u7684\\u5fae\\u535a\\u89c6\\u9891</span></a> \",\n",
      "                    \"textLength\": 63,\n",
      "                    \"source\": \"\\u5fae\\u535a\\u89c6\\u9891\\u53f7\",\n",
      "                    \"favorited\": false,\n",
      "                    \"pic_ids\": [],\n",
      "                    \"is_paid\": false,\n",
      "                    \"mblog_vip_type\": 0,\n",
      "                    \"user\": {\n",
      "                        \"id\": 2830678474,\n",
      "                        \"screen_name\": \"\\u5d14\\u5e86\\u624d\\u4e28\\u9759\\u89c5\",\n",
      "                        \"profile_image_url\": \"https://tva3.sinaimg.cn/crop.0.0.458.458.180/a8b8b9cajw8exsgha3l4uj20cq0crmy5.jpg?KID=imgbed,tva&Expires=1657798917&ssig=f9r6AEyfyW\",\n",
      "                        \"profile_url\": \"https://m.weibo.cn/u/2830678474?uid=2830678474&luicode=10000011&lfid=1076032830678474\",\n",
      "                        \"statuses_count\": 2507,\n",
      "                        \"verified\": true,\n",
      "                        \"verified_type\": 0,\n",
      "                        \"verified_type_ext\": 0,\n",
      "                        \"verified_reason\": \"\\u4e92\\u8054\\u7f51\\u79d1\\u6280\\u535a\\u4e3b\",\n",
      "                        \"close_blue_v\": false,\n",
      "                        \"description\": \"cuiqingcai.com\",\n",
      "                        \"gender\": \"m\",\n",
      "                        \"mbtype\": 12,\n",
      "                        \"urank\": 36,\n",
      "                        \"mbrank\": 7,\n",
      "                        \"follow_me\": false,\n",
      "                        \"following\": false,\n",
      "                        \"follow_count\": 1172,\n",
      "                        \"followers_count\": \"1.1\\u4e07\",\n",
      "                        \"followers_count_str\": \"1.1\\u4e07\",\n",
      "                        \"cover_image_phone\": \"https://tva1.sinaimg.cn/crop.0.0.640.640.640/549d0121tw1egm1kjly3jj20hs0hsq4f.jpg\",\n",
      "                        \"avatar_hd\": \"https://ww3.sinaimg.cn/orj480/a8b8b9cajw8exsgha3l4uj20cq0crmy5.jpg\",\n",
      "                        \"like\": false,\n",
      "                        \"like_me\": false,\n",
      "                        \"badge\": {\n",
      "                            \"bind_taobao\": 1,\n",
      "                            \"unread_pool\": 1,\n",
      "                            \"unread_pool_ext\": 1,\n",
      "                            \"dzwbqlx_2016\": 1,\n",
      "                            \"panda\": 1,\n",
      "                            \"user_name_certificate\": 1,\n",
      "                            \"qixi_2018\": 1,\n",
      "                            \"status_visible\": 1,\n",
      "                            \"hongrenjie_2019\": 1,\n",
      "                            \"china_2019\": 1,\n",
      "                            \"hongkong_2019\": 1,\n",
      "                            \"hongbao_2020\": 2,\n",
      "                            \"pc_new\": 7,\n",
      "                            \"party_cardid_state\": 1,\n",
      "                            \"aoyun_2021\": 1\n",
      "                        }\n",
      "                    },\n",
      "                    \"reposts_count\": 0,\n",
      "                    \"comments_count\": 3,\n",
      "                    \"reprint_cmt_count\": 0,\n",
      "                    \"attitudes_count\": 0,\n",
      "                    \"pending_approval_count\": 0,\n",
      "                    \"isLongText\": false,\n",
      "                    \"mlevel\": 0,\n",
      "                    \"darwin_tags\": [],\n",
      "                    \"hot_page\": {\n",
      "                        \"fid\": \"232532_mblog\",\n",
      "                        \"feed_detail_type\": 0\n",
      "                    },\n",
      "                    \"mblogtype\": 0,\n",
      "                    \"rid\": \"2_0_50_6670129651442252876_0_0_0\",\n",
      "                    \"cardid\": \"vip_010\",\n",
      "                    \"extern_safe\": 0,\n",
      "                    \"number_display_strategy\": {\n",
      "                        \"apply_scenario_flag\": 3,\n",
      "                        \"display_text_min_number\": 1000000,\n",
      "                        \"display_text\": \"100\\u4e07+\"\n",
      "                    },\n",
      "                    \"content_auth\": 0,\n",
      "                    \"safe_tags\": 524288,\n",
      "                    \"comment_manage_info\": {\n",
      "                        \"comment_permission_type\": -1,\n",
      "                        \"approval_comment_type\": 0,\n",
      "                        \"comment_sort_type\": 0\n",
      "                    },\n",
      "                    \"pic_num\": 0,\n",
      "                    \"fid\": 4779505154785300,\n",
      "                    \"new_comment_style\": 0,\n",
      "                    \"ab_switcher\": 4,\n",
      "                    \"region_name\": \"\\u53d1\\u5e03\\u4e8e \\u5317\\u4eac\",\n",
      "                    \"region_opt\": 1,\n",
      "                    \"mblog_menu_new_style\": 0,\n",
      "                    \"edit_config\": {\n",
      "                        \"edited\": false\n",
      "                    },\n",
      "                    \"page_info\": {\n",
      "                        \"type\": \"video\",\n",
      "                        \"object_type\": 11,\n",
      "                        \"url_ori\": \"http://t.cn/A6XktAcg\",\n",
      "                        \"page_pic\": {\n",
      "                            \"width\": 480,\n",
      "                            \"pid\": \"a8b8b9caly1h35bpeboe2j20u01hc0xh\",\n",
      "                            \"source\": 21,\n",
      "                            \"is_self_cover\": 0,\n",
      "                            \"type\": 0,\n",
      "                            \"url\": \"https://wx2.sinaimg.cn/orj480/a8b8b9caly1h35bpeboe2j20u01hc0xh.jpg\",\n",
      "                            \"height\": 853\n",
      "                        },\n",
      "                        \"page_url\": \"https://video.weibo.com/show?fid=1034%3A4779505139777624&luicode=10000011&lfid=1076032830678474\",\n",
      "                        \"object_id\": \"1034:4779505139777624\",\n",
      "                        \"page_title\": \"\\u5d14\\u5e86\\u624d\\u4e28\\u9759\\u89c5\\u7684\\u5fae\\u535a\\u89c6\\u9891\",\n",
      "                        \"title\": \"\",\n",
      "                        \"content1\": \"\\u5d14\\u5e86\\u624d\\u4e28\\u9759\\u89c5\\u7684\\u5fae\\u535a\\u89c6\\u9891\",\n",
      "                        \"content2\": \"\\u53cd\\u4eba\\u7c7b\\u7684\\u7535\\u68af\\u8bbe\\u8ba1\\uff0c\\u4f46\\u60f3\\u60f3\\u4e5f\\u53ef\\u4ee5\\u7406\\u89e3\\u3002[\\u4e8c\\u54c8]\",\n",
      "                        \"video_orientation\": \"vertical\",\n",
      "                        \"play_count\": \"1231\\u6b21\\u64ad\\u653e\",\n",
      "                        \"media_info\": {\n",
      "                            \"stream_url\": \"https://f.video.weibocdn.com/o0/q6zqr7gblx07WMGFUd6w010412000HZi0E010.mp4?label=mp4_ld&template=360x640.24.0&ori=0&ps=1CwnkDw1GXwCQx&Expires=1657791717&ssig=bkbSd4I68%2F&KID=unistore,video\",\n",
      "                            \"stream_url_hd\": \"https://f.video.weibocdn.com/o0/rWMSnW8Plx07WMGG1eCY010412001BlY0E010.mp4?label=mp4_hd&template=540x960.24.0&ori=0&ps=1CwnkDw1GXwCQx&Expires=1657791717&ssig=j3TZpI2IsJ&KID=unistore,video\",\n",
      "                            \"duration\": 4.363\n",
      "                        },\n",
      "                        \"urls\": {\n",
      "                            \"mp4_720p_mp4\": \"https://f.video.weibocdn.com/o0/WXy34Jyzlx07WMGFKD9u010412002Fxo0E010.mp4?label=mp4_720p&template=720x1280.24.0&ori=0&ps=1CwnkDw1GXwCQx&Expires=1657791717&ssig=AnO9tnTJ7o&KID=unistore,video\",\n",
      "                            \"mp4_hd_mp4\": \"https://f.video.weibocdn.com/o0/rWMSnW8Plx07WMGG1eCY010412001BlY0E010.mp4?label=mp4_hd&template=540x960.24.0&ori=0&ps=1CwnkDw1GXwCQx&Expires=1657791717&ssig=j3TZpI2IsJ&KID=unistore,video\",\n",
      "                            \"mp4_ld_mp4\": \"https://f.video.weibocdn.com/o0/q6zqr7gblx07WMGFUd6w010412000HZi0E010.mp4?label=mp4_ld&template=360x640.24.0&ori=0&ps=1CwnkDw1GXwCQx&Expires=1657791717&ssig=bkbSd4I68%2F&KID=unistore,video\"\n",
      "                        }\n",
      "                    },\n",
      "                    \"bid\": \"Lxmig7DJg\"\n",
      "                }\n",
      "            },\n",
      "            {\n",
      "                \"card_type\": 9,\n",
      "                \"profile_type_id\": \"proweibo_4779479290872945\",\n",
      "                \"itemid\": \"1076032830678474_-_4779479290872945\",\n",
      "                \"scheme\": \"https://m.weibo.cn/status/LxlCp3F5L?mblogid=LxlCp3F5L&luicode=10000011&lfid=1076032830678474\",\n",
      "                \"mblog\": {\n",
      "                    \"visible\": {\n",
      "                        \"type\": 0,\n",
      "                        \"list_id\": 0\n",
      "                    },\n",
      "                    \"created_at\": \"Sun Jun 12 10:15:23 +0800 2022\",\n",
      "                    \"id\": \"4779479290872945\",\n",
      "                    \"mid\": \"4779479290872945\",\n",
      "                    \"can_edit\": false,\n",
      "                    \"show_additional_indication\": 0,\n",
      "                    \"text\": \"<span class=\\\"url-icon\\\"><img alt=\\\"[\\u82e6\\u6da9]\\\" src=\\\"https://face.t.sinajs.cn/t4/appstyle/expression/ext/normal/7e/2021_bitter_org.png\\\" style=\\\"width:1em; height:1em;\\\" /></span>//<a href='/n/\\u6881\\u535apenny'>@\\u6881\\u535apenny</a>:<span class=\\\"url-icon\\\"><img alt=[\\u6cea] src=\\\"https://h5.sinaimg.cn/m/emoticon/icon/default/d_lei-4cdf6ee412.png\\\" style=\\\"width:1em; height:1em;\\\" /></span>//<a href='/n/\\u7b80\\u6728\\u751f--\\u64b0\\u7a3f\\u8005'>@\\u7b80\\u6728\\u751f--\\u64b0\\u7a3f\\u8005</a>://<a href='/n/\\u59da\\u5e7f\\u5b5d_wayne'>@\\u59da\\u5e7f\\u5b5d_wayne</a> :\\u641c\\u4e86\\u4e00\\u4e0b\\uff0c\\u786e\\u5b9e\\u6709\\u76f8\\u5e94\\u7684\\u62a5\\u9053\\uff1a<a  href=\\\"https://weibo.cn/sinaurl?u=http%3A%2F%2Fwww.jcrb.com%2Ffzttb%2Fdfmt%2F200908%2Ft20090828_256723.html\\\" data-hide=\\\"\\\"><span class='url-icon'><img style='width: 1rem;height: 1rem' src='https://h5.sinaimg.cn/upload/2015/09/25/3/timeline_card_small_web_default.png'></span><span class=\\\"surl-text\\\">\\u7f51\\u9875\\u94fe\\u63a5</span></a>\",\n",
      "                    \"source\": \"iPhone 12 Pro Max\",\n",
      "                    \"favorited\": false,\n",
      "                    \"pic_ids\": [],\n",
      "                    \"is_paid\": false,\n",
      "                    \"mblog_vip_type\": 0,\n",
      "                    \"user\": {\n",
      "                        \"id\": 2830678474,\n",
      "                        \"screen_name\": \"\\u5d14\\u5e86\\u624d\\u4e28\\u9759\\u89c5\",\n",
      "                        \"profile_image_url\": \"https://tva3.sinaimg.cn/crop.0.0.458.458.180/a8b8b9cajw8exsgha3l4uj20cq0crmy5.jpg?KID=imgbed,tva&Expires=1657798917&ssig=f9r6AEyfyW\",\n",
      "                        \"profile_url\": \"https://m.weibo.cn/u/2830678474?uid=2830678474&luicode=10000011&lfid=1076032830678474\",\n",
      "                        \"statuses_count\": 2507,\n",
      "                        \"verified\": true,\n",
      "                        \"verified_type\": 0,\n",
      "                        \"verified_type_ext\": 0,\n",
      "                        \"verified_reason\": \"\\u4e92\\u8054\\u7f51\\u79d1\\u6280\\u535a\\u4e3b\",\n",
      "                        \"close_blue_v\": false,\n",
      "                        \"description\": \"cuiqingcai.com\",\n",
      "                        \"gender\": \"m\",\n",
      "                        \"mbtype\": 12,\n",
      "                        \"urank\": 36,\n",
      "                        \"mbrank\": 7,\n",
      "                        \"follow_me\": false,\n",
      "                        \"following\": false,\n",
      "                        \"follow_count\": 1172,\n",
      "                        \"followers_count\": \"1.1\\u4e07\",\n",
      "                        \"followers_count_str\": \"1.1\\u4e07\",\n",
      "                        \"cover_image_phone\": \"https://tva1.sinaimg.cn/crop.0.0.640.640.640/549d0121tw1egm1kjly3jj20hs0hsq4f.jpg\",\n",
      "                        \"avatar_hd\": \"https://ww3.sinaimg.cn/orj480/a8b8b9cajw8exsgha3l4uj20cq0crmy5.jpg\",\n",
      "                        \"like\": false,\n",
      "                        \"like_me\": false,\n",
      "                        \"badge\": {\n",
      "                            \"bind_taobao\": 1,\n",
      "                            \"unread_pool\": 1,\n",
      "                            \"unread_pool_ext\": 1,\n",
      "                            \"dzwbqlx_2016\": 1,\n",
      "                            \"panda\": 1,\n",
      "                            \"user_name_certificate\": 1,\n",
      "                            \"qixi_2018\": 1,\n",
      "                            \"status_visible\": 1,\n",
      "                            \"hongrenjie_2019\": 1,\n",
      "                            \"china_2019\": 1,\n",
      "                            \"hongkong_2019\": 1,\n",
      "                            \"hongbao_2020\": 2,\n",
      "                            \"pc_new\": 7,\n",
      "                            \"party_cardid_state\": 1,\n",
      "                            \"aoyun_2021\": 1\n",
      "                        }\n",
      "                    },\n",
      "                    \"pid\": 4779438288406183,\n",
      "                    \"pidstr\": \"4779438288406183\",\n",
      "                    \"retweeted_status\": {\n",
      "                        \"visible\": {\n",
      "                            \"type\": 0,\n",
      "                            \"list_id\": 0\n",
      "                        },\n",
      "                        \"created_at\": \"Sat Jun 11 15:32:29 +0800 2022\",\n",
      "                        \"id\": \"4779196699641377\",\n",
      "                        \"mid\": \"4779196699641377\",\n",
      "                        \"can_edit\": false,\n",
      "                        \"show_additional_indication\": 0,\n",
      "                        \"text\": \"\\u5510\\u5c71\\u7684\\u4e8b\\u60c5\\u8fd9\\u4e24\\u5929\\u95f9\\u5f97\\u5f88\\u5927\\uff0c\\u6709\\u4eba\\u8bf4\\u4e3a\\u4ec0\\u4e48\\u6ca1\\u4eba\\u89c1\\u4e49\\u52c7\\u4e3a\\u3002\\u8fd9\\u662f\\u6211\\u5728\\u5929\\u6d25\\u9ad8\\u94c1\\u7ad9\\u62cd\\u5230\\u7684\\uff0c\\u8fd9\\u4e2a\\u4eba\\u89c1\\u4e49\\u52c7\\u4e3a\\uff0c\\u6551\\u4e86\\u4e24\\u4e2a\\u5973\\u5b69\\uff0c\\u81ea\\u5df1\\u88ab\\u6253\\u6b8b\\u4e86\\uff0c\\u6ca1\\u8d54\\u507f\\uff0c\\u7f6a\\u72af\\u4e5f\\u6ca1\\u88ab\\u7ef3\\u4e4b\\u4ee5\\u6cd5\\u3002 \",\n",
      "                        \"textLength\": 150,\n",
      "                        \"source\": \"\\u5fae\\u535a\\u8f7b\\u4eab\\u7248\",\n",
      "                        \"favorited\": false,\n",
      "                        \"pic_ids\": [\n",
      "                            \"4910bb43gy1h34c9rnc8yj20u01uok8o\"\n",
      "                        ],\n",
      "                        \"thumbnail_pic\": \"https://wx4.sinaimg.cn/thumbnail/4910bb43gy1h34c9rnc8yj20u01uok8o.jpg\",\n",
      "                        \"bmiddle_pic\": \"http://wx4.sinaimg.cn/bmiddle/4910bb43gy1h34c9rnc8yj20u01uok8o.jpg\",\n",
      "                        \"original_pic\": \"https://wx4.sinaimg.cn/large/4910bb43gy1h34c9rnc8yj20u01uok8o.jpg\",\n",
      "                        \"is_paid\": false,\n",
      "                        \"mblog_vip_type\": 0,\n",
      "                        \"user\": {\n",
      "                            \"id\": 1225833283,\n",
      "                            \"screen_name\": \"\\u5b64\\u72ec\\u5ddd\\u9675\",\n",
      "                            \"profile_image_url\": \"https://tvax1.sinaimg.cn/crop.0.0.1080.1080.180/4910bb43ly8h39lpgdg4tj20u00u0gr9.jpg?KID=imgbed,tva&Expires=1657798917&ssig=HhOOJpmJve\",\n",
      "                            \"profile_url\": \"https://m.weibo.cn/u/1225833283?uid=1225833283&luicode=10000011&lfid=1076032830678474\",\n",
      "                            \"statuses_count\": 8461,\n",
      "                            \"verified\": true,\n",
      "                            \"verified_type\": 0,\n",
      "                            \"verified_type_ext\": 1,\n",
      "                            \"verified_reason\": \"\\u65b0\\u6d6a\\u535a\\u5ba2\\u65c5\\u6e38\\u535a\\u4e3b \\u65b0\\u52a0\\u5761\\u4f5c\\u5bb6\\u534f\\u4f1a\\u4f1a\\u5458\",\n",
      "                            \"close_blue_v\": false,\n",
      "                            \"description\": \"\\u8d70\\u8fc7\\u5730\\u65b9\\u6700\\u591a\\u7684\\u4eba\\u7c7b\\u4e4b\\u4e00\\uff0c\\u6e38\\u5386\\u4e03\\u5927\\u6d32203\\u4e2a\\u56fd\\u5bb6\\u548c\\u5730\\u533a\\u3002\\u6e05\\u534e\\u5927\\u5b66\\uff0c\\u65b0\\u52a0\\u5761\\u56fd\\u7acb\\u5927\\u5b66\\uff0c\\u5357\\u6d0b\\u7406\\u5de5\\u5927\\u5b66\\u6821\\u53cb\\uff0c\\u65b0\\u52a0\\u5761\\u4f5c\\u5bb6\\u534f\\u4f1a\\u4f5c\\u5bb6\\u3002mkx2046@gmail.com\",\n",
      "                            \"gender\": \"m\",\n",
      "                            \"mbtype\": 11,\n",
      "                            \"urank\": 28,\n",
      "                            \"mbrank\": 6,\n",
      "                            \"follow_me\": false,\n",
      "                            \"following\": false,\n",
      "                            \"follow_count\": 47,\n",
      "                            \"followers_count\": \"7.8\\u4e07\",\n",
      "                            \"followers_count_str\": \"7.8\\u4e07\",\n",
      "                            \"cover_image_phone\": \"https://wx3.sinaimg.cn/crop.0.0.640.640.640/4910bb43gy1h35pld36lmj20u00u07al.jpg\",\n",
      "                            \"avatar_hd\": \"https://wx1.sinaimg.cn/orj480/4910bb43ly8h39lpgdg4tj20u00u0gr9.jpg\",\n",
      "                            \"like\": false,\n",
      "                            \"like_me\": false,\n",
      "                            \"badge\": {\n",
      "                                \"bind_taobao\": 1,\n",
      "                                \"unread_pool\": 1,\n",
      "                                \"unread_pool_ext\": 1,\n",
      "                                \"dzwbqlx_2016\": 1,\n",
      "                                \"follow_whitelist_video\": 1,\n",
      "                                \"user_name_certificate\": 1,\n",
      "                                \"wenchuan_10th\": 1,\n",
      "                                \"relation_display\": 1,\n",
      "                                \"pc_new\": 7,\n",
      "                                \"yuanlongping_2021\": 1,\n",
      "                                \"guoqi_2022\": 1,\n",
      "                                \"gangqi_2022\": 1\n",
      "                            }\n",
      "                        },\n",
      "                        \"reposts_count\": 228248,\n",
      "                        \"comments_count\": 4724,\n",
      "                        \"reprint_cmt_count\": 0,\n",
      "                        \"attitudes_count\": 244977,\n",
      "                        \"pending_approval_count\": 0,\n",
      "                        \"isLongText\": false,\n",
      "                        \"mlevel\": 0,\n",
      "                        \"expire_time\": 1654984070,\n",
      "                        \"ad_state\": 1,\n",
      "                        \"darwin_tags\": [],\n",
      "                        \"hot_page\": {\n",
      "                            \"fid\": \"232532_mblog\",\n",
      "                            \"feed_detail_type\": 0\n",
      "                        },\n",
      "                        \"mblogtype\": 0,\n",
      "                        \"mark\": \"999_reallog_mark_ad:999|WeiboADNatural\",\n",
      "                        \"rid\": \"3_0_50_6670129651442252876_0_0_0\",\n",
      "                        \"number_display_strategy\": {\n",
      "                            \"apply_scenario_flag\": 3,\n",
      "                            \"display_text_min_number\": 1000000,\n",
      "                            \"display_text\": \"100\\u4e07+\"\n",
      "                        },\n",
      "                        \"content_auth\": 0,\n",
      "                        \"safe_tags\": 4294967360,\n",
      "                        \"comment_manage_info\": {\n",
      "                            \"comment_permission_type\": -1,\n",
      "                            \"approval_comment_type\": 0,\n",
      "                            \"comment_sort_type\": 0\n",
      "                        },\n",
      "                        \"pic_num\": 1,\n",
      "                        \"new_comment_style\": 0,\n",
      "                        \"region_name\": \"\\u53d1\\u5e03\\u4e8e \\u65b0\\u52a0\\u5761\",\n",
      "                        \"region_opt\": 1,\n",
      "                        \"edit_config\": {\n",
      "                            \"edited\": false\n",
      "                        },\n",
      "                        \"pics\": [\n",
      "                            {\n",
      "                                \"pid\": \"4910bb43gy1h34c9rnc8yj20u01uok8o\",\n",
      "                                \"url\": \"https://wx4.sinaimg.cn/orj360/4910bb43gy1h34c9rnc8yj20u01uok8o.jpg\",\n",
      "                                \"size\": \"orj360\",\n",
      "                                \"geo\": {\n",
      "                                    \"width\": 360,\n",
      "                                    \"height\": 800,\n",
      "                                    \"croped\": false\n",
      "                                },\n",
      "                                \"large\": {\n",
      "                                    \"size\": \"large\",\n",
      "                                    \"url\": \"https://wx4.sinaimg.cn/large/4910bb43gy1h34c9rnc8yj20u01uok8o.jpg\",\n",
      "                                    \"geo\": {\n",
      "                                        \"width\": \"1080\",\n",
      "                                        \"height\": \"2400\",\n",
      "                                        \"croped\": false\n",
      "                                    }\n",
      "                                }\n",
      "                            }\n",
      "                        ],\n",
      "                        \"bid\": \"LxegBEsa5\"\n",
      "                    },\n",
      "                    \"reposts_count\": 3,\n",
      "                    \"comments_count\": 0,\n",
      "                    \"reprint_cmt_count\": 0,\n",
      "                    \"attitudes_count\": 4,\n",
      "                    \"pending_approval_count\": 0,\n",
      "                    \"isLongText\": false,\n",
      "                    \"mlevel\": 0,\n",
      "                    \"darwin_tags\": [],\n",
      "                    \"hot_page\": {\n",
      "                        \"fid\": \"232532_mblog\",\n",
      "                        \"feed_detail_type\": 0\n",
      "                    },\n",
      "                    \"mblogtype\": 0,\n",
      "                    \"mark\": \"999_reallog_mark_ad:999|WeiboADNatural\",\n",
      "                    \"rid\": \"3_0_50_6670129651442252876_0_0_0\",\n",
      "                    \"cardid\": \"vip_010\",\n",
      "                    \"extern_safe\": 0,\n",
      "                    \"number_display_strategy\": {\n",
      "                        \"apply_scenario_flag\": 3,\n",
      "                        \"display_text_min_number\": 1000000,\n",
      "                        \"display_text\": \"100\\u4e07+\"\n",
      "                    },\n",
      "                    \"content_auth\": 0,\n",
      "                    \"safe_tags\": 32,\n",
      "                    \"comment_manage_info\": {\n",
      "                        \"comment_permission_type\": -1,\n",
      "                        \"approval_comment_type\": 0,\n",
      "                        \"comment_sort_type\": 0\n",
      "                    },\n",
      "                    \"repost_type\": 1,\n",
      "                    \"pic_num\": 0,\n",
      "                    \"new_comment_style\": 0,\n",
      "                    \"ab_switcher\": 4,\n",
      "                    \"region_name\": \"\\u53d1\\u5e03\\u4e8e \\u5317\\u4eac\",\n",
      "                    \"region_opt\": 1,\n",
      "                    \"mblog_menu_new_style\": 0,\n",
      "                    \"edit_config\": {\n",
      "                        \"edited\": false\n",
      "                    },\n",
      "                    \"raw_text\": \"[\\u82e6\\u6da9]//@\\u6881\\u535apenny:[\\u6cea]//@\\u7b80\\u6728\\u751f--\\u64b0\\u7a3f\\u8005://@\\u59da\\u5e7f\\u5b5d_wayne :\\u641c\\u4e86\\u4e00\\u4e0b\\uff0c\\u786e\\u5b9e\\u6709\\u76f8\\u5e94\\u7684\\u62a5\\u9053\\uff1ahttp://t.cn/zOg2xfn\",\n",
      "                    \"bid\": \"LxlCp3F5L\"\n",
      "                }\n",
      "            },\n",
      "            {\n",
      "                \"card_type\": 9,\n",
      "                \"profile_type_id\": \"proweibo_4777608590131929\",\n",
      "                \"itemid\": \"1076032830678474_-_4777608590131929\",\n",
      "                \"scheme\": \"https://m.weibo.cn/status/LwyX90yjT?mblogid=LwyX90yjT&luicode=10000011&lfid=1076032830678474\",\n",
      "                \"mblog\": {\n",
      "                    \"visible\": {\n",
      "                        \"type\": 0,\n",
      "                        \"list_id\": 0\n",
      "                    },\n",
      "                    \"created_at\": \"Tue Jun 07 06:21:54 +0800 2022\",\n",
      "                    \"id\": \"4777608590131929\",\n",
      "                    \"mid\": \"4777608590131929\",\n",
      "                    \"can_edit\": false,\n",
      "                    \"show_additional_indication\": 0,\n",
      "                    \"text\": \"\\u6628\\u5929\\u5c45\\u7136\\u5fd8\\u4e86\\u770b\\u4e86\\u3002<span class=\\\"url-icon\\\"><img alt=[\\u5141\\u60b2] src=\\\"https://h5.sinaimg.cn/m/emoticon/icon/default/d_yunbei-a14a649db8.png\\\" style=\\\"width:1em; height:1em;\\\" /></span><span class=\\\"url-icon\\\"><img alt=[\\u5141\\u60b2] src=\\\"https://h5.sinaimg.cn/m/emoticon/icon/default/d_yunbei-a14a649db8.png\\\" style=\\\"width:1em; height:1em;\\\" /></span><span class=\\\"url-icon\\\"><img alt=[\\u5141\\u60b2] src=\\\"https://h5.sinaimg.cn/m/emoticon/icon/default/d_yunbei-a14a649db8.png\\\" style=\\\"width:1em; height:1em;\\\" /></span>\",\n",
      "                    \"source\": \"iPhone 12 Pro Max\",\n",
      "                    \"favorited\": false,\n",
      "                    \"pic_ids\": [],\n",
      "                    \"is_paid\": false,\n",
      "                    \"mblog_vip_type\": 0,\n",
      "                    \"user\": {\n",
      "                        \"id\": 2830678474,\n",
      "                        \"screen_name\": \"\\u5d14\\u5e86\\u624d\\u4e28\\u9759\\u89c5\",\n",
      "                        \"profile_image_url\": \"https://tva3.sinaimg.cn/crop.0.0.458.458.180/a8b8b9cajw8exsgha3l4uj20cq0crmy5.jpg?KID=imgbed,tva&Expires=1657798917&ssig=f9r6AEyfyW\",\n",
      "                        \"profile_url\": \"https://m.weibo.cn/u/2830678474?uid=2830678474&luicode=10000011&lfid=1076032830678474\",\n",
      "                        \"statuses_count\": 2507,\n",
      "                        \"verified\": true,\n",
      "                        \"verified_type\": 0,\n",
      "                        \"verified_type_ext\": 0,\n",
      "                        \"verified_reason\": \"\\u4e92\\u8054\\u7f51\\u79d1\\u6280\\u535a\\u4e3b\",\n",
      "                        \"close_blue_v\": false,\n",
      "                        \"description\": \"cuiqingcai.com\",\n",
      "                        \"gender\": \"m\",\n",
      "                        \"mbtype\": 12,\n",
      "                        \"urank\": 36,\n",
      "                        \"mbrank\": 7,\n",
      "                        \"follow_me\": false,\n",
      "                        \"following\": false,\n",
      "                        \"follow_count\": 1172,\n",
      "                        \"followers_count\": \"1.1\\u4e07\",\n",
      "                        \"followers_count_str\": \"1.1\\u4e07\",\n",
      "                        \"cover_image_phone\": \"https://tva1.sinaimg.cn/crop.0.0.640.640.640/549d0121tw1egm1kjly3jj20hs0hsq4f.jpg\",\n",
      "                        \"avatar_hd\": \"https://ww3.sinaimg.cn/orj480/a8b8b9cajw8exsgha3l4uj20cq0crmy5.jpg\",\n",
      "                        \"like\": false,\n",
      "                        \"like_me\": false,\n",
      "                        \"badge\": {\n",
      "                            \"bind_taobao\": 1,\n",
      "                            \"unread_pool\": 1,\n",
      "                            \"unread_pool_ext\": 1,\n",
      "                            \"dzwbqlx_2016\": 1,\n",
      "                            \"panda\": 1,\n",
      "                            \"user_name_certificate\": 1,\n",
      "                            \"qixi_2018\": 1,\n",
      "                            \"status_visible\": 1,\n",
      "                            \"hongrenjie_2019\": 1,\n",
      "                            \"china_2019\": 1,\n",
      "                            \"hongkong_2019\": 1,\n",
      "                            \"hongbao_2020\": 2,\n",
      "                            \"pc_new\": 7,\n",
      "                            \"party_cardid_state\": 1,\n",
      "                            \"aoyun_2021\": 1\n",
      "                        }\n",
      "                    },\n",
      "                    \"retweeted_status\": {\n",
      "                        \"visible\": {\n",
      "                            \"type\": 0,\n",
      "                            \"list_id\": 0\n",
      "                        },\n",
      "                        \"created_at\": \"Tue Jun 07 05:02:58 +0800 2022\",\n",
      "                        \"id\": \"4777588725383490\",\n",
      "                        \"mid\": \"4777588725383490\",\n",
      "                        \"can_edit\": false,\n",
      "                        \"show_additional_indication\": 0,\n",
      "                        \"text\": \"\\u82f9\\u679ciOS16\\u53d1\\u5e03\\u4f1a\\u901f\\u770b\\uff01\\u4e24\\u6b3e\\u7b14\\u8bb0\\u672c\\u53d1\\u5e03 wwdc2022\\u3010\\u90a3\\u5ca9\\u3011\\u79d1\\u6280\\u7f8e\\u5b66 \\u82f9\\u679cM2\\u82af\\u7247\\u518d\\u5347\\u7ea7macbook  <a  href=\\\"https://video.weibo.com/show?fid=1034:4777586124062743\\\" data-hide=\\\"\\\"><span class='url-icon'><img style='width: 1rem;height: 1rem' src='https://h5.sinaimg.cn/upload/2015/09/25/3/timeline_card_small_video_default.png'></span><span class=\\\"surl-text\\\">\\u90a3\\u5ca9\\u7684\\u5fae\\u535a\\u89c6\\u9891</span></a> \",\n",
      "                        \"textLength\": 106,\n",
      "                        \"source\": \"\\u5fae\\u535a\\u89c6\\u9891\\u53f7\",\n",
      "                        \"favorited\": false,\n",
      "                        \"pic_ids\": [],\n",
      "                        \"is_paid\": false,\n",
      "                        \"mblog_vip_type\": 0,\n",
      "                        \"user\": {\n",
      "                            \"id\": 5640157596,\n",
      "                            \"screen_name\": \"\\u90a3\\u5ca9\",\n",
      "                            \"profile_image_url\": \"https://tvax1.sinaimg.cn/crop.141.268.696.696.180/0069HwDOly1fcz2ncvf7gj30xc15oamg.jpg?KID=imgbed,tva&Expires=1657798917&ssig=pdmf4l3IS8\",\n",
      "                            \"profile_url\": \"https://m.weibo.cn/u/5640157596?uid=5640157596&luicode=10000011&lfid=1076032830678474\",\n",
      "                            \"statuses_count\": 2965,\n",
      "                            \"verified\": true,\n",
      "                            \"verified_type\": 0,\n",
      "                            \"verified_type_ext\": 1,\n",
      "                            \"verified_reason\": \"\\u79d1\\u6280\\u7f8e\\u5b66\\u521b\\u59cb\\u4eba\",\n",
      "                            \"close_blue_v\": false,\n",
      "                            \"description\": \"\\u79d1\\u6280\\u7f8e\\u5b66\\uff0c\\u5e0c\\u671b\\u5e0c\\u671b\\u4e00\\u76f4\\u4e3a\\u5927\\u5bb6\\u670d\\u52a1\",\n",
      "                            \"gender\": \"m\",\n",
      "                            \"mbtype\": 12,\n",
      "                            \"urank\": 33,\n",
      "                            \"mbrank\": 7,\n",
      "                            \"follow_me\": false,\n",
      "                            \"following\": false,\n",
      "                            \"follow_count\": 859,\n",
      "                            \"followers_count\": \"213.9\\u4e07\",\n",
      "                            \"followers_count_str\": \"213.9\\u4e07\",\n",
      "                            \"cover_image_phone\": \"https://tva1.sinaimg.cn/crop.0.0.640.640.640/549d0121tw1egm1kjly3jj20hs0hsq4f.jpg\",\n",
      "                            \"avatar_hd\": \"https://wx1.sinaimg.cn/orj480/0069HwDOly1fcz2ncvf7gj30xc15oamg.jpg\",\n",
      "                            \"like\": false,\n",
      "                            \"like_me\": false,\n",
      "                            \"badge\": {\n",
      "                                \"vip_activity2\": 4,\n",
      "                                \"video_attention\": 4,\n",
      "                                \"user_name_certificate\": 1,\n",
      "                                \"weibo_display_fans\": 1,\n",
      "                                \"relation_display\": 1,\n",
      "                                \"status_visible\": 1,\n",
      "                                \"china_2019\": 1,\n",
      "                                \"hongkong_2019\": 1,\n",
      "                                \"gongjiri_2019\": 1,\n",
      "                                \"pc_new\": 6,\n",
      "                                \"school_2020\": 1,\n",
      "                                \"hongrenjie_2020\": 1,\n",
      "                                \"gaokao_2021\": 1\n",
      "                            }\n",
      "                        },\n",
      "                        \"reposts_count\": 77,\n",
      "                        \"comments_count\": 88,\n",
      "                        \"reprint_cmt_count\": 0,\n",
      "                        \"attitudes_count\": 818,\n",
      "                        \"pending_approval_count\": 0,\n",
      "                        \"isLongText\": false,\n",
      "                        \"mlevel\": 0,\n",
      "                        \"expire_time\": 1654600068,\n",
      "                        \"ad_state\": 1,\n",
      "                        \"darwin_tags\": [],\n",
      "                        \"hot_page\": {\n",
      "                            \"fid\": \"232532_mblog\",\n",
      "                            \"feed_detail_type\": 0\n",
      "                        },\n",
      "                        \"mblogtype\": 0,\n",
      "                        \"mark\": \"999_reallog_mark_ad:999|WeiboADNatural\",\n",
      "                        \"rid\": \"4_0_50_6670129651442252876_0_0_0\",\n",
      "                        \"number_display_strategy\": {\n",
      "                            \"apply_scenario_flag\": 3,\n",
      "                            \"display_text_min_number\": 1000000,\n",
      "                            \"display_text\": \"100\\u4e07+\"\n",
      "                        },\n",
      "                        \"content_auth\": 0,\n",
      "                        \"safe_tags\": 524288,\n",
      "                        \"comment_manage_info\": {\n",
      "                            \"comment_permission_type\": -1,\n",
      "                            \"approval_comment_type\": 0,\n",
      "                            \"comment_sort_type\": 0\n",
      "                        },\n",
      "                        \"pic_num\": 0,\n",
      "                        \"fid\": 4777587632242699,\n",
      "                        \"new_comment_style\": 0,\n",
      "                        \"region_name\": \"\\u53d1\\u5e03\\u4e8e \\u9ed1\\u9f99\\u6c5f\",\n",
      "                        \"region_opt\": 1,\n",
      "                        \"edit_config\": {\n",
      "                            \"edited\": false\n",
      "                        },\n",
      "                        \"page_info\": {\n",
      "                            \"type\": \"video\",\n",
      "                            \"object_type\": 11,\n",
      "                            \"url_ori\": \"http://t.cn/A6XECsNu\",\n",
      "                            \"page_pic\": {\n",
      "                                \"width\": 3840,\n",
      "                                \"pid\": \"0069HwDOly1h2z7bhlsdwj31hc0u0dj3\",\n",
      "                                \"source\": 1,\n",
      "                                \"is_self_cover\": 1,\n",
      "                                \"type\": 1,\n",
      "                                \"url\": \"https://wx1.sinaimg.cn/crop.0.6.1920.1067/0069HwDOly1h2z7bhlsdwj31hc0u0dj3.jpg\",\n",
      "                                \"height\": 2134\n",
      "                            },\n",
      "                            \"page_url\": \"https://video.weibo.com/show?fid=1034%3A4777586124062743&luicode=10000011&lfid=1076032830678474\",\n",
      "                            \"object_id\": \"1034:4777586124062743\",\n",
      "                            \"page_title\": \"\\u90a3\\u5ca9\\u7684\\u5fae\\u535a\\u89c6\\u9891\",\n",
      "                            \"title\": \"\\u82f9\\u679ciOS16\\u53d1\\u5e03\\u4f1a\\u901f\\u770b\\uff01\\u4e24\\u6b3e\\u7b14\\u8bb0\\u672c\\u53d1\\u5e03 wwdc2022\\u3010\\u90a3\\u5ca9\\u3011\\u79d1\\u6280\\u7f8e\\u5b66\",\n",
      "                            \"content1\": \"\\u90a3\\u5ca9\\u7684\\u5fae\\u535a\\u89c6\\u9891\",\n",
      "                            \"content2\": \"\\u82f9\\u679ciOS16\\u53d1\\u5e03\\u4f1a\\u901f\\u770b\\uff01\\u4e24\\u6b3e\\u7b14\\u8bb0\\u672c\\u53d1\\u5e03 wwdc2022\\u3010\\u90a3\\u5ca9\\u3011\\u79d1\\u6280\\u7f8e\\u5b66 \\u82f9\\u679cM2\\u82af\\u7247\\u518d\\u5347\\u7ea7macbook\",\n",
      "                            \"video_orientation\": \"horizontal\",\n",
      "                            \"play_count\": \"35\\u4e07\\u6b21\\u64ad\\u653e\",\n",
      "                            \"media_info\": {\n",
      "                                \"stream_url\": \"https://f.video.weibocdn.com/o0/Sxwb2qM1lx07WEfEGeti01041201FlSz0E010.mp4?label=mp4_ld&template=640x360.25.0&ori=0&ps=1CwnkDw1GXwCQx&Expires=1657791717&ssig=5Nr1j3%2FMlB&KID=unistore,video\",\n",
      "                                \"stream_url_hd\": \"https://f.video.weibocdn.com/o0/gRz9Qxiolx07WEfEXyaI01041202Dof30E010.mp4?label=mp4_hd&template=852x480.25.0&ori=0&ps=1CwnkDw1GXwCQx&Expires=1657791717&ssig=xa%2BRV61J8a&KID=unistore,video\",\n",
      "                                \"duration\": 1071.947\n",
      "                            },\n",
      "                            \"urls\": {\n",
      "                                \"mp4_720p_mp4\": \"https://f.video.weibocdn.com/o0/0RSjrtcJlx07WEfG7pdS010412059uvL0E020.mp4?label=mp4_720p&template=1280x720.25.0&ori=0&ps=1CwnkDw1GXwCQx&Expires=1657791717&ssig=phBLv0mnpR&KID=unistore,video\",\n",
      "                                \"mp4_hd_mp4\": \"https://f.video.weibocdn.com/o0/gRz9Qxiolx07WEfEXyaI01041202Dof30E010.mp4?label=mp4_hd&template=852x480.25.0&ori=0&ps=1CwnkDw1GXwCQx&Expires=1657791717&ssig=xa%2BRV61J8a&KID=unistore,video\",\n",
      "                                \"mp4_ld_mp4\": \"https://f.video.weibocdn.com/o0/Sxwb2qM1lx07WEfEGeti01041201FlSz0E010.mp4?label=mp4_ld&template=640x360.25.0&ori=0&ps=1CwnkDw1GXwCQx&Expires=1657791717&ssig=5Nr1j3%2FMlB&KID=unistore,video\"\n",
      "                            }\n",
      "                        },\n",
      "                        \"bid\": \"Lwyr6mAuu\"\n",
      "                    },\n",
      "                    \"reposts_count\": 0,\n",
      "                    \"comments_count\": 0,\n",
      "                    \"reprint_cmt_count\": 0,\n",
      "                    \"attitudes_count\": 0,\n",
      "                    \"pending_approval_count\": 0,\n",
      "                    \"isLongText\": false,\n",
      "                    \"mlevel\": 0,\n",
      "                    \"darwin_tags\": [],\n",
      "                    \"hot_page\": {\n",
      "                        \"fid\": \"232532_mblog\",\n",
      "                        \"feed_detail_type\": 0\n",
      "                    },\n",
      "                    \"mblogtype\": 0,\n",
      "                    \"mark\": \"999_reallog_mark_ad:999|WeiboADNatural\",\n",
      "                    \"rid\": \"4_0_50_6670129651442252876_0_0_0\",\n",
      "                    \"cardid\": \"vip_010\",\n",
      "                    \"extern_safe\": 0,\n",
      "                    \"number_display_strategy\": {\n",
      "                        \"apply_scenario_flag\": 3,\n",
      "                        \"display_text_min_number\": 1000000,\n",
      "                        \"display_text\": \"100\\u4e07+\"\n",
      "                    },\n",
      "                    \"content_auth\": 0,\n",
      "                    \"comment_manage_info\": {\n",
      "                        \"comment_permission_type\": -1,\n",
      "                        \"approval_comment_type\": 0,\n",
      "                        \"comment_sort_type\": 0\n",
      "                    },\n",
      "                    \"repost_type\": 1,\n",
      "                    \"pic_num\": 0,\n",
      "                    \"new_comment_style\": 0,\n",
      "                    \"ab_switcher\": 4,\n",
      "                    \"region_name\": \"\\u53d1\\u5e03\\u4e8e \\u5317\\u4eac\",\n",
      "                    \"region_opt\": 1,\n",
      "                    \"mblog_menu_new_style\": 0,\n",
      "                    \"edit_config\": {\n",
      "                        \"edited\": false\n",
      "                    },\n",
      "                    \"raw_text\": \"\\u6628\\u5929\\u5c45\\u7136\\u5fd8\\u4e86\\u770b\\u4e86\\u3002[\\u5141\\u60b2][\\u5141\\u60b2][\\u5141\\u60b2]\",\n",
      "                    \"bid\": \"LwyX90yjT\"\n",
      "                }\n",
      "            },\n",
      "            {\n",
      "                \"card_type\": 9,\n",
      "                \"profile_type_id\": \"proweibo_4777496082648163\",\n",
      "                \"itemid\": \"1076032830678474_-_4777496082648163\",\n",
      "                \"scheme\": \"https://m.weibo.cn/status/Lww1Gb6Uj?mblogid=Lww1Gb6Uj&luicode=10000011&lfid=1076032830678474\",\n",
      "                \"mblog\": {\n",
      "                    \"visible\": {\n",
      "                        \"type\": 0,\n",
      "                        \"list_id\": 0\n",
      "                    },\n",
      "                    \"created_at\": \"Mon Jun 06 22:54:50 +0800 2022\",\n",
      "                    \"id\": \"4777496082648163\",\n",
      "                    \"mid\": \"4777496082648163\",\n",
      "                    \"can_edit\": false,\n",
      "                    \"show_additional_indication\": 0,\n",
      "                    \"text\": \"\\u7ec8\\u4e8e\\u53ef\\u4ee5\\u5802\\u98df\\u4e86\\uff0c\\u8212\\u670d\\u3002<span class=\\\"url-icon\\\"><img alt=\\\"[666]\\\" src=\\\"https://face.t.sinajs.cn/t4/appstyle/expression/ext/normal/6c/2022_666_org.png\\\" style=\\\"width:1em; height:1em;\\\" /></span> \",\n",
      "                    \"textLength\": 27,\n",
      "                    \"source\": \"iPhone 12 Pro Max\",\n",
      "                    \"favorited\": false,\n",
      "                    \"pic_ids\": [\n",
      "                        \"a8b8b9caly1h2ywygdnjrj213u0hv13a\"\n",
      "                    ],\n",
      "                    \"thumbnail_pic\": \"https://wx3.sinaimg.cn/thumbnail/a8b8b9caly1h2ywygdnjrj213u0hv13a.jpg\",\n",
      "                    \"bmiddle_pic\": \"http://wx3.sinaimg.cn/bmiddle/a8b8b9caly1h2ywygdnjrj213u0hv13a.jpg\",\n",
      "                    \"original_pic\": \"https://wx3.sinaimg.cn/large/a8b8b9caly1h2ywygdnjrj213u0hv13a.jpg\",\n",
      "                    \"is_paid\": false,\n",
      "                    \"mblog_vip_type\": 0,\n",
      "                    \"user\": {\n",
      "                        \"id\": 2830678474,\n",
      "                        \"screen_name\": \"\\u5d14\\u5e86\\u624d\\u4e28\\u9759\\u89c5\",\n",
      "                        \"profile_image_url\": \"https://tva3.sinaimg.cn/crop.0.0.458.458.180/a8b8b9cajw8exsgha3l4uj20cq0crmy5.jpg?KID=imgbed,tva&Expires=1657798917&ssig=f9r6AEyfyW\",\n",
      "                        \"profile_url\": \"https://m.weibo.cn/u/2830678474?uid=2830678474&luicode=10000011&lfid=1076032830678474\",\n",
      "                        \"statuses_count\": 2507,\n",
      "                        \"verified\": true,\n",
      "                        \"verified_type\": 0,\n",
      "                        \"verified_type_ext\": 0,\n",
      "                        \"verified_reason\": \"\\u4e92\\u8054\\u7f51\\u79d1\\u6280\\u535a\\u4e3b\",\n",
      "                        \"close_blue_v\": false,\n",
      "                        \"description\": \"cuiqingcai.com\",\n",
      "                        \"gender\": \"m\",\n",
      "                        \"mbtype\": 12,\n",
      "                        \"urank\": 36,\n",
      "                        \"mbrank\": 7,\n",
      "                        \"follow_me\": false,\n",
      "                        \"following\": false,\n",
      "                        \"follow_count\": 1172,\n",
      "                        \"followers_count\": \"1.1\\u4e07\",\n",
      "                        \"followers_count_str\": \"1.1\\u4e07\",\n",
      "                        \"cover_image_phone\": \"https://tva1.sinaimg.cn/crop.0.0.640.640.640/549d0121tw1egm1kjly3jj20hs0hsq4f.jpg\",\n",
      "                        \"avatar_hd\": \"https://ww3.sinaimg.cn/orj480/a8b8b9cajw8exsgha3l4uj20cq0crmy5.jpg\",\n",
      "                        \"like\": false,\n",
      "                        \"like_me\": false,\n",
      "                        \"badge\": {\n",
      "                            \"bind_taobao\": 1,\n",
      "                            \"unread_pool\": 1,\n",
      "                            \"unread_pool_ext\": 1,\n",
      "                            \"dzwbqlx_2016\": 1,\n",
      "                            \"panda\": 1,\n",
      "                            \"user_name_certificate\": 1,\n",
      "                            \"qixi_2018\": 1,\n",
      "                            \"status_visible\": 1,\n",
      "                            \"hongrenjie_2019\": 1,\n",
      "                            \"china_2019\": 1,\n",
      "                            \"hongkong_2019\": 1,\n",
      "                            \"hongbao_2020\": 2,\n",
      "                            \"pc_new\": 7,\n",
      "                            \"party_cardid_state\": 1,\n",
      "                            \"aoyun_2021\": 1\n",
      "                        }\n",
      "                    },\n",
      "                    \"picStatus\": \"0:1\",\n",
      "                    \"reposts_count\": 0,\n",
      "                    \"comments_count\": 0,\n",
      "                    \"reprint_cmt_count\": 0,\n",
      "                    \"attitudes_count\": 0,\n",
      "                    \"pending_approval_count\": 0,\n",
      "                    \"isLongText\": false,\n",
      "                    \"mlevel\": 0,\n",
      "                    \"darwin_tags\": [],\n",
      "                    \"hot_page\": {\n",
      "                        \"fid\": \"232532_mblog\",\n",
      "                        \"feed_detail_type\": 0\n",
      "                    },\n",
      "                    \"mblogtype\": 0,\n",
      "                    \"rid\": \"5_0_50_6670129651442252876_0_0_0\",\n",
      "                    \"cardid\": \"vip_010\",\n",
      "                    \"extern_safe\": 0,\n",
      "                    \"number_display_strategy\": {\n",
      "                        \"apply_scenario_flag\": 3,\n",
      "                        \"display_text_min_number\": 1000000,\n",
      "                        \"display_text\": \"100\\u4e07+\"\n",
      "                    },\n",
      "                    \"content_auth\": 0,\n",
      "                    \"comment_manage_info\": {\n",
      "                        \"comment_permission_type\": -1,\n",
      "                        \"approval_comment_type\": 0,\n",
      "                        \"comment_sort_type\": 0\n",
      "                    },\n",
      "                    \"pic_num\": 1,\n",
      "                    \"new_comment_style\": 0,\n",
      "                    \"ab_switcher\": 4,\n",
      "                    \"region_name\": \"\\u53d1\\u5e03\\u4e8e \\u5317\\u4eac\",\n",
      "                    \"region_opt\": 1,\n",
      "                    \"mblog_menu_new_style\": 0,\n",
      "                    \"edit_config\": {\n",
      "                        \"edited\": false\n",
      "                    },\n",
      "                    \"pics\": [\n",
      "                        {\n",
      "                            \"pid\": \"a8b8b9caly1h2ywygdnjrj213u0hv13a\",\n",
      "                            \"url\": \"https://wx3.sinaimg.cn/orj360/a8b8b9caly1h2ywygdnjrj213u0hv13a.jpg\",\n",
      "                            \"size\": \"orj360\",\n",
      "                            \"geo\": {\n",
      "                                \"width\": 602,\n",
      "                                \"height\": 270,\n",
      "                                \"croped\": false\n",
      "                            },\n",
      "                            \"large\": {\n",
      "                                \"size\": \"large\",\n",
      "                                \"url\": \"https://wx3.sinaimg.cn/large/a8b8b9caly1h2ywygdnjrj213u0hv13a.jpg\",\n",
      "                                \"geo\": {\n",
      "                                    \"width\": \"1434\",\n",
      "                                    \"height\": \"643\",\n",
      "                                    \"croped\": false\n",
      "                                }\n",
      "                            }\n",
      "                        }\n",
      "                    ],\n",
      "                    \"bid\": \"Lww1Gb6Uj\"\n",
      "                }\n",
      "            },\n",
      "            {\n",
      "                \"card_type\": 9,\n",
      "                \"profile_type_id\": \"proweibo_4776020123063600\",\n",
      "                \"itemid\": \"1076032830678474_-_4776020123063600\",\n",
      "                \"scheme\": \"https://m.weibo.cn/status/LvTD6cQYU?mblogid=LvTD6cQYU&luicode=10000011&lfid=1076032830678474\",\n",
      "                \"mblog\": {\n",
      "                    \"visible\": {\n",
      "                        \"type\": 0,\n",
      "                        \"list_id\": 0\n",
      "                    },\n",
      "                    \"created_at\": \"Thu Jun 02 21:09:54 +0800 2022\",\n",
      "                    \"id\": \"4776020123063600\",\n",
      "                    \"mid\": \"4776020123063600\",\n",
      "                    \"can_edit\": false,\n",
      "                    \"show_additional_indication\": 0,\n",
      "                    \"text\": \"<span class=\\\"url-icon\\\"><img alt=[\\u998b\\u5634] src=\\\"https://h5.sinaimg.cn/m/emoticon/icon/default/d_chanzui-fc1acc341b.png\\\" style=\\\"width:1em; height:1em;\\\" /></span>\",\n",
      "                    \"source\": \"iPhone 12 Pro Max\",\n",
      "                    \"favorited\": false,\n",
      "                    \"pic_ids\": [],\n",
      "                    \"is_paid\": false,\n",
      "                    \"mblog_vip_type\": 0,\n",
      "                    \"user\": {\n",
      "                        \"id\": 2830678474,\n",
      "                        \"screen_name\": \"\\u5d14\\u5e86\\u624d\\u4e28\\u9759\\u89c5\",\n",
      "                        \"profile_image_url\": \"https://tva3.sinaimg.cn/crop.0.0.458.458.180/a8b8b9cajw8exsgha3l4uj20cq0crmy5.jpg?KID=imgbed,tva&Expires=1657798917&ssig=f9r6AEyfyW\",\n",
      "                        \"profile_url\": \"https://m.weibo.cn/u/2830678474?uid=2830678474&luicode=10000011&lfid=1076032830678474\",\n",
      "                        \"statuses_count\": 2507,\n",
      "                        \"verified\": true,\n",
      "                        \"verified_type\": 0,\n",
      "                        \"verified_type_ext\": 0,\n",
      "                        \"verified_reason\": \"\\u4e92\\u8054\\u7f51\\u79d1\\u6280\\u535a\\u4e3b\",\n",
      "                        \"close_blue_v\": false,\n",
      "                        \"description\": \"cuiqingcai.com\",\n",
      "                        \"gender\": \"m\",\n",
      "                        \"mbtype\": 12,\n",
      "                        \"urank\": 36,\n",
      "                        \"mbrank\": 7,\n",
      "                        \"follow_me\": false,\n",
      "                        \"following\": false,\n",
      "                        \"follow_count\": 1172,\n",
      "                        \"followers_count\": \"1.1\\u4e07\",\n",
      "                        \"followers_count_str\": \"1.1\\u4e07\",\n",
      "                        \"cover_image_phone\": \"https://tva1.sinaimg.cn/crop.0.0.640.640.640/549d0121tw1egm1kjly3jj20hs0hsq4f.jpg\",\n",
      "                        \"avatar_hd\": \"https://ww3.sinaimg.cn/orj480/a8b8b9cajw8exsgha3l4uj20cq0crmy5.jpg\",\n",
      "                        \"like\": false,\n",
      "                        \"like_me\": false,\n",
      "                        \"badge\": {\n",
      "                            \"bind_taobao\": 1,\n",
      "                            \"unread_pool\": 1,\n",
      "                            \"unread_pool_ext\": 1,\n",
      "                            \"dzwbqlx_2016\": 1,\n",
      "                            \"panda\": 1,\n",
      "                            \"user_name_certificate\": 1,\n",
      "                            \"qixi_2018\": 1,\n",
      "                            \"status_visible\": 1,\n",
      "                            \"hongrenjie_2019\": 1,\n",
      "                            \"china_2019\": 1,\n",
      "                            \"hongkong_2019\": 1,\n",
      "                            \"hongbao_2020\": 2,\n",
      "                            \"pc_new\": 7,\n",
      "                            \"party_cardid_state\": 1,\n",
      "                            \"aoyun_2021\": 1\n",
      "                        }\n",
      "                    },\n",
      "                    \"retweeted_status\": {\n",
      "                        \"visible\": {\n",
      "                            \"type\": 0,\n",
      "                            \"list_id\": 0\n",
      "                        },\n",
      "                        \"created_at\": \"Fri May 27 08:43:03 +0800 2022\",\n",
      "                        \"id\": \"4773657845435505\",\n",
      "                        \"mid\": \"4773657845435505\",\n",
      "                        \"can_edit\": false,\n",
      "                        \"show_additional_indication\": 0,\n",
      "                        \"text\": \"\\u6c5f\\u82cf\\u82cf\\u5dde\\uff0c\\u5c0f\\u732b\\u8e29\\u574f\\u540a\\u9876\\u706f\\uff0c\\u52aa\\u529b\\u7528\\u722a\\u5b50\\u5c1d\\u8bd5\\u590d\\u539f <a  href=\\\"http://weibo.com/p/1001018008622010000000000\\\" data-hide=\\\"\\\"><span class='url-icon'><img style='width: 1rem;height: 1rem' src='https://h5.sinaimg.cn/upload/2015/09/25/3/timeline_card_small_location_default.png'></span><span class=\\\"surl-text\\\">\\u957f\\u6625</span></a> <a  href=\\\"https://video.weibo.com/show?fid=1034:4773657755713564\\\" data-hide=\\\"\\\"><span class='url-icon'><img style='width: 1rem;height: 1rem' src='https://h5.sinaimg.cn/upload/2015/09/25/3/timeline_card_small_video_default.png'></span><span class=\\\"surl-text\\\">\\u957f\\u6625\\u65b0\\u52a8\\u6001\\u7684\\u5fae\\u535a\\u89c6\\u9891</span></a> \",\n",
      "                        \"textLength\": 85,\n",
      "                        \"source\": \"iPhone\\u5ba2\\u6237\\u7aef\",\n",
      "                        \"favorited\": false,\n",
      "                        \"pic_ids\": [],\n",
      "                        \"is_paid\": false,\n",
      "                        \"mblog_vip_type\": 0,\n",
      "                        \"user\": {\n",
      "                            \"id\": 5876419780,\n",
      "                            \"screen_name\": \"\\u957f\\u6625\\u65b0\\u52a8\\u6001\",\n",
      "                            \"profile_image_url\": \"https://tvax3.sinaimg.cn/crop.0.0.512.512.180/006pGRecly8g5tij8lfmrj30e80e8wf2.jpg?KID=imgbed,tva&Expires=1657798917&ssig=whqtbbt71d\",\n",
      "                            \"profile_url\": \"https://m.weibo.cn/u/5876419780?uid=5876419780&luicode=10000011&lfid=1076032830678474\",\n",
      "                            \"statuses_count\": 50901,\n",
      "                            \"verified\": true,\n",
      "                            \"verified_type\": 0,\n",
      "                            \"verified_type_ext\": 1,\n",
      "                            \"verified_reason\": \"\\u672c\\u5730\\u535a\\u4e3b \\uff08\\u957f\\u6625\\uff09 \\u7f8e\\u98df\\u535a\\u4e3b \\u89c6\\u9891\\u535a\\u4e3b\",\n",
      "                            \"close_blue_v\": false,\n",
      "                            \"description\": \"\\u5173\\u6ce8\\u957f\\u6625\\u65b0\\u52a8\\u6001\\uff0c\\u4e86\\u89e3\\u957f\\u6625\\u5927\\u4e8b\\u5c0f\\u60c5\\u3002\",\n",
      "                            \"gender\": \"m\",\n",
      "                            \"mbtype\": 12,\n",
      "                            \"urank\": 9,\n",
      "                            \"mbrank\": 6,\n",
      "                            \"follow_me\": false,\n",
      "                            \"following\": false,\n",
      "                            \"follow_count\": 471,\n",
      "                            \"followers_count\": \"90.1\\u4e07\",\n",
      "                            \"followers_count_str\": \"90.1\\u4e07\",\n",
      "                            \"cover_image_phone\": \"https://tva1.sinaimg.cn/crop.0.0.640.640.640/549d0121tw1egm1kjly3jj20hs0hsq4f.jpg\",\n",
      "                            \"avatar_hd\": \"https://wx3.sinaimg.cn/orj480/006pGRecly8g5tij8lfmrj30e80e8wf2.jpg\",\n",
      "                            \"like\": false,\n",
      "                            \"like_me\": false,\n",
      "                            \"badge\": {\n",
      "                                \"bind_taobao\": 1,\n",
      "                                \"unread_pool\": 1,\n",
      "                                \"unread_pool_ext\": 1,\n",
      "                                \"super_star_2017\": 1,\n",
      "                                \"user_name_certificate\": 1,\n",
      "                                \"wenda_v2\": 1,\n",
      "                                \"dailv_2018\": 1,\n",
      "                                \"relation_display\": 1,\n",
      "                                \"hongbaofei_2019\": 1,\n",
      "                                \"dailv_2019\": 1,\n",
      "                                \"china_2019\": 1,\n",
      "                                \"rrgyj_2019\": 1,\n",
      "                                \"hongbao_2020\": 2,\n",
      "                                \"feiyan_2020\": 1,\n",
      "                                \"graduation_2020\": 1,\n",
      "                                \"pc_new\": 6,\n",
      "                                \"dailv_2020\": 1,\n",
      "                                \"vpick_2020\": 1,\n",
      "                                \"school_2020\": 1,\n",
      "                                \"hongrenjie_2020\": 1,\n",
      "                                \"china_2020\": 1,\n",
      "                                \"hongbaofeijika_2021\": 1,\n",
      "                                \"yuanlongping_2021\": 1,\n",
      "                                \"ylpshuidao_2021\": 1,\n",
      "                                \"gaokao_2021\": 1,\n",
      "                                \"party_cardid_state\": 2,\n",
      "                                \"companion_card\": 1,\n",
      "                                \"yinyuejie21_2021\": 1,\n",
      "                                \"hongbaofei2022_2021\": 1,\n",
      "                                \"gaokao_2022\": 1\n",
      "                            }\n",
      "                        },\n",
      "                        \"reposts_count\": 42,\n",
      "                        \"comments_count\": 40,\n",
      "                        \"reprint_cmt_count\": 0,\n",
      "                        \"attitudes_count\": 840,\n",
      "                        \"pending_approval_count\": 0,\n",
      "                        \"isLongText\": false,\n",
      "                        \"mlevel\": 0,\n",
      "                        \"darwin_tags\": [],\n",
      "                        \"hot_page\": {\n",
      "                            \"fid\": \"232532_mblog\",\n",
      "                            \"feed_detail_type\": 0\n",
      "                        },\n",
      "                        \"mblogtype\": 0,\n",
      "                        \"rid\": \"6_0_50_6670129651442252876_0_0_0\",\n",
      "                        \"number_display_strategy\": {\n",
      "                            \"apply_scenario_flag\": 3,\n",
      "                            \"display_text_min_number\": 1000000,\n",
      "                            \"display_text\": \"100\\u4e07+\"\n",
      "                        },\n",
      "                        \"content_auth\": 0,\n",
      "                        \"safe_tags\": 524288,\n",
      "                        \"comment_manage_info\": {\n",
      "                            \"comment_permission_type\": -1,\n",
      "                            \"approval_comment_type\": 0,\n",
      "                            \"comment_sort_type\": 0\n",
      "                        },\n",
      "                        \"pic_num\": 0,\n",
      "                        \"fid\": 4773657762070569,\n",
      "                        \"new_comment_style\": 0,\n",
      "                        \"region_name\": \"\\u53d1\\u5e03\\u4e8e \\u5409\\u6797\",\n",
      "                        \"region_opt\": 1,\n",
      "                        \"edit_config\": {\n",
      "                            \"edited\": false\n",
      "                        },\n",
      "                        \"page_info\": {\n",
      "                            \"type\": \"video\",\n",
      "                            \"object_type\": 11,\n",
      "                            \"url_ori\": \"http://t.cn/A6XpYmsy\",\n",
      "                            \"page_pic\": {\n",
      "                                \"width\": 480,\n",
      "                                \"pid\": \"006pGRecly1h2mo4yug7wj30k00zkdh5\",\n",
      "                                \"source\": 21,\n",
      "                                \"is_self_cover\": 0,\n",
      "                                \"type\": 0,\n",
      "                                \"url\": \"https://wx3.sinaimg.cn/orj480/006pGRecly1h2mo4yug7wj30k00zkdh5.jpg\",\n",
      "                                \"height\": 853\n",
      "                            },\n",
      "                            \"page_url\": \"https://video.weibo.com/show?fid=1034%3A4773657755713564&luicode=10000011&lfid=1076032830678474\",\n",
      "                            \"object_id\": \"1034:4773657755713564\",\n",
      "                            \"page_title\": \"\\u957f\\u6625\\u65b0\\u52a8\\u6001\\u7684\\u5fae\\u535a\\u89c6\\u9891\",\n",
      "                            \"title\": \"\",\n",
      "                            \"content1\": \"\\u957f\\u6625\\u65b0\\u52a8\\u6001\\u7684\\u5fae\\u535a\\u89c6\\u9891\",\n",
      "                            \"content2\": \"\\u6c5f\\u82cf\\u82cf\\u5dde\\uff0c\\u5c0f\\u732b\\u8e29\\u574f\\u540a\\u9876\\u706f\\uff0c\\u52aa\\u529b\\u7528\\u722a\\u5b50\\u5c1d\\u8bd5\\u590d\\u539f http://t.cn/RJhTtpf\",\n",
      "                            \"video_orientation\": \"vertical\",\n",
      "                            \"play_count\": \"32\\u4e07\\u6b21\\u64ad\\u653e\",\n",
      "                            \"media_info\": {\n",
      "                                \"stream_url\": \"https://f.video.weibocdn.com/o0/HNYl0e4alx07WmWZXVFe010412000RQa0E010.mp4?label=mp4_ld&template=360x640.24.0&ori=0&ps=1CwnkDw1GXwCQx&Expires=1657791717&ssig=qHiOcpMDEL&KID=unistore,video\",\n",
      "                                \"stream_url_hd\": \"https://f.video.weibocdn.com/o0/zc4jHoT8lx07WmX0ggQ8010412001xCk0E010.mp4?label=mp4_hd&template=540x960.24.0&ori=0&ps=1CwnkDw1GXwCQx&Expires=1657791717&ssig=AhDGQZCO8c&KID=unistore,video\",\n",
      "                                \"duration\": 11.307\n",
      "                            },\n",
      "                            \"urls\": {\n",
      "                                \"mp4_720p_mp4\": \"https://f.video.weibocdn.com/o0/YqErZByrlx07WmX02rte010412002OYk0E010.mp4?label=mp4_720p&template=720x1280.24.0&ori=0&ps=1CwnkDw1GXwCQx&Expires=1657791717&ssig=01M2k73sDy&KID=unistore,video\",\n",
      "                                \"mp4_hd_mp4\": \"https://f.video.weibocdn.com/o0/zc4jHoT8lx07WmX0ggQ8010412001xCk0E010.mp4?label=mp4_hd&template=540x960.24.0&ori=0&ps=1CwnkDw1GXwCQx&Expires=1657791717&ssig=AhDGQZCO8c&KID=unistore,video\",\n",
      "                                \"mp4_ld_mp4\": \"https://f.video.weibocdn.com/o0/HNYl0e4alx07WmWZXVFe010412000RQa0E010.mp4?label=mp4_ld&template=360x640.24.0&ori=0&ps=1CwnkDw1GXwCQx&Expires=1657791717&ssig=qHiOcpMDEL&KID=unistore,video\"\n",
      "                            }\n",
      "                        },\n",
      "                        \"bid\": \"LuUaYmO1r\"\n",
      "                    },\n",
      "                    \"reposts_count\": 1,\n",
      "                    \"comments_count\": 0,\n",
      "                    \"reprint_cmt_count\": 0,\n",
      "                    \"attitudes_count\": 1,\n",
      "                    \"pending_approval_count\": 0,\n",
      "                    \"isLongText\": false,\n",
      "                    \"mlevel\": 0,\n",
      "                    \"darwin_tags\": [],\n",
      "                    \"hot_page\": {\n",
      "                        \"fid\": \"232532_mblog\",\n",
      "                        \"feed_detail_type\": 0\n",
      "                    },\n",
      "                    \"mblogtype\": 0,\n",
      "                    \"rid\": \"6_0_50_6670129651442252876_0_0_0\",\n",
      "                    \"cardid\": \"vip_010\",\n",
      "                    \"extern_safe\": 0,\n",
      "                    \"number_display_strategy\": {\n",
      "                        \"apply_scenario_flag\": 3,\n",
      "                        \"display_text_min_number\": 1000000,\n",
      "                        \"display_text\": \"100\\u4e07+\"\n",
      "                    },\n",
      "                    \"content_auth\": 0,\n",
      "                    \"comment_manage_info\": {\n",
      "                        \"comment_permission_type\": -1,\n",
      "                        \"approval_comment_type\": 0,\n",
      "                        \"comment_sort_type\": 0\n",
      "                    },\n",
      "                    \"repost_type\": 1,\n",
      "                    \"pic_num\": 0,\n",
      "                    \"new_comment_style\": 0,\n",
      "                    \"ab_switcher\": 4,\n",
      "                    \"region_name\": \"\\u53d1\\u5e03\\u4e8e \\u5317\\u4eac\",\n",
      "                    \"region_opt\": 1,\n",
      "                    \"mblog_menu_new_style\": 0,\n",
      "                    \"edit_config\": {\n",
      "                        \"edited\": false\n",
      "                    },\n",
      "                    \"raw_text\": \"[\\u998b\\u5634]\",\n",
      "                    \"bid\": \"LvTD6cQYU\"\n",
      "                }\n",
      "            },\n",
      "            {\n",
      "                \"card_type\": 9,\n",
      "                \"profile_type_id\": \"proweibo_4776019325878568\",\n",
      "                \"itemid\": \"1076032830678474_-_4776019325878568\",\n",
      "                \"scheme\": \"https://m.weibo.cn/status/LvTBOoFhC?mblogid=LvTBOoFhC&luicode=10000011&lfid=1076032830678474\",\n",
      "                \"mblog\": {\n",
      "                    \"visible\": {\n",
      "                        \"type\": 0,\n",
      "                        \"list_id\": 0\n",
      "                    },\n",
      "                    \"created_at\": \"Thu Jun 02 21:06:43 +0800 2022\",\n",
      "                    \"id\": \"4776019325878568\",\n",
      "                    \"mid\": \"4776019325878568\",\n",
      "                    \"can_edit\": false,\n",
      "                    \"show_additional_indication\": 0,\n",
      "                    \"text\": \"<span class=\\\"url-icon\\\"><img alt=[\\u54c8\\u54c8] src=\\\"https://h5.sinaimg.cn/m/emoticon/icon/default/d_haha-0ec05e6dad.png\\\" style=\\\"width:1em; height:1em;\\\" /></span>\",\n",
      "                    \"source\": \"iPhone 12 Pro Max\",\n",
      "                    \"favorited\": false,\n",
      "                    \"pic_ids\": [],\n",
      "                    \"is_paid\": false,\n",
      "                    \"mblog_vip_type\": 0,\n",
      "                    \"user\": {\n",
      "                        \"id\": 2830678474,\n",
      "                        \"screen_name\": \"\\u5d14\\u5e86\\u624d\\u4e28\\u9759\\u89c5\",\n",
      "                        \"profile_image_url\": \"https://tva3.sinaimg.cn/crop.0.0.458.458.180/a8b8b9cajw8exsgha3l4uj20cq0crmy5.jpg?KID=imgbed,tva&Expires=1657798917&ssig=f9r6AEyfyW\",\n",
      "                        \"profile_url\": \"https://m.weibo.cn/u/2830678474?uid=2830678474&luicode=10000011&lfid=1076032830678474\",\n",
      "                        \"statuses_count\": 2507,\n",
      "                        \"verified\": true,\n",
      "                        \"verified_type\": 0,\n",
      "                        \"verified_type_ext\": 0,\n",
      "                        \"verified_reason\": \"\\u4e92\\u8054\\u7f51\\u79d1\\u6280\\u535a\\u4e3b\",\n",
      "                        \"close_blue_v\": false,\n",
      "                        \"description\": \"cuiqingcai.com\",\n",
      "                        \"gender\": \"m\",\n",
      "                        \"mbtype\": 12,\n",
      "                        \"urank\": 36,\n",
      "                        \"mbrank\": 7,\n",
      "                        \"follow_me\": false,\n",
      "                        \"following\": false,\n",
      "                        \"follow_count\": 1172,\n",
      "                        \"followers_count\": \"1.1\\u4e07\",\n",
      "                        \"followers_count_str\": \"1.1\\u4e07\",\n",
      "                        \"cover_image_phone\": \"https://tva1.sinaimg.cn/crop.0.0.640.640.640/549d0121tw1egm1kjly3jj20hs0hsq4f.jpg\",\n",
      "                        \"avatar_hd\": \"https://ww3.sinaimg.cn/orj480/a8b8b9cajw8exsgha3l4uj20cq0crmy5.jpg\",\n",
      "                        \"like\": false,\n",
      "                        \"like_me\": false,\n",
      "                        \"badge\": {\n",
      "                            \"bind_taobao\": 1,\n",
      "                            \"unread_pool\": 1,\n",
      "                            \"unread_pool_ext\": 1,\n",
      "                            \"dzwbqlx_2016\": 1,\n",
      "                            \"panda\": 1,\n",
      "                            \"user_name_certificate\": 1,\n",
      "                            \"qixi_2018\": 1,\n",
      "                            \"status_visible\": 1,\n",
      "                            \"hongrenjie_2019\": 1,\n",
      "                            \"china_2019\": 1,\n",
      "                            \"hongkong_2019\": 1,\n",
      "                            \"hongbao_2020\": 2,\n",
      "                            \"pc_new\": 7,\n",
      "                            \"party_cardid_state\": 1,\n",
      "                            \"aoyun_2021\": 1\n",
      "                        }\n",
      "                    },\n",
      "                    \"retweeted_status\": {\n",
      "                        \"visible\": {\n",
      "                            \"type\": 0,\n",
      "                            \"list_id\": 0\n",
      "                        },\n",
      "                        \"created_at\": \"Thu Jun 02 19:22:26 +0800 2022\",\n",
      "                        \"id\": \"4775993082380952\",\n",
      "                        \"mid\": \"4775993082380952\",\n",
      "                        \"can_edit\": false,\n",
      "                        \"show_additional_indication\": 0,\n",
      "                        \"text\": \"\\u902e\\u5230\\u4e00\\u53ea\\u7761\\u5348\\u89c9\\u7684\\u5c0f\\u53ef\\u7231<span class=\\\"url-icon\\\"><img alt=[doge] src=\\\"https://h5.sinaimg.cn/m/emoticon/icon/others/d_doge-be7f768d78.png\\\" style=\\\"width:1em; height:1em;\\\" /></span> <a  href=\\\"https://video.weibo.com/show?fid=1034:4775992783470658\\\" data-hide=\\\"\\\"><span class='url-icon'><img style='width: 1rem;height: 1rem' src='https://h5.sinaimg.cn/upload/2015/09/25/3/timeline_card_small_video_default.png'></span><span class=\\\"surl-text\\\">\\u963f\\u7caa\\u9752\\u7684\\u5fae\\u535a\\u89c6\\u9891</span></a> \",\n",
      "                        \"textLength\": 49,\n",
      "                        \"source\": \"\\u5fae\\u535a\\u89c6\\u9891\\u53f7\",\n",
      "                        \"favorited\": false,\n",
      "                        \"pic_ids\": [],\n",
      "                        \"is_paid\": false,\n",
      "                        \"mblog_vip_type\": 0,\n",
      "                        \"user\": {\n",
      "                            \"id\": 2726698224,\n",
      "                            \"screen_name\": \"\\u963f\\u7caa\\u9752\",\n",
      "                            \"profile_image_url\": \"https://tvax2.sinaimg.cn/crop.0.0.512.512.180/a2861cf0ly8gdiqoo350ej20e80e874o.jpg?KID=imgbed,tva&Expires=1657798917&ssig=l3Q4C8IuIu\",\n",
      "                            \"profile_url\": \"https://m.weibo.cn/u/2726698224?uid=2726698224&luicode=10000011&lfid=1076032830678474\",\n",
      "                            \"statuses_count\": 14287,\n",
      "                            \"verified\": true,\n",
      "                            \"verified_type\": 0,\n",
      "                            \"verified_type_ext\": 1,\n",
      "                            \"verified_reason\": \"\\u77e5\\u540d\\u641e\\u7b11\\u5e7d\\u9ed8\\u535a\\u4e3b \\u5fae\\u535a\\u539f\\u521b\\u89c6\\u9891\\u535a\\u4e3b\",\n",
      "                            \"close_blue_v\": false,\n",
      "                            \"description\": \"\\u6b22\\u8fce\\u6295\\u7a3f\",\n",
      "                            \"gender\": \"m\",\n",
      "                            \"mbtype\": 12,\n",
      "                            \"urank\": 48,\n",
      "                            \"mbrank\": 7,\n",
      "                            \"follow_me\": false,\n",
      "                            \"following\": false,\n",
      "                            \"follow_count\": 712,\n",
      "                            \"followers_count\": \"926.8\\u4e07\",\n",
      "                            \"followers_count_str\": \"926.8\\u4e07\",\n",
      "                            \"cover_image_phone\": \"https://wx1.sinaimg.cn/crop.0.0.640.640.640/006Y5MRUgy1g2cidne035j30ku0kut8z.jpg\",\n",
      "                            \"avatar_hd\": \"https://wx2.sinaimg.cn/orj480/a2861cf0ly8gdiqoo350ej20e80e874o.jpg\",\n",
      "                            \"like\": false,\n",
      "                            \"like_me\": false,\n",
      "                            \"badge\": {\n",
      "                                \"dzwbqlx_2016\": 1,\n",
      "                                \"follow_whitelist_video\": 1,\n",
      "                                \"super_star_2017\": 1,\n",
      "                                \"user_name_certificate\": 1,\n",
      "                                \"super_star_2018\": 1,\n",
      "                                \"worldcup_2018\": 34,\n",
      "                                \"dailv_2018\": 7,\n",
      "                                \"qixi_2018\": 1,\n",
      "                                \"national_day_2018\": 1,\n",
      "                                \"weibo_display_fans\": 1,\n",
      "                                \"relation_display\": 1,\n",
      "                                \"memorial_2018\": 1,\n",
      "                                \"hongbaofei_2019\": 1,\n",
      "                                \"suishoupai_2019\": 2,\n",
      "                                \"wusi_2019\": 1,\n",
      "                                \"hongrenjie_2019\": 1,\n",
      "                                \"dzwbqlx_2019\": 2,\n",
      "                                \"hongbao_2020\": 2,\n",
      "                                \"feiyan_2020\": 1,\n",
      "                                \"hope_2020\": 1,\n",
      "                                \"pc_new\": 7,\n",
      "                                \"dailv_2020\": 1,\n",
      "                                \"vpick_2020\": 1,\n",
      "                                \"hongrenjie_2020\": 1,\n",
      "                                \"weibozhiyexianxia_2021\": 1,\n",
      "                                \"nihaoshenghuojie_2021\": 1,\n",
      "                                \"gaokao_2021\": 1,\n",
      "                                \"biyeji_2021\": 1,\n",
      "                                \"party_cardid_state\": 2,\n",
      "                                \"aoyun_2021\": 1,\n",
      "                                \"companion_card\": 1,\n",
      "                                \"kaixue21_2021\": 1,\n",
      "                                \"yinyuejie21_2021\": 1,\n",
      "                                \"yingxionglianmengs11_2021\": 1,\n",
      "                                \"hongbaofei2022_2021\": 1,\n",
      "                                \"newdongaohui_2022\": 1,\n",
      "                                \"iplocationchange_2022\": 1,\n",
      "                                \"biyeji_2022\": 1,\n",
      "                                \"gaokao_2022\": 1,\n",
      "                                \"dailv_2022\": 1\n",
      "                            }\n",
      "                        },\n",
      "                        \"reposts_count\": 2109,\n",
      "                        \"comments_count\": 1056,\n",
      "                        \"reprint_cmt_count\": 0,\n",
      "                        \"attitudes_count\": 8617,\n",
      "                        \"pending_approval_count\": 0,\n",
      "                        \"isLongText\": false,\n",
      "                        \"mlevel\": 0,\n",
      "                        \"darwin_tags\": [\n",
      "                            {\n",
      "                                \"object_type\": \"fangle\",\n",
      "                                \"object_id\": \"1022:23126100007562407699849217\",\n",
      "                                \"display_name\": \"\\u5185\\u5bb9\\u8fc7\\u4e8e\\u4f18\\u79c0\",\n",
      "                                \"enterprise_uid\": null,\n",
      "                                \"bd_object_type\": \"fangle\"\n",
      "                            }\n",
      "                        ],\n",
      "                        \"hot_page\": {\n",
      "                            \"fid\": \"232532_mblog\",\n",
      "                            \"feed_detail_type\": 0\n",
      "                        },\n",
      "                        \"mblogtype\": 0,\n",
      "                        \"rid\": \"7_0_50_6670129651442252876_0_0_0\",\n",
      "                        \"number_display_strategy\": {\n",
      "                            \"apply_scenario_flag\": 3,\n",
      "                            \"display_text_min_number\": 1000000,\n",
      "                            \"display_text\": \"100\\u4e07+\"\n",
      "                        },\n",
      "                        \"content_auth\": 0,\n",
      "                        \"safe_tags\": 524288,\n",
      "                        \"comment_manage_info\": {\n",
      "                            \"comment_permission_type\": -1,\n",
      "                            \"approval_comment_type\": 0,\n",
      "                            \"comment_sort_type\": 0\n",
      "                        },\n",
      "                        \"pic_num\": 0,\n",
      "                        \"fid\": 4775992861393083,\n",
      "                        \"new_comment_style\": 0,\n",
      "                        \"region_name\": \"\\u53d1\\u5e03\\u4e8e \\u5e7f\\u897f\",\n",
      "                        \"region_opt\": 1,\n",
      "                        \"edit_config\": {\n",
      "                            \"edited\": false\n",
      "                        },\n",
      "                        \"page_info\": {\n",
      "                            \"type\": \"video\",\n",
      "                            \"object_type\": 11,\n",
      "                            \"url_ori\": \"http://t.cn/A6XTCHDs\",\n",
      "                            \"page_pic\": {\n",
      "                                \"width\": 480,\n",
      "                                \"pid\": \"a2861cf0gy1h2u4bh1gwxj20k00zc76x\",\n",
      "                                \"source\": 21,\n",
      "                                \"is_self_cover\": 0,\n",
      "                                \"type\": 0,\n",
      "                                \"url\": \"https://wx3.sinaimg.cn/orj480/a2861cf0gy1h2u4bh1gwxj20k00zc76x.jpg\",\n",
      "                                \"height\": 848\n",
      "                            },\n",
      "                            \"page_url\": \"https://video.weibo.com/show?fid=1034%3A4775992783470658&luicode=10000011&lfid=1076032830678474\",\n",
      "                            \"object_id\": \"1034:4775992783470658\",\n",
      "                            \"page_title\": \"\\u963f\\u7caa\\u9752\\u7684\\u5fae\\u535a\\u89c6\\u9891\",\n",
      "                            \"title\": \"\",\n",
      "                            \"content1\": \"\\u963f\\u7caa\\u9752\\u7684\\u5fae\\u535a\\u89c6\\u9891\",\n",
      "                            \"content2\": \"\\u902e\\u5230\\u4e00\\u53ea\\u7761\\u5348\\u89c9\\u7684\\u5c0f\\u53ef\\u7231[doge]\",\n",
      "                            \"video_orientation\": \"vertical\",\n",
      "                            \"play_count\": \"118\\u4e07\\u6b21\\u64ad\\u653e\",\n",
      "                            \"media_info\": {\n",
      "                                \"stream_url\": \"https://f.video.weibocdn.com/u0/dLl9i8xtgx07Wxefkxn201041200jDiy0E010.mp4?label=mp4_ld&template=360x636.24.0&ori=0&ps=1CwnkDw1GXwCQx&Expires=1657791717&ssig=FSubKA3KX6&KID=unistore,video\",\n",
      "                                \"stream_url_hd\": \"https://f.video.weibocdn.com/u0/ynPYaR4Sgx07WxefR2t201041200CUH70E010.mp4?label=mp4_hd&template=540x952.24.0&ori=0&ps=1CwnkDw1GXwCQx&Expires=1657791717&ssig=IuVXi5SJ0V&KID=unistore,video\",\n",
      "                                \"duration\": 63.645\n",
      "                            },\n",
      "                            \"urls\": {\n",
      "                                \"mp4_720p_mp4\": \"https://f.video.weibocdn.com/u0/YVjzfBPOgx07Wxegzy1W010412012aBi0E010.mp4?label=mp4_720p&template=720x1272.24.0&ori=0&ps=1CwnkDw1GXwCQx&Expires=1657791717&ssig=pT2mCfg1%2BK&KID=unistore,video\",\n",
      "                                \"mp4_hd_mp4\": \"https://f.video.weibocdn.com/u0/ynPYaR4Sgx07WxefR2t201041200CUH70E010.mp4?label=mp4_hd&template=540x952.24.0&ori=0&ps=1CwnkDw1GXwCQx&Expires=1657791717&ssig=IuVXi5SJ0V&KID=unistore,video\",\n",
      "                                \"mp4_ld_mp4\": \"https://f.video.weibocdn.com/u0/dLl9i8xtgx07Wxefkxn201041200jDiy0E010.mp4?label=mp4_ld&template=360x636.24.0&ori=0&ps=1CwnkDw1GXwCQx&Expires=1657791717&ssig=FSubKA3KX6&KID=unistore,video\"\n",
      "                            }\n",
      "                        },\n",
      "                        \"bid\": \"LvSVu9Zos\"\n",
      "                    },\n",
      "                    \"reposts_count\": 1,\n",
      "                    \"comments_count\": 0,\n",
      "                    \"reprint_cmt_count\": 0,\n",
      "                    \"attitudes_count\": 0,\n",
      "                    \"pending_approval_count\": 0,\n",
      "                    \"isLongText\": false,\n",
      "                    \"mlevel\": 0,\n",
      "                    \"darwin_tags\": [],\n",
      "                    \"hot_page\": {\n",
      "                        \"fid\": \"232532_mblog\",\n",
      "                        \"feed_detail_type\": 0\n",
      "                    },\n",
      "                    \"mblogtype\": 0,\n",
      "                    \"rid\": \"7_0_50_6670129651442252876_0_0_0\",\n",
      "                    \"cardid\": \"vip_010\",\n",
      "                    \"extern_safe\": 0,\n",
      "                    \"number_display_strategy\": {\n",
      "                        \"apply_scenario_flag\": 3,\n",
      "                        \"display_text_min_number\": 1000000,\n",
      "                        \"display_text\": \"100\\u4e07+\"\n",
      "                    },\n",
      "                    \"content_auth\": 0,\n",
      "                    \"comment_manage_info\": {\n",
      "                        \"comment_permission_type\": -1,\n",
      "                        \"approval_comment_type\": 0,\n",
      "                        \"comment_sort_type\": 0\n",
      "                    },\n",
      "                    \"repost_type\": 1,\n",
      "                    \"pic_num\": 0,\n",
      "                    \"new_comment_style\": 0,\n",
      "                    \"ab_switcher\": 4,\n",
      "                    \"region_name\": \"\\u53d1\\u5e03\\u4e8e \\u5317\\u4eac\",\n",
      "                    \"region_opt\": 1,\n",
      "                    \"mblog_menu_new_style\": 0,\n",
      "                    \"edit_config\": {\n",
      "                        \"edited\": false\n",
      "                    },\n",
      "                    \"raw_text\": \"[\\u54c8\\u54c8]\",\n",
      "                    \"bid\": \"LvTBOoFhC\"\n",
      "                }\n",
      "            },\n",
      "            {\n",
      "                \"card_type\": 9,\n",
      "                \"profile_type_id\": \"proweibo_4774990266238255\",\n",
      "                \"itemid\": \"1076032830678474_-_4774990266238255\",\n",
      "                \"scheme\": \"https://m.weibo.cn/status/LvsQ2qaR1?mblogid=LvsQ2qaR1&luicode=10000011&lfid=1076032830678474\",\n",
      "                \"mblog\": {\n",
      "                    \"visible\": {\n",
      "                        \"type\": 0,\n",
      "                        \"list_id\": 0\n",
      "                    },\n",
      "                    \"created_at\": \"Tue May 31 00:57:37 +0800 2022\",\n",
      "                    \"id\": \"4774990266238255\",\n",
      "                    \"mid\": \"4774990266238255\",\n",
      "                    \"can_edit\": false,\n",
      "                    \"show_additional_indication\": 0,\n",
      "                    \"text\": \"\\u5206\\u4eab\\u4e00\\u4e2a\\u975e\\u5e38\\u5168\\u7684\\u6709\\u5173\\u7cfb\\u7edf\\u8bbe\\u8ba1\\u7684\\u8d44\\u6e90\\uff1agithub.com/donnemartin/system-design-primer\\uff0c\\u5176\\u4e2d\\u4ecb\\u7ecd\\u4e86\\u5404\\u79cd\\u5404\\u6837\\u7cfb\\u7edf\\u7684\\u8bbe\\u8ba1\\u539f\\u5219\\uff0c\\u6bd4\\u5982\\u53ef\\u7528\\u6027\\u548c\\u4e00\\u81f4\\u6027\\u3001\\u8d1f\\u8f7d\\u5747\\u8861\\u3001\\u57df\\u540d\\u7cfb\\u7edf\\u3001\\u53cd\\u5411\\u4ee3\\u7406\\u3001\\u6570\\u636e\\u5e93\\u3001\\u7f13\\u5b58\\u7b49\\u3001\\u6d88\\u606f\\u961f\\u5217\\u7b49\\uff0c\\u5bf9\\u63d0\\u9ad8\\u6574\\u4f53\\u8ba1\\u7b97\\u673a\\u6c34\\u5e73\\u975e\\u5e38\\u6709\\u5e2e\\u52a9\\u3002 \",\n",
      "                    \"textLength\": 225,\n",
      "                    \"source\": \"iPhone 12 Pro Max\",\n",
      "                    \"favorited\": false,\n",
      "                    \"pic_ids\": [],\n",
      "                    \"is_paid\": false,\n",
      "                    \"mblog_vip_type\": 0,\n",
      "                    \"user\": {\n",
      "                        \"id\": 2830678474,\n",
      "                        \"screen_name\": \"\\u5d14\\u5e86\\u624d\\u4e28\\u9759\\u89c5\",\n",
      "                        \"profile_image_url\": \"https://tva3.sinaimg.cn/crop.0.0.458.458.180/a8b8b9cajw8exsgha3l4uj20cq0crmy5.jpg?KID=imgbed,tva&Expires=1657798917&ssig=f9r6AEyfyW\",\n",
      "                        \"profile_url\": \"https://m.weibo.cn/u/2830678474?uid=2830678474&luicode=10000011&lfid=1076032830678474\",\n",
      "                        \"statuses_count\": 2507,\n",
      "                        \"verified\": true,\n",
      "                        \"verified_type\": 0,\n",
      "                        \"verified_type_ext\": 0,\n",
      "                        \"verified_reason\": \"\\u4e92\\u8054\\u7f51\\u79d1\\u6280\\u535a\\u4e3b\",\n",
      "                        \"close_blue_v\": false,\n",
      "                        \"description\": \"cuiqingcai.com\",\n",
      "                        \"gender\": \"m\",\n",
      "                        \"mbtype\": 12,\n",
      "                        \"urank\": 36,\n",
      "                        \"mbrank\": 7,\n",
      "                        \"follow_me\": false,\n",
      "                        \"following\": false,\n",
      "                        \"follow_count\": 1172,\n",
      "                        \"followers_count\": \"1.1\\u4e07\",\n",
      "                        \"followers_count_str\": \"1.1\\u4e07\",\n",
      "                        \"cover_image_phone\": \"https://tva1.sinaimg.cn/crop.0.0.640.640.640/549d0121tw1egm1kjly3jj20hs0hsq4f.jpg\",\n",
      "                        \"avatar_hd\": \"https://ww3.sinaimg.cn/orj480/a8b8b9cajw8exsgha3l4uj20cq0crmy5.jpg\",\n",
      "                        \"like\": false,\n",
      "                        \"like_me\": false,\n",
      "                        \"badge\": {\n",
      "                            \"bind_taobao\": 1,\n",
      "                            \"unread_pool\": 1,\n",
      "                            \"unread_pool_ext\": 1,\n",
      "                            \"dzwbqlx_2016\": 1,\n",
      "                            \"panda\": 1,\n",
      "                            \"user_name_certificate\": 1,\n",
      "                            \"qixi_2018\": 1,\n",
      "                            \"status_visible\": 1,\n",
      "                            \"hongrenjie_2019\": 1,\n",
      "                            \"china_2019\": 1,\n",
      "                            \"hongkong_2019\": 1,\n",
      "                            \"hongbao_2020\": 2,\n",
      "                            \"pc_new\": 7,\n",
      "                            \"party_cardid_state\": 1,\n",
      "                            \"aoyun_2021\": 1\n",
      "                        }\n",
      "                    },\n",
      "                    \"reposts_count\": 1,\n",
      "                    \"comments_count\": 0,\n",
      "                    \"reprint_cmt_count\": 0,\n",
      "                    \"attitudes_count\": 1,\n",
      "                    \"pending_approval_count\": 0,\n",
      "                    \"isLongText\": false,\n",
      "                    \"mlevel\": 0,\n",
      "                    \"darwin_tags\": [],\n",
      "                    \"hot_page\": {\n",
      "                        \"fid\": \"232532_mblog\",\n",
      "                        \"feed_detail_type\": 0\n",
      "                    },\n",
      "                    \"mblogtype\": 0,\n",
      "                    \"rid\": \"8_0_50_6670129651442252876_0_0_0\",\n",
      "                    \"cardid\": \"vip_010\",\n",
      "                    \"extern_safe\": 0,\n",
      "                    \"number_display_strategy\": {\n",
      "                        \"apply_scenario_flag\": 3,\n",
      "                        \"display_text_min_number\": 1000000,\n",
      "                        \"display_text\": \"100\\u4e07+\"\n",
      "                    },\n",
      "                    \"content_auth\": 0,\n",
      "                    \"comment_manage_info\": {\n",
      "                        \"comment_permission_type\": -1,\n",
      "                        \"approval_comment_type\": 0,\n",
      "                        \"comment_sort_type\": 0\n",
      "                    },\n",
      "                    \"pic_num\": 0,\n",
      "                    \"new_comment_style\": 0,\n",
      "                    \"ab_switcher\": 4,\n",
      "                    \"region_name\": \"\\u53d1\\u5e03\\u4e8e \\u5317\\u4eac\",\n",
      "                    \"region_opt\": 1,\n",
      "                    \"mblog_menu_new_style\": 0,\n",
      "                    \"edit_config\": {\n",
      "                        \"edited\": false\n",
      "                    },\n",
      "                    \"bid\": \"LvsQ2qaR1\"\n",
      "                }\n",
      "            },\n",
      "            {\n",
      "                \"card_type\": 9,\n",
      "                \"profile_type_id\": \"proweibo_4774419379257723\",\n",
      "                \"itemid\": \"1076032830678474_-_4774419379257723\",\n",
      "                \"scheme\": \"https://m.weibo.cn/status/LvdZfCQm7?mblogid=LvdZfCQm7&luicode=10000011&lfid=1076032830678474\",\n",
      "                \"mblog\": {\n",
      "                    \"visible\": {\n",
      "                        \"type\": 0,\n",
      "                        \"list_id\": 0\n",
      "                    },\n",
      "                    \"created_at\": \"Sun May 29 11:09:06 +0800 2022\",\n",
      "                    \"id\": \"4774419379257723\",\n",
      "                    \"mid\": \"4774419379257723\",\n",
      "                    \"can_edit\": false,\n",
      "                    \"show_additional_indication\": 0,\n",
      "                    \"text\": \"<span class=\\\"url-icon\\\"><img alt=[\\u4e8c\\u54c8] src=\\\"https://h5.sinaimg.cn/m/emoticon/icon/others/d_erha-139d0e07bd.png\\\" style=\\\"width:1em; height:1em;\\\" /></span><span class=\\\"url-icon\\\"><img alt=[\\u4e8c\\u54c8] src=\\\"https://h5.sinaimg.cn/m/emoticon/icon/others/d_erha-139d0e07bd.png\\\" style=\\\"width:1em; height:1em;\\\" /></span><span class=\\\"url-icon\\\"><img alt=[\\u4e8c\\u54c8] src=\\\"https://h5.sinaimg.cn/m/emoticon/icon/others/d_erha-139d0e07bd.png\\\" style=\\\"width:1em; height:1em;\\\" /></span>\",\n",
      "                    \"source\": \"iPhone 12 Pro Max\",\n",
      "                    \"favorited\": false,\n",
      "                    \"pic_ids\": [],\n",
      "                    \"is_paid\": false,\n",
      "                    \"mblog_vip_type\": 0,\n",
      "                    \"user\": {\n",
      "                        \"id\": 2830678474,\n",
      "                        \"screen_name\": \"\\u5d14\\u5e86\\u624d\\u4e28\\u9759\\u89c5\",\n",
      "                        \"profile_image_url\": \"https://tva3.sinaimg.cn/crop.0.0.458.458.180/a8b8b9cajw8exsgha3l4uj20cq0crmy5.jpg?KID=imgbed,tva&Expires=1657798917&ssig=f9r6AEyfyW\",\n",
      "                        \"profile_url\": \"https://m.weibo.cn/u/2830678474?uid=2830678474&luicode=10000011&lfid=1076032830678474\",\n",
      "                        \"statuses_count\": 2507,\n",
      "                        \"verified\": true,\n",
      "                        \"verified_type\": 0,\n",
      "                        \"verified_type_ext\": 0,\n",
      "                        \"verified_reason\": \"\\u4e92\\u8054\\u7f51\\u79d1\\u6280\\u535a\\u4e3b\",\n",
      "                        \"close_blue_v\": false,\n",
      "                        \"description\": \"cuiqingcai.com\",\n",
      "                        \"gender\": \"m\",\n",
      "                        \"mbtype\": 12,\n",
      "                        \"urank\": 36,\n",
      "                        \"mbrank\": 7,\n",
      "                        \"follow_me\": false,\n",
      "                        \"following\": false,\n",
      "                        \"follow_count\": 1172,\n",
      "                        \"followers_count\": \"1.1\\u4e07\",\n",
      "                        \"followers_count_str\": \"1.1\\u4e07\",\n",
      "                        \"cover_image_phone\": \"https://tva1.sinaimg.cn/crop.0.0.640.640.640/549d0121tw1egm1kjly3jj20hs0hsq4f.jpg\",\n",
      "                        \"avatar_hd\": \"https://ww3.sinaimg.cn/orj480/a8b8b9cajw8exsgha3l4uj20cq0crmy5.jpg\",\n",
      "                        \"like\": false,\n",
      "                        \"like_me\": false,\n",
      "                        \"badge\": {\n",
      "                            \"bind_taobao\": 1,\n",
      "                            \"unread_pool\": 1,\n",
      "                            \"unread_pool_ext\": 1,\n",
      "                            \"dzwbqlx_2016\": 1,\n",
      "                            \"panda\": 1,\n",
      "                            \"user_name_certificate\": 1,\n",
      "                            \"qixi_2018\": 1,\n",
      "                            \"status_visible\": 1,\n",
      "                            \"hongrenjie_2019\": 1,\n",
      "                            \"china_2019\": 1,\n",
      "                            \"hongkong_2019\": 1,\n",
      "                            \"hongbao_2020\": 2,\n",
      "                            \"pc_new\": 7,\n",
      "                            \"party_cardid_state\": 1,\n",
      "                            \"aoyun_2021\": 1\n",
      "                        }\n",
      "                    },\n",
      "                    \"retweeted_status\": {\n",
      "                        \"visible\": {\n",
      "                            \"type\": 0,\n",
      "                            \"list_id\": 0\n",
      "                        },\n",
      "                        \"created_at\": \"Sun May 29 10:00:02 +0800 2022\",\n",
      "                        \"id\": \"4774401993868754\",\n",
      "                        \"mid\": \"4774401993868754\",\n",
      "                        \"can_edit\": false,\n",
      "                        \"show_additional_indication\": 0,\n",
      "                        \"text\": \"\\u87ba\\u86f3\\u7c89\\u51b0\\u68cd\\u2026\\u2026 \",\n",
      "                        \"textLength\": 14,\n",
      "                        \"source\": \"\\u5fae\\u535a weibo.com\",\n",
      "                        \"favorited\": false,\n",
      "                        \"pic_ids\": [\n",
      "                            \"001TVDbigy1h2oiq8hxozj60j60jh76002\",\n",
      "                            \"001TVDbigy1h2oiq8kw33j60j60jmgmr02\",\n",
      "                            \"001TVDbigy1h2oiq8h1hwj60j60j8q4202\",\n",
      "                            \"001TVDbigy1h2oiq8hxqnj60j60g7js902\"\n",
      "                        ],\n",
      "                        \"thumbnail_pic\": \"https://wx1.sinaimg.cn/thumbnail/001TVDbigy1h2oiq8hxozj60j60jh76002.jpg\",\n",
      "                        \"bmiddle_pic\": \"http://wx1.sinaimg.cn/bmiddle/001TVDbigy1h2oiq8hxozj60j60jh76002.jpg\",\n",
      "                        \"original_pic\": \"https://wx1.sinaimg.cn/large/001TVDbigy1h2oiq8hxozj60j60jh76002.jpg\",\n",
      "                        \"is_paid\": false,\n",
      "                        \"mblog_vip_type\": 0,\n",
      "                        \"user\": {\n",
      "                            \"id\": 1742566624,\n",
      "                            \"screen_name\": \"\\u601d\\u60f3\\u805a\\u7126\",\n",
      "                            \"profile_image_url\": \"https://tvax2.sinaimg.cn/crop.0.0.180.180.180/67dd74e0ly8fvv8h7c3ylj2050050aac.jpg?KID=imgbed,tva&Expires=1657798917&ssig=V7%2BNcRguVq\",\n",
      "                            \"profile_url\": \"https://m.weibo.cn/u/1742566624?uid=1742566624&luicode=10000011&lfid=1076032830678474\",\n",
      "                            \"statuses_count\": 124433,\n",
      "                            \"verified\": true,\n",
      "                            \"verified_type\": 0,\n",
      "                            \"verified_type_ext\": 1,\n",
      "                            \"verified_reason\": \"\\u5fae\\u535a\\u77e5\\u540d\\u535a\\u4e3b \\u89c6\\u9891\\u535a\\u4e3b\",\n",
      "                            \"close_blue_v\": false,\n",
      "                            \"description\": \"QQ:3163512220 \\u6295\\u7a3f\\u90ae\\u7bb1\\uff1a1457107986@qq.com\",\n",
      "                            \"gender\": \"m\",\n",
      "                            \"mbtype\": 12,\n",
      "                            \"urank\": 48,\n",
      "                            \"mbrank\": 7,\n",
      "                            \"follow_me\": false,\n",
      "                            \"following\": false,\n",
      "                            \"follow_count\": 1642,\n",
      "                            \"followers_count\": \"3450.7\\u4e07\",\n",
      "                            \"followers_count_str\": \"3450.7\\u4e07\",\n",
      "                            \"cover_image_phone\": \"https://tva3.sinaimg.cn/crop.0.0.640.640.640/6ce2240djw1e9oaqhwllzj20hs0hsdir.jpg\",\n",
      "                            \"avatar_hd\": \"https://wx2.sinaimg.cn/orj480/67dd74e0ly8fvv8h7c3ylj2050050aac.jpg\",\n",
      "                            \"like\": false,\n",
      "                            \"like_me\": false,\n",
      "                            \"badge\": {\n",
      "                                \"gongyi_level\": 1,\n",
      "                                \"bind_taobao\": 1,\n",
      "                                \"dailv\": 1,\n",
      "                                \"zongyiji\": 1,\n",
      "                                \"self_media\": 1,\n",
      "                                \"dzwbqlx_2016\": 1,\n",
      "                                \"follow_whitelist_video\": 1,\n",
      "                                \"super_star_2017\": 1,\n",
      "                                \"travel_2017\": 1,\n",
      "                                \"user_name_certificate\": 1,\n",
      "                                \"suishoupai_2018\": 5,\n",
      "                                \"wenchuan_10th\": 1,\n",
      "                                \"super_star_2018\": 1,\n",
      "                                \"worldcup_2018\": 34,\n",
      "                                \"dailv_2018\": 1,\n",
      "                                \"qixi_2018\": 1,\n",
      "                                \"meilizhongguo_2018\": 1,\n",
      "                                \"national_day_2018\": 1,\n",
      "                                \"memorial_2018\": 1,\n",
      "                                \"hongbaofei_2019\": 1,\n",
      "                                \"status_visible\": 1,\n",
      "                                \"suishoupai_2019\": 1,\n",
      "                                \"wusi_2019\": 1,\n",
      "                                \"earth_2019\": 1,\n",
      "                                \"hongrenjie_2019\": 1,\n",
      "                                \"china_2019\": 1,\n",
      "                                \"hongkong_2019\": 1,\n",
      "                                \"rrgyj_2019\": 1,\n",
      "                                \"cishan_2019\": 1,\n",
      "                                \"weishi_2019\": 1,\n",
      "                                \"shuang11_2019\": 1,\n",
      "                                \"gongjiri_2019\": 1,\n",
      "                                \"macao_2019\": 1,\n",
      "                                \"china_2019_2\": 1,\n",
      "                                \"hongbao_2020\": 1,\n",
      "                                \"feiyan_2020\": 1,\n",
      "                                \"hope_2020\": 1,\n",
      "                                \"pc_new\": 6,\n",
      "                                \"dailv_2020\": 1,\n",
      "                                \"school_2020\": 1,\n",
      "                                \"gongyi_2020\": 3,\n",
      "                                \"hongrenjie_2020\": 1,\n",
      "                                \"china_2020\": 1,\n",
      "                                \"hongbaofeifuniu_2021\": 1,\n",
      "                                \"lvzhilingyang_2021\": 1,\n",
      "                                \"yuanlongping_2021\": 1,\n",
      "                                \"ylpshuidao_2021\": 1,\n",
      "                                \"gaokao_2021\": 1,\n",
      "                                \"ouzhoubei_2021\": 24,\n",
      "                                \"biyeji_2021\": 1,\n",
      "                                \"party_cardid_state\": 2,\n",
      "                                \"aoyun_2021\": 1,\n",
      "                                \"kaixue21_2021\": 1,\n",
      "                                \"renrengongyijie_2021\": 1,\n",
      "                                \"yinyuejie21_2021\": 1,\n",
      "                                \"hongbaofei2022_2021\": 2,\n",
      "                                \"newdongaohui_2022\": 1,\n",
      "                                \"nihaochuntian_2022\": 1,\n",
      "                                \"biyeji_2022\": 1,\n",
      "                                \"gaokao_2022\": 1,\n",
      "                                \"hangmu_2022\": 1,\n",
      "                                \"guoqi_2022\": 1,\n",
      "                                \"gangqi_2022\": 1\n",
      "                            }\n",
      "                        },\n",
      "                        \"reposts_count\": 1153,\n",
      "                        \"comments_count\": 1110,\n",
      "                        \"reprint_cmt_count\": 0,\n",
      "                        \"attitudes_count\": 3270,\n",
      "                        \"pending_approval_count\": 0,\n",
      "                        \"isLongText\": false,\n",
      "                        \"mlevel\": 0,\n",
      "                        \"darwin_tags\": [],\n",
      "                        \"hot_page\": {\n",
      "                            \"fid\": \"232532_mblog\",\n",
      "                            \"feed_detail_type\": 0\n",
      "                        },\n",
      "                        \"mblogtype\": 0,\n",
      "                        \"rid\": \"9_0_50_6670129651442252876_0_0_0\",\n",
      "                        \"cardid\": \"star_1573\",\n",
      "                        \"number_display_strategy\": {\n",
      "                            \"apply_scenario_flag\": 3,\n",
      "                            \"display_text_min_number\": 1000000,\n",
      "                            \"display_text\": \"100\\u4e07+\"\n",
      "                        },\n",
      "                        \"content_auth\": 0,\n",
      "                        \"safe_tags\": 67108864,\n",
      "                        \"comment_manage_info\": {\n",
      "                            \"comment_permission_type\": -1,\n",
      "                            \"approval_comment_type\": 0,\n",
      "                            \"comment_sort_type\": 0\n",
      "                        },\n",
      "                        \"pic_num\": 4,\n",
      "                        \"new_comment_style\": 0,\n",
      "                        \"region_name\": \"\\u53d1\\u5e03\\u4e8e \\u5e7f\\u4e1c\",\n",
      "                        \"region_opt\": 1,\n",
      "                        \"edit_config\": {\n",
      "                            \"edited\": false\n",
      "                        },\n",
      "                        \"pics\": [\n",
      "                            {\n",
      "                                \"pid\": \"001TVDbigy1h2oiq8hxozj60j60jh76002\",\n",
      "                                \"url\": \"https://wx1.sinaimg.cn/orj360/001TVDbigy1h2oiq8hxozj60j60jh76002.jpg\",\n",
      "                                \"size\": \"orj360\",\n",
      "                                \"geo\": {\n",
      "                                    \"width\": 360,\n",
      "                                    \"height\": 365,\n",
      "                                    \"croped\": false\n",
      "                                },\n",
      "                                \"large\": {\n",
      "                                    \"size\": \"large\",\n",
      "                                    \"url\": \"https://wx1.sinaimg.cn/large/001TVDbigy1h2oiq8hxozj60j60jh76002.jpg\",\n",
      "                                    \"geo\": {\n",
      "                                        \"width\": \"690\",\n",
      "                                        \"height\": \"701\",\n",
      "                                        \"croped\": false\n",
      "                                    }\n",
      "                                }\n",
      "                            },\n",
      "                            {\n",
      "                                \"pid\": \"001TVDbigy1h2oiq8kw33j60j60jmgmr02\",\n",
      "                                \"url\": \"https://wx1.sinaimg.cn/orj360/001TVDbigy1h2oiq8kw33j60j60jmgmr02.jpg\",\n",
      "                                \"size\": \"orj360\",\n",
      "                                \"geo\": {\n",
      "                                    \"width\": 360,\n",
      "                                    \"height\": 368,\n",
      "                                    \"croped\": false\n",
      "                                },\n",
      "                                \"large\": {\n",
      "                                    \"size\": \"large\",\n",
      "                                    \"url\": \"https://wx1.sinaimg.cn/large/001TVDbigy1h2oiq8kw33j60j60jmgmr02.jpg\",\n",
      "                                    \"geo\": {\n",
      "                                        \"width\": \"690\",\n",
      "                                        \"height\": \"706\",\n",
      "                                        \"croped\": false\n",
      "                                    }\n",
      "                                }\n",
      "                            },\n",
      "                            {\n",
      "                                \"pid\": \"001TVDbigy1h2oiq8h1hwj60j60j8q4202\",\n",
      "                                \"url\": \"https://wx3.sinaimg.cn/orj360/001TVDbigy1h2oiq8h1hwj60j60j8q4202.jpg\",\n",
      "                                \"size\": \"orj360\",\n",
      "                                \"geo\": {\n",
      "                                    \"width\": 360,\n",
      "                                    \"height\": 361,\n",
      "                                    \"croped\": false\n",
      "                                },\n",
      "                                \"large\": {\n",
      "                                    \"size\": \"large\",\n",
      "                                    \"url\": \"https://wx3.sinaimg.cn/large/001TVDbigy1h2oiq8h1hwj60j60j8q4202.jpg\",\n",
      "                                    \"geo\": {\n",
      "                                        \"width\": \"690\",\n",
      "                                        \"height\": \"692\",\n",
      "                                        \"croped\": false\n",
      "                                    }\n",
      "                                }\n",
      "                            },\n",
      "                            {\n",
      "                                \"pid\": \"001TVDbigy1h2oiq8hxqnj60j60g7js902\",\n",
      "                                \"url\": \"https://wx2.sinaimg.cn/orj360/001TVDbigy1h2oiq8hxqnj60j60g7js902.jpg\",\n",
      "                                \"size\": \"orj360\",\n",
      "                                \"geo\": {\n",
      "                                    \"width\": 319,\n",
      "                                    \"height\": 270,\n",
      "                                    \"croped\": false\n",
      "                                },\n",
      "                                \"large\": {\n",
      "                                    \"size\": \"large\",\n",
      "                                    \"url\": \"https://wx2.sinaimg.cn/large/001TVDbigy1h2oiq8hxqnj60j60g7js902.jpg\",\n",
      "                                    \"geo\": {\n",
      "                                        \"width\": \"690\",\n",
      "                                        \"height\": \"583\",\n",
      "                                        \"croped\": false\n",
      "                                    }\n",
      "                                }\n",
      "                            }\n",
      "                        ],\n",
      "                        \"bid\": \"Lvdxdgerg\"\n",
      "                    },\n",
      "                    \"reposts_count\": 0,\n",
      "                    \"comments_count\": 0,\n",
      "                    \"reprint_cmt_count\": 0,\n",
      "                    \"attitudes_count\": 0,\n",
      "                    \"pending_approval_count\": 0,\n",
      "                    \"isLongText\": false,\n",
      "                    \"mlevel\": 0,\n",
      "                    \"darwin_tags\": [],\n",
      "                    \"hot_page\": {\n",
      "                        \"fid\": \"232532_mblog\",\n",
      "                        \"feed_detail_type\": 0\n",
      "                    },\n",
      "                    \"mblogtype\": 0,\n",
      "                    \"rid\": \"9_0_50_6670129651442252876_0_0_0\",\n",
      "                    \"cardid\": \"vip_010\",\n",
      "                    \"extern_safe\": 0,\n",
      "                    \"number_display_strategy\": {\n",
      "                        \"apply_scenario_flag\": 3,\n",
      "                        \"display_text_min_number\": 1000000,\n",
      "                        \"display_text\": \"100\\u4e07+\"\n",
      "                    },\n",
      "                    \"content_auth\": 0,\n",
      "                    \"comment_manage_info\": {\n",
      "                        \"comment_permission_type\": -1,\n",
      "                        \"approval_comment_type\": 0,\n",
      "                        \"comment_sort_type\": 0\n",
      "                    },\n",
      "                    \"repost_type\": 1,\n",
      "                    \"pic_num\": 0,\n",
      "                    \"new_comment_style\": 0,\n",
      "                    \"ab_switcher\": 4,\n",
      "                    \"region_name\": \"\\u53d1\\u5e03\\u4e8e \\u5317\\u4eac\",\n",
      "                    \"region_opt\": 1,\n",
      "                    \"mblog_menu_new_style\": 0,\n",
      "                    \"edit_config\": {\n",
      "                        \"edited\": false\n",
      "                    },\n",
      "                    \"raw_text\": \"[\\u4e8c\\u54c8][\\u4e8c\\u54c8][\\u4e8c\\u54c8]\",\n",
      "                    \"bid\": \"LvdZfCQm7\"\n",
      "                }\n",
      "            }\n",
      "        ],\n",
      "        \"scheme\": \"sinaweibo://cardlist?containerid=1076032830678474&type=uid&value=2830678474&_T_WM=64155236321&v_p=42&luicode=10000011&lfid=1076032830678474\",\n",
      "        \"showAppTips\": 0\n",
      "    }\n",
      "}\n"
     ]
    }
   ],
   "source": [
    "print(json.dumps(s, indent=4))"
   ]
  },
  {
   "cell_type": "code",
   "execution_count": 203,
   "id": "e17a0ff3",
   "metadata": {},
   "outputs": [
    {
     "data": {
      "text/plain": [
       "{'cardlistInfo': {'containerid': '1076032830678474',\n",
       "  'v_p': 42,\n",
       "  'show_style': 1,\n",
       "  'total': 198,\n",
       "  'since_id': 4774091682746723},\n",
       " 'cards': [{'card_type': 9,\n",
       "   'profile_type_id': 'proweibo_4787545654952441',\n",
       "   'itemid': '1076032830678474_-_4787545654952441',\n",
       "   'scheme': 'https://m.weibo.cn/status/LAJsFkMm5?mblogid=LAJsFkMm5&luicode=10000011&lfid=1076032830678474',\n",
       "   'mblog': {'visible': {'type': 0, 'list_id': 0},\n",
       "    'created_at': 'Mon Jul 04 16:28:14 +0800 2022',\n",
       "    'id': '4787545654952441',\n",
       "    'mid': '4787545654952441',\n",
       "    'can_edit': False,\n",
       "    'show_additional_indication': 0,\n",
       "    'text': '转发微博',\n",
       "    'source': 'iPhone 12 Pro Max',\n",
       "    'favorited': False,\n",
       "    'pic_ids': [],\n",
       "    'is_paid': False,\n",
       "    'mblog_vip_type': 0,\n",
       "    'user': {'id': 2830678474,\n",
       "     'screen_name': '崔庆才丨静觅',\n",
       "     'profile_image_url': 'https://tva3.sinaimg.cn/crop.0.0.458.458.180/a8b8b9cajw8exsgha3l4uj20cq0crmy5.jpg?KID=imgbed,tva&Expires=1657798917&ssig=f9r6AEyfyW',\n",
       "     'profile_url': 'https://m.weibo.cn/u/2830678474?uid=2830678474&luicode=10000011&lfid=1076032830678474',\n",
       "     'statuses_count': 2507,\n",
       "     'verified': True,\n",
       "     'verified_type': 0,\n",
       "     'verified_type_ext': 0,\n",
       "     'verified_reason': '互联网科技博主',\n",
       "     'close_blue_v': False,\n",
       "     'description': 'cuiqingcai.com',\n",
       "     'gender': 'm',\n",
       "     'mbtype': 12,\n",
       "     'urank': 36,\n",
       "     'mbrank': 7,\n",
       "     'follow_me': False,\n",
       "     'following': False,\n",
       "     'follow_count': 1172,\n",
       "     'followers_count': '1.1万',\n",
       "     'followers_count_str': '1.1万',\n",
       "     'cover_image_phone': 'https://tva1.sinaimg.cn/crop.0.0.640.640.640/549d0121tw1egm1kjly3jj20hs0hsq4f.jpg',\n",
       "     'avatar_hd': 'https://ww3.sinaimg.cn/orj480/a8b8b9cajw8exsgha3l4uj20cq0crmy5.jpg',\n",
       "     'like': False,\n",
       "     'like_me': False,\n",
       "     'badge': {'bind_taobao': 1,\n",
       "      'unread_pool': 1,\n",
       "      'unread_pool_ext': 1,\n",
       "      'dzwbqlx_2016': 1,\n",
       "      'panda': 1,\n",
       "      'user_name_certificate': 1,\n",
       "      'qixi_2018': 1,\n",
       "      'status_visible': 1,\n",
       "      'hongrenjie_2019': 1,\n",
       "      'china_2019': 1,\n",
       "      'hongkong_2019': 1,\n",
       "      'hongbao_2020': 2,\n",
       "      'pc_new': 7,\n",
       "      'party_cardid_state': 1,\n",
       "      'aoyun_2021': 1}},\n",
       "    'retweeted_status': {'visible': {'type': 0, 'list_id': 0},\n",
       "     'created_at': 'Mon Jul 04 11:50:23 +0800 2022',\n",
       "     'id': '4787475727520684',\n",
       "     'mid': '4787475727520684',\n",
       "     'can_edit': False,\n",
       "     'show_additional_indication': 0,\n",
       "     'text': '怎么看待阿里巴巴关于要裁员2万人回应?<br /><br />我本来是想实名的，考虑到老东家可能还是有人知道我在这里，还是算了。<br /><br />说实话，是好事，是给这2w人一个机会，现在裁员有赔偿，你拿到这笔赔偿金可以给自己一个缓冲期。而且，就业市场没有之后那么拥挤。<br /><br />先说结论，后面阿里巴巴大概率是分拆或者破产的。<br /><br />我 ...<a href=\"/status/4787475727520684\">全文</a>',\n",
       "     'textLength': 1836,\n",
       "     'source': '荣耀30 5G',\n",
       "     'favorited': False,\n",
       "     'pic_ids': ['5f389265ly1h3ur3r6k3oj20iz0q678o'],\n",
       "     'thumbnail_pic': 'https://wx1.sinaimg.cn/thumbnail/5f389265ly1h3ur3r6k3oj20iz0q678o.jpg',\n",
       "     'bmiddle_pic': 'http://wx1.sinaimg.cn/bmiddle/5f389265ly1h3ur3r6k3oj20iz0q678o.jpg',\n",
       "     'original_pic': 'https://wx1.sinaimg.cn/large/5f389265ly1h3ur3r6k3oj20iz0q678o.jpg',\n",
       "     'is_paid': False,\n",
       "     'mblog_vip_type': 0,\n",
       "     'user': {'id': 1597543013,\n",
       "      'screen_name': '延向东',\n",
       "      'profile_image_url': 'https://tvax4.sinaimg.cn/crop.0.0.1080.1080.180/5f389265ly8gy0or3ixb2j20u00u075v.jpg?KID=imgbed,tva&Expires=1657798917&ssig=rA%2BBV8v%2BKg',\n",
       "      'profile_url': 'https://m.weibo.cn/u/1597543013?uid=1597543013&luicode=10000011&lfid=1076032830678474',\n",
       "      'statuses_count': 1976,\n",
       "      'verified': True,\n",
       "      'verified_type': 0,\n",
       "      'verified_type_ext': 0,\n",
       "      'verified_reason': '头条文章作者',\n",
       "      'close_blue_v': False,\n",
       "      'description': '我思故我在',\n",
       "      'gender': 'm',\n",
       "      'mbtype': 2,\n",
       "      'urank': 30,\n",
       "      'mbrank': 6,\n",
       "      'follow_me': False,\n",
       "      'following': False,\n",
       "      'follow_count': 2165,\n",
       "      'followers_count': '40万',\n",
       "      'followers_count_str': '40万',\n",
       "      'cover_image_phone': 'https://tva1.sinaimg.cn/crop.0.0.640.640.640/9d44112bjw1f1xl1c10tuj20hs0hs0tw.jpg',\n",
       "      'avatar_hd': 'https://wx4.sinaimg.cn/orj480/5f389265ly8gy0or3ixb2j20u00u075v.jpg',\n",
       "      'like': False,\n",
       "      'like_me': False,\n",
       "      'badge': {'bind_taobao': 1,\n",
       "       'follow_whitelist_video': 1,\n",
       "       'user_name_certificate': 1,\n",
       "       'relation_display': 1,\n",
       "       'fishfarm_2021': 1,\n",
       "       'iplocationchange_2022': 1}},\n",
       "     'reposts_count': 10,\n",
       "     'comments_count': 5,\n",
       "     'reprint_cmt_count': 0,\n",
       "     'attitudes_count': 20,\n",
       "     'pending_approval_count': 0,\n",
       "     'isLongText': True,\n",
       "     'mlevel': 0,\n",
       "     'darwin_tags': [],\n",
       "     'hot_page': {'fid': '232532_mblog', 'feed_detail_type': 0},\n",
       "     'mblogtype': 0,\n",
       "     'rid': '0_0_50_6670129651442252876_0_0_0',\n",
       "     'number_display_strategy': {'apply_scenario_flag': 3,\n",
       "      'display_text_min_number': 1000000,\n",
       "      'display_text': '100万+'},\n",
       "     'content_auth': 0,\n",
       "     'comment_manage_info': {'comment_permission_type': -1,\n",
       "      'approval_comment_type': 0,\n",
       "      'comment_sort_type': 0},\n",
       "     'pic_num': 1,\n",
       "     'new_comment_style': 0,\n",
       "     'region_name': '发布于 北京',\n",
       "     'region_opt': 1,\n",
       "     'edit_config': {'edited': False},\n",
       "     'pics': [{'pid': '5f389265ly1h3ur3r6k3oj20iz0q678o',\n",
       "       'url': 'https://wx1.sinaimg.cn/orj360/5f389265ly1h3ur3r6k3oj20iz0q678o.jpg',\n",
       "       'size': 'orj360',\n",
       "       'geo': {'width': 360, 'height': 496, 'croped': False},\n",
       "       'large': {'size': 'large',\n",
       "        'url': 'https://wx1.sinaimg.cn/large/5f389265ly1h3ur3r6k3oj20iz0q678o.jpg',\n",
       "        'geo': {'width': '683', 'height': '942', 'croped': False}}}],\n",
       "     'bid': 'LAHDSvytm'},\n",
       "    'reposts_count': 0,\n",
       "    'comments_count': 0,\n",
       "    'reprint_cmt_count': 0,\n",
       "    'attitudes_count': 1,\n",
       "    'pending_approval_count': 0,\n",
       "    'isLongText': False,\n",
       "    'mlevel': 0,\n",
       "    'darwin_tags': [],\n",
       "    'hot_page': {'fid': '232532_mblog', 'feed_detail_type': 0},\n",
       "    'mblogtype': 0,\n",
       "    'rid': '0_0_50_6670129651442252876_0_0_0',\n",
       "    'cardid': 'vip_010',\n",
       "    'extern_safe': 0,\n",
       "    'number_display_strategy': {'apply_scenario_flag': 3,\n",
       "     'display_text_min_number': 1000000,\n",
       "     'display_text': '100万+'},\n",
       "    'content_auth': 0,\n",
       "    'comment_manage_info': {'comment_permission_type': -1,\n",
       "     'approval_comment_type': 0,\n",
       "     'comment_sort_type': 0},\n",
       "    'repost_type': 1,\n",
       "    'pic_num': 0,\n",
       "    'new_comment_style': 0,\n",
       "    'ab_switcher': 4,\n",
       "    'region_name': '发布于 北京',\n",
       "    'region_opt': 1,\n",
       "    'mblog_menu_new_style': 0,\n",
       "    'edit_config': {'edited': False},\n",
       "    'raw_text': '转发微博',\n",
       "    'bid': 'LAJsFkMm5'}},\n",
       "  {'card_type': 9,\n",
       "   'profile_type_id': 'proweibo_4787127352559634',\n",
       "   'itemid': '1076032830678474_-_4787127352559634',\n",
       "   'scheme': 'https://m.weibo.cn/status/LAyzZaJSq?mblogid=LAyzZaJSq&luicode=10000011&lfid=1076032830678474',\n",
       "   'mblog': {'visible': {'type': 0, 'list_id': 0},\n",
       "    'created_at': 'Sun Jul 03 12:46:04 +0800 2022',\n",
       "    'id': '4787127352559634',\n",
       "    'mid': '4787127352559634',\n",
       "    'can_edit': False,\n",
       "    'show_additional_indication': 0,\n",
       "    'text': '转发微博',\n",
       "    'source': 'iPhone 12 Pro Max',\n",
       "    'favorited': False,\n",
       "    'pic_ids': [],\n",
       "    'is_paid': False,\n",
       "    'mblog_vip_type': 0,\n",
       "    'user': {'id': 2830678474,\n",
       "     'screen_name': '崔庆才丨静觅',\n",
       "     'profile_image_url': 'https://tva3.sinaimg.cn/crop.0.0.458.458.180/a8b8b9cajw8exsgha3l4uj20cq0crmy5.jpg?KID=imgbed,tva&Expires=1657798917&ssig=f9r6AEyfyW',\n",
       "     'profile_url': 'https://m.weibo.cn/u/2830678474?uid=2830678474&luicode=10000011&lfid=1076032830678474',\n",
       "     'statuses_count': 2507,\n",
       "     'verified': True,\n",
       "     'verified_type': 0,\n",
       "     'verified_type_ext': 0,\n",
       "     'verified_reason': '互联网科技博主',\n",
       "     'close_blue_v': False,\n",
       "     'description': 'cuiqingcai.com',\n",
       "     'gender': 'm',\n",
       "     'mbtype': 12,\n",
       "     'urank': 36,\n",
       "     'mbrank': 7,\n",
       "     'follow_me': False,\n",
       "     'following': False,\n",
       "     'follow_count': 1172,\n",
       "     'followers_count': '1.1万',\n",
       "     'followers_count_str': '1.1万',\n",
       "     'cover_image_phone': 'https://tva1.sinaimg.cn/crop.0.0.640.640.640/549d0121tw1egm1kjly3jj20hs0hsq4f.jpg',\n",
       "     'avatar_hd': 'https://ww3.sinaimg.cn/orj480/a8b8b9cajw8exsgha3l4uj20cq0crmy5.jpg',\n",
       "     'like': False,\n",
       "     'like_me': False,\n",
       "     'badge': {'bind_taobao': 1,\n",
       "      'unread_pool': 1,\n",
       "      'unread_pool_ext': 1,\n",
       "      'dzwbqlx_2016': 1,\n",
       "      'panda': 1,\n",
       "      'user_name_certificate': 1,\n",
       "      'qixi_2018': 1,\n",
       "      'status_visible': 1,\n",
       "      'hongrenjie_2019': 1,\n",
       "      'china_2019': 1,\n",
       "      'hongkong_2019': 1,\n",
       "      'hongbao_2020': 2,\n",
       "      'pc_new': 7,\n",
       "      'party_cardid_state': 1,\n",
       "      'aoyun_2021': 1}},\n",
       "    'retweeted_status': {'visible': {'type': 0, 'list_id': 0},\n",
       "     'created_at': 'Sun Jul 03 11:08:40 +0800 2022',\n",
       "     'id': '4787102842098366',\n",
       "     'mid': '4787102842098366',\n",
       "     'can_edit': False,\n",
       "     'show_additional_indication': 0,\n",
       "     'text': '我判断以后各大城市都会争抢两类人才，1）高学历毕业生 2）高水平创业者 。原因很简单，这些人能买房，土地财政能run下去；解决和带动就业，城市活力能起来。我大胆预测未来包括北上都会让985毕业生无条件落户；创业老板解决xx人就业直接落户；纳税xx元直接落户。李铁为证，其他二线城市会越来越难，只 ...<a href=\"/status/4787102842098366\">全文</a>',\n",
       "     'textLength': 306,\n",
       "     'source': 'iPhone 13 Pro Max',\n",
       "     'favorited': False,\n",
       "     'pic_ids': [],\n",
       "     'is_paid': False,\n",
       "     'mblog_vip_type': 0,\n",
       "     'user': {'id': 2131170823,\n",
       "      'screen_name': '梁博penny',\n",
       "      'profile_image_url': 'https://tva2.sinaimg.cn/crop.0.0.180.180.180/7f071607jw1e8qgp5bmzyj2050050aa8.jpg?KID=imgbed,tva&Expires=1657798917&ssig=jPI4DdyfD9',\n",
       "      'profile_url': 'https://m.weibo.cn/u/2131170823?uid=2131170823&luicode=10000011&lfid=1076032830678474',\n",
       "      'statuses_count': 2737,\n",
       "      'verified': False,\n",
       "      'verified_type': -1,\n",
       "      'close_blue_v': False,\n",
       "      'description': '北京八友科技联合创始人，清华大学计算机人工智能博士，创业者，详情见：http://www.pennyliang.com/',\n",
       "      'gender': 'm',\n",
       "      'mbtype': 12,\n",
       "      'urank': 22,\n",
       "      'mbrank': 4,\n",
       "      'follow_me': False,\n",
       "      'following': False,\n",
       "      'follow_count': 1095,\n",
       "      'followers_count': '12万',\n",
       "      'followers_count_str': '12万',\n",
       "      'cover_image_phone': 'https://tva1.sinaimg.cn/crop.0.0.640.640.640/549d0121tw1egm1kjly3jj20hs0hsq4f.jpg',\n",
       "      'avatar_hd': 'https://ww2.sinaimg.cn/orj480/7f071607jw1e8qgp5bmzyj2050050aa8.jpg',\n",
       "      'like': False,\n",
       "      'like_me': False,\n",
       "      'badge': {'user_name_certificate': 1,\n",
       "       'weibo_display_fans': 1,\n",
       "       'relation_display': 1,\n",
       "       'status_visible': 1,\n",
       "       'pc_new': 7,\n",
       "       'pc_experiment': 1,\n",
       "       'city_university': 10,\n",
       "       'gaokao_2022': 1,\n",
       "       'hangmu_2022': 1}},\n",
       "     'reposts_count': 68,\n",
       "     'comments_count': 89,\n",
       "     'reprint_cmt_count': 0,\n",
       "     'attitudes_count': 278,\n",
       "     'pending_approval_count': 0,\n",
       "     'isLongText': True,\n",
       "     'mlevel': 0,\n",
       "     'darwin_tags': [],\n",
       "     'hot_page': {'fid': '232532_mblog', 'feed_detail_type': 0},\n",
       "     'mblogtype': 0,\n",
       "     'rid': '1_0_50_6670129651442252876_0_0_0',\n",
       "     'number_display_strategy': {'apply_scenario_flag': 3,\n",
       "      'display_text_min_number': 1000000,\n",
       "      'display_text': '100万+'},\n",
       "     'content_auth': 0,\n",
       "     'safe_tags': 34359738368,\n",
       "     'comment_manage_info': {'comment_permission_type': -1,\n",
       "      'approval_comment_type': 0,\n",
       "      'comment_sort_type': 0},\n",
       "     'pic_num': 0,\n",
       "     'new_comment_style': 0,\n",
       "     'region_name': '发布于 江苏',\n",
       "     'region_opt': 1,\n",
       "     'edit_config': {'edited': False},\n",
       "     'bid': 'LAxWs8NSC'},\n",
       "    'reposts_count': 0,\n",
       "    'comments_count': 0,\n",
       "    'reprint_cmt_count': 0,\n",
       "    'attitudes_count': 0,\n",
       "    'pending_approval_count': 0,\n",
       "    'isLongText': False,\n",
       "    'mlevel': 0,\n",
       "    'darwin_tags': [],\n",
       "    'hot_page': {'fid': '232532_mblog', 'feed_detail_type': 0},\n",
       "    'mblogtype': 0,\n",
       "    'rid': '1_0_50_6670129651442252876_0_0_0',\n",
       "    'cardid': 'vip_010',\n",
       "    'extern_safe': 0,\n",
       "    'number_display_strategy': {'apply_scenario_flag': 3,\n",
       "     'display_text_min_number': 1000000,\n",
       "     'display_text': '100万+'},\n",
       "    'content_auth': 0,\n",
       "    'comment_manage_info': {'comment_permission_type': -1,\n",
       "     'approval_comment_type': 0,\n",
       "     'comment_sort_type': 0},\n",
       "    'repost_type': 1,\n",
       "    'pic_num': 0,\n",
       "    'new_comment_style': 0,\n",
       "    'ab_switcher': 4,\n",
       "    'region_name': '发布于 北京',\n",
       "    'region_opt': 1,\n",
       "    'mblog_menu_new_style': 0,\n",
       "    'edit_config': {'edited': False},\n",
       "    'raw_text': '转发微博',\n",
       "    'bid': 'LAyzZaJSq'}},\n",
       "  {'card_type': 9,\n",
       "   'profile_type_id': 'proweibo_4779505241821018',\n",
       "   'itemid': '1076032830678474_-_4779505241821018',\n",
       "   'scheme': 'https://m.weibo.cn/status/Lxmig7DJg?mblogid=Lxmig7DJg&luicode=10000011&lfid=1076032830678474',\n",
       "   'mblog': {'visible': {'type': 0, 'list_id': 0},\n",
       "    'created_at': 'Sun Jun 12 11:58:31 +0800 2022',\n",
       "    'id': '4779505241821018',\n",
       "    'mid': '4779505241821018',\n",
       "    'can_edit': False,\n",
       "    'show_additional_indication': 0,\n",
       "    'text': '反人类的电梯设计，但想想也可以理解。<span class=\"url-icon\"><img alt=[二哈] src=\"https://h5.sinaimg.cn/m/emoticon/icon/others/d_erha-139d0e07bd.png\" style=\"width:1em; height:1em;\" /></span> <a  href=\"https://video.weibo.com/show?fid=1034:4779505139777624\" data-hide=\"\"><span class=\\'url-icon\\'><img style=\\'width: 1rem;height: 1rem\\' src=\\'https://h5.sinaimg.cn/upload/2015/09/25/3/timeline_card_small_video_default.png\\'></span><span class=\"surl-text\">崔庆才丨静觅的微博视频</span></a> ',\n",
       "    'textLength': 63,\n",
       "    'source': '微博视频号',\n",
       "    'favorited': False,\n",
       "    'pic_ids': [],\n",
       "    'is_paid': False,\n",
       "    'mblog_vip_type': 0,\n",
       "    'user': {'id': 2830678474,\n",
       "     'screen_name': '崔庆才丨静觅',\n",
       "     'profile_image_url': 'https://tva3.sinaimg.cn/crop.0.0.458.458.180/a8b8b9cajw8exsgha3l4uj20cq0crmy5.jpg?KID=imgbed,tva&Expires=1657798917&ssig=f9r6AEyfyW',\n",
       "     'profile_url': 'https://m.weibo.cn/u/2830678474?uid=2830678474&luicode=10000011&lfid=1076032830678474',\n",
       "     'statuses_count': 2507,\n",
       "     'verified': True,\n",
       "     'verified_type': 0,\n",
       "     'verified_type_ext': 0,\n",
       "     'verified_reason': '互联网科技博主',\n",
       "     'close_blue_v': False,\n",
       "     'description': 'cuiqingcai.com',\n",
       "     'gender': 'm',\n",
       "     'mbtype': 12,\n",
       "     'urank': 36,\n",
       "     'mbrank': 7,\n",
       "     'follow_me': False,\n",
       "     'following': False,\n",
       "     'follow_count': 1172,\n",
       "     'followers_count': '1.1万',\n",
       "     'followers_count_str': '1.1万',\n",
       "     'cover_image_phone': 'https://tva1.sinaimg.cn/crop.0.0.640.640.640/549d0121tw1egm1kjly3jj20hs0hsq4f.jpg',\n",
       "     'avatar_hd': 'https://ww3.sinaimg.cn/orj480/a8b8b9cajw8exsgha3l4uj20cq0crmy5.jpg',\n",
       "     'like': False,\n",
       "     'like_me': False,\n",
       "     'badge': {'bind_taobao': 1,\n",
       "      'unread_pool': 1,\n",
       "      'unread_pool_ext': 1,\n",
       "      'dzwbqlx_2016': 1,\n",
       "      'panda': 1,\n",
       "      'user_name_certificate': 1,\n",
       "      'qixi_2018': 1,\n",
       "      'status_visible': 1,\n",
       "      'hongrenjie_2019': 1,\n",
       "      'china_2019': 1,\n",
       "      'hongkong_2019': 1,\n",
       "      'hongbao_2020': 2,\n",
       "      'pc_new': 7,\n",
       "      'party_cardid_state': 1,\n",
       "      'aoyun_2021': 1}},\n",
       "    'reposts_count': 0,\n",
       "    'comments_count': 3,\n",
       "    'reprint_cmt_count': 0,\n",
       "    'attitudes_count': 0,\n",
       "    'pending_approval_count': 0,\n",
       "    'isLongText': False,\n",
       "    'mlevel': 0,\n",
       "    'darwin_tags': [],\n",
       "    'hot_page': {'fid': '232532_mblog', 'feed_detail_type': 0},\n",
       "    'mblogtype': 0,\n",
       "    'rid': '2_0_50_6670129651442252876_0_0_0',\n",
       "    'cardid': 'vip_010',\n",
       "    'extern_safe': 0,\n",
       "    'number_display_strategy': {'apply_scenario_flag': 3,\n",
       "     'display_text_min_number': 1000000,\n",
       "     'display_text': '100万+'},\n",
       "    'content_auth': 0,\n",
       "    'safe_tags': 524288,\n",
       "    'comment_manage_info': {'comment_permission_type': -1,\n",
       "     'approval_comment_type': 0,\n",
       "     'comment_sort_type': 0},\n",
       "    'pic_num': 0,\n",
       "    'fid': 4779505154785300,\n",
       "    'new_comment_style': 0,\n",
       "    'ab_switcher': 4,\n",
       "    'region_name': '发布于 北京',\n",
       "    'region_opt': 1,\n",
       "    'mblog_menu_new_style': 0,\n",
       "    'edit_config': {'edited': False},\n",
       "    'page_info': {'type': 'video',\n",
       "     'object_type': 11,\n",
       "     'url_ori': 'http://t.cn/A6XktAcg',\n",
       "     'page_pic': {'width': 480,\n",
       "      'pid': 'a8b8b9caly1h35bpeboe2j20u01hc0xh',\n",
       "      'source': 21,\n",
       "      'is_self_cover': 0,\n",
       "      'type': 0,\n",
       "      'url': 'https://wx2.sinaimg.cn/orj480/a8b8b9caly1h35bpeboe2j20u01hc0xh.jpg',\n",
       "      'height': 853},\n",
       "     'page_url': 'https://video.weibo.com/show?fid=1034%3A4779505139777624&luicode=10000011&lfid=1076032830678474',\n",
       "     'object_id': '1034:4779505139777624',\n",
       "     'page_title': '崔庆才丨静觅的微博视频',\n",
       "     'title': '',\n",
       "     'content1': '崔庆才丨静觅的微博视频',\n",
       "     'content2': '反人类的电梯设计，但想想也可以理解。[二哈]',\n",
       "     'video_orientation': 'vertical',\n",
       "     'play_count': '1231次播放',\n",
       "     'media_info': {'stream_url': 'https://f.video.weibocdn.com/o0/q6zqr7gblx07WMGFUd6w010412000HZi0E010.mp4?label=mp4_ld&template=360x640.24.0&ori=0&ps=1CwnkDw1GXwCQx&Expires=1657791717&ssig=bkbSd4I68%2F&KID=unistore,video',\n",
       "      'stream_url_hd': 'https://f.video.weibocdn.com/o0/rWMSnW8Plx07WMGG1eCY010412001BlY0E010.mp4?label=mp4_hd&template=540x960.24.0&ori=0&ps=1CwnkDw1GXwCQx&Expires=1657791717&ssig=j3TZpI2IsJ&KID=unistore,video',\n",
       "      'duration': 4.363},\n",
       "     'urls': {'mp4_720p_mp4': 'https://f.video.weibocdn.com/o0/WXy34Jyzlx07WMGFKD9u010412002Fxo0E010.mp4?label=mp4_720p&template=720x1280.24.0&ori=0&ps=1CwnkDw1GXwCQx&Expires=1657791717&ssig=AnO9tnTJ7o&KID=unistore,video',\n",
       "      'mp4_hd_mp4': 'https://f.video.weibocdn.com/o0/rWMSnW8Plx07WMGG1eCY010412001BlY0E010.mp4?label=mp4_hd&template=540x960.24.0&ori=0&ps=1CwnkDw1GXwCQx&Expires=1657791717&ssig=j3TZpI2IsJ&KID=unistore,video',\n",
       "      'mp4_ld_mp4': 'https://f.video.weibocdn.com/o0/q6zqr7gblx07WMGFUd6w010412000HZi0E010.mp4?label=mp4_ld&template=360x640.24.0&ori=0&ps=1CwnkDw1GXwCQx&Expires=1657791717&ssig=bkbSd4I68%2F&KID=unistore,video'}},\n",
       "    'bid': 'Lxmig7DJg'}},\n",
       "  {'card_type': 9,\n",
       "   'profile_type_id': 'proweibo_4779479290872945',\n",
       "   'itemid': '1076032830678474_-_4779479290872945',\n",
       "   'scheme': 'https://m.weibo.cn/status/LxlCp3F5L?mblogid=LxlCp3F5L&luicode=10000011&lfid=1076032830678474',\n",
       "   'mblog': {'visible': {'type': 0, 'list_id': 0},\n",
       "    'created_at': 'Sun Jun 12 10:15:23 +0800 2022',\n",
       "    'id': '4779479290872945',\n",
       "    'mid': '4779479290872945',\n",
       "    'can_edit': False,\n",
       "    'show_additional_indication': 0,\n",
       "    'text': '<span class=\"url-icon\"><img alt=\"[苦涩]\" src=\"https://face.t.sinajs.cn/t4/appstyle/expression/ext/normal/7e/2021_bitter_org.png\" style=\"width:1em; height:1em;\" /></span>//<a href=\\'/n/梁博penny\\'>@梁博penny</a>:<span class=\"url-icon\"><img alt=[泪] src=\"https://h5.sinaimg.cn/m/emoticon/icon/default/d_lei-4cdf6ee412.png\" style=\"width:1em; height:1em;\" /></span>//<a href=\\'/n/简木生--撰稿者\\'>@简木生--撰稿者</a>://<a href=\\'/n/姚广孝_wayne\\'>@姚广孝_wayne</a> :搜了一下，确实有相应的报道：<a  href=\"https://weibo.cn/sinaurl?u=http%3A%2F%2Fwww.jcrb.com%2Ffzttb%2Fdfmt%2F200908%2Ft20090828_256723.html\" data-hide=\"\"><span class=\\'url-icon\\'><img style=\\'width: 1rem;height: 1rem\\' src=\\'https://h5.sinaimg.cn/upload/2015/09/25/3/timeline_card_small_web_default.png\\'></span><span class=\"surl-text\">网页链接</span></a>',\n",
       "    'source': 'iPhone 12 Pro Max',\n",
       "    'favorited': False,\n",
       "    'pic_ids': [],\n",
       "    'is_paid': False,\n",
       "    'mblog_vip_type': 0,\n",
       "    'user': {'id': 2830678474,\n",
       "     'screen_name': '崔庆才丨静觅',\n",
       "     'profile_image_url': 'https://tva3.sinaimg.cn/crop.0.0.458.458.180/a8b8b9cajw8exsgha3l4uj20cq0crmy5.jpg?KID=imgbed,tva&Expires=1657798917&ssig=f9r6AEyfyW',\n",
       "     'profile_url': 'https://m.weibo.cn/u/2830678474?uid=2830678474&luicode=10000011&lfid=1076032830678474',\n",
       "     'statuses_count': 2507,\n",
       "     'verified': True,\n",
       "     'verified_type': 0,\n",
       "     'verified_type_ext': 0,\n",
       "     'verified_reason': '互联网科技博主',\n",
       "     'close_blue_v': False,\n",
       "     'description': 'cuiqingcai.com',\n",
       "     'gender': 'm',\n",
       "     'mbtype': 12,\n",
       "     'urank': 36,\n",
       "     'mbrank': 7,\n",
       "     'follow_me': False,\n",
       "     'following': False,\n",
       "     'follow_count': 1172,\n",
       "     'followers_count': '1.1万',\n",
       "     'followers_count_str': '1.1万',\n",
       "     'cover_image_phone': 'https://tva1.sinaimg.cn/crop.0.0.640.640.640/549d0121tw1egm1kjly3jj20hs0hsq4f.jpg',\n",
       "     'avatar_hd': 'https://ww3.sinaimg.cn/orj480/a8b8b9cajw8exsgha3l4uj20cq0crmy5.jpg',\n",
       "     'like': False,\n",
       "     'like_me': False,\n",
       "     'badge': {'bind_taobao': 1,\n",
       "      'unread_pool': 1,\n",
       "      'unread_pool_ext': 1,\n",
       "      'dzwbqlx_2016': 1,\n",
       "      'panda': 1,\n",
       "      'user_name_certificate': 1,\n",
       "      'qixi_2018': 1,\n",
       "      'status_visible': 1,\n",
       "      'hongrenjie_2019': 1,\n",
       "      'china_2019': 1,\n",
       "      'hongkong_2019': 1,\n",
       "      'hongbao_2020': 2,\n",
       "      'pc_new': 7,\n",
       "      'party_cardid_state': 1,\n",
       "      'aoyun_2021': 1}},\n",
       "    'pid': 4779438288406183,\n",
       "    'pidstr': '4779438288406183',\n",
       "    'retweeted_status': {'visible': {'type': 0, 'list_id': 0},\n",
       "     'created_at': 'Sat Jun 11 15:32:29 +0800 2022',\n",
       "     'id': '4779196699641377',\n",
       "     'mid': '4779196699641377',\n",
       "     'can_edit': False,\n",
       "     'show_additional_indication': 0,\n",
       "     'text': '唐山的事情这两天闹得很大，有人说为什么没人见义勇为。这是我在天津高铁站拍到的，这个人见义勇为，救了两个女孩，自己被打残了，没赔偿，罪犯也没被绳之以法。 ',\n",
       "     'textLength': 150,\n",
       "     'source': '微博轻享版',\n",
       "     'favorited': False,\n",
       "     'pic_ids': ['4910bb43gy1h34c9rnc8yj20u01uok8o'],\n",
       "     'thumbnail_pic': 'https://wx4.sinaimg.cn/thumbnail/4910bb43gy1h34c9rnc8yj20u01uok8o.jpg',\n",
       "     'bmiddle_pic': 'http://wx4.sinaimg.cn/bmiddle/4910bb43gy1h34c9rnc8yj20u01uok8o.jpg',\n",
       "     'original_pic': 'https://wx4.sinaimg.cn/large/4910bb43gy1h34c9rnc8yj20u01uok8o.jpg',\n",
       "     'is_paid': False,\n",
       "     'mblog_vip_type': 0,\n",
       "     'user': {'id': 1225833283,\n",
       "      'screen_name': '孤独川陵',\n",
       "      'profile_image_url': 'https://tvax1.sinaimg.cn/crop.0.0.1080.1080.180/4910bb43ly8h39lpgdg4tj20u00u0gr9.jpg?KID=imgbed,tva&Expires=1657798917&ssig=HhOOJpmJve',\n",
       "      'profile_url': 'https://m.weibo.cn/u/1225833283?uid=1225833283&luicode=10000011&lfid=1076032830678474',\n",
       "      'statuses_count': 8461,\n",
       "      'verified': True,\n",
       "      'verified_type': 0,\n",
       "      'verified_type_ext': 1,\n",
       "      'verified_reason': '新浪博客旅游博主 新加坡作家协会会员',\n",
       "      'close_blue_v': False,\n",
       "      'description': '走过地方最多的人类之一，游历七大洲203个国家和地区。清华大学，新加坡国立大学，南洋理工大学校友，新加坡作家协会作家。mkx2046@gmail.com',\n",
       "      'gender': 'm',\n",
       "      'mbtype': 11,\n",
       "      'urank': 28,\n",
       "      'mbrank': 6,\n",
       "      'follow_me': False,\n",
       "      'following': False,\n",
       "      'follow_count': 47,\n",
       "      'followers_count': '7.8万',\n",
       "      'followers_count_str': '7.8万',\n",
       "      'cover_image_phone': 'https://wx3.sinaimg.cn/crop.0.0.640.640.640/4910bb43gy1h35pld36lmj20u00u07al.jpg',\n",
       "      'avatar_hd': 'https://wx1.sinaimg.cn/orj480/4910bb43ly8h39lpgdg4tj20u00u0gr9.jpg',\n",
       "      'like': False,\n",
       "      'like_me': False,\n",
       "      'badge': {'bind_taobao': 1,\n",
       "       'unread_pool': 1,\n",
       "       'unread_pool_ext': 1,\n",
       "       'dzwbqlx_2016': 1,\n",
       "       'follow_whitelist_video': 1,\n",
       "       'user_name_certificate': 1,\n",
       "       'wenchuan_10th': 1,\n",
       "       'relation_display': 1,\n",
       "       'pc_new': 7,\n",
       "       'yuanlongping_2021': 1,\n",
       "       'guoqi_2022': 1,\n",
       "       'gangqi_2022': 1}},\n",
       "     'reposts_count': 228248,\n",
       "     'comments_count': 4724,\n",
       "     'reprint_cmt_count': 0,\n",
       "     'attitudes_count': 244977,\n",
       "     'pending_approval_count': 0,\n",
       "     'isLongText': False,\n",
       "     'mlevel': 0,\n",
       "     'expire_time': 1654984070,\n",
       "     'ad_state': 1,\n",
       "     'darwin_tags': [],\n",
       "     'hot_page': {'fid': '232532_mblog', 'feed_detail_type': 0},\n",
       "     'mblogtype': 0,\n",
       "     'mark': '999_reallog_mark_ad:999|WeiboADNatural',\n",
       "     'rid': '3_0_50_6670129651442252876_0_0_0',\n",
       "     'number_display_strategy': {'apply_scenario_flag': 3,\n",
       "      'display_text_min_number': 1000000,\n",
       "      'display_text': '100万+'},\n",
       "     'content_auth': 0,\n",
       "     'safe_tags': 4294967360,\n",
       "     'comment_manage_info': {'comment_permission_type': -1,\n",
       "      'approval_comment_type': 0,\n",
       "      'comment_sort_type': 0},\n",
       "     'pic_num': 1,\n",
       "     'new_comment_style': 0,\n",
       "     'region_name': '发布于 新加坡',\n",
       "     'region_opt': 1,\n",
       "     'edit_config': {'edited': False},\n",
       "     'pics': [{'pid': '4910bb43gy1h34c9rnc8yj20u01uok8o',\n",
       "       'url': 'https://wx4.sinaimg.cn/orj360/4910bb43gy1h34c9rnc8yj20u01uok8o.jpg',\n",
       "       'size': 'orj360',\n",
       "       'geo': {'width': 360, 'height': 800, 'croped': False},\n",
       "       'large': {'size': 'large',\n",
       "        'url': 'https://wx4.sinaimg.cn/large/4910bb43gy1h34c9rnc8yj20u01uok8o.jpg',\n",
       "        'geo': {'width': '1080', 'height': '2400', 'croped': False}}}],\n",
       "     'bid': 'LxegBEsa5'},\n",
       "    'reposts_count': 3,\n",
       "    'comments_count': 0,\n",
       "    'reprint_cmt_count': 0,\n",
       "    'attitudes_count': 4,\n",
       "    'pending_approval_count': 0,\n",
       "    'isLongText': False,\n",
       "    'mlevel': 0,\n",
       "    'darwin_tags': [],\n",
       "    'hot_page': {'fid': '232532_mblog', 'feed_detail_type': 0},\n",
       "    'mblogtype': 0,\n",
       "    'mark': '999_reallog_mark_ad:999|WeiboADNatural',\n",
       "    'rid': '3_0_50_6670129651442252876_0_0_0',\n",
       "    'cardid': 'vip_010',\n",
       "    'extern_safe': 0,\n",
       "    'number_display_strategy': {'apply_scenario_flag': 3,\n",
       "     'display_text_min_number': 1000000,\n",
       "     'display_text': '100万+'},\n",
       "    'content_auth': 0,\n",
       "    'safe_tags': 32,\n",
       "    'comment_manage_info': {'comment_permission_type': -1,\n",
       "     'approval_comment_type': 0,\n",
       "     'comment_sort_type': 0},\n",
       "    'repost_type': 1,\n",
       "    'pic_num': 0,\n",
       "    'new_comment_style': 0,\n",
       "    'ab_switcher': 4,\n",
       "    'region_name': '发布于 北京',\n",
       "    'region_opt': 1,\n",
       "    'mblog_menu_new_style': 0,\n",
       "    'edit_config': {'edited': False},\n",
       "    'raw_text': '[苦涩]//@梁博penny:[泪]//@简木生--撰稿者://@姚广孝_wayne :搜了一下，确实有相应的报道：http://t.cn/zOg2xfn',\n",
       "    'bid': 'LxlCp3F5L'}},\n",
       "  {'card_type': 9,\n",
       "   'profile_type_id': 'proweibo_4777608590131929',\n",
       "   'itemid': '1076032830678474_-_4777608590131929',\n",
       "   'scheme': 'https://m.weibo.cn/status/LwyX90yjT?mblogid=LwyX90yjT&luicode=10000011&lfid=1076032830678474',\n",
       "   'mblog': {'visible': {'type': 0, 'list_id': 0},\n",
       "    'created_at': 'Tue Jun 07 06:21:54 +0800 2022',\n",
       "    'id': '4777608590131929',\n",
       "    'mid': '4777608590131929',\n",
       "    'can_edit': False,\n",
       "    'show_additional_indication': 0,\n",
       "    'text': '昨天居然忘了看了。<span class=\"url-icon\"><img alt=[允悲] src=\"https://h5.sinaimg.cn/m/emoticon/icon/default/d_yunbei-a14a649db8.png\" style=\"width:1em; height:1em;\" /></span><span class=\"url-icon\"><img alt=[允悲] src=\"https://h5.sinaimg.cn/m/emoticon/icon/default/d_yunbei-a14a649db8.png\" style=\"width:1em; height:1em;\" /></span><span class=\"url-icon\"><img alt=[允悲] src=\"https://h5.sinaimg.cn/m/emoticon/icon/default/d_yunbei-a14a649db8.png\" style=\"width:1em; height:1em;\" /></span>',\n",
       "    'source': 'iPhone 12 Pro Max',\n",
       "    'favorited': False,\n",
       "    'pic_ids': [],\n",
       "    'is_paid': False,\n",
       "    'mblog_vip_type': 0,\n",
       "    'user': {'id': 2830678474,\n",
       "     'screen_name': '崔庆才丨静觅',\n",
       "     'profile_image_url': 'https://tva3.sinaimg.cn/crop.0.0.458.458.180/a8b8b9cajw8exsgha3l4uj20cq0crmy5.jpg?KID=imgbed,tva&Expires=1657798917&ssig=f9r6AEyfyW',\n",
       "     'profile_url': 'https://m.weibo.cn/u/2830678474?uid=2830678474&luicode=10000011&lfid=1076032830678474',\n",
       "     'statuses_count': 2507,\n",
       "     'verified': True,\n",
       "     'verified_type': 0,\n",
       "     'verified_type_ext': 0,\n",
       "     'verified_reason': '互联网科技博主',\n",
       "     'close_blue_v': False,\n",
       "     'description': 'cuiqingcai.com',\n",
       "     'gender': 'm',\n",
       "     'mbtype': 12,\n",
       "     'urank': 36,\n",
       "     'mbrank': 7,\n",
       "     'follow_me': False,\n",
       "     'following': False,\n",
       "     'follow_count': 1172,\n",
       "     'followers_count': '1.1万',\n",
       "     'followers_count_str': '1.1万',\n",
       "     'cover_image_phone': 'https://tva1.sinaimg.cn/crop.0.0.640.640.640/549d0121tw1egm1kjly3jj20hs0hsq4f.jpg',\n",
       "     'avatar_hd': 'https://ww3.sinaimg.cn/orj480/a8b8b9cajw8exsgha3l4uj20cq0crmy5.jpg',\n",
       "     'like': False,\n",
       "     'like_me': False,\n",
       "     'badge': {'bind_taobao': 1,\n",
       "      'unread_pool': 1,\n",
       "      'unread_pool_ext': 1,\n",
       "      'dzwbqlx_2016': 1,\n",
       "      'panda': 1,\n",
       "      'user_name_certificate': 1,\n",
       "      'qixi_2018': 1,\n",
       "      'status_visible': 1,\n",
       "      'hongrenjie_2019': 1,\n",
       "      'china_2019': 1,\n",
       "      'hongkong_2019': 1,\n",
       "      'hongbao_2020': 2,\n",
       "      'pc_new': 7,\n",
       "      'party_cardid_state': 1,\n",
       "      'aoyun_2021': 1}},\n",
       "    'retweeted_status': {'visible': {'type': 0, 'list_id': 0},\n",
       "     'created_at': 'Tue Jun 07 05:02:58 +0800 2022',\n",
       "     'id': '4777588725383490',\n",
       "     'mid': '4777588725383490',\n",
       "     'can_edit': False,\n",
       "     'show_additional_indication': 0,\n",
       "     'text': '苹果iOS16发布会速看！两款笔记本发布 wwdc2022【那岩】科技美学 苹果M2芯片再升级macbook  <a  href=\"https://video.weibo.com/show?fid=1034:4777586124062743\" data-hide=\"\"><span class=\\'url-icon\\'><img style=\\'width: 1rem;height: 1rem\\' src=\\'https://h5.sinaimg.cn/upload/2015/09/25/3/timeline_card_small_video_default.png\\'></span><span class=\"surl-text\">那岩的微博视频</span></a> ',\n",
       "     'textLength': 106,\n",
       "     'source': '微博视频号',\n",
       "     'favorited': False,\n",
       "     'pic_ids': [],\n",
       "     'is_paid': False,\n",
       "     'mblog_vip_type': 0,\n",
       "     'user': {'id': 5640157596,\n",
       "      'screen_name': '那岩',\n",
       "      'profile_image_url': 'https://tvax1.sinaimg.cn/crop.141.268.696.696.180/0069HwDOly1fcz2ncvf7gj30xc15oamg.jpg?KID=imgbed,tva&Expires=1657798917&ssig=pdmf4l3IS8',\n",
       "      'profile_url': 'https://m.weibo.cn/u/5640157596?uid=5640157596&luicode=10000011&lfid=1076032830678474',\n",
       "      'statuses_count': 2965,\n",
       "      'verified': True,\n",
       "      'verified_type': 0,\n",
       "      'verified_type_ext': 1,\n",
       "      'verified_reason': '科技美学创始人',\n",
       "      'close_blue_v': False,\n",
       "      'description': '科技美学，希望希望一直为大家服务',\n",
       "      'gender': 'm',\n",
       "      'mbtype': 12,\n",
       "      'urank': 33,\n",
       "      'mbrank': 7,\n",
       "      'follow_me': False,\n",
       "      'following': False,\n",
       "      'follow_count': 859,\n",
       "      'followers_count': '213.9万',\n",
       "      'followers_count_str': '213.9万',\n",
       "      'cover_image_phone': 'https://tva1.sinaimg.cn/crop.0.0.640.640.640/549d0121tw1egm1kjly3jj20hs0hsq4f.jpg',\n",
       "      'avatar_hd': 'https://wx1.sinaimg.cn/orj480/0069HwDOly1fcz2ncvf7gj30xc15oamg.jpg',\n",
       "      'like': False,\n",
       "      'like_me': False,\n",
       "      'badge': {'vip_activity2': 4,\n",
       "       'video_attention': 4,\n",
       "       'user_name_certificate': 1,\n",
       "       'weibo_display_fans': 1,\n",
       "       'relation_display': 1,\n",
       "       'status_visible': 1,\n",
       "       'china_2019': 1,\n",
       "       'hongkong_2019': 1,\n",
       "       'gongjiri_2019': 1,\n",
       "       'pc_new': 6,\n",
       "       'school_2020': 1,\n",
       "       'hongrenjie_2020': 1,\n",
       "       'gaokao_2021': 1}},\n",
       "     'reposts_count': 77,\n",
       "     'comments_count': 88,\n",
       "     'reprint_cmt_count': 0,\n",
       "     'attitudes_count': 818,\n",
       "     'pending_approval_count': 0,\n",
       "     'isLongText': False,\n",
       "     'mlevel': 0,\n",
       "     'expire_time': 1654600068,\n",
       "     'ad_state': 1,\n",
       "     'darwin_tags': [],\n",
       "     'hot_page': {'fid': '232532_mblog', 'feed_detail_type': 0},\n",
       "     'mblogtype': 0,\n",
       "     'mark': '999_reallog_mark_ad:999|WeiboADNatural',\n",
       "     'rid': '4_0_50_6670129651442252876_0_0_0',\n",
       "     'number_display_strategy': {'apply_scenario_flag': 3,\n",
       "      'display_text_min_number': 1000000,\n",
       "      'display_text': '100万+'},\n",
       "     'content_auth': 0,\n",
       "     'safe_tags': 524288,\n",
       "     'comment_manage_info': {'comment_permission_type': -1,\n",
       "      'approval_comment_type': 0,\n",
       "      'comment_sort_type': 0},\n",
       "     'pic_num': 0,\n",
       "     'fid': 4777587632242699,\n",
       "     'new_comment_style': 0,\n",
       "     'region_name': '发布于 黑龙江',\n",
       "     'region_opt': 1,\n",
       "     'edit_config': {'edited': False},\n",
       "     'page_info': {'type': 'video',\n",
       "      'object_type': 11,\n",
       "      'url_ori': 'http://t.cn/A6XECsNu',\n",
       "      'page_pic': {'width': 3840,\n",
       "       'pid': '0069HwDOly1h2z7bhlsdwj31hc0u0dj3',\n",
       "       'source': 1,\n",
       "       'is_self_cover': 1,\n",
       "       'type': 1,\n",
       "       'url': 'https://wx1.sinaimg.cn/crop.0.6.1920.1067/0069HwDOly1h2z7bhlsdwj31hc0u0dj3.jpg',\n",
       "       'height': 2134},\n",
       "      'page_url': 'https://video.weibo.com/show?fid=1034%3A4777586124062743&luicode=10000011&lfid=1076032830678474',\n",
       "      'object_id': '1034:4777586124062743',\n",
       "      'page_title': '那岩的微博视频',\n",
       "      'title': '苹果iOS16发布会速看！两款笔记本发布 wwdc2022【那岩】科技美学',\n",
       "      'content1': '那岩的微博视频',\n",
       "      'content2': '苹果iOS16发布会速看！两款笔记本发布 wwdc2022【那岩】科技美学 苹果M2芯片再升级macbook',\n",
       "      'video_orientation': 'horizontal',\n",
       "      'play_count': '35万次播放',\n",
       "      'media_info': {'stream_url': 'https://f.video.weibocdn.com/o0/Sxwb2qM1lx07WEfEGeti01041201FlSz0E010.mp4?label=mp4_ld&template=640x360.25.0&ori=0&ps=1CwnkDw1GXwCQx&Expires=1657791717&ssig=5Nr1j3%2FMlB&KID=unistore,video',\n",
       "       'stream_url_hd': 'https://f.video.weibocdn.com/o0/gRz9Qxiolx07WEfEXyaI01041202Dof30E010.mp4?label=mp4_hd&template=852x480.25.0&ori=0&ps=1CwnkDw1GXwCQx&Expires=1657791717&ssig=xa%2BRV61J8a&KID=unistore,video',\n",
       "       'duration': 1071.947},\n",
       "      'urls': {'mp4_720p_mp4': 'https://f.video.weibocdn.com/o0/0RSjrtcJlx07WEfG7pdS010412059uvL0E020.mp4?label=mp4_720p&template=1280x720.25.0&ori=0&ps=1CwnkDw1GXwCQx&Expires=1657791717&ssig=phBLv0mnpR&KID=unistore,video',\n",
       "       'mp4_hd_mp4': 'https://f.video.weibocdn.com/o0/gRz9Qxiolx07WEfEXyaI01041202Dof30E010.mp4?label=mp4_hd&template=852x480.25.0&ori=0&ps=1CwnkDw1GXwCQx&Expires=1657791717&ssig=xa%2BRV61J8a&KID=unistore,video',\n",
       "       'mp4_ld_mp4': 'https://f.video.weibocdn.com/o0/Sxwb2qM1lx07WEfEGeti01041201FlSz0E010.mp4?label=mp4_ld&template=640x360.25.0&ori=0&ps=1CwnkDw1GXwCQx&Expires=1657791717&ssig=5Nr1j3%2FMlB&KID=unistore,video'}},\n",
       "     'bid': 'Lwyr6mAuu'},\n",
       "    'reposts_count': 0,\n",
       "    'comments_count': 0,\n",
       "    'reprint_cmt_count': 0,\n",
       "    'attitudes_count': 0,\n",
       "    'pending_approval_count': 0,\n",
       "    'isLongText': False,\n",
       "    'mlevel': 0,\n",
       "    'darwin_tags': [],\n",
       "    'hot_page': {'fid': '232532_mblog', 'feed_detail_type': 0},\n",
       "    'mblogtype': 0,\n",
       "    'mark': '999_reallog_mark_ad:999|WeiboADNatural',\n",
       "    'rid': '4_0_50_6670129651442252876_0_0_0',\n",
       "    'cardid': 'vip_010',\n",
       "    'extern_safe': 0,\n",
       "    'number_display_strategy': {'apply_scenario_flag': 3,\n",
       "     'display_text_min_number': 1000000,\n",
       "     'display_text': '100万+'},\n",
       "    'content_auth': 0,\n",
       "    'comment_manage_info': {'comment_permission_type': -1,\n",
       "     'approval_comment_type': 0,\n",
       "     'comment_sort_type': 0},\n",
       "    'repost_type': 1,\n",
       "    'pic_num': 0,\n",
       "    'new_comment_style': 0,\n",
       "    'ab_switcher': 4,\n",
       "    'region_name': '发布于 北京',\n",
       "    'region_opt': 1,\n",
       "    'mblog_menu_new_style': 0,\n",
       "    'edit_config': {'edited': False},\n",
       "    'raw_text': '昨天居然忘了看了。[允悲][允悲][允悲]',\n",
       "    'bid': 'LwyX90yjT'}},\n",
       "  {'card_type': 9,\n",
       "   'profile_type_id': 'proweibo_4777496082648163',\n",
       "   'itemid': '1076032830678474_-_4777496082648163',\n",
       "   'scheme': 'https://m.weibo.cn/status/Lww1Gb6Uj?mblogid=Lww1Gb6Uj&luicode=10000011&lfid=1076032830678474',\n",
       "   'mblog': {'visible': {'type': 0, 'list_id': 0},\n",
       "    'created_at': 'Mon Jun 06 22:54:50 +0800 2022',\n",
       "    'id': '4777496082648163',\n",
       "    'mid': '4777496082648163',\n",
       "    'can_edit': False,\n",
       "    'show_additional_indication': 0,\n",
       "    'text': '终于可以堂食了，舒服。<span class=\"url-icon\"><img alt=\"[666]\" src=\"https://face.t.sinajs.cn/t4/appstyle/expression/ext/normal/6c/2022_666_org.png\" style=\"width:1em; height:1em;\" /></span> ',\n",
       "    'textLength': 27,\n",
       "    'source': 'iPhone 12 Pro Max',\n",
       "    'favorited': False,\n",
       "    'pic_ids': ['a8b8b9caly1h2ywygdnjrj213u0hv13a'],\n",
       "    'thumbnail_pic': 'https://wx3.sinaimg.cn/thumbnail/a8b8b9caly1h2ywygdnjrj213u0hv13a.jpg',\n",
       "    'bmiddle_pic': 'http://wx3.sinaimg.cn/bmiddle/a8b8b9caly1h2ywygdnjrj213u0hv13a.jpg',\n",
       "    'original_pic': 'https://wx3.sinaimg.cn/large/a8b8b9caly1h2ywygdnjrj213u0hv13a.jpg',\n",
       "    'is_paid': False,\n",
       "    'mblog_vip_type': 0,\n",
       "    'user': {'id': 2830678474,\n",
       "     'screen_name': '崔庆才丨静觅',\n",
       "     'profile_image_url': 'https://tva3.sinaimg.cn/crop.0.0.458.458.180/a8b8b9cajw8exsgha3l4uj20cq0crmy5.jpg?KID=imgbed,tva&Expires=1657798917&ssig=f9r6AEyfyW',\n",
       "     'profile_url': 'https://m.weibo.cn/u/2830678474?uid=2830678474&luicode=10000011&lfid=1076032830678474',\n",
       "     'statuses_count': 2507,\n",
       "     'verified': True,\n",
       "     'verified_type': 0,\n",
       "     'verified_type_ext': 0,\n",
       "     'verified_reason': '互联网科技博主',\n",
       "     'close_blue_v': False,\n",
       "     'description': 'cuiqingcai.com',\n",
       "     'gender': 'm',\n",
       "     'mbtype': 12,\n",
       "     'urank': 36,\n",
       "     'mbrank': 7,\n",
       "     'follow_me': False,\n",
       "     'following': False,\n",
       "     'follow_count': 1172,\n",
       "     'followers_count': '1.1万',\n",
       "     'followers_count_str': '1.1万',\n",
       "     'cover_image_phone': 'https://tva1.sinaimg.cn/crop.0.0.640.640.640/549d0121tw1egm1kjly3jj20hs0hsq4f.jpg',\n",
       "     'avatar_hd': 'https://ww3.sinaimg.cn/orj480/a8b8b9cajw8exsgha3l4uj20cq0crmy5.jpg',\n",
       "     'like': False,\n",
       "     'like_me': False,\n",
       "     'badge': {'bind_taobao': 1,\n",
       "      'unread_pool': 1,\n",
       "      'unread_pool_ext': 1,\n",
       "      'dzwbqlx_2016': 1,\n",
       "      'panda': 1,\n",
       "      'user_name_certificate': 1,\n",
       "      'qixi_2018': 1,\n",
       "      'status_visible': 1,\n",
       "      'hongrenjie_2019': 1,\n",
       "      'china_2019': 1,\n",
       "      'hongkong_2019': 1,\n",
       "      'hongbao_2020': 2,\n",
       "      'pc_new': 7,\n",
       "      'party_cardid_state': 1,\n",
       "      'aoyun_2021': 1}},\n",
       "    'picStatus': '0:1',\n",
       "    'reposts_count': 0,\n",
       "    'comments_count': 0,\n",
       "    'reprint_cmt_count': 0,\n",
       "    'attitudes_count': 0,\n",
       "    'pending_approval_count': 0,\n",
       "    'isLongText': False,\n",
       "    'mlevel': 0,\n",
       "    'darwin_tags': [],\n",
       "    'hot_page': {'fid': '232532_mblog', 'feed_detail_type': 0},\n",
       "    'mblogtype': 0,\n",
       "    'rid': '5_0_50_6670129651442252876_0_0_0',\n",
       "    'cardid': 'vip_010',\n",
       "    'extern_safe': 0,\n",
       "    'number_display_strategy': {'apply_scenario_flag': 3,\n",
       "     'display_text_min_number': 1000000,\n",
       "     'display_text': '100万+'},\n",
       "    'content_auth': 0,\n",
       "    'comment_manage_info': {'comment_permission_type': -1,\n",
       "     'approval_comment_type': 0,\n",
       "     'comment_sort_type': 0},\n",
       "    'pic_num': 1,\n",
       "    'new_comment_style': 0,\n",
       "    'ab_switcher': 4,\n",
       "    'region_name': '发布于 北京',\n",
       "    'region_opt': 1,\n",
       "    'mblog_menu_new_style': 0,\n",
       "    'edit_config': {'edited': False},\n",
       "    'pics': [{'pid': 'a8b8b9caly1h2ywygdnjrj213u0hv13a',\n",
       "      'url': 'https://wx3.sinaimg.cn/orj360/a8b8b9caly1h2ywygdnjrj213u0hv13a.jpg',\n",
       "      'size': 'orj360',\n",
       "      'geo': {'width': 602, 'height': 270, 'croped': False},\n",
       "      'large': {'size': 'large',\n",
       "       'url': 'https://wx3.sinaimg.cn/large/a8b8b9caly1h2ywygdnjrj213u0hv13a.jpg',\n",
       "       'geo': {'width': '1434', 'height': '643', 'croped': False}}}],\n",
       "    'bid': 'Lww1Gb6Uj'}},\n",
       "  {'card_type': 9,\n",
       "   'profile_type_id': 'proweibo_4776020123063600',\n",
       "   'itemid': '1076032830678474_-_4776020123063600',\n",
       "   'scheme': 'https://m.weibo.cn/status/LvTD6cQYU?mblogid=LvTD6cQYU&luicode=10000011&lfid=1076032830678474',\n",
       "   'mblog': {'visible': {'type': 0, 'list_id': 0},\n",
       "    'created_at': 'Thu Jun 02 21:09:54 +0800 2022',\n",
       "    'id': '4776020123063600',\n",
       "    'mid': '4776020123063600',\n",
       "    'can_edit': False,\n",
       "    'show_additional_indication': 0,\n",
       "    'text': '<span class=\"url-icon\"><img alt=[馋嘴] src=\"https://h5.sinaimg.cn/m/emoticon/icon/default/d_chanzui-fc1acc341b.png\" style=\"width:1em; height:1em;\" /></span>',\n",
       "    'source': 'iPhone 12 Pro Max',\n",
       "    'favorited': False,\n",
       "    'pic_ids': [],\n",
       "    'is_paid': False,\n",
       "    'mblog_vip_type': 0,\n",
       "    'user': {'id': 2830678474,\n",
       "     'screen_name': '崔庆才丨静觅',\n",
       "     'profile_image_url': 'https://tva3.sinaimg.cn/crop.0.0.458.458.180/a8b8b9cajw8exsgha3l4uj20cq0crmy5.jpg?KID=imgbed,tva&Expires=1657798917&ssig=f9r6AEyfyW',\n",
       "     'profile_url': 'https://m.weibo.cn/u/2830678474?uid=2830678474&luicode=10000011&lfid=1076032830678474',\n",
       "     'statuses_count': 2507,\n",
       "     'verified': True,\n",
       "     'verified_type': 0,\n",
       "     'verified_type_ext': 0,\n",
       "     'verified_reason': '互联网科技博主',\n",
       "     'close_blue_v': False,\n",
       "     'description': 'cuiqingcai.com',\n",
       "     'gender': 'm',\n",
       "     'mbtype': 12,\n",
       "     'urank': 36,\n",
       "     'mbrank': 7,\n",
       "     'follow_me': False,\n",
       "     'following': False,\n",
       "     'follow_count': 1172,\n",
       "     'followers_count': '1.1万',\n",
       "     'followers_count_str': '1.1万',\n",
       "     'cover_image_phone': 'https://tva1.sinaimg.cn/crop.0.0.640.640.640/549d0121tw1egm1kjly3jj20hs0hsq4f.jpg',\n",
       "     'avatar_hd': 'https://ww3.sinaimg.cn/orj480/a8b8b9cajw8exsgha3l4uj20cq0crmy5.jpg',\n",
       "     'like': False,\n",
       "     'like_me': False,\n",
       "     'badge': {'bind_taobao': 1,\n",
       "      'unread_pool': 1,\n",
       "      'unread_pool_ext': 1,\n",
       "      'dzwbqlx_2016': 1,\n",
       "      'panda': 1,\n",
       "      'user_name_certificate': 1,\n",
       "      'qixi_2018': 1,\n",
       "      'status_visible': 1,\n",
       "      'hongrenjie_2019': 1,\n",
       "      'china_2019': 1,\n",
       "      'hongkong_2019': 1,\n",
       "      'hongbao_2020': 2,\n",
       "      'pc_new': 7,\n",
       "      'party_cardid_state': 1,\n",
       "      'aoyun_2021': 1}},\n",
       "    'retweeted_status': {'visible': {'type': 0, 'list_id': 0},\n",
       "     'created_at': 'Fri May 27 08:43:03 +0800 2022',\n",
       "     'id': '4773657845435505',\n",
       "     'mid': '4773657845435505',\n",
       "     'can_edit': False,\n",
       "     'show_additional_indication': 0,\n",
       "     'text': '江苏苏州，小猫踩坏吊顶灯，努力用爪子尝试复原 <a  href=\"http://weibo.com/p/1001018008622010000000000\" data-hide=\"\"><span class=\\'url-icon\\'><img style=\\'width: 1rem;height: 1rem\\' src=\\'https://h5.sinaimg.cn/upload/2015/09/25/3/timeline_card_small_location_default.png\\'></span><span class=\"surl-text\">长春</span></a> <a  href=\"https://video.weibo.com/show?fid=1034:4773657755713564\" data-hide=\"\"><span class=\\'url-icon\\'><img style=\\'width: 1rem;height: 1rem\\' src=\\'https://h5.sinaimg.cn/upload/2015/09/25/3/timeline_card_small_video_default.png\\'></span><span class=\"surl-text\">长春新动态的微博视频</span></a> ',\n",
       "     'textLength': 85,\n",
       "     'source': 'iPhone客户端',\n",
       "     'favorited': False,\n",
       "     'pic_ids': [],\n",
       "     'is_paid': False,\n",
       "     'mblog_vip_type': 0,\n",
       "     'user': {'id': 5876419780,\n",
       "      'screen_name': '长春新动态',\n",
       "      'profile_image_url': 'https://tvax3.sinaimg.cn/crop.0.0.512.512.180/006pGRecly8g5tij8lfmrj30e80e8wf2.jpg?KID=imgbed,tva&Expires=1657798917&ssig=whqtbbt71d',\n",
       "      'profile_url': 'https://m.weibo.cn/u/5876419780?uid=5876419780&luicode=10000011&lfid=1076032830678474',\n",
       "      'statuses_count': 50901,\n",
       "      'verified': True,\n",
       "      'verified_type': 0,\n",
       "      'verified_type_ext': 1,\n",
       "      'verified_reason': '本地博主 （长春） 美食博主 视频博主',\n",
       "      'close_blue_v': False,\n",
       "      'description': '关注长春新动态，了解长春大事小情。',\n",
       "      'gender': 'm',\n",
       "      'mbtype': 12,\n",
       "      'urank': 9,\n",
       "      'mbrank': 6,\n",
       "      'follow_me': False,\n",
       "      'following': False,\n",
       "      'follow_count': 471,\n",
       "      'followers_count': '90.1万',\n",
       "      'followers_count_str': '90.1万',\n",
       "      'cover_image_phone': 'https://tva1.sinaimg.cn/crop.0.0.640.640.640/549d0121tw1egm1kjly3jj20hs0hsq4f.jpg',\n",
       "      'avatar_hd': 'https://wx3.sinaimg.cn/orj480/006pGRecly8g5tij8lfmrj30e80e8wf2.jpg',\n",
       "      'like': False,\n",
       "      'like_me': False,\n",
       "      'badge': {'bind_taobao': 1,\n",
       "       'unread_pool': 1,\n",
       "       'unread_pool_ext': 1,\n",
       "       'super_star_2017': 1,\n",
       "       'user_name_certificate': 1,\n",
       "       'wenda_v2': 1,\n",
       "       'dailv_2018': 1,\n",
       "       'relation_display': 1,\n",
       "       'hongbaofei_2019': 1,\n",
       "       'dailv_2019': 1,\n",
       "       'china_2019': 1,\n",
       "       'rrgyj_2019': 1,\n",
       "       'hongbao_2020': 2,\n",
       "       'feiyan_2020': 1,\n",
       "       'graduation_2020': 1,\n",
       "       'pc_new': 6,\n",
       "       'dailv_2020': 1,\n",
       "       'vpick_2020': 1,\n",
       "       'school_2020': 1,\n",
       "       'hongrenjie_2020': 1,\n",
       "       'china_2020': 1,\n",
       "       'hongbaofeijika_2021': 1,\n",
       "       'yuanlongping_2021': 1,\n",
       "       'ylpshuidao_2021': 1,\n",
       "       'gaokao_2021': 1,\n",
       "       'party_cardid_state': 2,\n",
       "       'companion_card': 1,\n",
       "       'yinyuejie21_2021': 1,\n",
       "       'hongbaofei2022_2021': 1,\n",
       "       'gaokao_2022': 1}},\n",
       "     'reposts_count': 42,\n",
       "     'comments_count': 40,\n",
       "     'reprint_cmt_count': 0,\n",
       "     'attitudes_count': 840,\n",
       "     'pending_approval_count': 0,\n",
       "     'isLongText': False,\n",
       "     'mlevel': 0,\n",
       "     'darwin_tags': [],\n",
       "     'hot_page': {'fid': '232532_mblog', 'feed_detail_type': 0},\n",
       "     'mblogtype': 0,\n",
       "     'rid': '6_0_50_6670129651442252876_0_0_0',\n",
       "     'number_display_strategy': {'apply_scenario_flag': 3,\n",
       "      'display_text_min_number': 1000000,\n",
       "      'display_text': '100万+'},\n",
       "     'content_auth': 0,\n",
       "     'safe_tags': 524288,\n",
       "     'comment_manage_info': {'comment_permission_type': -1,\n",
       "      'approval_comment_type': 0,\n",
       "      'comment_sort_type': 0},\n",
       "     'pic_num': 0,\n",
       "     'fid': 4773657762070569,\n",
       "     'new_comment_style': 0,\n",
       "     'region_name': '发布于 吉林',\n",
       "     'region_opt': 1,\n",
       "     'edit_config': {'edited': False},\n",
       "     'page_info': {'type': 'video',\n",
       "      'object_type': 11,\n",
       "      'url_ori': 'http://t.cn/A6XpYmsy',\n",
       "      'page_pic': {'width': 480,\n",
       "       'pid': '006pGRecly1h2mo4yug7wj30k00zkdh5',\n",
       "       'source': 21,\n",
       "       'is_self_cover': 0,\n",
       "       'type': 0,\n",
       "       'url': 'https://wx3.sinaimg.cn/orj480/006pGRecly1h2mo4yug7wj30k00zkdh5.jpg',\n",
       "       'height': 853},\n",
       "      'page_url': 'https://video.weibo.com/show?fid=1034%3A4773657755713564&luicode=10000011&lfid=1076032830678474',\n",
       "      'object_id': '1034:4773657755713564',\n",
       "      'page_title': '长春新动态的微博视频',\n",
       "      'title': '',\n",
       "      'content1': '长春新动态的微博视频',\n",
       "      'content2': '江苏苏州，小猫踩坏吊顶灯，努力用爪子尝试复原 http://t.cn/RJhTtpf',\n",
       "      'video_orientation': 'vertical',\n",
       "      'play_count': '32万次播放',\n",
       "      'media_info': {'stream_url': 'https://f.video.weibocdn.com/o0/HNYl0e4alx07WmWZXVFe010412000RQa0E010.mp4?label=mp4_ld&template=360x640.24.0&ori=0&ps=1CwnkDw1GXwCQx&Expires=1657791717&ssig=qHiOcpMDEL&KID=unistore,video',\n",
       "       'stream_url_hd': 'https://f.video.weibocdn.com/o0/zc4jHoT8lx07WmX0ggQ8010412001xCk0E010.mp4?label=mp4_hd&template=540x960.24.0&ori=0&ps=1CwnkDw1GXwCQx&Expires=1657791717&ssig=AhDGQZCO8c&KID=unistore,video',\n",
       "       'duration': 11.307},\n",
       "      'urls': {'mp4_720p_mp4': 'https://f.video.weibocdn.com/o0/YqErZByrlx07WmX02rte010412002OYk0E010.mp4?label=mp4_720p&template=720x1280.24.0&ori=0&ps=1CwnkDw1GXwCQx&Expires=1657791717&ssig=01M2k73sDy&KID=unistore,video',\n",
       "       'mp4_hd_mp4': 'https://f.video.weibocdn.com/o0/zc4jHoT8lx07WmX0ggQ8010412001xCk0E010.mp4?label=mp4_hd&template=540x960.24.0&ori=0&ps=1CwnkDw1GXwCQx&Expires=1657791717&ssig=AhDGQZCO8c&KID=unistore,video',\n",
       "       'mp4_ld_mp4': 'https://f.video.weibocdn.com/o0/HNYl0e4alx07WmWZXVFe010412000RQa0E010.mp4?label=mp4_ld&template=360x640.24.0&ori=0&ps=1CwnkDw1GXwCQx&Expires=1657791717&ssig=qHiOcpMDEL&KID=unistore,video'}},\n",
       "     'bid': 'LuUaYmO1r'},\n",
       "    'reposts_count': 1,\n",
       "    'comments_count': 0,\n",
       "    'reprint_cmt_count': 0,\n",
       "    'attitudes_count': 1,\n",
       "    'pending_approval_count': 0,\n",
       "    'isLongText': False,\n",
       "    'mlevel': 0,\n",
       "    'darwin_tags': [],\n",
       "    'hot_page': {'fid': '232532_mblog', 'feed_detail_type': 0},\n",
       "    'mblogtype': 0,\n",
       "    'rid': '6_0_50_6670129651442252876_0_0_0',\n",
       "    'cardid': 'vip_010',\n",
       "    'extern_safe': 0,\n",
       "    'number_display_strategy': {'apply_scenario_flag': 3,\n",
       "     'display_text_min_number': 1000000,\n",
       "     'display_text': '100万+'},\n",
       "    'content_auth': 0,\n",
       "    'comment_manage_info': {'comment_permission_type': -1,\n",
       "     'approval_comment_type': 0,\n",
       "     'comment_sort_type': 0},\n",
       "    'repost_type': 1,\n",
       "    'pic_num': 0,\n",
       "    'new_comment_style': 0,\n",
       "    'ab_switcher': 4,\n",
       "    'region_name': '发布于 北京',\n",
       "    'region_opt': 1,\n",
       "    'mblog_menu_new_style': 0,\n",
       "    'edit_config': {'edited': False},\n",
       "    'raw_text': '[馋嘴]',\n",
       "    'bid': 'LvTD6cQYU'}},\n",
       "  {'card_type': 9,\n",
       "   'profile_type_id': 'proweibo_4776019325878568',\n",
       "   'itemid': '1076032830678474_-_4776019325878568',\n",
       "   'scheme': 'https://m.weibo.cn/status/LvTBOoFhC?mblogid=LvTBOoFhC&luicode=10000011&lfid=1076032830678474',\n",
       "   'mblog': {'visible': {'type': 0, 'list_id': 0},\n",
       "    'created_at': 'Thu Jun 02 21:06:43 +0800 2022',\n",
       "    'id': '4776019325878568',\n",
       "    'mid': '4776019325878568',\n",
       "    'can_edit': False,\n",
       "    'show_additional_indication': 0,\n",
       "    'text': '<span class=\"url-icon\"><img alt=[哈哈] src=\"https://h5.sinaimg.cn/m/emoticon/icon/default/d_haha-0ec05e6dad.png\" style=\"width:1em; height:1em;\" /></span>',\n",
       "    'source': 'iPhone 12 Pro Max',\n",
       "    'favorited': False,\n",
       "    'pic_ids': [],\n",
       "    'is_paid': False,\n",
       "    'mblog_vip_type': 0,\n",
       "    'user': {'id': 2830678474,\n",
       "     'screen_name': '崔庆才丨静觅',\n",
       "     'profile_image_url': 'https://tva3.sinaimg.cn/crop.0.0.458.458.180/a8b8b9cajw8exsgha3l4uj20cq0crmy5.jpg?KID=imgbed,tva&Expires=1657798917&ssig=f9r6AEyfyW',\n",
       "     'profile_url': 'https://m.weibo.cn/u/2830678474?uid=2830678474&luicode=10000011&lfid=1076032830678474',\n",
       "     'statuses_count': 2507,\n",
       "     'verified': True,\n",
       "     'verified_type': 0,\n",
       "     'verified_type_ext': 0,\n",
       "     'verified_reason': '互联网科技博主',\n",
       "     'close_blue_v': False,\n",
       "     'description': 'cuiqingcai.com',\n",
       "     'gender': 'm',\n",
       "     'mbtype': 12,\n",
       "     'urank': 36,\n",
       "     'mbrank': 7,\n",
       "     'follow_me': False,\n",
       "     'following': False,\n",
       "     'follow_count': 1172,\n",
       "     'followers_count': '1.1万',\n",
       "     'followers_count_str': '1.1万',\n",
       "     'cover_image_phone': 'https://tva1.sinaimg.cn/crop.0.0.640.640.640/549d0121tw1egm1kjly3jj20hs0hsq4f.jpg',\n",
       "     'avatar_hd': 'https://ww3.sinaimg.cn/orj480/a8b8b9cajw8exsgha3l4uj20cq0crmy5.jpg',\n",
       "     'like': False,\n",
       "     'like_me': False,\n",
       "     'badge': {'bind_taobao': 1,\n",
       "      'unread_pool': 1,\n",
       "      'unread_pool_ext': 1,\n",
       "      'dzwbqlx_2016': 1,\n",
       "      'panda': 1,\n",
       "      'user_name_certificate': 1,\n",
       "      'qixi_2018': 1,\n",
       "      'status_visible': 1,\n",
       "      'hongrenjie_2019': 1,\n",
       "      'china_2019': 1,\n",
       "      'hongkong_2019': 1,\n",
       "      'hongbao_2020': 2,\n",
       "      'pc_new': 7,\n",
       "      'party_cardid_state': 1,\n",
       "      'aoyun_2021': 1}},\n",
       "    'retweeted_status': {'visible': {'type': 0, 'list_id': 0},\n",
       "     'created_at': 'Thu Jun 02 19:22:26 +0800 2022',\n",
       "     'id': '4775993082380952',\n",
       "     'mid': '4775993082380952',\n",
       "     'can_edit': False,\n",
       "     'show_additional_indication': 0,\n",
       "     'text': '逮到一只睡午觉的小可爱<span class=\"url-icon\"><img alt=[doge] src=\"https://h5.sinaimg.cn/m/emoticon/icon/others/d_doge-be7f768d78.png\" style=\"width:1em; height:1em;\" /></span> <a  href=\"https://video.weibo.com/show?fid=1034:4775992783470658\" data-hide=\"\"><span class=\\'url-icon\\'><img style=\\'width: 1rem;height: 1rem\\' src=\\'https://h5.sinaimg.cn/upload/2015/09/25/3/timeline_card_small_video_default.png\\'></span><span class=\"surl-text\">阿粪青的微博视频</span></a> ',\n",
       "     'textLength': 49,\n",
       "     'source': '微博视频号',\n",
       "     'favorited': False,\n",
       "     'pic_ids': [],\n",
       "     'is_paid': False,\n",
       "     'mblog_vip_type': 0,\n",
       "     'user': {'id': 2726698224,\n",
       "      'screen_name': '阿粪青',\n",
       "      'profile_image_url': 'https://tvax2.sinaimg.cn/crop.0.0.512.512.180/a2861cf0ly8gdiqoo350ej20e80e874o.jpg?KID=imgbed,tva&Expires=1657798917&ssig=l3Q4C8IuIu',\n",
       "      'profile_url': 'https://m.weibo.cn/u/2726698224?uid=2726698224&luicode=10000011&lfid=1076032830678474',\n",
       "      'statuses_count': 14287,\n",
       "      'verified': True,\n",
       "      'verified_type': 0,\n",
       "      'verified_type_ext': 1,\n",
       "      'verified_reason': '知名搞笑幽默博主 微博原创视频博主',\n",
       "      'close_blue_v': False,\n",
       "      'description': '欢迎投稿',\n",
       "      'gender': 'm',\n",
       "      'mbtype': 12,\n",
       "      'urank': 48,\n",
       "      'mbrank': 7,\n",
       "      'follow_me': False,\n",
       "      'following': False,\n",
       "      'follow_count': 712,\n",
       "      'followers_count': '926.8万',\n",
       "      'followers_count_str': '926.8万',\n",
       "      'cover_image_phone': 'https://wx1.sinaimg.cn/crop.0.0.640.640.640/006Y5MRUgy1g2cidne035j30ku0kut8z.jpg',\n",
       "      'avatar_hd': 'https://wx2.sinaimg.cn/orj480/a2861cf0ly8gdiqoo350ej20e80e874o.jpg',\n",
       "      'like': False,\n",
       "      'like_me': False,\n",
       "      'badge': {'dzwbqlx_2016': 1,\n",
       "       'follow_whitelist_video': 1,\n",
       "       'super_star_2017': 1,\n",
       "       'user_name_certificate': 1,\n",
       "       'super_star_2018': 1,\n",
       "       'worldcup_2018': 34,\n",
       "       'dailv_2018': 7,\n",
       "       'qixi_2018': 1,\n",
       "       'national_day_2018': 1,\n",
       "       'weibo_display_fans': 1,\n",
       "       'relation_display': 1,\n",
       "       'memorial_2018': 1,\n",
       "       'hongbaofei_2019': 1,\n",
       "       'suishoupai_2019': 2,\n",
       "       'wusi_2019': 1,\n",
       "       'hongrenjie_2019': 1,\n",
       "       'dzwbqlx_2019': 2,\n",
       "       'hongbao_2020': 2,\n",
       "       'feiyan_2020': 1,\n",
       "       'hope_2020': 1,\n",
       "       'pc_new': 7,\n",
       "       'dailv_2020': 1,\n",
       "       'vpick_2020': 1,\n",
       "       'hongrenjie_2020': 1,\n",
       "       'weibozhiyexianxia_2021': 1,\n",
       "       'nihaoshenghuojie_2021': 1,\n",
       "       'gaokao_2021': 1,\n",
       "       'biyeji_2021': 1,\n",
       "       'party_cardid_state': 2,\n",
       "       'aoyun_2021': 1,\n",
       "       'companion_card': 1,\n",
       "       'kaixue21_2021': 1,\n",
       "       'yinyuejie21_2021': 1,\n",
       "       'yingxionglianmengs11_2021': 1,\n",
       "       'hongbaofei2022_2021': 1,\n",
       "       'newdongaohui_2022': 1,\n",
       "       'iplocationchange_2022': 1,\n",
       "       'biyeji_2022': 1,\n",
       "       'gaokao_2022': 1,\n",
       "       'dailv_2022': 1}},\n",
       "     'reposts_count': 2109,\n",
       "     'comments_count': 1056,\n",
       "     'reprint_cmt_count': 0,\n",
       "     'attitudes_count': 8617,\n",
       "     'pending_approval_count': 0,\n",
       "     'isLongText': False,\n",
       "     'mlevel': 0,\n",
       "     'darwin_tags': [{'object_type': 'fangle',\n",
       "       'object_id': '1022:23126100007562407699849217',\n",
       "       'display_name': '内容过于优秀',\n",
       "       'enterprise_uid': None,\n",
       "       'bd_object_type': 'fangle'}],\n",
       "     'hot_page': {'fid': '232532_mblog', 'feed_detail_type': 0},\n",
       "     'mblogtype': 0,\n",
       "     'rid': '7_0_50_6670129651442252876_0_0_0',\n",
       "     'number_display_strategy': {'apply_scenario_flag': 3,\n",
       "      'display_text_min_number': 1000000,\n",
       "      'display_text': '100万+'},\n",
       "     'content_auth': 0,\n",
       "     'safe_tags': 524288,\n",
       "     'comment_manage_info': {'comment_permission_type': -1,\n",
       "      'approval_comment_type': 0,\n",
       "      'comment_sort_type': 0},\n",
       "     'pic_num': 0,\n",
       "     'fid': 4775992861393083,\n",
       "     'new_comment_style': 0,\n",
       "     'region_name': '发布于 广西',\n",
       "     'region_opt': 1,\n",
       "     'edit_config': {'edited': False},\n",
       "     'page_info': {'type': 'video',\n",
       "      'object_type': 11,\n",
       "      'url_ori': 'http://t.cn/A6XTCHDs',\n",
       "      'page_pic': {'width': 480,\n",
       "       'pid': 'a2861cf0gy1h2u4bh1gwxj20k00zc76x',\n",
       "       'source': 21,\n",
       "       'is_self_cover': 0,\n",
       "       'type': 0,\n",
       "       'url': 'https://wx3.sinaimg.cn/orj480/a2861cf0gy1h2u4bh1gwxj20k00zc76x.jpg',\n",
       "       'height': 848},\n",
       "      'page_url': 'https://video.weibo.com/show?fid=1034%3A4775992783470658&luicode=10000011&lfid=1076032830678474',\n",
       "      'object_id': '1034:4775992783470658',\n",
       "      'page_title': '阿粪青的微博视频',\n",
       "      'title': '',\n",
       "      'content1': '阿粪青的微博视频',\n",
       "      'content2': '逮到一只睡午觉的小可爱[doge]',\n",
       "      'video_orientation': 'vertical',\n",
       "      'play_count': '118万次播放',\n",
       "      'media_info': {'stream_url': 'https://f.video.weibocdn.com/u0/dLl9i8xtgx07Wxefkxn201041200jDiy0E010.mp4?label=mp4_ld&template=360x636.24.0&ori=0&ps=1CwnkDw1GXwCQx&Expires=1657791717&ssig=FSubKA3KX6&KID=unistore,video',\n",
       "       'stream_url_hd': 'https://f.video.weibocdn.com/u0/ynPYaR4Sgx07WxefR2t201041200CUH70E010.mp4?label=mp4_hd&template=540x952.24.0&ori=0&ps=1CwnkDw1GXwCQx&Expires=1657791717&ssig=IuVXi5SJ0V&KID=unistore,video',\n",
       "       'duration': 63.645},\n",
       "      'urls': {'mp4_720p_mp4': 'https://f.video.weibocdn.com/u0/YVjzfBPOgx07Wxegzy1W010412012aBi0E010.mp4?label=mp4_720p&template=720x1272.24.0&ori=0&ps=1CwnkDw1GXwCQx&Expires=1657791717&ssig=pT2mCfg1%2BK&KID=unistore,video',\n",
       "       'mp4_hd_mp4': 'https://f.video.weibocdn.com/u0/ynPYaR4Sgx07WxefR2t201041200CUH70E010.mp4?label=mp4_hd&template=540x952.24.0&ori=0&ps=1CwnkDw1GXwCQx&Expires=1657791717&ssig=IuVXi5SJ0V&KID=unistore,video',\n",
       "       'mp4_ld_mp4': 'https://f.video.weibocdn.com/u0/dLl9i8xtgx07Wxefkxn201041200jDiy0E010.mp4?label=mp4_ld&template=360x636.24.0&ori=0&ps=1CwnkDw1GXwCQx&Expires=1657791717&ssig=FSubKA3KX6&KID=unistore,video'}},\n",
       "     'bid': 'LvSVu9Zos'},\n",
       "    'reposts_count': 1,\n",
       "    'comments_count': 0,\n",
       "    'reprint_cmt_count': 0,\n",
       "    'attitudes_count': 0,\n",
       "    'pending_approval_count': 0,\n",
       "    'isLongText': False,\n",
       "    'mlevel': 0,\n",
       "    'darwin_tags': [],\n",
       "    'hot_page': {'fid': '232532_mblog', 'feed_detail_type': 0},\n",
       "    'mblogtype': 0,\n",
       "    'rid': '7_0_50_6670129651442252876_0_0_0',\n",
       "    'cardid': 'vip_010',\n",
       "    'extern_safe': 0,\n",
       "    'number_display_strategy': {'apply_scenario_flag': 3,\n",
       "     'display_text_min_number': 1000000,\n",
       "     'display_text': '100万+'},\n",
       "    'content_auth': 0,\n",
       "    'comment_manage_info': {'comment_permission_type': -1,\n",
       "     'approval_comment_type': 0,\n",
       "     'comment_sort_type': 0},\n",
       "    'repost_type': 1,\n",
       "    'pic_num': 0,\n",
       "    'new_comment_style': 0,\n",
       "    'ab_switcher': 4,\n",
       "    'region_name': '发布于 北京',\n",
       "    'region_opt': 1,\n",
       "    'mblog_menu_new_style': 0,\n",
       "    'edit_config': {'edited': False},\n",
       "    'raw_text': '[哈哈]',\n",
       "    'bid': 'LvTBOoFhC'}},\n",
       "  {'card_type': 9,\n",
       "   'profile_type_id': 'proweibo_4774990266238255',\n",
       "   'itemid': '1076032830678474_-_4774990266238255',\n",
       "   'scheme': 'https://m.weibo.cn/status/LvsQ2qaR1?mblogid=LvsQ2qaR1&luicode=10000011&lfid=1076032830678474',\n",
       "   'mblog': {'visible': {'type': 0, 'list_id': 0},\n",
       "    'created_at': 'Tue May 31 00:57:37 +0800 2022',\n",
       "    'id': '4774990266238255',\n",
       "    'mid': '4774990266238255',\n",
       "    'can_edit': False,\n",
       "    'show_additional_indication': 0,\n",
       "    'text': '分享一个非常全的有关系统设计的资源：github.com/donnemartin/system-design-primer，其中介绍了各种各样系统的设计原则，比如可用性和一致性、负载均衡、域名系统、反向代理、数据库、缓存等、消息队列等，对提高整体计算机水平非常有帮助。 ',\n",
       "    'textLength': 225,\n",
       "    'source': 'iPhone 12 Pro Max',\n",
       "    'favorited': False,\n",
       "    'pic_ids': [],\n",
       "    'is_paid': False,\n",
       "    'mblog_vip_type': 0,\n",
       "    'user': {'id': 2830678474,\n",
       "     'screen_name': '崔庆才丨静觅',\n",
       "     'profile_image_url': 'https://tva3.sinaimg.cn/crop.0.0.458.458.180/a8b8b9cajw8exsgha3l4uj20cq0crmy5.jpg?KID=imgbed,tva&Expires=1657798917&ssig=f9r6AEyfyW',\n",
       "     'profile_url': 'https://m.weibo.cn/u/2830678474?uid=2830678474&luicode=10000011&lfid=1076032830678474',\n",
       "     'statuses_count': 2507,\n",
       "     'verified': True,\n",
       "     'verified_type': 0,\n",
       "     'verified_type_ext': 0,\n",
       "     'verified_reason': '互联网科技博主',\n",
       "     'close_blue_v': False,\n",
       "     'description': 'cuiqingcai.com',\n",
       "     'gender': 'm',\n",
       "     'mbtype': 12,\n",
       "     'urank': 36,\n",
       "     'mbrank': 7,\n",
       "     'follow_me': False,\n",
       "     'following': False,\n",
       "     'follow_count': 1172,\n",
       "     'followers_count': '1.1万',\n",
       "     'followers_count_str': '1.1万',\n",
       "     'cover_image_phone': 'https://tva1.sinaimg.cn/crop.0.0.640.640.640/549d0121tw1egm1kjly3jj20hs0hsq4f.jpg',\n",
       "     'avatar_hd': 'https://ww3.sinaimg.cn/orj480/a8b8b9cajw8exsgha3l4uj20cq0crmy5.jpg',\n",
       "     'like': False,\n",
       "     'like_me': False,\n",
       "     'badge': {'bind_taobao': 1,\n",
       "      'unread_pool': 1,\n",
       "      'unread_pool_ext': 1,\n",
       "      'dzwbqlx_2016': 1,\n",
       "      'panda': 1,\n",
       "      'user_name_certificate': 1,\n",
       "      'qixi_2018': 1,\n",
       "      'status_visible': 1,\n",
       "      'hongrenjie_2019': 1,\n",
       "      'china_2019': 1,\n",
       "      'hongkong_2019': 1,\n",
       "      'hongbao_2020': 2,\n",
       "      'pc_new': 7,\n",
       "      'party_cardid_state': 1,\n",
       "      'aoyun_2021': 1}},\n",
       "    'reposts_count': 1,\n",
       "    'comments_count': 0,\n",
       "    'reprint_cmt_count': 0,\n",
       "    'attitudes_count': 1,\n",
       "    'pending_approval_count': 0,\n",
       "    'isLongText': False,\n",
       "    'mlevel': 0,\n",
       "    'darwin_tags': [],\n",
       "    'hot_page': {'fid': '232532_mblog', 'feed_detail_type': 0},\n",
       "    'mblogtype': 0,\n",
       "    'rid': '8_0_50_6670129651442252876_0_0_0',\n",
       "    'cardid': 'vip_010',\n",
       "    'extern_safe': 0,\n",
       "    'number_display_strategy': {'apply_scenario_flag': 3,\n",
       "     'display_text_min_number': 1000000,\n",
       "     'display_text': '100万+'},\n",
       "    'content_auth': 0,\n",
       "    'comment_manage_info': {'comment_permission_type': -1,\n",
       "     'approval_comment_type': 0,\n",
       "     'comment_sort_type': 0},\n",
       "    'pic_num': 0,\n",
       "    'new_comment_style': 0,\n",
       "    'ab_switcher': 4,\n",
       "    'region_name': '发布于 北京',\n",
       "    'region_opt': 1,\n",
       "    'mblog_menu_new_style': 0,\n",
       "    'edit_config': {'edited': False},\n",
       "    'bid': 'LvsQ2qaR1'}},\n",
       "  {'card_type': 9,\n",
       "   'profile_type_id': 'proweibo_4774419379257723',\n",
       "   'itemid': '1076032830678474_-_4774419379257723',\n",
       "   'scheme': 'https://m.weibo.cn/status/LvdZfCQm7?mblogid=LvdZfCQm7&luicode=10000011&lfid=1076032830678474',\n",
       "   'mblog': {'visible': {'type': 0, 'list_id': 0},\n",
       "    'created_at': 'Sun May 29 11:09:06 +0800 2022',\n",
       "    'id': '4774419379257723',\n",
       "    'mid': '4774419379257723',\n",
       "    'can_edit': False,\n",
       "    'show_additional_indication': 0,\n",
       "    'text': '<span class=\"url-icon\"><img alt=[二哈] src=\"https://h5.sinaimg.cn/m/emoticon/icon/others/d_erha-139d0e07bd.png\" style=\"width:1em; height:1em;\" /></span><span class=\"url-icon\"><img alt=[二哈] src=\"https://h5.sinaimg.cn/m/emoticon/icon/others/d_erha-139d0e07bd.png\" style=\"width:1em; height:1em;\" /></span><span class=\"url-icon\"><img alt=[二哈] src=\"https://h5.sinaimg.cn/m/emoticon/icon/others/d_erha-139d0e07bd.png\" style=\"width:1em; height:1em;\" /></span>',\n",
       "    'source': 'iPhone 12 Pro Max',\n",
       "    'favorited': False,\n",
       "    'pic_ids': [],\n",
       "    'is_paid': False,\n",
       "    'mblog_vip_type': 0,\n",
       "    'user': {'id': 2830678474,\n",
       "     'screen_name': '崔庆才丨静觅',\n",
       "     'profile_image_url': 'https://tva3.sinaimg.cn/crop.0.0.458.458.180/a8b8b9cajw8exsgha3l4uj20cq0crmy5.jpg?KID=imgbed,tva&Expires=1657798917&ssig=f9r6AEyfyW',\n",
       "     'profile_url': 'https://m.weibo.cn/u/2830678474?uid=2830678474&luicode=10000011&lfid=1076032830678474',\n",
       "     'statuses_count': 2507,\n",
       "     'verified': True,\n",
       "     'verified_type': 0,\n",
       "     'verified_type_ext': 0,\n",
       "     'verified_reason': '互联网科技博主',\n",
       "     'close_blue_v': False,\n",
       "     'description': 'cuiqingcai.com',\n",
       "     'gender': 'm',\n",
       "     'mbtype': 12,\n",
       "     'urank': 36,\n",
       "     'mbrank': 7,\n",
       "     'follow_me': False,\n",
       "     'following': False,\n",
       "     'follow_count': 1172,\n",
       "     'followers_count': '1.1万',\n",
       "     'followers_count_str': '1.1万',\n",
       "     'cover_image_phone': 'https://tva1.sinaimg.cn/crop.0.0.640.640.640/549d0121tw1egm1kjly3jj20hs0hsq4f.jpg',\n",
       "     'avatar_hd': 'https://ww3.sinaimg.cn/orj480/a8b8b9cajw8exsgha3l4uj20cq0crmy5.jpg',\n",
       "     'like': False,\n",
       "     'like_me': False,\n",
       "     'badge': {'bind_taobao': 1,\n",
       "      'unread_pool': 1,\n",
       "      'unread_pool_ext': 1,\n",
       "      'dzwbqlx_2016': 1,\n",
       "      'panda': 1,\n",
       "      'user_name_certificate': 1,\n",
       "      'qixi_2018': 1,\n",
       "      'status_visible': 1,\n",
       "      'hongrenjie_2019': 1,\n",
       "      'china_2019': 1,\n",
       "      'hongkong_2019': 1,\n",
       "      'hongbao_2020': 2,\n",
       "      'pc_new': 7,\n",
       "      'party_cardid_state': 1,\n",
       "      'aoyun_2021': 1}},\n",
       "    'retweeted_status': {'visible': {'type': 0, 'list_id': 0},\n",
       "     'created_at': 'Sun May 29 10:00:02 +0800 2022',\n",
       "     'id': '4774401993868754',\n",
       "     'mid': '4774401993868754',\n",
       "     'can_edit': False,\n",
       "     'show_additional_indication': 0,\n",
       "     'text': '螺蛳粉冰棍…… ',\n",
       "     'textLength': 14,\n",
       "     'source': '微博 weibo.com',\n",
       "     'favorited': False,\n",
       "     'pic_ids': ['001TVDbigy1h2oiq8hxozj60j60jh76002',\n",
       "      '001TVDbigy1h2oiq8kw33j60j60jmgmr02',\n",
       "      '001TVDbigy1h2oiq8h1hwj60j60j8q4202',\n",
       "      '001TVDbigy1h2oiq8hxqnj60j60g7js902'],\n",
       "     'thumbnail_pic': 'https://wx1.sinaimg.cn/thumbnail/001TVDbigy1h2oiq8hxozj60j60jh76002.jpg',\n",
       "     'bmiddle_pic': 'http://wx1.sinaimg.cn/bmiddle/001TVDbigy1h2oiq8hxozj60j60jh76002.jpg',\n",
       "     'original_pic': 'https://wx1.sinaimg.cn/large/001TVDbigy1h2oiq8hxozj60j60jh76002.jpg',\n",
       "     'is_paid': False,\n",
       "     'mblog_vip_type': 0,\n",
       "     'user': {'id': 1742566624,\n",
       "      'screen_name': '思想聚焦',\n",
       "      'profile_image_url': 'https://tvax2.sinaimg.cn/crop.0.0.180.180.180/67dd74e0ly8fvv8h7c3ylj2050050aac.jpg?KID=imgbed,tva&Expires=1657798917&ssig=V7%2BNcRguVq',\n",
       "      'profile_url': 'https://m.weibo.cn/u/1742566624?uid=1742566624&luicode=10000011&lfid=1076032830678474',\n",
       "      'statuses_count': 124433,\n",
       "      'verified': True,\n",
       "      'verified_type': 0,\n",
       "      'verified_type_ext': 1,\n",
       "      'verified_reason': '微博知名博主 视频博主',\n",
       "      'close_blue_v': False,\n",
       "      'description': 'QQ:3163512220 投稿邮箱：1457107986@qq.com',\n",
       "      'gender': 'm',\n",
       "      'mbtype': 12,\n",
       "      'urank': 48,\n",
       "      'mbrank': 7,\n",
       "      'follow_me': False,\n",
       "      'following': False,\n",
       "      'follow_count': 1642,\n",
       "      'followers_count': '3450.7万',\n",
       "      'followers_count_str': '3450.7万',\n",
       "      'cover_image_phone': 'https://tva3.sinaimg.cn/crop.0.0.640.640.640/6ce2240djw1e9oaqhwllzj20hs0hsdir.jpg',\n",
       "      'avatar_hd': 'https://wx2.sinaimg.cn/orj480/67dd74e0ly8fvv8h7c3ylj2050050aac.jpg',\n",
       "      'like': False,\n",
       "      'like_me': False,\n",
       "      'badge': {'gongyi_level': 1,\n",
       "       'bind_taobao': 1,\n",
       "       'dailv': 1,\n",
       "       'zongyiji': 1,\n",
       "       'self_media': 1,\n",
       "       'dzwbqlx_2016': 1,\n",
       "       'follow_whitelist_video': 1,\n",
       "       'super_star_2017': 1,\n",
       "       'travel_2017': 1,\n",
       "       'user_name_certificate': 1,\n",
       "       'suishoupai_2018': 5,\n",
       "       'wenchuan_10th': 1,\n",
       "       'super_star_2018': 1,\n",
       "       'worldcup_2018': 34,\n",
       "       'dailv_2018': 1,\n",
       "       'qixi_2018': 1,\n",
       "       'meilizhongguo_2018': 1,\n",
       "       'national_day_2018': 1,\n",
       "       'memorial_2018': 1,\n",
       "       'hongbaofei_2019': 1,\n",
       "       'status_visible': 1,\n",
       "       'suishoupai_2019': 1,\n",
       "       'wusi_2019': 1,\n",
       "       'earth_2019': 1,\n",
       "       'hongrenjie_2019': 1,\n",
       "       'china_2019': 1,\n",
       "       'hongkong_2019': 1,\n",
       "       'rrgyj_2019': 1,\n",
       "       'cishan_2019': 1,\n",
       "       'weishi_2019': 1,\n",
       "       'shuang11_2019': 1,\n",
       "       'gongjiri_2019': 1,\n",
       "       'macao_2019': 1,\n",
       "       'china_2019_2': 1,\n",
       "       'hongbao_2020': 1,\n",
       "       'feiyan_2020': 1,\n",
       "       'hope_2020': 1,\n",
       "       'pc_new': 6,\n",
       "       'dailv_2020': 1,\n",
       "       'school_2020': 1,\n",
       "       'gongyi_2020': 3,\n",
       "       'hongrenjie_2020': 1,\n",
       "       'china_2020': 1,\n",
       "       'hongbaofeifuniu_2021': 1,\n",
       "       'lvzhilingyang_2021': 1,\n",
       "       'yuanlongping_2021': 1,\n",
       "       'ylpshuidao_2021': 1,\n",
       "       'gaokao_2021': 1,\n",
       "       'ouzhoubei_2021': 24,\n",
       "       'biyeji_2021': 1,\n",
       "       'party_cardid_state': 2,\n",
       "       'aoyun_2021': 1,\n",
       "       'kaixue21_2021': 1,\n",
       "       'renrengongyijie_2021': 1,\n",
       "       'yinyuejie21_2021': 1,\n",
       "       'hongbaofei2022_2021': 2,\n",
       "       'newdongaohui_2022': 1,\n",
       "       'nihaochuntian_2022': 1,\n",
       "       'biyeji_2022': 1,\n",
       "       'gaokao_2022': 1,\n",
       "       'hangmu_2022': 1,\n",
       "       'guoqi_2022': 1,\n",
       "       'gangqi_2022': 1}},\n",
       "     'reposts_count': 1153,\n",
       "     'comments_count': 1110,\n",
       "     'reprint_cmt_count': 0,\n",
       "     'attitudes_count': 3270,\n",
       "     'pending_approval_count': 0,\n",
       "     'isLongText': False,\n",
       "     'mlevel': 0,\n",
       "     'darwin_tags': [],\n",
       "     'hot_page': {'fid': '232532_mblog', 'feed_detail_type': 0},\n",
       "     'mblogtype': 0,\n",
       "     'rid': '9_0_50_6670129651442252876_0_0_0',\n",
       "     'cardid': 'star_1573',\n",
       "     'number_display_strategy': {'apply_scenario_flag': 3,\n",
       "      'display_text_min_number': 1000000,\n",
       "      'display_text': '100万+'},\n",
       "     'content_auth': 0,\n",
       "     'safe_tags': 67108864,\n",
       "     'comment_manage_info': {'comment_permission_type': -1,\n",
       "      'approval_comment_type': 0,\n",
       "      'comment_sort_type': 0},\n",
       "     'pic_num': 4,\n",
       "     'new_comment_style': 0,\n",
       "     'region_name': '发布于 广东',\n",
       "     'region_opt': 1,\n",
       "     'edit_config': {'edited': False},\n",
       "     'pics': [{'pid': '001TVDbigy1h2oiq8hxozj60j60jh76002',\n",
       "       'url': 'https://wx1.sinaimg.cn/orj360/001TVDbigy1h2oiq8hxozj60j60jh76002.jpg',\n",
       "       'size': 'orj360',\n",
       "       'geo': {'width': 360, 'height': 365, 'croped': False},\n",
       "       'large': {'size': 'large',\n",
       "        'url': 'https://wx1.sinaimg.cn/large/001TVDbigy1h2oiq8hxozj60j60jh76002.jpg',\n",
       "        'geo': {'width': '690', 'height': '701', 'croped': False}}},\n",
       "      {'pid': '001TVDbigy1h2oiq8kw33j60j60jmgmr02',\n",
       "       'url': 'https://wx1.sinaimg.cn/orj360/001TVDbigy1h2oiq8kw33j60j60jmgmr02.jpg',\n",
       "       'size': 'orj360',\n",
       "       'geo': {'width': 360, 'height': 368, 'croped': False},\n",
       "       'large': {'size': 'large',\n",
       "        'url': 'https://wx1.sinaimg.cn/large/001TVDbigy1h2oiq8kw33j60j60jmgmr02.jpg',\n",
       "        'geo': {'width': '690', 'height': '706', 'croped': False}}},\n",
       "      {'pid': '001TVDbigy1h2oiq8h1hwj60j60j8q4202',\n",
       "       'url': 'https://wx3.sinaimg.cn/orj360/001TVDbigy1h2oiq8h1hwj60j60j8q4202.jpg',\n",
       "       'size': 'orj360',\n",
       "       'geo': {'width': 360, 'height': 361, 'croped': False},\n",
       "       'large': {'size': 'large',\n",
       "        'url': 'https://wx3.sinaimg.cn/large/001TVDbigy1h2oiq8h1hwj60j60j8q4202.jpg',\n",
       "        'geo': {'width': '690', 'height': '692', 'croped': False}}},\n",
       "      {'pid': '001TVDbigy1h2oiq8hxqnj60j60g7js902',\n",
       "       'url': 'https://wx2.sinaimg.cn/orj360/001TVDbigy1h2oiq8hxqnj60j60g7js902.jpg',\n",
       "       'size': 'orj360',\n",
       "       'geo': {'width': 319, 'height': 270, 'croped': False},\n",
       "       'large': {'size': 'large',\n",
       "        'url': 'https://wx2.sinaimg.cn/large/001TVDbigy1h2oiq8hxqnj60j60g7js902.jpg',\n",
       "        'geo': {'width': '690', 'height': '583', 'croped': False}}}],\n",
       "     'bid': 'Lvdxdgerg'},\n",
       "    'reposts_count': 0,\n",
       "    'comments_count': 0,\n",
       "    'reprint_cmt_count': 0,\n",
       "    'attitudes_count': 0,\n",
       "    'pending_approval_count': 0,\n",
       "    'isLongText': False,\n",
       "    'mlevel': 0,\n",
       "    'darwin_tags': [],\n",
       "    'hot_page': {'fid': '232532_mblog', 'feed_detail_type': 0},\n",
       "    'mblogtype': 0,\n",
       "    'rid': '9_0_50_6670129651442252876_0_0_0',\n",
       "    'cardid': 'vip_010',\n",
       "    'extern_safe': 0,\n",
       "    'number_display_strategy': {'apply_scenario_flag': 3,\n",
       "     'display_text_min_number': 1000000,\n",
       "     'display_text': '100万+'},\n",
       "    'content_auth': 0,\n",
       "    'comment_manage_info': {'comment_permission_type': -1,\n",
       "     'approval_comment_type': 0,\n",
       "     'comment_sort_type': 0},\n",
       "    'repost_type': 1,\n",
       "    'pic_num': 0,\n",
       "    'new_comment_style': 0,\n",
       "    'ab_switcher': 4,\n",
       "    'region_name': '发布于 北京',\n",
       "    'region_opt': 1,\n",
       "    'mblog_menu_new_style': 0,\n",
       "    'edit_config': {'edited': False},\n",
       "    'raw_text': '[二哈][二哈][二哈]',\n",
       "    'bid': 'LvdZfCQm7'}}],\n",
       " 'scheme': 'sinaweibo://cardlist?containerid=1076032830678474&type=uid&value=2830678474&_T_WM=64155236321&v_p=42&luicode=10000011&lfid=1076032830678474',\n",
       " 'showAppTips': 0}"
      ]
     },
     "execution_count": 203,
     "metadata": {},
     "output_type": "execute_result"
    }
   ],
   "source": [
    "s.get('data')"
   ]
  },
  {
   "cell_type": "code",
   "execution_count": 205,
   "id": "30f2dec5",
   "metadata": {},
   "outputs": [
    {
     "data": {
      "text/plain": [
       "{'containerid': '1076032830678474',\n",
       " 'v_p': 42,\n",
       " 'show_style': 1,\n",
       " 'total': 198,\n",
       " 'since_id': 4774091682746723}"
      ]
     },
     "execution_count": 205,
     "metadata": {},
     "output_type": "execute_result"
    }
   ],
   "source": [
    "s.get('data').get('cardlistInfo')"
   ]
  },
  {
   "cell_type": "code",
   "execution_count": 206,
   "id": "8b06db14",
   "metadata": {},
   "outputs": [
    {
     "data": {
      "text/plain": [
       "4774091682746723"
      ]
     },
     "execution_count": 206,
     "metadata": {},
     "output_type": "execute_result"
    }
   ],
   "source": [
    "s.get('data').get('cardlistInfo').get('since_id')"
   ]
  },
  {
   "cell_type": "code",
   "execution_count": 211,
   "id": "27a90994",
   "metadata": {},
   "outputs": [],
   "source": [
    "from pyquery import PyQuery as pq\n",
    "\n",
    "def get_weibo(url):\n",
    "    response = requests.get(url, headers=headers)\n",
    "    s = response.json()\n",
    "    global since_id\n",
    "    since_id = s.get('data').get('cardlistInfo').get('since_id')\n",
    "    items = s.get('data').get('cards')\n",
    "    for item in items:\n",
    "        item = item.get('mblog')\n",
    "        weibo = {}\n",
    "        weibo['id'] = item.get('id')\n",
    "        weibo['text'] = pq(item.get('text')).text()\n",
    "        weibo['attitudes'] = item.get('attitudes_count')\n",
    "        weibo['comments'] = item.get('comments_count')\n",
    "        weibo['reposts'] = item.get('reposts_count')\n",
    "        print(weibo)\n",
    "        "
   ]
  },
  {
   "cell_type": "code",
   "execution_count": 213,
   "id": "155bb681",
   "metadata": {},
   "outputs": [
    {
     "name": "stdout",
     "output_type": "stream",
     "text": [
      "{'id': '4791374329414722', 'text': '转发微博', 'attitudes': 1, 'comments': 0, 'reposts': 0}\n",
      "{'id': '4791373461455656', 'text': '转发微博', 'attitudes': 1, 'comments': 0, 'reposts': 1}\n",
      "{'id': '4787545654952441', 'text': '转发微博', 'attitudes': 1, 'comments': 0, 'reposts': 0}\n",
      "{'id': '4787127352559634', 'text': '转发微博', 'attitudes': 0, 'comments': 0, 'reposts': 0}\n",
      "{'id': '4779505241821018', 'text': '反人类的电梯设计，但想想也可以理解。 崔庆才丨静觅的微博视频', 'attitudes': 0, 'comments': 3, 'reposts': 0}\n",
      "{'id': '4779479290872945', 'text': '//@梁博penny://@简木生--撰稿者://@姚广孝_wayne :搜了一下，确实有相应的报道：网页链接', 'attitudes': 4, 'comments': 0, 'reposts': 3}\n",
      "{'id': '4777608590131929', 'text': '昨天居然忘了看了。', 'attitudes': 0, 'comments': 0, 'reposts': 0}\n",
      "{'id': '4777496082648163', 'text': '终于可以堂食了，舒服。', 'attitudes': 0, 'comments': 0, 'reposts': 0}\n",
      "{'id': '4776020123063600', 'text': '', 'attitudes': 1, 'comments': 0, 'reposts': 1}\n",
      "{'id': '4776019325878568', 'text': '', 'attitudes': 0, 'comments': 0, 'reposts': 1}\n",
      "https://m.weibo.cn/api/container/getIndex?type=uid&value=2830678474&containerid=1076032830678474&since_id=4774990266238255\n",
      "{'id': '4774990266238255', 'text': '分享一个非常全的有关系统设计的资源：github.com/donnemartin/system-design-primer，其中介绍了各种各样系统的设计原则，比如可用性和一致性、负载均衡、域名系统、反向代理、数据库、缓存等、消息队列等，对提高整体计算机水平非常有帮助。', 'attitudes': 1, 'comments': 0, 'reposts': 1}\n",
      "{'id': '4774419379257723', 'text': '', 'attitudes': 0, 'comments': 0, 'reposts': 0}\n",
      "{'id': '4774091682746723', 'text': '所以我都不能点朝阳东西城的饭了？', 'attitudes': 3, 'comments': 0, 'reposts': 0}\n",
      "{'id': '4774045360328250', 'text': '…', 'attitudes': 2, 'comments': 0, 'reposts': 1}\n",
      "{'id': '4772053163445027', 'text': '', 'attitudes': 0, 'comments': 1, 'reposts': 1}\n",
      "{'id': '4771003403863828', 'text': '#520表白日# 和我没啥关系，该吃吃该喝喝就行了。', 'attitudes': 1, 'comments': 4, 'reposts': 0}\n",
      "{'id': '4770095455278004', 'text': '', 'attitudes': 2, 'comments': 0, 'reposts': 0}\n",
      "{'id': '4770093916228456', 'text': '', 'attitudes': 1, 'comments': 0, 'reposts': 0}\n",
      "{'id': '4770093877168261', 'text': '', 'attitudes': 1, 'comments': 0, 'reposts': 0}\n",
      "{'id': '4769684371801536', 'text': '转发微博', 'attitudes': 4, 'comments': 2, 'reposts': 4}\n",
      "https://m.weibo.cn/api/container/getIndex?type=uid&value=2830678474&containerid=1076032830678474&since_id=4769671906329262\n",
      "{'id': '4769671906329262', 'text': '就在我家路口对面有确诊的了', 'attitudes': 0, 'comments': 0, 'reposts': 0}\n",
      "{'id': '4769670932728365', 'text': '转发微博', 'attitudes': 0, 'comments': 0, 'reposts': 0}\n",
      "{'id': '4769670743984120', 'text': '//@没钱的网友路过:只要不是雄鹿拿总冠军，哪个队拿都可以', 'attitudes': 0, 'comments': 0, 'reposts': 0}\n",
      "{'id': '4769540749921251', 'text': '//@刀塔贰云玩家:转发微博', 'attitudes': 1, 'comments': 0, 'reposts': 4}\n",
      "{'id': '4766285168379928', 'text': '哈哈哈哈哈哈', 'attitudes': 4, 'comments': 0, 'reposts': 2}\n",
      "{'id': '4766125528977343', 'text': '', 'attitudes': 1, 'comments': 0, 'reposts': 0}\n",
      "{'id': '4765455656948229', 'text': '自驾300公里，舒服了。 北京·北京百里山水画廊', 'attitudes': 21, 'comments': 0, 'reposts': 0}\n",
      "{'id': '4765342724788019', 'text': '//@班叔:会写个“解”//@胡波:图里写的是啥啊？//@刘松涛VVV:路过//@花无涯://@九世天阳: //@令伊呀伊哟喂:是我//@喵熊果子:是我。', 'attitudes': 2, 'comments': 2, 'reposts': 2}\n",
      "{'id': '4764825698436625', 'text': '//@赏味不足://@科普君XueShu雪树: //@夏目家的小诗哥:看到大爷拿到吃的哭了 我也想哭//@嘤嘤嘤哭泣的小绵羊:能不能行了啊！！！//@一只蹦蹦跳跳的尤物:哎，上海啊！//@李宝玖: 看哭了。//@刘春://@谭飞:惨', 'attitudes': 0, 'comments': 0, 'reposts': 2}\n",
      "{'id': '4764645963335241', 'text': '', 'attitudes': 1, 'comments': 0, 'reposts': 0}\n",
      "https://m.weibo.cn/api/container/getIndex?type=uid&value=2830678474&containerid=1076032830678474&since_id=4763520141624821\n",
      "{'id': '4763520141624821', 'text': '转发微博', 'attitudes': 2, 'comments': 2, 'reposts': 6}\n",
      "{'id': '4762437670666377', 'text': '112-116！杜兰特空砍39＋9＋7，篮网遭凯尔特人横扫出局！\\n阿杜尽力了，我的赛季结束了，下赛季继续加油！ 112-116！杜兰特空砍39＋9＋7，篮网遭凯尔特人横扫出局！', 'attitudes': 0, 'comments': 1, 'reposts': 0}\n",
      "{'id': '4761790393616176', 'text': '转发微博', 'attitudes': 2, 'comments': 0, 'reposts': 0}\n",
      "{'id': '4761784248173404', 'text': '杜兰特输了，但他应该被温柔以待杜兰特输了，但他应该被温柔以待', 'attitudes': 1, 'comments': 0, 'reposts': 0}\n",
      "{'id': '4761764099526777', 'text': '', 'attitudes': 1, 'comments': 1, 'reposts': 0}\n",
      "{'id': '4760634888294519', 'text': '下一场一定大爆发！！', 'attitudes': 1, 'comments': 1, 'reposts': 0}\n",
      "{'id': '4760243067686010', 'text': '早起、冥想🧘♀️、运动完成。', 'attitudes': 8, 'comments': 0, 'reposts': 0}\n",
      "{'id': '4759588799516545', 'text': '徐静雨啊徐静雨，篮网被绝杀了吼成这样啊？就你这样还解说呢？瞧把你得瑟的🤢\\n@雨说体育徐静雨 网页链接', 'attitudes': 10, 'comments': 7, 'reposts': 0}\n",
      "{'id': '4759515423310756', 'text': '次奥！', 'attitudes': 0, 'comments': 0, 'reposts': 0}\n",
      "{'id': '4759281036955379', 'text': '高！', 'attitudes': 9, 'comments': 0, 'reposts': 2}\n",
      "https://m.weibo.cn/api/container/getIndex?type=uid&value=2830678474&containerid=1076032830678474&since_id=4759216252522144\n",
      "{'id': '4759216252522144', 'text': '/@赏味不足:艹，太屌了//@老刀99:燃//@囧鸽:艹//@月刊勇者KuMa君: 燃起来！！//@空笑绝望_戏言玩家多啦君:Cdm草//@零崎禊識: //@stage1st宅社区:五菱！//@菲特泰斯塔羅莎: 什么叫cdm//@全撸剩饭://@前前漫画射长: 思域怎么说//@其实我不是多多洛:字幕笑死//', 'attitudes': 2, 'comments': 0, 'reposts': 2}\n",
      "{'id': '4757892249685281', 'text': '', 'attitudes': 0, 'comments': 1, 'reposts': 0}\n",
      "{'id': '4757885047015226', 'text': 'xswl', 'attitudes': 1, 'comments': 0, 'reposts': 0}\n",
      "{'id': '4757727987632034', 'text': '篮网总冠军！', 'attitudes': 1, 'comments': 0, 'reposts': 0}\n",
      "{'id': '4757727878319648', 'text': '赢啦！！！！！', 'attitudes': 0, 'comments': 0, 'reposts': 0}\n",
      "{'id': '4757396381762864', 'text': '', 'attitudes': 2, 'comments': 0, 'reposts': 0}\n",
      "{'id': '4757234183309785', 'text': '', 'attitudes': 1, 'comments': 2, 'reposts': 0}\n",
      "{'id': '4757208065379719', 'text': '又测了一遍，ISTJ-A', 'attitudes': 0, 'comments': 3, 'reposts': 0}\n",
      "{'id': '4757198913933295', 'text': 'ESTJ-A', 'attitudes': 1, 'comments': 0, 'reposts': 0}\n",
      "{'id': '4756661203633121', 'text': '', 'attitudes': 0, 'comments': 0, 'reposts': 0}\n",
      "https://m.weibo.cn/api/container/getIndex?type=uid&value=2830678474&containerid=1076032830678474&since_id=4756660973209281\n",
      "{'id': '4756660973209281', 'text': '', 'attitudes': 2, 'comments': 1, 'reposts': 1}\n",
      "{'id': '4756623414002923', 'text': '好人一生平安～', 'attitudes': 0, 'comments': 0, 'reposts': 0}\n",
      "{'id': '4756622855110839', 'text': '这种人就该永久封杀！', 'attitudes': 1, 'comments': 0, 'reposts': 1}\n",
      "{'id': '4756485584193654', 'text': '', 'attitudes': 1, 'comments': 0, 'reposts': 0}\n",
      "{'id': '4755919432843714', 'text': '厉害了', 'attitudes': 3, 'comments': 0, 'reposts': 32}\n",
      "{'id': '4755918556758808', 'text': '', 'attitudes': 1, 'comments': 0, 'reposts': 0}\n",
      "{'id': '4755418670696740', 'text': '', 'attitudes': 1, 'comments': 0, 'reposts': 0}\n",
      "{'id': '4755331370192069', 'text': '', 'attitudes': 1, 'comments': 3, 'reposts': 2}\n",
      "{'id': '4754881560710261', 'text': '', 'attitudes': 2, 'comments': 0, 'reposts': 0}\n",
      "{'id': '4754446657783880', 'text': '//@赏味不足:太他妈丑了//@那个十九://@想吃apple吗:以前的杨过断了个臂，现在的杨过🐴了个臂。', 'attitudes': 6, 'comments': 2, 'reposts': 1}\n",
      "https://m.weibo.cn/api/container/getIndex?type=uid&value=2830678474&containerid=1076032830678474&since_id=4754111751522242\n",
      "{'id': '4754111751522242', 'text': '纳什怎么还不下课啊， 还有那个米尔斯，我感觉我上都比他强啊，七中零还有一个板，有啥用啊……', 'attitudes': 1, 'comments': 1, 'reposts': 0}\n",
      "{'id': '4753919764333333', 'text': '', 'attitudes': 2, 'comments': 2, 'reposts': 0}\n",
      "{'id': '4753896981660197', 'text': '', 'attitudes': 0, 'comments': 0, 'reposts': 0}\n",
      "{'id': '4753876685688460', 'text': '团建春游。\\n好久没拍照了。 北京·玉渊潭公园', 'attitudes': 30, 'comments': 9, 'reposts': 1}\n",
      "{'id': '4751617926628303', 'text': '//@7葡萄不吐葡萄干:23分，配出集锦？', 'attitudes': 0, 'comments': 1, 'reposts': 0}\n",
      "{'id': '4751617833832728', 'text': '', 'attitudes': 1, 'comments': 0, 'reposts': 0}\n",
      "{'id': '4750301272473603', 'text': '', 'attitudes': 0, 'comments': 0, 'reposts': 1}\n",
      "{'id': '4750109672213221', 'text': '可爱', 'attitudes': 0, 'comments': 0, 'reposts': 0}\n",
      "{'id': '4749304881479931', 'text': 'Repost', 'attitudes': 0, 'comments': 0, 'reposts': 0}\n",
      "{'id': '4749077659781749', 'text': '', 'attitudes': 2, 'comments': 0, 'reposts': 0}\n",
      "https://m.weibo.cn/api/container/getIndex?type=uid&value=2830678474&containerid=1076032830678474&since_id=4748291948415020\n",
      "{'id': '4748291948415020', 'text': '', 'attitudes': 0, 'comments': 0, 'reposts': 0}\n",
      "{'id': '4748291893362840', 'text': '恭喜梁博！', 'attitudes': 3, 'comments': 2, 'reposts': 1}\n",
      "{'id': '4746651749587493', 'text': '', 'attitudes': 4, 'comments': 2, 'reposts': 1}\n",
      "{'id': '4746648667031751', 'text': '很好，燃脂小组第一名。 北京·Keepland运动空间(海淀黄庄知春大厦店)', 'attitudes': 2, 'comments': 3, 'reposts': 0}\n",
      "{'id': '4746605166595404', 'text': '真的吗？有空试试去', 'attitudes': 4, 'comments': 0, 'reposts': 1}\n",
      "{'id': '4746329420732503', 'text': '这话还能说得出口//@小俊是白月光啊:你这阿Q精神学到位了//@芭比陇:大实话哈哈哈，研究生学历真的没那么重要，我觉得备考的过程自我提升更重要', 'attitudes': 0, 'comments': 1, 'reposts': 1}\n",
      "{'id': '4746309154374464', 'text': 'Repost', 'attitudes': 1, 'comments': 0, 'reposts': 0}\n",
      "{'id': '4746130392613107', 'text': 'Repost', 'attitudes': 3, 'comments': 0, 'reposts': 0}\n",
      "{'id': '4744077482133224', 'text': '//@阿尔缇妮斯Artemis爱西瓜:少生优生，幸福一生', 'attitudes': 0, 'comments': 0, 'reposts': 0}\n",
      "{'id': '4744077021022959', 'text': '就离谱', 'attitudes': 2, 'comments': 0, 'reposts': 0}\n",
      "https://m.weibo.cn/api/container/getIndex?type=uid&value=2830678474&containerid=1076032830678474&since_id=4743617703051304\n"
     ]
    },
    {
     "name": "stdout",
     "output_type": "stream",
     "text": [
      "{'id': '4743617703051304', 'text': 'tql', 'attitudes': 3, 'comments': 0, 'reposts': 0}\n",
      "{'id': '4743617635160236', 'text': '转发微博', 'attitudes': 0, 'comments': 0, 'reposts': 0}\n",
      "{'id': '4743609461773117', 'text': '？？？这也能想得出来', 'attitudes': 1, 'comments': 3, 'reposts': 0}\n",
      "{'id': '4743413016299637', 'text': '测试微博新功能，接上条，测试反例。', 'attitudes': 2, 'comments': 3, 'reposts': 0}\n",
      "{'id': '4743412790333502', 'text': '测试微博新功能，据说讨论俄罗斯乌克兰问题会在评论显示归属地。', 'attitudes': 4, 'comments': 45, 'reposts': 0}\n",
      "{'id': '4743409736092121', 'text': '', 'attitudes': 0, 'comments': 0, 'reposts': 0}\n",
      "{'id': '4741969626535560', 'text': '转发微博', 'attitudes': 0, 'comments': 0, 'reposts': 0}\n",
      "{'id': '4741258591077347', 'text': '转发微博', 'attitudes': 0, 'comments': 0, 'reposts': 1}\n",
      "{'id': '4741210193532788', 'text': '此时此刻我不想再看到和电脑、屏幕任何有关的东西…', 'attitudes': 3, 'comments': 3, 'reposts': 0}\n",
      "{'id': '4741192304034558', 'text': '', 'attitudes': 3, 'comments': 1, 'reposts': 0}\n",
      "https://m.weibo.cn/api/container/getIndex?type=uid&value=2830678474&containerid=1076032830678474&since_id=4740009817803258\n",
      "{'id': '4740009817803258', 'text': '回复@盐之有理爱理不理://@盐之有理爱理不理:心脏跟字节只能跳动一个', 'attitudes': 1, 'comments': 0, 'reposts': 0}\n",
      "{'id': '4740008902919155', 'text': '这他妈//@陌忆忆_:“调查发现，1999年杨某侠生育第一个孩子后，采取了节育措施，至2010年董、杨二人未生育，后节育措施失效，2011年至2020年又生育7个孩子。”', 'attitudes': 1, 'comments': 0, 'reposts': 1}\n",
      "{'id': '4739828577472739', 'text': '拒绝加班，从我做起。', 'attitudes': 1, 'comments': 4, 'reposts': 5}\n",
      "{'id': '4739302418811457', 'text': '', 'attitudes': 0, 'comments': 0, 'reposts': 0}\n",
      "{'id': '4739301780492110', 'text': '虽然我是杜粉，但是我杜没上，所以我还是希望库里获得AMVP的。', 'attitudes': 1, 'comments': 0, 'reposts': 0}\n",
      "{'id': '4739301487675757', 'text': '', 'attitudes': 0, 'comments': 0, 'reposts': 0}\n",
      "{'id': '4739231815566457', 'text': '', 'attitudes': 4, 'comments': 0, 'reposts': 0}\n",
      "{'id': '4739058490675526', 'text': '//@蚁工厂:深入理解计算机系统 重构 亚马逊工作法//@李富强Jason:龙神牛逼', 'attitudes': 0, 'comments': 0, 'reposts': 1}\n",
      "{'id': '4738919403361560', 'text': '这届扣篮大赛什么水平呢，大概就是今年春晚的水平。 #扣篮大赛#', 'attitudes': 4, 'comments': 0, 'reposts': 0}\n",
      "{'id': '4738918090019525', 'text': '//@风风风风风中一只虎:rnm 退钱', 'attitudes': 2, 'comments': 2, 'reposts': 0}\n",
      "https://m.weibo.cn/api/container/getIndex?type=uid&value=2830678474&containerid=1076032830678474&since_id=4738879540691533\n",
      "{'id': '4738879540691533', 'text': '//@脑洞书生:辞职？//@星宸大海_April:还会继续下去，体制内事业单位也都开始减编了，难', 'attitudes': 0, 'comments': 0, 'reposts': 1}\n",
      "{'id': '4738879103962977', 'text': '//@中国元:直接把老师给送走了//@BlueGood:哈哈哈哈//@雪霏Sophia:笑疯了//@杪冬疏星: 救命，大半夜憋笑憋的我一抖一抖的哈哈哈哈哈哈哈哈哈//@-逸元方程-:怎么这么好笑哈哈哈哈哈哈哈哈哈//@一只会溜的桶:哈哈哈哈哈哈哈大半夜笑醒', 'attitudes': 2, 'comments': 1, 'reposts': 5}\n",
      "{'id': '4738644005095401', 'text': '', 'attitudes': 1, 'comments': 2, 'reposts': 2}\n",
      "{'id': '4738575012465972', 'text': '', 'attitudes': 1, 'comments': 0, 'reposts': 0}\n",
      "{'id': '4736563797825738', 'text': '转发微博', 'attitudes': 1, 'comments': 0, 'reposts': 0}\n",
      "{'id': '4736522546843180', 'text': '#都市雪景# 太美了！ 崔庆才丨静觅的微博视频', 'attitudes': 5, 'comments': 2, 'reposts': 0}\n",
      "{'id': '4736513261178822', 'text': '#天坛公园# 白雪镶红墙，碎碎坠琼芳。 北京·天坛公园 崔庆才丨静觅的微博视频', 'attitudes': 6, 'comments': 0, 'reposts': 0}\n",
      "{'id': '4736512518524458', 'text': '#天坛公园# 苟到了关门的最后一刻拍到了天坛公园启年殿纯享图！ 北京·天坛祈年门', 'attitudes': 16, 'comments': 5, 'reposts': 0}\n",
      "https://m.weibo.cn/api/container/getIndex?type=uid&value=2830678474&containerid=1076032830678474&since_id=4736354372291007\n",
      "{'id': '4736354372291007', 'text': '我已经佛了，十一连败吧。', 'attitudes': 0, 'comments': 0, 'reposts': 0}\n",
      "{'id': '4735620746055856', 'text': '', 'attitudes': 1, 'comments': 0, 'reposts': 0}\n",
      "{'id': '4735620168024916', 'text': '都故意给我杜下套呢。', 'attitudes': 0, 'comments': 0, 'reposts': 0}\n",
      "{'id': '4735618545093541', 'text': '哎', 'attitudes': 0, 'comments': 1, 'reposts': 0}\n",
      "{'id': '4735253920350529', 'text': '还发律师函？', 'attitudes': 0, 'comments': 1, 'reposts': 8}\n",
      "{'id': '4734727095065744', 'text': '//@一起神回复:喵//@文科班校花酱:呜呜//@M大王叫我来巡山:你也想去冬奥是吗//@雪霏Sophia: //@这是一个很高冷的ID:好可爱//@Tiger公子://@纯良英俊的笑了笑:喵(*´꒳`*)//@嗑宝:包被//@宣告日出:黄金面包突进//@玉皇大米:猫猫', 'attitudes': 2, 'comments': 0, 'reposts': 1}\n",
      "{'id': '4734564780212696', 'text': '最近看冬奥会，短道速滑、跳台滑雪，看到冲冠的那一刻就忍不住一种心潮澎湃，激动落泪的感觉。', 'attitudes': 4, 'comments': 0, 'reposts': 0}\n",
      "{'id': '4734563005498289', 'text': '太强了！！', 'attitudes': 1, 'comments': 0, 'reposts': 1}\n",
      "{'id': '4734350559805563', 'text': '牛逼！！', 'attitudes': 0, 'comments': 0, 'reposts': 0}\n",
      "{'id': '4734311121027993', 'text': '//@贝弗利大人是酷味冰激凌:企业：不给加班费的意思就是不提倡加班，那你还要加班，肯定是你自己就要还要～', 'attitudes': 0, 'comments': 0, 'reposts': 0}\n",
      "https://m.weibo.cn/api/container/getIndex?type=uid&value=2830678474&containerid=1076032830678474&since_id=4734014974332684\n",
      "{'id': '4734014974332684', 'text': '', 'attitudes': 1, 'comments': 2, 'reposts': 0}\n",
      "{'id': '4734004630914858', 'text': '太强了！！！！', 'attitudes': 5, 'comments': 0, 'reposts': 0}\n",
      "{'id': '4733838804387088', 'text': '兄弟情深。', 'attitudes': 0, 'comments': 0, 'reposts': 0}\n",
      "{'id': '4733793857964767', 'text': 'tql', 'attitudes': 0, 'comments': 0, 'reposts': 0}\n",
      "{'id': '4733598990602554', 'text': '火车上想出来了一个解决方案，然后撸代码实现成功了，开心！！！ 北京', 'attitudes': 14, 'comments': 6, 'reposts': 0}\n",
      "{'id': '4733598144659471', 'text': '分享一个节奏不错但又带点古风韵味的歌单适合享受古风韵律的歌曲（@网易云音乐）', 'attitudes': 1, 'comments': 0, 'reposts': 0}\n",
      "{'id': '4733596886109531', 'text': '高铁餐车65元的虾仁饭，虾仁和奥尔良鸡还挺好吃的，我一点不剩都吃完了。\\n（也可能是因为饿了。 北京', 'attitudes': 2, 'comments': 4, 'reposts': 0}\n",
      "{'id': '4733544549058201', 'text': '好可爱！！', 'attitudes': 4, 'comments': 0, 'reposts': 1}\n",
      "{'id': '4733076040847217', 'text': '', 'attitudes': 0, 'comments': 1, 'reposts': 0}\n",
      "https://m.weibo.cn/api/container/getIndex?type=uid&value=2830678474&containerid=1076032830678474&since_id=4732870033410563\n",
      "{'id': '4732870033410563', 'text': '我这88？', 'attitudes': 0, 'comments': 0, 'reposts': 0}\n",
      "{'id': '4732571579843568', 'text': '', 'attitudes': 0, 'comments': 0, 'reposts': 0}\n",
      "{'id': '4732571026720066', 'text': '刚逛了一圈链家，斗志更足了，继续努力！//@YwwwwR:我爱白色的一切！！太好看了', 'attitudes': 4, 'comments': 1, 'reposts': 1}\n",
      "{'id': '4732561110073568', 'text': '为什么不用小米无线开关？', 'attitudes': 3, 'comments': 9, 'reposts': 0}\n",
      "{'id': '4732440951655474', 'text': '//@shijin1://@三里河贝塔:过分了啊//@洛雨R:真实//@红帽笔记:过于真实//@娜笔小九:哈哈哈哈乐死我了', 'attitudes': 4, 'comments': 0, 'reposts': 2}\n",
      "{'id': '4732354797504910', 'text': '对于初二走亲戚，你们是什么态度？', 'attitudes': 4, 'comments': 4, 'reposts': 0}\n",
      "{'id': '4732353434355452', 'text': '决定我们自身的不是过去的经历，而是我们自己赋予经历的意义决定我们自身的不是过去的经历，而是我们自己赋予经历的意义', 'attitudes': 8, 'comments': 1, 'reposts': 1}\n",
      "{'id': '4732088785306563', 'text': '转发微博', 'attitudes': 1, 'comments': 0, 'reposts': 0}\n",
      "{'id': '4732030133475010', 'text': '', 'attitudes': 3, 'comments': 0, 'reposts': 1}\n",
      "https://m.weibo.cn/api/container/getIndex?type=uid&value=2830678474&containerid=1076032830678474&since_id=4732007295485130\n",
      "{'id': '4732007295485130', 'text': '#虎年第一条微博#\\n今年拜年拜了一圈，无一例外都说我胖了，很好。', 'attitudes': 5, 'comments': 0, 'reposts': 0}\n",
      "{'id': '4732003809497014', 'text': '找到一个老皇历，还能有这个。', 'attitudes': 3, 'comments': 1, 'reposts': 0}\n",
      "{'id': '4731995541997309', 'text': '图一是正版糖，图二是今年拜年见到的高仿。', 'attitudes': 2, 'comments': 1, 'reposts': 0}\n",
      "{'id': '4731983865317963', 'text': '已经串门尬聊两小时了。', 'attitudes': 4, 'comments': 5, 'reposts': 0}\n",
      "{'id': '4731954413175179', 'text': '服了，怎么会有这么尬的节目。', 'attitudes': 0, 'comments': 0, 'reposts': 0}\n",
      "{'id': '4731945781297404', 'text': '拜完财神爷，吃完饺子了。\\n一会要拜年见父老乡亲们了。\\n连环问又要来了。 青州市', 'attitudes': 8, 'comments': 12, 'reposts': 1}\n",
      "{'id': '4731945093693972', 'text': '', 'attitudes': 1, 'comments': 0, 'reposts': 0}\n",
      "{'id': '4731832287364558', 'text': '沈腾这次拍照居然看镜头了！', 'attitudes': 1, 'comments': 0, 'reposts': 0}\n",
      "{'id': '4731684690329875', 'text': '青州市', 'attitudes': 2, 'comments': 0, 'reposts': 0}\n",
      "{'id': '4731624400358547', 'text': '火车站已经没多少人了，然后我就包车了。 北京·火车南站', 'attitudes': 6, 'comments': 3, 'reposts': 0}\n",
      "https://m.weibo.cn/api/container/getIndex?type=uid&value=2830678474&containerid=1076032830678474&since_id=4731619803925430\n",
      "{'id': '4731619803925430', 'text': '', 'attitudes': 0, 'comments': 0, 'reposts': 0}\n",
      "{'id': '4731372096195583', 'text': '分享图片', 'attitudes': 3, 'comments': 2, 'reposts': 1}\n",
      "{'id': '4731131997719407', 'text': '分享图片', 'attitudes': 3, 'comments': 9, 'reposts': 1}\n",
      "{'id': '4731130270193103', 'text': '用 Markdown 做的 PPT，真的太强了！', 'attitudes': 3, 'comments': 0, 'reposts': 3}\n",
      "{'id': '4731130144621353', 'text': '转发微博', 'attitudes': 3, 'comments': 0, 'reposts': 1}\n",
      "{'id': '4730892603625252', 'text': '好像好几天没看到海淀了，准备做个核酸回家。', 'attitudes': 2, 'comments': 0, 'reposts': 0}\n",
      "{'id': '4730890825499755', 'text': '带带弟弟。', 'attitudes': 0, 'comments': 0, 'reposts': 0}\n",
      "{'id': '4730173759423600', 'text': '转发微博', 'attitudes': 0, 'comments': 0, 'reposts': 19}\n",
      "{'id': '4730036907936341', 'text': '这都行', 'attitudes': 0, 'comments': 0, 'reposts': 0}\n",
      "{'id': '4730035854903147', 'text': '', 'attitudes': 0, 'comments': 0, 'reposts': 0}\n",
      "https://m.weibo.cn/api/container/getIndex?type=uid&value=2830678474&containerid=1076032830678474&since_id=4729986449147272\n",
      "{'id': '4729986449147272', 'text': '转发微博', 'attitudes': 0, 'comments': 0, 'reposts': 0}\n",
      "{'id': '4729140442303141', 'text': '我才发现…', 'attitudes': 0, 'comments': 1, 'reposts': 0}\n",
      "{'id': '4728742734202751', 'text': '海淀都五个了啊。', 'attitudes': 0, 'comments': 0, 'reposts': 0}\n",
      "{'id': '4728742343347606', 'text': '转发微博', 'attitudes': 3, 'comments': 0, 'reposts': 0}\n",
      "{'id': '4728736072862448', 'text': '', 'attitudes': 0, 'comments': 3, 'reposts': 0}\n",
      "{'id': '4728735674927947', 'text': '我去…这都行', 'attitudes': 0, 'comments': 0, 'reposts': 0}\n",
      "{'id': '4728735498767926', 'text': '//@孙斌1990:1994年的歌和2004年的歌能明显听出时代差别来。但2004和2014，就只能听出衰退了。小豆仔吖的微博视频', 'attitudes': 3, 'comments': 1, 'reposts': 116}\n",
      "{'id': '4728577973817603', 'text': '七叔-叶泽浩《诛神诀 (《以仙之名》游戏推广曲)》诛神诀 (《以仙之名》游戏推广曲)（@网易云音乐）', 'attitudes': 0, 'comments': 0, 'reposts': 0}\n",
      "{'id': '4728391900858398', 'text': '大家好，我现在就一张敬业福了，要粘的加我支付宝：cqc艾特cuiqingcai点com', 'attitudes': 4, 'comments': 0, 'reposts': 0}\n",
      "https://m.weibo.cn/api/container/getIndex?type=uid&value=2830678474&containerid=1076032830678474&since_id=4728387249113902\n"
     ]
    },
    {
     "name": "stdout",
     "output_type": "stream",
     "text": [
      "{'id': '4728387249113902', 'text': '今年的敬业福这么好集的吗？写了个福字就有了，哈哈哈。 北京·新街口大街', 'attitudes': 10, 'comments': 21, 'reposts': 1}\n",
      "{'id': '4728385828293062', 'text': '这', 'attitudes': 0, 'comments': 0, 'reposts': 0}\n",
      "{'id': '4728057430278725', 'text': '//@蚁工厂:转发微博', 'attitudes': 0, 'comments': 0, 'reposts': 1}\n",
      "{'id': '4727813213784982', 'text': '转发微博', 'attitudes': 1, 'comments': 0, 'reposts': 0}\n",
      "{'id': '4727454327898796', 'text': '', 'attitudes': 0, 'comments': 2, 'reposts': 0}\n",
      "{'id': '4727098353128801', 'text': '转发微博', 'attitudes': 4, 'comments': 1, 'reposts': 4}\n",
      "{'id': '4726702179618327', 'text': '#运动打卡# 不错不错！ 北京·微软亚太研发集团总部', 'attitudes': 2, 'comments': 4, 'reposts': 0}\n",
      "{'id': '4726602040347386', 'text': '这都行吗？', 'attitudes': 0, 'comments': 1, 'reposts': 0}\n",
      "{'id': '4725986933083286', 'text': '转发微博', 'attitudes': 3, 'comments': 0, 'reposts': 27}\n",
      "{'id': '4725986917353698', 'text': '转发微博', 'attitudes': 1, 'comments': 0, 'reposts': 1}\n"
     ]
    }
   ],
   "source": [
    "since_id = 'start'\n",
    "url = base_url\n",
    "while since_id:\n",
    "    get_weibo(url)\n",
    "    if since_id:\n",
    "        url = base_url + '&since_id=' + str(since_id)\n",
    "        print(url)"
   ]
  },
  {
   "cell_type": "code",
   "execution_count": 214,
   "id": "9e6fc662",
   "metadata": {},
   "outputs": [
    {
     "data": {
      "text/plain": [
       "5"
      ]
     },
     "execution_count": 214,
     "metadata": {},
     "output_type": "execute_result"
    }
   ],
   "source": [
    "seq = [1, 2, 3, 4, 5]\n",
    "seq[-1]"
   ]
  },
  {
   "cell_type": "code",
   "execution_count": 215,
   "id": "4e17cbb8",
   "metadata": {},
   "outputs": [
    {
     "data": {
      "text/plain": [
       "1"
      ]
     },
     "execution_count": 215,
     "metadata": {},
     "output_type": "execute_result"
    }
   ],
   "source": [
    "seq[0]"
   ]
  },
  {
   "cell_type": "code",
   "execution_count": 216,
   "id": "c80c9f70",
   "metadata": {},
   "outputs": [
    {
     "data": {
      "text/plain": [
       "5"
      ]
     },
     "execution_count": 216,
     "metadata": {},
     "output_type": "execute_result"
    }
   ],
   "source": [
    "seq[len(seq) - 1]"
   ]
  },
  {
   "cell_type": "code",
   "execution_count": 218,
   "id": "6a799b77",
   "metadata": {},
   "outputs": [
    {
     "name": "stdout",
     "output_type": "stream",
     "text": [
      "3\n",
      "2\n",
      "1\n",
      "0\n"
     ]
    }
   ],
   "source": [
    "data = 'golf'\n",
    "for index in range(len(data) - 1, -1, -1):\n",
    "    print(index)"
   ]
  },
  {
   "cell_type": "code",
   "execution_count": 225,
   "id": "5c4bb815",
   "metadata": {},
   "outputs": [],
   "source": [
    "for i in range(3, -1):  # 当range()只有两个参数时，默认setp为1，故range(3, -1)的实际长度为0\n",
    "    print(i)"
   ]
  },
  {
   "cell_type": "code",
   "execution_count": 220,
   "id": "d10dbfb3",
   "metadata": {},
   "outputs": [
    {
     "name": "stdout",
     "output_type": "stream",
     "text": [
      "3\n",
      "2\n",
      "1\n",
      "0\n"
     ]
    }
   ],
   "source": [
    "for i in range(3, -1, -1):\n",
    "    print(i)"
   ]
  },
  {
   "cell_type": "code",
   "execution_count": 224,
   "id": "e2bde4af",
   "metadata": {},
   "outputs": [
    {
     "name": "stdout",
     "output_type": "stream",
     "text": [
      "0\n"
     ]
    }
   ],
   "source": [
    "print(len(range(3, -1)))"
   ]
  },
  {
   "cell_type": "code",
   "execution_count": 226,
   "id": "55c27ee6",
   "metadata": {},
   "outputs": [
    {
     "data": {
      "text/plain": [
       "''"
      ]
     },
     "execution_count": 226,
     "metadata": {},
     "output_type": "execute_result"
    }
   ],
   "source": [
    "data = 'golf'\n",
    "data[3:-1]"
   ]
  },
  {
   "cell_type": "code",
   "execution_count": 227,
   "id": "4975f067",
   "metadata": {},
   "outputs": [
    {
     "data": {
      "text/plain": [
       "''"
      ]
     },
     "execution_count": 227,
     "metadata": {},
     "output_type": "execute_result"
    }
   ],
   "source": [
    "data[3:3]"
   ]
  },
  {
   "cell_type": "code",
   "execution_count": 229,
   "id": "0dd4fab4",
   "metadata": {},
   "outputs": [
    {
     "data": {
      "text/plain": [
       "'keyword=%E8%A1%97%E6%8B%8D'"
      ]
     },
     "execution_count": 229,
     "metadata": {},
     "output_type": "execute_result"
    }
   ],
   "source": [
    "url = {\"keyword\": \"街拍\"}\n",
    "urlencode(url)"
   ]
  },
  {
   "cell_type": "code",
   "execution_count": 231,
   "id": "46044977",
   "metadata": {},
   "outputs": [
    {
     "name": "stdout",
     "output_type": "stream",
     "text": [
      "<a href=\"https://sou.toutiao.com\" target=\"_blank\" class=\"text\">时尚的必要条件</a>\n"
     ]
    }
   ],
   "source": [
    "html = '''<a href=\"https://sou.toutiao.com\" target=\"_blank\" class=\"text\">时尚的必要条件</a>'''\n",
    "doc = pq(html)\n",
    "print(doc('a'))"
   ]
  },
  {
   "cell_type": "code",
   "execution_count": 232,
   "id": "902f6663",
   "metadata": {},
   "outputs": [
    {
     "name": "stdout",
     "output_type": "stream",
     "text": [
      "https://sou.toutiao.com\n"
     ]
    }
   ],
   "source": [
    "print(doc('a').attr('href'))"
   ]
  },
  {
   "cell_type": "code",
   "execution_count": 233,
   "id": "dcc5ee1c",
   "metadata": {},
   "outputs": [
    {
     "name": "stdout",
     "output_type": "stream",
     "text": [
      "https://sou.toutiao.com\n"
     ]
    }
   ],
   "source": [
    "print(doc('a').attr['href'])"
   ]
  },
  {
   "cell_type": "code",
   "execution_count": 234,
   "id": "fb4b9b1a",
   "metadata": {},
   "outputs": [
    {
     "name": "stdout",
     "output_type": "stream",
     "text": [
      "https://sou.toutiao.com\n"
     ]
    }
   ],
   "source": [
    "print(doc('a').attr.href)"
   ]
  },
  {
   "cell_type": "code",
   "execution_count": 235,
   "id": "8569e3a0",
   "metadata": {},
   "outputs": [
    {
     "data": {
      "text/plain": [
       "True"
      ]
     },
     "execution_count": 235,
     "metadata": {},
     "output_type": "execute_result"
    }
   ],
   "source": [
    "hasattr('Accept', 'encode')"
   ]
  },
  {
   "cell_type": "code",
   "execution_count": 236,
   "id": "fdc35dca",
   "metadata": {},
   "outputs": [
    {
     "data": {
      "text/plain": [
       "False"
      ]
     },
     "execution_count": 236,
     "metadata": {},
     "output_type": "execute_result"
    }
   ],
   "source": [
    "hasattr(1, 'encode')"
   ]
  },
  {
   "cell_type": "code",
   "execution_count": 237,
   "id": "66bd2a6a",
   "metadata": {},
   "outputs": [
    {
     "data": {
      "text/plain": [
       "True"
      ]
     },
     "execution_count": 237,
     "metadata": {},
     "output_type": "execute_result"
    }
   ],
   "source": [
    "isinstance(1, int)"
   ]
  },
  {
   "cell_type": "code",
   "execution_count": 238,
   "id": "d8bb5861",
   "metadata": {},
   "outputs": [
    {
     "data": {
      "text/plain": [
       "ParseResult(scheme='https', netloc='p6.toutiaoimg.com', path='/origin/tos-cn-i-qvj2lq49k0/e739821143a3463486ee56e8fc0bfd00', params='', query='from=pc', fragment='')"
      ]
     },
     "execution_count": 238,
     "metadata": {},
     "output_type": "execute_result"
    }
   ],
   "source": [
    "from urllib.parse import urlparse\n",
    "\n",
    "\n",
    "p = urlparse(\"https://p6.toutiaoimg.com/origin/tos-cn-i-qvj2lq49k0/e739821143a3463486ee56e8fc0bfd00?from=pc\")\n",
    "p"
   ]
  },
  {
   "cell_type": "code",
   "execution_count": 239,
   "id": "5f247993",
   "metadata": {},
   "outputs": [
    {
     "data": {
      "text/plain": [
       "'/origin/tos-cn-i-qvj2lq49k0/e739821143a3463486ee56e8fc0bfd00'"
      ]
     },
     "execution_count": 239,
     "metadata": {},
     "output_type": "execute_result"
    }
   ],
   "source": [
    "p.path"
   ]
  },
  {
   "cell_type": "code",
   "execution_count": 240,
   "id": "65fe085c",
   "metadata": {},
   "outputs": [
    {
     "data": {
      "text/plain": [
       "'e739821143a3463486ee56e8fc0bfd00'"
      ]
     },
     "execution_count": 240,
     "metadata": {},
     "output_type": "execute_result"
    }
   ],
   "source": [
    "import os.path\n",
    "\n",
    "\n",
    "os.path.basename(p.path)"
   ]
  },
  {
   "cell_type": "code",
   "execution_count": 241,
   "id": "d5234215",
   "metadata": {},
   "outputs": [
    {
     "data": {
      "text/plain": [
       "ParseResult(scheme='https', netloc='p3-sign.toutiaoimg.com', path='/tos-cn-i-qvj2lq49k0/e739821143a3463486ee56e8fc0bfd00~noop.image', params='', query='_iz=58558&from=article.pc_detail&x-expires=1659751748&x-signature=KIw14STmCB2G7XEsiLfyaHr%2FBa4%3D', fragment='')"
      ]
     },
     "execution_count": 241,
     "metadata": {},
     "output_type": "execute_result"
    }
   ],
   "source": [
    "p = urlparse(\"https://p3-sign.toutiaoimg.com/tos-cn-i-qvj2lq49k0/e739821143a3463486ee56e8fc0bfd00~noop.image?_iz=58558&from=article.pc_detail&x-expires=1659751748&x-signature=KIw14STmCB2G7XEsiLfyaHr%2FBa4%3D\")\n",
    "p"
   ]
  },
  {
   "cell_type": "code",
   "execution_count": 242,
   "id": "b87d482a",
   "metadata": {},
   "outputs": [
    {
     "data": {
      "text/plain": [
       "'e739821143a3463486ee56e8fc0bfd00~noop.image'"
      ]
     },
     "execution_count": 242,
     "metadata": {},
     "output_type": "execute_result"
    }
   ],
   "source": [
    "os.path.basename(p.path)"
   ]
  },
  {
   "cell_type": "code",
   "execution_count": 243,
   "id": "296c1635",
   "metadata": {},
   "outputs": [
    {
     "data": {
      "text/plain": [
       "['e739821143a3463486ee56e8fc0bfd00', 'noop.image']"
      ]
     },
     "execution_count": 243,
     "metadata": {},
     "output_type": "execute_result"
    }
   ],
   "source": [
    "filename = os.path.basename(p.path)\n",
    "filename.split(sep='~')"
   ]
  },
  {
   "cell_type": "code",
   "execution_count": 244,
   "id": "47dc7f96",
   "metadata": {},
   "outputs": [
    {
     "data": {
      "text/plain": [
       "'e739821143a3463486ee56e8fc0bfd00'"
      ]
     },
     "execution_count": 244,
     "metadata": {},
     "output_type": "execute_result"
    }
   ],
   "source": [
    "filename.split(sep='~')[0]"
   ]
  },
  {
   "cell_type": "code",
   "execution_count": 245,
   "id": "cd652be6",
   "metadata": {},
   "outputs": [
    {
     "data": {
      "text/plain": [
       "'tppls fpr windpws'"
      ]
     },
     "execution_count": 245,
     "metadata": {},
     "output_type": "execute_result"
    }
   ],
   "source": [
    "s = \"tools for windows\"\n",
    "s.replace('o', 'p')"
   ]
  },
  {
   "cell_type": "code",
   "execution_count": 246,
   "id": "c54492e2",
   "metadata": {},
   "outputs": [
    {
     "data": {
      "text/plain": [
       "'tools for windows'"
      ]
     },
     "execution_count": 246,
     "metadata": {},
     "output_type": "execute_result"
    }
   ],
   "source": [
    "s"
   ]
  },
  {
   "cell_type": "code",
   "execution_count": 247,
   "id": "0752a23b",
   "metadata": {},
   "outputs": [
    {
     "data": {
      "text/plain": [
       "'tppls fpr windpws'"
      ]
     },
     "execution_count": 247,
     "metadata": {},
     "output_type": "execute_result"
    }
   ],
   "source": [
    "s = s.replace('o', 'p')\n",
    "s"
   ]
  },
  {
   "cell_type": "code",
   "execution_count": 248,
   "id": "1a767c5a",
   "metadata": {},
   "outputs": [
    {
     "name": "stdout",
     "output_type": "stream",
     "text": [
      "<a href=\"https://sou.toutiao.com\" target=\"_blank\" class=\"text\">时尚的必要条件</a>\n"
     ]
    }
   ],
   "source": [
    "print(doc)"
   ]
  },
  {
   "cell_type": "code",
   "execution_count": 250,
   "id": "d810c904",
   "metadata": {},
   "outputs": [
    {
     "name": "stdout",
     "output_type": "stream",
     "text": [
      "1\n"
     ]
    }
   ],
   "source": [
    "g = doc('a').items()\n",
    "print(len(list(g)))"
   ]
  },
  {
   "cell_type": "code",
   "execution_count": 251,
   "id": "44cfe356",
   "metadata": {},
   "outputs": [
    {
     "name": "stdout",
     "output_type": "stream",
     "text": [
      "0\n"
     ]
    }
   ],
   "source": [
    "g = doc('a > span').items()\n",
    "print(len(list(g)))"
   ]
  },
  {
   "cell_type": "code",
   "execution_count": 252,
   "id": "d0969f1b",
   "metadata": {},
   "outputs": [
    {
     "data": {
      "text/plain": [
       "generator"
      ]
     },
     "execution_count": 252,
     "metadata": {},
     "output_type": "execute_result"
    }
   ],
   "source": [
    "type(g)"
   ]
  },
  {
   "cell_type": "code",
   "execution_count": 253,
   "id": "5b9c5451",
   "metadata": {},
   "outputs": [
    {
     "name": "stdout",
     "output_type": "stream",
     "text": [
      "g is true\n"
     ]
    }
   ],
   "source": [
    "if g:\n",
    "    print(\"g is true\")"
   ]
  },
  {
   "cell_type": "code",
   "execution_count": 254,
   "id": "ef2848c5",
   "metadata": {},
   "outputs": [],
   "source": [
    "if 0:\n",
    "    print(\"0 is true\")"
   ]
  },
  {
   "cell_type": "code",
   "execution_count": 255,
   "id": "6028e475",
   "metadata": {},
   "outputs": [
    {
     "ename": "TypeError",
     "evalue": "object of type 'generator' has no len()",
     "output_type": "error",
     "traceback": [
      "\u001b[0;31m---------------------------------------------------------------------------\u001b[0m",
      "\u001b[0;31mTypeError\u001b[0m                                 Traceback (most recent call last)",
      "\u001b[0;32m/tmp/ipykernel_30998/965516947.py\u001b[0m in \u001b[0;36m<module>\u001b[0;34m\u001b[0m\n\u001b[0;32m----> 1\u001b[0;31m \u001b[0mlen\u001b[0m\u001b[0;34m(\u001b[0m\u001b[0mg\u001b[0m\u001b[0;34m)\u001b[0m\u001b[0;34m\u001b[0m\u001b[0;34m\u001b[0m\u001b[0m\n\u001b[0m",
      "\u001b[0;31mTypeError\u001b[0m: object of type 'generator' has no len()"
     ]
    }
   ],
   "source": [
    "len(g)"
   ]
  },
  {
   "cell_type": "code",
   "execution_count": 256,
   "id": "610acab9",
   "metadata": {},
   "outputs": [
    {
     "data": {
      "text/plain": [
       "0"
      ]
     },
     "execution_count": 256,
     "metadata": {},
     "output_type": "execute_result"
    }
   ],
   "source": [
    "len(list(g))"
   ]
  },
  {
   "cell_type": "code",
   "execution_count": 260,
   "id": "96136b07",
   "metadata": {},
   "outputs": [],
   "source": [
    "g = doc('a').items()\n",
    "gl = list(g)"
   ]
  },
  {
   "cell_type": "code",
   "execution_count": 261,
   "id": "f878604a",
   "metadata": {},
   "outputs": [
    {
     "name": "stdout",
     "output_type": "stream",
     "text": [
      "0\n",
      "1\n"
     ]
    }
   ],
   "source": [
    "print(len(list(g)))\n",
    "print(len(gl))"
   ]
  },
  {
   "cell_type": "code",
   "execution_count": 262,
   "id": "416694ac",
   "metadata": {},
   "outputs": [
    {
     "name": "stdout",
     "output_type": "stream",
     "text": [
      "0\n",
      "1\n"
     ]
    }
   ],
   "source": [
    "print(len(list(g)))\n",
    "print(len(gl))"
   ]
  },
  {
   "cell_type": "code",
   "execution_count": 263,
   "id": "167ddcfc",
   "metadata": {},
   "outputs": [
    {
     "name": "stdout",
     "output_type": "stream",
     "text": [
      "download: 3\n"
     ]
    }
   ],
   "source": [
    "print(\"download:\", 3)"
   ]
  },
  {
   "cell_type": "code",
   "execution_count": null,
   "id": "4b08a72a",
   "metadata": {},
   "outputs": [],
   "source": []
  }
 ],
 "metadata": {
  "kernelspec": {
   "display_name": "Python 3 (ipykernel)",
   "language": "python",
   "name": "python3"
  },
  "language_info": {
   "codemirror_mode": {
    "name": "ipython",
    "version": 3
   },
   "file_extension": ".py",
   "mimetype": "text/x-python",
   "name": "python",
   "nbconvert_exporter": "python",
   "pygments_lexer": "ipython3",
   "version": "3.9.7"
  }
 },
 "nbformat": 4,
 "nbformat_minor": 5
}
