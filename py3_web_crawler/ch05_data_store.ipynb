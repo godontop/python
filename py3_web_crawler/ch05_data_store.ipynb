{
 "cells": [
  {
   "cell_type": "markdown",
   "metadata": {},
   "source": [
    "## 第 5 章\n",
    "### 5.1 文件存储\n",
    "#### 5.1.1 TXT 文本存储"
   ]
  },
  {
   "cell_type": "code",
   "execution_count": 2,
   "metadata": {},
   "outputs": [
    {
     "data": {
      "text/plain": [
       "'<!doctype html>\\n<html lang=\"zh\" data-hairline=\"true\" data-theme=\"light\"><head><meta charSet=\"utf-8\"/><title data-rh=\"true\">发现 - 知乎</title><meta name=\"viewport\" content=\"width=device-width,initial-scale=1,maximum-scale=1\"/><meta name=\"renderer\" content=\"webkit\"/><meta name=\"force-rendering\" content=\"webkit\"/><meta http-equiv=\"X-UA-Compatible\" content=\"IE=edge,chrome=1\"/><meta name=\"google-site-verification\" content=\"FTeR0c8arOPKh8c5DYh_9uu98_zJbaWw53J-Sch9MTg\"/><meta name=\"description\" property=\"og:description\" content=\"知乎，中文互联网高质量的问答社区和创作者聚集的原创内容平台，于 2011 年 1 月正式上线，以「让人们更好的分享知识、经验和见解，找到自己的解答」为品牌使命。知乎凭借认真、专业、友善的社区氛围、独特的产品机制以及结构化和易获得的优质内容，聚集了中文互联网科技、商业、影视、时尚、文化等领域最具创造力的人群，已成为综合性、全品类、在诸多领域具有关键影响力的知识分享社区和创作者聚集的原创内容平台，建立起了以社区驱动的内容变现商业模式。\"/><link data-rh=\"true\" rel=\"apple-touch-icon\" href=\"https://static.zhihu.com/heifetz/assets/apple-touch-icon-152.a53ae37b.png\"/><link data-rh=\"true\" rel=\"apple-touch-icon\" href=\"https://static.zhihu.com/heifetz/assets/apple-touch-icon-152.a53ae37b.png\" sizes=\"152x152\"/><link data-rh=\"true\" rel=\"apple-touch-icon\" href=\"https://static.zhihu.com/heifetz/assets/apple-touch-icon-120.bbce8f18.png\" sizes=\"120x120\"/><link data-rh=\"true\" rel=\"apple-touch-icon\" href=\"https://static.zhihu.com/heifetz/assets/apple-touch-icon-76.cbade8f9.png\" sizes=\"76x76\"/><link data-rh=\"true\" rel=\"apple-touch-icon\" href=\"https://static.zhihu.com/heifetz/assets/apple-touch-icon-60.8f6c52aa.png\" sizes=\"60x60\"/><link crossorigin=\"\" rel=\"shortcut icon\" type=\"image/x-icon\" href=\"https://static.zhihu.com/heifetz/favicon.ico\"/><link crossorigin=\"\" rel=\"search\" type=\"application/opensearchdescription+xml\" href=\"https://static.zhihu.com/heifetz/search.xml\" title=\"知乎\"/><link rel=\"dns-prefetch\" href=\"//static.zhimg.com\"/><link rel=\"dns-prefetch\" href=\"//pica.zhimg.com\"/><link rel=\"dns-prefetch\" href=\"//pic1.zhimg.com\"/><link rel=\"dns-prefetch\" href=\"//pic2.zhimg.com\"/><link rel=\"dns-prefetch\" href=\"//pic3.zhimg.com\"/><link rel=\"dns-prefetch\" href=\"//pic4.zhimg.com\"/><link rel=\"dns-prefetch\" href=\"//static.zhihu.com\"/><style data-emotion-css=\"1m4merm\">.u-safeAreaInset-top{height:constant(safe-area-inset-top) !important;height:env(safe-area-inset-top) !important;}.u-safeAreaInset-bottom{height:constant(safe-area-inset-bottom) !important;height:env(safe-area-inset-bottom) !important;}</style><link href=\"https://static.zhihu.com/heifetz/main.app.216a26f4.2acb1125c763201c4cfe.css\" crossorigin=\"\" rel=\"stylesheet\"/><link href=\"https://static.zhihu.com/heifetz/main.explore-routes.216a26f4.206a39de43ed49d917cb.css\" crossorigin=\"\" rel=\"stylesheet\"/><script nonce=\"2853a2ee-e9ab-4a79-ac8a-250c0e5154af\">!function(){\"use strict\";!function(e,n){var r=[];function t(e){return function(){r.push([e,arguments])}}n.Raven={captureException:t(\"captureException\"),captureMessage:t(\"captureMessage\"),captureBreadcrumb:t(\"captureBreadcrumb\")};var a,o,c,i,s,u=\"undefined\"!=typeof DOMError;function d(e){var n=e instanceof Error||e instanceof ErrorEvent||u&&e instanceof DOMError||e instanceof DOMException;Raven.captureException(n?e:new Error(e.message||e.reason))}n.addEventListener(\"unhandledrejection\",d),n.addEventListener(\"error\",d,!0),a=e.src,o=e,c=function(){r.forEach(function(e){var n;(n=Raven)[e[0]].apply(n,e[1])}),n.removeEventListener(\"unhandledrejection\",d),n.removeEventListener(\"error\",d,!0)},i=document.head||document.getElementsByTagName(\"head\")[0],(s=document.createElement(\"script\")).crossOrigin=o.crossOrigin,s.dataset.sentryConfig=o[\"data-sentry-config\"],s.onload=c,s.src=a,i.appendChild(s)}({\"defer\":true,\"crossOrigin\":\"anonymous\",\"src\":\"https://unpkg.zhimg.com/@cfe/sentry-script@1.3.1/dist/init.js\",\"data-sentry-config\":\"{\\\\\"dsn\\\\\":\\\\\"https://2d8d764432cc4f6fb3bc78ab9528299d@crash2.zhihu.com/1224\\\\\",\\\\\"sampleRate\\\\\":0.1,\\\\\"release\\\\\":\\\\\"4325-fe3e94dd\\\\\",\\\\\"ignoreErrorNames\\\\\":[\\\\\"NetworkError\\\\\",\\\\\"SecurityError\\\\\"],\\\\\"ignoreErrorsPreset\\\\\":\\\\\"ReactApp\\\\\",\\\\\"tags\\\\\":{\\\\\"app_name\\\\\":\\\\\"heifetz\\\\\"}}\"},window)}();\\n</script></head><body><div id=\"root\"><div><div class=\"LoadingBar\"></div><div><style data-emotion-css=\"1x8hcdw\">.css-1x8hcdw{background-color:#FFFFFF;-webkit-transition-property:background-color,box-shadow;transition-property:background-color,box-shadow;-webkit-transition-duration:0.25s;transition-duration:0.25s;-webkit-transition-timing-function:ease-in;transition-timing-function:ease-in;}</style><header role=\"banner\" class=\"Sticky AppHeader css-1x8hcdw\" data-za-module=\"TopNavBar\"><style data-emotion-css=\"qqgmyv\">.css-qqgmyv{width:auto;max-width:1156px;min-width:1000px;padding-left:16px;padding-right:30px;}.css-qqgmyv .AppHeader-userInfo{margin-left:30px;width:auto;}.css-qqgmyv .AppHeader-TabsLink.is-active,.css-qqgmyv .AppHeader-TabsLink:hover{color:#121212;}</style><div class=\"AppHeader-inner css-qqgmyv\"><a href=\"//www.zhihu.com\" aria-label=\"知乎\"><style data-emotion-css=\"1hlrcxk\">.css-1hlrcxk{-webkit-transition-property:fill;transition-property:fill;-webkit-transition-duration:0.25s;transition-duration:0.25s;-webkit-transition-timing-function:ease-in;transition-timing-function:ease-in;}</style><svg viewBox=\"0 0 64 30\" fill=\"#0066FF\" width=\"64\" height=\"30\" class=\"css-1hlrcxk\"><path d=\"M29.05 4.582H16.733V25.94h3.018l.403 2.572 4.081-2.572h4.815V4.582zm-5.207 18.69l-2.396 1.509-.235-1.508h-1.724V7.233h6.78v16.04h-2.425zM14.46 14.191H9.982c0-.471.033-.954.039-1.458v-5.5h5.106V5.935a1.352 1.352 0 0 0-.404-.957 1.378 1.378 0 0 0-.968-.396H5.783c.028-.088.056-.177.084-.255.274-.82 1.153-3.326 1.153-3.326a4.262 4.262 0 0 0-2.413.698c-.57.4-.912.682-1.371 1.946-.532 1.453-.997 2.856-1.31 3.693C1.444 8.674.28 11.025.28 11.025a5.85 5.85 0 0 0 2.52-.61c1.119-.593 1.679-1.502 2.054-2.883l.09-.3h2.334v5.5c0 .5-.045.982-.073 1.46h-4.12c-.71 0-1.39.278-1.893.775a2.638 2.638 0 0 0-.783 1.874h6.527a17.717 17.717 0 0 1-.778 3.649 16.796 16.796 0 0 1-3.012 5.273A33.104 33.104 0 0 1 0 28.74s3.13 1.175 5.425-.954c1.388-1.292 2.631-3.814 3.23-5.727a28.09 28.09 0 0 0 1.12-5.229h5.967v-1.37a1.254 1.254 0 0 0-.373-.899 1.279 1.279 0 0 0-.909-.37z\"></path><path d=\"M11.27 19.675l-2.312 1.491 5.038 7.458a6.905 6.905 0 0 0 .672-2.218 3.15 3.15 0 0 0-.28-2.168l-3.118-4.563zM51.449 15.195V5.842c4.181-.205 7.988-.405 9.438-.483l.851-.05c.387-.399.885-2.395.689-3.021-.073-.25-.213-.666-.638-.555a33.279 33.279 0 0 1-4.277.727c-2.766.321-3.97.404-7.804.682-6.718.487-12.709.72-12.709.72a2.518 2.518 0 0 0 .788 1.834 2.567 2.567 0 0 0 1.883.706c2.278-.095 5.598-.25 8.996-.41v9.203h-12.78c0 .703.281 1.377.783 1.874a2.69 2.69 0 0 0 1.892.777h10.105v7.075c0 .887-.464 1.192-1.231 1.214h-3.92a4.15 4.15 0 0 0 .837 1.544 4.2 4.2 0 0 0 1.403 1.067 6.215 6.215 0 0 0 2.71.277c1.36-.066 2.967-.826 2.967-3.57v-7.607h11.28c.342 0 .67-.135.91-.374.242-.239.378-.563.378-.902v-1.375H51.449z\"></path><path d=\"M42.614 8.873a2.304 2.304 0 0 0-1.508-.926 2.334 2.334 0 0 0-1.727.405l-.376.272 4.255 5.85 2.24-1.62-2.884-3.98zM57.35 8.68l-3.125 4.097 2.24 1.663 4.517-5.927-.375-.277a2.32 2.32 0 0 0-1.722-.452 2.327 2.327 0 0 0-1.536.896z\"></path></svg></a><style data-emotion-css=\"g0ay3v\">.css-g0ay3v{margin-left:25px;margin-right:15px;}.css-g0ay3v .AppHeader-Tab{padding-left:15px;padding-right:15px;}.css-g0ay3v .Tabs-link.is-active::after{height:4px;}</style><ul role=\"tablist\" class=\"Tabs AppHeader-Tabs css-g0ay3v\"><li role=\"tab\" class=\"Tabs-item AppHeader-Tab Tabs-item--noMeta\"><style data-emotion-css=\"1f6tgea\">.css-1f6tgea{color:undefined !important;-webkit-transition-property:color;transition-property:color;-webkit-transition-duration:0.25s;transition-duration:0.25s;-webkit-transition-timing-function:ease-in;transition-timing-function:ease-in;}.css-1f6tgea.is-active,.css-1f6tgea:hover{opacity:1;}.css-1f6tgea.is-active::after{background-color:#0066FF !important;}</style><a class=\"Tabs-link AppHeader-TabsLink css-1f6tgea\" tabindex=\"0\" data-za-not-track-link=\"true\" href=\"//www.zhihu.com/\">首页</a></li><li role=\"tab\" class=\"Tabs-item AppHeader-Tab Tabs-item--noMeta\"><a class=\"Tabs-link AppHeader-TabsLink css-1f6tgea\" tabindex=\"0\" data-za-not-track-link=\"true\" href=\"//www.zhihu.com/education/learning\">学习</a></li><li role=\"tab\" class=\"Tabs-item AppHeader-Tab Tabs-item--noMeta\"><a class=\"Tabs-link AppHeader-TabsLink css-1f6tgea\" tabindex=\"0\" data-za-not-track-link=\"true\" href=\"//www.zhihu.com/xen/vip-web\">会员</a></li><li role=\"tab\" class=\"Tabs-item AppHeader-Tab Tabs-item--noMeta\"><a class=\"Tabs-link AppHeader-TabsLink is-active css-1f6tgea\" tabindex=\"0\" data-za-not-track-link=\"true\" href=\"//www.zhihu.com/explore\">发现</a></li><li role=\"tab\" class=\"Tabs-item AppHeader-Tab Tabs-item--noMeta\"><a class=\"Tabs-link AppHeader-TabsLink css-1f6tgea\" tabindex=\"0\" data-za-not-track-link=\"true\" href=\"//www.zhihu.com/question/waiting\">等你来答</a></li></ul><style data-emotion-css=\"1acwmmj\">.css-1acwmmj{box-sizing:border-box;margin:0;min-width:0;-webkit-flex:1;-ms-flex:1;flex:1;-webkit-box-pack:center;-webkit-justify-content:center;-ms-flex-pack:center;justify-content:center;display:-webkit-box;display:-webkit-flex;display:-ms-flexbox;display:flex;}</style><div class=\"css-1acwmmj\"><style data-emotion-css=\"10fy1q8\">.css-10fy1q8{max-width:482px;}.css-10fy1q8 .SearchBar-input{border-radius:999px;padding-left:16px;}.css-10fy1q8 .SearchBar-askButton{border-radius:999px;width:70px;margin-left:12px;}.css-10fy1q8 .SearchBar-searchButton{border-bottom-right-radius:999px;border-top-right-radius:999px;}</style><div class=\"SearchBar AppHeader-SearchBar css-10fy1q8\" role=\"search\" data-za-module=\"PresetWordItem\"><form class=\"SearchBar-tool\"><div><div class=\"Popover\"><style data-emotion-css=\"11bw1mm\">.css-11bw1mm{border-color:undefined !important;-webkit-transition-property:background-color,border,color;transition-property:background-color,border,color;-webkit-transition-duration:0.25s;transition-duration:0.25s;-webkit-transition-timing-function:ease-in;transition-timing-function:ease-in;}.css-11bw1mm{border-color:undefined !important;-webkit-transition-property:background-color,border,color;transition-property:background-color,border,color;-webkit-transition-duration:0.25s;transition-duration:0.25s;-webkit-transition-timing-function:ease-in;transition-timing-function:ease-in;}.css-11bw1mm{border-color:undefined !important;-webkit-transition-property:background-color,border,color;transition-property:background-color,border,color;-webkit-transition-duration:0.25s;transition-duration:0.25s;-webkit-transition-timing-function:ease-in;transition-timing-function:ease-in;}.css-11bw1mm{border-color:undefined !important;-webkit-transition-property:background-color,border,color;transition-property:background-color,border,color;-webkit-transition-duration:0.25s;transition-duration:0.25s;-webkit-transition-timing-function:ease-in;transition-timing-function:ease-in;}</style><label class=\"SearchBar-input css-11bw1mm Input-wrapper Input-wrapper--grey\"><input type=\"text\" maxLength=\"100\" value=\"\" autoComplete=\"off\" role=\"combobox\" aria-expanded=\"false\" aria-autocomplete=\"list\" aria-activedescendant=\"null--1\" id=\"null-toggle\" aria-haspopup=\"true\" aria-owns=\"null-content\" class=\"Input\" placeholder=\"\"/><button aria-label=\"搜索\" type=\"button\" class=\"Button SearchBar-searchButton Button--primary\"><style data-emotion-css=\"1dlt5yv\">.css-1dlt5yv{-webkit-transition-property:color;transition-property:color;-webkit-transition-duration:0.25s;transition-duration:0.25s;-webkit-transition-timing-function:ease-in;transition-timing-function:ease-in;}.css-1dlt5yv:hover{opacity:1;}</style><span style=\"display:inline-flex;align-items:center\">\\u200b<svg width=\"18\" height=\"18\" viewBox=\"0 0 24 24\" data-new-api=\"Search24\" data-old-api=\"Search\" class=\"Zi Zi--Search SearchBar-searchIcon css-1dlt5yv\" fill=\"currentColor\"><g fill-rule=\"evenodd\" clip-rule=\"evenodd\"><path d=\"M11.5 18.389c3.875 0 7-3.118 7-6.945 0-3.826-3.125-6.944-7-6.944s-7 3.118-7 6.944 3.125 6.945 7 6.945zm0 1.5c4.694 0 8.5-3.78 8.5-8.445C20 6.781 16.194 3 11.5 3S3 6.78 3 11.444c0 4.664 3.806 8.445 8.5 8.445z\"></path><path d=\"M16.47 16.97a.75.75 0 011.06 0l3.5 3.5a.75.75 0 11-1.06 1.06l-3.5-3.5a.75.75 0 010-1.06z\"></path></g></svg></span></button></label></div></div></form></div></div><div class=\"AppHeader-userInfo\"><div><style data-emotion-css=\"1emujq8\">.css-1emujq8{display:-webkit-inline-box;display:-webkit-inline-flex;display:-ms-inline-flexbox;display:inline-flex;}.css-1emujq8:hover{color:#0066FF;}</style><style data-emotion-css=\"1ct7cfw\">.css-1ct7cfw{box-sizing:border-box;margin:0;min-width:0;-webkit-align-items:center;-webkit-box-align:center;-ms-flex-align:center;align-items:center;margin-right:20px;color:#8590A6;display:-webkit-box;display:-webkit-flex;display:-ms-flexbox;display:flex;display:-webkit-inline-box;display:-webkit-inline-flex;display:-ms-inline-flexbox;display:inline-flex;}.css-1ct7cfw:hover{color:#0066FF;}</style><button href=\"\" class=\"css-1ct7cfw\"><style data-emotion-css=\"1v994a0\">.css-1v994a0{margin-right:6px;}</style><svg width=\"16\" height=\"16\" viewBox=\"0 0 24 24\" data-new-api=\"HeartFill24\" data-old-api=\"Heart\" class=\"Zi Zi--Heart css-1v994a0\" fill=\"currentColor\"><path d=\"M12.004 4.934c1.015-.944 2.484-1.618 3.98-1.618 3.48 0 6.53 3.265 6.15 7.614-.11 1.254-.686 2.55-1.458 3.753-.778 1.215-1.79 2.392-2.845 3.419-1.054 1.028-2.168 1.923-3.161 2.566a9.96 9.96 0 01-1.41.777c-.418.182-.862.32-1.268.32s-.848-.137-1.267-.317a9.918 9.918 0 01-1.407-.771c-.992-.64-2.103-1.53-3.156-2.555-1.052-1.024-2.062-2.2-2.84-3.417-.77-1.208-1.346-2.51-1.456-3.775-.38-4.349 2.67-7.614 6.15-7.614 1.484 0 2.983.673 3.988 1.618z\" fill-rule=\"evenodd\" clip-rule=\"evenodd\"></path></svg>无障碍</button></div><div class=\"AppHeader-profile\"><div><style data-emotion-css=\"1ay9vb9\">.css-1ay9vb9{margin-right:16px;}</style><style data-emotion-css=\"1aand3b\">.css-1aand3b{display:inline-block;padding:0 16px;font-size:14px;line-height:32px;color:#FFFFFF;text-align:center;cursor:pointer;background:none;border:1px solid;border-radius:3px;background-color:#0066FF;border-color:#0066FF;margin-right:16px;}.css-1aand3b::mozFocusInner{padding:0;border:0;}.css-1aand3b:focus{outline:none;-webkit-transition:box-shadow 0.3s;transition:box-shadow 0.3s;}.css-1aand3b:focus-visible{box-shadow:0 0 0 2px #FFFFFF,0 0 0 4px rgba(0,102,255,0.3);}.css-1aand3b:disabled{cursor:default;opacity:0.5;}.css-1aand3b:hover{border-color:#0061f2;background-color:#0061f2;}</style><button type=\"button\" class=\"Button css-1aand3b\">登录/注册</button><style data-emotion-css=\"1fv1gmw\">.css-1fv1gmw{position:fixed;bottom:50px;right:64px;width:336px;z-index:2;}</style></div></div></div></div><div></div></header></div><div><span style=\"position:absolute;top:-10000px;left:-10000px\" role=\"log\" aria-live=\"assertive\"></span></div><main role=\"main\" class=\"App-main\"><div><div class=\"Sticky\"></div></div><div class=\"ExploreHomePage\"><div class=\"ExploreHomePage-ContentSection ExploreHomePage-section\" id=\"guestSquare\"><div class=\"ExploreHomePage-ContentSection-header\"><svg width=\"36\" height=\"36\" viewBox=\"0 0 36 36\" fill=\"none\"><path fill=\"#06F\" d=\"M6.152 5h22.696C30.588 5 32 6.399 32 8.123v19.018c0 1.725-1.412 3.123-3.152 3.123h-6.935l-3.006 3.688a1.818 1.818 0 01-2.815 0l-3.005-3.688H6.152C4.411 30.264 3 28.866 3 27.141V8.123C3 6.4 4.41 5 6.152 5zM17.5 26.656c.495 0 .921-.173 1.277-.518.357-.344.535-.772.535-1.286 0-.513-.178-.943-.535-1.288a1.773 1.773 0 00-1.277-.517c-.495 0-.921.177-1.277.532a1.73 1.73 0 00-.535 1.272c0 .514.178.943.535 1.287.357.346.782.518 1.277.518zm2.316-8.887a66.7 66.7 0 001.855-1.759c.344-.348.641-.762.891-1.242s.375-1.038.375-1.674c0-.81-.219-1.559-.657-2.248-.44-.69-1.06-1.235-1.866-1.636-.804-.4-1.733-.6-2.784-.6-1.13 0-2.12.24-2.968.719-.849.48-1.494 1.084-1.936 1.815-.442.73-.664 1.45-.664 2.163 0 .344.14.665.42.96.278.297.62.445 1.027.445.689 0 1.156-.423 1.403-1.27.26-.81.58-1.422.957-1.838.377-.415.964-.623 1.762-.623.68 0 1.238.206 1.669.618.43.412.647.918.647 1.517 0 .307-.07.592-.212.854a3.22 3.22 0 01-.522.714c-.207.214-.542.53-1.006.95-.53.48-.95.893-1.262 1.241a4.187 4.187 0 00-.75 1.215c-.189.46-.283 1.005-.283 1.634 0 .503.13.881.386 1.136a1.3 1.3 0 00.952.382c.725 0 1.157-.39 1.294-1.169.08-.367.14-.624.18-.77.04-.146.096-.292.168-.439.072-.146.183-.307.332-.482.148-.177.346-.38.592-.613z\" fill-rule=\"evenodd\" clip-rule=\"evenodd\"></path></svg><span>好问题广场</span></div><div class=\"ExploreHomePage-ContentSection-body\"><div class=\"ExploreHomePage-square\"><div class=\"ExploreHomePage-specialsLogin\"><div class=\"ExploreHomePage-specialsLoginImg\"><img src=\"https://static.zhihu.com/heifetz/assets/loginBackgroundImg.2c81e205.png\" alt=\"\"/></div><div class=\"ExploreHomePage-specialsLoginTitle\">登录一下</div><div class=\"ExploreHomePage-specialsLoginDes\">更多精彩内容等你发现</div><div class=\"ExploreHomePage-specialsLoginBottomButton\"><button type=\"button\" class=\"Button ExploreHomePage-specialsLoginButton\">登录</button></div></div><style data-emotion-css=\"7chvj5\">.css-7chvj5{box-shadow:0px 1px 3px rgba(18,18,18,0.2);border-radius:4px;width:490px;}</style><style data-emotion-css=\"1aryoh2\">.css-1aryoh2{box-sizing:border-box;margin:0;min-width:0;padding-left:24px;padding-right:24px;background-color:#FFFFFF;box-shadow:0px 1px 3px rgba(18,18,18,0.2);border-radius:4px;width:490px;}</style><div class=\" css-1aryoh2\"><style data-emotion-css=\"x9oyvc\">.css-x9oyvc .Modal-content{margin-top:0;padding:40px 14px;}</style><style data-emotion-css=\"1tnayjw\">.css-1tnayjw .Modal-content{margin-top:0;padding:40px;}</style><style data-emotion-css=\"py1o25\">.css-py1o25{border-bottom:1px solid #EBEBEB;}</style><style data-emotion-css=\"18ve2gf\">.css-18ve2gf{box-sizing:border-box;margin:0;min-width:0;height:72px;-webkit-align-items:center;-webkit-box-align:center;-ms-flex-align:center;align-items:center;-webkit-box-pack:justify;-webkit-justify-content:space-between;-ms-flex-pack:justify;justify-content:space-between;display:-webkit-box;display:-webkit-flex;display:-ms-flexbox;display:flex;border-bottom:1px solid #EBEBEB;}</style><div class=\"css-18ve2gf\"><style data-emotion-css=\"1iw0hlv\">.css-1iw0hlv{box-sizing:border-box;margin:0;min-width:0;color:#121212;font-size:20px;font-weight:600;}</style><div class=\"css-1iw0hlv\">近期热点</div></div><style data-emotion-css=\"4cffwv\">.css-4cffwv{box-sizing:border-box;margin:0;min-width:0;display:-webkit-box;display:-webkit-flex;display:-ms-flexbox;display:flex;}</style><div class=\"css-4cffwv\"><style data-emotion-css=\"vurnku\">.css-vurnku{box-sizing:border-box;margin:0;min-width:0;}</style><div class=\"css-vurnku\"><style data-emotion-css=\"1as7ang\">.css-1as7ang{box-sizing:border-box;margin:0;min-width:0;margin-top:34px;}</style><div class=\"css-1as7ang\"><style data-emotion-css=\"4g6ai3\">.css-4g6ai3{cursor:pointer;}</style><style data-emotion-css=\"1g4zjtl\">.css-1g4zjtl{box-sizing:border-box;margin:0;min-width:0;display:-webkit-box;display:-webkit-flex;display:-ms-flexbox;display:flex;cursor:pointer;}</style><div class=\"css-1g4zjtl\"><span style=\"display:inline-flex;align-items:center\">\\u200b<svg width=\"1.2em\" height=\"1.2em\" viewBox=\"0 0 18 18\" fill=\"none\"><rect width=\"18\" height=\"18\" fill=\"url(#paint0_linear_49_2324)\" rx=\"4\"></rect><path fill=\"#fff\" d=\"M8.748 4.004c-.336.364-.756.686-1.26.994-.504.28-.966.476-1.414.588v1.512c.924-.266 1.694-.686 2.296-1.26V14h1.526V4.004H8.748z\"></path><defs><linearGradient id=\"paint0_linear_49_2324\" x1=\"1.5\" x2=\"16.5\" y1=\"1.5\" y2=\"16.5\" gradientUnits=\"userSpaceOnUse\"><stop stop-color=\"#FF6E68\"></stop><stop offset=\"1\" stop-color=\"#EA3B37\"></stop></linearGradient></defs></svg></span><style data-emotion-css=\"1nd7dqm\">.css-1nd7dqm{display:-webkit-box;text-overflow:ellipsis;overflow:hidden;-webkit-box-orient:vertical;-webkit-line-clamp:1;margin-left:4px;color:#121212;font-size:15px;font-weight:600;}</style><a target=\"_blank\" as=\"[object Object]\" class=\"css-1nd7dqm\" href=\"https://www.zhihu.com/question/538220859\">为什么我对福建舰毫无感觉？</a></div><style data-emotion-css=\"13jrecd\">.css-13jrecd{box-sizing:border-box;margin:0;min-width:0;margin-top:6px;margin-left:22px;font-size:12px;color:#999999;}</style><div class=\"css-13jrecd\">575 万浏览 · 4570 关注 · 3270 回答</div></div><div class=\"css-1as7ang\"><div class=\"css-1g4zjtl\"><span style=\"display:inline-flex;align-items:center\">\\u200b<svg width=\"1.2em\" height=\"1.2em\" viewBox=\"0 0 18 18\" fill=\"none\"><rect width=\"18\" height=\"18\" fill=\"url(#paint0_linear_49_2330)\" rx=\"4\"></rect><path fill=\"#fff\" d=\"M9.354 3.808c-1.064 0-1.932.35-2.576 1.078-.63.672-.952 1.568-.966 2.688h1.526c.028-.812.196-1.414.532-1.834.322-.434.798-.644 1.428-.644.588 0 1.05.14 1.358.42.308.28.462.7.462 1.26 0 .588-.238 1.134-.686 1.638-.28.294-.756.672-1.428 1.148-1.134.784-1.89 1.386-2.254 1.82A3.801 3.801 0 005.756 14h6.888v-1.344H7.646c.21-.546.854-1.176 1.932-1.89.994-.672 1.68-1.204 2.072-1.61.644-.714.98-1.498.98-2.366 0-.882-.308-1.596-.91-2.156-.616-.56-1.414-.826-2.366-.826z\"></path><defs><linearGradient id=\"paint0_linear_49_2330\" x1=\"1.35\" x2=\"16.2\" y1=\"1.35\" y2=\"18\" gradientUnits=\"userSpaceOnUse\"><stop stop-color=\"#FF9607\"></stop><stop offset=\"1\" stop-color=\"#FF7C00\"></stop></linearGradient></defs></svg></span><a target=\"_blank\" as=\"[object Object]\" class=\"css-1nd7dqm\" href=\"https://www.zhihu.com/question/538511702\">如何看待中国成功实施陆基中段反导拦截技术试验？这将有何意义？</a></div><div class=\"css-13jrecd\">554 万浏览 · 2381 关注 · 663 回答</div></div><div class=\"css-1as7ang\"><div class=\"css-1g4zjtl\"><span style=\"display:inline-flex;align-items:center\">\\u200b<svg width=\"1.2em\" height=\"1.2em\" viewBox=\"0 0 18 18\" fill=\"none\"><rect width=\"18\" height=\"18\" fill=\"url(#paint0_linear_49_2336)\" rx=\"4\"></rect><path fill=\"#fff\" d=\"M9.298 3.808c-.98 0-1.778.266-2.394.826-.658.56-1.022 1.33-1.106 2.324h1.498c.056-.616.266-1.078.602-1.386.336-.308.812-.462 1.414-.462.588 0 1.05.126 1.358.406.28.266.434.644.434 1.148 0 .504-.168.896-.476 1.162-.308.266-.77.406-1.386.406h-.714V9.38h.728c.658 0 1.162.14 1.498.42.364.28.546.714.546 1.302 0 .504-.182.91-.518 1.246-.392.364-.91.56-1.554.56-.588 0-1.064-.168-1.428-.504-.42-.364-.63-.882-.658-1.554h-1.54c.084 1.12.476 1.974 1.176 2.562.616.518 1.442.784 2.464.784 1.064 0 1.946-.308 2.618-.896.63-.588.952-1.344.952-2.268 0-.588-.168-1.078-.504-1.456-.308-.364-.756-.644-1.344-.826 1.092-.364 1.652-1.106 1.652-2.198 0-.854-.308-1.526-.896-2.016-.616-.49-1.414-.728-2.422-.728z\"></path><defs><linearGradient id=\"paint0_linear_49_2336\" x1=\"2\" x2=\"16.5\" y1=\"1\" y2=\"16.5\" gradientUnits=\"userSpaceOnUse\"><stop stop-color=\"#F3BB6C\"></stop><stop offset=\"1\" stop-color=\"#E0A76F\"></stop></linearGradient></defs></svg></span><a target=\"_blank\" as=\"[object Object]\" class=\"css-1nd7dqm\" href=\"https://www.zhihu.com/question/538358503\">黄山一女子车祸卧床,丈夫悉心照顾16年后同意离婚，调解时称「放他自由，赌他的良心」，如何看待此事？</a></div><div class=\"css-13jrecd\">94.3 万浏览 · 555 关注 · 219 回答</div></div><div class=\"css-1as7ang\"><div class=\"css-1g4zjtl\"><span style=\"display:inline-flex;align-items:center\">\\u200b<svg width=\"1.2em\" height=\"1.2em\" viewBox=\"0 0 18 18\" fill=\"none\"><rect width=\"18\" height=\"18\" fill=\"#C4C4C4\" rx=\"4\"></rect><path fill=\"#fff\" d=\"M10.208 4.004L5.28 10.388v1.442h4.872V14h1.456v-2.17h1.512v-1.218h-1.512V4.004h-1.4zm-.098 1.932h.042v4.676H6.526l3.584-4.676z\"></path></svg></span><a target=\"_blank\" as=\"[object Object]\" class=\"css-1nd7dqm\" href=\"https://www.zhihu.com/question/538494235\">中办印发《领导干部配偶、子女及其配偶经商办企业管理规定》，其中还有哪些信息值得关注？</a></div><div class=\"css-13jrecd\">180 万浏览 · 1360 关注 · 504 回答</div></div></div></div><style data-emotion-css=\"1gnxwhx\">.css-1gnxwhx{box-sizing:border-box;margin:0;min-width:0;margin-top:22px;padding-bottom:26px;display:-webkit-box;display:-webkit-flex;display:-ms-flexbox;display:flex;cursor:pointer;}</style><div class=\"css-1gnxwhx\"><style data-emotion-css=\"7onvb2\">.css-7onvb2{color:#8590A6;font-size:14px;font-weight:500;}</style><a target=\"_blank\" as=\"[object Object]\" class=\"css-7onvb2\" href=\"/knowledge-plan/hot-question/hot/0/hour\">查看全部<!-- -->热点<!-- -->问题</a><style data-emotion-css=\"rmwkmq\">.css-rmwkmq{fill:#8590A6;}</style><span style=\"display:inline-flex;align-items:center\">\\u200b<svg width=\"1.2em\" height=\"1.2em\" viewBox=\"0 0 24 24\" data-new-api=\"ArrowRightSmall24\" data-old-api=\"ArrowRight\" class=\"Zi Zi--ArrowRight css-rmwkmq\" fill=\"currentColor\"><path d=\"M13.248 12l-4.025 3.78a.684.684 0 000 1.01.796.796 0 001.075 0l4.42-4.15a.867.867 0 000-1.28l-4.42-4.15a.796.796 0 00-1.075 0 .684.684 0 000 1.01L13.248 12z\" fill-rule=\"evenodd\" clip-rule=\"evenodd\"></path></svg></span></div></div><style data-emotion-css=\"1xaekgw\">.css-1xaekgw{margin-top:20px;}</style><style data-emotion-css=\"1dkibri\">.css-1dkibri{box-shadow:0px 1px 3px rgba(18,18,18,0.2);border-radius:4px;width:490px;margin-top:20px;}</style><style data-emotion-css=\"t9mabs\">.css-t9mabs{box-sizing:border-box;margin:0;min-width:0;padding-left:24px;padding-right:24px;background-color:#FFFFFF;box-shadow:0px 1px 3px rgba(18,18,18,0.2);border-radius:4px;width:490px;margin-top:20px;}</style><div class=\"css-t9mabs\"><div class=\"css-18ve2gf\"><div class=\"css-1iw0hlv\">潜力好问题</div></div><div class=\"css-4cffwv\"><div class=\"css-vurnku\"><div class=\"css-1as7ang\"><div class=\"css-1g4zjtl\"><span style=\"display:inline-flex;align-items:center\">\\u200b<svg width=\"1.2em\" height=\"1.2em\" viewBox=\"0 0 18 18\" fill=\"none\"><rect width=\"18\" height=\"18\" fill=\"url(#paint0_linear_49_2324)\" rx=\"4\"></rect><path fill=\"#fff\" d=\"M8.748 4.004c-.336.364-.756.686-1.26.994-.504.28-.966.476-1.414.588v1.512c.924-.266 1.694-.686 2.296-1.26V14h1.526V4.004H8.748z\"></path><defs><linearGradient id=\"paint0_linear_49_2324\" x1=\"1.5\" x2=\"16.5\" y1=\"1.5\" y2=\"16.5\" gradientUnits=\"userSpaceOnUse\"><stop stop-color=\"#FF6E68\"></stop><stop offset=\"1\" stop-color=\"#EA3B37\"></stop></linearGradient></defs></svg></span><a target=\"_blank\" as=\"[object Object]\" class=\"css-1nd7dqm\" href=\"https://www.zhihu.com/question/536649142\">电影《人生大事》宣布定档  6 月 24 日，对此你有哪些期待？</a></div><div class=\"css-13jrecd\">9.5 万浏览 · 174 关注 · 128 回答</div></div><div class=\"css-1as7ang\"><div class=\"css-1g4zjtl\"><span style=\"display:inline-flex;align-items:center\">\\u200b<svg width=\"1.2em\" height=\"1.2em\" viewBox=\"0 0 18 18\" fill=\"none\"><rect width=\"18\" height=\"18\" fill=\"url(#paint0_linear_49_2330)\" rx=\"4\"></rect><path fill=\"#fff\" d=\"M9.354 3.808c-1.064 0-1.932.35-2.576 1.078-.63.672-.952 1.568-.966 2.688h1.526c.028-.812.196-1.414.532-1.834.322-.434.798-.644 1.428-.644.588 0 1.05.14 1.358.42.308.28.462.7.462 1.26 0 .588-.238 1.134-.686 1.638-.28.294-.756.672-1.428 1.148-1.134.784-1.89 1.386-2.254 1.82A3.801 3.801 0 005.756 14h6.888v-1.344H7.646c.21-.546.854-1.176 1.932-1.89.994-.672 1.68-1.204 2.072-1.61.644-.714.98-1.498.98-2.366 0-.882-.308-1.596-.91-2.156-.616-.56-1.414-.826-2.366-.826z\"></path><defs><linearGradient id=\"paint0_linear_49_2330\" x1=\"1.35\" x2=\"16.2\" y1=\"1.35\" y2=\"18\" gradientUnits=\"userSpaceOnUse\"><stop stop-color=\"#FF9607\"></stop><stop offset=\"1\" stop-color=\"#FF7C00\"></stop></linearGradient></defs></svg></span><a target=\"_blank\" as=\"[object Object]\" class=\"css-1nd7dqm\" href=\"https://www.zhihu.com/question/538454877\">上海大样本数据揭示奥密克戎重症率，非高危组重症率 0%，这一数据说明了什么？</a></div><div class=\"css-13jrecd\">52.9 万浏览 · 502 关注 · 249 回答</div></div><div class=\"css-1as7ang\"><div class=\"css-1g4zjtl\"><span style=\"display:inline-flex;align-items:center\">\\u200b<svg width=\"1.2em\" height=\"1.2em\" viewBox=\"0 0 18 18\" fill=\"none\"><rect width=\"18\" height=\"18\" fill=\"url(#paint0_linear_49_2336)\" rx=\"4\"></rect><path fill=\"#fff\" d=\"M9.298 3.808c-.98 0-1.778.266-2.394.826-.658.56-1.022 1.33-1.106 2.324h1.498c.056-.616.266-1.078.602-1.386.336-.308.812-.462 1.414-.462.588 0 1.05.126 1.358.406.28.266.434.644.434 1.148 0 .504-.168.896-.476 1.162-.308.266-.77.406-1.386.406h-.714V9.38h.728c.658 0 1.162.14 1.498.42.364.28.546.714.546 1.302 0 .504-.182.91-.518 1.246-.392.364-.91.56-1.554.56-.588 0-1.064-.168-1.428-.504-.42-.364-.63-.882-.658-1.554h-1.54c.084 1.12.476 1.974 1.176 2.562.616.518 1.442.784 2.464.784 1.064 0 1.946-.308 2.618-.896.63-.588.952-1.344.952-2.268 0-.588-.168-1.078-.504-1.456-.308-.364-.756-.644-1.344-.826 1.092-.364 1.652-1.106 1.652-2.198 0-.854-.308-1.526-.896-2.016-.616-.49-1.414-.728-2.422-.728z\"></path><defs><linearGradient id=\"paint0_linear_49_2336\" x1=\"2\" x2=\"16.5\" y1=\"1\" y2=\"16.5\" gradientUnits=\"userSpaceOnUse\"><stop stop-color=\"#F3BB6C\"></stop><stop offset=\"1\" stop-color=\"#E0A76F\"></stop></linearGradient></defs></svg></span><a target=\"_blank\" as=\"[object Object]\" class=\"css-1nd7dqm\" href=\"https://www.zhihu.com/question/538480830\">6 月 19 日广东惠州一饭店老板见女生被打见义勇为遭围殴，警方回应称已出警，此案件目前调查情况如何？</a></div><div class=\"css-13jrecd\">20 万浏览 · 283 关注 · 139 回答</div></div><div class=\"css-1as7ang\"><div class=\"css-1g4zjtl\"><span style=\"display:inline-flex;align-items:center\">\\u200b<svg width=\"1.2em\" height=\"1.2em\" viewBox=\"0 0 18 18\" fill=\"none\"><rect width=\"18\" height=\"18\" fill=\"#C4C4C4\" rx=\"4\"></rect><path fill=\"#fff\" d=\"M10.208 4.004L5.28 10.388v1.442h4.872V14h1.456v-2.17h1.512v-1.218h-1.512V4.004h-1.4zm-.098 1.932h.042v4.676H6.526l3.584-4.676z\"></path></svg></span><a target=\"_blank\" as=\"[object Object]\" class=\"css-1nd7dqm\" href=\"https://www.zhihu.com/question/538524716\">6 月 20 日起全国铁路实施新运行图，北京至武汉最快 3 小时 48 分可达，将带来哪些积极影响？</a></div><div class=\"css-13jrecd\">11.7 万浏览 · 102 关注 · 29 回答</div></div></div></div><div class=\"css-1gnxwhx\"><a target=\"_blank\" as=\"[object Object]\" class=\"css-7onvb2\" href=\"/knowledge-plan/potential-question/potential/0/all\">查看全部<!-- -->潜力<!-- -->问题</a><span style=\"display:inline-flex;align-items:center\">\\u200b<svg width=\"1.2em\" height=\"1.2em\" viewBox=\"0 0 24 24\" data-new-api=\"ArrowRightSmall24\" data-old-api=\"ArrowRight\" class=\"Zi Zi--ArrowRight css-rmwkmq\" fill=\"currentColor\"><path d=\"M13.248 12l-4.025 3.78a.684.684 0 000 1.01.796.796 0 001.075 0l4.42-4.15a.867.867 0 000-1.28l-4.42-4.15a.796.796 0 00-1.075 0 .684.684 0 000 1.01L13.248 12z\" fill-rule=\"evenodd\" clip-rule=\"evenodd\"></path></svg></span></div></div></div></div><div class=\"ExploreHomePage-ContentSection-moreButton\"><a target=\"_blank\" rel=\"noreferrer noopener\" href=\"/knowledge-plan/hot-question/hot/0/hour\">查看更多好问题<svg width=\"25\" height=\"25\" viewBox=\"0 0 24 24\" data-new-api=\"ArrowRightSmall24\" data-old-api=\"ArrowRight\" class=\"Zi Zi--ArrowRight\" fill=\"currentColor\"><path d=\"M13.248 12l-4.025 3.78a.684.684 0 000 1.01.796.796 0 001.075 0l4.42-4.15a.867.867 0 000-1.28l-4.42-4.15a.796.796 0 00-1.075 0 .684.684 0 000 1.01L13.248 12z\" fill-rule=\"evenodd\" clip-rule=\"evenodd\"></path></svg></a></div></div><div class=\"ExploreHomePage-ContentSection ExploreHomePage-section\" id=\"special\"><div class=\"ExploreHomePage-ContentSection-header\"><svg width=\"36\" height=\"36\" viewBox=\"0 0 24 24\" data-new-api=\"NewspaperFill24\" data-old-api=\"LabelSpecial\" class=\"Zi Zi--LabelSpecial\" fill=\"currentColor\"><path d=\"M9 3c-.828 0-1.5.802-1.5 1.79v14.92c0 .99.672 1.791 1.5 1.791h10.5c.828 0 1.5-.802 1.5-1.79V4.79C21 3.802 20.328 3 19.5 3H9zm1.25 5a.75.75 0 01.75-.75h5.5a.75.75 0 010 1.5H11a.75.75 0 01-.75-.75zm.75 2.75a.75.75 0 000 1.5h5.5a.75.75 0 000-1.5H11zM10.25 15a.75.75 0 01.75-.75h3.5a.75.75 0 010 1.5H11a.75.75 0 01-.75-.75zM4.6 9A1.6 1.6 0 003 10.6v7.3a1.6 1.6 0 001.6 1.6h1.3a.6.6 0 00.6-.6V9.6a.6.6 0 00-.6-.6H4.6z\" fill-rule=\"evenodd\" clip-rule=\"evenodd\"></path></svg><span>最新专题</span></div><div class=\"ExploreHomePage-ContentSection-body\"><div class=\"ExploreHomePage-specials\"><div class=\"ExploreSpecialCard ExploreHomePage-specialCard\"><a class=\"ExploreSpecialCard-banner\" href=\"/special/1521260181899513856\" target=\"_blank\" rel=\"noreferrer noopener\" data-za-detail-view-id=\"5792\"><img src=\"https://pic3.zhimg.com/100/v2-e1e426ce90c05da5f73ebc1231790296_hd.png\" alt=\"\"/></a><div class=\"ExploreSpecialCard-header\"><div class=\"ExploreSpecialCard-info\"><a class=\"ExploreSpecialCard-title\" href=\"/special/1521260181899513856\" target=\"_blank\" rel=\"noreferrer noopener\" data-za-detail-view-id=\"5792\">理解父亲，成为父亲</a><div class=\"ExploreSpecialCard-count\"><span>昨天 13:09 <!-- -->更新</span><span>4,187,518<!-- --> 浏览</span></div></div><div class=\"ExploreSpecialCard-followButton\"><button class=\"ExploreFollowButton\">关注专题</button></div></div><div class=\"ExploreSpecialCard-contentList\"><div class=\"ExploreSpecialCard-contentItem\"><a class=\"ExploreSpecialCard-contentTag\" href=\"/special/1521260181899513856#NewsSpecial-SubModule-1521260411533516800\" target=\"blank\" rel=\"noopener noreferrer\" data-za-detail-view-id=\"5793\">当你做了父亲</a><a class=\"ExploreSpecialCard-contentTitle\" href=\"/answer/2535060428\" target=\"blank\" rel=\"noopener noreferrer\" data-za-detail-view-id=\"5794\">男人成为父亲以后就会长大吗？</a></div><div class=\"ExploreSpecialCard-contentItem\"><a class=\"ExploreSpecialCard-contentTag\" href=\"/special/1521260181899513856#NewsSpecial-SubModule-1521260481603526657\" target=\"blank\" rel=\"noopener noreferrer\" data-za-detail-view-id=\"5793\">爸爸你听我说</a><a class=\"ExploreSpecialCard-contentTitle\" href=\"/question/538397114\" target=\"blank\" rel=\"noopener noreferrer\" data-za-detail-view-id=\"5794\">对父亲表达爱天生就比对母亲表达难吗？我们会不会先天「吝啬」对父亲的爱的表达？</a></div><div class=\"ExploreSpecialCard-contentItem\"><a class=\"ExploreSpecialCard-contentTag\" href=\"/special/1521260181899513856#NewsSpecial-SubModule-1521260543470297089\" target=\"blank\" rel=\"noopener noreferrer\" data-za-detail-view-id=\"5793\">爸爸的精彩人生</a><a class=\"ExploreSpecialCard-contentTitle\" href=\"/question/538201412\" target=\"blank\" rel=\"noopener noreferrer\" data-za-detail-view-id=\"5794\">当了爸之后，是怎么理解父爱的？</a></div></div></div><div class=\"ExploreSpecialCard ExploreHomePage-specialCard\"><a class=\"ExploreSpecialCard-banner\" href=\"/special/1520391135545118720\" target=\"_blank\" rel=\"noreferrer noopener\" data-za-detail-view-id=\"5792\"><img src=\"https://pic4.zhimg.com/100/v2-c3335f7c6513b9c59935e86a6d90056f_hd.png\" alt=\"\"/></a><div class=\"ExploreSpecialCard-header\"><div class=\"ExploreSpecialCard-info\"><a class=\"ExploreSpecialCard-title\" href=\"/special/1520391135545118720\" target=\"_blank\" rel=\"noreferrer noopener\" data-za-detail-view-id=\"5792\">接招吧 618！</a><div class=\"ExploreSpecialCard-count\"><span>06-18 <!-- -->更新</span><span>7,400,421<!-- --> 浏览</span></div></div><div class=\"ExploreSpecialCard-followButton\"><button class=\"ExploreFollowButton\">关注专题</button></div></div><div class=\"ExploreSpecialCard-contentList\"><div class=\"ExploreSpecialCard-contentItem\"><a class=\"ExploreSpecialCard-contentTag\" href=\"/special/1520391135545118720#NewsSpecial-SubModule-1520391326797918208\" target=\"blank\" rel=\"noopener noreferrer\" data-za-detail-view-id=\"5793\">618 热点聚焦</a><a class=\"ExploreSpecialCard-contentTitle\" href=\"/question/536263566\" target=\"blank\" rel=\"noopener noreferrer\" data-za-detail-view-id=\"5794\">从过度消费、超前消费到不冲动消费、不花冤枉钱，如何看待继「月光族」之后年轻人群体中又出现「酷抠族」？</a></div><div class=\"ExploreSpecialCard-contentItem\"><a class=\"ExploreSpecialCard-contentTag\" href=\"/special/1520391135545118720#NewsSpecial-SubModule-1520391372611305472\" target=\"blank\" rel=\"noopener noreferrer\" data-za-detail-view-id=\"5793\">你的消费观</a><a class=\"ExploreSpecialCard-contentTitle\" href=\"/question/537815498\" target=\"blank\" rel=\"noopener noreferrer\" data-za-detail-view-id=\"5794\">今年 618 你的消费观照去年有了哪些改变？</a></div><div class=\"ExploreSpecialCard-contentItem\"><a class=\"ExploreSpecialCard-contentTag\" href=\"/special/1520391135545118720#NewsSpecial-SubModule-1520391490677698560\" target=\"blank\" rel=\"noopener noreferrer\" data-za-detail-view-id=\"5793\">捂好小荷包</a><a class=\"ExploreSpecialCard-contentTitle\" href=\"/question/538209926\" target=\"blank\" rel=\"noopener noreferrer\" data-za-detail-view-id=\"5794\">去年 618 买了什么东西到现在都没用完？你想对去年 参加 618 的自己说什么？</a></div></div></div><div class=\"ExploreSpecialCard ExploreHomePage-specialCard\"><a class=\"ExploreSpecialCard-banner\" href=\"/special/1520369469411401728\" target=\"_blank\" rel=\"noreferrer noopener\" data-za-detail-view-id=\"5792\"><img src=\"https://pic1.zhimg.com/100/v2-cf1456554d39c984cf6a77b50d3432b8_hd.png\" alt=\"\"/></a><div class=\"ExploreSpecialCard-header\"><div class=\"ExploreSpecialCard-info\"><a class=\"ExploreSpecialCard-title\" href=\"/special/1520369469411401728\" target=\"_blank\" rel=\"noreferrer noopener\" data-za-detail-view-id=\"5792\">大国「粮」策</a><div class=\"ExploreSpecialCard-count\"><span>06-16 <!-- -->更新</span><span>25,431,076<!-- --> 浏览</span></div></div><div class=\"ExploreSpecialCard-followButton\"><button class=\"ExploreFollowButton\">关注专题</button></div></div><div class=\"ExploreSpecialCard-contentList\"><div class=\"ExploreSpecialCard-contentItem\"><a class=\"ExploreSpecialCard-contentTag\" href=\"/special/1520369469411401728#NewsSpecial-SubModule-1520372985832083456\" target=\"blank\" rel=\"noopener noreferrer\" data-za-detail-view-id=\"5793\">大国「粮」策</a><a class=\"ExploreSpecialCard-contentTitle\" href=\"/zvideo/1520382301560680448\" target=\"blank\" rel=\"noopener noreferrer\" data-za-detail-view-id=\"5794\">一颗种子的传奇</a></div><div class=\"ExploreSpecialCard-contentItem\"><a class=\"ExploreSpecialCard-contentTag\" href=\"/special/1520369469411401728#NewsSpecial-SubModule-1520375050997485568\" target=\"blank\" rel=\"noopener noreferrer\" data-za-detail-view-id=\"5793\">节约粮食小科普</a><a class=\"ExploreSpecialCard-contentTitle\" href=\"/question/37205624\" target=\"blank\" rel=\"noopener noreferrer\" data-za-detail-view-id=\"5794\">红薯为什么不能主粮化？</a></div><div class=\"ExploreSpecialCard-contentItem\"><a class=\"ExploreSpecialCard-contentTag\" href=\"/special/1520369469411401728#NewsSpecial-SubModule-1520375302778085376\" target=\"blank\" rel=\"noopener noreferrer\" data-za-detail-view-id=\"5793\">勤俭节约小妙招</a><a class=\"ExploreSpecialCard-contentTitle\" href=\"/question/413679753\" target=\"blank\" rel=\"noopener noreferrer\" data-za-detail-view-id=\"5794\">如何“节约粮食”？</a></div></div></div><div class=\"ExploreSpecialCard ExploreHomePage-specialCard\"><a class=\"ExploreSpecialCard-banner\" href=\"/special/1519642198144053248\" target=\"_blank\" rel=\"noreferrer noopener\" data-za-detail-view-id=\"5792\"><img src=\"https://pic2.zhimg.com/100/v2-a5a8a9d69e11223bc0edcb1a2a2f6ca5_hd.png\" alt=\"\"/></a><div class=\"ExploreSpecialCard-header\"><div class=\"ExploreSpecialCard-info\"><a class=\"ExploreSpecialCard-title\" href=\"/special/1519642198144053248\" target=\"_blank\" rel=\"noreferrer noopener\" data-za-detail-view-id=\"5792\">直击 Xbox 游戏发布会</a><div class=\"ExploreSpecialCard-count\"><span>06-13 <!-- -->更新</span><span>2,799,427<!-- --> 浏览</span></div></div><div class=\"ExploreSpecialCard-followButton\"><button class=\"ExploreFollowButton\">关注专题</button></div></div><div class=\"ExploreSpecialCard-contentList\"><div class=\"ExploreSpecialCard-contentItem\"><a class=\"ExploreSpecialCard-contentTag\" href=\"/special/1519642198144053248#NewsSpecial-SubModule-1519642688403578882\" target=\"blank\" rel=\"noopener noreferrer\" data-za-detail-view-id=\"5793\">发布会快览</a><a class=\"ExploreSpecialCard-contentTitle\" href=\"/answer/2526242143\" target=\"blank\" rel=\"noopener noreferrer\" data-za-detail-view-id=\"5794\">如何看待微软 xbox  6 月 13 日的夏日游戏节线上展示会？</a></div><div class=\"ExploreSpecialCard-contentItem\"><a class=\"ExploreSpecialCard-contentTag\" href=\"/special/1519642198144053248#NewsSpecial-SubModule-1519642771945807872\" target=\"blank\" rel=\"noopener noreferrer\" data-za-detail-view-id=\"5793\">热门讨论</a><a class=\"ExploreSpecialCard-contentTitle\" href=\"/question/537418683\" target=\"blank\" rel=\"noopener noreferrer\" data-za-detail-view-id=\"5794\">如何评价游戏《星空》（Starfield）于 6 月 13 日发布的实机预告？</a></div><div class=\"ExploreSpecialCard-contentItem\"><a class=\"ExploreSpecialCard-contentTag\" href=\"/special/1519642198144053248#NewsSpecial-SubModule-1519642842645000192\" target=\"blank\" rel=\"noopener noreferrer\" data-za-detail-view-id=\"5793\">新作一览</a><a class=\"ExploreSpecialCard-contentTitle\" href=\"/question/537422759\" target=\"blank\" rel=\"noopener noreferrer\" data-za-detail-view-id=\"5794\">怎么看待 Xbox 发布会放出的游戏《卧龙：堕落王朝》（Team Ninja 新作）?</a></div></div></div></div></div><div class=\"ExploreHomePage-ContentSection-moreButton\"><a target=\"_blank\" rel=\"noreferrer noopener\" data-za-detail-view-id=\"5796\" href=\"/special/all\">查看更多专题<svg width=\"25\" height=\"25\" viewBox=\"0 0 24 24\" data-new-api=\"ArrowRightSmall24\" data-old-api=\"ArrowRight\" class=\"Zi Zi--ArrowRight\" fill=\"currentColor\"><path d=\"M13.248 12l-4.025 3.78a.684.684 0 000 1.01.796.796 0 001.075 0l4.42-4.15a.867.867 0 000-1.28l-4.42-4.15a.796.796 0 00-1.075 0 .684.684 0 000 1.01L13.248 12z\" fill-rule=\"evenodd\" clip-rule=\"evenodd\"></path></svg></a></div></div><div class=\"ExploreHomePage-ContentSection ExploreHomePage-section\" id=\"roundtable\"><div class=\"ExploreHomePage-ContentSection-header\"><svg width=\"36\" height=\"36\" viewBox=\"0 0 24 24\" data-new-api=\"LabelRoundtable24\" data-old-api=\"LabelRoundtable\" class=\"Zi Zi--LabelRoundtable\" fill=\"currentColor\"><path d=\"M12 21.333a9.333 9.333 0 110-18.667 9.333 9.333 0 010 18.667zm-.66-11.288c.332.386.609.771.775 1.212.055-.055.665-.991.72-1.707.055-.385.126-1.617-.443-2.367-.443-.496-1.219-.771-1.884-.55a1.788 1.788 0 00-1.33 2.036c.887.275 1.607.77 2.161 1.376zm-1.33 1.542c.443-.055.942-.11 1.44 0 0-.055-.484-.936-1.108-1.486-.665-.496-1.33-.973-2.216-.771-.72.11-1.723.77-1.55 2.092.11.605.553 1.1 1.163 1.321.609-.606 1.44-1.046 2.27-1.156zm2.714.165c.056 0 1.164.055 1.828-.165.72-.275 1.412-.68 1.773-1.542.11-.275.23-1.247-.443-1.871-.72-.716-1.717-.716-2.438-.166.222.826.063 1.967-.11 2.533-.103.348-.333.88-.61 1.211zm-1.44.55c-.056 0-1.33.056-1.828.22-.72.276-1.447.668-1.773 1.542-.11.276-.209 1.26.443 1.872.665.66 1.718.66 2.438.11-.295-.812-.166-1.761.055-2.477.166-.496.388-.936.665-1.266zm5.041-.99c-.665.605-1.44.99-2.327 1.21-.443.056-.941.11-1.44 0 0 .056.554.992 1.108 1.432.665.496 1.385.771 2.216.771.72-.11 1.678-.693 1.551-2.092-.055-.606-.554-1.101-1.108-1.321zm-3.656 2.642a3.475 3.475 0 01-.776-1.156c-.055.055-.665.991-.72 1.707-.055.385-.101 1.505.499 2.312.443.495 1.218.77 1.883.55.887-.275 1.496-1.1 1.33-2.036a5.38 5.38 0 01-2.216-1.377z\" fill-rule=\"evenodd\" clip-rule=\"evenodd\"></path></svg><span>圆桌讨论</span></div><div class=\"ExploreHomePage-ContentSection-body\"><div class=\"ExploreHomePage-roundtables\"><div class=\"ExploreRoundtableCard ExploreHomePage-roundtableCard\"><div class=\"ExploreRoundtableCard-headerContainer\" style=\"background-color:#78545a\"><div class=\"ExploreRoundtableCard-headerBackgrounds\"><div style=\"background-image:url(https://pic2.zhimg.com/50/v2-6e4a49a2fecfe1eed1393f2b04ab91b5_hd.jpg?source=b1f6dc53);background-position:center\"></div><div style=\"background:linear-gradient(to right, rgba(120, 84, 90, 1) 0%, rgba(120, 84, 90, 0) 100%\"></div><div style=\"background:linear-gradient(to right, rgba(120, 84, 90, 0.5) 0%, rgba(120, 84, 90, 0) 100%\"></div></div><div class=\"ExploreRoundtableCard-header\"><a class=\"ExploreRoundtableCard-title\" href=\"/roundtable/fujianjian\" target=\"_blank\" rel=\"noreferrer noopener\" data-za-detail-view-id=\"5799\">知媒观察丨聚焦「福建舰」下水</a><a class=\"ExploreRoundtableCard-intro\" href=\"/roundtable/fujianjian\" target=\"_blank\" rel=\"noreferrer noopener\" data-za-detail-view-id=\"5799\">今天上午，我国第三艘航空母舰下水命名仪式举行。经中央军委批准，我国第三艘航空母舰命名为“中国人民解放军海军福建舰”，舷号为“18”。福建舰是我国完全自主设计建造的首艘弹射型航空母舰，采用平直通长飞行甲板，配置电磁弹射和阻拦装置，满载排水量8万余吨。我国第三艘航母下水后，将按计划开展系泊试验和航行试验。</a><div class=\"ExploreRoundtableCard-info\"><div class=\"ExploreRoundtableCard-guests\"><img src=\"https://picx.zhimg.com/50/v2-f9f5600693d6fb084a29d3f60ef0d0f0_720w.jpg?source=b1f6dc53\" alt=\"\"/><img src=\"https://pic2.zhimg.com/50/v2-02a2d9e74cea988b14b0e89190710f4d_720w.jpg?source=b1f6dc53\" alt=\"\"/><img src=\"https://pica.zhimg.com/50/v2-8156e8aeb0499ceaa91c84165236f1cb_720w.jpg?source=b1f6dc53\" alt=\"\"/><span>7<!-- --> 位嘉宾参与</span></div><div class=\"ExploreRoundtableCard-count\"><span>164<!-- --> 人关注</span></div></div></div><div class=\"ExploreRoundtableCard-followButton\"><button class=\"ExploreFollowButton ExploreFollowButton--colored\" style=\"color:rgba(120, 84, 90, 1)\">关注圆桌</button></div></div><div class=\"ExploreRoundtableCard-questionList\"><div class=\"ExploreRoundtableCard-questionItem\"><a class=\"ExploreRoundtableCard-questionTitle\" href=\"/question/538150505\" target=\"_blank\" rel=\"noopener noreferrer\" data-za-detail-view-id=\"5800\">「福建舰」有哪些技术突破值得关注？建造这样一艘航母对一个国家的工业技术水平有多高的要求？</a><div class=\"ExploreRoundtableCard-questionCounts\"><span>406<!-- --> 个回答</span></div></div><div class=\"ExploreRoundtableCard-questionItem\"><a class=\"ExploreRoundtableCard-questionTitle\" href=\"/question/538149375\" target=\"_blank\" rel=\"noopener noreferrer\" data-za-detail-view-id=\"5800\">我国第三艘航母命名「福建舰」，航母命名有哪些讲究？</a><div class=\"ExploreRoundtableCard-questionCounts\"><span>98<!-- --> 个回答</span></div></div><div class=\"ExploreRoundtableCard-questionItem\"><a class=\"ExploreRoundtableCard-questionTitle\" href=\"/question/538149540\" target=\"_blank\" rel=\"noopener noreferrer\" data-za-detail-view-id=\"5800\">国产航母「福建舰」下水，面对大国重器，你有哪些祝福？</a><div class=\"ExploreRoundtableCard-questionCounts\"><span>193<!-- --> 个回答</span></div></div></div></div><div class=\"ExploreRoundtableCard ExploreHomePage-roundtableCard\"><div class=\"ExploreRoundtableCard-headerContainer\" style=\"background-color:#B3917D\"><div class=\"ExploreRoundtableCard-headerBackgrounds\"><div style=\"background-image:url(https://pic1.zhimg.com/50/v2-ce1878c6e73dd3ad4b2e94f4b47d55b0_hd.jpg?source=b1f6dc53);background-position:center\"></div><div style=\"background:linear-gradient(to right, rgba(179, 145, 125, 1) 0%, rgba(179, 145, 125, 0) 100%\"></div><div style=\"background:linear-gradient(to right, rgba(179, 145, 125, 0.5) 0%, rgba(179, 145, 125, 0) 100%\"></div></div><div class=\"ExploreRoundtableCard-header\"><a class=\"ExploreRoundtableCard-title\" href=\"/roundtable/hezijihejie\" target=\"_blank\" rel=\"noreferrer noopener\" data-za-detail-view-id=\"5799\">和自己和解的 N 种方式</a><a class=\"ExploreRoundtableCard-intro\" href=\"/roundtable/hezijihejie\" target=\"_blank\" rel=\"noreferrer noopener\" data-za-detail-view-id=\"5799\">总是忍不住自责、否定、自我怀疑、莫名 emo……一直和自己较劲，如何学会和自己「和解」呢？尝试开始直面和接纳自己的情绪，对自己宽容，积极改变吧。</a><div class=\"ExploreRoundtableCard-info\"><div class=\"ExploreRoundtableCard-guests\"><img src=\"https://pic3.zhimg.com/50/v2-b63c56197bd8ba5191e09282cfaad786_720w.jpg?source=b1f6dc53\" alt=\"\"/><span>1<!-- --> 位嘉宾参与</span></div><div class=\"ExploreRoundtableCard-count\"><span>429<!-- --> 人关注</span></div></div></div><div class=\"ExploreRoundtableCard-followButton\"><button class=\"ExploreFollowButton ExploreFollowButton--colored\" style=\"color:rgba(179, 145, 125, 1)\">关注圆桌</button></div></div><div class=\"ExploreRoundtableCard-questionList\"><div class=\"ExploreRoundtableCard-questionItem\"><a class=\"ExploreRoundtableCard-questionTitle\" href=\"/question/35710522\" target=\"_blank\" rel=\"noopener noreferrer\" data-za-detail-view-id=\"5800\">长期自卑该如何变得自信？</a><div class=\"ExploreRoundtableCard-questionCounts\"><span>285<!-- --> 个回答</span></div></div><div class=\"ExploreRoundtableCard-questionItem\"><a class=\"ExploreRoundtableCard-questionTitle\" href=\"/question/295483773\" target=\"_blank\" rel=\"noopener noreferrer\" data-za-detail-view-id=\"5800\">有一个控制欲很强的母亲是种怎样的体验？</a><div class=\"ExploreRoundtableCard-questionCounts\"><span>963<!-- --> 个回答</span></div></div><div class=\"ExploreRoundtableCard-questionItem\"><a class=\"ExploreRoundtableCard-questionTitle\" href=\"/question/21939024\" target=\"_blank\" rel=\"noopener noreferrer\" data-za-detail-view-id=\"5800\">负面情绪存在的价值是什么？</a><div class=\"ExploreRoundtableCard-questionCounts\"><span>205<!-- --> 个回答</span></div></div></div></div><div class=\"ExploreRoundtableCard ExploreHomePage-roundtableCard\"><div class=\"ExploreRoundtableCard-headerContainer\" style=\"background-color:#0b192d\"><div class=\"ExploreRoundtableCard-headerBackgrounds\"><div style=\"background-image:url(https://pic1.zhimg.com/50/v2-61d92769639d3401d2660550e6219cf4_hd.jpg?source=b1f6dc53);background-position:center\"></div><div style=\"background:linear-gradient(to right, rgba(11, 25, 45, 1) 0%, rgba(11, 25, 45, 0) 100%\"></div><div style=\"background:linear-gradient(to right, rgba(11, 25, 45, 0.5) 0%, rgba(11, 25, 45, 0) 100%\"></div></div><div class=\"ExploreRoundtableCard-header\"><a class=\"ExploreRoundtableCard-title\" href=\"/roundtable/3cshuma\" target=\"_blank\" rel=\"noreferrer noopener\" data-za-detail-view-id=\"5799\">影音研究所</a><a class=\"ExploreRoundtableCard-intro\" href=\"/roundtable/3cshuma\" target=\"_blank\" rel=\"noreferrer noopener\" data-za-detail-view-id=\"5799\">影音研究所是一个聚焦影音播放技术的热门话题聚集地，涵盖了耳机，耳机、投影仪、音响、回音壁、家庭影院等明星产品。如果你是优秀的创作者，在这里你可以充分的发挥你对于影音技术的了解产出优质的内容；如果你是消费者，这里能给你带来更加详尽的介绍帮你的抉择排坑。</a><div class=\"ExploreRoundtableCard-info\"><div class=\"ExploreRoundtableCard-guests\"><img src=\"https://pic2.zhimg.com/50/v2-e2c0667877c4eef4cacaa0b989ae3139_720w.jpg?source=b1f6dc53\" alt=\"\"/><span>1<!-- --> 位嘉宾参与</span></div><div class=\"ExploreRoundtableCard-count\"><span>49<!-- --> 人关注</span></div></div></div><div class=\"ExploreRoundtableCard-followButton\"><button class=\"ExploreFollowButton ExploreFollowButton--colored\" style=\"color:rgba(11, 25, 45, 1)\">关注圆桌</button></div></div><div class=\"ExploreRoundtableCard-questionList\"><div class=\"ExploreRoundtableCard-questionItem\"><a class=\"ExploreRoundtableCard-questionTitle\" href=\"/question/523448544\" target=\"_blank\" rel=\"noopener noreferrer\" data-za-detail-view-id=\"5800\">真无线音质越来越卷，「同轴双单元」真的是 TWS 音质突破点吗？</a><div class=\"ExploreRoundtableCard-questionCounts\"><span>19<!-- --> 个回答</span></div></div><div class=\"ExploreRoundtableCard-questionItem\"><a class=\"ExploreRoundtableCard-questionTitle\" href=\"/question/283442673\" target=\"_blank\" rel=\"noopener noreferrer\" data-za-detail-view-id=\"5800\">究竟要满足什么样的条件，一个耳机才可以成为监听耳机？</a><div class=\"ExploreRoundtableCard-questionCounts\"><span>4<!-- --> 个回答</span></div></div><div class=\"ExploreRoundtableCard-questionItem\"><a class=\"ExploreRoundtableCard-questionTitle\" href=\"/question/535836678\" target=\"_blank\" rel=\"noopener noreferrer\" data-za-detail-view-id=\"5800\">Hi-Fi 音响的音质能给用户带来哪些体验？</a><div class=\"ExploreRoundtableCard-questionCounts\"><span>2<!-- --> 个回答</span></div></div></div></div><div class=\"ExploreRoundtableCard ExploreHomePage-roundtableCard\"><div class=\"ExploreRoundtableCard-headerContainer\" style=\"background-color:#7D9BB3\"><div class=\"ExploreRoundtableCard-headerBackgrounds\"><div style=\"background-image:url(https://pic1.zhimg.com/50/v2-05250dc9eefc4ea15fcb0d5927a301cf_hd.jpg?source=b1f6dc53);background-position:center\"></div><div style=\"background:linear-gradient(to right, rgba(125, 155, 179, 1) 0%, rgba(125, 155, 179, 0) 100%\"></div><div style=\"background:linear-gradient(to right, rgba(125, 155, 179, 0.5) 0%, rgba(125, 155, 179, 0) 100%\"></div></div><div class=\"ExploreRoundtableCard-header\"><a class=\"ExploreRoundtableCard-title\" href=\"/roundtable/zhichangren2022\" target=\"_blank\" rel=\"noreferrer noopener\" data-za-detail-view-id=\"5799\">职场人的高效「秘籍」</a><a class=\"ExploreRoundtableCard-intro\" href=\"/roundtable/zhichangren2022\" target=\"_blank\" rel=\"noreferrer noopener\" data-za-detail-view-id=\"5799\">职场人如何提高工作效率？你在职场中学到了哪些经验？如何提升自己的工作技能？本期圆桌，和身为职场人的你一起探讨、解决可能遇到的一些工作难题……</a><div class=\"ExploreRoundtableCard-info\"><div class=\"ExploreRoundtableCard-guests\"><img src=\"https://pica.zhimg.com/50/v2-12ef91a3f1e91e70bd3480d755e058b1_720w.jpg?source=b1f6dc53\" alt=\"\"/><img src=\"https://pica.zhimg.com/50/v2-beb44a95b458b3e5bc45849161c0a1ec_720w.jpg?source=b1f6dc53\" alt=\"\"/><img src=\"https://pic1.zhimg.com/50/v2-5a81f17db55e008b2865e574abecf053_720w.jpg?source=b1f6dc53\" alt=\"\"/><span>12<!-- --> 位嘉宾参与</span></div><div class=\"ExploreRoundtableCard-count\"><span>186<!-- --> 人关注</span></div></div></div><div class=\"ExploreRoundtableCard-followButton\"><button class=\"ExploreFollowButton ExploreFollowButton--colored\" style=\"color:rgba(125, 155, 179, 1)\">关注圆桌</button></div></div><div class=\"ExploreRoundtableCard-questionList\"><div class=\"ExploreRoundtableCard-questionItem\"><a class=\"ExploreRoundtableCard-questionTitle\" href=\"/question/32248335\" target=\"_blank\" rel=\"noopener noreferrer\" data-za-detail-view-id=\"5800\">办公中，把 Excel 函数用到极致是种怎样的体验？</a><div class=\"ExploreRoundtableCard-questionCounts\"><span>249<!-- --> 个回答</span></div></div><div class=\"ExploreRoundtableCard-questionItem\"><a class=\"ExploreRoundtableCard-questionTitle\" href=\"/question/452259117\" target=\"_blank\" rel=\"noopener noreferrer\" data-za-detail-view-id=\"5800\">作为程序员的你，有什么给初入职场的程序员的忠告？</a><div class=\"ExploreRoundtableCard-questionCounts\"><span>93<!-- --> 个回答</span></div></div><div class=\"ExploreRoundtableCard-questionItem\"><a class=\"ExploreRoundtableCard-questionTitle\" href=\"/question/536220160\" target=\"_blank\" rel=\"noopener noreferrer\" data-za-detail-view-id=\"5800\">程序员到了 35 岁后还能从事计算机相关的工作吗？</a><div class=\"ExploreRoundtableCard-questionCounts\"><span>76<!-- --> 个回答</span></div></div></div></div></div></div><div class=\"ExploreHomePage-ContentSection-moreButton\"><a target=\"_blank\" rel=\"noreferrer noopener\" data-za-detail-view-id=\"5802\" href=\"/roundtable\">查看更多圆桌<svg width=\"25\" height=\"25\" viewBox=\"0 0 24 24\" data-new-api=\"ArrowRightSmall24\" data-old-api=\"ArrowRight\" class=\"Zi Zi--ArrowRight\" fill=\"currentColor\"><path d=\"M13.248 12l-4.025 3.78a.684.684 0 000 1.01.796.796 0 001.075 0l4.42-4.15a.867.867 0 000-1.28l-4.42-4.15a.796.796 0 00-1.075 0 .684.684 0 000 1.01L13.248 12z\" fill-rule=\"evenodd\" clip-rule=\"evenodd\"></path></svg></a></div></div><div class=\"ExploreHomePage-ContentSection ExploreHomePage-section\" id=\"collection\"><div class=\"ExploreHomePage-ContentSection-header\"><svg width=\"36\" height=\"36\" viewBox=\"0 0 24 24\" data-new-api=\"StarFill24\" data-old-api=\"Star\" class=\"Zi Zi--Star\" fill=\"currentColor\"><path d=\"M10.484 3.307c.673-1.168 2.358-1.168 3.032 0l2.377 4.122a.25.25 0 00.165.12l4.655.987c1.319.28 1.84 1.882.937 2.884l-3.186 3.535a.25.25 0 00-.063.193l.5 4.733c.142 1.34-1.222 2.33-2.453 1.782l-4.346-1.938a.25.25 0 00-.204 0l-4.346 1.938c-1.231.549-2.595-.442-2.453-1.782l.5-4.733a.25.25 0 00-.064-.193L2.35 11.42c-.903-1.002-.382-2.604.937-2.884l4.655-.987a.25.25 0 00.164-.12l2.378-4.122z\"></path></svg><span>热门收藏夹</span></div><div class=\"ExploreHomePage-ContentSection-body\"><div class=\"ExploreHomePage-collections\"><div class=\"ExploreCollectionCard ExploreHomePage-collectionCard\"><div class=\"ExploreCollectionCard-header\"><div class=\"ExploreCollectionCard-info\"><a class=\"ExploreCollectionCard-title\" href=\"/collection/39266299\" target=\"_blank\" rel=\"noopener noreferrer\" data-za-detail-view-id=\"5804\" data-za-detail-view-name=\"标题点击\">实用技能</a><div class=\"ExploreCollectionCard-relatedMembers\"><div class=\"ExploreCollectionCard-creator\"><span class=\"UserLink ExploreCollectionCard-creatorAvatar\"><a class=\"UserLink-link\" data-za-detail-view-element_name=\"User\" target=\"_blank\" data-za-detail-view-id=\"5806\" href=\"//www.zhihu.com/people/zhi-xin-wei-r\"><img class=\"Avatar UserLink-avatar\" width=\"28\" height=\"28\" src=\"https://picx.zhimg.com/b746b6bede4e35cf54f21c77a95ee409_is.jpg?source=0df5f383\" srcSet=\"https://picx.zhimg.com/b746b6bede4e35cf54f21c77a95ee409_im.jpg?source=0df5f383 2x\" alt=\"1983\"/></a></span><a class=\"ExploreCollectionCard-creatorName\" href=\"/people/zhi-xin-wei-r\" target=\"_blank\" rel=\"noopener noreferrer\" data-za-detail-view-id=\"5806\">1983</a><span class=\"ExploreCollectionCard-creatorSuffix\">创建</span></div><div class=\"ExploreCollectionCard-followers\">11,728<!-- --> 人关注</div></div></div><div class=\"ExploreCollectionCard-followButton\"><button class=\"ExploreFollowButton\">关注收藏夹</button></div></div><div class=\"ExploreCollectionCard-contentList\"><div class=\"ExploreCollectionCard-contentItem\"><a class=\"ExploreCollectionCard-contentTitle\" href=\"https://www.zhihu.com/answer/2535697118\" target=\"_blank\" rel=\"noopener noreferrer\" data-za-detail-view-id=\"5807\">遇到一天到晚用繁体装逼的人怎么办？</a><div class=\"ExploreCollectionCard-contentExcerpt\">黎一一：问他一个问题，“祝英台”繁体字怎么写？ 他要是告诉你就写作“祝英台”，那么你就忍着吧，人家有这个资格。 要是他写成其他的，比如“祝英臺”，那么你尽管去嘲讽他叶公好龙，喜欢用繁体字装逼。 这是我在B站看到的一个弹幕。 “唯一的遗憾，祝英台写成了简体。” [图片] [图片] 我一脸懵逼，有没有一种可能，祝英台的繁体就是祝英台呢？ 这是1954年版的《梁山伯与祝英台》 [图片] 这是李翰祥版《梁山伯与祝英台》 [图片] 这是民国大达图书局刊行的《梁山伯…</div><div class=\"ExploreCollectionCard-contentTags\"><span class=\"ExploreCollectionCard-contentTypeTag\">回答</span><span class=\"ExploreCollectionCard-contentCountTag\">3,397 赞同</span><span class=\"ExploreCollectionCard-contentCountTag\">494 评论</span></div></div><div class=\"ExploreCollectionCard-contentItem\"><a class=\"ExploreCollectionCard-contentTitle\" href=\"https://zhuanlan.zhihu.com/p/480188393\" target=\"_blank\" rel=\"noopener noreferrer\" data-za-detail-view-id=\"5807\">那些冷门却很惊艳的四字成语，收藏！</a><div class=\"ExploreCollectionCard-contentExcerpt\">萝卜：1，坠兔收光：月亮落下 2，漱石枕流：隐居生活 3，屡变星霜：岁月更换 4，枕山襟海：靠山依海 5，沤珠槿艳：短暂的幻景 6，夭桃秾李：年少美貌 7，千岁鹤归：对故乡的眷恋之情 8，珠翠之珍：水陆所产的美味食物 9，杳霭流玉：无声云雾像流动的玉一样 10，月…</div><div class=\"ExploreCollectionCard-contentTags\"><span class=\"ExploreCollectionCard-contentTypeTag\">文章</span><span class=\"ExploreCollectionCard-contentCountTag\">5,598 赞同</span><span class=\"ExploreCollectionCard-contentCountTag\">111 评论</span></div></div></div><a class=\"ExploreCollectionCard-collectedContentCount\" href=\"/collection/39266299\" target=\"_blank\" rel=\"noopener noreferrer\" data-za-detail-view-id=\"5804\" data-za-detail-view-name=\"已收藏点击\">已收藏 <!-- -->9,087<!-- --> 条内容<svg width=\"24\" height=\"24\" viewBox=\"0 0 24 24\" data-new-api=\"ArrowRightSmall24\" data-old-api=\"ArrowRight\" class=\"Zi Zi--ArrowRight\" fill=\"currentColor\"><path d=\"M13.248 12l-4.025 3.78a.684.684 0 000 1.01.796.796 0 001.075 0l4.42-4.15a.867.867 0 000-1.28l-4.42-4.15a.796.796 0 00-1.075 0 .684.684 0 000 1.01L13.248 12z\" fill-rule=\"evenodd\" clip-rule=\"evenodd\"></path></svg></a></div><div class=\"ExploreCollectionCard ExploreHomePage-collectionCard\"><div class=\"ExploreCollectionCard-header\"><div class=\"ExploreCollectionCard-info\"><a class=\"ExploreCollectionCard-title\" href=\"/collection/64234065\" target=\"_blank\" rel=\"noopener noreferrer\" data-za-detail-view-id=\"5804\" data-za-detail-view-name=\"标题点击\">冷门但是良心</a><div class=\"ExploreCollectionCard-relatedMembers\"><div class=\"ExploreCollectionCard-creator\"><span class=\"UserLink ExploreCollectionCard-creatorAvatar\"><a class=\"UserLink-link\" data-za-detail-view-element_name=\"User\" target=\"_blank\" data-za-detail-view-id=\"5806\" href=\"//www.zhihu.com/people/zhi-xin-wei-r\"><img class=\"Avatar UserLink-avatar\" width=\"28\" height=\"28\" src=\"https://picx.zhimg.com/b746b6bede4e35cf54f21c77a95ee409_is.jpg?source=0df5f383\" srcSet=\"https://picx.zhimg.com/b746b6bede4e35cf54f21c77a95ee409_im.jpg?source=0df5f383 2x\" alt=\"1983\"/></a></span><a class=\"ExploreCollectionCard-creatorName\" href=\"/people/zhi-xin-wei-r\" target=\"_blank\" rel=\"noopener noreferrer\" data-za-detail-view-id=\"5806\">1983</a><span class=\"ExploreCollectionCard-creatorSuffix\">创建</span></div><div class=\"ExploreCollectionCard-followers\">2,369<!-- --> 人关注</div></div></div><div class=\"ExploreCollectionCard-followButton\"><button class=\"ExploreFollowButton\">关注收藏夹</button></div></div><div class=\"ExploreCollectionCard-contentList\"><div class=\"ExploreCollectionCard-contentItem\"><a class=\"ExploreCollectionCard-contentTitle\" href=\"https://www.zhihu.com/answer/2310932585\" target=\"_blank\" rel=\"noopener noreferrer\" data-za-detail-view-id=\"5807\">长大后，你明白了哪些不一样的道理？</a><div class=\"ExploreCollectionCard-contentExcerpt\">温文道叔：1、出来混，就不能怂，自己都觉得低人一等，别人更看不起你。 有些人遇到大佬，说话都发抖。就问你怕个啥？你花他钱了？吃他大米了？做过对不起他的事了？ 越卑微，别人觉得你越弱，不如挺直腰杆，勇于表达自我，更容易赢得尊重。 2、适当培养你的钝感力。 遇事就崩，对犯过的错误耿耿于怀，别人一个眼神，就觉得别人在说自己坏话。带着这样的想法，久而久之，自己都神经衰弱了。 其实，谁都可能遇见糟糕的事，谁也都犯过错误，…</div><div class=\"ExploreCollectionCard-contentTags\"><span class=\"ExploreCollectionCard-contentTypeTag\">回答</span><span class=\"ExploreCollectionCard-contentCountTag\">1,945 赞同</span><span class=\"ExploreCollectionCard-contentCountTag\">38 评论</span></div></div><div class=\"ExploreCollectionCard-contentItem\"><a class=\"ExploreCollectionCard-contentTitle\" href=\"https://zhuanlan.zhihu.com/p/530478625\" target=\"_blank\" rel=\"noopener noreferrer\" data-za-detail-view-id=\"5807\">如何摆脱原生家庭的影响</a><div class=\"ExploreCollectionCard-contentExcerpt\">军哥：1.绝不主动联系。 2.任何辩理立即停止，即使你是对的。 3.绝不做任何取悦父母、感动父母的事。 4.只负责父母病了给他们送医院，得到应有的治疗。其他的和你无关。 5.遭遇道德绑架立即挂电话，立即离场，立即拉黑，绝不对视，绝不辩解，绝不回头。 6.永远不…</div><div class=\"ExploreCollectionCard-contentTags\"><span class=\"ExploreCollectionCard-contentTypeTag\">文章</span><span class=\"ExploreCollectionCard-contentCountTag\">358 赞同</span><span class=\"ExploreCollectionCard-contentCountTag\">138 评论</span></div></div></div><a class=\"ExploreCollectionCard-collectedContentCount\" href=\"/collection/64234065\" target=\"_blank\" rel=\"noopener noreferrer\" data-za-detail-view-id=\"5804\" data-za-detail-view-name=\"已收藏点击\">已收藏 <!-- -->1,256<!-- --> 条内容<svg width=\"24\" height=\"24\" viewBox=\"0 0 24 24\" data-new-api=\"ArrowRightSmall24\" data-old-api=\"ArrowRight\" class=\"Zi Zi--ArrowRight\" fill=\"currentColor\"><path d=\"M13.248 12l-4.025 3.78a.684.684 0 000 1.01.796.796 0 001.075 0l4.42-4.15a.867.867 0 000-1.28l-4.42-4.15a.796.796 0 00-1.075 0 .684.684 0 000 1.01L13.248 12z\" fill-rule=\"evenodd\" clip-rule=\"evenodd\"></path></svg></a></div><div class=\"ExploreCollectionCard ExploreHomePage-collectionCard\"><div class=\"ExploreCollectionCard-header\"><div class=\"ExploreCollectionCard-info\"><a class=\"ExploreCollectionCard-title\" href=\"/collection/132813470\" target=\"_blank\" rel=\"noopener noreferrer\" data-za-detail-view-id=\"5804\" data-za-detail-view-name=\"标题点击\">正港干货</a><div class=\"ExploreCollectionCard-relatedMembers\"><div class=\"ExploreCollectionCard-creator\"><span class=\"UserLink ExploreCollectionCard-creatorAvatar\"><a class=\"UserLink-link\" data-za-detail-view-element_name=\"User\" target=\"_blank\" data-za-detail-view-id=\"5806\" href=\"//www.zhihu.com/people/zhi-xin-wei-r\"><img class=\"Avatar UserLink-avatar\" width=\"28\" height=\"28\" src=\"https://pic3.zhimg.com/b746b6bede4e35cf54f21c77a95ee409_is.jpg?source=0df5f383\" srcSet=\"https://pic3.zhimg.com/b746b6bede4e35cf54f21c77a95ee409_im.jpg?source=0df5f383 2x\" alt=\"1983\"/></a></span><a class=\"ExploreCollectionCard-creatorName\" href=\"/people/zhi-xin-wei-r\" target=\"_blank\" rel=\"noopener noreferrer\" data-za-detail-view-id=\"5806\">1983</a><span class=\"ExploreCollectionCard-creatorSuffix\">创建</span></div><div class=\"ExploreCollectionCard-followers\">930<!-- --> 人关注</div></div></div><div class=\"ExploreCollectionCard-followButton\"><button class=\"ExploreFollowButton\">关注收藏夹</button></div></div><div class=\"ExploreCollectionCard-contentList\"><div class=\"ExploreCollectionCard-contentItem\"><a class=\"ExploreCollectionCard-contentTitle\" href=\"https://www.zhihu.com/answer/2498982065\" target=\"_blank\" rel=\"noopener noreferrer\" data-za-detail-view-id=\"5807\">如何评价韦慧晓成为中国海军首位女舰长，掌舵新型主力战舰？</a><div class=\"ExploreCollectionCard-contentExcerpt\">薛定谔的狗：其实现在好多年轻学生看不明白有些简历光辉灿烂的二代们的上位历程，大专毕业然后猛地破格提拔都是粗糙操作的老黄历了。现在流行的就是打怪升级式的提拔。 以我所服务过的某银行为例，一个二代的基操就是先去澳洲刷本科，本科读完以后去英美刷一年制硕士，然后回国进银行网点，3个月的前台，3个月的客户经理，然后支行长助理、支行长，一年内调往市分行机关，1-2年内轮岗多个部门，然后成为部门总，然后借调省分行，在某实权部门…</div><div class=\"ExploreCollectionCard-contentTags\"><span class=\"ExploreCollectionCard-contentTypeTag\">回答</span><span class=\"ExploreCollectionCard-contentCountTag\">6,744 赞同</span><span class=\"ExploreCollectionCard-contentCountTag\">669 评论</span></div></div><div class=\"ExploreCollectionCard-contentItem\"><a class=\"ExploreCollectionCard-contentTitle\" href=\"https://www.zhihu.com/answer/348253297\" target=\"_blank\" rel=\"noopener noreferrer\" data-za-detail-view-id=\"5807\">有哪些原本只是一个小消息，但回看发现是个惊天大新闻的例子？</a><div class=\"ExploreCollectionCard-contentExcerpt\">CauchyRiemann：1854年的一天，德国一位年轻人为了获得一个讲师的职位，需要做一次入职演讲，演讲的题目由大数学家高斯来指定，根据以往的潜规则，主考官会在前两个题目中挑选一个，可是高斯直接跳过了前两个题目选择了第三个——关于几何学基础的研究。因为他也花费了几十年时间来思考这个问题，他想听听这个年轻人是如何看待这个问题的。 年轻人大吃一惊，尼玛，不按套路出牌啊！于是只好硬着头皮加班加点赶工，在多花了7个星期以后总算拿出了…</div><div class=\"ExploreCollectionCard-contentTags\"><span class=\"ExploreCollectionCard-contentTypeTag\">回答</span><span class=\"ExploreCollectionCard-contentCountTag\">6,469 赞同</span><span class=\"ExploreCollectionCard-contentCountTag\">132 评论</span></div></div></div><a class=\"ExploreCollectionCard-collectedContentCount\" href=\"/collection/132813470\" target=\"_blank\" rel=\"noopener noreferrer\" data-za-detail-view-id=\"5804\" data-za-detail-view-name=\"已收藏点击\">已收藏 <!-- -->3,695<!-- --> 条内容<svg width=\"24\" height=\"24\" viewBox=\"0 0 24 24\" data-new-api=\"ArrowRightSmall24\" data-old-api=\"ArrowRight\" class=\"Zi Zi--ArrowRight\" fill=\"currentColor\"><path d=\"M13.248 12l-4.025 3.78a.684.684 0 000 1.01.796.796 0 001.075 0l4.42-4.15a.867.867 0 000-1.28l-4.42-4.15a.796.796 0 00-1.075 0 .684.684 0 000 1.01L13.248 12z\" fill-rule=\"evenodd\" clip-rule=\"evenodd\"></path></svg></a></div><div class=\"ExploreCollectionCard ExploreHomePage-collectionCard\"><div class=\"ExploreCollectionCard-header\"><div class=\"ExploreCollectionCard-info\"><a class=\"ExploreCollectionCard-title\" href=\"/collection/139584344\" target=\"_blank\" rel=\"noopener noreferrer\" data-za-detail-view-id=\"5804\" data-za-detail-view-name=\"标题点击\">考证·时机未到</a><div class=\"ExploreCollectionCard-relatedMembers\"><div class=\"ExploreCollectionCard-creator\"><span class=\"UserLink ExploreCollectionCard-creatorAvatar\"><a class=\"UserLink-link\" data-za-detail-view-element_name=\"User\" target=\"_blank\" data-za-detail-view-id=\"5806\" href=\"//www.zhihu.com/people/zhi-xin-wei-r\"><img class=\"Avatar UserLink-avatar\" width=\"28\" height=\"28\" src=\"https://pic2.zhimg.com/b746b6bede4e35cf54f21c77a95ee409_is.jpg?source=0df5f383\" srcSet=\"https://pic2.zhimg.com/b746b6bede4e35cf54f21c77a95ee409_im.jpg?source=0df5f383 2x\" alt=\"1983\"/></a></span><a class=\"ExploreCollectionCard-creatorName\" href=\"/people/zhi-xin-wei-r\" target=\"_blank\" rel=\"noopener noreferrer\" data-za-detail-view-id=\"5806\">1983</a><span class=\"ExploreCollectionCard-creatorSuffix\">创建</span></div><div class=\"ExploreCollectionCard-followers\">547<!-- --> 人关注</div></div></div><div class=\"ExploreCollectionCard-followButton\"><button class=\"ExploreFollowButton\">关注收藏夹</button></div></div><div class=\"ExploreCollectionCard-contentList\"><div class=\"ExploreCollectionCard-contentItem\"><a class=\"ExploreCollectionCard-contentTitle\" href=\"https://www.zhihu.com/answer/2529679435\" target=\"_blank\" rel=\"noopener noreferrer\" data-za-detail-view-id=\"5807\">有没有可能房产税最近十年压根就不会收了？</a><div class=\"ExploreCollectionCard-contentExcerpt\">硕鼠：房产税刚提出时，就卡在一个问题上了：跨省统计个人房产。技术上不难，但如果实现，相当于公务员的亲属们，对公众暴露了不动产总量。 --- 生造一个例子：一个大学科研处的闲差岗位，个税肯定会在单位里曝光的。大家突然发现，她在北京、青岛、大连、上海，各有几套价值数千万的房子。那么她的处长也会妒忌她的，于是在科长会议上说，这个人当初是省里的谁谁谁，通过副校长塞给我的。最后就是全校、全社会传开。 所以，可行性的…</div><div class=\"ExploreCollectionCard-contentTags\"><span class=\"ExploreCollectionCard-contentTypeTag\">回答</span><span class=\"ExploreCollectionCard-contentCountTag\">2,626 赞同</span><span class=\"ExploreCollectionCard-contentCountTag\">374 评论</span></div></div><div class=\"ExploreCollectionCard-contentItem\"><a class=\"ExploreCollectionCard-contentTitle\" href=\"https://www.zhihu.com/answer/2533543727\" target=\"_blank\" rel=\"noopener noreferrer\" data-za-detail-view-id=\"5807\">郑州市纪委监委启动对赋红码问题调查问责程序，哪些信息值得关注？</a><div class=\"ExploreCollectionCard-contentExcerpt\">一觉醒来又赢了：这次河南最大的问题是步子迈大了扯着蛋。从健康码诞生的第一天开始，其本质就是管控人的。顺民绿码其他红码。河南只不过把这玩意的原始属性展现出来。 只是在实施过程中忘记了要温水煮青蛙。诚然现在的民众与十年前的不可同日而语，但毕竟改革开放几十年，社会上还是有那么点现代文明思想残余。 正确的最做法是先搞宣传，说通过健康码捉了哪些逃犯，控制住多少老赖，让人们知道健康码还有这些好处。然后再慢慢推广到全社会，成维…</div><div class=\"ExploreCollectionCard-contentTags\"><span class=\"ExploreCollectionCard-contentTypeTag\">回答</span><span class=\"ExploreCollectionCard-contentCountTag\">1,612 赞同</span><span class=\"ExploreCollectionCard-contentCountTag\">145 评论</span></div></div></div><a class=\"ExploreCollectionCard-collectedContentCount\" href=\"/collection/139584344\" target=\"_blank\" rel=\"noopener noreferrer\" data-za-detail-view-id=\"5804\" data-za-detail-view-name=\"已收藏点击\">已收藏 <!-- -->2,363<!-- --> 条内容<svg width=\"24\" height=\"24\" viewBox=\"0 0 24 24\" data-new-api=\"ArrowRightSmall24\" data-old-api=\"ArrowRight\" class=\"Zi Zi--ArrowRight\" fill=\"currentColor\"><path d=\"M13.248 12l-4.025 3.78a.684.684 0 000 1.01.796.796 0 001.075 0l4.42-4.15a.867.867 0 000-1.28l-4.42-4.15a.796.796 0 00-1.075 0 .684.684 0 000 1.01L13.248 12z\" fill-rule=\"evenodd\" clip-rule=\"evenodd\"></path></svg></a></div></div></div><div class=\"ExploreHomePage-ContentSection-moreButton\"><a target=\"_blank\" rel=\"noreferrer noopener\" data-za-detail-view-id=\"5808\" href=\"/collection/hot\">查看更多收藏夹<svg width=\"25\" height=\"25\" viewBox=\"0 0 24 24\" data-new-api=\"ArrowRightSmall24\" data-old-api=\"ArrowRight\" class=\"Zi Zi--ArrowRight\" fill=\"currentColor\"><path d=\"M13.248 12l-4.025 3.78a.684.684 0 000 1.01.796.796 0 001.075 0l4.42-4.15a.867.867 0 000-1.28l-4.42-4.15a.796.796 0 00-1.075 0 .684.684 0 000 1.01L13.248 12z\" fill-rule=\"evenodd\" clip-rule=\"evenodd\"></path></svg></a></div></div><div class=\"ExploreHomePage-ContentSection ExploreHomePage-section\" id=\"column\"><div class=\"ExploreHomePage-ContentSection-header\"><svg width=\"36\" height=\"36\" viewBox=\"0 0 24 24\" data-new-api=\"PencilCircleFill24\" data-old-api=\"EditCircle\" class=\"Zi Zi--EditCircle\" fill=\"currentColor\"><path d=\"M14.183 11.576l-1.759-1.759-2.662 2.546-.967.925-.47 2.387 2.387-.47 2.476-2.59.995-1.04zm1.015-1.062l.62-.665c.103-.109.18-.232.232-.363l.001-.002c.024-.06.044-.122.057-.185l.003-.012a1.18 1.18 0 00-1.571-1.348l-.024.01c-.132.053-.256.13-.365.232l-.665.62-.122.117 1.718 1.718.116-.122z\"></path><path d=\"M12 22c5.523 0 10-4.477 10-10S17.523 2 12 2 2 6.477 2 12s4.477 10 10 10zm4.71-14.71a2.48 2.48 0 00-3.446-.06l-.665.62-.003.004-.006.005-4.574 4.376-.13.125a1.25 1.25 0 00-.363.661l-.545 2.768a1.05 1.05 0 001.233 1.234l2.768-.546a1.25 1.25 0 00.662-.362l3.228-3.375 1.272-1.33.005-.006.623-.668a2.485 2.485 0 00.414-.6 2.481 2.481 0 00-.473-2.846zm-1.512 3.224l.62-.665c.103-.109.18-.232.232-.363l.001-.002c.024-.06.044-.122.057-.185l.003-.012a1.18 1.18 0 00-1.571-1.348l-.024.01c-.132.053-.256.13-.365.232l-.665.62-.122.117 1.718 1.718.116-.122zm-1.015 1.062l-1.759-1.759-2.662 2.546-.967.925-.47 2.387 2.387-.47 2.476-2.59.995-1.04z\" fill-rule=\"evenodd\" clip-rule=\"evenodd\"></path></svg><span>专栏</span></div><div class=\"ExploreHomePage-ContentSection-body\"><div class=\"ExploreHomePage-columns\"><div class=\"ExploreColumnCard ExploreHomePage-columnCard\"><a class=\"ExploreColumnCard-avatar\" href=\"https://www.zhihu.com/column/newsilkroad\" target=\"_blank\" rel=\"noreferrer noopener\" data-za-detail-view-id=\"5810\" data-za-detail-view-name=\"专栏头像点击\"><img src=\"https://pic1.zhimg.com/v2-b948868a0183cad5d3135f78190bb33b_xl.jpg?source=d16d100b\" alt=\"点击打开专栏\"/></a><a class=\"ExploreColumnCard-title\" href=\"https://www.zhihu.com/column/newsilkroad\" target=\"_blank\" rel=\"noreferrer noopener\" data-za-detail-view-id=\"5810\" data-za-detail-view-name=\"专栏名称点击\">一带一路一故事</a><div class=\"ExploreColumnCard-count\"><span>2,690<!-- --> 关注</span><span>699<!-- --> 文章</span></div><div class=\"ExploreColumnCard-intro\">以鲜明的观点，深度的调查分析，独立和全球化的视角</div><button class=\"ExploreColumnCard-entryButton\">进入专栏</button></div><div class=\"ExploreColumnCard ExploreHomePage-columnCard\"><a class=\"ExploreColumnCard-avatar\" href=\"https://www.zhihu.com/column/guanshu2017\" target=\"_blank\" rel=\"noreferrer noopener\" data-za-detail-view-id=\"5810\" data-za-detail-view-name=\"专栏头像点击\"><img src=\"https://pic1.zhimg.com/v2-895ef0fbff355cdf40c1a7258370767a_xl.jpg?source=d16d100b\" alt=\"点击打开专栏\"/></a><a class=\"ExploreColumnCard-title\" href=\"https://www.zhihu.com/column/guanshu2017\" target=\"_blank\" rel=\"noreferrer noopener\" data-za-detail-view-id=\"5810\" data-za-detail-view-name=\"专栏名称点击\">山僧独向山中老</a><div class=\"ExploreColumnCard-count\"><span>2,051<!-- --> 关注</span><span>160<!-- --> 文章</span></div><div class=\"ExploreColumnCard-intro\">虽知政法哲史，难处无常世事。</div><button class=\"ExploreColumnCard-entryButton\">进入专栏</button></div><div class=\"ExploreColumnCard ExploreHomePage-columnCard\"><a class=\"ExploreColumnCard-avatar\" href=\"https://www.zhihu.com/column/xuehy\" target=\"_blank\" rel=\"noreferrer noopener\" data-za-detail-view-id=\"5810\" data-za-detail-view-name=\"专栏头像点击\"><img src=\"https://pic1.zhimg.com/v2-3d9f3db16693b20a695d49c9b49a6f7a_xl.jpg?source=d16d100b\" alt=\"点击打开专栏\"/></a><a class=\"ExploreColumnCard-title\" href=\"https://www.zhihu.com/column/xuehy\" target=\"_blank\" rel=\"noreferrer noopener\" data-za-detail-view-id=\"5810\" data-za-detail-view-name=\"专栏名称点击\">薛洪言微语</a><div class=\"ExploreColumnCard-count\"><span>7,551<!-- --> 关注</span><span>661<!-- --> 文章</span></div><div class=\"ExploreColumnCard-intro\">享受深度思考的乐趣</div><button class=\"ExploreColumnCard-entryButton\">进入专栏</button></div><div class=\"ExploreColumnCard ExploreHomePage-columnCard\"><a class=\"ExploreColumnCard-avatar\" href=\"https://www.zhihu.com/column/ota0021\" target=\"_blank\" rel=\"noreferrer noopener\" data-za-detail-view-id=\"5810\" data-za-detail-view-name=\"专栏头像点击\"><img src=\"https://pic3.zhimg.com/4b70deef7_xl.jpg?source=d16d100b\" alt=\"点击打开专栏\"/></a><a class=\"ExploreColumnCard-title\" href=\"https://www.zhihu.com/column/ota0021\" target=\"_blank\" rel=\"noreferrer noopener\" data-za-detail-view-id=\"5810\" data-za-detail-view-name=\"专栏名称点击\">Travel星辰大海--旅游行业进阶提升</a><div class=\"ExploreColumnCard-count\"><span>3,634<!-- --> 关注</span><span>214<!-- --> 文章</span></div><div class=\"ExploreColumnCard-intro\">许义，只放干货，内容原创，关注旅游创业/旅游互联网</div><button class=\"ExploreColumnCard-entryButton\">进入专栏</button></div></div></div><div class=\"ExploreHomePage-ContentSection-moreButton\"><a target=\"_blank\" rel=\"noreferrer noopener\" data-za-detail-view-id=\"5811\" href=\"https://zhuanlan.zhihu.com\">查看更多专栏<svg width=\"25\" height=\"25\" viewBox=\"0 0 24 24\" data-new-api=\"ArrowRightSmall24\" data-old-api=\"ArrowRight\" class=\"Zi Zi--ArrowRight\" fill=\"currentColor\"><path d=\"M13.248 12l-4.025 3.78a.684.684 0 000 1.01.796.796 0 001.075 0l4.42-4.15a.867.867 0 000-1.28l-4.42-4.15a.796.796 0 00-1.075 0 .684.684 0 000 1.01L13.248 12z\" fill-rule=\"evenodd\" clip-rule=\"evenodd\"></path></svg></a></div></div><footer class=\"PageBottomFooter ExploreHomePage-footer\"><a href=\"https://liukanshan.zhihu.com\" target=\"_blank\" rel=\"noopener noreferrer\">刘看山</a><a href=\"https://www.zhihu.com/question/19581624\" target=\"_blank\" rel=\"noopener noreferrer\">知乎指南</a><a href=\"https://www.zhihu.com/term/zhihu-terms\" target=\"_blank\" rel=\"noopener noreferrer\">知乎协议</a><a href=\"https://www.zhihu.com/app\" target=\"_blank\" rel=\"noopener noreferrer\">应用</a><a href=\"https://app.mokahr.com/apply/zhihu/3819\" target=\"_blank\" rel=\"noopener noreferrer\">工作</a><a href=\"https://www.zhihu.com/contact\" target=\"_blank\" rel=\"noopener noreferrer\">联系我们</a><span>© <!-- -->2022<!-- --> 知乎</span></footer></div></main><div data-zop-usertoken=\"{}\"></div></div></div><script id=\"js-clientConfig\" type=\"text/json\">{\"fetchRoot\":{\"www\":\"https:\\\\u002F\\\\u002Fwww.zhihu.com\",\"api\":\"https:\\\\u002F\\\\u002Fapi.zhihu.com\",\"lens\":\"https:\\\\u002F\\\\u002Flens.zhihu.com\",\"zhuanlan\":\"https:\\\\u002F\\\\u002Fzhuanlan.zhihu.com\",\"walletpay\":\"https:\\\\u002F\\\\u002Fwalletpay.zhihu.com\",\"captcha\":\"https:\\\\u002F\\\\u002Fcaptcha.zhihu.com\",\"vzuu\":\"https:\\\\u002F\\\\u002Fv.vzuu.com\",\"openapi\":\"https:\\\\u002F\\\\u002Fopenapi.zhihu.com\",\"svip\":\"https:\\\\u002F\\\\u002Fsvip.zhihu.com\"},\"host\":\"zhihu.com\",\"protocol\":\"https:\",\"wwwHost\":\"www.zhihu.com\",\"videoHost\":\"video.zhihu.com\",\"allowSignUp\":true}</script><script id=\"js-initialData\" type=\"text/json\">{\"initialState\":{\"common\":{\"ask\":{}},\"loading\":{\"global\":{\"count\":0},\"local\":{\"explore\\\\u002FgetLatestSpecials\\\\u002F\":false,\"explore\\\\u002FgetLatestRoundtables\\\\u002F\":false,\"explore\\\\u002FgetHotCollections\\\\u002F\":false,\"explore\\\\u002FgetRecommendColumns\\\\u002F\":false,\"explore\\\\u002FgetRecentHotQuestion\\\\u002F\":false,\"explore\\\\u002FgetPotentialQuestion\\\\u002F\":false,\"creator\\\\u002FgetToolsHotspotDomainList\\\\u002F\":false}},\"club\":{\"tags\":{},\"admins\":{\"data\":[]},\"members\":{\"data\":[]},\"explore\":{\"candidateSyncClubs\":{}},\"profile\":{},\"checkin\":{},\"comments\":{\"paging\":{},\"loading\":{},\"meta\":{},\"ids\":{}},\"postList\":{\"paging\":{},\"loading\":{},\"ids\":{}},\"recommend\":{\"data\":[]},\"silences\":{\"data\":[]},\"application\":{\"profile\":null}},\"entities\":{\"users\":{},\"questions\":{},\"answers\":{},\"articles\":{},\"columns\":{},\"topics\":{},\"roundtables\":{},\"favlists\":{},\"comments\":{},\"notifications\":{},\"ebooks\":{},\"activities\":{},\"feeds\":{},\"pins\":{},\"promotions\":{},\"drafts\":{},\"chats\":{},\"posts\":{},\"clubs\":{},\"clubTags\":{},\"zvideos\":{},\"zvideoContributions\":{},\"briefs\":{},\"eduCourses\":{}},\"currentUser\":\"\",\"account\":{\"lockLevel\":{},\"unlockTicketStatus\":false,\"unlockTicket\":null,\"challenge\":[],\"errorStatus\":false,\"message\":\"\",\"isFetching\":false,\"accountInfo\":{},\"urlToken\":{\"loading\":false},\"cardUserInfo\":{\"vipInfo\":{}},\"handleWidget\":{},\"widgetList\":[],\"userWidgetId\":\"\"},\"settings\":{\"socialBind\":null,\"inboxMsg\":null,\"notification\":{},\"email\":{},\"privacyFlag\":null,\"blockedUsers\":{\"isFetching\":false,\"paging\":{\"pageNo\":1,\"pageSize\":6},\"data\":[]},\"blockedFollowees\":{\"isFetching\":false,\"paging\":{\"pageNo\":1,\"pageSize\":6},\"data\":[]},\"ignoredTopics\":{\"isFetching\":false,\"paging\":{\"pageNo\":1,\"pageSize\":6},\"data\":[]},\"restrictedTopics\":null,\"laboratory\":{}},\"notification\":{},\"people\":{\"profileStatus\":{},\"activitiesByUser\":{},\"answersByUser\":{},\"answersSortByVotesByUser\":{},\"answersIncludedByUser\":{},\"votedAnswersByUser\":{},\"thankedAnswersByUser\":{},\"voteAnswersByUser\":{},\"thankAnswersByUser\":{},\"topicAnswersByUser\":{},\"zvideosByUser\":{},\"articlesByUser\":{},\"articlesSortByVotesByUser\":{},\"articlesIncludedByUser\":{},\"pinsByUser\":{},\"questionsByUser\":{},\"commercialQuestionsByUser\":{},\"favlistsByUser\":{},\"followingByUser\":{},\"followersByUser\":{},\"mutualsByUser\":{},\"followingColumnsByUser\":{},\"followingQuestionsByUser\":{},\"followingFavlistsByUser\":{},\"followingTopicsByUser\":{},\"publicationsByUser\":{},\"columnsByUser\":{},\"allFavlistsByUser\":{},\"brands\":null,\"creationsByUser\":{},\"creationsSortByVotesByUser\":{},\"creationsFeed\":{},\"infinity\":{},\"batchUsers\":{},\"profileInfinity\":null},\"env\":{\"ab\":{\"config\":{\"params\":[{\"id\":\"zse_3\",\"type\":\"Int\",\"value\":\"0\",\"layerId\":\"zse_3\"},{\"id\":\"helpcenter_pc\",\"type\":\"Int\",\"value\":\"0\",\"layerId\":\"helpcenter_pc\"},{\"id\":\"pc_comment\",\"type\":\"Int\",\"value\":\"0\",\"layerId\":\"EsOR\"},{\"id\":\"creator_manage\",\"type\":\"Int\",\"value\":\"0\",\"chainId\":\"_gene_\",\"layerId\":\"creator_manage\",\"key\":2400},{\"id\":\"titlepagechoose\",\"type\":\"Int\",\"value\":\"0\",\"layerId\":\"titlepagechoose\"},{\"id\":\"pc_ppt_publish\",\"type\":\"Int\",\"value\":\"0\",\"layerId\":\"pc_ppt_publish\"},{\"id\":\"linkcard\",\"type\":\"Int\",\"value\":\"0\",\"layerId\":\"linkcard\"},{\"id\":\"vessay_v2_sdk\",\"type\":\"Int\",\"value\":\"1\",\"layerId\":\"Qtkm\"}],\"experiments\":[{\"expId\":\"helpcenter_pc-1_v11\",\"expPrefix\":\"helpcenter_pc\",\"isDynamicallyUpdated\":false,\"isRuntime\":false,\"includeTriggerInfo\":false}],\"chains\":[{\"chainId\":\"_all_\"}],\"encodedParams\":\"CrICMgP0CTsLiwV3B9EJZQopC6EDzAnOCukEeAdDCzcMeQvGCd0K5QgqA8oJ5QkpBWwIAQsRBf0Kzwt0AawLagFXB8UJyAn+CqkK6wYWBsMJhgpWDCcINQvzA\\\\u002FQLzAJJCWAJowlPCkYLtABnCPYJVwRpAdYEMwWqChYJGwCbCxIJfQLHCckJQQarCcQKTguDCtYIhAnxCbULDwtDAKIDxAmYCtgCjAQxBkIJVgXLCdQKuQLFCJEJEwsyBTAGOwKNBJsHpQqjC1ADoAN+BpQG3QfgC3oIpgZ0CNwLYAsnB7QK1wKeBeMFVQntCvQDogZSCz8JVAnhCdgHMwR5CGsKTwOmBNwHSQrkCjoLjAV2C9cL7ApRBdoIdgg0DIULPwBAAVIFvgoECn0LjQsBCUcAtwOYCI0JEpkBAAAAAAAAAAAAAAAAAAABAAAAAAIAAAAAAAAACwAAAAAAAAAAAAAAAQEAAAAAAAEAAAAAAAQAAAAAAAAAAAIAAAAAAAAAAAAAAAADARgAAAAAAAAAAAACCwAAAAAAAAAAAAAAAAAAAAAAAAAAAAAAAAAAAAAAAAEAAAAAAAAAAAAAAAAAAAAAAQAAAAAAAAAAAAAAAAAAAAAA\"},\"triggers\":{}},\"userAgent\":{\"Edge\":false,\"IE\":false,\"Wechat\":false,\"Weibo\":false,\"QQ\":false,\"MQQBrowser\":false,\"Qzone\":false,\"Mobile\":false,\"Android\":false,\"iOS\":false,\"isAppleDevice\":false,\"Zhihu\":false,\"ZhihuHybrid\":false,\"isBot\":false,\"Tablet\":false,\"UC\":false,\"Quark\":false,\"Sogou\":false,\"Qihoo\":false,\"Baidu\":false,\"BaiduApp\":false,\"Safari\":false,\"GoogleBot\":false,\"AndroidDaily\":false,\"iOSDaily\":false,\"WxMiniProgram\":false,\"BaiduMiniProgram\":false,\"QQMiniProgram\":false,\"JDMiniProgram\":false,\"isWebView\":false,\"isMiniProgram\":false,\"origin\":\"Mozilla\\\\u002F5.0 (Windows NT 10.0; Win64; x64) AppleWebKit\\\\u002F537.36 (KHTML, like Gecko) Chrome\\\\u002F100.0.4896.162 Safari\\\\u002F537.36\"},\"appViewConfig\":{},\"ctx\":{\"path\":\"\\\\u002Fexplore\",\"query\":{},\"href\":\"http:\\\\u002F\\\\u002Fwww.zhihu.com\\\\u002Fexplore\",\"host\":\"www.zhihu.com\"},\"trafficSource\":\"production\",\"edition\":{\"beijing\":false,\"baidu\":false,\"sogou\":false,\"baiduBeijing\":false,\"sogouBeijing\":false,\"sogouInput\":false,\"baiduSearch\":false,\"googleSearch\":false,\"shenma\":false,\"miniProgram\":false,\"xiaomi\":false},\"theme\":\"light\",\"appHeaderTheme\":{\"current\":\"normal\",\"disable\":true,\"normal\":{\"bgColor\":\"GBK99A\"},\"custom\":{\"bgColor\":\"GBK99A\"}},\"enableShortcut\":true,\"referer\":\"\",\"xUDId\":\"\",\"mode\":\"ssr\",\"conf\":{},\"xTrafficFreeOrigin\":\"\",\"ipInfo\":{},\"logged\":false,\"vars\":{\"passThroughHeaders\":{}}},\"me\":{\"columnContributions\":[]},\"label\":{\"recognizerLists\":{}},\"ecommerce\":{},\"comments\":{\"pagination\":{},\"collapsed\":{},\"reverse\":{},\"reviewing\":{},\"conversation\":{},\"parent\":{}},\"commentsV2\":{\"stickers\":[],\"commentWithPicPermission\":{},\"notificationsComments\":{},\"pagination\":{},\"collapsed\":{},\"reverse\":{},\"reviewing\":{},\"conversation\":{},\"conversationMore\":{},\"parent\":{}},\"pushNotifications\":{\"default\":{\"isFetching\":false,\"isDrained\":false,\"ids\":[]},\"follow\":{\"isFetching\":false,\"isDrained\":false,\"ids\":[]},\"vote_thank\":{\"isFetching\":false,\"isDrained\":false,\"ids\":[]},\"currentTab\":\"default\",\"notificationsCount\":{\"default\":0,\"follow\":0,\"vote_thank\":0}},\"messages\":{\"data\":{},\"currentTab\":\"common\",\"messageCount\":0},\"register\":{\"registerValidateSucceeded\":null,\"registerValidateErrors\":{},\"registerConfirmError\":null,\"sendDigitsError\":null,\"registerConfirmSucceeded\":null},\"login\":{\"loginUnregisteredError\":false,\"loginBindWechatError\":false,\"loginConfirmError\":null,\"sendDigitsError\":null,\"needSMSIdentify\":false,\"validateDigitsError\":false,\"loginConfirmSucceeded\":null,\"qrcodeLoginToken\":\"\",\"qrcodeLoginScanStatus\":0,\"qrcodeLoginError\":null,\"qrcodeLoginReturnNewToken\":false},\"switches\":{},\"captcha\":{\"captchaNeeded\":false,\"captchaValidated\":false,\"captchaBase64String\":null,\"captchaValidationMessage\":null,\"loginCaptchaExpires\":false},\"sms\":{\"supportedCountries\":[]},\"chat\":{\"chats\":{},\"inbox\":{\"recents\":{\"isFetching\":false,\"isDrained\":false,\"isPrevDrained\":false,\"result\":[],\"next\":null,\"key\":null},\"strangers\":{\"isFetching\":false,\"isDrained\":false,\"isPrevDrained\":false,\"result\":[],\"next\":null,\"key\":null},\"friends\":{\"isFetching\":false,\"isDrained\":false,\"isPrevDrained\":false,\"result\":[],\"next\":null,\"key\":null},\"search\":{\"isFetching\":false,\"isDrained\":false,\"isPrevDrained\":false,\"result\":[],\"next\":null,\"key\":null},\"config\":{\"newCount\":0,\"strangerMessageSwitch\":false,\"strangerMessageUnread\":false,\"friendCount\":0}},\"global\":{\"isChatMqttExisted\":false}},\"emoticons\":{\"emoticonGroupList\":[],\"emoticonGroupDetail\":{}},\"creator\":{\"currentCreatorUrlToken\":null,\"homeData\":{\"recommendQuestions\":[]},\"tools\":{\"question\":{\"invitationCount\":{\"questionFolloweeCount\":0,\"questionTotalCount\":0},\"goodatTopics\":[]},\"customPromotion\":{\"itemLists\":{}},\"recommend\":{\"recommendTimes\":{}},\"hotspot\":{\"domains\":[{\"group\":1,\"items\":[{\"id\":100001,\"name\":\"数码\",\"isGoodAt\":false,\"index\":0,\"isSubHot\":false,\"isSubPotential\":false},{\"id\":100002,\"name\":\"科技\",\"isGoodAt\":false,\"index\":0,\"isSubHot\":false,\"isSubPotential\":false},{\"id\":100003,\"name\":\"互联网\",\"isGoodAt\":false,\"index\":0,\"isSubHot\":false,\"isSubPotential\":false},{\"id\":100004,\"name\":\"商业财经\",\"isGoodAt\":false,\"index\":0,\"isSubHot\":false,\"isSubPotential\":false},{\"id\":100005,\"name\":\"职场\",\"isGoodAt\":false,\"index\":0,\"isSubHot\":false,\"isSubPotential\":false},{\"id\":100006,\"name\":\"教育\",\"isGoodAt\":false,\"index\":0,\"isSubHot\":false,\"isSubPotential\":false},{\"id\":100007,\"name\":\"法律\",\"isGoodAt\":false,\"index\":0,\"isSubHot\":false,\"isSubPotential\":false},{\"id\":100008,\"name\":\"军事\",\"isGoodAt\":false,\"index\":0,\"isSubHot\":false,\"isSubPotential\":false},{\"id\":100009,\"name\":\"汽车\",\"isGoodAt\":false,\"index\":0,\"isSubHot\":false,\"isSubPotential\":false},{\"id\":100010,\"name\":\"人文社科\",\"isGoodAt\":false,\"index\":0,\"isSubHot\":false,\"isSubPotential\":false},{\"id\":100011,\"name\":\"自然科学\",\"isGoodAt\":false,\"index\":0,\"isSubHot\":false,\"isSubPotential\":false},{\"id\":100012,\"name\":\"工程技术\",\"isGoodAt\":false,\"index\":0,\"isSubHot\":false,\"isSubPotential\":false}]},{\"group\":2,\"items\":[{\"id\":100013,\"name\":\"情感\",\"isGoodAt\":true,\"index\":1,\"isSubHot\":false,\"isSubPotential\":false},{\"id\":100014,\"name\":\"心理学\",\"isGoodAt\":true,\"index\":2,\"isSubHot\":false,\"isSubPotential\":false},{\"id\":100015,\"name\":\"两性\",\"isGoodAt\":false,\"index\":0,\"isSubHot\":false,\"isSubPotential\":false},{\"id\":100016,\"name\":\"母婴亲子\",\"isGoodAt\":false,\"index\":0,\"isSubHot\":false,\"isSubPotential\":false},{\"id\":100017,\"name\":\"家居\",\"isGoodAt\":false,\"index\":0,\"isSubHot\":false,\"isSubPotential\":false},{\"id\":100018,\"name\":\"健康\",\"isGoodAt\":false,\"index\":0,\"isSubHot\":false,\"isSubPotential\":false},{\"id\":100019,\"name\":\"艺术\",\"isGoodAt\":false,\"index\":0,\"isSubHot\":false,\"isSubPotential\":false},{\"id\":100020,\"name\":\"音乐\",\"isGoodAt\":false,\"index\":0,\"isSubHot\":false,\"isSubPotential\":false},{\"id\":100021,\"name\":\"设计\",\"isGoodAt\":false,\"index\":0,\"isSubHot\":false,\"isSubPotential\":false}]},{\"group\":3,\"items\":[{\"id\":100022,\"name\":\"影视娱乐\",\"isGoodAt\":false,\"index\":0,\"isSubHot\":false,\"isSubPotential\":false},{\"id\":100023,\"name\":\"宠物\",\"isGoodAt\":false,\"index\":0,\"isSubHot\":false,\"isSubPotential\":false},{\"id\":100024,\"name\":\"体育电竞\",\"isGoodAt\":false,\"index\":0,\"isSubHot\":false,\"isSubPotential\":false},{\"id\":100025,\"name\":\"运动健身\",\"isGoodAt\":false,\"index\":0,\"isSubHot\":false,\"isSubPotential\":false},{\"id\":100026,\"name\":\"动漫游戏\",\"isGoodAt\":false,\"index\":0,\"isSubHot\":false,\"isSubPotential\":false},{\"id\":100027,\"name\":\"美食\",\"isGoodAt\":false,\"index\":0,\"isSubHot\":false,\"isSubPotential\":false},{\"id\":100028,\"name\":\"旅行\",\"isGoodAt\":false,\"index\":0,\"isSubHot\":false,\"isSubPotential\":false},{\"id\":100029,\"name\":\"时尚\",\"isGoodAt\":false,\"index\":0,\"isSubHot\":false,\"isSubPotential\":false}]}]}},\"explore\":{\"academy\":{\"tabs\":[],\"article\":{}}},\"rights\":[],\"newRights\":[],\"rightsStatus\":{},\"levelUpperLimit\":10,\"account\":{\"growthLevel\":{}},\"mcn\":{},\"applyStatus\":{},\"videoSupport\":{},\"textBenefit\":{},\"mcnManage\":{},\"tasks\":{},\"newTasks\":{\"creatorTask\":{\"tasks\":[],\"des\":[]}},\"scoreInfo\":{},\"recentlyCreated\":[],\"analysis\":{\"all\":{},\"answer\":{},\"zvideo\":{},\"article\":{},\"pin\":{},\"singleContent\":{}},\"announcement\":{},\"bannerList\":[],\"school\":{\"tabs\":[],\"contents\":[],\"banner\":null,\"entities\":{}},\"creatorsRecommendInfo\":{},\"menusShowControlByServer\":{\"bVipRecomend\":false,\"creationRelationship\":false},\"income\":{\"aggregation\":{}}},\"question\":{\"followers\":{},\"concernedFollowers\":{},\"answers\":{},\"hiddenAnswers\":{},\"updatedAnswers\":{},\"ariaAnswers\":{},\"collapsedAnswers\":{},\"notificationAnswers\":{},\"invitedQuestions\":{\"total\":{\"count\":null,\"isEnd\":false,\"isLoading\":false,\"questions\":[]},\"followees\":{\"count\":null,\"isEnd\":false,\"isLoading\":false,\"questions\":[]}},\"laterQuestions\":{\"count\":null,\"isEnd\":false,\"isLoading\":false,\"questions\":[]},\"waitingQuestions\":{\"recommend\":{\"isEnd\":false,\"isLoading\":false,\"questions\":[]},\"invite\":{\"isEnd\":false,\"isLoading\":false,\"questions\":[]},\"newest\":{\"isEnd\":false,\"isLoading\":false,\"questions\":[]},\"hot\":{\"isEnd\":false,\"isLoading\":false,\"questions\":[]}},\"invitationCandidates\":{},\"inviters\":{},\"invitees\":{},\"similarQuestions\":{},\"questionBanners\":{},\"relatedCommodities\":{},\"bio\":{},\"brand\":{},\"permission\":{},\"adverts\":{},\"advancedStyle\":{},\"commonAnswerCount\":0,\"hiddenAnswerCount\":0,\"topicMeta\":{},\"bluestarRanklist\":{},\"relatedSearch\":{},\"autoInvitation\":{},\"simpleConcernedFollowers\":{},\"draftStatus\":{},\"disclaimers\":{},\"isShowMobileSignInModal\":false},\"shareTexts\":{},\"answers\":{\"voters\":{},\"copyrightApplicants\":{},\"favlists\":{},\"newAnswer\":{},\"entityWords\":{},\"concernedUpvoters\":{},\"simpleConcernedUpvoters\":{},\"paidContent\":{},\"settings\":{}},\"banner\":{},\"topic\":{\"bios\":{},\"hot\":{},\"newest\":{},\"top\":{},\"sticky\":{},\"pin\":{},\"unanswered\":{},\"questions\":{},\"followers\":{},\"contributors\":{},\"parent\":{},\"children\":{},\"bestAnswerers\":{},\"wikiMeta\":{},\"index\":{},\"intro\":{},\"meta\":{},\"schema\":{},\"creatorWall\":{},\"wikiEditInfo\":{},\"committedWiki\":{},\"landingBasicData\":{},\"landingExcellentItems\":[],\"landingExcellentEditors\":[],\"landingCatalog\":[],\"landingEntries\":{}},\"explore\":{\"recommendations\":{},\"specials\":{\"entities\":{\"1521260181899513856\":{\"contentList\":[{\"id\":\"2535060428\",\"title\":\"男人成为父亲以后就会长大吗？\",\"type\":\"answer\",\"sectionId\":\"1521260411533516800\",\"sectionTitle\":\"当你做了父亲\"},{\"id\":\"538397114\",\"title\":\"对父亲表达爱天生就比对母亲表达难吗？我们会不会先天「吝啬」对父亲的爱的表达？\",\"type\":\"question\",\"sectionId\":\"1521260481603526657\",\"sectionTitle\":\"爸爸你听我说\"},{\"id\":\"538201412\",\"title\":\"当了爸之后，是怎么理解父爱的？\",\"type\":\"question\",\"sectionId\":\"1521260543470297089\",\"sectionTitle\":\"爸爸的精彩人生\"}],\"viewCount\":4187518,\"followersCount\":218,\"isFollowing\":false,\"title\":\"理解父亲，成为父亲\",\"introduction\":\"父亲是沉默的山、冷峻的石，却也有柔软温情，6 月 19 日父亲节，你有什么想对他说的？如果你已为人父，身为爸爸，有哪些事情让你更深刻地理解了父爱？\",\"banner\":\"https:\\\\u002F\\\\u002Fpic3.zhimg.com\\\\u002F100\\\\u002Fv2-e1e426ce90c05da5f73ebc1231790296_hd.png\",\"updated\":1655615360,\"id\":\"1521260181899513856\"},\"1520391135545118720\":{\"contentList\":[{\"id\":\"536263566\",\"title\":\"从过度消费、超前消费到不冲动消费、不花冤枉钱，如何看待继「月光族」之后年轻人群体中又出现「酷抠族」？\",\"type\":\"question\",\"sectionId\":\"1520391326797918208\",\"sectionTitle\":\"618 热点聚焦\"},{\"id\":\"537815498\",\"title\":\"今年 618 你的消费观照去年有了哪些改变？\",\"type\":\"question\",\"sectionId\":\"1520391372611305472\",\"sectionTitle\":\"你的消费观\"},{\"id\":\"538209926\",\"title\":\"去年 618 买了什么东西到现在都没用完？你想对去年 参加 618 的自己说什么？\",\"type\":\"question\",\"sectionId\":\"1520391490677698560\",\"sectionTitle\":\"捂好小荷包\"}],\"viewCount\":7400421,\"followersCount\":43,\"isFollowing\":false,\"title\":\"接招吧 618！\",\"introduction\":\"一年一度 618 又来了！有些东西你真的需要购买吗？疫情下的 618 有什么实用的囤货建议?......接招吧 618！\",\"banner\":\"https:\\\\u002F\\\\u002Fpic4.zhimg.com\\\\u002F100\\\\u002Fv2-c3335f7c6513b9c59935e86a6d90056f_hd.png\",\"updated\":1655536733,\"id\":\"1520391135545118720\"},\"1520369469411401728\":{\"contentList\":[{\"id\":\"1520382301560680448\",\"title\":\"一颗种子的传奇\",\"type\":\"zvideo\",\"sectionId\":\"1520372985832083456\",\"sectionTitle\":\"大国「粮」策\"},{\"id\":\"37205624\",\"title\":\"红薯为什么不能主粮化？\",\"type\":\"question\",\"sectionId\":\"1520375050997485568\",\"sectionTitle\":\"节约粮食小科普\"},{\"id\":\"413679753\",\"title\":\"如何“节约粮食”？\",\"type\":\"question\",\"sectionId\":\"1520375302778085376\",\"sectionTitle\":\"勤俭节约小妙招\"}],\"viewCount\":25431076,\"followersCount\":212,\"isFollowing\":false,\"title\":\"大国「粮」策\",\"introduction\":\"「在粮食安全这个问题上不能有丝毫的麻痹大意。要未雨绸缪，始终绷紧粮食安全这根弦。中国人要把饭碗端在自己手里，而且要装自己的粮食。」促进粮食安全，不负每一颗努力生长的种子。专题中收录站内高质量话题，引导广大网民积极参与互动，在集思广益的过程中，重点推荐优质且正能量内容。\",\"banner\":\"https:\\\\u002F\\\\u002Fpic1.zhimg.com\\\\u002F100\\\\u002Fv2-cf1456554d39c984cf6a77b50d3432b8_hd.png\",\"updated\":1655377221,\"id\":\"1520369469411401728\"},\"1519642198144053248\":{\"contentList\":[{\"id\":\"2526242143\",\"title\":\"如何看待微软 xbox  6 月 13 日的夏日游戏节线上展示会？\",\"type\":\"answer\",\"sectionId\":\"1519642688403578882\",\"sectionTitle\":\"发布会快览\"},{\"id\":\"537418683\",\"title\":\"如何评价游戏《星空》（Starfield）于 6 月 13 日发布的实机预告？\",\"type\":\"question\",\"sectionId\":\"1519642771945807872\",\"sectionTitle\":\"热门讨论\"},{\"id\":\"537422759\",\"title\":\"怎么看待 Xbox 发布会放出的游戏《卧龙：堕落王朝》（Team Ninja 新作）?\",\"type\":\"question\",\"sectionId\":\"1519642842645000192\",\"sectionTitle\":\"新作一览\"}],\"viewCount\":2799427,\"followersCount\":179,\"isFollowing\":false,\"title\":\"直击 Xbox 游戏发布会\",\"introduction\":\"夏日游戏节之微软专场，长达一个半小时的直播里究竟有哪些内容？一起来看看吧\\\\u003E\\\\u003E\",\"banner\":\"https:\\\\u002F\\\\u002Fpic2.zhimg.com\\\\u002F100\\\\u002Fv2-a5a8a9d69e11223bc0edcb1a2a2f6ca5_hd.png\",\"updated\":1655104667,\"id\":\"1519642198144053248\"}},\"order\":[\"1521260181899513856\",\"1520391135545118720\",\"1520369469411401728\",\"1519642198144053248\"]},\"roundtables\":{\"entities\":{\"fujianjian\":{\"startAt\":1655443801,\"name\":\"知媒观察丨聚焦「福建舰」下水\",\"title\":\"知媒观察丨聚焦「福建舰」下水\",\"color\":\"#78545a\",\"banner\":\"https:\\\\u002F\\\\u002Fpic3.zhimg.com\\\\u002F50\\\\u002Fv2-d2c297a032eb62ab774aeee034ded828_720w.jpg?source=b1f6dc53\",\"tinyBanner\":\"https:\\\\u002F\\\\u002Fpic1.zhimg.com\\\\u002F50\\\\u002Fv2-736b4ae7a38439e7ccb8d0edbf252c7e_720w.jpg?source=b1f6dc53\",\"endAt\":1656479359,\"url\":\"\\\\u002Froundtables\\\\u002Fexplore\\\\u002Fcards\\\\u002Froundtable\\\\u002Ffujianjian\",\"followersCount\":164,\"intro\":\"今天上午，我国第三艘航空母舰下水命名仪式举行。经中央军委批准，我国第三艘航空母舰命名为“中国人民解放军海军福建舰”，舷号为“18”。福建舰是我国完全自主设计建造的首艘弹射型航空母舰，采用平直通长飞行甲板，配置电磁弹射和阻拦装置，满载排水量8万余吨。我国第三艘航母下水后，将按计划开展系泊试验和航行试验。\",\"isFollowing\":false,\"guests\":[{\"avatarUrl\":\"https:\\\\u002F\\\\u002Fpicx.zhimg.com\\\\u002F50\\\\u002Fv2-f9f5600693d6fb084a29d3f60ef0d0f0_720w.jpg?source=b1f6dc53\"},{\"avatarUrl\":\"https:\\\\u002F\\\\u002Fpic2.zhimg.com\\\\u002F50\\\\u002Fv2-02a2d9e74cea988b14b0e89190710f4d_720w.jpg?source=b1f6dc53\"},{\"avatarUrl\":\"https:\\\\u002F\\\\u002Fpica.zhimg.com\\\\u002F50\\\\u002Fv2-8156e8aeb0499ceaa91c84165236f1cb_720w.jpg?source=b1f6dc53\"},{\"avatarUrl\":\"https:\\\\u002F\\\\u002Fpic1.zhimg.com\\\\u002F50\\\\u002Fv2-c81d68b684f665fc4b9a9c009da22dc9_720w.jpg?source=b1f6dc53\"},{\"avatarUrl\":\"https:\\\\u002F\\\\u002Fpic1.zhimg.com\\\\u002F50\\\\u002Fv2-89cffe9624b7d11df0bc84c01a47de11_720w.jpg?source=b1f6dc53\"},{\"avatarUrl\":\"https:\\\\u002F\\\\u002Fpic1.zhimg.com\\\\u002F50\\\\u002Fv2-d8bbe00dc9f3fe83330ed5fa0b3adfdc_720w.jpg?source=b1f6dc53\"},{\"avatarUrl\":\"https:\\\\u002F\\\\u002Fpic4.zhimg.com\\\\u002F50\\\\u002Fv2-9890b157e554fd176db737c8de6a98f4_720w.jpg?source=b1f6dc53\"}],\"questions\":[{\"followerCount\":2230,\"title\":\"「福建舰」有哪些技术突破值得关注？建造这样一艘航母对一个国家的工业技术水平有多高的要求？\",\"url\":\"https:\\\\u002F\\\\u002Fwww.zhihu.com\\\\u002Fquestion\\\\u002F538150505\",\"type\":\"question\",\"id\":538150505,\"answerCount\":406},{\"followerCount\":147,\"title\":\"我国第三艘航母命名「福建舰」，航母命名有哪些讲究？\",\"url\":\"https:\\\\u002F\\\\u002Fwww.zhihu.com\\\\u002Fquestion\\\\u002F538149375\",\"type\":\"question\",\"id\":538149375,\"answerCount\":98},{\"followerCount\":268,\"title\":\"国产航母「福建舰」下水，面对大国重器，你有哪些祝福？\",\"url\":\"https:\\\\u002F\\\\u002Fwww.zhihu.com\\\\u002Fquestion\\\\u002F538149540\",\"type\":\"question\",\"id\":538149540,\"answerCount\":193}],\"logo\":\"https:\\\\u002F\\\\u002Fpic2.zhimg.com\\\\u002F50\\\\u002Fv2-6e4a49a2fecfe1eed1393f2b04ab91b5_720w.jpg?source=b1f6dc53\",\"urlToken\":\"fujianjian\"},\"hezijihejie\":{\"startAt\":1655481600,\"name\":\"和自己和解的 N 种方式\",\"title\":\"和自己和解的 N 种方式\",\"color\":\"#B3917D\",\"banner\":\"https:\\\\u002F\\\\u002Fpicx.zhimg.com\\\\u002F50\\\\u002Fv2-5d1b5a4758543964895b1fae809d893d_720w.jpg?source=b1f6dc53\",\"tinyBanner\":\"https:\\\\u002F\\\\u002Fpic1.zhimg.com\\\\u002F50\\\\u002Fv2-16aa394cc6109d9d260198f12a2f885c_720w.jpg?source=b1f6dc53\",\"endAt\":1657882800,\"url\":\"\\\\u002Froundtables\\\\u002Fexplore\\\\u002Fcards\\\\u002Froundtable\\\\u002Fhezijihejie\",\"followersCount\":429,\"intro\":\"总是忍不住自责、否定、自我怀疑、莫名 emo……一直和自己较劲，如何学会和自己「和解」呢？尝试开始直面和接纳自己的情绪，对自己宽容，积极改变吧。\",\"isFollowing\":false,\"guests\":[{\"avatarUrl\":\"https:\\\\u002F\\\\u002Fpic3.zhimg.com\\\\u002F50\\\\u002Fv2-b63c56197bd8ba5191e09282cfaad786_720w.jpg?source=b1f6dc53\"}],\"questions\":[{\"followerCount\":4151,\"title\":\"长期自卑该如何变得自信？\",\"url\":\"https:\\\\u002F\\\\u002Fwww.zhihu.com\\\\u002Fquestion\\\\u002F35710522\",\"type\":\"question\",\"id\":35710522,\"answerCount\":285},{\"followerCount\":3642,\"title\":\"有一个控制欲很强的母亲是种怎样的体验？\",\"url\":\"https:\\\\u002F\\\\u002Fwww.zhihu.com\\\\u002Fquestion\\\\u002F295483773\",\"type\":\"question\",\"id\":295483773,\"answerCount\":963},{\"followerCount\":4925,\"title\":\"负面情绪存在的价值是什么？\",\"url\":\"https:\\\\u002F\\\\u002Fwww.zhihu.com\\\\u002Fquestion\\\\u002F21939024\",\"type\":\"question\",\"id\":21939024,\"answerCount\":205}],\"logo\":\"https:\\\\u002F\\\\u002Fpic1.zhimg.com\\\\u002F50\\\\u002Fv2-ce1878c6e73dd3ad4b2e94f4b47d55b0_720w.jpg?source=b1f6dc53\",\"urlToken\":\"hezijihejie\"},\"3cshuma\":{\"startAt\":1655827201,\"name\":\"影音研究所\",\"title\":\"影音研究所\",\"color\":\"#0b192d\",\"banner\":\"https:\\\\u002F\\\\u002Fpic1.zhimg.com\\\\u002F50\\\\u002Fv2-2568f331fea60e763ad01b2e0e0a5bad_720w.jpg?source=b1f6dc53\",\"tinyBanner\":\"https:\\\\u002F\\\\u002Fpic2.zhimg.com\\\\u002F50\\\\u002Fv2-5f42e43de6fe29e5819427469139ec2e_720w.jpg?source=b1f6dc53\",\"endAt\":1658246400,\"url\":\"\\\\u002Froundtables\\\\u002Fexplore\\\\u002Fcards\\\\u002Froundtable\\\\u002F3cshuma\",\"followersCount\":49,\"intro\":\"影音研究所是一个聚焦影音播放技术的热门话题聚集地，涵盖了耳机，耳机、投影仪、音响、回音壁、家庭影院等明星产品。如果你是优秀的创作者，在这里你可以充分的发挥你对于影音技术的了解产出优质的内容；如果你是消费者，这里能给你带来更加详尽的介绍帮你的抉择排坑。\",\"isFollowing\":false,\"guests\":[{\"avatarUrl\":\"https:\\\\u002F\\\\u002Fpic2.zhimg.com\\\\u002F50\\\\u002Fv2-e2c0667877c4eef4cacaa0b989ae3139_720w.jpg?source=b1f6dc53\"}],\"questions\":[{\"followerCount\":28,\"title\":\"真无线音质越来越卷，「同轴双单元」真的是 TWS 音质突破点吗？\",\"url\":\"https:\\\\u002F\\\\u002Fwww.zhihu.com\\\\u002Fquestion\\\\u002F523448544\",\"type\":\"question\",\"id\":523448544,\"answerCount\":19},{\"followerCount\":16,\"title\":\"究竟要满足什么样的条件，一个耳机才可以成为监听耳机？\",\"url\":\"https:\\\\u002F\\\\u002Fwww.zhihu.com\\\\u002Fquestion\\\\u002F283442673\",\"type\":\"question\",\"id\":283442673,\"answerCount\":4},{\"followerCount\":3,\"title\":\"Hi-Fi 音响的音质能给用户带来哪些体验？\",\"url\":\"https:\\\\u002F\\\\u002Fwww.zhihu.com\\\\u002Fquestion\\\\u002F535836678\",\"type\":\"question\",\"id\":535836678,\"answerCount\":2}],\"logo\":\"https:\\\\u002F\\\\u002Fpic1.zhimg.com\\\\u002F50\\\\u002Fv2-61d92769639d3401d2660550e6219cf4_720w.jpg?source=b1f6dc53\",\"urlToken\":\"3cshuma\"},\"zhichangren2022\":{\"startAt\":1655604003,\"name\":\"职场人的高效「秘籍」\",\"title\":\"职场人的高效「秘籍」\",\"color\":\"#7D9BB3\",\"banner\":\"https:\\\\u002F\\\\u002Fpica.zhimg.com\\\\u002F50\\\\u002Fv2-8d997e871e895b3d73df1c1fecdac4ca_720w.jpg?source=b1f6dc53\",\"tinyBanner\":\"https:\\\\u002F\\\\u002Fpic1.zhimg.com\\\\u002F50\\\\u002Fv2-46da61b854d07b700da469ef268b611a_720w.jpg?source=b1f6dc53\",\"endAt\":1657803145,\"url\":\"\\\\u002Froundtables\\\\u002Fexplore\\\\u002Fcards\\\\u002Froundtable\\\\u002Fzhichangren2022\",\"followersCount\":186,\"intro\":\"职场人如何提高工作效率？你在职场中学到了哪些经验？如何提升自己的工作技能？本期圆桌，和身为职场人的你一起探讨、解决可能遇到的一些工作难题……\",\"isFollowing\":false,\"guests\":[{\"avatarUrl\":\"https:\\\\u002F\\\\u002Fpica.zhimg.com\\\\u002F50\\\\u002Fv2-12ef91a3f1e91e70bd3480d755e058b1_720w.jpg?source=b1f6dc53\"},{\"avatarUrl\":\"https:\\\\u002F\\\\u002Fpica.zhimg.com\\\\u002F50\\\\u002Fv2-beb44a95b458b3e5bc45849161c0a1ec_720w.jpg?source=b1f6dc53\"},{\"avatarUrl\":\"https:\\\\u002F\\\\u002Fpic1.zhimg.com\\\\u002F50\\\\u002Fv2-5a81f17db55e008b2865e574abecf053_720w.jpg?source=b1f6dc53\"},{\"avatarUrl\":\"https:\\\\u002F\\\\u002Fpica.zhimg.com\\\\u002F50\\\\u002Fv2-975d8e72b1641927e28d337b06fe4567_720w.jpg?source=b1f6dc53\"},{\"avatarUrl\":\"https:\\\\u002F\\\\u002Fpic1.zhimg.com\\\\u002F50\\\\u002Fv2-9809258f0020c5d0ff4fd99a808c0520_720w.jpg?source=b1f6dc53\"},{\"avatarUrl\":\"https:\\\\u002F\\\\u002Fpic3.zhimg.com\\\\u002F50\\\\u002F4b46f2b7f_720w.jpg?source=b1f6dc53\"},{\"avatarUrl\":\"https:\\\\u002F\\\\u002Fpica.zhimg.com\\\\u002F50\\\\u002Fv2-70e147f726795fe72fa5613b02718103_720w.jpg?source=b1f6dc53\"},{\"avatarUrl\":\"https:\\\\u002F\\\\u002Fpic3.zhimg.com\\\\u002F50\\\\u002Fv2-1d404dece616fb046aa11c01cb75486c_720w.jpg?source=b1f6dc53\"},{\"avatarUrl\":\"https:\\\\u002F\\\\u002Fpic1.zhimg.com\\\\u002F50\\\\u002Fv2-6825c5f26dbeabde7e85eaa6069456f9_720w.jpg?source=b1f6dc53\"},{\"avatarUrl\":\"https:\\\\u002F\\\\u002Fpic1.zhimg.com\\\\u002F50\\\\u002Fv2-845d77c1d531b93f12856e5c9f6798e5_720w.jpg?source=b1f6dc53\"},{\"avatarUrl\":\"https:\\\\u002F\\\\u002Fpic2.zhimg.com\\\\u002F50\\\\u002Fv2-e71e2b503d7ce444a3615e416a6bfdc8_720w.jpg?source=b1f6dc53\"},{\"avatarUrl\":\"https:\\\\u002F\\\\u002Fpic2.zhimg.com\\\\u002F50\\\\u002Fv2-b8e5a8c42923533e05348e10a0cf2255_720w.jpg?source=b1f6dc53\"}],\"questions\":[{\"followerCount\":17786,\"title\":\"办公中，把 Excel 函数用到极致是种怎样的体验？\",\"url\":\"https:\\\\u002F\\\\u002Fwww.zhihu.com\\\\u002Fquestion\\\\u002F32248335\",\"type\":\"question\",\"id\":32248335,\"answerCount\":249},{\"followerCount\":322,\"title\":\"作为程序员的你，有什么给初入职场的程序员的忠告？\",\"url\":\"https:\\\\u002F\\\\u002Fwww.zhihu.com\\\\u002Fquestion\\\\u002F452259117\",\"type\":\"question\",\"id\":452259117,\"answerCount\":93},{\"followerCount\":251,\"title\":\"程序员到了 35 岁后还能从事计算机相关的工作吗？\",\"url\":\"https:\\\\u002F\\\\u002Fwww.zhihu.com\\\\u002Fquestion\\\\u002F536220160\",\"type\":\"question\",\"id\":536220160,\"answerCount\":76}],\"logo\":\"https:\\\\u002F\\\\u002Fpic1.zhimg.com\\\\u002F50\\\\u002Fv2-05250dc9eefc4ea15fcb0d5927a301cf_720w.jpg?source=b1f6dc53\",\"urlToken\":\"zhichangren2022\"}},\"order\":[\"fujianjian\",\"hezijihejie\",\"3cshuma\",\"zhichangren2022\"]},\"collections\":{\"39266299\":{\"favitems\":[{\"content\":{\"id\":2535697118,\"type\":\"answer\",\"answerType\":\"NORMAL\",\"url\":\"https:\\\\u002F\\\\u002Fwww.zhihu.com\\\\u002Fquestion\\\\u002F473553424\\\\u002Fanswer\\\\u002F2535697118\",\"createdTime\":1655636985,\"updatedTime\":1655648117,\"question\":{\"type\":\"question\",\"id\":473553424,\"title\":\"遇到一天到晚用繁体装逼的人怎么办？\",\"questionType\":\"normal\",\"created\":1626786114,\"updatedTime\":1628823344,\"url\":\"https:\\\\u002F\\\\u002Fwww.zhihu.com\\\\u002Fquestion\\\\u002F473553424\",\"isDeleted\":false},\"author\":{\"id\":\"c856a143cd731df9b03d21ddbbd4e431\",\"urlToken\":\"li-yi-yi-65-67\",\"name\":\"黎一一\",\"useDefaultAvatar\":false,\"avatarUrl\":\"https:\\\\u002F\\\\u002Fpic1.zhimg.com\\\\u002Fv2-8a24a2b52733dbe27b60e9a7581dbb13_l.jpg?source=0df5f383\",\"avatarUrlTemplate\":\"https:\\\\u002F\\\\u002Fpic3.zhimg.com\\\\u002Fv2-8a24a2b52733dbe27b60e9a7581dbb13.jpg?source=0df5f383\",\"isOrg\":false,\"type\":\"people\",\"url\":\"https:\\\\u002F\\\\u002Fwww.zhihu.com\\\\u002Fpeople\\\\u002Fc856a143cd731df9b03d21ddbbd4e431\",\"userType\":\"people\",\"headline\":\"@月如表示不要这个发回答还要审核一个小时的破号了，感恩小管家\",\"gender\":1,\"isAdvertiser\":false,\"vipInfo\":{\"isVip\":false,\"renameDays\":\"\",\"widget\":{\"url\":\"\",\"nightModeUrl\":\"\"},\"vipIcon\":{\"url\":\"\",\"nightModeUrl\":\"\"}},\"badgeV2\":{\"title\":\"\",\"mergedBadges\":[],\"detailBadges\":[],\"icon\":\"\",\"nightIcon\":\"\"},\"activedAt\":1558276563},\"thumbnail\":\"https:\\\\u002F\\\\u002Fpic4.zhimg.com\\\\u002Fv2-4ec2f9763026f2688b6d1b8d1f3bfa85_720w.jpg\",\"isCollapsed\":false,\"isCopyable\":false,\"isVisible\":true,\"isNormal\":true,\"voteupCount\":3397,\"commentCount\":494,\"thanksCount\":260,\"isMine\":false,\"commentPermission\":\"all\",\"reshipmentSettings\":\"disallowed\",\"content\":\"\\\\u003Cp data-pid=\\\\\"QR6-SI0g\\\\\"\\\\u003E问他一个问题，“祝英台”繁体字怎么写？\\\\u003C\\\\u002Fp\\\\u003E\\\\u003Cp data-pid=\\\\\"YPM04Kny\\\\\"\\\\u003E他要是告诉你就写作“祝英台”，那么你就忍着吧，人家有这个资格。\\\\u003C\\\\u002Fp\\\\u003E\\\\u003Cp data-pid=\\\\\"fjgVdz_R\\\\\"\\\\u003E要是他写成其他的，比如“祝英臺”，那么你尽管去嘲讽他叶公好龙，喜欢用繁体字装逼。\\\\u003C\\\\u002Fp\\\\u003E\\\\u003Cp data-pid=\\\\\"StTfzuhm\\\\\"\\\\u003E这是我在B站看到的一个弹幕。\\\\u003C\\\\u002Fp\\\\u003E\\\\u003Cp data-pid=\\\\\"GHz87B4P\\\\\"\\\\u003E“唯一的遗憾，祝英台写成了简体。”\\\\u003C\\\\u002Fp\\\\u003E\\\\u003Cfigure data-size=\\\\\"normal\\\\\"\\\\u003E\\\\u003Cimg src=\\\\\"https:\\\\u002F\\\\u002Fpic3.zhimg.com\\\\u002F50\\\\u002Fv2-a6a382c012c2ccb5244f4b63479b2bf0_720w.jpg?source=1940ef5c\\\\\" data-rawwidth=\\\\\"2340\\\\\" data-rawheight=\\\\\"1080\\\\\" data-size=\\\\\"normal\\\\\" data-default-watermark-src=\\\\\"https:\\\\u002F\\\\u002Fpic1.zhimg.com\\\\u002F50\\\\u002Fv2-d1231866926dbe5760d9142580e9fa73_720w.jpg?source=1940ef5c\\\\\" class=\\\\\"origin_image zh-lightbox-thumb\\\\\" width=\\\\\"2340\\\\\" data-original=\\\\\"https:\\\\u002F\\\\u002Fpic2.zhimg.com\\\\u002Fv2-a6a382c012c2ccb5244f4b63479b2bf0_r.jpg?source=1940ef5c\\\\\"\\\\u002F\\\\u003E\\\\u003C\\\\u002Ffigure\\\\u003E\\\\u003Cp class=\\\\\"ztext-empty-paragraph\\\\\"\\\\u003E\\\\u003Cbr\\\\u002F\\\\u003E\\\\u003C\\\\u002Fp\\\\u003E\\\\u003Cfigure data-size=\\\\\"normal\\\\\"\\\\u003E\\\\u003Cimg src=\\\\\"https:\\\\u002F\\\\u002Fpic1.zhimg.com\\\\u002F50\\\\u002Fv2-27ff12e7657663eeda2cfbdd0fcd5802_720w.jpg?source=1940ef5c\\\\\" data-rawwidth=\\\\\"2000\\\\\" data-rawheight=\\\\\"923\\\\\" data-size=\\\\\"normal\\\\\" data-default-watermark-src=\\\\\"https:\\\\u002F\\\\u002Fpica.zhimg.com\\\\u002F50\\\\u002Fv2-d42834fe5751de2047b45d27ab12b8d7_720w.jpg?source=1940ef5c\\\\\" class=\\\\\"origin_image zh-lightbox-thumb\\\\\" width=\\\\\"2000\\\\\" data-original=\\\\\"https:\\\\u002F\\\\u002Fpic3.zhimg.com\\\\u002Fv2-27ff12e7657663eeda2cfbdd0fcd5802_r.jpg?source=1940ef5c\\\\\"\\\\u002F\\\\u003E\\\\u003C\\\\u002Ffigure\\\\u003E\\\\u003Cp data-pid=\\\\\"FDdk2LUE\\\\\"\\\\u003E我一脸懵逼，有没有一种可能，祝英台的繁体就是祝英台呢？\\\\u003C\\\\u002Fp\\\\u003E\\\\u003Cp data-pid=\\\\\"0S2paqSx\\\\\"\\\\u003E这是1954年版的《梁山伯与祝英台》\\\\u003C\\\\u002Fp\\\\u003E\\\\u003Cfigure data-size=\\\\\"normal\\\\\"\\\\u003E\\\\u003Cimg src=\\\\\"https:\\\\u002F\\\\u002Fpic1.zhimg.com\\\\u002F50\\\\u002Fv2-7b61fe176c3bc4b018cf2114a86c6f24_720w.jpg?source=1940ef5c\\\\\" data-rawwidth=\\\\\"922\\\\\" data-rawheight=\\\\\"786\\\\\" data-size=\\\\\"normal\\\\\" data-default-watermark-src=\\\\\"https:\\\\u002F\\\\u002Fpic3.zhimg.com\\\\u002F50\\\\u002Fv2-ea88b5f6bee105c2b04bc650b334465b_720w.jpg?source=1940ef5c\\\\\" class=\\\\\"origin_image zh-lightbox-thumb\\\\\" width=\\\\\"922\\\\\" data-original=\\\\\"https:\\\\u002F\\\\u002Fpic1.zhimg.com\\\\u002Fv2-7b61fe176c3bc4b018cf2114a86c6f24_r.jpg?source=1940ef5c\\\\\"\\\\u002F\\\\u003E\\\\u003C\\\\u002Ffigure\\\\u003E\\\\u003Cp data-pid=\\\\\"SLlDOiic\\\\\"\\\\u003E这是李翰祥版《梁山伯与祝英台》\\\\u003C\\\\u002Fp\\\\u003E\\\\u003Cfigure data-size=\\\\\"normal\\\\\"\\\\u003E\\\\u003Cimg src=\\\\\"https:\\\\u002F\\\\u002Fpic1.zhimg.com\\\\u002F50\\\\u002Fv2-f54a7744e5b49576244a7e2453d9a5bc_720w.jpg?source=1940ef5c\\\\\" data-rawwidth=\\\\\"1999\\\\\" data-rawheight=\\\\\"660\\\\\" data-size=\\\\\"normal\\\\\" data-default-watermark-src=\\\\\"https:\\\\u002F\\\\u002Fpica.zhimg.com\\\\u002F50\\\\u002Fv2-c6b9aab9e6964310ca770fb166837e41_720w.jpg?source=1940ef5c\\\\\" class=\\\\\"origin_image zh-lightbox-thumb\\\\\" width=\\\\\"1999\\\\\" data-original=\\\\\"https:\\\\u002F\\\\u002Fpic2.zhimg.com\\\\u002Fv2-f54a7744e5b49576244a7e2453d9a5bc_r.jpg?source=1940ef5c\\\\\"\\\\u002F\\\\u003E\\\\u003C\\\\u002Ffigure\\\\u003E\\\\u003Cp data-pid=\\\\\"TPiRn0g0\\\\\"\\\\u003E这是民国大达图书局刊行的《梁山伯祝英台》。\\\\u003C\\\\u002Fp\\\\u003E\\\\u003Cfigure data-size=\\\\\"normal\\\\\"\\\\u003E\\\\u003Cimg src=\\\\\"https:\\\\u002F\\\\u002Fpic1.zhimg.com\\\\u002F50\\\\u002Fv2-0f08120cd1e203187a40cfe22672a57e_720w.jpg?source=1940ef5c\\\\\" data-rawwidth=\\\\\"864\\\\\" data-rawheight=\\\\\"741\\\\\" data-size=\\\\\"normal\\\\\" data-default-watermark-src=\\\\\"https:\\\\u002F\\\\u002Fpic4.zhimg.com\\\\u002F50\\\\u002Fv2-422336ac4a4134056810b7eb5f43a9e8_720w.jpg?source=1940ef5c\\\\\" class=\\\\\"origin_image zh-lightbox-thumb\\\\\" width=\\\\\"864\\\\\" data-original=\\\\\"https:\\\\u002F\\\\u002Fpica.zhimg.com\\\\u002Fv2-0f08120cd1e203187a40cfe22672a57e_r.jpg?source=1940ef5c\\\\\"\\\\u002F\\\\u003E\\\\u003C\\\\u002Ffigure\\\\u003E\\\\u003Cp data-pid=\\\\\"RXTVQdRj\\\\\"\\\\u003E更早的古籍版\\\\u003C\\\\u002Fp\\\\u003E\\\\u003Cfigure data-size=\\\\\"normal\\\\\"\\\\u003E\\\\u003Cimg src=\\\\\"https:\\\\u002F\\\\u002Fpic2.zhimg.com\\\\u002F50\\\\u002Fv2-9a3333818bcb754c16b17f825600af7e_720w.jpg?source=1940ef5c\\\\\" data-rawwidth=\\\\\"661\\\\\" data-rawheight=\\\\\"446\\\\\" data-size=\\\\\"normal\\\\\" data-default-watermark-src=\\\\\"https:\\\\u002F\\\\u002Fpic3.zhimg.com\\\\u002F50\\\\u002Fv2-f4174596ca3c5c7a74d34bdd765b8b6f_720w.jpg?source=1940ef5c\\\\\" class=\\\\\"origin_image zh-lightbox-thumb\\\\\" width=\\\\\"661\\\\\" data-original=\\\\\"https:\\\\u002F\\\\u002Fpica.zhimg.com\\\\u002Fv2-9a3333818bcb754c16b17f825600af7e_r.jpg?source=1940ef5c\\\\\"\\\\u002F\\\\u003E\\\\u003C\\\\u002Ffigure\\\\u003E\\\\u003Cp data-pid=\\\\\"fZpsLpyZ\\\\\"\\\\u003E有人很奇怪，台湾不是写作臺灣吗？怎么祝英台的台字就还写作“台”呢？\\\\u003C\\\\u002Fp\\\\u003E\\\\u003Cp data-pid=\\\\\"ahdINcVb\\\\\"\\\\u003E因为繁体本来就有台字啊。\\\\u003C\\\\u002Fp\\\\u003E\\\\u003Cp data-pid=\\\\\"w2dcG_KY\\\\\"\\\\u003E台州，天台山……“台”“臺”本来就是\\\\u003C\\\\u002Fp\\\\u003E\\\\u003Cfigure data-size=\\\\\"normal\\\\\"\\\\u003E\\\\u003Cimg src=\\\\\"https:\\\\u002F\\\\u002Fpica.zhimg.com\\\\u002F50\\\\u002Fv2-accd000221430167e7a057ac6c6eb597_720w.jpg?source=1940ef5c\\\\\" data-rawwidth=\\\\\"922\\\\\" data-rawheight=\\\\\"1423\\\\\" data-size=\\\\\"normal\\\\\" data-default-watermark-src=\\\\\"https:\\\\u002F\\\\u002Fpic2.zhimg.com\\\\u002F50\\\\u002Fv2-b2bade292209a3f57eb59b02020c9125_720w.jpg?source=1940ef5c\\\\\" class=\\\\\"origin_image zh-lightbox-thumb\\\\\" width=\\\\\"922\\\\\" data-original=\\\\\"https:\\\\u002F\\\\u002Fpica.zhimg.com\\\\u002Fv2-accd000221430167e7a057ac6c6eb597_r.jpg?source=1940ef5c\\\\\"\\\\u002F\\\\u003E\\\\u003C\\\\u002Ffigure\\\\u003E\\\\u003Cp data-pid=\\\\\"bAROcVsA\\\\\"\\\\u003E两个字……\\\\u003C\\\\u002Fp\\\\u003E\\\\u003Cp data-pid=\\\\\"slEZAldJ\\\\\"\\\\u003E甚至读音都不一样。\\\\u003C\\\\u002Fp\\\\u003E\",\"title\":\"\",\"excerpt\":\"问他一个问题，“祝英台”繁体字怎么写？ 他要是告诉你就写作“祝英台”，那么你就忍着吧，人家有这个资格。 要是他写成其他的，比如“祝英臺”，那么你尽管去嘲讽他叶公好龙，喜欢用繁体字装逼。 这是我在B站看到的一个弹幕。 “唯一的遗憾，祝英台写成了简体。” [图片] [图片] 我一脸懵逼，有没有一种可能，祝英台的繁体就是祝英台呢？ 这是1954年版的《梁山伯与祝英台》 [图片] 这是李翰祥版《梁山伯与祝英台》 [图片] 这是民国大达图书局刊行的《梁山伯…\",\"suggestEdit\":{\"reason\":\"\",\"status\":false,\"tip\":\"\",\"title\":\"\",\"unnormalDetails\":{\"status\":\"\",\"description\":\"\",\"reason\":\"\",\"reasonId\":0,\"note\":\"\"},\"url\":\"\"},\"thumbnailInfo\":{\"count\":7,\"type\":\"\",\"thumbnails\":[{\"type\":\"image\",\"url\":\"https:\\\\u002F\\\\u002Fpic4.zhimg.com\\\\u002Fv2-4ec2f9763026f2688b6d1b8d1f3bfa85_720w.jpg\",\"width\":1440,\"height\":1080,\"token\":\"v2-4ec2f9763026f2688b6d1b8d1f3bfa85\",\"dataId\":0},{\"type\":\"image\",\"url\":\"https:\\\\u002F\\\\u002Fpic2.zhimg.com\\\\u002Fv2-9fe85e6ebe663b87a234e1dec4cfcc0a_720w.jpg\",\"width\":1230,\"height\":923,\"token\":\"v2-9fe85e6ebe663b87a234e1dec4cfcc0a\",\"dataId\":0},{\"type\":\"image\",\"url\":\"https:\\\\u002F\\\\u002Fpic3.zhimg.com\\\\u002Fv2-a111249362c0717265f8db6a37ed283f_720w.jpg\",\"width\":922,\"height\":691,\"token\":\"v2-a111249362c0717265f8db6a37ed283f\",\"dataId\":0}]},\"relationship\":{\"isAuthor\":false,\"isAuthorized\":false,\"isNothelp\":false,\"isThanked\":false,\"voting\":0},\"attachment\":{\"type\":\"ANSWER\",\"attachmentId\":\"\"},\"isDeleted\":false}},{\"content\":{\"id\":480188393,\"title\":\"那些冷门却很惊艳的四字成语，收藏！\",\"type\":\"article\",\"excerptTitle\":\"1，坠兔收光：月亮落下 2，漱石枕流：隐居生活 3，屡变星霜：岁月更换 4，枕山襟海：靠山依海 5，沤珠槿艳：短暂的幻景 6，夭桃秾李：年少美貌 7，千岁鹤归：对故乡的眷恋之情 8，珠翠之珍：水陆所产的美味食物 9，杳霭流玉：无声云雾像流动的玉一样 10，月…\",\"url\":\"https:\\\\u002F\\\\u002Fzhuanlan.zhihu.com\\\\u002Fp\\\\u002F480188393\",\"imageUrl\":\"\",\"created\":1647148208,\"updated\":1647148208,\"excerpt\":\"1，坠兔收光：月亮落下 2，漱石枕流：隐居生活 3，屡变星霜：岁月更换 4，枕山襟海：靠山依海 5，沤珠槿艳：短暂的幻景 6，夭桃秾李：年少美貌 7，千岁鹤归：对故乡的眷恋之情 8，珠翠之珍：水陆所产的美味食物 9，杳霭流玉：无声云雾像流动的玉一样 10，月…\",\"author\":{\"id\":\"e93bc32b580a89bcc3878e0e3bb21467\",\"urlToken\":\"xiao-mi-feng-15-9-6\",\"name\":\"萝卜\",\"useDefaultAvatar\":false,\"avatarUrl\":\"https:\\\\u002F\\\\u002Fpic3.zhimg.com\\\\u002Fv2-7060bd187949e2c9fac591a6c347fda1_l.jpg?source=0df5f383\",\"avatarUrlTemplate\":\"https:\\\\u002F\\\\u002Fpicx.zhimg.com\\\\u002Fv2-7060bd187949e2c9fac591a6c347fda1.jpg?source=0df5f383\",\"isOrg\":false,\"type\":\"people\",\"url\":\"https:\\\\u002F\\\\u002Fwww.zhihu.com\\\\u002Fpeople\\\\u002Fe93bc32b580a89bcc3878e0e3bb21467\",\"userType\":\"people\",\"headline\":\"…………………是文案呀\",\"gender\":-1,\"isAdvertiser\":false,\"vipInfo\":{\"isVip\":false,\"renameDays\":\"\",\"widget\":{\"url\":\"\",\"nightModeUrl\":\"\"},\"vipIcon\":{\"url\":\"\",\"nightModeUrl\":\"\"}},\"badgeV2\":{\"title\":\"\",\"mergedBadges\":[],\"detailBadges\":[],\"icon\":\"\",\"nightIcon\":\"\"},\"activedAt\":1641613430},\"commentPermission\":\"all\",\"content\":\"\\\\u003Cp data-pid=\\\\\"0OX4l-iv\\\\\"\\\\u003E1，坠兔收光：月亮落下\\\\u003C\\\\u002Fp\\\\u003E\\\\u003Cp data-pid=\\\\\"Eef0vGGM\\\\\"\\\\u003E2，漱石枕流：隐居生活\\\\u003C\\\\u002Fp\\\\u003E\\\\u003Cp data-pid=\\\\\"OLe_Up3g\\\\\"\\\\u003E3，屡变星霜：岁月更换\\\\u003C\\\\u002Fp\\\\u003E\\\\u003Cp data-pid=\\\\\"lctOliLc\\\\\"\\\\u003E4，枕山襟海：靠山依海\\\\u003C\\\\u002Fp\\\\u003E\\\\u003Cp data-pid=\\\\\"okfJZpRN\\\\\"\\\\u003E5，沤珠槿艳：短暂的幻景\\\\u003C\\\\u002Fp\\\\u003E\\\\u003Cp data-pid=\\\\\"gzq7aNOf\\\\\"\\\\u003E6，夭桃秾李：年少美貌\\\\u003C\\\\u002Fp\\\\u003E\\\\u003Cp data-pid=\\\\\"KEiK9SNh\\\\\"\\\\u003E7，千岁鹤归：对故乡的眷恋之情\\\\u003C\\\\u002Fp\\\\u003E\\\\u003Cp data-pid=\\\\\"CiEjeWwv\\\\\"\\\\u003E8，珠翠之珍：水陆所产的美味食物 \\\\u003C\\\\u002Fp\\\\u003E\\\\u003Cp data-pid=\\\\\"_Vat_ZoX\\\\\"\\\\u003E9，杳霭流玉：无声云雾像流动的玉一样\\\\u003C\\\\u002Fp\\\\u003E\\\\u003Cp data-pid=\\\\\"8MGLHLAr\\\\\"\\\\u003E10，月落星沉：月亮落山，星光暗淡了，天将亮了 \\\\u003C\\\\u002Fp\\\\u003E\\\\u003Cfigure data-size=\\\\\"normal\\\\\"\\\\u003E\\\\u003Cimg src=\\\\\"https:\\\\u002F\\\\u002Fpic3.zhimg.com\\\\u002Fv2-d8ac9fd6f4516b7e59deb7d49b94778a_b.jpg\\\\\" data-caption=\\\\\"\\\\\" data-size=\\\\\"normal\\\\\" data-rawwidth=\\\\\"1280\\\\\" data-rawheight=\\\\\"853\\\\\" class=\\\\\"origin_image zh-lightbox-thumb\\\\\" width=\\\\\"1280\\\\\" data-original=\\\\\"https:\\\\u002F\\\\u002Fpic3.zhimg.com\\\\u002Fv2-d8ac9fd6f4516b7e59deb7d49b94778a_r.jpg\\\\\"\\\\u002F\\\\u003E\\\\u003C\\\\u002Ffigure\\\\u003E\\\\u003Cp data-pid=\\\\\"aZRovb_9\\\\\"\\\\u003E11，芒寒色正：星光清冷色纯正，也借以称颂人的品行高洁正直\\\\u003C\\\\u002Fp\\\\u003E\\\\u003Cp data-pid=\\\\\"6DXrjKzL\\\\\"\\\\u003E12，浮翠流丹：青绿、朱红的颜色在流动和浮现，色彩鲜明艳丽\\\\u003C\\\\u002Fp\\\\u003E\\\\u003Cp data-pid=\\\\\"4nHO0HDC\\\\\"\\\\u003E13，自月至鱼：《东方创世论》中坚信月亮和鱼分别是万物的起点和终点，自月至鱼则为世事变迁\\\\u003C\\\\u002Fp\\\\u003E\\\\u003Cp data-pid=\\\\\"uS7iGw-R\\\\\"\\\\u003E14，岁聿云暮：指一年将尽\\\\u003C\\\\u002Fp\\\\u003E\\\\u003Cp data-pid=\\\\\"j3r_sTCS\\\\\"\\\\u003E15，片石韩陵：比喻少见的好文章\\\\u003C\\\\u002Fp\\\\u003E\\\\u003Cp data-pid=\\\\\"EF-VG6GV\\\\\"\\\\u003E16，星奔川骛：形容迅速疾快\\\\u003C\\\\u002Fp\\\\u003E\\\\u003Cp data-pid=\\\\\"12lgoB2R\\\\\"\\\\u003E17，鹤归华表：感叹人世的变迁\\\\u003C\\\\u002Fp\\\\u003E\\\\u003Cp data-pid=\\\\\"AchZb6iX\\\\\"\\\\u003E19，绮纨之岁：指少年时代\\\\u003C\\\\u002Fp\\\\u003E\\\\u003Cp data-pid=\\\\\"eNikMhOr\\\\\"\\\\u003E20，月露风云：比喻无用的文字\\\\u003C\\\\u002Fp\\\\u003E\\\\u003Cfigure data-size=\\\\\"normal\\\\\"\\\\u003E\\\\u003Cimg src=\\\\\"https:\\\\u002F\\\\u002Fpic1.zhimg.com\\\\u002Fv2-5b70cdd6a5a28520c1d9b6d2f0d9257c_b.jpg\\\\\" data-caption=\\\\\"\\\\\" data-size=\\\\\"normal\\\\\" data-rawwidth=\\\\\"1050\\\\\" data-rawheight=\\\\\"1280\\\\\" class=\\\\\"origin_image zh-lightbox-thumb\\\\\" width=\\\\\"1050\\\\\" data-original=\\\\\"https:\\\\u002F\\\\u002Fpic1.zhimg.com\\\\u002Fv2-5b70cdd6a5a28520c1d9b6d2f0d9257c_r.jpg\\\\\"\\\\u002F\\\\u003E\\\\u003C\\\\u002Ffigure\\\\u003E\\\\u003Cp data-pid=\\\\\"KxZGnbgb\\\\\"\\\\u003E21，珠零锦粲：指如珠玉之铿零，锦绣之灿烂。比喻文词华丽 \\\\u003C\\\\u002Fp\\\\u003E\\\\u003Cp data-pid=\\\\\"kToMB4On\\\\\"\\\\u003E22，秦欢晋爱：形容双方关系十分和美、亲近\\\\u003C\\\\u002Fp\\\\u003E\\\\u003Cp data-pid=\\\\\"MfTDs_ZT\\\\\"\\\\u003E23，袂云汗雨：形容行人之多\\\\u003C\\\\u002Fp\\\\u003E\\\\u003Cp data-pid=\\\\\"GLr9E-MI\\\\\"\\\\u003E24，霞姿月韵：指俊美清雅的仪态和风度\\\\u003C\\\\u002Fp\\\\u003E\\\\u003Cp data-pid=\\\\\"djBoFosy\\\\\"\\\\u003E25，渊清玉絜：如渊之清，如玉之洁。比喻人品高尚\\\\u003C\\\\u002Fp\\\\u003E\",\"voteupCount\":5598,\"commentCount\":111}}],\"title\":\"实用技能\",\"url\":\"https:\\\\u002F\\\\u002Fwww.zhihu.com\\\\u002Fapi\\\\u002Fv4\\\\u002Fcollections\\\\u002F39266299\",\"totalCount\":9087,\"creator\":{\"id\":\"be41e4bc2f85644f11abfe3e49a8a6fb\",\"urlToken\":\"zhi-xin-wei-r\",\"name\":\"1983\",\"useDefaultAvatar\":false,\"avatarUrl\":\"https:\\\\u002F\\\\u002Fpicx.zhimg.com\\\\u002Fb746b6bede4e35cf54f21c77a95ee409_l.jpg?source=0df5f383\",\"avatarUrlTemplate\":\"https:\\\\u002F\\\\u002Fpica.zhimg.com\\\\u002Fb746b6bede4e35cf54f21c77a95ee409.jpg?source=0df5f383\",\"isOrg\":false,\"type\":\"people\",\"url\":\"https:\\\\u002F\\\\u002Fwww.zhihu.com\\\\u002Fpeople\\\\u002Fbe41e4bc2f85644f11abfe3e49a8a6fb\",\"userType\":\"people\",\"headline\":\"我是1982的哥哥，我为清华帝代言，1982+1真诚与爱还有正义，就是我！\",\"gender\":1,\"isAdvertiser\":false,\"vipInfo\":{\"isVip\":false,\"renameDays\":\"\",\"widget\":{\"url\":\"\",\"nightModeUrl\":\"\"},\"vipIcon\":{\"url\":\"\",\"nightModeUrl\":\"\"}},\"badgeV2\":{\"title\":\"\",\"mergedBadges\":[],\"detailBadges\":[],\"icon\":\"\",\"nightIcon\":\"\"},\"activedAt\":1470278043},\"updatedTime\":1655691732,\"isFollowing\":false,\"followerCount\":11728,\"isPublic\":true,\"type\":\"collection\",\"id\":39266299},\"64234065\":{\"favitems\":[{\"content\":{\"id\":2310932585,\"type\":\"answer\",\"answerType\":\"NORMAL\",\"url\":\"https:\\\\u002F\\\\u002Fwww.zhihu.com\\\\u002Fquestion\\\\u002F45394531\\\\u002Fanswer\\\\u002F2310932585\",\"createdTime\":1642166703,\"updatedTime\":1655219166,\"question\":{\"type\":\"question\",\"id\":45394531,\"title\":\"长大后，你明白了哪些不一样的道理？\",\"questionType\":\"normal\",\"created\":1462297361,\"updatedTime\":1597892872,\"url\":\"https:\\\\u002F\\\\u002Fwww.zhihu.com\\\\u002Fquestion\\\\u002F45394531\",\"isDeleted\":false},\"author\":{\"id\":\"9cb4c5a39ada0c5814d09c20f2cf7c79\",\"urlToken\":\"wu-lu-jun-71\",\"name\":\"温文道叔\",\"useDefaultAvatar\":false,\"avatarUrl\":\"https:\\\\u002F\\\\u002Fpic1.zhimg.com\\\\u002Fv2-efbfad810ad0ffce9d64f9cb2c3c0fea_l.jpg?source=0df5f383\",\"avatarUrlTemplate\":\"https:\\\\u002F\\\\u002Fpic3.zhimg.com\\\\u002Fv2-efbfad810ad0ffce9d64f9cb2c3c0fea.jpg?source=0df5f383\",\"isOrg\":false,\"type\":\"people\",\"url\":\"https:\\\\u002F\\\\u002Fwww.zhihu.com\\\\u002Fpeople\\\\u002F9cb4c5a39ada0c5814d09c20f2cf7c79\",\"userType\":\"people\",\"headline\":\"公众号:温文道叔 关注即送《职场升迁秘籍》助你少走十年弯路\",\"gender\":1,\"isAdvertiser\":false,\"vipInfo\":{\"isVip\":false,\"renameDays\":\"\",\"widget\":{\"url\":\"\",\"nightModeUrl\":\"\"},\"vipIcon\":{\"url\":\"\",\"nightModeUrl\":\"\"}},\"badgeV2\":{\"title\":\"\",\"mergedBadges\":[],\"detailBadges\":[],\"icon\":\"\",\"nightIcon\":\"\"},\"activedAt\":1493908605},\"thumbnail\":\"\",\"isCollapsed\":false,\"isCopyable\":false,\"isVisible\":true,\"isNormal\":true,\"voteupCount\":1945,\"commentCount\":38,\"thanksCount\":1503,\"isMine\":false,\"commentPermission\":\"all\",\"reshipmentSettings\":\"disallowed\",\"content\":\"\\\\u003Cp data-pid=\\\\\"JOb2SHpt\\\\\"\\\\u003E1、出来混，就不能怂，自己都觉得低人一等，别人更看不起你。\\\\u003C\\\\u002Fp\\\\u003E\\\\u003Cp data-pid=\\\\\"N8HkbdnC\\\\\"\\\\u003E有些人遇到大佬，说话都发抖。就问你怕个啥？你花他钱了？吃他大米了？做过对不起他的事了？\\\\u003C\\\\u002Fp\\\\u003E\\\\u003Cp data-pid=\\\\\"g8_r_8yU\\\\\"\\\\u003E越卑微，别人觉得你越弱，不如挺直腰杆，勇于表达自我，更容易赢得尊重。\\\\u003C\\\\u002Fp\\\\u003E\\\\u003Cp data-pid=\\\\\"6-OMqEU8\\\\\"\\\\u003E2、适当培养你的钝感力。\\\\u003C\\\\u002Fp\\\\u003E\\\\u003Cp data-pid=\\\\\"eUGsgveq\\\\\"\\\\u003E遇事就崩，对犯过的错误耿耿于怀，别人一个眼神，就觉得别人在说自己坏话。带着这样的想法，久而久之，自己都神经衰弱了。\\\\u003C\\\\u002Fp\\\\u003E\\\\u003Cp data-pid=\\\\\"OarU1E5C\\\\\"\\\\u003E其实，谁都可能遇见糟糕的事，谁也都犯过错误，别人可能对你没有恶意。别想太多，心情就会好很多。\\\\u003C\\\\u002Fp\\\\u003E\\\\u003Cp data-pid=\\\\\"eIx7YPAG\\\\\"\\\\u003E3、无论好坏，人对人产生的影响其实蛮大的。\\\\u003C\\\\u002Fp\\\\u003E\\\\u003Cp data-pid=\\\\\"8COSWCO2\\\\\"\\\\u003E学习要找对老师，工作要跟对领导，谈恋爱要找对伴侣，人生要交对朋友。你的人生会截然不同。\\\\u003C\\\\u002Fp\\\\u003E\\\\u003Cp data-pid=\\\\\"yfEa70sG\\\\\"\\\\u003E4、不为过去后悔，不为未来怀疑。\\\\u003C\\\\u002Fp\\\\u003E\\\\u003Cp data-pid=\\\\\"sW0vRsar\\\\\"\\\\u003E过去发生的都发生了，你只需脚踏实地走好每一步，对得起未来的自己就好了。\\\\u003C\\\\u002Fp\\\\u003E\\\\u003Cp data-pid=\\\\\"BMRNR6b1\\\\\"\\\\u003E5、无论男女，不要因为孤独，就放低自己的择偶标准。\\\\u003C\\\\u002Fp\\\\u003E\\\\u003Cp data-pid=\\\\\"cTuvCV24\\\\\"\\\\u003E那些说话满嘴跑火车、沾花惹草的人，真的不适合你。你和他们在一起只是委屈了自己的后半生。不如放慢脚步，等待那个真正适合你的人出现。\\\\u003C\\\\u002Fp\\\\u003E\\\\u003Cp data-pid=\\\\\"CoxTyGga\\\\\"\\\\u003E6、\\\\u003Cb\\\\u003E如果你喜欢这个内容，记得关注，朋友圈也会不定期更新的。\\\\u003C\\\\u002Fb\\\\u003E\\\\u003C\\\\u002Fp\\\\u003E\\\\u003Cp data-pid=\\\\\"6Flq7H1c\\\\\"\\\\u003E7、对自己最亲近的人好一点。\\\\u003C\\\\u002Fp\\\\u003E\\\\u003Cp data-pid=\\\\\"CW5IW6tH\\\\\"\\\\u003E如果不是十恶不赦，亲近的人就算有一两个缺点，不要在意了。因为当你出问题的时候，只有亲近的人才会站出来帮衬你。\\\\u003C\\\\u002Fp\\\\u003E\\\\u003Cp data-pid=\\\\\"ijuoUHG6\\\\\"\\\\u003E此外，每个人都有缺点，你觉得有些人完美，只是因为他和你不亲密，你没有看见他们内里的毛病罢了。\\\\u003C\\\\u002Fp\\\\u003E\\\\u003Cp data-pid=\\\\\"2K-c4_1S\\\\\"\\\\u003E8、失败一次，并不代表你不行，凡事可以逆转。但如果你自我放弃了，就代表你真的不行了。\\\\u003C\\\\u002Fp\\\\u003E\\\\u003Cp data-pid=\\\\\"EUtfJRnT\\\\\"\\\\u003E9、让你短期快乐的事，一定让你长期不快乐。\\\\u003C\\\\u002Fp\\\\u003E\\\\u003Cp data-pid=\\\\\"vT80lpGA\\\\\"\\\\u003E炸鸡好吃，但一定让你为身材发愁。游戏好玩，但一定让你因为成绩\\\\u002F业绩苦恼。\\\\u003C\\\\u002Fp\\\\u003E\\\\u003Cp data-pid=\\\\\"vZvDyamh\\\\\"\\\\u003E10、学人不学坏，要学人好。\\\\u003C\\\\u002Fp\\\\u003E\\\\u003Cp data-pid=\\\\\"F_899hPK\\\\\"\\\\u003E别人混日子、惹是生非，那是因为人家在混吃等死。\\\\u003C\\\\u002Fp\\\\u003E\\\\u003Cp data-pid=\\\\\"KxRaCb60\\\\\"\\\\u003E你学个啥？为啥不能跟那些好学努力的青年学学，如何把自己变优秀？\\\\u003C\\\\u002Fp\\\\u003E\\\\u003Cp data-pid=\\\\\"r1Swzn6h\\\\\"\\\\u003E11、学点心理学，你会更懂人。也更知道那些该做哪些不该做，你的人缘会更好。\\\\u003C\\\\u002Fp\\\\u003E\\\\u003Cp data-pid=\\\\\"p2NA3Ams\\\\\"\\\\u003E12、生活中，你可能会碰到一些不公道的事。比如，你会看见没你实力强的人，却比你混的好。\\\\u003C\\\\u002Fp\\\\u003E\\\\u003Cp data-pid=\\\\\"RS6mcVUi\\\\\"\\\\u003E但没关系，想办法打败他们，是对你能力极好的证明。\\\\u003C\\\\u002Fp\\\\u003E\\\\u003Cp data-pid=\\\\\"h6NtDiYu\\\\\"\\\\u003E13、年轻时，别总给未来自己挖坑，要学会搭桥。\\\\u003C\\\\u002Fp\\\\u003E\\\\u003Cp data-pid=\\\\\"hf2x2alS\\\\\"\\\\u003E做事不要冲动，多些理智，对未来多些谋篇布局，未来你，会感谢现在的自己。\\\\u003C\\\\u002Fp\\\\u003E\\\\u003Cp data-pid=\\\\\"JbecB9qP\\\\\"\\\\u003E14、遇见事情，别总沉浸情绪，想办法解决问题。你会减少80%的烦恼，做成很多事情。\\\\u003C\\\\u002Fp\\\\u003E\\\\u003Cp data-pid=\\\\\"XfclU0ZF\\\\\"\\\\u003E15、想提升自己的能力，就挑战自己不会做的事情。你挑战越多，成长越快。\\\\u003C\\\\u002Fp\\\\u003E\\\\u003Cp data-pid=\\\\\"KvH43Rc9\\\\\"\\\\u003E16、很少有人被高估，却有很多人被低估。所以面对别人的嘲笑，不用难过，也不用怀疑自己。你只需做好自己就好了，毕竟你是谁，只有你自己说了算。\\\\u003C\\\\u002Fp\\\\u003E\\\\u003Cp data-pid=\\\\\"gEt8uewf\\\\\"\\\\u003E17、不要总听别人的，你得有自己的主见。\\\\u003C\\\\u002Fp\\\\u003E\\\\u003Cp data-pid=\\\\\"rs0hU3dW\\\\\"\\\\u003E无能的人会告诉你一切皆没可能，偏激的人会告诉你天下都是坏人。你能全信吗？你得培养判断力，有自己的主见才行。\\\\u003C\\\\u002Fp\\\\u003E\\\\u003Cp data-pid=\\\\\"1SanhcVl\\\\\"\\\\u003E18、无论是友情和爱情，经得住考验，才见真心。\\\\u003C\\\\u002Fp\\\\u003E\\\\u003Cp data-pid=\\\\\"e2mZO8Td\\\\\"\\\\u003E那些你一出事就玩消失，说自己忙的人，离远点吧。\\\\u003C\\\\u002Fp\\\\u003E\\\\u003Cp data-pid=\\\\\"KhuOY02B\\\\\"\\\\u003E19、\\\\u003Cb\\\\u003E别害怕孤独，人因为孤独而强大。\\\\u003C\\\\u002Fb\\\\u003E\\\\u003C\\\\u002Fp\\\\u003E\\\\u003Cp data-pid=\\\\\"KwWmc05e\\\\\"\\\\u003E很扎心的一个现实，人是孤独的，没有人可以帮你做所有事，没有人能够在你难过的时候，时刻陪在你身边倾听你。\\\\u003C\\\\u002Fp\\\\u003E\\\\u003Cp data-pid=\\\\\"ouItMizJ\\\\\"\\\\u003E你必须学会自己处理情绪和难题，当你能一个人解决很多事情的时候，恭喜你，已经成为一个非常优秀且强大的人了。\\\\u003C\\\\u002Fp\\\\u003E\\\\u003Cp data-pid=\\\\\"tPPw_hLo\\\\\"\\\\u003E公众号:\\\\u003Cb\\\\u003E温文道叔\\\\u003C\\\\u002Fb\\\\u003E\\\\u003C\\\\u002Fp\\\\u003E\\\\u003Cp data-pid=\\\\\"SIQOO6Sz\\\\\"\\\\u003E\\\\u003Cb\\\\u003E推荐阅读\\\\u003C\\\\u002Fb\\\\u003E\\\\u003C\\\\u002Fp\\\\u003E\\\\u003Ca data-draft-node=\\\\\"block\\\\\" data-draft-type=\\\\\"link-card\\\\\" href=\\\\\"https:\\\\u002F\\\\u002Fzhuanlan.zhihu.com\\\\u002Fp\\\\u002F445261961\\\\\" data-size=\\\\\"normal\\\\\" class=\\\\\"internal\\\\\"\\\\u003E讲我这个穷二代闯荡社会的一些经历\\\\u003C\\\\u002Fa\\\\u003E\\\\u003Cp class=\\\\\"ztext-empty-paragraph\\\\\"\\\\u003E\\\\u003Cbr\\\\u002F\\\\u003E\\\\u003C\\\\u002Fp\\\\u003E\\\\u003Ca data-draft-node=\\\\\"block\\\\\" data-draft-type=\\\\\"link-card\\\\\" href=\\\\\"https:\\\\u002F\\\\u002Fwww.zhihu.com\\\\u002Fanswer\\\\u002F2477876657\\\\\" data-image=\\\\\"https:\\\\u002F\\\\u002Fpic2.zhimg.com\\\\u002Fv2-82c74eeea5de186007dffb985de81b19_720w.jpg\\\\\" data-image-width=\\\\\"1080\\\\\" data-image-height=\\\\\"572\\\\\" class=\\\\\"internal\\\\\"\\\\u003E身边的有钱人教会了你哪些道理？\\\\u003C\\\\u002Fa\\\\u003E\\\\u003Cp\\\\u003E\\\\u003C\\\\u002Fp\\\\u003E\",\"title\":\"\",\"excerpt\":\"1、出来混，就不能怂，自己都觉得低人一等，别人更看不起你。 有些人遇到大佬，说话都发抖。就问你怕个啥？你花他钱了？吃他大米了？做过对不起他的事了？ 越卑微，别人觉得你越弱，不如挺直腰杆，勇于表达自我，更容易赢得尊重。 2、适当培养你的钝感力。 遇事就崩，对犯过的错误耿耿于怀，别人一个眼神，就觉得别人在说自己坏话。带着这样的想法，久而久之，自己都神经衰弱了。 其实，谁都可能遇见糟糕的事，谁也都犯过错误，…\",\"suggestEdit\":{\"reason\":\"\",\"status\":false,\"tip\":\"\",\"title\":\"\",\"unnormalDetails\":{\"status\":\"\",\"description\":\"\",\"reason\":\"\",\"reasonId\":0,\"note\":\"\"},\"url\":\"\"},\"thumbnailInfo\":{\"count\":0,\"type\":\"\",\"thumbnails\":[]},\"relationship\":{\"isAuthor\":false,\"isAuthorized\":false,\"isNothelp\":false,\"isThanked\":false,\"voting\":0},\"attachment\":{\"type\":\"ANSWER\",\"attachmentId\":\"\"},\"isDeleted\":false}},{\"content\":{\"id\":530478625,\"title\":\"如何摆脱原生家庭的影响\",\"type\":\"article\",\"excerptTitle\":\"1.绝不主动联系。 2.任何辩理立即停止，即使你是对的。 3.绝不做任何取悦父母、感动父母的事。 4.只负责父母病了给他们送医院，得到应有的治疗。其他的和你无关。 5.遭遇道德绑架立即挂电话，立即离场，立即拉黑，绝不对视，绝不辩解，绝不回头。 6.永远不…\",\"url\":\"https:\\\\u002F\\\\u002Fzhuanlan.zhihu.com\\\\u002Fp\\\\u002F530478625\",\"imageUrl\":\"\",\"created\":1655514780,\"updated\":1655514780,\"excerpt\":\"1.绝不主动联系。 2.任何辩理立即停止，即使你是对的。 3.绝不做任何取悦父母、感动父母的事。 4.只负责父母病了给他们送医院，得到应有的治疗。其他的和你无关。 5.遭遇道德绑架立即挂电话，立即离场，立即拉黑，绝不对视，绝不辩解，绝不回头。 6.永远不…\",\"author\":{\"id\":\"fb8f97c67ad07282cbf504575d08b07f\",\"urlToken\":\"4-67-17-77\",\"name\":\"军哥\",\"useDefaultAvatar\":false,\"avatarUrl\":\"https:\\\\u002F\\\\u002Fpic2.zhimg.com\\\\u002Fv2-7cd0af05fddb677f444c7e24f3ba4f0e_l.jpg?source=0df5f383\",\"avatarUrlTemplate\":\"https:\\\\u002F\\\\u002Fpic3.zhimg.com\\\\u002Fv2-7cd0af05fddb677f444c7e24f3ba4f0e.jpg?source=0df5f383\",\"isOrg\":false,\"type\":\"people\",\"url\":\"https:\\\\u002F\\\\u002Fwww.zhihu.com\\\\u002Fpeople\\\\u002Ffb8f97c67ad07282cbf504575d08b07f\",\"userType\":\"people\",\"headline\":\"福上无量天尊\",\"gender\":1,\"isAdvertiser\":false,\"vipInfo\":{\"isVip\":true,\"renameDays\":\"\",\"widget\":{\"url\":\"\",\"nightModeUrl\":\"\"},\"vipIcon\":{\"url\":\"https:\\\\u002F\\\\u002Fpic2.zhimg.com\\\\u002Fv2-4812630bc27d642f7cafcd6cdeca3d7a_r.png?source=0df5f383\",\"nightModeUrl\":\"https:\\\\u002F\\\\u002Fpic3.zhimg.com\\\\u002Fv2-4812630bc27d642f7cafcd6cdeca3d7a_r.png?source=0df5f383\"}},\"badgeV2\":{\"title\":\"\",\"mergedBadges\":[],\"detailBadges\":[],\"icon\":\"\",\"nightIcon\":\"\"},\"activedAt\":1653292719},\"commentPermission\":\"all\",\"content\":\"\\\\u003Cp data-pid=\\\\\"v1uCOyzL\\\\\"\\\\u003E\\\\u003Cb\\\\u003E1.绝不主动联系。\\\\u003C\\\\u002Fb\\\\u003E\\\\u003Cbr\\\\u002F\\\\u003E\\\\u003Cb\\\\u003E2.任何辩理立即停止，即使你是对的。\\\\u003C\\\\u002Fb\\\\u003E\\\\u003Cbr\\\\u002F\\\\u003E3.绝不做任何取悦父母、感动父母的事。\\\\u003Cbr\\\\u002F\\\\u003E4.只负责父母病了给他们送医院，得到应有的治疗。其他的和你无关。\\\\u003Cbr\\\\u002F\\\\u003E5.遭遇道德绑架立即挂电话，立即离场，立即拉黑，绝不对视，绝不辩解，绝不回头。\\\\u003Cbr\\\\u002F\\\\u003E\\\\u003Cb\\\\u003E6.永远不跟他们说一句实话，包括工作，收入，伴侣，收入管道，公司。\\\\u003C\\\\u002Fb\\\\u003E\\\\u003Cbr\\\\u002F\\\\u003E只要你吸收了这六点，并且认真去执行的话，你会发现，你正在飞速脱离原生家庭。\\\\u003Cbr\\\\u002F\\\\u003E而且呢，垃圾家庭出身的屌丝，要想真正摆脱原生家庭的影响，一定是从精神上摆脱。\\\\u003Cbr\\\\u002F\\\\u003E至于经济独立、心理自愈这些都是表象，并不是摆脱的核心，解决不了根本的问题。\\\\u003Cbr\\\\u002F\\\\u003E那么核心是什么？\\\\u003Cbr\\\\u002F\\\\u003E核心就是：\\\\u003Cb\\\\u003E转变观念，把家人当成狗看，而不是跟你平等相处的人。\\\\u003C\\\\u002Fb\\\\u003E\\\\u003Cbr\\\\u002F\\\\u003E聪明的老板都明白一个道理：成年人只能筛选，不能教育。\\\\u003Cbr\\\\u002F\\\\u003E对于父母、兄弟姐妹这些已经成年的家人也是一样。\\\\u003Cbr\\\\u002F\\\\u003E对于原生家庭里伤害过你的家人，你不要指望他们能认错，因为他们即使心里知道错了，也不会向你认错的，他们只会给自己找借口，然后把责任推到你身上，下次再继续恶心你，不会有例外。\\\\u003Cbr\\\\u002F\\\\u003E毕竟，在zg，家就是一个犯错了也可以不认错的法外之地（清官难断家务事）。\\\\u003Cbr\\\\u002F\\\\u003E除非你能做出一些惩罚性的举动（比如拉黑、远离，六亲不认，发脾气），能让他们求饶，否则家人即使坑死了你也是会把责任推到你身上的，这也是人性的恶。\\\\u003Cbr\\\\u002F\\\\u003E我之前说过很多次，人是一种很贱的动物，只尊重强者，不会感恩，喜欢白嫖，更不会认错。人跟狗其实没有本质区别。\\\\u003Cbr\\\\u002F\\\\u003E所以，千万不要抱有期待和幻想，期待家人知错后补偿你或者帮助你。\\\\u003Cbr\\\\u002F\\\\u003E如果你实力很差，那就远离他们，逃的越远越好，考个远大学或者找个远的工作都是不错的选择，等实力增长到一定程度（比如月收入超过5万）再回来，因为狗能做的，只能只能是控制你，打压你，永远不可能会帮你。\\\\u003Cbr\\\\u002F\\\\u003E对待原生家庭，只有自强和自救，才是正确的做法。\\\\u003Cbr\\\\u002F\\\\u003E永远杀伐果断，永远不取悦他们，永远让他们跪舔你，永远要对他们有主导意识，而不是被主导。\\\\u003Cbr\\\\u002F\\\\u003E总之，把家人当狗看就对了，永远不要把他们看作是跟你平等的人。他们说的话，就全当狗吠了，千万不要在意。\\\\u003Cbr\\\\u002F\\\\u003E另外，对原生家庭，要多说“滚”字。\\\\u003Cbr\\\\u002F\\\\u003E“滚”字说的越多，你摆脱道德绑架和精神控制就越彻底。\\\\u003Cbr\\\\u002F\\\\u003E只要你把家人当狗看，那么他们之前的所有行为看上去也就顺理成章了，不就那么回事嘛，都不是人做的事，而是狗做的事。\\\\u003Cbr\\\\u002F\\\\u003E既然要把家人当狗，那就要注意狗急跳墙，不要让他们接触你，不要让他们知道你的工作单位，不要让他们知道你的住址，不要让他们知道你的伴侣是谁。\\\\u003Cbr\\\\u002F\\\\u003E在此基础上，法律上规定该给的钱一分钱也不能少。\\\\u003Cbr\\\\u002F\\\\u003E当然了，不该给的一分也不给，大部分的精力和钱都要集中到生命中真正重要的三五个人身，集中到赋予你正能量的人身上。\\\\u003Cbr\\\\u002F\\\\u003E记住，\\\\u003Cb\\\\u003E原生家庭就是个狗窝。\\\\u003C\\\\u002Fb\\\\u003E\\\\u003Cbr\\\\u002F\\\\u003E如果你听懂了这句话，你就会发现，世界很安静，世界很美好。\\\\u003Cbr\\\\u002F\\\\u003E自然而然地，你的心情也会变好，人也会越来越有精气神，这就是对原生家庭最好的摆脱。\\\\u003Cbr\\\\u002F\\\\u003E最后，我给大家说一个结论，大家可以仔细思考。\\\\u003Cbr\\\\u002F\\\\u003E\\\\u003Cb\\\\u003E变富，是对穷人的背叛。\\\\u003C\\\\u002Fb\\\\u003E\\\\u003Cbr\\\\u002F\\\\u003E如果你明白了我这句话，那么你一定是一个富有的人。而且是一个从贫穷走到富有、经历过这种转变的人。\\\\u003Cbr\\\\u002F\\\\u003E举个小例子，WL宏离婚了，贫穷的人，在那里细数他的罪过，说他是应得的，还编出了各种段子来戏谑讽刺。\\\\u003Cbr\\\\u002F\\\\u003E而富有的人，都记得他的艺术成就，还是很感激他当年给大家带来的快乐。总之呢，认可他对这个社会贡献的价值。\\\\u003Cbr\\\\u002F\\\\u003E那么，这两类人，自然就互相看不上对方，都觉得对方的三观是有问题的。我们都知道，人是立体的，没办法给任何人扣上一顶帽子，简单地说他是好人或者是坏人。\\\\u003Cbr\\\\u002F\\\\u003E有意思的是，穷人一直盯着别人的负面，而富人一直在学习别人的正面。\\\\u003Cbr\\\\u002F\\\\u003E结果就是，富有的人，身上聚集的全是正能量，而穷人则一直被\\\\u003Ca href=\\\\\"https:\\\\u002F\\\\u002Fwww.zhihu.com\\\\u002Fsearch?q=%E8%B4%9F%E8%83%BD%E9%87%8F&amp;search_source=Entity&amp;hybrid_search_source=Entity&amp;hybrid_search_extra=%7B%22sourceType%22%3A%22answer%22%2C%22sourceId%22%3A2522267869%7D\\\\\" class=\\\\\"internal\\\\\"\\\\u003E负能量\\\\u003C\\\\u002Fa\\\\u003E缠绕。\\\\u003Cbr\\\\u002F\\\\u003E如果你开始跟周围人有了观念的冲突，说明你的思维在逐渐升级，逐渐进阶富有，这意味着你对贫穷环境的背叛。\\\\u003Cbr\\\\u002F\\\\u003E我认为，我绝大部分老师、家长和长辈，都是穷人思维的产物，但是呢，我们从小到大，一直是活在他们的标准里。\\\\u003Cbr\\\\u002F\\\\u003E想做任何事情，潜意识就会问自己：他们会如何评价我？我这样做他们会不会认可我？\\\\u003Cbr\\\\u002F\\\\u003E如果，你想过他们那种无聊的生活，每天困在特定的时间、特定的空间，做着麻木的工作，一直走到退休，那么你可以选择一直被他们影响。\\\\u003Cbr\\\\u002F\\\\u003E反之，如果你对那种生活毫无想法，你就要背叛他们，甚至对于任何事情都跟他们唱反调。\\\\u003Cbr\\\\u002F\\\\u003E比如，他们对于任何富有的人，都是仇视的，认为富人都是坏人。\\\\u003Cbr\\\\u002F\\\\u003E开\\\\u003Ca href=\\\\\"https:\\\\u002F\\\\u002Fwww.zhihu.com\\\\u002Fsearch?q=%E5%8A%B3%E6%96%AF%E8%8E%B1%E6%96%AF&amp;search_source=Entity&amp;hybrid_search_source=Entity&amp;hybrid_search_extra=%7B%22sourceType%22%3A%22answer%22%2C%22sourceId%22%3A2522267869%7D\\\\\" class=\\\\\"internal\\\\\"\\\\u003E劳斯莱斯\\\\u003C\\\\u002Fa\\\\u003E的司机撞人了，他们会认为，开豪车的都没啥好东西。\\\\u003Cbr\\\\u002F\\\\u003E而我们要清楚，基本上每一个富有的人，都有其闪光之处，都他们不可取代的非凡价值，都值得我们去观察、去学习。\\\\u003Cbr\\\\u002F\\\\u003E另外，他们是受垃圾信息洗脑最深的人，新闻，资讯，影视，综艺，鸡汤文，99%都是垃圾，但是他们看得津津有味，而且还每天花大量时间进行讨论。\\\\u003Cbr\\\\u002F\\\\u003E而我们的时间，绝对不能浪费在无意义的事情上，要么在提升自己，要么在为社会创造价值。\\\\u003Cbr\\\\u002F\\\\u003E我之前就说过，穷人就是喜欢占便宜的人，也喜欢索取，他们将会一直穷下去。\\\\u003Cbr\\\\u002F\\\\u003E而富人，都懂得先付出的道理，没有付出就没有回报。\\\\u003Cbr\\\\u002F\\\\u003E人是环境的产物，我们都是受环境影响的。\\\\u003Cbr\\\\u002F\\\\u003E我们的家人，老师，同事，对我们的影响非常大。\\\\u003Cbr\\\\u002F\\\\u003E如果他们都是平庸的人，那么你一旦变得富有一点，你的话语和行为就会变得与众不同，他们都会感受到刺痛，这时候他们会通过各种形式来干扰你，或者向后拉你。\\\\u003Cbr\\\\u002F\\\\u003E你一旦继续一意孤行，向人生的高峰继续攀爬，他们就会有被背叛的感觉。\\\\u003Cbr\\\\u002F\\\\u003E这时候，他们就是你的瓶颈。能否突破这一瓶颈，决定了你的人生将走到一个什么高度。\\\\u003Cbr\\\\u002F\\\\u003E我的做法，就是跟所有思维贫穷的人一刀两断（直系亲属除外），直接去结识新的朋友，思维富有的朋友，浑身正能量的朋友。\\\\u003Cbr\\\\u002F\\\\u003E对于之前的穷人圈子，要直接背叛。为什么我用“背叛”这样严重的词呢？\\\\u003Cbr\\\\u002F\\\\u003E因为这是对于你一直以来的思维方式的颠覆，也是在向整个底层说再见。\\\\u003Cbr\\\\u002F\\\\u003E而且，穷人认为你崛起了，就是对他们的背叛。\\\\u003Cbr\\\\u002F\\\\u003E说好的一起穷下去呢？\\\\u003Cbr\\\\u002F\\\\u003E然后呢，如果有一天，你身边的人觉得你很另类，你很装逼，看你很不顺眼，觉得你的脑子有毛病，那么恭喜你，你离阶层跨越，离开狗窝已经不远了。\\\\u003C\\\\u002Fp\\\\u003E\",\"voteupCount\":358,\"commentCount\":138}}],\"title\":\"冷门但是良心\",\"url\":\"https:\\\\u002F\\\\u002Fwww.zhihu.com\\\\u002Fapi\\\\u002Fv4\\\\u002Fcollections\\\\u002F64234065\",\"totalCount\":1256,\"creator\":{\"id\":\"be41e4bc2f85644f11abfe3e49a8a6fb\",\"urlToken\":\"zhi-xin-wei-r\",\"name\":\"1983\",\"useDefaultAvatar\":false,\"avatarUrl\":\"https:\\\\u002F\\\\u002Fpicx.zhimg.com\\\\u002Fb746b6bede4e35cf54f21c77a95ee409_l.jpg?source=0df5f383\",\"avatarUrlTemplate\":\"https:\\\\u002F\\\\u002Fpic2.zhimg.com\\\\u002Fb746b6bede4e35cf54f21c77a95ee409.jpg?source=0df5f383\",\"isOrg\":false,\"type\":\"people\",\"url\":\"https:\\\\u002F\\\\u002Fwww.zhihu.com\\\\u002Fpeople\\\\u002Fbe41e4bc2f85644f11abfe3e49a8a6fb\",\"userType\":\"people\",\"headline\":\"我是1982的哥哥，我为清华帝代言，1982+1真诚与爱还有正义，就是我！\",\"gender\":1,\"isAdvertiser\":false,\"vipInfo\":{\"isVip\":false,\"renameDays\":\"\",\"widget\":{\"url\":\"\",\"nightModeUrl\":\"\"},\"vipIcon\":{\"url\":\"\",\"nightModeUrl\":\"\"}},\"badgeV2\":{\"title\":\"\",\"mergedBadges\":[],\"detailBadges\":[],\"icon\":\"\",\"nightIcon\":\"\"},\"activedAt\":1470278043},\"updatedTime\":1655694636,\"isFollowing\":false,\"followerCount\":2369,\"isPublic\":true,\"type\":\"collection\",\"id\":64234065},\"132813470\":{\"favitems\":[{\"content\":{\"id\":2498982065,\"type\":\"answer\",\"answerType\":\"NORMAL\",\"url\":\"https:\\\\u002F\\\\u002Fwww.zhihu.com\\\\u002Fquestion\\\\u002F529558892\\\\u002Fanswer\\\\u002F2498982065\",\"createdTime\":1653358924,\"updatedTime\":1653467002,\"question\":{\"type\":\"question\",\"id\":529558892,\"title\":\"如何评价韦慧晓成为中国海军首位女舰长，掌舵新型主力战舰？\",\"questionType\":\"normal\",\"created\":1650683105,\"updatedTime\":1651255627,\"url\":\"https:\\\\u002F\\\\u002Fwww.zhihu.com\\\\u002Fquestion\\\\u002F529558892\",\"isDeleted\":false},\"author\":{\"id\":\"98f1393598627dc8b12c0fffa9ffa1ac\",\"urlToken\":\"29-47-7-40\",\"name\":\"薛定谔的狗\",\"useDefaultAvatar\":false,\"avatarUrl\":\"https:\\\\u002F\\\\u002Fpic1.zhimg.com\\\\u002Fv2-8e5425dc167b59bd69e144545f646a58_l.jpg?source=0df5f383\",\"avatarUrlTemplate\":\"https:\\\\u002F\\\\u002Fpic2.zhimg.com\\\\u002Fv2-8e5425dc167b59bd69e144545f646a58.jpg?source=0df5f383\",\"isOrg\":false,\"type\":\"people\",\"url\":\"https:\\\\u002F\\\\u002Fwww.zhihu.com\\\\u002Fpeople\\\\u002F98f1393598627dc8b12c0fffa9ffa1ac\",\"userType\":\"people\",\"headline\":\"以法律傍身用金融糊口靠PPT生存的老文青\",\"gender\":1,\"isAdvertiser\":false,\"vipInfo\":{\"isVip\":false,\"renameDays\":\"\",\"widget\":{\"url\":\"\",\"nightModeUrl\":\"\"},\"vipIcon\":{\"url\":\"\",\"nightModeUrl\":\"\"}},\"badgeV2\":{\"title\":\"\",\"mergedBadges\":[],\"detailBadges\":[],\"icon\":\"\",\"nightIcon\":\"\"},\"activedAt\":1649312267},\"thumbnail\":\"\",\"isCollapsed\":false,\"isCopyable\":true,\"isVisible\":true,\"isNormal\":true,\"voteupCount\":6744,\"commentCount\":669,\"thanksCount\":683,\"isMine\":false,\"commentPermission\":\"all\",\"reshipmentSettings\":\"allowed\",\"content\":\"\\\\u003Cp data-pid=\\\\\"b7WdXTXB\\\\\"\\\\u003E其实现在好多年轻学生看不明白有些简历光辉灿烂的二代们的上位历程，大专毕业然后猛地破格提拔都是粗糙操作的老黄历了。现在流行的就是打怪升级式的提拔。\\\\u003C\\\\u002Fp\\\\u003E\\\\u003Cp data-pid=\\\\\"jbShU8wD\\\\\"\\\\u003E以我所服务过的某银行为例，一个二代的基操就是先去澳洲刷本科，本科读完以后去英美刷一年制硕士，然后回国进银行网点，3个月的前台，3个月的客户经理，然后支行长助理、支行长，一年内调往市分行机关，1-2年内轮岗多个部门，然后成为部门总，然后借调省分行，在某实权部门（一般不去前台，前台要出业绩，风险太大，一般就去战略、办公室或者人力）干基础工作，3-5年内从副科开始向上直到提拔部门副职，然后上党委会调任某分行副行长，总共用时不超过8年，一位学历光鲜、履历丰富、业务精干而且让你挑不出任何毛病的市分行副行长诞生了。\\\\u003C\\\\u002Fp\\\\u003E\\\\u003Cp data-pid=\\\\\"DgLxkxvt\\\\\"\\\\u003E所以这样的操作要领就是：每一步按照指令下棋，每一步你单挑都挑不出毛病，每一级台阶都没落下，但恰好就是每次都能卡着最低年限向上晋升。所以这位韦小姐从读书到当上副舰长的履历如此丰富，而且每天都被排的满满的，就是在按照指令做好每一步的事情，以确保自己永远都能在最正确的时间卡到最正确的点上。\\\\u003C\\\\u002Fp\\\\u003E\\\\u003Cp data-pid=\\\\\"fPfIm7J9\\\\\"\\\\u003E你跟一个开了全图外加场外指导外加开挂的人一起玩帝国，输了不怨你菜，没事儿。\\\\u003C\\\\u002Fp\\\\u003E\",\"title\":\"\",\"excerpt\":\"其实现在好多年轻学生看不明白有些简历光辉灿烂的二代们的上位历程，大专毕业然后猛地破格提拔都是粗糙操作的老黄历了。现在流行的就是打怪升级式的提拔。 以我所服务过的某银行为例，一个二代的基操就是先去澳洲刷本科，本科读完以后去英美刷一年制硕士，然后回国进银行网点，3个月的前台，3个月的客户经理，然后支行长助理、支行长，一年内调往市分行机关，1-2年内轮岗多个部门，然后成为部门总，然后借调省分行，在某实权部门…\",\"suggestEdit\":{\"reason\":\"\",\"status\":false,\"tip\":\"\",\"title\":\"\",\"unnormalDetails\":{\"status\":\"\",\"description\":\"\",\"reason\":\"\",\"reasonId\":0,\"note\":\"\"},\"url\":\"\"},\"thumbnailInfo\":{\"count\":0,\"type\":\"\",\"thumbnails\":[]},\"relationship\":{\"isAuthor\":false,\"isAuthorized\":false,\"isNothelp\":false,\"isThanked\":false,\"voting\":0},\"attachment\":{\"type\":\"ANSWER\",\"attachmentId\":\"\"},\"isDeleted\":false}},{\"content\":{\"id\":348253297,\"type\":\"answer\",\"answerType\":\"NORMAL\",\"url\":\"https:\\\\u002F\\\\u002Fwww.zhihu.com\\\\u002Fquestion\\\\u002F37511675\\\\u002Fanswer\\\\u002F348253297\",\"createdTime\":1521737186,\"updatedTime\":1521737186,\"question\":{\"type\":\"question\",\"id\":37511675,\"title\":\"有哪些原本只是一个小消息，但回看发现是个惊天大新闻的例子？\",\"questionType\":\"normal\",\"created\":1447561890,\"updatedTime\":1490170861,\"url\":\"https:\\\\u002F\\\\u002Fwww.zhihu.com\\\\u002Fquestion\\\\u002F37511675\",\"isDeleted\":false},\"author\":{\"id\":\"a327cb477712f671721731c5725967fe\",\"urlToken\":\"chen-ru-tong\",\"name\":\"CauchyRiemann\",\"useDefaultAvatar\":false,\"avatarUrl\":\"https:\\\\u002F\\\\u002Fpic2.zhimg.com\\\\u002Fv2-9a3e45b5f556c9eda103c77a7d34457f_l.jpg?source=0df5f383\",\"avatarUrlTemplate\":\"https:\\\\u002F\\\\u002Fpica.zhimg.com\\\\u002Fv2-9a3e45b5f556c9eda103c77a7d34457f.jpg?source=0df5f383\",\"isOrg\":false,\"type\":\"people\",\"url\":\"https:\\\\u002F\\\\u002Fwww.zhihu.com\\\\u002Fpeople\\\\u002Fa327cb477712f671721731c5725967fe\",\"userType\":\"people\",\"headline\":\"\",\"gender\":1,\"isAdvertiser\":false,\"vipInfo\":{\"isVip\":false,\"renameDays\":\"\",\"widget\":{\"url\":\"\",\"nightModeUrl\":\"\"},\"vipIcon\":{\"url\":\"\",\"nightModeUrl\":\"\"}},\"badgeV2\":{\"title\":\"\",\"mergedBadges\":[],\"detailBadges\":[],\"icon\":\"\",\"nightIcon\":\"\"},\"activedAt\":1},\"thumbnail\":\"\",\"isCollapsed\":false,\"isCopyable\":false,\"isVisible\":true,\"isNormal\":true,\"voteupCount\":6469,\"commentCount\":132,\"thanksCount\":534,\"isMine\":false,\"commentPermission\":\"all\",\"reshipmentSettings\":\"disallowed\",\"content\":\"\\\\u003Cp data-pid=\\\\\"CMAduVdj\\\\\"\\\\u003E    1854年的一天，德国一位年轻人为了获得一个讲师的职位，需要做一次入职演讲，演讲的题目由大数学家高斯来指定，根据以往的潜规则，主考官会在前两个题目中挑选一个，可是高斯直接跳过了前两个题目选择了第三个——关于几何学基础的研究。因为他也花费了几十年时间来思考这个问题，他想听听这个年轻人是如何看待这个问题的。\\\\u003C\\\\u002Fp\\\\u003E\\\\u003Cp data-pid=\\\\\"7PbBS572\\\\\"\\\\u003E    年轻人大吃一惊，尼玛，不按套路出牌啊！于是只好硬着头皮加班加点赶工，在多花了7个星期以后总算拿出了一篇初稿，题目为《论几何学基础的假设》，为了让观众能听懂他在讲什么，他压缩了所有的分析过程，只保留了少量公式，但结果是，台下几乎所有的教授都一脸懵逼，你讲的都是些什么鬼？完全就是一篇哲学论文啊。唯一可以确定的是至少有一个人听懂了，那就是高斯。高斯怀着少有的激动心情深表赞赏，在回来的路上一直夸奖这位年轻人的思想深度——这篇演讲超过了高斯所有的期望。（为了说明让高斯激动是多困难的一件事，这里插播一件他与悲情人物勒让德的小故事：\\\\u003C\\\\u002Fp\\\\u003E\\\\u003Cp data-pid=\\\\\"aG8Uk0Ez\\\\\"\\\\u003E勒让德：哈哈哈，老子发明最小二乘法啦！\\\\u003C\\\\u002Fp\\\\u003E\\\\u003Cp data-pid=\\\\\"CXUd-5bZ\\\\\"\\\\u003E高斯：我十年前就知道了。\\\\u003C\\\\u002Fp\\\\u003E\\\\u003Cp data-pid=\\\\\"0qr91Jbk\\\\\"\\\\u003E勒让德：哇哈哈，老子发现二次互反律啦！\\\\u003C\\\\u002Fp\\\\u003E\\\\u003Cp data-pid=\\\\\"K_sYWoDp\\\\\"\\\\u003E高斯：详见我的笔记268页。\\\\u003C\\\\u002Fp\\\\u003E\\\\u003Cp data-pid=\\\\\"Jhlo3kBQ\\\\\"\\\\u003E勒让德：哇咔咔，老子证明代数基本定理啦！\\\\u003C\\\\u002Fp\\\\u003E\\\\u003Cp data-pid=\\\\\"hg_f3yDc\\\\\"\\\\u003E高斯：你的证明是错的，正确的证明可以在我的笔记163页找到。\\\\u003C\\\\u002Fp\\\\u003E\\\\u003Cp data-pid=\\\\\"jvDMr3e8\\\\\"\\\\u003E勒让德：。。你麻痹，还让不让人玩啦？\\\\u003C\\\\u002Fp\\\\u003E\\\\u003Cp data-pid=\\\\\"0HFPlN_C\\\\\"\\\\u003E几个月后…\\\\u003C\\\\u002Fp\\\\u003E\\\\u003Cp data-pid=\\\\\"mYChYoAY\\\\\"\\\\u003E高斯：最近有没有什么新发现啊？\\\\u003C\\\\u002Fp\\\\u003E\\\\u003Cp data-pid=\\\\\"x1vWf_tn\\\\\"\\\\u003E勒让德：滚！\\\\u003C\\\\u002Fp\\\\u003E\\\\u003Cp data-pid=\\\\\"QhT-icvX\\\\\"\\\\u003E阿贝尔，波约尔，伽罗瓦纷纷点赞…）但就是这么bug一样的存在，冷漠如同死鱼一般的高斯居然怀着无比激动的心情盛赞这篇演讲，可想而知这篇论文有多牛逼。\\\\u003C\\\\u002Fp\\\\u003E\\\\u003Cp data-pid=\\\\\"HGtVOV1B\\\\\"\\\\u003E    说到这，大家可能也猜到了，没错，这个年轻人名叫黎曼。\\\\u003C\\\\u002Fp\\\\u003E\\\\u003Cp data-pid=\\\\\"bio8RlUk\\\\\"\\\\u003E    事实上，他的这篇文章可以称得上是划时代的文章，直接开启了现代几何研究的大门，不但提出了流形的概念，还开创了黎曼几何甚至芬斯勒几何这个学科，还为后来爱因斯坦广义相对论的发表准备好了数学工具，可以称得上是数学史上的一个转折点。但是这么伟大的一次改变历史的演讲，居然只是为了赢得讲师这么一个职位，让人有种用大炮轰蚊子的感觉。\\\\u003C\\\\u002Fp\\\\u003E\\\\u003Cp data-pid=\\\\\"b1cb0GSC\\\\\"\\\\u003E    当时的记载估计是这样，一年轻人发表了一次演讲并获得了一个讲师职位。\\\\u003C\\\\u002Fp\\\\u003E\",\"title\":\"\",\"excerpt\":\"1854年的一天，德国一位年轻人为了获得一个讲师的职位，需要做一次入职演讲，演讲的题目由大数学家高斯来指定，根据以往的潜规则，主考官会在前两个题目中挑选一个，可是高斯直接跳过了前两个题目选择了第三个——关于几何学基础的研究。因为他也花费了几十年时间来思考这个问题，他想听听这个年轻人是如何看待这个问题的。 年轻人大吃一惊，尼玛，不按套路出牌啊！于是只好硬着头皮加班加点赶工，在多花了7个星期以后总算拿出了…\",\"suggestEdit\":{\"reason\":\"\",\"status\":false,\"tip\":\"\",\"title\":\"\",\"unnormalDetails\":{\"status\":\"\",\"description\":\"\",\"reason\":\"\",\"reasonId\":0,\"note\":\"\"},\"url\":\"\"},\"thumbnailInfo\":{\"count\":0,\"type\":\"\",\"thumbnails\":[]},\"relationship\":{\"isAuthor\":false,\"isAuthorized\":false,\"isNothelp\":false,\"isThanked\":false,\"voting\":0},\"attachment\":{\"type\":\"ANSWER\",\"attachmentId\":\"\"},\"isDeleted\":false}}],\"title\":\"正港干货\",\"url\":\"https:\\\\u002F\\\\u002Fwww.zhihu.com\\\\u002Fapi\\\\u002Fv4\\\\u002Fcollections\\\\u002F132813470\",\"totalCount\":3695,\"creator\":{\"id\":\"be41e4bc2f85644f11abfe3e49a8a6fb\",\"urlToken\":\"zhi-xin-wei-r\",\"name\":\"1983\",\"useDefaultAvatar\":false,\"avatarUrl\":\"https:\\\\u002F\\\\u002Fpic3.zhimg.com\\\\u002Fb746b6bede4e35cf54f21c77a95ee409_l.jpg?source=0df5f383\",\"avatarUrlTemplate\":\"https:\\\\u002F\\\\u002Fpica.zhimg.com\\\\u002Fb746b6bede4e35cf54f21c77a95ee409.jpg?source=0df5f383\",\"isOrg\":false,\"type\":\"people\",\"url\":\"https:\\\\u002F\\\\u002Fwww.zhihu.com\\\\u002Fpeople\\\\u002Fbe41e4bc2f85644f11abfe3e49a8a6fb\",\"userType\":\"people\",\"headline\":\"我是1982的哥哥，我为清华帝代言，1982+1真诚与爱还有正义，就是我！\",\"gender\":1,\"isAdvertiser\":false,\"vipInfo\":{\"isVip\":false,\"renameDays\":\"\",\"widget\":{\"url\":\"\",\"nightModeUrl\":\"\"},\"vipIcon\":{\"url\":\"\",\"nightModeUrl\":\"\"}},\"badgeV2\":{\"title\":\"\",\"mergedBadges\":[],\"detailBadges\":[],\"icon\":\"\",\"nightIcon\":\"\"},\"activedAt\":1470278043},\"updatedTime\":1655700859,\"isFollowing\":false,\"followerCount\":930,\"isPublic\":true,\"type\":\"collection\",\"id\":132813470},\"139584344\":{\"favitems\":[{\"content\":{\"id\":2529679435,\"type\":\"answer\",\"answerType\":\"NORMAL\",\"url\":\"https:\\\\u002F\\\\u002Fwww.zhihu.com\\\\u002Fquestion\\\\u002F397895256\\\\u002Fanswer\\\\u002F2529679435\",\"createdTime\":1655265577,\"updatedTime\":1655265577,\"question\":{\"type\":\"question\",\"id\":397895256,\"title\":\"有没有可能房产税最近十年压根就不会收了？\",\"questionType\":\"normal\",\"created\":1590638153,\"updatedTime\":1590638153,\"url\":\"https:\\\\u002F\\\\u002Fwww.zhihu.com\\\\u002Fquestion\\\\u002F397895256\",\"isDeleted\":false},\"author\":{\"id\":\"de05efc9e9ccd221c28b0d05eb833bc4\",\"urlToken\":\"shuo-shu-44-10\",\"name\":\"硕鼠\",\"useDefaultAvatar\":false,\"avatarUrl\":\"https:\\\\u002F\\\\u002Fpica.zhimg.com\\\\u002Fv2-219cffad10431d35f416b6eaaedc0583_l.jpg?source=0df5f383\",\"avatarUrlTemplate\":\"https:\\\\u002F\\\\u002Fpic1.zhimg.com\\\\u002Fv2-219cffad10431d35f416b6eaaedc0583.jpg?source=0df5f383\",\"isOrg\":false,\"type\":\"people\",\"url\":\"https:\\\\u002F\\\\u002Fwww.zhihu.com\\\\u002Fpeople\\\\u002Fde05efc9e9ccd221c28b0d05eb833bc4\",\"userType\":\"people\",\"headline\":\"感冒之外，物竞天择\",\"gender\":1,\"isAdvertiser\":false,\"vipInfo\":{\"isVip\":false,\"renameDays\":\"\",\"widget\":{\"url\":\"\",\"nightModeUrl\":\"\"},\"vipIcon\":{\"url\":\"\",\"nightModeUrl\":\"\"}},\"badgeV2\":{\"title\":\"\",\"mergedBadges\":[],\"detailBadges\":[],\"icon\":\"\",\"nightIcon\":\"\"},\"activedAt\":1513995108},\"thumbnail\":\"\",\"isCollapsed\":false,\"isCopyable\":true,\"isVisible\":true,\"isNormal\":true,\"voteupCount\":2626,\"commentCount\":374,\"thanksCount\":163,\"isMine\":false,\"commentPermission\":\"all\",\"reshipmentSettings\":\"allowed\",\"content\":\"\\\\u003Cp data-pid=\\\\\"rFo9EASJ\\\\\"\\\\u003E房产税刚提出时，就卡在一个问题上了：跨省统计个人房产。技术上不难，但如果实现，相当于公务员的亲属们，对公众暴露了不动产总量。\\\\u003C\\\\u002Fp\\\\u003E\\\\u003Cp data-pid=\\\\\"S5pOs4_C\\\\\"\\\\u003E---- 生造一个例子：一个大学科研处的闲差岗位，个税肯定会在单位里曝光的。大家突然发现，她在北京、青岛、大连、上海，各有几套价值数千万的房子。那么她的处长也会妒忌她的，于是在科长会议上说，这个人当初是省里的谁谁谁，通过副校长塞给我的。最后就是全校、全社会传开。\\\\u003C\\\\u002Fp\\\\u003E\\\\u003Cp data-pid=\\\\\"sOs0xSAR\\\\\"\\\\u003E所以，可行性的难题在于，怎么让这个税收，只影响真老百姓，不影响假老百姓。也许只记一个市的房产，假装不存在多地有房的情况，是一个解决方案。\\\\u003C\\\\u002Fp\\\\u003E\",\"title\":\"\",\"excerpt\":\"房产税刚提出时，就卡在一个问题上了：跨省统计个人房产。技术上不难，但如果实现，相当于公务员的亲属们，对公众暴露了不动产总量。 --- 生造一个例子：一个大学科研处的闲差岗位，个税肯定会在单位里曝光的。大家突然发现，她在北京、青岛、大连、上海，各有几套价值数千万的房子。那么她的处长也会妒忌她的，于是在科长会议上说，这个人当初是省里的谁谁谁，通过副校长塞给我的。最后就是全校、全社会传开。 所以，可行性的…\",\"suggestEdit\":{\"reason\":\"\",\"status\":false,\"tip\":\"\",\"title\":\"\",\"unnormalDetails\":{\"status\":\"\",\"description\":\"\",\"reason\":\"\",\"reasonId\":0,\"note\":\"\"},\"url\":\"\"},\"thumbnailInfo\":{\"count\":0,\"type\":\"\",\"thumbnails\":[]},\"relationship\":{\"isAuthor\":false,\"isAuthorized\":false,\"isNothelp\":false,\"isThanked\":false,\"voting\":0},\"attachment\":{\"type\":\"ANSWER\",\"attachmentId\":\"\"},\"isDeleted\":false}},{\"content\":{\"id\":2533543727,\"type\":\"answer\",\"answerType\":\"NORMAL\",\"url\":\"https:\\\\u002F\\\\u002Fwww.zhihu.com\\\\u002Fquestion\\\\u002F538195999\\\\u002Fanswer\\\\u002F2533543727\",\"createdTime\":1655481741,\"updatedTime\":1655481741,\"question\":{\"type\":\"question\",\"id\":538195999,\"title\":\"郑州市纪委监委启动对赋红码问题调查问责程序，哪些信息值得关注？\",\"questionType\":\"normal\",\"created\":1655459103,\"updatedTime\":1655459103,\"url\":\"https:\\\\u002F\\\\u002Fwww.zhihu.com\\\\u002Fquestion\\\\u002F538195999\",\"isDeleted\":false},\"author\":{\"id\":\"95093bfd7997df8204176ba6bbd0fd44\",\"urlToken\":\"yi-jue-xing-lai-you-ying-liao\",\"name\":\"一觉醒来又赢了\",\"useDefaultAvatar\":false,\"avatarUrl\":\"https:\\\\u002F\\\\u002Fpic2.zhimg.com\\\\u002Fv2-6fd63e002c1b9b7ee99cf635608f9467_l.jpg?source=0df5f383\",\"avatarUrlTemplate\":\"https:\\\\u002F\\\\u002Fpic3.zhimg.com\\\\u002Fv2-6fd63e002c1b9b7ee99cf635608f9467.jpg?source=0df5f383\",\"isOrg\":false,\"type\":\"people\",\"url\":\"https:\\\\u002F\\\\u002Fwww.zhihu.com\\\\u002Fpeople\\\\u002F95093bfd7997df8204176ba6bbd0fd44\",\"userType\":\"people\",\"headline\":\"自愚自乐\",\"gender\":1,\"isAdvertiser\":false,\"vipInfo\":{\"isVip\":false,\"renameDays\":\"\",\"widget\":{\"url\":\"\",\"nightModeUrl\":\"\"},\"vipIcon\":{\"url\":\"\",\"nightModeUrl\":\"\"}},\"badgeV2\":{\"title\":\"\",\"mergedBadges\":[],\"detailBadges\":[],\"icon\":\"\",\"nightIcon\":\"\"},\"activedAt\":1525603977},\"thumbnail\":\"\",\"isCollapsed\":false,\"isCopyable\":true,\"isVisible\":true,\"isNormal\":true,\"voteupCount\":1612,\"commentCount\":145,\"thanksCount\":127,\"isMine\":false,\"commentPermission\":\"all\",\"reshipmentSettings\":\"allowed\",\"content\":\"\\\\u003Cp data-pid=\\\\\"x6j1EE4D\\\\\"\\\\u003E这次河南最大的问题是步子迈大了扯着蛋。从健康码诞生的第一天开始，其本质就是管控人的。顺民绿码其他红码。河南只不过把这玩意的原始属性展现出来。\\\\u003C\\\\u002Fp\\\\u003E\\\\u003Cp data-pid=\\\\\"ugFsRa5O\\\\\"\\\\u003E只是在实施过程中忘记了要温水煮青蛙。诚然现在的民众与十年前的不可同日而语，但毕竟改革开放几十年，社会上还是有那么点现代文明思想残余。\\\\u003C\\\\u002Fp\\\\u003E\\\\u003Cp data-pid=\\\\\"qxq6Rbi-\\\\\"\\\\u003E正确的最做法是先搞宣传，说通过健康码捉了哪些逃犯，控制住多少老赖，让人们知道健康码还有这些好处。然后再慢慢推广到全社会，成维稳利器。\\\\u003C\\\\u002Fp\\\\u003E\\\\u003Cp data-pid=\\\\\"gOGnnwgC\\\\\"\\\\u003E还是太急了。\\\\u003C\\\\u002Fp\\\\u003E\",\"title\":\"\",\"excerpt\":\"这次河南最大的问题是步子迈大了扯着蛋。从健康码诞生的第一天开始，其本质就是管控人的。顺民绿码其他红码。河南只不过把这玩意的原始属性展现出来。 只是在实施过程中忘记了要温水煮青蛙。诚然现在的民众与十年前的不可同日而语，但毕竟改革开放几十年，社会上还是有那么点现代文明思想残余。 正确的最做法是先搞宣传，说通过健康码捉了哪些逃犯，控制住多少老赖，让人们知道健康码还有这些好处。然后再慢慢推广到全社会，成维…\",\"suggestEdit\":{\"reason\":\"\",\"status\":false,\"tip\":\"\",\"title\":\"\",\"unnormalDetails\":{\"status\":\"\",\"description\":\"\",\"reason\":\"\",\"reasonId\":0,\"note\":\"\"},\"url\":\"\"},\"thumbnailInfo\":{\"count\":0,\"type\":\"\",\"thumbnails\":[]},\"relationship\":{\"isAuthor\":false,\"isAuthorized\":false,\"isNothelp\":false,\"isThanked\":false,\"voting\":0},\"attachment\":{\"type\":\"ANSWER\",\"attachmentId\":\"\"},\"isDeleted\":false}}],\"title\":\"考证·时机未到\",\"url\":\"https:\\\\u002F\\\\u002Fwww.zhihu.com\\\\u002Fapi\\\\u002Fv4\\\\u002Fcollections\\\\u002F139584344\",\"totalCount\":2363,\"creator\":{\"id\":\"be41e4bc2f85644f11abfe3e49a8a6fb\",\"urlToken\":\"zhi-xin-wei-r\",\"name\":\"1983\",\"useDefaultAvatar\":false,\"avatarUrl\":\"https:\\\\u002F\\\\u002Fpic2.zhimg.com\\\\u002Fb746b6bede4e35cf54f21c77a95ee409_l.jpg?source=0df5f383\",\"avatarUrlTemplate\":\"https:\\\\u002F\\\\u002Fpica.zhimg.com\\\\u002Fb746b6bede4e35cf54f21c77a95ee409.jpg?source=0df5f383\",\"isOrg\":false,\"type\":\"people\",\"url\":\"https:\\\\u002F\\\\u002Fwww.zhihu.com\\\\u002Fpeople\\\\u002Fbe41e4bc2f85644f11abfe3e49a8a6fb\",\"userType\":\"people\",\"headline\":\"我是1982的哥哥，我为清华帝代言，1982+1真诚与爱还有正义，就是我！\",\"gender\":1,\"isAdvertiser\":false,\"vipInfo\":{\"isVip\":false,\"renameDays\":\"\",\"widget\":{\"url\":\"\",\"nightModeUrl\":\"\"},\"vipIcon\":{\"url\":\"\",\"nightModeUrl\":\"\"}},\"badgeV2\":{\"title\":\"\",\"mergedBadges\":[],\"detailBadges\":[],\"icon\":\"\",\"nightIcon\":\"\"},\"activedAt\":1470278043},\"updatedTime\":1655703896,\"isFollowing\":false,\"followerCount\":547,\"isPublic\":true,\"type\":\"collection\",\"id\":139584344}},\"columns\":{\"newsilkroad\":{\"updated\":1599139344,\"description\":\"以鲜明的观点，置疑的眼光，深度的调查分析，独立和全球化的视角获取读者的信任，创办的目的是参与一场新丝路推动全球化的变革和挑战阻碍我们进步的胆怯无知，读者定位为富有独立见解和批判精神的行业精英。（微信公众号请搜索:探索新丝路\\\\u002F Email: newsilkroaddiscovery@gmail.com）\",\"columnType\":\"normal\",\"intro\":\"以鲜明的观点，深度的调查分析，独立和全球化的视角\",\"urlToken\":\"newsilkroad\",\"id\":\"newsilkroad\",\"articlesCount\":699,\"acceptSubmission\":true,\"title\":\"一带一路一故事\",\"url\":\"https:\\\\u002F\\\\u002Fzhuanlan.zhihu.com\\\\u002Fnewsilkroad\",\"commentPermission\":\"all\",\"created\":1490177453,\"imageUrl\":\"https:\\\\u002F\\\\u002Fpic1.zhimg.com\\\\u002Fv2-b948868a0183cad5d3135f78190bb33b_720w.jpg?source=d16d100b\",\"followers\":2690,\"type\":\"column\"},\"guanshu2017\":{\"updated\":1642871433,\"description\":\"兴民权，倡多元。聚焦哲学（存在、政法和西方左翼）、法治、近代史。书评、影评、时评形式不一。\",\"columnType\":\"normal\",\"intro\":\"虽知政法哲史，难处无常世事。\",\"urlToken\":\"guanshu2017\",\"id\":\"guanshu2017\",\"articlesCount\":160,\"acceptSubmission\":true,\"title\":\"山僧独向山中老\",\"url\":\"https:\\\\u002F\\\\u002Fzhuanlan.zhihu.com\\\\u002Fguanshu2017\",\"commentPermission\":\"all\",\"created\":1487585377,\"imageUrl\":\"https:\\\\u002F\\\\u002Fpic1.zhimg.com\\\\u002Fv2-895ef0fbff355cdf40c1a7258370767a_720w.jpg?source=d16d100b\",\"followers\":2051,\"type\":\"column\"},\"xuehy\":{\"updated\":1599128498,\"description\":\"我的微信公众号：薛洪言微语(ID:hongyanweiyu)\",\"columnType\":\"normal\",\"intro\":\"享受深度思考的乐趣\",\"urlToken\":\"xuehy\",\"id\":\"xuehy\",\"articlesCount\":661,\"acceptSubmission\":false,\"title\":\"薛洪言微语\",\"url\":\"https:\\\\u002F\\\\u002Fzhuanlan.zhihu.com\\\\u002Fxuehy\",\"commentPermission\":\"all\",\"created\":1460622271,\"imageUrl\":\"https:\\\\u002F\\\\u002Fpic1.zhimg.com\\\\u002Fv2-3d9f3db16693b20a695d49c9b49a6f7a_720w.jpg?source=d16d100b\",\"followers\":7551,\"type\":\"column\"},\"ota0021\":{\"updated\":1613389616,\"description\":\"许义 公众号:Travel星辰大海  长期关注新旅游创业\\\\u002F旅游互联网\",\"columnType\":\"normal\",\"intro\":\"许义，只放干货，内容原创，关注旅游创业\\\\u002F旅游互联网\",\"urlToken\":\"ota0021\",\"id\":\"ota0021\",\"articlesCount\":214,\"acceptSubmission\":true,\"title\":\"Travel星辰大海--旅游行业进阶提升\",\"url\":\"https:\\\\u002F\\\\u002Fzhuanlan.zhihu.com\\\\u002Fota0021\",\"commentPermission\":\"all\",\"created\":1499345409,\"imageUrl\":\"https:\\\\u002F\\\\u002Fpic3.zhimg.com\\\\u002F4b70deef7_720w.jpg?source=d16d100b\",\"followers\":3634,\"type\":\"column\"}},\"square\":{\"hotQuestionList\":[{\"question\":{\"url\":\"https:\\\\u002F\\\\u002Fwww.zhihu.com\\\\u002Fquestion\\\\u002F538220859\",\"created\":1655472404,\"updatedTime\":1655647786,\"title\":\"为什么我对福建舰毫无感觉？\",\"highlightTitle\":\"\",\"type\":\"question\",\"id\":\"538220859\",\"token\":538220859,\"isRecentHot\":false,\"haveAnswer\":false,\"questionAnswerUrl\":\"\",\"topics\":[{\"urlToken\":19729952,\"name\":\"军舰\"},{\"urlToken\":25726357,\"name\":\"聚焦福建舰下水\"},{\"urlToken\":25726500,\"name\":\"福建舰\"}],\"label\":\"\",\"creator\":{\"urlToken\":\"\",\"name\":\"\"}},\"reaction\":{\"newPv\":229551,\"newPv7Days\":0,\"newFollowNum\":96,\"newFollowNum7Days\":0,\"newAnswerNum\":142,\"newAnswerNum7Days\":0,\"newUpvoteNum\":5231,\"newUpvoteNum7Days\":0,\"pv\":5756941,\"followNum\":4570,\"answerNum\":3270,\"upvoteNum\":68728,\"pvIncrRate\":\"0.00%\",\"headPercent\":\"0.00%\",\"newPvYesterday\":229551,\"newPvTYesterday\":229551,\"score\":10,\"scoreLevel\":5,\"text\":\"\"}},{\"question\":{\"url\":\"https:\\\\u002F\\\\u002Fwww.zhihu.com\\\\u002Fquestion\\\\u002F538511702\",\"created\":1655653751,\"updatedTime\":1655654027,\"title\":\"如何看待中国成功实施陆基中段反导拦截技术试验？这将有何意义？\",\"highlightTitle\":\"\",\"type\":\"question\",\"id\":\"538511702\",\"token\":538511702,\"isRecentHot\":false,\"haveAnswer\":false,\"questionAnswerUrl\":\"\",\"topics\":[{\"urlToken\":19553911,\"name\":\"军事\"},{\"urlToken\":19556710,\"name\":\"国际关系\"},{\"urlToken\":19564120,\"name\":\"国际\"}],\"label\":\"新题\",\"creator\":{\"urlToken\":\"\",\"name\":\"\"}},\"reaction\":{\"newPv\":459458,\"newPv7Days\":0,\"newFollowNum\":202,\"newFollowNum7Days\":0,\"newAnswerNum\":64,\"newAnswerNum7Days\":0,\"newUpvoteNum\":2641,\"newUpvoteNum7Days\":0,\"pv\":5542683,\"followNum\":2381,\"answerNum\":663,\"upvoteNum\":18209,\"pvIncrRate\":\"0.00%\",\"headPercent\":\"0.00%\",\"newPvYesterday\":459458,\"newPvTYesterday\":459458,\"score\":10,\"scoreLevel\":5,\"text\":\"\"}},{\"question\":{\"url\":\"https:\\\\u002F\\\\u002Fwww.zhihu.com\\\\u002Fquestion\\\\u002F538358503\",\"created\":1655554439,\"updatedTime\":1655684570,\"title\":\"黄山一女子车祸卧床,丈夫悉心照顾16年后同意离婚，调解时称「放他自由，赌他的良心」，如何看待此事？\",\"highlightTitle\":\"\",\"type\":\"question\",\"id\":\"538358503\",\"token\":538358503,\"isRecentHot\":false,\"haveAnswer\":false,\"questionAnswerUrl\":\"\",\"topics\":[{\"urlToken\":19550613,\"name\":\"热门新闻\"},{\"urlToken\":19550874,\"name\":\"法律\"},{\"urlToken\":19552453,\"name\":\"离婚\"}],\"label\":\"\",\"creator\":{\"urlToken\":\"\",\"name\":\"\"}},\"reaction\":{\"newPv\":183255,\"newPv7Days\":0,\"newFollowNum\":60,\"newFollowNum7Days\":0,\"newAnswerNum\":54,\"newAnswerNum7Days\":0,\"newUpvoteNum\":1070,\"newUpvoteNum7Days\":0,\"pv\":943514,\"followNum\":555,\"answerNum\":219,\"upvoteNum\":1312,\"pvIncrRate\":\"0.00%\",\"headPercent\":\"0.00%\",\"newPvYesterday\":183255,\"newPvTYesterday\":183255,\"score\":9.451325,\"scoreLevel\":5,\"text\":\"\"}},{\"question\":{\"url\":\"https:\\\\u002F\\\\u002Fwww.zhihu.com\\\\u002Fquestion\\\\u002F538494235\",\"created\":1655643421,\"updatedTime\":1655643421,\"title\":\"中办印发《领导干部配偶、子女及其配偶经商办企业管理规定》，其中还有哪些信息值得关注？\",\"highlightTitle\":\"\",\"type\":\"question\",\"id\":\"538494235\",\"token\":538494235,\"isRecentHot\":false,\"haveAnswer\":false,\"questionAnswerUrl\":\"\",\"topics\":[{\"urlToken\":19552981,\"name\":\"经济\"},{\"urlToken\":19570700,\"name\":\"市场经济\"},{\"urlToken\":19636459,\"name\":\"经商\"}],\"label\":\"新题\",\"creator\":{\"urlToken\":\"\",\"name\":\"\"}},\"reaction\":{\"newPv\":246515,\"newPv7Days\":0,\"newFollowNum\":149,\"newFollowNum7Days\":0,\"newAnswerNum\":111,\"newAnswerNum7Days\":0,\"newUpvoteNum\":1727,\"newUpvoteNum7Days\":0,\"pv\":1807217,\"followNum\":1360,\"answerNum\":504,\"upvoteNum\":4487,\"pvIncrRate\":\"0.00%\",\"headPercent\":\"0.00%\",\"newPvYesterday\":246515,\"newPvTYesterday\":246515,\"score\":9.36759,\"scoreLevel\":5,\"text\":\"\"}}],\"potentialList\":[{\"question\":{\"url\":\"https:\\\\u002F\\\\u002Fwww.zhihu.com\\\\u002Fquestion\\\\u002F536649142\",\"created\":1654659306,\"updatedTime\":1654659884,\"title\":\"电影《人生大事》宣布定档  6 月 24 日，对此你有哪些期待？\",\"highlightTitle\":\"\",\"type\":\"question\",\"id\":\"536649142\",\"token\":536649142,\"isRecentHot\":false,\"haveAnswer\":false,\"questionAnswerUrl\":\"\",\"topics\":[{\"urlToken\":19550429,\"name\":\"电影\"},{\"urlToken\":19554706,\"name\":\"影视\"},{\"urlToken\":19645707,\"name\":\"影视作品\"}],\"label\":\"\",\"creator\":{\"urlToken\":\"tou-fa-tu-liao-25\",\"name\":\"头发秃了\"}},\"reaction\":{\"newPv\":28844,\"newPv7Days\":0,\"newFollowNum\":49,\"newFollowNum7Days\":0,\"newAnswerNum\":100,\"newAnswerNum7Days\":0,\"newUpvoteNum\":333,\"newUpvoteNum7Days\":0,\"pv\":95259,\"followNum\":174,\"answerNum\":128,\"upvoteNum\":361,\"pvIncrRate\":\"30.28%\",\"headPercent\":\"33.33%\",\"newPvYesterday\":28844,\"newPvTYesterday\":28844,\"score\":7.894456678443004,\"scoreLevel\":4,\"text\":\"浏览昨日增幅 30.28%，第一、二位回答赞同数占总回答赞同数 33.33%\"}},{\"question\":{\"url\":\"https:\\\\u002F\\\\u002Fwww.zhihu.com\\\\u002Fquestion\\\\u002F538454877\",\"created\":1655620693,\"updatedTime\":1655649607,\"title\":\"上海大样本数据揭示奥密克戎重症率，非高危组重症率 0%，这一数据说明了什么？\",\"highlightTitle\":\"\",\"type\":\"question\",\"id\":\"538454877\",\"token\":538454877,\"isRecentHot\":false,\"haveAnswer\":false,\"questionAnswerUrl\":\"\",\"topics\":[{\"urlToken\":19550818,\"name\":\"上海\"},{\"urlToken\":19550937,\"name\":\"健康\"},{\"urlToken\":19556537,\"name\":\"疾病\"}],\"label\":\"上升\",\"creator\":{\"urlToken\":\"tou-fa-tu-liao-25\",\"name\":\"头发秃了\"}},\"reaction\":{\"newPv\":277594,\"newPv7Days\":0,\"newFollowNum\":212,\"newFollowNum7Days\":0,\"newAnswerNum\":210,\"newAnswerNum7Days\":0,\"newUpvoteNum\":2712,\"newUpvoteNum7Days\":0,\"pv\":529107,\"followNum\":502,\"answerNum\":249,\"upvoteNum\":2897,\"pvIncrRate\":\"52.46%\",\"headPercent\":\"0.00%\",\"newPvYesterday\":277594,\"newPvTYesterday\":277594,\"score\":7.894447179395834,\"scoreLevel\":4,\"text\":\"浏览昨日增幅 52.46%，第一、二位回答赞同数占总回答赞同数 0.00%\"}},{\"question\":{\"url\":\"https:\\\\u002F\\\\u002Fwww.zhihu.com\\\\u002Fquestion\\\\u002F538480830\",\"created\":1655634428,\"updatedTime\":1655642721,\"title\":\"6 月 19 日广东惠州一饭店老板见女生被打见义勇为遭围殴，警方回应称已出警，此案件目前调查情况如何？\",\"highlightTitle\":\"\",\"type\":\"question\",\"id\":\"538480830\",\"token\":538480830,\"isRecentHot\":false,\"haveAnswer\":false,\"questionAnswerUrl\":\"\",\"topics\":[{\"urlToken\":19557394,\"name\":\"广东省\"},{\"urlToken\":19563711,\"name\":\"老板\"},{\"urlToken\":19610180,\"name\":\"惠州\"}],\"label\":\"新题\",\"creator\":{\"urlToken\":\"chang-jing-lu-55-81-95\",\"name\":\"长颈鹿\"}},\"reaction\":{\"newPv\":76358,\"newPv7Days\":0,\"newFollowNum\":112,\"newFollowNum7Days\":0,\"newAnswerNum\":101,\"newAnswerNum7Days\":0,\"newUpvoteNum\":820,\"newUpvoteNum7Days\":0,\"pv\":200997,\"followNum\":283,\"answerNum\":139,\"upvoteNum\":912,\"pvIncrRate\":\"37.99%\",\"headPercent\":\"0.00%\",\"newPvYesterday\":76358,\"newPvTYesterday\":76358,\"score\":7.88821602747596,\"scoreLevel\":4,\"text\":\"浏览昨日增幅 37.99%，第一、二位回答赞同数占总回答赞同数 0.00%\"}},{\"question\":{\"url\":\"https:\\\\u002F\\\\u002Fwww.zhihu.com\\\\u002Fquestion\\\\u002F538524716\",\"created\":1655681342,\"updatedTime\":1655694104,\"title\":\"6 月 20 日起全国铁路实施新运行图，北京至武汉最快 3 小时 48 分可达，将带来哪些积极影响？\",\"highlightTitle\":\"\",\"type\":\"question\",\"id\":\"538524716\",\"token\":538524716,\"isRecentHot\":false,\"haveAnswer\":false,\"questionAnswerUrl\":\"\",\"topics\":[{\"urlToken\":19550828,\"name\":\"北京\"},{\"urlToken\":19555377,\"name\":\"高铁\"},{\"urlToken\":19570564,\"name\":\"武汉\"}],\"label\":\"新题\",\"creator\":{\"urlToken\":\"lisong-4\",\"name\":\"没头脑\"}},\"reaction\":{\"newPv\":21352,\"newPv7Days\":0,\"newFollowNum\":36,\"newFollowNum7Days\":0,\"newAnswerNum\":10,\"newAnswerNum7Days\":0,\"newUpvoteNum\":39,\"newUpvoteNum7Days\":0,\"pv\":117074,\"followNum\":102,\"answerNum\":29,\"upvoteNum\":102,\"pvIncrRate\":\"100.00%\",\"headPercent\":\"0.00%\",\"newPvYesterday\":21352,\"newPvTYesterday\":21352,\"score\":7.883131885438821,\"scoreLevel\":4,\"text\":\"浏览昨日增幅 100.00%，第一、二位回答赞同数占总回答赞同数 0.00%\"}}]}},\"articles\":{\"voters\":{},\"concernedUpvoters\":{}},\"favlists\":{\"relations\":{}},\"pins\":{\"reviewing\":{}},\"topstory\":{\"recommend\":{\"isFetching\":false,\"isDrained\":false,\"afterId\":0,\"items\":[],\"next\":null},\"follow\":{\"isFetching\":false,\"isDrained\":false,\"afterId\":0,\"items\":[],\"next\":null},\"room\":{\"meta\":{},\"isFetching\":false,\"afterId\":0,\"items\":[],\"next\":null},\"followWonderful\":{\"isFetching\":false,\"isDrained\":false,\"afterId\":0,\"items\":[],\"next\":null},\"sidebar\":null,\"announcement\":{},\"hotList\":[],\"guestFeeds\":{\"isFetching\":false,\"isDrained\":false,\"afterId\":0,\"items\":[],\"next\":null},\"followExtra\":{\"isNewUser\":null,\"isFetched\":false,\"followCount\":0,\"followers\":[]},\"hotDaily\":{\"data\":[],\"paging\":{}},\"hotHighlight\":{\"isFetching\":false,\"isDrained\":false,\"data\":[],\"paging\":{}},\"banner\":{},\"commercialBanner\":{\"show\":false,\"banner\":{},\"trackData\":{}},\"video\":{\"items\":[],\"next\":null,\"isLoading\":false,\"isDrained\":false}},\"upload\":{},\"video\":{\"data\":{},\"shareVideoDetail\":{},\"last\":{}},\"zvideos\":{\"campaignVideoList\":{},\"campaigns\":{},\"tagoreCategory\":[],\"recommendations\":{},\"insertable\":{},\"recruit\":{\"form\":{\"platform\":\"\",\"nickname\":\"\",\"followerCount\":\"\",\"domain\":\"\",\"contact\":\"\"},\"submited\":false,\"ranking\":[]},\"club\":{},\"qyActivityData\":{},\"talkActivityData\":{},\"party2022ActivityData\":{},\"batchVideos\":{},\"contribution\":{\"selectedContribution\":null,\"campaign\":null,\"configs\":{},\"contributionLists\":{},\"recommendQuestions\":{\"isLoading\":true,\"paging\":{\"isEnd\":false,\"isStart\":true,\"totals\":0},\"data\":[]},\"questionSearchResults\":{\"isLoading\":true,\"paging\":{\"isEnd\":false,\"isStart\":true,\"totals\":0},\"data\":[]}},\"creationReferences\":{},\"zvideoCollection\":{},\"zvideoGrant\":{},\"collectData\":{\"isFetching\":false,\"list\":[]},\"videoSource\":{\"isLoaded\":false}},\"guide\":{\"guide\":{\"isFetching\":false,\"isShowGuide\":false}},\"reward\":{\"answer\":{},\"article\":{},\"question\":{}},\"search\":{\"recommendSearch\":[],\"topSearch\":{},\"searchValue\":{},\"suggestSearch\":{},\"attachedInfo\":{\"generalByQuery\":{}},\"nextOffset\":{\"generalByQuery\":{}},\"topicReview\":{},\"calendar\":{},\"scores\":null,\"majors\":{},\"university\":{},\"generalByQuery\":{},\"generalByQueryInADay\":{},\"generalByQueryInAWeek\":{},\"generalByQueryInThreeMonths\":{},\"peopleByQuery\":{},\"clubentityByQuery\":{},\"clubPostByQuery\":{},\"topicByQuery\":{},\"zvideoByQuery\":{},\"scholarByQuery\":{},\"columnByQuery\":{},\"liveByQuery\":{},\"albumByQuery\":{},\"eBookByQuery\":{},\"kmGeneralByQuery\":{},\"kmCourseByQuery\":{},\"customFilter\":{\"requestFinished\":false,\"keys\":[],\"tags\":[]}},\"creatorSalt\":{\"recommendQuestionList\":[],\"bannerList\":[],\"claimBannerList\":[],\"sites\":[],\"domains\":{},\"hasRecored\":false,\"hasClaim\":false,\"hasContributedList\":[],\"notContributedList\":[],\"contributesTotal\":null,\"previewPageTitle\":\"\",\"previewPageContent\":\"\",\"restContributionNumber\":\"-\"},\"publicEditPermission\":{},\"vessay\":{\"common\":{\"draftId\":null,\"source\":{\"type\":null,\"id\":null},\"autoSave\":true,\"blockUnload\":true,\"isCalibratingEditing\":false,\"editingTrackData\":{\"editingOutlines\":[],\"editingVideos\":[]},\"newAddMaterialData\":{},\"audioCache\":{},\"showTimbreRecordPanel\":false},\"loading\":{\"isLoading\":true,\"text\":\"开始初始化\"},\"player\":{\"currentTime\":0,\"totalTime\":0,\"playing\":false,\"containerSize\":null},\"library\":{\"material\":{},\"materialSearchResult\":{},\"music\":{},\"musicLibraryCategories\":[],\"musicUrls\":{}},\"track\":{\"trackData\":{\"dataVersion\":1,\"videoTrack\":[],\"audioTrack\":[],\"musicTrack\":[],\"voiceOverData\":{}},\"extra\":{\"themeId\":null},\"previewEditingTrackData\":{\"editingSubtitleItem\":{},\"editingVideoItem\":{}},\"selectedTrackItems\":[],\"outlineRemoveMaterial\":{},\"outlineAppliedStyle\":{},\"timbres\":[],\"timbreId\":\"\",\"timbreTests\":[],\"newRecordBlob\":{},\"exportErrorUrls\":[],\"defaultTimbreId\":\"1\"}},\"readStatus\":{},\"draftHistory\":{\"history\":{},\"drafts\":{}},\"notifications\":{\"recent\":{\"isFetching\":false,\"isDrained\":false,\"isPrevDrained\":false,\"result\":[],\"next\":null,\"key\":null},\"history\":{\"isFetching\":false,\"isDrained\":false,\"isPrevDrained\":false,\"result\":[],\"next\":null,\"key\":null},\"notificationActors\":{\"isFetching\":false,\"isDrained\":false,\"isPrevDrained\":false,\"result\":[],\"next\":null,\"key\":null},\"recentNotificationEntry\":\"all\"},\"specials\":{\"entities\":{},\"all\":{\"data\":[],\"paging\":{},\"isLoading\":false}},\"collections\":{\"hot\":{\"data\":[],\"paging\":{},\"isLoading\":false},\"collectionFeeds\":{}},\"userProfit\":{\"permission\":{\"permissionStatus\":{\"zhiZixuan\":0,\"recommend\":-1,\"task\":0,\"plugin\":0,\"infinity\":0},\"visible\":false}},\"mcn\":{\"bindInfo\":{},\"memberCategoryList\":[],\"producerList\":[],\"categoryList\":[],\"lists\":{},\"banners\":{},\"protocolStatus\":{\"isAgreedNew\":true,\"isAgreedOld\":true},\"probationCountdownDays\":0},\"mcnActivity\":{\"household\":{\"products\":{},\"rankList\":{\"total\":{},\"yesterday\":{}}}},\"brand\":{\"contentPlugin\":{}},\"host\":{\"roundtable\":{\"subjects\":{},\"applications\":{\"total\":0},\"online\":{\"total\":0},\"applies\":{},\"details\":{},\"includedResource\":{},\"hotQuestions\":{},\"warmupContents\":{},\"batchInclude\":{}},\"special\":{\"applications\":{\"total\":0,\"pages\":{},\"entities\":{}},\"censorHistory\":{},\"drafts\":{}}},\"campaign\":{\"single\":{},\"list\":{},\"videoMakerAcq\":{},\"vote\":{},\"cardCollecting\":{\"message\":null,\"profile\":{\"balance\":\"0\",\"chance\":0,\"coinNum\":0,\"gatherClose\":false,\"isGotMagicCard\":false,\"isPay\":false,\"partitionStart\":false,\"totalDone\":0,\"withdrawStart\":false},\"sharePoster\":{\"share\":\"\",\"sendCard\":\"\",\"invite\":\"\"},\"shareLink\":null,\"shareIntention\":\"share\",\"shareKey\":null,\"shareCardId\":null,\"inviterInfo\":null,\"giverInfo\":null,\"prize\":null,\"receivedCard\":null,\"newCoinCount\":null,\"newCardList\":[],\"newUserCardCount\":1,\"taskList\":[],\"prizeList\":null,\"cardList\":null,\"panel\":{\"showTaskPanel\":false,\"showRewardPanel\":false},\"modal\":{\"showWelcomeModal\":false,\"showFusionModal\":false,\"showFusionPromptModal\":false,\"showShareModal\":false,\"showBackModal\":false}},\"zhiboPandian2020\":null,\"boarding\":{},\"searchGaokaoSubPage\":{},\"searchHealth\":{}},\"knowledgePlan\":{\"lists\":{},\"allCreationRankList\":{},\"featuredQuestions\":{}},\"wallE\":{\"protectHistory\":{\"total\":0,\"pages\":{},\"entities\":{}}},\"roundtables\":{\"hotQuestions\":{},\"warmupContents\":{},\"hotDiscussions\":{},\"selectedContents\":{},\"roundtables\":{}},\"helpCenter\":{\"entities\":{\"question\":{},\"category\":{}},\"categories\":[],\"commonQuestions\":[],\"relatedQuestions\":{},\"faqTypes\":[]},\"republish\":{},\"commercialReport\":{\"commercialTypes\":[]},\"creatorMCN\":{\"mcn\":{},\"mcnStatistics\":{},\"isNoAuth\":false,\"creatorManageData\":[],\"creatorManageDataTotal\":1,\"mcnDomains\":[]},\"commentManage\":{\"commentList\":{\"ids\":[],\"entities\":{},\"nextOffset\":0,\"urlToken\":\"\"},\"subCommentList\":{\"ids\":[],\"entities\":{},\"paging\":{\"next\":\"\",\"isEnd\":false}}},\"commentPermission\":{},\"creatorRightStatus\":{\"list\":[]},\"zhiPlus\":{\"permissionStatus\":9999},\"streaming\":{},\"creationRanking\":{},\"eduSections\":{\"eduSectionState\":{}}},\"subAppName\":\"main\"}</script><script crossorigin=\"\" src=\"https://static.zhihu.com/heifetz/vendor.9e772cfa215f34944ef7.js\"></script><script crossorigin=\"\" src=\"https://static.zhihu.com/heifetz/main.lib_09e9ad9b.a5af2ed3975079fcaa07.js\"></script><script crossorigin=\"\" src=\"https://static.zhihu.com/heifetz/main.app.73916f75ceaa5ac9518c.js\"></script><script crossorigin=\"\" src=\"https://static.zhihu.com/heifetz/main.explore-routes.f0c52ecd012b47d4bc09.js\"></script><script defer=\"\" src=\"//www.zhihu.com/wza/aria.js?appid=a3637ace5dc3a347f6863b0bac487599\"></script></body><script src=\"https://hm.baidu.com/hm.js?98beee57fd2ef70ccdd5ca52b9740c49\" async=\"\"></script></html>'"
      ]
     },
     "execution_count": 2,
     "metadata": {},
     "output_type": "execute_result"
    }
   ],
   "source": [
    "import requests\n",
    "from pyquery import PyQuery as pq\n",
    "\n",
    "url = \"https://www.zhihu.com/explore\"\n",
    "headers = {'User-Agent': 'Mozilla/5.0 (Windows NT 10.0; Win64; x64) AppleWebKit/537.36 (KHTML, like Gecko) Chrome/100.0.4896.162 Safari/537.36'}\n",
    "html = requests.get(url, headers=headers).text\n",
    "html"
   ]
  },
  {
   "cell_type": "code",
   "execution_count": 3,
   "metadata": {},
   "outputs": [
    {
     "data": {
      "text/plain": [
       "pyquery.pyquery.PyQuery"
      ]
     },
     "execution_count": 3,
     "metadata": {},
     "output_type": "execute_result"
    }
   ],
   "source": [
    "doc = pq(html)\n",
    "items = doc('.explore-tab')\n",
    "type(items)"
   ]
  },
  {
   "cell_type": "code",
   "execution_count": 4,
   "metadata": {},
   "outputs": [
    {
     "data": {
      "text/plain": [
       "[]"
      ]
     },
     "execution_count": 4,
     "metadata": {},
     "output_type": "execute_result"
    }
   ],
   "source": [
    "items"
   ]
  },
  {
   "cell_type": "code",
   "execution_count": 9,
   "metadata": {},
   "outputs": [
    {
     "data": {
      "text/plain": [
       "[]"
      ]
     },
     "execution_count": 9,
     "metadata": {},
     "output_type": "execute_result"
    }
   ],
   "source": [
    "doc('.explore-tab')"
   ]
  },
  {
   "cell_type": "code",
   "execution_count": 11,
   "metadata": {},
   "outputs": [
    {
     "data": {
      "text/plain": [
       "[]"
      ]
     },
     "execution_count": 11,
     "metadata": {},
     "output_type": "execute_result"
    }
   ],
   "source": [
    "doc('.feed-item')"
   ]
  },
  {
   "cell_type": "code",
   "execution_count": 12,
   "metadata": {},
   "outputs": [
    {
     "data": {
      "text/plain": [
       "[<div.css-vurnku>, <div.css-vurnku>]"
      ]
     },
     "execution_count": 12,
     "metadata": {},
     "output_type": "execute_result"
    }
   ],
   "source": [
    "doc('.css-vurnku')"
   ]
  },
  {
   "cell_type": "code",
   "execution_count": 13,
   "metadata": {},
   "outputs": [
    {
     "data": {
      "text/plain": [
       "<generator object PyQuery.items at 0x00000139D2DB6A40>"
      ]
     },
     "execution_count": 13,
     "metadata": {},
     "output_type": "execute_result"
    }
   ],
   "source": [
    "doc('.css-vurnku').items()"
   ]
  },
  {
   "cell_type": "code",
   "execution_count": 20,
   "metadata": {},
   "outputs": [
    {
     "name": "stdout",
     "output_type": "stream",
     "text": [
      "<a target=\"_blank\" as=\"[object Object]\" class=\"css-1nd7dqm\" href=\"https://www.zhihu.com/question/538220859\">为什么我对福建舰毫无感觉？</a><a target=\"_blank\" as=\"[object Object]\" class=\"css-1nd7dqm\" href=\"https://www.zhihu.com/question/538511702\">如何看待中国成功实施陆基中段反导拦截技术试验？这将有何意义？</a><a target=\"_blank\" as=\"[object Object]\" class=\"css-1nd7dqm\" href=\"https://www.zhihu.com/question/538358503\">黄山一女子车祸卧床,丈夫悉心照顾16年后同意离婚，调解时称「放他自由，赌他的良心」，如何看待此事？</a><a target=\"_blank\" as=\"[object Object]\" class=\"css-1nd7dqm\" href=\"https://www.zhihu.com/question/538494235\">中办印发《领导干部配偶、子女及其配偶经商办企业管理规定》，其中还有哪些信息值得关注？</a>\n",
      "<a target=\"_blank\" as=\"[object Object]\" class=\"css-1nd7dqm\" href=\"https://www.zhihu.com/question/536649142\">电影《人生大事》宣布定档  6 月 24 日，对此你有哪些期待？</a><a target=\"_blank\" as=\"[object Object]\" class=\"css-1nd7dqm\" href=\"https://www.zhihu.com/question/538454877\">上海大样本数据揭示奥密克戎重症率，非高危组重症率 0%，这一数据说明了什么？</a><a target=\"_blank\" as=\"[object Object]\" class=\"css-1nd7dqm\" href=\"https://www.zhihu.com/question/538480830\">6 月 19 日广东惠州一饭店老板见女生被打见义勇为遭围殴，警方回应称已出警，此案件目前调查情况如何？</a><a target=\"_blank\" as=\"[object Object]\" class=\"css-1nd7dqm\" href=\"https://www.zhihu.com/question/538524716\">6 月 20 日起全国铁路实施新运行图，北京至武汉最快 3 小时 48 分可达，将带来哪些积极影响？</a>\n"
     ]
    }
   ],
   "source": [
    "items = doc('.css-vurnku').items()\n",
    "for item in items:\n",
    "    print(item('a'))"
   ]
  },
  {
   "cell_type": "code",
   "execution_count": 53,
   "metadata": {},
   "outputs": [],
   "source": [
    "items = doc('.css-vurnku').items('a')\n",
    "for item in items:\n",
    "    question = item.text()\n",
    "    link = item('a').attr.href\n",
    "    file = open('explore.txt', 'a', encoding='utf-8')\n",
    "    file.write('\\n'.join([question, link]))\n",
    "    file.write('\\n' + '=' * 50 + '\\n')\n",
    "    file.close()"
   ]
  },
  {
   "cell_type": "code",
   "execution_count": 52,
   "metadata": {},
   "outputs": [
    {
     "data": {
      "text/plain": [
       "8"
      ]
     },
     "execution_count": 52,
     "metadata": {},
     "output_type": "execute_result"
    }
   ],
   "source": [
    "len(list(doc('.css-vurnku').items('a')))"
   ]
  },
  {
   "cell_type": "code",
   "execution_count": 57,
   "metadata": {},
   "outputs": [],
   "source": [
    "items = doc('.css-vurnku').items('a')\n",
    "for item in items:\n",
    "    question = item('a').text()\n",
    "    link = item.attr.href\n",
    "    with open('explore.txt', 'a', encoding='utf-8') as file:\n",
    "        file.write('\\n'.join([question, link]))\n",
    "        file.write(('\\n' + '=' * 50 + '\\n'))"
   ]
  },
  {
   "cell_type": "code",
   "execution_count": 58,
   "metadata": {},
   "outputs": [
    {
     "data": {
      "text/plain": [
       "['In',\n",
       " 'Out',\n",
       " '_',\n",
       " '_1',\n",
       " '_11',\n",
       " '_12',\n",
       " '_13',\n",
       " '_2',\n",
       " '_3',\n",
       " '_4',\n",
       " '_5',\n",
       " '_52',\n",
       " '_55',\n",
       " '_7',\n",
       " '_8',\n",
       " '_9',\n",
       " '_VSCODE_builtins',\n",
       " '_VSCODE_getVariableInfo',\n",
       " '_VSCODE_getVariableProperties',\n",
       " '_VSCODE_getVariableTypes',\n",
       " '_VSCODE_json',\n",
       " '__',\n",
       " '___',\n",
       " '__builtin__',\n",
       " '__builtins__',\n",
       " '__doc__',\n",
       " '__loader__',\n",
       " '__name__',\n",
       " '__package__',\n",
       " '__spec__',\n",
       " '__vsc_ipynb_file__',\n",
       " '_dh',\n",
       " '_i',\n",
       " '_i1',\n",
       " '_i10',\n",
       " '_i11',\n",
       " '_i12',\n",
       " '_i13',\n",
       " '_i14',\n",
       " '_i15',\n",
       " '_i16',\n",
       " '_i17',\n",
       " '_i18',\n",
       " '_i19',\n",
       " '_i2',\n",
       " '_i20',\n",
       " '_i21',\n",
       " '_i22',\n",
       " '_i23',\n",
       " '_i24',\n",
       " '_i25',\n",
       " '_i26',\n",
       " '_i27',\n",
       " '_i28',\n",
       " '_i29',\n",
       " '_i3',\n",
       " '_i30',\n",
       " '_i31',\n",
       " '_i32',\n",
       " '_i33',\n",
       " '_i34',\n",
       " '_i35',\n",
       " '_i36',\n",
       " '_i37',\n",
       " '_i38',\n",
       " '_i39',\n",
       " '_i4',\n",
       " '_i40',\n",
       " '_i41',\n",
       " '_i42',\n",
       " '_i43',\n",
       " '_i44',\n",
       " '_i45',\n",
       " '_i46',\n",
       " '_i47',\n",
       " '_i48',\n",
       " '_i49',\n",
       " '_i5',\n",
       " '_i50',\n",
       " '_i51',\n",
       " '_i52',\n",
       " '_i53',\n",
       " '_i54',\n",
       " '_i55',\n",
       " '_i56',\n",
       " '_i57',\n",
       " '_i58',\n",
       " '_i6',\n",
       " '_i7',\n",
       " '_i8',\n",
       " '_i9',\n",
       " '_ih',\n",
       " '_ii',\n",
       " '_iii',\n",
       " '_oh',\n",
       " '_rwho_ls',\n",
       " 'a_tag',\n",
       " 'builtins',\n",
       " 'doc',\n",
       " 'exit',\n",
       " 'file',\n",
       " 'get_ipython',\n",
       " 'headers',\n",
       " 'html',\n",
       " 'item',\n",
       " 'items',\n",
       " 'link',\n",
       " 'os',\n",
       " 'pq',\n",
       " 'question',\n",
       " 'quit',\n",
       " 'requests',\n",
       " 'sys',\n",
       " 'url']"
      ]
     },
     "execution_count": 58,
     "metadata": {},
     "output_type": "execute_result"
    }
   ],
   "source": [
    "dir()"
   ]
  },
  {
   "cell_type": "markdown",
   "metadata": {},
   "source": [
    "#### 5.1.2 JSON 文件存储\n",
    "**2. 读取 JSON**  "
   ]
  },
  {
   "cell_type": "code",
   "execution_count": 67,
   "metadata": {},
   "outputs": [
    {
     "name": "stdout",
     "output_type": "stream",
     "text": [
      "<class 'str'>\n"
     ]
    }
   ],
   "source": [
    "import json\n",
    "\n",
    "str = '''\n",
    "[{\n",
    "    \"name\": \"Bob\",\n",
    "    \"gender\": \"male\",\n",
    "    \"birthday\": \"1992-10-18\"\n",
    "}, {\n",
    "    \"name\": \"Selina\",\n",
    "    \"gender\": \"female\",\n",
    "    \"birthday\": \"1995-10-18\"\n",
    "}]\n",
    "'''\n",
    "print(type(str))"
   ]
  },
  {
   "cell_type": "code",
   "execution_count": 68,
   "metadata": {},
   "outputs": [
    {
     "name": "stdout",
     "output_type": "stream",
     "text": [
      "[{'name': 'Bob', 'gender': 'male', 'birthday': '1992-10-18'}, {'name': 'Selina', 'gender': 'female', 'birthday': '1995-10-18'}]\n"
     ]
    }
   ],
   "source": [
    "data = json.loads(str)\n",
    "print(data)"
   ]
  },
  {
   "cell_type": "code",
   "execution_count": 69,
   "metadata": {},
   "outputs": [
    {
     "name": "stdout",
     "output_type": "stream",
     "text": [
      "<class 'list'>\n"
     ]
    }
   ],
   "source": [
    "print(type(data))"
   ]
  },
  {
   "cell_type": "code",
   "execution_count": 70,
   "metadata": {},
   "outputs": [
    {
     "data": {
      "text/plain": [
       "'Bob'"
      ]
     },
     "execution_count": 70,
     "metadata": {},
     "output_type": "execute_result"
    }
   ],
   "source": [
    "data[0]['name']"
   ]
  },
  {
   "cell_type": "code",
   "execution_count": 71,
   "metadata": {},
   "outputs": [
    {
     "data": {
      "text/plain": [
       "'Bob'"
      ]
     },
     "execution_count": 71,
     "metadata": {},
     "output_type": "execute_result"
    }
   ],
   "source": [
    "data[0].get('name')"
   ]
  },
  {
   "cell_type": "code",
   "execution_count": 72,
   "metadata": {},
   "outputs": [],
   "source": [
    "data[0].get('age')"
   ]
  },
  {
   "cell_type": "code",
   "execution_count": 73,
   "metadata": {},
   "outputs": [
    {
     "data": {
      "text/plain": [
       "25"
      ]
     },
     "execution_count": 73,
     "metadata": {},
     "output_type": "execute_result"
    }
   ],
   "source": [
    "data[0].get('age', 25)"
   ]
  },
  {
   "cell_type": "code",
   "execution_count": 74,
   "metadata": {},
   "outputs": [
    {
     "data": {
      "text/plain": [
       "[{'name': 'Bob', 'gender': 'male', 'birthday': '1992-10-18'},\n",
       " {'name': 'Selina', 'gender': 'female', 'birthday': '1995-10-18'}]"
      ]
     },
     "execution_count": 74,
     "metadata": {},
     "output_type": "execute_result"
    }
   ],
   "source": [
    "data"
   ]
  },
  {
   "cell_type": "code",
   "execution_count": 86,
   "metadata": {},
   "outputs": [],
   "source": [
    "str = \"\"\"\n",
    "[{\n",
    "    \"name\": \"Bob\",\n",
    "    \"gender\": \"male\",\n",
    "    \"birthday\": \"1992-10-18\",\n",
    "    \"age\": 30.5\n",
    "}]\n",
    "\"\"\"\n",
    "data = json.loads(str)"
   ]
  },
  {
   "cell_type": "code",
   "execution_count": 87,
   "metadata": {},
   "outputs": [
    {
     "name": "stdout",
     "output_type": "stream",
     "text": [
      "[{'name': 'Bob', 'gender': 'male', 'birthday': '1992-10-18'}, {'name': 'Selina', 'gender': 'female', 'birthday': '1995-10-18'}]\n"
     ]
    }
   ],
   "source": [
    "with open('data.json', 'r') as file:\n",
    "    str = file.read()\n",
    "    data = json.loads(str)\n",
    "    print(data)"
   ]
  },
  {
   "cell_type": "markdown",
   "metadata": {},
   "source": [
    "**3. 输出 JSON**"
   ]
  },
  {
   "cell_type": "code",
   "execution_count": 88,
   "metadata": {},
   "outputs": [],
   "source": [
    "data = [{\n",
    "    \"name\": \"Bob\",\n",
    "    \"gender\": \"male\",\n",
    "    \"birthday\": \"1992-10-18\",\n",
    "    \"age\": 30.5\n",
    "}]\n",
    "with open('data.json', 'w') as file:\n",
    "    file.write(json.dumps(data))"
   ]
  },
  {
   "cell_type": "markdown",
   "metadata": {},
   "source": [
    "利用 dumps() 方法，我们可以将 JSON 对象转为字符串，然后再调用文件的 write() 方法写入文本。"
   ]
  },
  {
   "cell_type": "code",
   "execution_count": 89,
   "metadata": {},
   "outputs": [],
   "source": [
    "with open('data.json', 'w') as file:\n",
    "    file.write(json.dumps(data, indent=2))"
   ]
  },
  {
   "cell_type": "code",
   "execution_count": 91,
   "metadata": {},
   "outputs": [],
   "source": [
    "data = [{\n",
    "    \"name\": \"鲍勃\",\n",
    "    \"gender\": \"男\",\n",
    "    \"birthday\": \"1992-10-18\",\n",
    "    \"age\": 30.5\n",
    "}]\n",
    "with open('data.json', 'w') as file:\n",
    "    file.write(json.dumps(data, indent=2))"
   ]
  },
  {
   "cell_type": "code",
   "execution_count": 92,
   "metadata": {},
   "outputs": [],
   "source": [
    "with open('data.json', 'w', encoding='utf-8') as file:\n",
    "    file.write(json.dumps(data, indent=2))"
   ]
  },
  {
   "cell_type": "code",
   "execution_count": 93,
   "metadata": {},
   "outputs": [],
   "source": [
    "with open('data.json', 'w', encoding='utf-8') as file:\n",
    "    file.write(json.dumps(data, indent=2, ensure_ascii=False))"
   ]
  },
  {
   "cell_type": "markdown",
   "metadata": {},
   "source": [
    "**5.1.3 CSV 文件存储**"
   ]
  },
  {
   "cell_type": "code",
   "execution_count": 96,
   "metadata": {},
   "outputs": [],
   "source": [
    "import csv\n",
    "\n",
    "with open('data.csv', 'w', newline='') as csvfile:  # 不带 newline 参数时，记录之间会插入一个空行\n",
    "    writer = csv.writer(csvfile)\n",
    "    writer.writerow(['id', 'name', 'age'])\n",
    "    writer.writerow(['10001', 'Mike', 20])\n",
    "    writer.writerow(['10002', 'Bob', 22])\n",
    "    writer.writerow(['10003', 'Jordan', 21])"
   ]
  },
  {
   "cell_type": "code",
   "execution_count": 97,
   "metadata": {},
   "outputs": [],
   "source": [
    "with open('data.csv', 'w', newline='') as csvfile:\n",
    "    writer = csv.writer(csvfile, delimiter=' ')\n",
    "    writer.writerow(['id', 'name', 'age'])\n",
    "    writer.writerow(['10001', 'Mike', 20])\n",
    "    writer.writerow(['10002', 'Bob', 22])\n",
    "    writer.writerow(['10003', 'Jordan', 21])"
   ]
  },
  {
   "cell_type": "code",
   "execution_count": 98,
   "metadata": {},
   "outputs": [],
   "source": [
    "with open('data.csv', 'w', newline='') as csvfile:\n",
    "    writer = csv.writer(csvfile)\n",
    "    writer.writerow(['id', 'name', 'age'])\n",
    "    writer.writerows([['10001', 'Mike', 20], ['10002', 'Bob', 22], ['10003', 'Jordan', 21]])"
   ]
  },
  {
   "cell_type": "code",
   "execution_count": 99,
   "metadata": {},
   "outputs": [],
   "source": [
    "with open('data.csv', 'w', newline='') as csvfile:\n",
    "    fieldnames = ['id', 'name', 'age']\n",
    "    writer = csv.DictWriter(csvfile, fieldnames=fieldnames)\n",
    "    writer.writeheader()\n",
    "    writer.writerow({'id': '10001', 'name': 'Mike', 'age': 20})\n",
    "    writer.writerow({'id': '10002', 'name': 'Bob', 'age': 22})\n",
    "    writer.writerow({'id': '10003', 'name': 'Jordan', 'age': 21})"
   ]
  },
  {
   "cell_type": "code",
   "execution_count": 100,
   "metadata": {},
   "outputs": [
    {
     "data": {
      "text/plain": [
       "['id', 'name', 'age']"
      ]
     },
     "execution_count": 100,
     "metadata": {},
     "output_type": "execute_result"
    }
   ],
   "source": [
    "fieldnames"
   ]
  },
  {
   "cell_type": "code",
   "execution_count": 101,
   "metadata": {},
   "outputs": [],
   "source": [
    "with open('data.csv', 'a', newline='') as csvfile:\n",
    "    writer = csv.DictWriter(csvfile, fieldnames=fieldnames)\n",
    "    writer.writerow({'id': '10004', 'name': 'Durant', 'age': 22})"
   ]
  },
  {
   "cell_type": "code",
   "execution_count": 102,
   "metadata": {},
   "outputs": [],
   "source": [
    "with open('data.csv', 'a', newline='', encoding='utf-8') as csvfile:\n",
    "    writer = csv.DictWriter(csvfile, fieldnames=fieldnames)\n",
    "    writer.writerow({'id': '10005', 'name': '王伟', 'age': 22})"
   ]
  },
  {
   "cell_type": "code",
   "execution_count": 103,
   "metadata": {},
   "outputs": [
    {
     "name": "stdout",
     "output_type": "stream",
     "text": [
      "['id', 'name', 'age']\n",
      "['10001', 'Mike', '20']\n",
      "['10002', 'Bob', '22']\n",
      "['10003', 'Jordan', '21']\n",
      "['10004', 'Durant', '22']\n",
      "['10005', '王伟', '22']\n"
     ]
    }
   ],
   "source": [
    "with open('data.csv', 'r', encoding='utf-8') as csvfile:\n",
    "    reader = csv.reader(csvfile)\n",
    "    for row in reader:\n",
    "        print(row)"
   ]
  },
  {
   "cell_type": "code",
   "execution_count": 104,
   "metadata": {},
   "outputs": [
    {
     "name": "stdout",
     "output_type": "stream",
     "text": [
      "['id', 'name', 'age']\n",
      "['10001', 'Mike', '20']\n",
      "['10002', 'Bob', '22']\n",
      "['10003', 'Jordan', '21']\n",
      "['10004', 'Durant', '22']\n",
      "['10005', '王伟', '22']\n"
     ]
    }
   ],
   "source": [
    "with open('data.csv', 'r', encoding='utf-8', newline='') as csvfile:\n",
    "    reader = csv.reader(csvfile)\n",
    "    for row in reader:\n",
    "        print(row)"
   ]
  },
  {
   "cell_type": "markdown",
   "metadata": {},
   "source": [
    "### 5.2 关系型数据库存储\n",
    "#### 5.2.1 MySQL 的存储"
   ]
  },
  {
   "cell_type": "code",
   "execution_count": 106,
   "metadata": {},
   "outputs": [
    {
     "name": "stdout",
     "output_type": "stream",
     "text": [
      "Database version: ('10.3.34-MariaDB-0+deb10u1',)\n"
     ]
    }
   ],
   "source": [
    "import pymysql\n",
    "\n",
    "db = pymysql.connect(host='baidu.net', user='root', password='DBservermima001', port=3306)\n",
    "cursor = db.cursor()\n",
    "cursor.execute('SELECT VERSION()')\n",
    "data = cursor.fetchone()\n",
    "print('Database version:', data)"
   ]
  },
  {
   "cell_type": "code",
   "execution_count": 107,
   "metadata": {},
   "outputs": [],
   "source": [
    "cursor.execute(\"CREATE DATABASE spiders DEFAULT CHARACTER SET utf8\")\n",
    "db.close()"
   ]
  },
  {
   "cell_type": "markdown",
   "metadata": {},
   "source": [
    "**3. 创建表**"
   ]
  },
  {
   "cell_type": "code",
   "execution_count": 108,
   "metadata": {},
   "outputs": [],
   "source": [
    "db = pymysql.connect(host='baidu.net', user='root', password='DBservermima001', port=3306, database='spiders')\n",
    "cursor = db.cursor()\n",
    "sql = 'CREATE TABLE IF NOT EXISTS students (id VARCHAR(255) NOT NULL, name VARCHAR(255) NOT NULL, age INT NOT\\\n",
    "       NULL, PRIMARY KEY (id))'\n",
    "cursor.execute(sql)\n",
    "db.close()"
   ]
  },
  {
   "cell_type": "markdown",
   "metadata": {},
   "source": [
    "**4. 插入数据**"
   ]
  },
  {
   "cell_type": "code",
   "execution_count": 109,
   "metadata": {},
   "outputs": [],
   "source": [
    "id = '20120001'\n",
    "user = 'Bob'\n",
    "age = 20\n",
    "\n",
    "db = pymysql.connect(host='baidu.net', user='root', password='DBservermima001', port=3306, database='spiders')\n",
    "cursor = db.cursor()\n",
    "sql = 'INSERT INTO students(id, name, age) values(%s, %s, %s)'\n",
    "try:\n",
    "    cursor.execute(sql, (id, user, age))\n",
    "    db.commit()\n",
    "except:\n",
    "    db.rollback()\n",
    "db.close()"
   ]
  },
  {
   "cell_type": "code",
   "execution_count": 111,
   "metadata": {},
   "outputs": [
    {
     "name": "stdout",
     "output_type": "stream",
     "text": [
      "Successful\n"
     ]
    }
   ],
   "source": [
    "data = {\n",
    "    'id': '20120002',\n",
    "    'name': 'Jacky',\n",
    "    'age': 60\n",
    "}\n",
    "table = 'students'\n",
    "keys = ', '.join(data.keys())\n",
    "values = ', '.join(['%s'] * len(data))\n",
    "sql = 'INSERT INTO {table} ({keys}) VALUES ({values})'.format(table=table, keys=keys, values=values)\n",
    "db = pymysql.connect(host='baidu.net', user='root', password='DBservermima001', port=3306, database='spiders')\n",
    "cursor = db.cursor()\n",
    "try:\n",
    "    if cursor.execute(sql, tuple(data.values())):\n",
    "        print('Successful')\n",
    "        db.commit()\n",
    "except:\n",
    "    print('Failed')\n",
    "    db.rollback()\n",
    "db.close()"
   ]
  },
  {
   "cell_type": "markdown",
   "metadata": {},
   "source": [
    "**5. 更新数据**"
   ]
  },
  {
   "cell_type": "code",
   "execution_count": 113,
   "metadata": {},
   "outputs": [],
   "source": [
    "db = pymysql.connect(host='baidu.net', user='root', password='DBservermima001', port=3306, database='spiders')\n",
    "cursor = db.cursor()\n",
    "sql = 'UPDATE students SET age = %s WHERE name = %s'\n",
    "try:\n",
    "    cursor.execute(sql, (25, 'Bob'))\n",
    "    db.commit()\n",
    "except:\n",
    "    db.rollback()\n",
    "db.close()"
   ]
  },
  {
   "cell_type": "code",
   "execution_count": 114,
   "metadata": {},
   "outputs": [
    {
     "name": "stdout",
     "output_type": "stream",
     "text": [
      "Successful\n"
     ]
    }
   ],
   "source": [
    "db = pymysql.connect(host='baidu.net', user='root', password='DBservermima001', port=3306, database='spiders')\n",
    "cursor = db.cursor()\n",
    "data = {\n",
    "    'id': '20120001',\n",
    "    'name': 'Bob',\n",
    "    'age': 21\n",
    "}\n",
    "table = 'students'\n",
    "keys = ', '.join(data.keys())\n",
    "values = ', '.join(['%s'] * len(data))\n",
    "\n",
    "sql = 'INSERT INTO {table} ({keys}) VALUES ({values}) ON DUPLICATE KEY UPDATE'.format(table=table, \n",
    "       keys=keys, values=values)\n",
    "update = ','.join([\" {key} = %s\".format(key=key) for key in data])\n",
    "sql += update\n",
    "try:\n",
    "    if cursor.execute(sql, tuple(data.values()) * 2):\n",
    "        print('Successful')\n",
    "        db.commit()\n",
    "except:\n",
    "    print(\"Failed\")\n",
    "    db.rollback()\n",
    "db.close()"
   ]
  },
  {
   "cell_type": "markdown",
   "metadata": {},
   "source": [
    "这里构造的 SQL 语句其实是插人语句，但是我们在后面加了 ON DUPLICATE KEY UPDATE。这行代码的意思是如果主键已经存在，就执行更新操作。比如，我们传入的数据 id 仍然为 20120001，但是年龄有所变化，由 20 变成的 21，此时这条数据不会被插人，而是直接更新 id 为 20120001 的数据。完整的 SQL 构造出来是这样的：  \n",
    "\n",
    "INSERT INTO students (id, name, age) VALUES (%s, %s, %s) ON DUPLICATE KEY UPDATE id = %s, name = %s, age = %s  \n",
    "\n",
    "这里就变成了 6 个 %s。所以在后面的 execute() 方法的第二个参数元组就需要乘以 2 变成原来的 2 倍。"
   ]
  },
  {
   "cell_type": "markdown",
   "metadata": {},
   "source": [
    "**6. 删除数据**"
   ]
  },
  {
   "cell_type": "code",
   "execution_count": 115,
   "metadata": {},
   "outputs": [],
   "source": [
    "db = pymysql.connect(host='baidu.net', user='root', password='DBservermima001', port=3306, database='spiders')\n",
    "cursor = db.cursor()\n",
    "table = 'students'\n",
    "condition = 'age > 20'\n",
    "\n",
    "sql = 'DELETE FROM {table} WHERE {condition}'.format(table=table, condition=condition)\n",
    "try:\n",
    "    cursor.execute(sql)\n",
    "    db.commit()\n",
    "except:\n",
    "    db.rollback()\n",
    "db.close()"
   ]
  },
  {
   "cell_type": "markdown",
   "metadata": {},
   "source": [
    "**7. 查询数据**"
   ]
  },
  {
   "cell_type": "code",
   "execution_count": 116,
   "metadata": {},
   "outputs": [
    {
     "name": "stdout",
     "output_type": "stream",
     "text": [
      "Count: 4\n",
      "One: ('20120001', 'Bob', 25)\n",
      "Results: (('20120002', 'Mary', 21), ('20120003', 'Mike', 20), ('20120004', 'James', 22))\n",
      "Results Type: <class 'tuple'>\n",
      "('20120002', 'Mary', 21)\n",
      "('20120003', 'Mike', 20)\n",
      "('20120004', 'James', 22)\n"
     ]
    }
   ],
   "source": [
    "db = pymysql.connect(host='baidu.net', user='root', password='DBservermima001', port=3306, database='spiders')\n",
    "cursor = db.cursor()\n",
    "sql = 'SELECT * FROM students WHERE age >= 20'\n",
    "try:\n",
    "    cursor.execute(sql)\n",
    "    print('Count:', cursor.rowcount)\n",
    "    one = cursor.fetchone()\n",
    "    print('One:', one)\n",
    "    results = cursor.fetchall()\n",
    "    print(\"Results:\", results)\n",
    "    print(\"Results Type:\", type(results))\n",
    "    for row in results:\n",
    "        print(row)\n",
    "except:\n",
    "    print('Error')"
   ]
  },
  {
   "cell_type": "markdown",
   "metadata": {},
   "source": [
    "**注意：**  \n",
    "这里不再需要 db 的 commit() 方法。"
   ]
  },
  {
   "cell_type": "markdown",
   "metadata": {},
   "source": [
    "fetchall() 会将结果以元组形式全部返回，如果数据量很大，那么占用的开销会非常高。因此，推荐使用如下方法来逐条取数据："
   ]
  },
  {
   "cell_type": "code",
   "execution_count": 120,
   "metadata": {},
   "outputs": [
    {
     "name": "stdout",
     "output_type": "stream",
     "text": [
      "Count: 4\n",
      "Row: ('20120001', 'Bob', 25)\n",
      "Row: ('20120002', 'Mary', 21)\n",
      "Row: ('20120003', 'Mike', 20)\n",
      "Row: ('20120004', 'James', 22)\n"
     ]
    }
   ],
   "source": [
    "db = pymysql.connect(host='baidu.net', user='root', password='DBservermima001', port=3306, database='spiders')\n",
    "cursor = db.cursor()\n",
    "sql = 'SELECT * FROM students WHERE age >= 20'\n",
    "try:\n",
    "    cursor.execute(sql)\n",
    "    print('Count:', cursor.rowcount)\n",
    "    row = cursor.fetchone()\n",
    "    while row:\n",
    "        print('Row:', row)\n",
    "        row = cursor.fetchone()\n",
    "except:\n",
    "    print('Error')"
   ]
  },
  {
   "cell_type": "markdown",
   "metadata": {},
   "source": [
    "### 5.3 非关系型数据库存储\n",
    "#### 5.3.1 MongoDB 存储\n",
    "MongoDB 是由 C++ 语言编写的非关系型数据库，是一个基于分布式文件存储的开源数据库系统，其内容存储形式类似 JSON 对象，它的字段值可以包含其他文档，数组及文档数组，非常灵活。  "
   ]
  },
  {
   "cell_type": "markdown",
   "metadata": {},
   "source": [
    "**2. 连接 MongoDB**"
   ]
  },
  {
   "cell_type": "code",
   "execution_count": 121,
   "metadata": {},
   "outputs": [],
   "source": [
    "import pymongo\n",
    "\n",
    "client = pymongo.MongoClient(host='baidu.net', port=27017)"
   ]
  },
  {
   "cell_type": "code",
   "execution_count": 122,
   "metadata": {},
   "outputs": [],
   "source": [
    "client = pymongo.MongoClient('mongodb://baidu.net:27017')"
   ]
  },
  {
   "cell_type": "markdown",
   "metadata": {},
   "source": [
    "**3. 指定数据库**"
   ]
  },
  {
   "cell_type": "code",
   "execution_count": 123,
   "metadata": {},
   "outputs": [],
   "source": [
    "db = client.test"
   ]
  },
  {
   "cell_type": "code",
   "execution_count": 124,
   "metadata": {},
   "outputs": [],
   "source": [
    "db = client['test']"
   ]
  },
  {
   "cell_type": "markdown",
   "metadata": {},
   "source": [
    "上面两种指定数据库的方式是等价的。"
   ]
  },
  {
   "cell_type": "markdown",
   "metadata": {},
   "source": [
    "**4. 指定集合**   \n",
    "MongoDB 的每个数据库又包含许多集合（collection），它们类似于关系数据库中的表。"
   ]
  },
  {
   "cell_type": "code",
   "execution_count": 125,
   "metadata": {},
   "outputs": [],
   "source": [
    "collection = db.students"
   ]
  },
  {
   "cell_type": "code",
   "execution_count": 126,
   "metadata": {},
   "outputs": [],
   "source": [
    "collection = db['students']"
   ]
  },
  {
   "cell_type": "markdown",
   "metadata": {},
   "source": [
    "**5. 插入数据**"
   ]
  },
  {
   "cell_type": "code",
   "execution_count": 128,
   "metadata": {},
   "outputs": [
    {
     "data": {
      "text/plain": [
       "['_BaseObject__codec_options',\n",
       " '_BaseObject__read_concern',\n",
       " '_BaseObject__read_preference',\n",
       " '_BaseObject__write_concern',\n",
       " '_Collection__create',\n",
       " '_Collection__create_indexes',\n",
       " '_Collection__database',\n",
       " '_Collection__find_and_modify',\n",
       " '_Collection__full_name',\n",
       " '_Collection__name',\n",
       " '_Collection__write_response_codec_options',\n",
       " '__bool__',\n",
       " '__call__',\n",
       " '__class__',\n",
       " '__class_getitem__',\n",
       " '__delattr__',\n",
       " '__dict__',\n",
       " '__dir__',\n",
       " '__doc__',\n",
       " '__eq__',\n",
       " '__format__',\n",
       " '__ge__',\n",
       " '__getattr__',\n",
       " '__getattribute__',\n",
       " '__getitem__',\n",
       " '__gt__',\n",
       " '__hash__',\n",
       " '__init__',\n",
       " '__init_subclass__',\n",
       " '__iter__',\n",
       " '__le__',\n",
       " '__lt__',\n",
       " '__module__',\n",
       " '__ne__',\n",
       " '__new__',\n",
       " '__next__',\n",
       " '__orig_bases__',\n",
       " '__parameters__',\n",
       " '__reduce__',\n",
       " '__reduce_ex__',\n",
       " '__repr__',\n",
       " '__setattr__',\n",
       " '__sizeof__',\n",
       " '__slots__',\n",
       " '__str__',\n",
       " '__subclasshook__',\n",
       " '__weakref__',\n",
       " '_aggregate',\n",
       " '_aggregate_one_result',\n",
       " '_command',\n",
       " '_count_cmd',\n",
       " '_delete',\n",
       " '_delete_retryable',\n",
       " '_insert_one',\n",
       " '_is_protocol',\n",
       " '_read_preference_for',\n",
       " '_retryable_non_cursor_read',\n",
       " '_socket_for_reads',\n",
       " '_socket_for_writes',\n",
       " '_update',\n",
       " '_update_retryable',\n",
       " '_write_concern_for',\n",
       " '_write_concern_for_cmd',\n",
       " 'aggregate',\n",
       " 'aggregate_raw_batches',\n",
       " 'bulk_write',\n",
       " 'codec_options',\n",
       " 'count_documents',\n",
       " 'create_index',\n",
       " 'create_indexes',\n",
       " 'database',\n",
       " 'delete_many',\n",
       " 'delete_one',\n",
       " 'distinct',\n",
       " 'drop',\n",
       " 'drop_index',\n",
       " 'drop_indexes',\n",
       " 'estimated_document_count',\n",
       " 'find',\n",
       " 'find_one',\n",
       " 'find_one_and_delete',\n",
       " 'find_one_and_replace',\n",
       " 'find_one_and_update',\n",
       " 'find_raw_batches',\n",
       " 'full_name',\n",
       " 'index_information',\n",
       " 'insert_many',\n",
       " 'insert_one',\n",
       " 'list_indexes',\n",
       " 'name',\n",
       " 'next',\n",
       " 'options',\n",
       " 'read_concern',\n",
       " 'read_preference',\n",
       " 'rename',\n",
       " 'replace_one',\n",
       " 'update_many',\n",
       " 'update_one',\n",
       " 'watch',\n",
       " 'with_options',\n",
       " 'write_concern']"
      ]
     },
     "execution_count": 128,
     "metadata": {},
     "output_type": "execute_result"
    }
   ],
   "source": [
    "student = {\n",
    "    'id': '20170101',\n",
    "    'name': 'Jordan',\n",
    "    'age': 20,\n",
    "    'gender': 'male'\n",
    "}\n",
    "dir(collection)"
   ]
  },
  {
   "cell_type": "code",
   "execution_count": 129,
   "metadata": {},
   "outputs": [
    {
     "name": "stdout",
     "output_type": "stream",
     "text": [
      "<pymongo.results.InsertOneResult object at 0x00000139D63BBC40>\n"
     ]
    }
   ],
   "source": [
    "result = collection.insert_one(student)\n",
    "print(result)"
   ]
  },
  {
   "cell_type": "code",
   "execution_count": 130,
   "metadata": {},
   "outputs": [
    {
     "name": "stdout",
     "output_type": "stream",
     "text": [
      "<pymongo.results.InsertManyResult object at 0x00000139D655AD40>\n"
     ]
    }
   ],
   "source": [
    "student1 = {\n",
    "    'id': '20170101',\n",
    "    'name': 'Jordan',\n",
    "    'age': 20,\n",
    "    'gender': 'male'\n",
    "}\n",
    "student2 = {\n",
    "    'id': '20170102',\n",
    "    'name': 'Mike',\n",
    "    'age': 21,\n",
    "    'gender': 'male'\n",
    "}\n",
    "result = collection.insert_many([student1, student2])\n",
    "print(result)"
   ]
  },
  {
   "cell_type": "code",
   "execution_count": 133,
   "metadata": {},
   "outputs": [
    {
     "name": "stdout",
     "output_type": "stream",
     "text": [
      "<pymongo.results.InsertOneResult object at 0x00000139D663AF20>\n"
     ]
    }
   ],
   "source": [
    "student3 = {\n",
    "    'id': '20170103',\n",
    "    'name': 'Susie',\n",
    "    'age': 22,\n",
    "    'gender': 'female'\n",
    "}\n",
    "result = collection.insert_one(student3)\n",
    "print(result)"
   ]
  },
  {
   "cell_type": "code",
   "execution_count": 134,
   "metadata": {},
   "outputs": [
    {
     "name": "stdout",
     "output_type": "stream",
     "text": [
      "62c02b9187bf3c5ce6d80c2c\n"
     ]
    }
   ],
   "source": [
    "print(result.inserted_id)"
   ]
  },
  {
   "cell_type": "code",
   "execution_count": 135,
   "metadata": {},
   "outputs": [
    {
     "ename": "BulkWriteError",
     "evalue": "batch op errors occurred, full error: {'writeErrors': [{'index': 0, 'code': 11000, 'keyPattern': {'_id': 1}, 'keyValue': {'_id': ObjectId('62c029c187bf3c5ce6d80c2a')}, 'errmsg': \"E11000 duplicate key error collection: test.students index: _id_ dup key: { _id: ObjectId('62c029c187bf3c5ce6d80c2a') }\", 'op': {'id': '20170101', 'name': 'Jordan', 'age': 20, 'gender': 'male', '_id': ObjectId('62c029c187bf3c5ce6d80c2a')}}], 'writeConcernErrors': [], 'nInserted': 0, 'nUpserted': 0, 'nMatched': 0, 'nModified': 0, 'nRemoved': 0, 'upserted': []}",
     "output_type": "error",
     "traceback": [
      "\u001b[1;31m---------------------------------------------------------------------------\u001b[0m",
      "\u001b[1;31mBulkWriteError\u001b[0m                            Traceback (most recent call last)",
      "\u001b[1;32me:\\Dropbox\\Github\\python\\store_date.ipynb Cell 78'\u001b[0m in \u001b[0;36m<cell line: 1>\u001b[1;34m()\u001b[0m\n\u001b[1;32m----> <a href='vscode-notebook-cell:/e%3A/Dropbox/Github/python/store_date.ipynb#ch0000078?line=0'>1</a>\u001b[0m result \u001b[39m=\u001b[39m collection\u001b[39m.\u001b[39;49minsert_many([student1, student2])\n\u001b[0;32m      <a href='vscode-notebook-cell:/e%3A/Dropbox/Github/python/store_date.ipynb#ch0000078?line=1'>2</a>\u001b[0m \u001b[39mprint\u001b[39m(result)\n",
      "File \u001b[1;32md:\\Program Files\\Python310\\lib\\site-packages\\pymongo\\collection.py:691\u001b[0m, in \u001b[0;36mCollection.insert_many\u001b[1;34m(self, documents, ordered, bypass_document_validation, session, comment)\u001b[0m\n\u001b[0;32m    <a href='file:///d%3A/Program%20Files/Python310/lib/site-packages/pymongo/collection.py?line=688'>689</a>\u001b[0m blk \u001b[39m=\u001b[39m _Bulk(\u001b[39mself\u001b[39m, ordered, bypass_document_validation, comment\u001b[39m=\u001b[39mcomment)\n\u001b[0;32m    <a href='file:///d%3A/Program%20Files/Python310/lib/site-packages/pymongo/collection.py?line=689'>690</a>\u001b[0m blk\u001b[39m.\u001b[39mops \u001b[39m=\u001b[39m [doc \u001b[39mfor\u001b[39;00m doc \u001b[39min\u001b[39;00m gen()]\n\u001b[1;32m--> <a href='file:///d%3A/Program%20Files/Python310/lib/site-packages/pymongo/collection.py?line=690'>691</a>\u001b[0m blk\u001b[39m.\u001b[39;49mexecute(write_concern, session\u001b[39m=\u001b[39;49msession)\n\u001b[0;32m    <a href='file:///d%3A/Program%20Files/Python310/lib/site-packages/pymongo/collection.py?line=691'>692</a>\u001b[0m \u001b[39mreturn\u001b[39;00m InsertManyResult(inserted_ids, write_concern\u001b[39m.\u001b[39macknowledged)\n",
      "File \u001b[1;32md:\\Program Files\\Python310\\lib\\site-packages\\pymongo\\bulk.py:512\u001b[0m, in \u001b[0;36m_Bulk.execute\u001b[1;34m(self, write_concern, session)\u001b[0m\n\u001b[0;32m    <a href='file:///d%3A/Program%20Files/Python310/lib/site-packages/pymongo/bulk.py?line=509'>510</a>\u001b[0m         \u001b[39mself\u001b[39m\u001b[39m.\u001b[39mexecute_no_results(sock_info, generator, write_concern)\n\u001b[0;32m    <a href='file:///d%3A/Program%20Files/Python310/lib/site-packages/pymongo/bulk.py?line=510'>511</a>\u001b[0m \u001b[39melse\u001b[39;00m:\n\u001b[1;32m--> <a href='file:///d%3A/Program%20Files/Python310/lib/site-packages/pymongo/bulk.py?line=511'>512</a>\u001b[0m     \u001b[39mreturn\u001b[39;00m \u001b[39mself\u001b[39;49m\u001b[39m.\u001b[39;49mexecute_command(generator, write_concern, session)\n",
      "File \u001b[1;32md:\\Program Files\\Python310\\lib\\site-packages\\pymongo\\bulk.py:393\u001b[0m, in \u001b[0;36m_Bulk.execute_command\u001b[1;34m(self, generator, write_concern, session)\u001b[0m\n\u001b[0;32m    <a href='file:///d%3A/Program%20Files/Python310/lib/site-packages/pymongo/bulk.py?line=389'>390</a>\u001b[0m     client\u001b[39m.\u001b[39m_retry_with_session(\u001b[39mself\u001b[39m\u001b[39m.\u001b[39mis_retryable, retryable_bulk, s, \u001b[39mself\u001b[39m)\n\u001b[0;32m    <a href='file:///d%3A/Program%20Files/Python310/lib/site-packages/pymongo/bulk.py?line=391'>392</a>\u001b[0m \u001b[39mif\u001b[39;00m full_result[\u001b[39m\"\u001b[39m\u001b[39mwriteErrors\u001b[39m\u001b[39m\"\u001b[39m] \u001b[39mor\u001b[39;00m full_result[\u001b[39m\"\u001b[39m\u001b[39mwriteConcernErrors\u001b[39m\u001b[39m\"\u001b[39m]:\n\u001b[1;32m--> <a href='file:///d%3A/Program%20Files/Python310/lib/site-packages/pymongo/bulk.py?line=392'>393</a>\u001b[0m     _raise_bulk_write_error(full_result)\n\u001b[0;32m    <a href='file:///d%3A/Program%20Files/Python310/lib/site-packages/pymongo/bulk.py?line=393'>394</a>\u001b[0m \u001b[39mreturn\u001b[39;00m full_result\n",
      "File \u001b[1;32md:\\Program Files\\Python310\\lib\\site-packages\\pymongo\\bulk.py:136\u001b[0m, in \u001b[0;36m_raise_bulk_write_error\u001b[1;34m(full_result)\u001b[0m\n\u001b[0;32m    <a href='file:///d%3A/Program%20Files/Python310/lib/site-packages/pymongo/bulk.py?line=133'>134</a>\u001b[0m \u001b[39mif\u001b[39;00m full_result[\u001b[39m\"\u001b[39m\u001b[39mwriteErrors\u001b[39m\u001b[39m\"\u001b[39m]:\n\u001b[0;32m    <a href='file:///d%3A/Program%20Files/Python310/lib/site-packages/pymongo/bulk.py?line=134'>135</a>\u001b[0m     full_result[\u001b[39m\"\u001b[39m\u001b[39mwriteErrors\u001b[39m\u001b[39m\"\u001b[39m]\u001b[39m.\u001b[39msort(key\u001b[39m=\u001b[39m\u001b[39mlambda\u001b[39;00m error: error[\u001b[39m\"\u001b[39m\u001b[39mindex\u001b[39m\u001b[39m\"\u001b[39m])\n\u001b[1;32m--> <a href='file:///d%3A/Program%20Files/Python310/lib/site-packages/pymongo/bulk.py?line=135'>136</a>\u001b[0m \u001b[39mraise\u001b[39;00m BulkWriteError(full_result)\n",
      "\u001b[1;31mBulkWriteError\u001b[0m: batch op errors occurred, full error: {'writeErrors': [{'index': 0, 'code': 11000, 'keyPattern': {'_id': 1}, 'keyValue': {'_id': ObjectId('62c029c187bf3c5ce6d80c2a')}, 'errmsg': \"E11000 duplicate key error collection: test.students index: _id_ dup key: { _id: ObjectId('62c029c187bf3c5ce6d80c2a') }\", 'op': {'id': '20170101', 'name': 'Jordan', 'age': 20, 'gender': 'male', '_id': ObjectId('62c029c187bf3c5ce6d80c2a')}}], 'writeConcernErrors': [], 'nInserted': 0, 'nUpserted': 0, 'nMatched': 0, 'nModified': 0, 'nRemoved': 0, 'upserted': []}"
     ]
    }
   ],
   "source": [
    "result = collection.insert_many([student1, student2])\n",
    "print(result)"
   ]
  },
  {
   "cell_type": "code",
   "execution_count": 136,
   "metadata": {},
   "outputs": [
    {
     "name": "stdout",
     "output_type": "stream",
     "text": [
      "<pymongo.results.InsertManyResult object at 0x00000139D1199840>\n"
     ]
    }
   ],
   "source": [
    "student4 = {\n",
    "    'id': '20170104',\n",
    "    'name': 'Eva',\n",
    "    'age': 22,\n",
    "    'gender': 'female'\n",
    "}\n",
    "student5 = {\n",
    "    'id': '20170105',\n",
    "    'name': 'Kai',\n",
    "    'age': 21,\n",
    "    'gender': 'male'\n",
    "}\n",
    "result = collection.insert_many([student4, student5])\n",
    "print(result)"
   ]
  },
  {
   "cell_type": "code",
   "execution_count": 137,
   "metadata": {},
   "outputs": [
    {
     "name": "stdout",
     "output_type": "stream",
     "text": [
      "[ObjectId('62c02d7587bf3c5ce6d80c2d'), ObjectId('62c02d7587bf3c5ce6d80c2e')]\n"
     ]
    }
   ],
   "source": [
    "print(result.inserted_ids)"
   ]
  },
  {
   "cell_type": "markdown",
   "metadata": {},
   "source": [
    "**6. 查询**"
   ]
  },
  {
   "cell_type": "code",
   "execution_count": 139,
   "metadata": {},
   "outputs": [
    {
     "name": "stdout",
     "output_type": "stream",
     "text": [
      "<class 'dict'>\n",
      "{'_id': ObjectId('62c029c187bf3c5ce6d80c2b'), 'id': '20170102', 'name': 'Mike', 'age': 21, 'gender': 'male'}\n"
     ]
    }
   ],
   "source": [
    "result = collection.find_one({'name': 'Mike'})\n",
    "print(type(result))\n",
    "print(result)"
   ]
  },
  {
   "cell_type": "code",
   "execution_count": 140,
   "metadata": {},
   "outputs": [
    {
     "name": "stdout",
     "output_type": "stream",
     "text": [
      "{'_id': ObjectId('62c02b9187bf3c5ce6d80c2c'), 'id': '20170103', 'name': 'Susie', 'age': 22, 'gender': 'female'}\n"
     ]
    }
   ],
   "source": [
    "from bson.objectid import ObjectId\n",
    "\n",
    "result = collection.find_one({'_id': ObjectId('62c02b9187bf3c5ce6d80c2c')})\n",
    "print(result)"
   ]
  },
  {
   "cell_type": "markdown",
   "metadata": {},
   "source": [
    "对于多条数据的查询，我们可以使用 find() 方法。"
   ]
  },
  {
   "cell_type": "code",
   "execution_count": 141,
   "metadata": {},
   "outputs": [
    {
     "name": "stdout",
     "output_type": "stream",
     "text": [
      "<pymongo.cursor.Cursor object at 0x00000139D663ADA0>\n"
     ]
    }
   ],
   "source": [
    "results = collection.find({'age': 20})\n",
    "print(results)"
   ]
  },
  {
   "cell_type": "code",
   "execution_count": 142,
   "metadata": {},
   "outputs": [
    {
     "name": "stdout",
     "output_type": "stream",
     "text": [
      "{'_id': ObjectId('62c026af87bf3c5ce6d80c29'), 'id': '20170101', 'name': 'Jordan', 'age': 20, 'gender': 'male'}\n",
      "{'_id': ObjectId('62c029c187bf3c5ce6d80c2a'), 'id': '20170101', 'name': 'Jordan', 'age': 20, 'gender': 'male'}\n"
     ]
    }
   ],
   "source": [
    "for result in results:\n",
    "    print(result)"
   ]
  },
  {
   "cell_type": "code",
   "execution_count": 143,
   "metadata": {},
   "outputs": [
    {
     "data": {
      "text/plain": [
       "False"
      ]
     },
     "execution_count": 143,
     "metadata": {},
     "output_type": "execute_result"
    }
   ],
   "source": [
    "import collections.abc\n",
    "issubclass(pymongo.cursor.Cursor, collections.abc.Generator)"
   ]
  },
  {
   "cell_type": "code",
   "execution_count": 144,
   "metadata": {},
   "outputs": [
    {
     "name": "stdout",
     "output_type": "stream",
     "text": [
      "<class 'pymongo.cursor.Cursor'>\n"
     ]
    }
   ],
   "source": [
    "print(pymongo.cursor.Cursor)"
   ]
  },
  {
   "cell_type": "code",
   "execution_count": 145,
   "metadata": {},
   "outputs": [
    {
     "data": {
      "text/plain": [
       "type"
      ]
     },
     "execution_count": 145,
     "metadata": {},
     "output_type": "execute_result"
    }
   ],
   "source": [
    "type(pymongo.cursor.Cursor)"
   ]
  },
  {
   "cell_type": "markdown",
   "metadata": {},
   "source": [
    "如果要查询年龄大于 20 的数据，则写法如下："
   ]
  },
  {
   "cell_type": "code",
   "execution_count": 146,
   "metadata": {},
   "outputs": [],
   "source": [
    "results = collection.find({'age': {'$gt': 20}})"
   ]
  },
  {
   "cell_type": "markdown",
   "metadata": {},
   "source": [
    "另外，还可以进行正则匹配查询。例如，查询名字以 M 开头的学生数据，示例如下："
   ]
  },
  {
   "cell_type": "code",
   "execution_count": 147,
   "metadata": {},
   "outputs": [],
   "source": [
    "results = collection.find({'name': {'$regex': '^M.*'}})"
   ]
  },
  {
   "cell_type": "markdown",
   "metadata": {},
   "source": [
    "**7. 计数**"
   ]
  },
  {
   "cell_type": "code",
   "execution_count": 150,
   "metadata": {},
   "outputs": [
    {
     "data": {
      "text/plain": [
       "['_Cursor__check_okay_to_chain',\n",
       " '_Cursor__die',\n",
       " '_Cursor__query_spec',\n",
       " '_Cursor__send_message',\n",
       " '_Cursor__set_hint',\n",
       " '__class__',\n",
       " '__class_getitem__',\n",
       " '__copy__',\n",
       " '__deepcopy__',\n",
       " '__del__',\n",
       " '__delattr__',\n",
       " '__dict__',\n",
       " '__dir__',\n",
       " '__doc__',\n",
       " '__enter__',\n",
       " '__eq__',\n",
       " '__exit__',\n",
       " '__format__',\n",
       " '__ge__',\n",
       " '__getattribute__',\n",
       " '__getitem__',\n",
       " '__gt__',\n",
       " '__hash__',\n",
       " '__init__',\n",
       " '__init_subclass__',\n",
       " '__iter__',\n",
       " '__le__',\n",
       " '__lt__',\n",
       " '__module__',\n",
       " '__ne__',\n",
       " '__new__',\n",
       " '__next__',\n",
       " '__orig_bases__',\n",
       " '__parameters__',\n",
       " '__reduce__',\n",
       " '__reduce_ex__',\n",
       " '__repr__',\n",
       " '__setattr__',\n",
       " '__sizeof__',\n",
       " '__slots__',\n",
       " '__str__',\n",
       " '__subclasshook__',\n",
       " '__weakref__',\n",
       " '_clone',\n",
       " '_clone_base',\n",
       " '_deepcopy',\n",
       " '_getmore_class',\n",
       " '_is_protocol',\n",
       " '_query_class',\n",
       " '_read_preference',\n",
       " '_refresh',\n",
       " '_unpack_response',\n",
       " 'add_option',\n",
       " 'address',\n",
       " 'alive',\n",
       " 'allow_disk_use',\n",
       " 'batch_size',\n",
       " 'clone',\n",
       " 'close',\n",
       " 'collation',\n",
       " 'collection',\n",
       " 'comment',\n",
       " 'cursor_id',\n",
       " 'distinct',\n",
       " 'explain',\n",
       " 'hint',\n",
       " 'limit',\n",
       " 'max',\n",
       " 'max_await_time_ms',\n",
       " 'max_scan',\n",
       " 'max_time_ms',\n",
       " 'min',\n",
       " 'next',\n",
       " 'remove_option',\n",
       " 'retrieved',\n",
       " 'rewind',\n",
       " 'session',\n",
       " 'skip',\n",
       " 'sort',\n",
       " 'where']"
      ]
     },
     "execution_count": 150,
     "metadata": {},
     "output_type": "execute_result"
    }
   ],
   "source": [
    "dir(pymongo.cursor.Cursor)"
   ]
  },
  {
   "cell_type": "code",
   "execution_count": 151,
   "metadata": {},
   "outputs": [
    {
     "data": {
      "text/plain": [
       "pymongo.cursor.Cursor"
      ]
     },
     "execution_count": 151,
     "metadata": {},
     "output_type": "execute_result"
    }
   ],
   "source": [
    "type(collection.find())"
   ]
  },
  {
   "cell_type": "code",
   "execution_count": 152,
   "metadata": {},
   "outputs": [
    {
     "data": {
      "text/plain": [
       "pymongo.cursor.Cursor"
      ]
     },
     "execution_count": 152,
     "metadata": {},
     "output_type": "execute_result"
    }
   ],
   "source": [
    "type(collection.find({'age': 20}))"
   ]
  },
  {
   "cell_type": "code",
   "execution_count": 157,
   "metadata": {},
   "outputs": [
    {
     "name": "stdout",
     "output_type": "stream",
     "text": [
      "6\n"
     ]
    }
   ],
   "source": [
    "count = collection.count_documents({})\n",
    "print(count)"
   ]
  },
  {
   "cell_type": "code",
   "execution_count": 158,
   "metadata": {},
   "outputs": [
    {
     "name": "stdout",
     "output_type": "stream",
     "text": [
      "2\n"
     ]
    }
   ],
   "source": [
    "count = collection.count_documents({'age': 20})\n",
    "print(count)"
   ]
  },
  {
   "cell_type": "markdown",
   "metadata": {},
   "source": [
    "**8. 排序**"
   ]
  },
  {
   "cell_type": "code",
   "execution_count": 159,
   "metadata": {},
   "outputs": [
    {
     "name": "stdout",
     "output_type": "stream",
     "text": [
      "['Eva', 'Jordan', 'Jordan', 'Kai', 'Mike', 'Susie']\n"
     ]
    }
   ],
   "source": [
    "results = collection.find().sort('name', pymongo.ASCENDING)\n",
    "print([result['name'] for result in results])"
   ]
  },
  {
   "cell_type": "markdown",
   "metadata": {},
   "source": [
    "**9. 偏移**"
   ]
  },
  {
   "cell_type": "code",
   "execution_count": 160,
   "metadata": {},
   "outputs": [
    {
     "name": "stdout",
     "output_type": "stream",
     "text": [
      "['Jordan', 'Kai', 'Mike', 'Susie']\n"
     ]
    }
   ],
   "source": [
    "results = collection.find().sort('name', pymongo.ASCENDING).skip(2)\n",
    "print([result['name'] for result in results])"
   ]
  },
  {
   "cell_type": "code",
   "execution_count": 161,
   "metadata": {},
   "outputs": [
    {
     "name": "stdout",
     "output_type": "stream",
     "text": [
      "['Jordan', 'Kai']\n"
     ]
    }
   ],
   "source": [
    "results = collection.find().sort('name', pymongo.ASCENDING).skip(2).limit(2)\n",
    "print([result['name'] for result in results])"
   ]
  },
  {
   "cell_type": "markdown",
   "metadata": {},
   "source": [
    "值得注意的是，在数据库数量非常庞大的时候，如果千万、亿级别，最好不要使用大的偏移量来查询数据，因为这样很可能导致内存溢出。此时可以使用类似如下操作来查询："
   ]
  },
  {
   "cell_type": "code",
   "execution_count": 162,
   "metadata": {},
   "outputs": [
    {
     "data": {
      "text/plain": [
       "<pymongo.cursor.Cursor at 0x139d712ad40>"
      ]
     },
     "execution_count": 162,
     "metadata": {},
     "output_type": "execute_result"
    }
   ],
   "source": [
    "collection.find({'_id': {'$gt': ObjectId('62c029c187bf3c5ce6d80c2a')}})"
   ]
  },
  {
   "cell_type": "markdown",
   "metadata": {},
   "source": [
    "这时需要记录好上次查询的 _id。"
   ]
  },
  {
   "cell_type": "markdown",
   "metadata": {},
   "source": [
    "**10. 更新**"
   ]
  },
  {
   "cell_type": "code",
   "execution_count": 164,
   "metadata": {},
   "outputs": [
    {
     "name": "stdout",
     "output_type": "stream",
     "text": [
      "<class 'dict'>\n"
     ]
    }
   ],
   "source": [
    "condition = {'name': 'Mike'}\n",
    "student = collection.find_one(condition)\n",
    "student['age'] = 25\n",
    "print(type(student))"
   ]
  },
  {
   "cell_type": "code",
   "execution_count": 165,
   "metadata": {},
   "outputs": [
    {
     "name": "stdout",
     "output_type": "stream",
     "text": [
      "{'_id': ObjectId('62c029c187bf3c5ce6d80c2b'), 'id': '20170102', 'name': 'Mike', 'age': 25, 'gender': 'male'}\n"
     ]
    }
   ],
   "source": [
    "print(student)"
   ]
  },
  {
   "cell_type": "code",
   "execution_count": 167,
   "metadata": {},
   "outputs": [
    {
     "name": "stdout",
     "output_type": "stream",
     "text": [
      "<class 'pymongo.results.UpdateResult'>\n",
      "<pymongo.results.UpdateResult object at 0x00000139D6B3F8E0>\n",
      "1 1\n"
     ]
    }
   ],
   "source": [
    "result = collection.update_one(condition, {'$set': student})\n",
    "print(type(result))\n",
    "print(result)\n",
    "print(result.matched_count, result.modified_count)"
   ]
  },
  {
   "cell_type": "markdown",
   "metadata": {},
   "source": [
    "update_one() 方法的第二个参数必须是 $ 开头的操作符"
   ]
  },
  {
   "cell_type": "code",
   "execution_count": 169,
   "metadata": {},
   "outputs": [
    {
     "name": "stdout",
     "output_type": "stream",
     "text": [
      "<pymongo.results.UpdateResult object at 0x00000139D4126E60>\n",
      "1 1\n"
     ]
    }
   ],
   "source": [
    "condition = {'age': {'$gt': 20}}\n",
    "result = collection.update_one(condition, {'$inc': {'age': 1}})\n",
    "print(result)\n",
    "print(result.matched_count, result.modified_count)"
   ]
  },
  {
   "cell_type": "markdown",
   "metadata": {},
   "source": [
    "这里指定查询条件为年龄大于 20，然后更新条件为 {'$inc': {'age': 1}}，也就是年龄加 1，执行之后会将第一条符合条件的数据年龄加 1。"
   ]
  },
  {
   "cell_type": "markdown",
   "metadata": {},
   "source": [
    "如果调用 update_many() 方法，则会将所有符合条件的数据都更新，示例如下："
   ]
  },
  {
   "cell_type": "code",
   "execution_count": 171,
   "metadata": {},
   "outputs": [
    {
     "name": "stdout",
     "output_type": "stream",
     "text": [
      "<pymongo.results.UpdateResult object at 0x00000139D712AE60>\n",
      "4 4\n"
     ]
    }
   ],
   "source": [
    "result = collection.update_many(condition, {'$inc': {'age': 1}})\n",
    "print(result)\n",
    "print(result.matched_count, result.modified_count)"
   ]
  },
  {
   "cell_type": "markdown",
   "metadata": {},
   "source": [
    "**11. 删除**"
   ]
  },
  {
   "cell_type": "code",
   "execution_count": 172,
   "metadata": {},
   "outputs": [
    {
     "name": "stdout",
     "output_type": "stream",
     "text": [
      "<pymongo.results.DeleteResult object at 0x00000139D741EFE0>\n",
      "1\n"
     ]
    }
   ],
   "source": [
    "result = collection.delete_one({'name': 'Mike'})\n",
    "print(result)\n",
    "print(result.deleted_count)"
   ]
  },
  {
   "cell_type": "code",
   "execution_count": 173,
   "metadata": {},
   "outputs": [
    {
     "name": "stdout",
     "output_type": "stream",
     "text": [
      "<pymongo.results.DeleteResult object at 0x00000139D741F190>\n",
      "2\n"
     ]
    }
   ],
   "source": [
    "result = collection.delete_many({'age': {'$lt': 21}})\n",
    "print(result)\n",
    "print(result.deleted_count)"
   ]
  },
  {
   "cell_type": "markdown",
   "metadata": {},
   "source": [
    "#### 5.3.2 Redis 存储\n",
    "Redis 是一个基于内存的高效的键值型非关系型数据库，存取效率极高，而且支持多种数据结构存储，使用也非常简单。"
   ]
  },
  {
   "cell_type": "markdown",
   "metadata": {},
   "source": [
    "2.Redis 和 StrictRedis  \n",
    "redis-py 库提供两个类 Redis 和 StrictRedis 来实现 Redis 的命令操作。\n",
    "\n",
    "StrictRedis 实现了绝大部分官方的命令，参数也一一对应，比如 set() 方法就对应 Redis 命令的 set 方法。而 Redis 是 StrictRedis 的子类，它的主要功能是用于向后兼容旧版本库里的几个方法。\n",
    "\n",
    "官方推荐使用 StrictRedis。"
   ]
  },
  {
   "cell_type": "markdown",
   "metadata": {},
   "source": [
    "**3. 连接 Redis**"
   ]
  },
  {
   "cell_type": "code",
   "execution_count": 174,
   "metadata": {},
   "outputs": [
    {
     "name": "stdout",
     "output_type": "stream",
     "text": [
      "b'Bob'\n"
     ]
    }
   ],
   "source": [
    "from redis import StrictRedis\n",
    "\n",
    "redis = StrictRedis(host='baidu.net', port=6379, db=0, password='footballball')\n",
    "redis.set('name', 'Bob')\n",
    "print(redis.get('name'))"
   ]
  },
  {
   "cell_type": "code",
   "execution_count": 175,
   "metadata": {},
   "outputs": [],
   "source": [
    "from redis import ConnectionPool\n",
    "\n",
    "pool = ConnectionPool(host='baidu.net', port=6379, db=0, password='footballball')\n",
    "redis = StrictRedis(connection_pool=pool)"
   ]
  },
  {
   "cell_type": "code",
   "execution_count": 176,
   "metadata": {},
   "outputs": [],
   "source": [
    "url = 'redis://:footballball@baidu.net:6379/0'\n",
    "pool = ConnectionPool.from_url(url)\n",
    "redis = StrictRedis(connection_pool=pool)"
   ]
  },
  {
   "cell_type": "code",
   "execution_count": null,
   "metadata": {},
   "outputs": [],
   "source": []
  }
 ],
 "metadata": {
  "interpreter": {
   "hash": "d99a3f7b344b3c3107482760db15f42178bfad658d282ab0a919b76809e13cb5"
  },
  "kernelspec": {
   "display_name": "Python 3.10.4 64-bit",
   "language": "python",
   "name": "python3"
  },
  "language_info": {
   "codemirror_mode": {
    "name": "ipython",
    "version": 3
   },
   "file_extension": ".py",
   "mimetype": "text/x-python",
   "name": "python",
   "nbconvert_exporter": "python",
   "pygments_lexer": "ipython3",
   "version": "3.10.4"
  },
  "orig_nbformat": 4
 },
 "nbformat": 4,
 "nbformat_minor": 2
}
